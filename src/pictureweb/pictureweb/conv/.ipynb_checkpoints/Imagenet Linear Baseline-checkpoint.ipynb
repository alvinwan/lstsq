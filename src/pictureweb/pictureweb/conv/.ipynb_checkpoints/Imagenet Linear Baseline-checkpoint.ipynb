{
 "cells": [
  {
   "cell_type": "code",
   "execution_count": 48,
   "metadata": {
    "collapsed": false
   },
   "outputs": [
    {
     "name": "stdout",
     "output_type": "stream",
     "text": [
      "Populating the interactive namespace from numpy and matplotlib\n"
     ]
    },
    {
     "name": "stderr",
     "output_type": "stream",
     "text": [
      "/data/vaishaal/anaconda3/lib/python3.6/site-packages/IPython/core/magics/pylab.py:161: UserWarning: pylab import has clobbered these variables: ['imread']\n",
      "`%matplotlib` prevents importing * from pylab and numpy\n",
      "  \"\\n`%matplotlib` prevents importing * from pylab and numpy\"\n"
     ]
    },
    {
     "data": {
      "text/plain": [
       "<module 'softmax' from '/data/vaishaal/pictureweb/conv/softmax.py'>"
      ]
     },
     "execution_count": 48,
     "metadata": {},
     "output_type": "execute_result"
    }
   ],
   "source": [
    "import sys\n",
    "sys.path.append(\"..\")\n",
    "import imagenet_load\n",
    "from importlib import reload\n",
    "reload(imagenet_load)\n",
    "import tarfile\n",
    "import numpy as np\n",
    "import imread\n",
    "%pylab inline\n",
    "import imread\n",
    "from imread import imread_from_blob\n",
    "from imagenet_load import orient\n",
    "import multigpu\n",
    "reload(multigpu)\n",
    "import filter_gen\n",
    "import conv\n",
    "reload(conv)\n",
    "import gc\n",
    "import logging\n",
    "import dill\n",
    "from scipy.misc import imresize\n",
    "import opt\n",
    "reload(opt)\n",
    "import exputil\n",
    "reload(exputil)\n",
    "from sklearn import metrics\n",
    "import time\n",
    "import scipy.linalg\n",
    "from numba import jit\n",
    "import concurrent.futures as fs\n",
    "from scipy import stats\n",
    "import softmax\n",
    "reload(softmax)"
   ]
  },
  {
   "cell_type": "code",
   "execution_count": 31,
   "metadata": {
    "collapsed": false
   },
   "outputs": [],
   "source": [
    "def preprocess(im):\n",
    "    return imresize(im, size=(64,64,3))"
   ]
  },
  {
   "cell_type": "code",
   "execution_count": 3,
   "metadata": {
    "collapsed": false
   },
   "outputs": [
    {
     "name": "stderr",
     "output_type": "stream",
     "text": [
      "There exists a matrix at /dev/shm/imagenet_train\n"
     ]
    },
    {
     "name": "stdout",
     "output_type": "stream",
     "text": [
      "CPU times: user 228 ms, sys: 2.05 s, total: 2.28 s\n",
      "Wall time: 4.92 s\n"
     ]
    },
    {
     "name": "stderr",
     "output_type": "stream",
     "text": [
      "There exists a matrix at /dev/shm/imagenet_val\n"
     ]
    },
    {
     "name": "stdout",
     "output_type": "stream",
     "text": [
      "CPU times: user 164 ms, sys: 268 ms, total: 432 ms\n",
      "Wall time: 574 ms\n"
     ]
    }
   ],
   "source": [
    "%time loader = imagenet_load.ImagenetLoader(1000, classes_path=\"../classes\", mmap_loc=\"/dev/shm/imagenet_train\", n_procs=32, preprocess=preprocess, image_shape=(3, 64, 64))\n",
    "\n",
    "%time loader_val = imagenet_load.ImagenetLoader(1000, classes_path=\"../classes\", tarball_func=imagenet_load.VAL_LOADER, mmap_loc=\"/dev/shm/imagenet_val\", n_procs=32, preprocess=preprocess, image_shape=(3, 64, 64))"
   ]
  },
  {
   "cell_type": "code",
   "execution_count": 4,
   "metadata": {
    "collapsed": false
   },
   "outputs": [
    {
     "name": "stdout",
     "output_type": "stream",
     "text": [
      "Loaded 0 classes into mem\n",
      "Loaded 100 classes into mem\n",
      "Loaded 200 classes into mem\n",
      "Loaded 300 classes into mem\n",
      "Loaded 400 classes into mem\n",
      "Loaded 500 classes into mem\n",
      "Loaded 600 classes into mem\n",
      "Loaded 700 classes into mem\n",
      "Loaded 800 classes into mem\n",
      "Loaded 900 classes into mem\n",
      "CPU times: user 58 s, sys: 32.4 s, total: 1min 30s\n",
      "Wall time: 3min 32s\n",
      "Loaded 0 classes into mem\n",
      "Loaded 100 classes into mem\n",
      "Loaded 200 classes into mem\n",
      "Loaded 300 classes into mem\n",
      "Loaded 400 classes into mem\n",
      "Loaded 500 classes into mem\n",
      "Loaded 600 classes into mem\n",
      "Loaded 700 classes into mem\n",
      "Loaded 800 classes into mem\n",
      "Loaded 900 classes into mem\n",
      "CPU times: user 2.54 s, sys: 4.1 s, total: 6.64 s\n",
      "Wall time: 12.2 s\n"
     ]
    }
   ],
   "source": [
    "%time X_train = loader.load_all() / float(np.sqrt(64*64*3))\n",
    "%time X_val = loader_val.load_all() / float(np.sqrt(64*64*3))"
   ]
  },
  {
   "cell_type": "code",
   "execution_count": 5,
   "metadata": {
    "collapsed": false
   },
   "outputs": [],
   "source": [
    "X_train = X_train.reshape(X_train.shape[0], -1).astype('float64')\n",
    "X_val = X_val.reshape(X_val.shape[0], -1).astype('float64')"
   ]
  },
  {
   "cell_type": "code",
   "execution_count": 6,
   "metadata": {
    "collapsed": true
   },
   "outputs": [],
   "source": [
    "Y = np.eye(1000)[loader.Y.astype('int')]"
   ]
  },
  {
   "cell_type": "code",
   "execution_count": 7,
   "metadata": {
    "collapsed": false
   },
   "outputs": [
    {
     "name": "stdout",
     "output_type": "stream",
     "text": [
      "CPU times: user 5h 27min 46s, sys: 1min 48s, total: 5h 29min 34s\n",
      "Wall time: 5min 41s\n"
     ]
    }
   ],
   "source": [
    "%time XtX = X_train.T.dot(X_train)"
   ]
  },
  {
   "cell_type": "code",
   "execution_count": 8,
   "metadata": {
    "collapsed": false
   },
   "outputs": [
    {
     "name": "stdout",
     "output_type": "stream",
     "text": [
      "CPU times: user 40min 21s, sys: 17min 19s, total: 57min 41s\n",
      "Wall time: 52.4 s\n"
     ]
    }
   ],
   "source": [
    "%time Xty = X_train.T.dot(Y) "
   ]
  },
  {
   "cell_type": "code",
   "execution_count": 10,
   "metadata": {
    "collapsed": true
   },
   "outputs": [],
   "source": [
    "def compute_top_1_and_5_acc(labels, pred_weights):\n",
    "    top1 = opt.top_k_accuracy(labels, pred_weights, k=1)\n",
    "    top5 = opt.top_k_accuracy(labels, pred_weights, k=5)\n",
    "    return top1, top5\n",
    "\n",
    "def run_experiment_linear_64_64_reg_sweep(X_train, X_test, labels_train, labels_test, XtX, XtY, regs=[1e7, 1e8]): \n",
    "    solve_params_template = {\"solver\": \"direct_linear\"}\n",
    "    feat_params = {\n",
    "    'featurization_scheme': 'pixels_64x64_downsample_bilinear_interpolate',\n",
    "    }\n",
    "    diag_idx = np.diag_indices(XtX.shape[0])\n",
    "    all_results = []\n",
    "    for reg in regs:\n",
    "        start = time.time()\n",
    "        solve_params = solve_params_template.copy()\n",
    "        solve_params[\"regularization\"] = reg\n",
    "        XtX[diag_idx] += reg\n",
    "        try:\n",
    "            model = scipy.linalg.solve(XtX, XtY, sym_pos=True)\n",
    "        except:\n",
    "            XtX[diag_idx] -= reg\n",
    "            raise\n",
    "        XtX[diag_idx] -= reg\n",
    "        print(\"Done with solve..calculating metrics now\")\n",
    "        end = time.time()\n",
    "        y_train_pred = X_train.dot(model)\n",
    "        y_test_pred = X_test.dot(model)\n",
    "        \n",
    "        solve_time = end - start + 394\n",
    "        top_1_train, top_5_train = compute_top_1_and_5_acc(labels_train, y_train_pred)\n",
    "        top_1_test, top_5_test = compute_top_1_and_5_acc(labels_test, y_test_pred)\n",
    "        results = {}\n",
    "        results[\"train_top_1\"] = top_1_train\n",
    "        results[\"train_top_5\"] = top_5_train\n",
    "        results[\"test_top_1\"] = top_1_test\n",
    "        results[\"test_top_5\"] = top_5_test\n",
    "        results[\"solve_time\"] = solve_time\n",
    "        all_results.append((solve_params, feat_params.copy(), results, \"simple run\"))\n",
    "    return all_results\n",
    "\n",
    "\n",
    "    "
   ]
  },
  {
   "cell_type": "code",
   "execution_count": 303,
   "metadata": {
    "collapsed": false
   },
   "outputs": [
    {
     "name": "stdout",
     "output_type": "stream",
     "text": [
      "Done with solve..calculating metrics now\n",
      "Done with solve..calculating metrics now\n"
     ]
    }
   ],
   "source": [
    "results = run_experiment_linear_65_64_reg_sweep(X_train, X_val, loader.Y, loader_val.Y, XtX, Xty)"
   ]
  },
  {
   "cell_type": "code",
   "execution_count": 304,
   "metadata": {
    "collapsed": false
   },
   "outputs": [
    {
     "name": "stdout",
     "output_type": "stream",
     "text": [
      "/bin/bash -c 'cd /data/vaishaal ; tar -cf ./picture_web_2017-04-04-02:31:30.281997.tar pictureweb --exclude-from <(find pictureweb -size +3M)'\n",
      "775bd68fd3255abe1641b13c3bff6b83\n",
      "/bin/bash -c 'cd /data/vaishaal ; tar -cf ./picture_web_2017-04-04-02:31:37.541449.tar pictureweb --exclude-from <(find pictureweb -size +3M)'\n",
      "37a2da0d2467a0dcd8623d4b87b43638\n"
     ]
    }
   ],
   "source": [
    "for res in results:\n",
    "    exputil.save_results(*res)"
   ]
  }
 ],
 "metadata": {
  "kernelspec": {
   "display_name": "Python 3",
   "language": "python",
   "name": "python3"
  },
  "language_info": {
   "codemirror_mode": {
    "name": "ipython",
    "version": 3
   },
   "file_extension": ".py",
   "mimetype": "text/x-python",
   "name": "python",
   "nbconvert_exporter": "python",
   "pygments_lexer": "ipython3",
   "version": "3.6.0"
  }
 },
 "nbformat": 4,
 "nbformat_minor": 2
}
