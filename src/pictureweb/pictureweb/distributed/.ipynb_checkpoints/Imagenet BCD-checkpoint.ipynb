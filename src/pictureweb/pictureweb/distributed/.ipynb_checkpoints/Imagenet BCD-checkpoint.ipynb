{
 "cells": [
  {
   "cell_type": "code",
   "execution_count": 82,
   "metadata": {
    "collapsed": false
   },
   "outputs": [],
   "source": [
    "from importlib import reload\n",
    "import numpy as np\n",
    "import scipy.linalg\n",
    "import linalg\n",
    "reload(linalg)\n",
    "import pywren\n",
    "reload(pywren)\n",
    "import math\n",
    "import itertools\n",
    "import time\n",
    "import cloudpickle\n",
    "import importlib\n",
    "import sys\n",
    "from sklearn.datasets import fetch_mldata\n",
    "from itertools import groupby\n",
    "from operator import itemgetter\n",
    "from sklearn.kernel_approximation import RBFSampler, Nystroem\n",
    "from sklearn import metrics\n",
    "import sys\n",
    "import boto3\n",
    "import concurrent.futures as fs\n",
    "reload(boto3)\n",
    "import os\n",
    "from numba import jit\n",
    "from scipy.linalg import LinAlgError"
   ]
  },
  {
   "cell_type": "code",
   "execution_count": 2,
   "metadata": {
    "collapsed": true
   },
   "outputs": [],
   "source": [
    "@jit(nopython=True)\n",
    "def __calculate_res(R, num_blocks, b, K_block, x, block_size, n):\n",
    "    for b2 in range(int(num_blocks)):\n",
    "        if b2 == b: continue\n",
    "        s =  b2*block_size\n",
    "        e = min((b2+1)*block_size, n)\n",
    "        if (np.all(x[s:e, :] == 0)): continue\n",
    "        Kbb2 = K_block[s:e]\n",
    "        a = np.dot(Kbb2.T, x[s:e, :])\n",
    "        R += a\n",
    "    return R"
   ]
  },
  {
   "cell_type": "code",
   "execution_count": 10,
   "metadata": {
    "collapsed": false
   },
   "outputs": [
    {
     "name": "stdout",
     "output_type": "stream",
     "text": [
      "CPU times: user 1min 38s, sys: 2.26 s, total: 1min 40s\n",
      "Wall time: 1min 40s\n",
      "CPU times: user 4min 15s, sys: 9.51 s, total: 4min 24s\n",
      "Wall time: 4min 24s\n"
     ]
    }
   ],
   "source": [
    "%time x = np.random.randn(*y_train_one_hot.shape)\n",
    "%time X_block  = np.random.randn(X_train.shape[0], 4096)"
   ]
  },
  {
   "cell_type": "code",
   "execution_count": 94,
   "metadata": {
    "collapsed": false
   },
   "outputs": [],
   "source": [
    "x =  X_block[:, :1000].astype('float32')"
   ]
  },
  {
   "cell_type": "code",
   "execution_count": 91,
   "metadata": {
    "collapsed": true
   },
   "outputs": [],
   "source": [
    "X_block = X_block.astype('float32')"
   ]
  },
  {
   "cell_type": "code",
   "execution_count": 93,
   "metadata": {
    "collapsed": true
   },
   "outputs": [],
   "source": [
    "R = np.zeros((4096, 1000)).astype('float32')"
   ]
  },
  {
   "cell_type": "code",
   "execution_count": 95,
   "metadata": {
    "collapsed": false
   },
   "outputs": [
    {
     "name": "stdout",
     "output_type": "stream",
     "text": [
      "CPU times: user 8min 8s, sys: 1min 45s, total: 9min 54s\n",
      "Wall time: 9.69 s\n"
     ]
    },
    {
     "data": {
      "text/plain": [
       "array([[  1.27659825e+06,  -4.16446686e+00,   5.32080322e+02, ...,\n",
       "         -1.78844678e+03,   1.25570703e+03,  -1.89831555e+03],\n",
       "       [ -4.16446686e+00,   1.27674412e+06,  -1.64152893e+03, ...,\n",
       "          1.22419958e+03,  -1.28372217e+03,   1.89988049e+03],\n",
       "       [  5.32080322e+02,  -1.64152893e+03,   1.27610588e+06, ...,\n",
       "          2.31576401e+02,   1.78166748e+03,  -1.04506836e+03],\n",
       "       ..., \n",
       "       [  1.09124829e+03,  -3.16828308e+02,  -2.82688599e+02, ...,\n",
       "          1.04686499e+03,  -1.74970551e+02,  -7.71156982e+02],\n",
       "       [  6.14441910e+01,   9.90693665e+02,   5.97356079e+02, ...,\n",
       "          9.59382263e+02,  -1.08257275e+03,   1.93228973e+02],\n",
       "       [ -1.91252222e+03,  -1.79226880e+03,  -4.59195129e+02, ...,\n",
       "         -2.65430664e+03,  -2.46139404e+03,   1.28208740e+03]], dtype=float32)"
      ]
     },
     "execution_count": 95,
     "metadata": {},
     "output_type": "execute_result"
    }
   ],
   "source": [
    "%time __calculate_res(R, 313, 11, X_block, x, 4096, X_train.shape[0])"
   ]
  },
  {
   "cell_type": "code",
   "execution_count": 61,
   "metadata": {
    "collapsed": false
   },
   "outputs": [],
   "source": [
    "def block_kernel_solve(K, y, epochs=1, max_iter=313, block_size=4096, num_blocks=313, lambdav=0.1, verbose=True, prc=lambda x: x, workers=22):\n",
    "        '''Solve (K + \\lambdaI)x = y\n",
    "            in a block-wise fashion\n",
    "        '''\n",
    "        labels = np.argmax(y, axis=1)\n",
    "        with fs.ProcessPoolExecutor(max_workers=workers) as executor:\n",
    "            mmap_locs = [\"/dev/shm/block0\", \"/dev/shm/block1\"]\n",
    "            mmap_loc = mmap_locs[0]\n",
    "            # compute some constants\n",
    "            x = np.zeros(y.shape, 'float32')\n",
    "            i = 0\n",
    "       \n",
    "\n",
    "            K_block_future = fast_kernel_column_block_async(K_sharded, 0, mmap_loc=mmap_loc, executor=executor, workers=workers)\n",
    "            \n",
    "            for e in range(epochs):\n",
    "                    y_hat = np.zeros(y.shape)\n",
    "                    for b in range(int(num_blocks)):\n",
    "                            iter_start = time.time()\n",
    "                            if (i > max_iter):\n",
    "                                return x\n",
    "\n",
    "                            mmap_loc = mmap_locs[i%2 == 0]\n",
    "                            print(\"Grabbing this block from oven\")\n",
    "                            s = time.time()\n",
    "                            K_block = load_mmap(*K_block_future.result())\n",
    "                            e = time.time()\n",
    "                            print(\"Block spent {0} seconds in oven\".format(e - s))\n",
    "                            print(\"Putting next Block in oven\")\n",
    "                            s = time.time()\n",
    "                            K_block_future = fast_kernel_column_block_async(K_sharded, (b+1)%num_blocks, mmap_loc=mmap_loc, executor=executor, workers=workers)\n",
    "                            # pick a subset of the kernel matrix (note K can be mmap-ed)\n",
    "                            e = time.time()\n",
    "                            print(\"Took {0} seconds to put block in oven\".format(e - s))\n",
    "                            b_start =  b*block_size\n",
    "                            b_end = min((b+1)*block_size, K.shape[1])\n",
    "                            y_block = y[b_start:b_end, :]\n",
    "                            start = time.time()\n",
    "                            R = np.zeros((b_end - b_start, y.shape[1]), 'float32')\n",
    "                            __calculate_res(R, num_blocks, b, K_block, x, block_size, K.shape[0])\n",
    "                            end = time.time() \n",
    "                            print(\"Residual time {0}\".format(end - start))\n",
    "                            start = time.time()\n",
    "                            Kbb = K_block[b_start:b_end, :].astype('float64')\n",
    "                            print(Kbb.shape)\n",
    "                            # Add term to regularizer\n",
    "                            idxes = np.diag_indices(Kbb.shape[0])\n",
    "                            try: \n",
    "                                Kbb[idxes] += lambdav\n",
    "                                x_block = scipy.linalg.solve(Kbb, y_block - R, sym_pos=True)\n",
    "                                Kbb[idxes] -= lambdav\n",
    "                                # update model\n",
    "                                x_block = x_block.astype('float32')\n",
    "                                x[b_start:b_end] = x_block\n",
    "                                t = time.time()\n",
    "                                print(\"Residual is {0}\".format(np.linalg.norm(y_block - R)))\n",
    "                                '''\n",
    "                                y_hat += K_block.dot(x_block)\n",
    "                                acc = metrics.accuracy_score(np.argmax(y_hat, axis=1), labels)\n",
    "                                print(\"Iteration {0}, Training Accuracy {1}\".format(i, acc))\n",
    "                                e = time.time()\n",
    "                                print(\"Calculating accuracy took {0} secs \".format(e -s))\n",
    "                                '''\n",
    "                            except LinAlgError as e:\n",
    "                                print(\"Singular matrix in block {0} with reg {1}\".format(b, lambdav))\n",
    "                            iter_end = time.time()\n",
    "                            print(\"Iteration {0} took {1} seconds\".format(i, iter_end - iter_start))\n",
    "                            i += 1\n",
    "            return x\n",
    "        \n",
    "def load_mmap(mmap_loc, mmap_shape, mmap_dtype):\n",
    "    return np.memmap(mmap_loc, dtype=mmap_dtype, mode='r+', shape=mmap_shape)\n",
    "\n",
    "def fast_kernel_column_block_async(K, col_block, executor=None, workers=22, mmap_loc=\"/dev/shm/block0\", wait=False):\n",
    "    if (executor == None):\n",
    "        executor = fs.ProcessPoolExecutor(max_workers=workers)\n",
    "    num_blocks = 313\n",
    "    if ((col_block+1)*K.shard_size_1 > K.shape[1]):\n",
    "        block_width = (K.shape[1] - col_block*K.shard_size_1)\n",
    "    else:\n",
    "        block_width = (K.shard_size_1)\n",
    "        \n",
    "    mmap_shape = (K.shape[0],  block_width)\n",
    "    s = time.time()\n",
    "    if (not os.path.isfile(mmap_loc)):\n",
    "        np.memmap(mmap_loc, dtype='float32', mode='w+', shape=mmap_shape)\n",
    "    e = time.time()\n",
    "    futures = []\n",
    "    chunk_size = int(np.ceil(num_blocks/workers))\n",
    "    chunks = linalg.chunk(list(range(num_blocks)), chunk_size)\n",
    "    for c in chunks:\n",
    "        futures.append(executor.submit(K.get_blocks_mmap, c, col_block, mmap_loc, mmap_shape))\n",
    "    return futures[0]\n",
    "\n",
    "        \n",
    "def fast_kernel_column_block_get(K, col_block, workers=21):\n",
    "    num_blocks = 313\n",
    "    with fs.ProcessPoolExecutor(max_workers=workers) as executor:\n",
    "        futures = []\n",
    "        chunk_size = int(np.ceil(num_blocks/workers))\n",
    "        chunks = list(linalg.chunk(list(range(num_blocks)), chunk_size))\n",
    "        print(len(chunks))\n",
    "        for c in chunks:\n",
    "            futures.append(executor.submit(K.get_blocks, c, col_block))\n",
    "        fs.wait(futures)\n",
    "        return np.vstack(list(map(lambda x: x.result(), futures)))\n",
    "\n",
    "      "
   ]
  },
  {
   "cell_type": "code",
   "execution_count": 5,
   "metadata": {
    "collapsed": false
   },
   "outputs": [],
   "source": [
    "notebook_stdout = sys.stdout\n",
    "notebook_stderr = sys.stderr\n",
    "terminal_stdout = open('/dev/stdout', 'w')\n",
    "terminal_stderr = open('/dev/stderr', 'w')"
   ]
  },
  {
   "cell_type": "code",
   "execution_count": 6,
   "metadata": {
    "collapsed": false
   },
   "outputs": [],
   "source": [
    "train_data = np.load(\"imagenet_features_alexnet_fc7.npz\")"
   ]
  },
  {
   "cell_type": "code",
   "execution_count": 7,
   "metadata": {
    "collapsed": false
   },
   "outputs": [],
   "source": [
    "X_train = train_data[\"X_train\"]\n",
    "y_train = train_data[\"y_train\"]\n",
    "y_train_one_hot = np.eye(1000)[y_train]"
   ]
  },
  {
   "cell_type": "code",
   "execution_count": 68,
   "metadata": {
    "collapsed": true
   },
   "outputs": [],
   "source": [
    "X_test = train_data['X_test']"
   ]
  },
  {
   "cell_type": "code",
   "execution_count": 78,
   "metadata": {
    "collapsed": true
   },
   "outputs": [],
   "source": [
    "y_test = train_data[\"y_test\"]"
   ]
  },
  {
   "cell_type": "code",
   "execution_count": 8,
   "metadata": {
    "collapsed": false
   },
   "outputs": [
    {
     "name": "stdout",
     "output_type": "stream",
     "text": [
      "CPU times: user 92 ms, sys: 12 ms, total: 104 ms\n",
      "Wall time: 284 ms\n"
     ]
    }
   ],
   "source": [
    "%time X_train_sharded = linalg.ShardedMatrix(\"imagenet-train\", data=X_train, shard_size_0=4096, bucket=\"imagenet-raw\", reshard=False, replication_factor=5, n_jobs=8)"
   ]
  },
  {
   "cell_type": "markdown",
   "metadata": {},
   "source": [
    "###### X_train_sharded"
   ]
  },
  {
   "cell_type": "code",
   "execution_count": 9,
   "metadata": {
    "collapsed": false
   },
   "outputs": [],
   "source": [
    "# set up pywren\n",
    "gamma = 1e-3\n",
    "pwex = pywren.default_executor()\n",
    "num_blocks = 313\n",
    "tasks_per_job = 5\n",
    "num_jobs = 2500"
   ]
  },
  {
   "cell_type": "code",
   "execution_count": 66,
   "metadata": {
    "collapsed": true
   },
   "outputs": [],
   "source": [
    "chunked_blocks = linalg.generate_chunked_block_pairs(num_blocks, tasks_per_job, num_jobs)"
   ]
  },
  {
   "cell_type": "code",
   "execution_count": 64,
   "metadata": {
    "collapsed": false
   },
   "outputs": [
    {
     "name": "stdout",
     "output_type": "stream",
     "text": [
      "CPU times: user 1min 14s, sys: 4.9 s, total: 1min 19s\n",
      "Wall time: 29.7 s\n",
      "{'runtime_s3_bucket_used': 'ericmjonas-public', 'exception': \"('OUTATIME', 'Process executed for too long and was killed')\", 'data_download_time': 0.14664888381958008, 'runtime_s3_key_used': '87950c-pywren.runtime/pywren_runtime-3.6-default.tar.gz.0029', 'setup_time': 0.1941220760345459, 'start_time': 1490575645.93137, 'callset_id': 'a29cd728-ff4f-4d41-929c-196578119fc1', 'func_key': ['imagenet-raw', 'pywren.jobs/a29cd728-ff4f-4d41-929c-196578119fc1/func.json'], 'call_id': '00480', 'status_key': ['imagenet-raw', 'pywren.jobs/a29cd728-ff4f-4d41-929c-196578119fc1/00480/status.json'], 'func_download_time': 0.13198590278625488, 'exception_traceback': 'Traceback (most recent call last):\\n  File \"/var/task/wrenhandler.py\", line 296, in generic_handler\\n    \"Process executed for too long and was killed\")\\nException: (\\'OUTATIME\\', \\'Process executed for too long and was killed\\')\\n', 'output_key': ['imagenet-raw', 'pywren.jobs/a29cd728-ff4f-4d41-929c-196578119fc1/00480/output.pickle'], 'exception_args': ['OUTATIME', 'Process executed for too long and was killed'], 'runtime_cached': True, 'data_key': ['imagenet-raw', 'pywren.jobs/a29cd728-ff4f-4d41-929c-196578119fc1/aggdata.pickle']}\n",
      "{'runtime_s3_bucket_used': 'ericmjonas-public', 'exception': \"('OUTATIME', 'Process executed for too long and was killed')\", 'data_download_time': 0.14664888381958008, 'runtime_s3_key_used': '87950c-pywren.runtime/pywren_runtime-3.6-default.tar.gz.0029', 'setup_time': 0.1941220760345459, 'start_time': 1490575645.93137, 'callset_id': 'a29cd728-ff4f-4d41-929c-196578119fc1', 'func_key': ['imagenet-raw', 'pywren.jobs/a29cd728-ff4f-4d41-929c-196578119fc1/func.json'], 'call_id': '00480', 'status_key': ['imagenet-raw', 'pywren.jobs/a29cd728-ff4f-4d41-929c-196578119fc1/00480/status.json'], 'func_download_time': 0.13198590278625488, 'exception_traceback': 'Traceback (most recent call last):\\n  File \"/var/task/wrenhandler.py\", line 296, in generic_handler\\n    \"Process executed for too long and was killed\")\\nException: (\\'OUTATIME\\', \\'Process executed for too long and was killed\\')\\n', 'output_key': ['imagenet-raw', 'pywren.jobs/a29cd728-ff4f-4d41-929c-196578119fc1/00480/output.pickle'], 'exception_args': ['OUTATIME', 'Process executed for too long and was killed'], 'runtime_cached': True, 'data_key': ['imagenet-raw', 'pywren.jobs/a29cd728-ff4f-4d41-929c-196578119fc1/aggdata.pickle']}\n",
      "{'runtime_s3_bucket_used': 'ericmjonas-public', 'exception': \"('OUTATIME', 'Process executed for too long and was killed')\", 'data_download_time': 0.14664888381958008, 'runtime_s3_key_used': '87950c-pywren.runtime/pywren_runtime-3.6-default.tar.gz.0029', 'setup_time': 0.1941220760345459, 'start_time': 1490575645.93137, 'callset_id': 'a29cd728-ff4f-4d41-929c-196578119fc1', 'func_key': ['imagenet-raw', 'pywren.jobs/a29cd728-ff4f-4d41-929c-196578119fc1/func.json'], 'call_id': '00480', 'status_key': ['imagenet-raw', 'pywren.jobs/a29cd728-ff4f-4d41-929c-196578119fc1/00480/status.json'], 'func_download_time': 0.13198590278625488, 'exception_traceback': 'Traceback (most recent call last):\\n  File \"/var/task/wrenhandler.py\", line 296, in generic_handler\\n    \"Process executed for too long and was killed\")\\nException: (\\'OUTATIME\\', \\'Process executed for too long and was killed\\')\\n', 'output_key': ['imagenet-raw', 'pywren.jobs/a29cd728-ff4f-4d41-929c-196578119fc1/00480/output.pickle'], 'exception_args': ['OUTATIME', 'Process executed for too long and was killed'], 'runtime_cached': True, 'data_key': ['imagenet-raw', 'pywren.jobs/a29cd728-ff4f-4d41-929c-196578119fc1/aggdata.pickle']}\n",
      "{'runtime_s3_bucket_used': 'ericmjonas-public', 'exception': \"('OUTATIME', 'Process executed for too long and was killed')\", 'data_download_time': 0.14664888381958008, 'runtime_s3_key_used': '87950c-pywren.runtime/pywren_runtime-3.6-default.tar.gz.0029', 'setup_time': 0.1941220760345459, 'start_time': 1490575645.93137, 'callset_id': 'a29cd728-ff4f-4d41-929c-196578119fc1', 'func_key': ['imagenet-raw', 'pywren.jobs/a29cd728-ff4f-4d41-929c-196578119fc1/func.json'], 'call_id': '00480', 'status_key': ['imagenet-raw', 'pywren.jobs/a29cd728-ff4f-4d41-929c-196578119fc1/00480/status.json'], 'func_download_time': 0.13198590278625488, 'exception_traceback': 'Traceback (most recent call last):\\n  File \"/var/task/wrenhandler.py\", line 296, in generic_handler\\n    \"Process executed for too long and was killed\")\\nException: (\\'OUTATIME\\', \\'Process executed for too long and was killed\\')\\n', 'output_key': ['imagenet-raw', 'pywren.jobs/a29cd728-ff4f-4d41-929c-196578119fc1/00480/output.pickle'], 'exception_args': ['OUTATIME', 'Process executed for too long and was killed'], 'runtime_cached': True, 'data_key': ['imagenet-raw', 'pywren.jobs/a29cd728-ff4f-4d41-929c-196578119fc1/aggdata.pickle']}\n",
      "CPU times: user 4min 52s, sys: 12.7 s, total: 5min 5s\n",
      "Wall time: 4min 45s\n",
      "CPU times: user 1min 14s, sys: 4.5 s, total: 1min 18s\n",
      "Wall time: 29.3 s\n",
      "{'runtime_s3_bucket_used': 'ericmjonas-public', 'exception': \"('OUTATIME', 'Process executed for too long and was killed')\", 'data_download_time': 0.9209470748901367, 'runtime_s3_key_used': 'd81f94-pywren.runtime/pywren_runtime-3.6-default.tar.gz.0031', 'setup_time': 1.0188980102539062, 'start_time': 1490575954.845388, 'callset_id': 'c864b437-ec2c-41c4-b59b-bd69e250a9da', 'func_key': ['imagenet-raw', 'pywren.jobs/c864b437-ec2c-41c4-b59b-bd69e250a9da/func.json'], 'call_id': '00003', 'status_key': ['imagenet-raw', 'pywren.jobs/c864b437-ec2c-41c4-b59b-bd69e250a9da/00003/status.json'], 'func_download_time': 0.9040930271148682, 'exception_traceback': 'Traceback (most recent call last):\\n  File \"/var/task/wrenhandler.py\", line 296, in generic_handler\\n    \"Process executed for too long and was killed\")\\nException: (\\'OUTATIME\\', \\'Process executed for too long and was killed\\')\\n', 'output_key': ['imagenet-raw', 'pywren.jobs/c864b437-ec2c-41c4-b59b-bd69e250a9da/00003/output.pickle'], 'exception_args': ['OUTATIME', 'Process executed for too long and was killed'], 'runtime_cached': True, 'data_key': ['imagenet-raw', 'pywren.jobs/c864b437-ec2c-41c4-b59b-bd69e250a9da/aggdata.pickle']}\n",
      "{'runtime_s3_bucket_used': 'ericmjonas-public', 'exception': \"('OUTATIME', 'Process executed for too long and was killed')\", 'data_download_time': 0.9209470748901367, 'runtime_s3_key_used': 'd81f94-pywren.runtime/pywren_runtime-3.6-default.tar.gz.0031', 'setup_time': 1.0188980102539062, 'start_time': 1490575954.845388, 'callset_id': 'c864b437-ec2c-41c4-b59b-bd69e250a9da', 'func_key': ['imagenet-raw', 'pywren.jobs/c864b437-ec2c-41c4-b59b-bd69e250a9da/func.json'], 'call_id': '00003', 'status_key': ['imagenet-raw', 'pywren.jobs/c864b437-ec2c-41c4-b59b-bd69e250a9da/00003/status.json'], 'func_download_time': 0.9040930271148682, 'exception_traceback': 'Traceback (most recent call last):\\n  File \"/var/task/wrenhandler.py\", line 296, in generic_handler\\n    \"Process executed for too long and was killed\")\\nException: (\\'OUTATIME\\', \\'Process executed for too long and was killed\\')\\n', 'output_key': ['imagenet-raw', 'pywren.jobs/c864b437-ec2c-41c4-b59b-bd69e250a9da/00003/output.pickle'], 'exception_args': ['OUTATIME', 'Process executed for too long and was killed'], 'runtime_cached': True, 'data_key': ['imagenet-raw', 'pywren.jobs/c864b437-ec2c-41c4-b59b-bd69e250a9da/aggdata.pickle']}\n",
      "{'runtime_s3_bucket_used': 'ericmjonas-public', 'exception': \"('OUTATIME', 'Process executed for too long and was killed')\", 'data_download_time': 0.19778203964233398, 'runtime_s3_key_used': 'b5dfc3-pywren.runtime/pywren_runtime-3.6-default.tar.gz.0000', 'setup_time': 0.2538731098175049, 'start_time': 1490575968.479066, 'callset_id': 'c864b437-ec2c-41c4-b59b-bd69e250a9da', 'func_key': ['imagenet-raw', 'pywren.jobs/c864b437-ec2c-41c4-b59b-bd69e250a9da/func.json'], 'call_id': '01213', 'status_key': ['imagenet-raw', 'pywren.jobs/c864b437-ec2c-41c4-b59b-bd69e250a9da/01213/status.json'], 'func_download_time': 0.16985321044921875, 'exception_traceback': 'Traceback (most recent call last):\\n  File \"/var/task/wrenhandler.py\", line 296, in generic_handler\\n    \"Process executed for too long and was killed\")\\nException: (\\'OUTATIME\\', \\'Process executed for too long and was killed\\')\\n', 'output_key': ['imagenet-raw', 'pywren.jobs/c864b437-ec2c-41c4-b59b-bd69e250a9da/01213/output.pickle'], 'exception_args': ['OUTATIME', 'Process executed for too long and was killed'], 'runtime_cached': True, 'data_key': ['imagenet-raw', 'pywren.jobs/c864b437-ec2c-41c4-b59b-bd69e250a9da/aggdata.pickle']}\n",
      "{'runtime_s3_bucket_used': 'ericmjonas-public', 'exception': \"('OUTATIME', 'Process executed for too long and was killed')\", 'data_download_time': 0.9209470748901367, 'runtime_s3_key_used': 'd81f94-pywren.runtime/pywren_runtime-3.6-default.tar.gz.0031', 'setup_time': 1.0188980102539062, 'start_time': 1490575954.845388, 'callset_id': 'c864b437-ec2c-41c4-b59b-bd69e250a9da', 'func_key': ['imagenet-raw', 'pywren.jobs/c864b437-ec2c-41c4-b59b-bd69e250a9da/func.json'], 'call_id': '00003', 'status_key': ['imagenet-raw', 'pywren.jobs/c864b437-ec2c-41c4-b59b-bd69e250a9da/00003/status.json'], 'func_download_time': 0.9040930271148682, 'exception_traceback': 'Traceback (most recent call last):\\n  File \"/var/task/wrenhandler.py\", line 296, in generic_handler\\n    \"Process executed for too long and was killed\")\\nException: (\\'OUTATIME\\', \\'Process executed for too long and was killed\\')\\n', 'output_key': ['imagenet-raw', 'pywren.jobs/c864b437-ec2c-41c4-b59b-bd69e250a9da/00003/output.pickle'], 'exception_args': ['OUTATIME', 'Process executed for too long and was killed'], 'runtime_cached': True, 'data_key': ['imagenet-raw', 'pywren.jobs/c864b437-ec2c-41c4-b59b-bd69e250a9da/aggdata.pickle']}\n",
      "{'runtime_s3_bucket_used': 'ericmjonas-public', 'exception': \"('OUTATIME', 'Process executed for too long and was killed')\", 'data_download_time': 0.20714998245239258, 'runtime_s3_key_used': '5d3d30-pywren.runtime/pywren_runtime-3.6-default.tar.gz.0018', 'setup_time': 0.47666501998901367, 'start_time': 1490575978.105295, 'callset_id': 'c864b437-ec2c-41c4-b59b-bd69e250a9da', 'func_key': ['imagenet-raw', 'pywren.jobs/c864b437-ec2c-41c4-b59b-bd69e250a9da/func.json'], 'call_id': '02091', 'status_key': ['imagenet-raw', 'pywren.jobs/c864b437-ec2c-41c4-b59b-bd69e250a9da/02091/status.json'], 'func_download_time': 0.18956995010375977, 'exception_traceback': 'Traceback (most recent call last):\\n  File \"/var/task/wrenhandler.py\", line 296, in generic_handler\\n    \"Process executed for too long and was killed\")\\nException: (\\'OUTATIME\\', \\'Process executed for too long and was killed\\')\\n', 'output_key': ['imagenet-raw', 'pywren.jobs/c864b437-ec2c-41c4-b59b-bd69e250a9da/02091/output.pickle'], 'exception_args': ['OUTATIME', 'Process executed for too long and was killed'], 'runtime_cached': True, 'data_key': ['imagenet-raw', 'pywren.jobs/c864b437-ec2c-41c4-b59b-bd69e250a9da/aggdata.pickle']}\n",
      "{'runtime_s3_bucket_used': 'ericmjonas-public', 'exception': \"('OUTATIME', 'Process executed for too long and was killed')\", 'data_download_time': 0.9209470748901367, 'runtime_s3_key_used': 'd81f94-pywren.runtime/pywren_runtime-3.6-default.tar.gz.0031', 'setup_time': 1.0188980102539062, 'start_time': 1490575954.845388, 'callset_id': 'c864b437-ec2c-41c4-b59b-bd69e250a9da', 'func_key': ['imagenet-raw', 'pywren.jobs/c864b437-ec2c-41c4-b59b-bd69e250a9da/func.json'], 'call_id': '00003', 'status_key': ['imagenet-raw', 'pywren.jobs/c864b437-ec2c-41c4-b59b-bd69e250a9da/00003/status.json'], 'func_download_time': 0.9040930271148682, 'exception_traceback': 'Traceback (most recent call last):\\n  File \"/var/task/wrenhandler.py\", line 296, in generic_handler\\n    \"Process executed for too long and was killed\")\\nException: (\\'OUTATIME\\', \\'Process executed for too long and was killed\\')\\n', 'output_key': ['imagenet-raw', 'pywren.jobs/c864b437-ec2c-41c4-b59b-bd69e250a9da/00003/output.pickle'], 'exception_args': ['OUTATIME', 'Process executed for too long and was killed'], 'runtime_cached': True, 'data_key': ['imagenet-raw', 'pywren.jobs/c864b437-ec2c-41c4-b59b-bd69e250a9da/aggdata.pickle']}\n",
      "{'runtime_s3_bucket_used': 'ericmjonas-public', 'exception': \"('OUTATIME', 'Process executed for too long and was killed')\", 'data_download_time': 0.18477797508239746, 'runtime_s3_key_used': '87950c-pywren.runtime/pywren_runtime-3.6-default.tar.gz.0029', 'setup_time': 0.7186479568481445, 'start_time': 1490575978.155381, 'callset_id': 'c864b437-ec2c-41c4-b59b-bd69e250a9da', 'func_key': ['imagenet-raw', 'pywren.jobs/c864b437-ec2c-41c4-b59b-bd69e250a9da/func.json'], 'call_id': '02085', 'status_key': ['imagenet-raw', 'pywren.jobs/c864b437-ec2c-41c4-b59b-bd69e250a9da/02085/status.json'], 'func_download_time': 0.16730403900146484, 'exception_traceback': 'Traceback (most recent call last):\\n  File \"/var/task/wrenhandler.py\", line 296, in generic_handler\\n    \"Process executed for too long and was killed\")\\nException: (\\'OUTATIME\\', \\'Process executed for too long and was killed\\')\\n', 'output_key': ['imagenet-raw', 'pywren.jobs/c864b437-ec2c-41c4-b59b-bd69e250a9da/02085/output.pickle'], 'exception_args': ['OUTATIME', 'Process executed for too long and was killed'], 'runtime_cached': True, 'data_key': ['imagenet-raw', 'pywren.jobs/c864b437-ec2c-41c4-b59b-bd69e250a9da/aggdata.pickle']}\n",
      "{'runtime_s3_bucket_used': 'ericmjonas-public', 'exception': \"('OUTATIME', 'Process executed for too long and was killed')\", 'data_download_time': 0.19778203964233398, 'runtime_s3_key_used': 'b5dfc3-pywren.runtime/pywren_runtime-3.6-default.tar.gz.0000', 'setup_time': 0.2538731098175049, 'start_time': 1490575968.479066, 'callset_id': 'c864b437-ec2c-41c4-b59b-bd69e250a9da', 'func_key': ['imagenet-raw', 'pywren.jobs/c864b437-ec2c-41c4-b59b-bd69e250a9da/func.json'], 'call_id': '01213', 'status_key': ['imagenet-raw', 'pywren.jobs/c864b437-ec2c-41c4-b59b-bd69e250a9da/01213/status.json'], 'func_download_time': 0.16985321044921875, 'exception_traceback': 'Traceback (most recent call last):\\n  File \"/var/task/wrenhandler.py\", line 296, in generic_handler\\n    \"Process executed for too long and was killed\")\\nException: (\\'OUTATIME\\', \\'Process executed for too long and was killed\\')\\n', 'output_key': ['imagenet-raw', 'pywren.jobs/c864b437-ec2c-41c4-b59b-bd69e250a9da/01213/output.pickle'], 'exception_args': ['OUTATIME', 'Process executed for too long and was killed'], 'runtime_cached': True, 'data_key': ['imagenet-raw', 'pywren.jobs/c864b437-ec2c-41c4-b59b-bd69e250a9da/aggdata.pickle']}\n",
      "CPU times: user 4min 53s, sys: 12.2 s, total: 5min 5s\n",
      "Wall time: 4min 39s\n",
      "CPU times: user 1min 15s, sys: 4.18 s, total: 1min 19s\n",
      "Wall time: 29.6 s\n",
      "{'runtime_s3_bucket_used': 'ericmjonas-public', 'exception': \"('OUTATIME', 'Process executed for too long and was killed')\", 'data_download_time': 0.13392901420593262, 'runtime_s3_key_used': '7e36df-pywren.runtime/pywren_runtime-3.6-default.tar.gz.0015', 'setup_time': 0.17915081977844238, 'start_time': 1490576272.285757, 'callset_id': '5c99dad8-58b9-4fce-94d5-cb0c87b5b834', 'func_key': ['imagenet-raw', 'pywren.jobs/5c99dad8-58b9-4fce-94d5-cb0c87b5b834/func.json'], 'call_id': '00770', 'status_key': ['imagenet-raw', 'pywren.jobs/5c99dad8-58b9-4fce-94d5-cb0c87b5b834/00770/status.json'], 'func_download_time': 0.11736297607421875, 'exception_traceback': 'Traceback (most recent call last):\\n  File \"/var/task/wrenhandler.py\", line 296, in generic_handler\\n    \"Process executed for too long and was killed\")\\nException: (\\'OUTATIME\\', \\'Process executed for too long and was killed\\')\\n', 'output_key': ['imagenet-raw', 'pywren.jobs/5c99dad8-58b9-4fce-94d5-cb0c87b5b834/00770/output.pickle'], 'exception_args': ['OUTATIME', 'Process executed for too long and was killed'], 'runtime_cached': True, 'data_key': ['imagenet-raw', 'pywren.jobs/5c99dad8-58b9-4fce-94d5-cb0c87b5b834/aggdata.pickle']}\n",
      "{'runtime_s3_bucket_used': 'ericmjonas-public', 'exception': \"('OUTATIME', 'Process executed for too long and was killed')\", 'data_download_time': 0.13392901420593262, 'runtime_s3_key_used': '7e36df-pywren.runtime/pywren_runtime-3.6-default.tar.gz.0015', 'setup_time': 0.17915081977844238, 'start_time': 1490576272.285757, 'callset_id': '5c99dad8-58b9-4fce-94d5-cb0c87b5b834', 'func_key': ['imagenet-raw', 'pywren.jobs/5c99dad8-58b9-4fce-94d5-cb0c87b5b834/func.json'], 'call_id': '00770', 'status_key': ['imagenet-raw', 'pywren.jobs/5c99dad8-58b9-4fce-94d5-cb0c87b5b834/00770/status.json'], 'func_download_time': 0.11736297607421875, 'exception_traceback': 'Traceback (most recent call last):\\n  File \"/var/task/wrenhandler.py\", line 296, in generic_handler\\n    \"Process executed for too long and was killed\")\\nException: (\\'OUTATIME\\', \\'Process executed for too long and was killed\\')\\n', 'output_key': ['imagenet-raw', 'pywren.jobs/5c99dad8-58b9-4fce-94d5-cb0c87b5b834/00770/output.pickle'], 'exception_args': ['OUTATIME', 'Process executed for too long and was killed'], 'runtime_cached': True, 'data_key': ['imagenet-raw', 'pywren.jobs/5c99dad8-58b9-4fce-94d5-cb0c87b5b834/aggdata.pickle']}\n",
      "{'runtime_s3_bucket_used': 'ericmjonas-public', 'exception': \"('OUTATIME', 'Process executed for too long and was killed')\", 'data_download_time': 0.2543787956237793, 'runtime_s3_key_used': '893012-pywren.runtime/pywren_runtime-3.6-default.tar.gz.0028', 'setup_time': 0.3636288642883301, 'start_time': 1490576285.076754, 'callset_id': '5c99dad8-58b9-4fce-94d5-cb0c87b5b834', 'func_key': ['imagenet-raw', 'pywren.jobs/5c99dad8-58b9-4fce-94d5-cb0c87b5b834/func.json'], 'call_id': '01935', 'status_key': ['imagenet-raw', 'pywren.jobs/5c99dad8-58b9-4fce-94d5-cb0c87b5b834/01935/status.json'], 'func_download_time': 0.23730897903442383, 'exception_traceback': 'Traceback (most recent call last):\\n  File \"/var/task/wrenhandler.py\", line 296, in generic_handler\\n    \"Process executed for too long and was killed\")\\nException: (\\'OUTATIME\\', \\'Process executed for too long and was killed\\')\\n', 'output_key': ['imagenet-raw', 'pywren.jobs/5c99dad8-58b9-4fce-94d5-cb0c87b5b834/01935/output.pickle'], 'exception_args': ['OUTATIME', 'Process executed for too long and was killed'], 'runtime_cached': True, 'data_key': ['imagenet-raw', 'pywren.jobs/5c99dad8-58b9-4fce-94d5-cb0c87b5b834/aggdata.pickle']}{'runtime_s3_bucket_used': 'ericmjonas-public', 'exception': \"('OUTATIME', 'Process executed for too long and was killed')\", 'data_download_time': 0.18800091743469238, 'runtime_s3_key_used': '7941dd-pywren.runtime/pywren_runtime-3.6-default.tar.gz.0014', 'setup_time': 0.2287740707397461, 'start_time': 1490576285.546905, 'callset_id': '5c99dad8-58b9-4fce-94d5-cb0c87b5b834', 'func_key': ['imagenet-raw', 'pywren.jobs/5c99dad8-58b9-4fce-94d5-cb0c87b5b834/func.json'], 'call_id': '01978', 'status_key': ['imagenet-raw', 'pywren.jobs/5c99dad8-58b9-4fce-94d5-cb0c87b5b834/01978/status.json'], 'func_download_time': 0.17163991928100586, 'exception_traceback': 'Traceback (most recent call last):\\n  File \"/var/task/wrenhandler.py\", line 296, in generic_handler\\n    \"Process executed for too long and was killed\")\\nException: (\\'OUTATIME\\', \\'Process executed for too long and was killed\\')\\n', 'output_key': ['imagenet-raw', 'pywren.jobs/5c99dad8-58b9-4fce-94d5-cb0c87b5b834/01978/output.pickle'], 'exception_args': ['OUTATIME', 'Process executed for too long and was killed'], 'runtime_cached': True, 'data_key': ['imagenet-raw', 'pywren.jobs/5c99dad8-58b9-4fce-94d5-cb0c87b5b834/aggdata.pickle']}\n",
      "\n",
      "{'runtime_s3_bucket_used': 'ericmjonas-public', 'exception': \"('OUTATIME', 'Process executed for too long and was killed')\", 'data_download_time': 0.13392901420593262, 'runtime_s3_key_used': '7e36df-pywren.runtime/pywren_runtime-3.6-default.tar.gz.0015', 'setup_time': 0.17915081977844238, 'start_time': 1490576272.285757, 'callset_id': '5c99dad8-58b9-4fce-94d5-cb0c87b5b834', 'func_key': ['imagenet-raw', 'pywren.jobs/5c99dad8-58b9-4fce-94d5-cb0c87b5b834/func.json'], 'call_id': '00770', 'status_key': ['imagenet-raw', 'pywren.jobs/5c99dad8-58b9-4fce-94d5-cb0c87b5b834/00770/status.json'], 'func_download_time': 0.11736297607421875, 'exception_traceback': 'Traceback (most recent call last):\\n  File \"/var/task/wrenhandler.py\", line 296, in generic_handler\\n    \"Process executed for too long and was killed\")\\nException: (\\'OUTATIME\\', \\'Process executed for too long and was killed\\')\\n', 'output_key': ['imagenet-raw', 'pywren.jobs/5c99dad8-58b9-4fce-94d5-cb0c87b5b834/00770/output.pickle'], 'exception_args': ['OUTATIME', 'Process executed for too long and was killed'], 'runtime_cached': True, 'data_key': ['imagenet-raw', 'pywren.jobs/5c99dad8-58b9-4fce-94d5-cb0c87b5b834/aggdata.pickle']}\n",
      "CPU times: user 4min 50s, sys: 12.3 s, total: 5min 2s\n",
      "Wall time: 4min 38s\n",
      "CPU times: user 1min 11s, sys: 4.35 s, total: 1min 15s\n",
      "Wall time: 28.1 s\n",
      "{'runtime_s3_bucket_used': 'ericmjonas-public', 'exception': \"('OUTATIME', 'Process executed for too long and was killed')\", 'data_download_time': 0.14679193496704102, 'runtime_s3_key_used': '6b2032-pywren.runtime/pywren_runtime-3.6-default.tar.gz.0033', 'setup_time': 0.22815799713134766, 'start_time': 1490576577.342788, 'callset_id': 'f6ebbcaf-8091-4377-acd1-38824f9a7ab4', 'func_key': ['imagenet-raw', 'pywren.jobs/f6ebbcaf-8091-4377-acd1-38824f9a7ab4/func.json'], 'call_id': '00550', 'status_key': ['imagenet-raw', 'pywren.jobs/f6ebbcaf-8091-4377-acd1-38824f9a7ab4/00550/status.json'], 'func_download_time': 0.13347101211547852, 'exception_traceback': 'Traceback (most recent call last):\\n  File \"/var/task/wrenhandler.py\", line 296, in generic_handler\\n    \"Process executed for too long and was killed\")\\nException: (\\'OUTATIME\\', \\'Process executed for too long and was killed\\')\\n', 'output_key': ['imagenet-raw', 'pywren.jobs/f6ebbcaf-8091-4377-acd1-38824f9a7ab4/00550/output.pickle'], 'exception_args': ['OUTATIME', 'Process executed for too long and was killed'], 'runtime_cached': True, 'data_key': ['imagenet-raw', 'pywren.jobs/f6ebbcaf-8091-4377-acd1-38824f9a7ab4/aggdata.pickle']}\n",
      "{'runtime_s3_bucket_used': 'ericmjonas-public', 'exception': \"('OUTATIME', 'Process executed for too long and was killed')\", 'data_download_time': 0.14679193496704102, 'runtime_s3_key_used': '6b2032-pywren.runtime/pywren_runtime-3.6-default.tar.gz.0033', 'setup_time': 0.22815799713134766, 'start_time': 1490576577.342788, 'callset_id': 'f6ebbcaf-8091-4377-acd1-38824f9a7ab4', 'func_key': ['imagenet-raw', 'pywren.jobs/f6ebbcaf-8091-4377-acd1-38824f9a7ab4/func.json'], 'call_id': '00550', 'status_key': ['imagenet-raw', 'pywren.jobs/f6ebbcaf-8091-4377-acd1-38824f9a7ab4/00550/status.json'], 'func_download_time': 0.13347101211547852, 'exception_traceback': 'Traceback (most recent call last):\\n  File \"/var/task/wrenhandler.py\", line 296, in generic_handler\\n    \"Process executed for too long and was killed\")\\nException: (\\'OUTATIME\\', \\'Process executed for too long and was killed\\')\\n', 'output_key': ['imagenet-raw', 'pywren.jobs/f6ebbcaf-8091-4377-acd1-38824f9a7ab4/00550/output.pickle'], 'exception_args': ['OUTATIME', 'Process executed for too long and was killed'], 'runtime_cached': True, 'data_key': ['imagenet-raw', 'pywren.jobs/f6ebbcaf-8091-4377-acd1-38824f9a7ab4/aggdata.pickle']}\n",
      "{'runtime_s3_bucket_used': 'ericmjonas-public', 'exception': \"('OUTATIME', 'Process executed for too long and was killed')\", 'data_download_time': 0.4249401092529297, 'runtime_s3_key_used': 'ac46ba-pywren.runtime/pywren_runtime-3.6-default.tar.gz.0002', 'setup_time': 0.539376974105835, 'start_time': 1490576585.080848, 'callset_id': 'f6ebbcaf-8091-4377-acd1-38824f9a7ab4', 'func_key': ['imagenet-raw', 'pywren.jobs/f6ebbcaf-8091-4377-acd1-38824f9a7ab4/func.json'], 'call_id': '01195', 'status_key': ['imagenet-raw', 'pywren.jobs/f6ebbcaf-8091-4377-acd1-38824f9a7ab4/01195/status.json'], 'func_download_time': 0.4074869155883789, 'exception_traceback': 'Traceback (most recent call last):\\n  File \"/var/task/wrenhandler.py\", line 296, in generic_handler\\n    \"Process executed for too long and was killed\")\\nException: (\\'OUTATIME\\', \\'Process executed for too long and was killed\\')\\n', 'output_key': ['imagenet-raw', 'pywren.jobs/f6ebbcaf-8091-4377-acd1-38824f9a7ab4/01195/output.pickle'], 'exception_args': ['OUTATIME', 'Process executed for too long and was killed'], 'runtime_cached': True, 'data_key': ['imagenet-raw', 'pywren.jobs/f6ebbcaf-8091-4377-acd1-38824f9a7ab4/aggdata.pickle']}\n",
      "{'runtime_s3_bucket_used': 'ericmjonas-public', 'exception': \"('OUTATIME', 'Process executed for too long and was killed')\", 'data_download_time': 0.14679193496704102, 'runtime_s3_key_used': '6b2032-pywren.runtime/pywren_runtime-3.6-default.tar.gz.0033', 'setup_time': 0.22815799713134766, 'start_time': 1490576577.342788, 'callset_id': 'f6ebbcaf-8091-4377-acd1-38824f9a7ab4', 'func_key': ['imagenet-raw', 'pywren.jobs/f6ebbcaf-8091-4377-acd1-38824f9a7ab4/func.json'], 'call_id': '00550', 'status_key': ['imagenet-raw', 'pywren.jobs/f6ebbcaf-8091-4377-acd1-38824f9a7ab4/00550/status.json'], 'func_download_time': 0.13347101211547852, 'exception_traceback': 'Traceback (most recent call last):\\n  File \"/var/task/wrenhandler.py\", line 296, in generic_handler\\n    \"Process executed for too long and was killed\")\\nException: (\\'OUTATIME\\', \\'Process executed for too long and was killed\\')\\n', 'output_key': ['imagenet-raw', 'pywren.jobs/f6ebbcaf-8091-4377-acd1-38824f9a7ab4/00550/output.pickle'], 'exception_args': ['OUTATIME', 'Process executed for too long and was killed'], 'runtime_cached': True, 'data_key': ['imagenet-raw', 'pywren.jobs/f6ebbcaf-8091-4377-acd1-38824f9a7ab4/aggdata.pickle']}\n",
      "CPU times: user 4min 34s, sys: 10.6 s, total: 4min 45s\n",
      "Wall time: 4min 35s\n",
      "pywren.linalg/imagenet-train/8ea2a8f0ffe7af571555edda714d918090701b68\n",
      "pywren.linalg/imagenet-train/8ea2a8f0ffe7af571555edda714d918090701b68\n"
     ]
    }
   ],
   "source": [
    "for c in chunked_blocks:\n",
    "    %time kernel_futures = pwex.map(lambda x: linalg.compute_rbf_kernel_blockwise(x, X_train_sharded, gamma=1e-3), c)\n",
    "    %time pywren.wait(kernel_futures)    \n",
    "K_sharded = linalg.compute_linear_kernel_blockwise([(0,0)], X_train_sharded)[1]"
   ]
  },
  {
   "cell_type": "code",
   "execution_count": 83,
   "metadata": {
    "collapsed": false
   },
   "outputs": [],
   "source": [
    "K_sharded = linalg.compute_rbf_kernel_blockwise([(0,0)], X_train_sharded, gamma=1e-3)[1]"
   ]
  },
  {
   "cell_type": "code",
   "execution_count": 56,
   "metadata": {
    "collapsed": false
   },
   "outputs": [
    {
     "ename": "NameError",
     "evalue": "name 'kernel_futures' is not defined",
     "output_type": "error",
     "traceback": [
      "\u001b[0;31m---------------------------------------------------------------------------\u001b[0m",
      "\u001b[0;31mNameError\u001b[0m                                 Traceback (most recent call last)",
      "\u001b[0;32m<ipython-input-56-69e32a98f317>\u001b[0m in \u001b[0;36m<module>\u001b[0;34m()\u001b[0m\n\u001b[0;32m----> 1\u001b[0;31m \u001b[0mK_sharded\u001b[0m \u001b[0;34m=\u001b[0m \u001b[0mkernel_futures\u001b[0m\u001b[0;34m[\u001b[0m\u001b[0;36m0\u001b[0m\u001b[0;34m]\u001b[0m\u001b[0;34m\u001b[0m\u001b[0m\n\u001b[0m",
      "\u001b[0;31mNameError\u001b[0m: name 'kernel_futures' is not defined"
     ]
    }
   ],
   "source": [
    "K_sharded = kernel_futures[0]"
   ]
  },
  {
   "cell_type": "code",
   "execution_count": 39,
   "metadata": {
    "collapsed": false
   },
   "outputs": [
    {
     "data": {
      "text/plain": [
       "array([[  666.1619873 ,   315.49255371,   717.11315918, ...,\n",
       "          505.31872559,   607.21002197,   304.80075073],\n",
       "       [  526.69262695,   333.09085083,   830.56774902, ...,\n",
       "         1389.02783203,   844.98492432,   790.25201416],\n",
       "       [ 1212.43017578,   595.01367188,   797.11987305, ...,\n",
       "         1002.1751709 ,   664.14239502,   880.27789307],\n",
       "       ..., \n",
       "       [  531.60418701,   936.97436523,   732.84973145, ...,\n",
       "          441.60214233,  1065.49291992,   654.55810547],\n",
       "       [  376.57577515,   147.31192017,   581.53985596, ...,\n",
       "          902.98059082,   563.4979248 ,   885.77587891],\n",
       "       [  461.48388672,   335.40252686,   686.89154053, ...,\n",
       "          821.79394531,   847.71313477,   570.93084717]], dtype=float32)"
      ]
     },
     "execution_count": 39,
     "metadata": {},
     "output_type": "execute_result"
    }
   ],
   "source": [
    "K_sharded.get_block(1,0)"
   ]
  },
  {
   "cell_type": "code",
   "execution_count": 85,
   "metadata": {
    "collapsed": false
   },
   "outputs": [
    {
     "data": {
      "text/plain": [
       "array([[  666.1619873 ,   315.49255371,   717.11315918, ...,\n",
       "          505.31872559,   607.21002197,   304.80075073],\n",
       "       [  526.69262695,   333.09085083,   830.56774902, ...,\n",
       "         1389.02783203,   844.98492432,   790.25201416],\n",
       "       [ 1212.43017578,   595.01367188,   797.11987305, ...,\n",
       "         1002.1751709 ,   664.14239502,   880.27789307],\n",
       "       ..., \n",
       "       [  531.60418701,   936.97436523,   732.84973145, ...,\n",
       "          441.60214233,  1065.49291992,   654.55810547],\n",
       "       [  376.57577515,   147.31192017,   581.53985596, ...,\n",
       "          902.98059082,   563.4979248 ,   885.77587891],\n",
       "       [  461.48388672,   335.40252686,   686.89154053, ...,\n",
       "          821.79394531,   847.71313477,   570.93084717]], dtype=float32)"
      ]
     },
     "execution_count": 85,
     "metadata": {},
     "output_type": "execute_result"
    }
   ],
   "source": [
    "X_train[4096:4096*2, :].dot(X_train[:4096, :].T)"
   ]
  },
  {
   "cell_type": "code",
   "execution_count": null,
   "metadata": {
    "collapsed": false
   },
   "outputs": [],
   "source": [
    "gamma = 1e-3\n",
    "lambdav = 1e-4"
   ]
  },
  {
   "cell_type": "code",
   "execution_count": 13,
   "metadata": {
    "collapsed": true
   },
   "outputs": [],
   "source": [
    "sys.stdout = terminal_stdout\n"
   ]
  },
  {
   "cell_type": "code",
   "execution_count": 33,
   "metadata": {
    "collapsed": true
   },
   "outputs": [],
   "source": [
    "%time XtX = X_train.T.dot(X_train)"
   ]
  },
  {
   "cell_type": "code",
   "execution_count": 30,
   "metadata": {
    "collapsed": true
   },
   "outputs": [],
   "source": [
    "%time Xty = X_train.T.dot(y_train_one_hot)"
   ]
  },
  {
   "cell_type": "code",
   "execution_count": 31,
   "metadata": {
    "collapsed": true
   },
   "outputs": [],
   "source": [
    "lambdav = 1e-8"
   ]
  },
  {
   "cell_type": "code",
   "execution_count": 34,
   "metadata": {
    "collapsed": false
   },
   "outputs": [],
   "source": [
    "diag = np.diag_indices(XtX.shape[0])\n",
    "XtX[diag] += lambdav\n",
    "model = scipy.linalg.solve(XtX, Xty)\n",
    "XtX[diag] -= lambdav"
   ]
  },
  {
   "cell_type": "code",
   "execution_count": 35,
   "metadata": {
    "collapsed": false
   },
   "outputs": [
    {
     "data": {
      "text/plain": [
       "0.61269295884143127"
      ]
     },
     "execution_count": 35,
     "metadata": {},
     "output_type": "execute_result"
    }
   ],
   "source": [
    "metrics.accuracy_score(np.argmax(X_train.dot(model), axis=1), y_train)"
   ]
  },
  {
   "cell_type": "code",
   "execution_count": 66,
   "metadata": {
    "collapsed": false
   },
   "outputs": [],
   "source": [
    "np.save(\"X_1_epoch\", X_1_epoch)"
   ]
  },
  {
   "cell_type": "code",
   "execution_count": 84,
   "metadata": {
    "collapsed": false
   },
   "outputs": [],
   "source": [
    "sys.stdout = terminal_stdout\n",
    "X_1_epoch = block_kernel_solve(K_sharded, y_train_one_hot, epochs=1, lambdav=1)"
   ]
  },
  {
   "cell_type": "code",
   "execution_count": 59,
   "metadata": {
    "collapsed": false
   },
   "outputs": [
    {
     "name": "stdout",
     "output_type": "stream",
     "text": [
      "Computing Nystroem svd\n",
      "Computing Nystroem features\n",
      "Computing ZTZ\n",
      "Computing Cholesky\n",
      "(4096, 1281167)\n"
     ]
    }
   ],
   "source": [
    "prc, U = linalg.make_smart_precondition(X_train, gamma=gamma, lambdav=lambdav, n_components=4096)"
   ]
  },
  {
   "cell_type": "code",
   "execution_count": null,
   "metadata": {
    "collapsed": false
   },
   "outputs": [],
   "source": [
    "\n",
    "args = X_3\n",
    "args = list(args)"
   ]
  },
  {
   "cell_type": "code",
   "execution_count": 115,
   "metadata": {
    "collapsed": false
   },
   "outputs": [],
   "source": [
    "args[0] = np.zeros((4096, y_train_one_hot.shape[1]))\n",
    "args"
   ]
  },
  {
   "cell_type": "code",
   "execution_count": 119,
   "metadata": {
    "collapsed": false
   },
   "outputs": [
    {
     "data": {
      "text/plain": [
       "array([[ 0.,  0.,  0., ...,  0.,  0.,  0.],\n",
       "       [ 0.,  0.,  0., ...,  0.,  0.,  0.],\n",
       "       [ 0.,  0.,  0., ...,  0.,  0.,  0.],\n",
       "       ..., \n",
       "       [ 0.,  0.,  0., ...,  0.,  0.,  0.],\n",
       "       [ 0.,  0.,  0., ...,  0.,  0.,  0.],\n",
       "       [ 0.,  0.,  0., ...,  0.,  0.,  0.]])"
      ]
     },
     "execution_count": 119,
     "metadata": {},
     "output_type": "execute_result"
    }
   ],
   "source": [
    "__calculate_res(*args)"
   ]
  },
  {
   "cell_type": "code",
   "execution_count": 33,
   "metadata": {
    "collapsed": true
   },
   "outputs": [],
   "source": [
    "x = np.random.randn(4096,4096)"
   ]
  },
  {
   "cell_type": "code",
   "execution_count": 38,
   "metadata": {
    "collapsed": false
   },
   "outputs": [
    {
     "data": {
      "text/plain": [
       "array([[ 1.00043242,  1.88256286,  2.23652953, ...,  0.71320838,\n",
       "        -2.97133385,  0.24525873],\n",
       "       [-1.14752926,  0.28331297, -0.35583467, ...,  1.58477624,\n",
       "        -0.96406481,  0.1548442 ],\n",
       "       [ 0.13228222, -1.50739475,  0.50730763, ..., -4.60623277,\n",
       "        -3.08502852, -2.83105076],\n",
       "       ..., \n",
       "       [ 1.97830904, -1.07704047, -0.94826343, ..., -1.26330201,\n",
       "         0.51951157,  0.33207813],\n",
       "       [ 2.35859914,  2.24013857,  1.37480261, ..., -2.56782584,\n",
       "         2.01003214, -0.48774642],\n",
       "       [ 3.76238426,  0.18478296,  1.25920478, ..., -2.32657978,\n",
       "         0.11346072,  3.16147817]])"
      ]
     },
     "execution_count": 38,
     "metadata": {},
     "output_type": "execute_result"
    }
   ],
   "source": [
    "np.sum([x,x], axis=0)"
   ]
  },
  {
   "cell_type": "code",
   "execution_count": 39,
   "metadata": {
    "collapsed": false
   },
   "outputs": [
    {
     "data": {
      "text/plain": [
       "array([[ 1.00043242,  1.88256286,  2.23652953, ...,  0.71320838,\n",
       "        -2.97133385,  0.24525873],\n",
       "       [-1.14752926,  0.28331297, -0.35583467, ...,  1.58477624,\n",
       "        -0.96406481,  0.1548442 ],\n",
       "       [ 0.13228222, -1.50739475,  0.50730763, ..., -4.60623277,\n",
       "        -3.08502852, -2.83105076],\n",
       "       ..., \n",
       "       [ 1.97830904, -1.07704047, -0.94826343, ..., -1.26330201,\n",
       "         0.51951157,  0.33207813],\n",
       "       [ 2.35859914,  2.24013857,  1.37480261, ..., -2.56782584,\n",
       "         2.01003214, -0.48774642],\n",
       "       [ 3.76238426,  0.18478296,  1.25920478, ..., -2.32657978,\n",
       "         0.11346072,  3.16147817]])"
      ]
     },
     "execution_count": 39,
     "metadata": {},
     "output_type": "execute_result"
    }
   ],
   "source": [
    "x + x"
   ]
  },
  {
   "cell_type": "code",
   "execution_count": 50,
   "metadata": {
    "collapsed": false
   },
   "outputs": [
    {
     "data": {
      "text/plain": [
       "numpy.linalg.linalg.LinAlgError"
      ]
     },
     "execution_count": 50,
     "metadata": {},
     "output_type": "execute_result"
    }
   ],
   "source": [
    "scipy.linalg.LinAlgError"
   ]
  },
  {
   "cell_type": "code",
   "execution_count": null,
   "metadata": {
    "collapsed": false
   },
   "outputs": [],
   "source": [
    "KTest = linalg.computeRBFGramMatrix(X_test,X_train,gamma=1e-3)"
   ]
  },
  {
   "cell_type": "code",
   "execution_count": null,
   "metadata": {
    "collapsed": false
   },
   "outputs": [],
   "source": [
    "test_preds = KTest.dot(X_1_epoch)"
   ]
  },
  {
   "cell_type": "code",
   "execution_count": 87,
   "metadata": {
    "collapsed": true
   },
   "outputs": [],
   "source": [
    "test_labels_pred = np.argmax(test_preds, axis=1)"
   ]
  },
  {
   "cell_type": "code",
   "execution_count": 88,
   "metadata": {
    "collapsed": false
   },
   "outputs": [
    {
     "data": {
      "text/plain": [
       "array([303, 987, 491, ...,  35, 351, 573])"
      ]
     },
     "execution_count": 88,
     "metadata": {},
     "output_type": "execute_result"
    }
   ],
   "source": [
    "test_labels_pred"
   ]
  },
  {
   "cell_type": "code",
   "execution_count": 89,
   "metadata": {
    "collapsed": false
   },
   "outputs": [
    {
     "data": {
      "text/plain": [
       "0.48330000000000001"
      ]
     },
     "execution_count": 89,
     "metadata": {},
     "output_type": "execute_result"
    }
   ],
   "source": [
    "metrics.accuracy_score(y_test, test_labels_pred)"
   ]
  },
  {
   "cell_type": "code",
   "execution_count": 1,
   "metadata": {
    "collapsed": true
   },
   "outputs": [],
   "source": [
    "def softmax_gn_old(X_train, y_train, X_test, y_test, multiplier=1e-2, numiter=50, verbose=False):\n",
    "        ''' Implementation of gauss-newton quassi-newton optimization algorithm\n",
    "            with softmax objective\n",
    "        '''\n",
    "        X_train = X_train.reshape(X_train.shape[0], -1)\n",
    "        X_test = X_test.reshape(X_test.shape[0], -1)\n",
    "        gmat = (1.0/X_train.shape[0])*(X_train.T.dot(X_train))\n",
    "        lambdav = multiplier*np.trace(gmat)/gmat.shape[0]\n",
    "        gmat = gmat + lambdav*np.eye(gmat.shape[0]);\n",
    "        w = np.zeros((10, gmat.shape[0]))\n",
    "        num_samples = X_train.shape[0]\n",
    "        onehot = lambda x: np.eye(10)[x]\n",
    "        y_train_hot = np.array(map(onehot, y_train))\n",
    "        y_test_hot = np.array(map(onehot, y_test))\n",
    "        for k in range(numiter):\n",
    "            train_preds  = w.dot(X_train.T).T # 60000 x 10\n",
    "            train_preds = train_preds - np.max(train_preds, axis=1)[:,np.newaxis]\n",
    "            train_preds = np.exp(train_preds)\n",
    "            train_preds = train_preds/(np.sum(train_preds, axis=1)[:,np.newaxis])\n",
    "            train_preds = y_train_hot - train_preds\n",
    "            grad = (1.0/num_samples)*(X_train.T.dot(train_preds).T) - lambdav*w\n",
    "            w = w + (np.linalg.solve(gmat, grad.T)).T\n",
    "            y_train_pred = np.argmax(w.dot(X_train.T).T, axis=1)\n",
    "            y_test_pred = np.argmax(w.dot(X_test.T).T, axis=1)\n",
    "            train_acc = metrics.accuracy_score(y_train, y_train_pred)\n",
    "            test_acc = metrics.accuracy_score(y_test, y_test_pred)\n",
    "            if (verbose):\n",
    "              print(\"Iter: {0}, Train Accuracy: {1}, Test Accuracy: {2}\".format(k, train_acc, test_acc))\n",
    "        return y_train_pred, y_test_pred, w\n"
   ]
  },
  {
   "cell_type": "code",
   "execution_count": null,
   "metadata": {
    "collapsed": true
   },
   "outputs": [],
   "source": []
  }
 ],
 "metadata": {
  "kernelspec": {
   "display_name": "Python 3",
   "language": "python",
   "name": "python3"
  },
  "language_info": {
   "codemirror_mode": {
    "name": "ipython",
    "version": 3
   },
   "file_extension": ".py",
   "mimetype": "text/x-python",
   "name": "python",
   "nbconvert_exporter": "python",
   "pygments_lexer": "ipython3",
   "version": "3.6.0"
  }
 },
 "nbformat": 4,
 "nbformat_minor": 0
}
