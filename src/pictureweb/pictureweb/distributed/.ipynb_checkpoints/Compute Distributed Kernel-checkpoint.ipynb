{
 "cells": [
  {
   "cell_type": "code",
   "execution_count": 453,
   "metadata": {
    "collapsed": false
   },
   "outputs": [],
   "source": [
    "from importlib import reload\n",
    "import numpy as np\n",
    "import scipy.linalg\n",
    "import linalg\n",
    "reload(linalg)\n",
    "import pywren\n",
    "import math\n",
    "import itertools\n",
    "import time\n",
    "import cloudpickle\n",
    "import importlib\n",
    "import sys\n",
    "from sklearn.datasets import fetch_mldata\n",
    "from itertools import groupby\n",
    "from operator import itemgetter\n",
    "from sklearn.kernel_approximation import RBFSampler, Nystroem\n",
    "from sklearn import metrics"
   ]
  },
  {
   "cell_type": "code",
   "execution_count": 454,
   "metadata": {
    "collapsed": false
   },
   "outputs": [],
   "source": [
    "def generate_chunked_block_pairs(num_blocks, inner_chunk_size=10, outer_chunk_size=1000):\n",
    "    all_pairs = list(itertools.product(range(num_blocks), range(num_blocks)))\n",
    "    sorted_pairs = map(lambda x: tuple(sorted(x)), all_pairs)\n",
    "    dedup_sorted_pairs = list(set(sorted_pairs))\n",
    "    print(len(dedup_sorted_pairs))\n",
    "    return list(chunk(list(chunk(dedup_sorted_pairs, inner_chunk_size)), outer_chunk_size))\n",
    "\n",
    "def chunk(l, n):\n",
    "    \"\"\"Yield successive n-sized chunks from l.\"\"\"\n",
    "    for i in range(0, len(l), n):\n",
    "        yield l[i:i + n]"
   ]
  },
  {
   "cell_type": "code",
   "execution_count": 455,
   "metadata": {
    "collapsed": false
   },
   "outputs": [],
   "source": [
    "mnist = fetch_mldata('MNIST original', data_home=\"/data/vaishaal/mnist/\")\n",
    "\n",
    "X_train = mnist.data[:60000].astype('float32')/255.0\n",
    "y_train = mnist.target[:60000].astype('float32')\n",
    "X_test = mnist.data[60000:].astype('float32')/255.0\n",
    "y_test = mnist.target[60000:].astype('float32')\n",
    "y_train_one_hot = np.eye(10)[y_train.astype('int')]\n",
    "y_test_one_hot = np.eye(10)[y_test.astype('int')]"
   ]
  },
  {
   "cell_type": "code",
   "execution_count": 456,
   "metadata": {
    "collapsed": false
   },
   "outputs": [
    {
     "name": "stdout",
     "output_type": "stream",
     "text": [
      "pywren.linalg/\n",
      "56e69892d71dd75c1022e38f560a6ef3ea9b1640\n"
     ]
    }
   ],
   "source": [
    "X_train_sharded = linalg.ShardedMatrix(X_train, shard_size_0=4096)"
   ]
  },
  {
   "cell_type": "code",
   "execution_count": 457,
   "metadata": {
    "collapsed": true
   },
   "outputs": [],
   "source": [
    "# set up pywren\n",
    "pwex = pywren.default_executor()"
   ]
  },
  {
   "cell_type": "code",
   "execution_count": 458,
   "metadata": {
    "collapsed": false
   },
   "outputs": [],
   "source": [
    "num_blocks = int(math.ceil(X_train_sharded.shape[0]/float(X_train_sharded.shard_size_0)))\n",
    "tasks_per_job = 1\n",
    "num_jobs = 1500"
   ]
  },
  {
   "cell_type": "code",
   "execution_count": 459,
   "metadata": {
    "collapsed": false
   },
   "outputs": [
    {
     "name": "stdout",
     "output_type": "stream",
     "text": [
      "120\n"
     ]
    }
   ],
   "source": [
    "chunked_blocks = generate_chunked_block_pairs(num_blocks, tasks_per_job, num_jobs)"
   ]
  },
  {
   "cell_type": "code",
   "execution_count": 465,
   "metadata": {
    "collapsed": true
   },
   "outputs": [],
   "source": [
    "all_futures = [] \n",
    "all_times = []\n",
    "gamma = 1e-3\n",
    "lambdav = 1e-3"
   ]
  },
  {
   "cell_type": "code",
   "execution_count": 466,
   "metadata": {
    "collapsed": false
   },
   "outputs": [
    {
     "name": "stdout",
     "output_type": "stream",
     "text": [
      "CPU times: user 3.02 s, sys: 264 ms, total: 3.28 s\n",
      "Wall time: 2.56 s\n",
      "CPU times: user 3.88 s, sys: 312 ms, total: 4.2 s\n",
      "Wall time: 27.2 s\n"
     ]
    }
   ],
   "source": [
    "all_futures = []\n",
    "for c in chunked_blocks:\n",
    "    %time kernel_futures = pwex.map(lambda x: linalg.compute_rbf_kernel_blockwise(x, X_train_sharded, gamma), c)\n",
    "    %time pywren.wait(kernel_futures)\n",
    "    all_futures.extend(kernel_futures)\n",
    "    break"
   ]
  },
  {
   "cell_type": "code",
   "execution_count": 468,
   "metadata": {
    "collapsed": false
   },
   "outputs": [],
   "source": [
    "times, K_sharded = kernel_futures[0].result()"
   ]
  },
  {
   "cell_type": "code",
   "execution_count": 469,
   "metadata": {
    "collapsed": false
   },
   "outputs": [],
   "source": [
    "K_sharded.diag_offset = lambdav"
   ]
  },
  {
   "cell_type": "code",
   "execution_count": 464,
   "metadata": {
    "collapsed": false
   },
   "outputs": [
    {
     "name": "stdout",
     "output_type": "stream",
     "text": [
      "CPU times: user 2min 55s, sys: 43.4 s, total: 3min 38s\n",
      "Wall time: 1min 11s\n"
     ]
    }
   ],
   "source": [
    "%time K = linalg.computeRBFGramMatrix(X_train, X_train, gamma)"
   ]
  },
  {
   "cell_type": "code",
   "execution_count": 470,
   "metadata": {
    "collapsed": false
   },
   "outputs": [],
   "source": [
    "def matrix_chunk(blocks_rows, blocks_columns, col_chunk_size):\n",
    "    ''' Chunk indices for matrix vector multiply\n",
    "        Will return a list of the form\n",
    "        [ (block1, col_chunk_1), ... (block1, col_chunk_k)\n",
    "          ...............................................\n",
    "          (blockn, col_chunk_1), ... (blockn, col_chunk_k)\n",
    "        ]\n",
    "        and number of column chunks (for unchunking)\n",
    "    '''\n",
    "    all_chunks = []\n",
    "    count = 0\n",
    "    num_col_chunks = 0\n",
    "    for i in range(blocks_rows):\n",
    "        chunks_columns = list(chunk(list(range(blocks_columns)), col_chunk_size))\n",
    "        num_col_chunks = len(chunks_columns)\n",
    "        for c in chunks_columns:\n",
    "            all_chunks.append((i,c))\n",
    "    return all_chunks, num_col_chunks\n",
    "\n",
    "    \n",
    "    \n",
    "    "
   ]
  },
  {
   "cell_type": "code",
   "execution_count": 471,
   "metadata": {
    "collapsed": false
   },
   "outputs": [],
   "source": [
    "def pywren_matrix_vector_multiply(pwex, K, x, col_chunk_size=2):\n",
    "    num_column_blocks = int(math.ceil(K.shape[0]/float(K.shard_size_0)))\n",
    "    num_row_blocks = int(math.ceil(K.shape[1]/float(K.shard_size_1)))\n",
    "    print(num_column_blocks)\n",
    "    \n",
    "    all_chunks, num_col_chunks = matrix_chunk(num_column_blocks, num_row_blocks, col_chunk_size)\n",
    "    print(len(all_chunks))\n",
    "    all_futures = pwex.map(lambda c: linalg.blocks_matrix_multiply(c, K, x), all_chunks)\n",
    "    print(\"Job submitted waiting now\")\n",
    "    pywren.wait(all_futures) \n",
    "    print(\"Done!\")\n",
    "    results = list(map(lambda x: x.result(), all_futures))\n",
    "    # chunk back into rows \n",
    "    # len(chunked_results) == K.shard_size_0 should be true\n",
    "    chunked_results = list(chunk(results, column_chunk_size))\n",
    "   \n",
    "    # sum across columns for each row\n",
    "    summed_results = list(map(lambda x: np.sum(x, axis=0), chunked_results))\n",
    "    \n",
    "    # stack and return\n",
    "    return np.vstack(summed_results )\n",
    "    \n",
    "    "
   ]
  },
  {
   "cell_type": "code",
   "execution_count": 427,
   "metadata": {
    "collapsed": true
   },
   "outputs": [],
   "source": [
    "def pcg_pywren(A,b,pwex, prc=lambda x: x, max_iter=100, tol=1e-3):\n",
    "    i = 0 \n",
    "    x = np.zeros((A.shape[0], b.shape[1]))\n",
    "    x_sharded = linalg.ShardedMatrix(x, shard_size_0=A.shard_size_0, reshard=True)\n",
    "    print(\"Matrix multiply\")\n",
    "    Ax = pywren_matrix_vector_multiply(pwex, A, x_sharded)\n",
    "    r = b - Ax\n",
    "    d = prc(r)\n",
    "    delta_new = np.linalg.norm(r.T.dot(d))\n",
    "    delta_0 = delta_new\n",
    "    while (True):\n",
    "        if (i > max_iter):\n",
    "            break\n",
    "            \n",
    "        if (delta_new < tol*delta_0):\n",
    "            break\n",
    "        # Expensive\n",
    "        print(\"Matrix multiply\")\n",
    "        d_sharded = linalg.ShardedMatrix(d, shard_size_0=A.shard_size_0, reshard=True)\n",
    "        q = pywren_matrix_vector_multiply(pwex, A, d_sharded)\n",
    "        \n",
    "        a = delta_new/np.linalg.norm(d.T.dot(q))\n",
    "        print(a)\n",
    "        x = x + a*d\n",
    "        r = r - a*q\n",
    "        print(\"Iter {0}, NORM IS {1}\".format(i,np.linalg.norm(r)))\n",
    "        s = prc(r)\n",
    "        delta_old = delta_new\n",
    "        delta_new = np.linalg.norm(r.T.dot(s))\n",
    "        beta = delta_new/delta_old\n",
    "        d = s + beta * d\n",
    "        i = i + 1\n",
    "        \n",
    "    return x\n",
    "\n"
   ]
  },
  {
   "cell_type": "code",
   "execution_count": 472,
   "metadata": {
    "collapsed": false
   },
   "outputs": [],
   "source": [
    "def make_smart_precondition(X_train, lambdav, gamma, n_components):\n",
    "    '''Make a preconditioner kernel ridge regression by using nystroem\n",
    "       features  '''\n",
    "    \n",
    "    print(\"Computing Nystroem svd\")\n",
    "    nystroem = Nystroem(gamma=gamma, n_components=n_components)\n",
    "    nystroem.fit(X_train)\n",
    "    print(\"Computing Nystroem features\")\n",
    "    X_train_lift = nystroem.transform(X_train)\n",
    "    print(\"Computing ZTZ\")\n",
    "    ztz = X_train_lift.T.dot(X_train_lift)\n",
    "    ztz_reg = ztz + lambdav * np.eye(ztz.shape[0])\n",
    "    print(\"Computing Cholesky\")\n",
    "    L = np.linalg.cholesky(ztz_reg)\n",
    "    U = scipy.linalg.solve(L, X_train_lift.T)\n",
    "    print(U.shape)\n",
    "    def prc(x):\n",
    "        return (1.0/lambdav)*(x - U.T.dot(U.dot(x)))\n",
    "    return prc"
   ]
  },
  {
   "cell_type": "code",
   "execution_count": 442,
   "metadata": {
    "collapsed": false
   },
   "outputs": [
    {
     "name": "stdout",
     "output_type": "stream",
     "text": [
      "Computing Nystroem svd\n",
      "Computing Nystroem features\n",
      "Computing ZTZ\n",
      "Computing Cholesky\n",
      "(10000, 60000)\n",
      "CPU times: user 54min 1s, sys: 4min 16s, total: 58min 17s\n",
      "Wall time: 1min 10s\n"
     ]
    }
   ],
   "source": [
    "%time prc = make_smart_precondition(X_train, 1e-3, gamma, n_components=10000)"
   ]
  },
  {
   "cell_type": "code",
   "execution_count": 430,
   "metadata": {
    "collapsed": true
   },
   "outputs": [],
   "source": [
    "def pcg(A,b,prc=lambda x: x, max_iter=100, tol=1e-3, reg=1e-3):\n",
    "    i = 0 \n",
    "    x = np.zeros((A.shape[0], b.shape[1]))\n",
    "    r = b - A.dot(x)\n",
    "    d = prc(r)\n",
    "    delta_new = np.linalg.norm(r.T.dot(d))\n",
    "    delta_0 = delta_new\n",
    "    diag_indices = np.diag_indices(A.shape[0])\n",
    "    A[diag_indices] += reg\n",
    "    while (True):\n",
    "        print(\"Iter {0}\".format(i))\n",
    "        if (i > max_iter):\n",
    "            break\n",
    "            \n",
    "        if (delta_new < tol*delta_0):\n",
    "            break\n",
    "        # Expensive\n",
    "        q = A.dot(d)\n",
    "        a = delta_new/np.linalg.norm(d.T.dot(q))\n",
    "        print(a)\n",
    "        x = x + a*d\n",
    "        if (i % 20 == 0):\n",
    "            r = b - A.dot(x)\n",
    "        else:\n",
    "            r = r - a*q\n",
    "        print(\"Iter {0}, NORM IS {1}\".format(i,np.linalg.norm(r)))\n",
    "        s = prc(r)\n",
    "        delta_old = delta_new\n",
    "        delta_new = np.linalg.norm(r.T.dot(s))\n",
    "        beta = delta_new/delta_old\n",
    "        d = s + beta * d\n",
    "        i = i + 1\n",
    "    A[diag_indices] -= reg\n",
    "    return x"
   ]
  },
  {
   "cell_type": "code",
   "execution_count": null,
   "metadata": {
    "collapsed": false
   },
   "outputs": [],
   "source": [
    "%time model = pcg(K, y_train_one_hot, prc, reg=1e-3)\n",
    "%time X_test = linalg.computeRBFGramMatrix(X_test, X_train, gamma)\n",
    "\n",
    "y_test_hat = np.argmax(X_test.dot(model), axis=1)\n",
    "print(metrics.accuracy_score(y_test, y_test_hat))"
   ]
  },
  {
   "cell_type": "code",
   "execution_count": 473,
   "metadata": {
    "collapsed": false
   },
   "outputs": [
    {
     "name": "stdout",
     "output_type": "stream",
     "text": [
      "pywren.linalg/\n",
      "5f3a3155930c08f88b75e89f2ee09f20706f65d9\n",
      "0 0\n",
      "4096 0\n",
      "8192 0\n",
      "12288 0\n",
      "16384 0\n",
      "20480 0\n",
      "24576 0\n",
      "28672 0\n",
      "32768 0\n",
      "36864 0\n",
      "40960 0\n",
      "45056 0\n",
      "49152 0\n",
      "53248 0\n",
      "57344 0\n",
      "Matrix multiply\n",
      "15\n",
      "120\n",
      "Job submitted waiting now\n",
      "Done!\n",
      "Matrix multiply\n",
      "pywren.linalg/\n",
      "0ad16baeb7e78922a0a08025093e021293cc9388\n",
      "0 0\n",
      "4096 0\n",
      "8192 0\n",
      "12288 0\n",
      "16384 0\n",
      "20480 0\n",
      "24576 0\n",
      "28672 0\n",
      "32768 0\n",
      "36864 0\n",
      "40960 0\n",
      "45056 0\n",
      "49152 0\n",
      "53248 0\n",
      "57344 0\n",
      "15\n",
      "120\n",
      "Job submitted waiting now\n",
      "Done!\n",
      "0.515543597946\n",
      "Iter 0, NORM IS 197.32434201015923\n",
      "Matrix multiply\n",
      "pywren.linalg/\n",
      "c83aa0a5e29d94bc32fc3b4d2afa088030fcf098\n",
      "0 0\n",
      "4096 0\n",
      "8192 0\n",
      "12288 0\n",
      "16384 0\n",
      "20480 0\n",
      "24576 0\n",
      "28672 0\n",
      "32768 0\n",
      "36864 0\n",
      "40960 0\n",
      "45056 0\n",
      "49152 0\n",
      "53248 0\n",
      "57344 0\n",
      "15\n",
      "120\n",
      "Job submitted waiting now\n",
      "Done!\n",
      "0.290878719097\n",
      "Iter 1, NORM IS 176.49712131631156\n",
      "Matrix multiply\n",
      "pywren.linalg/\n",
      "3b4704d377067f397043240ba24eb4dd7d6ab948\n",
      "0 0\n",
      "4096 0\n",
      "8192 0\n",
      "12288 0\n",
      "16384 0\n",
      "20480 0\n",
      "24576 0\n",
      "28672 0\n",
      "32768 0\n",
      "36864 0\n",
      "40960 0\n",
      "45056 0\n",
      "49152 0\n",
      "53248 0\n",
      "57344 0\n",
      "15\n",
      "120\n",
      "Job submitted waiting now\n",
      "Done!\n",
      "0.230797451036\n",
      "Iter 2, NORM IS 159.93913885298787\n",
      "Matrix multiply\n",
      "pywren.linalg/\n",
      "cdd07370ecbc2f1e58d3eadacf511aaa9462fed3\n",
      "0 0\n",
      "4096 0\n",
      "8192 0\n",
      "12288 0\n",
      "16384 0\n",
      "20480 0\n",
      "24576 0\n",
      "28672 0\n",
      "32768 0\n",
      "36864 0\n",
      "40960 0\n",
      "45056 0\n",
      "49152 0\n",
      "53248 0\n",
      "57344 0\n",
      "15\n",
      "120\n",
      "Job submitted waiting now\n",
      "Done!\n",
      "0.174127972939\n",
      "Iter 3, NORM IS 128.6425502540883\n",
      "Matrix multiply\n",
      "pywren.linalg/\n",
      "61d2b88feb32580d144fe591315f165ac7581f23\n",
      "0 0\n",
      "4096 0\n",
      "8192 0\n",
      "12288 0\n",
      "16384 0\n",
      "20480 0\n",
      "24576 0\n",
      "28672 0\n",
      "32768 0\n",
      "36864 0\n",
      "40960 0\n",
      "45056 0\n",
      "49152 0\n",
      "53248 0\n",
      "57344 0\n",
      "15\n",
      "120\n",
      "Job submitted waiting now\n",
      "Done!\n",
      "0.241421961551\n",
      "Iter 4, NORM IS 84.64003539913668\n",
      "Matrix multiply\n",
      "pywren.linalg/\n",
      "6fd267cbb34444d2d879837e7fa4576c6e4a8206\n",
      "0 0\n",
      "4096 0\n",
      "8192 0\n",
      "12288 0\n",
      "16384 0\n",
      "20480 0\n",
      "24576 0\n",
      "28672 0\n",
      "32768 0\n",
      "36864 0\n",
      "40960 0\n",
      "45056 0\n",
      "49152 0\n",
      "53248 0\n",
      "57344 0\n",
      "15\n",
      "120\n",
      "Job submitted waiting now\n",
      "Done!\n",
      "0.264665063173\n",
      "Iter 5, NORM IS 52.73065460404219\n",
      "Matrix multiply\n",
      "pywren.linalg/\n",
      "2376bbad56faee482270911c0eafded85db8e28c\n",
      "0 0\n",
      "4096 0\n",
      "8192 0\n",
      "12288 0\n",
      "16384 0\n",
      "20480 0\n",
      "24576 0\n",
      "28672 0\n",
      "32768 0\n",
      "36864 0\n",
      "40960 0\n",
      "45056 0\n",
      "49152 0\n",
      "53248 0\n",
      "57344 0\n",
      "15\n",
      "120\n",
      "Job submitted waiting now\n",
      "Done!\n",
      "0.237339270577\n",
      "Iter 6, NORM IS 33.3290051121102\n",
      "CPU times: user 5min 37s, sys: 11 s, total: 5min 48s\n",
      "Wall time: 3min 54s\n",
      "CPU times: user 1min 13s, sys: 18.5 s, total: 1min 32s\n",
      "Wall time: 11.5 s\n",
      "0.9808\n"
     ]
    }
   ],
   "source": [
    "%time model_pywren = pcg_pywren(K_sharded, y_train_one_hot, pwex, prc)\n",
    "%time X_test = linalg.computeRBFGramMatrix(X_test, X_train, gamma)\n",
    "\n",
    "y_test_hat_pywren = np.argmax(X_test.dot(model_pywren), axis=1)\n",
    "print(metrics.accuracy_score(y_test, y_test_hat_pywren))"
   ]
  },
  {
   "cell_type": "code",
   "execution_count": 434,
   "metadata": {
    "collapsed": false
   },
   "outputs": [
    {
     "data": {
      "text/plain": [
       "array([ 0.,  0.,  0., ...,  9.,  9.,  9.], dtype=float32)"
      ]
     },
     "execution_count": 434,
     "metadata": {},
     "output_type": "execute_result"
    }
   ],
   "source": [
    "y_test"
   ]
  },
  {
   "cell_type": "code",
   "execution_count": 440,
   "metadata": {
    "collapsed": false
   },
   "outputs": [
    {
     "data": {
      "text/plain": [
       "array([0, 0, 0, ..., 9, 9, 9])"
      ]
     },
     "execution_count": 440,
     "metadata": {},
     "output_type": "execute_result"
    }
   ],
   "source": [
    "np.argmax(X_test.dot(model), axis=1)"
   ]
  },
  {
   "cell_type": "code",
   "execution_count": 446,
   "metadata": {
    "collapsed": false
   },
   "outputs": [
    {
     "data": {
      "text/plain": [
       "(10000, 784)"
      ]
     },
     "execution_count": 446,
     "metadata": {},
     "output_type": "execute_result"
    }
   ],
   "source": [
    "X_test.shape"
   ]
  },
  {
   "cell_type": "code",
   "execution_count": 452,
   "metadata": {
    "collapsed": false
   },
   "outputs": [
    {
     "data": {
      "text/plain": [
       "0.001"
      ]
     },
     "execution_count": 452,
     "metadata": {},
     "output_type": "execute_result"
    }
   ],
   "source": [
    "K_sharded.diag_offset"
   ]
  },
  {
   "cell_type": "code",
   "execution_count": 462,
   "metadata": {
    "collapsed": false
   },
   "outputs": [
    {
     "data": {
      "text/plain": [
       "0.001"
      ]
     },
     "execution_count": 462,
     "metadata": {},
     "output_type": "execute_result"
    }
   ],
   "source": [
    "K_sharded.diag_offset"
   ]
  },
  {
   "cell_type": "code",
   "execution_count": null,
   "metadata": {
    "collapsed": true
   },
   "outputs": [],
   "source": []
  }
 ],
 "metadata": {
  "kernelspec": {
   "display_name": "Python 3",
   "language": "python",
   "name": "python3"
  },
  "language_info": {
   "codemirror_mode": {
    "name": "ipython",
    "version": 3
   },
   "file_extension": ".py",
   "mimetype": "text/x-python",
   "name": "python",
   "nbconvert_exporter": "python",
   "pygments_lexer": "ipython3",
   "version": "3.6.0"
  }
 },
 "nbformat": 4,
 "nbformat_minor": 0
}
