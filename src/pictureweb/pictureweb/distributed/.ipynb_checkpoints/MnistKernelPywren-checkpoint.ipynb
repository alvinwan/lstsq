{
 "cells": [
  {
   "cell_type": "code",
   "execution_count": 5,
   "metadata": {
    "collapsed": false
   },
   "outputs": [],
   "source": [
    "import pywren\n",
    "import numpy as np\n",
    "import scipy.linalg as linalg\n",
    "import boto3\n",
    "import io\n",
    "import itertools\n",
    "from numba import jit\n",
    "import math\n",
    "import time\n",
    "from sklearn.kernel_approximation import RBFSampler"
   ]
  },
  {
   "cell_type": "code",
   "execution_count": 6,
   "metadata": {
    "collapsed": true
   },
   "outputs": [],
   "source": [
    "pwex = pywren.default_executor()"
   ]
  },
  {
   "cell_type": "code",
   "execution_count": null,
   "metadata": {
    "collapsed": true
   },
   "outputs": [],
   "source": [
    "BUCKET = \"imagenet-raw\"\n",
    "BLOCK_PATH_ROOT = \"fc7-blocked/\"\n",
    "KERNEL_BLOCK_PATH_ROOT = \"fc7-kernel-blocked/\"\n",
    "KEY_TEMPLATE = BLOCK_PATH_ROOT + \"imagenet_features_alexnet_fc7_blocked_{0}_{1}.npz\"\n",
    "OUT_KEY_TEMPLATE = KERNEL_BLOCK_PATH_ROOT + \"fc7_kernel_block_size_{0}_gamma_{1}_block_{2}_{3}_{4}_{5}\"\n",
    "\n",
    "BLOCK_SIZE = 4096\n",
    "NUM_EXAMPLES = 1281167\n",
    "NUM_BLOCKS = int(math.ceil(1281167.0/BLOCK_SIZE))\n"
   ]
  },
  {
   "cell_type": "code",
   "execution_count": null,
   "metadata": {
    "collapsed": false
   },
   "outputs": [],
   "source": [
    "@jit\n",
    "def fast_exp(K):\n",
    "    for i in range(K.shape[0]):\n",
    "        for j in range(K.shape[1]):\n",
    "            K[i,j] = math.exp(K[i,j])\n",
    "    return K\n",
    "\n",
    "def chunk(l, n):\n",
    "    \"\"\"Yield successive n-sized chunks from l.\"\"\"\n",
    "    for i in range(0, len(l), n):\n",
    "        yield l[i:i + n]\n",
    "\n",
    "\n",
    "def computeDistanceMatrix(XTest, XTrain):\n",
    "    XTrain = XTrain.reshape(XTrain.shape[0], -1)\n",
    "    XTest = XTest.reshape(XTest.shape[0], -1)\n",
    "    XTrain_norms = (np.linalg.norm(XTrain, axis=1) ** 2)[:, np.newaxis]\n",
    "    XTest_norms = (np.linalg.norm(XTest, axis=1) ** 2)[:, np.newaxis]\n",
    "    K = XTest.dot(XTrain.T)\n",
    "    K *= -2\n",
    "    K += XTrain_norms.T\n",
    "    K += XTest_norms\n",
    "    return K\n",
    "\n",
    "def computeRBFGramMatrix(XTest, XTrain, gamma=1):\n",
    "    gamma = -1.0 * gamma\n",
    "    return fast_exp(gamma*computeDistanceMatrix(XTest, XTrain))\n",
    "\n",
    "def compute_kernel_blocks(block_pairs, bucket=BUCKET, block_size=4096, gamma=1e-5, num_examples=1281167):\n",
    "    times = np.zeros(4)\n",
    "    for bp in block_pairs:\n",
    "        times += compute_kernel_block(bp, bucket, block_size, gamma, num_examples)\n",
    "        \n",
    "    times /= float(len(block_pairs))\n",
    "    return times\n",
    "\n",
    "def compute_kernel_block(block_nums, bucket=BUCKET, block_size=4096, gamma=1e-5, num_examples=1281167):\n",
    "    ''' Compute a kernel block when design matrix is sharded on s3 '''\n",
    "    start = time.time()\n",
    "    block_num_1, block_num_2 = block_nums[0], block_nums[1]\n",
    "    # blocks are symmetric so only generate lower half\n",
    "    block_num_1, block_num_2 = min(block_num_1, block_num_2), max(block_num_1, block_num_2)\n",
    "    block_1_key = block_num_to_shard_key(block_num_1, block_size, num_examples)\n",
    "    block_2_key = block_num_to_shard_key(block_num_2, block_size, num_examples)\n",
    "    meta_time = time.time() - start\n",
    "    \n",
    "    start = time.time()\n",
    "    block1 = np.load(s3_key_to_byte_io(bucket, block_1_key))[\"X_train\"]\n",
    "    block2 = np.load(s3_key_to_byte_io(bucket, block_2_key))[\"X_train\"]\n",
    "    download_time = time.time() - start\n",
    "    \n",
    "    start = time.time() \n",
    "    K = computeRBFGramMatrix(block1, block2, gamma=gamma)\n",
    "    kernel_time  = time.time() - start\n",
    "    \n",
    "    start = time.time()\n",
    "    out_key = block_num_to_output_shard_key(block_num_1, block_num_2, block_size, gamma, num_examples)\n",
    "    save_matrix_to_s3(K, bucket, out_key)\n",
    "    upload_time = time.time() - start\n",
    "    return np.array([meta_time, download_time, kernel_time, upload_time])\n",
    "    \n",
    "def s3_key_to_byte_io(bucket, key):\n",
    "     client = boto3.client('s3')\n",
    "     return io.BytesIO(client.get_object(Bucket=bucket, Key=key)['Body'].read())\n",
    "\n",
    "def block_num_to_shard_key(block_num, block_size, num_examples, key_template=KEY_TEMPLATE):\n",
    "    block_start = block_size*block_num\n",
    "    block_end = min(block_size*(block_num+1), num_examples)\n",
    "    key = key_template.format(block_start, block_end)\n",
    "    return key \n",
    "\n",
    "def block_num_to_output_shard_key(block_num_1, block_num_2, block_size, gamma, num_examples, key_template=OUT_KEY_TEMPLATE):\n",
    "    block_start_idx_1 = block_size*block_num_1\n",
    "    block_end_idx_1 = min(block_size*(block_num_1+1), num_examples)\n",
    "    block_start_idx_2 = block_size*block_num_2\n",
    "    block_end_idx_2 = min(block_size*(block_num_2+1), num_examples)\n",
    "    return OUT_KEY_TEMPLATE.format(block_size, \n",
    "                                   gamma, \n",
    "                                   block_start_idx_1, \n",
    "                                   block_end_idx_1, \n",
    "                                   block_start_idx_2, \n",
    "                                   block_end_idx_2)\n",
    "\n",
    "def save_matrix_to_s3(K, bucket, out_key):\n",
    "     client = boto3.client('s3')\n",
    "     outb = io.BytesIO()\n",
    "     np.save(outb, K)\n",
    "     response = client.put_object(Key=out_key, Bucket=bucket, Body=outb.getvalue())\n",
    "     return response\n",
    "    \n",
    "def generate_chunked_block_pairs(num_blocks, inner_chunk_size=10, outer_chunk_size=1000):\n",
    "    all_pairs = list(itertools.product(range(NUM_BLOCKS), range(NUM_BLOCKS)))\n",
    "    sorted_pairs = map(lambda x: tuple(sorted(x)), all_pairs)\n",
    "    dedup_sorted_pairs = list(set(sorted_pairs))\n",
    "    print len(dedup_sorted_pairs)\n",
    "    return list(chunk(list(chunk(dedup_sorted_pairs, inner_chunk_size)), outer_chunk_size))"
   ]
  },
  {
   "cell_type": "code",
   "execution_count": null,
   "metadata": {
    "collapsed": false
   },
   "outputs": [],
   "source": [
    "chunked_blocks = generate_chunked_block_pairs(NUM_BLOCKS, 4, 500)"
   ]
  },
  {
   "cell_type": "code",
   "execution_count": null,
   "metadata": {
    "collapsed": false
   },
   "outputs": [
    {
     "name": "stdout",
     "output_type": "stream",
     "text": [
      "CPU times: user 18.7 s, sys: 1.35 s, total: 20.1 s\n",
      "Wall time: 13.7 s\n",
      "CPU times: user 30.4 s, sys: 3.69 s, total: 34.1 s\n",
      "Wall time: 6min 53s\n",
      "CPU times: user 15.6 s, sys: 1.02 s, total: 16.6 s\n",
      "Wall time: 11.8 s\n",
      "CPU times: user 21 s, sys: 2.57 s, total: 23.6 s\n",
      "Wall time: 3min 10s\n",
      "CPU times: user 18.7 s, sys: 1.33 s, total: 20 s\n",
      "Wall time: 13.3 s\n",
      "CPU times: user 13 s, sys: 1.84 s, total: 14.8 s\n",
      "Wall time: 1min 1s\n",
      "CPU times: user 17.1 s, sys: 1.2 s, total: 18.3 s\n",
      "Wall time: 11.9 s\n",
      "CPU times: user 13.6 s, sys: 1.9 s, total: 15.5 s\n",
      "Wall time: 1min 14s\n",
      "CPU times: user 16.3 s, sys: 1.2 s, total: 17.5 s\n",
      "Wall time: 11.2 s\n",
      "CPU times: user 14.7 s, sys: 2.06 s, total: 16.8 s\n",
      "Wall time: 1min 14s\n",
      "CPU times: user 16.7 s, sys: 1.22 s, total: 17.9 s\n",
      "Wall time: 12 s\n",
      "CPU times: user 13.7 s, sys: 1.91 s, total: 15.6 s\n",
      "Wall time: 1min 7s\n"
     ]
    }
   ],
   "source": [
    "all_futures = [] \n",
    "all_times = []\n",
    "gamma = 1e-3\n",
    "for c in chunked_blocks:\n",
    "    t = time.time()\n",
    "    %time kernel_futures = pwex.map(lambda x: compute_kernel_blocks(x, gamma=gamma), c)\n",
    "    %time pywren.wait(kernel_futures)\n",
    "    all_futures.extend(kernel_futures)\n",
    "    all_times.append(time.time() - t)\n",
    "\n",
    "     "
   ]
  },
  {
   "cell_type": "code",
   "execution_count": 267,
   "metadata": {
    "collapsed": false
   },
   "outputs": [
    {
     "data": {
      "text/plain": [
       "12286"
      ]
     },
     "execution_count": 267,
     "metadata": {},
     "output_type": "execute_result"
    }
   ],
   "source": [
    "len(all_futures)"
   ]
  }
 ],
 "metadata": {
  "kernelspec": {
   "display_name": "Python [Root]",
   "language": "python",
   "name": "Python [Root]"
  },
  "language_info": {
   "codemirror_mode": {
    "name": "ipython",
    "version": 2
   },
   "file_extension": ".py",
   "mimetype": "text/x-python",
   "name": "python",
   "nbconvert_exporter": "python",
   "pygments_lexer": "ipython2",
   "version": "2.7.12"
  }
 },
 "nbformat": 4,
 "nbformat_minor": 2
}
