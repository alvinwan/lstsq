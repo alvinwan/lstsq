{
 "cells": [
  {
   "cell_type": "code",
   "execution_count": 1,
   "metadata": {
    "collapsed": false
   },
   "outputs": [
    {
     "name": "stdout",
     "output_type": "stream",
     "text": [
      "Populating the interactive namespace from numpy and matplotlib\n"
     ]
    }
   ],
   "source": [
    "%pylab inline\n",
    "import dsift\n",
    "import sys\n",
    "sys.path.insert(0, \"/home/ubuntu/pictureweb/notebooks/\")\n",
    "from pictureweb.distributed import sharded_matrix \n",
    "from pictureweb.distributed import distributed as D \n",
    "from importlib import reload\n",
    "reload(sharded_matrix)\n",
    "import pywren\n",
    "import cv2\n",
    "import numpy as np\n",
    "from sklearn.mixture import GaussianMixture\n"
   ]
  },
  {
   "cell_type": "code",
   "execution_count": 9,
   "metadata": {
    "collapsed": false
   },
   "outputs": [
    {
     "ename": "ModuleNotFoundError",
     "evalue": "No module named 'pyvl'",
     "output_type": "error",
     "traceback": [
      "\u001b[0;31m---------------------------------------------------------------------------\u001b[0m",
      "\u001b[0;31mModuleNotFoundError\u001b[0m                       Traceback (most recent call last)",
      "\u001b[0;32m<ipython-input-9-052b51b0c111>\u001b[0m in \u001b[0;36m<module>\u001b[0;34m()\u001b[0m\n\u001b[0;32m----> 1\u001b[0;31m \u001b[0;32mimport\u001b[0m \u001b[0mpyvl\u001b[0m\u001b[0;34m\u001b[0m\u001b[0m\n\u001b[0m",
      "\u001b[0;31mModuleNotFoundError\u001b[0m: No module named 'pyvl'"
     ]
    }
   ],
   "source": []
  },
  {
   "cell_type": "code",
   "execution_count": 2,
   "metadata": {
    "collapsed": false
   },
   "outputs": [],
   "source": [
    "def fisher_vector(xx, gmm):\n",
    "    \"\"\"Computes the Fisher vector on a set of descriptors.\n",
    "\n",
    "    Parameters\n",
    "    ----------\n",
    "    xx: array_like, shape (N, D) or (D, )\n",
    "        The set of descriptors\n",
    "\n",
    "    gmm: instance of sklearn mixture.GMM object\n",
    "        Gauassian mixture model of the descriptors.\n",
    "\n",
    "    Returns\n",
    "    -------\n",
    "    fv: array_like, shape (K + 2 * D * K, )\n",
    "        Fisher vector (derivatives with respect to the mixing weights, means\n",
    "        and variances) of the given descriptors.\n",
    "\n",
    "    Reference\n",
    "    ---------\n",
    "    J. Krapac, J. Verbeek, F. Jurie.  Modeling Spatial Layout with Fisher\n",
    "    Vectors for Image Categorization.  In ICCV, 2011.\n",
    "    http://hal.inria.fr/docs/00/61/94/03/PDF/final.r1.pdf\n",
    "\n",
    "    \"\"\"\n",
    "    import time\n",
    "    s = time.time()\n",
    "    xx = np.atleast_2d(xx)\n",
    "    N = xx.shape[0]\n",
    "\n",
    "    # Compute posterior probabilities.\n",
    "    Q = gmm.predict_proba(xx)  # NxK\n",
    "\n",
    "    # Compute the sufficient statistics of descriptors.\n",
    "    Q_sum = np.sum(Q, 0)[:, np.newaxis] / N\n",
    "    Q_xx = np.dot(Q.T, xx) / N\n",
    "    Q_xx_2 = np.dot(Q.T, xx ** 2) / N\n",
    "\n",
    "    # Compute derivatives with respect to mixing weights, means and variances.\n",
    "    d_pi = Q_sum.squeeze() - gmm.weights_\n",
    "    d_mu = Q_xx - Q_sum * gmm.means_\n",
    "    d_sigma = (\n",
    "        - Q_xx_2\n",
    "        - Q_sum * gmm.means_ ** 2\n",
    "        + Q_sum * gmm.covariances_\n",
    "        + 2 * Q_xx * gmm.means_)\n",
    "\n",
    "    # Merge derivatives into a vector.\n",
    "    e = time.time()\n",
    "    return np.hstack((d_pi, d_mu.flatten(), d_sigma.flatten())), e - s\n",
    "\n"
   ]
  },
  {
   "cell_type": "code",
   "execution_count": 3,
   "metadata": {
    "collapsed": false
   },
   "outputs": [
    {
     "name": "stdout",
     "output_type": "stream",
     "text": [
      "CPU times: user 116 ms, sys: 4 ms, total: 120 ms\n",
      "Wall time: 244 ms\n"
     ]
    }
   ],
   "source": [
    "%time X_train_sharded = sharded_matrix.ShardedMatrix(\"imagenet_train_raw_uint8_row_shards\", bucket=\"pictureweb\")"
   ]
  },
  {
   "cell_type": "code",
   "execution_count": 35,
   "metadata": {
    "collapsed": true
   },
   "outputs": [],
   "source": [
    "import boto3"
   ]
  },
  {
   "cell_type": "code",
   "execution_count": null,
   "metadata": {
    "collapsed": true
   },
   "outputs": [],
   "source": []
  },
  {
   "cell_type": "code",
   "execution_count": 15,
   "metadata": {
    "collapsed": false
   },
   "outputs": [
    {
     "data": {
      "text/plain": [
       "(1281167, 196608)"
      ]
     },
     "execution_count": 15,
     "metadata": {},
     "output_type": "execute_result"
    }
   ],
   "source": [
    "X_train_sharded.shape"
   ]
  },
  {
   "cell_type": "code",
   "execution_count": 5,
   "metadata": {
    "collapsed": false
   },
   "outputs": [
    {
     "name": "stdout",
     "output_type": "stream",
     "text": [
      "[0]\n",
      "0\n",
      "ARGMAX 0\n",
      "MMAP SHAPE IS  (64, 196608)\n",
      "CPU times: user 136 ms, sys: 404 ms, total: 540 ms\n",
      "Wall time: 1.02 s\n"
     ]
    }
   ],
   "source": [
    "%time row_block = D.get_row_block(X_train_sharded, row_blocks=[0], dtype=\"uint8\")"
   ]
  },
  {
   "cell_type": "code",
   "execution_count": 6,
   "metadata": {
    "collapsed": false
   },
   "outputs": [],
   "source": [
    "row_images = row_block.reshape(-1, 3, 256, 256).transpose(0,3,2,1)"
   ]
  },
  {
   "cell_type": "code",
   "execution_count": 7,
   "metadata": {
    "collapsed": false
   },
   "outputs": [
    {
     "data": {
      "text/plain": [
       "<matplotlib.image.AxesImage at 0x7fafd70930f0>"
      ]
     },
     "execution_count": 7,
     "metadata": {},
     "output_type": "execute_result"
    },
    {
     "data": {
      "image/png": "[encoded data removed]",
      "text/plain": [
       "<matplotlib.figure.Figure at 0x7fafd733c7b8>"
      ]
     },
     "metadata": {},
     "output_type": "display_data"
    }
   ],
   "source": [
    "imshow(row_images[0])"
   ]
  },
  {
   "cell_type": "code",
   "execution_count": 8,
   "metadata": {
    "collapsed": false
   },
   "outputs": [],
   "source": [
    "reload(dsift)\n",
    "num_scales = 5"
   ]
  },
  {
   "cell_type": "code",
   "execution_count": 13,
   "metadata": {
    "collapsed": false
   },
   "outputs": [],
   "source": [
    "def dense_sift_multiscale(im, num_scales=5):\n",
    "    im = im.reshape(256, 256, 3)\n",
    "    sigma_edge = 0.8\n",
    "    features = []\n",
    "    positions = []\n",
    "    for i in range(num_scales):\n",
    "        sift = dsift.DsiftExtractor(4,24, sigma_edge=(sigma_edge+i))\n",
    "        result = sift.process_image(im, positionNormalize=False)\n",
    "        features.append(result[0])\n",
    "        positions.append(result[1])\n",
    "    return np.vstack(features)\n",
    "\n",
    "def pywren_dense_sift_multiscale(sm, block, num_scales=5, sample=0):\n",
    "    import random\n",
    "    row_block = sm.get_block(block, 0)\n",
    "    row_images = row_block.reshape(-1, 3, 256, 256).transpose(0,3,2,1)\n",
    "    features = []\n",
    "    for im in row_images:\n",
    "        sifts = dense_sift_multiscale(im, num_scales)\n",
    "        num_samples_per_image = max(int(sifts.shape[0]*np.sqrt(sample)), 1)\n",
    "        \n",
    "        idxs_sifts = np.random.choice(sifts.shape[0], num_samples_per_image, replace=False)\n",
    "        features.append(sifts[idxs_sifts])\n",
    "    features = np.vstack(features)\n",
    "    num_samples_per_batch = int(features.shape[0]*np.sqrt(sample))\n",
    "    idxs = np.random.choice(features.shape[0], num_samples_per_batch, replace=False)\n",
    "    return features[idxs]\n",
    "\n",
    "def fisher_vector_sift(gmm, im, num_scales=5):\n",
    "    sifts = dense_sift_multiscale(im, num_scales=num_scales)\n",
    "    fv = fisher_vector(sifts, gmm)[0]\n",
    "    return fv\n",
    "\n",
    "def pywren_fisher_vector_sift(sm, gmm, block, num_scales=5):\n",
    "    row_block = sm.get_block(block, 0)\n",
    "    row_images = row_block.reshape(-1, 3, 256, 256).transpose(0,3,2,1)\n",
    "    features = []\n",
    "    for im in row_images:\n",
    "        features.append(fisher_vector_sift(gmm, im, num_scales=num_scales))\n",
    "    return np.vstack(features)"
   ]
  },
  {
   "cell_type": "code",
   "execution_count": 16,
   "metadata": {
    "collapsed": false
   },
   "outputs": [
    {
     "name": "stdout",
     "output_type": "stream",
     "text": [
      "Image: w 256, h 256, gs 4, ps 24, nFea 3481\n",
      "Image: w 256, h 256, gs 4, ps 24, nFea 3481\n",
      "Image: w 256, h 256, gs 4, ps 24, nFea 3481\n",
      "Image: w 256, h 256, gs 4, ps 24, nFea 3481\n",
      "Image: w 256, h 256, gs 4, ps 24, nFea 3481\n",
      "CPU times: user 3.22 s, sys: 172 ms, total: 3.39 s\n",
      "Wall time: 1.98 s\n"
     ]
    },
    {
     "data": {
      "text/plain": [
       "array([  1.62874704e-03,  -2.39517779e-02,  -4.64062407e-03, ...,\n",
       "         2.77461545e-05,  -6.99362135e-06,  -3.15069185e-05])"
      ]
     },
     "execution_count": 16,
     "metadata": {},
     "output_type": "execute_result"
    }
   ],
   "source": [
    "%time fisher_vector_sift(gmm, row_images[0])"
   ]
  },
  {
   "cell_type": "code",
   "execution_count": 17,
   "metadata": {
    "collapsed": true
   },
   "outputs": [],
   "source": [
    "pwex = pywren.default_executor(job_max_runtime=2000)"
   ]
  },
  {
   "cell_type": "code",
   "execution_count": 37,
   "metadata": {
    "collapsed": false
   },
   "outputs": [
    {
     "data": {
      "text/plain": [
       "True"
      ]
     },
     "execution_count": 37,
     "metadata": {},
     "output_type": "execute_result"
    }
   ],
   "source": [
    "sorted(X_train_sharded._block_idxs(0)) == X_train_sharded._block_idxs(0)"
   ]
  },
  {
   "cell_type": "code",
   "execution_count": 28,
   "metadata": {
    "collapsed": false
   },
   "outputs": [
    {
     "name": "stdout",
     "output_type": "stream",
     "text": [
      "CPU times: user 8min 34s, sys: 25.2 s, total: 8min 59s\n",
      "Wall time: 3min 5s\n"
     ]
    }
   ],
   "source": [
    "%time feature_futures = pwex.map(lambda x: pywren_fisher_vector_sift(X_train_sharded, gmm, x), X_train_sharded._block_idxs(0), exclude_modules=[\"site-packages\"])\n",
    "\n"
   ]
  },
  {
   "cell_type": "code",
   "execution_count": 29,
   "metadata": {
    "collapsed": false
   },
   "outputs": [
    {
     "name": "stdout",
     "output_type": "stream",
     "text": [
      "CPU times: user 41min 37s, sys: 3min 23s, total: 45min 1s\n",
      "Wall time: 27min 20s\n"
     ]
    },
    {
     "data": {
      "text/plain": [
       "([<pywren.future.ResponseFuture at 0x7faed845ef60>,\n",
       "  <pywren.future.ResponseFuture at 0x7fae1899b160>,\n",
       "  <pywren.future.ResponseFuture at 0x7fae1978d6a0>,\n",
       "  <pywren.future.ResponseFuture at 0x7faef8789940>,\n",
       "  <pywren.future.ResponseFuture at 0x7fae784b9f28>,\n",
       "  <pywren.future.ResponseFuture at 0x7fae18cad0b8>,\n",
       "  <pywren.future.ResponseFuture at 0x7faf18087a90>,\n",
       "  <pywren.future.ResponseFuture at 0x7fae185be470>,\n",
       "  <pywren.future.ResponseFuture at 0x7fae185be6a0>,\n",
       "  <pywren.future.ResponseFuture at 0x7fae3833d470>,\n",
       "  <pywren.future.ResponseFuture at 0x7faf3805eb00>,\n",
       "  <pywren.future.ResponseFuture at 0x7faef805e6a0>,\n",
       "  <pywren.future.ResponseFuture at 0x7faef8789240>,\n",
       "  <pywren.future.ResponseFuture at 0x7faed87c53c8>,\n",
       "  <pywren.future.ResponseFuture at 0x7fae182e8358>,\n",
       "  <pywren.future.ResponseFuture at 0x7faf18216d68>,\n",
       "  <pywren.future.ResponseFuture at 0x7faef8789198>,\n",
       "  <pywren.future.ResponseFuture at 0x7fae78757cc0>,\n",
       "  <pywren.future.ResponseFuture at 0x7fae195c7828>,\n",
       "  <pywren.future.ResponseFuture at 0x7fae980ebe48>,\n",
       "  <pywren.future.ResponseFuture at 0x7fae584fbe48>,\n",
       "  <pywren.future.ResponseFuture at 0x7fae3833de10>,\n",
       "  <pywren.future.ResponseFuture at 0x7fae3874bb38>,\n",
       "  <pywren.future.ResponseFuture at 0x7fae195eb588>,\n",
       "  <pywren.future.ResponseFuture at 0x7fae58225e80>,\n",
       "  <pywren.future.ResponseFuture at 0x7faeb81fab70>,\n",
       "  <pywren.future.ResponseFuture at 0x7fae1899b7b8>,\n",
       "  <pywren.future.ResponseFuture at 0x7fae782ef828>,\n",
       "  <pywren.future.ResponseFuture at 0x7fae195b3048>,\n",
       "  <pywren.future.ResponseFuture at 0x7faed80e4898>,\n",
       "  <pywren.future.ResponseFuture at 0x7faf185b3c50>,\n",
       "  <pywren.future.ResponseFuture at 0x7fae58225f28>,\n",
       "  <pywren.future.ResponseFuture at 0x7fae3824fb38>,\n",
       "  <pywren.future.ResponseFuture at 0x7fae583e0358>,\n",
       "  <pywren.future.ResponseFuture at 0x7fae18cad4a8>,\n",
       "  <pywren.future.ResponseFuture at 0x7fae195eb240>,\n",
       "  <pywren.future.ResponseFuture at 0x7faf18080908>,\n",
       "  <pywren.future.ResponseFuture at 0x7faf18087518>,\n",
       "  <pywren.future.ResponseFuture at 0x7fae185bed68>,\n",
       "  <pywren.future.ResponseFuture at 0x7fab0bf5d358>,\n",
       "  <pywren.future.ResponseFuture at 0x7fafe6620eb8>,\n",
       "  <pywren.future.ResponseFuture at 0x7fae18cad0f0>,\n",
       "  <pywren.future.ResponseFuture at 0x7fafe65f8828>,\n",
       "  <pywren.future.ResponseFuture at 0x7fae583fda90>,\n",
       "  <pywren.future.ResponseFuture at 0x7faef8619ac8>,\n",
       "  <pywren.future.ResponseFuture at 0x7faf385ba358>,\n",
       "  <pywren.future.ResponseFuture at 0x7faef8155240>,\n",
       "  <pywren.future.ResponseFuture at 0x7fae19e9d710>,\n",
       "  <pywren.future.ResponseFuture at 0x7fae7831c0f0>,\n",
       "  <pywren.future.ResponseFuture at 0x7fae9809c438>,\n",
       "  <pywren.future.ResponseFuture at 0x7fae7877b390>,\n",
       "  <pywren.future.ResponseFuture at 0x7fae1899beb8>,\n",
       "  <pywren.future.ResponseFuture at 0x7fae1978d8d0>,\n",
       "  <pywren.future.ResponseFuture at 0x7fae18b99828>,\n",
       "  <pywren.future.ResponseFuture at 0x7fafe6620400>,\n",
       "  <pywren.future.ResponseFuture at 0x7fae18cadf98>,\n",
       "  <pywren.future.ResponseFuture at 0x7fae18cadcf8>,\n",
       "  <pywren.future.ResponseFuture at 0x7fae18cad828>,\n",
       "  <pywren.future.ResponseFuture at 0x7fae781c9470>,\n",
       "  <pywren.future.ResponseFuture at 0x7faed8154470>,\n",
       "  <pywren.future.ResponseFuture at 0x7fae195eb0b8>,\n",
       "  <pywren.future.ResponseFuture at 0x7faf183f80f0>,\n",
       "  <pywren.future.ResponseFuture at 0x7fae580c26d8>,\n",
       "  <pywren.future.ResponseFuture at 0x7fae3812a320>,\n",
       "  <pywren.future.ResponseFuture at 0x7fae182e82b0>,\n",
       "  <pywren.future.ResponseFuture at 0x7fafe65f6b00>,\n",
       "  <pywren.future.ResponseFuture at 0x7fae1895bf98>,\n",
       "  <pywren.future.ResponseFuture at 0x7fae182e8b70>,\n",
       "  <pywren.future.ResponseFuture at 0x7fae182e8278>,\n",
       "  <pywren.future.ResponseFuture at 0x7fae198d4c88>,\n",
       "  <pywren.future.ResponseFuture at 0x7fae1895ba90>,\n",
       "  <pywren.future.ResponseFuture at 0x7fae1895ba20>,\n",
       "  <pywren.future.ResponseFuture at 0x7fae1899b898>,\n",
       "  <pywren.future.ResponseFuture at 0x7fae385126a0>,\n",
       "  <pywren.future.ResponseFuture at 0x7fae184d2588>,\n",
       "  <pywren.future.ResponseFuture at 0x7faf3835a898>,\n",
       "  <pywren.future.ResponseFuture at 0x7fab0bf5d278>,\n",
       "  <pywren.future.ResponseFuture at 0x7fae7877b4a8>,\n",
       "  <pywren.future.ResponseFuture at 0x7fae198d4198>,\n",
       "  <pywren.future.ResponseFuture at 0x7fae19247358>,\n",
       "  <pywren.future.ResponseFuture at 0x7fae38748a58>,\n",
       "  <pywren.future.ResponseFuture at 0x7fae184d2748>,\n",
       "  <pywren.future.ResponseFuture at 0x7fae1821a0b8>,\n",
       "  <pywren.future.ResponseFuture at 0x7fae78752240>,\n",
       "  <pywren.future.ResponseFuture at 0x7fae18b99e10>,\n",
       "  <pywren.future.ResponseFuture at 0x7fae583e0c18>,\n",
       "  <pywren.future.ResponseFuture at 0x7fae580c2b38>,\n",
       "  <pywren.future.ResponseFuture at 0x7fae1899b908>,\n",
       "  <pywren.future.ResponseFuture at 0x7fae58454048>,\n",
       "  <pywren.future.ResponseFuture at 0x7fae78213240>,\n",
       "  <pywren.future.ResponseFuture at 0x7fae1899b780>,\n",
       "  <pywren.future.ResponseFuture at 0x7fae385edf28>,\n",
       "  <pywren.future.ResponseFuture at 0x7fae583fd780>,\n",
       "  <pywren.future.ResponseFuture at 0x7fae38526748>,\n",
       "  <pywren.future.ResponseFuture at 0x7fae18f554a8>,\n",
       "  <pywren.future.ResponseFuture at 0x7fae18b998d0>,\n",
       "  <pywren.future.ResponseFuture at 0x7fae1821a588>,\n",
       "  <pywren.future.ResponseFuture at 0x7fae38512ef0>,\n",
       "  <pywren.future.ResponseFuture at 0x7faed82cdd68>,\n",
       "  <pywren.future.ResponseFuture at 0x7faf18080128>,\n",
       "  <pywren.future.ResponseFuture at 0x7fae182e8048>,\n",
       "  <pywren.future.ResponseFuture at 0x7faed82cd048>,\n",
       "  <pywren.future.ResponseFuture at 0x7fab0bf5d438>,\n",
       "  <pywren.future.ResponseFuture at 0x7fafe6547cf8>,\n",
       "  <pywren.future.ResponseFuture at 0x7faf185c9080>,\n",
       "  <pywren.future.ResponseFuture at 0x7fae784b9cc0>,\n",
       "  <pywren.future.ResponseFuture at 0x7fae1994af60>,\n",
       "  <pywren.future.ResponseFuture at 0x7fae186f1828>,\n",
       "  <pywren.future.ResponseFuture at 0x7fae195eb710>,\n",
       "  <pywren.future.ResponseFuture at 0x7fae3824f2e8>,\n",
       "  <pywren.future.ResponseFuture at 0x7fae1895b940>,\n",
       "  <pywren.future.ResponseFuture at 0x7fae184d2a90>,\n",
       "  <pywren.future.ResponseFuture at 0x7fae1899bdd8>,\n",
       "  <pywren.future.ResponseFuture at 0x7fafe6620780>,\n",
       "  <pywren.future.ResponseFuture at 0x7fae385ed978>,\n",
       "  <pywren.future.ResponseFuture at 0x7fae583e0a90>,\n",
       "  <pywren.future.ResponseFuture at 0x7fae1895b080>,\n",
       "  <pywren.future.ResponseFuture at 0x7fae58454160>,\n",
       "  <pywren.future.ResponseFuture at 0x7fae38512cc0>,\n",
       "  <pywren.future.ResponseFuture at 0x7fae19914e48>,\n",
       "  <pywren.future.ResponseFuture at 0x7fae78213a20>,\n",
       "  <pywren.future.ResponseFuture at 0x7fae580c2208>,\n",
       "  <pywren.future.ResponseFuture at 0x7fae181c3710>,\n",
       "  <pywren.future.ResponseFuture at 0x7fae1821a7b8>,\n",
       "  <pywren.future.ResponseFuture at 0x7fae78213eb8>,\n",
       "  <pywren.future.ResponseFuture at 0x7fae186f1eb8>,\n",
       "  <pywren.future.ResponseFuture at 0x7fae185da588>,\n",
       "  <pywren.future.ResponseFuture at 0x7fae3833def0>,\n",
       "  <pywren.future.ResponseFuture at 0x7fae78213898>,\n",
       "  <pywren.future.ResponseFuture at 0x7fae19914da0>,\n",
       "  <pywren.future.ResponseFuture at 0x7fae19247b70>,\n",
       "  <pywren.future.ResponseFuture at 0x7fae185da6a0>,\n",
       "  <pywren.future.ResponseFuture at 0x7fae195b36d8>,\n",
       "  <pywren.future.ResponseFuture at 0x7fae182e83c8>,\n",
       "  <pywren.future.ResponseFuture at 0x7fae1821a400>,\n",
       "  <pywren.future.ResponseFuture at 0x7fae584fb0b8>,\n",
       "  <pywren.future.ResponseFuture at 0x7fae195b34a8>,\n",
       "  <pywren.future.ResponseFuture at 0x7fae1899b278>,\n",
       "  <pywren.future.ResponseFuture at 0x7fafe65f8da0>,\n",
       "  <pywren.future.ResponseFuture at 0x7fae181c3438>,\n",
       "  <pywren.future.ResponseFuture at 0x7fae3874be80>,\n",
       "  <pywren.future.ResponseFuture at 0x7fae7807b208>,\n",
       "  <pywren.future.ResponseFuture at 0x7fae182f9ba8>,\n",
       "  <pywren.future.ResponseFuture at 0x7faf382ee240>,\n",
       "  <pywren.future.ResponseFuture at 0x7faf185c9588>,\n",
       "  <pywren.future.ResponseFuture at 0x7faf18080e10>,\n",
       "  <pywren.future.ResponseFuture at 0x7faed845e898>,\n",
       "  <pywren.future.ResponseFuture at 0x7fae18cad8d0>,\n",
       "  <pywren.future.ResponseFuture at 0x7fae182e8588>,\n",
       "  <pywren.future.ResponseFuture at 0x7fae1821a470>,\n",
       "  <pywren.future.ResponseFuture at 0x7fae184d2b00>,\n",
       "  <pywren.future.ResponseFuture at 0x7fae195eb780>,\n",
       "  <pywren.future.ResponseFuture at 0x7fae18b997f0>,\n",
       "  <pywren.future.ResponseFuture at 0x7faf18216048>,\n",
       "  <pywren.future.ResponseFuture at 0x7faf183f8ba8>,\n",
       "  <pywren.future.ResponseFuture at 0x7fae3833de48>,\n",
       "  <pywren.future.ResponseFuture at 0x7faef81550f0>,\n",
       "  <pywren.future.ResponseFuture at 0x7fae182f9b38>,\n",
       "  <pywren.future.ResponseFuture at 0x7fae182e84e0>,\n",
       "  <pywren.future.ResponseFuture at 0x7fae1821aa20>,\n",
       "  <pywren.future.ResponseFuture at 0x7fae383f1b38>,\n",
       "  <pywren.future.ResponseFuture at 0x7faef851fc18>,\n",
       "  <pywren.future.ResponseFuture at 0x7faf18216a20>,\n",
       "  <pywren.future.ResponseFuture at 0x7fab0be8fc18>,\n",
       "  <pywren.future.ResponseFuture at 0x7fae184d2c18>,\n",
       "  <pywren.future.ResponseFuture at 0x7fae18dbe9e8>,\n",
       "  <pywren.future.ResponseFuture at 0x7faed80e47b8>,\n",
       "  <pywren.future.ResponseFuture at 0x7fab0bf5def0>,\n",
       "  <pywren.future.ResponseFuture at 0x7faef851f978>,\n",
       "  <pywren.future.ResponseFuture at 0x7fae7877b358>,\n",
       "  <pywren.future.ResponseFuture at 0x7fae185bed30>,\n",
       "  <pywren.future.ResponseFuture at 0x7faf381b5a58>,\n",
       "  <pywren.future.ResponseFuture at 0x7fafe65f8588>,\n",
       "  <pywren.future.ResponseFuture at 0x7fae1978d898>,\n",
       "  <pywren.future.ResponseFuture at 0x7fae1973b5f8>,\n",
       "  <pywren.future.ResponseFuture at 0x7fae784b9588>,\n",
       "  <pywren.future.ResponseFuture at 0x7fae19914240>,\n",
       "  <pywren.future.ResponseFuture at 0x7fae385268d0>,\n",
       "  <pywren.future.ResponseFuture at 0x7fae18cada20>,\n",
       "  <pywren.future.ResponseFuture at 0x7fae583fd2b0>,\n",
       "  <pywren.future.ResponseFuture at 0x7faf38380550>,\n",
       "  <pywren.future.ResponseFuture at 0x7faef8155d68>,\n",
       "  <pywren.future.ResponseFuture at 0x7fae19914668>,\n",
       "  <pywren.future.ResponseFuture at 0x7fae185daef0>,\n",
       "  <pywren.future.ResponseFuture at 0x7fae181c3b70>,\n",
       "  <pywren.future.ResponseFuture at 0x7faeb81fa278>,\n",
       "  <pywren.future.ResponseFuture at 0x7fae186f1908>,\n",
       "  <pywren.future.ResponseFuture at 0x7fae18b992e8>,\n",
       "  <pywren.future.ResponseFuture at 0x7fae3874b898>,\n",
       "  <pywren.future.ResponseFuture at 0x7fae1978d588>,\n",
       "  <pywren.future.ResponseFuture at 0x7fae1973b6a0>,\n",
       "  <pywren.future.ResponseFuture at 0x7fae18b99128>,\n",
       "  <pywren.future.ResponseFuture at 0x7fab0be8fda0>,\n",
       "  <pywren.future.ResponseFuture at 0x7fab0be8f390>,\n",
       "  <pywren.future.ResponseFuture at 0x7fae182f90f0>,\n",
       "  <pywren.future.ResponseFuture at 0x7faf381b55c0>,\n",
       "  <pywren.future.ResponseFuture at 0x7fae181c3d30>,\n",
       "  <pywren.future.ResponseFuture at 0x7fae182f9908>,\n",
       "  <pywren.future.ResponseFuture at 0x7fae3824f898>,\n",
       "  <pywren.future.ResponseFuture at 0x7fae181c37b8>,\n",
       "  <pywren.future.ResponseFuture at 0x7fafe65f8550>,\n",
       "  <pywren.future.ResponseFuture at 0x7faeb81fa438>,\n",
       "  <pywren.future.ResponseFuture at 0x7fae18b99470>,\n",
       "  <pywren.future.ResponseFuture at 0x7fae383f1eb8>,\n",
       "  <pywren.future.ResponseFuture at 0x7faf187935c0>,\n",
       "  <pywren.future.ResponseFuture at 0x7fae785bcf60>,\n",
       "  <pywren.future.ResponseFuture at 0x7faf18080390>,\n",
       "  <pywren.future.ResponseFuture at 0x7fae786f7128>,\n",
       "  <pywren.future.ResponseFuture at 0x7faed80e4c50>,\n",
       "  <pywren.future.ResponseFuture at 0x7fae193879b0>,\n",
       "  <pywren.future.ResponseFuture at 0x7faf18407eb8>,\n",
       "  <pywren.future.ResponseFuture at 0x7fae1821a518>,\n",
       "  <pywren.future.ResponseFuture at 0x7fae1843bac8>,\n",
       "  <pywren.future.ResponseFuture at 0x7fae19387a20>,\n",
       "  <pywren.future.ResponseFuture at 0x7fae185be240>,\n",
       "  <pywren.future.ResponseFuture at 0x7fae18cad7f0>,\n",
       "  <pywren.future.ResponseFuture at 0x7fae785cbc50>,\n",
       "  <pywren.future.ResponseFuture at 0x7faef851f320>,\n",
       "  <pywren.future.ResponseFuture at 0x7faef851f630>,\n",
       "  <pywren.future.ResponseFuture at 0x7fab0be8f860>,\n",
       "  <pywren.future.ResponseFuture at 0x7faf38380320>,\n",
       "  <pywren.future.ResponseFuture at 0x7faef829c860>,\n",
       "  <pywren.future.ResponseFuture at 0x7fae19acb0f0>,\n",
       "  <pywren.future.ResponseFuture at 0x7fae783e56d8>,\n",
       "  <pywren.future.ResponseFuture at 0x7fae182e8390>,\n",
       "  <pywren.future.ResponseFuture at 0x7fae18cad630>,\n",
       "  <pywren.future.ResponseFuture at 0x7faf387b40f0>,\n",
       "  <pywren.future.ResponseFuture at 0x7fae1821ad68>,\n",
       "  <pywren.future.ResponseFuture at 0x7fae3833d4a8>,\n",
       "  <pywren.future.ResponseFuture at 0x7faed853c7b8>,\n",
       "  <pywren.future.ResponseFuture at 0x7fae1978df98>,\n",
       "  <pywren.future.ResponseFuture at 0x7faf18793400>,\n",
       "  <pywren.future.ResponseFuture at 0x7fae383f1630>,\n",
       "  <pywren.future.ResponseFuture at 0x7faeb81fa978>,\n",
       "  <pywren.future.ResponseFuture at 0x7faef829c550>,\n",
       "  <pywren.future.ResponseFuture at 0x7faf18793518>,\n",
       "  <pywren.future.ResponseFuture at 0x7fae182f9eb8>,\n",
       "  <pywren.future.ResponseFuture at 0x7faf181b4b70>,\n",
       "  <pywren.future.ResponseFuture at 0x7fae181c3da0>,\n",
       "  <pywren.future.ResponseFuture at 0x7fae787ee4e0>,\n",
       "  <pywren.future.ResponseFuture at 0x7fae38196780>,\n",
       "  <pywren.future.ResponseFuture at 0x7fae182f9f60>,\n",
       "  <pywren.future.ResponseFuture at 0x7fae182f9ac8>,\n",
       "  <pywren.future.ResponseFuture at 0x7faeb81facf8>,\n",
       "  <pywren.future.ResponseFuture at 0x7faef829cf28>,\n",
       "  <pywren.future.ResponseFuture at 0x7faf18407e10>,\n",
       "  <pywren.future.ResponseFuture at 0x7fae19387be0>,\n",
       "  <pywren.future.ResponseFuture at 0x7fae3874bf98>,\n",
       "  <pywren.future.ResponseFuture at 0x7fae186f1e10>,\n",
       "  <pywren.future.ResponseFuture at 0x7faf18407978>,\n",
       "  <pywren.future.ResponseFuture at 0x7fae181c3320>,\n",
       "  <pywren.future.ResponseFuture at 0x7fae181c3630>,\n",
       "  <pywren.future.ResponseFuture at 0x7fae38196748>,\n",
       "  <pywren.future.ResponseFuture at 0x7fae1874dc50>,\n",
       "  <pywren.future.ResponseFuture at 0x7fae58756710>,\n",
       "  <pywren.future.ResponseFuture at 0x7faed853c4a8>,\n",
       "  <pywren.future.ResponseFuture at 0x7fae181c3208>,\n",
       "  <pywren.future.ResponseFuture at 0x7fae58756d30>,\n",
       "  <pywren.future.ResponseFuture at 0x7fae182f92e8>,\n",
       "  <pywren.future.ResponseFuture at 0x7fae1874d860>,\n",
       "  <pywren.future.ResponseFuture at 0x7fae38196048>,\n",
       "  <pywren.future.ResponseFuture at 0x7faef81ddb00>,\n",
       "  <pywren.future.ResponseFuture at 0x7faed86874e0>,\n",
       "  <pywren.future.ResponseFuture at 0x7fae38240198>,\n",
       "  <pywren.future.ResponseFuture at 0x7fae381967f0>,\n",
       "  <pywren.future.ResponseFuture at 0x7fae780d84a8>,\n",
       "  <pywren.future.ResponseFuture at 0x7fafa0055908>,\n",
       "  <pywren.future.ResponseFuture at 0x7fae780d8668>,\n",
       "  <pywren.future.ResponseFuture at 0x7fae5838c160>,\n",
       "  <pywren.future.ResponseFuture at 0x7fae38208ba8>,\n",
       "  <pywren.future.ResponseFuture at 0x7fae18e62c50>,\n",
       "  <pywren.future.ResponseFuture at 0x7fae18bb0080>,\n",
       "  <pywren.future.ResponseFuture at 0x7fae186274e0>,\n",
       "  <pywren.future.ResponseFuture at 0x7fae18f6d9e8>,\n",
       "  <pywren.future.ResponseFuture at 0x7faf3805ee10>,\n",
       "  <pywren.future.ResponseFuture at 0x7fae1829fa58>,\n",
       "  <pywren.future.ResponseFuture at 0x7fab0bf018d0>,\n",
       "  <pywren.future.ResponseFuture at 0x7faed81d82e8>,\n",
       "  <pywren.future.ResponseFuture at 0x7fab0bf01748>,\n",
       "  <pywren.future.ResponseFuture at 0x7fae780d8860>,\n",
       "  <pywren.future.ResponseFuture at 0x7fae18970ba8>,\n",
       "  <pywren.future.ResponseFuture at 0x7fae981e8710>,\n",
       "  <pywren.future.ResponseFuture at 0x7faed81d85c0>,\n",
       "  <pywren.future.ResponseFuture at 0x7fae18aed908>,\n",
       "  <pywren.future.ResponseFuture at 0x7fae1829f198>,\n",
       "  <pywren.future.ResponseFuture at 0x7fae187f2cf8>,\n",
       "  <pywren.future.ResponseFuture at 0x7fae1823cb70>,\n",
       "  <pywren.future.ResponseFuture at 0x7fab0baa65f8>,\n",
       "  <pywren.future.ResponseFuture at 0x7faf180e5588>,\n",
       "  <pywren.future.ResponseFuture at 0x7fae187f27f0>,\n",
       "  <pywren.future.ResponseFuture at 0x7fae182482b0>,\n",
       "  <pywren.future.ResponseFuture at 0x7fab0bcffc50>,\n",
       "  <pywren.future.ResponseFuture at 0x7fae1813a240>,\n",
       "  <pywren.future.ResponseFuture at 0x7fab0bf01780>,\n",
       "  <pywren.future.ResponseFuture at 0x7fae180a2f98>,\n",
       "  <pywren.future.ResponseFuture at 0x7fab0ba27c18>,\n",
       "  <pywren.future.ResponseFuture at 0x7fae18248208>,\n",
       "  <pywren.future.ResponseFuture at 0x7fae1809b0b8>,\n",
       "  <pywren.future.ResponseFuture at 0x7fae1809b358>,\n",
       "  <pywren.future.ResponseFuture at 0x7fab0bf63128>,\n",
       "  <pywren.future.ResponseFuture at 0x7fab0bf63160>,\n",
       "  <pywren.future.ResponseFuture at 0x7fab0baadf98>,\n",
       "  <pywren.future.ResponseFuture at 0x7fae18248128>,\n",
       "  <pywren.future.ResponseFuture at 0x7fab0bdb5320>,\n",
       "  <pywren.future.ResponseFuture at 0x7fae18248048>,\n",
       "  <pywren.future.ResponseFuture at 0x7fab0be1af98>,\n",
       "  <pywren.future.ResponseFuture at 0x7fab0bc48b38>,\n",
       "  <pywren.future.ResponseFuture at 0x7fab0bc157f0>,\n",
       "  <pywren.future.ResponseFuture at 0x7fab0bb8af28>,\n",
       "  <pywren.future.ResponseFuture at 0x7fab0b63a9e8>,\n",
       "  <pywren.future.ResponseFuture at 0x7fab0bbcda20>,\n",
       "  <pywren.future.ResponseFuture at 0x7fab0b6b6b00>,\n",
       "  <pywren.future.ResponseFuture at 0x7fab0bb94518>,\n",
       "  <pywren.future.ResponseFuture at 0x7fab0b63ac88>,\n",
       "  <pywren.future.ResponseFuture at 0x7fab0bbcdac8>,\n",
       "  <pywren.future.ResponseFuture at 0x7fab0bb4bcf8>,\n",
       "  <pywren.future.ResponseFuture at 0x7fab0b806160>,\n",
       "  <pywren.future.ResponseFuture at 0x7fab0ba1d320>,\n",
       "  <pywren.future.ResponseFuture at 0x7fab0ba1d518>,\n",
       "  <pywren.future.ResponseFuture at 0x7fab0b8d40b8>,\n",
       "  <pywren.future.ResponseFuture at 0x7fab0b77e630>,\n",
       "  <pywren.future.ResponseFuture at 0x7fab0b88c198>,\n",
       "  <pywren.future.ResponseFuture at 0x7fab0b105390>,\n",
       "  <pywren.future.ResponseFuture at 0x7fab0b0e7fd0>,\n",
       "  <pywren.future.ResponseFuture at 0x7fab0b67f470>,\n",
       "  <pywren.future.ResponseFuture at 0x7fab0b422a20>,\n",
       "  <pywren.future.ResponseFuture at 0x7fab0b6c0f28>,\n",
       "  <pywren.future.ResponseFuture at 0x7fab0b48eba8>,\n",
       "  <pywren.future.ResponseFuture at 0x7fab0b14d208>,\n",
       "  <pywren.future.ResponseFuture at 0x7fab0b422f28>,\n",
       "  <pywren.future.ResponseFuture at 0x7fab0b22f048>,\n",
       "  <pywren.future.ResponseFuture at 0x7fab0b370f28>,\n",
       "  <pywren.future.ResponseFuture at 0x7fab0b422ba8>,\n",
       "  <pywren.future.ResponseFuture at 0x7fab0b0f1cc0>,\n",
       "  <pywren.future.ResponseFuture at 0x7fab0b194240>,\n",
       "  <pywren.future.ResponseFuture at 0x7fab0b14d0f0>,\n",
       "  <pywren.future.ResponseFuture at 0x7fab0b268cc0>,\n",
       "  <pywren.future.ResponseFuture at 0x7fab0b14d0b8>,\n",
       "  <pywren.future.ResponseFuture at 0x7fab0b0e7f98>,\n",
       "  <pywren.future.ResponseFuture at 0x7fab0b1055f8>,\n",
       "  <pywren.future.ResponseFuture at 0x7fab0b0f8f60>,\n",
       "  <pywren.future.ResponseFuture at 0x7fab0b083ac8>,\n",
       "  <pywren.future.ResponseFuture at 0x7fab0b0f8048>,\n",
       "  <pywren.future.ResponseFuture at 0x7fab0b0f1470>,\n",
       "  <pywren.future.ResponseFuture at 0x7fab0b1052b0>,\n",
       "  <pywren.future.ResponseFuture at 0x7fab0b0f1860>,\n",
       "  <pywren.future.ResponseFuture at 0x7fab0b0f1c50>,\n",
       "  <pywren.future.ResponseFuture at 0x7fab0b0f81d0>,\n",
       "  <pywren.future.ResponseFuture at 0x7fab0b422c50>,\n",
       "  <pywren.future.ResponseFuture at 0x7fab0b0f14a8>,\n",
       "  <pywren.future.ResponseFuture at 0x7fab0b0f1c88>,\n",
       "  <pywren.future.ResponseFuture at 0x7fab0b228d30>,\n",
       "  <pywren.future.ResponseFuture at 0x7fab0b0f80f0>,\n",
       "  <pywren.future.ResponseFuture at 0x7fab0b0f8f28>,\n",
       "  <pywren.future.ResponseFuture at 0x7fab0b0f1828>,\n",
       "  <pywren.future.ResponseFuture at 0x7fab0b083780>,\n",
       "  <pywren.future.ResponseFuture at 0x7fab0b0f1f60>,\n",
       "  <pywren.future.ResponseFuture at 0x7fab0b0e7f60>,\n",
       "  <pywren.future.ResponseFuture at 0x7fab0b0831d0>,\n",
       "  <pywren.future.ResponseFuture at 0x7fab0b08a1d0>,\n",
       "  <pywren.future.ResponseFuture at 0x7fab0b083a20>,\n",
       "  <pywren.future.ResponseFuture at 0x7fab0b083be0>,\n",
       "  <pywren.future.ResponseFuture at 0x7fab0b08fa20>,\n",
       "  <pywren.future.ResponseFuture at 0x7fab0b136358>,\n",
       "  <pywren.future.ResponseFuture at 0x7fab0b0f8a58>,\n",
       "  <pywren.future.ResponseFuture at 0x7fab0b08acf8>,\n",
       "  <pywren.future.ResponseFuture at 0x7fab0b422b00>,\n",
       "  <pywren.future.ResponseFuture at 0x7fab0b0999b0>,\n",
       "  <pywren.future.ResponseFuture at 0x7fab0b08f0f0>,\n",
       "  <pywren.future.ResponseFuture at 0x7fab0b228fd0>,\n",
       "  <pywren.future.ResponseFuture at 0x7fab0b0f87f0>,\n",
       "  <pywren.future.ResponseFuture at 0x7fab0b0e7c18>,\n",
       "  <pywren.future.ResponseFuture at 0x7fab0b08f0b8>,\n",
       "  <pywren.future.ResponseFuture at 0x7fab0b0832e8>,\n",
       "  <pywren.future.ResponseFuture at 0x7fab0b0f1748>,\n",
       "  <pywren.future.ResponseFuture at 0x7fab0b0f89e8>,\n",
       "  <pywren.future.ResponseFuture at 0x7fab0b083128>,\n",
       "  <pywren.future.ResponseFuture at 0x7fab0b083208>,\n",
       "  <pywren.future.ResponseFuture at 0x7fab0b0f8320>,\n",
       "  <pywren.future.ResponseFuture at 0x7fab0b083d30>,\n",
       "  <pywren.future.ResponseFuture at 0x7fab0b08ffd0>,\n",
       "  <pywren.future.ResponseFuture at 0x7fab0b0a0f28>,\n",
       "  <pywren.future.ResponseFuture at 0x7fab0b083828>,\n",
       "  <pywren.future.ResponseFuture at 0x7fab0b08f9e8>,\n",
       "  <pywren.future.ResponseFuture at 0x7fab0b0a0be0>,\n",
       "  <pywren.future.ResponseFuture at 0x7fab0b08a3c8>,\n",
       "  <pywren.future.ResponseFuture at 0x7fab0b08f240>,\n",
       "  <pywren.future.ResponseFuture at 0x7fab0b08fc88>,\n",
       "  <pywren.future.ResponseFuture at 0x7fab0b0a67f0>,\n",
       "  <pywren.future.ResponseFuture at 0x7fab0b0a6668>,\n",
       "  <pywren.future.ResponseFuture at 0x7fab0b08f320>,\n",
       "  <pywren.future.ResponseFuture at 0x7fab0b0f8828>,\n",
       "  <pywren.future.ResponseFuture at 0x7fab0b099780>,\n",
       "  <pywren.future.ResponseFuture at 0x7fab0b0f8e80>,\n",
       "  <pywren.future.ResponseFuture at 0x7fab0b083278>,\n",
       "  <pywren.future.ResponseFuture at 0x7fab0b0991d0>,\n",
       "  <pywren.future.ResponseFuture at 0x7fab0b0994e0>,\n",
       "  <pywren.future.ResponseFuture at 0x7fab0b08f898>,\n",
       "  <pywren.future.ResponseFuture at 0x7fab0b08f9b0>,\n",
       "  <pywren.future.ResponseFuture at 0x7fab0b0a63c8>,\n",
       "  <pywren.future.ResponseFuture at 0x7fab0b08fcf8>,\n",
       "  <pywren.future.ResponseFuture at 0x7fab0b0839b0>,\n",
       "  <pywren.future.ResponseFuture at 0x7fab0b08a128>,\n",
       "  <pywren.future.ResponseFuture at 0x7fab0b08ff98>,\n",
       "  <pywren.future.ResponseFuture at 0x7fab0b0adeb8>,\n",
       "  <pywren.future.ResponseFuture at 0x7fab0b08f978>,\n",
       "  <pywren.future.ResponseFuture at 0x7fab0b0a6710>,\n",
       "  <pywren.future.ResponseFuture at 0x7fab0b0a66a0>,\n",
       "  <pywren.future.ResponseFuture at 0x7fab0b083e48>,\n",
       "  <pywren.future.ResponseFuture at 0x7fab0b099668>,\n",
       "  <pywren.future.ResponseFuture at 0x7fab0b0b6a90>,\n",
       "  <pywren.future.ResponseFuture at 0x7fab0b0a6588>,\n",
       "  <pywren.future.ResponseFuture at 0x7fab0b0ad828>,\n",
       "  <pywren.future.ResponseFuture at 0x7fab0b099da0>,\n",
       "  <pywren.future.ResponseFuture at 0x7fab0b0400b8>,\n",
       "  <pywren.future.ResponseFuture at 0x7fab0b0ad0f0>,\n",
       "  <pywren.future.ResponseFuture at 0x7fab0b099080>,\n",
       "  <pywren.future.ResponseFuture at 0x7fab0b0ad0b8>,\n",
       "  <pywren.future.ResponseFuture at 0x7fab0b0a0eb8>,\n",
       "  <pywren.future.ResponseFuture at 0x7fab0b043978>,\n",
       "  <pywren.future.ResponseFuture at 0x7fab0b0b6438>,\n",
       "  <pywren.future.ResponseFuture at 0x7fab0b0a6278>,\n",
       "  <pywren.future.ResponseFuture at 0x7fab0b0a6d30>,\n",
       "  <pywren.future.ResponseFuture at 0x7fab0b0ade10>,\n",
       "  <pywren.future.ResponseFuture at 0x7fab0b0ad8d0>,\n",
       "  <pywren.future.ResponseFuture at 0x7fab0b0a6fd0>,\n",
       "  <pywren.future.ResponseFuture at 0x7fab0b040dd8>,\n",
       "  <pywren.future.ResponseFuture at 0x7fab0b0a0e80>,\n",
       "  <pywren.future.ResponseFuture at 0x7fab0b099940>,\n",
       "  <pywren.future.ResponseFuture at 0x7fab0b0a0ac8>,\n",
       "  <pywren.future.ResponseFuture at 0x7fab0b0ad208>,\n",
       "  <pywren.future.ResponseFuture at 0x7fae194b4c50>,\n",
       "  <pywren.future.ResponseFuture at 0x7fab0b0402b0>,\n",
       "  <pywren.future.ResponseFuture at 0x7fab0b0a0e10>,\n",
       "  <pywren.future.ResponseFuture at 0x7fab0b040128>,\n",
       "  <pywren.future.ResponseFuture at 0x7fab0b0a0b00>,\n",
       "  <pywren.future.ResponseFuture at 0x7fae194b4cc0>,\n",
       "  <pywren.future.ResponseFuture at 0x7fab0b0ad400>,\n",
       "  <pywren.future.ResponseFuture at 0x7fab0b043b70>,\n",
       "  <pywren.future.ResponseFuture at 0x7fab0b0431d0>,\n",
       "  <pywren.future.ResponseFuture at 0x7fab0b0a0f98>,\n",
       "  <pywren.future.ResponseFuture at 0x7fab0b0ad198>,\n",
       "  <pywren.future.ResponseFuture at 0x7fab0b0a0748>,\n",
       "  <pywren.future.ResponseFuture at 0x7fae194b4898>,\n",
       "  <pywren.future.ResponseFuture at 0x7fab0b043b00>,\n",
       "  <pywren.future.ResponseFuture at 0x7fae194b4518>,\n",
       "  <pywren.future.ResponseFuture at 0x7fab0b0438d0>,\n",
       "  <pywren.future.ResponseFuture at 0x7fab0b043be0>,\n",
       "  <pywren.future.ResponseFuture at 0x7fab0b043588>,\n",
       "  <pywren.future.ResponseFuture at 0x7fab0b043198>,\n",
       "  <pywren.future.ResponseFuture at 0x7fab0b08a160>,\n",
       "  <pywren.future.ResponseFuture at 0x7fab0b043b38>,\n",
       "  <pywren.future.ResponseFuture at 0x7fab0b0435f8>,\n",
       "  <pywren.future.ResponseFuture at 0x7fab0b0a69b0>,\n",
       "  <pywren.future.ResponseFuture at 0x7fab0b062be0>,\n",
       "  <pywren.future.ResponseFuture at 0x7fab0b040b38>,\n",
       "  <pywren.future.ResponseFuture at 0x7fab0b043dd8>,\n",
       "  <pywren.future.ResponseFuture at 0x7fab0b05d048>,\n",
       "  <pywren.future.ResponseFuture at 0x7fab0b0542b0>,\n",
       "  <pywren.future.ResponseFuture at 0x7fab0b040898>,\n",
       "  <pywren.future.ResponseFuture at 0x7fab0b0997b8>,\n",
       "  <pywren.future.ResponseFuture at 0x7fab0b062c88>,\n",
       "  <pywren.future.ResponseFuture at 0x7fab0b0a6cf8>,\n",
       "  <pywren.future.ResponseFuture at 0x7fab0b0625f8>,\n",
       "  <pywren.future.ResponseFuture at 0x7fab0b071ba8>,\n",
       "  <pywren.future.ResponseFuture at 0x7fab0b040588>,\n",
       "  <pywren.future.ResponseFuture at 0x7fab0b062a58>,\n",
       "  <pywren.future.ResponseFuture at 0x7fab0b054550>,\n",
       "  <pywren.future.ResponseFuture at 0x7fab0b071b70>,\n",
       "  <pywren.future.ResponseFuture at 0x7fab0b05d390>,\n",
       "  <pywren.future.ResponseFuture at 0x7fab0b0a6630>,\n",
       "  <pywren.future.ResponseFuture at 0x7fab0b05df60>,\n",
       "  <pywren.future.ResponseFuture at 0x7fab0b062d68>,\n",
       "  <pywren.future.ResponseFuture at 0x7fab0b062f60>,\n",
       "  <pywren.future.ResponseFuture at 0x7fab0b054a58>,\n",
       "  <pywren.future.ResponseFuture at 0x7fab0b062da0>,\n",
       "  <pywren.future.ResponseFuture at 0x7fab0b062f98>,\n",
       "  <pywren.future.ResponseFuture at 0x7fab0b054ef0>,\n",
       "  <pywren.future.ResponseFuture at 0x7fab0b05d0f0>,\n",
       "  <pywren.future.ResponseFuture at 0x7fab0b05d2b0>,\n",
       "  <pywren.future.ResponseFuture at 0x7fab0b071fd0>,\n",
       "  <pywren.future.ResponseFuture at 0x7fab0b071860>,\n",
       "  <pywren.future.ResponseFuture at 0x7fab0b05d208>,\n",
       "  <pywren.future.ResponseFuture at 0x7fab0b071898>,\n",
       "  <pywren.future.ResponseFuture at 0x7fab0b071390>,\n",
       "  <pywren.future.ResponseFuture at 0x7fab0b043550>,\n",
       "  <pywren.future.ResponseFuture at 0x7fab0b062cc0>,\n",
       "  <pywren.future.ResponseFuture at 0x7fab0b05d4e0>,\n",
       "  <pywren.future.ResponseFuture at 0x7fab0b05d9b0>,\n",
       "  <pywren.future.ResponseFuture at 0x7fae194b4978>,\n",
       "  <pywren.future.ResponseFuture at 0x7fab0b05d588>,\n",
       "  <pywren.future.ResponseFuture at 0x7fab0b05dc88>,\n",
       "  <pywren.future.ResponseFuture at 0x7fab0b05d160>,\n",
       "  <pywren.future.ResponseFuture at 0x7fab0b043358>,\n",
       "  <pywren.future.ResponseFuture at 0x7fab0b071f28>,\n",
       "  <pywren.future.ResponseFuture at 0x7fae194b4e10>,\n",
       "  <pywren.future.ResponseFuture at 0x7fab0b0430b8>,\n",
       "  <pywren.future.ResponseFuture at 0x7fab0b054f60>,\n",
       "  <pywren.future.ResponseFuture at 0x7fae194b4f28>,\n",
       "  <pywren.future.ResponseFuture at 0x7fab0b054668>,\n",
       "  <pywren.future.ResponseFuture at 0x7fab0b043748>,\n",
       "  <pywren.future.ResponseFuture at 0x7fab0b062ac8>,\n",
       "  <pywren.future.ResponseFuture at 0x7fab0b054940>,\n",
       "  <pywren.future.ResponseFuture at 0x7fab0b0437b8>,\n",
       "  <pywren.future.ResponseFuture at 0x7fab0b062d30>,\n",
       "  <pywren.future.ResponseFuture at 0x7fab0b040470>,\n",
       "  <pywren.future.ResponseFuture at 0x7fab0b0436a0>,\n",
       "  <pywren.future.ResponseFuture at 0x7fab0b054470>,\n",
       "  <pywren.future.ResponseFuture at 0x7fab0b0622b0>,\n",
       "  <pywren.future.ResponseFuture at 0x7fae194b46a0>,\n",
       "  <pywren.future.ResponseFuture at 0x7fae194b4438>,\n",
       "  <pywren.future.ResponseFuture at 0x7fab0b05db70>,\n",
       "  <pywren.future.ResponseFuture at 0x7fab0b040da0>,\n",
       "  <pywren.future.ResponseFuture at 0x7fab0b040f98>,\n",
       "  <pywren.future.ResponseFuture at 0x7fab0b040e10>,\n",
       "  <pywren.future.ResponseFuture at 0x7fab0b040390>,\n",
       "  <pywren.future.ResponseFuture at 0x7fab0b040908>,\n",
       "  <pywren.future.ResponseFuture at 0x7fab0b062ba8>,\n",
       "  <pywren.future.ResponseFuture at 0x7fab0b05dcf8>,\n",
       "  <pywren.future.ResponseFuture at 0x7fab0b043c50>,\n",
       "  <pywren.future.ResponseFuture at 0x7fab0b0adc18>,\n",
       "  <pywren.future.ResponseFuture at 0x7fab0b0ad128>,\n",
       "  <pywren.future.ResponseFuture at 0x7fab0b040710>,\n",
       "  <pywren.future.ResponseFuture at 0x7fab0b0adc88>,\n",
       "  <pywren.future.ResponseFuture at 0x7fab0b0ad4e0>,\n",
       "  <pywren.future.ResponseFuture at 0x7fab0b0adf60>,\n",
       "  <pywren.future.ResponseFuture at 0x7fab0b0adfd0>,\n",
       "  <pywren.future.ResponseFuture at 0x7fab0b0408d0>,\n",
       "  <pywren.future.ResponseFuture at 0x7fab0b0b65c0>,\n",
       "  <pywren.future.ResponseFuture at 0x7fab0b0adcf8>,\n",
       "  <pywren.future.ResponseFuture at 0x7fab0b040ef0>,\n",
       "  <pywren.future.ResponseFuture at 0x7fae194b4710>,\n",
       "  <pywren.future.ResponseFuture at 0x7fab0b0ad1d0>,\n",
       "  <pywren.future.ResponseFuture at 0x7fab0b0adda0>,\n",
       "  <pywren.future.ResponseFuture at 0x7fab0b054978>,\n",
       "  <pywren.future.ResponseFuture at 0x7fab0b062908>,\n",
       "  <pywren.future.ResponseFuture at 0x7fab0b05def0>,\n",
       "  <pywren.future.ResponseFuture at 0x7fab0b040940>,\n",
       "  <pywren.future.ResponseFuture at 0x7fae194b4198>,\n",
       "  <pywren.future.ResponseFuture at 0x7fab0b05d6d8>,\n",
       "  <pywren.future.ResponseFuture at 0x7fab0b099710>,\n",
       "  <pywren.future.ResponseFuture at 0x7fab0b062630>,\n",
       "  <pywren.future.ResponseFuture at 0x7fab0b071550>,\n",
       "  <pywren.future.ResponseFuture at 0x7fab0b0432e8>,\n",
       "  <pywren.future.ResponseFuture at 0x7fab0b0405c0>,\n",
       "  <pywren.future.ResponseFuture at 0x7fab0b05d7b8>,\n",
       "  <pywren.future.ResponseFuture at 0x7fae194b4a20>,\n",
       "  <pywren.future.ResponseFuture at 0x7fae194b4470>,\n",
       "  <pywren.future.ResponseFuture at 0x7fab0b062b00>,\n",
       "  <pywren.future.ResponseFuture at 0x7fab0b0710b8>,\n",
       "  <pywren.future.ResponseFuture at 0x7fab0b0a0a58>,\n",
       "  <pywren.future.ResponseFuture at 0x7fab0b0433c8>,\n",
       "  <pywren.future.ResponseFuture at 0x7fab0b0b6ef0>,\n",
       "  <pywren.future.ResponseFuture at 0x7fab0b268cf8>,\n",
       "  <pywren.future.ResponseFuture at 0x7fab0b0547b8>,\n",
       "  <pywren.future.ResponseFuture at 0x7fab0b043630>,\n",
       "  <pywren.future.ResponseFuture at 0x7fab0b0a0a90>,\n",
       "  <pywren.future.ResponseFuture at 0x7fab0b05d080>,\n",
       "  <pywren.future.ResponseFuture at 0x7fab0b268d68>,\n",
       "  <pywren.future.ResponseFuture at 0x7fab0b0710f0>,\n",
       "  <pywren.future.ResponseFuture at 0x7fab0b043a90>,\n",
       "  <pywren.future.ResponseFuture at 0x7fab0b054cc0>,\n",
       "  <pywren.future.ResponseFuture at 0x7fab0b3a2e80>,\n",
       "  <pywren.future.ResponseFuture at 0x7fab0b268c88>,\n",
       "  <pywren.future.ResponseFuture at 0x7fae194b49b0>,\n",
       "  <pywren.future.ResponseFuture at 0x7fab0b043860>,\n",
       "  <pywren.future.ResponseFuture at 0x7fab0b0a62e8>,\n",
       "  <pywren.future.ResponseFuture at 0x7fab0b040fd0>,\n",
       "  <pywren.future.ResponseFuture at 0x7fab0b05d128>,\n",
       "  <pywren.future.ResponseFuture at 0x7fab0b0a6be0>,\n",
       "  <pywren.future.ResponseFuture at 0x7fab0b08ad30>,\n",
       "  <pywren.future.ResponseFuture at 0x7fab0b08ae80>,\n",
       "  <pywren.future.ResponseFuture at 0x7fab0b05d1d0>,\n",
       "  <pywren.future.ResponseFuture at 0x7fab0b099128>,\n",
       "  <pywren.future.ResponseFuture at 0x7fab0b0ad048>,\n",
       "  <pywren.future.ResponseFuture at 0x7fab0b0ad390>,\n",
       "  <pywren.future.ResponseFuture at 0x7fab0b08f630>,\n",
       "  <pywren.future.ResponseFuture at 0x7fab0b08a6a0>,\n",
       "  <pywren.future.ResponseFuture at 0x7fab0b099b38>,\n",
       "  <pywren.future.ResponseFuture at 0x7fab0b040f28>,\n",
       "  <pywren.future.ResponseFuture at 0x7fab0b08fe10>,\n",
       "  <pywren.future.ResponseFuture at 0x7fab0b099470>,\n",
       "  <pywren.future.ResponseFuture at 0x7fab0b0543c8>,\n",
       "  <pywren.future.ResponseFuture at 0x7fab0b040a90>,\n",
       "  <pywren.future.ResponseFuture at 0x7fab0b08feb8>,\n",
       "  <pywren.future.ResponseFuture at 0x7fab0b05dd30>,\n",
       "  <pywren.future.ResponseFuture at 0x7fab0b0a6a58>,\n",
       "  <pywren.future.ResponseFuture at 0x7fab0b08f860>,\n",
       "  <pywren.future.ResponseFuture at 0x7fab0b099f28>,\n",
       "  <pywren.future.ResponseFuture at 0x7fab0b08a978>,\n",
       "  <pywren.future.ResponseFuture at 0x7fab0b08f6a0>,\n",
       "  <pywren.future.ResponseFuture at 0x7fab0b040ba8>,\n",
       "  <pywren.future.ResponseFuture at 0x7fab0b062a90>,\n",
       "  <pywren.future.ResponseFuture at 0x7fab0b083eb8>,\n",
       "  <pywren.future.ResponseFuture at 0x7fab0b0a0c18>,\n",
       "  <pywren.future.ResponseFuture at 0x7fab0b08f2b0>,\n",
       "  <pywren.future.ResponseFuture at 0x7fab0b08f710>,\n",
       "  <pywren.future.ResponseFuture at 0x7fab0b0540f0>,\n",
       "  <pywren.future.ResponseFuture at 0x7fab0b08f7b8>,\n",
       "  <pywren.future.ResponseFuture at 0x7fab0b0624a8>,\n",
       "  <pywren.future.ResponseFuture at 0x7fab0b228f98>,\n",
       "  <pywren.future.ResponseFuture at 0x7fab0b370f98>,\n",
       "  <pywren.future.ResponseFuture at 0x7fab0b228cc0>,\n",
       "  <pywren.future.ResponseFuture at 0x7fab0b0a0550>,\n",
       "  <pywren.future.ResponseFuture at 0x7fab0b099c50>,\n",
       "  <pywren.future.ResponseFuture at 0x7fab0b0a0c88>,\n",
       "  <pywren.future.ResponseFuture at 0x7fab0b422f60>,\n",
       "  <pywren.future.ResponseFuture at 0x7fab0b1054e0>,\n",
       "  <pywren.future.ResponseFuture at 0x7fab0b083cc0>,\n",
       "  <pywren.future.ResponseFuture at 0x7fab0b054828>,\n",
       "  <pywren.future.ResponseFuture at 0x7fab0b22f080>,\n",
       "  <pywren.future.ResponseFuture at 0x7fab0b08ae10>,\n",
       "  <pywren.future.ResponseFuture at 0x7fab0b0a6780>,\n",
       "  <pywren.future.ResponseFuture at 0x7fab0b0a6748>,\n",
       "  <pywren.future.ResponseFuture at 0x7fab0b1053c8>,\n",
       "  <pywren.future.ResponseFuture at 0x7fab0b083908>,\n",
       "  <pywren.future.ResponseFuture at 0x7fab0b0a0e48>,\n",
       "  <pywren.future.ResponseFuture at 0x7fab0b0f10b8>,\n",
       "  <pywren.future.ResponseFuture at 0x7fab0b0e7e48>,\n",
       "  <pywren.future.ResponseFuture at 0x7fae194b4ba8>,\n",
       "  <pywren.future.ResponseFuture at 0x7fab0b08a470>,\n",
       "  <pywren.future.ResponseFuture at 0x7fab0b0406a0>,\n",
       "  <pywren.future.ResponseFuture at 0x7fab0b370f60>,\n",
       "  <pywren.future.ResponseFuture at 0x7fab0b0789b0>,\n",
       "  <pywren.future.ResponseFuture at 0x7fab0b0e7e80>,\n",
       "  <pywren.future.ResponseFuture at 0x7fab0b0a6e10>,\n",
       "  <pywren.future.ResponseFuture at 0x7fab0b0f8da0>,\n",
       "  <pywren.future.ResponseFuture at 0x7fab0b08fc18>,\n",
       "  <pywren.future.ResponseFuture at 0x7fab0b08f438>,\n",
       "  <pywren.future.ResponseFuture at 0x7fab0b08af28>,\n",
       "  <pywren.future.ResponseFuture at 0x7fab0b0f8518>,\n",
       "  <pywren.future.ResponseFuture at 0x7fab0b0787f0>,\n",
       "  <pywren.future.ResponseFuture at 0x7fab0b062898>,\n",
       "  <pywren.future.ResponseFuture at 0x7fae194b4d68>,\n",
       "  <pywren.future.ResponseFuture at 0x7fab0b062828>,\n",
       "  <pywren.future.ResponseFuture at 0x7fab0b228f60>,\n",
       "  <pywren.future.ResponseFuture at 0x7fab0b0f1da0>,\n",
       "  <pywren.future.ResponseFuture at 0x7fab0b08f128>,\n",
       "  <pywren.future.ResponseFuture at 0x7fab0b136550>,\n",
       "  <pywren.future.ResponseFuture at 0x7fab0b05d9e8>,\n",
       "  <pywren.future.ResponseFuture at 0x7fae194b4da0>,\n",
       "  <pywren.future.ResponseFuture at 0x7fab0b08a390>,\n",
       "  <pywren.future.ResponseFuture at 0x7fab0b0836d8>,\n",
       "  <pywren.future.ResponseFuture at 0x7fab0b07d5c0>,\n",
       "  <pywren.future.ResponseFuture at 0x7fab0b08fba8>,\n",
       "  <pywren.future.ResponseFuture at 0x7fab0b6c0c50>,\n",
       "  <pywren.future.ResponseFuture at 0x7fab0b136320>,\n",
       "  <pywren.future.ResponseFuture at 0x7fab0b07d8d0>,\n",
       "  <pywren.future.ResponseFuture at 0x7fab0b0e7a20>,\n",
       "  <pywren.future.ResponseFuture at 0x7fab0b07dcc0>,\n",
       "  <pywren.future.ResponseFuture at 0x7fae194b4550>,\n",
       "  <pywren.future.ResponseFuture at 0x7fae194b4c88>,\n",
       "  <pywren.future.ResponseFuture at 0x7fab0b0137b8>,\n",
       "  <pywren.future.ResponseFuture at 0x7fae1992b0b8>,\n",
       "  <pywren.future.ResponseFuture at 0x7fab0b0a68d0>,\n",
       "  <pywren.future.ResponseFuture at 0x7fab0b00b358>,\n",
       "  <pywren.future.ResponseFuture at 0x7fab0b0f1128>,\n",
       "  <pywren.future.ResponseFuture at 0x7fab0b078f98>,\n",
       "  <pywren.future.ResponseFuture at 0x7fab0b062780>,\n",
       "  <pywren.future.ResponseFuture at 0x7fab0b083f98>,\n",
       "  <pywren.future.ResponseFuture at 0x7fab0b078fd0>,\n",
       "  <pywren.future.ResponseFuture at 0x7fab0b0a6f98>,\n",
       "  <pywren.future.ResponseFuture at 0x7fae1992bf98>,\n",
       "  <pywren.future.ResponseFuture at 0x7fab0b099c88>,\n",
       "  <pywren.future.ResponseFuture at 0x7fab0b0f1a90>,\n",
       "  <pywren.future.ResponseFuture at 0x7fab0b08fbe0>,\n",
       "  <pywren.future.ResponseFuture at 0x7fab0b00b080>,\n",
       "  <pywren.future.ResponseFuture at 0x7fab0b00bc18>,\n",
       "  <pywren.future.ResponseFuture at 0x7fae1992b908>,\n",
       "  <pywren.future.ResponseFuture at 0x7fab0b099e48>,\n",
       "  <pywren.future.ResponseFuture at 0x7fab0b00f940>,\n",
       "  <pywren.future.ResponseFuture at 0x7fab0b00fe10>,\n",
       "  <pywren.future.ResponseFuture at 0x7fab0b071cc0>,\n",
       "  <pywren.future.ResponseFuture at 0x7fae1992bbe0>,\n",
       "  <pywren.future.ResponseFuture at 0x7fab0b013d30>,\n",
       "  <pywren.future.ResponseFuture at 0x7fab0b023748>,\n",
       "  <pywren.future.ResponseFuture at 0x7fae1992b978>,\n",
       "  <pywren.future.ResponseFuture at 0x7fab0b0f8748>,\n",
       "  <pywren.future.ResponseFuture at 0x7fab0b00bef0>,\n",
       "  <pywren.future.ResponseFuture at 0x7fab0b08f208>,\n",
       "  <pywren.future.ResponseFuture at 0x7fab0b00f278>,\n",
       "  <pywren.future.ResponseFuture at 0x7fab0b00ffd0>,\n",
       "  <pywren.future.ResponseFuture at 0x7fab0b013b70>,\n",
       "  <pywren.future.ResponseFuture at 0x7fae1992b940>,\n",
       "  <pywren.future.ResponseFuture at 0x7fab0b00bb70>,\n",
       "  <pywren.future.ResponseFuture at 0x7fab0b08fd30>,\n",
       "  <pywren.future.ResponseFuture at 0x7fab0b08a7f0>,\n",
       "  <pywren.future.ResponseFuture at 0x7fab0b0990b8>,\n",
       "  <pywren.future.ResponseFuture at 0x7fae1992bba8>,\n",
       "  <pywren.future.ResponseFuture at 0x7fab0b027160>,\n",
       "  <pywren.future.ResponseFuture at 0x7fab0b013588>,\n",
       "  <pywren.future.ResponseFuture at 0x7fab0b0238d0>,\n",
       "  <pywren.future.ResponseFuture at 0x7fab0b136240>,\n",
       "  <pywren.future.ResponseFuture at 0x7fab0b007940>,\n",
       "  <pywren.future.ResponseFuture at 0x7fab0b0836a0>,\n",
       "  <pywren.future.ResponseFuture at 0x7fae1992b470>,\n",
       "  <pywren.future.ResponseFuture at 0x7fab0b027630>,\n",
       "  <pywren.future.ResponseFuture at 0x7fab0b007c18>,\n",
       "  <pywren.future.ResponseFuture at 0x7fab0b023438>,\n",
       "  <pywren.future.ResponseFuture at 0x7fab0b00b588>,\n",
       "  <pywren.future.ResponseFuture at 0x7fab0b0070f0>,\n",
       "  <pywren.future.ResponseFuture at 0x7fab0b007390>,\n",
       "  <pywren.future.ResponseFuture at 0x7fae1992bdd8>,\n",
       "  <pywren.future.ResponseFuture at 0x7fab0b027198>,\n",
       "  <pywren.future.ResponseFuture at 0x7fab0b03b6d8>,\n",
       "  <pywren.future.ResponseFuture at 0x7fab0b0139e8>,\n",
       "  <pywren.future.ResponseFuture at 0x7fab0b013a20>,\n",
       "  <pywren.future.ResponseFuture at 0x7fab0b007cf8>,\n",
       "  <pywren.future.ResponseFuture at 0x7fab0b007fd0>,\n",
       "  <pywren.future.ResponseFuture at 0x7fab0b007668>,\n",
       "  <pywren.future.ResponseFuture at 0x7fab0b03b710>,\n",
       "  <pywren.future.ResponseFuture at 0x7fab0b00f748>,\n",
       "  <pywren.future.ResponseFuture at 0x7fab0b054400>,\n",
       "  <pywren.future.ResponseFuture at 0x7fab0b0275f8>,\n",
       "  <pywren.future.ResponseFuture at 0x7fab0b00f048>,\n",
       "  <pywren.future.ResponseFuture at 0x7fab0b027d30>,\n",
       "  <pywren.future.ResponseFuture at 0x7fab0b00fa58>,\n",
       "  <pywren.future.ResponseFuture at 0x7fab0b007748>,\n",
       "  <pywren.future.ResponseFuture at 0x7fab0b0f85f8>,\n",
       "  <pywren.future.ResponseFuture at 0x7fab0b007cc0>,\n",
       "  <pywren.future.ResponseFuture at 0x7fae1992bda0>,\n",
       "  <pywren.future.ResponseFuture at 0x7fab0b027fd0>,\n",
       "  <pywren.future.ResponseFuture at 0x7fae1992b8d0>,\n",
       "  <pywren.future.ResponseFuture at 0x7fab0b0f8978>,\n",
       "  <pywren.future.ResponseFuture at 0x7fab0b013278>,\n",
       "  <pywren.future.ResponseFuture at 0x7fab0b023550>,\n",
       "  <pywren.future.ResponseFuture at 0x7fab0b007f98>,\n",
       "  <pywren.future.ResponseFuture at 0x7fab0b013320>,\n",
       "  <pywren.future.ResponseFuture at 0x7fab0b07db38>,\n",
       "  <pywren.future.ResponseFuture at 0x7fab0b013a90>,\n",
       "  <pywren.future.ResponseFuture at 0x7fab0b013c18>,\n",
       "  <pywren.future.ResponseFuture at 0x7fab0b007f60>,\n",
       "  <pywren.future.ResponseFuture at 0x7fab0b03be48>,\n",
       "  <pywren.future.ResponseFuture at 0x7fab0b07da58>,\n",
       "  <pywren.future.ResponseFuture at 0x7fab0afc3f98>,\n",
       "  <pywren.future.ResponseFuture at 0x7fab0b03ba58>,\n",
       "  <pywren.future.ResponseFuture at 0x7fab0b03bf98>,\n",
       "  <pywren.future.ResponseFuture at 0x7fab0b03b668>,\n",
       "  <pywren.future.ResponseFuture at 0x7fab0afc31d0>,\n",
       "  <pywren.future.ResponseFuture at 0x7fab0afd1e80>,\n",
       "  <pywren.future.ResponseFuture at 0x7fab0afcc1d0>,\n",
       "  <pywren.future.ResponseFuture at 0x7fab0afd14e0>,\n",
       "  <pywren.future.ResponseFuture at 0x7fab0afd1e48>,\n",
       "  <pywren.future.ResponseFuture at 0x7fab0afd1eb8>,\n",
       "  <pywren.future.ResponseFuture at 0x7fab0afc32e8>,\n",
       "  <pywren.future.ResponseFuture at 0x7fab0afd1470>,\n",
       "  <pywren.future.ResponseFuture at 0x7fab0afd14a8>,\n",
       "  <pywren.future.ResponseFuture at 0x7fab0afd1828>,\n",
       "  <pywren.future.ResponseFuture at 0x7fab0afc3208>,\n",
       "  <pywren.future.ResponseFuture at 0x7fab0afc3400>,\n",
       "  <pywren.future.ResponseFuture at 0x7fab0afc3358>,\n",
       "  <pywren.future.ResponseFuture at 0x7fab0afcc128>,\n",
       "  <pywren.future.ResponseFuture at 0x7fab0afccc88>,\n",
       "  <pywren.future.ResponseFuture at 0x7fab0afcc8d0>,\n",
       "  <pywren.future.ResponseFuture at 0x7fab0b03b470>,\n",
       "  <pywren.future.ResponseFuture at 0x7fab0afccc50>,\n",
       "  <pywren.future.ResponseFuture at 0x7fab0afd1ac8>,\n",
       "  <pywren.future.ResponseFuture at 0x7fab0afcc470>,\n",
       "  <pywren.future.ResponseFuture at 0x7fab0afc3438>,\n",
       "  <pywren.future.ResponseFuture at 0x7fab0b007b38>,\n",
       "  <pywren.future.ResponseFuture at 0x7fab0b03bb70>,\n",
       "  <pywren.future.ResponseFuture at 0x7fab0b027da0>,\n",
       "  <pywren.future.ResponseFuture at 0x7fab0b03b630>,\n",
       "  <pywren.future.ResponseFuture at 0x7fab0b03bba8>,\n",
       "  <pywren.future.ResponseFuture at 0x7fab0b0277b8>,\n",
       "  <pywren.future.ResponseFuture at 0x7fab0b0276a0>,\n",
       "  <pywren.future.ResponseFuture at 0x7fab0b007e10>,\n",
       "  <pywren.future.ResponseFuture at 0x7fab0b0272b0>,\n",
       "  <pywren.future.ResponseFuture at 0x7fab0b03b278>,\n",
       "  <pywren.future.ResponseFuture at 0x7fab0b03b940>,\n",
       "  <pywren.future.ResponseFuture at 0x7fab0afd1cf8>,\n",
       "  <pywren.future.ResponseFuture at 0x7fab0b03b4a8>,\n",
       "  <pywren.future.ResponseFuture at 0x7fab0b0075c0>,\n",
       "  <pywren.future.ResponseFuture at 0x7fab0b007588>,\n",
       "  <pywren.future.ResponseFuture at 0x7fab0b007710>,\n",
       "  <pywren.future.ResponseFuture at 0x7fab0b027eb8>,\n",
       "  <pywren.future.ResponseFuture at 0x7fab0b023a58>,\n",
       "  <pywren.future.ResponseFuture at 0x7fab0b03b400>,\n",
       "  <pywren.future.ResponseFuture at 0x7fab0afd19b0>,\n",
       "  <pywren.future.ResponseFuture at 0x7fab0afc3a58>,\n",
       "  <pywren.future.ResponseFuture at 0x7fab0b027208>,\n",
       "  <pywren.future.ResponseFuture at 0x7fab0afc3390>,\n",
       "  <pywren.future.ResponseFuture at 0x7fab0afd1e10>,\n",
       "  <pywren.future.ResponseFuture at 0x7fab0afccc18>,\n",
       "  <pywren.future.ResponseFuture at 0x7fab0b023a90>,\n",
       "  <pywren.future.ResponseFuture at 0x7fab0afcccc0>,\n",
       "  <pywren.future.ResponseFuture at 0x7fab0b027d68>,\n",
       "  <pywren.future.ResponseFuture at 0x7fab0b023cc0>,\n",
       "  <pywren.future.ResponseFuture at 0x7fab0afcc0b8>,\n",
       "  <pywren.future.ResponseFuture at 0x7fab0b00f0f0>,\n",
       "  <pywren.future.ResponseFuture at 0x7fab0b0134a8>,\n",
       "  <pywren.future.ResponseFuture at 0x7fab0b03b160>,\n",
       "  <pywren.future.ResponseFuture at 0x7fab0b007d68>,\n",
       "  <pywren.future.ResponseFuture at 0x7fab0b03b438>,\n",
       "  <pywren.future.ResponseFuture at 0x7fab0b013400>,\n",
       "  <pywren.future.ResponseFuture at 0x7fab0b0135f8>,\n",
       "  <pywren.future.ResponseFuture at 0x7fab0b00f828>,\n",
       "  <pywren.future.ResponseFuture at 0x7fab0b013208>,\n",
       "  <pywren.future.ResponseFuture at 0x7fab0b00f0b8>,\n",
       "  <pywren.future.ResponseFuture at 0x7fab0afcc208>,\n",
       "  <pywren.future.ResponseFuture at 0x7fab0b00f198>,\n",
       "  <pywren.future.ResponseFuture at 0x7fab0b013eb8>,\n",
       "  <pywren.future.ResponseFuture at 0x7fab0afd17f0>,\n",
       "  <pywren.future.ResponseFuture at 0x7fab0afcc198>,\n",
       "  <pywren.future.ResponseFuture at 0x7fab0b0136d8>,\n",
       "  <pywren.future.ResponseFuture at 0x7fab0b013da0>,\n",
       "  <pywren.future.ResponseFuture at 0x7fab0afc3d68>,\n",
       "  <pywren.future.ResponseFuture at 0x7fab0b013f98>,\n",
       "  <pywren.future.ResponseFuture at 0x7fab0b00f668>,\n",
       "  <pywren.future.ResponseFuture at 0x7fab0b0270b8>,\n",
       "  <pywren.future.ResponseFuture at 0x7fab0afccef0>,\n",
       "  <pywren.future.ResponseFuture at 0x7fab0b023cf8>,\n",
       "  <pywren.future.ResponseFuture at 0x7fab0afd1198>,\n",
       "  <pywren.future.ResponseFuture at 0x7fab0afd1ef0>,\n",
       "  <pywren.future.ResponseFuture at 0x7fab0b023588>,\n",
       "  <pywren.future.ResponseFuture at 0x7fab0b027048>,\n",
       "  <pywren.future.ResponseFuture at 0x7fab0afd1400>,\n",
       "  <pywren.future.ResponseFuture at 0x7fab0b03b0b8>,\n",
       "  <pywren.future.ResponseFuture at 0x7fab0b027748>,\n",
       "  <pywren.future.ResponseFuture at 0x7fab0b03bc88>,\n",
       "  <pywren.future.ResponseFuture at 0x7fab0b027f60>,\n",
       "  <pywren.future.ResponseFuture at 0x7fab0b0076d8>,\n",
       "  <pywren.future.ResponseFuture at 0x7fab0b027080>,\n",
       "  <pywren.future.ResponseFuture at 0x7fab0b00bf60>,\n",
       "  <pywren.future.ResponseFuture at 0x7fab0b007438>,\n",
       "  <pywren.future.ResponseFuture at 0x7fab0b023e48>,\n",
       "  <pywren.future.ResponseFuture at 0x7fae1992bc50>,\n",
       "  <pywren.future.ResponseFuture at 0x7fab0b00f6d8>,\n",
       "  <pywren.future.ResponseFuture at 0x7fae1992bfd0>,\n",
       "  <pywren.future.ResponseFuture at 0x7fab0b00b4a8>,\n",
       "  <pywren.future.ResponseFuture at 0x7fae1992bb70>,\n",
       "  <pywren.future.ResponseFuture at 0x7fab0afc39e8>,\n",
       "  <pywren.future.ResponseFuture at 0x7fab0afccb70>,\n",
       "  <pywren.future.ResponseFuture at 0x7fae1992bcc0>,\n",
       "  <pywren.future.ResponseFuture at 0x7fab0afc34a8>,\n",
       "  <pywren.future.ResponseFuture at 0x7fab0b0071d0>,\n",
       "  <pywren.future.ResponseFuture at 0x7fab0afcc0f0>,\n",
       "  <pywren.future.ResponseFuture at 0x7fab0b007a90>,\n",
       "  <pywren.future.ResponseFuture at 0x7fab0b007c88>,\n",
       "  <pywren.future.ResponseFuture at 0x7fab0b027358>,\n",
       "  <pywren.future.ResponseFuture at 0x7fab0b03b828>,\n",
       "  <pywren.future.ResponseFuture at 0x7fab0afccdd8>,\n",
       "  <pywren.future.ResponseFuture at 0x7fab0b00b6a0>,\n",
       "  <pywren.future.ResponseFuture at 0x7fab0afd1a58>,\n",
       "  <pywren.future.ResponseFuture at 0x7fab0b027f28>,\n",
       "  <pywren.future.ResponseFuture at 0x7fab0b00b668>,\n",
       "  <pywren.future.ResponseFuture at 0x7fab0b00b3c8>,\n",
       "  <pywren.future.ResponseFuture at 0x7fab0b00b0f0>,\n",
       "  <pywren.future.ResponseFuture at 0x7fab0b00fa20>,\n",
       "  <pywren.future.ResponseFuture at 0x7fae1992ba58>,\n",
       "  <pywren.future.ResponseFuture at 0x7fab0b00b8d0>,\n",
       "  <pywren.future.ResponseFuture at 0x7fab0afc3c88>,\n",
       "  <pywren.future.ResponseFuture at 0x7fab0b0130b8>,\n",
       "  <pywren.future.ResponseFuture at 0x7fab0b07dba8>,\n",
       "  <pywren.future.ResponseFuture at 0x7fab0b013780>,\n",
       "  <pywren.future.ResponseFuture at 0x7fab0b07da20>,\n",
       "  <pywren.future.ResponseFuture at 0x7fab0b07db70>,\n",
       "  <pywren.future.ResponseFuture at 0x7fab0b00bb38>,\n",
       "  <pywren.future.ResponseFuture at 0x7fab0b07d588>,\n",
       "  <pywren.future.ResponseFuture at 0x7fab0b00b400>,\n",
       "  <pywren.future.ResponseFuture at 0x7fab0b00fd30>,\n",
       "  <pywren.future.ResponseFuture at 0x7fab0b07d400>,\n",
       "  <pywren.future.ResponseFuture at 0x7fab0b027978>,\n",
       "  <pywren.future.ResponseFuture at 0x7fab0b00f4e0>,\n",
       "  <pywren.future.ResponseFuture at 0x7fae1992bc18>,\n",
       "  <pywren.future.ResponseFuture at 0x7fab0b078320>,\n",
       "  <pywren.future.ResponseFuture at 0x7fab0b023668>,\n",
       "  <pywren.future.ResponseFuture at 0x7fab0afc3198>,\n",
       "  <pywren.future.ResponseFuture at 0x7fab0b027940>,\n",
       "  <pywren.future.ResponseFuture at 0x7fab0afcc048>,\n",
       "  <pywren.future.ResponseFuture at 0x7fab0afc3f60>,\n",
       "  <pywren.future.ResponseFuture at 0x7fab0b007240>,\n",
       "  <pywren.future.ResponseFuture at 0x7fab0b078d30>,\n",
       "  <pywren.future.ResponseFuture at 0x7fab0b0271d0>,\n",
       "  <pywren.future.ResponseFuture at 0x7fab0afd1780>,\n",
       "  <pywren.future.ResponseFuture at 0x7fab0b00fac8>,\n",
       "  <pywren.future.ResponseFuture at 0x7fab0b0786d8>,\n",
       "  <pywren.future.ResponseFuture at 0x7fab0afc3b38>,\n",
       "  <pywren.future.ResponseFuture at 0x7fab0b0f1eb8>,\n",
       "  <pywren.future.ResponseFuture at 0x7fae1992b198>,\n",
       "  <pywren.future.ResponseFuture at 0x7fab0b023128>,\n",
       "  <pywren.future.ResponseFuture at 0x7fab0b027240>,\n",
       "  <pywren.future.ResponseFuture at 0x7fab0b67f550>,\n",
       "  <pywren.future.ResponseFuture at 0x7fab0b023320>,\n",
       "  <pywren.future.ResponseFuture at 0x7fab0afc3978>,\n",
       "  <pywren.future.ResponseFuture at 0x7fab0b007d30>,\n",
       "  <pywren.future.ResponseFuture at 0x7fab0afc34e0>,\n",
       "  <pywren.future.ResponseFuture at 0x7fab0b03b550>,\n",
       "  <pywren.future.ResponseFuture at 0x7fab0b023240>,\n",
       "  <pywren.future.ResponseFuture at 0x7fab0b00bbe0>,\n",
       "  <pywren.future.ResponseFuture at 0x7fab0b422c18>,\n",
       "  <pywren.future.ResponseFuture at 0x7fab0b083240>,\n",
       "  <pywren.future.ResponseFuture at 0x7fab0b007a20>,\n",
       "  <pywren.future.ResponseFuture at 0x7fab0b07deb8>,\n",
       "  <pywren.future.ResponseFuture at 0x7fab0b0f1ba8>,\n",
       "  <pywren.future.ResponseFuture at 0x7fab0b07def0>,\n",
       "  <pywren.future.ResponseFuture at 0x7fab0b228c88>,\n",
       "  <pywren.future.ResponseFuture at 0x7fab0b422f98>,\n",
       "  <pywren.future.ResponseFuture at 0x7fab0b1052e8>,\n",
       "  <pywren.future.ResponseFuture at 0x7fab0b08a6d8>,\n",
       "  <pywren.future.ResponseFuture at 0x7fab0b1360f0>,\n",
       "  <pywren.future.ResponseFuture at 0x7fab0b00be10>,\n",
       "  <pywren.future.ResponseFuture at 0x7fab0afc3c50>,\n",
       "  <pywren.future.ResponseFuture at 0x7fab0b00b860>,\n",
       "  <pywren.future.ResponseFuture at 0x7fab0b07dfd0>,\n",
       "  <pywren.future.ResponseFuture at 0x7fab0b07d160>,\n",
       "  <pywren.future.ResponseFuture at 0x7fab0b0835c0>,\n",
       "  <pywren.future.ResponseFuture at 0x7fab0b0f10f0>,\n",
       "  <pywren.future.ResponseFuture at 0x7fab0b083c88>,\n",
       "  <pywren.future.ResponseFuture at 0x7fab0afd1860>,\n",
       "  <pywren.future.ResponseFuture at 0x7fab0b14d128>,\n",
       "  <pywren.future.ResponseFuture at 0x7fab0b0e7d68>,\n",
       "  <pywren.future.ResponseFuture at 0x7fab0afd1dd8>,\n",
       "  <pywren.future.ResponseFuture at 0x7fab0b078e80>,\n",
       "  <pywren.future.ResponseFuture at 0x7fab0afc3ba8>,\n",
       "  <pywren.future.ResponseFuture at 0x7fab0b00b2b0>,\n",
       "  <pywren.future.ResponseFuture at 0x7fab0b08fa90>,\n",
       "  <pywren.future.ResponseFuture at 0x7fab0b08fb70>,\n",
       "  <pywren.future.ResponseFuture at 0x7fab0b0837f0>,\n",
       "  <pywren.future.ResponseFuture at 0x7fab0b08f3c8>,\n",
       "  <pywren.future.ResponseFuture at 0x7fab0afd1898>,\n",
       "  <pywren.future.ResponseFuture at 0x7fab0b0f8208>,\n",
       "  <pywren.future.ResponseFuture at 0x7fae1992b668>,\n",
       "  <pywren.future.ResponseFuture at 0x7fab0b0f8ac8>,\n",
       "  <pywren.future.ResponseFuture at 0x7fab0b0a0940>,\n",
       "  <pywren.future.ResponseFuture at 0x7fab0b0a60b8>,\n",
       "  <pywren.future.ResponseFuture at 0x7fab0b099390>,\n",
       "  <pywren.future.ResponseFuture at 0x7fab0b0a6e48>,\n",
       "  <pywren.future.ResponseFuture at 0x7fab0afd1da0>,\n",
       "  <pywren.future.ResponseFuture at 0x7fab0b0adf98>,\n",
       "  <pywren.future.ResponseFuture at 0x7fab0b099b00>,\n",
       "  <pywren.future.ResponseFuture at 0x7fab0b0a0320>,\n",
       "  <pywren.future.ResponseFuture at 0x7fab0b0ad470>,\n",
       "  <pywren.future.ResponseFuture at 0x7fab0b0a0470>,\n",
       "  <pywren.future.ResponseFuture at 0x7fab0b099160>,\n",
       "  <pywren.future.ResponseFuture at 0x7fab0b0ad4a8>,\n",
       "  <pywren.future.ResponseFuture at 0x7fab0b0a0d68>,\n",
       "  <pywren.future.ResponseFuture at 0x7fab0b0a66d8>,\n",
       "  <pywren.future.ResponseFuture at 0x7fab0b0996d8>,\n",
       "  <pywren.future.ResponseFuture at 0x7fab0b0a6cc0>,\n",
       "  <pywren.future.ResponseFuture at 0x7fab0b0ad358>,\n",
       "  <pywren.future.ResponseFuture at 0x7fab0b14d160>,\n",
       "  <pywren.future.ResponseFuture at 0x7fab0b0ad550>,\n",
       "  <pywren.future.ResponseFuture at 0x7fab0b0e7be0>,\n",
       "  <pywren.future.ResponseFuture at 0x7fab0b099278>,\n",
       "  <pywren.future.ResponseFuture at 0x7fab0b099198>,\n",
       "  <pywren.future.ResponseFuture at 0x7fab0b08f400>,\n",
       "  <pywren.future.ResponseFuture at 0x7fab0b078cc0>,\n",
       "  <pywren.future.ResponseFuture at 0x7fae1992b860>,\n",
       "  <pywren.future.ResponseFuture at 0x7fab0b422ef0>,\n",
       "  <pywren.future.ResponseFuture at 0x7fab0b023c18>,\n",
       "  <pywren.future.ResponseFuture at 0x7fab0b083da0>,\n",
       "  <pywren.future.ResponseFuture at 0x7fab0b099d30>,\n",
       "  <pywren.future.ResponseFuture at 0x7fab0b00f630>,\n",
       "  <pywren.future.ResponseFuture at 0x7fab0b00b7f0>,\n",
       "  <pywren.future.ResponseFuture at 0x7fab0b08a438>,\n",
       "  <pywren.future.ResponseFuture at 0x7fab0b08aeb8>,\n",
       "  <pywren.future.ResponseFuture at 0x7fab0b0a6390>,\n",
       "  <pywren.future.ResponseFuture at 0x7fab0afcc518>,\n",
       "  <pywren.future.ResponseFuture at 0x7fab0b0a6ac8>,\n",
       "  <pywren.future.ResponseFuture at 0x7fab0b0b62b0>,\n",
       "  <pywren.future.ResponseFuture at 0x7fab0b0274e0>,\n",
       "  <pywren.future.ResponseFuture at 0x7fab0b0b6588>,\n",
       "  <pywren.future.ResponseFuture at 0x7fab0b0f1b00>,\n",
       "  <pywren.future.ResponseFuture at 0x7fab0b0b6898>,\n",
       "  <pywren.future.ResponseFuture at 0x7fab0b023a20>,\n",
       "  <pywren.future.ResponseFuture at 0x7fab0b023940>,\n",
       "  <pywren.future.ResponseFuture at 0x7fab0b027e10>,\n",
       "  <pywren.future.ResponseFuture at 0x7fab0afc3ef0>,\n",
       "  <pywren.future.ResponseFuture at 0x7fab0b0b6278>,\n",
       "  <pywren.future.ResponseFuture at 0x7fab0b08a0f0>,\n",
       "  <pywren.future.ResponseFuture at 0x7fab0b0835f8>,\n",
       "  <pywren.future.ResponseFuture at 0x7fab0afc3710>,\n",
       "  <pywren.future.ResponseFuture at 0x7fab0b013128>,\n",
       "  <pywren.future.ResponseFuture at 0x7fab0b08f080>,\n",
       "  <pywren.future.ResponseFuture at 0x7fab0b08fb38>,\n",
       "  <pywren.future.ResponseFuture at 0x7fab0b00ba58>,\n",
       "  <pywren.future.ResponseFuture at 0x7fab0b0a6b00>,\n",
       "  <pywren.future.ResponseFuture at 0x7fab0afc3eb8>,\n",
       "  <pywren.future.ResponseFuture at 0x7fab0b0a61d0>,\n",
       "  <pywren.future.ResponseFuture at 0x7fab0b0a05f8>,\n",
       "  <pywren.future.ResponseFuture at 0x7fae1992bd68>,\n",
       "  <pywren.future.ResponseFuture at 0x7fab0b08f518>,\n",
       "  <pywren.future.ResponseFuture at 0x7fab0afc35f8>,\n",
       "  <pywren.future.ResponseFuture at 0x7fab0b0ad438>,\n",
       "  <pywren.future.ResponseFuture at 0x7fab0b0f8dd8>,\n",
       "  <pywren.future.ResponseFuture at 0x7fab0b0e7b00>,\n",
       "  <pywren.future.ResponseFuture at 0x7fab0b054240>,\n",
       "  <pywren.future.ResponseFuture at 0x7fab0b0994a8>,\n",
       "  <pywren.future.ResponseFuture at 0x7fab0b05d978>,\n",
       "  <pywren.future.ResponseFuture at 0x7fae194b4358>,\n",
       "  <pywren.future.ResponseFuture at 0x7fab0b0ade80>,\n",
       "  <pywren.future.ResponseFuture at 0x7fae785cb358>,\n",
       "  <pywren.future.ResponseFuture at 0x7fab0b099240>,\n",
       "  <pywren.future.ResponseFuture at 0x7fae194b4dd8>,\n",
       "  <pywren.future.ResponseFuture at 0x7fab0b054908>,\n",
       "  <pywren.future.ResponseFuture at 0x7fab0b054898>,\n",
       "  <pywren.future.ResponseFuture at 0x7fab0b043ba8>,\n",
       "  <pywren.future.ResponseFuture at 0x7fab0b0627f0>,\n",
       "  <pywren.future.ResponseFuture at 0x7fab0b0b6f60>,\n",
       "  ...],\n",
       " [])"
      ]
     },
     "execution_count": 29,
     "metadata": {},
     "output_type": "execute_result"
    }
   ],
   "source": [
    "%time pywren.wait(feature_futures)"
   ]
  },
  {
   "cell_type": "code",
   "execution_count": 30,
   "metadata": {
    "collapsed": false
   },
   "outputs": [],
   "source": [
    "features = np.vstack([f.result() for f in feature_futures])"
   ]
  },
  {
   "cell_type": "code",
   "execution_count": 33,
   "metadata": {
    "collapsed": false
   },
   "outputs": [
    {
     "name": "stdout",
     "output_type": "stream",
     "text": [
      "CPU times: user 21min 9s, sys: 0 ns, total: 21min 9s\n",
      "Wall time: 49.1 s\n"
     ]
    }
   ],
   "source": [
    "%time XTX = features.T.dot(features)"
   ]
  },
  {
   "cell_type": "code",
   "execution_count": 34,
   "metadata": {
    "collapsed": false
   },
   "outputs": [
    {
     "data": {
      "text/plain": [
       "array([[  4.45154479e+02,  -3.44541838e+02,   4.20266074e+01, ...,\n",
       "         -9.29577052e-02,  -3.56183530e-01,  -3.91153535e-01],\n",
       "       [ -3.44541838e+02,   2.90645346e+03,  -2.64478581e+02, ...,\n",
       "         -3.36087374e-01,   7.66682010e-01,   1.00876545e+00],\n",
       "       [  4.20266074e+01,  -2.64478581e+02,   3.86710191e+02, ...,\n",
       "         -1.27653329e-01,  -2.85495995e-01,  -3.32583768e-01],\n",
       "       ..., \n",
       "       [ -9.29577052e-02,  -3.36087374e-01,  -1.27653329e-01, ...,\n",
       "          2.90655973e-02,   1.80524526e-02,   8.80422563e-03],\n",
       "       [ -3.56183530e-01,   7.66682010e-01,  -2.85495995e-01, ...,\n",
       "          1.80524526e-02,   1.70111723e-02,   1.35946282e-02],\n",
       "       [ -3.91153535e-01,   1.00876545e+00,  -3.32583768e-01, ...,\n",
       "          8.80422563e-03,   1.35946282e-02,   1.84163342e-02]])"
      ]
     },
     "execution_count": 34,
     "metadata": {},
     "output_type": "execute_result"
    }
   ],
   "source": [
    "XTX"
   ]
  },
  {
   "cell_type": "code",
   "execution_count": 38,
   "metadata": {
    "collapsed": true
   },
   "outputs": [],
   "source": [
    "y_train = np.load(\"scrambled_train_labels.npy\")"
   ]
  },
  {
   "cell_type": "code",
   "execution_count": 40,
   "metadata": {
    "collapsed": false
   },
   "outputs": [],
   "source": [
    "y_train_enc = np.eye(1000)[y_train.astype('int').ravel()]"
   ]
  },
  {
   "cell_type": "code",
   "execution_count": 43,
   "metadata": {
    "collapsed": false
   },
   "outputs": [
    {
     "name": "stdout",
     "output_type": "stream",
     "text": [
      "CPU times: user 9min 18s, sys: 3min 3s, total: 12min 22s\n",
      "Wall time: 23.8 s\n"
     ]
    }
   ],
   "source": [
    "%time XTy = features.T.dot(y_train_enc)"
   ]
  },
  {
   "cell_type": "code",
   "execution_count": 48,
   "metadata": {
    "collapsed": false
   },
   "outputs": [],
   "source": [
    "np.save(\"features_fv\", features)"
   ]
  },
  {
   "cell_type": "code",
   "execution_count": 47,
   "metadata": {
    "collapsed": false
   },
   "outputs": [
    {
     "data": {
      "text/plain": [
       "dtype('float64')"
      ]
     },
     "execution_count": 47,
     "metadata": {},
     "output_type": "execute_result"
    }
   ],
   "source": [
    "XTX.dtype"
   ]
  },
  {
   "cell_type": "code",
   "execution_count": 46,
   "metadata": {
    "collapsed": false
   },
   "outputs": [
    {
     "ename": "KeyboardInterrupt",
     "evalue": "",
     "output_type": "error",
     "traceback": [
      "\u001b[0;31m---------------------------------------------------------------------------\u001b[0m",
      "\u001b[0;31mKeyboardInterrupt\u001b[0m                         Traceback (most recent call last)",
      "\u001b[0;32m<ipython-input-46-501e7bb0f86b>\u001b[0m in \u001b[0;36m<module>\u001b[0;34m()\u001b[0m\n\u001b[0;32m----> 1\u001b[0;31m \u001b[0mscipy\u001b[0m\u001b[0;34m.\u001b[0m\u001b[0mlinalg\u001b[0m\u001b[0;34m.\u001b[0m\u001b[0msolve\u001b[0m\u001b[0;34m(\u001b[0m\u001b[0mXTX\u001b[0m\u001b[0;34m,\u001b[0m \u001b[0mXTy\u001b[0m\u001b[0;34m)\u001b[0m\u001b[0;34m\u001b[0m\u001b[0m\n\u001b[0m",
      "\u001b[0;32m/home/ubuntu/anaconda3/lib/python3.6/site-packages/scipy/linalg/basic.py\u001b[0m in \u001b[0;36msolve\u001b[0;34m(a, b, sym_pos, lower, overwrite_a, overwrite_b, debug, check_finite, assume_a, transposed)\u001b[0m\n\u001b[1;32m    176\u001b[0m                                        \u001b[0mtrans\u001b[0m\u001b[0;34m=\u001b[0m\u001b[0mtrans_conj\u001b[0m\u001b[0;34m,\u001b[0m\u001b[0;34m\u001b[0m\u001b[0m\n\u001b[1;32m    177\u001b[0m                                        \u001b[0moverwrite_a\u001b[0m\u001b[0;34m=\u001b[0m\u001b[0moverwrite_a\u001b[0m\u001b[0;34m,\u001b[0m\u001b[0;34m\u001b[0m\u001b[0m\n\u001b[0;32m--> 178\u001b[0;31m                                        \u001b[0moverwrite_b\u001b[0m\u001b[0;34m=\u001b[0m\u001b[0moverwrite_b\u001b[0m\u001b[0;34m\u001b[0m\u001b[0m\n\u001b[0m\u001b[1;32m    179\u001b[0m                                        )\n\u001b[1;32m    180\u001b[0m     \u001b[0;32melif\u001b[0m \u001b[0m_structure\u001b[0m \u001b[0;34m==\u001b[0m \u001b[0;34m'sym'\u001b[0m\u001b[0;34m:\u001b[0m\u001b[0;34m\u001b[0m\u001b[0m\n",
      "\u001b[0;31mKeyboardInterrupt\u001b[0m: "
     ]
    }
   ],
   "source": [
    "%time scipy.linalg.solve(XTX, XTy)"
   ]
  },
  {
   "cell_type": "code",
   "execution_count": 93,
   "metadata": {
    "collapsed": false
   },
   "outputs": [
    {
     "name": "stdout",
     "output_type": "stream",
     "text": [
      "Help on function default_executor in module pywren.wren:\n",
      "\n",
      "default_executor(**kwargs)\n",
      "\n"
     ]
    }
   ],
   "source": [
    "help(pywren.default_executor)"
   ]
  },
  {
   "cell_type": "code",
   "execution_count": 98,
   "metadata": {
    "collapsed": false
   },
   "outputs": [
    {
     "name": "stdout",
     "output_type": "stream",
     "text": [
      "CPU times: user 8min 49s, sys: 31.6 s, total: 9min 21s\n",
      "Wall time: 3min 22s\n"
     ]
    }
   ],
   "source": [
    "%time futures = pwex.map(lambda x: pywren_dense_sift_multiscale(X_train_sharded, x, sample=5e-5), X_train_sharded._block_idxs(0), exclude_modules=[\"site-packages\"])"
   ]
  },
  {
   "cell_type": "code",
   "execution_count": null,
   "metadata": {
    "collapsed": false
   },
   "outputs": [],
   "source": [
    "import time\n",
    "s = time.time()\n",
    "%time pywren.wait(futures)\n",
    "e = time.time()\n",
    "tot = e - s\n",
    "print(\"took {0}\".format(tot))"
   ]
  },
  {
   "cell_type": "code",
   "execution_count": 101,
   "metadata": {
    "collapsed": false
   },
   "outputs": [
    {
     "data": {
      "text/plain": [
       "1353.2402279376984"
      ]
     },
     "execution_count": 101,
     "metadata": {},
     "output_type": "execute_result"
    }
   ],
   "source": [
    "tot"
   ]
  },
  {
   "cell_type": "code",
   "execution_count": 102,
   "metadata": {
    "collapsed": false
   },
   "outputs": [],
   "source": [
    "words = np.vstack([f.result() for f in futures])"
   ]
  },
  {
   "cell_type": "code",
   "execution_count": 103,
   "metadata": {
    "collapsed": false
   },
   "outputs": [
    {
     "data": {
      "text/plain": [
       "(1101003, 128)"
      ]
     },
     "execution_count": 103,
     "metadata": {},
     "output_type": "execute_result"
    }
   ],
   "source": [
    "words.shape"
   ]
  },
  {
   "cell_type": "code",
   "execution_count": 110,
   "metadata": {
    "collapsed": false
   },
   "outputs": [
    {
     "name": "stdout",
     "output_type": "stream",
     "text": [
      "Image: w 256, h 256, gs 4, ps 24, nFea 3481\n",
      "Image: w 256, h 256, gs 4, ps 24, nFea 3481\n",
      "Image: w 256, h 256, gs 4, ps 24, nFea 3481\n",
      "Image: w 256, h 256, gs 4, ps 24, nFea 3481\n",
      "Image: w 256, h 256, gs 4, ps 24, nFea 3481\n"
     ]
    }
   ],
   "source": [
    "words_image_0 = dense_sift_multiscale(row_images[:1])"
   ]
  },
  {
   "cell_type": "code",
   "execution_count": 57,
   "metadata": {
    "collapsed": false
   },
   "outputs": [
    {
     "data": {
      "text/plain": [
       "16.0"
      ]
     },
     "execution_count": 57,
     "metadata": {},
     "output_type": "execute_result"
    }
   ],
   "source": [
    "256/4096"
   ]
  },
  {
   "cell_type": "code",
   "execution_count": 104,
   "metadata": {
    "collapsed": false
   },
   "outputs": [
    {
     "name": "stdout",
     "output_type": "stream",
     "text": [
      "CPU times: user 0 ns, sys: 0 ns, total: 0 ns\n",
      "Wall time: 52.7 µs\n",
      "Initialization 0\n",
      "  Iteration 0\t time lapse 75.96546s\t ll change inf\n",
      "  Iteration 10\t time lapse 29.05130s\t ll change 0.75595\n",
      "  Iteration 20\t time lapse 28.86260s\t ll change 0.16774\n",
      "  Iteration 30\t time lapse 28.11720s\t ll change 0.11935\n",
      "  Iteration 40\t time lapse 28.29290s\t ll change 0.05682\n",
      "  Iteration 50\t time lapse 27.85616s\t ll change 0.02121\n",
      "  Iteration 60\t time lapse 27.78878s\t ll change 0.01390\n",
      "  Iteration 70\t time lapse 28.27190s\t ll change 0.01198\n",
      "  Iteration 80\t time lapse 28.12029s\t ll change 0.03602\n",
      "  Iteration 90\t time lapse 28.16355s\t ll change 0.01980\n",
      "  Iteration 100\t time lapse 28.08916s\t ll change 0.01111\n",
      "  Iteration 110\t time lapse 27.49411s\t ll change 0.00456\n",
      "  Iteration 120\t time lapse 27.86015s\t ll change 0.00363\n",
      "  Iteration 130\t time lapse 27.65707s\t ll change 0.00131\n",
      "  Iteration 140\t time lapse 27.56081s\t ll change 0.00106\n",
      "Initialization converged: True\t time lapse 483.25179s\t ll 219.55726\n",
      "CPU times: user 1h 19min 10s, sys: 7min 28s, total: 1h 26min 39s\n",
      "Wall time: 8min 3s\n"
     ]
    },
    {
     "data": {
      "text/plain": [
       "GaussianMixture(covariance_type='diag', init_params='kmeans', max_iter=200,\n",
       "        means_init=None, n_components=16, n_init=1, precisions_init=None,\n",
       "        random_state=None, reg_covar=1e-06, tol=0.001, verbose=3,\n",
       "        verbose_interval=10, warm_start=False, weights_init=None)"
      ]
     },
     "execution_count": 104,
     "metadata": {},
     "output_type": "execute_result"
    }
   ],
   "source": [
    "%time gmm = GaussianMixture(n_components=16, covariance_type='diag', verbose=3, init_params=\"kmeans\", max_iter=200)\n",
    "%time gmm.fit(words)\n"
   ]
  },
  {
   "cell_type": "code",
   "execution_count": 19,
   "metadata": {
    "collapsed": false
   },
   "outputs": [],
   "source": [
    "import pickle"
   ]
  },
  {
   "cell_type": "code",
   "execution_count": 108,
   "metadata": {
    "collapsed": true
   },
   "outputs": [],
   "source": [
    "gmm_bytes = pickle.dumps(gmm)"
   ]
  },
  {
   "cell_type": "code",
   "execution_count": 112,
   "metadata": {
    "collapsed": false
   },
   "outputs": [
    {
     "data": {
      "text/plain": [
       "66641"
      ]
     },
     "execution_count": 112,
     "metadata": {},
     "output_type": "execute_result"
    }
   ],
   "source": [
    "len(gmm_bytes)"
   ]
  },
  {
   "cell_type": "code",
   "execution_count": 109,
   "metadata": {
    "collapsed": true
   },
   "outputs": [],
   "source": [
    "with open(\"gmm_16_sift_only\", \"wb\") as f:\n",
    "    f.write(gmm_bytes)"
   ]
  },
  {
   "cell_type": "code",
   "execution_count": 11,
   "metadata": {
    "collapsed": true
   },
   "outputs": [],
   "source": [
    "import pickle"
   ]
  },
  {
   "cell_type": "code",
   "execution_count": 12,
   "metadata": {
    "collapsed": false
   },
   "outputs": [],
   "source": [
    "with open(\"gmm_16_sift_only\", \"rb\") as f:\n",
    "    gmm = pickle.loads(f.read())"
   ]
  },
  {
   "cell_type": "code",
   "execution_count": 111,
   "metadata": {
    "collapsed": false
   },
   "outputs": [
    {
     "name": "stdout",
     "output_type": "stream",
     "text": [
      "CPU times: user 840 ms, sys: 204 ms, total: 1.04 s\n",
      "Wall time: 3.74 s\n"
     ]
    }
   ],
   "source": [
    "pwex = pywren.default_executor()\n",
    "%time futures = pwex.map(lambda x: fisher_vector(x, gmm), [words_image_0])"
   ]
  },
  {
   "cell_type": "code",
   "execution_count": 84,
   "metadata": {
    "collapsed": false
   },
   "outputs": [
    {
     "data": {
      "text/plain": [
       "0.05605602264404297"
      ]
     },
     "execution_count": 84,
     "metadata": {},
     "output_type": "execute_result"
    }
   ],
   "source": [
    "futures[0].result()[-1]"
   ]
  },
  {
   "cell_type": "code",
   "execution_count": 34,
   "metadata": {
    "collapsed": false
   },
   "outputs": [
    {
     "name": "stdout",
     "output_type": "stream",
     "text": [
      "Image: w 256, h 256, gs 4, ps 24, nFea 3481\n",
      "Image: w 256, h 256, gs 4, ps 24, nFea 3481\n",
      "Image: w 256, h 256, gs 4, ps 24, nFea 3481\n",
      "Image: w 256, h 256, gs 4, ps 24, nFea 3481\n",
      "Image: w 256, h 256, gs 4, ps 24, nFea 3481\n",
      "Image: w 256, h 256, gs 4, ps 24, nFea 3481\n",
      "Image: w 256, h 256, gs 4, ps 24, nFea 3481\n",
      "Image: w 256, h 256, gs 4, ps 24, nFea 3481\n",
      "Image: w 256, h 256, gs 4, ps 24, nFea 3481\n",
      "Image: w 256, h 256, gs 4, ps 24, nFea 3481\n",
      "Image: w 256, h 256, gs 4, ps 24, nFea 3481\n",
      "Image: w 256, h 256, gs 4, ps 24, nFea 3481\n",
      "Image: w 256, h 256, gs 4, ps 24, nFea 3481\n",
      "Image: w 256, h 256, gs 4, ps 24, nFea 3481\n",
      "Image: w 256, h 256, gs 4, ps 24, nFea 3481\n",
      "Image: w 256, h 256, gs 4, ps 24, nFea 3481\n",
      "Image: w 256, h 256, gs 4, ps 24, nFea 3481\n",
      "Image: w 256, h 256, gs 4, ps 24, nFea 3481\n",
      "Image: w 256, h 256, gs 4, ps 24, nFea 3481\n",
      "Image: w 256, h 256, gs 4, ps 24, nFea 3481\n",
      "Image: w 256, h 256, gs 4, ps 24, nFea 3481\n",
      "Image: w 256, h 256, gs 4, ps 24, nFea 3481\n",
      "Image: w 256, h 256, gs 4, ps 24, nFea 3481\n",
      "Image: w 256, h 256, gs 4, ps 24, nFea 3481\n",
      "Image: w 256, h 256, gs 4, ps 24, nFea 3481\n",
      "Image: w 256, h 256, gs 4, ps 24, nFea 3481\n",
      "Image: w 256, h 256, gs 4, ps 24, nFea 3481\n",
      "Image: w 256, h 256, gs 4, ps 24, nFea 3481\n",
      "Image: w 256, h 256, gs 4, ps 24, nFea 3481\n",
      "Image: w 256, h 256, gs 4, ps 24, nFea 3481\n",
      "Image: w 256, h 256, gs 4, ps 24, nFea 3481\n",
      "Image: w 256, h 256, gs 4, ps 24, nFea 3481\n",
      "Image: w 256, h 256, gs 4, ps 24, nFea 3481\n",
      "Image: w 256, h 256, gs 4, ps 24, nFea 3481\n",
      "Image: w 256, h 256, gs 4, ps 24, nFea 3481\n",
      "Image: w 256, h 256, gs 4, ps 24, nFea 3481\n",
      "Image: w 256, h 256, gs 4, ps 24, nFea 3481\n",
      "Image: w 256, h 256, gs 4, ps 24, nFea 3481\n",
      "Image: w 256, h 256, gs 4, ps 24, nFea 3481\n",
      "Image: w 256, h 256, gs 4, ps 24, nFea 3481\n",
      "Image: w 256, h 256, gs 4, ps 24, nFea 3481\n",
      "Image: w 256, h 256, gs 4, ps 24, nFea 3481\n",
      "Image: w 256, h 256, gs 4, ps 24, nFea 3481\n",
      "Image: w 256, h 256, gs 4, ps 24, nFea 3481\n",
      "Image: w 256, h 256, gs 4, ps 24, nFea 3481\n",
      "Image: w 256, h 256, gs 4, ps 24, nFea 3481\n",
      "Image: w 256, h 256, gs 4, ps 24, nFea 3481\n",
      "Image: w 256, h 256, gs 4, ps 24, nFea 3481\n",
      "Image: w 256, h 256, gs 4, ps 24, nFea 3481\n",
      "Image: w 256, h 256, gs 4, ps 24, nFea 3481\n",
      "Image: w 256, h 256, gs 4, ps 24, nFea 3481\n",
      "Image: w 256, h 256, gs 4, ps 24, nFea 3481\n",
      "Image: w 256, h 256, gs 4, ps 24, nFea 3481\n",
      "Image: w 256, h 256, gs 4, ps 24, nFea 3481\n",
      "Image: w 256, h 256, gs 4, ps 24, nFea 3481\n",
      "Image: w 256, h 256, gs 4, ps 24, nFea 3481\n",
      "Image: w 256, h 256, gs 4, ps 24, nFea 3481\n",
      "Image: w 256, h 256, gs 4, ps 24, nFea 3481\n",
      "Image: w 256, h 256, gs 4, ps 24, nFea 3481\n",
      "Image: w 256, h 256, gs 4, ps 24, nFea 3481\n",
      "Image: w 256, h 256, gs 4, ps 24, nFea 3481\n",
      "Image: w 256, h 256, gs 4, ps 24, nFea 3481\n",
      "Image: w 256, h 256, gs 4, ps 24, nFea 3481\n",
      "Image: w 256, h 256, gs 4, ps 24, nFea 3481\n",
      "Image: w 256, h 256, gs 4, ps 24, nFea 3481\n",
      "Image: w 256, h 256, gs 4, ps 24, nFea 3481\n",
      "Image: w 256, h 256, gs 4, ps 24, nFea 3481\n",
      "Image: w 256, h 256, gs 4, ps 24, nFea 3481\n",
      "Image: w 256, h 256, gs 4, ps 24, nFea 3481\n",
      "Image: w 256, h 256, gs 4, ps 24, nFea 3481\n",
      "Image: w 256, h 256, gs 4, ps 24, nFea 3481\n",
      "Image: w 256, h 256, gs 4, ps 24, nFea 3481\n",
      "Image: w 256, h 256, gs 4, ps 24, nFea 3481\n",
      "Image: w 256, h 256, gs 4, ps 24, nFea 3481\n",
      "Image: w 256, h 256, gs 4, ps 24, nFea 3481\n",
      "Image: w 256, h 256, gs 4, ps 24, nFea 3481\n",
      "Image: w 256, h 256, gs 4, ps 24, nFea 3481\n",
      "Image: w 256, h 256, gs 4, ps 24, nFea 3481\n",
      "Image: w 256, h 256, gs 4, ps 24, nFea 3481\n",
      "Image: w 256, h 256, gs 4, ps 24, nFea 3481\n",
      "Image: w 256, h 256, gs 4, ps 24, nFea 3481\n",
      "Image: w 256, h 256, gs 4, ps 24, nFea 3481\n",
      "Image: w 256, h 256, gs 4, ps 24, nFea 3481\n",
      "Image: w 256, h 256, gs 4, ps 24, nFea 3481\n",
      "Image: w 256, h 256, gs 4, ps 24, nFea 3481\n",
      "Image: w 256, h 256, gs 4, ps 24, nFea 3481\n",
      "Image: w 256, h 256, gs 4, ps 24, nFea 3481\n",
      "Image: w 256, h 256, gs 4, ps 24, nFea 3481\n",
      "Image: w 256, h 256, gs 4, ps 24, nFea 3481\n",
      "Image: w 256, h 256, gs 4, ps 24, nFea 3481\n",
      "Image: w 256, h 256, gs 4, ps 24, nFea 3481\n",
      "Image: w 256, h 256, gs 4, ps 24, nFea 3481\n",
      "Image: w 256, h 256, gs 4, ps 24, nFea 3481\n",
      "Image: w 256, h 256, gs 4, ps 24, nFea 3481\n",
      "Image: w 256, h 256, gs 4, ps 24, nFea 3481\n",
      "Image: w 256, h 256, gs 4, ps 24, nFea 3481\n",
      "Image: w 256, h 256, gs 4, ps 24, nFea 3481\n",
      "Image: w 256, h 256, gs 4, ps 24, nFea 3481\n",
      "Image: w 256, h 256, gs 4, ps 24, nFea 3481\n",
      "Image: w 256, h 256, gs 4, ps 24, nFea 3481\n",
      "Image: w 256, h 256, gs 4, ps 24, nFea 3481\n",
      "Image: w 256, h 256, gs 4, ps 24, nFea 3481\n",
      "Image: w 256, h 256, gs 4, ps 24, nFea 3481\n",
      "Image: w 256, h 256, gs 4, ps 24, nFea 3481\n",
      "Image: w 256, h 256, gs 4, ps 24, nFea 3481\n",
      "Image: w 256, h 256, gs 4, ps 24, nFea 3481\n",
      "Image: w 256, h 256, gs 4, ps 24, nFea 3481\n",
      "Image: w 256, h 256, gs 4, ps 24, nFea 3481\n",
      "Image: w 256, h 256, gs 4, ps 24, nFea 3481\n",
      "Image: w 256, h 256, gs 4, ps 24, nFea 3481\n",
      "Image: w 256, h 256, gs 4, ps 24, nFea 3481\n",
      "Image: w 256, h 256, gs 4, ps 24, nFea 3481\n",
      "Image: w 256, h 256, gs 4, ps 24, nFea 3481\n",
      "Image: w 256, h 256, gs 4, ps 24, nFea 3481\n",
      "Image: w 256, h 256, gs 4, ps 24, nFea 3481\n",
      "Image: w 256, h 256, gs 4, ps 24, nFea 3481\n",
      "Image: w 256, h 256, gs 4, ps 24, nFea 3481\n",
      "Image: w 256, h 256, gs 4, ps 24, nFea 3481\n",
      "Image: w 256, h 256, gs 4, ps 24, nFea 3481\n",
      "Image: w 256, h 256, gs 4, ps 24, nFea 3481\n",
      "Image: w 256, h 256, gs 4, ps 24, nFea 3481\n",
      "Image: w 256, h 256, gs 4, ps 24, nFea 3481\n",
      "Image: w 256, h 256, gs 4, ps 24, nFea 3481\n",
      "Image: w 256, h 256, gs 4, ps 24, nFea 3481\n",
      "Image: w 256, h 256, gs 4, ps 24, nFea 3481\n",
      "Image: w 256, h 256, gs 4, ps 24, nFea 3481\n",
      "Image: w 256, h 256, gs 4, ps 24, nFea 3481\n",
      "Image: w 256, h 256, gs 4, ps 24, nFea 3481\n",
      "Image: w 256, h 256, gs 4, ps 24, nFea 3481\n",
      "Image: w 256, h 256, gs 4, ps 24, nFea 3481\n",
      "Image: w 256, h 256, gs 4, ps 24, nFea 3481\n",
      "Image: w 256, h 256, gs 4, ps 24, nFea 3481\n",
      "Image: w 256, h 256, gs 4, ps 24, nFea 3481\n",
      "Image: w 256, h 256, gs 4, ps 24, nFea 3481\n",
      "Image: w 256, h 256, gs 4, ps 24, nFea 3481\n",
      "Image: w 256, h 256, gs 4, ps 24, nFea 3481\n",
      "Image: w 256, h 256, gs 4, ps 24, nFea 3481\n",
      "Image: w 256, h 256, gs 4, ps 24, nFea 3481\n",
      "Image: w 256, h 256, gs 4, ps 24, nFea 3481\n",
      "Image: w 256, h 256, gs 4, ps 24, nFea 3481\n",
      "Image: w 256, h 256, gs 4, ps 24, nFea 3481\n",
      "Image: w 256, h 256, gs 4, ps 24, nFea 3481\n",
      "Image: w 256, h 256, gs 4, ps 24, nFea 3481\n",
      "Image: w 256, h 256, gs 4, ps 24, nFea 3481\n",
      "Image: w 256, h 256, gs 4, ps 24, nFea 3481\n",
      "Image: w 256, h 256, gs 4, ps 24, nFea 3481\n",
      "Image: w 256, h 256, gs 4, ps 24, nFea 3481\n",
      "Image: w 256, h 256, gs 4, ps 24, nFea 3481\n",
      "Image: w 256, h 256, gs 4, ps 24, nFea 3481\n",
      "Image: w 256, h 256, gs 4, ps 24, nFea 3481\n",
      "Image: w 256, h 256, gs 4, ps 24, nFea 3481\n",
      "Image: w 256, h 256, gs 4, ps 24, nFea 3481\n",
      "Image: w 256, h 256, gs 4, ps 24, nFea 3481\n",
      "Image: w 256, h 256, gs 4, ps 24, nFea 3481\n",
      "Image: w 256, h 256, gs 4, ps 24, nFea 3481\n",
      "Image: w 256, h 256, gs 4, ps 24, nFea 3481\n",
      "Image: w 256, h 256, gs 4, ps 24, nFea 3481\n",
      "Image: w 256, h 256, gs 4, ps 24, nFea 3481\n",
      "Image: w 256, h 256, gs 4, ps 24, nFea 3481\n",
      "Image: w 256, h 256, gs 4, ps 24, nFea 3481\n",
      "CPU times: user 58.5 s, sys: 184 ms, total: 58.7 s\n",
      "Wall time: 58.6 s\n"
     ]
    },
    {
     "data": {
      "text/plain": [
       "0"
      ]
     },
     "execution_count": 34,
     "metadata": {},
     "output_type": "execute_result"
    }
   ],
   "source": [
    "%time pywren_dense_sift_multiscale(X_train_sharded, 0)"
   ]
  },
  {
   "cell_type": "code",
   "execution_count": 23,
   "metadata": {
    "collapsed": true
   },
   "outputs": [],
   "source": []
  },
  {
   "cell_type": "code",
   "execution_count": 24,
   "metadata": {
    "collapsed": false
   },
   "outputs": [],
   "source": [
    "futures = pwex.map(dense_sift_multiscale, [row_images[0]], set"
   ]
  },
  {
   "cell_type": "code",
   "execution_count": 38,
   "metadata": {
    "collapsed": false
   },
   "outputs": [
    {
     "data": {
      "text/plain": [
       "0"
      ]
     },
     "execution_count": 38,
     "metadata": {},
     "output_type": "execute_result"
    }
   ],
   "source": [
    "futures[0].result()"
   ]
  },
  {
   "cell_type": "code",
   "execution_count": 35,
   "metadata": {
    "collapsed": false
   },
   "outputs": [
    {
     "name": "stdout",
     "output_type": "stream",
     "text": [
      "CPU times: user 4.76 s, sys: 216 ms, total: 4.97 s\n",
      "Wall time: 6.01 s\n"
     ]
    }
   ],
   "source": [
    "%time futures = pwex.map(lambda x: pywren_dense_sift_multiscale(X_train_sharded, x), [0], exclude_modules=[\"site-packages\"])"
   ]
  },
  {
   "cell_type": "code",
   "execution_count": 112,
   "metadata": {
    "collapsed": false
   },
   "outputs": [
    {
     "name": "stdout",
     "output_type": "stream",
     "text": [
      "CPU times: user 0 ns, sys: 0 ns, total: 0 ns\n",
      "Wall time: 30.3 µs\n"
     ]
    },
    {
     "data": {
      "text/plain": [
       "array([[  1.63314369e-03,   5.48666872e-02,   6.13933158e-02,\n",
       "          1.04597299e-01,   2.53012604e-04,   1.48808252e-02,\n",
       "          4.73360943e-02,   1.32626936e-01,   3.36702580e-09,\n",
       "          1.81900561e-03,   4.47788652e-02,   1.73580195e-01,\n",
       "          3.63696515e-05,   3.09694201e-10,   1.67755606e-03,\n",
       "          2.69106556e-02,   1.55306405e-03,   6.57031916e-02,\n",
       "          1.67658729e-01,   9.66960392e-02,   2.85927366e-05,\n",
       "          3.49888722e-03,   1.35854885e-02,   4.19560110e-03,\n",
       "          5.63863895e-03,   5.71133385e-03,   3.87698343e-02,\n",
       "          2.32149332e-02,   1.30420008e-02,   5.86502424e-04,\n",
       "          6.83636928e-03,   1.46479269e-01,   4.24413427e-04,\n",
       "          8.51891630e-03,   4.82164081e-02,   1.11320427e-02,\n",
       "          1.80389169e-02,   2.55536173e-02,   4.23426585e-03,\n",
       "          7.12161804e-05,   2.49450598e-01,   2.49450598e-01,\n",
       "          1.17905812e-01,   9.34045572e-03,   2.49450598e-01,\n",
       "          2.49450598e-01,   1.80055586e-01,   1.74543155e-01,\n",
       "          1.12535714e-02,   2.51312199e-03,   1.09651022e-05,\n",
       "          8.11366380e-07,   4.05385939e-02,   2.10596970e-02,\n",
       "          3.98140975e-04,   5.52419820e-16,   1.63972466e-01,\n",
       "          2.43526517e-01,   9.69381646e-02,   4.99835755e-03,\n",
       "          6.13389054e-02,   2.49450598e-01,   2.49450598e-01,\n",
       "          4.98543179e-02,   2.49450598e-01,   3.47686064e-02,\n",
       "          0.00000000e+00,   0.00000000e+00,   2.43660742e-01,\n",
       "          2.52909870e-02,   8.61364874e-09,   0.00000000e+00,\n",
       "          3.27471937e-02,   3.18216760e-03,   2.53841046e-04,\n",
       "          1.76114687e-05,   3.38499570e-06,   1.00810303e-03,\n",
       "          4.94084613e-03,   2.45843797e-04,   3.51203775e-02,\n",
       "          7.01804053e-03,   1.50426850e-07,   6.12868188e-07,\n",
       "          9.79383402e-02,   1.66883389e-02,   7.80176222e-07,\n",
       "          5.95937977e-07,   9.12279342e-03,   4.73441383e-04,\n",
       "          2.44120460e-09,   1.50834364e-10,   0.00000000e+00,\n",
       "          0.00000000e+00,   0.00000000e+00,   0.00000000e+00,\n",
       "          7.84601478e-04,   5.14510316e-03,   1.31715889e-02,\n",
       "          1.10808302e-02,   2.68504668e-03,   2.43267990e-02,\n",
       "          5.50794454e-02,   2.61552766e-02,   4.66981332e-05,\n",
       "          6.23655542e-04,   1.17889375e-03,   4.89360787e-04,\n",
       "          0.00000000e+00,   0.00000000e+00,   2.92598388e-07,\n",
       "          2.99462789e-05,   1.67992803e-03,   4.96256363e-02,\n",
       "          9.43949960e-02,   9.52684995e-02,   1.82220022e-03,\n",
       "          1.01066855e-01,   2.49450598e-01,   2.37289762e-01,\n",
       "          1.24213648e-05,   3.78390767e-03,   2.24955282e-02,\n",
       "          1.24163056e-01,   0.00000000e+00,   0.00000000e+00,\n",
       "          5.29657330e-04,   1.37173205e-02],\n",
       "       [  3.82977618e-02,   2.27694921e-02,   2.72053243e-03,\n",
       "          8.94722067e-02,   6.82587464e-04,   2.37822851e-04,\n",
       "          2.00920136e-02,   2.30012359e-01,   0.00000000e+00,\n",
       "          5.45471425e-11,   4.58689736e-03,   4.52239900e-02,\n",
       "          0.00000000e+00,   1.15462124e-03,   8.74534809e-03,\n",
       "          4.23388753e-03,   2.82728105e-02,   1.20382214e-03,\n",
       "          4.44653142e-04,   9.04383409e-02,   1.09041589e-03,\n",
       "          6.85773598e-05,   1.74008208e-02,   5.35706916e-02,\n",
       "          3.63182412e-05,   6.84710573e-04,   7.13024860e-02,\n",
       "          2.17386760e-01,   2.11193144e-08,   2.86043152e-03,\n",
       "          6.74642958e-02,   8.77485584e-02,   4.22798835e-02,\n",
       "          4.87266772e-04,   2.55095568e-04,   1.41814610e-02,\n",
       "          1.38027027e-01,   9.60518883e-03,   2.68021786e-02,\n",
       "          7.35559931e-03,   1.07622334e-01,   9.58576798e-02,\n",
       "          2.57387523e-01,   2.57387523e-01,   3.27573141e-03,\n",
       "          6.60607047e-02,   2.57387523e-01,   2.57387523e-01,\n",
       "          1.50036857e-02,   2.97857954e-03,   4.47050812e-04,\n",
       "          4.72243780e-03,   2.53628650e-01,   1.90332234e-01,\n",
       "          2.88643428e-02,   1.47638962e-05,   2.57387523e-01,\n",
       "          2.57387523e-01,   1.10031425e-01,   1.17940038e-03,\n",
       "          1.03749643e-01,   1.80168761e-01,   3.18930425e-02,\n",
       "          1.67572521e-03,   2.67434770e-03,   8.02794389e-03,\n",
       "          2.35074114e-02,   2.98933956e-02,   1.79450412e-02,\n",
       "          1.19645874e-01,   2.57701729e-02,   9.89564866e-05,\n",
       "          6.13861825e-02,   6.40839945e-02,   7.70244937e-03,\n",
       "          6.13754605e-19,   1.48924626e-01,   9.05916300e-02,\n",
       "          9.89033974e-04,   0.00000000e+00,   2.06913108e-03,\n",
       "          6.60653726e-02,   2.57387523e-01,   5.55933587e-02,\n",
       "          2.35385553e-03,   6.75144225e-02,   8.44341580e-02,\n",
       "          4.86826536e-03,   2.76819442e-03,   5.58315325e-04,\n",
       "          6.68912681e-04,   1.08302213e-06,   2.00944863e-01,\n",
       "          7.90719838e-02,   1.31696621e-03,   2.89275371e-10,\n",
       "          6.12970765e-03,   1.78445643e-01,   1.35795668e-01,\n",
       "          6.11707724e-03,   1.77788689e-03,   3.03999712e-02,\n",
       "          4.56704784e-02,   6.20911766e-03,   3.08197146e-06,\n",
       "          3.09652498e-06,   2.48864162e-04,   2.37223022e-05,\n",
       "          1.06369067e-02,   1.91338639e-02,   8.83351259e-03,\n",
       "          1.05660621e-03,   2.80583649e-02,   1.00487497e-01,\n",
       "          8.94964557e-03,   9.09668832e-03,   1.24792183e-03,\n",
       "          2.15584996e-03,   1.86835949e-02,   4.61020103e-02,\n",
       "          0.00000000e+00,   1.15439902e-13,   7.04004431e-04,\n",
       "          2.87403069e-03,   6.00208581e-08,   3.30103699e-03,\n",
       "          2.02663859e-02,   1.02339165e-02]])"
      ]
     },
     "execution_count": 112,
     "metadata": {},
     "output_type": "execute_result"
    }
   ],
   "source": [
    "%time futures[0].result()"
   ]
  },
  {
   "cell_type": "code",
   "execution_count": 13,
   "metadata": {
    "collapsed": false
   },
   "outputs": [
    {
     "name": "stderr",
     "output_type": "stream",
     "text": [
      "Traceback (most recent call last):\n",
      "  File \"/var/task/wrenhandler.py\", line 181, in generic_handler\n",
      "    s3.meta.client.download_file(func_key[0], func_key[1], func_filename)\n",
      "  File \"/var/runtime/boto3/s3/inject.py\", line 126, in download_file\n",
      "    extra_args=ExtraArgs, callback=Callback)\n",
      "  File \"/var/runtime/boto3/s3/transfer.py\", line 299, in download_file\n",
      "    future.result()\n",
      "  File \"/var/runtime/s3transfer/futures.py\", line 73, in result\n",
      "    return self._coordinator.result()\n",
      "  File \"/var/runtime/s3transfer/futures.py\", line 233, in result\n",
      "    raise self._exception\n",
      "IOError: [Errno 28] No space left on device\n",
      "\n"
     ]
    },
    {
     "name": "stdout",
     "output_type": "stream",
     "text": [
      "{'exception': '[Errno 28] No space left on device', 'exception_traceback': 'Traceback (most recent call last):\\n  File \"/var/task/wrenhandler.py\", line 181, in generic_handler\\n    s3.meta.client.download_file(func_key[0], func_key[1], func_filename)\\n  File \"/var/runtime/boto3/s3/inject.py\", line 126, in download_file\\n    extra_args=ExtraArgs, callback=Callback)\\n  File \"/var/runtime/boto3/s3/transfer.py\", line 299, in download_file\\n    future.result()\\n  File \"/var/runtime/s3transfer/futures.py\", line 73, in result\\n    return self._coordinator.result()\\n  File \"/var/runtime/s3transfer/futures.py\", line 233, in result\\n    raise self._exception\\nIOError: [Errno 28] No space left on device\\n', 'start_time': 1501099205.223582, 'func_key': ['erolf-pywren-987', 'pywren.jobs/7bea36a0-1a6c-4965-91e2-cb28eb584a47/func.json'], 'status_key': ['erolf-pywren-987', 'pywren.jobs/7bea36a0-1a6c-4965-91e2-cb28eb584a47/00000/status.json'], 'output_key': ['erolf-pywren-987', 'pywren.jobs/7bea36a0-1a6c-4965-91e2-cb28eb584a47/00000/output.pickle'], 'exception_args': [28, 'No space left on device'], 'data_key': ['erolf-pywren-987', 'pywren.jobs/7bea36a0-1a6c-4965-91e2-cb28eb584a47/aggdata.pickle']}\n"
     ]
    },
    {
     "ename": "Exception",
     "evalue": "('[Errno 28] No space left on device', 28, 'No space left on device')",
     "output_type": "error",
     "traceback": [
      "\u001b[0;31m---------------------------------------------------------------------------\u001b[0m",
      "\u001b[0;31mException\u001b[0m                                 Traceback (most recent call last)",
      "\u001b[0;32m<ipython-input-13-ebda19195a4a>\u001b[0m in \u001b[0;36m<module>\u001b[0;34m()\u001b[0m\n\u001b[0;32m----> 1\u001b[0;31m \u001b[0mfutures\u001b[0m\u001b[0;34m[\u001b[0m\u001b[0;36m0\u001b[0m\u001b[0;34m]\u001b[0m\u001b[0;34m.\u001b[0m\u001b[0mresult\u001b[0m\u001b[0;34m(\u001b[0m\u001b[0;34m)\u001b[0m\u001b[0;34m\u001b[0m\u001b[0m\n\u001b[0m",
      "\u001b[0;32m/home/ubuntu/pywren/pywren/future.py\u001b[0m in \u001b[0;36mresult\u001b[0;34m(self, timeout, check_only, throw_except)\u001b[0m\n\u001b[1;32m    148\u001b[0m                     \u001b[0;32mif\u001b[0m \u001b[0;34m'exception_traceback'\u001b[0m \u001b[0;32min\u001b[0m \u001b[0mcall_status\u001b[0m\u001b[0;34m:\u001b[0m\u001b[0;34m\u001b[0m\u001b[0m\n\u001b[1;32m    149\u001b[0m                         \u001b[0mlogger\u001b[0m\u001b[0;34m.\u001b[0m\u001b[0merror\u001b[0m\u001b[0;34m(\u001b[0m\u001b[0mcall_status\u001b[0m\u001b[0;34m[\u001b[0m\u001b[0;34m'exception_traceback'\u001b[0m\u001b[0;34m]\u001b[0m\u001b[0;34m)\u001b[0m\u001b[0;34m\u001b[0m\u001b[0m\n\u001b[0;32m--> 150\u001b[0;31m                     \u001b[0;32mraise\u001b[0m \u001b[0mException\u001b[0m\u001b[0;34m(\u001b[0m\u001b[0mexception_str\u001b[0m\u001b[0;34m,\u001b[0m \u001b[0;34m*\u001b[0m\u001b[0mexception_args\u001b[0m\u001b[0;34m)\u001b[0m\u001b[0;34m\u001b[0m\u001b[0m\n\u001b[0m\u001b[1;32m    151\u001b[0m                 \u001b[0;32mreturn\u001b[0m \u001b[0;32mNone\u001b[0m\u001b[0;34m\u001b[0m\u001b[0m\n\u001b[1;32m    152\u001b[0m \u001b[0;34m\u001b[0m\u001b[0m\n",
      "\u001b[0;31mException\u001b[0m: ('[Errno 28] No space left on device', 28, 'No space left on device')"
     ]
    }
   ],
   "source": []
  },
  {
   "cell_type": "code",
   "execution_count": 22,
   "metadata": {
    "collapsed": false
   },
   "outputs": [
    {
     "data": {
      "text/plain": [
       "(2227840,)"
      ]
     },
     "execution_count": 22,
     "metadata": {},
     "output_type": "execute_result"
    }
   ],
   "source": [
    "np.vstack(features).ravel().shape"
   ]
  },
  {
   "cell_type": "code",
   "execution_count": 61,
   "metadata": {
    "collapsed": false
   },
   "outputs": [
    {
     "name": "stdout",
     "output_type": "stream",
     "text": [
      "Help on class DsiftExtractor in module dsift:\n",
      "\n",
      "class DsiftExtractor(builtins.object)\n",
      " |  The class that does dense sift feature extractor.\n",
      " |  Sample Usage:\n",
      " |      extractor = DsiftExtractor(gridSpacing,patchSize,[optional params])\n",
      " |      feaArr,positions = extractor.process_image(Image)\n",
      " |  \n",
      " |  Methods defined here:\n",
      " |  \n",
      " |  __init__(self, gridSpacing, patchSize, nrml_thres=1.0, sigma_edge=0.8, sift_thres=0.2)\n",
      " |      gridSpacing: the spacing for sampling dense descriptors\n",
      " |      patchSize: the size for each sift patch\n",
      " |      nrml_thres: low contrast normalization threshold\n",
      " |      sigma_edge: the standard deviation for the gaussian smoothing\n",
      " |          before computing the gradient\n",
      " |      sift_thres: sift thresholding (0.2 works well based on\n",
      " |          Lowe's SIFT paper)\n",
      " |  \n",
      " |  calculate_sift_grid(self, image, gridH, gridW)\n",
      " |      This function calculates the unnormalized sift features\n",
      " |      It is called by process_image().\n",
      " |  \n",
      " |  normalize_sift(self, feaArr)\n",
      " |      This function does sift feature normalization\n",
      " |      following David Lowe's definition (normalize length ->\n",
      " |      thresholding at 0.2 -> renormalize length)\n",
      " |  \n",
      " |  process_image(self, image, positionNormalize=True, verbose=True)\n",
      " |      processes a single image, return the locations\n",
      " |      and the values of detected SIFT features.\n",
      " |      image: a M*N image which is a numpy 2D array. If you \n",
      " |          pass a color image, it will automatically be converted\n",
      " |          to a grayscale image.\n",
      " |      positionNormalize: whether to normalize the positions\n",
      " |          to [0,1]. If False, the pixel-based positions of the\n",
      " |          top-right position of the patches is returned.\n",
      " |      \n",
      " |      Return values:\n",
      " |      feaArr: the feature array, each row is a feature\n",
      " |      positions: the positions of the features\n",
      " |  \n",
      " |  ----------------------------------------------------------------------\n",
      " |  Data descriptors defined here:\n",
      " |  \n",
      " |  __dict__\n",
      " |      dictionary for instance variables (if defined)\n",
      " |  \n",
      " |  __weakref__\n",
      " |      list of weak references to the object (if defined)\n",
      "\n"
     ]
    }
   ],
   "source": [
    "help(dsift.DsiftExtractor)"
   ]
  },
  {
   "cell_type": "code",
   "execution_count": 89,
   "metadata": {
    "collapsed": false
   },
   "outputs": [
    {
     "data": {
      "text/plain": [
       "array([7, 8, 0])"
      ]
     },
     "execution_count": 89,
     "metadata": {},
     "output_type": "execute_result"
    }
   ],
   "source": [
    "np.random.choice(10,3)"
   ]
  },
  {
   "cell_type": "code",
   "execution_count": null,
   "metadata": {
    "collapsed": true
   },
   "outputs": [],
   "source": []
  }
 ],
 "metadata": {
  "kernelspec": {
   "display_name": "Python 3",
   "language": "python",
   "name": "python3"
  },
  "language_info": {
   "codemirror_mode": {
    "name": "ipython",
    "version": 3
   },
   "file_extension": ".py",
   "mimetype": "text/x-python",
   "name": "python",
   "nbconvert_exporter": "python",
   "pygments_lexer": "ipython3",
   "version": "3.6.0"
  }
 },
 "nbformat": 4,
 "nbformat_minor": 2
}
