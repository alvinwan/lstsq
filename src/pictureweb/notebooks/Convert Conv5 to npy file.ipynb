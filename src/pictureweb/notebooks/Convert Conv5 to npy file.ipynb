{
 "cells": [
  {
   "cell_type": "code",
   "execution_count": 6,
   "metadata": {
    "collapsed": false
   },
   "outputs": [],
   "source": [
    "import sys\n",
    "sys.path.insert(0, \"..\")\n",
    "import numpy as np\n",
    "import glob\n",
    "import concurrent.futures as fs\n",
    "from utils import misc\n",
    "from multiprocessing import Pool\n",
    "import time\n",
    "import utils\n",
    "from distributed import sharded_matrix\n",
    "\n"
   ]
  },
  {
   "cell_type": "code",
   "execution_count": 2,
   "metadata": {
    "collapsed": false
   },
   "outputs": [],
   "source": [
    "imagenet_train_files = glob.glob(\"/home/ubuntu/imagenet-train-conv5/*.npy\")\n"
   ]
  },
  {
   "cell_type": "code",
   "execution_count": 25,
   "metadata": {
    "collapsed": true
   },
   "outputs": [],
   "source": [
    "imagenet_val_files = glob.glob(\"/home/ubuntu/imagenet-val-conv5/*.npy\")"
   ]
  },
  {
   "cell_type": "code",
   "execution_count": 34,
   "metadata": {
    "collapsed": false
   },
   "outputs": [],
   "source": [
    "train_shape = (len(imagenet_train_files), np.load(imagenet_train_files[0]).ravel().shape[0])\n",
    "val_shape = (len(imagenet_val_files), np.load(imagenet_val_files[0]).ravel().shape[0])\n"
   ]
  },
  {
   "cell_type": "code",
   "execution_count": 4,
   "metadata": {
    "collapsed": false
   },
   "outputs": [],
   "source": [
    "X = np.memmap(\"/dev/shm/X_train_conv_5.npy\", mode=\"w+\", shape=train_shape, dtype=\"float32\")\n",
    "y = np.memmap(\"/dev/shm/y_train_conv_5.npy\", mode=\"w+\", shape=len(imagenet_train_files), dtype=\"int\")\n",
    "del X\n",
    "del y\n",
    "all_classes = list(set(list(map(lambda x: x.split(\"/\")[-1].split(\"_\")[0], imagenet_train_files))))\n"
   ]
  },
  {
   "cell_type": "code",
   "execution_count": 35,
   "metadata": {
    "collapsed": false
   },
   "outputs": [],
   "source": [
    "X_val = np.memmap(\"/dev/shm/X_val_conv_5.npy\", mode=\"w+\", shape=val_shape, dtype=\"float32\")\n",
    "y_val = np.memmap(\"/dev/shm/y_val_conv_5.npy\", mode=\"w+\", shape=len(imagenet_val_files), dtype=\"int\")\n"
   ]
  },
  {
   "cell_type": "code",
   "execution_count": 38,
   "metadata": {
    "collapsed": true
   },
   "outputs": [],
   "source": [
    "def load_into_mmap_train(lst, idxs):\n",
    "    X = np.memmap(\"/dev/shm/X_train_conv_5.npy\", mode=\"r+\", shape=train_shape, dtype=\"float32\")\n",
    "    y = np.memmap(\"/dev/shm/y_train_conv_5.npy\", mode=\"r+\", shape=len(imagenet_train_files), dtype=\"int\")\n",
    "    good_indices = []\n",
    "    for arr, idx in zip(lst, idxs):\n",
    "        try:\n",
    "            class_name = arr.split(\"/\")[-1].split(\"_\")[0]\n",
    "            x = np.load(arr).ravel()\n",
    "            X[idx] = x\n",
    "            y[idx] = all_classes.index(class_name)\n",
    "            good_indices.append(idx)\n",
    "        except:\n",
    "            continue\n",
    "    return good_indices \n",
    "\n",
    "def load_into_mmap_val(lst, idxs):\n",
    "    X = np.memmap(\"/dev/shm/X_val_conv_5.npy\", mode=\"r+\", shape=train_shape, dtype=\"float32\")\n",
    "    y = np.memmap(\"/dev/shm/y_val_conv_5.npy\", mode=\"r+\", shape=len(imagenet_val_files), dtype=\"int\")\n",
    "    good_indices = []\n",
    "    for arr, idx in zip(lst, idxs):\n",
    "        try:\n",
    "            class_name = arr.split(\"/\")[-1].split(\".\")[0]\n",
    "            x = np.load(arr).ravel()\n",
    "            X[idx] = x\n",
    "            y[idx] = all_classes.index(class_name)\n",
    "            good_indices.append(idx)\n",
    "        except:\n",
    "            continue\n",
    "    return good_indices \n"
   ]
  },
  {
   "cell_type": "code",
   "execution_count": 6,
   "metadata": {
    "collapsed": false
   },
   "outputs": [
    {
     "name": "stdout",
     "output_type": "stream",
     "text": [
      "Submitting job 0\n",
      "Submitting job 1\n",
      "Submitting job 2\n",
      "Submitting job 3\n",
      "Submitting job 4\n",
      "Submitting job 5\n",
      "Submitting job 6\n",
      "Submitting job 7\n",
      "Submitting job 8\n",
      "Submitting job 9\n",
      "Submitting job 10\n",
      "Submitting job 11\n",
      "Submitting job 12\n",
      "Submitting job 13\n",
      "Submitting job 14\n",
      "Submitting job 15\n",
      "Submitting job 16\n",
      "Submitting job 17\n",
      "Submitting job 18\n",
      "Submitting job 19\n",
      "Submitting job 20\n",
      "Submitting job 21\n",
      "Submitting job 22\n",
      "Submitting job 23\n",
      "Submitting job 24\n",
      "Submitting job 25\n",
      "Submitting job 26\n",
      "Submitting job 27\n",
      "Submitting job 28\n",
      "Submitting job 29\n",
      "Submitting job 30\n",
      "Submitting job 31\n",
      "Submitting job 32\n",
      "Submitting job 33\n",
      "Submitting job 34\n",
      "Submitting job 35\n",
      "Submitting job 36\n",
      "Submitting job 37\n",
      "Submitting job 38\n",
      "Submitting job 39\n",
      "Submitting job 40\n",
      "Submitting job 41\n",
      "Submitting job 42\n",
      "Submitting job 43\n",
      "Submitting job 44\n",
      "Submitting job 45\n",
      "Submitting job 46\n",
      "Submitting job 47\n",
      "Submitting job 48\n",
      "Submitting job 49\n",
      "Submitting job 50\n",
      "Submitting job 51\n",
      "Submitting job 52\n",
      "Submitting job 53\n",
      "Submitting job 54\n",
      "Submitting job 55\n",
      "Submitting job 56\n",
      "Submitting job 57\n",
      "Submitting job 58\n",
      "Submitting job 59\n",
      "Submitting job 60\n",
      "Submitting job 61\n",
      "Submitting job 62\n",
      "Submitting job 63\n",
      "Submitting job 64\n",
      "CPU times: user 1.79 s, sys: 400 ms, total: 2.19 s\n",
      "Wall time: 2min 17s\n",
      "CPU times: user 4 ms, sys: 4 ms, total: 8 ms\n",
      "Wall time: 319 ms\n",
      "CPU times: user 16 ms, sys: 16 ms, total: 32 ms\n",
      "Wall time: 2.83 s\n",
      "CPU times: user 0 ns, sys: 0 ns, total: 0 ns\n",
      "Wall time: 254 µs\n",
      "CPU times: user 0 ns, sys: 0 ns, total: 0 ns\n",
      "Wall time: 209 µs\n",
      "CPU times: user 0 ns, sys: 0 ns, total: 0 ns\n",
      "Wall time: 231 µs\n",
      "CPU times: user 0 ns, sys: 0 ns, total: 0 ns\n",
      "Wall time: 237 µs\n",
      "CPU times: user 0 ns, sys: 0 ns, total: 0 ns\n",
      "Wall time: 206 µs\n",
      "CPU times: user 0 ns, sys: 0 ns, total: 0 ns\n",
      "Wall time: 233 µs\n",
      "CPU times: user 0 ns, sys: 0 ns, total: 0 ns\n",
      "Wall time: 240 µs\n",
      "CPU times: user 0 ns, sys: 0 ns, total: 0 ns\n",
      "Wall time: 225 µs\n",
      "CPU times: user 24 ms, sys: 12 ms, total: 36 ms\n",
      "Wall time: 5.45 s\n",
      "CPU times: user 0 ns, sys: 0 ns, total: 0 ns\n",
      "Wall time: 519 µs\n",
      "CPU times: user 0 ns, sys: 0 ns, total: 0 ns\n",
      "Wall time: 242 µs\n",
      "CPU times: user 0 ns, sys: 0 ns, total: 0 ns\n",
      "Wall time: 244 µs\n",
      "CPU times: user 0 ns, sys: 0 ns, total: 0 ns\n",
      "Wall time: 214 µs\n",
      "CPU times: user 0 ns, sys: 0 ns, total: 0 ns\n",
      "Wall time: 243 µs\n",
      "CPU times: user 0 ns, sys: 0 ns, total: 0 ns\n",
      "Wall time: 228 µs\n",
      "CPU times: user 0 ns, sys: 0 ns, total: 0 ns\n",
      "Wall time: 293 µs\n",
      "CPU times: user 0 ns, sys: 0 ns, total: 0 ns\n",
      "Wall time: 202 µs\n",
      "CPU times: user 0 ns, sys: 4 ms, total: 4 ms\n",
      "Wall time: 241 µs\n",
      "CPU times: user 0 ns, sys: 0 ns, total: 0 ns\n",
      "Wall time: 245 µs\n",
      "CPU times: user 4 ms, sys: 0 ns, total: 4 ms\n",
      "Wall time: 238 µs\n",
      "CPU times: user 0 ns, sys: 0 ns, total: 0 ns\n",
      "Wall time: 219 µs\n",
      "CPU times: user 0 ns, sys: 0 ns, total: 0 ns\n",
      "Wall time: 218 µs\n",
      "CPU times: user 0 ns, sys: 0 ns, total: 0 ns\n",
      "Wall time: 206 µs\n",
      "CPU times: user 0 ns, sys: 0 ns, total: 0 ns\n",
      "Wall time: 239 µs\n",
      "CPU times: user 0 ns, sys: 0 ns, total: 0 ns\n",
      "Wall time: 221 µs\n",
      "CPU times: user 0 ns, sys: 0 ns, total: 0 ns\n",
      "Wall time: 241 µs\n",
      "CPU times: user 0 ns, sys: 0 ns, total: 0 ns\n",
      "Wall time: 236 µs\n",
      "CPU times: user 0 ns, sys: 0 ns, total: 0 ns\n",
      "Wall time: 225 µs\n",
      "CPU times: user 0 ns, sys: 0 ns, total: 0 ns\n",
      "Wall time: 287 µs\n",
      "CPU times: user 0 ns, sys: 0 ns, total: 0 ns\n",
      "Wall time: 201 µs\n",
      "CPU times: user 0 ns, sys: 0 ns, total: 0 ns\n",
      "Wall time: 213 µs\n",
      "CPU times: user 0 ns, sys: 0 ns, total: 0 ns\n",
      "Wall time: 229 µs\n",
      "CPU times: user 0 ns, sys: 0 ns, total: 0 ns\n",
      "Wall time: 213 µs\n",
      "CPU times: user 4 ms, sys: 0 ns, total: 4 ms\n",
      "Wall time: 205 µs\n",
      "CPU times: user 0 ns, sys: 0 ns, total: 0 ns\n",
      "Wall time: 262 µs\n",
      "CPU times: user 4 ms, sys: 0 ns, total: 4 ms\n",
      "Wall time: 337 µs\n",
      "CPU times: user 0 ns, sys: 0 ns, total: 0 ns\n",
      "Wall time: 200 µs\n",
      "CPU times: user 0 ns, sys: 0 ns, total: 0 ns\n",
      "Wall time: 195 µs\n",
      "CPU times: user 0 ns, sys: 0 ns, total: 0 ns\n",
      "Wall time: 207 µs\n",
      "CPU times: user 0 ns, sys: 0 ns, total: 0 ns\n",
      "Wall time: 221 µs\n",
      "CPU times: user 0 ns, sys: 0 ns, total: 0 ns\n",
      "Wall time: 212 µs\n",
      "CPU times: user 0 ns, sys: 0 ns, total: 0 ns\n",
      "Wall time: 211 µs\n",
      "CPU times: user 0 ns, sys: 0 ns, total: 0 ns\n",
      "Wall time: 195 µs\n",
      "CPU times: user 0 ns, sys: 0 ns, total: 0 ns\n",
      "Wall time: 234 µs\n",
      "CPU times: user 0 ns, sys: 0 ns, total: 0 ns\n",
      "Wall time: 214 µs\n",
      "CPU times: user 0 ns, sys: 0 ns, total: 0 ns\n",
      "Wall time: 209 µs\n",
      "CPU times: user 0 ns, sys: 0 ns, total: 0 ns\n",
      "Wall time: 195 µs\n",
      "CPU times: user 0 ns, sys: 0 ns, total: 0 ns\n",
      "Wall time: 210 µs\n",
      "CPU times: user 0 ns, sys: 0 ns, total: 0 ns\n",
      "Wall time: 179 µs\n",
      "CPU times: user 4 ms, sys: 0 ns, total: 4 ms\n",
      "Wall time: 257 µs\n",
      "CPU times: user 0 ns, sys: 0 ns, total: 0 ns\n",
      "Wall time: 250 µs\n",
      "CPU times: user 0 ns, sys: 0 ns, total: 0 ns\n",
      "Wall time: 213 µs\n",
      "CPU times: user 0 ns, sys: 0 ns, total: 0 ns\n",
      "Wall time: 220 µs\n",
      "CPU times: user 0 ns, sys: 0 ns, total: 0 ns\n",
      "Wall time: 258 µs\n",
      "CPU times: user 0 ns, sys: 0 ns, total: 0 ns\n",
      "Wall time: 207 µs\n",
      "CPU times: user 0 ns, sys: 0 ns, total: 0 ns\n",
      "Wall time: 232 µs\n",
      "CPU times: user 4 ms, sys: 0 ns, total: 4 ms\n",
      "Wall time: 594 µs\n",
      "CPU times: user 0 ns, sys: 0 ns, total: 0 ns\n",
      "Wall time: 215 µs\n",
      "CPU times: user 0 ns, sys: 0 ns, total: 0 ns\n",
      "Wall time: 220 µs\n",
      "CPU times: user 0 ns, sys: 0 ns, total: 0 ns\n",
      "Wall time: 338 µs\n",
      "CPU times: user 0 ns, sys: 0 ns, total: 0 ns\n",
      "Wall time: 555 µs\n",
      "CPU times: user 0 ns, sys: 0 ns, total: 0 ns\n",
      "Wall time: 29.1 µs\n"
     ]
    }
   ],
   "source": [
    "pool_size = 64\n",
    "\n",
    "p = Pool(pool_size)\n",
    "chunked_files = list(misc.chunk(imagenet_train_files, len(imagenet_train_files)//pool_size))\n",
    "chunked_idx = list(misc.chunk(list(range(len(imagenet_train_files))), len(imagenet_train_files)//pool_size))\n",
    "chunked_futures = []\n",
    "for i in range(len(chunked_files)):\n",
    "    print(\"Submitting job {0}\".format(i))\n",
    "    future = p.apply_async(load_into_mmap, (chunked_files[i], chunked_idx[i]))\n",
    "    chunked_futures.append(future)\n",
    "    \n",
    "all_idxs = []\n",
    "for f in chunked_futures:\n",
    "    %time all_idxs.extend(f.get())\n",
    "p.terminate()\n",
    "\n",
    "\n"
   ]
  },
  {
   "cell_type": "code",
   "execution_count": 42,
   "metadata": {
    "collapsed": false
   },
   "outputs": [
    {
     "data": {
      "text/plain": [
       "memmap([627, 955, 390, 450, 594, 107,  36, 364,  35, 531, 560, 785, 684,\n",
       "       319,  68, 606, 572, 678,  96, 302,  67,  19, 526, 506, 934, 574,\n",
       "       915, 247, 434, 250,  90,  89, 236, 213, 470, 269,  87, 846, 380,\n",
       "       209, 838,  77, 518, 898, 877, 755, 558, 225, 976, 849, 248, 119,\n",
       "       170, 288, 422, 954, 989, 381, 721, 315, 715, 752, 213,  97, 138,\n",
       "       742, 923, 920, 163, 244, 144, 941, 570, 661, 727, 482, 208, 684,\n",
       "       184, 727,  82, 990, 711,  81, 749, 812, 417, 957, 401, 203,  70,\n",
       "       949,  51, 508, 892, 630, 521, 724,  10,   3])"
      ]
     },
     "execution_count": 42,
     "metadata": {},
     "output_type": "execute_result"
    }
   ],
   "source": [
    "y_val[:100]"
   ]
  },
  {
   "cell_type": "code",
   "execution_count": 39,
   "metadata": {
    "collapsed": false
   },
   "outputs": [
    {
     "name": "stdout",
     "output_type": "stream",
     "text": [
      "Submitting job 0\n",
      "Submitting job 1\n",
      "Submitting job 2\n",
      "Submitting job 3\n",
      "Submitting job 4\n",
      "Submitting job 5\n",
      "Submitting job 6\n",
      "Submitting job 7\n",
      "Submitting job 8\n",
      "Submitting job 9\n",
      "Submitting job 10\n",
      "Submitting job 11\n",
      "Submitting job 12\n",
      "Submitting job 13\n",
      "Submitting job 14\n",
      "Submitting job 15\n",
      "Submitting job 16\n",
      "Submitting job 17\n",
      "Submitting job 18\n",
      "Submitting job 19\n",
      "Submitting job 20\n",
      "Submitting job 21\n",
      "Submitting job 22\n",
      "Submitting job 23\n",
      "Submitting job 24\n",
      "Submitting job 25\n",
      "Submitting job 26\n",
      "Submitting job 27\n",
      "Submitting job 28\n",
      "Submitting job 29\n",
      "Submitting job 30\n",
      "Submitting job 31\n",
      "Submitting job 32\n",
      "Submitting job 33\n",
      "Submitting job 34\n",
      "Submitting job 35\n",
      "Submitting job 36\n",
      "Submitting job 37\n",
      "Submitting job 38\n",
      "Submitting job 39\n",
      "Submitting job 40\n",
      "Submitting job 41\n",
      "Submitting job 42\n",
      "Submitting job 43\n",
      "Submitting job 44\n",
      "Submitting job 45\n",
      "Submitting job 46\n",
      "Submitting job 47\n",
      "Submitting job 48\n",
      "Submitting job 49\n",
      "Submitting job 50\n",
      "Submitting job 51\n",
      "Submitting job 52\n",
      "Submitting job 53\n",
      "Submitting job 54\n",
      "Submitting job 55\n",
      "Submitting job 56\n",
      "Submitting job 57\n",
      "Submitting job 58\n",
      "Submitting job 59\n",
      "Submitting job 60\n",
      "Submitting job 61\n",
      "Submitting job 62\n",
      "Submitting job 63\n",
      "Submitting job 64\n",
      "CPU times: user 156 ms, sys: 136 ms, total: 292 ms\n",
      "Wall time: 7.24 s\n",
      "CPU times: user 0 ns, sys: 0 ns, total: 0 ns\n",
      "Wall time: 55.1 µs\n",
      "CPU times: user 0 ns, sys: 0 ns, total: 0 ns\n",
      "Wall time: 294 µs\n",
      "CPU times: user 0 ns, sys: 0 ns, total: 0 ns\n",
      "Wall time: 53.9 µs\n",
      "CPU times: user 0 ns, sys: 0 ns, total: 0 ns\n",
      "Wall time: 57 µs\n",
      "CPU times: user 4 ms, sys: 0 ns, total: 4 ms\n",
      "Wall time: 116 ms\n",
      "CPU times: user 0 ns, sys: 0 ns, total: 0 ns\n",
      "Wall time: 55.1 µs\n",
      "CPU times: user 0 ns, sys: 0 ns, total: 0 ns\n",
      "Wall time: 54.1 µs\n",
      "CPU times: user 0 ns, sys: 0 ns, total: 0 ns\n",
      "Wall time: 62.2 µs\n",
      "CPU times: user 0 ns, sys: 0 ns, total: 0 ns\n",
      "Wall time: 50.1 µs\n",
      "CPU times: user 0 ns, sys: 0 ns, total: 0 ns\n",
      "Wall time: 62 µs\n",
      "CPU times: user 0 ns, sys: 0 ns, total: 0 ns\n",
      "Wall time: 54.1 µs\n",
      "CPU times: user 0 ns, sys: 0 ns, total: 0 ns\n",
      "Wall time: 93 µs\n",
      "CPU times: user 0 ns, sys: 0 ns, total: 0 ns\n",
      "Wall time: 57.9 µs\n",
      "CPU times: user 4 ms, sys: 0 ns, total: 4 ms\n",
      "Wall time: 66 µs\n",
      "CPU times: user 0 ns, sys: 0 ns, total: 0 ns\n",
      "Wall time: 49.1 µs\n",
      "CPU times: user 0 ns, sys: 0 ns, total: 0 ns\n",
      "Wall time: 44.1 µs\n",
      "CPU times: user 0 ns, sys: 0 ns, total: 0 ns\n",
      "Wall time: 61 µs\n",
      "CPU times: user 0 ns, sys: 0 ns, total: 0 ns\n",
      "Wall time: 84.9 µs\n",
      "CPU times: user 0 ns, sys: 0 ns, total: 0 ns\n",
      "Wall time: 49.1 µs\n",
      "CPU times: user 0 ns, sys: 0 ns, total: 0 ns\n",
      "Wall time: 58.2 µs\n",
      "CPU times: user 0 ns, sys: 0 ns, total: 0 ns\n",
      "Wall time: 312 µs\n",
      "CPU times: user 0 ns, sys: 0 ns, total: 0 ns\n",
      "Wall time: 86.8 µs\n",
      "CPU times: user 0 ns, sys: 0 ns, total: 0 ns\n",
      "Wall time: 92 µs\n",
      "CPU times: user 0 ns, sys: 0 ns, total: 0 ns\n",
      "Wall time: 104 µs\n",
      "CPU times: user 0 ns, sys: 0 ns, total: 0 ns\n",
      "Wall time: 53.2 µs\n",
      "CPU times: user 0 ns, sys: 0 ns, total: 0 ns\n",
      "Wall time: 55.1 µs\n",
      "CPU times: user 0 ns, sys: 0 ns, total: 0 ns\n",
      "Wall time: 57 µs\n",
      "CPU times: user 0 ns, sys: 0 ns, total: 0 ns\n",
      "Wall time: 94.9 µs\n",
      "CPU times: user 0 ns, sys: 0 ns, total: 0 ns\n",
      "Wall time: 55.1 µs\n",
      "CPU times: user 0 ns, sys: 0 ns, total: 0 ns\n",
      "Wall time: 61 µs\n",
      "CPU times: user 0 ns, sys: 0 ns, total: 0 ns\n",
      "Wall time: 80.8 µs\n",
      "CPU times: user 0 ns, sys: 0 ns, total: 0 ns\n",
      "Wall time: 82 µs\n",
      "CPU times: user 0 ns, sys: 0 ns, total: 0 ns\n",
      "Wall time: 46 µs\n",
      "CPU times: user 0 ns, sys: 0 ns, total: 0 ns\n",
      "Wall time: 47.9 µs\n",
      "CPU times: user 0 ns, sys: 0 ns, total: 0 ns\n",
      "Wall time: 85.1 µs\n",
      "CPU times: user 0 ns, sys: 0 ns, total: 0 ns\n",
      "Wall time: 47.9 µs\n",
      "CPU times: user 0 ns, sys: 0 ns, total: 0 ns\n",
      "Wall time: 253 µs\n",
      "CPU times: user 0 ns, sys: 0 ns, total: 0 ns\n",
      "Wall time: 83 µs\n",
      "CPU times: user 0 ns, sys: 0 ns, total: 0 ns\n",
      "Wall time: 65.1 µs\n",
      "CPU times: user 0 ns, sys: 0 ns, total: 0 ns\n",
      "Wall time: 82 µs\n",
      "CPU times: user 0 ns, sys: 0 ns, total: 0 ns\n",
      "Wall time: 47 µs\n",
      "CPU times: user 0 ns, sys: 0 ns, total: 0 ns\n",
      "Wall time: 81.1 µs\n",
      "CPU times: user 0 ns, sys: 0 ns, total: 0 ns\n",
      "Wall time: 49.1 µs\n",
      "CPU times: user 0 ns, sys: 0 ns, total: 0 ns\n",
      "Wall time: 47.2 µs\n",
      "CPU times: user 0 ns, sys: 0 ns, total: 0 ns\n",
      "Wall time: 47.9 µs\n",
      "CPU times: user 0 ns, sys: 0 ns, total: 0 ns\n",
      "Wall time: 78 µs\n",
      "CPU times: user 0 ns, sys: 0 ns, total: 0 ns\n",
      "Wall time: 48.2 µs\n",
      "CPU times: user 0 ns, sys: 0 ns, total: 0 ns\n",
      "Wall time: 88.2 µs\n",
      "CPU times: user 0 ns, sys: 0 ns, total: 0 ns\n",
      "Wall time: 42.9 µs\n",
      "CPU times: user 0 ns, sys: 0 ns, total: 0 ns\n",
      "Wall time: 48.2 µs\n",
      "CPU times: user 0 ns, sys: 0 ns, total: 0 ns\n",
      "Wall time: 60.8 µs\n",
      "CPU times: user 0 ns, sys: 0 ns, total: 0 ns\n",
      "Wall time: 44.1 µs\n",
      "CPU times: user 0 ns, sys: 0 ns, total: 0 ns\n",
      "Wall time: 40.1 µs\n",
      "CPU times: user 0 ns, sys: 0 ns, total: 0 ns\n",
      "Wall time: 46 µs\n",
      "CPU times: user 0 ns, sys: 0 ns, total: 0 ns\n",
      "Wall time: 130 µs\n",
      "CPU times: user 0 ns, sys: 0 ns, total: 0 ns\n",
      "Wall time: 42 µs\n",
      "CPU times: user 0 ns, sys: 0 ns, total: 0 ns\n",
      "Wall time: 52 µs\n",
      "CPU times: user 0 ns, sys: 0 ns, total: 0 ns\n",
      "Wall time: 39.1 µs\n",
      "CPU times: user 0 ns, sys: 0 ns, total: 0 ns\n",
      "Wall time: 52 µs\n",
      "CPU times: user 0 ns, sys: 0 ns, total: 0 ns\n",
      "Wall time: 52.9 µs\n",
      "CPU times: user 0 ns, sys: 0 ns, total: 0 ns\n",
      "Wall time: 47 µs\n",
      "CPU times: user 0 ns, sys: 0 ns, total: 0 ns\n",
      "Wall time: 39.1 µs\n",
      "CPU times: user 0 ns, sys: 0 ns, total: 0 ns\n",
      "Wall time: 47.2 µs\n",
      "CPU times: user 0 ns, sys: 0 ns, total: 0 ns\n",
      "Wall time: 36 µs\n"
     ]
    }
   ],
   "source": [
    "pool_size = 64\n",
    "p = Pool(pool_size)\n",
    "chunked_files = list(misc.chunk(imagenet_val_files, len(imagenet_val_files)//pool_size))\n",
    "chunked_idx = list(misc.chunk(list(range(len(imagenet_val_files))), len(imagenet_val_files)//pool_size))\n",
    "chunked_futures = []\n",
    "for i in range(len(chunked_files)):\n",
    "    print(\"Submitting job {0}\".format(i))\n",
    "    future = p.apply_async(load_into_mmap_val, (chunked_files[i], chunked_idx[i]))\n",
    "    chunked_futures.append(future)\n",
    "    \n",
    "all_idxs = []\n",
    "for f in chunked_futures:\n",
    "    %time all_idxs.extend(f.get())\n",
    "p.terminate()"
   ]
  },
  {
   "cell_type": "code",
   "execution_count": 36,
   "metadata": {
    "collapsed": false
   },
   "outputs": [
    {
     "ename": "IOError",
     "evalue": "Failed to interpret file '/home/ubuntu/imagenet-train-conv5/n01667114_6371.npy' as a pickle",
     "output_type": "error",
     "traceback": [
      "\u001b[0;31m---------------------------------------------------------------------------\u001b[0m",
      "\u001b[0;31mIOError\u001b[0m                                   Traceback (most recent call last)",
      "\u001b[0;32m<ipython-input-36-32862aeb6b9c>\u001b[0m in \u001b[0;36m<module>\u001b[0;34m()\u001b[0m\n\u001b[0;32m----> 1\u001b[0;31m \u001b[0mnp\u001b[0m\u001b[0;34m.\u001b[0m\u001b[0mload\u001b[0m\u001b[0;34m(\u001b[0m\u001b[0;34m\"/home/ubuntu/imagenet-train-conv5/n01667114_6371.npy\"\u001b[0m\u001b[0;34m)\u001b[0m\u001b[0;34m\u001b[0m\u001b[0m\n\u001b[0m",
      "\u001b[0;32m/home/ubuntu/anaconda2/lib/python2.7/site-packages/numpy/lib/npyio.pyc\u001b[0m in \u001b[0;36mload\u001b[0;34m(file, mmap_mode, allow_pickle, fix_imports, encoding)\u001b[0m\n\u001b[1;32m    414\u001b[0m             \u001b[0;32mexcept\u001b[0m\u001b[0;34m:\u001b[0m\u001b[0;34m\u001b[0m\u001b[0m\n\u001b[1;32m    415\u001b[0m                 raise IOError(\n\u001b[0;32m--> 416\u001b[0;31m                     \"Failed to interpret file %s as a pickle\" % repr(file))\n\u001b[0m\u001b[1;32m    417\u001b[0m     \u001b[0;32mfinally\u001b[0m\u001b[0;34m:\u001b[0m\u001b[0;34m\u001b[0m\u001b[0m\n\u001b[1;32m    418\u001b[0m         \u001b[0;32mif\u001b[0m \u001b[0mown_fid\u001b[0m\u001b[0;34m:\u001b[0m\u001b[0;34m\u001b[0m\u001b[0m\n",
      "\u001b[0;31mIOError\u001b[0m: Failed to interpret file '/home/ubuntu/imagenet-train-conv5/n01667114_6371.npy' as a pickle"
     ]
    }
   ],
   "source": [
    "np.load(\"/home/ubuntu/imagenet-train-conv6/n01667114_6371.npy\")"
   ]
  },
  {
   "cell_type": "code",
   "execution_count": 44,
   "metadata": {
    "collapsed": false
   },
   "outputs": [
    {
     "ename": "NameError",
     "evalue": "name 'X' is not defined",
     "output_type": "error",
     "traceback": [
      "\u001b[0;31m---------------------------------------------------------------------------\u001b[0m",
      "\u001b[0;31mNameError\u001b[0m                                 Traceback (most recent call last)",
      "\u001b[0;32m<ipython-input-44-270dd209b8a9>\u001b[0m in \u001b[0;36m<module>\u001b[0;34m()\u001b[0m\n\u001b[0;32m----> 1\u001b[0;31m \u001b[0mX\u001b[0m\u001b[0;34m.\u001b[0m\u001b[0mshape\u001b[0m\u001b[0;34m\u001b[0m\u001b[0m\n\u001b[0m",
      "\u001b[0;31mNameError\u001b[0m: name 'X' is not defined"
     ]
    }
   ],
   "source": [
    "X.shape"
   ]
  },
  {
   "cell_type": "code",
   "execution_count": 7,
   "metadata": {
    "collapsed": true
   },
   "outputs": [],
   "source": [
    "X = np.memmap(\"/dev/shm/X_train_conv_5.npy\", mode=\"r\", shape=train_shape, dtype=\"float32\")\n"
   ]
  },
  {
   "cell_type": "code",
   "execution_count": 110,
   "metadata": {
    "collapsed": false
   },
   "outputs": [
    {
     "ename": "IOError",
     "evalue": "[Errno 2] No such file or directory: '/dev/shm/y_train_conv_5.npy'",
     "output_type": "error",
     "traceback": [
      "\u001b[0;31m---------------------------------------------------------------------------\u001b[0m",
      "\u001b[0;31mIOError\u001b[0m                                   Traceback (most recent call last)",
      "\u001b[0;32m<ipython-input-110-eeb09a6cb7f1>\u001b[0m in \u001b[0;36m<module>\u001b[0;34m()\u001b[0m\n\u001b[0;32m----> 1\u001b[0;31m \u001b[0my\u001b[0m \u001b[0;34m=\u001b[0m \u001b[0mnp\u001b[0m\u001b[0;34m.\u001b[0m\u001b[0mmemmap\u001b[0m\u001b[0;34m(\u001b[0m\u001b[0;34m\"/dev/shm/y_train_conv_5.npy\"\u001b[0m\u001b[0;34m,\u001b[0m \u001b[0mmode\u001b[0m\u001b[0;34m=\u001b[0m\u001b[0;34m\"r\"\u001b[0m\u001b[0;34m,\u001b[0m \u001b[0mshape\u001b[0m\u001b[0;34m=\u001b[0m\u001b[0mlen\u001b[0m\u001b[0;34m(\u001b[0m\u001b[0mimagenet_train_files\u001b[0m\u001b[0;34m)\u001b[0m\u001b[0;34m,\u001b[0m \u001b[0mdtype\u001b[0m\u001b[0;34m=\u001b[0m\u001b[0;34m\"int\"\u001b[0m\u001b[0;34m)\u001b[0m\u001b[0;34m\u001b[0m\u001b[0m\n\u001b[0m",
      "\u001b[0;32m/home/ubuntu/anaconda2/lib/python2.7/site-packages/numpy/core/memmap.pyc\u001b[0m in \u001b[0;36m__new__\u001b[0;34m(subtype, filename, dtype, mode, offset, shape, order)\u001b[0m\n\u001b[1;32m    215\u001b[0m             \u001b[0mown_file\u001b[0m \u001b[0;34m=\u001b[0m \u001b[0mFalse\u001b[0m\u001b[0;34m\u001b[0m\u001b[0m\n\u001b[1;32m    216\u001b[0m         \u001b[0;32melse\u001b[0m\u001b[0;34m:\u001b[0m\u001b[0;34m\u001b[0m\u001b[0m\n\u001b[0;32m--> 217\u001b[0;31m             \u001b[0mfid\u001b[0m \u001b[0;34m=\u001b[0m \u001b[0mopen\u001b[0m\u001b[0;34m(\u001b[0m\u001b[0mfilename\u001b[0m\u001b[0;34m,\u001b[0m \u001b[0;34m(\u001b[0m\u001b[0mmode\u001b[0m \u001b[0;34m==\u001b[0m \u001b[0;34m'c'\u001b[0m \u001b[0;32mand\u001b[0m \u001b[0;34m'r'\u001b[0m \u001b[0;32mor\u001b[0m \u001b[0mmode\u001b[0m\u001b[0;34m)\u001b[0m\u001b[0;34m+\u001b[0m\u001b[0;34m'b'\u001b[0m\u001b[0;34m)\u001b[0m\u001b[0;34m\u001b[0m\u001b[0m\n\u001b[0m\u001b[1;32m    218\u001b[0m             \u001b[0mown_file\u001b[0m \u001b[0;34m=\u001b[0m \u001b[0mTrue\u001b[0m\u001b[0;34m\u001b[0m\u001b[0m\n\u001b[1;32m    219\u001b[0m \u001b[0;34m\u001b[0m\u001b[0m\n",
      "\u001b[0;31mIOError\u001b[0m: [Errno 2] No such file or directory: '/dev/shm/y_train_conv_5.npy'"
     ]
    }
   ],
   "source": [
    "y = np.memmap(\"/dev/shm/y_train_conv_5.npy\", mode=\"r\", shape=len(imagenet_train_files), dtype=\"int\")\n"
   ]
  },
  {
   "cell_type": "code",
   "execution_count": 12,
   "metadata": {
    "collapsed": false
   },
   "outputs": [],
   "source": [
    "X = X.astype('float64')\n"
   ]
  },
  {
   "cell_type": "code",
   "execution_count": 13,
   "metadata": {
    "collapsed": false
   },
   "outputs": [
    {
     "name": "stdout",
     "output_type": "stream",
     "text": [
      "CPU times: user 2h 16min 56s, sys: 16 s, total: 2h 17min 12s\n",
      "Wall time: 2min 35s\n"
     ]
    }
   ],
   "source": [
    "%time XTX = X.T.dot(X)\n"
   ]
  },
  {
   "cell_type": "code",
   "execution_count": 14,
   "metadata": {
    "collapsed": true
   },
   "outputs": [],
   "source": [
    "y_enc = np.eye(1000)[y]\n"
   ]
  },
  {
   "cell_type": "code",
   "execution_count": 15,
   "metadata": {
    "collapsed": false
   },
   "outputs": [
    {
     "data": {
      "text/plain": [
       "(1281167, 1000)"
      ]
     },
     "execution_count": 15,
     "metadata": {},
     "output_type": "execute_result"
    }
   ],
   "source": [
    "y_enc.shape\n"
   ]
  },
  {
   "cell_type": "code",
   "execution_count": 16,
   "metadata": {
    "collapsed": false
   },
   "outputs": [
    {
     "name": "stdout",
     "output_type": "stream",
     "text": [
      "CPU times: user 21min 23s, sys: 14min 4s, total: 35min 27s\n",
      "Wall time: 38.3 s\n"
     ]
    }
   ],
   "source": [
    "%time Xty = X.T.dot(y_enc)\n"
   ]
  },
  {
   "cell_type": "code",
   "execution_count": 17,
   "metadata": {
    "collapsed": false
   },
   "outputs": [
    {
     "ename": "NameError",
     "evalue": "name 'scipy' is not defined",
     "output_type": "error",
     "traceback": [
      "\u001b[0;31m---------------------------------------------------------------------------\u001b[0m",
      "\u001b[0;31mNameError\u001b[0m                                 Traceback (most recent call last)",
      "\u001b[0;32m<ipython-input-17-e7423c723ae2>\u001b[0m in \u001b[0;36m<module>\u001b[0;34m()\u001b[0m\n\u001b[0;32m----> 1\u001b[0;31m \u001b[0mscipy\u001b[0m\u001b[0;34m.\u001b[0m\u001b[0mlinalg\u001b[0m\u001b[0;34m\u001b[0m\u001b[0m\n\u001b[0m",
      "\u001b[0;31mNameError\u001b[0m: name 'scipy' is not defined"
     ]
    }
   ],
   "source": []
  },
  {
   "cell_type": "code",
   "execution_count": 27,
   "metadata": {
    "collapsed": false
   },
   "outputs": [
    {
     "data": {
      "text/plain": [
       "'n01629819'"
      ]
     },
     "execution_count": 27,
     "metadata": {},
     "output_type": "execute_result"
    }
   ],
   "source": [
    "imagenet_val_files[0].split(\"/\")[-1].split(\".\")[0]\n"
   ]
  },
  {
   "cell_type": "code",
   "execution_count": 43,
   "metadata": {
    "collapsed": false
   },
   "outputs": [
    {
     "data": {
      "text/plain": [
       "memmap([[  0.        ,   0.        ,   6.66407204, ...,   0.        ,\n",
       "          0.        ,   0.        ],\n",
       "       [ 17.5424099 ,  24.19426537,  21.59212112, ...,   0.78290975,\n",
       "          0.        ,  21.28173065],\n",
       "       [  0.        ,   0.        ,   0.        , ...,  28.85005379,\n",
       "          0.        ,  13.59846592],\n",
       "       ..., \n",
       "       [  0.        ,   0.        ,   0.        , ...,   0.        ,\n",
       "          0.        ,   0.        ],\n",
       "       [ 10.10374928,   0.65914536,   9.46424484, ...,   0.        ,\n",
       "         21.03636742,  16.77190208],\n",
       "       [  0.        ,   0.        ,   0.        , ...,   0.        ,\n",
       "          0.        ,   0.        ]])"
      ]
     },
     "execution_count": 43,
     "metadata": {},
     "output_type": "execute_result"
    }
   ],
   "source": [
    "X"
   ]
  },
  {
   "cell_type": "code",
   "execution_count": 24,
   "metadata": {
    "collapsed": false
   },
   "outputs": [
    {
     "data": {
      "text/plain": [
       "1281166"
      ]
     },
     "execution_count": 24,
     "metadata": {},
     "output_type": "execute_result"
    }
   ],
   "source": [
    "len(all_idxs)"
   ]
  },
  {
   "cell_type": "code",
   "execution_count": 45,
   "metadata": {
    "collapsed": false
   },
   "outputs": [
    {
     "data": {
      "text/plain": [
       "(50000, 9216)"
      ]
     },
     "execution_count": 45,
     "metadata": {},
     "output_type": "execute_result"
    }
   ],
   "source": [
    "X_val.shape\n",
    "\n",
    "\n"
   ]
  },
  {
   "cell_type": "code",
   "execution_count": 22,
   "metadata": {
    "collapsed": true
   },
   "outputs": [],
   "source": [
    "import scipy.linalg\n",
    "from sklearn import metrics\n"
   ]
  },
  {
   "cell_type": "code",
   "execution_count": 19,
   "metadata": {
    "collapsed": true
   },
   "outputs": [],
   "source": [
    "model = scipy.linalg.solve(XTX, Xty, sym_pos=True)"
   ]
  },
  {
   "cell_type": "code",
   "execution_count": 68,
   "metadata": {
    "collapsed": false
   },
   "outputs": [],
   "source": [
    "y_pred = X.dot(model)"
   ]
  },
  {
   "cell_type": "code",
   "execution_count": 69,
   "metadata": {
    "collapsed": false
   },
   "outputs": [
    {
     "data": {
      "text/plain": [
       "0.45343581281753276"
      ]
     },
     "execution_count": 69,
     "metadata": {},
     "output_type": "execute_result"
    }
   ],
   "source": [
    "metrics.accuracy_score(np.argmax(y_pred, axis=1), y)"
   ]
  },
  {
   "cell_type": "code",
   "execution_count": 47,
   "metadata": {
    "collapsed": false
   },
   "outputs": [
    {
     "data": {
      "text/plain": [
       "0.31879999999999997"
      ]
     },
     "execution_count": 47,
     "metadata": {},
     "output_type": "execute_result"
    }
   ],
   "source": [
    "metrics.accuracy_score(np.argmax(y_pred, axis=1), y_val)"
   ]
  },
  {
   "cell_type": "code",
   "execution_count": 104,
   "metadata": {
    "collapsed": false
   },
   "outputs": [],
   "source": [
    "from utils import exputil\n",
    "import opt\n",
    "from opt import ls\n",
    "\n",
    "def compute_top_1_and_5_acc(labels, pred_weights):\n",
    "    top1 = ls.top_k_accuracy(labels, pred_weights, k=1)\n",
    "    top5 = ls.top_k_accuracy(labels, pred_weights, k=5)\n",
    "    return top1, top5\n",
    "\n",
    "def run_experiment_linear_conv_5_reg_sweep(X_train, X_test, labels_train, labels_test, XtX, XtY, regs=[1e7, 1e8]): \n",
    "    solve_params_template = {\"solver\": \"direct_linear\"}\n",
    "    feat_params = {\n",
    "    'featurization_scheme': 'conv5',\n",
    "    }\n",
    "    diag_idx = np.diag_indices(XtX.shape[0])\n",
    "    all_results = []\n",
    "    for reg in regs:\n",
    "        start = time.time()\n",
    "        solve_params = solve_params_template.copy()\n",
    "        solve_params[\"regularization\"] = reg\n",
    "        XtX[diag_idx] += reg\n",
    "        try:\n",
    "            model = scipy.linalg.solve(XtX, XtY, sym_pos=True)\n",
    "        except:\n",
    "            XtX[diag_idx] -= reg\n",
    "            raise\n",
    "        XtX[diag_idx] -= reg\n",
    "        print(\"Done with solve..calculating metrics now\")\n",
    "        end = time.time()\n",
    "        y_train_pred = X_train.dot(model)\n",
    "        y_test_pred = X_test.dot(model)\n",
    "        \n",
    "        solve_time = end - start\n",
    "        top_1_train, top_5_train = compute_top_1_and_5_acc(labels_train, y_train_pred)\n",
    "        top_1_test, top_5_test = compute_top_1_and_5_acc(labels_test, y_test_pred)\n",
    "        results = {}\n",
    "        results[\"train_top_1\"] = top_1_train.tolist()\n",
    "        results[\"train_top_5\"] = top_5_train.tolist()\n",
    "        results[\"test_top_1\"] = top_1_test.tolist()\n",
    "        results[\"test_top_5\"] = top_5_test.tolist()\n",
    "        results[\"solve_time\"] = solve_time\n",
    "        print(results)\n",
    "        all_results.append((solve_params, feat_params.copy(), results, \"conv5 linear reg sweep\"))\n",
    "    return all_results\n",
    "\n",
    "\n",
    "    "
   ]
  },
  {
   "cell_type": "code",
   "execution_count": null,
   "metadata": {
    "collapsed": false
   },
   "outputs": [],
   "source": [
    "exp_results = run_experiment_linear_conv_5_reg_sweep(X, X_val, y, y_val, XTX, Xty, regs=[1e-8, 1e-5, 1e-2, 1, 10, 1e3]) "
   ]
  },
  {
   "cell_type": "code",
   "execution_count": null,
   "metadata": {
    "collapsed": false
   },
   "outputs": [],
   "source": [
    "a = exp_results[0][2]['train_top_5']"
   ]
  },
  {
   "cell_type": "code",
   "execution_count": 100,
   "metadata": {
    "collapsed": false
   },
   "outputs": [
    {
     "data": {
      "text/plain": [
       "0.7249492064656676"
      ]
     },
     "execution_count": 100,
     "metadata": {},
     "output_type": "execute_result"
    }
   ],
   "source": [
    "a.tolist()"
   ]
  },
  {
   "cell_type": "code",
   "execution_count": 105,
   "metadata": {
    "collapsed": false
   },
   "outputs": [
    {
     "name": "stdout",
     "output_type": "stream",
     "text": [
      "Done with solve..calculating metrics now\n",
      "{'train_top_1': 0.45343581281753276, 'test_top_5': 0.56204, 'train_top_5': 0.7249492064656676, 'test_top_1': 0.3188, 'solve_time': 2.674391031265259}\n",
      "Done with solve..calculating metrics now\n",
      "{'train_top_1': 0.45343581281753276, 'test_top_5': 0.56204, 'train_top_5': 0.7249492064656676, 'test_top_1': 0.3188, 'solve_time': 3.48016619682312}\n",
      "Done with solve..calculating metrics now\n",
      "{'train_top_1': 0.45340068859094873, 'test_top_5': 0.56204, 'train_top_5': 0.7249164238541892, 'test_top_1': 0.31886, 'solve_time': 2.64454984664917}\n",
      "Done with solve..calculating metrics now\n",
      "{'train_top_1': 0.4531134504713281, 'test_top_5': 0.56222, 'train_top_5': 0.7245644010499802, 'test_top_1': 0.31878, 'solve_time': 2.9693119525909424}\n",
      "Done with solve..calculating metrics now\n",
      "{'train_top_1': 0.4501739429754279, 'test_top_5': 0.56306, 'train_top_5': 0.7212556989057632, 'test_top_1': 0.31922, 'solve_time': 2.596450090408325}\n",
      "Done with solve..calculating metrics now\n",
      "{'train_top_1': 0.4324924073130201, 'test_top_5': 0.5672, 'train_top_5': 0.7023409126210712, 'test_top_1': 0.3214, 'solve_time': 3.0700039863586426}\n",
      "Done with solve..calculating metrics now\n",
      "{'train_top_1': 0.39477757388381063, 'test_top_5': 0.57212, 'train_top_5': 0.6613095716639595, 'test_top_1': 0.31986, 'solve_time': 2.4727680683135986}\n",
      "Done with solve..calculating metrics now\n",
      "{'train_top_1': 0.350405528709372, 'test_top_5': 0.56002, 'train_top_5': 0.6166580937535856, 'test_top_1': 0.30236, 'solve_time': 2.6049227714538574}\n",
      "Done with solve..calculating metrics now\n",
      "{'train_top_1': 0.2966685841892587, 'test_top_5': 0.5145, 'train_top_5': 0.557524506953426, 'test_top_1': 0.2629, 'solve_time': 3.326543092727661}\n"
     ]
    }
   ],
   "source": [
    "\n",
    "exp_results = run_experiment_linear_conv_5_reg_sweep(X, X_val, y, y_val, XTX, Xty, regs=[0,10,1e4,1e5,1e6,1e7,1e8,1e9,1e10])"
   ]
  },
  {
   "cell_type": "code",
   "execution_count": 106,
   "metadata": {
    "collapsed": false
   },
   "outputs": [
    {
     "data": {
      "text/plain": [
       "[({'regularization': 0, 'solver': 'direct_linear'},\n",
       "  {'featurization_scheme': 'conv5'},\n",
       "  {'solve_time': 2.674391031265259,\n",
       "   'test_top_1': 0.3188,\n",
       "   'test_top_5': 0.56204,\n",
       "   'train_top_1': 0.45343581281753276,\n",
       "   'train_top_5': 0.7249492064656676},\n",
       "  'conv5 linear reg sweep'),\n",
       " ({'regularization': 10, 'solver': 'direct_linear'},\n",
       "  {'featurization_scheme': 'conv5'},\n",
       "  {'solve_time': 3.48016619682312,\n",
       "   'test_top_1': 0.3188,\n",
       "   'test_top_5': 0.56204,\n",
       "   'train_top_1': 0.45343581281753276,\n",
       "   'train_top_5': 0.7249492064656676},\n",
       "  'conv5 linear reg sweep'),\n",
       " ({'regularization': 10000.0, 'solver': 'direct_linear'},\n",
       "  {'featurization_scheme': 'conv5'},\n",
       "  {'solve_time': 2.64454984664917,\n",
       "   'test_top_1': 0.31886,\n",
       "   'test_top_5': 0.56204,\n",
       "   'train_top_1': 0.45340068859094873,\n",
       "   'train_top_5': 0.7249164238541892},\n",
       "  'conv5 linear reg sweep'),\n",
       " ({'regularization': 100000.0, 'solver': 'direct_linear'},\n",
       "  {'featurization_scheme': 'conv5'},\n",
       "  {'solve_time': 2.9693119525909424,\n",
       "   'test_top_1': 0.31878,\n",
       "   'test_top_5': 0.56222,\n",
       "   'train_top_1': 0.4531134504713281,\n",
       "   'train_top_5': 0.7245644010499802},\n",
       "  'conv5 linear reg sweep'),\n",
       " ({'regularization': 1000000.0, 'solver': 'direct_linear'},\n",
       "  {'featurization_scheme': 'conv5'},\n",
       "  {'solve_time': 2.596450090408325,\n",
       "   'test_top_1': 0.31922,\n",
       "   'test_top_5': 0.56306,\n",
       "   'train_top_1': 0.4501739429754279,\n",
       "   'train_top_5': 0.7212556989057632},\n",
       "  'conv5 linear reg sweep'),\n",
       " ({'regularization': 10000000.0, 'solver': 'direct_linear'},\n",
       "  {'featurization_scheme': 'conv5'},\n",
       "  {'solve_time': 3.0700039863586426,\n",
       "   'test_top_1': 0.3214,\n",
       "   'test_top_5': 0.5672,\n",
       "   'train_top_1': 0.4324924073130201,\n",
       "   'train_top_5': 0.7023409126210712},\n",
       "  'conv5 linear reg sweep'),\n",
       " ({'regularization': 100000000.0, 'solver': 'direct_linear'},\n",
       "  {'featurization_scheme': 'conv5'},\n",
       "  {'solve_time': 2.4727680683135986,\n",
       "   'test_top_1': 0.31986,\n",
       "   'test_top_5': 0.57212,\n",
       "   'train_top_1': 0.39477757388381063,\n",
       "   'train_top_5': 0.6613095716639595},\n",
       "  'conv5 linear reg sweep'),\n",
       " ({'regularization': 1000000000.0, 'solver': 'direct_linear'},\n",
       "  {'featurization_scheme': 'conv5'},\n",
       "  {'solve_time': 2.6049227714538574,\n",
       "   'test_top_1': 0.30236,\n",
       "   'test_top_5': 0.56002,\n",
       "   'train_top_1': 0.350405528709372,\n",
       "   'train_top_5': 0.6166580937535856},\n",
       "  'conv5 linear reg sweep'),\n",
       " ({'regularization': 10000000000.0, 'solver': 'direct_linear'},\n",
       "  {'featurization_scheme': 'conv5'},\n",
       "  {'solve_time': 3.326543092727661,\n",
       "   'test_top_1': 0.2629,\n",
       "   'test_top_5': 0.5145,\n",
       "   'train_top_1': 0.2966685841892587,\n",
       "   'train_top_5': 0.557524506953426},\n",
       "  'conv5 linear reg sweep')]"
      ]
     },
     "execution_count": 106,
     "metadata": {},
     "output_type": "execute_result"
    }
   ],
   "source": [
    "exp_results"
   ]
  },
  {
   "cell_type": "code",
   "execution_count": 108,
   "metadata": {
    "collapsed": false
   },
   "outputs": [
    {
     "name": "stdout",
     "output_type": "stream",
     "text": [
      "/bin/bash -c 'cd /home/ubuntu ; tar -cf ./picture_web_2017-04-26-02:47:07.197436.tar pictureweb --exclude-from <(find pictureweb -size +3M)'\n",
      "bb17ebdbe2f4b4d5d8a53ddc39bb0fb2\n",
      "/bin/bash -c 'cd /home/ubuntu ; tar -cf ./picture_web_2017-04-26-02:47:14.702468.tar pictureweb --exclude-from <(find pictureweb -size +3M)'\n",
      "f55e850f1f3fd97068a88a6ce28fd947\n",
      "/bin/bash -c 'cd /home/ubuntu ; tar -cf ./picture_web_2017-04-26-02:47:23.002899.tar pictureweb --exclude-from <(find pictureweb -size +3M)'\n",
      "62f3210f61e1d59c6e10b4655457f77c\n",
      "/bin/bash -c 'cd /home/ubuntu ; tar -cf ./picture_web_2017-04-26-02:47:32.189002.tar pictureweb --exclude-from <(find pictureweb -size +3M)'\n",
      "612f7043643ef6ae062e60041973877f\n",
      "/bin/bash -c 'cd /home/ubuntu ; tar -cf ./picture_web_2017-04-26-02:47:39.879507.tar pictureweb --exclude-from <(find pictureweb -size +3M)'\n",
      "065708895c476643f51d62a16c32d381\n",
      "/bin/bash -c 'cd /home/ubuntu ; tar -cf ./picture_web_2017-04-26-02:47:46.948671.tar pictureweb --exclude-from <(find pictureweb -size +3M)'\n",
      "5cf2e78a261d045286b0b2ef8334c453\n",
      "/bin/bash -c 'cd /home/ubuntu ; tar -cf ./picture_web_2017-04-26-02:47:54.231899.tar pictureweb --exclude-from <(find pictureweb -size +3M)'\n",
      "3a80054cf6c7c7288ebd6cd8ffc7647f\n",
      "/bin/bash -c 'cd /home/ubuntu ; tar -cf ./picture_web_2017-04-26-02:48:04.620086.tar pictureweb --exclude-from <(find pictureweb -size +3M)'\n",
      "e61923df587d4cd0f23fa6a05316a8cf\n",
      "/bin/bash -c 'cd /home/ubuntu ; tar -cf ./picture_web_2017-04-26-02:48:12.606349.tar pictureweb --exclude-from <(find pictureweb -size +3M)'\n",
      "b392a0d1821d5d9e65b8b9d5730b4a18\n"
     ]
    }
   ],
   "source": [
    "reload(exputil)\n",
    "for res in exp_results:\n",
    "    exputil.save_results(*res, repo_path=\"/home/ubuntu/pictureweb/\")"
   ]
  },
  {
   "cell_type": "code",
   "execution_count": 4,
   "metadata": {
    "collapsed": false
   },
   "outputs": [
    {
     "ename": "ModuleNotFoundError",
     "evalue": "No module named 'distributed'",
     "output_type": "error",
     "traceback": [
      "\u001b[0;31m---------------------------------------------------------------------------\u001b[0m",
      "\u001b[0;31mModuleNotFoundError\u001b[0m                       Traceback (most recent call last)",
      "\u001b[0;32m<ipython-input-4-fe0fbaab6bdd>\u001b[0m in \u001b[0;36m<module>\u001b[0;34m()\u001b[0m\n\u001b[0;32m----> 1\u001b[0;31m \u001b[0;32mfrom\u001b[0m \u001b[0mdistributed\u001b[0m \u001b[0;32mimport\u001b[0m \u001b[0msharded_matrix\u001b[0m\u001b[0;34m\u001b[0m\u001b[0m\n\u001b[0m",
      "\u001b[0;31mModuleNotFoundError\u001b[0m: No module named 'distributed'"
     ]
    }
   ],
   "source": [
    "from distributed import sharded_matrix"
   ]
  },
  {
   "cell_type": "code",
   "execution_count": 111,
   "metadata": {
    "collapsed": true
   },
   "outputs": [],
   "source": [
    "np.save(\"/dev/shm/y_train_conv5.npy\", y)"
   ]
  },
  {
   "cell_type": "code",
   "execution_count": 2,
   "metadata": {
    "collapsed": false
   },
   "outputs": [
    {
     "data": {
      "text/plain": [
       "array([204, 352, 515, ..., 803, 392, 930])"
      ]
     },
     "execution_count": 2,
     "metadata": {},
     "output_type": "execute_result"
    }
   ],
   "source": [
    "import numpy as np\n",
    "np.load(\"/dev/shm/y_train_conv5.npy\")"
   ]
  },
  {
   "cell_type": "code",
   "execution_count": 3,
   "metadata": {
    "collapsed": false
   },
   "outputs": [
    {
     "ename": "SyntaxError",
     "evalue": "Missing parentheses in call to 'print' (<ipython-input-3-5ef05276e6a3>, line 1)",
     "output_type": "error",
     "traceback": [
      "\u001b[0;36m  File \u001b[0;32m\"<ipython-input-3-5ef05276e6a3>\"\u001b[0;36m, line \u001b[0;32m1\u001b[0m\n\u001b[0;31m    print 'HI'\u001b[0m\n\u001b[0m             ^\u001b[0m\n\u001b[0;31mSyntaxError\u001b[0m\u001b[0;31m:\u001b[0m Missing parentheses in call to 'print'\n"
     ]
    }
   ],
   "source": [
    "sharded_matrix.ShardedMatrix(\"X_train_conv5\")"
   ]
  },
  {
   "cell_type": "code",
   "execution_count": null,
   "metadata": {
    "collapsed": true
   },
   "outputs": [],
   "source": []
  }
 ],
 "metadata": {
  "kernelspec": {
   "display_name": "Python 3",
   "language": "python",
   "name": "python3"
  },
  "language_info": {
   "codemirror_mode": {
    "name": "ipython",
    "version": 3
   },
   "file_extension": ".py",
   "mimetype": "text/x-python",
   "name": "python",
   "nbconvert_exporter": "python",
   "pygments_lexer": "ipython3",
   "version": "3.6.0"
  }
 },
 "nbformat": 4,
 "nbformat_minor": 2
}
