{
 "cells": [
  {
   "cell_type": "code",
   "execution_count": 1,
   "metadata": {
    "collapsed": false
   },
   "outputs": [
    {
     "data": {
      "text/plain": [
       "<module 'distributed.bcd' from '../distributed/bcd.py'>"
      ]
     },
     "execution_count": 1,
     "metadata": {},
     "output_type": "execute_result"
    }
   ],
   "source": [
    "import sys\n",
    "sys.path.insert(0, \"..\")\n",
    "from utils import linalg\n",
    "from importlib import reload\n",
    "import distributed\n",
    "from distributed import kernel\n",
    "reload(distributed.sharded_matrix)\n",
    "from distributed.sharded_matrix import ShardedMatrix, ShardedSymmetricMatrix\n",
    "from distributed import matmul\n",
    "import numpy as np\n",
    "import pywren\n",
    "from utils import misc\n",
    "import math\n",
    "import concurrent.futures as fs\n",
    "import time\n",
    "import os\n",
    "from numba import jit\n",
    "import scipy.linalg\n",
    "from sklearn import metrics\n",
    "from scipy.linalg import LinAlgError\n",
    "\n",
    "from distributed import bcd\n",
    "reload(bcd)"
   ]
  },
  {
   "cell_type": "code",
   "execution_count": 2,
   "metadata": {
    "collapsed": true
   },
   "outputs": [],
   "source": [
    "notebook_stdout = sys.stdout\n",
    "notebook_stderr = sys.stderr\n",
    "terminal_stdout = open('/dev/stdout', 'w')\n",
    "terminal_stderr = open('/dev/stderr', 'w')"
   ]
  },
  {
   "cell_type": "code",
   "execution_count": 9,
   "metadata": {
    "collapsed": true
   },
   "outputs": [],
   "source": [
    "X = np.load(\"/home/ubuntu/imagenet-data/X_test_lift_3_3_pool_12_12_patch_stride_1.npy\")\n"
   ]
  },
  {
   "cell_type": "code",
   "execution_count": 10,
   "metadata": {
    "collapsed": false
   },
   "outputs": [],
   "source": [
    "idxs = np.load(\"/home/ubuntu/imagenet-data/test_scramble_idxs.npy\")\n"
   ]
  },
  {
   "cell_type": "code",
   "execution_count": 11,
   "metadata": {
    "collapsed": false
   },
   "outputs": [
    {
     "name": "stdout",
     "output_type": "stream",
     "text": [
      "CPU times: user 0 ns, sys: 1.81 s, total: 1.81 s\n",
      "Wall time: 1.81 s\n"
     ]
    }
   ],
   "source": [
    "%time X_scrambled = X[idxs]"
   ]
  },
  {
   "cell_type": "code",
   "execution_count": 12,
   "metadata": {
    "collapsed": true
   },
   "outputs": [],
   "source": [
    "X_scrambled = X_scrambled.reshape(X_scrambled.shape[0], -1)"
   ]
  },
  {
   "cell_type": "code",
   "execution_count": 13,
   "metadata": {
    "collapsed": false
   },
   "outputs": [
    {
     "name": "stdout",
     "output_type": "stream",
     "text": [
      "Sharding matrix..... of shape (50000, 18432)\n",
      "81920  122884096 016384  12288 4096204802048018432 0  \n",
      "16384 24576 491520  18432 8192 500000\n",
      "0 18432   024576\n",
      "018432 18432 18432 \n",
      "28672\n",
      "\n",
      " 018432 \n",
      "18432\n",
      "36864 4096028672 4096032768 32768 45056 45056 0 368640 0   18432 018432\n",
      "18432 \n",
      "18432\n",
      "49152 0 18432\n",
      "\n",
      "CPU times: user 50.5 s, sys: 33.4 s, total: 1min 23s\n",
      "Wall time: 36.1 s\n"
     ]
    }
   ],
   "source": [
    "%time X_block_sharded = ShardedMatrix(\"X_test_scrambled_3_3_pool_12_12_patch_stride_1_1_block_no_normalize_05.04.2017\",\\\n",
    "                                shard_size_0=4096,\\\n",
    "                                bucket=\"vaishaalpywrenlinalg\",\\\n",
    "                                reshard=True, \\\n",
    "                                data=X_scrambled, \\\n",
    "                                n_jobs=32)"
   ]
  },
  {
   "cell_type": "code",
   "execution_count": 12,
   "metadata": {
    "collapsed": false
   },
   "outputs": [
    {
     "data": {
      "text/plain": [
       "array([[ 0.,  0.,  0., ...,  0.,  0.,  0.],\n",
       "       [ 0.,  0.,  0., ...,  0.,  0.,  0.],\n",
       "       [ 0.,  0.,  0., ...,  0.,  0.,  0.],\n",
       "       ..., \n",
       "       [ 0.,  0.,  0., ...,  0.,  0.,  0.],\n",
       "       [ 0.,  0.,  0., ...,  0.,  0.,  0.],\n",
       "       [ 0.,  0.,  0., ...,  0.,  0.,  0.]], dtype=float32)"
      ]
     },
     "execution_count": 12,
     "metadata": {},
     "output_type": "execute_result"
    }
   ],
   "source": [
    "X_block_sharded.get_block(0,0) - X_scrambled[:4096, :]"
   ]
  },
  {
   "cell_type": "code",
   "execution_count": 9,
   "metadata": {
    "collapsed": false
   },
   "outputs": [],
   "source": [
    "pwex = pywren.default_executor(job_max_runtime=600)"
   ]
  },
  {
   "cell_type": "code",
   "execution_count": 10,
   "metadata": {
    "collapsed": false
   },
   "outputs": [
    {
     "name": "stdout",
     "output_type": "stream",
     "text": [
      "Submitting jobs, chunk 0\n",
      "Submitting jobs, chunk 1\n",
      "Submitting jobs, chunk 2\n",
      "Waiting for jobs\n"
     ]
    },
    {
     "ename": "TypeError",
     "evalue": "compute_rbf_kernel_blockwise() missing 2 required positional arguments: 'gamma' and 'num_features'",
     "output_type": "error",
     "traceback": [
      "\u001b[0;31m---------------------------------------------------------------------------\u001b[0m",
      "\u001b[0;31mTypeError\u001b[0m                                 Traceback (most recent call last)",
      "\u001b[0;32m<ipython-input-10-7888707ef2f9>\u001b[0m in \u001b[0;36m<module>\u001b[0;34m()\u001b[0m\n\u001b[1;32m      1\u001b[0m \u001b[0mkey\u001b[0m \u001b[0;34m=\u001b[0m \u001b[0;34m\"rbf(XXT(X_block_scrambled_3_3_pool_12_12_patch_stride_1_1_blocks_no_normalize_04.22.2017, {0})\"\u001b[0m\u001b[0;34m.\u001b[0m\u001b[0mformat\u001b[0m\u001b[0;34m(\u001b[0m\u001b[0mGAMMA\u001b[0m\u001b[0;34m)\u001b[0m\u001b[0;34m\u001b[0m\u001b[0m\n\u001b[1;32m      2\u001b[0m \u001b[0;32mif\u001b[0m \u001b[0;34m(\u001b[0m\u001b[0;32mnot\u001b[0m \u001b[0mK_EXISTS\u001b[0m\u001b[0;34m)\u001b[0m\u001b[0;34m:\u001b[0m\u001b[0;34m\u001b[0m\u001b[0m\n\u001b[0;32m----> 3\u001b[0;31m    \u001b[0mK\u001b[0m \u001b[0;34m=\u001b[0m \u001b[0mkernel\u001b[0m\u001b[0;34m.\u001b[0m\u001b[0mcompute_kernel_pywren\u001b[0m\u001b[0;34m(\u001b[0m\u001b[0mpwex\u001b[0m\u001b[0;34m,\u001b[0m \u001b[0mkey\u001b[0m\u001b[0;34m,\u001b[0m \u001b[0mX_block_sharded\u001b[0m\u001b[0;34m,\u001b[0m \u001b[0;36m4\u001b[0m\u001b[0;34m,\u001b[0m \u001b[0mgamma\u001b[0m\u001b[0;34m=\u001b[0m\u001b[0mGAMMA\u001b[0m\u001b[0;34m,\u001b[0m \u001b[0mnum_jobs\u001b[0m\u001b[0;34m=\u001b[0m\u001b[0;36m4500\u001b[0m\u001b[0;34m,\u001b[0m \u001b[0mnum_features\u001b[0m\u001b[0;34m=\u001b[0m\u001b[0mX_block_sharded\u001b[0m\u001b[0;34m.\u001b[0m\u001b[0mshape\u001b[0m\u001b[0;34m[\u001b[0m\u001b[0;36m1\u001b[0m\u001b[0;34m]\u001b[0m\u001b[0;34m)\u001b[0m\u001b[0;34m\u001b[0m\u001b[0m\n\u001b[0m\u001b[1;32m      4\u001b[0m \u001b[0;32melse\u001b[0m\u001b[0;34m:\u001b[0m\u001b[0;34m\u001b[0m\u001b[0m\n\u001b[1;32m      5\u001b[0m     \u001b[0mK\u001b[0m \u001b[0;34m=\u001b[0m \u001b[0mShardedSymmetricMatrix\u001b[0m\u001b[0;34m(\u001b[0m\u001b[0mkey\u001b[0m\u001b[0;34m,\u001b[0m \u001b[0mbucket\u001b[0m\u001b[0;34m=\u001b[0m\u001b[0;34m\"vaishaalpywrenlinalg\"\u001b[0m\u001b[0;34m)\u001b[0m\u001b[0;34m\u001b[0m\u001b[0m\n",
      "\u001b[0;32m/home/ubuntu/pictureweb/distributed/kernel.py\u001b[0m in \u001b[0;36mcompute_kernel_pywren\u001b[0;34m(pwex, key, X_train_sharded, tasks_per_job, gamma, num_jobs, num_features)\u001b[0m\n\u001b[1;32m    219\u001b[0m         \u001b[0mpywren\u001b[0m\u001b[0;34m.\u001b[0m\u001b[0mwait\u001b[0m\u001b[0;34m(\u001b[0m\u001b[0mkernel_futures\u001b[0m\u001b[0;34m)\u001b[0m\u001b[0;34m\u001b[0m\u001b[0m\n\u001b[1;32m    220\u001b[0m \u001b[0;34m\u001b[0m\u001b[0m\n\u001b[0;32m--> 221\u001b[0;31m     \u001b[0mK_sharded\u001b[0m \u001b[0;34m=\u001b[0m \u001b[0mcompute_rbf_kernel_blockwise\u001b[0m\u001b[0;34m(\u001b[0m\u001b[0;34m[\u001b[0m\u001b[0;34m(\u001b[0m\u001b[0mnum_blocks\u001b[0m\u001b[0;34m-\u001b[0m\u001b[0;36m1\u001b[0m\u001b[0;34m,\u001b[0m\u001b[0mnum_blocks\u001b[0m\u001b[0;34m-\u001b[0m\u001b[0;36m1\u001b[0m\u001b[0;34m)\u001b[0m\u001b[0;34m]\u001b[0m\u001b[0;34m,\u001b[0m \u001b[0mX_train_sharded\u001b[0m\u001b[0;34m,\u001b[0m \u001b[0mgamma\u001b[0m\u001b[0;34m)\u001b[0m\u001b[0;34m[\u001b[0m\u001b[0;36m1\u001b[0m\u001b[0;34m]\u001b[0m\u001b[0;34m\u001b[0m\u001b[0m\n\u001b[0m\u001b[1;32m    222\u001b[0m     \u001b[0;32mreturn\u001b[0m \u001b[0mK_sharded\u001b[0m\u001b[0;34m\u001b[0m\u001b[0m\n\u001b[1;32m    223\u001b[0m \u001b[0;34m\u001b[0m\u001b[0m\n",
      "\u001b[0;31mTypeError\u001b[0m: compute_rbf_kernel_blockwise() missing 2 required positional arguments: 'gamma' and 'num_features'"
     ]
    }
   ],
   "source": [
    "key = \"rbf(XXT(X_block_scrambled_3_3_pool_12_12_patch_stride_1_1_blocks_no_normalize_04.22.2017, {0})\".format(GAMMA)\n",
    "if (not K_EXISTS):\n",
    "   K = kernel.compute_kernel_pywren(pwex, key, X_block_sharded, 4, gamma=GAMMA, num_jobs=4500, num_features=X_block_sharded.shape[1])\n",
    "else: \n",
    "    K = ShardedSymmetricMatrix(key, bucket=\"vaishaalpywrenlinalg\")"
   ]
  },
  {
   "cell_type": "code",
   "execution_count": 48,
   "metadata": {
    "collapsed": false
   },
   "outputs": [
    {
     "data": {
      "text/plain": [
       "array([[ 0.99999988,  0.91322291,  0.90441197, ...,  0.90901983,\n",
       "         0.79785383,  0.75657988],\n",
       "       [ 0.91322291,  1.        ,  0.95678014, ...,  0.94905877,\n",
       "         0.80784559,  0.77357572],\n",
       "       [ 0.90441197,  0.95678014,  1.        , ...,  0.94054091,\n",
       "         0.81784886,  0.76312709],\n",
       "       ..., \n",
       "       [ 0.90901983,  0.94905877,  0.94054091, ...,  1.        ,\n",
       "         0.89513743,  0.85599107],\n",
       "       [ 0.79785383,  0.80784559,  0.8178488 , ...,  0.89513743,\n",
       "         0.99999994,  0.93026906],\n",
       "       [ 0.75657988,  0.77357572,  0.76312709, ...,  0.85599107,\n",
       "         0.93026906,  1.        ]], dtype=float32)"
      ]
     },
     "execution_count": 48,
     "metadata": {},
     "output_type": "execute_result"
    }
   ],
   "source": [
    "K.get_block(0,0)"
   ]
  },
  {
   "cell_type": "code",
   "execution_count": 11,
   "metadata": {
    "collapsed": false
   },
   "outputs": [],
   "source": [
    "idxs = np.load(\"/home/ubuntu/imagenet-data/scramble_idxs.npy\")\n",
    "labelsTrain = np.load(\"/home/ubuntu/imagenet-data/imagenet_train_labels.npy\")[idxs]"
   ]
  },
  {
   "cell_type": "code",
   "execution_count": 12,
   "metadata": {
    "collapsed": false
   },
   "outputs": [],
   "source": [
    "y_train = np.eye(1000)[labelsTrain.astype('int')]"
   ]
  },
  {
   "cell_type": "code",
   "execution_count": 49,
   "metadata": {
    "collapsed": false
   },
   "outputs": [
    {
     "data": {
      "text/plain": [
       "array([[ 0.99999988,  0.91322291,  0.90441197, ...,  0.90901983,\n",
       "         0.79785383,  0.75657988],\n",
       "       [ 0.91322291,  1.        ,  0.95678014, ...,  0.94905877,\n",
       "         0.80784559,  0.77357572],\n",
       "       [ 0.90441197,  0.95678014,  1.        , ...,  0.94054091,\n",
       "         0.81784886,  0.76312709],\n",
       "       ..., \n",
       "       [ 0.90901983,  0.94905877,  0.94054091, ...,  1.        ,\n",
       "         0.89513743,  0.85599107],\n",
       "       [ 0.79785383,  0.80784559,  0.8178488 , ...,  0.89513743,\n",
       "         0.99999994,  0.93026906],\n",
       "       [ 0.75657988,  0.77357572,  0.76312709, ...,  0.85599107,\n",
       "         0.93026906,  1.        ]], dtype=float32)"
      ]
     },
     "execution_count": 49,
     "metadata": {},
     "output_type": "execute_result"
    }
   ],
   "source": [
    "K.get_block(0,0)"
   ]
  },
  {
   "cell_type": "code",
   "execution_count": 73,
   "metadata": {
    "collapsed": false
   },
   "outputs": [
    {
     "data": {
      "text/plain": [
       "<module 'distributed.bcd' from '../distributed/bcd.py'>"
      ]
     },
     "execution_count": 73,
     "metadata": {},
     "output_type": "execute_result"
    }
   ],
   "source": [
    "reload(bcd)"
   ]
  },
  {
   "cell_type": "code",
   "execution_count": null,
   "metadata": {
    "collapsed": false
   },
   "outputs": [],
   "source": [
    "sys.stdout = terminal_stdout\n",
    "reload(bcd)\n",
    "X_1_epoch = bcd.block_kernel_solve(K, y_train, epochs=1, lambdav=1e-5, blocks_per_iter=4)"
   ]
  },
  {
   "cell_type": "code",
   "execution_count": 164,
   "metadata": {
    "collapsed": false
   },
   "outputs": [],
   "source": [
    "svd_stuff = np.linalg.svd(X_1_epoch)"
   ]
  },
  {
   "cell_type": "code",
   "execution_count": 172,
   "metadata": {
    "collapsed": false
   },
   "outputs": [
    {
     "data": {
      "text/plain": [
       "10493230837679216.0"
      ]
     },
     "execution_count": 172,
     "metadata": {},
     "output_type": "execute_result"
    }
   ],
   "source": [
    "svd_stuff[1][0]/svd_stuff[1][-1]"
   ]
  },
  {
   "cell_type": "code",
   "execution_count": 177,
   "metadata": {
    "collapsed": false
   },
   "outputs": [
    {
     "data": {
      "text/plain": [
       "memmap([ 0.38845128,  0.89646912,  0.44712415, ...,  0.26498708,\n",
       "        0.56446284,  0.66869539])"
      ]
     },
     "execution_count": 177,
     "metadata": {},
     "output_type": "execute_result"
    }
   ],
   "source": [
    "np.diag(X_1_epoch)"
   ]
  },
  {
   "cell_type": "code",
   "execution_count": 179,
   "metadata": {
    "collapsed": false
   },
   "outputs": [],
   "source": [
    "K_block = K.get_block(0,0)"
   ]
  },
  {
   "cell_type": "code",
   "execution_count": 187,
   "metadata": {
    "collapsed": false
   },
   "outputs": [
    {
     "data": {
      "text/plain": [
       "array([ 0.99999881,  0.99999988,  0.99999988, ...,  1.        ,\n",
       "        0.99999952,  1.        ], dtype=float32)"
      ]
     },
     "execution_count": 187,
     "metadata": {},
     "output_type": "execute_result"
    }
   ],
   "source": [
    "np.diag(K_block)"
   ]
  },
  {
   "cell_type": "code",
   "execution_count": 183,
   "metadata": {
    "collapsed": false
   },
   "outputs": [
    {
     "data": {
      "text/plain": [
       "array([  2.17837646e+03,   3.11883759e+02,   1.85900482e+02, ...,\n",
       "         2.88411011e-05,   2.49138957e-05,   1.49347890e-17], dtype=float32)"
      ]
     },
     "execution_count": 183,
     "metadata": {},
     "output_type": "execute_result"
    }
   ],
   "source": [
    "svd_stuff[1]"
   ]
  },
  {
   "cell_type": "code",
   "execution_count": 42,
   "metadata": {
    "collapsed": false
   },
   "outputs": [],
   "source": [
    "x_start, y_hat =  X_1_epoch"
   ]
  },
  {
   "cell_type": "code",
   "execution_count": 145,
   "metadata": {
    "collapsed": false
   },
   "outputs": [
    {
     "name": "stdout",
     "output_type": "stream",
     "text": [
      "[0, 1, 2]\n",
      "CPU times: user 276 ms, sys: 1.78 s, total: 2.06 s\n",
      "Wall time: 2.04 s\n",
      "CPU times: user 912 ms, sys: 84 ms, total: 996 ms\n",
      "Wall time: 1min 45s\n"
     ]
    },
    {
     "data": {
      "text/plain": [
       "DoneAndNotDoneFutures(done={<Future at 0x7f2d00221898 state=finished returned tuple>, <Future at 0x7f2ce04cf898 state=finished returned tuple>, <Future at 0x7f2ce04cf0b8 state=finished returned tuple>, <Future at 0x7f2de057b8d0 state=finished returned tuple>, <Future at 0x7f2ce04cf9e8 state=finished returned tuple>, <Future at 0x7f1f5df06a20 state=finished returned tuple>, <Future at 0x7f2ce04cfa58 state=finished returned tuple>, <Future at 0x7f2d00221a58 state=finished returned tuple>, <Future at 0x7f1f5d3a72b0 state=finished returned tuple>, <Future at 0x7f2cc2186b70 state=finished returned tuple>, <Future at 0x7f2dc0295470 state=finished returned tuple>, <Future at 0x7f2de057bc88 state=finished returned tuple>, <Future at 0x7f2dc02954a8 state=finished returned tuple>, <Future at 0x7f2ccba2e4e0 state=finished returned tuple>, <Future at 0x7f2cc993ad30 state=finished returned tuple>, <Future at 0x7f38c1699d68 state=finished returned tuple>, <Future at 0x7f2ce04cf588 state=finished returned tuple>, <Future at 0x7f2ce04cffd0 state=finished returned tuple>, <Future at 0x7f2cc81c7f28 state=finished returned tuple>, <Future at 0x7f2ce04cf780 state=finished returned tuple>, <Future at 0x7f2dc0295fd0 state=finished returned tuple>}, not_done=set())"
      ]
     },
     "execution_count": 145,
     "metadata": {},
     "output_type": "execute_result"
    }
   ],
   "source": [
    "%time a = bcd.fast_kernel_column_block_async(K, [0,1,2])\n",
    "%time fs.wait(a)"
   ]
  },
  {
   "cell_type": "code",
   "execution_count": 146,
   "metadata": {
    "collapsed": false
   },
   "outputs": [],
   "source": [
    "k = bcd.load_mmap(*a[0].result())"
   ]
  },
  {
   "cell_type": "code",
   "execution_count": 152,
   "metadata": {
    "collapsed": false
   },
   "outputs": [
    {
     "data": {
      "text/plain": [
       "memmap([[ 0.99999881,  0.40342984,  0.36615327, ...,  0.30506128,\n",
       "         0.67470342,  0.40624243],\n",
       "       [ 0.40342984,  0.99999988,  0.64286745, ...,  0.64839852,\n",
       "         0.69248831,  0.80197585],\n",
       "       [ 0.36615327,  0.64286745,  0.99999988, ...,  0.68896604,\n",
       "         0.72726387,  0.8055684 ],\n",
       "       ..., \n",
       "       [ 0.33696416,  0.68765193,  0.73388755, ...,  0.874237  ,\n",
       "         0.59649545,  0.85790408],\n",
       "       [ 0.35511884,  0.82535362,  0.73779732, ...,  0.74089462,\n",
       "         0.64481544,  0.86099726],\n",
       "       [ 0.28665397,  0.70327604,  0.67107129, ...,  0.90301561,\n",
       "         0.5732618 ,  0.85399121]])"
      ]
     },
     "execution_count": 152,
     "metadata": {},
     "output_type": "execute_result"
    }
   ],
   "source": [
    "bcd.block_kernel_solve(K, "
   ]
  },
  {
   "cell_type": "code",
   "execution_count": 143,
   "metadata": {
    "collapsed": false
   },
   "outputs": [
    {
     "data": {
      "text/plain": [
       "memmap([[ 0.99999881,  0.40342984,  0.36615327, ...,  0.38524207,\n",
       "         0.1045282 ,  0.06145367],\n",
       "       [ 0.40342984,  0.99999988,  0.64286745, ...,  0.59283113,\n",
       "         0.11838143,  0.07674114],\n",
       "       [ 0.36615327,  0.64286745,  0.99999988, ...,  0.54172248,\n",
       "         0.13388455,  0.06698362],\n",
       "       ..., \n",
       "       [ 0.33696416,  0.68765193,  0.73388755, ...,  0.69942391,\n",
       "         0.14707921,  0.08063375],\n",
       "       [ 0.35511884,  0.82535362,  0.73779732, ...,  0.62777525,\n",
       "         0.11895563,  0.07865198],\n",
       "       [ 0.28665397,  0.70327604,  0.67107129, ...,  0.68767077,\n",
       "         0.13325712,  0.07482792]])"
      ]
     },
     "execution_count": 143,
     "metadata": {},
     "output_type": "execute_result"
    }
   ],
   "source": [
    "k"
   ]
  },
  {
   "cell_type": "code",
   "execution_count": null,
   "metadata": {
    "collapsed": true
   },
   "outputs": [],
   "source": []
  }
 ],
 "metadata": {
  "kernelspec": {
   "display_name": "Python 3",
   "language": "python",
   "name": "python3"
  },
  "language_info": {
   "codemirror_mode": {
    "name": "ipython",
    "version": 3
   },
   "file_extension": ".py",
   "mimetype": "text/x-python",
   "name": "python",
   "nbconvert_exporter": "python",
   "pygments_lexer": "ipython3",
   "version": "3.6.0"
  }
 },
 "nbformat": 4,
 "nbformat_minor": 2
}
