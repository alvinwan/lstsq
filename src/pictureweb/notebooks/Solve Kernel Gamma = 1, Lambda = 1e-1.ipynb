{
 "cells": [
  {
   "cell_type": "code",
   "execution_count": 5,
   "metadata": {
    "collapsed": false
   },
   "outputs": [
    {
     "data": {
      "text/plain": [
       "<module 'distributed.bcd' from '../distributed/bcd.py'>"
      ]
     },
     "execution_count": 5,
     "metadata": {},
     "output_type": "execute_result"
    }
   ],
   "source": [
    "import sys\n",
    "sys.path.insert(0, \"..\")\n",
    "from utils import linalg\n",
    "from importlib import reload\n",
    "import distributed\n",
    "from distributed import kernel\n",
    "reload(distributed.sharded_matrix)\n",
    "from distributed.sharded_matrix import ShardedMatrix, ShardedSymmetricMatrix\n",
    "from distributed import matmul\n",
    "import numpy as np\n",
    "import pywren\n",
    "from utils import misc\n",
    "import math\n",
    "import concurrent.futures as fs\n",
    "import time\n",
    "import os\n",
    "from numba import jit\n",
    "import scipy.linalg\n",
    "from sklearn import metrics\n",
    "from scipy.linalg import LinAlgError\n",
    "\n",
    "from distributed import bcd\n",
    "reload(bcd)"
   ]
  },
  {
   "cell_type": "code",
   "execution_count": 6,
   "metadata": {
    "collapsed": true
   },
   "outputs": [],
   "source": [
    "notebook_stdout = sys.stdout\n",
    "notebook_stderr = sys.stderr\n",
    "terminal_stdout = open('/dev/stdout', 'w')\n",
    "terminal_stderr = open('/dev/stderr', 'w')"
   ]
  },
  {
   "cell_type": "code",
   "execution_count": 23,
   "metadata": {
    "collapsed": true
   },
   "outputs": [],
   "source": [
    "X_EXISTS = True\n",
    "K_EXISTS = True\n",
    "NORMS_EXIST = True\n",
    "GAMMA = 1e1\n",
    "NUM_TRAIN = 1281167"
   ]
  },
  {
   "cell_type": "code",
   "execution_count": 5,
   "metadata": {
    "collapsed": false
   },
   "outputs": [],
   "source": [
    "pwex = pywren.default_executor(job_max_runtime=600)"
   ]
  },
  {
   "cell_type": "code",
   "execution_count": 4,
   "metadata": {
    "collapsed": false
   },
   "outputs": [
    {
     "name": "stdout",
     "output_type": "stream",
     "text": [
      "CPU times: user 120 ms, sys: 12 ms, total: 132 ms\n",
      "Wall time: 203 ms\n"
     ]
    }
   ],
   "source": [
    "%time X_block_sharded = ShardedMatrix(\"X_block_scrambled_3_3_pool_12_12_patch_stride_1_1_block_no_normalize_04.22.2017\",\\\n",
    "                                shard_size_0=4096,\\\n",
    "                                bucket=\"vaishaalpywrenlinalg\",\\\n",
    "                                n_jobs=32)"
   ]
  },
  {
   "cell_type": "code",
   "execution_count": 27,
   "metadata": {
    "collapsed": false
   },
   "outputs": [],
   "source": [
    "key = \"rbf(XXT(X_block_scrambled_3_3_pool_12_12_patch_stride_1_1_blocks_no_normalize_04.22.2017, {0})\".format(GAMMA)\n",
    "\n",
    "if (not K_EXISTS):\n",
    "   K = kernel.compute_kernel_pywren(pwex, key, X_block_sharded, 4, gamma=GAMMA, num_jobs=4500, num_features=X_block_sharded.shape[1])\n",
    "else: \n",
    "    K = ShardedSymmetricMatrix(key, bucket=\"vaishaalpywrenlinalg\")"
   ]
  },
  {
   "cell_type": "code",
   "execution_count": 28,
   "metadata": {
    "collapsed": false
   },
   "outputs": [
    {
     "data": {
      "text/plain": [
       "array([[  9.99997616e-01,   1.39793837e-02,   1.28975476e-03, ...,\n",
       "          4.61571617e-03,   1.12510612e-03,   1.91534622e-04],\n",
       "       [  1.39793837e-02,   9.99999404e-01,   6.86560431e-03, ...,\n",
       "          5.75694479e-02,   2.42453930e-03,   1.98401650e-03],\n",
       "       [  1.28975476e-03,   6.86560431e-03,   1.00000060e+00, ...,\n",
       "          4.17747200e-02,   6.69077411e-02,   2.61596274e-02],\n",
       "       ..., \n",
       "       [  4.61571617e-03,   5.75694479e-02,   4.17747088e-02, ...,\n",
       "          9.99999404e-01,   3.64136742e-03,   7.12921983e-03],\n",
       "       [  1.12510507e-03,   2.42454256e-03,   6.69077113e-02, ...,\n",
       "          3.64136742e-03,   1.00000000e+00,   4.58960570e-02],\n",
       "       [  1.91534622e-04,   1.98401650e-03,   2.61596274e-02, ...,\n",
       "          7.12921983e-03,   4.58961241e-02,   1.00000000e+00]], dtype=float32)"
      ]
     },
     "execution_count": 28,
     "metadata": {},
     "output_type": "execute_result"
    }
   ],
   "source": [
    "K.get_block(312,312)"
   ]
  },
  {
   "cell_type": "code",
   "execution_count": 13,
   "metadata": {
    "collapsed": false
   },
   "outputs": [],
   "source": [
    "idxs = np.load(\"/home/ubuntu/imagenet-data/scramble_idxs.npy\")\n",
    "labelsTrain = np.load(\"/home/ubuntu/imagenet-data/imagenet_train_labels.npy\")[idxs]"
   ]
  },
  {
   "cell_type": "code",
   "execution_count": 14,
   "metadata": {
    "collapsed": false
   },
   "outputs": [
    {
     "data": {
      "text/plain": [
       "array([ 955.,  978.,   98., ...,  752.,   91.,  239.])"
      ]
     },
     "execution_count": 14,
     "metadata": {},
     "output_type": "execute_result"
    }
   ],
   "source": [
    "labelsTrain"
   ]
  },
  {
   "cell_type": "code",
   "execution_count": 15,
   "metadata": {
    "collapsed": false
   },
   "outputs": [],
   "source": [
    "y_train = np.eye(1000)[labelsTrain.astype('int')]"
   ]
  },
  {
   "cell_type": "code",
   "execution_count": 16,
   "metadata": {
    "collapsed": false
   },
   "outputs": [
    {
     "data": {
      "text/plain": [
       "array([[ 1.00000012,  0.58216029,  0.85013938, ...,  0.42229491,\n",
       "         0.72843969,  0.63366985],\n",
       "       [ 0.58216029,  1.        ,  0.60700768, ...,  0.45322865,\n",
       "         0.64749706,  0.83554441],\n",
       "       [ 0.85013938,  0.60700768,  1.        , ...,  0.44800186,\n",
       "         0.79409033,  0.69017005],\n",
       "       ..., \n",
       "       [ 0.42229491,  0.45322865,  0.44800186, ...,  0.99999928,\n",
       "         0.41453877,  0.38948178],\n",
       "       [ 0.72843969,  0.64749706,  0.79409033, ...,  0.41453877,\n",
       "         1.00000012,  0.71894205],\n",
       "       [ 0.63366985,  0.83554441,  0.69017005, ...,  0.38948175,\n",
       "         0.71894205,  1.        ]], dtype=float32)"
      ]
     },
     "execution_count": 16,
     "metadata": {},
     "output_type": "execute_result"
    }
   ],
   "source": [
    "K.get_block(0,0)"
   ]
  },
  {
   "cell_type": "code",
   "execution_count": 29,
   "metadata": {
    "collapsed": false
   },
   "outputs": [
    {
     "data": {
      "text/plain": [
       "<module 'distributed.bcd' from '../distributed/bcd.py'>"
      ]
     },
     "execution_count": 29,
     "metadata": {},
     "output_type": "execute_result"
    }
   ],
   "source": [
    "reload(bcd)"
   ]
  },
  {
   "cell_type": "code",
   "execution_count": null,
   "metadata": {
    "collapsed": false
   },
   "outputs": [],
   "source": [
    "sys.stdout = terminal_stdout\n",
    "reload(bcd)\n",
    "X_1_epoch = bcd.block_kernel_solve(K, y_train, epochs=2, lambdav=1e-1, blocks_per_iter=4)"
   ]
  },
  {
   "cell_type": "code",
   "execution_count": 45,
   "metadata": {
    "collapsed": false
   },
   "outputs": [
    {
     "data": {
      "text/plain": [
       "0.18821121680467887"
      ]
     },
     "execution_count": 45,
     "metadata": {},
     "output_type": "execute_result"
    }
   ],
   "source": [
    "metrics.accuracy_score(np.argmax(X_1_epoch[1], axis=1), labelsTrain)"
   ]
  },
  {
   "cell_type": "code",
   "execution_count": 22,
   "metadata": {
    "collapsed": false
   },
   "outputs": [],
   "source": [
    "model = np.load(\"/dev/shm/model_iter_70_train_acc_0.809784360664925_next_block_acc_0.137939453125_norm_725.7616952103908.npy\")"
   ]
  },
  {
   "cell_type": "code",
   "execution_count": 164,
   "metadata": {
    "collapsed": false
   },
   "outputs": [],
   "source": [
    "svd_stuff = np.linalg.svd(X_1_epoch)"
   ]
  },
  {
   "cell_type": "code",
   "execution_count": 172,
   "metadata": {
    "collapsed": false
   },
   "outputs": [
    {
     "data": {
      "text/plain": [
       "10493230837679216.0"
      ]
     },
     "execution_count": 172,
     "metadata": {},
     "output_type": "execute_result"
    }
   ],
   "source": [
    "svd_stuff[1][0]/svd_stuff[1][-1]"
   ]
  },
  {
   "cell_type": "code",
   "execution_count": 177,
   "metadata": {
    "collapsed": false
   },
   "outputs": [
    {
     "data": {
      "text/plain": [
       "memmap([ 0.38845128,  0.89646912,  0.44712415, ...,  0.26498708,\n",
       "        0.56446284,  0.66869539])"
      ]
     },
     "execution_count": 177,
     "metadata": {},
     "output_type": "execute_result"
    }
   ],
   "source": [
    "np.diag(X_1_epoch)"
   ]
  },
  {
   "cell_type": "code",
   "execution_count": 179,
   "metadata": {
    "collapsed": false
   },
   "outputs": [],
   "source": [
    "K_block = K.get_block(0,0)"
   ]
  },
  {
   "cell_type": "code",
   "execution_count": 187,
   "metadata": {
    "collapsed": false
   },
   "outputs": [
    {
     "data": {
      "text/plain": [
       "array([ 0.99999881,  0.99999988,  0.99999988, ...,  1.        ,\n",
       "        0.99999952,  1.        ], dtype=float32)"
      ]
     },
     "execution_count": 187,
     "metadata": {},
     "output_type": "execute_result"
    }
   ],
   "source": [
    "np.diag(K_block)"
   ]
  },
  {
   "cell_type": "code",
   "execution_count": 183,
   "metadata": {
    "collapsed": false
   },
   "outputs": [
    {
     "data": {
      "text/plain": [
       "array([  2.17837646e+03,   3.11883759e+02,   1.85900482e+02, ...,\n",
       "         2.88411011e-05,   2.49138957e-05,   1.49347890e-17], dtype=float32)"
      ]
     },
     "execution_count": 183,
     "metadata": {},
     "output_type": "execute_result"
    }
   ],
   "source": [
    "svd_stuff[1]"
   ]
  },
  {
   "cell_type": "code",
   "execution_count": 42,
   "metadata": {
    "collapsed": false
   },
   "outputs": [],
   "source": [
    "x_start, y_hat =  X_1_epoch"
   ]
  },
  {
   "cell_type": "code",
   "execution_count": 145,
   "metadata": {
    "collapsed": false
   },
   "outputs": [
    {
     "name": "stdout",
     "output_type": "stream",
     "text": [
      "[0, 1, 2]\n",
      "CPU times: user 276 ms, sys: 1.78 s, total: 2.06 s\n",
      "Wall time: 2.04 s\n",
      "CPU times: user 912 ms, sys: 84 ms, total: 996 ms\n",
      "Wall time: 1min 45s\n"
     ]
    },
    {
     "data": {
      "text/plain": [
       "DoneAndNotDoneFutures(done={<Future at 0x7f2d00221898 state=finished returned tuple>, <Future at 0x7f2ce04cf898 state=finished returned tuple>, <Future at 0x7f2ce04cf0b8 state=finished returned tuple>, <Future at 0x7f2de057b8d0 state=finished returned tuple>, <Future at 0x7f2ce04cf9e8 state=finished returned tuple>, <Future at 0x7f1f5df06a20 state=finished returned tuple>, <Future at 0x7f2ce04cfa58 state=finished returned tuple>, <Future at 0x7f2d00221a58 state=finished returned tuple>, <Future at 0x7f1f5d3a72b0 state=finished returned tuple>, <Future at 0x7f2cc2186b70 state=finished returned tuple>, <Future at 0x7f2dc0295470 state=finished returned tuple>, <Future at 0x7f2de057bc88 state=finished returned tuple>, <Future at 0x7f2dc02954a8 state=finished returned tuple>, <Future at 0x7f2ccba2e4e0 state=finished returned tuple>, <Future at 0x7f2cc993ad30 state=finished returned tuple>, <Future at 0x7f38c1699d68 state=finished returned tuple>, <Future at 0x7f2ce04cf588 state=finished returned tuple>, <Future at 0x7f2ce04cffd0 state=finished returned tuple>, <Future at 0x7f2cc81c7f28 state=finished returned tuple>, <Future at 0x7f2ce04cf780 state=finished returned tuple>, <Future at 0x7f2dc0295fd0 state=finished returned tuple>}, not_done=set())"
      ]
     },
     "execution_count": 145,
     "metadata": {},
     "output_type": "execute_result"
    }
   ],
   "source": [
    "%time a = bcd.fast_kernel_column_block_async(K, [0,1,2])\n",
    "%time fs.wait(a)"
   ]
  },
  {
   "cell_type": "code",
   "execution_count": 146,
   "metadata": {
    "collapsed": false
   },
   "outputs": [],
   "source": [
    "k = bcd.load_mmap(*a[0].result())"
   ]
  },
  {
   "cell_type": "code",
   "execution_count": 152,
   "metadata": {
    "collapsed": false
   },
   "outputs": [
    {
     "data": {
      "text/plain": [
       "memmap([[ 0.99999881,  0.40342984,  0.36615327, ...,  0.30506128,\n",
       "         0.67470342,  0.40624243],\n",
       "       [ 0.40342984,  0.99999988,  0.64286745, ...,  0.64839852,\n",
       "         0.69248831,  0.80197585],\n",
       "       [ 0.36615327,  0.64286745,  0.99999988, ...,  0.68896604,\n",
       "         0.72726387,  0.8055684 ],\n",
       "       ..., \n",
       "       [ 0.33696416,  0.68765193,  0.73388755, ...,  0.874237  ,\n",
       "         0.59649545,  0.85790408],\n",
       "       [ 0.35511884,  0.82535362,  0.73779732, ...,  0.74089462,\n",
       "         0.64481544,  0.86099726],\n",
       "       [ 0.28665397,  0.70327604,  0.67107129, ...,  0.90301561,\n",
       "         0.5732618 ,  0.85399121]])"
      ]
     },
     "execution_count": 152,
     "metadata": {},
     "output_type": "execute_result"
    }
   ],
   "source": [
    "bcd.block_kernel_solve(K, "
   ]
  },
  {
   "cell_type": "code",
   "execution_count": 38,
   "metadata": {
    "collapsed": false
   },
   "outputs": [
    {
     "ename": "NameError",
     "evalue": "name 'k' is not defined",
     "output_type": "error",
     "traceback": [
      "\u001b[0;31m---------------------------------------------------------------------------\u001b[0m",
      "\u001b[0;31mNameError\u001b[0m                                 Traceback (most recent call last)",
      "\u001b[0;32m<ipython-input-38-ccc87e725786>\u001b[0m in \u001b[0;36m<module>\u001b[0;34m()\u001b[0m\n\u001b[0;32m----> 1\u001b[0;31m \u001b[0mk\u001b[0m\u001b[0;34m\u001b[0m\u001b[0m\n\u001b[0m",
      "\u001b[0;31mNameError\u001b[0m: name 'k' is not defined"
     ]
    }
   ],
   "source": [
    "k"
   ]
  },
  {
   "cell_type": "code",
   "execution_count": null,
   "metadata": {
    "collapsed": true
   },
   "outputs": [],
   "source": []
  }
 ],
 "metadata": {
  "kernelspec": {
   "display_name": "Python 3",
   "language": "python",
   "name": "python3"
  }
 },
 "nbformat": 4,
 "nbformat_minor": 2
}
