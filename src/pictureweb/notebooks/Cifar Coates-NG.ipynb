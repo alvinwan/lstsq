{
 "cells": [
  {
   "cell_type": "code",
   "execution_count": 70,
   "metadata": {
    "collapsed": false
   },
   "outputs": [
    {
     "name": "stdout",
     "output_type": "stream",
     "text": [
      "<module 'loaders.imagenet_load' from '../loaders/imagenet_load.py'>\n",
      "Populating the interactive namespace from numpy and matplotlib\n"
     ]
    },
    {
     "name": "stderr",
     "output_type": "stream",
     "text": [
      "/home/ubuntu/anaconda3/lib/python3.6/site-packages/IPython/core/magics/pylab.py:161: UserWarning: pylab import has clobbered these variables: ['chararray', 'recarray', 'PackageLoader', 'show_config', 'format_parser', '__version__', 'record', 'pkgload', 'copy']\n",
      "`%matplotlib` prevents importing * from pylab and numpy\n",
      "  \"\\n`%matplotlib` prevents importing * from pylab and numpy\"\n"
     ]
    }
   ],
   "source": [
    "import sys\n",
    "sys.path.append(\"..\")\n",
    "from loaders import imagenet_load\n",
    "from importlib import reload\n",
    "print(imagenet_load)\n",
    "from conv import multigpu\n",
    "from loaders.imagenet_load import orient\n",
    "import conv\n",
    "from conv import filter_gen, multigpu\n",
    "from opt import ls\n",
    "import numpy as np\n",
    "from utils import misc\n",
    "from numba import jit\n",
    "misc.rreload(conv)\n",
    "from imgaug import augmenters as iaa\n",
    "from imgaug import imgaug\n",
    "%pylab inline\n",
    "import copy"
   ]
  },
  {
   "cell_type": "code",
   "execution_count": 71,
   "metadata": {
    "collapsed": true
   },
   "outputs": [],
   "source": [
    "NUM_CLASSES = 10"
   ]
  },
  {
   "cell_type": "code",
   "execution_count": 72,
   "metadata": {
    "collapsed": false
   },
   "outputs": [],
   "source": [
    "def load_cifar_processed():\n",
    "    npzfile = np.load(\"./cifar_processed\")\n",
    "    return (npzfile['XTrain'], npzfile['yTrain']), (npzfile['XTest'], npzfile['yTest'])\n",
    "\n",
    "@jit(nopython=True)\n",
    "def fast_exp(K):\n",
    "    for i in range(K.shape[0]):\n",
    "        for j in range(K.shape[1]):\n",
    "            K[i,j] = math.exp(K[i,j])\n",
    "    return K"
   ]
  },
  {
   "cell_type": "code",
   "execution_count": 7,
   "metadata": {
    "collapsed": false
   },
   "outputs": [],
   "source": [
    "(XTrain_p, labelsTrain), (XTest_p, labelsTest) = load_cifar_processed()"
   ]
  },
  {
   "cell_type": "code",
   "execution_count": 5,
   "metadata": {
    "collapsed": true
   },
   "outputs": [],
   "source": [
    "cifar_raw = np.load(\"/home/ubuntu/cifar_raw.npz\")"
   ]
  },
  {
   "cell_type": "code",
   "execution_count": 73,
   "metadata": {
    "collapsed": false
   },
   "outputs": [],
   "source": [
    "XTrain = cifar_raw[\"X_train\"]\n",
    "XTest = cifar_raw[\"X_test\"]\n",
    "labelsTrain = cifar_raw[\"y_train\"]\n",
    "labelsTest = cifar_raw[\"y_test\"]\n"
   ]
  },
  {
   "cell_type": "code",
   "execution_count": 432,
   "metadata": {
    "collapsed": false
   },
   "outputs": [
    {
     "data": {
      "text/plain": [
       "7.7967815972135313e-05"
      ]
     },
     "execution_count": 432,
     "metadata": {},
     "output_type": "execute_result"
    }
   ],
   "source": [
    "np.max(np.abs(XTrain_p - X_train_processed))"
   ]
  },
  {
   "cell_type": "code",
   "execution_count": 9,
   "metadata": {
    "collapsed": true
   },
   "outputs": [],
   "source": [
    "X = np.concatenate((XTrain, XTest), axis=0)"
   ]
  },
  {
   "cell_type": "code",
   "execution_count": 61,
   "metadata": {
    "collapsed": false
   },
   "outputs": [],
   "source": [
    "X_p = np.concatenate((XTrain_p, XTest_p), axis=0)"
   ]
  },
  {
   "cell_type": "code",
   "execution_count": 300,
   "metadata": {
    "collapsed": false
   },
   "outputs": [
    {
     "name": "stdout",
     "output_type": "stream",
     "text": [
      "CPU times: user 36 ms, sys: 5.67 s, total: 5.7 s\n",
      "Wall time: 6.1 s\n"
     ]
    }
   ],
   "source": [
    "%time gpu_handler = multigpu.MultiGpuHandler(16)"
   ]
  },
  {
   "cell_type": "code",
   "execution_count": 301,
   "metadata": {
    "collapsed": false
   },
   "outputs": [
    {
     "name": "stdout",
     "output_type": "stream",
     "text": [
      "CPU times: user 16 ms, sys: 6.1 s, total: 6.11 s\n",
      "Wall time: 21.8 s\n",
      "CPU times: user 32 ms, sys: 5.41 s, total: 5.44 s\n",
      "Wall time: 5.43 s\n",
      "CPU times: user 0 ns, sys: 0 ns, total: 0 ns\n",
      "Wall time: 17.2 ms\n"
     ]
    }
   ],
   "source": [
    "%time gpu_handler.kill_all_gpu_processes()\n",
    "%time gpu_handler.start_all()\n",
    "%time gpu_handler.wait_for_all_gpu_init()"
   ]
  },
  {
   "cell_type": "code",
   "execution_count": 302,
   "metadata": {
    "collapsed": false
   },
   "outputs": [],
   "source": [
    "def make_batch_augmenter(num_batches, seed=0):\n",
    "    augmenters = []\n",
    "    seqs = []\n",
    "    random_state = np.random.RandomState(seed)\n",
    "    def make_augmenter(idx):\n",
    "        def augment(img, mode=\"HWC\", **kwargs):\n",
    "            if (mode == \"CHW\"):\n",
    "                img = img.transpose(1,2,0)\n",
    "            aug_im = seqs[idx].augment_image(img)\n",
    "            \n",
    "            if (mode == \"CHW\"):\n",
    "                aug_im = aug_im .transpose(2,0,1)\n",
    "            return aug_im\n",
    "        return augment\n",
    "\n",
    "    for batch in range(num_batches):\n",
    "        seq = iaa.Sequential([iaa.Crop(px=(0, 8)), iaa.Fliplr(0.5)]).to_deterministic()\n",
    "        seqs.append(seq)\n",
    "        augmenters.append(make_augmenter(batch))\n",
    "    return augmenters\n",
    "\n",
    "def preprocess_batch_local(train, global_ZCA, whitening_means, min_divisor=1e-8, mode=\"CHW\", *args, **kwargs):\n",
    "    \n",
    "    if (mode == \"HWC\"):\n",
    "        train = train.transpose(0,3,1,2)\n",
    "\n",
    "    origTrainShape = train.shape\n",
    "    train = np.ascontiguousarray(train, dtype=np.float32).reshape(train.shape[0], -1)\n",
    "\n",
    "\n",
    "    nTrain = train.shape[0]\n",
    "\n",
    "    # Zero mean every feature\n",
    "    train = train - np.mean(train, axis=1)[:,np.newaxis]\n",
    "\n",
    "    # Normalize\n",
    "    train_norms = np.linalg.norm(train, axis=1)/55.0\n",
    "\n",
    "    # Get rid of really small norms\n",
    "    train_norms[np.where(train_norms < min_divisor)] = 1\n",
    "\n",
    "    # Make features unit norm\n",
    "    train = train/train_norms[:,np.newaxis]\n",
    "\n",
    "    train = (train - whitening_means).dot(global_ZCA)\n",
    "    out = train.reshape(origTrainShape)\n",
    "    \n",
    "    if (mode == \"HWC\"):\n",
    "        out = out.transpose(0,2,3,1)\n",
    "    out = np.ascontiguousarray(out, dtype=out.dtype)\n",
    "        \n",
    "    return out\n",
    "\n",
    "\n",
    "\n",
    "def preprocess_global(train, min_divisor=1e-8, zca_bias=0.1):\n",
    "    origTrainShape = train.shape\n",
    "\n",
    "    train = np.ascontiguousarray(train).reshape(train.shape[0], -1)\n",
    "\n",
    "\n",
    "    nTrain = train.shape[0]\n",
    "\n",
    "    # Zero mean every feature\n",
    "    train = train - np.mean(train, axis=1)[:,np.newaxis]\n",
    "\n",
    "    # Normalize\n",
    "    train_norms = np.linalg.norm(train, axis=1)/55.0\n",
    "\n",
    "    # Get rid of really small norms\n",
    "    train_norms[np.where(train_norms < min_divisor)] = 1\n",
    "\n",
    "    # Make features unit norm\n",
    "    train = train/train_norms[:,np.newaxis]\n",
    "\n",
    "\n",
    "    whitening_means = np.mean(train, axis=0)\n",
    "\n",
    "\n",
    "    zeroCenterTrain = (train - whitening_means[np.newaxis, :])\n",
    "\n",
    "    trainCovMat = 1.0/nTrain * zeroCenterTrain.T.dot(zeroCenterTrain)\n",
    "\n",
    "    (E,V) = np.linalg.eig(trainCovMat)\n",
    "\n",
    "    E += zca_bias\n",
    "    sqrt_zca_eigs = np.sqrt(E)\n",
    "    inv_sqrt_zca_eigs = np.diag(np.power(sqrt_zca_eigs, -1))\n",
    "    global_ZCA = V.dot(inv_sqrt_zca_eigs).dot(V.T)\n",
    "\n",
    "    return global_ZCA, whitening_means\n",
    "\n",
    "\n",
    "\n",
    "\n",
    "\n"
   ]
  },
  {
   "cell_type": "code",
   "execution_count": 132,
   "metadata": {
    "collapsed": true
   },
   "outputs": [],
   "source": [
    "global_zca, whitening_means = preprocess_global(XTrain)"
   ]
  },
  {
   "cell_type": "code",
   "execution_count": 253,
   "metadata": {
    "collapsed": false
   },
   "outputs": [],
   "source": [
    "def make_preprocess_batch(global_zca, whitening_means, augmenters=None):\n",
    "    def preprocess_batch(image_batch, **kwargs):\n",
    "        fb = kwargs[\"feature_batch\"]\n",
    "        if (augmenters != None):\n",
    "            aug_imgs = []\n",
    "            for im in image_batch: \n",
    "                aug_imgs.append(augmenters[fb](im, **kwargs))\n",
    "            image_batch = np.stack(aug_imgs, axis=0)\n",
    "        return preprocess_batch_local(image_batch, global_ZCA=global_zca, whitening_means=whitening_means, **kwargs)\n",
    "    return preprocess_batch"
   ]
  },
  {
   "cell_type": "code",
   "execution_count": 254,
   "metadata": {
    "collapsed": false
   },
   "outputs": [
    {
     "name": "stdout",
     "output_type": "stream",
     "text": [
      "CPU times: user 184 ms, sys: 84 ms, total: 268 ms\n",
      "Wall time: 235 ms\n"
     ]
    }
   ],
   "source": [
    "%time augmenters = make_batch_augmenter(1024)"
   ]
  },
  {
   "cell_type": "code",
   "execution_count": 303,
   "metadata": {
    "collapsed": false
   },
   "outputs": [
    {
     "data": {
      "text/plain": [
       "<matplotlib.image.AxesImage at 0x7fe7afcac320>"
      ]
     },
     "execution_count": 303,
     "metadata": {},
     "output_type": "execute_result"
    },
    {
     "data": {
      "image/png": "[encoded data removed]",
      "text/plain": [
       "<matplotlib.figure.Figure at 0x7fe7e6c63588>"
      ]
     },
     "metadata": {},
     "output_type": "display_data"
    },
    {
     "data": {
      "image/png": "[encoded data removed]",
      "text/plain": [
       "<matplotlib.figure.Figure at 0x7fe7e6d1a0b8>"
      ]
     },
     "metadata": {},
     "output_type": "display_data"
    }
   ],
   "source": [
    "imshow(orient(augmenters[2](X[2], mode=\"CHW\")))\n",
    "plt.figure()\n",
    "imshow(orient(X[2]))\n"
   ]
  },
  {
   "cell_type": "code",
   "execution_count": 256,
   "metadata": {
    "collapsed": false
   },
   "outputs": [],
   "source": [
    "preprocess_batch = make_preprocess_batch(global_zca, whitening_means, augmenters)"
   ]
  },
  {
   "cell_type": "code",
   "execution_count": 257,
   "metadata": {
    "collapsed": false
   },
   "outputs": [],
   "source": [
    "X_preprocess_augmented = preprocess_batch(X[:128], mode=\"CHW\", feature_batch=0)"
   ]
  },
  {
   "cell_type": "code",
   "execution_count": 248,
   "metadata": {
    "collapsed": false
   },
   "outputs": [
    {
     "data": {
      "text/plain": [
       "<matplotlib.image.AxesImage at 0x7fe7b0127a90>"
      ]
     },
     "execution_count": 248,
     "metadata": {},
     "output_type": "execute_result"
    },
    {
     "data": {
      "image/png": "[encoded data removed]",
      "text/plain": [
       "<matplotlib.figure.Figure at 0x7fe7b07dbc18>"
      ]
     },
     "metadata": {},
     "output_type": "display_data"
    }
   ],
   "source": [
    "imshow(orient(X_preprocess_augmented[0])[:,:,0])"
   ]
  },
  {
   "cell_type": "code",
   "execution_count": 167,
   "metadata": {
    "collapsed": false
   },
   "outputs": [
    {
     "data": {
      "text/plain": [
       "<matplotlib.image.AxesImage at 0x7fe7e7314d68>"
      ]
     },
     "execution_count": 167,
     "metadata": {},
     "output_type": "execute_result"
    },
    {
     "data": {
      "image/png": "[encoded data removed]",
      "text/plain": [
       "<matplotlib.figure.Figure at 0x7fe7e7346400>"
      ]
     },
     "metadata": {},
     "output_type": "display_data"
    }
   ],
   "source": []
  },
  {
   "cell_type": "code",
   "execution_count": 258,
   "metadata": {
    "collapsed": false
   },
   "outputs": [],
   "source": [
    "patches = filter_gen.patchify_all_imgs(XTrain_p, (6,6), pad=False)\n",
    "patches = patches.reshape(patches.shape[0]*patches.shape[1],*patches.shape[2:])\n",
    "patches = patches.transpose(0,3,1,2)"
   ]
  },
  {
   "cell_type": "code",
   "execution_count": 259,
   "metadata": {
    "collapsed": false
   },
   "outputs": [],
   "source": [
    "patches_mmap_loc = \"/dev/shm/patches_cifar\"\n",
    "patches_mmap_data = np.memmap(patches_mmap_loc, mode=\"w+\", shape=patches.shape, dtype=patches.dtype)\n",
    "np.copyto(patches_mmap_data, patches)\n",
    "\n",
    "patches_mmap_data.flush()\n",
    "patches_mmap = multigpu.MmapArray(patches_mmap_data, mode=\"r+\")"
   ]
  },
  {
   "cell_type": "code",
   "execution_count": 290,
   "metadata": {
    "collapsed": false
   },
   "outputs": [],
   "source": [
    "fg = filter_gen.make_empirical_filter_gen(patches_mmap, 1e-4, seed=0)\n",
    "\n",
    "conv_args_template = \\\n",
    "{ \n",
    "  \"filter_gen\":fg,\n",
    "  \"num_feature_batches\":16,\n",
    "  \"data_batch_size\":128,\n",
    "  \"feature_batch_size\":1024,\n",
    "  \"pool_size\":15,\n",
    "  \"pool_type\":\"avg\",\n",
    "  \"pool_stride\":9,\n",
    "  \"patch_size\":6,\n",
    "  \"pad\":0,\n",
    "  \"bias\":1,\n",
    "  \"conv_stride\":1,\n",
    "  \"preprocess_batch\": preprocess_batch\n",
    "}"
   ]
  },
  {
   "cell_type": "code",
   "execution_count": 291,
   "metadata": {
    "collapsed": false
   },
   "outputs": [
    {
     "data": {
      "text/plain": [
       "<function __main__.make_preprocess_batch.<locals>.preprocess_batch>"
      ]
     },
     "execution_count": 291,
     "metadata": {},
     "output_type": "execute_result"
    }
   ],
   "source": [
    "conv_args_template[\"preprocess_batch\"]"
   ]
  },
  {
   "cell_type": "code",
   "execution_count": 292,
   "metadata": {
    "collapsed": false
   },
   "outputs": [
    {
     "ename": "NameError",
     "evalue": "name 'seq' is not defined",
     "output_type": "error",
     "traceback": [
      "\u001b[0;31m---------------------------------------------------------------------------\u001b[0m",
      "\u001b[0;31mNameError\u001b[0m                                 Traceback (most recent call last)",
      "\u001b[0;32m<ipython-input-292-4f3c61fd917e>\u001b[0m in \u001b[0;36m<module>\u001b[0;34m()\u001b[0m\n\u001b[0;32m----> 1\u001b[0;31m \u001b[0mimshow\u001b[0m\u001b[0;34m(\u001b[0m\u001b[0mseq\u001b[0m\u001b[0;34m.\u001b[0m\u001b[0maugment_image\u001b[0m\u001b[0;34m(\u001b[0m\u001b[0mimagenet_load\u001b[0m\u001b[0;34m.\u001b[0m\u001b[0morient\u001b[0m\u001b[0;34m(\u001b[0m\u001b[0mXTrain\u001b[0m\u001b[0;34m[\u001b[0m\u001b[0;36m0\u001b[0m\u001b[0;34m]\u001b[0m\u001b[0;34m)\u001b[0m\u001b[0;34m)\u001b[0m\u001b[0;34m)\u001b[0m\u001b[0;34m\u001b[0m\u001b[0m\n\u001b[0m\u001b[1;32m      2\u001b[0m \u001b[0mplt\u001b[0m\u001b[0;34m.\u001b[0m\u001b[0mfigure\u001b[0m\u001b[0;34m(\u001b[0m\u001b[0;34m)\u001b[0m\u001b[0;34m\u001b[0m\u001b[0m\n\u001b[1;32m      3\u001b[0m \u001b[0mimshow\u001b[0m\u001b[0;34m(\u001b[0m\u001b[0mimagenet_load\u001b[0m\u001b[0;34m.\u001b[0m\u001b[0morient\u001b[0m\u001b[0;34m(\u001b[0m\u001b[0mXTrain\u001b[0m\u001b[0;34m[\u001b[0m\u001b[0;36m0\u001b[0m\u001b[0;34m]\u001b[0m\u001b[0;34m)\u001b[0m\u001b[0;34m)\u001b[0m\u001b[0;34m\u001b[0m\u001b[0m\n",
      "\u001b[0;31mNameError\u001b[0m: name 'seq' is not defined"
     ]
    }
   ],
   "source": [
    "imshow(seq.augment_image(imagenet_load.orient(XTrain[0])))\n",
    "plt.figure()\n",
    "imshow(imagenet_load.orient(XTrain[0]))"
   ]
  },
  {
   "cell_type": "code",
   "execution_count": 293,
   "metadata": {
    "collapsed": false
   },
   "outputs": [
    {
     "data": {
      "text/plain": [
       "dtype('uint8')"
      ]
     },
     "execution_count": 293,
     "metadata": {},
     "output_type": "execute_result"
    }
   ],
   "source": [
    "X.dtype"
   ]
  },
  {
   "cell_type": "code",
   "execution_count": 304,
   "metadata": {
    "collapsed": false
   },
   "outputs": [],
   "source": [
    "X_mmap_data = np.memmap(\"/dev/shm/cifar\", mode=\"w+\", dtype=\"uint8\", shape=X.shape)\n",
    "np.copyto(X_mmap_data, X)\n",
    "X_mmap = multigpu.MmapArray(X_mmap_data, mode=\"r+\")\n",
    "\n",
    "mmap_out_shape = conv.conv_compute_output_shape(data=X_mmap, **conv_args_template)\n",
    "X_out_data = np.memmap(\"/dev/shm/cifar_features\", mode=\"w+\", dtype=\"float32\", shape=mmap_out_shape)\n",
    "X_out_mmap = multigpu.MmapArray(X_out_data, mode=\"r+\")"
   ]
  },
  {
   "cell_type": "code",
   "execution_count": 295,
   "metadata": {
    "collapsed": false
   },
   "outputs": [
    {
     "data": {
      "text/plain": [
       "(60000, 32768, 3, 3)"
      ]
     },
     "execution_count": 295,
     "metadata": {},
     "output_type": "execute_result"
    }
   ],
   "source": [
    "X_out_mmap.shape"
   ]
  },
  {
   "cell_type": "code",
   "execution_count": 296,
   "metadata": {
    "collapsed": false
   },
   "outputs": [],
   "source": [
    "data_chunk_idxs = misc.chunk_idxs(X_out_data.shape[0], 16)"
   ]
  },
  {
   "cell_type": "code",
   "execution_count": 297,
   "metadata": {
    "collapsed": false
   },
   "outputs": [
    {
     "data": {
      "text/plain": [
       "{'bias': 1,\n",
       " 'conv_stride': 1,\n",
       " 'data_batch_size': 128,\n",
       " 'feature_batch_size': 1024,\n",
       " 'filter_gen': <function conv.filter_gen.make_empirical_filter_gen.<locals>.empirical_filter_gen>,\n",
       " 'num_feature_batches': 16,\n",
       " 'pad': 0,\n",
       " 'patch_size': 6,\n",
       " 'pool_size': 15,\n",
       " 'pool_stride': 9,\n",
       " 'pool_type': 'avg',\n",
       " 'preprocess_batch': <function __main__.make_preprocess_batch.<locals>.preprocess_batch>}"
      ]
     },
     "execution_count": 297,
     "metadata": {},
     "output_type": "execute_result"
    }
   ],
   "source": [
    "conv_args_template"
   ]
  },
  {
   "cell_type": "code",
   "execution_count": 305,
   "metadata": {
    "collapsed": false,
    "scrolled": true
   },
   "outputs": [
    {
     "name": "stdout",
     "output_type": "stream",
     "text": [
      "CPU times: user 4 ms, sys: 4 ms, total: 8 ms\n",
      "Wall time: 2min 7s\n",
      "CPU times: user 4 ms, sys: 0 ns, total: 4 ms\n",
      "Wall time: 17.1 s\n",
      "CPU times: user 0 ns, sys: 0 ns, total: 0 ns\n",
      "Wall time: 203 µs\n",
      "CPU times: user 0 ns, sys: 4 ms, total: 4 ms\n",
      "Wall time: 197 µs\n",
      "CPU times: user 0 ns, sys: 0 ns, total: 0 ns\n",
      "Wall time: 887 µs\n",
      "CPU times: user 4 ms, sys: 0 ns, total: 4 ms\n",
      "Wall time: 14.2 s\n",
      "CPU times: user 0 ns, sys: 0 ns, total: 0 ns\n",
      "Wall time: 194 µs\n",
      "CPU times: user 4 ms, sys: 0 ns, total: 4 ms\n",
      "Wall time: 4.64 s\n",
      "CPU times: user 4 ms, sys: 0 ns, total: 4 ms\n",
      "Wall time: 9.31 s\n",
      "CPU times: user 0 ns, sys: 0 ns, total: 0 ns\n",
      "Wall time: 392 µs\n",
      "CPU times: user 4 ms, sys: 0 ns, total: 4 ms\n",
      "Wall time: 9.42 s\n",
      "CPU times: user 0 ns, sys: 0 ns, total: 0 ns\n",
      "Wall time: 198 µs\n",
      "CPU times: user 0 ns, sys: 0 ns, total: 0 ns\n",
      "Wall time: 189 ms\n",
      "CPU times: user 0 ns, sys: 0 ns, total: 0 ns\n",
      "Wall time: 4.01 s\n",
      "CPU times: user 0 ns, sys: 0 ns, total: 0 ns\n",
      "Wall time: 334 µs\n",
      "CPU times: user 0 ns, sys: 0 ns, total: 0 ns\n",
      "Wall time: 4.55 s\n"
     ]
    }
   ],
   "source": [
    "gpu_results = []\n",
    "for gpu, (sidx, eidx) in list(zip(gpu_handler.gpus, data_chunk_idxs)):\n",
    "        conv_args = conv_args_template.copy()\n",
    "        X_mmap_gpu = copy.copy(X_mmap)\n",
    "        X_mmap_gpu.idxs = (sidx, eidx)\n",
    "        X_out_gpu = copy.copy(X_out_mmap)\n",
    "        X_out_gpu.idxs = (sidx, eidx)\n",
    "        conv_args['data'] = X_mmap_gpu\n",
    "        conv_args['output'] = X_out_gpu\n",
    "        gpu_results.append(gpu.submit_async(conv.conv_mmap, **conv_args))\n",
    "\n",
    "for gpu_result in gpu_results:\n",
    "    %time gpu_result.result()"
   ]
  },
  {
   "cell_type": "code",
   "execution_count": 306,
   "metadata": {
    "collapsed": false
   },
   "outputs": [
    {
     "data": {
      "text/plain": [
       "memmap([[[[ 1.5971607 ,  2.84237576,  5.40018272],\n",
       "         [ 2.68095422,  3.52644634,  4.69831848],\n",
       "         [ 4.72235584,  3.81340194,  5.02967691]],\n",
       "\n",
       "        [[ 2.93494654,  4.06263638,  3.22431111],\n",
       "         [ 3.89460611,  4.27173471,  2.86119628],\n",
       "         [ 3.25234675,  3.55353355,  2.99930358]],\n",
       "\n",
       "        [[ 1.83358514,  2.40267277,  2.08479786],\n",
       "         [ 3.67329717,  3.06080937,  3.29363465],\n",
       "         [ 4.42097282,  3.34529543,  3.16258693]],\n",
       "\n",
       "        ..., \n",
       "        [[ 0.60239017,  1.72884572,  1.7914691 ],\n",
       "         [ 1.12335193,  1.38416982,  1.31598711],\n",
       "         [ 2.1753695 ,  1.34078908,  1.25684524]],\n",
       "\n",
       "        [[ 1.63618207,  1.24903405,  0.65545517],\n",
       "         [ 1.44682705,  1.05900788,  0.59978873],\n",
       "         [ 0.58293557,  0.5637877 ,  0.58236098]],\n",
       "\n",
       "        [[ 0.79601097,  1.11983097,  1.28097868],\n",
       "         [ 1.18724692,  1.22551858,  0.97935766],\n",
       "         [ 0.69691002,  0.78543097,  0.68364865]]],\n",
       "\n",
       "\n",
       "       [[[ 3.66970825,  4.2156148 ,  3.78280044],\n",
       "         [ 4.53996992,  3.83918953,  2.86318111],\n",
       "         [ 4.14972258,  3.80275774,  3.01651859]],\n",
       "\n",
       "        [[ 7.26516151,  4.36866713,  1.86243963],\n",
       "         [ 5.15638208,  3.62543654,  1.56642163],\n",
       "         [ 3.41513848,  3.96887469,  3.04256916]],\n",
       "\n",
       "        [[ 3.9809444 ,  4.75650549,  4.57251501],\n",
       "         [ 2.91888332,  3.46676326,  4.06574965],\n",
       "         [ 3.95737028,  3.01173663,  2.93270898]],\n",
       "\n",
       "        ..., \n",
       "        [[ 0.28632069,  0.45566136,  2.22310543],\n",
       "         [ 0.766258  ,  0.74189013,  1.77629375],\n",
       "         [ 1.71799517,  1.28447211,  1.48597097]],\n",
       "\n",
       "        [[ 0.31269267,  0.39522198,  0.55964559],\n",
       "         [ 0.722938  ,  0.85286391,  0.80347943],\n",
       "         [ 1.31480074,  1.53377962,  1.40057325]],\n",
       "\n",
       "        [[ 0.75256538,  0.73106378,  1.40033472],\n",
       "         [ 1.1809814 ,  1.25808799,  1.41211224],\n",
       "         [ 1.4384203 ,  1.42368209,  1.37630606]]],\n",
       "\n",
       "\n",
       "       [[[ 1.99345613,  1.460024  ,  2.16934729],\n",
       "         [ 2.13935423,  1.12844598,  2.49410439],\n",
       "         [ 2.08989573,  0.81780285,  0.88338614]],\n",
       "\n",
       "        [[ 0.58745325,  1.03122354,  1.05227733],\n",
       "         [ 1.9971292 ,  1.9576565 ,  1.64560366],\n",
       "         [ 1.93105674,  1.42158496,  1.1291914 ]],\n",
       "\n",
       "        [[ 0.30674574,  1.6140852 ,  1.3744148 ],\n",
       "         [ 2.25079679,  1.84910846,  1.82002819],\n",
       "         [ 2.44898844,  1.11405575,  1.16121686]],\n",
       "\n",
       "        ..., \n",
       "        [[ 1.02747977,  1.09028435,  1.138466  ],\n",
       "         [ 0.57105893,  0.51725513,  0.49195963],\n",
       "         [ 0.20660344,  0.0654851 ,  0.        ]],\n",
       "\n",
       "        [[ 0.8153227 ,  0.57300562,  0.6648255 ],\n",
       "         [ 0.61854839,  0.39886063,  0.3336218 ],\n",
       "         [ 0.08690879,  0.04856417,  0.0336794 ]],\n",
       "\n",
       "        [[ 1.12862206,  1.08660972,  0.90317082],\n",
       "         [ 0.66338634,  0.33822411,  0.3097834 ],\n",
       "         [ 0.12725444,  0.04546233,  0.03350319]]],\n",
       "\n",
       "\n",
       "       ..., \n",
       "       [[[ 0.1428805 ,  1.53824496,  4.12164783],\n",
       "         [ 0.03410861,  2.02555919,  3.6539526 ],\n",
       "         [ 0.14751452,  2.74096656,  2.87168217]],\n",
       "\n",
       "        [[ 0.80113071,  2.32499433,  2.33656335],\n",
       "         [ 1.06772304,  2.58419251,  3.25362945],\n",
       "         [ 1.55273676,  2.9671936 ,  4.21090746]],\n",
       "\n",
       "        [[ 0.8978551 ,  1.73375225,  2.4436934 ],\n",
       "         [ 1.30568314,  2.3909781 ,  4.10286903],\n",
       "         [ 1.26716077,  3.29711413,  5.42515373]],\n",
       "\n",
       "        ..., \n",
       "        [[ 0.03530054,  0.55256277,  1.75129032],\n",
       "         [ 0.03278081,  0.32219693,  0.29268104],\n",
       "         [ 0.22629982,  1.95959687,  1.61385679]],\n",
       "\n",
       "        [[ 0.17160361,  0.79120529,  1.2909236 ],\n",
       "         [ 0.21123709,  0.54542804,  0.88736105],\n",
       "         [ 0.32315147,  0.46818465,  0.60455203]],\n",
       "\n",
       "        [[ 0.02763543,  0.64533293,  1.46340585],\n",
       "         [ 0.05227133,  0.60006166,  1.14335728],\n",
       "         [ 0.21271111,  0.67609334,  1.01033437]]],\n",
       "\n",
       "\n",
       "       [[[ 3.07431364,  1.57206595,  4.08069801],\n",
       "         [ 5.42969751,  3.91096687,  4.19566393],\n",
       "         [ 6.31778622,  9.54920959,  6.06734467]],\n",
       "\n",
       "        [[ 4.42465067,  4.46584034,  6.8286171 ],\n",
       "         [ 8.56108284,  6.26015282,  5.47407579],\n",
       "         [ 7.11771202,  6.3577404 ,  4.54152727]],\n",
       "\n",
       "        [[ 2.81385326,  4.6438899 ,  5.85174751],\n",
       "         [ 3.17999411,  2.95126772,  3.42402101],\n",
       "         [ 3.7907567 ,  3.40827799,  2.57296324]],\n",
       "\n",
       "        ..., \n",
       "        [[ 1.4799695 ,  1.74267578,  1.98205948],\n",
       "         [ 1.27008188,  1.3391037 ,  1.6684581 ],\n",
       "         [ 0.75471365,  1.40581083,  0.77360588]],\n",
       "\n",
       "        [[ 1.00482714,  0.68734074,  0.65741658],\n",
       "         [ 0.98484802,  0.72958124,  0.65510058],\n",
       "         [ 0.4329941 ,  0.71604341,  0.60080892]],\n",
       "\n",
       "        [[ 1.12509298,  1.02741241,  1.43156528],\n",
       "         [ 1.68254721,  1.22248948,  1.08247411],\n",
       "         [ 0.94040596,  1.17749703,  0.91940582]]],\n",
       "\n",
       "\n",
       "       [[[ 1.27135611,  2.70638704,  3.49387717],\n",
       "         [ 2.14232135,  3.2504251 ,  3.02616477],\n",
       "         [ 2.4984417 ,  3.41479802,  2.03332543]],\n",
       "\n",
       "        [[ 2.96417975,  2.79996157,  2.77840257],\n",
       "         [ 3.14372897,  2.64254546,  2.45734787],\n",
       "         [ 3.34092903,  2.44936705,  1.6849463 ]],\n",
       "\n",
       "        [[ 3.7159543 ,  3.13688636,  4.1678834 ],\n",
       "         [ 4.00971317,  2.13530469,  2.82744503],\n",
       "         [ 7.33216667,  3.15431547,  2.47589016]],\n",
       "\n",
       "        ..., \n",
       "        [[ 2.14323521,  2.65242672,  2.0094862 ],\n",
       "         [ 1.26081312,  1.42418551,  0.81130022],\n",
       "         [ 0.20690675,  0.26491234,  0.47571087]],\n",
       "\n",
       "        [[ 2.30249739,  1.03290403,  1.91595268],\n",
       "         [ 2.32162714,  1.0174284 ,  1.38756657],\n",
       "         [ 1.58177304,  0.98186713,  0.83345133]],\n",
       "\n",
       "        [[ 2.2687428 ,  1.18357837,  1.44083965],\n",
       "         [ 2.59961796,  1.38429272,  1.03064919],\n",
       "         [ 2.20891786,  1.9437052 ,  1.53276944]]]], dtype=float32)"
      ]
     },
     "execution_count": 306,
     "metadata": {},
     "output_type": "execute_result"
    }
   ],
   "source": [
    "X_out_data"
   ]
  },
  {
   "cell_type": "code",
   "execution_count": 307,
   "metadata": {
    "collapsed": false
   },
   "outputs": [
    {
     "data": {
      "text/plain": [
       "memmap([[[[ 1.5971607 ,  2.84237576,  5.40018272],\n",
       "         [ 2.68095422,  3.52644634,  4.69831848],\n",
       "         [ 4.72235584,  3.81340194,  5.02967691]],\n",
       "\n",
       "        [[ 2.93494654,  4.06263638,  3.22431111],\n",
       "         [ 3.89460611,  4.27173471,  2.86119628],\n",
       "         [ 3.25234675,  3.55353355,  2.99930358]],\n",
       "\n",
       "        [[ 1.83358514,  2.40267277,  2.08479786],\n",
       "         [ 3.67329717,  3.06080937,  3.29363465],\n",
       "         [ 4.42097282,  3.34529543,  3.16258693]],\n",
       "\n",
       "        ..., \n",
       "        [[ 0.60239017,  1.72884572,  1.7914691 ],\n",
       "         [ 1.12335193,  1.38416982,  1.31598711],\n",
       "         [ 2.1753695 ,  1.34078908,  1.25684524]],\n",
       "\n",
       "        [[ 1.63618207,  1.24903405,  0.65545517],\n",
       "         [ 1.44682705,  1.05900788,  0.59978873],\n",
       "         [ 0.58293557,  0.5637877 ,  0.58236098]],\n",
       "\n",
       "        [[ 0.79601097,  1.11983097,  1.28097868],\n",
       "         [ 1.18724692,  1.22551858,  0.97935766],\n",
       "         [ 0.69691002,  0.78543097,  0.68364865]]],\n",
       "\n",
       "\n",
       "       [[[ 3.66970825,  4.2156148 ,  3.78280044],\n",
       "         [ 4.53996992,  3.83918953,  2.86318111],\n",
       "         [ 4.14972258,  3.80275774,  3.01651859]],\n",
       "\n",
       "        [[ 7.26516151,  4.36866713,  1.86243963],\n",
       "         [ 5.15638208,  3.62543654,  1.56642163],\n",
       "         [ 3.41513848,  3.96887469,  3.04256916]],\n",
       "\n",
       "        [[ 3.9809444 ,  4.75650549,  4.57251501],\n",
       "         [ 2.91888332,  3.46676326,  4.06574965],\n",
       "         [ 3.95737028,  3.01173663,  2.93270898]],\n",
       "\n",
       "        ..., \n",
       "        [[ 0.28632069,  0.45566136,  2.22310543],\n",
       "         [ 0.766258  ,  0.74189013,  1.77629375],\n",
       "         [ 1.71799517,  1.28447211,  1.48597097]],\n",
       "\n",
       "        [[ 0.31269267,  0.39522198,  0.55964559],\n",
       "         [ 0.722938  ,  0.85286391,  0.80347943],\n",
       "         [ 1.31480074,  1.53377962,  1.40057325]],\n",
       "\n",
       "        [[ 0.75256538,  0.73106378,  1.40033472],\n",
       "         [ 1.1809814 ,  1.25808799,  1.41211224],\n",
       "         [ 1.4384203 ,  1.42368209,  1.37630606]]],\n",
       "\n",
       "\n",
       "       [[[ 1.99345613,  1.460024  ,  2.16934729],\n",
       "         [ 2.13935423,  1.12844598,  2.49410439],\n",
       "         [ 2.08989573,  0.81780285,  0.88338614]],\n",
       "\n",
       "        [[ 0.58745325,  1.03122354,  1.05227733],\n",
       "         [ 1.9971292 ,  1.9576565 ,  1.64560366],\n",
       "         [ 1.93105674,  1.42158496,  1.1291914 ]],\n",
       "\n",
       "        [[ 0.30674574,  1.6140852 ,  1.3744148 ],\n",
       "         [ 2.25079679,  1.84910846,  1.82002819],\n",
       "         [ 2.44898844,  1.11405575,  1.16121686]],\n",
       "\n",
       "        ..., \n",
       "        [[ 1.02747977,  1.09028435,  1.138466  ],\n",
       "         [ 0.57105893,  0.51725513,  0.49195963],\n",
       "         [ 0.20660344,  0.0654851 ,  0.        ]],\n",
       "\n",
       "        [[ 0.8153227 ,  0.57300562,  0.6648255 ],\n",
       "         [ 0.61854839,  0.39886063,  0.3336218 ],\n",
       "         [ 0.08690879,  0.04856417,  0.0336794 ]],\n",
       "\n",
       "        [[ 1.12862206,  1.08660972,  0.90317082],\n",
       "         [ 0.66338634,  0.33822411,  0.3097834 ],\n",
       "         [ 0.12725444,  0.04546233,  0.03350319]]],\n",
       "\n",
       "\n",
       "       ..., \n",
       "       [[[ 0.1428805 ,  1.53824496,  4.12164783],\n",
       "         [ 0.03410861,  2.02555919,  3.6539526 ],\n",
       "         [ 0.14751452,  2.74096656,  2.87168217]],\n",
       "\n",
       "        [[ 0.80113071,  2.32499433,  2.33656335],\n",
       "         [ 1.06772304,  2.58419251,  3.25362945],\n",
       "         [ 1.55273676,  2.9671936 ,  4.21090746]],\n",
       "\n",
       "        [[ 0.8978551 ,  1.73375225,  2.4436934 ],\n",
       "         [ 1.30568314,  2.3909781 ,  4.10286903],\n",
       "         [ 1.26716077,  3.29711413,  5.42515373]],\n",
       "\n",
       "        ..., \n",
       "        [[ 0.03530054,  0.55256277,  1.75129032],\n",
       "         [ 0.03278081,  0.32219693,  0.29268104],\n",
       "         [ 0.22629982,  1.95959687,  1.61385679]],\n",
       "\n",
       "        [[ 0.17160361,  0.79120529,  1.2909236 ],\n",
       "         [ 0.21123709,  0.54542804,  0.88736105],\n",
       "         [ 0.32315147,  0.46818465,  0.60455203]],\n",
       "\n",
       "        [[ 0.02763543,  0.64533293,  1.46340585],\n",
       "         [ 0.05227133,  0.60006166,  1.14335728],\n",
       "         [ 0.21271111,  0.67609334,  1.01033437]]],\n",
       "\n",
       "\n",
       "       [[[ 3.07431364,  1.57206595,  4.08069801],\n",
       "         [ 5.42969751,  3.91096687,  4.19566393],\n",
       "         [ 6.31778622,  9.54920959,  6.06734467]],\n",
       "\n",
       "        [[ 4.42465067,  4.46584034,  6.8286171 ],\n",
       "         [ 8.56108284,  6.26015282,  5.47407579],\n",
       "         [ 7.11771202,  6.3577404 ,  4.54152727]],\n",
       "\n",
       "        [[ 2.81385326,  4.6438899 ,  5.85174751],\n",
       "         [ 3.17999411,  2.95126772,  3.42402101],\n",
       "         [ 3.7907567 ,  3.40827799,  2.57296324]],\n",
       "\n",
       "        ..., \n",
       "        [[ 1.4799695 ,  1.74267578,  1.98205948],\n",
       "         [ 1.27008188,  1.3391037 ,  1.6684581 ],\n",
       "         [ 0.75471365,  1.40581083,  0.77360588]],\n",
       "\n",
       "        [[ 1.00482714,  0.68734074,  0.65741658],\n",
       "         [ 0.98484802,  0.72958124,  0.65510058],\n",
       "         [ 0.4329941 ,  0.71604341,  0.60080892]],\n",
       "\n",
       "        [[ 1.12509298,  1.02741241,  1.43156528],\n",
       "         [ 1.68254721,  1.22248948,  1.08247411],\n",
       "         [ 0.94040596,  1.17749703,  0.91940582]]],\n",
       "\n",
       "\n",
       "       [[[ 1.27135611,  2.70638704,  3.49387717],\n",
       "         [ 2.14232135,  3.2504251 ,  3.02616477],\n",
       "         [ 2.4984417 ,  3.41479802,  2.03332543]],\n",
       "\n",
       "        [[ 2.96417975,  2.79996157,  2.77840257],\n",
       "         [ 3.14372897,  2.64254546,  2.45734787],\n",
       "         [ 3.34092903,  2.44936705,  1.6849463 ]],\n",
       "\n",
       "        [[ 3.7159543 ,  3.13688636,  4.1678834 ],\n",
       "         [ 4.00971317,  2.13530469,  2.82744503],\n",
       "         [ 7.33216667,  3.15431547,  2.47589016]],\n",
       "\n",
       "        ..., \n",
       "        [[ 2.14323521,  2.65242672,  2.0094862 ],\n",
       "         [ 1.26081312,  1.42418551,  0.81130022],\n",
       "         [ 0.20690675,  0.26491234,  0.47571087]],\n",
       "\n",
       "        [[ 2.30249739,  1.03290403,  1.91595268],\n",
       "         [ 2.32162714,  1.0174284 ,  1.38756657],\n",
       "         [ 1.58177304,  0.98186713,  0.83345133]],\n",
       "\n",
       "        [[ 2.2687428 ,  1.18357837,  1.44083965],\n",
       "         [ 2.59961796,  1.38429272,  1.03064919],\n",
       "         [ 2.20891786,  1.9437052 ,  1.53276944]]]], dtype=float32)"
      ]
     },
     "execution_count": 307,
     "metadata": {},
     "output_type": "execute_result"
    }
   ],
   "source": [
    "X_out_data"
   ]
  },
  {
   "cell_type": "code",
   "execution_count": 308,
   "metadata": {
    "collapsed": false
   },
   "outputs": [
    {
     "data": {
      "text/plain": [
       "0.0018745798181604456"
      ]
     },
     "execution_count": 308,
     "metadata": {},
     "output_type": "execute_result"
    }
   ],
   "source": [
    "np.sum(X_out_data == 0)/(len(X_out_data.ravel()))"
   ]
  },
  {
   "cell_type": "code",
   "execution_count": 268,
   "metadata": {
    "collapsed": false
   },
   "outputs": [
    {
     "data": {
      "text/plain": [
       "0.002561430302372685"
      ]
     },
     "execution_count": 268,
     "metadata": {},
     "output_type": "execute_result"
    }
   ],
   "source": [
    "np.sum(X_out_data == 0)/(len(X_out_data.ravel()))"
   ]
  },
  {
   "cell_type": "code",
   "execution_count": 309,
   "metadata": {
    "collapsed": false
   },
   "outputs": [
    {
     "name": "stdout",
     "output_type": "stream",
     "text": [
      "CPU times: user 13.2 s, sys: 26.4 s, total: 39.6 s\n",
      "Wall time: 39.6 s\n",
      "CPU times: user 2.79 s, sys: 5.25 s, total: 8.04 s\n",
      "Wall time: 8.04 s\n"
     ]
    }
   ],
   "source": [
    "%time X_train_lift = X_out_data.reshape(X_out_data.shape[0], -1)[:50000, :].astype('float64')\n",
    "%time X_test_lift = X_out_data.reshape(X_out_data.shape[0], -1)[50000:, :].astype('float64')"
   ]
  },
  {
   "cell_type": "code",
   "execution_count": 310,
   "metadata": {
    "collapsed": true
   },
   "outputs": [],
   "source": [
    "num_feats = conv_args_template[\"num_feature_batches\"]*conv_args_template[\"feature_batch_size\"]*9*2"
   ]
  },
  {
   "cell_type": "code",
   "execution_count": 311,
   "metadata": {
    "collapsed": false
   },
   "outputs": [],
   "source": [
    "X_train_lift /= np.sqrt(num_feats)\n",
    "X_test_lift /= np.sqrt(num_feats)"
   ]
  },
  {
   "cell_type": "code",
   "execution_count": 312,
   "metadata": {
    "collapsed": false
   },
   "outputs": [
    {
     "data": {
      "text/plain": [
       "(50000, 294912)"
      ]
     },
     "execution_count": 312,
     "metadata": {},
     "output_type": "execute_result"
    }
   ],
   "source": [
    "X_train_lift.shape"
   ]
  },
  {
   "cell_type": "code",
   "execution_count": 313,
   "metadata": {
    "collapsed": false
   },
   "outputs": [
    {
     "name": "stdout",
     "output_type": "stream",
     "text": [
      "CPU times: user 6h 13min 51s, sys: 2h 42min 23s, total: 8h 56min 14s\n",
      "Wall time: 22min 2s\n",
      "CPU times: user 2h 38min 7s, sys: 1h 4min 44s, total: 3h 42min 52s\n",
      "Wall time: 7min 1s\n"
     ]
    }
   ],
   "source": [
    "%time K_train = X_train_lift.dot(X_train_lift.T)\n",
    "%time K_test =  X_test_lift.dot(X_train_lift.T)"
   ]
  },
  {
   "cell_type": "code",
   "execution_count": 317,
   "metadata": {
    "collapsed": false,
    "scrolled": true
   },
   "outputs": [
    {
     "name": "stdout",
     "output_type": "stream",
     "text": [
      "Learning Dual Model\n",
      "reg is 0.001\n",
      "CPU times: user 28min 27s, sys: 8min 26s, total: 36min 54s\n",
      "Wall time: 8min 5s\n",
      "(0.99995999999999996, 0.79679999999999995, array([[  67.21829481,  -62.02695716,  -28.48001406, ...,  -59.26889989,\n",
      "          -6.04534226,   -0.54845808],\n",
      "       [  -9.16914123,  -31.49043109,  -50.28975243, ...,    6.61723133,\n",
      "          52.93583268,   86.98948598],\n",
      "       [  -8.18697596,  -23.8871796 ,  -45.17165199, ...,  -71.7573571 ,\n",
      "        -112.14381074,  206.21626152],\n",
      "       ..., \n",
      "       [ -21.02542212,   25.643124  ,   48.39120927, ...,   30.42891163,\n",
      "        -163.14267785,  130.44734886],\n",
      "       [ -45.38631395,  -14.47179019,    6.23175659, ...,   54.66547156,\n",
      "          66.1587717 ,  -45.72277314],\n",
      "       [-102.07633342,  113.14791494,   25.95643042, ...,   -5.81288209,\n",
      "         -34.4232363 ,  -70.02267477]]))\n"
     ]
    }
   ],
   "source": [
    "results = {}\n",
    "for reg in [1e-3]:\n",
    "    %time acc = ls.trainAndEvaluateDualModel(KTrain=K_train, KTest=K_test, labelsTrain=labelsTrain, labelsTest=labelsTest, reg=reg)\n",
    "    print(acc)\n",
    "    results[reg] = acc\n"
   ]
  },
  {
   "cell_type": "code",
   "execution_count": 498,
   "metadata": {
    "collapsed": true
   },
   "outputs": [],
   "source": [
    "X_fresh_p = preprocess_batch(X)"
   ]
  },
  {
   "cell_type": "code",
   "execution_count": 501,
   "metadata": {
    "collapsed": false
   },
   "outputs": [
    {
     "data": {
      "text/plain": [
       "array([[[[ -5.10424211e-01,  -1.01882055e+00,  -9.80779942e-01, ...,\n",
       "            4.35284400e-01,   3.80424943e-01,   3.36178019e-01],\n",
       "         [ -1.54031831e+00,  -1.76911237e+00,  -1.38736690e+00, ...,\n",
       "           -2.19687069e-02,   5.17908586e-02,   3.91260500e-01],\n",
       "         [ -1.03158641e+00,  -1.17598410e+00,  -4.64243769e-01, ...,\n",
       "           -1.01416845e-01,   3.60240730e-01,   1.24516239e-01],\n",
       "         ..., \n",
       "         [  5.42084381e-01,   9.48062501e-01,   8.21983553e-01, ...,\n",
       "            1.09863164e+00,  -1.94313321e+00,  -1.17046312e+00],\n",
       "         [ -3.03322192e-01,  -2.62558931e-02,   4.93861040e-01, ...,\n",
       "            2.04208351e+00,  -8.28547301e-01,  -5.97102856e-01],\n",
       "         [ -5.56354861e-01,  -6.62061594e-01,  -3.15659344e-01, ...,\n",
       "            2.41413336e+00,   2.46644750e-01,  -2.15897601e-01]],\n",
       "\n",
       "        [[  2.85360202e-01,  -9.17983964e-02,  -1.77091412e-01, ...,\n",
       "            4.87995604e-01,   3.14464071e-01,   3.14587102e-01],\n",
       "         [ -5.89552643e-01,  -8.74873533e-01,  -8.47091469e-01, ...,\n",
       "           -2.57159310e-01,  -3.20526995e-01,  -9.80964763e-02],\n",
       "         [ -2.74676216e-01,  -6.23528327e-01,  -3.64587398e-01, ...,\n",
       "           -2.10369844e-01,   4.67379810e-02,  -3.35076291e-01],\n",
       "         ..., \n",
       "         [  7.36095334e-01,   8.16248166e-01,   1.36694343e+00, ...,\n",
       "            1.28815618e+00,  -1.73276370e+00,  -7.81705262e-01],\n",
       "         [ -4.81410602e-01,  -4.62791505e-01,   6.27630941e-01, ...,\n",
       "            1.70440749e+00,  -1.17894261e+00,  -7.90712738e-01],\n",
       "         [ -5.23998132e-01,  -7.63400619e-01,  -1.90157131e-01, ...,\n",
       "            2.19898557e+00,  -9.09085906e-02,  -5.51246936e-01]],\n",
       "\n",
       "        [[  9.86250798e-01,   5.95861630e-01,   4.18357500e-01, ...,\n",
       "            7.04679216e-01,   5.49951668e-01,   5.44237691e-01],\n",
       "         [  1.57264321e-01,   7.37432198e-02,  -1.40232412e-01, ...,\n",
       "           -3.15666100e-01,  -4.41164717e-01,  -2.41481193e-01],\n",
       "         [  4.59298362e-01,   6.78420779e-02,  -1.20836492e-01, ...,\n",
       "           -1.97739660e-01,  -1.70599892e-02,  -4.85341552e-01],\n",
       "         ..., \n",
       "         [  6.73649012e-01,  -1.36719713e+00,  -1.49026659e+00, ...,\n",
       "            2.06909620e-01,  -8.25292292e-01,   3.62415429e-01],\n",
       "         [  9.75043182e-01,  -7.74973773e-01,  -1.28321484e+00, ...,\n",
       "            9.97181091e-01,  -5.60765425e-01,   6.91836262e-02],\n",
       "         [  1.34533239e+00,   1.02029916e+00,   7.41400016e-01, ...,\n",
       "            1.83299961e+00,   1.03157839e-02,   2.23478198e-01]]],\n",
       "\n",
       "\n",
       "       [[[  2.41506231e-01,  -2.43498548e-01,  -2.39386064e-01, ...,\n",
       "            1.19377402e-01,   2.18293688e-01,  -1.54984054e-01],\n",
       "         [ -4.53379033e-01,   4.30162952e-01,   2.71127087e-01, ...,\n",
       "            3.23920383e-01,  -1.70183142e-01,  -2.82137016e-01],\n",
       "         [ -1.73759557e-01,   1.76358051e-01,  -4.25166268e-01, ...,\n",
       "           -1.62703906e-01,  -3.00762937e-01,  -2.57858049e-01],\n",
       "         ..., \n",
       "         [  6.37034843e-01,  -5.33420738e-02,   9.61143587e-02, ...,\n",
       "           -6.46400196e-01,  -6.16961226e-01,  -1.36913243e-01],\n",
       "         [  4.26632433e-01,   1.41278024e-01,   4.05103797e-01, ...,\n",
       "            4.75578316e-01,   7.40140872e-01,   5.49568226e-01],\n",
       "         [  8.81834768e-01,   7.46220217e-01,   1.11622921e+00, ...,\n",
       "            7.76104830e-01,   5.29295734e-01,   2.98851257e-01]],\n",
       "\n",
       "        [[  9.90572984e-01,  -7.05990399e-02,  -6.37511628e-01, ...,\n",
       "            1.81144776e-01,   1.93290471e-01,  -2.36091142e-01],\n",
       "         [  1.18343470e-01,   4.17364281e-01,  -1.00080245e-01, ...,\n",
       "            3.05043397e-01,  -2.38034411e-01,  -3.70915923e-01],\n",
       "         [  1.77145658e-01,   1.25535751e-01,  -7.95846342e-01, ...,\n",
       "           -1.31313986e-01,  -3.78963071e-01,  -3.33527204e-01],\n",
       "         ..., \n",
       "         [  4.49781477e-01,  -4.45644286e-02,   4.95446627e-01, ...,\n",
       "           -9.20550969e-01,  -8.57229864e-01,  -4.26147270e-01],\n",
       "         [  1.77461819e-01,   1.74615505e-01,   6.56671524e-01, ...,\n",
       "            1.60639454e-01,   4.86925442e-01,   2.55160333e-01],\n",
       "         [  4.81482639e-01,   5.59365552e-01,   1.01854081e+00, ...,\n",
       "            4.56974633e-01,   2.59074335e-01,   3.96862473e-03]],\n",
       "\n",
       "        [[  1.29923122e+00,  -2.81218745e-01,  -1.22683020e+00, ...,\n",
       "           -4.84844864e-01,  -1.98611834e-01,  -1.95419303e-01],\n",
       "         [  3.48286489e-01,   2.60457594e-01,  -6.19455266e-01, ...,\n",
       "           -1.13064615e-01,  -5.02511814e-01,  -3.25839855e-01],\n",
       "         [  4.13340923e-01,   4.34217605e-02,  -1.13720147e+00, ...,\n",
       "           -3.83630771e-01,  -4.48441625e-01,  -3.69314678e-01],\n",
       "         ..., \n",
       "         [  3.88394402e-01,   1.91962744e-01,   8.75947462e-01, ...,\n",
       "           -1.12061449e+00,  -9.16679011e-01,  -1.64720461e-01],\n",
       "         [ -9.62583285e-01,  -7.62563339e-01,  -1.54427823e-01, ...,\n",
       "            7.65701076e-02,   5.91116084e-01,   6.56750038e-01],\n",
       "         [ -5.66052889e-01,  -3.22877964e-01,   2.39482099e-01, ...,\n",
       "            7.30720446e-01,   6.31201059e-01,   5.83058601e-01]]],\n",
       "\n",
       "\n",
       "       [[[  1.61734066e-01,   1.48569918e-01,   9.26048207e-02, ...,\n",
       "            1.44130361e-01,   1.27750137e-01,   2.22402903e-01],\n",
       "         [  1.06600570e-01,   1.10558186e-01,   7.04475159e-02, ...,\n",
       "            1.17618144e-01,   1.46247393e-01,   2.20134646e-01],\n",
       "         [  8.46492227e-02,   8.68251471e-02,   5.65307924e-02, ...,\n",
       "            7.39473786e-02,   1.33514838e-01,   1.45117918e-01],\n",
       "         ..., \n",
       "         [  5.80075766e-02,   1.12778929e-01,   6.92189700e-02, ...,\n",
       "            3.05331741e-02,  -3.13787289e-02,  -1.23900666e-01],\n",
       "         [  8.63484811e-02,   7.43453288e-02,   1.04811584e-01, ...,\n",
       "           -6.00891568e-02,  -6.15513313e-02,   9.16160587e-02],\n",
       "         [  1.58419690e-02,   2.34612037e-03,   3.02355612e-02, ...,\n",
       "            1.23320565e-01,   7.69685137e-02,   3.81926706e-02]],\n",
       "\n",
       "        [[  5.04846984e-02,   5.28412035e-02,   1.37542159e-02, ...,\n",
       "            3.97081189e-02,   1.52475269e-02,   1.01662149e-01],\n",
       "         [  9.01290512e-03,   4.91036194e-02,   2.51172966e-02, ...,\n",
       "            2.83965379e-02,   4.10403248e-02,   1.08484189e-01],\n",
       "         [ -6.37279793e-03,   3.17536053e-02,   1.63442034e-02, ...,\n",
       "            2.32219157e-04,   3.43917913e-02,   3.87983158e-02],\n",
       "         ..., \n",
       "         [  3.89671506e-02,   7.15864869e-02,   9.55776138e-03, ...,\n",
       "           -1.25841409e-02,  -9.13030827e-02,  -1.94291230e-01],\n",
       "         [  7.53719776e-02,   2.97050884e-02,   4.00641432e-02, ...,\n",
       "           -1.67673522e-01,  -1.84455255e-01,  -2.96713835e-02],\n",
       "         [  1.12611382e-02,  -2.45221688e-02,  -1.20462889e-02, ...,\n",
       "            3.28505185e-02,  -2.89135532e-02,  -6.77019546e-02]],\n",
       "\n",
       "        [[  2.57515355e-02,   2.28287136e-02,   9.68239159e-03, ...,\n",
       "            3.10309348e-02,   5.65575686e-03,   8.08860782e-02],\n",
       "         [  2.44901533e-02,   4.93895620e-02,   5.00056630e-02, ...,\n",
       "            5.29251401e-02,   8.08926847e-02,   1.31103053e-01],\n",
       "         [  1.84055848e-02,   3.31413385e-02,   2.97135362e-02, ...,\n",
       "            2.70168271e-02,   7.42700373e-02,   6.54563659e-02],\n",
       "         ..., \n",
       "         [  4.10079597e-02,   7.76436745e-02,   1.67982907e-02, ...,\n",
       "           -1.36002761e-02,  -6.45833211e-02,  -1.33739394e-01],\n",
       "         [  5.53985337e-02,   2.48567816e-02,  -9.45204841e-03, ...,\n",
       "           -1.86330812e-01,  -1.53936023e-01,   6.00146947e-03],\n",
       "         [ -2.81661977e-02,  -8.38313817e-02,  -6.02875013e-02, ...,\n",
       "            3.56417558e-02,  -1.21717251e-02,  -1.05117948e-02]]],\n",
       "\n",
       "\n",
       "       ..., \n",
       "       [[[  1.23819196e-01,   1.21142743e-01,  -8.65258339e-02, ...,\n",
       "           -1.28888602e-02,   5.90310302e-02,   6.92016509e-02],\n",
       "         [  1.37743577e-01,   1.24446499e-01,  -1.68090896e-02, ...,\n",
       "           -6.21141454e-02,  -5.59743876e-02,   5.16996363e-02],\n",
       "         [  3.03431123e-02,   2.72864771e-02,  -1.25356133e-02, ...,\n",
       "            2.55529445e-02,   4.21878836e-02,   6.39595241e-02],\n",
       "         ..., \n",
       "         [ -9.25591711e-02,  -8.80912421e-02,  -1.47644370e-01, ...,\n",
       "           -1.95574968e-01,  -9.21794156e-02,  -2.27844865e-01],\n",
       "         [ -5.10929424e-02,  -1.73945308e-02,  -1.23985006e-01, ...,\n",
       "           -1.80420771e-01,  -1.97144186e-01,  -1.92674576e-01],\n",
       "         [ -1.26863734e-01,  -1.31325883e-01,  -2.26872894e-01, ...,\n",
       "           -4.41412849e-01,  -3.14749858e-01,  -2.51645594e-01]],\n",
       "\n",
       "        [[ -2.71129876e-02,  -5.75588717e-02,  -4.34897050e-02, ...,\n",
       "           -3.87531019e-02,   3.51144469e-02,   1.95920605e-02],\n",
       "         [  9.16117067e-03,   3.36143321e-02,   4.51073585e-02, ...,\n",
       "           -9.25835099e-02,  -8.29355677e-02,  -1.40818983e-02],\n",
       "         [ -7.41934339e-02,  -1.53891951e-02,   3.45717094e-02, ...,\n",
       "            3.23836985e-04,   2.14832700e-02,   3.50234676e-03],\n",
       "         ..., \n",
       "         [ -8.04719820e-02,  -7.07944970e-02,  -1.23828448e-01, ...,\n",
       "           -2.09349433e-01,  -1.95048403e-01,  -2.80168649e-01],\n",
       "         [ -4.55391290e-02,  -5.78238692e-03,  -9.55856444e-02, ...,\n",
       "           -2.06011108e-01,  -2.24634899e-01,  -2.14348689e-01],\n",
       "         [ -1.14667285e-01,  -1.25761183e-01,  -1.94360902e-01, ...,\n",
       "           -3.06588011e-01,  -3.04311093e-01,  -3.75094932e-01]],\n",
       "\n",
       "        [[ -8.26892596e-03,  -3.62291661e-02,  -5.86959275e-03, ...,\n",
       "           -1.21091382e-01,  -8.11314238e-02,  -1.11498221e-01],\n",
       "         [  3.89777845e-02,   6.11398878e-02,  -4.01290348e-03, ...,\n",
       "           -1.31546203e-01,  -1.73756134e-01,  -1.27844480e-01],\n",
       "         [ -6.17944068e-03,  -6.80095538e-02,  -9.41992325e-02, ...,\n",
       "           -2.23926426e-02,  -6.14986478e-02,  -1.14408182e-01],\n",
       "         ..., \n",
       "         [ -3.03150337e-01,  -1.72183229e-01,  -2.31307945e-01, ...,\n",
       "            1.47363107e-01,   5.01625348e-01,  -1.20288810e-01],\n",
       "         [ -2.30291105e-01,  -1.26178960e-01,  -2.30111263e-01, ...,\n",
       "            2.19133320e-01,   4.35734096e-01,   1.25704861e-01],\n",
       "         [ -3.31759425e-01,  -3.00010652e-01,  -3.59616893e-01, ...,\n",
       "            1.47516842e-01,   3.17424766e-01,   1.40255922e-01]]],\n",
       "\n",
       "\n",
       "       [[[  2.08571759e-01,  -2.13680640e-01,  -1.58199527e-02, ...,\n",
       "           -1.23943723e+00,  -1.12627293e-02,  -3.91319287e-01],\n",
       "         [ -7.17748224e-01,  -4.69016374e-01,  -8.78635657e-01, ...,\n",
       "           -2.38254843e-01,   1.23039551e+00,  -1.51115278e-01],\n",
       "         [ -7.20299975e-01,  -7.60015901e-01,  -7.83682956e-01, ...,\n",
       "            4.74673505e-01,   6.79375459e-01,  -2.58738156e-01],\n",
       "         ..., \n",
       "         [ -4.73652086e-02,  -3.44191919e-02,  -5.25961533e-02, ...,\n",
       "           -1.47410471e-02,   7.65185974e-02,  -1.64008763e-02],\n",
       "         [  7.63431792e-02,   4.55387779e-02,   1.82944161e-02, ...,\n",
       "            1.29735253e-01,   4.89970722e-02,  -6.09691156e-02],\n",
       "         [ -1.08716262e-01,  -1.94853981e-01,  -6.45896191e-02, ...,\n",
       "           -1.30131581e-01,  -1.89573993e-02,  -3.03683291e-02]],\n",
       "\n",
       "        [[  3.81655483e-01,   2.44253895e-01,   4.08410809e-01, ...,\n",
       "           -1.05528108e+00,   1.59656396e-01,  -5.73249404e-01],\n",
       "         [ -5.39388043e-01,  -5.56881223e-02,  -6.12749628e-01, ...,\n",
       "           -1.84773930e-01,   1.27457542e+00,  -4.14846760e-01],\n",
       "         [ -4.83059229e-01,  -3.87746493e-01,  -7.27731131e-01, ...,\n",
       "            5.06053793e-01,   6.66745699e-01,  -5.66836234e-01],\n",
       "         ..., \n",
       "         [  1.54031713e-01,   9.10620469e-02,   1.32307985e-01, ...,\n",
       "            4.16015175e-02,   4.48143951e-02,   8.20765487e-02],\n",
       "         [  2.40217096e-01,   5.82395592e-02,   1.00746932e-01, ...,\n",
       "            2.13857053e-01,   2.43725393e-02,  -9.00734983e-03],\n",
       "         [  1.52844490e-01,  -1.10863411e-01,  -2.71630375e-02, ...,\n",
       "            2.17572086e-02,  -5.12731240e-03,  -7.58441512e-03]],\n",
       "\n",
       "        [[ -4.66700031e-02,  -4.34884306e-01,   2.81067732e-01, ...,\n",
       "           -1.23945173e+00,   1.28117208e-01,  -3.72249108e-01],\n",
       "         [ -4.74120432e-01,  -5.48027484e-01,  -5.01766609e-01, ...,\n",
       "           -6.40135699e-03,   1.68077280e+00,   2.91271842e-01],\n",
       "         [ -2.12010076e-01,  -5.56152949e-01,  -3.40281749e-01, ...,\n",
       "            9.45269805e-01,   1.45279334e+00,   5.54656186e-01],\n",
       "         ..., \n",
       "         [  1.71689937e-02,   3.32495618e-02,   3.89074503e-02, ...,\n",
       "            7.88968562e-02,   1.30643502e-01,   1.04742632e-01],\n",
       "         [  7.18236304e-02,  -3.53226569e-02,   1.04612442e-02, ...,\n",
       "            1.74889097e-01,   3.87716119e-02,   2.62731514e-02],\n",
       "         [ -2.40493689e-02,  -2.13173186e-01,  -1.00955367e-01, ...,\n",
       "            1.55408618e-02,   3.92047198e-02,   9.17821065e-02]]],\n",
       "\n",
       "\n",
       "       [[[ -7.92138162e-01,   1.38971704e-01,   1.80877211e-01, ...,\n",
       "           -3.19943120e-01,  -6.01696100e-01,   2.49152479e+00],\n",
       "         [ -2.48305614e-01,   1.95794478e-01,  -6.02219998e-01, ...,\n",
       "           -9.23412372e-01,  -1.54905711e+00,   2.83426103e-01],\n",
       "         [ -1.27778275e-01,   8.05640459e-01,  -6.99956705e-01, ...,\n",
       "           -3.95436948e-01,  -1.03014206e+00,  -1.13704256e+00],\n",
       "         ..., \n",
       "         [  7.80745136e-02,   4.41403087e-01,   1.33524956e-01, ...,\n",
       "            5.71991010e-01,  -3.27299809e-01,  -7.86115422e-01],\n",
       "         [ -1.69546591e-01,   5.81543763e-02,   2.25698998e-01, ...,\n",
       "            8.72236264e-01,  -2.37092413e-01,  -9.42961587e-01],\n",
       "         [  8.21805585e-03,   8.69845522e-02,   4.34774811e-01, ...,\n",
       "            9.81460587e-01,  -3.67677597e-01,  -1.35157528e+00]],\n",
       "\n",
       "        [[ -9.95242990e-01,  -4.54011800e-02,   8.89985842e-02, ...,\n",
       "            4.94928533e-02,  -3.33079272e-01,   2.57951075e+00],\n",
       "         [ -5.34616962e-01,  -5.30285576e-03,  -6.93664593e-01, ...,\n",
       "           -8.62484299e-01,  -1.48432637e+00,   4.48214183e-01],\n",
       "         [ -4.02427783e-01,   6.06056040e-01,  -6.35651246e-01, ...,\n",
       "           -4.51213283e-01,  -1.02546351e+00,  -9.56990114e-01],\n",
       "         ..., \n",
       "         [  3.30164114e-01,   3.76113792e-01,   2.02742968e-02, ...,\n",
       "            4.96404299e-01,  -5.45137142e-01,  -8.92921249e-01],\n",
       "         [  1.78849715e-01,   8.35595685e-02,  -7.40378644e-03, ...,\n",
       "            9.05331385e-01,  -4.00060149e-01,  -1.04539059e+00],\n",
       "         [  2.31601743e-01,   1.33270532e-01,   3.42465985e-01, ...,\n",
       "            9.04521473e-01,  -6.25716491e-01,  -1.48402359e+00]],\n",
       "\n",
       "        [[ -1.42075438e+00,   3.53427554e-01,   3.11986210e-01, ...,\n",
       "           -2.38336029e-02,  -1.98877820e-01,   2.89774043e+00],\n",
       "         [ -8.84209793e-01,   3.41133939e-01,  -5.68276031e-01, ...,\n",
       "           -1.26448200e+00,  -1.59865666e+00,   5.29263205e-01],\n",
       "         [ -6.02026907e-01,   8.90821266e-01,  -5.91852296e-01, ...,\n",
       "           -9.36142088e-01,  -1.32728739e+00,  -1.16264333e+00],\n",
       "         ..., \n",
       "         [ -6.99198280e-02,   1.82954271e-01,  -2.81763560e-02, ...,\n",
       "            2.98356327e-01,  -9.23307747e-02,  -2.73939203e-01],\n",
       "         [ -1.30421396e-01,  -1.26364552e-01,  -6.41641822e-02, ...,\n",
       "            5.18449578e-01,   4.73769924e-03,  -4.52758848e-01],\n",
       "         [ -1.79968679e-01,  -1.02273246e-01,   1.80222035e-01, ...,\n",
       "            5.55676782e-01,  -2.50349772e-01,  -7.90712431e-01]]]])"
      ]
     },
     "execution_count": 501,
     "metadata": {},
     "output_type": "execute_result"
    }
   ],
   "source": [
    "X_fresh_p"
   ]
  },
  {
   "cell_type": "code",
   "execution_count": 504,
   "metadata": {
    "collapsed": false
   },
   "outputs": [
    {
     "data": {
      "text/plain": [
       "3.2582531564852581e-06"
      ]
     },
     "execution_count": 504,
     "metadata": {},
     "output_type": "execute_result"
    }
   ],
   "source": [
    "np.mean(np.abs(X_p - X_fresh_p))"
   ]
  },
  {
   "cell_type": "code",
   "execution_count": 276,
   "metadata": {
    "collapsed": false
   },
   "outputs": [],
   "source": [
    "K_train_256 = np.load(\"/home/ubuntu/cifar_kernels/KTrain_256_patches.npy\")\n",
    "K_test_256 = np.load(\"/home/ubuntu/cifar_kernels/KTest_256_patches.npy\")"
   ]
  },
  {
   "cell_type": "code",
   "execution_count": 57,
   "metadata": {
    "collapsed": false
   },
   "outputs": [
    {
     "name": "stdout",
     "output_type": "stream",
     "text": [
      "Learning Dual Model\n",
      "reg is 0.01\n",
      "(0.99985999999999997, 0.84740000000000004, array([[ -3.35480199,  -2.91510599,  -3.00231609, ...,  -3.96316318,\n",
      "          3.08084399,   7.44949294],\n",
      "       [ -0.29215553,  -2.26995122,   6.83913934, ...,  -1.80165119,\n",
      "         -4.55425765,   6.74723685],\n",
      "       [ -7.04050356,  -1.74000851, -10.98937311, ...,  -8.01983104,\n",
      "         -5.72820576,  25.94227243],\n",
      "       ..., \n",
      "       [ -6.8387073 ,  -0.07271528,   3.74946065, ...,  -0.09115042,\n",
      "         -9.92378035,  18.7213747 ],\n",
      "       [ -2.93466858,   7.04252265,   0.20085643, ...,  -2.29092793,\n",
      "         -0.5178039 ,  -9.19902159],\n",
      "       [ -6.70482668,  20.37677055,  -2.28010135, ...,  -5.13080746,\n",
      "         -3.3058487 ,  -8.78801842]]))\n",
      "Learning Dual Model\n",
      "reg is 0.001\n",
      "(1.0, 0.83919999999999995, array([[ -9.90938685,  -2.51302121,  -3.45947151, ...,  -2.4066732 ,\n",
      "          4.79007306,  12.63961259],\n",
      "       [  1.16845315,  -2.2500285 ,  15.58721177, ...,  -0.66687891,\n",
      "        -11.08140975,   8.64197644],\n",
      "       [-21.64993173,  -1.91437792, -34.15132852, ..., -22.61044165,\n",
      "        -13.28783064,  54.89780771],\n",
      "       ..., \n",
      "       [-10.878674  ,  -0.29143289,  15.88842633, ...,  -2.63974656,\n",
      "        -22.67497308,  33.31800147],\n",
      "       [ -4.5265558 ,  13.11057687,  -6.89736459, ...,  -7.8257385 ,\n",
      "         -1.35226599, -13.69783799],\n",
      "       [ -8.68122173,  33.192443  ,  -8.43580583, ...,  -4.03604869,\n",
      "         -5.50543926, -18.65528105]]))\n",
      "Learning Dual Model\n",
      "reg is 0.0001\n",
      "(1.0, 0.83599999999999997, array([[-11.76721509,  -2.25920416,  -3.23712271, ...,  -1.50268522,\n",
      "          4.99388466,  13.61215738],\n",
      "       [  2.12650135,  -2.42052609,  17.83616509, ...,  -0.1253205 ,\n",
      "        -12.96578079,   8.93693921],\n",
      "       [-26.63061922,  -1.9862869 , -42.73953811, ..., -28.03829505,\n",
      "        -16.28087523,  63.70619232],\n",
      "       ..., \n",
      "       [-11.78360901,  -0.39837652,  20.34787758, ...,  -3.60982818,\n",
      "        -27.03109979,  36.73275948],\n",
      "       [ -4.46428498,  14.5902068 , -10.00904391, ...,  -9.64517507,\n",
      "         -1.92127013, -14.05300633],\n",
      "       [ -8.72444786,  35.7575667 , -10.44635161, ...,  -2.97937812,\n",
      "         -6.09044366, -21.14566697]]))\n"
     ]
    }
   ],
   "source": [
    "results_256 = {}\n",
    "for reg in [1e-2, 1e-3, 1e-4]:\n",
    "    acc = ls.trainAndEvaluateDualModel(KTrain=K_train_256, KTest=K_test_256, labelsTrain=labelsTrain, labelsTest=labelsTest, reg=reg)\n",
    "    print(acc)\n",
    "    results_256[reg] = acc\n"
   ]
  },
  {
   "cell_type": "code",
   "execution_count": 315,
   "metadata": {
    "collapsed": false
   },
   "outputs": [
    {
     "name": "stdout",
     "output_type": "stream",
     "text": [
      "CPU times: user 5.23 s, sys: 4.73 s, total: 9.96 s\n",
      "Wall time: 9.96 s\n",
      "CPU times: user 1.38 s, sys: 5.72 s, total: 7.1 s\n",
      "Wall time: 7.1 s\n"
     ]
    }
   ],
   "source": [
    "%time K_train_combine = K_train_256 + K_train\n",
    "%time K_test_combine = K_test_256 + K_test"
   ]
  },
  {
   "cell_type": "code",
   "execution_count": 316,
   "metadata": {
    "collapsed": false
   },
   "outputs": [
    {
     "name": "stdout",
     "output_type": "stream",
     "text": [
      "Learning Dual Model\n",
      "reg is 0.01\n",
      "(0.99994000000000005, 0.84219999999999995, array([[ -0.95998592,  -3.22372551,  -3.28267448, ...,  -4.28763624,\n",
      "          2.06771383,   4.67526008],\n",
      "       [ -0.47662129,  -2.91781213,   3.28190904, ...,  -2.3190141 ,\n",
      "          0.30876553,   6.84332601],\n",
      "       [ -5.46871822,  -1.611581  ,  -6.7880167 , ...,  -9.16258737,\n",
      "         -5.39158408,  22.17576212],\n",
      "       ..., \n",
      "       [ -4.01867923,  -0.30428117,   2.69888125, ...,   2.74020849,\n",
      "         -7.7706932 ,  11.81054449],\n",
      "       [ -2.65328261,   3.16204324,  -0.40339256, ...,  -0.38081278,\n",
      "          1.87607948,  -6.94064027],\n",
      "       [ -7.90046198,  13.80692904,   1.21665931, ...,  -2.15633645,\n",
      "         -0.71495726,  -9.23971422]]))\n"
     ]
    }
   ],
   "source": [
    "results_combine = {}\n",
    "for reg in [1e-2]:\n",
    "    acc = ls.trainAndEvaluateDualModel(KTrain=K_train_combine, KTest=K_test_combine, labelsTrain=labelsTrain, labelsTest=labelsTest, reg=reg)\n",
    "    print(acc)\n",
    "    results_combine[reg] = acc\n"
   ]
  },
  {
   "cell_type": "code",
   "execution_count": null,
   "metadata": {
    "collapsed": true
   },
   "outputs": [],
   "source": []
  }
 ],
 "metadata": {
  "kernelspec": {
   "display_name": "Python 3",
   "language": "python",
   "name": "python3"
  },
  "language_info": {
   "codemirror_mode": {
    "name": "ipython",
    "version": 3
   },
   "file_extension": ".py",
   "mimetype": "text/x-python",
   "name": "python",
   "nbconvert_exporter": "python",
   "pygments_lexer": "ipython3",
   "version": "3.6.0"
  }
 },
 "nbformat": 4,
 "nbformat_minor": 2
}
