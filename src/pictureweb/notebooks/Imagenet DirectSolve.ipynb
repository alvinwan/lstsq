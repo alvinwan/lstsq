{
 "cells": [
  {
   "cell_type": "code",
   "execution_count": 9,
   "metadata": {
    "collapsed": false
   },
   "outputs": [
    {
     "name": "stdout",
     "output_type": "stream",
     "text": [
      "Populating the interactive namespace from numpy and matplotlib\n"
     ]
    }
   ],
   "source": [
    "%pylab inline\n",
    "import sys\n",
    "sys.path.insert(0, \"..\")\n",
    "from importlib import reload\n",
    "import numpy as np\n",
    "import opt\n",
    "from opt import ls\n",
    "import time\n",
    "import scipy.linalg\n",
    "from sklearn import metrics\n",
    "import utils\n",
    "from utils import exputil\n",
    "import distributed\n",
    "from distributed import sharded_matrix\n",
    "from distributed.distributed import fast_kernel_column_blocks_get\n",
    "reload(distributed.distributed)\n",
    "import time"
   ]
  },
  {
   "cell_type": "code",
   "execution_count": 60,
   "metadata": {
    "collapsed": false
   },
   "outputs": [
    {
     "name": "stdout",
     "output_type": "stream",
     "text": [
      "                           PRE XTX(mnist_test_1)/\r\n",
      "                           PRE XTX(mnist_test_1)_column_block_0/\r\n",
      "                           PRE XTX(mnist_test_1)_column_block_1/\r\n",
      "                           PRE XTX(mnist_test_1)_column_block_10/\r\n",
      "                           PRE XTX(mnist_test_1)_column_block_11/\r\n",
      "                           PRE XTX(mnist_test_1)_column_block_12/\r\n",
      "                           PRE XTX(mnist_test_1)_column_block_13/\r\n",
      "                           PRE XTX(mnist_test_1)_column_block_14/\r\n",
      "                           PRE XTX(mnist_test_1)_column_block_2/\r\n",
      "                           PRE XTX(mnist_test_1)_column_block_3/\r\n",
      "                           PRE XTX(mnist_test_1)_column_block_4/\r\n",
      "                           PRE XTX(mnist_test_1)_column_block_5/\r\n",
      "                           PRE XTX(mnist_test_1)_column_block_6/\r\n",
      "                           PRE XTX(mnist_test_1)_column_block_7/\r\n",
      "                           PRE XTX(mnist_test_1)_column_block_8/\r\n",
      "                           PRE XTX(mnist_test_1)_column_block_9/\r\n",
      "                           PRE XXT(X_block_scrambled_3_3_pool_12_12_patch_stride_1_1_block_no_normalize_04.22.2017)/\r\n",
      "                           PRE XXT(X_block_scrambled_3_3_pool_12_12_patch_stride_1_1_block_no_normalize_4_29_2017)/\r\n",
      "                           PRE XXT(X_train_imagenet_conv5)/\r\n",
      "                           PRE XXT(X_train_imagenet_fc7)/\r\n",
      "                           PRE XXT(mnist_test_1)/\r\n",
      "                           PRE XXT(mnist_test_2)/\r\n",
      "                           PRE XXT(mnist_train_1)/\r\n",
      "                           PRE XXT(mnist_train_2)/\r\n",
      "                           PRE XYT(X_block_scrambled_3_3_pool_12_12_patch_stride_1_1_block_no_normalize_04.22.2017, X_test_3_3_pool_12_12_patch_stride_1_1_block_no_normalize_04.22.2017)/\r\n",
      "                           PRE XYT(X_block_scrambled_3_3_pool_12_12_patch_stride_1_1_block_no_normalize_04.22.2017, X_test_scrambled_3_3_pool_12_12_patch_stride_1_1_block_no_normalize_04.22.2017)/\r\n",
      "                           PRE XYT(X_block_scrambled_3_3_pool_12_12_patch_stride_1_1_block_no_normalize_4_29_2017, X_test_scrambled_3_3_pool_12_12_patch_stride_1_1_block_no_normalize_4_29_2017)/\r\n",
      "                           PRE XYT(X_train_imagenet_conv5, X_test_imagenet_conv5)/\r\n",
      "                           PRE XYT(X_train_imagenet_fc7, X_test_imagenet_fc7)/\r\n",
      "                           PRE XYT(mnist_test_1, mnist_test_1)/\r\n",
      "                           PRE XYT(mnist_test_1, mnist_train_1)/\r\n",
      "                           PRE XYT(mnist_test_2, mnist_train_2)/\r\n",
      "                           PRE XYT(mnist_train_1, mnist_test_1)/\r\n",
      "                           PRE X_block_scrambled_3_3_pool_12_12_patch_stride_1_1_block_no_normalize_04.22.2017/\r\n",
      "                           PRE X_block_scrambled_3_3_pool_12_12_patch_stride_1_1_block_no_normalize_4_29_2017/\r\n",
      "                           PRE X_coates_ng_3_3_pool_12_12_patch_overlap_3_batches/\r\n",
      "                           PRE X_test_3_3_pool_12_12_patch_overlap_stride_1_normalized/\r\n",
      "                           PRE X_test_3_3_pool_12_12_patch_stride_1_1_block_no_normalize_04.22.2017/\r\n",
      "                           PRE X_test_augmented_no_normalized_3_3_pool_12_12_patch/\r\n",
      "                           PRE X_test_augmented_normalized_3_3_pool_12_12_patch/\r\n",
      "                           PRE X_test_imagenet_conv5/\r\n",
      "                           PRE X_test_imagenet_fc7/\r\n",
      "                           PRE X_test_scrambled_3_3_pool_12_12_patch_stride_1_1_block_no_normalize_04.22.2017/\r\n",
      "                           PRE X_test_scrambled_3_3_pool_12_12_patch_stride_1_1_block_no_normalize_4_29_2017/\r\n",
      "                           PRE X_train_3_3_pool_12_12_patch_overlap_stride_1_normalized/\r\n",
      "                           PRE X_train_augmented_no_normalized_3_3_pool_12_12_patch/\r\n",
      "                           PRE X_train_augmented_normalized_3_3_pool_12_12_patch/\r\n",
      "                           PRE X_train_imagenet_conv5/\r\n",
      "                           PRE X_train_imagenet_fc7/\r\n",
      "                           PRE mnist_test_1/\r\n",
      "                           PRE mnist_test_2/\r\n",
      "                           PRE mnist_train_1/\r\n",
      "                           PRE mnist_train_2/\r\n",
      "                           PRE rbf(XXT(X_block_scrambled_3_3_pool_12_12_patch_stride_1_1_block_no_normalize_04.22.2017), 0.0001)/\r\n",
      "                           PRE rbf(XXT(X_block_scrambled_3_3_pool_12_12_patch_stride_1_1_block_no_normalize_04.22.2017), 0.001)/\r\n",
      "                           PRE rbf(XXT(X_block_scrambled_3_3_pool_12_12_patch_stride_1_1_block_no_normalize_04.22.2017), 0.01)/\r\n",
      "                           PRE rbf(XXT(X_block_scrambled_3_3_pool_12_12_patch_stride_1_1_block_no_normalize_04.22.2017), 0.5)/\r\n",
      "                           PRE rbf(XXT(X_block_scrambled_3_3_pool_12_12_patch_stride_1_1_block_no_normalize_04.22.2017), 1.0)/\r\n",
      "                           PRE rbf(XXT(X_block_scrambled_3_3_pool_12_12_patch_stride_1_1_block_no_normalize_04.22.2017), 10.0)/\r\n",
      "                           PRE rbf(XXT(X_block_scrambled_3_3_pool_12_12_patch_stride_1_1_block_no_normalize_04.22.2017), 2.0)/\r\n",
      "                           PRE rbf(XXT(X_block_scrambled_3_3_pool_12_12_patch_stride_1_1_block_no_normalize_04.22.2017), 4.0)/\r\n",
      "                           PRE rbf(XXT(X_block_scrambled_3_3_pool_12_12_patch_stride_1_1_block_no_normalize_4_29_2017), 4.0)/\r\n",
      "                           PRE rbf(XXT(X_block_scrambled_3_3_pool_12_12_patch_stride_1_1_blocks_no_normalize_04.22.2017, 0.01)/\r\n",
      "                           PRE rbf(XXT(X_block_scrambled_3_3_pool_12_12_patch_stride_1_1_blocks_no_normalize_04.22.2017, 0.1)/\r\n",
      "                           PRE rbf(XXT(X_block_scrambled_3_3_pool_12_12_patch_stride_1_1_blocks_no_normalize_04.22.2017, 1.0)/\r\n",
      "                           PRE rbf(XXT(X_block_scrambled_3_3_pool_12_12_patch_stride_1_1_blocks_no_normalize_04.22.2017, 10.0)/\r\n",
      "                           PRE rbf(XXT(X_block_scrambled_3_3_pool_12_12_patch_stride_1_1_blocks_no_normalize_04.22.2017, 3)/\r\n",
      "                           PRE rbf(XXT(X_train_imagenet_conv5), 0.01)/\r\n",
      "                           PRE rbf(XXT(X_train_imagenet_conv5), 0.1)/\r\n",
      "                           PRE rbf(XXT(X_train_imagenet_conv5), 1.0)/\r\n",
      "                           PRE rbf(XXT(X_train_imagenet_fc7), 0.1)/\r\n",
      "                           PRE rbf(XXT(X_train_imagenet_fc7), 1.0)/\r\n",
      "                           PRE rbf(XXT(mnist_test_1), 0.001)/\r\n",
      "                           PRE rbf(XXT(mnist_test_2), 0.001)/\r\n",
      "                           PRE rbf(XXT(mnist_train_1), 0.001)/\r\n",
      "                           PRE rbf(XXT(mnist_train_2), 0.001)/\r\n",
      "                           PRE rbf(XYT(X_block_scrambled_3_3_pool_12_12_patch_stride_1_1_block_no_normalize_04.22.2017, X_test_3_3_pool_12_12_patch_stride_1_1_block_no_normalize_04.22.2017), 1.0)/\r\n",
      "                           PRE rbf(XYT(X_block_scrambled_3_3_pool_12_12_patch_stride_1_1_block_no_normalize_04.22.2017, X_test_3_3_pool_12_12_patch_stride_1_1_block_no_normalize_04.22.2017), 10.0)/\r\n",
      "                           PRE rbf(XYT(X_block_scrambled_3_3_pool_12_12_patch_stride_1_1_block_no_normalize_04.22.2017, X_test_scrambled_3_3_pool_12_12_patch_stride_1_1_block_no_normalize_04.22.2017), 0.0001)/\r\n",
      "                           PRE rbf(XYT(X_block_scrambled_3_3_pool_12_12_patch_stride_1_1_block_no_normalize_04.22.2017, X_test_scrambled_3_3_pool_12_12_patch_stride_1_1_block_no_normalize_04.22.2017), 0.001)/\r\n",
      "                           PRE rbf(XYT(X_block_scrambled_3_3_pool_12_12_patch_stride_1_1_block_no_normalize_04.22.2017, X_test_scrambled_3_3_pool_12_12_patch_stride_1_1_block_no_normalize_04.22.2017), 0.01)/\r\n",
      "                           PRE rbf(XYT(X_block_scrambled_3_3_pool_12_12_patch_stride_1_1_block_no_normalize_04.22.2017, X_test_scrambled_3_3_pool_12_12_patch_stride_1_1_block_no_normalize_04.22.2017), 0.1)/\r\n",
      "                           PRE rbf(XYT(X_block_scrambled_3_3_pool_12_12_patch_stride_1_1_block_no_normalize_04.22.2017, X_test_scrambled_3_3_pool_12_12_patch_stride_1_1_block_no_normalize_04.22.2017), 0.5)/\r\n",
      "                           PRE rbf(XYT(X_block_scrambled_3_3_pool_12_12_patch_stride_1_1_block_no_normalize_04.22.2017, X_test_scrambled_3_3_pool_12_12_patch_stride_1_1_block_no_normalize_04.22.2017), 1.0)/\r\n",
      "                           PRE rbf(XYT(X_block_scrambled_3_3_pool_12_12_patch_stride_1_1_block_no_normalize_04.22.2017, X_test_scrambled_3_3_pool_12_12_patch_stride_1_1_block_no_normalize_04.22.2017), 10.0)/\r\n",
      "                           PRE rbf(XYT(X_block_scrambled_3_3_pool_12_12_patch_stride_1_1_block_no_normalize_04.22.2017, X_test_scrambled_3_3_pool_12_12_patch_stride_1_1_block_no_normalize_04.22.2017), 2.0)/\r\n",
      "                           PRE rbf(XYT(X_block_scrambled_3_3_pool_12_12_patch_stride_1_1_block_no_normalize_04.22.2017, X_test_scrambled_3_3_pool_12_12_patch_stride_1_1_block_no_normalize_04.22.2017), 4.0)/\r\n",
      "                           PRE rbf(XYT(X_block_scrambled_3_3_pool_12_12_patch_stride_1_1_block_no_normalize_4_29_2017, X_test_scrambled_3_3_pool_12_12_patch_stride_1_1_block_no_normalize_4_29_2017), 4.0)/\r\n",
      "                           PRE rbf(XYT(X_train_imagenet_conv5, X_test_imagenet_conv5), 0.01)/\r\n",
      "                           PRE rbf(XYT(X_train_imagenet_conv5, X_test_imagenet_conv5), 0.1)/\r\n",
      "                           PRE rbf(XYT(X_train_imagenet_conv5, X_test_imagenet_conv5), 1.0)/\r\n",
      "                           PRE rbf(XYT(X_train_imagenet_fc7, X_test_imagenet_fc7), 1.0)/\r\n",
      "                           PRE rbf(XYT(mnist_test_1, mnist_train_1), 0.001)/\r\n",
      "                           PRE rbf(XYT(mnist_train_1, mnist_test_1), 0.001)/\r\n"
     ]
    }
   ],
   "source": [
    "! aws s3 ls s3://vaishaalpywrenlinalg/pywren.linalg/"
   ]
  },
  {
   "cell_type": "code",
   "execution_count": 119,
   "metadata": {
    "collapsed": false
   },
   "outputs": [
    {
     "name": "stdout",
     "output_type": "stream",
     "text": [
      "CPU times: user 60 ms, sys: 12 ms, total: 72 ms\n",
      "Wall time: 114 ms\n"
     ]
    }
   ],
   "source": [
    "%time X_train_sharded = sharded_matrix.ShardedMatrix(\"X_block_scrambled_3_3_pool_12_12_patch_stride_1_1_block_no_normalize_04.22.2017\", bucket=\"vaishaalpywrenlinalg\")"
   ]
  },
  {
   "cell_type": "code",
   "execution_count": 59,
   "metadata": {
    "collapsed": false
   },
   "outputs": [
    {
     "data": {
      "text/plain": [
       "(1281167, 18432)"
      ]
     },
     "execution_count": 59,
     "metadata": {},
     "output_type": "execute_result"
    }
   ],
   "source": [
    "X_train_sharded.shape"
   ]
  },
  {
   "cell_type": "code",
   "execution_count": 120,
   "metadata": {
    "collapsed": false
   },
   "outputs": [
    {
     "name": "stdout",
     "output_type": "stream",
     "text": [
      "CPU times: user 68 ms, sys: 12 ms, total: 80 ms\n",
      "Wall time: 160 ms\n"
     ]
    }
   ],
   "source": [
    "%time X_test_sharded = sharded_matrix.ShardedMatrix(\"X_test_3_3_pool_12_12_patch_stride_1_1_block_no_normalize_04.22.2017\", bucket=\"vaishaalpywrenlinalg\")"
   ]
  },
  {
   "cell_type": "code",
   "execution_count": 121,
   "metadata": {
    "collapsed": false
   },
   "outputs": [],
   "source": [
    "y_test = np.load(\"/home/ubuntu/imagenet-data/scrambled_test_labels.npy\")\n",
    "y_train = np.load(\"/home/ubuntu/imagenet-data/scrambled_train_labels.npy\")"
   ]
  },
  {
   "cell_type": "code",
   "execution_count": 37,
   "metadata": {
    "collapsed": false
   },
   "outputs": [],
   "source": [
    "def compute_median(X, num_samples):\n",
    "    idxs_0 = np.random.choice(X.shape[0], num_samples, replace=False)\n",
    "    idxs_1 = np.random.choice(X.shape[0], num_samples, replace=False)\n",
    "    dist = []\n",
    "    for i in range(num_samples):\n",
    "        x = X[idxs_0[i]]\n",
    "        y = X[idxs_1[i]]\n",
    "        dist.append(np.linalg.norm(x)/np.sqrt(x.shape[0]))\n",
    "    return np.power(np.median(dist),2), np.power(np.max(dist), 2)\n",
    "    "
   ]
  },
  {
   "cell_type": "code",
   "execution_count": 122,
   "metadata": {
    "collapsed": false
   },
   "outputs": [
    {
     "name": "stdout",
     "output_type": "stream",
     "text": [
      "CPU times: user 0 ns, sys: 25.4 s, total: 25.4 s\n",
      "Wall time: 7min 23s\n"
     ]
    }
   ],
   "source": [
    "%time X_train = fast_kernel_column_blocks_get(X_train_sharded, col_blocks=[0], mmap_loc=\"/dev/shm/X_train\", dtype=\"float64\")"
   ]
  },
  {
   "cell_type": "code",
   "execution_count": 56,
   "metadata": {
    "collapsed": false
   },
   "outputs": [
    {
     "name": "stdout",
     "output_type": "stream",
     "text": [
      "2048 0 12 (848, 2048, 3, 3) (848, 2048)\n",
      "X_FULL PART SHAPE  (848, 2048)\n",
      "X FULL SHAPE  (50000, 2048)\n",
      "could not broadcast input array from shape (848,2048,3,3) into shape (848,2048)\n",
      "2048 0 2 (4096, 2048, 3, 3) (4096, 2048)\n",
      "X_FULL PART SHAPE  (4096, 2048)\n",
      "X FULL SHAPE  (50000, 2048)\n",
      "could not broadcast input array from shape (4096,2048,3,3) into shape (4096,2048)\n",
      "2048 0 11 (4096, 2048, 3, 3) (4096, 2048)\n",
      "X_FULL PART SHAPE  (4096, 2048)\n",
      "X FULL SHAPE  (50000, 2048)\n",
      "could not broadcast input array from shape (4096,2048,3,3) into shape (4096,2048)\n",
      "2048 0 8 (4096, 2048, 3, 3) (4096, 2048)\n",
      "X_FULL PART SHAPE  (4096, 2048)\n",
      "X FULL SHAPE  (50000, 2048)\n",
      "could not broadcast input array from shape (4096,2048,3,3) into shape (4096,2048)\n",
      "2048 0 6 (4096, 2048, 3, 3) (4096, 2048)\n",
      "X_FULL PART SHAPE  (4096, 2048)\n",
      "X FULL SHAPE  (50000, 2048)\n",
      "could not broadcast input array from shape (4096,2048,3,3) into shape (4096,2048)\n",
      "2048 0 0 (4096, 2048, 3, 3) (4096, 2048)\n",
      "X_FULL PART SHAPE  (4096, 2048)\n",
      "X FULL SHAPE  (50000, 2048)\n",
      "could not broadcast input array from shape (4096,2048,3,3) into shape (4096,2048)\n",
      "2048 0 3 (4096, 2048, 3, 3) (4096, 2048)\n",
      "X_FULL PART SHAPE  (4096, 2048)\n",
      "X FULL SHAPE  (50000, 2048)\n",
      "could not broadcast input array from shape (4096,2048,3,3) into shape (4096,2048)\n",
      "2048 0 7 (4096, 2048, 3, 3) (4096, 2048)\n",
      "X_FULL PART SHAPE  (4096, 2048)\n",
      "2048 0 4 (4096, 2048, 3, 3) (4096, 2048)\n",
      "X FULL SHAPE  (50000, 2048)\n",
      "could not broadcast input array from shape (4096,2048,3,3) into shape (4096,2048)\n",
      "X_FULL PART SHAPE  (4096, 2048)\n",
      "X FULL SHAPE  (50000, 2048)\n",
      "could not broadcast input array from shape (4096,2048,3,3) into shape (4096,2048)\n",
      "2048 0 1 (4096, 2048, 3, 3) (4096, 2048)\n",
      "X_FULL PART SHAPE  (4096, 2048)\n",
      "X FULL SHAPE  (50000, 2048)\n",
      "could not broadcast input array from shape (4096,2048,3,3) into shape (4096,2048)\n",
      "2048 0 9 (4096, 2048, 3, 3) (4096, 2048)\n",
      "X_FULL PART SHAPE  (4096, 2048)\n",
      "X FULL SHAPE  (50000, 2048)\n",
      "could not broadcast input array from shape (4096,2048,3,3) into shape (4096,2048)\n",
      "2048 0 10 (4096, 2048, 3, 3) (4096, 2048)\n",
      "X_FULL PART SHAPE  (4096, 2048)\n",
      "X FULL SHAPE  (50000, 2048)\n",
      "could not broadcast input array from shape (4096,2048,3,3) into shape (4096,2048)\n",
      "2048 0 5 (4096, 2048, 3, 3) (4096, 2048)\n",
      "X_FULL PART SHAPE  (4096, 2048)\n",
      "X FULL SHAPE  (50000, 2048)\n",
      "could not broadcast input array from shape (4096,2048,3,3) into shape (4096,2048)\n"
     ]
    },
    {
     "ename": "ValueError",
     "evalue": "could not broadcast input array from shape (4096,2048,3,3) into shape (4096,2048)",
     "output_type": "error",
     "traceback": [
      "\u001b[0;31m---------------------------------------------------------------------------\u001b[0m",
      "\u001b[0;31m_RemoteTraceback\u001b[0m                          Traceback (most recent call last)",
      "\u001b[0;31m_RemoteTraceback\u001b[0m: \n\"\"\"\nTraceback (most recent call last):\n  File \"/home/ubuntu/anaconda3/lib/python3.6/concurrent/futures/process.py\", line 175, in _process_worker\n    r = call_item.fn(*call_item.args, **call_item.kwargs)\n  File \"../distributed/sharded_matrix.py\", line 302, in get_blocks_mmap\n    X_full[sidx:eidx, b_start:b_end] = block\nValueError: could not broadcast input array from shape (4096,2048,3,3) into shape (4096,2048)\n\"\"\"",
      "\nThe above exception was the direct cause of the following exception:\n",
      "\u001b[0;31mValueError\u001b[0m                                Traceback (most recent call last)",
      "\u001b[0;32m<ipython-input-56-0637e3ee5ba9>\u001b[0m in \u001b[0;36m<module>\u001b[0;34m()\u001b[0m\n\u001b[0;32m----> 1\u001b[0;31m \u001b[0mget_ipython\u001b[0m\u001b[0;34m(\u001b[0m\u001b[0;34m)\u001b[0m\u001b[0;34m.\u001b[0m\u001b[0mmagic\u001b[0m\u001b[0;34m(\u001b[0m\u001b[0;34m'time X_test = fast_kernel_column_blocks_get(X_test_sharded, col_blocks=[0], mmap_loc=\"/dev/shm/X_test\", dtype=\"float64\")'\u001b[0m\u001b[0;34m)\u001b[0m\u001b[0;34m\u001b[0m\u001b[0m\n\u001b[0m",
      "\u001b[0;32m/home/ubuntu/anaconda3/lib/python3.6/site-packages/IPython/core/interactiveshell.py\u001b[0m in \u001b[0;36mmagic\u001b[0;34m(self, arg_s)\u001b[0m\n\u001b[1;32m   2156\u001b[0m         \u001b[0mmagic_name\u001b[0m\u001b[0;34m,\u001b[0m \u001b[0m_\u001b[0m\u001b[0;34m,\u001b[0m \u001b[0mmagic_arg_s\u001b[0m \u001b[0;34m=\u001b[0m \u001b[0marg_s\u001b[0m\u001b[0;34m.\u001b[0m\u001b[0mpartition\u001b[0m\u001b[0;34m(\u001b[0m\u001b[0;34m' '\u001b[0m\u001b[0;34m)\u001b[0m\u001b[0;34m\u001b[0m\u001b[0m\n\u001b[1;32m   2157\u001b[0m         \u001b[0mmagic_name\u001b[0m \u001b[0;34m=\u001b[0m \u001b[0mmagic_name\u001b[0m\u001b[0;34m.\u001b[0m\u001b[0mlstrip\u001b[0m\u001b[0;34m(\u001b[0m\u001b[0mprefilter\u001b[0m\u001b[0;34m.\u001b[0m\u001b[0mESC_MAGIC\u001b[0m\u001b[0;34m)\u001b[0m\u001b[0;34m\u001b[0m\u001b[0m\n\u001b[0;32m-> 2158\u001b[0;31m         \u001b[0;32mreturn\u001b[0m \u001b[0mself\u001b[0m\u001b[0;34m.\u001b[0m\u001b[0mrun_line_magic\u001b[0m\u001b[0;34m(\u001b[0m\u001b[0mmagic_name\u001b[0m\u001b[0;34m,\u001b[0m \u001b[0mmagic_arg_s\u001b[0m\u001b[0;34m)\u001b[0m\u001b[0;34m\u001b[0m\u001b[0m\n\u001b[0m\u001b[1;32m   2159\u001b[0m \u001b[0;34m\u001b[0m\u001b[0m\n\u001b[1;32m   2160\u001b[0m     \u001b[0;31m#-------------------------------------------------------------------------\u001b[0m\u001b[0;34m\u001b[0m\u001b[0;34m\u001b[0m\u001b[0m\n",
      "\u001b[0;32m/home/ubuntu/anaconda3/lib/python3.6/site-packages/IPython/core/interactiveshell.py\u001b[0m in \u001b[0;36mrun_line_magic\u001b[0;34m(self, magic_name, line)\u001b[0m\n\u001b[1;32m   2077\u001b[0m                 \u001b[0mkwargs\u001b[0m\u001b[0;34m[\u001b[0m\u001b[0;34m'local_ns'\u001b[0m\u001b[0;34m]\u001b[0m \u001b[0;34m=\u001b[0m \u001b[0msys\u001b[0m\u001b[0;34m.\u001b[0m\u001b[0m_getframe\u001b[0m\u001b[0;34m(\u001b[0m\u001b[0mstack_depth\u001b[0m\u001b[0;34m)\u001b[0m\u001b[0;34m.\u001b[0m\u001b[0mf_locals\u001b[0m\u001b[0;34m\u001b[0m\u001b[0m\n\u001b[1;32m   2078\u001b[0m             \u001b[0;32mwith\u001b[0m \u001b[0mself\u001b[0m\u001b[0;34m.\u001b[0m\u001b[0mbuiltin_trap\u001b[0m\u001b[0;34m:\u001b[0m\u001b[0;34m\u001b[0m\u001b[0m\n\u001b[0;32m-> 2079\u001b[0;31m                 \u001b[0mresult\u001b[0m \u001b[0;34m=\u001b[0m \u001b[0mfn\u001b[0m\u001b[0;34m(\u001b[0m\u001b[0;34m*\u001b[0m\u001b[0margs\u001b[0m\u001b[0;34m,\u001b[0m\u001b[0;34m**\u001b[0m\u001b[0mkwargs\u001b[0m\u001b[0;34m)\u001b[0m\u001b[0;34m\u001b[0m\u001b[0m\n\u001b[0m\u001b[1;32m   2080\u001b[0m             \u001b[0;32mreturn\u001b[0m \u001b[0mresult\u001b[0m\u001b[0;34m\u001b[0m\u001b[0m\n\u001b[1;32m   2081\u001b[0m \u001b[0;34m\u001b[0m\u001b[0m\n",
      "\u001b[0;32m<decorator-gen-59>\u001b[0m in \u001b[0;36mtime\u001b[0;34m(self, line, cell, local_ns)\u001b[0m\n",
      "\u001b[0;32m/home/ubuntu/anaconda3/lib/python3.6/site-packages/IPython/core/magic.py\u001b[0m in \u001b[0;36m<lambda>\u001b[0;34m(f, *a, **k)\u001b[0m\n\u001b[1;32m    186\u001b[0m     \u001b[0;31m# but it's overkill for just that one bit of state.\u001b[0m\u001b[0;34m\u001b[0m\u001b[0;34m\u001b[0m\u001b[0m\n\u001b[1;32m    187\u001b[0m     \u001b[0;32mdef\u001b[0m \u001b[0mmagic_deco\u001b[0m\u001b[0;34m(\u001b[0m\u001b[0marg\u001b[0m\u001b[0;34m)\u001b[0m\u001b[0;34m:\u001b[0m\u001b[0;34m\u001b[0m\u001b[0m\n\u001b[0;32m--> 188\u001b[0;31m         \u001b[0mcall\u001b[0m \u001b[0;34m=\u001b[0m \u001b[0;32mlambda\u001b[0m \u001b[0mf\u001b[0m\u001b[0;34m,\u001b[0m \u001b[0;34m*\u001b[0m\u001b[0ma\u001b[0m\u001b[0;34m,\u001b[0m \u001b[0;34m**\u001b[0m\u001b[0mk\u001b[0m\u001b[0;34m:\u001b[0m \u001b[0mf\u001b[0m\u001b[0;34m(\u001b[0m\u001b[0;34m*\u001b[0m\u001b[0ma\u001b[0m\u001b[0;34m,\u001b[0m \u001b[0;34m**\u001b[0m\u001b[0mk\u001b[0m\u001b[0;34m)\u001b[0m\u001b[0;34m\u001b[0m\u001b[0m\n\u001b[0m\u001b[1;32m    189\u001b[0m \u001b[0;34m\u001b[0m\u001b[0m\n\u001b[1;32m    190\u001b[0m         \u001b[0;32mif\u001b[0m \u001b[0mcallable\u001b[0m\u001b[0;34m(\u001b[0m\u001b[0marg\u001b[0m\u001b[0;34m)\u001b[0m\u001b[0;34m:\u001b[0m\u001b[0;34m\u001b[0m\u001b[0m\n",
      "\u001b[0;32m/home/ubuntu/anaconda3/lib/python3.6/site-packages/IPython/core/magics/execution.py\u001b[0m in \u001b[0;36mtime\u001b[0;34m(self, line, cell, local_ns)\u001b[0m\n\u001b[1;32m   1178\u001b[0m         \u001b[0;32melse\u001b[0m\u001b[0;34m:\u001b[0m\u001b[0;34m\u001b[0m\u001b[0m\n\u001b[1;32m   1179\u001b[0m             \u001b[0mst\u001b[0m \u001b[0;34m=\u001b[0m \u001b[0mclock2\u001b[0m\u001b[0;34m(\u001b[0m\u001b[0;34m)\u001b[0m\u001b[0;34m\u001b[0m\u001b[0m\n\u001b[0;32m-> 1180\u001b[0;31m             \u001b[0mexec\u001b[0m\u001b[0;34m(\u001b[0m\u001b[0mcode\u001b[0m\u001b[0;34m,\u001b[0m \u001b[0mglob\u001b[0m\u001b[0;34m,\u001b[0m \u001b[0mlocal_ns\u001b[0m\u001b[0;34m)\u001b[0m\u001b[0;34m\u001b[0m\u001b[0m\n\u001b[0m\u001b[1;32m   1181\u001b[0m             \u001b[0mend\u001b[0m \u001b[0;34m=\u001b[0m \u001b[0mclock2\u001b[0m\u001b[0;34m(\u001b[0m\u001b[0;34m)\u001b[0m\u001b[0;34m\u001b[0m\u001b[0m\n\u001b[1;32m   1182\u001b[0m             \u001b[0mout\u001b[0m \u001b[0;34m=\u001b[0m \u001b[0;32mNone\u001b[0m\u001b[0;34m\u001b[0m\u001b[0m\n",
      "\u001b[0;32m<timed exec>\u001b[0m in \u001b[0;36m<module>\u001b[0;34m()\u001b[0m\n",
      "\u001b[0;32m/home/ubuntu/pictureweb/distributed/distributed.py\u001b[0m in \u001b[0;36mfast_kernel_column_blocks_get\u001b[0;34m(K, col_blocks, mmap_loc, workers, dtype)\u001b[0m\n\u001b[1;32m     82\u001b[0m     \u001b[0mfutures\u001b[0m \u001b[0;34m=\u001b[0m \u001b[0mfast_kernel_column_block_async\u001b[0m\u001b[0;34m(\u001b[0m\u001b[0mK\u001b[0m\u001b[0;34m,\u001b[0m \u001b[0mcol_blocks\u001b[0m\u001b[0;34m,\u001b[0m \u001b[0mmmap_loc\u001b[0m\u001b[0;34m=\u001b[0m\u001b[0mmmap_loc\u001b[0m\u001b[0;34m,\u001b[0m \u001b[0mworkers\u001b[0m\u001b[0;34m=\u001b[0m\u001b[0mworkers\u001b[0m\u001b[0;34m,\u001b[0m \u001b[0mdtype\u001b[0m\u001b[0;34m=\u001b[0m\u001b[0mdtype\u001b[0m\u001b[0;34m)\u001b[0m\u001b[0;34m\u001b[0m\u001b[0m\n\u001b[1;32m     83\u001b[0m     \u001b[0mfs\u001b[0m\u001b[0;34m.\u001b[0m\u001b[0mwait\u001b[0m\u001b[0;34m(\u001b[0m\u001b[0mfutures\u001b[0m\u001b[0;34m)\u001b[0m\u001b[0;34m\u001b[0m\u001b[0m\n\u001b[0;32m---> 84\u001b[0;31m     \u001b[0;32mreturn\u001b[0m \u001b[0mload_mmap\u001b[0m\u001b[0;34m(\u001b[0m\u001b[0;34m*\u001b[0m\u001b[0mfutures\u001b[0m\u001b[0;34m[\u001b[0m\u001b[0;36m0\u001b[0m\u001b[0;34m]\u001b[0m\u001b[0;34m.\u001b[0m\u001b[0mresult\u001b[0m\u001b[0;34m(\u001b[0m\u001b[0;34m)\u001b[0m\u001b[0;34m)\u001b[0m\u001b[0;34m\u001b[0m\u001b[0m\n\u001b[0m\u001b[1;32m     85\u001b[0m \u001b[0;34m\u001b[0m\u001b[0m\n",
      "\u001b[0;32m/home/ubuntu/anaconda3/lib/python3.6/concurrent/futures/_base.py\u001b[0m in \u001b[0;36mresult\u001b[0;34m(self, timeout)\u001b[0m\n\u001b[1;32m    396\u001b[0m                 \u001b[0;32mraise\u001b[0m \u001b[0mCancelledError\u001b[0m\u001b[0;34m(\u001b[0m\u001b[0;34m)\u001b[0m\u001b[0;34m\u001b[0m\u001b[0m\n\u001b[1;32m    397\u001b[0m             \u001b[0;32melif\u001b[0m \u001b[0mself\u001b[0m\u001b[0;34m.\u001b[0m\u001b[0m_state\u001b[0m \u001b[0;34m==\u001b[0m \u001b[0mFINISHED\u001b[0m\u001b[0;34m:\u001b[0m\u001b[0;34m\u001b[0m\u001b[0m\n\u001b[0;32m--> 398\u001b[0;31m                 \u001b[0;32mreturn\u001b[0m \u001b[0mself\u001b[0m\u001b[0;34m.\u001b[0m\u001b[0m__get_result\u001b[0m\u001b[0;34m(\u001b[0m\u001b[0;34m)\u001b[0m\u001b[0;34m\u001b[0m\u001b[0m\n\u001b[0m\u001b[1;32m    399\u001b[0m \u001b[0;34m\u001b[0m\u001b[0m\n\u001b[1;32m    400\u001b[0m             \u001b[0mself\u001b[0m\u001b[0;34m.\u001b[0m\u001b[0m_condition\u001b[0m\u001b[0;34m.\u001b[0m\u001b[0mwait\u001b[0m\u001b[0;34m(\u001b[0m\u001b[0mtimeout\u001b[0m\u001b[0;34m)\u001b[0m\u001b[0;34m\u001b[0m\u001b[0m\n",
      "\u001b[0;32m/home/ubuntu/anaconda3/lib/python3.6/concurrent/futures/_base.py\u001b[0m in \u001b[0;36m__get_result\u001b[0;34m(self)\u001b[0m\n\u001b[1;32m    355\u001b[0m     \u001b[0;32mdef\u001b[0m \u001b[0m__get_result\u001b[0m\u001b[0;34m(\u001b[0m\u001b[0mself\u001b[0m\u001b[0;34m)\u001b[0m\u001b[0;34m:\u001b[0m\u001b[0;34m\u001b[0m\u001b[0m\n\u001b[1;32m    356\u001b[0m         \u001b[0;32mif\u001b[0m \u001b[0mself\u001b[0m\u001b[0;34m.\u001b[0m\u001b[0m_exception\u001b[0m\u001b[0;34m:\u001b[0m\u001b[0;34m\u001b[0m\u001b[0m\n\u001b[0;32m--> 357\u001b[0;31m             \u001b[0;32mraise\u001b[0m \u001b[0mself\u001b[0m\u001b[0;34m.\u001b[0m\u001b[0m_exception\u001b[0m\u001b[0;34m\u001b[0m\u001b[0m\n\u001b[0m\u001b[1;32m    358\u001b[0m         \u001b[0;32melse\u001b[0m\u001b[0;34m:\u001b[0m\u001b[0;34m\u001b[0m\u001b[0m\n\u001b[1;32m    359\u001b[0m             \u001b[0;32mreturn\u001b[0m \u001b[0mself\u001b[0m\u001b[0;34m.\u001b[0m\u001b[0m_result\u001b[0m\u001b[0;34m\u001b[0m\u001b[0m\n",
      "\u001b[0;31mValueError\u001b[0m: could not broadcast input array from shape (4096,2048,3,3) into shape (4096,2048)"
     ]
    }
   ],
   "source": []
  },
  {
   "cell_type": "code",
   "execution_count": 18,
   "metadata": {
    "collapsed": false
   },
   "outputs": [
    {
     "name": "stdout",
     "output_type": "stream",
     "text": [
      "Sharding matrix..... of shape (50000, 18432)\n",
      "00 409649152 4096  12288491524096 4096819250000  2048045056163844096081924096081922457616384 8192   1638450000         3276824576204803686432768368644505628672122880 921609216  245764915220480450561228845056122882867220480         28672 9216  00         368642867224576409603686440960491523276816384 9216 18432 18432  092160921600921609216         32768\n",
      "18432\n",
      "9216\n",
      "92169216         921692169216009216092169216 0\n",
      " \n",
      " \n",
      "\n",
      "9216184329216184329216921618432921618432        921618432184321843292169216\n",
      "\n",
      "\n",
      "\n",
      "\n",
      "\n",
      "\n",
      "\n",
      "\n",
      "1843218432184329216\n",
      "\n",
      "\n",
      "\n",
      "\n",
      "\n",
      "\n",
      "\n",
      "\n",
      "\n",
      "CPU times: user 1min 58s, sys: 1min 22s, total: 3min 21s\n",
      "Wall time: 1min 24s\n"
     ]
    }
   ],
   "source": [
    "%time X_train_sharded = sharded_matrix.ShardedMatrix(\"X_block_scrambled_3_3_pool_12_12_patch_stride_1_1_block_no_normalize_4_29_2017\",\\\n",
    "                                                     shard_size_0=4096,\\\n",
    "                                                     shard_size_1=9216,\\\n",
    "                                                     bucket=\"vaishaalpywrenlinalg\",\\\n",
    "                                                     reshard=True,\\\n",
    "                                                     n_jobs=32,\\\n",
    "                                                     data=X_train)\n"
   ]
  },
  {
   "cell_type": "code",
   "execution_count": 38,
   "metadata": {
    "collapsed": false
   },
   "outputs": [
    {
     "data": {
      "text/plain": [
       "(0.10451829955360722, 0.72024884937146538)"
      ]
     },
     "execution_count": 38,
     "metadata": {},
     "output_type": "execute_result"
    }
   ],
   "source": [
    "compute_median(X_train, 1000)"
   ]
  },
  {
   "cell_type": "code",
   "execution_count": 30,
   "metadata": {
    "collapsed": false
   },
   "outputs": [
    {
     "name": "stdout",
     "output_type": "stream",
     "text": [
      "CPU times: user 28 ms, sys: 1.63 s, total: 1.66 s\n",
      "Wall time: 8.98 s\n"
     ]
    }
   ],
   "source": [
    "np"
   ]
  },
  {
   "cell_type": "code",
   "execution_count": 123,
   "metadata": {
    "collapsed": false
   },
   "outputs": [
    {
     "data": {
      "text/plain": [
       "dtype('float64')"
      ]
     },
     "execution_count": 123,
     "metadata": {},
     "output_type": "execute_result"
    }
   ],
   "source": [
    "X_train.dtype"
   ]
  },
  {
   "cell_type": "code",
   "execution_count": 124,
   "metadata": {
    "collapsed": false
   },
   "outputs": [
    {
     "name": "stdout",
     "output_type": "stream",
     "text": [
      "CPU times: user 7h 55min 58s, sys: 8h 56min 5s, total: 16h 52min 4s\n",
      "Wall time: 17min 18s\n"
     ]
    }
   ],
   "source": [
    "%time XTX = X_train.T.dot(X_train)"
   ]
  },
  {
   "cell_type": "code",
   "execution_count": 40,
   "metadata": {
    "collapsed": false
   },
   "outputs": [],
   "source": [
    "y_train_enc = np.eye(1000)[y_train.astype('int')]"
   ]
  },
  {
   "cell_type": "code",
   "execution_count": 128,
   "metadata": {
    "collapsed": false
   },
   "outputs": [
    {
     "name": "stdout",
     "output_type": "stream",
     "text": [
      "CPU times: user 49min 46s, sys: 1h 29min 19s, total: 2h 19min 5s\n",
      "Wall time: 2min 21s\n"
     ]
    }
   ],
   "source": [
    "%time XTy = X_train.T.dot(y_train_enc)"
   ]
  },
  {
   "cell_type": "code",
   "execution_count": 126,
   "metadata": {
    "collapsed": false
   },
   "outputs": [],
   "source": [
    "XTX += np.eye(XTX.shape[0])"
   ]
  },
  {
   "cell_type": "code",
   "execution_count": 129,
   "metadata": {
    "collapsed": false
   },
   "outputs": [
    {
     "name": "stdout",
     "output_type": "stream",
     "text": [
      "CPU times: user 9min 19s, sys: 1min 34s, total: 10min 54s\n",
      "Wall time: 24.9 s\n"
     ]
    }
   ],
   "source": [
    "%time model = scipy.linalg.solve(XTX, XTy)"
   ]
  },
  {
   "cell_type": "code",
   "execution_count": null,
   "metadata": {
    "collapsed": true
   },
   "outputs": [],
   "source": [
    "y_train_pred = X_train.dot(model)"
   ]
  },
  {
   "cell_type": "code",
   "execution_count": null,
   "metadata": {
    "collapsed": true
   },
   "outputs": [],
   "source": [
    "y_test_pred = X_test.dot(model)"
   ]
  },
  {
   "cell_type": "code",
   "execution_count": 52,
   "metadata": {
    "collapsed": false
   },
   "outputs": [
    {
     "name": "stdout",
     "output_type": "stream",
     "text": [
      "Train Accuracy  0.401566696613\n",
      "Test Accuracy  0.1888\n"
     ]
    }
   ],
   "source": [
    "print(\"Train Accuracy \", metrics.accuracy_score(y_train, np.argmax(y_train_pred, axis=1)))\n",
    "print(\"Test Accuracy \", metrics.accuracy_score(y_test, np.argmax(y_test_pred, axis=1)))"
   ]
  },
  {
   "cell_type": "code",
   "execution_count": 97,
   "metadata": {
    "collapsed": false
   },
   "outputs": [],
   "source": [
    "K = sharded_matrix.ShardedSymmetricMatrix(\"rbf(XXT(X_block_scrambled_3_3_pool_12_12_patch_stride_1_1_block_no_normalize_04.22.2017), 4.0)\", bucket=\"vaishaalpywrenlinalg\")"
   ]
  },
  {
   "cell_type": "code",
   "execution_count": 90,
   "metadata": {
    "collapsed": false
   },
   "outputs": [
    {
     "data": {
      "text/plain": [
       "array([[ 0.9999997 ,  0.1047346 ,  0.06749739, ...,  0.10831299,\n",
       "         0.02672276,  0.15164699],\n",
       "       [ 0.1047346 ,  1.00000131,  0.05209133, ...,  0.06496691,\n",
       "         0.01898118,  0.10122403],\n",
       "       [ 0.06749739,  0.05209133,  1.        , ...,  0.05777011,\n",
       "         0.0195615 ,  0.07338814],\n",
       "       ..., \n",
       "       [ 0.10831299,  0.06496691,  0.05777011, ...,  0.99999946,\n",
       "         0.01671762,  0.12393676],\n",
       "       [ 0.02672276,  0.01898118,  0.0195615 , ...,  0.01671762,\n",
       "         1.        ,  0.02681992],\n",
       "       [ 0.15164699,  0.10122403,  0.07338814, ...,  0.12393676,\n",
       "         0.02681992,  0.99999988]], dtype=float32)"
      ]
     },
     "execution_count": 90,
     "metadata": {},
     "output_type": "execute_result"
    }
   ],
   "source": [
    "K.get"
   ]
  },
  {
   "cell_type": "code",
   "execution_count": 115,
   "metadata": {
    "collapsed": false
   },
   "outputs": [
    {
     "ename": "NameError",
     "evalue": "name 'K' is not defined",
     "output_type": "error",
     "traceback": [
      "\u001b[0;31m---------------------------------------------------------------------------\u001b[0m",
      "\u001b[0;31mNameError\u001b[0m                                 Traceback (most recent call last)",
      "\u001b[0;32m<ipython-input-115-7f14dfb5f19d>\u001b[0m in \u001b[0;36m<module>\u001b[0;34m()\u001b[0m\n\u001b[0;32m----> 1\u001b[0;31m \u001b[0mK\u001b[0m\u001b[0;34m.\u001b[0m\u001b[0mget_block\u001b[0m\u001b[0;34m(\u001b[0m\u001b[0;36m0\u001b[0m\u001b[0;34m,\u001b[0m\u001b[0;36m0\u001b[0m\u001b[0;34m)\u001b[0m\u001b[0;34m\u001b[0m\u001b[0m\n\u001b[0m",
      "\u001b[0;31mNameError\u001b[0m: name 'K' is not defined"
     ]
    }
   ],
   "source": [
    "K.get_block(0,0)"
   ]
  },
  {
   "cell_type": "code",
   "execution_count": 114,
   "metadata": {
    "collapsed": true
   },
   "outputs": [],
   "source": [
    "list_of_parts = open(\"../files\").readlines()"
   ]
  },
  {
   "cell_type": "code",
   "execution_count": 71,
   "metadata": {
    "collapsed": false
   },
   "outputs": [],
   "source": [
    "add_sentinels = list(filter(lambda x: \"add\" in x, map(lambda x: x.strip(), list_of_parts)))\n"
   ]
  },
  {
   "cell_type": "code",
   "execution_count": 96,
   "metadata": {
    "collapsed": false
   },
   "outputs": [],
   "source": [
    "add_sentinel_split = list(map(get_parts_from_add_sentinel, add_sentinels))"
   ]
  },
  {
   "cell_type": "code",
   "execution_count": 109,
   "metadata": {
    "collapsed": false
   },
   "outputs": [
    {
     "data": {
      "text/plain": [
       "201"
      ]
     },
     "execution_count": 109,
     "metadata": {},
     "output_type": "execute_result"
    }
   ],
   "source": [
    "add_sentinel_split.index((0,28))"
   ]
  },
  {
   "cell_type": "code",
   "execution_count": 113,
   "metadata": {
    "collapsed": false
   },
   "outputs": [
    {
     "data": {
      "text/plain": [
       "'2017-04-29 23:03:59        201 add_sentinel(0, 28, 99c2a2f17f0af87214d7da2748d793dcd8704dd1, d9b7b91e94fd6d51627b5c52e1689063312abfb6)\\n'"
      ]
     },
     "execution_count": 113,
     "metadata": {},
     "output_type": "execute_result"
    }
   ],
   "source": [
    "list_of_parts[49141:][202]"
   ]
  },
  {
   "cell_type": "code",
   "execution_count": 103,
   "metadata": {
    "collapsed": false
   },
   "outputs": [
    {
     "name": "stdout",
     "output_type": "stream",
     "text": [
      "[(0, 28), (0, 29), (0, 30), (0, 31), (103, 157), (103, 158), (103, 159), (103, 160), (126, 155), (126, 156), (126, 157), (126, 158), (132, 154), (132, 155), (132, 156), (132, 157), (132, 258), (132, 259), (132, 260), (132, 261), (138, 261), (138, 262), (138, 263), (138, 264), (150, 175), (150, 176), (150, 177), (150, 178), (160, 236), (160, 237), (160, 238), (160, 239), (162, 189), (162, 190), (162, 191), (162, 192), (216, 256), (216, 257), (216, 258), (216, 259), (237, 266), (237, 267), (237, 268), (237, 269), (28, 100), (28, 101), (28, 98), (28, 99), (30, 163), (30, 164), (30, 165), (30, 166), (31, 261), (31, 262), (31, 263), (31, 264), (38, 91), (38, 92), (38, 93), (38, 94), (51, 247), (51, 248), (51, 249), (51, 250), (53, 178), (53, 179), (53, 180), (53, 181), (54, 95), (54, 96), (54, 97), (54, 98), (60, 110), (60, 111), (60, 112), (60, 113), (63, 277), (63, 278), (63, 279), (63, 280), (64, 272), (64, 273), (64, 274), (64, 275), (66, 185), (66, 186), (66, 187), (66, 188), (85, 134), (85, 135), (85, 136), (85, 137), (90, 137), (90, 138), (90, 139), (90, 140), (96, 308), (96, 309), (96, 310), (96, 311)]\n"
     ]
    }
   ],
   "source": [
    "import collections\n",
    "print([item for item, count in collections.Counter(add_sentinel_split).items() if count > 1])"
   ]
  },
  {
   "cell_type": "code",
   "execution_count": 90,
   "metadata": {
    "collapsed": false
   },
   "outputs": [],
   "source": [
    "def get_parts_from_add_sentinel(sentinel):\n",
    "    first = int(sentinel.split(\"add_sentinel\")[1].split(\"(\")[1].split(\",\")[0].strip())\n",
    "    second = int(sentinel.split(\"add_sentinel\")[1].split(\"(\")[1].split(\",\")[1].strip())\n",
    "    return first, second\n"
   ]
  },
  {
   "cell_type": "code",
   "execution_count": 118,
   "metadata": {
    "collapsed": false
   },
   "outputs": [
    {
     "data": {
      "text/plain": [
       "(0, 100)"
      ]
     },
     "execution_count": 118,
     "metadata": {},
     "output_type": "execute_result"
    }
   ],
   "source": [
    "get_parts_from_add_sentinel(add_sentinels[3])"
   ]
  },
  {
   "cell_type": "code",
   "execution_count": 89,
   "metadata": {
    "collapsed": false
   },
   "outputs": [
    {
     "data": {
      "text/plain": [
       "0"
      ]
     },
     "execution_count": 89,
     "metadata": {},
     "output_type": "execute_result"
    }
   ],
   "source": [
    "second"
   ]
  },
  {
   "cell_type": "code",
   "execution_count": null,
   "metadata": {
    "collapsed": true
   },
   "outputs": [],
   "source": []
  }
 ],
 "metadata": {
  "kernelspec": {
   "display_name": "Python 3",
   "language": "python",
   "name": "python3"
  },
  "language_info": {
   "codemirror_mode": {
    "name": "ipython",
    "version": 3
   },
   "file_extension": ".py",
   "mimetype": "text/x-python",
   "name": "python",
   "nbconvert_exporter": "python",
   "pygments_lexer": "ipython3",
   "version": "3.6.0"
  }
 },
 "nbformat": 4,
 "nbformat_minor": 2
}
