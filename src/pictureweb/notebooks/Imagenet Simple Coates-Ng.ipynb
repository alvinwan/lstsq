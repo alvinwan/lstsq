{
 "cells": [
  {
   "cell_type": "code",
   "execution_count": 1122,
   "metadata": {
    "collapsed": false
   },
   "outputs": [
    {
     "name": "stdout",
     "output_type": "stream",
     "text": [
      "Populating the interactive namespace from numpy and matplotlib\n",
      "<module 'loaders.imagenet_load' from '../loaders/imagenet_load.py'>\n"
     ]
    },
    {
     "name": "stderr",
     "output_type": "stream",
     "text": [
      "/home/ubuntu/anaconda3/lib/python3.6/site-packages/IPython/core/magics/pylab.py:161: UserWarning: pylab import has clobbered these variables: ['linalg', 'copy']\n",
      "`%matplotlib` prevents importing * from pylab and numpy\n",
      "  \"\\n`%matplotlib` prevents importing * from pylab and numpy\"\n"
     ]
    }
   ],
   "source": [
    "%pylab inline\n",
    "import sys\n",
    "sys.path.append(\"..\")\n",
    "from loaders import imagenet_load\n",
    "from importlib import reload\n",
    "print(imagenet_load)\n",
    "from conv import multigpu\n",
    "from loaders.imagenet_load import orient\n",
    "import conv\n",
    "from conv import filter_gen, opt, multigpu\n",
    "import numpy as np\n",
    "from utils import misc\n",
    "from utils import linalg\n",
    "from utils import exputil\n",
    "from numba import jit\n",
    "import math\n",
    "import concurrent.futures as fs\n",
    "from pylab import imshow\n",
    "import copy\n",
    "from skimage.filters import gabor_kernel\n",
    "from skimage.transform import rescale"
   ]
  },
  {
   "cell_type": "code",
   "execution_count": 2,
   "metadata": {
    "collapsed": true
   },
   "outputs": [],
   "source": [
    "NUM_CLASSES = 10"
   ]
  },
  {
   "cell_type": "code",
   "execution_count": 3,
   "metadata": {
    "collapsed": true
   },
   "outputs": [],
   "source": [
    "\n",
    "def class_to_tarball_name_train(classname):\n",
    "    classname = classname.strip()\n",
    "    return \"/home/ubuntu/imagenet-train/{0}-scaled.tar\".format(classname)\n",
    "\n",
    "def class_to_tarball_name_val(classname):\n",
    "    classname = classname.strip()\n",
    "    return \"/home/ubuntu/imagenet-validation/val-{0}-scaled.tar\".format(classname)\n",
    "\n"
   ]
  },
  {
   "cell_type": "code",
   "execution_count": 462,
   "metadata": {
    "collapsed": false
   },
   "outputs": [
    {
     "name": "stderr",
     "output_type": "stream",
     "text": [
      "There exists a matrix at /dev/shm/imagenet_train\n"
     ]
    },
    {
     "name": "stdout",
     "output_type": "stream",
     "text": [
      "CPU times: user 20 ms, sys: 2.23 s, total: 2.25 s\n",
      "Wall time: 2.55 s\n"
     ]
    },
    {
     "name": "stderr",
     "output_type": "stream",
     "text": [
      "There exists a matrix at /dev/shm/imagenet_train\n"
     ]
    },
    {
     "name": "stdout",
     "output_type": "stream",
     "text": [
      "CPU times: user 24 ms, sys: 1.94 s, total: 1.96 s\n",
      "Wall time: 2.16 s\n",
      "Loaded 0 classes into mem\n",
      "CPU times: user 3.28 s, sys: 6.61 s, total: 9.89 s\n",
      "Wall time: 12.9 s\n",
      "Loaded 0 classes into mem\n",
      "CPU times: user 148 ms, sys: 2.17 s, total: 2.32 s\n",
      "Wall time: 2.63 s\n",
      "PRE PROCESSING\n",
      "CPU times: user 15.7 s, sys: 13.7 s, total: 29.3 s\n",
      "Wall time: 29.3 s\n",
      "PRE PROCESSING\n",
      "CPU times: user 604 ms, sys: 528 ms, total: 1.13 s\n",
      "Wall time: 1.12 s\n",
      "CPU times: user 4.14 s, sys: 0 ns, total: 4.14 s\n",
      "Wall time: 4.13 s\n",
      "CPU times: user 3.67 s, sys: 4 ms, total: 3.67 s\n",
      "Wall time: 3.67 s\n",
      "CPU times: user 116 ms, sys: 0 ns, total: 116 ms\n",
      "Wall time: 119 ms\n"
     ]
    }
   ],
   "source": [
    "%time loader_train = imagenet_load.ImagenetLoader(NUM_CLASSES, classes_path=\"../loaders/classes\", tarball_func=class_to_tarball_name_train, mmap_loc=\"/dev/shm/imagenet_train\", n_procs=16)\n",
    "%time loader_val = imagenet_load.ImagenetLoader(NUM_CLASSES, classes_path=\"../loaders/classes\", tarball_func=class_to_tarball_name_val, mmap_loc=\"/dev/shm/imagenet_train\", n_procs=16)\n",
    "\n",
    "%time X_train = loader_train.load_all().astype('float64')\n",
    "%time X_test = loader_val.load_all().astype('float64')\n",
    "\n",
    "%time X_train = normalize_images(X_train)\n",
    "%time X_test = normalize_images(X_test)\n",
    "\n",
    "%time mean_image = np.mean(X_train, axis=0)\n",
    "%time X_train -= mean_image\n",
    "%time X_test -= mean_image"
   ]
  },
  {
   "cell_type": "code",
   "execution_count": 463,
   "metadata": {
    "collapsed": false
   },
   "outputs": [],
   "source": [
    "y_train = loader_train.Y\n",
    "y_test = loader_val.Y"
   ]
  },
  {
   "cell_type": "code",
   "execution_count": 464,
   "metadata": {
    "collapsed": true
   },
   "outputs": [],
   "source": [
    "num_pixels = X_train.shape[1]*X_train.shape[2]*X_train.shape[3]"
   ]
  },
  {
   "cell_type": "code",
   "execution_count": 921,
   "metadata": {
    "collapsed": false
   },
   "outputs": [
    {
     "data": {
      "text/plain": [
       "196608"
      ]
     },
     "execution_count": 921,
     "metadata": {},
     "output_type": "execute_result"
    }
   ],
   "source": [
    "num_pixels"
   ]
  },
  {
   "cell_type": "code",
   "execution_count": 470,
   "metadata": {
    "collapsed": true
   },
   "outputs": [],
   "source": [
    "%time X_train_flat = X_train.reshape(X_train.shape[0], -1) / np.sqrt(num_pixels)\n",
    "%time X_test_flat = X_test.reshape(X_test.shape[0], -1)  / np.sqrt(num_pixels)"
   ]
  },
  {
   "cell_type": "code",
   "execution_count": 922,
   "metadata": {
    "collapsed": false
   },
   "outputs": [
    {
     "data": {
      "text/plain": [
       "array([[ -2.03486261e-04,  -2.20109386e-04,  -1.79659784e-04, ...,\n",
       "          2.96890380e-04,   3.02852941e-04,   3.03848768e-04],\n",
       "       [ -5.44885060e-05,  -7.43944000e-05,  -8.84689705e-05, ...,\n",
       "         -4.26344990e-04,  -3.78707015e-04,  -3.23238227e-04],\n",
       "       [ -1.14394453e-04,  -1.16142693e-04,  -1.16599023e-04, ...,\n",
       "          7.24585938e-04,   7.26829778e-04,   7.27825605e-04],\n",
       "       ..., \n",
       "       [  1.54596231e-04,   2.10270672e-04,   8.34844417e-05, ...,\n",
       "         -3.36185703e-04,  -2.88003717e-04,  -3.21461499e-04],\n",
       "       [  3.04049863e-04,   2.72234284e-04,   2.86811623e-04, ...,\n",
       "         -6.31025631e-05,  -9.59372845e-05,  -1.45053689e-04],\n",
       "       [ -2.93694146e-04,  -5.33300616e-05,   2.58411080e-04, ...,\n",
       "         -7.02395444e-05,  -1.18966720e-04,  -4.78857462e-05]])"
      ]
     },
     "execution_count": 922,
     "metadata": {},
     "output_type": "execute_result"
    }
   ],
   "source": [
    "X_train_flat"
   ]
  },
  {
   "cell_type": "code",
   "execution_count": 472,
   "metadata": {
    "collapsed": false
   },
   "outputs": [],
   "source": [
    "K_train_flat = X_train_flat.dot(X_train_flat.T)\n",
    "K_test_flat = X_test_flat.dot(X_train_flat.T)"
   ]
  },
  {
   "cell_type": "code",
   "execution_count": 475,
   "metadata": {
    "collapsed": false
   },
   "outputs": [
    {
     "data": {
      "text/plain": [
       "array([ -6.21157495e-21,  -6.77626358e-21,  -9.03501810e-21, ...,\n",
       "         2.37169225e-20,  -5.19513541e-20,  -9.03501810e-21])"
      ]
     },
     "execution_count": 475,
     "metadata": {},
     "output_type": "execute_result"
    }
   ],
   "source": [
    "np.mean(X_train_flat, axis=1)"
   ]
  },
  {
   "cell_type": "code",
   "execution_count": 473,
   "metadata": {
    "collapsed": true
   },
   "outputs": [],
   "source": [
    "results_flat = {}"
   ]
  },
  {
   "cell_type": "code",
   "execution_count": 476,
   "metadata": {
    "collapsed": false
   },
   "outputs": [
    {
     "name": "stdout",
     "output_type": "stream",
     "text": [
      "Learning Dual Model\n",
      "reg is 0.0001\n",
      "0.0001 (0.99761538461538457, 0.23000000000000001)\n",
      "Learning Dual Model\n",
      "reg is 0.01\n",
      "0.01 (0.8223076923076923, 0.34599999999999997)\n",
      "Learning Dual Model\n",
      "reg is 0.1\n",
      "0.1 (0.52746153846153843, 0.376)\n",
      "Learning Dual Model\n",
      "reg is 10.0\n",
      "10.0 (0.34069230769230768, 0.32200000000000001)\n",
      "Learning Dual Model\n",
      "reg is 10\n",
      "10 (0.34069230769230768, 0.32200000000000001)\n",
      "Learning Dual Model\n",
      "reg is 1000\n",
      "1000 (0.29215384615384615, 0.27000000000000002)\n",
      "Learning Dual Model\n",
      "reg is 10000\n",
      "10000 (0.29069230769230769, 0.27200000000000002)\n"
     ]
    }
   ],
   "source": [
    "for reg in [1e-4, 1e-2, 1e-1, 1e1, 10, 1000, 10000]:\n",
    "    acc = opt.trainAndEvaluateDualModel(KTrain=K_train_flat, KTest=K_test_flat, labelsTrain=y_train.astype('int'), \n",
    "                                                                      labelsTest=y_test.astype('int'),\n",
    "                                                                      reg=reg)\n",
    "    print(reg, acc)\n",
    "    results_flat[(0,reg)] = acc"
   ]
  },
  {
   "cell_type": "code",
   "execution_count": 479,
   "metadata": {
    "collapsed": false
   },
   "outputs": [
    {
     "name": "stdout",
     "output_type": "stream",
     "text": [
      "Learning Dual Model\n",
      "reg is 1e-05\n",
      "1000.0 1e-05 (0.99815384615384617, 0.38)\n",
      "Learning Dual Model\n",
      "reg is 0.0001\n",
      "1000.0 0.0001 (0.99815384615384617, 0.38)\n",
      "Learning Dual Model\n",
      "reg is 0.1\n",
      "1000.0 0.1 (0.99807692307692308, 0.378)\n",
      "Learning Dual Model\n",
      "reg is 1\n",
      "1000.0 1 (0.998, 0.38)\n",
      "Learning Dual Model\n",
      "reg is 10\n",
      "1000.0 10 (0.98969230769230765, 0.38)\n",
      "Learning Dual Model\n",
      "reg is 100\n",
      "1000.0 100 (0.97769230769230764, 0.35399999999999998)\n"
     ]
    }
   ],
   "source": [
    "for gamma in [1e3]:\n",
    "    K_train_rbf_pixels = linalg.computeRBFGramMatrix(X_train_flat, X_train_flat, gamma=gamma)\n",
    "    K_test_rbf_pixels = linalg.computeRBFGramMatrix(X_test_flat, X_train_flat, gamma=gamma)\n",
    "    for reg in [1e-5, 1e-4, 1e-1, 1, 10, 100]:\n",
    "        acc = opt.trainAndEvaluateDualModel(KTrain=K_train_rbf_pixels, KTest=K_test_rbf_pixels, labelsTrain=y_train.astype('int'), \n",
    "                                                                      labelsTest=y_test.astype('int'),\n",
    "                                                                      reg=reg)\n",
    "        print(gamma, reg, acc)\n",
    "        results_flat[(gamma,reg)] = acc"
   ]
  },
  {
   "cell_type": "code",
   "execution_count": 459,
   "metadata": {
    "collapsed": true
   },
   "outputs": [],
   "source": [
    "def normalize_images(images, min_divisor=1e-8):\n",
    "    orig_shape = images.shape\n",
    "    images = images.reshape(images.shape[0], -1)\n",
    "    print(\"PRE PROCESSING\")\n",
    "    n_images = images.shape[0]\n",
    "    # Zero mean every feature\n",
    "    images = images - np.mean(images, axis=1)[:,np.newaxis]\n",
    "    # Normalize\n",
    "    image_norms = np.linalg.norm(images, axis=1)/55.0\n",
    "    # Get rid of really small norms\n",
    "    image_norms[np.where(image_norms < min_divisor)] = 1\n",
    "    # Make features unit norm\n",
    "    images_normalized = images/image_norms[:,np.newaxis]\n",
    "    return images_normalized.reshape(orig_shape)"
   ]
  },
  {
   "cell_type": "code",
   "execution_count": 800,
   "metadata": {
    "collapsed": false
   },
   "outputs": [],
   "source": [
    "def normalize_patches(patches, min_divisor=1e-8, zca_bias=0.1):\n",
    "\n",
    "    orig_shape = patches.shape\n",
    "    patches = patches.reshape(patches.shape[0], -1)\n",
    "    print(\"PRE PROCESSING\")\n",
    "    n_patches = patches.shape[0]\n",
    "\n",
    "    # Zero mean every feature\n",
    "    patches = patches - np.mean(patches, axis=1)[:,np.newaxis]\n",
    "\n",
    "    # Normalize\n",
    "    patch_norms = np.linalg.norm(patches, axis=1)/55.0\n",
    "\n",
    "    # Get rid of really small norms\n",
    "    patch_norms[np.where(patch_norms < min_divisor)] = 1\n",
    "\n",
    "    # Make features unit norm\n",
    "    patches = patches/patch_norms[:,np.newaxis]\n",
    "\n",
    "\n",
    "    whitening_means = np.mean(patches, axis=0)\n",
    "    \n",
    "    data_means = np.mean(patches, axis=1)\n",
    "\n",
    "\n",
    "    zeroCenterPatches = (patches - whitening_means[np.newaxis, :])\n",
    "\n",
    "    patchesCovMat = 1.0/n_patches * zeroCenterPatches.T.dot(zeroCenterPatches)\n",
    "\n",
    "    (E,V) = np.linalg.eig(patchesCovMat)\n",
    "\n",
    "    E += zca_bias\n",
    "    sqrt_zca_eigs = np.sqrt(E)\n",
    "    \n",
    "    inv_sqrt_zca_eigs = np.diag(np.power(sqrt_zca_eigs, -1))\n",
    "    \n",
    "    global_ZCA = V.dot(inv_sqrt_zca_eigs).dot(V.T)\n",
    "    \n",
    "    patches_normalized = (patches - whitening_means).dot(global_ZCA)\n",
    "\n",
    "    return patches_normalized.reshape(orig_shape)\n",
    "\n",
    "\n",
    "\n",
    "\n",
    "@jit(nopython=True, nogil=True, cache=True)\n",
    "def __grab_patches(images, patch_size=6, tot_patches=1e6, seed=0, scale_pixels=1.0/255.0):\n",
    "    np.random.seed(seed)\n",
    "    tot_patches = int(tot_patches)\n",
    "    im_idxs = np.random.choice(images.shape[0], tot_patches)\n",
    "    idxs_x = np.random.choice(images.shape[3] - patch_size - 1, tot_patches)\n",
    "    idxs_y = np.random.choice(images.shape[2] - patch_size - 1, tot_patches)\n",
    "    idxs_x += int(math.ceil(patch_size/2))\n",
    "    idxs_y += int(math.ceil(patch_size/2))\n",
    "    patches = np.zeros((tot_patches, images.shape[1], patch_size, patch_size), dtype=np.float32)\n",
    "    for i, (im_idx, idx_x, idx_y) in enumerate(zip(im_idxs, idxs_x, idxs_y)):\n",
    "        out_patch = patches[i, :, :, :]\n",
    "        grab_patch_from_idx(images[im_idx], idx_x, idx_y, patch_size, out_patch, scale_pixels)\n",
    "    return patches\n",
    "    \n",
    "@jit(nopython=True, nogil=True)\n",
    "def grab_patch_from_idx(im, idx_x, idx_y, patch_size, outpatch, scale_pixels=1.0/255.0):\n",
    "    sidx_x = int(idx_x - patch_size/2)\n",
    "    eidx_x = int(idx_x + patch_size/2)\n",
    "    sidx_y = int(idx_y - patch_size/2)\n",
    "    eidx_y = int(idx_y + patch_size/2)\n",
    "    outpatch[:,:,:] = im[:, sidx_x:eidx_x, sidx_y:eidx_y,].astype(np.float32)*scale_pixels\n",
    "    return outpatch\n",
    "\n",
    "def grab_patches(images, patch_size=6, tot_patches=1e6, seed=0, max_threads=50, scale_pixels=1.0/255.0):\n",
    "    idxs = misc.chunk_idxs(images.shape[0], max_threads)\n",
    "    tot_patches = int(tot_patches)\n",
    "    patches_per_thread = int(tot_patches/max_threads)\n",
    "    with fs.ThreadPoolExecutor(max_workers=max_threads) as executor:\n",
    "        futures = []\n",
    "        for i,(sidx, eidx) in enumerate(idxs):\n",
    "            futures.append(executor.submit(__grab_patches, images[sidx:eidx, :], \n",
    "                                           patch_size=patch_size,\n",
    "                                           tot_patches=patches_per_thread,\n",
    "                                           seed=seed+i))\n",
    "            \n",
    "        results = np.vstack(list(map(lambda x: x.result(), futures)))\n",
    "    return results "
   ]
  },
  {
   "cell_type": "code",
   "execution_count": 897,
   "metadata": {
    "collapsed": false
   },
   "outputs": [
    {
     "name": "stdout",
     "output_type": "stream",
     "text": [
      "CPU times: user 28.3 s, sys: 1.49 s, total: 29.8 s\n",
      "Wall time: 1.5 s\n"
     ]
    }
   ],
   "source": [
    "patch_size = 12\n",
    "%time patches = grab_patches(X_train, patch_size=patch_size)"
   ]
  },
  {
   "cell_type": "code",
   "execution_count": 898,
   "metadata": {
    "collapsed": false
   },
   "outputs": [
    {
     "name": "stdout",
     "output_type": "stream",
     "text": [
      "PRE PROCESSING\n"
     ]
    }
   ],
   "source": [
    "patches_normalized = normalize_patches(patches)"
   ]
  },
  {
   "cell_type": "code",
   "execution_count": 899,
   "metadata": {
    "collapsed": false
   },
   "outputs": [],
   "source": [
    "reload(filter_gen)\n",
    "patches_mmap_data = np.memmap(\"/dev/shm/imagenet_patches\", shape=patches.shape, dtype=patches.dtype, mode=\"w+\")\n",
    "np.copyto(patches_mmap_data, patches)\n",
    "patches_mmap = multigpu.MmapArray(patches_mmap_data, mode=\"r+\")\n",
    "\n",
    "patches_normalized_mmap_data = np.memmap(\"/dev/shm/imagenet_patches_normalized\", shape=patches.shape, dtype=patches.dtype, mode=\"w+\")\n",
    "np.copyto(patches_normalized_mmap_data, patches_normalized)\n",
    "patches_normalized_mmap = multigpu.MmapArray(patches_normalized_mmap_data, mode=\"r+\")\n",
    "\n",
    "fg_patches = filter_gen.make_empirical_filter_gen(patches_mmap, seed=0)\n",
    "fg_patches_normalized = filter_gen.make_empirical_filter_gen(patches_normalized_mmap, seed=0)"
   ]
  },
  {
   "cell_type": "code",
   "execution_count": 1162,
   "metadata": {
    "collapsed": true
   },
   "outputs": [],
   "source": [
    "def make_gabor_filter_gen(freq=0.2, patch_size=12, channels=3, seed=0):\n",
    "    np.random.seed(seed)\n",
    "    def gabor_filter_gen(num_filters):\n",
    "        out = np.zeros((num_filters, channels, patch_size, patch_size))\n",
    "        for f in range(num_filters):\n",
    "            for c in range(channels):\n",
    "                theta = np.random.uniform(0, 2*math.pi)\n",
    "                gamma = np.random.uniform(0.1, 1)\n",
    "                gk = gabor_kernel(freq, theta, gamma).real\n",
    "                scale = float(patch_size)/gk.shape[0]\n",
    "                gk_scaled = rescale(gk, scale)\n",
    "                out[f,c]  = gk_scaled\n",
    "        return out\n",
    "    return gabor_filter_gen\n",
    "\n"
   ]
  },
  {
   "cell_type": "code",
   "execution_count": 1145,
   "metadata": {
    "collapsed": false
   },
   "outputs": [],
   "source": [
    "gabor_filters = make_gabor_filter_gen()(1024)"
   ]
  },
  {
   "cell_type": "code",
   "execution_count": 1188,
   "metadata": {
    "collapsed": false
   },
   "outputs": [
    {
     "data": {
      "text/plain": [
       "array([[[[ -8.61619518e-06,  -6.32587313e-05,   3.24320346e-04,\n",
       "            1.06092527e-04,  -1.09860440e-04,   2.16927646e-06],\n",
       "         [  7.18469215e-05,  -8.00250617e-04,  -7.22630607e-04,\n",
       "            2.82063256e-03,  -4.36004437e-05,  -1.03271744e-04],\n",
       "         [  2.63063036e-04,   8.00012203e-04,  -8.21327293e-03,\n",
       "           -8.18871016e-05,   2.53643826e-03,  -1.38814377e-04],\n",
       "         [ -1.38814377e-04,   2.53643826e-03,  -8.18871016e-05,\n",
       "           -8.21327293e-03,   8.00012203e-04,   2.63063036e-04],\n",
       "         [ -1.03271744e-04,  -4.36004437e-05,   2.82063256e-03,\n",
       "           -7.22630607e-04,  -8.00250617e-04,   7.18469215e-05],\n",
       "         [  2.16927646e-06,  -1.09860440e-04,   1.06092527e-04,\n",
       "            3.24320346e-04,  -6.32587313e-05,  -8.61619518e-06]],\n",
       "\n",
       "        [[  3.14266727e-05,   3.15391422e-05,  -4.54185110e-04,\n",
       "            4.21528570e-04,  -2.51998067e-06,  -3.49871074e-05],\n",
       "         [ -1.61864662e-04,  -1.20366025e-04,   2.23071067e-03,\n",
       "           -2.15160966e-03,   5.00755137e-05,   1.70488783e-04],\n",
       "         [  3.78101680e-04,   2.09593127e-04,  -5.02603694e-03,\n",
       "            4.99281316e-03,  -1.80069904e-04,  -3.81723960e-04],\n",
       "         [ -3.81723960e-04,  -1.80069904e-04,   4.99281316e-03,\n",
       "           -5.02603694e-03,   2.09593127e-04,   3.78101680e-04],\n",
       "         [  1.70488783e-04,   5.00755137e-05,  -2.15160966e-03,\n",
       "            2.23071067e-03,  -1.20366025e-04,  -1.61864662e-04],\n",
       "         [ -3.49871074e-05,  -2.51998067e-06,   4.21528570e-04,\n",
       "           -4.54185110e-04,   3.15391422e-05,   3.14266727e-05]],\n",
       "\n",
       "        [[  9.96022498e-06,   1.17642326e-04,  -4.85425337e-04,\n",
       "            1.15889082e-04,   1.36674336e-04,  -2.95983185e-05],\n",
       "         [  1.08114762e-04,  -1.08753899e-03,   1.18169214e-03,\n",
       "            1.94376906e-03,  -1.06341873e-03,   5.79801704e-05],\n",
       "         [ -4.53936995e-04,   1.38364126e-03,   3.72110976e-03,\n",
       "           -7.23810855e-03,   1.03677455e-03,   2.67034763e-04],\n",
       "         [  2.67034763e-04,   1.03677455e-03,  -7.23810855e-03,\n",
       "            3.72110976e-03,   1.38364126e-03,  -4.53936995e-04],\n",
       "         [  5.79801704e-05,  -1.06341873e-03,   1.94376906e-03,\n",
       "            1.18169214e-03,  -1.08753899e-03,   1.08114762e-04],\n",
       "         [ -2.95983185e-05,   1.36674336e-04,   1.15889082e-04,\n",
       "           -4.85425337e-04,   1.17642326e-04,   9.96022498e-06]]],\n",
       "\n",
       "\n",
       "       [[[  1.34810583e-05,  -1.47337170e-05,  -1.76504758e-04,\n",
       "            3.47207474e-04,  -1.63472673e-04,   2.12615625e-05],\n",
       "         [  1.46747673e-04,  -1.33736043e-03,   3.32907523e-03,\n",
       "           -2.29775999e-03,   2.60711083e-04,   6.31528808e-05],\n",
       "         [ -2.49150630e-04,  -1.19975258e-04,   5.01199883e-03,\n",
       "           -8.44243396e-03,   3.70120394e-03,  -4.49035728e-04],\n",
       "         [ -4.49035728e-04,   3.70120394e-03,  -8.44243396e-03,\n",
       "            5.01199883e-03,  -1.19975258e-04,  -2.49150630e-04],\n",
       "         [  6.31528808e-05,   2.60711083e-04,  -2.29775999e-03,\n",
       "            3.32907523e-03,  -1.33736043e-03,   1.46747673e-04],\n",
       "         [  2.12615625e-05,  -1.63472673e-04,   3.47207474e-04,\n",
       "           -1.76504758e-04,  -1.47337170e-05,   1.34810583e-05]],\n",
       "\n",
       "        [[ -1.48561006e-06,   4.22018303e-05,   1.23487452e-04,\n",
       "           -3.74029561e-05,  -5.06536663e-05,  -2.98199794e-06],\n",
       "         [ -4.48494639e-05,  -2.65442821e-04,   4.83585237e-04,\n",
       "            1.12910277e-03,   1.07107984e-04,  -3.88457212e-05],\n",
       "         [  7.27449624e-05,  -6.26646947e-04,  -3.01235629e-03,\n",
       "           -2.80590674e-04,   9.49950785e-04,   9.81522008e-05],\n",
       "         [  9.81522008e-05,   9.49950785e-04,  -2.80590674e-04,\n",
       "           -3.01235629e-03,  -6.26646947e-04,   7.27449624e-05],\n",
       "         [ -3.88457212e-05,   1.07107984e-04,   1.12910277e-03,\n",
       "            4.83585237e-04,  -2.65442821e-04,  -4.48494639e-05],\n",
       "         [ -2.98199794e-06,  -5.06536663e-05,  -3.74029561e-05,\n",
       "            1.23487452e-04,   4.22018303e-05,  -1.48561006e-06]],\n",
       "\n",
       "        [[ -3.28667819e-06,   8.13295318e-05,   7.02459110e-05,\n",
       "           -2.23806404e-04,  -2.70816509e-05,   1.03385553e-05],\n",
       "         [  4.98622300e-06,   6.15087698e-04,  -1.15742740e-04,\n",
       "           -1.70643989e-03,   2.86296052e-05,   7.86929038e-05],\n",
       "         [  1.03084748e-04,   1.36946779e-03,  -2.25191652e-03,\n",
       "           -3.84189346e-03,   7.83275223e-04,   1.76758057e-04],\n",
       "         [  1.76758057e-04,   7.83275223e-04,  -3.84189346e-03,\n",
       "           -2.25191652e-03,   1.36946779e-03,   1.03084748e-04],\n",
       "         [  7.86929038e-05,   2.86296052e-05,  -1.70643989e-03,\n",
       "           -1.15742740e-04,   6.15087698e-04,   4.98622300e-06],\n",
       "         [  1.03385553e-05,  -2.70816509e-05,  -2.23806404e-04,\n",
       "            7.02459110e-05,   8.13295318e-05,  -3.28667819e-06]]],\n",
       "\n",
       "\n",
       "       [[[  1.38881299e-05,  -1.35412495e-04,   3.60180828e-04,\n",
       "           -2.67543925e-04,   4.26711353e-05,   2.84498236e-06],\n",
       "         [  5.56942572e-05,   1.24490731e-04,  -1.79153694e-03,\n",
       "            2.86136289e-03,  -1.19552300e-03,   1.37549655e-04],\n",
       "         [ -3.97348359e-04,   3.60725816e-03,  -9.01076892e-03,\n",
       "            6.08106382e-03,  -6.74249551e-04,  -1.31847700e-04],\n",
       "         [ -1.31847700e-04,  -6.74249551e-04,   6.08106382e-03,\n",
       "           -9.01076892e-03,   3.60725816e-03,  -3.97348359e-04],\n",
       "         [  1.37549655e-04,  -1.19552300e-03,   2.86136289e-03,\n",
       "           -1.79153694e-03,   1.24490731e-04,   5.56942572e-05],\n",
       "         [  2.84498236e-06,   4.26711353e-05,  -2.67543925e-04,\n",
       "            3.60180828e-04,  -1.35412495e-04,   1.38881299e-05]],\n",
       "\n",
       "        [[ -2.25553384e-06,   1.07400806e-05,  -1.79613701e-05,\n",
       "            6.84055731e-06,   2.06112536e-06,  -1.13288848e-06],\n",
       "         [  3.26929176e-06,  -4.55779229e-05,   1.68844545e-04,\n",
       "           -2.02560026e-04,   8.43879304e-05,  -1.35421282e-05],\n",
       "         [  3.43512852e-05,  -1.89471420e-04,   3.96808007e-04,\n",
       "           -2.70452928e-04,   4.40236515e-05,   4.14809251e-06],\n",
       "         [  4.14809251e-06,   4.40236515e-05,  -2.70452928e-04,\n",
       "            3.96808007e-04,  -1.89471420e-04,   3.43512852e-05],\n",
       "         [ -1.35421282e-05,   8.43879304e-05,  -2.02560026e-04,\n",
       "            1.68844545e-04,  -4.55779229e-05,   3.26929176e-06],\n",
       "         [ -1.13288848e-06,   2.06112536e-06,   6.84055731e-06,\n",
       "           -1.79613701e-05,   1.07400806e-05,  -2.25553384e-06]],\n",
       "\n",
       "        [[  9.43536282e-06,   8.90213149e-06,  -2.97723353e-04,\n",
       "            2.22169669e-04,   3.61670947e-05,  -1.06942299e-05],\n",
       "         [  5.12010954e-05,   6.12069054e-04,  -3.02053709e-03,\n",
       "            6.46051242e-04,   8.04357452e-04,  -9.07645141e-05],\n",
       "         [ -5.34937931e-06,   2.96517954e-03,  -7.23324448e-03,\n",
       "           -3.07402212e-03,   3.18330335e-03,  -1.66389148e-04],\n",
       "         [ -1.66389148e-04,   3.18330335e-03,  -3.07402212e-03,\n",
       "           -7.23324448e-03,   2.96517954e-03,  -5.34937931e-06],\n",
       "         [ -9.07645141e-05,   8.04357452e-04,   6.46051242e-04,\n",
       "           -3.02053709e-03,   6.12069054e-04,   5.12010954e-05],\n",
       "         [ -1.06942299e-05,   3.61670947e-05,   2.22169669e-04,\n",
       "           -2.97723353e-04,   8.90213149e-06,   9.43536282e-06]]],\n",
       "\n",
       "\n",
       "       ..., \n",
       "       [[[ -2.59107806e-05,   1.27558906e-04,   2.10520678e-04,\n",
       "           -5.27553732e-04,   9.08899852e-05,   1.47616283e-05],\n",
       "         [  1.88115564e-04,  -5.74268733e-04,  -2.40520383e-03,\n",
       "            3.63644624e-03,  -2.74108230e-04,  -1.44816264e-04],\n",
       "         [ -4.82072083e-04,   7.77280295e-04,   7.89411413e-03,\n",
       "           -8.93668563e-03,  -5.89053915e-05,   4.45407804e-04],\n",
       "         [  4.45407804e-04,  -5.89053915e-05,  -8.93668563e-03,\n",
       "            7.89411413e-03,   7.77280295e-04,  -4.82072083e-04],\n",
       "         [ -1.44816264e-04,  -2.74108230e-04,   3.63644624e-03,\n",
       "           -2.40520383e-03,  -5.74268733e-04,   1.88115564e-04],\n",
       "         [  1.47616283e-05,   9.08899852e-05,  -5.27553732e-04,\n",
       "            2.10520678e-04,   1.27558906e-04,  -2.59107806e-05]],\n",
       "\n",
       "        [[ -1.37730148e-05,   8.97737144e-05,  -2.40950833e-04,\n",
       "            2.67870426e-04,  -1.18532326e-04,   2.23246552e-05],\n",
       "         [  1.22854663e-04,  -6.52095547e-04,   1.47321150e-03,\n",
       "           -1.32455032e-03,   4.93278543e-04,  -7.56289515e-05],\n",
       "         [  1.88799110e-04,  -1.22758103e-03,   3.28916126e-03,\n",
       "           -3.65025437e-03,   1.61334231e-03,  -3.03508809e-04],\n",
       "         [ -3.03508809e-04,   1.61334231e-03,  -3.65025437e-03,\n",
       "            3.28916126e-03,  -1.22758103e-03,   1.88799110e-04],\n",
       "         [ -7.56289515e-05,   4.93278543e-04,  -1.32455032e-03,\n",
       "            1.47321150e-03,  -6.52095547e-04,   1.22854663e-04],\n",
       "         [  2.23246552e-05,  -1.18532326e-04,   2.67870426e-04,\n",
       "           -2.40950833e-04,   8.97737144e-05,  -1.37730148e-05]],\n",
       "\n",
       "        [[ -7.21479565e-07,   5.53884520e-06,  -1.56465442e-05,\n",
       "            1.36617904e-05,  -3.86346746e-06,   4.18887447e-07],\n",
       "         [  5.59708508e-06,  -4.42112726e-05,   1.30161562e-04,\n",
       "           -1.20780784e-04,   3.62927352e-05,  -4.16690791e-06],\n",
       "         [ -1.49391126e-05,   1.21349964e-04,  -3.71063274e-04,\n",
       "            3.62233648e-04,  -1.13896666e-04,   1.35929630e-05],\n",
       "         [  1.35929630e-05,  -1.13896666e-04,   3.62233648e-04,\n",
       "           -3.71063274e-04,   1.21349964e-04,  -1.49391126e-05],\n",
       "         [ -4.16690791e-06,   3.62927352e-05,  -1.20780784e-04,\n",
       "            1.30161562e-04,  -4.42112726e-05,   5.59708508e-06],\n",
       "         [  4.18887447e-07,  -3.86346746e-06,   1.36617904e-05,\n",
       "           -1.56465442e-05,   5.53884520e-06,  -7.21479565e-07]]],\n",
       "\n",
       "\n",
       "       [[[  7.63095408e-06,  -3.00193837e-05,   5.94906449e-05,\n",
       "           -5.95814974e-05,   3.00364516e-05,  -7.54806116e-06],\n",
       "         [  2.09049051e-05,  -8.11067278e-05,   1.60544574e-04,\n",
       "           -1.61389084e-04,   8.12653803e-05,  -2.01343826e-05],\n",
       "         [  1.51708816e-05,  -5.59425824e-05,   1.10242493e-04,\n",
       "           -1.12391703e-04,   5.63463406e-05,  -1.32099621e-05],\n",
       "         [ -1.32099621e-05,   5.63463406e-05,  -1.12391703e-04,\n",
       "            1.10242493e-04,  -5.59425824e-05,   1.51708816e-05],\n",
       "         [ -2.01343826e-05,   8.12653803e-05,  -1.61389084e-04,\n",
       "            1.60544574e-04,  -8.11067278e-05,   2.09049051e-05],\n",
       "         [ -7.54806116e-06,   3.00364516e-05,  -5.95814974e-05,\n",
       "            5.94906449e-05,  -3.00193837e-05,   7.63095408e-06]],\n",
       "\n",
       "        [[ -4.92053609e-06,  -7.09380521e-05,  -1.13835020e-06,\n",
       "            2.32347194e-04,   5.16713255e-05,  -3.45593119e-06],\n",
       "         [  1.12235484e-05,  -6.35004212e-04,  -1.82778619e-03,\n",
       "            7.60120207e-04,   7.23973251e-04,   2.74569320e-05],\n",
       "         [  1.93201285e-04,  -4.58913872e-04,  -7.40777260e-03,\n",
       "           -3.87027610e-03,   1.39871824e-03,   2.15391244e-04],\n",
       "         [  2.15391244e-04,   1.39871824e-03,  -3.87027610e-03,\n",
       "           -7.40777260e-03,  -4.58913872e-04,   1.93201285e-04],\n",
       "         [  2.74569320e-05,   7.23973251e-04,   7.60120207e-04,\n",
       "           -1.82778619e-03,  -6.35004212e-04,   1.12235484e-05],\n",
       "         [ -3.45593119e-06,   5.16713255e-05,   2.32347194e-04,\n",
       "           -1.13835020e-06,  -7.09380521e-05,  -4.92053609e-06]],\n",
       "\n",
       "        [[ -2.97907000e-05,  -6.97230117e-04,   1.86743725e-03,\n",
       "           -1.04392639e-03,  -2.53697027e-04,   2.71717519e-04],\n",
       "         [ -8.08268506e-04,   3.16089614e-03,  -2.71235437e-03,\n",
       "           -2.76997229e-03,   3.16967397e-03,  -8.02301448e-04],\n",
       "         [  1.72245440e-03,  -1.68567321e-03,  -6.43032881e-03,\n",
       "            1.17482933e-02,  -4.45510412e-03,  -1.60169917e-04],\n",
       "         [ -1.60169917e-04,  -4.45510412e-03,   1.17482933e-02,\n",
       "           -6.43032881e-03,  -1.68567321e-03,   1.72245440e-03],\n",
       "         [ -8.02301448e-04,   3.16967397e-03,  -2.76997229e-03,\n",
       "           -2.71235437e-03,   3.16089614e-03,  -8.08268506e-04],\n",
       "         [  2.71717519e-04,  -2.53697027e-04,  -1.04392639e-03,\n",
       "            1.86743725e-03,  -6.97230117e-04,  -2.97907000e-05]]],\n",
       "\n",
       "\n",
       "       [[[  1.92313372e-05,   1.20961587e-04,  -6.36273443e-04,\n",
       "            3.66589750e-04,   1.00895213e-04,  -4.06561051e-05],\n",
       "         [ -1.60613557e-04,  -4.11723807e-04,   3.67167694e-03,\n",
       "           -2.82882294e-03,  -2.81654756e-04,   2.27573302e-04],\n",
       "         [  4.61228406e-04,   4.26767912e-04,  -8.47060662e-03,\n",
       "            7.82953032e-03,   1.00617096e-04,  -5.12158111e-04],\n",
       "         [ -5.12158111e-04,   1.00617096e-04,   7.82953032e-03,\n",
       "           -8.47060662e-03,   4.26767912e-04,   4.61228406e-04],\n",
       "         [  2.27573302e-04,  -2.81654756e-04,  -2.82882294e-03,\n",
       "            3.67167694e-03,  -4.11723807e-04,  -1.60613557e-04],\n",
       "         [ -4.06561051e-05,   1.00895213e-04,   3.66589750e-04,\n",
       "           -6.36273443e-04,   1.20961587e-04,   1.92313372e-05]],\n",
       "\n",
       "        [[  2.25935863e-05,   6.36583648e-05,   5.86681204e-05,\n",
       "           -1.31410161e-05,  -4.55330132e-05,  -2.02124500e-05],\n",
       "         [ -4.21452665e-05,  -2.44370597e-04,  -5.42374379e-04,\n",
       "           -4.91701003e-04,  -1.67317786e-04,  -1.19384364e-05],\n",
       "         [ -8.85380637e-05,  -7.35248041e-05,   3.76415881e-04,\n",
       "            7.74443803e-04,   5.31707613e-04,   1.48729762e-04],\n",
       "         [  1.48729762e-04,   5.31707613e-04,   7.74443803e-04,\n",
       "            3.76415881e-04,  -7.35248041e-05,  -8.85380637e-05],\n",
       "         [ -1.19384364e-05,  -1.67317786e-04,  -4.91701003e-04,\n",
       "           -5.42374379e-04,  -2.44370597e-04,  -4.21452665e-05],\n",
       "         [ -2.02124500e-05,  -4.55330132e-05,  -1.31410161e-05,\n",
       "            5.86681204e-05,   6.36583648e-05,   2.25935863e-05]],\n",
       "\n",
       "        [[  1.60521448e-05,   8.45172667e-05,   2.14999996e-04,\n",
       "            2.29634374e-04,   9.76537782e-05,   1.92537662e-05],\n",
       "         [ -4.79632894e-05,  -2.61756244e-04,  -7.12424510e-04,\n",
       "           -8.35928145e-04,  -3.72618964e-04,  -7.49826742e-05],\n",
       "         [  1.34578938e-05,   1.09763711e-04,   4.75635900e-04,\n",
       "            8.24487696e-04,   4.22909627e-04,   8.97775983e-05],\n",
       "         [  8.97775983e-05,   4.22909627e-04,   8.24487696e-04,\n",
       "            4.75635900e-04,   1.09763711e-04,   1.34578938e-05],\n",
       "         [ -7.49826742e-05,  -3.72618964e-04,  -8.35928145e-04,\n",
       "           -7.12424510e-04,  -2.61756244e-04,  -4.79632894e-05],\n",
       "         [  1.92537662e-05,   9.76537782e-05,   2.29634374e-04,\n",
       "            2.14999996e-04,   8.45172667e-05,   1.60521448e-05]]]])"
      ]
     },
     "execution_count": 1188,
     "metadata": {},
     "output_type": "execute_result"
    }
   ],
   "source": [
    "gabor_filters"
   ]
  },
  {
   "cell_type": "code",
   "execution_count": 1156,
   "metadata": {
    "collapsed": false
   },
   "outputs": [],
   "source": [
    "gpu_handler = multigpu.MultiGpuHandler(16)\n",
    "gpu_handler.kill_all_gpu_processes()\n",
    "gpu_handler.start_and_wait_for_gpu_init()"
   ]
  },
  {
   "cell_type": "code",
   "execution_count": 1171,
   "metadata": {
    "collapsed": false
   },
   "outputs": [],
   "source": [
    "conv_args_template = \\\n",
    "{ \n",
    "  \"num_feature_batches\":1,\n",
    "  \"data_batch_size\":8,\n",
    "  \"feature_batch_size\":1024,\n",
    "  \"pool_size\":70,\n",
    "  \"pool_type\":\"avg\",\n",
    "  \"pool_stride\":45,\n",
    "  \"patch_size\":patch_size,\n",
    "  \"pad\":0,\n",
    "  \"bias\":0,\n",
    "  \"conv_stride\":2,\n",
    "  \"scale_pixels\": 1.0/255.0\n",
    "}\n",
    "X_train_normalized = np.memmap(\"/dev/shm/X_train_normalized\", dtype='float32', shape=X_train.shape, mode=\"w+\")\n",
    "X_test_normalized = np.memmap(\"/dev/shm/X_test_normalized\", dtype='float32', shape=X_test.shape, mode=\"w+\")\n",
    "np.copyto(X_train_normalized, X_train.astype('float32'))\n",
    "np.copyto(X_test_normalized, X_test.astype('float32'))\n",
    "\n",
    "X_train_mmap = multigpu.MmapArray(X_train_normalized, mode=\"r+\")\n",
    "X_test_mmap = multigpu.MmapArray(X_test_normalized, mode=\"r+\")\n",
    "\n",
    "mmap_out_train_shape = conv.conv_compute_output_shape(data=X_train_mmap, **conv_args_template)\n",
    "X_train_lift = np.memmap(\"/dev/shm/X_train_lift\", mode=\"w+\", dtype=\"float32\", shape=mmap_out_train_shape)\n",
    "\n",
    "mmap_out_test_shape = conv.conv_compute_output_shape(data=X_test_mmap, **conv_args_template)\n",
    "X_test_lift = np.memmap(\"/dev/shm/X_test_lift\", mode=\"w+\", dtype=\"float32\", shape=mmap_out_test_shape)"
   ]
  },
  {
   "cell_type": "code",
   "execution_count": 1172,
   "metadata": {
    "collapsed": false
   },
   "outputs": [
    {
     "data": {
      "text/plain": [
       "0.70112854"
      ]
     },
     "execution_count": 1172,
     "metadata": {},
     "output_type": "execute_result"
    }
   ],
   "source": [
    "np.mean(np.var(patches_normalized, axis=(1,2,3)))"
   ]
  },
  {
   "cell_type": "code",
   "execution_count": 1173,
   "metadata": {
    "collapsed": false
   },
   "outputs": [],
   "source": [
    "fg_patches = filter_gen.make_empirical_filter_gen(patches_normalized_mmap, MIN_VAR_TOL=0.1, seed=0)"
   ]
  },
  {
   "cell_type": "code",
   "execution_count": 1174,
   "metadata": {
    "collapsed": false
   },
   "outputs": [
    {
     "data": {
      "text/plain": [
       "1.6505256"
      ]
     },
     "execution_count": 1174,
     "metadata": {},
     "output_type": "execute_result"
    }
   ],
   "source": [
    "np.mean(np.var(fg_patches(1024), axis=(1,2,3)))"
   ]
  },
  {
   "cell_type": "code",
   "execution_count": 1175,
   "metadata": {
    "collapsed": false
   },
   "outputs": [],
   "source": [
    "X_train_lift_mmap = multigpu.MmapArray(X_train_lift, mode=\"r+\")\n",
    "X_test_lift_mmap = multigpu.MmapArray(X_test_lift, mode=\"r+\")\n"
   ]
  },
  {
   "cell_type": "code",
   "execution_count": 1176,
   "metadata": {
    "collapsed": false
   },
   "outputs": [],
   "source": [
    "train_chunk_idxs = misc.chunk_idxs(X_train.shape[0], 16)\n",
    "test_chunk_idxs = misc.chunk_idxs(X_test.shape[0], 16)"
   ]
  },
  {
   "cell_type": "code",
   "execution_count": 1177,
   "metadata": {
    "collapsed": false
   },
   "outputs": [
    {
     "name": "stdout",
     "output_type": "stream",
     "text": [
      "CPU times: user 4 ms, sys: 0 ns, total: 4 ms\n",
      "Wall time: 21.1 s\n",
      "CPU times: user 0 ns, sys: 0 ns, total: 0 ns\n",
      "Wall time: 401 µs\n",
      "CPU times: user 0 ns, sys: 0 ns, total: 0 ns\n",
      "Wall time: 333 µs\n",
      "CPU times: user 0 ns, sys: 0 ns, total: 0 ns\n",
      "Wall time: 113 ms\n",
      "CPU times: user 0 ns, sys: 0 ns, total: 0 ns\n",
      "Wall time: 347 µs\n",
      "CPU times: user 4 ms, sys: 0 ns, total: 4 ms\n",
      "Wall time: 312 µs\n",
      "CPU times: user 0 ns, sys: 0 ns, total: 0 ns\n",
      "Wall time: 324 µs\n",
      "CPU times: user 4 ms, sys: 0 ns, total: 4 ms\n",
      "Wall time: 322 µs\n",
      "CPU times: user 0 ns, sys: 0 ns, total: 0 ns\n",
      "Wall time: 222 µs\n",
      "CPU times: user 0 ns, sys: 0 ns, total: 0 ns\n",
      "Wall time: 225 µs\n",
      "CPU times: user 0 ns, sys: 0 ns, total: 0 ns\n",
      "Wall time: 90.1 ms\n",
      "CPU times: user 4 ms, sys: 0 ns, total: 4 ms\n",
      "Wall time: 448 µs\n",
      "CPU times: user 0 ns, sys: 0 ns, total: 0 ns\n",
      "Wall time: 294 µs\n",
      "CPU times: user 0 ns, sys: 0 ns, total: 0 ns\n",
      "Wall time: 335 µs\n",
      "CPU times: user 4 ms, sys: 0 ns, total: 4 ms\n",
      "Wall time: 310 µs\n",
      "CPU times: user 0 ns, sys: 0 ns, total: 0 ns\n",
      "Wall time: 326 µs\n"
     ]
    }
   ],
   "source": [
    "gpu_results = []\n",
    "for gpu, (sidx, eidx) in list(zip(gpu_handler.gpus, train_chunk_idxs)):\n",
    "        fg_gabor =  make_gabor_filter_gen()\n",
    "        conv_args = conv_args_template.copy()\n",
    "        conv_args[\"filter_gen\"] = fg_gabor\n",
    "        X_train_mmap_gpu = copy.copy(X_train_mmap)\n",
    "        X_train_mmap_gpu.idxs = (sidx, eidx)\n",
    "        X_train_out_gpu = copy.copy(X_train_lift_mmap)\n",
    "        X_train_out_gpu.idxs = (sidx, eidx)\n",
    "        conv_args['data'] = X_train_mmap_gpu\n",
    "        conv_args['output'] = X_train_out_gpu\n",
    "        gpu_result = gpu.submit_async(conv.conv_mmap, **conv_args)\n",
    "        gpu_results.append(gpu_result)\n",
    "\n",
    "for gpu_result in gpu_results:\n",
    "    %time gpu_result.result()"
   ]
  },
  {
   "cell_type": "code",
   "execution_count": 1178,
   "metadata": {
    "collapsed": false
   },
   "outputs": [
    {
     "name": "stdout",
     "output_type": "stream",
     "text": [
      "CPU times: user 0 ns, sys: 0 ns, total: 0 ns\n",
      "Wall time: 4.52 s\n",
      "CPU times: user 0 ns, sys: 0 ns, total: 0 ns\n",
      "Wall time: 606 µs\n",
      "CPU times: user 0 ns, sys: 0 ns, total: 0 ns\n",
      "Wall time: 552 µs\n",
      "CPU times: user 0 ns, sys: 0 ns, total: 0 ns\n",
      "Wall time: 432 µs\n",
      "CPU times: user 0 ns, sys: 0 ns, total: 0 ns\n",
      "Wall time: 420 µs\n",
      "CPU times: user 0 ns, sys: 0 ns, total: 0 ns\n",
      "Wall time: 389 µs\n",
      "CPU times: user 0 ns, sys: 0 ns, total: 0 ns\n",
      "Wall time: 515 µs\n",
      "CPU times: user 0 ns, sys: 0 ns, total: 0 ns\n",
      "Wall time: 408 µs\n",
      "CPU times: user 0 ns, sys: 0 ns, total: 0 ns\n",
      "Wall time: 102 ms\n",
      "CPU times: user 0 ns, sys: 0 ns, total: 0 ns\n",
      "Wall time: 499 µs\n",
      "CPU times: user 0 ns, sys: 0 ns, total: 0 ns\n",
      "Wall time: 419 µs\n",
      "CPU times: user 4 ms, sys: 0 ns, total: 4 ms\n",
      "Wall time: 411 µs\n",
      "CPU times: user 0 ns, sys: 0 ns, total: 0 ns\n",
      "Wall time: 444 µs\n",
      "CPU times: user 4 ms, sys: 0 ns, total: 4 ms\n",
      "Wall time: 537 µs\n",
      "CPU times: user 0 ns, sys: 0 ns, total: 0 ns\n",
      "Wall time: 362 µs\n",
      "CPU times: user 4 ms, sys: 0 ns, total: 4 ms\n",
      "Wall time: 438 µs\n"
     ]
    }
   ],
   "source": [
    "gpu_results = []\n",
    "for gpu, (sidx, eidx) in list(zip(gpu_handler.gpus, test_chunk_idxs)):\n",
    "        fg_gabor =  make_gabor_filter_gen()\n",
    "        conv_args = conv_args_template.copy()\n",
    "        conv_args[\"filter_gen\"] = fg_gabor\n",
    "        X_test_mmap_gpu = copy.copy(X_test_mmap)\n",
    "        X_test_mmap_gpu.idxs = (sidx, eidx)\n",
    "        X_test_out_gpu = copy.copy(X_test_lift_mmap)\n",
    "        X_test_out_gpu.idxs = (sidx, eidx)\n",
    "        conv_args['data'] = X_test_mmap_gpu\n",
    "        conv_args['output'] = X_test_out_gpu\n",
    "        gpu_result = gpu.submit_async(conv.conv_mmap, **conv_args)\n",
    "        gpu_results.append(gpu_result)\n",
    "\n",
    "for gpu_result in gpu_results:\n",
    "    %time gpu_result.result()"
   ]
  },
  {
   "cell_type": "code",
   "execution_count": 1179,
   "metadata": {
    "collapsed": false
   },
   "outputs": [],
   "source": [
    "X_train_lift = X_train_lift_mmap.load()\n",
    "X_test_lift = X_test_lift_mmap.load()"
   ]
  },
  {
   "cell_type": "code",
   "execution_count": 1180,
   "metadata": {
    "collapsed": false
   },
   "outputs": [
    {
     "data": {
      "text/plain": [
       "0.0016672467614850428"
      ]
     },
     "execution_count": 1180,
     "metadata": {},
     "output_type": "execute_result"
    }
   ],
   "source": [
    "np.mean(np.sum(X_train_lift == 0, axis=(1,2,3)))/(len(X_train_lift[0].ravel()))"
   ]
  },
  {
   "cell_type": "code",
   "execution_count": 1182,
   "metadata": {
    "collapsed": false
   },
   "outputs": [
    {
     "data": {
      "text/plain": [
       "memmap([[[[  1.68576310e-06,   1.76462834e-06,   2.15534010e-06],\n",
       "         [  8.42288046e-07,   1.10896849e-06,   1.83296640e-06],\n",
       "         [  1.36745120e-06,   1.18212404e-06,   1.58550938e-06]],\n",
       "\n",
       "        [[  1.36457527e-06,   1.05265053e-06,   1.08104234e-06],\n",
       "         [  1.22339350e-06,   1.28804015e-06,   1.43423972e-06],\n",
       "         [  1.17704315e-06,   1.49169273e-06,   1.33975198e-06]],\n",
       "\n",
       "        [[  8.10402616e-06,   4.88999058e-06,   4.96770463e-06],\n",
       "         [  3.30113221e-06,   2.65290032e-06,   4.43238650e-06],\n",
       "         [  2.56084127e-06,   2.98058285e-06,   4.43225326e-06]],\n",
       "\n",
       "        ..., \n",
       "        [[  1.12608689e-06,   7.60248952e-07,   9.12704309e-07],\n",
       "         [  5.59873513e-07,   4.79085827e-07,   5.07451091e-07],\n",
       "         [  4.33952636e-07,   4.81558743e-07,   3.75638592e-07]],\n",
       "\n",
       "        [[  4.66529571e-07,   6.07429456e-07,   6.75793501e-07],\n",
       "         [  8.79428342e-07,   1.01144224e-06,   7.87393844e-07],\n",
       "         [  7.90464753e-07,   8.69270593e-07,   3.62175541e-07]],\n",
       "\n",
       "        [[  1.70372357e-06,   1.53588087e-06,   1.88854233e-06],\n",
       "         [  3.16322848e-06,   3.42368844e-06,   2.83044574e-06],\n",
       "         [  2.79442315e-06,   4.06881054e-06,   2.64724144e-06]]],\n",
       "\n",
       "\n",
       "       [[[  2.14108445e-06,   1.88832428e-06,   1.85392651e-06],\n",
       "         [  1.51571862e-06,   1.30353158e-06,   1.69383054e-06],\n",
       "         [  8.66207017e-07,   8.95434596e-07,   1.18494563e-06]],\n",
       "\n",
       "        [[  5.61043919e-07,   6.40844746e-07,   8.25698919e-07],\n",
       "         [  8.60388468e-07,   7.75772946e-07,   7.97945063e-07],\n",
       "         [  1.09200153e-06,   9.51775974e-07,   9.60127181e-07]],\n",
       "\n",
       "        [[  2.88475758e-06,   2.41271437e-06,   2.97679662e-06],\n",
       "         [  2.72969669e-06,   2.04649132e-06,   2.52165341e-06],\n",
       "         [  2.77634899e-06,   2.01857279e-06,   2.63496372e-06]],\n",
       "\n",
       "        ..., \n",
       "        [[  2.35016699e-07,   2.32125089e-07,   3.69006557e-07],\n",
       "         [  3.16030565e-07,   2.61660745e-07,   3.34375414e-07],\n",
       "         [  3.70982434e-07,   3.18254450e-07,   3.51507992e-07]],\n",
       "\n",
       "        [[  1.93190886e-07,   3.34418473e-07,   5.41900363e-07],\n",
       "         [  5.86749138e-07,   5.96635914e-07,   5.56617181e-07],\n",
       "         [  8.50380047e-07,   6.73594457e-07,   6.30026250e-07]],\n",
       "\n",
       "        [[  5.19929586e-07,   8.42615293e-07,   1.03625200e-06],\n",
       "         [  1.88256615e-06,   1.90193703e-06,   1.45536296e-06],\n",
       "         [  3.23595555e-06,   2.78589982e-06,   2.26116663e-06]]],\n",
       "\n",
       "\n",
       "       [[[  8.04315192e-08,   7.51087555e-07,   3.20168994e-07],\n",
       "         [  3.89299373e-07,   1.57368117e-06,   1.16114029e-06],\n",
       "         [  1.21125095e-06,   1.79118615e-06,   1.42491638e-06]],\n",
       "\n",
       "        [[  8.78064270e-07,   7.83527184e-07,   8.08046536e-07],\n",
       "         [  6.70400937e-07,   4.45728119e-07,   5.38671429e-07],\n",
       "         [  8.12100552e-07,   7.37061271e-07,   7.91643458e-07]],\n",
       "\n",
       "        [[  2.56636326e-07,   1.26945679e-06,   4.82143662e-07],\n",
       "         [  6.27091993e-07,   2.11554698e-06,   1.51590245e-06],\n",
       "         [  2.50737730e-06,   3.72235627e-06,   3.01022783e-06]],\n",
       "\n",
       "        ..., \n",
       "        [[  2.77446048e-07,   2.53920547e-07,   2.52900662e-07],\n",
       "         [  2.08744808e-07,   1.39981964e-07,   1.64425572e-07],\n",
       "         [  2.33996730e-07,   2.32845466e-07,   2.40685068e-07]],\n",
       "\n",
       "        [[  6.66619087e-07,   5.92129254e-07,   5.66191602e-07],\n",
       "         [  5.49728554e-07,   3.79893947e-07,   4.70664503e-07],\n",
       "         [  5.67336599e-07,   6.15161525e-07,   7.70243503e-07]],\n",
       "\n",
       "        [[  3.01423734e-06,   2.22070389e-06,   2.63225502e-06],\n",
       "         [  2.08117854e-06,   7.38003791e-07,   1.28619524e-06],\n",
       "         [  1.74723152e-06,   8.48022182e-07,   1.57258899e-06]]],\n",
       "\n",
       "\n",
       "       ..., \n",
       "       [[[  2.15653495e-06,   2.88108140e-06,   3.03748266e-06],\n",
       "         [  2.04559728e-06,   2.11685119e-06,   2.79701135e-06],\n",
       "         [  2.95415384e-06,   2.83081204e-06,   3.07002369e-06]],\n",
       "\n",
       "        [[  1.58374712e-06,   2.05125866e-06,   2.11724318e-06],\n",
       "         [  1.76200626e-06,   1.90974060e-06,   2.00059094e-06],\n",
       "         [  1.96397536e-06,   1.93326582e-06,   2.07619541e-06]],\n",
       "\n",
       "        [[  5.31423757e-06,   6.72144188e-06,   6.98395343e-06],\n",
       "         [  5.86001397e-06,   5.89079536e-06,   6.32405818e-06],\n",
       "         [  7.01883118e-06,   6.50982292e-06,   7.16813520e-06]],\n",
       "\n",
       "        ..., \n",
       "        [[  1.07132837e-06,   1.27777321e-06,   1.22135498e-06],\n",
       "         [  1.24694895e-06,   1.28662703e-06,   1.31418199e-06],\n",
       "         [  1.43330146e-06,   1.33572360e-06,   1.44770661e-06]],\n",
       "\n",
       "        [[  7.90479646e-07,   1.07940662e-06,   1.37285269e-06],\n",
       "         [  1.41234068e-06,   1.63298978e-06,   1.61228172e-06],\n",
       "         [  1.53060807e-06,   1.57092256e-06,   1.49683433e-06]],\n",
       "\n",
       "        [[  2.41946395e-06,   3.10342693e-06,   3.20320100e-06],\n",
       "         [  3.07173877e-06,   3.78384993e-06,   3.08139943e-06],\n",
       "         [  2.59355011e-06,   3.03252432e-06,   2.72634225e-06]]],\n",
       "\n",
       "\n",
       "       [[[  2.54626661e-06,   2.56126623e-06,   2.23529946e-06],\n",
       "         [  1.85935323e-06,   1.80369818e-06,   1.80021323e-06],\n",
       "         [  1.59537581e-06,   1.50994094e-06,   1.39776739e-06]],\n",
       "\n",
       "        [[  1.89256764e-06,   2.39307178e-06,   1.23022176e-06],\n",
       "         [  1.56351155e-06,   1.84272528e-06,   1.64223138e-06],\n",
       "         [  1.23959046e-06,   1.16975332e-06,   1.00754664e-06]],\n",
       "\n",
       "        [[  4.83990380e-06,   5.32471950e-06,   3.28888700e-06],\n",
       "         [  4.09961331e-06,   4.11578458e-06,   3.54880535e-06],\n",
       "         [  2.74168679e-06,   2.45368824e-06,   2.06526215e-06]],\n",
       "\n",
       "        ..., \n",
       "        [[  9.46743967e-07,   1.26634689e-06,   6.48326875e-07],\n",
       "         [  7.71231043e-07,   9.47427395e-07,   7.91138632e-07],\n",
       "         [  6.42389580e-07,   6.10907819e-07,   4.91164826e-07]],\n",
       "\n",
       "        [[  1.84129408e-06,   2.45151341e-06,   1.17084574e-06],\n",
       "         [  1.33410254e-06,   1.83102600e-06,   1.47993853e-06],\n",
       "         [  9.40525240e-07,   9.86592909e-07,   7.93680101e-07]],\n",
       "\n",
       "        [[  3.56273836e-06,   4.90615412e-06,   2.59201079e-06],\n",
       "         [  2.83446320e-06,   3.85548765e-06,   3.24231110e-06],\n",
       "         [  1.73075568e-06,   1.66954112e-06,   1.17176694e-06]]],\n",
       "\n",
       "\n",
       "       [[[  1.87836429e-06,   2.25235999e-06,   2.25077201e-06],\n",
       "         [  1.69247483e-06,   1.79328788e-06,   1.78461437e-06],\n",
       "         [  1.39211932e-06,   1.35973892e-06,   1.25270094e-06]],\n",
       "\n",
       "        [[  1.26863654e-06,   8.63734385e-07,   6.26071483e-07],\n",
       "         [  1.54945008e-06,   1.43788407e-06,   1.10783969e-06],\n",
       "         [  1.77265224e-06,   1.56938665e-06,   1.35131052e-06]],\n",
       "\n",
       "        [[  4.03233435e-06,   3.73104808e-06,   3.24681810e-06],\n",
       "         [  4.55644977e-06,   4.23017036e-06,   3.99901182e-06],\n",
       "         [  5.32559898e-06,   4.68741791e-06,   4.09639551e-06]],\n",
       "\n",
       "        ..., \n",
       "        [[  6.17627165e-07,   4.51918140e-07,   3.54510860e-07],\n",
       "         [  8.44337364e-07,   8.10112340e-07,   7.03900582e-07],\n",
       "         [  1.05953700e-06,   1.02454010e-06,   9.46522960e-07]],\n",
       "\n",
       "        [[  1.08142979e-06,   7.91025400e-07,   3.57126112e-07],\n",
       "         [  1.11028726e-06,   1.22658889e-06,   7.36046275e-07],\n",
       "         [  1.11598297e-06,   1.07017161e-06,   8.11617099e-07]],\n",
       "\n",
       "        [[  2.29117859e-06,   1.08685424e-06,   2.03601488e-07],\n",
       "         [  3.03273805e-06,   3.05734898e-06,   1.49619780e-06],\n",
       "         [  3.57961767e-06,   2.97703309e-06,   2.31571039e-06]]]], dtype=float32)"
      ]
     },
     "execution_count": 1182,
     "metadata": {},
     "output_type": "execute_result"
    }
   ],
   "source": [
    "X_train_lift"
   ]
  },
  {
   "cell_type": "code",
   "execution_count": 1183,
   "metadata": {
    "collapsed": true
   },
   "outputs": [],
   "source": [
    "num_feats = conv_args_template['feature_batch_size']*conv_args_template['num_feature_batches']"
   ]
  },
  {
   "cell_type": "code",
   "execution_count": 1184,
   "metadata": {
    "collapsed": false
   },
   "outputs": [
    {
     "name": "stdout",
     "output_type": "stream",
     "text": [
      "CPU times: user 632 ms, sys: 908 ms, total: 1.54 s\n",
      "Wall time: 1.54 s\n"
     ]
    }
   ],
   "source": [
    "%time X_train_lift_flat = X_train_lift.reshape(X_train_lift.shape[0], -1).astype('float64') / np.sqrt(num_feats)"
   ]
  },
  {
   "cell_type": "code",
   "execution_count": 1185,
   "metadata": {
    "collapsed": false
   },
   "outputs": [
    {
     "name": "stdout",
     "output_type": "stream",
     "text": [
      "CPU times: user 40 ms, sys: 20 ms, total: 60 ms\n",
      "Wall time: 61.8 ms\n"
     ]
    }
   ],
   "source": [
    "%time X_test_lift_flat = X_test_lift.reshape(X_test_lift.shape[0], -1).astype('float64') / np.sqrt(num_feats)"
   ]
  },
  {
   "cell_type": "code",
   "execution_count": 1186,
   "metadata": {
    "collapsed": false
   },
   "outputs": [
    {
     "name": "stdout",
     "output_type": "stream",
     "text": [
      "CPU times: user 1min 53s, sys: 55.4 s, total: 2min 49s\n",
      "Wall time: 6.01 s\n",
      "CPU times: user 9.3 s, sys: 3.61 s, total: 12.9 s\n",
      "Wall time: 423 ms\n"
     ]
    }
   ],
   "source": [
    "%time K_train_conv = X_train_lift_flat.dot(X_train_lift_flat.T) \n",
    "%time K_test_conv = X_test_lift_flat.dot(X_train_lift_flat.T)"
   ]
  },
  {
   "cell_type": "code",
   "execution_count": 1189,
   "metadata": {
    "collapsed": false
   },
   "outputs": [
    {
     "data": {
      "text/plain": [
       "memmap([[[[  1.58109140e-06,   1.45059391e-06,   1.81394523e-06],\n",
       "         [  1.07277515e-06,   9.33922877e-07,   1.33725371e-06],\n",
       "         [  8.09303970e-07,   1.05893491e-06,   1.23484165e-06]],\n",
       "\n",
       "        [[  5.19300283e-06,   4.69473162e-06,   5.96304153e-06],\n",
       "         [  4.03942477e-06,   3.48478284e-06,   4.39495670e-06],\n",
       "         [  2.42085662e-06,   3.14486670e-06,   3.74502383e-06]],\n",
       "\n",
       "        [[  5.81503218e-06,   6.15005274e-06,   7.77288369e-06],\n",
       "         [  4.43296540e-06,   4.56608586e-06,   5.86736041e-06],\n",
       "         [  2.61551872e-06,   3.38705149e-06,   3.89128900e-06]],\n",
       "\n",
       "        ..., \n",
       "        [[  3.75242166e-06,   3.68401197e-06,   4.54085512e-06],\n",
       "         [  3.05350295e-06,   3.04033665e-06,   3.39478834e-06],\n",
       "         [  1.87235798e-06,   2.33977471e-06,   2.40090276e-06]],\n",
       "\n",
       "        [[  2.56324256e-06,   2.53998155e-06,   3.11629810e-06],\n",
       "         [  1.86308182e-06,   1.81827863e-06,   2.24448786e-06],\n",
       "         [  1.47691674e-06,   1.73546937e-06,   1.74710976e-06]],\n",
       "\n",
       "        [[  4.11054316e-06,   3.77086917e-06,   4.39433325e-06],\n",
       "         [  3.47365335e-06,   3.30737703e-06,   3.27258135e-06],\n",
       "         [  2.13896851e-06,   2.75458956e-06,   2.58188061e-06]]],\n",
       "\n",
       "\n",
       "       [[[  9.24410926e-07,   1.02938145e-06,   1.28074987e-06],\n",
       "         [  1.25440442e-06,   1.02763806e-06,   1.20842185e-06],\n",
       "         [  1.37981237e-06,   1.02443300e-06,   1.22720962e-06]],\n",
       "\n",
       "        [[  3.56652845e-06,   3.68350334e-06,   3.99711007e-06],\n",
       "         [  3.98303700e-06,   3.46392176e-06,   3.78811956e-06],\n",
       "         [  4.10205257e-06,   3.12646648e-06,   3.71437181e-06]],\n",
       "\n",
       "        [[  3.44412001e-06,   3.36965309e-06,   3.02734338e-06],\n",
       "         [  4.07794050e-06,   3.76285379e-06,   3.87580121e-06],\n",
       "         [  4.27438272e-06,   3.24196344e-06,   3.60434092e-06]],\n",
       "\n",
       "        ..., \n",
       "        [[  2.36414940e-06,   2.39199221e-06,   1.98112161e-06],\n",
       "         [  2.74236140e-06,   2.51591155e-06,   2.53219696e-06],\n",
       "         [  2.73602063e-06,   2.20438210e-06,   2.46562172e-06]],\n",
       "\n",
       "        [[  1.91949312e-06,   1.60685909e-06,   1.50746428e-06],\n",
       "         [  2.02930869e-06,   1.61102855e-06,   1.75565253e-06],\n",
       "         [  1.99919759e-06,   1.68426857e-06,   1.74912884e-06]],\n",
       "\n",
       "        [[  3.19331798e-06,   2.79148571e-06,   2.37875543e-06],\n",
       "         [  3.05203480e-06,   2.46081936e-06,   2.61554328e-06],\n",
       "         [  2.73245359e-06,   2.18119521e-06,   2.61749869e-06]]],\n",
       "\n",
       "\n",
       "       [[[  8.12476230e-07,   7.48988498e-07,   4.87215971e-07],\n",
       "         [  5.05488458e-07,   4.44463438e-07,   3.70961544e-07],\n",
       "         [  3.55043454e-07,   3.84088850e-07,   4.56361136e-07]],\n",
       "\n",
       "        [[  3.12247857e-06,   2.85816623e-06,   1.66275720e-06],\n",
       "         [  1.98521707e-06,   1.76864182e-06,   1.37516224e-06],\n",
       "         [  1.16439162e-06,   1.40978261e-06,   1.91212166e-06]],\n",
       "\n",
       "        [[  3.73462376e-06,   3.21870789e-06,   1.68133579e-06],\n",
       "         [  3.08817494e-06,   2.81959137e-06,   1.97660620e-06],\n",
       "         [  3.01755176e-06,   3.43157626e-06,   3.93209439e-06]],\n",
       "\n",
       "        ..., \n",
       "        [[  2.41344765e-06,   2.10764688e-06,   9.22176184e-07],\n",
       "         [  1.92442712e-06,   1.77142272e-06,   1.22204722e-06],\n",
       "         [  1.80794132e-06,   2.06532923e-06,   2.36556184e-06]],\n",
       "\n",
       "        [[  1.56091562e-06,   1.31871263e-06,   5.52884728e-07],\n",
       "         [  1.41396936e-06,   1.40405064e-06,   9.26865653e-07],\n",
       "         [  1.20966490e-06,   1.40448105e-06,   1.56938347e-06]],\n",
       "\n",
       "        [[  2.90925709e-06,   2.30182536e-06,   8.73449324e-07],\n",
       "         [  2.20357106e-06,   1.96542942e-06,   1.31116201e-06],\n",
       "         [  1.49236860e-06,   1.87655303e-06,   2.23720576e-06]]],\n",
       "\n",
       "\n",
       "       ..., \n",
       "       [[[  6.89153524e-07,   1.08745473e-06,   8.26707605e-07],\n",
       "         [  6.26705912e-07,   9.82768597e-07,   1.02380181e-06],\n",
       "         [  2.30960168e-07,   4.22171695e-07,   7.82396000e-07]],\n",
       "\n",
       "        [[  1.62876347e-06,   2.82662154e-06,   2.19324329e-06],\n",
       "         [  1.37263225e-06,   2.75475873e-06,   3.24791017e-06],\n",
       "         [  4.34596700e-07,   1.23788266e-06,   2.67227097e-06]],\n",
       "\n",
       "        [[  1.50290134e-06,   2.68301187e-06,   2.33423202e-06],\n",
       "         [  1.17241541e-06,   2.45511637e-06,   2.99252156e-06],\n",
       "         [  2.15604402e-07,   1.84577925e-06,   4.16904732e-06]],\n",
       "\n",
       "        ..., \n",
       "        [[  1.16338106e-06,   1.92455923e-06,   1.54019790e-06],\n",
       "         [  8.00761995e-07,   1.76307731e-06,   2.13390103e-06],\n",
       "         [  8.35532461e-08,   1.08247696e-06,   2.64584492e-06]],\n",
       "\n",
       "        [[  1.88388901e-06,   2.26566885e-06,   1.50191374e-06],\n",
       "         [  1.23759810e-06,   1.79973028e-06,   1.68210204e-06],\n",
       "         [  2.00079420e-08,   5.90148659e-07,   1.53963128e-06]],\n",
       "\n",
       "        [[  1.32916648e-06,   2.12478767e-06,   1.68498934e-06],\n",
       "         [  7.87397880e-07,   1.98724183e-06,   2.62942149e-06],\n",
       "         [  3.57366474e-08,   9.95605660e-07,   2.68231634e-06]]],\n",
       "\n",
       "\n",
       "       [[[  3.39097551e-06,   2.62991898e-06,   2.53309508e-06],\n",
       "         [  2.52742575e-06,   1.73879880e-06,   1.67996404e-06],\n",
       "         [  1.20410482e-06,   1.16772424e-06,   1.11301893e-06]],\n",
       "\n",
       "        [[  9.60231682e-06,   7.48647426e-06,   7.22382765e-06],\n",
       "         [  6.45654154e-06,   4.84295197e-06,   4.47654611e-06],\n",
       "         [  2.49124969e-06,   2.75517573e-06,   2.67696942e-06]],\n",
       "\n",
       "        [[  7.78031244e-06,   7.38635435e-06,   7.75046192e-06],\n",
       "         [  5.89127058e-06,   4.56730731e-06,   4.49303980e-06],\n",
       "         [  2.09035784e-06,   2.27422584e-06,   2.31541571e-06]],\n",
       "\n",
       "        ..., \n",
       "        [[  4.90070715e-06,   4.56552061e-06,   4.81777761e-06],\n",
       "         [  3.68857945e-06,   2.97508655e-06,   2.94952270e-06],\n",
       "         [  1.34378570e-06,   1.62010406e-06,   1.68292763e-06]],\n",
       "\n",
       "        [[  4.70917348e-06,   4.20327069e-06,   4.19084154e-06],\n",
       "         [  3.73060539e-06,   2.89093236e-06,   2.78119592e-06],\n",
       "         [  1.57389513e-06,   1.55555142e-06,   1.52628672e-06]],\n",
       "\n",
       "        [[  7.04020158e-06,   6.80131052e-06,   6.59966508e-06],\n",
       "         [  4.46049853e-06,   4.12946702e-06,   3.76042590e-06],\n",
       "         [  1.54717986e-06,   2.01222542e-06,   2.02624688e-06]]],\n",
       "\n",
       "\n",
       "       [[[  7.29663441e-07,   6.96755706e-07,   2.87047015e-07],\n",
       "         [  1.18342518e-06,   1.19062634e-06,   9.03644434e-07],\n",
       "         [  1.04081494e-06,   7.52536209e-07,   3.27268111e-07]],\n",
       "\n",
       "        [[  2.14296506e-06,   2.13835187e-06,   8.12084409e-07],\n",
       "         [  3.08824883e-06,   3.38291670e-06,   2.54512634e-06],\n",
       "         [  3.21663651e-06,   2.67236851e-06,   1.27991234e-06]],\n",
       "\n",
       "        [[  1.25763734e-06,   2.09141353e-06,   1.29742966e-06],\n",
       "         [  2.66880238e-06,   3.33308117e-06,   1.77074151e-06],\n",
       "         [  3.27875000e-06,   2.60883394e-06,   7.67478525e-07]],\n",
       "\n",
       "        ..., \n",
       "        [[  1.01837429e-06,   1.41270459e-06,   8.05129787e-07],\n",
       "         [  1.58884507e-06,   2.00577165e-06,   1.19812967e-06],\n",
       "         [  1.85328770e-06,   1.56801434e-06,   6.28169971e-07]],\n",
       "\n",
       "        [[  7.60269643e-07,   1.10776841e-06,   6.54625410e-07],\n",
       "         [  1.25812983e-06,   1.59568037e-06,   1.12670375e-06],\n",
       "         [  1.27460828e-06,   1.05165066e-06,   6.16232853e-07]],\n",
       "\n",
       "        [[  1.17536820e-06,   1.46037144e-06,   6.10956761e-07],\n",
       "         [  1.62893718e-06,   2.07242101e-06,   1.11210727e-06],\n",
       "         [  1.67914300e-06,   1.46396178e-06,   5.73846080e-07]]]], dtype=float32)"
      ]
     },
     "execution_count": 1189,
     "metadata": {},
     "output_type": "execute_result"
    }
   ],
   "source": [
    "X_test_lift"
   ]
  },
  {
   "cell_type": "code",
   "execution_count": 1187,
   "metadata": {
    "collapsed": false
   },
   "outputs": [
    {
     "name": "stdout",
     "output_type": "stream",
     "text": [
      "Learning Dual Model\n",
      "reg is 1e-08\n",
      "1e-08 (0.37892307692307692, 0.108)\n",
      "Learning Dual Model\n",
      "reg is 1e-07\n",
      "1e-07 (0.28415384615384615, 0.10000000000000001)\n",
      "Learning Dual Model\n",
      "reg is 1e-06\n",
      "1e-06 (0.14238461538461539, 0.10000000000000001)\n",
      "Learning Dual Model\n",
      "reg is 1e-05\n"
     ]
    },
    {
     "ename": "KeyboardInterrupt",
     "evalue": "",
     "output_type": "error",
     "traceback": [
      "\u001b[0;31m---------------------------------------------------------------------------\u001b[0m",
      "\u001b[0;31mKeyboardInterrupt\u001b[0m                         Traceback (most recent call last)",
      "\u001b[0;32m<ipython-input-1187-5cd6f38db581>\u001b[0m in \u001b[0;36m<module>\u001b[0;34m()\u001b[0m\n\u001b[1;32m      1\u001b[0m \u001b[0;32mfor\u001b[0m \u001b[0mreg\u001b[0m \u001b[0;32min\u001b[0m \u001b[0;34m[\u001b[0m\u001b[0;36m1e-8\u001b[0m\u001b[0;34m,\u001b[0m \u001b[0;36m1e-7\u001b[0m\u001b[0;34m,\u001b[0m \u001b[0;36m1e-6\u001b[0m\u001b[0;34m,\u001b[0m \u001b[0;36m1e-5\u001b[0m\u001b[0;34m,\u001b[0m \u001b[0;36m1e-4\u001b[0m\u001b[0;34m,\u001b[0m \u001b[0;36m1e-1\u001b[0m\u001b[0;34m,\u001b[0m \u001b[0;36m1\u001b[0m\u001b[0;34m,\u001b[0m \u001b[0;36m1e1\u001b[0m\u001b[0;34m,\u001b[0m \u001b[0;36m1e5\u001b[0m\u001b[0;34m]\u001b[0m\u001b[0;34m:\u001b[0m\u001b[0;34m\u001b[0m\u001b[0m\n\u001b[1;32m      2\u001b[0m     acc = opt.trainAndEvaluateDualModel(KTrain=K_train_conv, KTest=K_test_conv, labelsTrain=y_train.astype('int'), \n\u001b[0;32m----> 3\u001b[0;31m                                                                       labelsTest=y_test.astype('int'), reg=reg)\n\u001b[0m\u001b[1;32m      4\u001b[0m     \u001b[0mprint\u001b[0m\u001b[0;34m(\u001b[0m\u001b[0mreg\u001b[0m\u001b[0;34m,\u001b[0m \u001b[0macc\u001b[0m\u001b[0;34m)\u001b[0m\u001b[0;34m\u001b[0m\u001b[0m\n",
      "\u001b[0;32m/home/ubuntu/pictureweb/conv/opt.py\u001b[0m in \u001b[0;36mtrainAndEvaluateDualModel\u001b[0;34m(KTrain, KTest, labelsTrain, labelsTest, reg)\u001b[0m\n\u001b[1;32m     45\u001b[0m \u001b[0;32mdef\u001b[0m \u001b[0mtrainAndEvaluateDualModel\u001b[0m\u001b[0;34m(\u001b[0m\u001b[0mKTrain\u001b[0m\u001b[0;34m,\u001b[0m \u001b[0mKTest\u001b[0m\u001b[0;34m,\u001b[0m \u001b[0mlabelsTrain\u001b[0m\u001b[0;34m,\u001b[0m \u001b[0mlabelsTest\u001b[0m\u001b[0;34m,\u001b[0m \u001b[0mreg\u001b[0m\u001b[0;34m=\u001b[0m\u001b[0;36m0.1\u001b[0m\u001b[0;34m)\u001b[0m\u001b[0;34m:\u001b[0m\u001b[0;34m\u001b[0m\u001b[0m\n\u001b[1;32m     46\u001b[0m     \u001b[0mmodel\u001b[0m \u001b[0;34m=\u001b[0m \u001b[0mlearnDual\u001b[0m\u001b[0;34m(\u001b[0m\u001b[0mKTrain\u001b[0m\u001b[0;34m,\u001b[0m\u001b[0mlabelsTrain\u001b[0m\u001b[0;34m,\u001b[0m \u001b[0mreg\u001b[0m\u001b[0;34m=\u001b[0m\u001b[0mreg\u001b[0m\u001b[0;34m)\u001b[0m\u001b[0;34m\u001b[0m\u001b[0m\n\u001b[0;32m---> 47\u001b[0;31m     \u001b[0mpredTrainWeights\u001b[0m \u001b[0;34m=\u001b[0m \u001b[0mevaluateDualModel\u001b[0m\u001b[0;34m(\u001b[0m\u001b[0mKTrain\u001b[0m\u001b[0;34m,\u001b[0m \u001b[0mmodel\u001b[0m\u001b[0;34m)\u001b[0m\u001b[0;34m\u001b[0m\u001b[0m\n\u001b[0m\u001b[1;32m     48\u001b[0m     \u001b[0mpredTestWeights\u001b[0m \u001b[0;34m=\u001b[0m \u001b[0mevaluateDualModel\u001b[0m\u001b[0;34m(\u001b[0m\u001b[0mKTest\u001b[0m\u001b[0;34m,\u001b[0m \u001b[0mmodel\u001b[0m\u001b[0;34m)\u001b[0m\u001b[0;34m\u001b[0m\u001b[0m\n\u001b[1;32m     49\u001b[0m     \u001b[0mlabelsTrainPred\u001b[0m \u001b[0;34m=\u001b[0m \u001b[0mnp\u001b[0m\u001b[0;34m.\u001b[0m\u001b[0margmax\u001b[0m\u001b[0;34m(\u001b[0m\u001b[0mpredTrainWeights\u001b[0m\u001b[0;34m,\u001b[0m \u001b[0maxis\u001b[0m\u001b[0;34m=\u001b[0m\u001b[0;36m1\u001b[0m\u001b[0;34m)\u001b[0m\u001b[0;34m\u001b[0m\u001b[0m\n",
      "\u001b[0;32m/home/ubuntu/pictureweb/conv/opt.py\u001b[0m in \u001b[0;36mevaluateDualModel\u001b[0;34m(kMatrix, model, TOT_FEAT)\u001b[0m\n\u001b[1;32m      7\u001b[0m \u001b[0;34m\u001b[0m\u001b[0m\n\u001b[1;32m      8\u001b[0m \u001b[0;32mdef\u001b[0m \u001b[0mevaluateDualModel\u001b[0m\u001b[0;34m(\u001b[0m\u001b[0mkMatrix\u001b[0m\u001b[0;34m,\u001b[0m \u001b[0mmodel\u001b[0m\u001b[0;34m,\u001b[0m \u001b[0mTOT_FEAT\u001b[0m\u001b[0;34m=\u001b[0m\u001b[0;36m1\u001b[0m\u001b[0;34m)\u001b[0m\u001b[0;34m:\u001b[0m\u001b[0;34m\u001b[0m\u001b[0m\n\u001b[0;32m----> 9\u001b[0;31m     \u001b[0mkMatrix\u001b[0m \u001b[0;34m*=\u001b[0m \u001b[0mTOT_FEAT\u001b[0m\u001b[0;34m\u001b[0m\u001b[0m\n\u001b[0m\u001b[1;32m     10\u001b[0m     \u001b[0my\u001b[0m \u001b[0;34m=\u001b[0m \u001b[0mkMatrix\u001b[0m\u001b[0;34m.\u001b[0m\u001b[0mdot\u001b[0m\u001b[0;34m(\u001b[0m\u001b[0mmodel\u001b[0m\u001b[0;34m)\u001b[0m\u001b[0;34m\u001b[0m\u001b[0m\n\u001b[1;32m     11\u001b[0m     \u001b[0mkMatrix\u001b[0m \u001b[0;34m/=\u001b[0m \u001b[0mTOT_FEAT\u001b[0m\u001b[0;34m\u001b[0m\u001b[0m\n",
      "\u001b[0;31mKeyboardInterrupt\u001b[0m: "
     ]
    }
   ],
   "source": [
    "for reg in [1e-8, 1e-7, 1e-6, 1e-5, 1e-4, 1e-1, 1, 1e1, 1e5]:\n",
    "    acc = opt.trainAndEvaluateDualModel(KTrain=K_train_conv, KTest=K_test_conv, labelsTrain=y_train.astype('int'), \n",
    "                                                                      labelsTest=y_test.astype('int'), reg=reg)\n",
    "    print(reg, acc)"
   ]
  },
  {
   "cell_type": "code",
   "execution_count": 1028,
   "metadata": {
    "collapsed": false
   },
   "outputs": [
    {
     "name": "stdout",
     "output_type": "stream",
     "text": [
      "Learning Dual Model\n",
      "reg is 1e-05\n",
      "0.05 1e-05 (0.99769230769230766, 0.69799999999999995)\n",
      "Learning Dual Model\n",
      "reg is 0.0001\n",
      "0.05 0.0001 (0.98038461538461541, 0.70199999999999996)\n",
      "Learning Dual Model\n",
      "reg is 0.001\n",
      "0.05 0.001 (0.85853846153846158, 0.70599999999999996)\n",
      "Learning Dual Model\n",
      "reg is 0.01\n",
      "0.05 0.01 (0.72246153846153849, 0.68799999999999994)\n",
      "Learning Dual Model\n",
      "reg is 0.1\n",
      "0.05 0.1 (0.6154615384615385, 0.59799999999999998)\n",
      "Learning Dual Model\n",
      "reg is 1e-05\n",
      "0.1 1e-05 (0.99792307692307691, 0.68200000000000005)\n",
      "Learning Dual Model\n",
      "reg is 0.0001\n",
      "0.1 0.0001 (0.99407692307692308, 0.70599999999999996)\n",
      "Learning Dual Model\n",
      "reg is 0.001\n",
      "0.1 0.001 (0.92723076923076919, 0.70199999999999996)\n",
      "Learning Dual Model\n",
      "reg is 0.01\n",
      "0.1 0.01 (0.77246153846153842, 0.68999999999999995)\n",
      "Learning Dual Model\n",
      "reg is 0.1\n",
      "0.1 0.1 (0.65407692307692311, 0.61799999999999999)\n",
      "Learning Dual Model\n",
      "reg is 1e-05\n",
      "1 1e-05 (0.998, 0.60599999999999998)\n",
      "Learning Dual Model\n",
      "reg is 0.0001\n",
      "1 0.0001 (0.99807692307692308, 0.61399999999999999)\n",
      "Learning Dual Model\n",
      "reg is 0.001\n",
      "1 0.001 (0.99807692307692308, 0.63400000000000001)\n",
      "Learning Dual Model\n",
      "reg is 0.01\n",
      "1 0.01 (0.98699999999999999, 0.65600000000000003)\n",
      "Learning Dual Model\n",
      "reg is 0.1\n",
      "1 0.1 (0.87546153846153851, 0.66000000000000003)\n",
      "Learning Dual Model\n",
      "reg is 1e-05\n",
      "10 1e-05 (0.99807692307692308, 0.53400000000000003)\n",
      "Learning Dual Model\n",
      "reg is 0.0001\n",
      "10 0.0001 (0.99807692307692308, 0.53400000000000003)\n",
      "Learning Dual Model\n",
      "reg is 0.001\n"
     ]
    },
    {
     "ename": "KeyboardInterrupt",
     "evalue": "",
     "output_type": "error",
     "traceback": [
      "\u001b[0;31m---------------------------------------------------------------------------\u001b[0m",
      "\u001b[0;31mKeyboardInterrupt\u001b[0m                         Traceback (most recent call last)",
      "\u001b[0;32m<ipython-input-1028-183bc40ed567>\u001b[0m in \u001b[0;36m<module>\u001b[0;34m()\u001b[0m\n\u001b[1;32m      6\u001b[0m         acc = opt.trainAndEvaluateDualModel(KTrain=K_train_rbf_conv, KTest=K_test_rbf_conv, labelsTrain=y_train.astype('int'), \n\u001b[1;32m      7\u001b[0m                                                                       \u001b[0mlabelsTest\u001b[0m\u001b[0;34m=\u001b[0m\u001b[0my_test\u001b[0m\u001b[0;34m.\u001b[0m\u001b[0mastype\u001b[0m\u001b[0;34m(\u001b[0m\u001b[0;34m'int'\u001b[0m\u001b[0;34m)\u001b[0m\u001b[0;34m,\u001b[0m\u001b[0;34m\u001b[0m\u001b[0m\n\u001b[0;32m----> 8\u001b[0;31m                                                                       reg=reg)\n\u001b[0m\u001b[1;32m      9\u001b[0m         \u001b[0mprint\u001b[0m\u001b[0;34m(\u001b[0m\u001b[0mgamma\u001b[0m\u001b[0;34m,\u001b[0m \u001b[0mreg\u001b[0m\u001b[0;34m,\u001b[0m \u001b[0macc\u001b[0m\u001b[0;34m)\u001b[0m\u001b[0;34m\u001b[0m\u001b[0m\n\u001b[1;32m     10\u001b[0m         \u001b[0mresults\u001b[0m\u001b[0;34m[\u001b[0m\u001b[0;34m(\u001b[0m\u001b[0mgamma\u001b[0m\u001b[0;34m,\u001b[0m\u001b[0mreg\u001b[0m\u001b[0;34m)\u001b[0m\u001b[0;34m]\u001b[0m \u001b[0;34m=\u001b[0m \u001b[0macc\u001b[0m\u001b[0;34m\u001b[0m\u001b[0m\n",
      "\u001b[0;32m/home/ubuntu/pictureweb/conv/opt.py\u001b[0m in \u001b[0;36mtrainAndEvaluateDualModel\u001b[0;34m(KTrain, KTest, labelsTrain, labelsTest, reg)\u001b[0m\n\u001b[1;32m     44\u001b[0m \u001b[0;34m\u001b[0m\u001b[0m\n\u001b[1;32m     45\u001b[0m \u001b[0;32mdef\u001b[0m \u001b[0mtrainAndEvaluateDualModel\u001b[0m\u001b[0;34m(\u001b[0m\u001b[0mKTrain\u001b[0m\u001b[0;34m,\u001b[0m \u001b[0mKTest\u001b[0m\u001b[0;34m,\u001b[0m \u001b[0mlabelsTrain\u001b[0m\u001b[0;34m,\u001b[0m \u001b[0mlabelsTest\u001b[0m\u001b[0;34m,\u001b[0m \u001b[0mreg\u001b[0m\u001b[0;34m=\u001b[0m\u001b[0;36m0.1\u001b[0m\u001b[0;34m)\u001b[0m\u001b[0;34m:\u001b[0m\u001b[0;34m\u001b[0m\u001b[0m\n\u001b[0;32m---> 46\u001b[0;31m     \u001b[0mmodel\u001b[0m \u001b[0;34m=\u001b[0m \u001b[0mlearnDual\u001b[0m\u001b[0;34m(\u001b[0m\u001b[0mKTrain\u001b[0m\u001b[0;34m,\u001b[0m\u001b[0mlabelsTrain\u001b[0m\u001b[0;34m,\u001b[0m \u001b[0mreg\u001b[0m\u001b[0;34m=\u001b[0m\u001b[0mreg\u001b[0m\u001b[0;34m)\u001b[0m\u001b[0;34m\u001b[0m\u001b[0m\n\u001b[0m\u001b[1;32m     47\u001b[0m     \u001b[0mpredTrainWeights\u001b[0m \u001b[0;34m=\u001b[0m \u001b[0mevaluateDualModel\u001b[0m\u001b[0;34m(\u001b[0m\u001b[0mKTrain\u001b[0m\u001b[0;34m,\u001b[0m \u001b[0mmodel\u001b[0m\u001b[0;34m)\u001b[0m\u001b[0;34m\u001b[0m\u001b[0m\n\u001b[1;32m     48\u001b[0m     \u001b[0mpredTestWeights\u001b[0m \u001b[0;34m=\u001b[0m \u001b[0mevaluateDualModel\u001b[0m\u001b[0;34m(\u001b[0m\u001b[0mKTest\u001b[0m\u001b[0;34m,\u001b[0m \u001b[0mmodel\u001b[0m\u001b[0;34m)\u001b[0m\u001b[0;34m\u001b[0m\u001b[0m\n",
      "\u001b[0;32m/home/ubuntu/pictureweb/conv/opt.py\u001b[0m in \u001b[0;36mlearnDual\u001b[0;34m(gramMatrix, labels, reg, TOT_FEAT, NUM_TRAIN)\u001b[0m\n\u001b[1;32m     61\u001b[0m     \u001b[0mprint\u001b[0m\u001b[0;34m(\u001b[0m\u001b[0;34m\"reg is \"\u001b[0m \u001b[0;34m+\u001b[0m \u001b[0mstr\u001b[0m\u001b[0;34m(\u001b[0m\u001b[0mreg\u001b[0m\u001b[0;34m)\u001b[0m\u001b[0;34m)\u001b[0m\u001b[0;34m\u001b[0m\u001b[0m\n\u001b[1;32m     62\u001b[0m     \u001b[0mgramMatrix\u001b[0m\u001b[0;34m[\u001b[0m\u001b[0midxes\u001b[0m\u001b[0;34m]\u001b[0m \u001b[0;34m+=\u001b[0m \u001b[0;34m(\u001b[0m\u001b[0mreg\u001b[0m\u001b[0;34m)\u001b[0m\u001b[0;34m\u001b[0m\u001b[0m\n\u001b[0;32m---> 63\u001b[0;31m     \u001b[0mmodel\u001b[0m \u001b[0;34m=\u001b[0m \u001b[0mlinalg\u001b[0m\u001b[0;34m.\u001b[0m\u001b[0msolve\u001b[0m\u001b[0;34m(\u001b[0m\u001b[0mgramMatrix\u001b[0m\u001b[0;34m,\u001b[0m \u001b[0my\u001b[0m\u001b[0;34m)\u001b[0m\u001b[0;34m\u001b[0m\u001b[0m\n\u001b[0m\u001b[1;32m     64\u001b[0m     \u001b[0mgramMatrix\u001b[0m\u001b[0;34m[\u001b[0m\u001b[0midxes\u001b[0m\u001b[0;34m]\u001b[0m \u001b[0;34m-=\u001b[0m \u001b[0;34m(\u001b[0m\u001b[0mreg\u001b[0m\u001b[0;34m)\u001b[0m\u001b[0;34m\u001b[0m\u001b[0m\n\u001b[1;32m     65\u001b[0m     \u001b[0mgramMatrix\u001b[0m \u001b[0;34m*=\u001b[0m \u001b[0mTOT_FEAT\u001b[0m\u001b[0;34m\u001b[0m\u001b[0m\n",
      "\u001b[0;32m/home/ubuntu/anaconda3/lib/python3.6/site-packages/scipy/linalg/basic.py\u001b[0m in \u001b[0;36msolve\u001b[0;34m(a, b, sym_pos, lower, overwrite_a, overwrite_b, debug, check_finite)\u001b[0m\n\u001b[1;32m     96\u001b[0m         \u001b[0mgesv\u001b[0m\u001b[0;34m,\u001b[0m \u001b[0;34m=\u001b[0m \u001b[0mget_lapack_funcs\u001b[0m\u001b[0;34m(\u001b[0m\u001b[0;34m(\u001b[0m\u001b[0;34m'gesv'\u001b[0m\u001b[0;34m,\u001b[0m\u001b[0;34m)\u001b[0m\u001b[0;34m,\u001b[0m \u001b[0;34m(\u001b[0m\u001b[0ma1\u001b[0m\u001b[0;34m,\u001b[0m \u001b[0mb1\u001b[0m\u001b[0;34m)\u001b[0m\u001b[0;34m)\u001b[0m\u001b[0;34m\u001b[0m\u001b[0m\n\u001b[1;32m     97\u001b[0m         lu, piv, x, info = gesv(a1, b1, overwrite_a=overwrite_a,\n\u001b[0;32m---> 98\u001b[0;31m                                 overwrite_b=overwrite_b)\n\u001b[0m\u001b[1;32m     99\u001b[0m \u001b[0;34m\u001b[0m\u001b[0m\n\u001b[1;32m    100\u001b[0m     \u001b[0;32mif\u001b[0m \u001b[0minfo\u001b[0m \u001b[0;34m==\u001b[0m \u001b[0;36m0\u001b[0m\u001b[0;34m:\u001b[0m\u001b[0;34m\u001b[0m\u001b[0m\n",
      "\u001b[0;31mKeyboardInterrupt\u001b[0m: "
     ]
    }
   ],
   "source": [
    "results_conv = {}\n",
    "for gamma in [5e-2,1e-1, 1, 10, 100]:\n",
    "    K_train_rbf_conv = linalg.computeRBFGramMatrix(X_train_lift, X_train_lift, gamma=gamma)\n",
    "    K_test_rbf_conv = linalg.computeRBFGramMatrix(X_test_lift, X_train_lift, gamma=gamma)\n",
    "    for reg in [1e-5, 1e-4, 1e-3, 1e-2, 1e-1]:\n",
    "        acc = opt.trainAndEvaluateDualModel(KTrain=K_train_rbf_conv, KTest=K_test_rbf_conv, labelsTrain=y_train.astype('int'), \n",
    "                                                                      labelsTest=y_test.astype('int'),\n",
    "                                                                      reg=reg)\n",
    "        print(gamma, reg, acc)\n",
    "        results[(gamma,reg)] = acc"
   ]
  },
  {
   "cell_type": "code",
   "execution_count": null,
   "metadata": {
    "collapsed": false
   },
   "outputs": [],
   "source": [
    "X_test_lift"
   ]
  },
  {
   "cell_type": "code",
   "execution_count": 34,
   "metadata": {
    "collapsed": false
   },
   "outputs": [
    {
     "data": {
      "text/plain": [
       "array([[ 1.        ,  0.99926612,  0.99909939, ...,  0.99929579,\n",
       "         0.99898554,  0.99931603],\n",
       "       [ 0.99926612,  1.        ,  0.99913969, ...,  0.99927931,\n",
       "         0.9989939 ,  0.99928697],\n",
       "       [ 0.99909939,  0.99913969,  1.        , ...,  0.99925441,\n",
       "         0.99911216,  0.99934219],\n",
       "       ..., \n",
       "       [ 0.99905437,  0.99906212,  0.99914661, ...,  0.9995055 ,\n",
       "         0.99951988,  0.99959997],\n",
       "       [ 0.99926577,  0.99925152,  0.99916929, ...,  0.99948263,\n",
       "         0.99917748,  0.9994573 ],\n",
       "       [ 0.99912478,  0.99928218,  0.99900119, ...,  0.99943302,\n",
       "         0.99906306,  0.99931051]])"
      ]
     },
     "execution_count": 34,
     "metadata": {},
     "output_type": "execute_result"
    }
   ],
   "source": [
    "K_test_rbf_pixels"
   ]
  },
  {
   "cell_type": "code",
   "execution_count": 30,
   "metadata": {
    "collapsed": false
   },
   "outputs": [
    {
     "data": {
      "text/plain": [
       "(13000, 196608)"
      ]
     },
     "execution_count": 30,
     "metadata": {},
     "output_type": "execute_result"
    }
   ],
   "source": [
    "X_train_flat.shape"
   ]
  },
  {
   "cell_type": "code",
   "execution_count": 999,
   "metadata": {
    "collapsed": false
   },
   "outputs": [
    {
     "name": "stdout",
     "output_type": "stream",
     "text": [
      "/bin/bash -c 'cd /home/ubuntu ; tar -cf ./picture_web_2017-04-11-07:56:40.625613.tar pictureweb --exclude-from <(find pictureweb -size +3M)'\n"
     ]
    }
   ],
   "source": [
    "exputil.snapshot()"
   ]
  },
  {
   "cell_type": "code",
   "execution_count": 892,
   "metadata": {
    "collapsed": false
   },
   "outputs": [],
   "source": [
    "im = imread(\"/home/ubuntu/tiny-imagenet-200/train/n01443537/images/n01443537_0.JPEG\")"
   ]
  },
  {
   "cell_type": "code",
   "execution_count": 895,
   "metadata": {
    "collapsed": false
   },
   "outputs": [
    {
     "data": {
      "text/plain": [
       "(64, 64, 3)"
      ]
     },
     "execution_count": 895,
     "metadata": {},
     "output_type": "execute_result"
    }
   ],
   "source": [
    "im.shape"
   ]
  },
  {
   "cell_type": "code",
   "execution_count": 923,
   "metadata": {
    "collapsed": true
   },
   "outputs": [],
   "source": [
    "fc7 = np.load(\"/home/ubuntu/imagenet-fc7/imagenet_features_alexnet_fc7.npz\")"
   ]
  },
  {
   "cell_type": "code",
   "execution_count": 924,
   "metadata": {
    "collapsed": true
   },
   "outputs": [],
   "source": [
    "X_train_fc7 = fc7[\"X_train\"]\n",
    "y_train_fc7 = fc7[\"y_train\"]"
   ]
  },
  {
   "cell_type": "code",
   "execution_count": 925,
   "metadata": {
    "collapsed": true
   },
   "outputs": [],
   "source": [
    "X_test_fc7 = np.load(\"/home/ubuntu/imagenet-fc7/imagenet_test_features_alexnet_fc7.npy\")\n",
    "y_test_fc7 = np.load(\"/home/ubuntu/imagenet-fc7/imagenet_test_labels.npy\")"
   ]
  },
  {
   "cell_type": "code",
   "execution_count": 967,
   "metadata": {
    "collapsed": false
   },
   "outputs": [],
   "source": [
    "idxs = np.where(y_train_fc7 < 10)[0]\n",
    "idxs_test = np.where(y_test_fc7 < 10)[0]\n",
    "X_train_fc7_small = X_train_fc7[idxs, :]\n",
    "y_train_fc7_small = y_train_fc7[idxs].astype('int')\n",
    "X_test_fc7_small = X_test_fc7[idxs_test, :]\n",
    "y_test_fc7_small = y_test_fc7[idxs_test].astype('int')\n"
   ]
  },
  {
   "cell_type": "code",
   "execution_count": 961,
   "metadata": {
    "collapsed": false
   },
   "outputs": [
    {
     "name": "stdout",
     "output_type": "stream",
     "text": [
      "X SHAPE  (12622, 4096)\n",
      "Computing XTX\n",
      "Done Computing XTX\n"
     ]
    },
    {
     "data": {
      "text/plain": [
       "(0.95642528917762637, 0.91400000000000003)"
      ]
     },
     "execution_count": 961,
     "metadata": {},
     "output_type": "execute_result"
    }
   ],
   "source": [
    "opt.trainAndEvaluatePrimalModel(X_train_fc7_small, X_test_fc7_small, y_train_fc7_small, y_test_fc7_small, reg=1000000)"
   ]
  },
  {
   "cell_type": "code",
   "execution_count": 952,
   "metadata": {
    "collapsed": false
   },
   "outputs": [],
   "source": [
    "labels = y_train_fc7_small"
   ]
  },
  {
   "cell_type": "code",
   "execution_count": 953,
   "metadata": {
    "collapsed": true
   },
   "outputs": [],
   "source": [
    "y = np.eye(max(labels) + 1)[labels]"
   ]
  },
  {
   "cell_type": "code",
   "execution_count": 965,
   "metadata": {
    "collapsed": true
   },
   "outputs": [],
   "source": [
    "XtX = X_train_fc7_small.T.dot(X_train_fc7_small)"
   ]
  },
  {
   "cell_type": "code",
   "execution_count": 979,
   "metadata": {
    "collapsed": false
   },
   "outputs": [
    {
     "name": "stdout",
     "output_type": "stream",
     "text": [
      "step 1 took 0.15542125701904297\n",
      "Compting train_preds 2\n",
      "Iter: 0, Train Accuracy: 0.9988115987957534, Test Accuracy: 0.9\n",
      "step 1 took 0.1811075210571289\n",
      "Compting train_preds 2\n",
      "Iter: 1, Train Accuracy: 0.9988115987957534, Test Accuracy: 0.9\n",
      "step 1 took 0.17215442657470703\n",
      "Compting train_preds 2\n",
      "Iter: 2, Train Accuracy: 0.9988115987957534, Test Accuracy: 0.902\n",
      "step 1 took 0.16565442085266113\n",
      "Compting train_preds 2\n",
      "Iter: 3, Train Accuracy: 0.9988908255427033, Test Accuracy: 0.9\n",
      "step 1 took 0.1684567928314209\n",
      "Compting train_preds 2\n",
      "Iter: 4, Train Accuracy: 0.998970052289653, Test Accuracy: 0.9\n",
      "step 1 took 0.17835235595703125\n",
      "Compting train_preds 2\n",
      "Iter: 5, Train Accuracy: 0.9992077325305023, Test Accuracy: 0.902\n",
      "step 1 took 0.16594862937927246\n",
      "Compting train_preds 2\n",
      "Iter: 6, Train Accuracy: 0.9993661860244019, Test Accuracy: 0.902\n",
      "step 1 took 0.16495776176452637\n",
      "Compting train_preds 2\n",
      "Iter: 7, Train Accuracy: 0.9994454127713516, Test Accuracy: 0.902\n",
      "step 1 took 0.1683351993560791\n",
      "Compting train_preds 2\n",
      "Iter: 8, Train Accuracy: 0.9996038662652511, Test Accuracy: 0.898\n",
      "step 1 took 0.1772174835205078\n",
      "Compting train_preds 2\n",
      "Iter: 9, Train Accuracy: 0.9996830930122009, Test Accuracy: 0.898\n",
      "step 1 took 0.16785287857055664\n",
      "Compting train_preds 2\n",
      "Iter: 10, Train Accuracy: 0.9996830930122009, Test Accuracy: 0.898\n",
      "step 1 took 0.16784358024597168\n",
      "Compting train_preds 2\n",
      "Iter: 11, Train Accuracy: 0.9996830930122009, Test Accuracy: 0.898\n",
      "step 1 took 0.15977025032043457\n",
      "Compting train_preds 2\n",
      "Iter: 12, Train Accuracy: 0.9996830930122009, Test Accuracy: 0.896\n",
      "step 1 took 0.16029715538024902\n",
      "Compting train_preds 2\n",
      "Iter: 13, Train Accuracy: 0.9996830930122009, Test Accuracy: 0.898\n",
      "step 1 took 0.16824817657470703\n",
      "Compting train_preds 2\n",
      "Iter: 14, Train Accuracy: 0.9996830930122009, Test Accuracy: 0.898\n",
      "step 1 took 0.17255401611328125\n",
      "Compting train_preds 2\n"
     ]
    },
    {
     "ename": "KeyboardInterrupt",
     "evalue": "",
     "output_type": "error",
     "traceback": [
      "\u001b[0;31m---------------------------------------------------------------------------\u001b[0m",
      "\u001b[0;31mKeyboardInterrupt\u001b[0m                         Traceback (most recent call last)",
      "\u001b[0;32m<ipython-input-979-3ec6c57be862>\u001b[0m in \u001b[0;36m<module>\u001b[0;34m()\u001b[0m\n\u001b[1;32m      2\u001b[0m \u001b[0mmisc\u001b[0m\u001b[0;34m.\u001b[0m\u001b[0mrreload\u001b[0m\u001b[0;34m(\u001b[0m\u001b[0mopt\u001b[0m\u001b[0;34m)\u001b[0m\u001b[0;34m\u001b[0m\u001b[0m\n\u001b[1;32m      3\u001b[0m \u001b[0;32mfrom\u001b[0m \u001b[0mopt\u001b[0m \u001b[0;32mimport\u001b[0m \u001b[0msoftmax\u001b[0m\u001b[0;34m\u001b[0m\u001b[0m\n\u001b[0;32m----> 4\u001b[0;31m \u001b[0msoftmax\u001b[0m\u001b[0;34m.\u001b[0m\u001b[0msoftmax_gn\u001b[0m\u001b[0;34m(\u001b[0m\u001b[0mX_train_fc7_small\u001b[0m\u001b[0;34m,\u001b[0m \u001b[0my_train_fc7_small\u001b[0m\u001b[0;34m,\u001b[0m \u001b[0mX_test_fc7_small\u001b[0m\u001b[0;34m,\u001b[0m \u001b[0my_test_fc7_small\u001b[0m\u001b[0;34m,\u001b[0m \u001b[0mXtX\u001b[0m\u001b[0;34m,\u001b[0m \u001b[0mstep_size\u001b[0m\u001b[0;34m=\u001b[0m\u001b[0;36m1\u001b[0m\u001b[0;34m)\u001b[0m\u001b[0;34m\u001b[0m\u001b[0m\n\u001b[0m",
      "\u001b[0;32m/home/ubuntu/pictureweb/opt/softmax.py\u001b[0m in \u001b[0;36msoftmax_gn\u001b[0;34m(X_train, y_train, X_test, y_test, XtX, step_size, multiplier, numiter, verbose)\u001b[0m\n\u001b[1;32m     69\u001b[0m             \u001b[0mgrad\u001b[0m \u001b[0;34m=\u001b[0m \u001b[0;34m(\u001b[0m\u001b[0;36m1.0\u001b[0m\u001b[0;34m/\u001b[0m\u001b[0mnum_samples\u001b[0m\u001b[0;34m)\u001b[0m\u001b[0;34m*\u001b[0m\u001b[0;34m(\u001b[0m\u001b[0mX_train\u001b[0m\u001b[0;34m.\u001b[0m\u001b[0mT\u001b[0m\u001b[0;34m.\u001b[0m\u001b[0mdot\u001b[0m\u001b[0;34m(\u001b[0m\u001b[0mtrain_preds\u001b[0m\u001b[0;34m)\u001b[0m\u001b[0;34m.\u001b[0m\u001b[0mT\u001b[0m\u001b[0;34m)\u001b[0m \u001b[0;34m-\u001b[0m \u001b[0mlambdav\u001b[0m\u001b[0;34m*\u001b[0m\u001b[0mw\u001b[0m\u001b[0;34m\u001b[0m\u001b[0m\n\u001b[1;32m     70\u001b[0m             \u001b[0mw\u001b[0m \u001b[0;34m+=\u001b[0m \u001b[0mstep_size\u001b[0m\u001b[0;34m*\u001b[0m\u001b[0;34m(\u001b[0m\u001b[0mlinalg\u001b[0m\u001b[0;34m.\u001b[0m\u001b[0msolve\u001b[0m\u001b[0;34m(\u001b[0m\u001b[0mgmat\u001b[0m\u001b[0;34m,\u001b[0m \u001b[0mgrad\u001b[0m\u001b[0;34m.\u001b[0m\u001b[0mT\u001b[0m\u001b[0;34m,\u001b[0m \u001b[0msym_pos\u001b[0m\u001b[0;34m=\u001b[0m\u001b[0;32mTrue\u001b[0m\u001b[0;34m)\u001b[0m\u001b[0;34m)\u001b[0m\u001b[0;34m.\u001b[0m\u001b[0mT\u001b[0m\u001b[0;34m\u001b[0m\u001b[0m\n\u001b[0;32m---> 71\u001b[0;31m             \u001b[0my_train_pred\u001b[0m \u001b[0;34m=\u001b[0m \u001b[0mnp\u001b[0m\u001b[0;34m.\u001b[0m\u001b[0margmax\u001b[0m\u001b[0;34m(\u001b[0m\u001b[0msoftmax_pred\u001b[0m\u001b[0;34m(\u001b[0m\u001b[0mw\u001b[0m\u001b[0;34m.\u001b[0m\u001b[0mdot\u001b[0m\u001b[0;34m(\u001b[0m\u001b[0mX_train\u001b[0m\u001b[0;34m.\u001b[0m\u001b[0mT\u001b[0m\u001b[0;34m)\u001b[0m\u001b[0;34m.\u001b[0m\u001b[0mT\u001b[0m\u001b[0;34m)\u001b[0m\u001b[0;34m,\u001b[0m \u001b[0maxis\u001b[0m\u001b[0;34m=\u001b[0m\u001b[0;36m1\u001b[0m\u001b[0;34m)\u001b[0m\u001b[0;34m\u001b[0m\u001b[0m\n\u001b[0m\u001b[1;32m     72\u001b[0m             \u001b[0my_test_pred\u001b[0m \u001b[0;34m=\u001b[0m \u001b[0mnp\u001b[0m\u001b[0;34m.\u001b[0m\u001b[0margmax\u001b[0m\u001b[0;34m(\u001b[0m\u001b[0msoftmax_pred\u001b[0m\u001b[0;34m(\u001b[0m\u001b[0mw\u001b[0m\u001b[0;34m.\u001b[0m\u001b[0mdot\u001b[0m\u001b[0;34m(\u001b[0m\u001b[0mX_test\u001b[0m\u001b[0;34m.\u001b[0m\u001b[0mT\u001b[0m\u001b[0;34m)\u001b[0m\u001b[0;34m.\u001b[0m\u001b[0mT\u001b[0m\u001b[0;34m)\u001b[0m\u001b[0;34m,\u001b[0m \u001b[0maxis\u001b[0m\u001b[0;34m=\u001b[0m\u001b[0;36m1\u001b[0m\u001b[0;34m)\u001b[0m\u001b[0;34m\u001b[0m\u001b[0m\n\u001b[1;32m     73\u001b[0m             \u001b[0mtrain_acc\u001b[0m \u001b[0;34m=\u001b[0m \u001b[0mmetrics\u001b[0m\u001b[0;34m.\u001b[0m\u001b[0maccuracy_score\u001b[0m\u001b[0;34m(\u001b[0m\u001b[0my_train\u001b[0m\u001b[0;34m,\u001b[0m \u001b[0my_train_pred\u001b[0m\u001b[0;34m)\u001b[0m\u001b[0;34m\u001b[0m\u001b[0m\n",
      "\u001b[0;31mKeyboardInterrupt\u001b[0m: "
     ]
    }
   ],
   "source": [
    "misc.rreload(softmax)\n",
    "misc.rreload(opt)\n",
    "from opt import softmax\n",
    "softmax.softmax_gn(X_train_fc7_small, y_train_fc7_small, X_test_fc7_small, y_test_fc7_small, XtX, step_size=1)"
   ]
  },
  {
   "cell_type": "code",
   "execution_count": 972,
   "metadata": {
    "collapsed": false
   },
   "outputs": [
    {
     "ename": "AttributeError",
     "evalue": "module 'conv.opt' has no attribute 'softmax'",
     "output_type": "error",
     "traceback": [
      "\u001b[0;31m---------------------------------------------------------------------------\u001b[0m",
      "\u001b[0;31mAttributeError\u001b[0m                            Traceback (most recent call last)",
      "\u001b[0;32m<ipython-input-972-4279601b1e2c>\u001b[0m in \u001b[0;36m<module>\u001b[0;34m()\u001b[0m\n\u001b[0;32m----> 1\u001b[0;31m \u001b[0mopt\u001b[0m\u001b[0;34m.\u001b[0m\u001b[0msoftmax\u001b[0m\u001b[0;34m\u001b[0m\u001b[0m\n\u001b[0m",
      "\u001b[0;31mAttributeError\u001b[0m: module 'conv.opt' has no attribute 'softmax'"
     ]
    }
   ],
   "source": [
    "opt.softmax"
   ]
  },
  {
   "cell_type": "code",
   "execution_count": null,
   "metadata": {
    "collapsed": true
   },
   "outputs": [],
   "source": []
  }
 ],
 "metadata": {
  "kernelspec": {
   "display_name": "Python 3",
   "language": "python",
   "name": "python3"
  },
  "language_info": {
   "codemirror_mode": {
    "name": "ipython",
    "version": 3
   },
   "file_extension": ".py",
   "mimetype": "text/x-python",
   "name": "python",
   "nbconvert_exporter": "python",
   "pygments_lexer": "ipython3",
   "version": "3.6.0"
  }
 },
 "nbformat": 4,
 "nbformat_minor": 2
}
