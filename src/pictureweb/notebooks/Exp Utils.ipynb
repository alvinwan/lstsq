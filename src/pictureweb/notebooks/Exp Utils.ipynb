{
 "cells": [
  {
   "cell_type": "code",
   "execution_count": 1,
   "metadata": {
    "collapsed": false
   },
   "outputs": [
    {
     "data": {
      "text/plain": [
       "<module 'exputil' from '/data/vaishaal/pictureweb/exputil.py'>"
      ]
     },
     "execution_count": 1,
     "metadata": {},
     "output_type": "execute_result"
    }
   ],
   "source": [
    "import gspread\n",
    "from oauth2client.service_account import ServiceAccountCredentials\n",
    "import datetime\n",
    "import collections\n",
    "import hashlib\n",
    "import os\n",
    "import git\n",
    "import json\n",
    "import boto3\n",
    "import exputil\n",
    "from importlib import reload\n",
    "reload(exputil)"
   ]
  },
  {
   "cell_type": "code",
   "execution_count": 2,
   "metadata": {
    "collapsed": true
   },
   "outputs": [],
   "source": [
    "exputil.clear_sheet()"
   ]
  },
  {
   "cell_type": "code",
   "execution_count": 267,
   "metadata": {
    "collapsed": false
   },
   "outputs": [],
   "source": [
    "feat_params = {\n",
    "    'featurization_scheme': 'pixels',\n",
    "}\n",
    "\n",
    "solve_params = {\n",
    "    'solver': 'direct_linear',\n",
    "    'regularization': 1e-4\n",
    "}\n",
    "\n",
    "results = {\n",
    "    'train_top_1': 0.0,\n",
    "    'test_top_1': 0.0,\n",
    "    'test_top_5': 0.0,\n",
    "    'train_top_5': 0.0,\n",
    "    'featurization_time': 0.0\n",
    "}\n",
    "    \n",
    "    \n",
    "\n",
    "sample_result_config = {\n",
    "\n",
    "    'git_commit_hash': '8390asd8sada3jhj1k3g',\n",
    "    'experiment_hash': '32189dasjksaldj',\n",
    "    'notes': 'Just testing if update works',\n",
    "    'timestamp': datetime.datetime.now().__str__(),\n",
    "    'feat_params': feat_params,\n",
    "    'solve_params': solve_params,\n",
    "    'results': results\n",
    "}"
   ]
  },
  {
   "cell_type": "code",
   "execution_count": 268,
   "metadata": {
    "collapsed": false
   },
   "outputs": [
    {
     "data": {
      "text/plain": [
       "{'experiment_hash': '32189dasjksaldj',\n",
       " 'featurization_scheme': 'pixels',\n",
       " 'featurization_time': 0.0,\n",
       " 'git_commit_hash': '8390asd8sada3jhj1k3g',\n",
       " 'notes': 'Just testing if update works',\n",
       " 'regularization': 0.0001,\n",
       " 'solver': 'direct_linear',\n",
       " 'test_top_1': 0.0,\n",
       " 'test_top_5': 0.0,\n",
       " 'timestamp': '2017-04-03 14:57:23.474861',\n",
       " 'train_top_1': 0.0,\n",
       " 'train_top_5': 0.0}"
      ]
     },
     "execution_count": 268,
     "metadata": {},
     "output_type": "execute_result"
    }
   ],
   "source": [
    "flatten(sample_result_config)    "
   ]
  },
  {
   "cell_type": "code",
   "execution_count": 262,
   "metadata": {
    "collapsed": false
   },
   "outputs": [
    {
     "name": "stdout",
     "output_type": "stream",
     "text": [
      "/bin/bash -c 'cd /data/vaishaal ; tar -cf ./picture_web_2017-04-03-14:52:45.341665.tar pictureweb --exclude-from <(find pictureweb -size +3M)'\n",
      "1fe12a4617ee2c2cfa979e4744b4c037\n",
      "/bin/bash -c 'cd /data/vaishaal ; tar -cf ./picture_web_2017-04-03-14:52:51.578977.tar pictureweb --exclude-from <(find pictureweb -size +3M)'\n",
      "aee1c5959cbc6df832bb0e784e4b33c6\n",
      "/bin/bash -c 'cd /data/vaishaal ; tar -cf ./picture_web_2017-04-03-14:52:57.795270.tar pictureweb --exclude-from <(find pictureweb -size +3M)'\n",
      "82cb4712e89a345b2c7af534bdc4723f\n",
      "/bin/bash -c 'cd /data/vaishaal ; tar -cf ./picture_web_2017-04-03-14:53:03.884565.tar pictureweb --exclude-from <(find pictureweb -size +3M)'\n",
      "8abeada4a2edd87cbcfdb1cddac3e613\n"
     ]
    }
   ],
   "source": [
    "exputil.clear_sheet()\n",
    "for reg in [1e-4, 1e-5, 1e-1, 1]:\n",
    "    solve_params[\"regularization\"] = reg\n",
    "    exputil.save_results(solve_params, feat_params, results, \"test_run\", \"/data/vaishaal/pictureweb/\", update_sheet=True)"
   ]
  },
  {
   "cell_type": "code",
   "execution_count": 265,
   "metadata": {
    "collapsed": false
   },
   "outputs": [
    {
     "name": "stdout",
     "output_type": "stream",
     "text": [
      "b'{\"solve_params\": {\"solver\": \"direct_linear\", \"regularization\": 0.0001, \"0.0001\": 0.0001, \"1e-05\": 1e-05, \"0.1\": 0.1, \"1\": 1}, \"feat_params\": {\"featurization_scheme\": \"pixels\"}, \"results\": {\"train_top_1\": 0.0, \"test_top_1\": 0.0, \"test_top_5\": 0.0, \"train_top_5\": 0.0, \"featurization_time\": 0.0}, \"git_commit_hash\": \"4f5abf24e6c9af111a9431ce0ca7a79498d064f1\", \"notes\": \"test_run\", \"experiment_hash\": \"1fe12a4617ee2c2cfa979e4744b4c037\", \"timestamp\": \"2017-04-03 14:52:45.658844\"}'\n",
      "b'{\"solve_params\": {\"solver\": \"direct_linear\", \"regularization\": 0.0001, \"0.0001\": 0.0001, \"1e-05\": 1e-05, \"0.1\": 0.1, \"1\": 1}, \"feat_params\": {\"featurization_scheme\": \"pixels\"}, \"results\": {\"train_top_1\": 0.0, \"test_top_1\": 0.0, \"test_top_5\": 0.0, \"train_top_5\": 0.0, \"featurization_time\": 0.0}, \"git_commit_hash\": \"4f5abf24e6c9af111a9431ce0ca7a79498d064f1\", \"notes\": \"test_run\", \"experiment_hash\": \"42fba49b88578eb984337765f9d5c4cf\", \"timestamp\": \"2017-04-03 14:50:58.072381\"}'\n",
      "b'{\"solve_params\": {\"solver\": \"direct_linear\", \"regularization\": 0.1, \"0.0001\": 0.0001, \"1e-05\": 1e-05, \"0.1\": 0.1, \"1\": 1}, \"feat_params\": {\"featurization_scheme\": \"pixels\"}, \"results\": {\"train_top_1\": 0.0, \"test_top_1\": 0.0, \"test_top_5\": 0.0, \"train_top_5\": 0.0, \"featurization_time\": 0.0}, \"git_commit_hash\": \"4f5abf24e6c9af111a9431ce0ca7a79498d064f1\", \"notes\": \"test_run\", \"experiment_hash\": \"4b87b0a6df0aafb086ffcba7e35f0e32\", \"timestamp\": \"2017-04-03 14:51:09.803430\"}'\n",
      "b'{\"solve_params\": {\"solver\": \"direct_linear\", \"regularization\": 0.1, \"0.0001\": 0.0001, \"1e-05\": 1e-05, \"0.1\": 0.1, \"1\": 1}, \"feat_params\": {\"featurization_scheme\": \"pixels\"}, \"results\": {\"train_top_1\": 0.0, \"test_top_1\": 0.0, \"test_top_5\": 0.0, \"train_top_5\": 0.0, \"featurization_time\": 0.0}, \"git_commit_hash\": \"4f5abf24e6c9af111a9431ce0ca7a79498d064f1\", \"notes\": \"test_run\", \"experiment_hash\": \"82cb4712e89a345b2c7af534bdc4723f\", \"timestamp\": \"2017-04-03 14:52:57.919560\"}'\n",
      "b'{\"solve_params\": {\"solver\": \"direct_linear\", \"regularization\": 1, \"0.0001\": 0.0001, \"1e-05\": 1e-05, \"0.1\": 0.1, \"1\": 1}, \"feat_params\": {\"featurization_scheme\": \"pixels\"}, \"results\": {\"train_top_1\": 0.0, \"test_top_1\": 0.0, \"test_top_5\": 0.0, \"train_top_5\": 0.0, \"featurization_time\": 0.0}, \"git_commit_hash\": \"4f5abf24e6c9af111a9431ce0ca7a79498d064f1\", \"notes\": \"test_run\", \"experiment_hash\": \"8abeada4a2edd87cbcfdb1cddac3e613\", \"timestamp\": \"2017-04-03 14:53:04.001615\"}'\n",
      "b'{\"solve_params\": {\"solver\": \"direct_linear\", \"regularization\": 1e-05, \"0.0001\": 0.0001, \"1e-05\": 1e-05, \"0.1\": 0.1, \"1\": 1}, \"feat_params\": {\"featurization_scheme\": \"pixels\"}, \"results\": {\"train_top_1\": 0.0, \"test_top_1\": 0.0, \"test_top_5\": 0.0, \"train_top_5\": 0.0, \"featurization_time\": 0.0}, \"git_commit_hash\": \"4f5abf24e6c9af111a9431ce0ca7a79498d064f1\", \"notes\": \"test_run\", \"experiment_hash\": \"aee1c5959cbc6df832bb0e784e4b33c6\", \"timestamp\": \"2017-04-03 14:52:51.695321\"}'\n",
      "b'{\"solve_params\": {\"solver\": \"direct_linear\", \"regularization\": 1e-05, \"0.0001\": 0.0001, \"1e-05\": 1e-05, \"0.1\": 0.1, \"1\": 1}, \"feat_params\": {\"featurization_scheme\": \"pixels\"}, \"results\": {\"train_top_1\": 0.0, \"test_top_1\": 0.0, \"test_top_5\": 0.0, \"train_top_5\": 0.0, \"featurization_time\": 0.0}, \"git_commit_hash\": \"4f5abf24e6c9af111a9431ce0ca7a79498d064f1\", \"notes\": \"test_run\", \"experiment_hash\": \"b66ebbf53e4df4930d8bdf03c00d55af\", \"timestamp\": \"2017-04-03 14:51:03.707750\"}'\n",
      "b'{\"solve_params\": {\"solver\": \"direct_linear\", \"regularization\": 1, \"0.0001\": 0.0001, \"1e-05\": 1e-05, \"0.1\": 0.1, \"1\": 1}, \"feat_params\": {\"featurization_scheme\": \"pixels\"}, \"results\": {\"train_top_1\": 0.0, \"test_top_1\": 0.0, \"test_top_5\": 0.0, \"train_top_5\": 0.0, \"featurization_time\": 0.0}, \"git_commit_hash\": \"4f5abf24e6c9af111a9431ce0ca7a79498d064f1\", \"notes\": \"test_run\", \"experiment_hash\": \"ce1d144a980889c685a9bdd5421f1f8c\", \"timestamp\": \"2017-04-03 14:51:16.246025\"}'\n"
     ]
    }
   ],
   "source": [
    "exputil.overwrite_sheet_from_s3(filter_fn=lambda x: x[\"solve_params\"][\"regularization\"] > 0.001)"
   ]
  },
  {
   "cell_type": "code",
   "execution_count": 269,
   "metadata": {
    "collapsed": true
   },
   "outputs": [],
   "source": [
    "exputil.overwrite_sheet_from_s3()"
   ]
  },
  {
   "cell_type": "code",
   "execution_count": null,
   "metadata": {
    "collapsed": true
   },
   "outputs": [],
   "source": []
  }
 ],
 "metadata": {
  "kernelspec": {
   "display_name": "Python 3",
   "language": "python",
   "name": "python3"
  },
  "language_info": {
   "codemirror_mode": {
    "name": "ipython",
    "version": 3
   },
   "file_extension": ".py",
   "mimetype": "text/x-python",
   "name": "python",
   "nbconvert_exporter": "python",
   "pygments_lexer": "ipython3",
   "version": "3.6.0"
  }
 },
 "nbformat": 4,
 "nbformat_minor": 2
}
