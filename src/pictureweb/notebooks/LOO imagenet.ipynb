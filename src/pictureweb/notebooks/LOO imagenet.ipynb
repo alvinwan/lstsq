{
 "cells": [
  {
   "cell_type": "code",
   "execution_count": 18,
   "metadata": {
    "collapsed": false
   },
   "outputs": [
    {
     "name": "stdout",
     "output_type": "stream",
     "text": [
      "Populating the interactive namespace from numpy and matplotlib\n"
     ]
    }
   ],
   "source": [
    "%pylab inline\n",
    "import dsift\n",
    "import sys\n",
    "sys.path.insert(0, \"/home/ubuntu/pictureweb/notebooks/\")\n",
    "from pictureweb.distributed import sharded_matrix \n",
    "from pictureweb.distributed import distributed as D \n",
    "from importlib import reload\n",
    "reload(sharded_matrix)\n",
    "import pywren\n",
    "import scipy.linalg\n",
    "from pictureweb.opt import ls\n",
    "from numba import jit, float64, int64\n",
    "from sklearn import metrics\n",
    "import pywren"
   ]
  },
  {
   "cell_type": "code",
   "execution_count": 140,
   "metadata": {
    "collapsed": false
   },
   "outputs": [
    {
     "name": "stdout",
     "output_type": "stream",
     "text": [
      "CPU times: user 64 ms, sys: 4 ms, total: 68 ms\n",
      "Wall time: 213 ms\n",
      "CPU times: user 64 ms, sys: 0 ns, total: 64 ms\n",
      "Wall time: 120 ms\n",
      "CPU times: user 64 ms, sys: 0 ns, total: 64 ms\n",
      "Wall time: 131 ms\n"
     ]
    }
   ],
   "source": [
    "%time X_train_sharded_big_shards = sharded_matrix.ShardedMatrix(\"X_train_imagenet_fc7\", bucket=\"vaishaalpywrenlinalg\")\n",
    "%time X_train_sharded = sharded_matrix.ShardedMatrix(\"X_train_imagenet_fc7_small_shards\", bucket=\"vaishaalpywrenlinalg\")\n",
    "%time X_test_sharded = sharded_matrix.ShardedMatrix(\"X_test_imagenet_fc7\", bucket=\"vaishaalpywrenlinalg\")"
   ]
  },
  {
   "cell_type": "code",
   "execution_count": 141,
   "metadata": {
    "collapsed": false
   },
   "outputs": [
    {
     "name": "stdout",
     "output_type": "stream",
     "text": [
      "CPU times: user 56 ms, sys: 0 ns, total: 56 ms\n",
      "Wall time: 202 ms\n"
     ]
    }
   ],
   "source": [
    "%time y_train_sharded = sharded_matrix.ShardedMatrix(\"y_train_imagenet_fc7_small_shards\", bucket=\"vaishaalpywrenlinalg\")"
   ]
  },
  {
   "cell_type": "code",
   "execution_count": null,
   "metadata": {
    "collapsed": false
   },
   "outputs": [],
   "source": []
  },
  {
   "cell_type": "code",
   "execution_count": null,
   "metadata": {
    "collapsed": true
   },
   "outputs": [],
   "source": []
  },
  {
   "cell_type": "code",
   "execution_count": 4,
   "metadata": {
    "collapsed": false
   },
   "outputs": [
    {
     "ename": "NameError",
     "evalue": "name 'y_train' is not defined",
     "output_type": "error",
     "traceback": [
      "\u001b[0;31m---------------------------------------------------------------------------\u001b[0m",
      "\u001b[0;31mNameError\u001b[0m                                 Traceback (most recent call last)",
      "\u001b[0;32m<ipython-input-4-fd7bb53c4f8f>\u001b[0m in \u001b[0;36m<module>\u001b[0;34m()\u001b[0m\n\u001b[0;32m----> 1\u001b[0;31m \u001b[0my_train\u001b[0m \u001b[0;34m=\u001b[0m \u001b[0my_train\u001b[0m\u001b[0;34m[\u001b[0m\u001b[0;34m:\u001b[0m\u001b[0;34m,\u001b[0m  \u001b[0mnp\u001b[0m\u001b[0;34m.\u001b[0m\u001b[0mnewaxis\u001b[0m\u001b[0;34m]\u001b[0m\u001b[0;34m\u001b[0m\u001b[0m\n\u001b[0m",
      "\u001b[0;31mNameError\u001b[0m: name 'y_train' is not defined"
     ]
    }
   ],
   "source": [
    "y_train = y_train[:,  np.newaxis]"
   ]
  },
  {
   "cell_type": "code",
   "execution_count": 5,
   "metadata": {
    "collapsed": false
   },
   "outputs": [
    {
     "ename": "NameError",
     "evalue": "name 'y_train' is not defined",
     "output_type": "error",
     "traceback": [
      "\u001b[0;31m---------------------------------------------------------------------------\u001b[0m",
      "\u001b[0;31mNameError\u001b[0m                                 Traceback (most recent call last)",
      "\u001b[0;32m<ipython-input-5-b7e6e0797d97>\u001b[0m in \u001b[0;36m<module>\u001b[0;34m()\u001b[0m\n\u001b[0;32m----> 1\u001b[0;31m \u001b[0my_train\u001b[0m\u001b[0;34m\u001b[0m\u001b[0m\n\u001b[0m",
      "\u001b[0;31mNameError\u001b[0m: name 'y_train' is not defined"
     ]
    }
   ],
   "source": [
    "y_train"
   ]
  },
  {
   "cell_type": "code",
   "execution_count": 6,
   "metadata": {
    "collapsed": false
   },
   "outputs": [
    {
     "name": "stdout",
     "output_type": "stream",
     "text": [
      "CPU times: user 24 ms, sys: 4.6 s, total: 4.62 s\n",
      "Wall time: 41.6 s\n",
      "CPU times: user 24 ms, sys: 312 ms, total: 336 ms\n",
      "Wall time: 3.92 s\n"
     ]
    }
   ],
   "source": [
    "%time X_train = D.get_local_matrix(X_train_sharded_big_shards)\n",
    "%time X_test = D.get_local_matrix(X_test_sharded)"
   ]
  },
  {
   "cell_type": "code",
   "execution_count": 7,
   "metadata": {
    "collapsed": false
   },
   "outputs": [],
   "source": [
    "y_train = np.load(\"y_train_fc7.npy\")\n",
    "y_test = np.load(\"y_val_fc7.npy\")"
   ]
  },
  {
   "cell_type": "code",
   "execution_count": 8,
   "metadata": {
    "collapsed": false
   },
   "outputs": [
    {
     "name": "stdout",
     "output_type": "stream",
     "text": [
      "CPU times: user 31min 4s, sys: 5.7 s, total: 31min 10s\n",
      "Wall time: 1min 22s\n"
     ]
    }
   ],
   "source": [
    "%time XTX = X_train.T.dot(X_train)"
   ]
  },
  {
   "cell_type": "code",
   "execution_count": 9,
   "metadata": {
    "collapsed": false
   },
   "outputs": [
    {
     "name": "stdout",
     "output_type": "stream",
     "text": [
      "CPU times: user 836 ms, sys: 2.54 s, total: 3.37 s\n",
      "Wall time: 3.37 s\n"
     ]
    }
   ],
   "source": [
    "%time y_train_enc = np.eye(1000)[y_train]"
   ]
  },
  {
   "cell_type": "code",
   "execution_count": 10,
   "metadata": {
    "collapsed": false
   },
   "outputs": [
    {
     "name": "stdout",
     "output_type": "stream",
     "text": [
      "CPU times: user 10min 22s, sys: 2min 45s, total: 13min 7s\n",
      "Wall time: 25.9 s\n"
     ]
    }
   ],
   "source": [
    "%time Xty = X_train.T.dot(y_train_enc)"
   ]
  },
  {
   "cell_type": "code",
   "execution_count": 171,
   "metadata": {
    "collapsed": false
   },
   "outputs": [
    {
     "name": "stdout",
     "output_type": "stream",
     "text": [
      "CPU times: user 8.1 s, sys: 228 ms, total: 8.32 s\n",
      "Wall time: 1.25 s\n"
     ]
    }
   ],
   "source": [
    "%time model = scipy.linalg.solve(XTX, Xty, sym_pos=True)"
   ]
  },
  {
   "cell_type": "code",
   "execution_count": 12,
   "metadata": {
    "collapsed": false
   },
   "outputs": [
    {
     "name": "stdout",
     "output_type": "stream",
     "text": [
      "CPU times: user 47.1 s, sys: 6.38 s, total: 53.4 s\n",
      "Wall time: 3.65 s\n"
     ]
    }
   ],
   "source": [
    "%time model2 = np.linalg.inv(XTX).dot(Xty)"
   ]
  },
  {
   "cell_type": "code",
   "execution_count": 13,
   "metadata": {
    "collapsed": false
   },
   "outputs": [
    {
     "name": "stdout",
     "output_type": "stream",
     "text": [
      "CPU times: user 6min 36s, sys: 3min 5s, total: 9min 41s\n",
      "Wall time: 21 s\n",
      "CPU times: user 20.4 s, sys: 13.2 s, total: 33.6 s\n",
      "Wall time: 1.05 s\n"
     ]
    }
   ],
   "source": [
    "%time y_train_pred = X_train.dot(model)\n",
    "%time y_test_pred = X_test.dot(model)"
   ]
  },
  {
   "cell_type": "code",
   "execution_count": 14,
   "metadata": {
    "collapsed": false
   },
   "outputs": [
    {
     "name": "stdout",
     "output_type": "stream",
     "text": [
      "CPU times: user 43 s, sys: 2 s, total: 45 s\n",
      "Wall time: 3.86 s\n"
     ]
    }
   ],
   "source": [
    "%time XTX_inv = np.linalg.inv(XTX)"
   ]
  },
  {
   "cell_type": "code",
   "execution_count": 15,
   "metadata": {
    "collapsed": false
   },
   "outputs": [
    {
     "name": "stdout",
     "output_type": "stream",
     "text": [
      "Test top 5 0.73462\n",
      "Train top 5 0.845536140097\n",
      "Test top 1 0.49606\n",
      "Train top 1 0.612692958841\n"
     ]
    }
   ],
   "source": [
    "print(\"Test top 5\", ls.top_k_accuracy(y_test, y_test_pred))\n",
    "print(\"Train top 5\", ls.top_k_accuracy(y_train, y_train_pred))\n",
    "print(\"Test top 1\", ls.top_k_accuracy(y_test, y_test_pred, k=1))\n",
    "print(\"Train top 1\", ls.top_k_accuracy(y_train, y_train_pred, k=1))"
   ]
  },
  {
   "cell_type": "code",
   "execution_count": 16,
   "metadata": {
    "collapsed": false
   },
   "outputs": [
    {
     "name": "stdout",
     "output_type": "stream",
     "text": [
      "Help on function jit in module numba.decorators:\n",
      "\n",
      "jit(signature_or_function=None, locals={}, target='cpu', cache=False, **options)\n",
      "    This decorator is used to compile a Python function into native code.\n",
      "    \n",
      "    Args\n",
      "    -----\n",
      "    signature:\n",
      "        The (optional) signature or list of signatures to be compiled.\n",
      "        If not passed, required signatures will be compiled when the\n",
      "        decorated function is called, depending on the argument values.\n",
      "        As a convenience, you can directly pass the function to be compiled\n",
      "        instead.\n",
      "    \n",
      "    locals: dict\n",
      "        Mapping of local variable names to Numba types. Used to override the\n",
      "        types deduced by Numba's type inference engine.\n",
      "    \n",
      "    target: str\n",
      "        Specifies the target platform to compile for. Valid targets are cpu,\n",
      "        gpu, npyufunc, and cuda. Defaults to cpu.\n",
      "    \n",
      "    targetoptions:\n",
      "        For a cpu target, valid options are:\n",
      "            nopython: bool\n",
      "                Set to True to disable the use of PyObjects and Python API\n",
      "                calls. The default behavior is to allow the use of PyObjects\n",
      "                and Python API. Default value is False.\n",
      "    \n",
      "            forceobj: bool\n",
      "                Set to True to force the use of PyObjects for every value.\n",
      "                Default value is False.\n",
      "    \n",
      "            looplift: bool\n",
      "                Set to True to enable jitting loops in nopython mode while\n",
      "                leaving surrounding code in object mode. This allows functions\n",
      "                to allocate NumPy arrays and use Python objects, while the\n",
      "                tight loops in the function can still be compiled in nopython\n",
      "                mode. Any arrays that the tight loop uses should be created\n",
      "                before the loop is entered. Default value is True.\n",
      "    \n",
      "    Returns\n",
      "    --------\n",
      "    A callable usable as a compiled function.  Actual compiling will be\n",
      "    done lazily if no explicit signatures are passed.\n",
      "    \n",
      "    Examples\n",
      "    --------\n",
      "    The function can be used in the following ways:\n",
      "    \n",
      "    1) jit(signatures, target='cpu', **targetoptions) -> jit(function)\n",
      "    \n",
      "        Equivalent to:\n",
      "    \n",
      "            d = dispatcher(function, targetoptions)\n",
      "            for signature in signatures:\n",
      "                d.compile(signature)\n",
      "    \n",
      "        Create a dispatcher object for a python function.  Then, compile\n",
      "        the function with the given signature(s).\n",
      "    \n",
      "        Example:\n",
      "    \n",
      "            @jit(\"int32(int32, int32)\")\n",
      "            def foo(x, y):\n",
      "                return x + y\n",
      "    \n",
      "            @jit([\"int32(int32, int32)\", \"float32(float32, float32)\"])\n",
      "            def bar(x, y):\n",
      "                return x + y\n",
      "    \n",
      "    2) jit(function, target='cpu', **targetoptions) -> dispatcher\n",
      "    \n",
      "        Create a dispatcher function object that specializes at call site.\n",
      "    \n",
      "        Examples:\n",
      "    \n",
      "            @jit\n",
      "            def foo(x, y):\n",
      "                return x + y\n",
      "    \n",
      "            @jit(target='cpu', nopython=True)\n",
      "            def bar(x, y):\n",
      "                return x + y\n",
      "\n"
     ]
    }
   ],
   "source": [
    "help(jit)"
   ]
  },
  {
   "cell_type": "code",
   "execution_count": 124,
   "metadata": {
    "collapsed": false
   },
   "outputs": [],
   "source": [
    "def loo_model(XTX_inv, XtY, X_train, y_train, i, n_classes=1000):\n",
    "    a = X_train[i]\n",
    "    y = np.eye(n_classes)[y_train[i]]\n",
    "    Px = np.dot(XTX_inv,a)[:, np.newaxis]\n",
    "    aPx = np.dot(a.T,Px)\n",
    "    PxPxt = np.dot(Px,Px.T)\n",
    "    update = ((1.0/(1.0 - aPx)) * PxPxt)\n",
    "    XTX_inv_update = XTX_inv + update\n",
    "    XtY_update = XtY - a[:,np.newaxis].dot(y[np.newaxis,:])\n",
    "    return np.dot(XTX_inv_update,XtY_update)"
   ]
  },
  {
   "cell_type": "code",
   "execution_count": 125,
   "metadata": {
    "collapsed": false
   },
   "outputs": [],
   "source": [
    "def loo_model_eval(XTX_inv, XtY, X_train, y_train, eval_set, n_classes=1000):\n",
    "    y_preds = np.zeros((len(eval_set), n_classes))\n",
    "    for idx,i in enumerate(eval_set):\n",
    "        model_loo = loo_model(XTX_inv, XtY, X_train, y_train.ravel(), i, n_classes)\n",
    "        y_preds[idx] = X_train[i:i+1].dot(model_loo)\n",
    "    return y_preds\n",
    "\n",
    "def loo_model_eval_pywren(XTX_inv_sharded, XtY_sharded, X_train_sharded, y_train_sharded, block, n_classes=1000):\n",
    "    XTX_inv = XTX_inv_sharded.get_block(0,0)\n",
    "    XTy = XtY_sharded.get_block(0,0)\n",
    "    X_train_block = X_train_sharded.get_block(block, 0)\n",
    "    y_train_block = y_train_sharded.get_block(block, 0)\n",
    "    return loo_model_eval(XTX_inv, XTy, X_train_block, y_train_block, list(range(X_train_block.shape[0])))\n",
    "    \n",
    "        "
   ]
  },
  {
   "cell_type": "code",
   "execution_count": 126,
   "metadata": {
    "collapsed": true
   },
   "outputs": [],
   "source": [
    "pwex = pywren.default_executor()"
   ]
  },
  {
   "cell_type": "code",
   "execution_count": 139,
   "metadata": {
    "collapsed": false
   },
   "outputs": [
    {
     "name": "stdout",
     "output_type": "stream",
     "text": [
      "Sharding matrix..... of shape (4096, 4096)\n",
      "0 4096 0 4096\n",
      "Sharding matrix..... of shape (4096, 1000)\n",
      "0 4096 0 1000\n"
     ]
    }
   ],
   "source": [
    "XTX_inv_sharded = sharded_matrix.ShardedMatrix(\"XTX_inv_sharded\", bucket=\"vaishaalpywrenlinalg\", data=XTX_inv, reshard=True)\n",
    "XTy_sharded = sharded_matrix.ShardedMatrix(\"XTy_sharded\", bucket=\"vaishaalpywrenlinalg\", data=Xty, reshard=True)"
   ]
  },
  {
   "cell_type": "code",
   "execution_count": 114,
   "metadata": {
    "collapsed": false
   },
   "outputs": [
    {
     "data": {
      "text/plain": [
       "20019"
      ]
     },
     "execution_count": 114,
     "metadata": {},
     "output_type": "execute_result"
    }
   ],
   "source": [
    "len(y_train_sharded._block_idxs(0))"
   ]
  },
  {
   "cell_type": "code",
   "execution_count": 157,
   "metadata": {
    "collapsed": false
   },
   "outputs": [],
   "source": [
    "futures = pwex.map(lambda x: loo_model_eval_pywren(XTX_inv_sharded, XTy_sharded, X_train_sharded, y_train_sharded, x), y_train_sharded._block_idxs(0)[:3000], exclude_modules=['site-packages'])"
   ]
  },
  {
   "cell_type": "code",
   "execution_count": 158,
   "metadata": {
    "collapsed": false
   },
   "outputs": [
    {
     "name": "stdout",
     "output_type": "stream",
     "text": [
      "CPU times: user 5min 39s, sys: 17.9 s, total: 5min 56s\n",
      "Wall time: 12min 4s\n"
     ]
    },
    {
     "data": {
      "text/plain": [
       "([<pywren.future.ResponseFuture at 0x7faa6d48d6d8>,\n",
       "  <pywren.future.ResponseFuture at 0x7fb7c8f1de10>,\n",
       "  <pywren.future.ResponseFuture at 0x7fad1c0d1d68>,\n",
       "  <pywren.future.ResponseFuture at 0x7faa6dd9b898>,\n",
       "  <pywren.future.ResponseFuture at 0x7fa9fc25fbe0>,\n",
       "  <pywren.future.ResponseFuture at 0x7faa6d2d3710>,\n",
       "  <pywren.future.ResponseFuture at 0x7faa6df1a080>,\n",
       "  <pywren.future.ResponseFuture at 0x7fad042e0e80>,\n",
       "  <pywren.future.ResponseFuture at 0x7faa6d48de80>,\n",
       "  <pywren.future.ResponseFuture at 0x7faa6dc1b6d8>,\n",
       "  <pywren.future.ResponseFuture at 0x7faa6d7ed128>,\n",
       "  <pywren.future.ResponseFuture at 0x7faa6dd9b6d8>,\n",
       "  <pywren.future.ResponseFuture at 0x7faa6d507f60>,\n",
       "  <pywren.future.ResponseFuture at 0x7faa6d48d748>,\n",
       "  <pywren.future.ResponseFuture at 0x7faa6d507ba8>,\n",
       "  <pywren.future.ResponseFuture at 0x7faa6d507898>,\n",
       "  <pywren.future.ResponseFuture at 0x7faa6d1df278>,\n",
       "  <pywren.future.ResponseFuture at 0x7fa9fc3635f8>,\n",
       "  <pywren.future.ResponseFuture at 0x7faa6d7ed780>,\n",
       "  <pywren.future.ResponseFuture at 0x7faa6c141550>,\n",
       "  <pywren.future.ResponseFuture at 0x7faa6dc70b00>,\n",
       "  <pywren.future.ResponseFuture at 0x7fad1c0d14e0>,\n",
       "  <pywren.future.ResponseFuture at 0x7fad37cd9ef0>,\n",
       "  <pywren.future.ResponseFuture at 0x7facf40099b0>,\n",
       "  <pywren.future.ResponseFuture at 0x7fb7c907dda0>,\n",
       "  <pywren.future.ResponseFuture at 0x7fa9fc25fc50>,\n",
       "  <pywren.future.ResponseFuture at 0x7faa6d1df3c8>,\n",
       "  <pywren.future.ResponseFuture at 0x7fad042e0ba8>,\n",
       "  <pywren.future.ResponseFuture at 0x7fa9fc3900f0>,\n",
       "  <pywren.future.ResponseFuture at 0x7faa6d507a58>,\n",
       "  <pywren.future.ResponseFuture at 0x7faa6dc1bef0>,\n",
       "  <pywren.future.ResponseFuture at 0x7fad042e0080>,\n",
       "  <pywren.future.ResponseFuture at 0x7faa6c141240>,\n",
       "  <pywren.future.ResponseFuture at 0x7fad042e0358>,\n",
       "  <pywren.future.ResponseFuture at 0x7faa6dd9be80>,\n",
       "  <pywren.future.ResponseFuture at 0x7fad042e0748>,\n",
       "  <pywren.future.ResponseFuture at 0x7fa9fc25f588>,\n",
       "  <pywren.future.ResponseFuture at 0x7faa6d853240>,\n",
       "  <pywren.future.ResponseFuture at 0x7faa6df1a940>,\n",
       "  <pywren.future.ResponseFuture at 0x7fad37efd080>,\n",
       "  <pywren.future.ResponseFuture at 0x7faa6c1410f0>,\n",
       "  <pywren.future.ResponseFuture at 0x7faa6d1df400>,\n",
       "  <pywren.future.ResponseFuture at 0x7fa9fc25f240>,\n",
       "  <pywren.future.ResponseFuture at 0x7faa6d8532b0>,\n",
       "  <pywren.future.ResponseFuture at 0x7fad0420fdd8>,\n",
       "  <pywren.future.ResponseFuture at 0x7faa6d48dd68>,\n",
       "  <pywren.future.ResponseFuture at 0x7faa6d48da90>,\n",
       "  <pywren.future.ResponseFuture at 0x7faa6dc1b4a8>,\n",
       "  <pywren.future.ResponseFuture at 0x7faa6d1d4278>,\n",
       "  <pywren.future.ResponseFuture at 0x7fa9fc25f550>,\n",
       "  <pywren.future.ResponseFuture at 0x7fad37cd9320>,\n",
       "  <pywren.future.ResponseFuture at 0x7faa6d853a90>,\n",
       "  <pywren.future.ResponseFuture at 0x7faa6d48dcf8>,\n",
       "  <pywren.future.ResponseFuture at 0x7faa6d1df518>,\n",
       "  <pywren.future.ResponseFuture at 0x7fb7f04853c8>,\n",
       "  <pywren.future.ResponseFuture at 0x7faa6dc70278>,\n",
       "  <pywren.future.ResponseFuture at 0x7fa9fc25f5c0>,\n",
       "  <pywren.future.ResponseFuture at 0x7fad042e06a0>,\n",
       "  <pywren.future.ResponseFuture at 0x7fad37cd9b00>,\n",
       "  <pywren.future.ResponseFuture at 0x7fad041bdcc0>,\n",
       "  <pywren.future.ResponseFuture at 0x7facf40093c8>,\n",
       "  <pywren.future.ResponseFuture at 0x7fad042e0898>,\n",
       "  <pywren.future.ResponseFuture at 0x7fad0420fac8>,\n",
       "  <pywren.future.ResponseFuture at 0x7faa6d1d45c0>,\n",
       "  <pywren.future.ResponseFuture at 0x7fa9fc25f908>,\n",
       "  <pywren.future.ResponseFuture at 0x7faa6d5079e8>,\n",
       "  <pywren.future.ResponseFuture at 0x7faa6def7438>,\n",
       "  <pywren.future.ResponseFuture at 0x7facf4009748>,\n",
       "  <pywren.future.ResponseFuture at 0x7faa6d1d4e48>,\n",
       "  <pywren.future.ResponseFuture at 0x7fad37cd99e8>,\n",
       "  <pywren.future.ResponseFuture at 0x7faa6d1df4e0>,\n",
       "  <pywren.future.ResponseFuture at 0x7faa6d48d1d0>,\n",
       "  <pywren.future.ResponseFuture at 0x7faa6d853da0>,\n",
       "  <pywren.future.ResponseFuture at 0x7faa6d5ba780>,\n",
       "  <pywren.future.ResponseFuture at 0x7faa6df1a1d0>,\n",
       "  <pywren.future.ResponseFuture at 0x7faa6de32d68>,\n",
       "  <pywren.future.ResponseFuture at 0x7faa6dd9bbe0>,\n",
       "  <pywren.future.ResponseFuture at 0x7faa6d7ed748>,\n",
       "  <pywren.future.ResponseFuture at 0x7fad1c096128>,\n",
       "  <pywren.future.ResponseFuture at 0x7faa6d853f98>,\n",
       "  <pywren.future.ResponseFuture at 0x7fa9f46bbef0>,\n",
       "  <pywren.future.ResponseFuture at 0x7fb7c907d630>,\n",
       "  <pywren.future.ResponseFuture at 0x7fad1c169a90>,\n",
       "  <pywren.future.ResponseFuture at 0x7fad04028438>,\n",
       "  <pywren.future.ResponseFuture at 0x7faa6d7edc50>,\n",
       "  <pywren.future.ResponseFuture at 0x7fad37efdf98>,\n",
       "  <pywren.future.ResponseFuture at 0x7faa6def7048>,\n",
       "  <pywren.future.ResponseFuture at 0x7fa9fc363828>,\n",
       "  <pywren.future.ResponseFuture at 0x7faa6dc1ba20>,\n",
       "  <pywren.future.ResponseFuture at 0x7faa6de32e80>,\n",
       "  <pywren.future.ResponseFuture at 0x7faa6d1df160>,\n",
       "  <pywren.future.ResponseFuture at 0x7fa9f461be80>,\n",
       "  <pywren.future.ResponseFuture at 0x7faa6d6721d0>,\n",
       "  <pywren.future.ResponseFuture at 0x7fa9fc363cc0>,\n",
       "  <pywren.future.ResponseFuture at 0x7faa6d48dac8>,\n",
       "  <pywren.future.ResponseFuture at 0x7fa9f46bba90>,\n",
       "  <pywren.future.ResponseFuture at 0x7faa6dc1b588>,\n",
       "  <pywren.future.ResponseFuture at 0x7faa6daa9898>,\n",
       "  <pywren.future.ResponseFuture at 0x7fa9f46bb390>,\n",
       "  <pywren.future.ResponseFuture at 0x7faa6d4b5080>,\n",
       "  <pywren.future.ResponseFuture at 0x7fad042e09b0>,\n",
       "  <pywren.future.ResponseFuture at 0x7faa6d94a208>,\n",
       "  <pywren.future.ResponseFuture at 0x7fa9f461bb70>,\n",
       "  <pywren.future.ResponseFuture at 0x7faa6de322b0>,\n",
       "  <pywren.future.ResponseFuture at 0x7fa9f46bb9e8>,\n",
       "  <pywren.future.ResponseFuture at 0x7fad1c0d17f0>,\n",
       "  <pywren.future.ResponseFuture at 0x7faa6d94ac18>,\n",
       "  <pywren.future.ResponseFuture at 0x7fb7c907d4e0>,\n",
       "  <pywren.future.ResponseFuture at 0x7faa6d8dee80>,\n",
       "  <pywren.future.ResponseFuture at 0x7faa6d8532e8>,\n",
       "  <pywren.future.ResponseFuture at 0x7faa6de32160>,\n",
       "  <pywren.future.ResponseFuture at 0x7fa9f46bbb70>,\n",
       "  <pywren.future.ResponseFuture at 0x7fad1c096f60>,\n",
       "  <pywren.future.ResponseFuture at 0x7faa6dd9bb38>,\n",
       "  <pywren.future.ResponseFuture at 0x7faa6d48d630>,\n",
       "  <pywren.future.ResponseFuture at 0x7faa6d552470>,\n",
       "  <pywren.future.ResponseFuture at 0x7faa6d94a278>,\n",
       "  <pywren.future.ResponseFuture at 0x7fad04028c88>,\n",
       "  <pywren.future.ResponseFuture at 0x7faa6d94ab00>,\n",
       "  <pywren.future.ResponseFuture at 0x7faa6d507a90>,\n",
       "  <pywren.future.ResponseFuture at 0x7fad37cd97f0>,\n",
       "  <pywren.future.ResponseFuture at 0x7fa9f450e438>,\n",
       "  <pywren.future.ResponseFuture at 0x7fa9f450eeb8>,\n",
       "  <pywren.future.ResponseFuture at 0x7fa9fc20de48>,\n",
       "  <pywren.future.ResponseFuture at 0x7facf40f6c88>,\n",
       "  <pywren.future.ResponseFuture at 0x7faa6d94a438>,\n",
       "  <pywren.future.ResponseFuture at 0x7fad040287f0>,\n",
       "  <pywren.future.ResponseFuture at 0x7fa9fc7d4e80>,\n",
       "  <pywren.future.ResponseFuture at 0x7faa6def7240>,\n",
       "  <pywren.future.ResponseFuture at 0x7fa9fc3634e0>,\n",
       "  <pywren.future.ResponseFuture at 0x7fa9fc7d4860>,\n",
       "  <pywren.future.ResponseFuture at 0x7faa6de324e0>,\n",
       "  <pywren.future.ResponseFuture at 0x7fa9f47ef898>,\n",
       "  <pywren.future.ResponseFuture at 0x7fa9f46bbf60>,\n",
       "  <pywren.future.ResponseFuture at 0x7fa9f47efc18>,\n",
       "  <pywren.future.ResponseFuture at 0x7fad0420fa58>,\n",
       "  <pywren.future.ResponseFuture at 0x7faa6de32f28>,\n",
       "  <pywren.future.ResponseFuture at 0x7fad1c0966d8>,\n",
       "  <pywren.future.ResponseFuture at 0x7fa9f47ef518>,\n",
       "  <pywren.future.ResponseFuture at 0x7fa9fc390668>,\n",
       "  <pywren.future.ResponseFuture at 0x7faa6daa9e48>,\n",
       "  <pywren.future.ResponseFuture at 0x7fb7c0f724a8>,\n",
       "  <pywren.future.ResponseFuture at 0x7fa9f47ef780>,\n",
       "  <pywren.future.ResponseFuture at 0x7faa6dcd39e8>,\n",
       "  <pywren.future.ResponseFuture at 0x7fa9fc25fb00>,\n",
       "  <pywren.future.ResponseFuture at 0x7faa6daa9080>,\n",
       "  <pywren.future.ResponseFuture at 0x7faa6d487160>,\n",
       "  <pywren.future.ResponseFuture at 0x7faa6d94ae10>,\n",
       "  <pywren.future.ResponseFuture at 0x7faa6def74a8>,\n",
       "  <pywren.future.ResponseFuture at 0x7fad1c169358>,\n",
       "  <pywren.future.ResponseFuture at 0x7fa9f450e160>,\n",
       "  <pywren.future.ResponseFuture at 0x7faa6d7eda58>,\n",
       "  <pywren.future.ResponseFuture at 0x7faa6d4b57b8>,\n",
       "  <pywren.future.ResponseFuture at 0x7faa6d8de8d0>,\n",
       "  <pywren.future.ResponseFuture at 0x7fad1c0d1be0>,\n",
       "  <pywren.future.ResponseFuture at 0x7fa9f461b208>,\n",
       "  <pywren.future.ResponseFuture at 0x7faa6c14bb70>,\n",
       "  <pywren.future.ResponseFuture at 0x7fad1c056da0>,\n",
       "  <pywren.future.ResponseFuture at 0x7fa9f46bbc50>,\n",
       "  <pywren.future.ResponseFuture at 0x7fa9f450e828>,\n",
       "  <pywren.future.ResponseFuture at 0x7fa9fc7d4c50>,\n",
       "  <pywren.future.ResponseFuture at 0x7faa6d48d358>,\n",
       "  <pywren.future.ResponseFuture at 0x7fa9f47ef080>,\n",
       "  <pywren.future.ResponseFuture at 0x7faa6d487390>,\n",
       "  <pywren.future.ResponseFuture at 0x7fa9fc25f9e8>,\n",
       "  <pywren.future.ResponseFuture at 0x7fa9f461b5f8>,\n",
       "  <pywren.future.ResponseFuture at 0x7faa780ceb70>,\n",
       "  <pywren.future.ResponseFuture at 0x7faa6d9a0160>,\n",
       "  <pywren.future.ResponseFuture at 0x7faa6daa92e8>,\n",
       "  <pywren.future.ResponseFuture at 0x7fa9fc7d4e48>,\n",
       "  <pywren.future.ResponseFuture at 0x7fad1c07e128>,\n",
       "  <pywren.future.ResponseFuture at 0x7fa9fc390e10>,\n",
       "  <pywren.future.ResponseFuture at 0x7fa9f450ee48>,\n",
       "  <pywren.future.ResponseFuture at 0x7faa6dc70320>,\n",
       "  <pywren.future.ResponseFuture at 0x7faa6c14be48>,\n",
       "  <pywren.future.ResponseFuture at 0x7fad1c169d30>,\n",
       "  <pywren.future.ResponseFuture at 0x7faa6d893d68>,\n",
       "  <pywren.future.ResponseFuture at 0x7fad1c056b70>,\n",
       "  <pywren.future.ResponseFuture at 0x7faa6d94ac50>,\n",
       "  <pywren.future.ResponseFuture at 0x7faa6d8de978>,\n",
       "  <pywren.future.ResponseFuture at 0x7faa6d51a160>,\n",
       "  <pywren.future.ResponseFuture at 0x7faa6daa9710>,\n",
       "  <pywren.future.ResponseFuture at 0x7faa6d9a0278>,\n",
       "  <pywren.future.ResponseFuture at 0x7fa9fc20da58>,\n",
       "  <pywren.future.ResponseFuture at 0x7fa9f47efe48>,\n",
       "  <pywren.future.ResponseFuture at 0x7faa6d487668>,\n",
       "  <pywren.future.ResponseFuture at 0x7faa6d7d8f60>,\n",
       "  <pywren.future.ResponseFuture at 0x7fad1c056588>,\n",
       "  <pywren.future.ResponseFuture at 0x7fad04028cc0>,\n",
       "  <pywren.future.ResponseFuture at 0x7fa9f47efd30>,\n",
       "  <pywren.future.ResponseFuture at 0x7fb7c0f723c8>,\n",
       "  <pywren.future.ResponseFuture at 0x7fa9f47ef7f0>,\n",
       "  <pywren.future.ResponseFuture at 0x7fad1c0d1fd0>,\n",
       "  <pywren.future.ResponseFuture at 0x7fad1c169550>,\n",
       "  <pywren.future.ResponseFuture at 0x7fad1c07e828>,\n",
       "  <pywren.future.ResponseFuture at 0x7fa9fc25fa20>,\n",
       "  <pywren.future.ResponseFuture at 0x7fad37e4e898>,\n",
       "  <pywren.future.ResponseFuture at 0x7fad1c056208>,\n",
       "  <pywren.future.ResponseFuture at 0x7fad1c0560f0>,\n",
       "  <pywren.future.ResponseFuture at 0x7faa6dcd3c50>,\n",
       "  <pywren.future.ResponseFuture at 0x7faa6d487a90>,\n",
       "  <pywren.future.ResponseFuture at 0x7fad1c056198>,\n",
       "  <pywren.future.ResponseFuture at 0x7fb7c8e39ef0>,\n",
       "  <pywren.future.ResponseFuture at 0x7faa6de97da0>,\n",
       "  <pywren.future.ResponseFuture at 0x7faa6d487358>,\n",
       "  <pywren.future.ResponseFuture at 0x7fb7c8e39048>,\n",
       "  <pywren.future.ResponseFuture at 0x7faa6c14b198>,\n",
       "  <pywren.future.ResponseFuture at 0x7faa6c14b6d8>,\n",
       "  <pywren.future.ResponseFuture at 0x7fad0420fe80>,\n",
       "  <pywren.future.ResponseFuture at 0x7fad1c0562b0>,\n",
       "  <pywren.future.ResponseFuture at 0x7faa6d487828>,\n",
       "  <pywren.future.ResponseFuture at 0x7faa6d9a0cf8>,\n",
       "  <pywren.future.ResponseFuture at 0x7faa6d7d87b8>,\n",
       "  <pywren.future.ResponseFuture at 0x7fa9f461b710>,\n",
       "  <pywren.future.ResponseFuture at 0x7fad37e4e588>,\n",
       "  <pywren.future.ResponseFuture at 0x7fa9f450e5c0>,\n",
       "  <pywren.future.ResponseFuture at 0x7faa6d4879e8>,\n",
       "  <pywren.future.ResponseFuture at 0x7fad37e4ec88>,\n",
       "  <pywren.future.ResponseFuture at 0x7fb7c8e399e8>,\n",
       "  <pywren.future.ResponseFuture at 0x7faa6de97e80>,\n",
       "  <pywren.future.ResponseFuture at 0x7faa6d9a0a58>,\n",
       "  <pywren.future.ResponseFuture at 0x7fad1c07eb70>,\n",
       "  <pywren.future.ResponseFuture at 0x7faa780ce240>,\n",
       "  <pywren.future.ResponseFuture at 0x7fad1c07ec88>,\n",
       "  <pywren.future.ResponseFuture at 0x7faa6dde4160>,\n",
       "  <pywren.future.ResponseFuture at 0x7faa6d592400>,\n",
       "  <pywren.future.ResponseFuture at 0x7fa9f450e0b8>,\n",
       "  <pywren.future.ResponseFuture at 0x7fa9fc55c4e0>,\n",
       "  <pywren.future.ResponseFuture at 0x7facf4009f98>,\n",
       "  <pywren.future.ResponseFuture at 0x7faa6d7e5e80>,\n",
       "  <pywren.future.ResponseFuture at 0x7faa6d2e1198>,\n",
       "  <pywren.future.ResponseFuture at 0x7fad1c136978>,\n",
       "  <pywren.future.ResponseFuture at 0x7faa6dcd3ef0>,\n",
       "  <pywren.future.ResponseFuture at 0x7faa6d2e1be0>,\n",
       "  <pywren.future.ResponseFuture at 0x7faa6d51a4e0>,\n",
       "  <pywren.future.ResponseFuture at 0x7fa9fc23b748>,\n",
       "  <pywren.future.ResponseFuture at 0x7faa6dde45c0>,\n",
       "  <pywren.future.ResponseFuture at 0x7fa9fc55cf28>,\n",
       "  <pywren.future.ResponseFuture at 0x7faa6d7e55f8>,\n",
       "  <pywren.future.ResponseFuture at 0x7fa9fc55c2b0>,\n",
       "  <pywren.future.ResponseFuture at 0x7fb7c8e39978>,\n",
       "  <pywren.future.ResponseFuture at 0x7faa7804efd0>,\n",
       "  <pywren.future.ResponseFuture at 0x7faa6c14bcf8>,\n",
       "  <pywren.future.ResponseFuture at 0x7fa9fc23b2b0>,\n",
       "  <pywren.future.ResponseFuture at 0x7fa9f4759a90>,\n",
       "  <pywren.future.ResponseFuture at 0x7faa6dde44e0>,\n",
       "  <pywren.future.ResponseFuture at 0x7fa9f468d5c0>,\n",
       "  <pywren.future.ResponseFuture at 0x7faa6da8be80>,\n",
       "  <pywren.future.ResponseFuture at 0x7faa6dde4080>,\n",
       "  <pywren.future.ResponseFuture at 0x7fa9f461bac8>,\n",
       "  <pywren.future.ResponseFuture at 0x7faa6d592080>,\n",
       "  <pywren.future.ResponseFuture at 0x7faa6d51a6d8>,\n",
       "  <pywren.future.ResponseFuture at 0x7faa6d893da0>,\n",
       "  <pywren.future.ResponseFuture at 0x7faa6dcd3be0>,\n",
       "  <pywren.future.ResponseFuture at 0x7fa9f4770e80>,\n",
       "  <pywren.future.ResponseFuture at 0x7faa6dde4438>,\n",
       "  <pywren.future.ResponseFuture at 0x7faa6dde4630>,\n",
       "  <pywren.future.ResponseFuture at 0x7faa6d9a04e0>,\n",
       "  <pywren.future.ResponseFuture at 0x7faa6d2e1550>,\n",
       "  <pywren.future.ResponseFuture at 0x7faa780cebe0>,\n",
       "  <pywren.future.ResponseFuture at 0x7faa6da8b390>,\n",
       "  <pywren.future.ResponseFuture at 0x7fa9f47ef550>,\n",
       "  <pywren.future.ResponseFuture at 0x7faa6da8bc88>,\n",
       "  <pywren.future.ResponseFuture at 0x7faa7805d518>,\n",
       "  <pywren.future.ResponseFuture at 0x7fa9f4770b00>,\n",
       "  <pywren.future.ResponseFuture at 0x7faa6d2d3e10>,\n",
       "  <pywren.future.ResponseFuture at 0x7faa6d8931d0>,\n",
       "  <pywren.future.ResponseFuture at 0x7fad1c1361d0>,\n",
       "  <pywren.future.ResponseFuture at 0x7fad1c056908>,\n",
       "  <pywren.future.ResponseFuture at 0x7fb7c8e39b38>,\n",
       "  <pywren.future.ResponseFuture at 0x7faa7805de80>,\n",
       "  <pywren.future.ResponseFuture at 0x7fa9f4770668>,\n",
       "  <pywren.future.ResponseFuture at 0x7faa7805d2e8>,\n",
       "  <pywren.future.ResponseFuture at 0x7faa6de321d0>,\n",
       "  <pywren.future.ResponseFuture at 0x7faa6d255cf8>,\n",
       "  <pywren.future.ResponseFuture at 0x7fb7c8e39f98>,\n",
       "  <pywren.future.ResponseFuture at 0x7fa9f468d0f0>,\n",
       "  <pywren.future.ResponseFuture at 0x7fb7c8e395c0>,\n",
       "  <pywren.future.ResponseFuture at 0x7faa6d7e5b00>,\n",
       "  <pywren.future.ResponseFuture at 0x7faa7805d438>,\n",
       "  <pywren.future.ResponseFuture at 0x7fa9f4761470>,\n",
       "  <pywren.future.ResponseFuture at 0x7fa9fc23b2e8>,\n",
       "  <pywren.future.ResponseFuture at 0x7fa9f468d9e8>,\n",
       "  <pywren.future.ResponseFuture at 0x7faa6d5923c8>,\n",
       "  <pywren.future.ResponseFuture at 0x7fa9f468d4a8>,\n",
       "  <pywren.future.ResponseFuture at 0x7fa9fc23b3c8>,\n",
       "  <pywren.future.ResponseFuture at 0x7fa9f4759f60>,\n",
       "  <pywren.future.ResponseFuture at 0x7faa6d7e5d30>,\n",
       "  <pywren.future.ResponseFuture at 0x7faa6d7e50f0>,\n",
       "  <pywren.future.ResponseFuture at 0x7fa9f468d780>,\n",
       "  <pywren.future.ResponseFuture at 0x7faa6d2e1f28>,\n",
       "  <pywren.future.ResponseFuture at 0x7fad1c0d9cc0>,\n",
       "  <pywren.future.ResponseFuture at 0x7faa6d51a198>,\n",
       "  <pywren.future.ResponseFuture at 0x7fad37f69e48>,\n",
       "  <pywren.future.ResponseFuture at 0x7fad1c0d9b00>,\n",
       "  <pywren.future.ResponseFuture at 0x7faa6d51af28>,\n",
       "  <pywren.future.ResponseFuture at 0x7fad37f69e10>,\n",
       "  <pywren.future.ResponseFuture at 0x7fa9f468dbe0>,\n",
       "  <pywren.future.ResponseFuture at 0x7fad1c136048>,\n",
       "  <pywren.future.ResponseFuture at 0x7faa6d2e1978>,\n",
       "  <pywren.future.ResponseFuture at 0x7fa9f4759780>,\n",
       "  <pywren.future.ResponseFuture at 0x7fa9fc23bf28>,\n",
       "  <pywren.future.ResponseFuture at 0x7fa9f4759c88>,\n",
       "  <pywren.future.ResponseFuture at 0x7fad1c0d9128>,\n",
       "  <pywren.future.ResponseFuture at 0x7faa6da8bf98>,\n",
       "  <pywren.future.ResponseFuture at 0x7faa6d592fd0>,\n",
       "  <pywren.future.ResponseFuture at 0x7faa6d7e5198>,\n",
       "  <pywren.future.ResponseFuture at 0x7fa9f468db70>,\n",
       "  <pywren.future.ResponseFuture at 0x7faa6da8b048>,\n",
       "  <pywren.future.ResponseFuture at 0x7faa6da8bc18>,\n",
       "  <pywren.future.ResponseFuture at 0x7fa9fc0c25f8>,\n",
       "  <pywren.future.ResponseFuture at 0x7fa9fc23b710>,\n",
       "  <pywren.future.ResponseFuture at 0x7faa7804ef28>,\n",
       "  <pywren.future.ResponseFuture at 0x7fa9f47704a8>,\n",
       "  <pywren.future.ResponseFuture at 0x7fa9fc3ff160>,\n",
       "  <pywren.future.ResponseFuture at 0x7fb7c8e39b70>,\n",
       "  <pywren.future.ResponseFuture at 0x7faa7805d898>,\n",
       "  <pywren.future.ResponseFuture at 0x7faa6da8bd30>,\n",
       "  <pywren.future.ResponseFuture at 0x7faa6d255470>,\n",
       "  <pywren.future.ResponseFuture at 0x7fa9fc55cdd8>,\n",
       "  <pywren.future.ResponseFuture at 0x7faa6da8b320>,\n",
       "  <pywren.future.ResponseFuture at 0x7fa9fc3ff2b0>,\n",
       "  <pywren.future.ResponseFuture at 0x7faa6d7e5b38>,\n",
       "  <pywren.future.ResponseFuture at 0x7fa9fc55c6d8>,\n",
       "  <pywren.future.ResponseFuture at 0x7fa9f4761898>,\n",
       "  <pywren.future.ResponseFuture at 0x7faa6dde4d68>,\n",
       "  <pywren.future.ResponseFuture at 0x7fa9f4759cc0>,\n",
       "  <pywren.future.ResponseFuture at 0x7fa9fc55ca90>,\n",
       "  <pywren.future.ResponseFuture at 0x7faa6d2556d8>,\n",
       "  <pywren.future.ResponseFuture at 0x7fa9f4761438>,\n",
       "  <pywren.future.ResponseFuture at 0x7fa9f468dac8>,\n",
       "  <pywren.future.ResponseFuture at 0x7faa6da8bb00>,\n",
       "  <pywren.future.ResponseFuture at 0x7fad1c136a20>,\n",
       "  <pywren.future.ResponseFuture at 0x7fa9fc3ff438>,\n",
       "  <pywren.future.ResponseFuture at 0x7faa6dcd3908>,\n",
       "  <pywren.future.ResponseFuture at 0x7fa9fc0c23c8>,\n",
       "  <pywren.future.ResponseFuture at 0x7fa9f4770a58>,\n",
       "  <pywren.future.ResponseFuture at 0x7fad37f69a20>,\n",
       "  <pywren.future.ResponseFuture at 0x7faa6d3f88d0>,\n",
       "  <pywren.future.ResponseFuture at 0x7faa6d487550>,\n",
       "  <pywren.future.ResponseFuture at 0x7fad1c0d9208>,\n",
       "  <pywren.future.ResponseFuture at 0x7faa6d3f8a58>,\n",
       "  <pywren.future.ResponseFuture at 0x7faa6d2e1780>,\n",
       "  <pywren.future.ResponseFuture at 0x7fad1c136470>,\n",
       "  <pywren.future.ResponseFuture at 0x7faa6da8b4e0>,\n",
       "  <pywren.future.ResponseFuture at 0x7faa6d592e80>,\n",
       "  <pywren.future.ResponseFuture at 0x7fad1c1364a8>,\n",
       "  <pywren.future.ResponseFuture at 0x7fa9fc3ff128>,\n",
       "  <pywren.future.ResponseFuture at 0x7fad1c1365f8>,\n",
       "  <pywren.future.ResponseFuture at 0x7faa6d592da0>,\n",
       "  <pywren.future.ResponseFuture at 0x7faa6d592588>,\n",
       "  <pywren.future.ResponseFuture at 0x7faa6d592b70>,\n",
       "  <pywren.future.ResponseFuture at 0x7faa6dde4588>,\n",
       "  <pywren.future.ResponseFuture at 0x7faa6d2e1588>,\n",
       "  <pywren.future.ResponseFuture at 0x7faa6dde4be0>,\n",
       "  <pywren.future.ResponseFuture at 0x7faa7805d278>,\n",
       "  <pywren.future.ResponseFuture at 0x7faa6d7e5438>,\n",
       "  <pywren.future.ResponseFuture at 0x7faa6d3f8be0>,\n",
       "  <pywren.future.ResponseFuture at 0x7faa6d3f8a20>,\n",
       "  <pywren.future.ResponseFuture at 0x7faa6d7d8668>,\n",
       "  <pywren.future.ResponseFuture at 0x7fad1c056470>,\n",
       "  <pywren.future.ResponseFuture at 0x7faa6d9a0898>,\n",
       "  <pywren.future.ResponseFuture at 0x7faa6de97668>,\n",
       "  <pywren.future.ResponseFuture at 0x7fa9f450e198>,\n",
       "  <pywren.future.ResponseFuture at 0x7fad1c0d9f98>,\n",
       "  <pywren.future.ResponseFuture at 0x7fa9fc23be80>,\n",
       "  <pywren.future.ResponseFuture at 0x7fa9f4761ba8>,\n",
       "  <pywren.future.ResponseFuture at 0x7faa6d3f8160>,\n",
       "  <pywren.future.ResponseFuture at 0x7faa6dde47b8>,\n",
       "  <pywren.future.ResponseFuture at 0x7faa6d592898>,\n",
       "  <pywren.future.ResponseFuture at 0x7fad1c07e4a8>,\n",
       "  <pywren.future.ResponseFuture at 0x7fa9fc23bc88>,\n",
       "  <pywren.future.ResponseFuture at 0x7fa9f461b358>,\n",
       "  <pywren.future.ResponseFuture at 0x7faa6dde4dd8>,\n",
       "  <pywren.future.ResponseFuture at 0x7fa9f4770358>,\n",
       "  <pywren.future.ResponseFuture at 0x7fa9f47615c0>,\n",
       "  <pywren.future.ResponseFuture at 0x7fa9f4759940>,\n",
       "  <pywren.future.ResponseFuture at 0x7faa6d5920b8>,\n",
       "  <pywren.future.ResponseFuture at 0x7faa6d592be0>,\n",
       "  <pywren.future.ResponseFuture at 0x7faa780ce208>,\n",
       "  <pywren.future.ResponseFuture at 0x7fad1c07e438>,\n",
       "  <pywren.future.ResponseFuture at 0x7faa6da8b6d8>,\n",
       "  <pywren.future.ResponseFuture at 0x7faa6d7d8d68>,\n",
       "  <pywren.future.ResponseFuture at 0x7fa9f47ef320>,\n",
       "  <pywren.future.ResponseFuture at 0x7faa6d2e1dd8>,\n",
       "  <pywren.future.ResponseFuture at 0x7fa9f47efcf8>,\n",
       "  <pywren.future.ResponseFuture at 0x7fad37e4e0b8>,\n",
       "  <pywren.future.ResponseFuture at 0x7fb7c0f729e8>,\n",
       "  <pywren.future.ResponseFuture at 0x7fb7c167fda0>,\n",
       "  <pywren.future.ResponseFuture at 0x7fa9f47ef978>,\n",
       "  <pywren.future.ResponseFuture at 0x7fb7c8e390f0>,\n",
       "  <pywren.future.ResponseFuture at 0x7faa6dcd30f0>,\n",
       "  <pywren.future.ResponseFuture at 0x7faa6d4e22b0>,\n",
       "  <pywren.future.ResponseFuture at 0x7fa9fc3ff668>,\n",
       "  <pywren.future.ResponseFuture at 0x7faa6d893240>,\n",
       "  <pywren.future.ResponseFuture at 0x7fa9fc3ff048>,\n",
       "  <pywren.future.ResponseFuture at 0x7faa6de977b8>,\n",
       "  <pywren.future.ResponseFuture at 0x7fad1c056f28>,\n",
       "  <pywren.future.ResponseFuture at 0x7fa9f4770390>,\n",
       "  <pywren.future.ResponseFuture at 0x7faa6dde4898>,\n",
       "  <pywren.future.ResponseFuture at 0x7fa9f47ef6d8>,\n",
       "  <pywren.future.ResponseFuture at 0x7fad1c07e278>,\n",
       "  <pywren.future.ResponseFuture at 0x7faa7805d2b0>,\n",
       "  <pywren.future.ResponseFuture at 0x7fa9f468d278>,\n",
       "  <pywren.future.ResponseFuture at 0x7fa9fc3ff0f0>,\n",
       "  <pywren.future.ResponseFuture at 0x7faa6d88c470>,\n",
       "  <pywren.future.ResponseFuture at 0x7fad37f623c8>,\n",
       "  <pywren.future.ResponseFuture at 0x7faa6daa9da0>,\n",
       "  <pywren.future.ResponseFuture at 0x7faa6d487e48>,\n",
       "  <pywren.future.ResponseFuture at 0x7fa9f47ef6a0>,\n",
       "  <pywren.future.ResponseFuture at 0x7fad1c07e550>,\n",
       "  <pywren.future.ResponseFuture at 0x7faa6d51a898>,\n",
       "  <pywren.future.ResponseFuture at 0x7fad1c07ecc0>,\n",
       "  <pywren.future.ResponseFuture at 0x7fa9f47ef710>,\n",
       "  <pywren.future.ResponseFuture at 0x7fa9f47ef438>,\n",
       "  <pywren.future.ResponseFuture at 0x7faa6d7e5c18>,\n",
       "  <pywren.future.ResponseFuture at 0x7faa6dd801d0>,\n",
       "  <pywren.future.ResponseFuture at 0x7facf4009be0>,\n",
       "  <pywren.future.ResponseFuture at 0x7fa9f450e2e8>,\n",
       "  <pywren.future.ResponseFuture at 0x7fa9f47590f0>,\n",
       "  <pywren.future.ResponseFuture at 0x7faa780ceac8>,\n",
       "  <pywren.future.ResponseFuture at 0x7fa9f450e0f0>,\n",
       "  <pywren.future.ResponseFuture at 0x7fad1c0565c0>,\n",
       "  <pywren.future.ResponseFuture at 0x7faa780ce438>,\n",
       "  <pywren.future.ResponseFuture at 0x7fa9f46bb2b0>,\n",
       "  <pywren.future.ResponseFuture at 0x7fa9f450ef28>,\n",
       "  <pywren.future.ResponseFuture at 0x7fa9f461b160>,\n",
       "  <pywren.future.ResponseFuture at 0x7fad1c07eac8>,\n",
       "  <pywren.future.ResponseFuture at 0x7fa9f46bb908>,\n",
       "  <pywren.future.ResponseFuture at 0x7fa9f4761390>,\n",
       "  <pywren.future.ResponseFuture at 0x7fa9f4759898>,\n",
       "  <pywren.future.ResponseFuture at 0x7faa6d2e17b8>,\n",
       "  <pywren.future.ResponseFuture at 0x7fb7c907d7f0>,\n",
       "  <pywren.future.ResponseFuture at 0x7faa780cecf8>,\n",
       "  <pywren.future.ResponseFuture at 0x7fa9fc0c2390>,\n",
       "  <pywren.future.ResponseFuture at 0x7fad37f82940>,\n",
       "  <pywren.future.ResponseFuture at 0x7faa6d7ed7f0>,\n",
       "  <pywren.future.ResponseFuture at 0x7fa9fc55c358>,\n",
       "  <pywren.future.ResponseFuture at 0x7faa6de329e8>,\n",
       "  <pywren.future.ResponseFuture at 0x7faa6dc70390>,\n",
       "  <pywren.future.ResponseFuture at 0x7fa9fc55c400>,\n",
       "  <pywren.future.ResponseFuture at 0x7faa6dc1b7f0>,\n",
       "  <pywren.future.ResponseFuture at 0x7faa780682b0>,\n",
       "  <pywren.future.ResponseFuture at 0x7fa9f47efb38>,\n",
       "  <pywren.future.ResponseFuture at 0x7faa6de97630>,\n",
       "  <pywren.future.ResponseFuture at 0x7fad0420f550>,\n",
       "  <pywren.future.ResponseFuture at 0x7fa9f4770f60>,\n",
       "  <pywren.future.ResponseFuture at 0x7faa6d853898>,\n",
       "  <pywren.future.ResponseFuture at 0x7fad1c096470>,\n",
       "  <pywren.future.ResponseFuture at 0x7fad1c169f28>,\n",
       "  <pywren.future.ResponseFuture at 0x7faa7805d550>,\n",
       "  <pywren.future.ResponseFuture at 0x7faa6d1d4c88>,\n",
       "  <pywren.future.ResponseFuture at 0x7faa6daa9d68>,\n",
       "  <pywren.future.ResponseFuture at 0x7faa6d94a8d0>,\n",
       "  <pywren.future.ResponseFuture at 0x7fa9fc6c0ba8>,\n",
       "  <pywren.future.ResponseFuture at 0x7faa6dd803c8>,\n",
       "  <pywren.future.ResponseFuture at 0x7faa6def7550>,\n",
       "  <pywren.future.ResponseFuture at 0x7faa6d2e1320>,\n",
       "  <pywren.future.ResponseFuture at 0x7facf40f6048>,\n",
       "  <pywren.future.ResponseFuture at 0x7faa6def7470>,\n",
       "  <pywren.future.ResponseFuture at 0x7faa6d7d82e8>,\n",
       "  <pywren.future.ResponseFuture at 0x7faa7810bf60>,\n",
       "  <pywren.future.ResponseFuture at 0x7faa6c10e470>,\n",
       "  <pywren.future.ResponseFuture at 0x7fa9f46bb978>,\n",
       "  <pywren.future.ResponseFuture at 0x7faa6def7748>,\n",
       "  <pywren.future.ResponseFuture at 0x7faa6dd80c18>,\n",
       "  <pywren.future.ResponseFuture at 0x7faa6def7390>,\n",
       "  <pywren.future.ResponseFuture at 0x7fad37bd3d68>,\n",
       "  <pywren.future.ResponseFuture at 0x7faa6dd9b208>,\n",
       "  <pywren.future.ResponseFuture at 0x7faa6d88c4a8>,\n",
       "  <pywren.future.ResponseFuture at 0x7faa6de324a8>,\n",
       "  <pywren.future.ResponseFuture at 0x7fad040287b8>,\n",
       "  <pywren.future.ResponseFuture at 0x7faa6de978d0>,\n",
       "  <pywren.future.ResponseFuture at 0x7fad1c096710>,\n",
       "  <pywren.future.ResponseFuture at 0x7fa9f47efcc0>,\n",
       "  <pywren.future.ResponseFuture at 0x7faa6d88c630>,\n",
       "  <pywren.future.ResponseFuture at 0x7fa9fc6c02b0>,\n",
       "  <pywren.future.ResponseFuture at 0x7faa6d1d48d0>,\n",
       "  <pywren.future.ResponseFuture at 0x7faa6dc709e8>,\n",
       "  <pywren.future.ResponseFuture at 0x7fa9f450ed30>,\n",
       "  <pywren.future.ResponseFuture at 0x7faa6c10e940>,\n",
       "  <pywren.future.ResponseFuture at 0x7faa6df1a358>,\n",
       "  <pywren.future.ResponseFuture at 0x7faa6db34c18>,\n",
       "  <pywren.future.ResponseFuture at 0x7faa6dc98cc0>,\n",
       "  <pywren.future.ResponseFuture at 0x7faa6daa9f60>,\n",
       "  <pywren.future.ResponseFuture at 0x7fa9f47eff28>,\n",
       "  <pywren.future.ResponseFuture at 0x7facf40f6f28>,\n",
       "  <pywren.future.ResponseFuture at 0x7faa6db342e8>,\n",
       "  <pywren.future.ResponseFuture at 0x7fa9f450e208>,\n",
       "  <pywren.future.ResponseFuture at 0x7faa6db619e8>,\n",
       "  <pywren.future.ResponseFuture at 0x7fa9f45baef0>,\n",
       "  <pywren.future.ResponseFuture at 0x7faa6de02128>,\n",
       "  <pywren.future.ResponseFuture at 0x7fad0420f630>,\n",
       "  <pywren.future.ResponseFuture at 0x7fa9fc7d4dd8>,\n",
       "  <pywren.future.ResponseFuture at 0x7faa6dc986d8>,\n",
       "  <pywren.future.ResponseFuture at 0x7faa780ce748>,\n",
       "  <pywren.future.ResponseFuture at 0x7faa6db347b8>,\n",
       "  <pywren.future.ResponseFuture at 0x7faa6c10e160>,\n",
       "  <pywren.future.ResponseFuture at 0x7faa6c10e8d0>,\n",
       "  <pywren.future.ResponseFuture at 0x7faa6db341d0>,\n",
       "  <pywren.future.ResponseFuture at 0x7faa6c10e0b8>,\n",
       "  <pywren.future.ResponseFuture at 0x7fad37f82588>,\n",
       "  <pywren.future.ResponseFuture at 0x7facf40f6fd0>,\n",
       "  <pywren.future.ResponseFuture at 0x7faa6d4877f0>,\n",
       "  <pywren.future.ResponseFuture at 0x7fad37e9f470>,\n",
       "  <pywren.future.ResponseFuture at 0x7facf4009208>,\n",
       "  <pywren.future.ResponseFuture at 0x7fa9f461ba20>,\n",
       "  <pywren.future.ResponseFuture at 0x7fa9f46782e8>,\n",
       "  <pywren.future.ResponseFuture at 0x7faa6d51aa58>,\n",
       "  <pywren.future.ResponseFuture at 0x7fa9f4678ef0>,\n",
       "  <pywren.future.ResponseFuture at 0x7fa9f4678ba8>,\n",
       "  <pywren.future.ResponseFuture at 0x7fa9f45bacf8>,\n",
       "  <pywren.future.ResponseFuture at 0x7faa6d94aa90>,\n",
       "  <pywren.future.ResponseFuture at 0x7fa9f4678cc0>,\n",
       "  <pywren.future.ResponseFuture at 0x7faa6db61f98>,\n",
       "  <pywren.future.ResponseFuture at 0x7fad37f825c0>,\n",
       "  <pywren.future.ResponseFuture at 0x7faa6d88cc18>,\n",
       "  <pywren.future.ResponseFuture at 0x7faa6d88cba8>,\n",
       "  <pywren.future.ResponseFuture at 0x7faa6c10ed68>,\n",
       "  <pywren.future.ResponseFuture at 0x7faa6c10e710>,\n",
       "  <pywren.future.ResponseFuture at 0x7faa7810be48>,\n",
       "  <pywren.future.ResponseFuture at 0x7faa7810b9e8>,\n",
       "  <pywren.future.ResponseFuture at 0x7fa9f4678470>,\n",
       "  <pywren.future.ResponseFuture at 0x7faa6d6afeb8>,\n",
       "  <pywren.future.ResponseFuture at 0x7faa6c10eb00>,\n",
       "  <pywren.future.ResponseFuture at 0x7faa6d88c7f0>,\n",
       "  <pywren.future.ResponseFuture at 0x7faa780cec88>,\n",
       "  <pywren.future.ResponseFuture at 0x7faa7810bac8>,\n",
       "  <pywren.future.ResponseFuture at 0x7faa7810b240>,\n",
       "  <pywren.future.ResponseFuture at 0x7fa9fc70ee10>,\n",
       "  <pywren.future.ResponseFuture at 0x7faa6d79d080>,\n",
       "  <pywren.future.ResponseFuture at 0x7fad37d77a90>,\n",
       "  <pywren.future.ResponseFuture at 0x7faa6db61a58>,\n",
       "  <pywren.future.ResponseFuture at 0x7fad37e9f278>,\n",
       "  <pywren.future.ResponseFuture at 0x7faa6dc981d0>,\n",
       "  <pywren.future.ResponseFuture at 0x7faa6d853860>,\n",
       "  <pywren.future.ResponseFuture at 0x7faa6d4b5a90>,\n",
       "  <pywren.future.ResponseFuture at 0x7fad37e9f6d8>,\n",
       "  <pywren.future.ResponseFuture at 0x7faa6d79dcc0>,\n",
       "  <pywren.future.ResponseFuture at 0x7fa9fc57ac88>,\n",
       "  <pywren.future.ResponseFuture at 0x7faa6d79dc88>,\n",
       "  <pywren.future.ResponseFuture at 0x7fa9f45bacc0>,\n",
       "  <pywren.future.ResponseFuture at 0x7fad37de8b00>,\n",
       "  <pywren.future.ResponseFuture at 0x7faa6dc98470>,\n",
       "  <pywren.future.ResponseFuture at 0x7fa9fc57aeb8>,\n",
       "  <pywren.future.ResponseFuture at 0x7fad04028ef0>,\n",
       "  <pywren.future.ResponseFuture at 0x7fa9f45bab00>,\n",
       "  <pywren.future.ResponseFuture at 0x7fad37de8ba8>,\n",
       "  <pywren.future.ResponseFuture at 0x7fa9fc70ea58>,\n",
       "  <pywren.future.ResponseFuture at 0x7fad37de80f0>,\n",
       "  <pywren.future.ResponseFuture at 0x7faa780ceb38>,\n",
       "  <pywren.future.ResponseFuture at 0x7faa6c10e908>,\n",
       "  <pywren.future.ResponseFuture at 0x7fad1c0d2be0>,\n",
       "  <pywren.future.ResponseFuture at 0x7fa9fc57a7f0>,\n",
       "  <pywren.future.ResponseFuture at 0x7faa6db61128>,\n",
       "  <pywren.future.ResponseFuture at 0x7fa9fc57a358>,\n",
       "  <pywren.future.ResponseFuture at 0x7fa9fc6c0128>,\n",
       "  <pywren.future.ResponseFuture at 0x7faa6d79d240>,\n",
       "  <pywren.future.ResponseFuture at 0x7faa6c10e198>,\n",
       "  <pywren.future.ResponseFuture at 0x7fad1c0d2e48>,\n",
       "  <pywren.future.ResponseFuture at 0x7fad1c0d20b8>,\n",
       "  <pywren.future.ResponseFuture at 0x7fad37de85f8>,\n",
       "  <pywren.future.ResponseFuture at 0x7fad37de86d8>,\n",
       "  <pywren.future.ResponseFuture at 0x7faa6dc98588>,\n",
       "  <pywren.future.ResponseFuture at 0x7fad1c0d2080>,\n",
       "  <pywren.future.ResponseFuture at 0x7faa6de025c0>,\n",
       "  <pywren.future.ResponseFuture at 0x7faa6d8de5c0>,\n",
       "  <pywren.future.ResponseFuture at 0x7fa9fc70e6d8>,\n",
       "  <pywren.future.ResponseFuture at 0x7fa9fc57a550>,\n",
       "  <pywren.future.ResponseFuture at 0x7faa6db61e80>,\n",
       "  <pywren.future.ResponseFuture at 0x7faa6d94a2b0>,\n",
       "  <pywren.future.ResponseFuture at 0x7faa6de022e8>,\n",
       "  <pywren.future.ResponseFuture at 0x7faa7810bf28>,\n",
       "  <pywren.future.ResponseFuture at 0x7fad37de8588>,\n",
       "  <pywren.future.ResponseFuture at 0x7faa6dc983c8>,\n",
       "  <pywren.future.ResponseFuture at 0x7faa7810bb70>,\n",
       "  <pywren.future.ResponseFuture at 0x7faa7810bfd0>,\n",
       "  <pywren.future.ResponseFuture at 0x7faa6d79d048>,\n",
       "  <pywren.future.ResponseFuture at 0x7fa9fc20d1d0>,\n",
       "  <pywren.future.ResponseFuture at 0x7fa9fc70e828>,\n",
       "  <pywren.future.ResponseFuture at 0x7fad37bd37b8>,\n",
       "  <pywren.future.ResponseFuture at 0x7faa780685f8>,\n",
       "  <pywren.future.ResponseFuture at 0x7fa9f45ba518>,\n",
       "  <pywren.future.ResponseFuture at 0x7fa9f4678f98>,\n",
       "  <pywren.future.ResponseFuture at 0x7fa9fc70e208>,\n",
       "  <pywren.future.ResponseFuture at 0x7faa6d48d9e8>,\n",
       "  <pywren.future.ResponseFuture at 0x7faa6def7be0>,\n",
       "  <pywren.future.ResponseFuture at 0x7faa6d79def0>,\n",
       "  <pywren.future.ResponseFuture at 0x7facf40090b8>,\n",
       "  <pywren.future.ResponseFuture at 0x7fad37e9fb00>,\n",
       "  <pywren.future.ResponseFuture at 0x7faa6c10ec18>,\n",
       "  <pywren.future.ResponseFuture at 0x7faa6def7128>,\n",
       "  <pywren.future.ResponseFuture at 0x7fad04028da0>,\n",
       "  <pywren.future.ResponseFuture at 0x7faa6c10e438>,\n",
       "  <pywren.future.ResponseFuture at 0x7faa7810b320>,\n",
       "  <pywren.future.ResponseFuture at 0x7fa9fc70e860>,\n",
       "  <pywren.future.ResponseFuture at 0x7faa6d507c88>,\n",
       "  <pywren.future.ResponseFuture at 0x7faa6d8de9e8>,\n",
       "  <pywren.future.ResponseFuture at 0x7faa6d1d4be0>,\n",
       "  <pywren.future.ResponseFuture at 0x7faa6d88ce10>,\n",
       "  <pywren.future.ResponseFuture at 0x7fad378132b0>,\n",
       "  <pywren.future.ResponseFuture at 0x7faa7810b898>,\n",
       "  <pywren.future.ResponseFuture at 0x7fa9f4678dd8>,\n",
       "  <pywren.future.ResponseFuture at 0x7fa9f47ef208>,\n",
       "  <pywren.future.ResponseFuture at 0x7fad1c0d2748>,\n",
       "  <pywren.future.ResponseFuture at 0x7faa6d7ed860>,\n",
       "  <pywren.future.ResponseFuture at 0x7fad37e4ef60>,\n",
       "  <pywren.future.ResponseFuture at 0x7faa6d9a0f60>,\n",
       "  <pywren.future.ResponseFuture at 0x7faa6db34ef0>,\n",
       "  <pywren.future.ResponseFuture at 0x7fad37e9fb38>,\n",
       "  <pywren.future.ResponseFuture at 0x7faa6db34780>,\n",
       "  <pywren.future.ResponseFuture at 0x7fad1c096c88>,\n",
       "  <pywren.future.ResponseFuture at 0x7fb7f04852b0>,\n",
       "  <pywren.future.ResponseFuture at 0x7facf40f6748>,\n",
       "  <pywren.future.ResponseFuture at 0x7faa6d6af048>,\n",
       "  <pywren.future.ResponseFuture at 0x7fad1c07ea90>,\n",
       "  <pywren.future.ResponseFuture at 0x7fa9fc6c03c8>,\n",
       "  <pywren.future.ResponseFuture at 0x7faa6d18ec18>,\n",
       "  <pywren.future.ResponseFuture at 0x7faa6d48d080>,\n",
       "  <pywren.future.ResponseFuture at 0x7faa6d893c18>,\n",
       "  <pywren.future.ResponseFuture at 0x7faa7810b3c8>,\n",
       "  <pywren.future.ResponseFuture at 0x7faa6d88cac8>,\n",
       "  <pywren.future.ResponseFuture at 0x7faa6c14bd30>,\n",
       "  <pywren.future.ResponseFuture at 0x7fa9fc7d4400>,\n",
       "  <pywren.future.ResponseFuture at 0x7faa6de32358>,\n",
       "  <pywren.future.ResponseFuture at 0x7fad37de8470>,\n",
       "  <pywren.future.ResponseFuture at 0x7faa6daa9320>,\n",
       "  <pywren.future.ResponseFuture at 0x7fad04028278>,\n",
       "  <pywren.future.ResponseFuture at 0x7fa9fc70efd0>,\n",
       "  <pywren.future.ResponseFuture at 0x7fa9fc7d4780>,\n",
       "  <pywren.future.ResponseFuture at 0x7fa9f4678a20>,\n",
       "  <pywren.future.ResponseFuture at 0x7faa6d51a278>,\n",
       "  <pywren.future.ResponseFuture at 0x7faa6dde4198>,\n",
       "  <pywren.future.ResponseFuture at 0x7fa9fc363940>,\n",
       "  <pywren.future.ResponseFuture at 0x7facf4009470>,\n",
       "  <pywren.future.ResponseFuture at 0x7fa9fc6c0400>,\n",
       "  <pywren.future.ResponseFuture at 0x7fa9fc55ce80>,\n",
       "  <pywren.future.ResponseFuture at 0x7fa9fc390940>,\n",
       "  <pywren.future.ResponseFuture at 0x7fa9f46bb860>,\n",
       "  <pywren.future.ResponseFuture at 0x7fa9f47705f8>,\n",
       "  <pywren.future.ResponseFuture at 0x7faa6de026a0>,\n",
       "  <pywren.future.ResponseFuture at 0x7fad0420f2b0>,\n",
       "  <pywren.future.ResponseFuture at 0x7fad0420f278>,\n",
       "  <pywren.future.ResponseFuture at 0x7faa6d18e3c8>,\n",
       "  <pywren.future.ResponseFuture at 0x7faa6dc98358>,\n",
       "  <pywren.future.ResponseFuture at 0x7fad37de8780>,\n",
       "  <pywren.future.ResponseFuture at 0x7faa6d7ed978>,\n",
       "  <pywren.future.ResponseFuture at 0x7faa780cea90>,\n",
       "  <pywren.future.ResponseFuture at 0x7fa9f461b470>,\n",
       "  <pywren.future.ResponseFuture at 0x7faa6de32080>,\n",
       "  <pywren.future.ResponseFuture at 0x7faa6de32128>,\n",
       "  <pywren.future.ResponseFuture at 0x7faa780cec18>,\n",
       "  <pywren.future.ResponseFuture at 0x7faa6d487b00>,\n",
       "  <pywren.future.ResponseFuture at 0x7fad1c07efd0>,\n",
       "  <pywren.future.ResponseFuture at 0x7fa9f461b048>,\n",
       "  <pywren.future.ResponseFuture at 0x7faa780ce6d8>,\n",
       "  <pywren.future.ResponseFuture at 0x7faa6d88ceb8>,\n",
       "  <pywren.future.ResponseFuture at 0x7fad1c07ee48>,\n",
       "  <pywren.future.ResponseFuture at 0x7faa780ce550>,\n",
       "  <pywren.future.ResponseFuture at 0x7fa9f47ef240>,\n",
       "  <pywren.future.ResponseFuture at 0x7faa6d51ab00>,\n",
       "  <pywren.future.ResponseFuture at 0x7fa9f47ef400>,\n",
       "  <pywren.future.ResponseFuture at 0x7fa9fc23b320>,\n",
       "  <pywren.future.ResponseFuture at 0x7fad37813400>,\n",
       "  <pywren.future.ResponseFuture at 0x7faa6d51ada0>,\n",
       "  <pywren.future.ResponseFuture at 0x7faa7810beb8>,\n",
       "  <pywren.future.ResponseFuture at 0x7faa6de97390>,\n",
       "  <pywren.future.ResponseFuture at 0x7faa6de32cf8>,\n",
       "  <pywren.future.ResponseFuture at 0x7fad1c07e390>,\n",
       "  <pywren.future.ResponseFuture at 0x7faa6dde4a58>,\n",
       "  <pywren.future.ResponseFuture at 0x7faa6d9a0da0>,\n",
       "  <pywren.future.ResponseFuture at 0x7faa6de97240>,\n",
       "  <pywren.future.ResponseFuture at 0x7fad37f82278>,\n",
       "  <pywren.future.ResponseFuture at 0x7fa9f47ef160>,\n",
       "  <pywren.future.ResponseFuture at 0x7fad1c056b38>,\n",
       "  <pywren.future.ResponseFuture at 0x7faa6de97d68>,\n",
       "  <pywren.future.ResponseFuture at 0x7faa6de97b38>,\n",
       "  <pywren.future.ResponseFuture at 0x7fa9fc23bef0>,\n",
       "  <pywren.future.ResponseFuture at 0x7fad1c056828>,\n",
       "  <pywren.future.ResponseFuture at 0x7faa6d893080>,\n",
       "  <pywren.future.ResponseFuture at 0x7faa780ce390>,\n",
       "  <pywren.future.ResponseFuture at 0x7faa6da8bbe0>,\n",
       "  <pywren.future.ResponseFuture at 0x7faa6d8939b0>,\n",
       "  <pywren.future.ResponseFuture at 0x7fa9fc7d4390>,\n",
       "  <pywren.future.ResponseFuture at 0x7fa9f461bcc0>,\n",
       "  <pywren.future.ResponseFuture at 0x7fa9f461b1d0>,\n",
       "  <pywren.future.ResponseFuture at 0x7faa6d9a0358>,\n",
       "  <pywren.future.ResponseFuture at 0x7fa9f461be10>,\n",
       "  <pywren.future.ResponseFuture at 0x7faa6d7d8518>,\n",
       "  <pywren.future.ResponseFuture at 0x7faa6d9a0f28>,\n",
       "  <pywren.future.ResponseFuture at 0x7fa9fc3ff898>,\n",
       "  <pywren.future.ResponseFuture at 0x7faa6c14b438>,\n",
       "  <pywren.future.ResponseFuture at 0x7faa6d88c588>,\n",
       "  <pywren.future.ResponseFuture at 0x7faa6d893d30>,\n",
       "  <pywren.future.ResponseFuture at 0x7faa7805deb8>,\n",
       "  <pywren.future.ResponseFuture at 0x7fa9fc55c198>,\n",
       "  <pywren.future.ResponseFuture at 0x7fa9fc3ff9b0>,\n",
       "  <pywren.future.ResponseFuture at 0x7faa780ce9b0>,\n",
       "  <pywren.future.ResponseFuture at 0x7fad0422a0f0>,\n",
       "  <pywren.future.ResponseFuture at 0x7fa9f46bb1d0>,\n",
       "  <pywren.future.ResponseFuture at 0x7faa6d2e1a58>,\n",
       "  <pywren.future.ResponseFuture at 0x7fad37e4e5c0>,\n",
       "  <pywren.future.ResponseFuture at 0x7faa6de02a90>,\n",
       "  <pywren.future.ResponseFuture at 0x7faa6d51a128>,\n",
       "  <pywren.future.ResponseFuture at 0x7fad1c056128>,\n",
       "  <pywren.future.ResponseFuture at 0x7faa6d592978>,\n",
       "  <pywren.future.ResponseFuture at 0x7fa9f461b8d0>,\n",
       "  <pywren.future.ResponseFuture at 0x7faa6d7d8710>,\n",
       "  <pywren.future.ResponseFuture at 0x7faa6dcd3ba8>,\n",
       "  <pywren.future.ResponseFuture at 0x7fa9fc23b278>,\n",
       "  <pywren.future.ResponseFuture at 0x7fa9f46bb128>,\n",
       "  <pywren.future.ResponseFuture at 0x7faa6de323c8>,\n",
       "  <pywren.future.ResponseFuture at 0x7faa6d7d80f0>,\n",
       "  <pywren.future.ResponseFuture at 0x7faa6d2e1710>,\n",
       "  <pywren.future.ResponseFuture at 0x7faa6d9a09e8>,\n",
       "  <pywren.future.ResponseFuture at 0x7fa9f47eff98>,\n",
       "  <pywren.future.ResponseFuture at 0x7fb7c8e398d0>,\n",
       "  <pywren.future.ResponseFuture at 0x7fa9f47efda0>,\n",
       "  <pywren.future.ResponseFuture at 0x7faa6d7d8780>,\n",
       "  <pywren.future.ResponseFuture at 0x7fad37e4e710>,\n",
       "  <pywren.future.ResponseFuture at 0x7fad1c0d2b70>,\n",
       "  <pywren.future.ResponseFuture at 0x7fa9fc6cc978>,\n",
       "  <pywren.future.ResponseFuture at 0x7faa6d2553c8>,\n",
       "  <pywren.future.ResponseFuture at 0x7fad37e4e320>,\n",
       "  <pywren.future.ResponseFuture at 0x7fb7c8e39f28>,\n",
       "  <pywren.future.ResponseFuture at 0x7faa6dcd3f28>,\n",
       "  <pywren.future.ResponseFuture at 0x7fa9f468d438>,\n",
       "  <pywren.future.ResponseFuture at 0x7faa6d63ea90>,\n",
       "  <pywren.future.ResponseFuture at 0x7fa9f468d2e8>,\n",
       "  <pywren.future.ResponseFuture at 0x7faa7805de10>,\n",
       "  <pywren.future.ResponseFuture at 0x7fad042b2400>,\n",
       "  <pywren.future.ResponseFuture at 0x7fa9f4761208>,\n",
       "  <pywren.future.ResponseFuture at 0x7fa9f468d208>,\n",
       "  <pywren.future.ResponseFuture at 0x7faa6de3a7f0>,\n",
       "  <pywren.future.ResponseFuture at 0x7fa9fc23bbe0>,\n",
       "  <pywren.future.ResponseFuture at 0x7fad0422af98>,\n",
       "  <pywren.future.ResponseFuture at 0x7fa9fc6cc7b8>,\n",
       "  <pywren.future.ResponseFuture at 0x7faa6dde4cf8>,\n",
       "  <pywren.future.ResponseFuture at 0x7fa9fc6cc748>,\n",
       "  <pywren.future.ResponseFuture at 0x7faa6de97748>,\n",
       "  <pywren.future.ResponseFuture at 0x7faa6de97cc0>,\n",
       "  <pywren.future.ResponseFuture at 0x7faa6dd80550>,\n",
       "  <pywren.future.ResponseFuture at 0x7faa6de3a5f8>,\n",
       "  <pywren.future.ResponseFuture at 0x7faa6d5928d0>,\n",
       "  <pywren.future.ResponseFuture at 0x7faa6d9a0e48>,\n",
       "  <pywren.future.ResponseFuture at 0x7faa6c10ee80>,\n",
       "  <pywren.future.ResponseFuture at 0x7faa6d7d8be0>,\n",
       "  <pywren.future.ResponseFuture at 0x7fad37c2b390>,\n",
       "  <pywren.future.ResponseFuture at 0x7fa9f47599e8>,\n",
       "  <pywren.future.ResponseFuture at 0x7fa9f4770438>,\n",
       "  <pywren.future.ResponseFuture at 0x7faa6dcbbdd8>,\n",
       "  <pywren.future.ResponseFuture at 0x7fa9fc1a2f60>,\n",
       "  <pywren.future.ResponseFuture at 0x7faa6d39c9b0>,\n",
       "  <pywren.future.ResponseFuture at 0x7faa6de979e8>,\n",
       "  <pywren.future.ResponseFuture at 0x7fad04250400>,\n",
       "  <pywren.future.ResponseFuture at 0x7fa9f4759c50>,\n",
       "  <pywren.future.ResponseFuture at 0x7fad04058a20>,\n",
       "  <pywren.future.ResponseFuture at 0x7fad37f69f60>,\n",
       "  <pywren.future.ResponseFuture at 0x7faa6dcbbc88>,\n",
       "  <pywren.future.ResponseFuture at 0x7faa6de3afd0>,\n",
       "  <pywren.future.ResponseFuture at 0x7faa6d95e128>,\n",
       "  <pywren.future.ResponseFuture at 0x7fa9fc6cc7f0>,\n",
       "  <pywren.future.ResponseFuture at 0x7faa6d487860>,\n",
       "  <pywren.future.ResponseFuture at 0x7fad042507b8>,\n",
       "  <pywren.future.ResponseFuture at 0x7fa9fc1a2b00>,\n",
       "  <pywren.future.ResponseFuture at 0x7faa6d63e588>,\n",
       "  <pywren.future.ResponseFuture at 0x7fa9f4761080>,\n",
       "  <pywren.future.ResponseFuture at 0x7fad041e3630>,\n",
       "  <pywren.future.ResponseFuture at 0x7faa6d95ef28>,\n",
       "  <pywren.future.ResponseFuture at 0x7faa6de5bc88>,\n",
       "  <pywren.future.ResponseFuture at 0x7faa6d9a0f98>,\n",
       "  <pywren.future.ResponseFuture at 0x7faa6d63e828>,\n",
       "  <pywren.future.ResponseFuture at 0x7fa9fc6cc898>,\n",
       "  <pywren.future.ResponseFuture at 0x7fad04250320>,\n",
       "  <pywren.future.ResponseFuture at 0x7fad37f69d30>,\n",
       "  <pywren.future.ResponseFuture at 0x7fa9fc1a2198>,\n",
       "  <pywren.future.ResponseFuture at 0x7fad041e3c50>,\n",
       "  <pywren.future.ResponseFuture at 0x7faa6daa9518>,\n",
       "  <pywren.future.ResponseFuture at 0x7faa6decaac8>,\n",
       "  <pywren.future.ResponseFuture at 0x7fb7c8e39320>,\n",
       "  <pywren.future.ResponseFuture at 0x7fa9f4761160>,\n",
       "  <pywren.future.ResponseFuture at 0x7faa6decae48>,\n",
       "  <pywren.future.ResponseFuture at 0x7fad0422ae80>,\n",
       "  <pywren.future.ResponseFuture at 0x7faa6de5bc18>,\n",
       "  <pywren.future.ResponseFuture at 0x7faa6dee44a8>,\n",
       "  <pywren.future.ResponseFuture at 0x7faa6dee47b8>,\n",
       "  <pywren.future.ResponseFuture at 0x7fa9fc2ac208>,\n",
       "  <pywren.future.ResponseFuture at 0x7fa9fc6f3d68>,\n",
       "  <pywren.future.ResponseFuture at 0x7fa9f4770a90>,\n",
       "  <pywren.future.ResponseFuture at 0x7faa6dee46a0>,\n",
       "  <pywren.future.ResponseFuture at 0x7faa6dcbb128>,\n",
       "  <pywren.future.ResponseFuture at 0x7fa9f4761588>,\n",
       "  <pywren.future.ResponseFuture at 0x7fa9fc1a2710>,\n",
       "  <pywren.future.ResponseFuture at 0x7faa6d95ee80>,\n",
       "  <pywren.future.ResponseFuture at 0x7fad1c136a58>,\n",
       "  <pywren.future.ResponseFuture at 0x7fb7c8e39668>,\n",
       "  <pywren.future.ResponseFuture at 0x7fa9fc2acbe0>,\n",
       "  <pywren.future.ResponseFuture at 0x7fad378f30b8>,\n",
       "  <pywren.future.ResponseFuture at 0x7faa6d592cc0>,\n",
       "  <pywren.future.ResponseFuture at 0x7fa9fc2ac9b0>,\n",
       "  <pywren.future.ResponseFuture at 0x7fad1c0d99b0>,\n",
       "  <pywren.future.ResponseFuture at 0x7fa9fc6cc3c8>,\n",
       "  <pywren.future.ResponseFuture at 0x7faa6d255588>,\n",
       "  <pywren.future.ResponseFuture at 0x7faa6de3acf8>,\n",
       "  <pywren.future.ResponseFuture at 0x7faa6deca780>,\n",
       "  <pywren.future.ResponseFuture at 0x7faa6deca278>,\n",
       "  <pywren.future.ResponseFuture at 0x7faa6dee4f28>,\n",
       "  <pywren.future.ResponseFuture at 0x7faa6d7e54a8>,\n",
       "  <pywren.future.ResponseFuture at 0x7fa9f468de80>,\n",
       "  <pywren.future.ResponseFuture at 0x7faa6de976a0>,\n",
       "  <pywren.future.ResponseFuture at 0x7fa9fc2acc18>,\n",
       "  <pywren.future.ResponseFuture at 0x7fa9fc6f3518>,\n",
       "  <pywren.future.ResponseFuture at 0x7fb7c8e394a8>,\n",
       "  <pywren.future.ResponseFuture at 0x7faa6de5b860>,\n",
       "  <pywren.future.ResponseFuture at 0x7faa6d9a0dd8>,\n",
       "  <pywren.future.ResponseFuture at 0x7faa6d592940>,\n",
       "  <pywren.future.ResponseFuture at 0x7faa6d95e748>,\n",
       "  <pywren.future.ResponseFuture at 0x7faa6d95e2b0>,\n",
       "  <pywren.future.ResponseFuture at 0x7fad04058438>,\n",
       "  <pywren.future.ResponseFuture at 0x7fa9f468de10>,\n",
       "  <pywren.future.ResponseFuture at 0x7faa7805d208>,\n",
       "  <pywren.future.ResponseFuture at 0x7fad0422a860>,\n",
       "  <pywren.future.ResponseFuture at 0x7fad1c056710>,\n",
       "  <pywren.future.ResponseFuture at 0x7faa6d63e7f0>,\n",
       "  <pywren.future.ResponseFuture at 0x7fa9f47efa20>,\n",
       "  <pywren.future.ResponseFuture at 0x7fa9fc0c2e10>,\n",
       "  <pywren.future.ResponseFuture at 0x7fa9fc6f3ba8>,\n",
       "  <pywren.future.ResponseFuture at 0x7fa9fc6cca90>,\n",
       "  <pywren.future.ResponseFuture at 0x7fa9fc3ff400>,\n",
       "  <pywren.future.ResponseFuture at 0x7faa6dcbbf28>,\n",
       "  <pywren.future.ResponseFuture at 0x7faa6dde4860>,\n",
       "  <pywren.future.ResponseFuture at 0x7fa9fc6f3b00>,\n",
       "  <pywren.future.ResponseFuture at 0x7fad37e4e828>,\n",
       "  <pywren.future.ResponseFuture at 0x7faa6de3a438>,\n",
       "  <pywren.future.ResponseFuture at 0x7fa9fc6ccf60>,\n",
       "  <pywren.future.ResponseFuture at 0x7faa6d893b38>,\n",
       "  <pywren.future.ResponseFuture at 0x7fa9fc1a2ba8>,\n",
       "  <pywren.future.ResponseFuture at 0x7faa6d48d5c0>,\n",
       "  <pywren.future.ResponseFuture at 0x7fad1c169cc0>,\n",
       "  <pywren.future.ResponseFuture at 0x7fa9fc0c2f60>,\n",
       "  <pywren.future.ResponseFuture at 0x7fa9fc6f38d0>,\n",
       "  <pywren.future.ResponseFuture at 0x7fa9f47ef5c0>,\n",
       "  <pywren.future.ResponseFuture at 0x7faa6d3f8208>,\n",
       "  <pywren.future.ResponseFuture at 0x7fad1c07ec50>,\n",
       "  <pywren.future.ResponseFuture at 0x7faa6de5b160>,\n",
       "  <pywren.future.ResponseFuture at 0x7faa6da8b6a0>,\n",
       "  <pywren.future.ResponseFuture at 0x7fa9fc1a20f0>,\n",
       "  <pywren.future.ResponseFuture at 0x7faa6d63e6d8>,\n",
       "  <pywren.future.ResponseFuture at 0x7fad042503c8>,\n",
       "  <pywren.future.ResponseFuture at 0x7faa6de5b780>,\n",
       "  <pywren.future.ResponseFuture at 0x7faa780ce358>,\n",
       "  <pywren.future.ResponseFuture at 0x7fad04250cc0>,\n",
       "  <pywren.future.ResponseFuture at 0x7faa6de97438>,\n",
       "  <pywren.future.ResponseFuture at 0x7fa9f4770da0>,\n",
       "  <pywren.future.ResponseFuture at 0x7fa9fc6f3898>,\n",
       "  <pywren.future.ResponseFuture at 0x7faa6d4b5898>,\n",
       "  <pywren.future.ResponseFuture at 0x7faa7804edd8>,\n",
       "  <pywren.future.ResponseFuture at 0x7faa6deca1d0>,\n",
       "  <pywren.future.ResponseFuture at 0x7fad1c0569b0>,\n",
       "  <pywren.future.ResponseFuture at 0x7fad37c2be80>,\n",
       "  <pywren.future.ResponseFuture at 0x7fad37813c88>,\n",
       "  <pywren.future.ResponseFuture at 0x7faa780ce5f8>,\n",
       "  <pywren.future.ResponseFuture at 0x7faa6d7e5ba8>,\n",
       "  <pywren.future.ResponseFuture at 0x7fad37c2b7f0>,\n",
       "  <pywren.future.ResponseFuture at 0x7faa6dcd3940>,\n",
       "  <pywren.future.ResponseFuture at 0x7faa6dcd3f98>,\n",
       "  <pywren.future.ResponseFuture at 0x7faa6dde4f28>,\n",
       "  <pywren.future.ResponseFuture at 0x7faa6d893be0>,\n",
       "  <pywren.future.ResponseFuture at 0x7faa6d95e940>,\n",
       "  <pywren.future.ResponseFuture at 0x7facf4009438>,\n",
       "  <pywren.future.ResponseFuture at 0x7faa6d7d89e8>,\n",
       "  <pywren.future.ResponseFuture at 0x7faa6d95eda0>,\n",
       "  <pywren.future.ResponseFuture at 0x7faa6c14b4a8>,\n",
       "  <pywren.future.ResponseFuture at 0x7fad37cd95f8>,\n",
       "  <pywren.future.ResponseFuture at 0x7faa6d893e10>,\n",
       "  <pywren.future.ResponseFuture at 0x7fad1c056d68>,\n",
       "  <pywren.future.ResponseFuture at 0x7faa6d95e7f0>,\n",
       "  <pywren.future.ResponseFuture at 0x7faa6daa9ac8>,\n",
       "  <pywren.future.ResponseFuture at 0x7fa9fc3902e8>,\n",
       "  <pywren.future.ResponseFuture at 0x7faa6d9a00f0>,\n",
       "  <pywren.future.ResponseFuture at 0x7fa9fc6cc358>,\n",
       "  <pywren.future.ResponseFuture at 0x7faa6dde45f8>,\n",
       "  <pywren.future.ResponseFuture at 0x7faa6d51a860>,\n",
       "  <pywren.future.ResponseFuture at 0x7fa9fc1a2e80>,\n",
       "  <pywren.future.ResponseFuture at 0x7fad040582b0>,\n",
       "  <pywren.future.ResponseFuture at 0x7faa6d7edd30>,\n",
       "  <pywren.future.ResponseFuture at 0x7fa9fc390e80>,\n",
       "  <pywren.future.ResponseFuture at 0x7fad378f3ef0>,\n",
       "  <pywren.future.ResponseFuture at 0x7fa9fc20de10>,\n",
       "  <pywren.future.ResponseFuture at 0x7faa6def7ba8>,\n",
       "  <pywren.future.ResponseFuture at 0x7faa6d3f8f98>,\n",
       "  <pywren.future.ResponseFuture at 0x7fa9fc23b128>,\n",
       "  <pywren.future.ResponseFuture at 0x7faa6de3a3c8>,\n",
       "  <pywren.future.ResponseFuture at 0x7fb7c8e39fd0>,\n",
       "  <pywren.future.ResponseFuture at 0x7faa6d88c978>,\n",
       "  <pywren.future.ResponseFuture at 0x7fa9f45ba5c0>,\n",
       "  <pywren.future.ResponseFuture at 0x7fad1c07e320>,\n",
       "  <pywren.future.ResponseFuture at 0x7faa6dd9b048>,\n",
       "  <pywren.future.ResponseFuture at 0x7fad1c07ef60>,\n",
       "  <pywren.future.ResponseFuture at 0x7faa6dcd3c88>,\n",
       "  <pywren.future.ResponseFuture at 0x7fad0422a208>,\n",
       "  <pywren.future.ResponseFuture at 0x7fa9f450e080>,\n",
       "  <pywren.future.ResponseFuture at 0x7faa6d2e1c50>,\n",
       "  <pywren.future.ResponseFuture at 0x7fad1c056c18>,\n",
       "  <pywren.future.ResponseFuture at 0x7fad042b2748>,\n",
       "  <pywren.future.ResponseFuture at 0x7faa6d95ea58>,\n",
       "  <pywren.future.ResponseFuture at 0x7fa9f45baeb8>,\n",
       "  <pywren.future.ResponseFuture at 0x7fa9f461bb38>,\n",
       "  <pywren.future.ResponseFuture at 0x7fa9f461b0f0>,\n",
       "  <pywren.future.ResponseFuture at 0x7fa9f461b828>,\n",
       "  <pywren.future.ResponseFuture at 0x7facf40f6ac8>,\n",
       "  <pywren.future.ResponseFuture at 0x7fa9f4761780>,\n",
       "  <pywren.future.ResponseFuture at 0x7fad37de8e48>,\n",
       "  <pywren.future.ResponseFuture at 0x7fa9fc25fe80>,\n",
       "  <pywren.future.ResponseFuture at 0x7fad1c096dd8>,\n",
       "  <pywren.future.ResponseFuture at 0x7fa9f47ef588>,\n",
       "  <pywren.future.ResponseFuture at 0x7fa9f45ba9b0>,\n",
       "  <pywren.future.ResponseFuture at 0x7faa6d9a0ac8>,\n",
       "  <pywren.future.ResponseFuture at 0x7faa7804eb38>,\n",
       "  <pywren.future.ResponseFuture at 0x7fad37bd3ac8>,\n",
       "  <pywren.future.ResponseFuture at 0x7fad1c096908>,\n",
       "  <pywren.future.ResponseFuture at 0x7fa9fc6cc2b0>,\n",
       "  <pywren.future.ResponseFuture at 0x7faa6d88cd30>,\n",
       "  <pywren.future.ResponseFuture at 0x7faa6dcd3b38>,\n",
       "  <pywren.future.ResponseFuture at 0x7fa9fc43d940>,\n",
       "  <pywren.future.ResponseFuture at 0x7fa9fc363d30>,\n",
       "  <pywren.future.ResponseFuture at 0x7faa6d8de7f0>,\n",
       "  <pywren.future.ResponseFuture at 0x7fa9fc7d4ef0>,\n",
       "  <pywren.future.ResponseFuture at 0x7faa6de32860>,\n",
       "  <pywren.future.ResponseFuture at 0x7faa6d592470>,\n",
       "  <pywren.future.ResponseFuture at 0x7fad37d77780>,\n",
       "  <pywren.future.ResponseFuture at 0x7faa6d88c5f8>,\n",
       "  <pywren.future.ResponseFuture at 0x7fa9f450ef98>,\n",
       "  <pywren.future.ResponseFuture at 0x7fad37d775c0>,\n",
       "  <pywren.future.ResponseFuture at 0x7fa9f4678780>,\n",
       "  <pywren.future.ResponseFuture at 0x7faa6d6af8d0>,\n",
       "  <pywren.future.ResponseFuture at 0x7faa6d6af2e8>,\n",
       "  <pywren.future.ResponseFuture at 0x7faa6da5ec88>,\n",
       "  <pywren.future.ResponseFuture at 0x7faa6d487eb8>,\n",
       "  <pywren.future.ResponseFuture at 0x7faa6d6af438>,\n",
       "  <pywren.future.ResponseFuture at 0x7fa9fc57a978>,\n",
       "  <pywren.future.ResponseFuture at 0x7faa6d88c438>,\n",
       "  <pywren.future.ResponseFuture at 0x7faa6db340f0>,\n",
       "  <pywren.future.ResponseFuture at 0x7fa9f4775748>,\n",
       "  <pywren.future.ResponseFuture at 0x7faa6db34a20>,\n",
       "  <pywren.future.ResponseFuture at 0x7faa6db61b00>,\n",
       "  <pywren.future.ResponseFuture at 0x7fad37813438>,\n",
       "  <pywren.future.ResponseFuture at 0x7fa9f45ba4a8>,\n",
       "  <pywren.future.ResponseFuture at 0x7fb7c907d438>,\n",
       "  <pywren.future.ResponseFuture at 0x7fad37bd30b8>,\n",
       "  <pywren.future.ResponseFuture at 0x7faa6db34908>,\n",
       "  <pywren.future.ResponseFuture at 0x7faa6d6afc18>,\n",
       "  <pywren.future.ResponseFuture at 0x7fad37e9f5c0>,\n",
       "  <pywren.future.ResponseFuture at 0x7fa9f461bdd8>,\n",
       "  <pywren.future.ResponseFuture at 0x7fb7c8e50ac8>,\n",
       "  <pywren.future.ResponseFuture at 0x7fad1c056a90>,\n",
       "  <pywren.future.ResponseFuture at 0x7fad37f82c88>,\n",
       "  <pywren.future.ResponseFuture at 0x7fad37f82f98>,\n",
       "  <pywren.future.ResponseFuture at 0x7faa6d39c748>,\n",
       "  <pywren.future.ResponseFuture at 0x7faa6d88ce48>,\n",
       "  <pywren.future.ResponseFuture at 0x7fa9f4678eb8>,\n",
       "  <pywren.future.ResponseFuture at 0x7fb7c167feb8>,\n",
       "  <pywren.future.ResponseFuture at 0x7faa6d88cbe0>,\n",
       "  <pywren.future.ResponseFuture at 0x7fa9f450ecf8>,\n",
       "  <pywren.future.ResponseFuture at 0x7fa9fc20d358>,\n",
       "  <pywren.future.ResponseFuture at 0x7faa6d79d2e8>,\n",
       "  <pywren.future.ResponseFuture at 0x7fad37de8160>,\n",
       "  <pywren.future.ResponseFuture at 0x7faa6db34c50>,\n",
       "  <pywren.future.ResponseFuture at 0x7faa6d1df2b0>,\n",
       "  <pywren.future.ResponseFuture at 0x7fa9fc70e0f0>,\n",
       "  <pywren.future.ResponseFuture at 0x7fa9f46786d8>,\n",
       "  <pywren.future.ResponseFuture at 0x7faa6de02c88>,\n",
       "  <pywren.future.ResponseFuture at 0x7fad1c0d2f98>,\n",
       "  <pywren.future.ResponseFuture at 0x7fb7c8e50c18>,\n",
       "  <pywren.future.ResponseFuture at 0x7faa6d39c5f8>,\n",
       "  <pywren.future.ResponseFuture at 0x7faa6db347f0>,\n",
       "  <pywren.future.ResponseFuture at 0x7faa6dc987b8>,\n",
       "  <pywren.future.ResponseFuture at 0x7faa6def7c88>,\n",
       "  <pywren.future.ResponseFuture at 0x7faa7810bdd8>,\n",
       "  <pywren.future.ResponseFuture at 0x7facfc05b2b0>,\n",
       "  <pywren.future.ResponseFuture at 0x7faa6daa9630>,\n",
       "  <pywren.future.ResponseFuture at 0x7fa9f46bb0b8>,\n",
       "  <pywren.future.ResponseFuture at 0x7faa6def7320>,\n",
       "  <pywren.future.ResponseFuture at 0x7faa6d6af6a0>,\n",
       "  <pywren.future.ResponseFuture at 0x7fa9fc57a390>,\n",
       "  <pywren.future.ResponseFuture at 0x7fa9f4775550>,\n",
       "  <pywren.future.ResponseFuture at 0x7faa6d427400>,\n",
       "  <pywren.future.ResponseFuture at 0x7fad37de8ac8>,\n",
       "  <pywren.future.ResponseFuture at 0x7fa9fc34f278>,\n",
       "  <pywren.future.ResponseFuture at 0x7fa9f4775978>,\n",
       "  <pywren.future.ResponseFuture at 0x7fad37dfb390>,\n",
       "  <pywren.future.ResponseFuture at 0x7faa6d208048>,\n",
       "  <pywren.future.ResponseFuture at 0x7fad1c00b160>,\n",
       "  <pywren.future.ResponseFuture at 0x7fad040282e8>,\n",
       "  <pywren.future.ResponseFuture at 0x7fa9f4775b00>,\n",
       "  <pywren.future.ResponseFuture at 0x7faa6d427cf8>,\n",
       "  <pywren.future.ResponseFuture at 0x7fb7c8e39780>,\n",
       "  <pywren.future.ResponseFuture at 0x7fa9fc273cc0>,\n",
       "  <pywren.future.ResponseFuture at 0x7faa78094470>,\n",
       "  <pywren.future.ResponseFuture at 0x7faa6d427c18>,\n",
       "  ...],\n",
       " [])"
      ]
     },
     "execution_count": 158,
     "metadata": {},
     "output_type": "execute_result"
    }
   ],
   "source": [
    "%time pywren.wait(futures)"
   ]
  },
  {
   "cell_type": "code",
   "execution_count": 159,
   "metadata": {
    "collapsed": false
   },
   "outputs": [
    {
     "data": {
      "text/plain": [
       "array([[ 0.00530929, -0.00771338,  0.00293294, ...,  0.01098144,\n",
       "        -0.00362201,  0.00796177],\n",
       "       [ 0.01018667, -0.00775844, -0.01247368, ...,  0.00682678,\n",
       "         0.00348112, -0.00560325],\n",
       "       [-0.01543862,  0.03598055,  0.00898524, ...,  0.00286656,\n",
       "         0.00232578,  0.01507424],\n",
       "       ..., \n",
       "       [-0.00242012, -0.0075229 ,  0.00922731, ...,  0.00383395,\n",
       "         0.00010685,  0.01102333],\n",
       "       [ 0.00434358,  0.00438399,  0.00537604, ..., -0.00205298,\n",
       "         0.00594325, -0.00405986],\n",
       "       [-0.00170956,  0.00821895, -0.00374625, ..., -0.00520083,\n",
       "        -0.00391445, -0.00716681]])"
      ]
     },
     "execution_count": 159,
     "metadata": {},
     "output_type": "execute_result"
    }
   ],
   "source": [
    "futures[1].result()"
   ]
  },
  {
   "cell_type": "code",
   "execution_count": 160,
   "metadata": {
    "collapsed": true
   },
   "outputs": [],
   "source": [
    "preds = np.vstack([f.result() for f in futures])"
   ]
  },
  {
   "cell_type": "code",
   "execution_count": 163,
   "metadata": {
    "collapsed": false
   },
   "outputs": [
    {
     "data": {
      "text/plain": [
       "<module 'pictureweb.distributed.distributed' from '/home/ubuntu/pictureweb/pictureweb/distributed/distributed.py'>"
      ]
     },
     "execution_count": 163,
     "metadata": {},
     "output_type": "execute_result"
    }
   ],
   "source": [
    "reload(D)"
   ]
  },
  {
   "cell_type": "code",
   "execution_count": 154,
   "metadata": {
    "collapsed": false
   },
   "outputs": [
    {
     "name": "stdout",
     "output_type": "stream",
     "text": [
      "Help on function get_row_block in module pictureweb.distributed.distributed:\n",
      "\n",
      "get_row_block(X_sharded, row_blocks, dtype='float64', mmap_loc=None)\n",
      "\n"
     ]
    }
   ],
   "source": [
    "help(D.get_row_block)"
   ]
  },
  {
   "cell_type": "code",
   "execution_count": 167,
   "metadata": {
    "collapsed": false
   },
   "outputs": [
    {
     "name": "stdout",
     "output_type": "stream",
     "text": [
      "CPU times: user 320 ms, sys: 7.4 s, total: 7.72 s\n",
      "Wall time: 17.7 s\n"
     ]
    }
   ],
   "source": [
    "%time y_train_subset = D.fast_kernel_column_blocks_get(y_train_sharded, mmap_loc=\"/dev/shm/y_train_subset\", col_blocks=[0], row_blocks=y_train_sharded._block_idxs(0)[:3000], workers=100)"
   ]
  },
  {
   "cell_type": "code",
   "execution_count": 170,
   "metadata": {
    "collapsed": false
   },
   "outputs": [
    {
     "data": {
      "text/plain": [
       "memmap(0.5988854166666666)"
      ]
     },
     "execution_count": 170,
     "metadata": {},
     "output_type": "execute_result"
    }
   ],
   "source": [
    "ls.top_k_accuracy(y_train_subset, preds, k=1)"
   ]
  },
  {
   "cell_type": "code",
   "execution_count": 413,
   "metadata": {
    "collapsed": true
   },
   "outputs": [],
   "source": [
    "y_train_enc = np.eye(1000)[y_train]"
   ]
  },
  {
   "cell_type": "code",
   "execution_count": 47,
   "metadata": {
    "collapsed": false
   },
   "outputs": [
    {
     "data": {
      "text/plain": [
       "(1281167,)"
      ]
     },
     "execution_count": 47,
     "metadata": {},
     "output_type": "execute_result"
    }
   ],
   "source": [
    "y_train.shape"
   ]
  },
  {
   "cell_type": "code",
   "execution_count": 80,
   "metadata": {
    "collapsed": false
   },
   "outputs": [
    {
     "name": "stdout",
     "output_type": "stream",
     "text": [
      "CPU times: user 8.32 s, sys: 852 ms, total: 9.17 s\n",
      "Wall time: 290 ms\n"
     ]
    }
   ],
   "source": [
    "%time model_loo = loo_model(XTX_inv, Xty, X_train, y_train, 0)\n",
    "                                 "
   ]
  },
  {
   "cell_type": "code",
   "execution_count": 447,
   "metadata": {
    "collapsed": true
   },
   "outputs": [],
   "source": [
    "idxs = [i for i in range(1000)]"
   ]
  },
  {
   "cell_type": "code",
   "execution_count": null,
   "metadata": {
    "collapsed": false
   },
   "outputs": [],
   "source": [
    "%time y_preds =  loo_model(XTX_inv, Xty, X_train, y_train)"
   ]
  },
  {
   "cell_type": "code",
   "execution_count": 457,
   "metadata": {
    "collapsed": false
   },
   "outputs": [
    {
     "data": {
      "text/plain": [
       "0.58699999999999997"
      ]
     },
     "execution_count": 457,
     "metadata": {},
     "output_type": "execute_result"
    }
   ],
   "source": [
    "metrics.accuracy_score(np.argmax(y_preds, axis=1), y_train[idxs])"
   ]
  },
  {
   "cell_type": "code",
   "execution_count": 454,
   "metadata": {
    "collapsed": false
   },
   "outputs": [
    {
     "data": {
      "text/plain": [
       "0.81999999999999995"
      ]
     },
     "execution_count": 454,
     "metadata": {},
     "output_type": "execute_result"
    }
   ],
   "source": [
    "ls.top_k_accuracy(y_train[idxs], y_preds)"
   ]
  },
  {
   "cell_type": "code",
   "execution_count": 320,
   "metadata": {
    "collapsed": false
   },
   "outputs": [
    {
     "data": {
      "text/plain": [
       "2.192810176508985e-12"
      ]
     },
     "execution_count": 320,
     "metadata": {},
     "output_type": "execute_result"
    }
   ],
   "source": [
    "np.linalg.norm(np.eye(XTX.shape[0]) - P.dot(XTX + X_train[0].dot(X_train[0]).T))"
   ]
  },
  {
   "cell_type": "code",
   "execution_count": null,
   "metadata": {
    "collapsed": true
   },
   "outputs": [],
   "source": [
    "XTX_inv = np.linalg.inv(XTX)"
   ]
  },
  {
   "cell_type": "code",
   "execution_count": 173,
   "metadata": {
    "collapsed": false
   },
   "outputs": [
    {
     "name": "stdout",
     "output_type": "stream",
     "text": [
      "CPU times: user 2.05 s, sys: 148 ms, total: 2.2 s\n",
      "Wall time: 69.1 ms\n"
     ]
    }
   ],
   "source": [
    "%time P2 = XTX_inv - ((1.0/(1 + X_train[0].T.dot(XTX_inv).dot(X_train[0]))) * (XTX_inv.dot(X_train[0]).dot(XTX_inv.dot(X_train[0]).T)))"
   ]
  },
  {
   "cell_type": "code",
   "execution_count": 324,
   "metadata": {
    "collapsed": false
   },
   "outputs": [
    {
     "data": {
      "text/plain": [
       "17412.026976999598"
      ]
     },
     "execution_count": 324,
     "metadata": {},
     "output_type": "execute_result"
    }
   ],
   "source": [
    "np.linalg.norm(np.eye(XTX.shape[0]) - P2.dot(XTX - X_train[0].dot(X_train[0]).T))"
   ]
  },
  {
   "cell_type": "code",
   "execution_count": 268,
   "metadata": {
    "collapsed": false
   },
   "outputs": [
    {
     "data": {
      "text/plain": [
       "637"
      ]
     },
     "execution_count": 268,
     "metadata": {},
     "output_type": "execute_result"
    }
   ],
   "source": [
    "np.argmax(y_train_pred_loo[3])"
   ]
  },
  {
   "cell_type": "code",
   "execution_count": 409,
   "metadata": {
    "collapsed": false
   },
   "outputs": [
    {
     "data": {
      "text/plain": [
       "array([544, 569, 267, ..., 579,  39, 268])"
      ]
     },
     "execution_count": 409,
     "metadata": {},
     "output_type": "execute_result"
    }
   ],
   "source": [
    "y_train_pred_loo = X_train.dot(model_loo)\n",
    "np.argmax(y_train_pred_loo, axis=1)"
   ]
  },
  {
   "cell_type": "code",
   "execution_count": 410,
   "metadata": {
    "collapsed": false
   },
   "outputs": [
    {
     "data": {
      "text/plain": [
       "0.61269295884143127"
      ]
     },
     "execution_count": 410,
     "metadata": {},
     "output_type": "execute_result"
    }
   ],
   "source": [
    "metrics.accuracy_score(np.argmax(y_train_pred_loo, axis=1), y_train)"
   ]
  },
  {
   "cell_type": "code",
   "execution_count": 152,
   "metadata": {
    "collapsed": false
   },
   "outputs": [
    {
     "name": "stdout",
     "output_type": "stream",
     "text": [
      "CPU times: user 23.3 s, sys: 6.53 s, total: 29.8 s\n",
      "Wall time: 1.07 s\n"
     ]
    }
   ],
   "source": [
    "metrics.accuracy_score(np.argmax(y_train_pred_loo, axis=1), y_train)"
   ]
  },
  {
   "cell_type": "code",
   "execution_count": 253,
   "metadata": {
    "collapsed": false
   },
   "outputs": [
    {
     "data": {
      "text/plain": [
       "memmap([[ 0.        ,  0.        ,  0.        , ...,  0.        ,\n",
       "         0.        ,  0.        ],\n",
       "       [ 0.        ,  3.77013946,  0.        , ...,  0.        ,\n",
       "         0.        ,  0.        ],\n",
       "       [ 2.71604156,  0.        ,  0.        , ...,  0.        ,\n",
       "         0.05119753,  0.        ],\n",
       "       ..., \n",
       "       [ 0.33024526,  0.        ,  0.        , ...,  0.        ,\n",
       "         0.        ,  1.94778013],\n",
       "       [ 0.        ,  0.87086219,  3.1447084 , ...,  0.        ,\n",
       "         0.        ,  0.        ],\n",
       "       [ 0.        ,  0.        ,  0.        , ...,  0.        ,\n",
       "         0.        ,  2.61814594]])"
      ]
     },
     "execution_count": 253,
     "metadata": {},
     "output_type": "execute_result"
    }
   ],
   "source": [
    "X_train"
   ]
  },
  {
   "cell_type": "code",
   "execution_count": null,
   "metadata": {
    "collapsed": false
   },
   "outputs": [],
   "source": [
    "np.lin"
   ]
  },
  {
   "cell_type": "code",
   "execution_count": 360,
   "metadata": {
    "collapsed": true
   },
   "outputs": [],
   "source": [
    "XTX_inv = np.linalg.inv(XTX)"
   ]
  },
  {
   "cell_type": "code",
   "execution_count": 361,
   "metadata": {
    "collapsed": true
   },
   "outputs": [],
   "source": [
    "x = X_train[0]"
   ]
  },
  {
   "cell_type": "code",
   "execution_count": 362,
   "metadata": {
    "collapsed": false
   },
   "outputs": [],
   "source": [
    "xxt = x.dot(x.T)"
   ]
  },
  {
   "cell_type": "code",
   "execution_count": 363,
   "metadata": {
    "collapsed": true
   },
   "outputs": [],
   "source": [
    "XTX_plus_one = XTX + xxt"
   ]
  },
  {
   "cell_type": "code",
   "execution_count": 364,
   "metadata": {
    "collapsed": false
   },
   "outputs": [],
   "source": [
    "XTX_plus_one_inv = np.linalg.inv(XTX_plus_one)"
   ]
  },
  {
   "cell_type": "code",
   "execution_count": 365,
   "metadata": {
    "collapsed": false
   },
   "outputs": [
    {
     "data": {
      "text/plain": [
       "memmap([[  2.08450128e-06,   1.06517459e-08,  -1.70364250e-08, ...,\n",
       "         -6.00817565e-09,   7.91829213e-09,   3.01785942e-09],\n",
       "       [  1.06517459e-08,   1.99430265e-06,   1.25169046e-08, ...,\n",
       "          1.37084192e-08,   1.57383629e-09,  -2.57118505e-09],\n",
       "       [ -1.70364250e-08,   1.25169046e-08,   1.97613968e-06, ...,\n",
       "         -5.70736633e-09,   1.72675027e-08,  -8.06020142e-09],\n",
       "       ..., \n",
       "       [ -6.00817565e-09,   1.37084192e-08,  -5.70736633e-09, ...,\n",
       "          1.85052779e-06,   5.48731163e-10,  -7.45805817e-09],\n",
       "       [  7.91829213e-09,   1.57383629e-09,   1.72675027e-08, ...,\n",
       "          5.48731163e-10,   1.79526251e-06,   1.65971726e-08],\n",
       "       [  3.01785942e-09,  -2.57118505e-09,  -8.06020142e-09, ...,\n",
       "         -7.45805817e-09,   1.65971726e-08,   1.79838436e-06]])"
      ]
     },
     "execution_count": 365,
     "metadata": {},
     "output_type": "execute_result"
    }
   ],
   "source": [
    "XTX_plus_one_inv"
   ]
  },
  {
   "cell_type": "code",
   "execution_count": 390,
   "metadata": {
    "collapsed": true
   },
   "outputs": [],
   "source": [
    "Px = XTX_inv.dot(x)[:, np.newaxis]"
   ]
  },
  {
   "cell_type": "code",
   "execution_count": 391,
   "metadata": {
    "collapsed": true
   },
   "outputs": [],
   "source": [
    "PxPxt = Px.dot(Px.T)"
   ]
  },
  {
   "cell_type": "code",
   "execution_count": 392,
   "metadata": {
    "collapsed": true
   },
   "outputs": [],
   "source": [
    "update = (1.0/(1.0 + x.T.dot(Px))*(PxPxt))"
   ]
  },
  {
   "cell_type": "code",
   "execution_count": 397,
   "metadata": {
    "collapsed": false
   },
   "outputs": [
    {
     "data": {
      "text/plain": [
       "memmap([[  2.08450726e-06,   1.06575921e-08,  -1.70472893e-08, ...,\n",
       "         -6.01911768e-09,   7.91348584e-09,   2.98779533e-09],\n",
       "       [  1.06575921e-08,   1.99430621e-06,   1.25102330e-08, ...,\n",
       "          1.37004178e-08,   1.57053308e-09,  -2.59250006e-09],\n",
       "       [ -1.70472893e-08,   1.25102330e-08,   1.97615216e-06, ...,\n",
       "         -5.69243900e-09,   1.72736713e-08,  -8.02041683e-09],\n",
       "       ..., \n",
       "       [ -6.01911768e-09,   1.37004178e-08,  -5.69243900e-09, ...,\n",
       "          1.85054443e-06,   5.55775975e-10,  -7.41317311e-09],\n",
       "       [  7.91348584e-09,   1.57053308e-09,   1.72736713e-08, ...,\n",
       "          5.55775975e-10,   1.79526547e-06,   1.66160943e-08],\n",
       "       [  2.98779533e-09,  -2.59250006e-09,  -8.02041683e-09, ...,\n",
       "         -7.41317311e-09,   1.66160943e-08,   1.79850517e-06]])"
      ]
     },
     "execution_count": 397,
     "metadata": {},
     "output_type": "execute_result"
    }
   ],
   "source": [
    "(XTX_inv - update)"
   ]
  },
  {
   "cell_type": "code",
   "execution_count": null,
   "metadata": {
    "collapsed": false
   },
   "outputs": [],
   "source": [
    "Px.shape"
   ]
  },
  {
   "cell_type": "code",
   "execution_count": null,
   "metadata": {
    "collapsed": true
   },
   "outputs": [],
   "source": []
  }
 ],
 "metadata": {
  "kernelspec": {
   "display_name": "Python 3",
   "language": "python",
   "name": "python3"
  },
  "language_info": {
   "codemirror_mode": {
    "name": "ipython",
    "version": 3
   },
   "file_extension": ".py",
   "mimetype": "text/x-python",
   "name": "python",
   "nbconvert_exporter": "python",
   "pygments_lexer": "ipython3",
   "version": "3.6.0"
  }
 },
 "nbformat": 4,
 "nbformat_minor": 2
}
