{
 "cells": [
  {
   "cell_type": "code",
   "execution_count": 1,
   "metadata": {
    "collapsed": false
   },
   "outputs": [
    {
     "name": "stdout",
     "output_type": "stream",
     "text": [
      "Populating the interactive namespace from numpy and matplotlib\n"
     ]
    },
    {
     "name": "stderr",
     "output_type": "stream",
     "text": [
      "/data/vaishaal/anaconda3/lib/python3.6/site-packages/IPython/core/magics/pylab.py:161: UserWarning: pylab import has clobbered these variables: ['imread']\n",
      "`%matplotlib` prevents importing * from pylab and numpy\n",
      "  \"\\n`%matplotlib` prevents importing * from pylab and numpy\"\n"
     ]
    },
    {
     "data": {
      "text/plain": [
       "<module 'softmax' from '/data/vaishaal/pictureweb/conv/softmax.py'>"
      ]
     },
     "execution_count": 1,
     "metadata": {},
     "output_type": "execute_result"
    }
   ],
   "source": [
    "import sys\n",
    "sys.path.append(\"..\")\n",
    "import imagenet_load\n",
    "from importlib import reload\n",
    "reload(imagenet_load)\n",
    "import tarfile\n",
    "import numpy as np\n",
    "import imread\n",
    "%pylab inline\n",
    "import imread\n",
    "from imread import imread_from_blob\n",
    "from imagenet_load import orient\n",
    "import multigpu\n",
    "reload(multigpu)\n",
    "import filter_gen\n",
    "import conv\n",
    "reload(conv)\n",
    "import gc\n",
    "import logging\n",
    "import dill\n",
    "from scipy.misc import imresize\n",
    "import opt\n",
    "reload(opt)\n",
    "import exputil\n",
    "reload(exputil)\n",
    "from sklearn import metrics\n",
    "import time\n",
    "import scipy.linalg\n",
    "from numba import jit\n",
    "import concurrent.futures as fs\n",
    "from scipy import stats\n",
    "import softmax\n",
    "reload(softmax)"
   ]
  },
  {
   "cell_type": "code",
   "execution_count": 11,
   "metadata": {
    "collapsed": true
   },
   "outputs": [],
   "source": [
    "%load_ext line_profiler\n"
   ]
  },
  {
   "cell_type": "code",
   "execution_count": 6,
   "metadata": {
    "collapsed": true
   },
   "outputs": [],
   "source": [
    "def softmax_gn(X_train, y_train, X_test, y_test, XTX, w_init=None, step_size=1, multiplier=1e-2, num_classes=1000, numiter=50, verbose=True):\n",
    "        ''' Implementation of gauss-newton quassi-newton optimization algorithm\n",
    "            with softmax objective\n",
    "        '''\n",
    "        X_train = X_train.reshape(X_train.shape[0], -1)\n",
    "        X_test = X_test.reshape(X_test.shape[0], -1)\n",
    "        gmat = (1.0/X_train.shape[0])*XTX\n",
    "        lambdav = multiplier*np.trace(gmat)/gmat.shape[0]\n",
    "        num_idx = np.diag_indices(gmat.shape[0])\n",
    "        gmat[num_idx] += lambdav\n",
    "        w = np.zeros((num_classes, gmat.shape[0]))\n",
    "        if (w_init != None):\n",
    "            w = w_init\n",
    "        num_samples = X_train.shape[0]\n",
    "        onehot = lambda x: np.eye(num_classes)[x]\n",
    "        class_matrix = np.eye(num_classes)\n",
    "        y_train_hot = class_matrix[y_train]\n",
    "        y_test_hot = class_matrix[y_test]\n",
    "        for k in range(numiter):\n",
    "            print(\"Computing Trian Preds\")\n",
    "            train_preds  = w.dot(X_train.T).T # 1million x 1000\n",
    "            \n",
    "            print(\"Normalizing trian preds\")\n",
    "            train_preds = train_preds - np.max(train_preds, axis=1)[:,np.newaxis]\n",
    "            train_preds = np.exp(train_preds)\n",
    "            train_preds = train_preds/(np.sum(train_preds, axis=1)[:,np.newaxis])\n",
    "            train_preds = y_train_hot - train_preds\n",
    "            \n",
    "            print(\"Computing gradient\")\n",
    "            grad = (1.0/num_samples)*(X_train.T.dot(train_preds).T) - lambdav*w\n",
    "            \n",
    "            print(\"Solving for step\")\n",
    "            w = w + step_size * (np.linalg.solve(gmat, grad.T)).T\n",
    "            \n",
    "            print(\"Computing metrics\")\n",
    "            y_train_pred = np.argmax(w.dot(X_train.T).T, axis=1)\n",
    "            y_test_pred = np.argmax(w.dot(X_test.T).T, axis=1)\n",
    "            train_acc = metrics.accuracy_score(y_train, y_train_pred)\n",
    "            test_acc = metrics.accuracy_score(y_test, y_test_pred)\n",
    "            if (verbose):\n",
    "              print(\"Iter: {0}, Train Accuracy: {1}, Test Accuracy: {2}\".format(k, train_acc, test_acc))\n",
    "        return y_train_pred, y_test_pred, w\n"
   ]
  },
  {
   "cell_type": "code",
   "execution_count": 5,
   "metadata": {
    "collapsed": false
   },
   "outputs": [
    {
     "name": "stdout",
     "output_type": "stream",
     "text": [
      "CPU times: user 19min 1s, sys: 1.4 s, total: 19min 3s\n",
      "Wall time: 23.9 s\n"
     ]
    }
   ],
   "source": [
    "alexnet_train = np.load(\"/data/vaishaal/pictureweb/pywren_kernels/imagenet_train_alexnet_fc7.npz\")\n",
    "\n",
    "X_train = alexnet_train[\"X_train\"]\n",
    "y_train = alexnet_train[\"y_train\"]\n",
    "\n",
    "X_test = np.load(\"/data/vaishaal/pictureweb/pywren_kernels/imagenet_test_features_alexnet_fc7.npy\")\n",
    "y_test  = np.load(\"/data/vaishaal/pictureweb/pywren_kernels/imagenet_test_labels.npy\")\n",
    "\n",
    "%time XtX = X_train.T.dot(X_train)"
   ]
  },
  {
   "cell_type": "code",
   "execution_count": 13,
   "metadata": {
    "collapsed": false
   },
   "outputs": [
    {
     "name": "stdout",
     "output_type": "stream",
     "text": [
      "Computing Trian Preds\n",
      "Normalizing trian preds\n",
      "Computing gradient\n",
      "Solving for step\n",
      "Computing metrics\n",
      "Iter: 0, Train Accuracy: 1.0, Test Accuracy: 0.11524\n",
      "Computing Trian Preds\n",
      "Normalizing trian preds\n",
      "Computing gradient\n",
      "Solving for step\n",
      "Computing metrics\n",
      "Iter: 1, Train Accuracy: 1.0, Test Accuracy: 0.11588\n",
      "Computing Trian Preds\n",
      "Normalizing trian preds\n",
      "Computing gradient\n",
      "Solving for step\n",
      "*** KeyboardInterrupt exception caught in code being profiled."
     ]
    }
   ],
   "source": [
    "%lprun  softmax_gn(X_train[:1000,:], y_train[:1000], X_test, y_test, XtX, multiplier=1e-3, step_size=10o)"
   ]
  },
  {
   "cell_type": "code",
   "execution_count": null,
   "metadata": {
    "collapsed": true
   },
   "outputs": [],
   "source": []
  }
 ],
 "metadata": {
  "kernelspec": {
   "display_name": "Python 3",
   "language": "python",
   "name": "python3"
  },
  "language_info": {
   "codemirror_mode": {
    "name": "ipython",
    "version": 3
   },
   "file_extension": ".py",
   "mimetype": "text/x-python",
   "name": "python",
   "nbconvert_exporter": "python",
   "pygments_lexer": "ipython3",
   "version": "3.6.0"
  }
 },
 "nbformat": 4,
 "nbformat_minor": 2
}
