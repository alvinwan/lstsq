{
 "cells": [
  {
   "cell_type": "code",
   "execution_count": 2,
   "metadata": {
    "collapsed": false
   },
   "outputs": [
    {
     "name": "stdout",
     "output_type": "stream",
     "text": [
      "Populating the interactive namespace from numpy and matplotlib\n",
      "<module 'loaders.imagenet_load' from '../loaders/imagenet_load.py'>\n"
     ]
    }
   ],
   "source": [
    "%pylab inline\n",
    "import sys\n",
    "sys.path.append(\"..\")\n",
    "from loaders import imagenet_load\n",
    "from importlib import reload\n",
    "print(imagenet_load)\n",
    "from conv import multigpu\n",
    "from loaders.imagenet_load import orient\n",
    "import conv\n",
    "from conv import filter_gen, multigpu\n",
    "from opt import ls\n",
    "import numpy as np\n",
    "from utils import misc\n",
    "from utils import linalg\n",
    "from utils import exputil\n",
    "from numba import jit\n",
    "import math\n",
    "import concurrent.futures as fs\n",
    "from pylab import imshow\n",
    "import copy\n",
    "from skimage.filters import gabor_kernel\n",
    "from skimage.transform import rescale\n",
    "from sklearn import metrics"
   ]
  },
  {
   "cell_type": "code",
   "execution_count": 3,
   "metadata": {
    "collapsed": true
   },
   "outputs": [],
   "source": [
    "NUM_CLASSES = 100"
   ]
  },
  {
   "cell_type": "code",
   "execution_count": 3,
   "metadata": {
    "collapsed": true
   },
   "outputs": [],
   "source": [
    "\n",
    "def class_to_tarball_name_train(classname):\n",
    "    classname = classname.strip()\n",
    "    return \"/home/ubuntu/imagenet-train/{0}-scaled.tar\".format(classname)\n",
    "\n",
    "def class_to_tarball_name_val(classname):\n",
    "    classname = classname.strip()\n",
    "    return \"/home/ubuntu/imagenet-validation/val-{0}-scaled.tar\".format(classname)\n",
    "\n"
   ]
  },
  {
   "cell_type": "code",
   "execution_count": 31,
   "metadata": {
    "collapsed": true
   },
   "outputs": [],
   "source": [
    "def normalize_images(images, min_divisor=1e-8):\n",
    "    orig_shape = images.shape\n",
    "    images = images.reshape(images.shape[0], -1)\n",
    "    print(\"PRE PROCESSING\")\n",
    "    n_images = images.shape[0]\n",
    "    # Zero mean every feature\n",
    "    images = images - np.mean(images, axis=1)[:,np.newaxis]\n",
    "    # Normalize\n",
    "    image_norms = np.linalg.norm(images, axis=1)/55.0\n",
    "    # Get rid of really small norms\n",
    "    image_norms[np.where(image_norms < min_divisor)] = 1\n",
    "    # Make features unit norm\n",
    "    images_normalized = images/image_norms[:,np.newaxis]\n",
    "    return images_normalized.reshape(orig_shape)"
   ]
  },
  {
   "cell_type": "code",
   "execution_count": 4,
   "metadata": {
    "collapsed": false
   },
   "outputs": [
    {
     "name": "stderr",
     "output_type": "stream",
     "text": [
      "There exists a matrix at /dev/shm/imagenet_train\n"
     ]
    },
    {
     "name": "stdout",
     "output_type": "stream",
     "text": [
      "CPU times: user 36 ms, sys: 2.24 s, total: 2.28 s\n",
      "Wall time: 13.7 s\n"
     ]
    },
    {
     "name": "stderr",
     "output_type": "stream",
     "text": [
      "There exists a matrix at /dev/shm/imagenet_val\n"
     ]
    },
    {
     "name": "stdout",
     "output_type": "stream",
     "text": [
      "CPU times: user 28 ms, sys: 216 ms, total: 244 ms\n",
      "Wall time: 433 ms\n",
      "Loaded 0 classes into mem\n",
      "CPU times: user 80 ms, sys: 76 ms, total: 156 ms\n",
      "Wall time: 18.8 s\n",
      "Loaded 0 classes into mem\n",
      "CPU times: user 40 ms, sys: 88 ms, total: 128 ms\n",
      "Wall time: 902 ms\n"
     ]
    }
   ],
   "source": [
    "%time loader_train = imagenet_load.ImagenetLoader(NUM_CLASSES, classes_path=\"../loaders/classes\", tarball_func=class_to_tarball_name_train, mmap_loc=\"/dev/shm/imagenet_train\", n_procs=16)\n",
    "%time loader_val = imagenet_load.ImagenetLoader(NUM_CLASSES, classes_path=\"../loaders/classes\", tarball_func=class_to_tarball_name_val, mmap_loc=\"/dev/shm/imagenet_val\", n_procs=16)\n",
    "\n",
    "%time X_train = loader_train.load_all()\n",
    "%time X_test = loader_val.load_all()"
   ]
  },
  {
   "cell_type": "code",
   "execution_count": 8,
   "metadata": {
    "collapsed": false
   },
   "outputs": [
    {
     "name": "stdout",
     "output_type": "stream",
     "text": [
      "CPU times: user 29 s, sys: 24.5 s, total: 53.5 s\n",
      "Wall time: 53.5 s\n",
      "CPU times: user 1.12 s, sys: 932 ms, total: 2.06 s\n",
      "Wall time: 2.06 s\n"
     ]
    }
   ],
   "source": [
    "%time X_train = X_train.astype('float32')\n",
    "%time X_test = X_test.astype('float32')"
   ]
  },
  {
   "cell_type": "code",
   "execution_count": 11,
   "metadata": {
    "collapsed": false
   },
   "outputs": [
    {
     "data": {
      "text/plain": [
       "(129395, 3, 256, 256)"
      ]
     },
     "execution_count": 11,
     "metadata": {},
     "output_type": "execute_result"
    }
   ],
   "source": [
    "X_train.shape"
   ]
  },
  {
   "cell_type": "code",
   "execution_count": 12,
   "metadata": {
    "collapsed": false
   },
   "outputs": [
    {
     "name": "stdout",
     "output_type": "stream",
     "text": [
      "CPU times: user 16 s, sys: 0 ns, total: 16 s\n",
      "Wall time: 16 s\n",
      "CPU times: user 16.1 s, sys: 0 ns, total: 16.1 s\n",
      "Wall time: 16.1 s\n",
      "CPU times: user 624 ms, sys: 0 ns, total: 624 ms\n",
      "Wall time: 622 ms\n"
     ]
    }
   ],
   "source": [
    "#%time X_train = normalize_images(X_train)\n",
    "#%time X_test = normalize_images(X_test)\n",
    "\n",
    "%time mean_image = np.mean(X_train, axis=0)\n",
    "%time X_train -= mean_image\n",
    "%time X_test -= mean_image"
   ]
  },
  {
   "cell_type": "code",
   "execution_count": 32,
   "metadata": {
    "collapsed": false
   },
   "outputs": [],
   "source": [
    "X_train.filename = \"/dev/shm/X_train\"\n",
    "X_test.filename = \"/dev/shm/X_test\""
   ]
  },
  {
   "cell_type": "code",
   "execution_count": 13,
   "metadata": {
    "collapsed": false
   },
   "outputs": [],
   "source": [
    "y_train = loader_train.Y\n",
    "y_test = loader_val.Y"
   ]
  },
  {
   "cell_type": "code",
   "execution_count": 14,
   "metadata": {
    "collapsed": true
   },
   "outputs": [],
   "source": [
    "num_pixels = X_train.shape[1]*X_train.shape[2]*X_train.shape[3]"
   ]
  },
  {
   "cell_type": "code",
   "execution_count": null,
   "metadata": {
    "collapsed": false
   },
   "outputs": [],
   "source": [
    "num_pixels"
   ]
  },
  {
   "cell_type": "code",
   "execution_count": 18,
   "metadata": {
    "collapsed": false
   },
   "outputs": [
    {
     "name": "stdout",
     "output_type": "stream",
     "text": [
      "CPU times: user 4.07 s, sys: 4.5 s, total: 8.58 s\n",
      "Wall time: 8.57 s\n",
      "CPU times: user 156 ms, sys: 176 ms, total: 332 ms\n",
      "Wall time: 330 ms\n"
     ]
    }
   ],
   "source": [
    "%time X_train_flat = X_train.reshape(X_train.shape[0], -1) / np.sqrt(num_pixels)\n",
    "%time X_test_flat = X_test.reshape(X_test.shape[0], -1)  / np.sqrt(num_pixels)"
   ]
  },
  {
   "cell_type": "code",
   "execution_count": 19,
   "metadata": {
    "collapsed": false
   },
   "outputs": [
    {
     "data": {
      "text/plain": [
       "array([[ -2.03486261e-04,  -2.20109386e-04,  -1.79659784e-04, ...,\n",
       "          2.96890380e-04,   3.02852941e-04,   3.03848768e-04],\n",
       "       [ -5.44885060e-05,  -7.43944000e-05,  -8.84689705e-05, ...,\n",
       "         -4.26344990e-04,  -3.78707015e-04,  -3.23238227e-04],\n",
       "       [ -1.14394453e-04,  -1.16142693e-04,  -1.16599023e-04, ...,\n",
       "          7.24585938e-04,   7.26829778e-04,   7.27825605e-04],\n",
       "       ..., \n",
       "       [  1.54596231e-04,   2.10270672e-04,   8.34844417e-05, ...,\n",
       "         -3.36185703e-04,  -2.88003717e-04,  -3.21461499e-04],\n",
       "       [  3.04049863e-04,   2.72234284e-04,   2.86811623e-04, ...,\n",
       "         -6.31025631e-05,  -9.59372845e-05,  -1.45053689e-04],\n",
       "       [ -2.93694146e-04,  -5.33300616e-05,   2.58411080e-04, ...,\n",
       "         -7.02395444e-05,  -1.18966720e-04,  -4.78857462e-05]])"
      ]
     },
     "execution_count": 19,
     "metadata": {},
     "output_type": "execute_result"
    }
   ],
   "source": [
    "X_train_flat"
   ]
  },
  {
   "cell_type": "code",
   "execution_count": 20,
   "metadata": {
    "collapsed": false
   },
   "outputs": [],
   "source": [
    "K_train_flat = X_train_flat.dot(X_train_flat.T)\n",
    "K_test_flat = X_test_flat.dot(X_train_flat.T)"
   ]
  },
  {
   "cell_type": "code",
   "execution_count": 21,
   "metadata": {
    "collapsed": false
   },
   "outputs": [
    {
     "data": {
      "text/plain": [
       "array([ -6.21157495e-21,  -6.77626358e-21,  -9.03501810e-21, ...,\n",
       "         2.37169225e-20,  -5.19513541e-20,  -9.03501810e-21])"
      ]
     },
     "execution_count": 21,
     "metadata": {},
     "output_type": "execute_result"
    }
   ],
   "source": [
    "np.mean(X_train_flat, axis=1)"
   ]
  },
  {
   "cell_type": "code",
   "execution_count": 22,
   "metadata": {
    "collapsed": true
   },
   "outputs": [],
   "source": [
    "results_flat = {}"
   ]
  },
  {
   "cell_type": "code",
   "execution_count": 23,
   "metadata": {
    "collapsed": false
   },
   "outputs": [
    {
     "name": "stdout",
     "output_type": "stream",
     "text": [
      "Learning Dual Model\n",
      "reg is 0.0001\n",
      "0.0001 (0.99761538461538457, 0.23000000000000001)\n",
      "Learning Dual Model\n",
      "reg is 0.01\n",
      "0.01 (0.8223076923076923, 0.34599999999999997)\n",
      "Learning Dual Model\n",
      "reg is 0.1\n",
      "0.1 (0.52746153846153843, 0.376)\n",
      "Learning Dual Model\n",
      "reg is 10.0\n",
      "10.0 (0.34069230769230768, 0.32200000000000001)\n",
      "Learning Dual Model\n",
      "reg is 10\n",
      "10 (0.34069230769230768, 0.32200000000000001)\n",
      "Learning Dual Model\n",
      "reg is 1000\n",
      "1000 (0.29215384615384615, 0.27000000000000002)\n",
      "Learning Dual Model\n",
      "reg is 10000\n",
      "10000 (0.29069230769230769, 0.27200000000000002)\n"
     ]
    }
   ],
   "source": [
    "for reg in [1e-4, 1e-2, 1e-1, 1e1, 10, 1000, 10000]:\n",
    "    acc = opt.trainAndEvaluateDualModel(KTrain=K_train_flat, KTest=K_test_flat, labelsTrain=y_train.astype('int'), \n",
    "                                                                      labelsTest=y_test.astype('int'),\n",
    "                                                                      reg=reg)\n",
    "    print(reg, acc)\n",
    "    results_flat[(0,reg)] = acc"
   ]
  },
  {
   "cell_type": "code",
   "execution_count": 28,
   "metadata": {
    "collapsed": false
   },
   "outputs": [
    {
     "name": "stdout",
     "output_type": "stream",
     "text": [
      "Learning Dual Model\n",
      "reg is 1e-05\n",
      "0.1 1e-05 (0.99792307692307691, 0.28000000000000003)\n",
      "Learning Dual Model\n",
      "reg is 0.0001\n",
      "0.1 0.0001 (0.98869230769230765, 0.33600000000000002)\n",
      "Learning Dual Model\n",
      "reg is 0.1\n",
      "0.1 0.1 (0.42253846153846153, 0.39600000000000002)\n",
      "Learning Dual Model\n",
      "reg is 1\n",
      "0.1 1 (0.35861538461538461, 0.35199999999999998)\n",
      "Learning Dual Model\n",
      "reg is 10\n",
      "0.1 10 (0.30599999999999999, 0.28399999999999997)\n",
      "Learning Dual Model\n",
      "reg is 100\n",
      "0.1 100 (0.29261538461538461, 0.27200000000000002)\n",
      "Learning Dual Model\n",
      "reg is 1e-05\n",
      "1 1e-05 (0.99807692307692308, 0.29199999999999998)\n",
      "Learning Dual Model\n",
      "reg is 0.0001\n",
      "1 0.0001 (0.99792307692307691, 0.32600000000000001)\n",
      "Learning Dual Model\n",
      "reg is 0.1\n",
      "1 0.1 (0.61969230769230765, 0.40400000000000003)\n",
      "Learning Dual Model\n",
      "reg is 1\n",
      "1 1 (0.42884615384615382, 0.40400000000000003)\n",
      "Learning Dual Model\n",
      "reg is 10\n",
      "1 10 (0.35976923076923079, 0.35399999999999998)\n",
      "Learning Dual Model\n",
      "reg is 100\n",
      "1 100 (0.30615384615384617, 0.28399999999999997)\n",
      "Learning Dual Model\n",
      "reg is 1e-05\n",
      "100.0 1e-05 (0.99807692307692308, 0.46200000000000002)\n",
      "Learning Dual Model\n",
      "reg is 0.0001\n",
      "100.0 0.0001 (0.99807692307692308, 0.46200000000000002)\n",
      "Learning Dual Model\n",
      "reg is 0.1\n",
      "100.0 0.1 (0.997, 0.46200000000000002)\n",
      "Learning Dual Model\n",
      "reg is 1\n",
      "100.0 1 (0.96915384615384614, 0.46200000000000002)\n",
      "Learning Dual Model\n",
      "reg is 10\n",
      "100.0 10 (0.68346153846153845, 0.44400000000000001)\n",
      "Learning Dual Model\n",
      "reg is 100\n",
      "100.0 100 (0.44753846153846155, 0.38400000000000001)\n",
      "Learning Dual Model\n",
      "reg is 1e-05\n",
      "1000.0 1e-05 (0.99815384615384617, 0.38)\n",
      "Learning Dual Model\n",
      "reg is 0.0001\n",
      "1000.0 0.0001 (0.99815384615384617, 0.38)\n",
      "Learning Dual Model\n",
      "reg is 0.1\n",
      "1000.0 0.1 (0.99807692307692308, 0.378)\n",
      "Learning Dual Model\n",
      "reg is 1\n",
      "1000.0 1 (0.998, 0.38)\n",
      "Learning Dual Model\n",
      "reg is 10\n",
      "1000.0 10 (0.98969230769230765, 0.38)\n",
      "Learning Dual Model\n",
      "reg is 100\n",
      "1000.0 100 (0.97769230769230764, 0.35399999999999998)\n"
     ]
    }
   ],
   "source": [
    "for gamma in [0.1, 1, 1e2, 1e3]:\n",
    "    K_train_rbf_pixels = linalg.computeRBFGramMatrix(X_train_flat, X_train_flat, gamma=gamma)\n",
    "    K_test_rbf_pixels = linalg.computeRBFGramMatrix(X_test_flat, X_train_flat, gamma=gamma)\n",
    "    for reg in [1e-5, 1e-4, 1e-1, 1, 10, 100]:\n",
    "        acc = opt.trainAndEvaluateDualModel(KTrain=K_train_rbf_pixels, KTest=K_test_rbf_pixels, labelsTrain=y_train.astype('int'), \n",
    "                                                                      labelsTest=y_test.astype('int'),\n",
    "                                                                      reg=reg)\n",
    "        print(gamma, reg, acc)\n",
    "        results_flat[(gamma,reg)] = acc"
   ]
  },
  {
   "cell_type": "code",
   "execution_count": 15,
   "metadata": {
    "collapsed": false
   },
   "outputs": [],
   "source": [
    "def normalize_patches(patches, min_divisor=1e-8, zca_bias=0.1):\n",
    "\n",
    "    orig_shape = patches.shape\n",
    "    patches = patches.reshape(patches.shape[0], -1)\n",
    "    print(\"PRE PROCESSING\")\n",
    "    n_patches = patches.shape[0]\n",
    "\n",
    "    # Zero mean every feature\n",
    "    patches = patches - np.mean(patches, axis=1)[:,np.newaxis]\n",
    "\n",
    "    # Normalize\n",
    "    patch_norms = np.linalg.norm(patches, axis=1)/55.0\n",
    "\n",
    "    # Get rid of really small norms\n",
    "    patch_norms[np.where(patch_norms < min_divisor)] = 1\n",
    "\n",
    "    # Make features unit norm\n",
    "    patches = patches/patch_norms[:,np.newaxis]\n",
    "\n",
    "\n",
    "    whitening_means = np.mean(patches, axis=0)\n",
    "    \n",
    "    data_means = np.mean(patches, axis=1)\n",
    "\n",
    "\n",
    "    zeroCenterPatches = (patches - whitening_means[np.newaxis, :])\n",
    "\n",
    "    patchesCovMat = 1.0/n_patches * zeroCenterPatches.T.dot(zeroCenterPatches)\n",
    "\n",
    "    (E,V) = np.linalg.eig(patchesCovMat)\n",
    "\n",
    "    E += zca_bias\n",
    "    sqrt_zca_eigs = np.sqrt(E)\n",
    "    \n",
    "    inv_sqrt_zca_eigs = np.diag(np.power(sqrt_zca_eigs, -1))\n",
    "    \n",
    "    global_ZCA = V.dot(inv_sqrt_zca_eigs).dot(V.T)\n",
    "    \n",
    "    patches_normalized = (patches).dot(global_ZCA)\n",
    "\n",
    "    return patches_normalized.reshape(orig_shape)\n",
    "\n",
    "\n",
    "\n",
    "\n",
    "@jit(nopython=True, nogil=True, cache=True)\n",
    "def __grab_patches(images, patch_size=6, tot_patches=1e6, seed=0, scale_pixels=1.0/255.0):\n",
    "    np.random.seed(seed)\n",
    "    tot_patches = int(tot_patches)\n",
    "    im_idxs = np.random.choice(images.shape[0], tot_patches)\n",
    "    idxs_x = np.random.choice(images.shape[3] - patch_size - 1, tot_patches)\n",
    "    idxs_y = np.random.choice(images.shape[2] - patch_size - 1, tot_patches)\n",
    "    idxs_x += int(math.ceil(patch_size/2))\n",
    "    idxs_y += int(math.ceil(patch_size/2))\n",
    "    patches = np.zeros((tot_patches, images.shape[1], patch_size, patch_size), dtype=np.float32)\n",
    "    for i, (im_idx, idx_x, idx_y) in enumerate(zip(im_idxs, idxs_x, idxs_y)):\n",
    "        out_patch = patches[i, :, :, :]\n",
    "        grab_patch_from_idx(images[im_idx], idx_x, idx_y, patch_size, out_patch, scale_pixels)\n",
    "    return patches\n",
    "    \n",
    "@jit(nopython=True, nogil=True)\n",
    "def grab_patch_from_idx(im, idx_x, idx_y, patch_size, outpatch, scale_pixels=1.0/255.0):\n",
    "    sidx_x = int(idx_x - patch_size/2)\n",
    "    eidx_x = int(idx_x + patch_size/2)\n",
    "    sidx_y = int(idx_y - patch_size/2)\n",
    "    eidx_y = int(idx_y + patch_size/2)\n",
    "    outpatch[:,:,:] = im[:, sidx_x:eidx_x, sidx_y:eidx_y,].astype(np.float32)*scale_pixels\n",
    "    return outpatch\n",
    "\n",
    "def grab_patches(images, patch_size=6, tot_patches=1e6, seed=0, max_threads=50, scale_pixels=1.0/255.0):\n",
    "    idxs = misc.chunk_idxs(images.shape[0], max_threads)\n",
    "    tot_patches = int(tot_patches)\n",
    "    patches_per_thread = int(tot_patches/max_threads)\n",
    "    with fs.ThreadPoolExecutor(max_workers=max_threads) as executor:\n",
    "        futures = []\n",
    "        for i,(sidx, eidx) in enumerate(idxs):\n",
    "            futures.append(executor.submit(__grab_patches, images[sidx:eidx, :], \n",
    "                                           patch_size=patch_size,\n",
    "                                           tot_patches=patches_per_thread,\n",
    "                                           seed=seed+i))\n",
    "            \n",
    "        results = np.vstack(list(map(lambda x: x.result(), futures)))\n",
    "    return results "
   ]
  },
  {
   "cell_type": "code",
   "execution_count": 16,
   "metadata": {
    "collapsed": false
   },
   "outputs": [
    {
     "name": "stdout",
     "output_type": "stream",
     "text": [
      "CPU times: user 25 s, sys: 1.25 s, total: 26.3 s\n",
      "Wall time: 3.02 s\n"
     ]
    }
   ],
   "source": [
    "patch_size = 12\n",
    "%time patches = grab_patches(X_train, patch_size=patch_size)"
   ]
  },
  {
   "cell_type": "code",
   "execution_count": 17,
   "metadata": {
    "collapsed": false
   },
   "outputs": [
    {
     "name": "stdout",
     "output_type": "stream",
     "text": [
      "PRE PROCESSING\n"
     ]
    }
   ],
   "source": [
    "patches_normalized = normalize_patches(patches)"
   ]
  },
  {
   "cell_type": "code",
   "execution_count": 18,
   "metadata": {
    "collapsed": false
   },
   "outputs": [],
   "source": [
    "reload(filter_gen)\n",
    "patches_mmap_data = np.memmap(\"/dev/shm/imagenet_patches\", shape=patches.shape, dtype=patches.dtype, mode=\"w+\")\n",
    "np.copyto(patches_mmap_data, patches)\n",
    "patches_mmap = multigpu.MmapArray(patches_mmap_data, mode=\"r+\")\n",
    "\n",
    "patches_normalized_mmap_data = np.memmap(\"/dev/shm/imagenet_patches_normalized\", shape=patches.shape, dtype=patches.dtype, mode=\"w+\")\n",
    "np.copyto(patches_normalized_mmap_data, patches_normalized)\n",
    "patches_normalized_mmap = multigpu.MmapArray(patches_normalized_mmap_data, mode=\"r+\")\n",
    "\n",
    "fg_patches = filter_gen.make_empirical_filter_gen(patches_mmap, seed=0)\n",
    "fg_patches_normalized = filter_gen.make_empirical_filter_gen(patches_normalized_mmap, seed=0)"
   ]
  },
  {
   "cell_type": "code",
   "execution_count": 20,
   "metadata": {
    "collapsed": false
   },
   "outputs": [],
   "source": [
    "gpu_handler = multigpu.MultiGpuHandler(16)\n",
    "gpu_handler.kill_all_gpu_processes()\n",
    "gpu_handler.start_and_wait_for_gpu_init()"
   ]
  },
  {
   "cell_type": "code",
   "execution_count": 90,
   "metadata": {
    "collapsed": false
   },
   "outputs": [
    {
     "name": "stdout",
     "output_type": "stream",
     "text": [
      "CPU times: user 0 ns, sys: 10.3 s, total: 10.3 s\n",
      "Wall time: 10.3 s\n",
      "CPU times: user 0 ns, sys: 416 ms, total: 416 ms\n",
      "Wall time: 418 ms\n",
      "CPU times: user 39.8 s, sys: 1min 20s, total: 2min\n",
      "Wall time: 2min\n",
      "CPU times: user 1.48 s, sys: 2.69 s, total: 4.17 s\n",
      "Wall time: 4.19 s\n"
     ]
    }
   ],
   "source": [
    "conv_args_template = \\\n",
    "{ \n",
    "  \"num_feature_batches\":5,\n",
    "  \"data_batch_size\":8,\n",
    "  \"feature_batch_size\":1024,\n",
    "  \"pool_size\":70,\n",
    "  \"pool_type\":\"avg\",\n",
    "  \"pool_stride\":45,\n",
    "  \"patch_size\":patch_size,\n",
    "  \"pad\":0,\n",
    "  \"bias\":0,\n",
    "  \"conv_stride\":2,\n",
    "  \"scale_pixels\": 1.0/255.0\n",
    "}\n",
    "%time X_train_normalized = np.memmap(\"/dev/shm/X_train_normalized\", dtype='float32', shape=X_train.shape, mode=\"w+\")\n",
    "%time X_test_normalized = np.memmap(\"/dev/shm/X_test_normalized\", dtype='float32', shape=X_test.shape, mode=\"w+\")\n",
    "\n",
    "%time np.copyto(X_train_normalized, X_train.astype('float32'))\n",
    "%time np.copyto(X_test_normalized, X_test.astype('float32'))\n",
    "\n",
    "X_train_mmap = multigpu.MmapArray(X_train_normalized, mode=\"r+\")\n",
    "X_test_mmap = multigpu.MmapArray(X_test_normalized, mode=\"r+\")\n",
    "\n",
    "mmap_out_train_shape = conv.conv_compute_output_shape(data=X_train_mmap, **conv_args_template)\n",
    "X_train_lift = np.memmap(\"/dev/shm/X_train_lift\", mode=\"w+\", dtype=\"float32\", shape=mmap_out_train_shape)\n",
    "\n",
    "mmap_out_test_shape = conv.conv_compute_output_shape(data=X_test_mmap, **conv_args_template)\n",
    "X_test_lift = np.memmap(\"/dev/shm/X_test_lift\", mode=\"w+\", dtype=\"float32\", shape=mmap_out_test_shape)"
   ]
  },
  {
   "cell_type": "code",
   "execution_count": 91,
   "metadata": {
    "collapsed": false
   },
   "outputs": [
    {
     "data": {
      "text/plain": [
       "'/dev/shm/X_train_normalized'"
      ]
     },
     "execution_count": 91,
     "metadata": {},
     "output_type": "execute_result"
    }
   ],
   "source": [
    "X_train_mmap.loc"
   ]
  },
  {
   "cell_type": "code",
   "execution_count": 92,
   "metadata": {
    "collapsed": false
   },
   "outputs": [],
   "source": [
    "fg_patches = filter_gen.make_empirical_filter_gen(patches_normalized_mmap, MIN_VAR_TOL=0.1, seed=0)"
   ]
  },
  {
   "cell_type": "code",
   "execution_count": 93,
   "metadata": {
    "collapsed": false
   },
   "outputs": [
    {
     "data": {
      "text/plain": [
       "1.5557241"
      ]
     },
     "execution_count": 93,
     "metadata": {},
     "output_type": "execute_result"
    }
   ],
   "source": [
    "np.mean(np.var(fg_patches(1024), axis=(1,2,3)))"
   ]
  },
  {
   "cell_type": "code",
   "execution_count": 94,
   "metadata": {
    "collapsed": false
   },
   "outputs": [],
   "source": [
    "X_train_lift_mmap = multigpu.MmapArray(X_train_lift, mode=\"r+\")\n",
    "X_test_lift_mmap = multigpu.MmapArray(X_test_lift, mode=\"r+\")\n"
   ]
  },
  {
   "cell_type": "code",
   "execution_count": 95,
   "metadata": {
    "collapsed": false
   },
   "outputs": [],
   "source": [
    "train_chunk_idxs = misc.chunk_idxs(X_train.shape[0], 16)\n",
    "test_chunk_idxs = misc.chunk_idxs(X_test.shape[0], 16)"
   ]
  },
  {
   "cell_type": "code",
   "execution_count": 96,
   "metadata": {
    "collapsed": false
   },
   "outputs": [
    {
     "name": "stdout",
     "output_type": "stream",
     "text": [
      "CPU times: user 28 ms, sys: 20 ms, total: 48 ms\n",
      "Wall time: 14min 24s\n",
      "CPU times: user 0 ns, sys: 0 ns, total: 0 ns\n",
      "Wall time: 629 µs\n",
      "CPU times: user 4 ms, sys: 0 ns, total: 4 ms\n",
      "Wall time: 30.2 s\n",
      "CPU times: user 0 ns, sys: 0 ns, total: 0 ns\n",
      "Wall time: 728 µs\n",
      "CPU times: user 0 ns, sys: 0 ns, total: 0 ns\n",
      "Wall time: 540 µs\n",
      "CPU times: user 0 ns, sys: 0 ns, total: 0 ns\n",
      "Wall time: 552 µs\n",
      "CPU times: user 0 ns, sys: 0 ns, total: 0 ns\n",
      "Wall time: 470 µs\n",
      "CPU times: user 0 ns, sys: 0 ns, total: 0 ns\n",
      "Wall time: 516 µs\n",
      "CPU times: user 0 ns, sys: 0 ns, total: 0 ns\n",
      "Wall time: 522 µs\n",
      "CPU times: user 0 ns, sys: 0 ns, total: 0 ns\n",
      "Wall time: 502 µs\n",
      "CPU times: user 0 ns, sys: 0 ns, total: 0 ns\n",
      "Wall time: 491 µs\n",
      "CPU times: user 0 ns, sys: 0 ns, total: 0 ns\n",
      "Wall time: 432 µs\n",
      "CPU times: user 0 ns, sys: 0 ns, total: 0 ns\n",
      "Wall time: 360 µs\n",
      "CPU times: user 4 ms, sys: 0 ns, total: 4 ms\n",
      "Wall time: 420 µs\n",
      "CPU times: user 0 ns, sys: 0 ns, total: 0 ns\n",
      "Wall time: 489 µs\n",
      "CPU times: user 0 ns, sys: 0 ns, total: 0 ns\n",
      "Wall time: 424 µs\n"
     ]
    }
   ],
   "source": [
    "gpu_results = []\n",
    "for gpu, (sidx, eidx) in list(zip(gpu_handler.gpus, train_chunk_idxs)):\n",
    "        fg_patches = filter_gen.make_empirical_filter_gen(patches_normalized_mmap, MIN_VAR_TOL=0.1, seed=0)\n",
    "        conv_args = conv_args_template.copy()\n",
    "        conv_args[\"filter_gen\"] = fg_patches\n",
    "        X_train_mmap_gpu = copy.copy(X_train_mmap)\n",
    "        X_train_mmap_gpu.idxs = (sidx, eidx)\n",
    "        X_train_out_gpu = copy.copy(X_train_lift_mmap)\n",
    "        X_train_out_gpu.idxs = (sidx, eidx)\n",
    "        conv_args['data'] = X_train_mmap_gpu\n",
    "        conv_args['output'] = X_train_out_gpu\n",
    "        gpu_result = gpu.submit_async(conv.conv_mmap, **conv_args)\n",
    "        gpu_results.append(gpu_result)\n",
    "\n",
    "for gpu_result in gpu_results:\n",
    "    %time gpu_result.result()"
   ]
  },
  {
   "cell_type": "code",
   "execution_count": 97,
   "metadata": {
    "collapsed": false
   },
   "outputs": [
    {
     "name": "stdout",
     "output_type": "stream",
     "text": [
      "CPU times: user 4 ms, sys: 0 ns, total: 4 ms\n",
      "Wall time: 32.7 s\n",
      "CPU times: user 0 ns, sys: 0 ns, total: 0 ns\n",
      "Wall time: 610 µs\n",
      "CPU times: user 4 ms, sys: 0 ns, total: 4 ms\n",
      "Wall time: 1.41 s\n",
      "CPU times: user 0 ns, sys: 0 ns, total: 0 ns\n",
      "Wall time: 214 µs\n",
      "CPU times: user 0 ns, sys: 0 ns, total: 0 ns\n",
      "Wall time: 370 µs\n",
      "CPU times: user 0 ns, sys: 0 ns, total: 0 ns\n",
      "Wall time: 329 µs\n",
      "CPU times: user 0 ns, sys: 0 ns, total: 0 ns\n",
      "Wall time: 326 µs\n",
      "CPU times: user 0 ns, sys: 0 ns, total: 0 ns\n",
      "Wall time: 326 µs\n",
      "CPU times: user 4 ms, sys: 0 ns, total: 4 ms\n",
      "Wall time: 327 µs\n",
      "CPU times: user 0 ns, sys: 0 ns, total: 0 ns\n",
      "Wall time: 334 µs\n",
      "CPU times: user 0 ns, sys: 0 ns, total: 0 ns\n",
      "Wall time: 324 µs\n",
      "CPU times: user 0 ns, sys: 0 ns, total: 0 ns\n",
      "Wall time: 372 µs\n",
      "CPU times: user 0 ns, sys: 0 ns, total: 0 ns\n",
      "Wall time: 308 µs\n",
      "CPU times: user 0 ns, sys: 0 ns, total: 0 ns\n",
      "Wall time: 305 µs\n",
      "CPU times: user 0 ns, sys: 0 ns, total: 0 ns\n",
      "Wall time: 306 µs\n",
      "CPU times: user 4 ms, sys: 0 ns, total: 4 ms\n",
      "Wall time: 312 µs\n"
     ]
    }
   ],
   "source": [
    "gpu_results = []\n",
    "for gpu, (sidx, eidx) in list(zip(gpu_handler.gpus, test_chunk_idxs)):\n",
    "        fg_patches = filter_gen.make_empirical_filter_gen(patches_normalized_mmap, MIN_VAR_TOL=0.1, seed=0)\n",
    "        conv_args = conv_args_template.copy()\n",
    "        conv_args[\"filter_gen\"] = fg_patches\n",
    "        X_test_mmap_gpu = copy.copy(X_test_mmap)\n",
    "        X_test_mmap_gpu.idxs = (sidx, eidx)\n",
    "        X_test_out_gpu = copy.copy(X_test_lift_mmap)\n",
    "        X_test_out_gpu.idxs = (sidx, eidx)\n",
    "        conv_args['data'] = X_test_mmap_gpu\n",
    "        conv_args['output'] = X_test_out_gpu\n",
    "        gpu_result = gpu.submit_async(conv.conv_mmap, **conv_args)\n",
    "        gpu_results.append(gpu_result)\n",
    "\n",
    "for gpu_result in gpu_results:\n",
    "    %time gpu_result.result()"
   ]
  },
  {
   "cell_type": "code",
   "execution_count": 106,
   "metadata": {
    "collapsed": false
   },
   "outputs": [],
   "source": [
    "X_train_lift = X_train_lift_mmap.load()\n",
    "X_test_lift = X_test_lift_mmap.load()"
   ]
  },
  {
   "cell_type": "code",
   "execution_count": 99,
   "metadata": {
    "collapsed": false
   },
   "outputs": [
    {
     "data": {
      "text/plain": [
       "0.003517104743067094"
      ]
     },
     "execution_count": 99,
     "metadata": {},
     "output_type": "execute_result"
    }
   ],
   "source": [
    "np.mean(np.sum(X_train_lift == 0, axis=(1,2,3)))/(len(X_train_lift[0].ravel()))"
   ]
  },
  {
   "cell_type": "code",
   "execution_count": 100,
   "metadata": {
    "collapsed": false
   },
   "outputs": [
    {
     "data": {
      "text/plain": [
       "(129395, 10240, 3, 3)"
      ]
     },
     "execution_count": 100,
     "metadata": {},
     "output_type": "execute_result"
    }
   ],
   "source": [
    "X_train_lift.shape"
   ]
  },
  {
   "cell_type": "code",
   "execution_count": 101,
   "metadata": {
    "collapsed": true
   },
   "outputs": [],
   "source": [
    "num_feats = conv_args_template['feature_batch_size']*conv_args_template['num_feature_batches']"
   ]
  },
  {
   "cell_type": "code",
   "execution_count": 102,
   "metadata": {
    "collapsed": false
   },
   "outputs": [
    {
     "name": "stdout",
     "output_type": "stream",
     "text": [
      "CPU times: user 34.5 s, sys: 1min 6s, total: 1min 40s\n",
      "Wall time: 1min 40s\n"
     ]
    }
   ],
   "source": [
    "%time X_train_lift_flat = X_train_lift.reshape(X_train_lift.shape[0], -1).astype('float64') / np.sqrt(num_feats)"
   ]
  },
  {
   "cell_type": "code",
   "execution_count": 103,
   "metadata": {
    "collapsed": false
   },
   "outputs": [
    {
     "name": "stdout",
     "output_type": "stream",
     "text": [
      "CPU times: user 1.2 s, sys: 1.79 s, total: 2.98 s\n",
      "Wall time: 2.99 s\n"
     ]
    }
   ],
   "source": [
    "%time X_test_lift_flat = X_test_lift.reshape(X_test_lift.shape[0], -1).astype('float64') / np.sqrt(num_feats)"
   ]
  },
  {
   "cell_type": "code",
   "execution_count": 1186,
   "metadata": {
    "collapsed": false
   },
   "outputs": [
    {
     "name": "stdout",
     "output_type": "stream",
     "text": [
      "CPU times: user 1min 53s, sys: 55.4 s, total: 2min 49s\n",
      "Wall time: 6.01 s\n",
      "CPU times: user 9.3 s, sys: 3.61 s, total: 12.9 s\n",
      "Wall time: 423 ms\n"
     ]
    }
   ],
   "source": [
    "%time K_train_conv = X_train_lift_flat.dot(X_train_lift_flat.T) \n",
    "%time K_test_conv = X_test_lift_flat.dot(X_train_lift_flat.T)"
   ]
  },
  {
   "cell_type": "code",
   "execution_count": 104,
   "metadata": {
    "collapsed": false
   },
   "outputs": [
    {
     "name": "stdout",
     "output_type": "stream",
     "text": [
      "CPU times: user 9h 35min 52s, sys: 2h 40min 46s, total: 12h 16min 38s\n",
      "Wall time: 24min 37s\n"
     ]
    }
   ],
   "source": [
    "%time XtX = X_train_lift_flat.T.dot(X_train_lift_flat)"
   ]
  },
  {
   "cell_type": "code",
   "execution_count": 125,
   "metadata": {
    "collapsed": false
   },
   "outputs": [
    {
     "name": "stdout",
     "output_type": "stream",
     "text": [
      "CPU times: user 12 ms, sys: 76 ms, total: 88 ms\n",
      "Wall time: 84.3 ms\n"
     ]
    }
   ],
   "source": [
    "%time y_train_one_hot = np.eye(100)[y_train.astype('int')]"
   ]
  },
  {
   "cell_type": "code",
   "execution_count": 126,
   "metadata": {
    "collapsed": false
   },
   "outputs": [
    {
     "name": "stdout",
     "output_type": "stream",
     "text": [
      "CPU times: user 2min 51s, sys: 2.12 s, total: 2min 53s\n",
      "Wall time: 5.93 s\n"
     ]
    }
   ],
   "source": [
    "%time Xty = X_train_lift_flat.T.dot(y_train_one_hot)"
   ]
  },
  {
   "cell_type": "code",
   "execution_count": 129,
   "metadata": {
    "collapsed": false
   },
   "outputs": [
    {
     "data": {
      "text/plain": [
       "(92160, 100)"
      ]
     },
     "execution_count": 129,
     "metadata": {},
     "output_type": "execute_result"
    }
   ],
   "source": [
    "Xty.shape"
   ]
  },
  {
   "cell_type": "code",
   "execution_count": 107,
   "metadata": {
    "collapsed": true
   },
   "outputs": [],
   "source": [
    "np.save(\"XtX_100_classes_conv_12_3_3_5_batches\", XtX)"
   ]
  },
  {
   "cell_type": "code",
   "execution_count": 130,
   "metadata": {
    "collapsed": true
   },
   "outputs": [],
   "source": [
    "np.save(\"Xty_100_classes_conv_12_3_3_5_batches\", Xty)"
   ]
  },
  {
   "cell_type": "code",
   "execution_count": 1,
   "metadata": {
    "collapsed": false
   },
   "outputs": [
    {
     "ename": "ModuleNotFoundError",
     "evalue": "No module named 'opt'",
     "output_type": "error",
     "traceback": [
      "\u001b[0;31m---------------------------------------------------------------------------\u001b[0m",
      "\u001b[0;31mModuleNotFoundError\u001b[0m                       Traceback (most recent call last)",
      "\u001b[0;32m<ipython-input-1-6845cad668e3>\u001b[0m in \u001b[0;36m<module>\u001b[0;34m()\u001b[0m\n\u001b[0;32m----> 1\u001b[0;31m \u001b[0;32mfrom\u001b[0m \u001b[0mopt\u001b[0m \u001b[0;32mimport\u001b[0m \u001b[0mls\u001b[0m\u001b[0;34m\u001b[0m\u001b[0m\n\u001b[0m",
      "\u001b[0;31mModuleNotFoundError\u001b[0m: No module named 'opt'"
     ]
    }
   ],
   "source": [
    "from opt import ls"
   ]
  },
  {
   "cell_type": "code",
   "execution_count": 143,
   "metadata": {
    "collapsed": false
   },
   "outputs": [
    {
     "data": {
      "text/plain": [
       "<module 'opt.ls' from '../opt/ls.py'>"
      ]
     },
     "execution_count": 143,
     "metadata": {},
     "output_type": "execute_result"
    }
   ],
   "source": [
    "reload(ls)"
   ]
  },
  {
   "cell_type": "code",
   "execution_count": null,
   "metadata": {
    "collapsed": false,
    "scrolled": true
   },
   "outputs": [
    {
     "name": "stdout",
     "output_type": "stream",
     "text": [
      "solving block 0\n",
      "Epoch: 0, Block: 0, EvalFnOutput ('Train', 0.37710885273774103, 'Test', 0.29299999999999998)\n",
      "solving block 1\n",
      "Epoch: 0, Block: 1, EvalFnOutput ('Train', 0.41950616329842727, 'Test', 0.31900000000000001)\n",
      "solving block 2\n",
      "Epoch: 0, Block: 2, EvalFnOutput ('Train', 0.44762935198423431, 'Test', 0.33939999999999998)\n",
      "solving block 3\n",
      "Epoch: 0, Block: 3, EvalFnOutput ('Train', 0.46890529000347775, 'Test', 0.34799999999999998)\n",
      "solving block 4\n",
      "Epoch: 0, Block: 4, EvalFnOutput ('Train', 0.48746087561343177, 'Test', 0.35460000000000003)\n",
      "solving block 5\n",
      "Epoch: 0, Block: 5, EvalFnOutput ('Train', 0.50250009660342365, 'Test', 0.36080000000000001)\n",
      "solving block 6\n",
      "Epoch: 0, Block: 6, EvalFnOutput ('Train', 0.51571544495536925, 'Test', 0.36420000000000002)\n",
      "solving block 7\n",
      "Epoch: 0, Block: 7, EvalFnOutput ('Train', 0.52855210788670348, 'Test', 0.37019999999999997)\n",
      "solving block 8\n",
      "Epoch: 0, Block: 8, EvalFnOutput ('Train', 0.54002086633950308, 'Test', 0.376)\n",
      "solving block 9\n",
      "Epoch: 0, Block: 9, EvalFnOutput ('Train', 0.55047722091270912, 'Test', 0.37980000000000003)\n",
      "solving block 10\n",
      "Epoch: 0, Block: 10, EvalFnOutput ('Train', 0.56057807488697398, 'Test', 0.38200000000000001)\n",
      "solving block 11\n",
      "Epoch: 0, Block: 11, EvalFnOutput ('Train', 0.56933420920437416, 'Test', 0.3856)\n",
      "solving block 12\n",
      "Epoch: 0, Block: 12, EvalFnOutput ('Train', 0.57781985393562352, 'Test', 0.38840000000000002)\n",
      "solving block 13\n",
      "Epoch: 0, Block: 13, EvalFnOutput ('Train', 0.58580316086402107, 'Test', 0.38900000000000001)\n",
      "solving block 14\n",
      "Epoch: 0, Block: 14, EvalFnOutput ('Train', 0.59343869546736738, 'Test', 0.39240000000000003)\n",
      "solving block 15\n",
      "Epoch: 0, Block: 15, EvalFnOutput ('Train', 0.60072645774566247, 'Test', 0.39300000000000002)\n",
      "solving block 16\n",
      "Epoch: 0, Block: 16, EvalFnOutput ('Train', 0.60762007805556628, 'Test', 0.39579999999999999)\n",
      "solving block 17\n",
      "Epoch: 0, Block: 17, EvalFnOutput ('Train', 0.6136017620464469, 'Test', 0.39560000000000001)\n",
      "solving block 18\n",
      "Epoch: 0, Block: 18, EvalFnOutput ('Train', 0.61580432010510455, 'Test', 0.39739999999999998)\n",
      "solving block 0\n",
      "Epoch: 1, Block: 0, EvalFnOutput ('Train', 0.61647667993353683, 'Test', 0.3982)\n",
      "solving block 1\n",
      "Epoch: 1, Block: 1, EvalFnOutput ('Train', 0.61736543143088995, 'Test', 0.39900000000000002)\n",
      "solving block 2\n",
      "Epoch: 1, Block: 2, EvalFnOutput ('Train', 0.61786004095985159, 'Test', 0.39860000000000001)\n",
      "solving block 3\n",
      "Epoch: 1, Block: 3, EvalFnOutput ('Train', 0.61822326983268283, 'Test', 0.39900000000000002)\n",
      "solving block 4\n",
      "Epoch: 1, Block: 4, EvalFnOutput ('Train', 0.61864059662274429, 'Test', 0.39779999999999999)\n",
      "solving block 5\n",
      "Epoch: 1, Block: 5, EvalFnOutput ('Train', 0.61864059662274429, 'Test', 0.39939999999999998)\n",
      "solving block 6\n",
      "Epoch: 1, Block: 6, EvalFnOutput ('Train', 0.61925885853394647, 'Test', 0.39760000000000001)\n",
      "solving block 7\n",
      "Epoch: 1, Block: 7, EvalFnOutput ('Train', 0.61961435913288765, 'Test', 0.3982)\n",
      "solving block 8\n",
      "Epoch: 1, Block: 8, EvalFnOutput ('Train', 0.61946752192897714, 'Test', 0.39679999999999999)\n",
      "solving block 9\n",
      "Epoch: 1, Block: 9, EvalFnOutput ('Train', 0.61978438115846823, 'Test', 0.39700000000000002)\n",
      "solving block 8\n"
     ]
    }
   ],
   "source": [
    "models = []\n",
    "for reg in [5e-2, 0.1]:\n",
    "    %time model = ls.block_kernel_solve(XtX, Xty, lambdav=reg, eval_fn=eval_fn, block_size=5000, epochs=4)\n",
    "    models.append(model)"
   ]
  },
  {
   "cell_type": "code",
   "execution_count": 146,
   "metadata": {
    "collapsed": false
   },
   "outputs": [
    {
     "data": {
      "text/plain": [
       "1"
      ]
     },
     "execution_count": 146,
     "metadata": {},
     "output_type": "execute_result"
    }
   ],
   "source": [
    "len(models)"
   ]
  },
  {
   "cell_type": "code",
   "execution_count": 147,
   "metadata": {
    "collapsed": false
   },
   "outputs": [
    {
     "name": "stdout",
     "output_type": "stream",
     "text": [
      "CPU times: user 2min 4s, sys: 50.2 s, total: 2min 54s\n",
      "Wall time: 7.76 s\n"
     ]
    },
    {
     "data": {
      "text/plain": [
       "('Train', 0.62425905174079366, 'Test', 0.39800000000000002)"
      ]
     },
     "execution_count": 147,
     "metadata": {},
     "output_type": "execute_result"
    }
   ],
   "source": [
    "%time eval_fn(models[0])"
   ]
  },
  {
   "cell_type": "code",
   "execution_count": null,
   "metadata": {
    "collapsed": true
   },
   "outputs": [],
   "source": []
  },
  {
   "cell_type": "code",
   "execution_count": 120,
   "metadata": {
    "collapsed": true
   },
   "outputs": [],
   "source": [
    "def eval_fn(model):\n",
    "     y_pred_train = np.argmax(X_train_lift_flat.dot(model), axis=1)\n",
    "     train_acc = metrics.accuracy_score(y_train, y_pred_train)\n",
    "    \n",
    "     y_pred_test = np.argmax(X_test_lift_flat.dot(model), axis=1)\n",
    "     test_acc = metrics.accuracy_score(y_test, y_pred_test)\n",
    "     return (\"Train\", train_acc, \"Test\", test_acc)"
   ]
  },
  {
   "cell_type": "code",
   "execution_count": null,
   "metadata": {
    "collapsed": true
   },
   "outputs": [],
   "source": [
    "for reg in [5e-2, 0.1]:\n",
    "    %time acc = ls.block_kernel_solve(XTrain=X_train_lift_flat, XTest=X_test_lift_flat, labelsTrain=y_train.astype('int'), labelsTest=y_test.astype('int'), reg=reg, XTX=XtX)\n",
    "    print(reg, acc)"
   ]
  },
  {
   "cell_type": "code",
   "execution_count": 1028,
   "metadata": {
    "collapsed": false
   },
   "outputs": [
    {
     "name": "stdout",
     "output_type": "stream",
     "text": [
      "Learning Dual Model\n",
      "reg is 1e-05\n",
      "0.05 1e-05 (0.99769230769230766, 0.69799999999999995)\n",
      "Learning Dual Model\n",
      "reg is 0.0001\n",
      "0.05 0.0001 (0.98038461538461541, 0.70199999999999996)\n",
      "Learning Dual Model\n",
      "reg is 0.001\n",
      "0.05 0.001 (0.85853846153846158, 0.70599999999999996)\n",
      "Learning Dual Model\n",
      "reg is 0.01\n",
      "0.05 0.01 (0.72246153846153849, 0.68799999999999994)\n",
      "Learning Dual Model\n",
      "reg is 0.1\n",
      "0.05 0.1 (0.6154615384615385, 0.59799999999999998)\n",
      "Learning Dual Model\n",
      "reg is 1e-05\n",
      "0.1 1e-05 (0.99792307692307691, 0.68200000000000005)\n",
      "Learning Dual Model\n",
      "reg is 0.0001\n",
      "0.1 0.0001 (0.99407692307692308, 0.70599999999999996)\n",
      "Learning Dual Model\n",
      "reg is 0.001\n",
      "0.1 0.001 (0.92723076923076919, 0.70199999999999996)\n",
      "Learning Dual Model\n",
      "reg is 0.01\n",
      "0.1 0.01 (0.77246153846153842, 0.68999999999999995)\n",
      "Learning Dual Model\n",
      "reg is 0.1\n",
      "0.1 0.1 (0.65407692307692311, 0.61799999999999999)\n",
      "Learning Dual Model\n",
      "reg is 1e-05\n",
      "1 1e-05 (0.998, 0.60599999999999998)\n",
      "Learning Dual Model\n",
      "reg is 0.0001\n",
      "1 0.0001 (0.99807692307692308, 0.61399999999999999)\n",
      "Learning Dual Model\n",
      "reg is 0.001\n",
      "1 0.001 (0.99807692307692308, 0.63400000000000001)\n",
      "Learning Dual Model\n",
      "reg is 0.01\n",
      "1 0.01 (0.98699999999999999, 0.65600000000000003)\n",
      "Learning Dual Model\n",
      "reg is 0.1\n",
      "1 0.1 (0.87546153846153851, 0.66000000000000003)\n",
      "Learning Dual Model\n",
      "reg is 1e-05\n",
      "10 1e-05 (0.99807692307692308, 0.53400000000000003)\n",
      "Learning Dual Model\n",
      "reg is 0.0001\n",
      "10 0.0001 (0.99807692307692308, 0.53400000000000003)\n",
      "Learning Dual Model\n",
      "reg is 0.001\n"
     ]
    },
    {
     "ename": "KeyboardInterrupt",
     "evalue": "",
     "output_type": "error",
     "traceback": [
      "\u001b[0;31m---------------------------------------------------------------------------\u001b[0m",
      "\u001b[0;31mKeyboardInterrupt\u001b[0m                         Traceback (most recent call last)",
      "\u001b[0;32m<ipython-input-1028-183bc40ed567>\u001b[0m in \u001b[0;36m<module>\u001b[0;34m()\u001b[0m\n\u001b[1;32m      6\u001b[0m         acc = opt.trainAndEvaluateDualModel(KTrain=K_train_rbf_conv, KTest=K_test_rbf_conv, labelsTrain=y_train.astype('int'), \n\u001b[1;32m      7\u001b[0m                                                                       \u001b[0mlabelsTest\u001b[0m\u001b[0;34m=\u001b[0m\u001b[0my_test\u001b[0m\u001b[0;34m.\u001b[0m\u001b[0mastype\u001b[0m\u001b[0;34m(\u001b[0m\u001b[0;34m'int'\u001b[0m\u001b[0;34m)\u001b[0m\u001b[0;34m,\u001b[0m\u001b[0;34m\u001b[0m\u001b[0m\n\u001b[0;32m----> 8\u001b[0;31m                                                                       reg=reg)\n\u001b[0m\u001b[1;32m      9\u001b[0m         \u001b[0mprint\u001b[0m\u001b[0;34m(\u001b[0m\u001b[0mgamma\u001b[0m\u001b[0;34m,\u001b[0m \u001b[0mreg\u001b[0m\u001b[0;34m,\u001b[0m \u001b[0macc\u001b[0m\u001b[0;34m)\u001b[0m\u001b[0;34m\u001b[0m\u001b[0m\n\u001b[1;32m     10\u001b[0m         \u001b[0mresults\u001b[0m\u001b[0;34m[\u001b[0m\u001b[0;34m(\u001b[0m\u001b[0mgamma\u001b[0m\u001b[0;34m,\u001b[0m\u001b[0mreg\u001b[0m\u001b[0;34m)\u001b[0m\u001b[0;34m]\u001b[0m \u001b[0;34m=\u001b[0m \u001b[0macc\u001b[0m\u001b[0;34m\u001b[0m\u001b[0m\n",
      "\u001b[0;32m/home/ubuntu/pictureweb/conv/opt.py\u001b[0m in \u001b[0;36mtrainAndEvaluateDualModel\u001b[0;34m(KTrain, KTest, labelsTrain, labelsTest, reg)\u001b[0m\n\u001b[1;32m     44\u001b[0m \u001b[0;34m\u001b[0m\u001b[0m\n\u001b[1;32m     45\u001b[0m \u001b[0;32mdef\u001b[0m \u001b[0mtrainAndEvaluateDualModel\u001b[0m\u001b[0;34m(\u001b[0m\u001b[0mKTrain\u001b[0m\u001b[0;34m,\u001b[0m \u001b[0mKTest\u001b[0m\u001b[0;34m,\u001b[0m \u001b[0mlabelsTrain\u001b[0m\u001b[0;34m,\u001b[0m \u001b[0mlabelsTest\u001b[0m\u001b[0;34m,\u001b[0m \u001b[0mreg\u001b[0m\u001b[0;34m=\u001b[0m\u001b[0;36m0.1\u001b[0m\u001b[0;34m)\u001b[0m\u001b[0;34m:\u001b[0m\u001b[0;34m\u001b[0m\u001b[0m\n\u001b[0;32m---> 46\u001b[0;31m     \u001b[0mmodel\u001b[0m \u001b[0;34m=\u001b[0m \u001b[0mlearnDual\u001b[0m\u001b[0;34m(\u001b[0m\u001b[0mKTrain\u001b[0m\u001b[0;34m,\u001b[0m\u001b[0mlabelsTrain\u001b[0m\u001b[0;34m,\u001b[0m \u001b[0mreg\u001b[0m\u001b[0;34m=\u001b[0m\u001b[0mreg\u001b[0m\u001b[0;34m)\u001b[0m\u001b[0;34m\u001b[0m\u001b[0m\n\u001b[0m\u001b[1;32m     47\u001b[0m     \u001b[0mpredTrainWeights\u001b[0m \u001b[0;34m=\u001b[0m \u001b[0mevaluateDualModel\u001b[0m\u001b[0;34m(\u001b[0m\u001b[0mKTrain\u001b[0m\u001b[0;34m,\u001b[0m \u001b[0mmodel\u001b[0m\u001b[0;34m)\u001b[0m\u001b[0;34m\u001b[0m\u001b[0m\n\u001b[1;32m     48\u001b[0m     \u001b[0mpredTestWeights\u001b[0m \u001b[0;34m=\u001b[0m \u001b[0mevaluateDualModel\u001b[0m\u001b[0;34m(\u001b[0m\u001b[0mKTest\u001b[0m\u001b[0;34m,\u001b[0m \u001b[0mmodel\u001b[0m\u001b[0;34m)\u001b[0m\u001b[0;34m\u001b[0m\u001b[0m\n",
      "\u001b[0;32m/home/ubuntu/pictureweb/conv/opt.py\u001b[0m in \u001b[0;36mlearnDual\u001b[0;34m(gramMatrix, labels, reg, TOT_FEAT, NUM_TRAIN)\u001b[0m\n\u001b[1;32m     61\u001b[0m     \u001b[0mprint\u001b[0m\u001b[0;34m(\u001b[0m\u001b[0;34m\"reg is \"\u001b[0m \u001b[0;34m+\u001b[0m \u001b[0mstr\u001b[0m\u001b[0;34m(\u001b[0m\u001b[0mreg\u001b[0m\u001b[0;34m)\u001b[0m\u001b[0;34m)\u001b[0m\u001b[0;34m\u001b[0m\u001b[0m\n\u001b[1;32m     62\u001b[0m     \u001b[0mgramMatrix\u001b[0m\u001b[0;34m[\u001b[0m\u001b[0midxes\u001b[0m\u001b[0;34m]\u001b[0m \u001b[0;34m+=\u001b[0m \u001b[0;34m(\u001b[0m\u001b[0mreg\u001b[0m\u001b[0;34m)\u001b[0m\u001b[0;34m\u001b[0m\u001b[0m\n\u001b[0;32m---> 63\u001b[0;31m     \u001b[0mmodel\u001b[0m \u001b[0;34m=\u001b[0m \u001b[0mlinalg\u001b[0m\u001b[0;34m.\u001b[0m\u001b[0msolve\u001b[0m\u001b[0;34m(\u001b[0m\u001b[0mgramMatrix\u001b[0m\u001b[0;34m,\u001b[0m \u001b[0my\u001b[0m\u001b[0;34m)\u001b[0m\u001b[0;34m\u001b[0m\u001b[0m\n\u001b[0m\u001b[1;32m     64\u001b[0m     \u001b[0mgramMatrix\u001b[0m\u001b[0;34m[\u001b[0m\u001b[0midxes\u001b[0m\u001b[0;34m]\u001b[0m \u001b[0;34m-=\u001b[0m \u001b[0;34m(\u001b[0m\u001b[0mreg\u001b[0m\u001b[0;34m)\u001b[0m\u001b[0;34m\u001b[0m\u001b[0m\n\u001b[1;32m     65\u001b[0m     \u001b[0mgramMatrix\u001b[0m \u001b[0;34m*=\u001b[0m \u001b[0mTOT_FEAT\u001b[0m\u001b[0;34m\u001b[0m\u001b[0m\n",
      "\u001b[0;32m/home/ubuntu/anaconda3/lib/python3.6/site-packages/scipy/linalg/basic.py\u001b[0m in \u001b[0;36msolve\u001b[0;34m(a, b, sym_pos, lower, overwrite_a, overwrite_b, debug, check_finite)\u001b[0m\n\u001b[1;32m     96\u001b[0m         \u001b[0mgesv\u001b[0m\u001b[0;34m,\u001b[0m \u001b[0;34m=\u001b[0m \u001b[0mget_lapack_funcs\u001b[0m\u001b[0;34m(\u001b[0m\u001b[0;34m(\u001b[0m\u001b[0;34m'gesv'\u001b[0m\u001b[0;34m,\u001b[0m\u001b[0;34m)\u001b[0m\u001b[0;34m,\u001b[0m \u001b[0;34m(\u001b[0m\u001b[0ma1\u001b[0m\u001b[0;34m,\u001b[0m \u001b[0mb1\u001b[0m\u001b[0;34m)\u001b[0m\u001b[0;34m)\u001b[0m\u001b[0;34m\u001b[0m\u001b[0m\n\u001b[1;32m     97\u001b[0m         lu, piv, x, info = gesv(a1, b1, overwrite_a=overwrite_a,\n\u001b[0;32m---> 98\u001b[0;31m                                 overwrite_b=overwrite_b)\n\u001b[0m\u001b[1;32m     99\u001b[0m \u001b[0;34m\u001b[0m\u001b[0m\n\u001b[1;32m    100\u001b[0m     \u001b[0;32mif\u001b[0m \u001b[0minfo\u001b[0m \u001b[0;34m==\u001b[0m \u001b[0;36m0\u001b[0m\u001b[0;34m:\u001b[0m\u001b[0;34m\u001b[0m\u001b[0m\n",
      "\u001b[0;31mKeyboardInterrupt\u001b[0m: "
     ]
    }
   ],
   "source": [
    "results_conv = {}\n",
    "for gamma in [5e-2,1e-1, 1, 10, 100]:\n",
    "    K_train_rbf_conv = linalg.computeRBFGramMatrix(X_train_lift, X_train_lift, gamma=gamma)\n",
    "    K_test_rbf_conv = linalg.computeRBFGramMatrix(X_test_lift, X_train_lift, gamma=gamma)\n",
    "    for reg in [1e-5, 1e-4, 1e-3, 1e-2, 1e-1]:\n",
    "        acc = opt.trainAndEvaluateDualModel(KTrain=K_train_rbf_conv, KTest=K_test_rbf_conv, labelsTrain=y_train.astype('int'), \n",
    "                                                                      labelsTest=y_test.astype('int'),\n",
    "                                                                      reg=reg)\n",
    "        print(gamma, reg, acc)\n",
    "        results[(gamma,reg)] = acc"
   ]
  },
  {
   "cell_type": "code",
   "execution_count": null,
   "metadata": {
    "collapsed": false
   },
   "outputs": [],
   "source": [
    "X_test_lift"
   ]
  },
  {
   "cell_type": "code",
   "execution_count": 34,
   "metadata": {
    "collapsed": false
   },
   "outputs": [
    {
     "data": {
      "text/plain": [
       "array([[ 1.        ,  0.99926612,  0.99909939, ...,  0.99929579,\n",
       "         0.99898554,  0.99931603],\n",
       "       [ 0.99926612,  1.        ,  0.99913969, ...,  0.99927931,\n",
       "         0.9989939 ,  0.99928697],\n",
       "       [ 0.99909939,  0.99913969,  1.        , ...,  0.99925441,\n",
       "         0.99911216,  0.99934219],\n",
       "       ..., \n",
       "       [ 0.99905437,  0.99906212,  0.99914661, ...,  0.9995055 ,\n",
       "         0.99951988,  0.99959997],\n",
       "       [ 0.99926577,  0.99925152,  0.99916929, ...,  0.99948263,\n",
       "         0.99917748,  0.9994573 ],\n",
       "       [ 0.99912478,  0.99928218,  0.99900119, ...,  0.99943302,\n",
       "         0.99906306,  0.99931051]])"
      ]
     },
     "execution_count": 34,
     "metadata": {},
     "output_type": "execute_result"
    }
   ],
   "source": [
    "K_test_rbf_pixels"
   ]
  },
  {
   "cell_type": "code",
   "execution_count": 30,
   "metadata": {
    "collapsed": false
   },
   "outputs": [
    {
     "data": {
      "text/plain": [
       "(13000, 196608)"
      ]
     },
     "execution_count": 30,
     "metadata": {},
     "output_type": "execute_result"
    }
   ],
   "source": [
    "X_train_flat.shape"
   ]
  },
  {
   "cell_type": "code",
   "execution_count": 4,
   "metadata": {
    "collapsed": false,
    "scrolled": true
   },
   "outputs": [
    {
     "name": "stdout",
     "output_type": "stream",
     "text": [
      "/bin/bash -c 'cd /home/ubuntu ; tar -cf ./picture_web_2017-04-12-04:01:49.198532.tar pictureweb --exclude-from <(find pictureweb -size +3M)'\n"
     ]
    }
   ],
   "source": [
    "from utils import exputil\n",
    "exputil.snapshot()"
   ]
  },
  {
   "cell_type": "code",
   "execution_count": 155,
   "metadata": {
    "collapsed": false
   },
   "outputs": [
    {
     "data": {
      "text/plain": [
       "-1"
      ]
     },
     "execution_count": 155,
     "metadata": {},
     "output_type": "execute_result"
    }
   ],
   "source": [
    "import os\n",
    "os.system(\"/bin/bash -c 'cd /home/ubuntu ; tar -cf ./picture_web_2017-04-12-03:53:10.611164.tar pictureweb --exclude-from <(find pictureweb -size +3M)'\")"
   ]
  },
  {
   "cell_type": "code",
   "execution_count": 892,
   "metadata": {
    "collapsed": false
   },
   "outputs": [],
   "source": [
    "im = imread(\"/home/ubuntu/tiny-imagenet-200/train/n01443537/images/n01443537_0.JPEG\")"
   ]
  },
  {
   "cell_type": "code",
   "execution_count": 895,
   "metadata": {
    "collapsed": false
   },
   "outputs": [
    {
     "data": {
      "text/plain": [
       "(64, 64, 3)"
      ]
     },
     "execution_count": 895,
     "metadata": {},
     "output_type": "execute_result"
    }
   ],
   "source": [
    "im.shape"
   ]
  },
  {
   "cell_type": "code",
   "execution_count": 923,
   "metadata": {
    "collapsed": true
   },
   "outputs": [],
   "source": [
    "fc7 = np.load(\"/home/ubuntu/imagenet-fc7/imagenet_features_alexnet_fc7.npz\")"
   ]
  },
  {
   "cell_type": "code",
   "execution_count": 924,
   "metadata": {
    "collapsed": true
   },
   "outputs": [],
   "source": [
    "X_train_fc7 = fc7[\"X_train\"]\n",
    "y_train_fc7 = fc7[\"y_train\"]"
   ]
  },
  {
   "cell_type": "code",
   "execution_count": 925,
   "metadata": {
    "collapsed": true
   },
   "outputs": [],
   "source": [
    "X_test_fc7 = np.load(\"/home/ubuntu/imagenet-fc7/imagenet_test_features_alexnet_fc7.npy\")\n",
    "y_test_fc7 = np.load(\"/home/ubuntu/imagenet-fc7/imagenet_test_labels.npy\")"
   ]
  },
  {
   "cell_type": "code",
   "execution_count": 967,
   "metadata": {
    "collapsed": false
   },
   "outputs": [],
   "source": [
    "idxs = np.where(y_train_fc7 < 10)[0]\n",
    "idxs_test = np.where(y_test_fc7 < 10)[0]\n",
    "X_train_fc7_small = X_train_fc7[idxs, :]\n",
    "y_train_fc7_small = y_train_fc7[idxs].astype('int')\n",
    "X_test_fc7_small = X_test_fc7[idxs_test, :]\n",
    "y_test_fc7_small = y_test_fc7[idxs_test].astype('int')\n"
   ]
  },
  {
   "cell_type": "code",
   "execution_count": 961,
   "metadata": {
    "collapsed": false
   },
   "outputs": [
    {
     "name": "stdout",
     "output_type": "stream",
     "text": [
      "X SHAPE  (12622, 4096)\n",
      "Computing XTX\n",
      "Done Computing XTX\n"
     ]
    },
    {
     "data": {
      "text/plain": [
       "(0.95642528917762637, 0.91400000000000003)"
      ]
     },
     "execution_count": 961,
     "metadata": {},
     "output_type": "execute_result"
    }
   ],
   "source": [
    "opt.trainAndEvaluatePrimalModel(X_train_fc7_small, X_test_fc7_small, y_train_fc7_small, y_test_fc7_small, reg=1000000)"
   ]
  },
  {
   "cell_type": "code",
   "execution_count": 952,
   "metadata": {
    "collapsed": false
   },
   "outputs": [],
   "source": [
    "labels = y_train_fc7_small"
   ]
  },
  {
   "cell_type": "code",
   "execution_count": 953,
   "metadata": {
    "collapsed": true
   },
   "outputs": [],
   "source": [
    "y = np.eye(max(labels) + 1)[labels]"
   ]
  },
  {
   "cell_type": "code",
   "execution_count": 965,
   "metadata": {
    "collapsed": true
   },
   "outputs": [],
   "source": [
    "XtX = X_train_fc7_small.T.dot(X_train_fc7_small)"
   ]
  },
  {
   "cell_type": "code",
   "execution_count": 979,
   "metadata": {
    "collapsed": false
   },
   "outputs": [
    {
     "name": "stdout",
     "output_type": "stream",
     "text": [
      "step 1 took 0.15542125701904297\n",
      "Compting train_preds 2\n",
      "Iter: 0, Train Accuracy: 0.9988115987957534, Test Accuracy: 0.9\n",
      "step 1 took 0.1811075210571289\n",
      "Compting train_preds 2\n",
      "Iter: 1, Train Accuracy: 0.9988115987957534, Test Accuracy: 0.9\n",
      "step 1 took 0.17215442657470703\n",
      "Compting train_preds 2\n",
      "Iter: 2, Train Accuracy: 0.9988115987957534, Test Accuracy: 0.902\n",
      "step 1 took 0.16565442085266113\n",
      "Compting train_preds 2\n",
      "Iter: 3, Train Accuracy: 0.9988908255427033, Test Accuracy: 0.9\n",
      "step 1 took 0.1684567928314209\n",
      "Compting train_preds 2\n",
      "Iter: 4, Train Accuracy: 0.998970052289653, Test Accuracy: 0.9\n",
      "step 1 took 0.17835235595703125\n",
      "Compting train_preds 2\n",
      "Iter: 5, Train Accuracy: 0.9992077325305023, Test Accuracy: 0.902\n",
      "step 1 took 0.16594862937927246\n",
      "Compting train_preds 2\n",
      "Iter: 6, Train Accuracy: 0.9993661860244019, Test Accuracy: 0.902\n",
      "step 1 took 0.16495776176452637\n",
      "Compting train_preds 2\n",
      "Iter: 7, Train Accuracy: 0.9994454127713516, Test Accuracy: 0.902\n",
      "step 1 took 0.1683351993560791\n",
      "Compting train_preds 2\n",
      "Iter: 8, Train Accuracy: 0.9996038662652511, Test Accuracy: 0.898\n",
      "step 1 took 0.1772174835205078\n",
      "Compting train_preds 2\n",
      "Iter: 9, Train Accuracy: 0.9996830930122009, Test Accuracy: 0.898\n",
      "step 1 took 0.16785287857055664\n",
      "Compting train_preds 2\n",
      "Iter: 10, Train Accuracy: 0.9996830930122009, Test Accuracy: 0.898\n",
      "step 1 took 0.16784358024597168\n",
      "Compting train_preds 2\n",
      "Iter: 11, Train Accuracy: 0.9996830930122009, Test Accuracy: 0.898\n",
      "step 1 took 0.15977025032043457\n",
      "Compting train_preds 2\n",
      "Iter: 12, Train Accuracy: 0.9996830930122009, Test Accuracy: 0.896\n",
      "step 1 took 0.16029715538024902\n",
      "Compting train_preds 2\n",
      "Iter: 13, Train Accuracy: 0.9996830930122009, Test Accuracy: 0.898\n",
      "step 1 took 0.16824817657470703\n",
      "Compting train_preds 2\n",
      "Iter: 14, Train Accuracy: 0.9996830930122009, Test Accuracy: 0.898\n",
      "step 1 took 0.17255401611328125\n",
      "Compting train_preds 2\n"
     ]
    },
    {
     "ename": "KeyboardInterrupt",
     "evalue": "",
     "output_type": "error",
     "traceback": [
      "\u001b[0;31m---------------------------------------------------------------------------\u001b[0m",
      "\u001b[0;31mKeyboardInterrupt\u001b[0m                         Traceback (most recent call last)",
      "\u001b[0;32m<ipython-input-979-3ec6c57be862>\u001b[0m in \u001b[0;36m<module>\u001b[0;34m()\u001b[0m\n\u001b[1;32m      2\u001b[0m \u001b[0mmisc\u001b[0m\u001b[0;34m.\u001b[0m\u001b[0mrreload\u001b[0m\u001b[0;34m(\u001b[0m\u001b[0mopt\u001b[0m\u001b[0;34m)\u001b[0m\u001b[0;34m\u001b[0m\u001b[0m\n\u001b[1;32m      3\u001b[0m \u001b[0;32mfrom\u001b[0m \u001b[0mopt\u001b[0m \u001b[0;32mimport\u001b[0m \u001b[0msoftmax\u001b[0m\u001b[0;34m\u001b[0m\u001b[0m\n\u001b[0;32m----> 4\u001b[0;31m \u001b[0msoftmax\u001b[0m\u001b[0;34m.\u001b[0m\u001b[0msoftmax_gn\u001b[0m\u001b[0;34m(\u001b[0m\u001b[0mX_train_fc7_small\u001b[0m\u001b[0;34m,\u001b[0m \u001b[0my_train_fc7_small\u001b[0m\u001b[0;34m,\u001b[0m \u001b[0mX_test_fc7_small\u001b[0m\u001b[0;34m,\u001b[0m \u001b[0my_test_fc7_small\u001b[0m\u001b[0;34m,\u001b[0m \u001b[0mXtX\u001b[0m\u001b[0;34m,\u001b[0m \u001b[0mstep_size\u001b[0m\u001b[0;34m=\u001b[0m\u001b[0;36m1\u001b[0m\u001b[0;34m)\u001b[0m\u001b[0;34m\u001b[0m\u001b[0m\n\u001b[0m",
      "\u001b[0;32m/home/ubuntu/pictureweb/opt/softmax.py\u001b[0m in \u001b[0;36msoftmax_gn\u001b[0;34m(X_train, y_train, X_test, y_test, XtX, step_size, multiplier, numiter, verbose)\u001b[0m\n\u001b[1;32m     69\u001b[0m             \u001b[0mgrad\u001b[0m \u001b[0;34m=\u001b[0m \u001b[0;34m(\u001b[0m\u001b[0;36m1.0\u001b[0m\u001b[0;34m/\u001b[0m\u001b[0mnum_samples\u001b[0m\u001b[0;34m)\u001b[0m\u001b[0;34m*\u001b[0m\u001b[0;34m(\u001b[0m\u001b[0mX_train\u001b[0m\u001b[0;34m.\u001b[0m\u001b[0mT\u001b[0m\u001b[0;34m.\u001b[0m\u001b[0mdot\u001b[0m\u001b[0;34m(\u001b[0m\u001b[0mtrain_preds\u001b[0m\u001b[0;34m)\u001b[0m\u001b[0;34m.\u001b[0m\u001b[0mT\u001b[0m\u001b[0;34m)\u001b[0m \u001b[0;34m-\u001b[0m \u001b[0mlambdav\u001b[0m\u001b[0;34m*\u001b[0m\u001b[0mw\u001b[0m\u001b[0;34m\u001b[0m\u001b[0m\n\u001b[1;32m     70\u001b[0m             \u001b[0mw\u001b[0m \u001b[0;34m+=\u001b[0m \u001b[0mstep_size\u001b[0m\u001b[0;34m*\u001b[0m\u001b[0;34m(\u001b[0m\u001b[0mlinalg\u001b[0m\u001b[0;34m.\u001b[0m\u001b[0msolve\u001b[0m\u001b[0;34m(\u001b[0m\u001b[0mgmat\u001b[0m\u001b[0;34m,\u001b[0m \u001b[0mgrad\u001b[0m\u001b[0;34m.\u001b[0m\u001b[0mT\u001b[0m\u001b[0;34m,\u001b[0m \u001b[0msym_pos\u001b[0m\u001b[0;34m=\u001b[0m\u001b[0;32mTrue\u001b[0m\u001b[0;34m)\u001b[0m\u001b[0;34m)\u001b[0m\u001b[0;34m.\u001b[0m\u001b[0mT\u001b[0m\u001b[0;34m\u001b[0m\u001b[0m\n\u001b[0;32m---> 71\u001b[0;31m             \u001b[0my_train_pred\u001b[0m \u001b[0;34m=\u001b[0m \u001b[0mnp\u001b[0m\u001b[0;34m.\u001b[0m\u001b[0margmax\u001b[0m\u001b[0;34m(\u001b[0m\u001b[0msoftmax_pred\u001b[0m\u001b[0;34m(\u001b[0m\u001b[0mw\u001b[0m\u001b[0;34m.\u001b[0m\u001b[0mdot\u001b[0m\u001b[0;34m(\u001b[0m\u001b[0mX_train\u001b[0m\u001b[0;34m.\u001b[0m\u001b[0mT\u001b[0m\u001b[0;34m)\u001b[0m\u001b[0;34m.\u001b[0m\u001b[0mT\u001b[0m\u001b[0;34m)\u001b[0m\u001b[0;34m,\u001b[0m \u001b[0maxis\u001b[0m\u001b[0;34m=\u001b[0m\u001b[0;36m1\u001b[0m\u001b[0;34m)\u001b[0m\u001b[0;34m\u001b[0m\u001b[0m\n\u001b[0m\u001b[1;32m     72\u001b[0m             \u001b[0my_test_pred\u001b[0m \u001b[0;34m=\u001b[0m \u001b[0mnp\u001b[0m\u001b[0;34m.\u001b[0m\u001b[0margmax\u001b[0m\u001b[0;34m(\u001b[0m\u001b[0msoftmax_pred\u001b[0m\u001b[0;34m(\u001b[0m\u001b[0mw\u001b[0m\u001b[0;34m.\u001b[0m\u001b[0mdot\u001b[0m\u001b[0;34m(\u001b[0m\u001b[0mX_test\u001b[0m\u001b[0;34m.\u001b[0m\u001b[0mT\u001b[0m\u001b[0;34m)\u001b[0m\u001b[0;34m.\u001b[0m\u001b[0mT\u001b[0m\u001b[0;34m)\u001b[0m\u001b[0;34m,\u001b[0m \u001b[0maxis\u001b[0m\u001b[0;34m=\u001b[0m\u001b[0;36m1\u001b[0m\u001b[0;34m)\u001b[0m\u001b[0;34m\u001b[0m\u001b[0m\n\u001b[1;32m     73\u001b[0m             \u001b[0mtrain_acc\u001b[0m \u001b[0;34m=\u001b[0m \u001b[0mmetrics\u001b[0m\u001b[0;34m.\u001b[0m\u001b[0maccuracy_score\u001b[0m\u001b[0;34m(\u001b[0m\u001b[0my_train\u001b[0m\u001b[0;34m,\u001b[0m \u001b[0my_train_pred\u001b[0m\u001b[0;34m)\u001b[0m\u001b[0;34m\u001b[0m\u001b[0m\n",
      "\u001b[0;31mKeyboardInterrupt\u001b[0m: "
     ]
    }
   ],
   "source": [
    "misc.rreload(softmax)\n",
    "misc.rreload(opt)\n",
    "from opt import softmax\n",
    "softmax.softmax_gn(X_train_fc7_small, y_train_fc7_small, X_test_fc7_small, y_test_fc7_small, XtX, step_size=1)"
   ]
  },
  {
   "cell_type": "code",
   "execution_count": 972,
   "metadata": {
    "collapsed": false
   },
   "outputs": [
    {
     "ename": "AttributeError",
     "evalue": "module 'conv.opt' has no attribute 'softmax'",
     "output_type": "error",
     "traceback": [
      "\u001b[0;31m---------------------------------------------------------------------------\u001b[0m",
      "\u001b[0;31mAttributeError\u001b[0m                            Traceback (most recent call last)",
      "\u001b[0;32m<ipython-input-972-4279601b1e2c>\u001b[0m in \u001b[0;36m<module>\u001b[0;34m()\u001b[0m\n\u001b[0;32m----> 1\u001b[0;31m \u001b[0mopt\u001b[0m\u001b[0;34m.\u001b[0m\u001b[0msoftmax\u001b[0m\u001b[0;34m\u001b[0m\u001b[0m\n\u001b[0m",
      "\u001b[0;31mAttributeError\u001b[0m: module 'conv.opt' has no attribute 'softmax'"
     ]
    }
   ],
   "source": [
    "opt.softmax"
   ]
  },
  {
   "cell_type": "code",
   "execution_count": null,
   "metadata": {
    "collapsed": true
   },
   "outputs": [],
   "source": []
  }
 ],
 "metadata": {
  "kernelspec": {
   "display_name": "Python 3",
   "language": "python",
   "name": "python3"
  },
  "language_info": {
   "codemirror_mode": {
    "name": "ipython",
    "version": 3
   },
   "file_extension": ".py",
   "mimetype": "text/x-python",
   "name": "python",
   "nbconvert_exporter": "python",
   "pygments_lexer": "ipython3",
   "version": "3.6.0"
  }
 },
 "nbformat": 4,
 "nbformat_minor": 2
}
