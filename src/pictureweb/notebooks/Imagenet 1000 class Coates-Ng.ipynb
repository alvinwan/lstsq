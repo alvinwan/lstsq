{
 "cells": [
  {
   "cell_type": "code",
   "execution_count": 1,
   "metadata": {
    "collapsed": false
   },
   "outputs": [
    {
     "name": "stdout",
     "output_type": "stream",
     "text": [
      "Populating the interactive namespace from numpy and matplotlib\n",
      "<module 'loaders.imagenet_load' from '../loaders/imagenet_load.py'>\n"
     ]
    }
   ],
   "source": [
    "%pylab inline\n",
    "import sys\n",
    "sys.path.append(\"..\")\n",
    "from loaders import imagenet_load\n",
    "from importlib import reload\n",
    "print(imagenet_load)\n",
    "from conv import multigpu\n",
    "from loaders.imagenet_load import orient\n",
    "import conv\n",
    "from conv import filter_gen, multigpu\n",
    "from opt import ls\n",
    "import numpy as np\n",
    "from utils import misc\n",
    "from utils import linalg\n",
    "from utils import exputil\n",
    "from numba import jit\n",
    "import math\n",
    "import concurrent.futures as fs\n",
    "from pylab import imshow\n",
    "import copy\n",
    "from skimage.filters import gabor_kernel\n",
    "from skimage.transform import rescale\n",
    "from sklearn import metrics"
   ]
  },
  {
   "cell_type": "code",
   "execution_count": 2,
   "metadata": {
    "collapsed": true
   },
   "outputs": [],
   "source": [
    "NUM_CLASSES = 1000"
   ]
  },
  {
   "cell_type": "code",
   "execution_count": 3,
   "metadata": {
    "collapsed": true
   },
   "outputs": [],
   "source": [
    "\n",
    "def class_to_tarball_name_train(classname):\n",
    "    classname = classname.strip()\n",
    "    return \"/home/ubuntu/imagenet-train/{0}-scaled.tar\".format(classname)\n",
    "\n",
    "def class_to_tarball_name_val(classname):\n",
    "    classname = classname.strip()\n",
    "    return \"/home/ubuntu/imagenet-validation/val-{0}-scaled.tar\".format(classname)\n",
    "\n"
   ]
  },
  {
   "cell_type": "code",
   "execution_count": 54,
   "metadata": {
    "collapsed": false
   },
   "outputs": [],
   "source": [
    "def normalize_images(images, min_divisor=1e-8, mode=\"CHW\", feature_batch=None):\n",
    "    if (mode == \"HWC\"):\n",
    "        images = images.transpose(0,3,1,2)\n",
    "    images = images.astype('float32')\n",
    "    images /= 255.0\n",
    "\n",
    "    orig_shape = images.shape\n",
    "    images = images.reshape(images.shape[0], -1)\n",
    "    n_images = images.shape[0]\n",
    "    # Zero mean every feature\n",
    "    images = images - np.mean(images, axis=1)[:,np.newaxis]\n",
    "    # Normalize\n",
    "    image_norms = np.linalg.norm(images, axis=1)/55.0\n",
    "    # Get rid of really small norms\n",
    "    image_norms[np.where(image_norms < min_divisor)] = 1\n",
    "    # Make features unit norm\n",
    "    images_normalized = images/image_norms[:,np.newaxis]\n",
    "    images_normalized = images_normalized.reshape(orig_shape)\n",
    "    if (mode == \"HWC\"):\n",
    "        images_normalized = images_normalized.transpose(0,2,3,1)\n",
    "    return images_normalized"
   ]
  },
  {
   "cell_type": "code",
   "execution_count": 5,
   "metadata": {
    "collapsed": false
   },
   "outputs": [
    {
     "name": "stdout",
     "output_type": "stream",
     "text": [
      "CPU times: user 200 ms, sys: 188 ms, total: 388 ms\n",
      "Wall time: 3.71 s\n",
      "Loaded 0 classes into mem\n",
      "Loaded 100 classes into mem\n",
      "Loaded 200 classes into mem\n",
      "Loaded 300 classes into mem\n",
      "Loaded 400 classes into mem\n",
      "Loaded 500 classes into mem\n",
      "Loaded 600 classes into mem\n",
      "Loaded 700 classes into mem\n",
      "Loaded 800 classes into mem\n",
      "Loaded 900 classes into mem\n",
      "CPU times: user 272 ms, sys: 184 ms, total: 456 ms\n",
      "Wall time: 4.32 s\n"
     ]
    }
   ],
   "source": [
    "%time loader_val = imagenet_load.ImagenetLoader(NUM_CLASSES, classes_path=\"../loaders/classes\", tarball_func=class_to_tarball_name_val, mmap_loc=\"/dev/shm/imagenet_val\", n_procs=32)\n",
    "%time X_test = loader_val.load_all()"
   ]
  },
  {
   "cell_type": "code",
   "execution_count": 6,
   "metadata": {
    "collapsed": false
   },
   "outputs": [
    {
     "name": "stdout",
     "output_type": "stream",
     "text": [
      "CPU times: user 148 ms, sys: 284 ms, total: 432 ms\n",
      "Wall time: 3.24 s\n",
      "Loaded 0 classes into mem\n",
      "Loaded 100 classes into mem\n",
      "Loaded 200 classes into mem\n",
      "Loaded 300 classes into mem\n",
      "Loaded 400 classes into mem\n",
      "Loaded 500 classes into mem\n",
      "Loaded 600 classes into mem\n",
      "Loaded 700 classes into mem\n",
      "Loaded 800 classes into mem\n",
      "Loaded 900 classes into mem\n",
      "CPU times: user 480 ms, sys: 384 ms, total: 864 ms\n",
      "Wall time: 1min 37s\n"
     ]
    }
   ],
   "source": [
    "%time loader_train = imagenet_load.ImagenetLoader(NUM_CLASSES, classes_path=\"../loaders/classes\", tarball_func=class_to_tarball_name_train, mmap_loc=\"/dev/shm/imagenet_train\", n_procs=32)\n",
    "%time X_train = loader_train.load_all()"
   ]
  },
  {
   "cell_type": "code",
   "execution_count": null,
   "metadata": {
    "collapsed": false
   },
   "outputs": [],
   "source": [
    "normalized_images = normalize_images(X_train[:4096].copy().astype('float32'))"
   ]
  },
  {
   "cell_type": "code",
   "execution_count": null,
   "metadata": {
    "collapsed": false
   },
   "outputs": [],
   "source": [
    "imshow(orient(normalized_images[6])[: , :, :])\n",
    "plt.figure()\n",
    "imshow(orient(X_train[3])[: , :, :])"
   ]
  },
  {
   "cell_type": "code",
   "execution_count": 7,
   "metadata": {
    "collapsed": false
   },
   "outputs": [],
   "source": [
    "y_train = loader_train.Y\n",
    "y_test = loader_val.Y"
   ]
  },
  {
   "cell_type": "code",
   "execution_count": 8,
   "metadata": {
    "collapsed": true
   },
   "outputs": [],
   "source": [
    "num_pixels = X_train.shape[1]*X_train.shape[2]*X_train.shape[3]"
   ]
  },
  {
   "cell_type": "code",
   "execution_count": 7,
   "metadata": {
    "collapsed": false
   },
   "outputs": [],
   "source": [
    "def normalize_patches(patches, min_divisor=1e-8, zca_bias=0.1, mean_rgb=np.array([0,0,0])):\n",
    "    patches /= 255.0\n",
    "    n_patches = patches.shape[0]\n",
    "    orig_shape = patches.shape\n",
    "    \n",
    "    patches = patches.reshape(patches.shape[0], -1)\n",
    "    # Zero mean every feature\n",
    "    patches = patches - np.mean(patches, axis=1)[:,np.newaxis]\n",
    "\n",
    "    # Normalize\n",
    "    patch_norms = np.linalg.norm(patches, axis=1)\n",
    "\n",
    "    # Get rid of really small norms\n",
    "    patch_norms[np.where(patch_norms < min_divisor)] = 1\n",
    "\n",
    "    # Make features unit norm\n",
    "    patches = patches/patch_norms[:,np.newaxis]\n",
    "\n",
    "    data_means = np.mean(patches, axis=1)\n",
    "\n",
    "    patchesCovMat = 1.0/n_patches * patches.T.dot(patches)\n",
    "\n",
    "    (E,V) = np.linalg.eig(patchesCovMat)\n",
    "\n",
    "    E += zca_bias\n",
    "    sqrt_zca_eigs = np.sqrt(E)\n",
    "    \n",
    "    inv_sqrt_zca_eigs = np.diag(np.power(sqrt_zca_eigs, -1))\n",
    "    \n",
    "    global_ZCA = V.dot(inv_sqrt_zca_eigs).dot(V.T)\n",
    "    \n",
    "    patches_normalized = (patches).dot(global_ZCA).dot(global_ZCA.T)\n",
    "\n",
    "    return patches_normalized.reshape(orig_shape)\n",
    "\n",
    "\n",
    "@jit(nopython=True, nogil=True, cache=True)\n",
    "def __grab_patches(images, patch_size=6, tot_patches=1e6, seed=0):\n",
    "    np.random.seed(seed)\n",
    "    tot_patches = int(tot_patches)\n",
    "    im_idxs = np.random.choice(images.shape[0], tot_patches)\n",
    "    idxs_x = np.random.choice(images.shape[3] - patch_size - 1, tot_patches)\n",
    "    idxs_y = np.random.choice(images.shape[2] - patch_size - 1, tot_patches)\n",
    "    idxs_x += int(math.ceil(patch_size/2))\n",
    "    idxs_y += int(math.ceil(patch_size/2))\n",
    "    patches = np.zeros((tot_patches, images.shape[1], patch_size, patch_size), dtype=np.float32)\n",
    "    for i, (im_idx, idx_x, idx_y) in enumerate(zip(im_idxs, idxs_x, idxs_y)):\n",
    "        out_patch = patches[i, :, :, :]\n",
    "        grab_patch_from_idx(images[im_idx], idx_x, idx_y, patch_size, out_patch)\n",
    "    return patches\n",
    "    \n",
    "@jit(nopython=True, nogil=True)\n",
    "def grab_patch_from_idx(im, idx_x, idx_y, patch_size, outpatch):\n",
    "    sidx_x = int(idx_x - patch_size/2)\n",
    "    eidx_x = int(idx_x + patch_size/2)\n",
    "    sidx_y = int(idx_y - patch_size/2)\n",
    "    eidx_y = int(idx_y + patch_size/2)\n",
    "    outpatch[:,:,:] = im[:, sidx_x:eidx_x, sidx_y:eidx_y,].astype(np.float32)\n",
    "    return outpatch\n",
    "\n",
    "def grab_patches(images, patch_size=6, tot_patches=5e5, seed=0, max_threads=50):\n",
    "    idxs = misc.chunk_idxs(images.shape[0], max_threads)\n",
    "    tot_patches = int(tot_patches)\n",
    "    patches_per_thread = int(tot_patches/max_threads)\n",
    "    with fs.ThreadPoolExecutor(max_workers=max_threads) as executor:\n",
    "        futures = []\n",
    "        for i,(sidx, eidx) in enumerate(idxs):\n",
    "            futures.append(executor.submit(__grab_patches, images[sidx:eidx, :], \n",
    "                                           patch_size=patch_size,\n",
    "                                           tot_patches=patches_per_thread,\n",
    "                                           seed=seed+i\n",
    "                                          ))\n",
    "            \n",
    "        results = np.vstack(list(map(lambda x: x.result(), futures)))\n",
    "    return results \n"
   ]
  },
  {
   "cell_type": "code",
   "execution_count": 12,
   "metadata": {
    "collapsed": false
   },
   "outputs": [],
   "source": [
    "idxs = np.random.choice(X_train.shape[0], int(1e5), replace=False)"
   ]
  },
  {
   "cell_type": "code",
   "execution_count": 13,
   "metadata": {
    "collapsed": false
   },
   "outputs": [],
   "source": [
    "X_train_subsample = X_train[idxs].astype('float32')"
   ]
  },
  {
   "cell_type": "code",
   "execution_count": 15,
   "metadata": {
    "collapsed": false
   },
   "outputs": [
    {
     "name": "stdout",
     "output_type": "stream",
     "text": [
      "CPU times: user 1min 6s, sys: 16min 24s, total: 17min 31s\n",
      "Wall time: 17min 31s\n"
     ]
    }
   ],
   "source": [
    "%time X_train_subsample_normalized = normalize_images(X_train_subsample)"
   ]
  },
  {
   "cell_type": "code",
   "execution_count": 16,
   "metadata": {
    "collapsed": false
   },
   "outputs": [
    {
     "name": "stdout",
     "output_type": "stream",
     "text": [
      "CPU times: user 6.87 s, sys: 4.13 s, total: 11 s\n",
      "Wall time: 2.53 s\n"
     ]
    }
   ],
   "source": [
    "patch_size = 12\n",
    "%time patches = grab_patches(X_train_subsample_normalized, patch_size=patch_size, seed=12)"
   ]
  },
  {
   "cell_type": "code",
   "execution_count": null,
   "metadata": {
    "collapsed": false
   },
   "outputs": [],
   "source": [
    "patches.shape"
   ]
  },
  {
   "cell_type": "code",
   "execution_count": 26,
   "metadata": {
    "collapsed": false
   },
   "outputs": [],
   "source": [
    "patches_normalized = normalize_patches(patches)"
   ]
  },
  {
   "cell_type": "code",
   "execution_count": 27,
   "metadata": {
    "collapsed": false
   },
   "outputs": [],
   "source": [
    "reload(filter_gen)\n",
    "patches_mmap_data = np.memmap(\"/dev/shm/imagenet_patches\", shape=patches.shape, dtype=patches.dtype, mode=\"w+\")\n",
    "np.copyto(patches_mmap_data, patches)\n",
    "patches_mmap = multigpu.MmapArray(patches_mmap_data, mode=\"r+\")\n",
    "\n",
    "patches_normalized_mmap_data = np.memmap(\"/dev/shm/imagenet_patches_normalized\", shape=patches.shape, dtype=patches.dtype, mode=\"w+\")\n",
    "np.copyto(patches_normalized_mmap_data, patches_normalized)\n",
    "patches_normalized_mmap = multigpu.MmapArray(patches_normalized_mmap_data, mode=\"r+\")\n",
    "\n",
    "fg_patches = filter_gen.make_empirical_filter_gen(patches_mmap, seed=0)\n",
    "fg_patches_normalized = filter_gen.make_empirical_filter_gen(patches_normalized_mmap, seed=0)"
   ]
  },
  {
   "cell_type": "code",
   "execution_count": 48,
   "metadata": {
    "collapsed": false
   },
   "outputs": [],
   "source": [
    "gpu_handler = multigpu.MultiGpuHandler(16)\n",
    "gpu_handler.kill_all_gpu_processes()\n",
    "gpu_handler.start_and_wait_for_gpu_init()"
   ]
  },
  {
   "cell_type": "code",
   "execution_count": 55,
   "metadata": {
    "collapsed": false
   },
   "outputs": [],
   "source": [
    "conv_args_template = \\\n",
    "{ \n",
    "  \"num_feature_batches\":1,\n",
    "  \"data_batch_size\":8,\n",
    "  \"feature_batch_size\":1024,\n",
    "  \"pool_size\":110,\n",
    "  \"pool_type\":\"avg\",\n",
    "  \"pool_stride\":90,\n",
    "  \"patch_size\":patch_size,\n",
    "  \"pad\":0,\n",
    "  \"bias\": 1.0,\n",
    "  \"conv_stride\":1,\n",
    "  \"random_seed\": 43,\n",
    "  \"preprocess_batch\": normalize_images\n",
    "}"
   ]
  },
  {
   "cell_type": "code",
   "execution_count": 31,
   "metadata": {
    "collapsed": false
   },
   "outputs": [],
   "source": [
    "X_train_mmap = multigpu.MmapArray(X_train, mode=\"r+\")\n",
    "X_test_mmap = multigpu.MmapArray(X_test, mode=\"r+\")\n",
    "\n",
    "mmap_out_train_shape = conv.conv_compute_output_shape(data=X_train_mmap, **conv_args_template)\n",
    "X_train_lift = np.memmap(\"/dev/shm/X_train_lift\", mode=\"w+\", dtype=\"float32\", shape=mmap_out_train_shape)\n",
    "\n",
    "mmap_out_test_shape = conv.conv_compute_output_shape(data=X_test_mmap, **conv_args_template)\n",
    "X_test_lift = np.memmap(\"/dev/shm/X_test_lift\", mode=\"w+\", dtype=\"float32\", shape=mmap_out_test_shape)\n",
    "\n"
   ]
  },
  {
   "cell_type": "code",
   "execution_count": 34,
   "metadata": {
    "collapsed": false
   },
   "outputs": [],
   "source": []
  },
  {
   "cell_type": "code",
   "execution_count": null,
   "metadata": {
    "collapsed": false
   },
   "outputs": [],
   "source": [
    "np.mean(np.var(fg_patches_normalized(1024), axis=(1,2,3)))"
   ]
  },
  {
   "cell_type": "code",
   "execution_count": 50,
   "metadata": {
    "collapsed": false
   },
   "outputs": [],
   "source": [
    "X_train_lift_mmap = multigpu.MmapArray(X_train_lift, mode=\"r+\")\n",
    "X_test_lift_mmap = multigpu.MmapArray(X_test_lift, mode=\"r+\")\n"
   ]
  },
  {
   "cell_type": "code",
   "execution_count": 60,
   "metadata": {
    "collapsed": false
   },
   "outputs": [
    {
     "data": {
      "text/plain": [
       "(1281167, 2048, 3, 3)"
      ]
     },
     "execution_count": 60,
     "metadata": {},
     "output_type": "execute_result"
    }
   ],
   "source": [
    "X_train_lift_mmap.shape"
   ]
  },
  {
   "cell_type": "code",
   "execution_count": 56,
   "metadata": {
    "collapsed": false
   },
   "outputs": [],
   "source": [
    "train_chunk_idxs = misc.chunk_idxs(X_train.shape[0], 16)\n",
    "test_chunk_idxs = misc.chunk_idxs(X_test.shape[0], 16)"
   ]
  },
  {
   "cell_type": "code",
   "execution_count": null,
   "metadata": {
    "collapsed": false
   },
   "outputs": [],
   "source": [
    "gpu_results = []\n",
    "for gpu, (sidx, eidx) in list(zip(gpu_handler.gpus, train_chunk_idxs)):\n",
    "        fg_patches = filter_gen.make_empirical_filter_gen(patches_normalized_mmap, MIN_VAR_TOL=0, seed=0)\n",
    "        conv_args = conv_args_template.copy()\n",
    "        conv_args[\"filter_gen\"] = fg_patches\n",
    "        X_train_mmap_gpu = copy.copy(X_train_mmap)\n",
    "        X_train_mmap_gpu.idxs = (sidx, eidx)\n",
    "        X_train_out_gpu = copy.copy(X_train_lift_mmap)\n",
    "        X_train_out_gpu.idxs = (sidx, eidx)\n",
    "        conv_args['data'] = X_train_mmap_gpu\n",
    "        conv_args['output'] = X_train_out_gpu\n",
    "        gpu_result = gpu.submit_async(conv.conv_mmap, **conv_args)\n",
    "        gpu_results.append(gpu_result)\n",
    "\n",
    "for gpu_result in gpu_results:\n",
    "    %time gpu_result.result()"
   ]
  },
  {
   "cell_type": "code",
   "execution_count": null,
   "metadata": {
    "collapsed": false
   },
   "outputs": [],
   "source": [
    "gpu_results = []\n",
    "for gpu, (sidx, eidx) in list(zip(gpu_handler.gpus, test_chunk_idxs)):\n",
    "        fg_patches = filter_gen.make_empirical_filter_gen(patches_normalized_mmap, MIN_VAR_TOL=0, seed=0)\n",
    "        conv_args = conv_args_template.copy()\n",
    "        conv_args[\"filter_gen\"] = fg_patches\n",
    "        X_test_mmap_gpu = copy.copy(X_test_mmap)\n",
    "        X_test_mmap_gpu.idxs = (sidx, eidx)\n",
    "        X_test_out_gpu = copy.copy(X_test_lift_mmap)\n",
    "        X_test_out_gpu.idxs = (sidx, eidx)\n",
    "        conv_args['data'] = X_test_mmap_gpu\n",
    "        conv_args['output'] = X_test_out_gpu\n",
    "        gpu_result = gpu.submit_async(conv.conv_mmap, **conv_args)\n",
    "        gpu_results.append(gpu_result)\n",
    "\n",
    "for gpu_result in gpu_results:\n",
    "    %time gpu_result.result()"
   ]
  },
  {
   "cell_type": "code",
   "execution_count": 135,
   "metadata": {
    "collapsed": false
   },
   "outputs": [],
   "source": [
    "X_train_lift = X_train_lift_mmap.load()\n",
    "\n",
    "X_test_lift = X_test_lift_mmap.load()"
   ]
  },
  {
   "cell_type": "code",
   "execution_count": 63,
   "metadata": {
    "collapsed": false
   },
   "outputs": [
    {
     "data": {
      "text/plain": [
       "memmap([[[[  3.44510786e-02,   2.17423756e-02,   1.64380297e-02],\n",
       "         [  4.94641671e-03,   1.15441857e-02,   3.08092497e-02],\n",
       "         [  1.95613038e-02,   1.59628168e-02,   1.47663075e-02]],\n",
       "\n",
       "        [[  4.43703793e-02,   1.79534461e-02,   2.60176379e-02],\n",
       "         [  2.19456665e-02,   9.93639883e-03,   2.16778666e-02],\n",
       "         [  1.39740342e-02,   1.88377928e-02,   1.74578279e-02]],\n",
       "\n",
       "        [[  1.72023967e-01,   7.57885054e-02,   4.77684438e-02],\n",
       "         [  4.93752062e-02,   4.88249175e-02,   5.91570139e-02],\n",
       "         [  5.83711304e-02,   5.01980968e-02,   4.56872918e-02]],\n",
       "\n",
       "        ..., \n",
       "        [[  1.06888330e+00,   4.72396374e-01,   2.82585770e-01],\n",
       "         [  2.43238837e-01,   1.98437035e-01,   5.16744196e-01],\n",
       "         [  2.40680590e-01,   3.99655581e-01,   5.45146942e-01]],\n",
       "\n",
       "        [[  7.63911545e-01,   5.88392437e-01,   2.88235873e-01],\n",
       "         [  2.56452918e-01,   3.24411929e-01,   3.96513969e-01],\n",
       "         [  3.64483625e-01,   3.32522362e-01,   3.22566986e-01]],\n",
       "\n",
       "        [[  5.45782328e-01,   4.44714367e-01,   1.36976287e-01],\n",
       "         [  3.02656204e-01,   2.66438335e-01,   3.25173885e-01],\n",
       "         [  2.48477325e-01,   3.03814709e-01,   1.91585407e-01]]],\n",
       "\n",
       "\n",
       "       [[[  1.85613765e-03,   2.98070977e-03,   7.85486680e-03],\n",
       "         [  2.31064260e-02,   3.92575562e-03,   5.57975331e-03],\n",
       "         [  2.20145732e-02,   2.33888603e-03,   5.42279566e-04]],\n",
       "\n",
       "        [[  7.70691503e-03,   5.89406537e-03,   1.02127735e-02],\n",
       "         [  1.57571882e-02,   1.03314193e-02,   1.59985255e-02],\n",
       "         [  1.55107155e-02,   8.53738748e-03,   1.06666628e-02]],\n",
       "\n",
       "        [[  1.45948650e-02,   2.11371910e-02,   1.76432598e-02],\n",
       "         [  4.12789322e-02,   4.21286970e-02,   3.03827077e-02],\n",
       "         [  3.72052118e-02,   2.35116351e-02,   2.25208905e-02]],\n",
       "\n",
       "        ..., \n",
       "        [[  6.49398491e-02,   1.17535390e-01,   2.85942536e-02],\n",
       "         [  1.96951658e-01,   2.09895790e-01,   1.35290891e-01],\n",
       "         [  2.39039317e-01,   1.02560923e-01,   6.11800589e-02]],\n",
       "\n",
       "        [[  5.85839301e-02,   3.34431052e-01,   8.32756162e-02],\n",
       "         [  3.02174032e-01,   2.52251118e-01,   8.18794817e-02],\n",
       "         [  3.18705410e-01,   3.07152987e-01,   1.41689271e-01]],\n",
       "\n",
       "        [[  1.34350449e-01,   1.54553875e-01,   2.36201473e-02],\n",
       "         [  1.98098376e-01,   2.34525129e-01,   1.95428595e-01],\n",
       "         [  2.94313252e-01,   2.44185552e-01,   1.73969626e-01]]],\n",
       "\n",
       "\n",
       "       [[[  5.12489423e-05,   7.66106835e-03,   6.69093715e-05],\n",
       "         [  8.91946489e-04,   7.29066133e-03,   5.55592775e-03],\n",
       "         [  4.53956686e-02,   4.31796238e-02,   3.56496088e-02]],\n",
       "\n",
       "        [[  0.00000000e+00,   3.20026977e-03,   7.77903828e-04],\n",
       "         [  2.31565395e-03,   9.73500032e-03,   2.98007065e-03],\n",
       "         [  2.28113979e-02,   2.43385080e-02,   2.42859442e-02]],\n",
       "\n",
       "        [[  3.23655753e-04,   2.80915722e-02,   6.50984980e-03],\n",
       "         [  1.28412200e-02,   4.77505587e-02,   1.36484746e-02],\n",
       "         [  6.60087094e-02,   8.04682598e-02,   6.58385828e-02]],\n",
       "\n",
       "        ..., \n",
       "        [[  1.32898381e-03,   1.85814500e-01,   6.33581132e-02],\n",
       "         [  5.09773083e-02,   1.83808044e-01,   7.39440247e-02],\n",
       "         [  4.37600642e-01,   4.10202980e-01,   4.42843735e-01]],\n",
       "\n",
       "        [[  0.00000000e+00,   2.03391090e-01,   5.06399870e-02],\n",
       "         [  2.57260981e-03,   1.71635643e-01,   3.80523562e-01],\n",
       "         [  1.71299681e-01,   2.57016748e-01,   3.16791624e-01]],\n",
       "\n",
       "        [[  3.69194313e-03,   2.83245623e-01,   5.64047992e-02],\n",
       "         [  1.40270144e-01,   3.93308491e-01,   1.64310753e-01],\n",
       "         [  1.75807118e-01,   2.24711031e-01,   2.00523645e-01]]],\n",
       "\n",
       "\n",
       "       ..., \n",
       "       [[[  1.49231497e-02,   1.29707586e-02,   3.40013369e-03],\n",
       "         [  1.22451956e-05,   2.65233666e-02,   5.67579456e-02],\n",
       "         [  9.51691065e-04,   3.25145125e-02,   1.09450165e-02]],\n",
       "\n",
       "        [[  2.05963366e-02,   2.84950249e-02,   4.86970367e-03],\n",
       "         [  6.49077760e-04,   4.38371636e-02,   2.83767050e-03],\n",
       "         [  6.94979308e-03,   4.27686013e-02,   1.78613584e-04]],\n",
       "\n",
       "        [[  5.74958101e-02,   7.38287941e-02,   1.52886547e-02],\n",
       "         [  3.83483549e-03,   1.20733447e-01,   2.28195582e-02],\n",
       "         [  2.63305362e-02,   9.67624113e-02,   7.25238351e-03]],\n",
       "\n",
       "        ..., \n",
       "        [[  7.07050264e-02,   9.38701704e-02,   3.48877981e-02],\n",
       "         [  1.20168524e-02,   4.54108030e-01,   4.54287231e-02],\n",
       "         [  6.51624203e-02,   3.03023696e-01,   4.71507087e-02]],\n",
       "\n",
       "        [[  1.65253922e-01,   2.02048093e-01,   5.72509691e-02],\n",
       "         [  1.22987730e-02,   2.30155408e-01,   5.33297837e-01],\n",
       "         [  2.44119391e-03,   5.46907723e-01,   3.36640656e-01]],\n",
       "\n",
       "        [[  2.67367244e-01,   2.79042661e-01,   1.01115368e-01],\n",
       "         [  2.46075001e-02,   6.04786932e-01,   9.90935415e-02],\n",
       "         [  1.45684242e-01,   6.49932623e-01,   1.11875065e-01]]],\n",
       "\n",
       "\n",
       "       [[[  3.56952511e-02,   3.91733125e-02,   0.00000000e+00],\n",
       "         [  8.30481127e-02,   7.70070851e-02,   1.14746144e-04],\n",
       "         [  5.28440550e-02,   3.43642384e-02,   2.23867036e-03]],\n",
       "\n",
       "        [[  1.69920530e-02,   2.97482330e-02,   6.30013994e-04],\n",
       "         [  3.94841991e-02,   5.80734164e-02,   2.63239015e-02],\n",
       "         [  4.96152118e-02,   3.06015182e-02,   1.33251874e-02]],\n",
       "\n",
       "        [[  2.26821136e-02,   3.51368375e-02,   1.24555620e-04],\n",
       "         [  7.06450120e-02,   8.79231468e-02,   8.84553231e-03],\n",
       "         [  9.35893208e-02,   3.77257057e-02,   3.89663409e-03]],\n",
       "\n",
       "        ..., \n",
       "        [[  8.65407586e-02,   1.26880527e-01,   0.00000000e+00],\n",
       "         [  1.76571861e-01,   2.50666589e-01,   1.14564247e-01],\n",
       "         [  2.99026459e-01,   1.43021494e-01,   1.63924903e-01]],\n",
       "\n",
       "        [[  1.57757163e-01,   1.96799502e-01,   1.74340152e-04],\n",
       "         [  2.98813939e-01,   4.32700068e-01,   1.21999115e-01],\n",
       "         [  2.45912552e-01,   1.88386515e-01,   4.62347306e-02]],\n",
       "\n",
       "        [[  2.25406915e-01,   2.63603330e-01,   0.00000000e+00],\n",
       "         [  4.25113708e-01,   5.20058334e-01,   2.48084646e-02],\n",
       "         [  5.78597009e-01,   2.21360877e-01,   5.85750025e-03]]],\n",
       "\n",
       "\n",
       "       [[[  0.00000000e+00,   9.21366911e-04,   1.31228950e-03],\n",
       "         [  0.00000000e+00,   5.60811441e-03,   3.18557769e-03],\n",
       "         [  0.00000000e+00,   7.60172075e-03,   5.41119429e-04]],\n",
       "\n",
       "        [[  3.33099184e-03,   3.91148147e-04,   3.59927981e-05],\n",
       "         [  1.13808368e-04,   1.17280951e-03,   3.10408208e-03],\n",
       "         [  0.00000000e+00,   4.00946563e-04,   1.06216141e-03]],\n",
       "\n",
       "        [[  1.51419034e-02,   2.76455493e-03,   9.24085442e-04],\n",
       "         [  4.23915131e-04,   4.56066430e-03,   1.10652344e-02],\n",
       "         [  0.00000000e+00,   5.16351825e-03,   9.14767571e-03]],\n",
       "\n",
       "        ..., \n",
       "        [[  1.15130909e-01,   2.99291145e-02,   3.04653752e-03],\n",
       "         [  9.00517218e-03,   3.27150673e-02,   7.82600120e-02],\n",
       "         [  2.34533691e-05,   3.11524589e-02,   8.06238800e-02]],\n",
       "\n",
       "        [[  2.37639733e-02,   4.96271215e-02,   8.81219804e-02],\n",
       "         [  3.47885340e-02,   2.98400342e-01,   3.42471600e-01],\n",
       "         [  8.05620383e-03,   1.56852692e-01,   1.09782718e-01]],\n",
       "\n",
       "        [[  3.92135233e-01,   2.98982691e-02,   9.44176875e-03],\n",
       "         [  1.51465580e-01,   2.06493855e-01,   2.29529083e-01],\n",
       "         [  2.12652460e-02,   1.34195253e-01,   1.17320359e-01]]]], dtype=float32)"
      ]
     },
     "execution_count": 63,
     "metadata": {},
     "output_type": "execute_result"
    }
   ],
   "source": [
    "X_train_lift"
   ]
  },
  {
   "cell_type": "code",
   "execution_count": 41,
   "metadata": {
    "collapsed": true
   },
   "outputs": [],
   "source": [
    "X_train_lift = X_train_lift.reshape(X_train_lift.shape[0], -1)"
   ]
  },
  {
   "cell_type": "code",
   "execution_count": 64,
   "metadata": {
    "collapsed": true
   },
   "outputs": [],
   "source": [
    "X_test_lift = X_test_lift.reshape(X_test_lift.shape[0], -1)"
   ]
  },
  {
   "cell_type": "code",
   "execution_count": 71,
   "metadata": {
    "collapsed": false
   },
   "outputs": [],
   "source": [
    "from distributed import sharded_matrix"
   ]
  },
  {
   "cell_type": "code",
   "execution_count": 66,
   "metadata": {
    "collapsed": true
   },
   "outputs": [],
   "source": [
    "idxs = np.load(\"/home/ubuntu/scramble_idxs.npy\")"
   ]
  },
  {
   "cell_type": "code",
   "execution_count": 69,
   "metadata": {
    "collapsed": true
   },
   "outputs": [],
   "source": [
    "test_idxs = np.load(\"/home/ubuntu/test_scramble_idxs.npy\")"
   ]
  },
  {
   "cell_type": "code",
   "execution_count": 52,
   "metadata": {
    "collapsed": false
   },
   "outputs": [],
   "source": [
    "import gc\n",
    "for i in range(100): gc.collect()"
   ]
  },
  {
   "cell_type": "code",
   "execution_count": 72,
   "metadata": {
    "collapsed": false
   },
   "outputs": [
    {
     "data": {
      "text/plain": [
       "(1281167, 18432)"
      ]
     },
     "execution_count": 72,
     "metadata": {},
     "output_type": "execute_result"
    }
   ],
   "source": [
    "X_train_lift.shape"
   ]
  },
  {
   "cell_type": "code",
   "execution_count": 67,
   "metadata": {
    "collapsed": false
   },
   "outputs": [],
   "source": [
    "X_train_lift = X_train_lift[idxs, :]"
   ]
  },
  {
   "cell_type": "code",
   "execution_count": 68,
   "metadata": {
    "collapsed": true
   },
   "outputs": [],
   "source": [
    "X_train_lift = X_train_lift.reshape(X_train_lift.shape[0], -1)"
   ]
  },
  {
   "cell_type": "code",
   "execution_count": 70,
   "metadata": {
    "collapsed": true
   },
   "outputs": [],
   "source": [
    "\n",
    "X_test_lift = X_test_lift.reshape(X_test_lift.shape[0], -1)\n",
    "X_test_lift = X_test_lift[test_idxs, :]"
   ]
  },
  {
   "cell_type": "code",
   "execution_count": null,
   "metadata": {
    "collapsed": false
   },
   "outputs": [
    {
     "name": "stdout",
     "output_type": "stream",
     "text": [
      "Sharding matrix..... of shape (1281167, 18432)\n",
      "0 4096 0 18432\n",
      "8192 40961638424576286721228812288   20480   81922048028672 32768163840   24576   000 0049152327684505618432   0     \n",
      "184321843218432 18432184325324836864491525324869632368647372865536\n",
      "\n",
      "\n",
      "18432\n",
      "\n",
      "        40960 778244096073728\n",
      "5734400045056   69632    573448601677824942086144081920 000 0184321843218432     110592122880106496983041024000   0 \n",
      "\n",
      "\n",
      "61440901128192086016 65536     90112118784126976 184321843218432 18432      98304 114688126976110592102400106496 11468818432\n",
      "\n",
      "\n",
      "18432\n",
      "131072122880 0000 0     94208\n",
      " 00\n",
      "0  118784    0 00 0    00 18432184321843218432 1843218432 18432184321843218432  0\n",
      "\n",
      "\n",
      "\n",
      "18432\n",
      "\n",
      "18432\n",
      "\n",
      "\n",
      "\n",
      "1843218432 \n",
      "18432\n",
      "\n",
      "\n",
      "\n",
      "131072 135168 0 18432\n",
      "8192 12288 0 18432\n",
      "135168 139264 0 18432\n",
      "139264 143360 0 18432\n",
      "143360 147456 0 18432\n",
      "147456 151552 0 18432\n",
      "151552 155648 0 18432\n",
      "155648 159744 0 18432\n",
      "159744 163840 0 16384018432 \n",
      "167936 0 18432\n",
      "167936 172032 0 18432\n",
      "172032 176128 0 18432\n",
      "176128180224  184320180224 0 18432 \n",
      "0 18432\n",
      "184320 188416 0 18432\n",
      "188416192512 196608 0  18432\n",
      "192512 0 18432\n",
      "196608 200704 0 18432\n",
      "200704 204800 0 18432\n",
      "204800 208896 0 18432\n",
      "208896 212992 0 18432\n",
      "212992217088  217088 0 18432221184\n",
      " 0 18432\n",
      "221184 225280 0 18432\n",
      "225280 229376 0 18432\n",
      "229376 233472 0 18432\n",
      "233472 237568 2375680  24166418432 \n",
      "0 18432\n",
      "245760 249856 0 18432\n",
      "241664 245760 0 18432\n",
      "249856 253952 0 18432\n",
      "253952 258048 0 18432\n",
      "258048 262144 0 18432\n",
      "262144 266240 0 18432\n",
      "26624012288 16384 0  18432270336\n",
      " 0 18432\n",
      "270336 274432 0 18432\n",
      "278528 282624 0 18432\n",
      "274432 278528 0 18432\n",
      "286720 290816 2826240 286720  184320\n",
      " 18432\n",
      "294912290816 294912 299008  0 018432 \n",
      "18432\n",
      "299008 303104 0 18432\n",
      "303104 307200323584311296307200   0 315392 327680 18432 0\n",
      "0 18432 \n",
      "18432\n",
      "315392 319488 0311296319488   184320323584\n",
      " 18432 0 \n",
      "18432\n",
      "331776327680 335872 0 331776 0  18432\n",
      "18432\n",
      "335872 339968 0 18432\n",
      "339968 344064 0 18432\n",
      "344064 348160 0 18432\n",
      "348160 352256 0 18432\n",
      "352256 356352 0 18432\n",
      "356352 360448 0 18432\n",
      "360448 364544 0 18432\n",
      "364544 368640 0 18432\n",
      "368640 372736 0 18432\n",
      "372736 376832 0 18432\n",
      "376832 380928 0 18432\n",
      "380928 385024 0 18432\n",
      "385024 389120 0 18432\n",
      "389120 393216 0 18432\n",
      "393216 397312 0 18432\n",
      "397312 401408 0 18432\n",
      "401408 405504 0 18432\n",
      "16384 20480 0 18432\n",
      "405504 409600 0 18432\n",
      "409600 413696 0 18432\n",
      "413696 417792417792 0 18432\n",
      " 421888 0 18432\n",
      "425984421888  425984 4300800  018432 18432\n",
      "\n",
      "434176 438272 0430080  43417618432\n",
      " 0438272  18432442368\n",
      " 0 18432\n",
      "442368 446464 0 18432\n",
      "446464 450560 0 18432\n",
      "450560 454656 0 18432\n",
      "454656 458752 0 18432\n",
      "458752 462848 0 18432\n",
      "462848 466944 0 18432\n",
      "466944 471040 0 18432\n",
      "471040 475136 0 18432\n",
      "475136 479232 0 18432\n",
      "479232 483328 0 18432\n",
      "483328 487424 0 18432\n",
      "487424 491520 0 18432\n",
      "491520 495616 0 18432\n",
      "495616 499712 0 18432\n",
      "499712 503808 0 18432\n",
      "503808 507904 0 18432\n",
      "507904 512000 0 18432\n",
      "512000 516096 0 18432\n",
      "520192 524288 0 18432\n",
      "516096 520192 0 18432\n"
     ]
    }
   ],
   "source": [
    "sharded_matrix.ShardedMatrix(\"X_train_3_3_pool_12_12_patch_overlap_stride_1_normalized\", reshard=True, data=X_train_lift, n_jobs=32, bucket=\"vaishaalpywrenlinalg\")\n"
   ]
  },
  {
   "cell_type": "code",
   "execution_count": 76,
   "metadata": {
    "collapsed": false
   },
   "outputs": [
    {
     "name": "stdout",
     "output_type": "stream",
     "text": [
      "Sharding matrix..... of shape (50000, 18432)\n",
      "49152 50000 0 18432\n",
      "1638412288 16384 20480 0  2457640961843200 \n",
      "   8192409608192 18432409628672  368642867212288\n",
      "  045056   3276800  409600   184320  018432\n",
      " 018432 18432\n",
      "4505618432 \n",
      "18432\n",
      "18432 \n",
      "20480 \n",
      "32768\n",
      "4915224576   0368640   18432018432\n",
      " \n",
      "18432\n"
     ]
    },
    {
     "data": {
      "text/plain": [
       "<distributed.sharded_matrix.ShardedMatrix at 0x7ed4e86097f0>"
      ]
     },
     "execution_count": 76,
     "metadata": {},
     "output_type": "execute_result"
    }
   ],
   "source": [
    "sharded_matrix.ShardedMatrix(\"X_test_3_3_pool_12_12_patch_overlap_stride_1_normalized\", reshard=True, data=X_test_lift, n_jobs=32, bucket=\"vaishaalpywrenlinalg\")\n"
   ]
  },
  {
   "cell_type": "code",
   "execution_count": 136,
   "metadata": {
    "collapsed": false
   },
   "outputs": [],
   "source": [
    "np.save(\"/home/ubuntu/X_train_lift\", X_train_lift)"
   ]
  },
  {
   "cell_type": "code",
   "execution_count": 48,
   "metadata": {
    "collapsed": true
   },
   "outputs": [],
   "source": [
    "np.save(\"/home/ubuntu/X_train_lift_3_3_overlapping_pool_12_12_patch_stride_1_seed_43_3_batches\", X_train_lift)"
   ]
  },
  {
   "cell_type": "code",
   "execution_count": 56,
   "metadata": {
    "collapsed": true
   },
   "outputs": [],
   "source": [
    "np.save(\"/home/ubuntu/X_test_lift_3_3_overlapping_pool_12_12_patch_stride_1_seed_43_3_batches\", X_test_lift)"
   ]
  },
  {
   "cell_type": "code",
   "execution_count": 45,
   "metadata": {
    "collapsed": true
   },
   "outputs": [],
   "source": [
    "np.save(\"/home/ubuntu/y_train\", loader_train.Y)\n",
    "np.save(\"/home/ubuntu/y_test\", loader_val.Y)"
   ]
  },
  {
   "cell_type": "code",
   "execution_count": 99,
   "metadata": {
    "collapsed": false
   },
   "outputs": [
    {
     "data": {
      "text/plain": [
       "0.003517104743067094"
      ]
     },
     "execution_count": 99,
     "metadata": {},
     "output_type": "execute_result"
    }
   ],
   "source": [
    "np.mean(np.sum(X_train_lift == 0, axis=(1,2,3)))/(len(X_train_lift[0].ravel()))"
   ]
  },
  {
   "cell_type": "code",
   "execution_count": 40,
   "metadata": {
    "collapsed": false
   },
   "outputs": [
    {
     "data": {
      "text/plain": [
       "(1281167, 2048, 3, 3)"
      ]
     },
     "execution_count": 40,
     "metadata": {},
     "output_type": "execute_result"
    }
   ],
   "source": [
    "X_train_lift.shape"
   ]
  },
  {
   "cell_type": "code",
   "execution_count": 41,
   "metadata": {
    "collapsed": false
   },
   "outputs": [
    {
     "data": {
      "text/plain": [
       "(1281167, 2048, 3, 3)"
      ]
     },
     "execution_count": 41,
     "metadata": {},
     "output_type": "execute_result"
    }
   ],
   "source": [
    "X_train_lift.shape"
   ]
  },
  {
   "cell_type": "code",
   "execution_count": 42,
   "metadata": {
    "collapsed": true
   },
   "outputs": [],
   "source": [
    "num_feats = conv_args_template['feature_batch_size']*conv_args_template['num_feature_batches']"
   ]
  },
  {
   "cell_type": "code",
   "execution_count": 43,
   "metadata": {
    "collapsed": false
   },
   "outputs": [
    {
     "data": {
      "text/plain": [
       "memmap([[[[  5.11452436e-01,   2.83445150e-01,   1.52476490e-01],\n",
       "         [  1.65434599e-01,   1.38039827e-01,   2.22627014e-01],\n",
       "         [  1.48740157e-01,   2.03946054e-01,   3.18364829e-01]],\n",
       "\n",
       "        [[  3.08602661e-01,   1.93551764e-01,   1.97584108e-01],\n",
       "         [  1.49593517e-01,   2.19801798e-01,   3.68664324e-01],\n",
       "         [  2.25909159e-01,   2.75555372e-01,   3.35626394e-01]],\n",
       "\n",
       "        [[  5.44904649e-01,   2.80532062e-01,   2.54204810e-01],\n",
       "         [  1.84358343e-01,   2.36028582e-01,   4.99107957e-01],\n",
       "         [  2.10995838e-01,   4.44624424e-01,   7.18321979e-01]],\n",
       "\n",
       "        ..., \n",
       "        [[  5.02392387e+00,   2.54444790e+00,   1.86420810e+00],\n",
       "         [  1.61589551e+00,   1.13935673e+00,   2.17454219e+00],\n",
       "         [  9.84294713e-01,   1.47237277e+00,   2.72991586e+00]],\n",
       "\n",
       "        [[  3.36375499e+00,   1.74019587e+00,   1.80671775e+00],\n",
       "         [  1.35761952e+00,   1.11615324e+00,   2.27002239e+00],\n",
       "         [  1.14981556e+00,   1.68327999e+00,   2.47908521e+00]],\n",
       "\n",
       "        [[  1.77307558e+00,   1.25715947e+00,   5.69669724e-01],\n",
       "         [  1.06598043e+00,   1.07565355e+00,   1.00925219e+00],\n",
       "         [  8.92629385e-01,   8.56432199e-01,   8.57020140e-01]]],\n",
       "\n",
       "\n",
       "       [[[  1.21123910e-01,   7.71585405e-02,   4.91843596e-02],\n",
       "         [  1.15404993e-01,   8.01044106e-02,   6.83822334e-02],\n",
       "         [  1.00625210e-01,   8.28366131e-02,   6.88241646e-02]],\n",
       "\n",
       "        [[  5.20263202e-02,   7.07209185e-02,   7.03673735e-02],\n",
       "         [  9.77033079e-02,   9.77852121e-02,   9.27783176e-02],\n",
       "         [  1.23902239e-01,   5.81936054e-02,   7.10158274e-02]],\n",
       "\n",
       "        [[  1.30794585e-01,   1.11618713e-01,   1.42023623e-01],\n",
       "         [  1.31368324e-01,   1.01523377e-01,   1.50635138e-01],\n",
       "         [  1.37077153e-01,   6.48297444e-02,   9.41675678e-02]],\n",
       "\n",
       "        ..., \n",
       "        [[  3.03820580e-01,   6.19828463e-01,   2.25399658e-01],\n",
       "         [  7.52688825e-01,   6.95874393e-01,   4.66156721e-01],\n",
       "         [  1.08267701e+00,   6.90957844e-01,   5.79020679e-01]],\n",
       "\n",
       "        [[  5.29373527e-01,   6.25694811e-01,   4.38543946e-01],\n",
       "         [  8.23512256e-01,   6.41213000e-01,   5.06166399e-01],\n",
       "         [  1.17451680e+00,   7.00932860e-01,   6.93421364e-01]],\n",
       "\n",
       "        [[  1.33737576e+00,   1.09913063e+00,   1.40806758e+00],\n",
       "         [  1.17368269e+00,   1.12541044e+00,   1.45016909e+00],\n",
       "         [  9.22127426e-01,   1.20181406e+00,   1.29124939e+00]]],\n",
       "\n",
       "\n",
       "       [[[  3.37518752e-02,   8.42142776e-02,   3.56354341e-02],\n",
       "         [  5.18524870e-02,   1.19256839e-01,   7.05470890e-02],\n",
       "         [  2.08903134e-01,   2.42034003e-01,   2.63263732e-01]],\n",
       "\n",
       "        [[  2.70899758e-02,   9.28424373e-02,   4.09925207e-02],\n",
       "         [  4.57748473e-02,   1.02193199e-01,   8.41594711e-02],\n",
       "         [  2.69401073e-01,   3.10141981e-01,   3.10902774e-01]],\n",
       "\n",
       "        [[  2.82241218e-02,   6.53225705e-02,   2.66602784e-02],\n",
       "         [  2.80260388e-02,   6.21455349e-02,   3.89919616e-02],\n",
       "         [  2.46306568e-01,   2.59341836e-01,   2.58190125e-01]],\n",
       "\n",
       "        ..., \n",
       "        [[  1.53752714e-01,   5.61825573e-01,   2.22557440e-01],\n",
       "         [  1.89572617e-01,   7.09587574e-01,   5.88792801e-01],\n",
       "         [  1.37105954e+00,   1.76536918e+00,   1.70712864e+00]],\n",
       "\n",
       "        [[  5.79390721e-03,   3.39205980e-01,   1.51887730e-01],\n",
       "         [  8.00538585e-02,   4.67964977e-01,   5.55875540e-01],\n",
       "         [  1.05258632e+00,   1.34062850e+00,   1.31266975e+00]],\n",
       "\n",
       "        [[  6.05222248e-02,   4.35790777e-01,   9.79039818e-02],\n",
       "         [  3.04517746e-01,   1.00007915e+00,   7.08826005e-01],\n",
       "         [  5.55048645e-01,   1.17623425e+00,   9.39277232e-01]]],\n",
       "\n",
       "\n",
       "       ..., \n",
       "       [[[  2.91032027e-02,   5.23766913e-02,   2.76638791e-02],\n",
       "         [  3.95128205e-02,   1.30800843e-01,   4.31543030e-02],\n",
       "         [  7.64409825e-02,   1.30166560e-01,   5.34383720e-03]],\n",
       "\n",
       "        [[  1.50972083e-01,   2.11769313e-01,   1.04169667e-01],\n",
       "         [  4.51261476e-02,   1.59263477e-01,   9.57312062e-02],\n",
       "         [  5.70669957e-02,   8.02757889e-02,   1.71118416e-02]],\n",
       "\n",
       "        [[  7.80747980e-02,   1.19317755e-01,   5.72563671e-02],\n",
       "         [  3.98968160e-02,   1.08424447e-01,   3.62948254e-02],\n",
       "         [  6.08018786e-02,   5.81286438e-02,   2.14637071e-03]],\n",
       "\n",
       "        ..., \n",
       "        [[  2.67077118e-01,   3.98475468e-01,   1.44195020e-01],\n",
       "         [  1.43274903e-01,   4.87837970e-01,   2.88056076e-01],\n",
       "         [  2.20620334e-01,   5.49547255e-01,   4.43712354e-01]],\n",
       "\n",
       "        [[  3.55956763e-01,   4.42546546e-01,   1.42232344e-01],\n",
       "         [  8.17141086e-02,   4.68670070e-01,   4.33429420e-01],\n",
       "         [  1.00359291e-01,   5.21988451e-01,   4.03125405e-01]],\n",
       "\n",
       "        [[  4.24988419e-01,   5.46303213e-01,   2.53638864e-01],\n",
       "         [  2.01970935e-01,   5.99461496e-01,   3.83593470e-01],\n",
       "         [  2.72482753e-01,   6.32149339e-01,   4.09563452e-01]]],\n",
       "\n",
       "\n",
       "       [[[  8.41013864e-02,   1.09415971e-01,   2.62379437e-03],\n",
       "         [  1.75614387e-01,   2.33104840e-01,   8.61093104e-02],\n",
       "         [  2.12070465e-01,   1.96224347e-01,   8.67639780e-02]],\n",
       "\n",
       "        [[  7.30615854e-02,   8.99257585e-02,   8.56088568e-03],\n",
       "         [  1.71261564e-01,   1.76363260e-01,   6.57642558e-02],\n",
       "         [  1.59192234e-01,   1.24426886e-01,   5.65180667e-02]],\n",
       "\n",
       "        [[  8.71043950e-02,   1.04895867e-01,   4.63628806e-02],\n",
       "         [  1.95795685e-01,   2.73396879e-01,   2.57993817e-01],\n",
       "         [  1.89835638e-01,   1.91866219e-01,   1.56331763e-01]],\n",
       "\n",
       "        ..., \n",
       "        [[  1.19630478e-01,   1.36879146e-01,   5.73086509e-05],\n",
       "         [  3.10089737e-01,   5.85662067e-01,   6.39163852e-01],\n",
       "         [  3.80507052e-01,   3.33383471e-01,   2.47735217e-01]],\n",
       "\n",
       "        [[  2.85096198e-01,   3.02350312e-01,   1.46550797e-02],\n",
       "         [  5.39098978e-01,   7.77303338e-01,   7.45589197e-01],\n",
       "         [  4.04675663e-01,   4.11874950e-01,   3.39342296e-01]],\n",
       "\n",
       "        [[  9.08238053e-01,   1.17245197e+00,   8.29284966e-01],\n",
       "         [  1.36467612e+00,   1.54533827e+00,   1.23590553e+00],\n",
       "         [  1.31564450e+00,   9.94650364e-01,   7.67906010e-01]]],\n",
       "\n",
       "\n",
       "       [[[  5.11604398e-02,   3.65678594e-02,   1.46594010e-02],\n",
       "         [  8.63145199e-03,   2.79413816e-02,   4.11206074e-02],\n",
       "         [  2.57177791e-03,   2.89469492e-02,   2.48812065e-02]],\n",
       "\n",
       "        [[  9.30136442e-03,   2.53691617e-02,   3.23510766e-02],\n",
       "         [  8.00134963e-04,   9.20159463e-03,   2.34646276e-02],\n",
       "         [  1.69972263e-04,   9.75769013e-03,   1.05263693e-02]],\n",
       "\n",
       "        [[  1.33332266e-02,   1.45205976e-02,   9.90622398e-03],\n",
       "         [  2.35371772e-04,   8.98686424e-03,   1.56318955e-02],\n",
       "         [  1.00199366e-04,   9.87358671e-03,   1.25313979e-02]],\n",
       "\n",
       "        ..., \n",
       "        [[  1.38560057e-01,   1.00532949e-01,   7.48250410e-02],\n",
       "         [  3.52548342e-03,   1.82328105e-01,   2.80305058e-01],\n",
       "         [  2.68882606e-03,   1.56854242e-01,   2.05412090e-01]],\n",
       "\n",
       "        [[  3.48795578e-02,   8.56748000e-02,   1.24789298e-01],\n",
       "         [  9.32379160e-03,   1.44761875e-01,   2.34381288e-01],\n",
       "         [  9.53591987e-03,   1.11783125e-01,   1.45554125e-01]],\n",
       "\n",
       "        [[  5.85129917e-01,   5.37190557e-01,   3.24103802e-01],\n",
       "         [  4.02741164e-01,   7.71411836e-01,   6.17348015e-01],\n",
       "         [  1.48156255e-01,   5.16898155e-01,   3.55251431e-01]]]], dtype=float32)"
      ]
     },
     "execution_count": 43,
     "metadata": {},
     "output_type": "execute_result"
    }
   ],
   "source": [
    "X_train_lift"
   ]
  },
  {
   "cell_type": "code",
   "execution_count": null,
   "metadata": {
    "collapsed": true
   },
   "outputs": [],
   "source": [
    "%time X_train_lift_flat = X_train_lift.reshape(X_train_lift.shape[0], -1)"
   ]
  },
  {
   "cell_type": "code",
   "execution_count": 44,
   "metadata": {
    "collapsed": false
   },
   "outputs": [
    {
     "name": "stderr",
     "output_type": "stream",
     "text": [
      "ERROR:root:Line magic function `%tiem` not found.\n"
     ]
    },
    {
     "name": "stdout",
     "output_type": "stream",
     "text": [
      "CPU times: user 0 ns, sys: 0 ns, total: 0 ns\n",
      "Wall time: 57.2 µs\n"
     ]
    }
   ],
   "source": [
    "%time X_train_lift_flat /= np.sqrt(num_feats)"
   ]
  },
  {
   "cell_type": "code",
   "execution_count": 45,
   "metadata": {
    "collapsed": false
   },
   "outputs": [
    {
     "data": {
      "text/plain": [
       "(1281167, 18432)"
      ]
     },
     "execution_count": 45,
     "metadata": {},
     "output_type": "execute_result"
    }
   ],
   "source": [
    "X_train_lift_flat"
   ]
  },
  {
   "cell_type": "code",
   "execution_count": 48,
   "metadata": {
    "collapsed": false
   },
   "outputs": [
    {
     "name": "stdout",
     "output_type": "stream",
     "text": [
      "CPU times: user 0 ns, sys: 4 ms, total: 4 ms\n",
      "Wall time: 897 µs\n"
     ]
    }
   ],
   "source": [
    "%time X_test_lift_flat = X_test_lift.reshape(X_test_lift.shape[0], -1)\n"
   ]
  },
  {
   "cell_type": "code",
   "execution_count": 52,
   "metadata": {
    "collapsed": false
   },
   "outputs": [
    {
     "data": {
      "text/plain": [
       "memmap([[  3.08167487e-01,   2.63784707e-01,   3.36981714e-01, ...,\n",
       "          5.10616958e-01,   7.27508843e-01,   9.35552895e-01],\n",
       "       [  1.30408823e-01,   2.18853250e-01,   1.06128708e-01, ...,\n",
       "          1.56704748e+00,   1.33557463e+00,   9.27308619e-01],\n",
       "       [  1.00115851e-01,   1.60914242e-01,   1.18430495e-01, ...,\n",
       "          1.51934564e+00,   1.49153769e+00,   1.08198786e+00],\n",
       "       ..., \n",
       "       [  1.92725826e-02,   3.55420373e-02,   7.82225572e-04, ...,\n",
       "          1.09741785e-01,   3.82685602e-01,   1.97269127e-01],\n",
       "       [  5.61306365e-02,   5.28845638e-02,   1.60695985e-02, ...,\n",
       "          8.34878802e-01,   7.16028869e-01,   4.71188247e-01],\n",
       "       [  1.68057736e-02,   3.99399139e-02,   3.39946970e-02, ...,\n",
       "          9.58830535e-01,   1.16052115e+00,   1.71170700e+00]], dtype=float32)"
      ]
     },
     "execution_count": 52,
     "metadata": {},
     "output_type": "execute_result"
    }
   ],
   "source": [
    "X_train_lift_flat\n",
    "X_test_lift_flat"
   ]
  },
  {
   "cell_type": "code",
   "execution_count": 53,
   "metadata": {
    "collapsed": false
   },
   "outputs": [
    {
     "name": "stdout",
     "output_type": "stream",
     "text": [
      "CPU times: user 2h 1min 12s, sys: 1h 13min 28s, total: 3h 14min 41s\n",
      "Wall time: 6min 9s\n"
     ]
    }
   ],
   "source": [
    "%time XtX = X_train_lift_flat.T.dot(X_train_lift_flat)"
   ]
  },
  {
   "cell_type": "code",
   "execution_count": 54,
   "metadata": {
    "collapsed": false
   },
   "outputs": [
    {
     "name": "stdout",
     "output_type": "stream",
     "text": [
      "CPU times: user 2.58 s, sys: 4.29 s, total: 6.87 s\n",
      "Wall time: 6.87 s\n"
     ]
    }
   ],
   "source": [
    "%time y_train_one_hot = np.eye(1000)[y_train.astype('int')].astype('float32')"
   ]
  },
  {
   "cell_type": "code",
   "execution_count": 55,
   "metadata": {
    "collapsed": false
   },
   "outputs": [
    {
     "name": "stdout",
     "output_type": "stream",
     "text": [
      "CPU times: user 14min 51s, sys: 9min 34s, total: 24min 26s\n",
      "Wall time: 46.2 s\n"
     ]
    }
   ],
   "source": [
    "%time Xty = X_train_lift_flat.T.dot(y_train_one_hot)"
   ]
  },
  {
   "cell_type": "code",
   "execution_count": null,
   "metadata": {
    "collapsed": false
   },
   "outputs": [],
   "source": [
    "print(\"HI\")"
   ]
  },
  {
   "cell_type": "code",
   "execution_count": 107,
   "metadata": {
    "collapsed": true
   },
   "outputs": [],
   "source": [
    "np.save(\"XtX_100_classes_conv_12_3_3_5_batches\", XtX)"
   ]
  },
  {
   "cell_type": "code",
   "execution_count": 130,
   "metadata": {
    "collapsed": true
   },
   "outputs": [],
   "source": [
    "np.save(\"Xty_100_classes_conv_12_3_3_5_batches\", Xty)"
   ]
  },
  {
   "cell_type": "code",
   "execution_count": 117,
   "metadata": {
    "collapsed": false
   },
   "outputs": [],
   "source": [
    "from opt import ls"
   ]
  },
  {
   "cell_type": "code",
   "execution_count": 155,
   "metadata": {
    "collapsed": false
   },
   "outputs": [],
   "source": [
    "reload(ls)\n",
    "import scipy.linalg"
   ]
  },
  {
   "cell_type": "code",
   "execution_count": 156,
   "metadata": {
    "collapsed": false
   },
   "outputs": [],
   "source": [
    "model = scipy.linalg.solve(XtX, Xty)"
   ]
  },
  {
   "cell_type": "code",
   "execution_count": 151,
   "metadata": {
    "collapsed": false,
    "scrolled": true
   },
   "outputs": [
    {
     "name": "stderr",
     "output_type": "stream",
     "text": [
      "../opt/ls.py:32: FutureWarning: comparison to `None` will result in an elementwise object comparison in the future.\n",
      "  if (XTX == None):\n"
     ]
    },
    {
     "name": "stdout",
     "output_type": "stream",
     "text": [
      "(1281167, 18432)\n",
      "(1281167, 1000)\n",
      "CPU times: user 42min 10s, sys: 15min 47s, total: 57min 58s\n",
      "Wall time: 2min 1s\n"
     ]
    }
   ],
   "source": [
    "models = []\n",
    "for reg in [1e-4, 1e-]:\n",
    "    %time model = ls.trainAndEvaluatePrimalModel(XTrain=X_train_lift_flat, XTest=X_test_lift_flat, XTX=XtX, reg=reg, \\\n",
    "                                                 labelsTest=y_test,\\\n",
    "                                                 labelsTrain=y_train)\n",
    "    models.append(model)"
   ]
  },
  {
   "cell_type": "code",
   "execution_count": null,
   "metadata": {
    "collapsed": false
   },
   "outputs": [
    {
     "name": "stdout",
     "output_type": "stream",
     "text": [
      "[[ 0.  0.  0. ...,  0.  0.  0.]\n",
      " [ 0.  0.  0. ...,  0.  0.  0.]\n",
      " [ 0.  0.  0. ...,  0.  0.  0.]\n",
      " ..., \n",
      " [ 0.  0.  0. ...,  0.  0.  0.]\n",
      " [ 0.  0.  0. ...,  0.  0.  0.]\n",
      " [ 0.  0.  0. ...,  0.  0.  0.]]\n",
      "(1000, 1000)\n",
      "[[  422.91189575   414.49108887    92.3732605  ...,   474.63275146\n",
      "    567.9855957    324.25292969]\n",
      " [  319.91534424   482.12432861  2080.07836914 ...,   192.62753296\n",
      "    278.5513916    200.94657898]\n",
      " [ 1215.83532715  2620.68554688   199.47328186 ...,  1858.48632812\n",
      "   2558.09985352   985.46118164]\n",
      " ..., \n",
      " [ 1133.28588867   845.60412598   381.36199951 ...,  1253.73999023\n",
      "   1395.69799805   818.61907959]\n",
      " [  366.93841553   194.88972473   170.04086304 ...,   433.60409546\n",
      "    365.01922607   253.77632141]\n",
      " [  829.02282715  2924.15136719   132.71836853 ...,  1471.39477539\n",
      "   1569.6730957    793.31567383]]\n",
      "0.0001\n",
      "solving block 0\n"
     ]
    }
   ],
   "source": [
    "models = []\n",
    "for reg in [1e-4, 1e-3, 1e-2]:\n",
    "    %time model = ls.block_kernel_solve(XtX, Xty, lambdav=reg, eval_fn=eval_fn, block_size=1000, epochs=4)\n",
    "    models.append(model)"
   ]
  },
  {
   "cell_type": "code",
   "execution_count": 158,
   "metadata": {
    "collapsed": false
   },
   "outputs": [
    {
     "ename": "ValueError",
     "evalue": "shapes are not aligned",
     "output_type": "error",
     "traceback": [
      "\u001b[0;31m---------------------------------------------------------------------------\u001b[0m",
      "\u001b[0;31mValueError\u001b[0m                                Traceback (most recent call last)",
      "\u001b[0;32m<ipython-input-158-82a412bae9d8>\u001b[0m in \u001b[0;36m<module>\u001b[0;34m()\u001b[0m\n\u001b[0;32m----> 1\u001b[0;31m \u001b[0mget_ipython\u001b[0m\u001b[0;34m(\u001b[0m\u001b[0;34m)\u001b[0m\u001b[0;34m.\u001b[0m\u001b[0mmagic\u001b[0m\u001b[0;34m(\u001b[0m\u001b[0;34m'time eval_fn(models[0])'\u001b[0m\u001b[0;34m)\u001b[0m\u001b[0;34m\u001b[0m\u001b[0m\n\u001b[0m",
      "\u001b[0;32m/home/ubuntu/anaconda3/lib/python3.6/site-packages/IPython/core/interactiveshell.py\u001b[0m in \u001b[0;36mmagic\u001b[0;34m(self, arg_s)\u001b[0m\n\u001b[1;32m   2156\u001b[0m         \u001b[0mmagic_name\u001b[0m\u001b[0;34m,\u001b[0m \u001b[0m_\u001b[0m\u001b[0;34m,\u001b[0m \u001b[0mmagic_arg_s\u001b[0m \u001b[0;34m=\u001b[0m \u001b[0marg_s\u001b[0m\u001b[0;34m.\u001b[0m\u001b[0mpartition\u001b[0m\u001b[0;34m(\u001b[0m\u001b[0;34m' '\u001b[0m\u001b[0;34m)\u001b[0m\u001b[0;34m\u001b[0m\u001b[0m\n\u001b[1;32m   2157\u001b[0m         \u001b[0mmagic_name\u001b[0m \u001b[0;34m=\u001b[0m \u001b[0mmagic_name\u001b[0m\u001b[0;34m.\u001b[0m\u001b[0mlstrip\u001b[0m\u001b[0;34m(\u001b[0m\u001b[0mprefilter\u001b[0m\u001b[0;34m.\u001b[0m\u001b[0mESC_MAGIC\u001b[0m\u001b[0;34m)\u001b[0m\u001b[0;34m\u001b[0m\u001b[0m\n\u001b[0;32m-> 2158\u001b[0;31m         \u001b[0;32mreturn\u001b[0m \u001b[0mself\u001b[0m\u001b[0;34m.\u001b[0m\u001b[0mrun_line_magic\u001b[0m\u001b[0;34m(\u001b[0m\u001b[0mmagic_name\u001b[0m\u001b[0;34m,\u001b[0m \u001b[0mmagic_arg_s\u001b[0m\u001b[0;34m)\u001b[0m\u001b[0;34m\u001b[0m\u001b[0m\n\u001b[0m\u001b[1;32m   2159\u001b[0m \u001b[0;34m\u001b[0m\u001b[0m\n\u001b[1;32m   2160\u001b[0m     \u001b[0;31m#-------------------------------------------------------------------------\u001b[0m\u001b[0;34m\u001b[0m\u001b[0;34m\u001b[0m\u001b[0m\n",
      "\u001b[0;32m/home/ubuntu/anaconda3/lib/python3.6/site-packages/IPython/core/interactiveshell.py\u001b[0m in \u001b[0;36mrun_line_magic\u001b[0;34m(self, magic_name, line)\u001b[0m\n\u001b[1;32m   2077\u001b[0m                 \u001b[0mkwargs\u001b[0m\u001b[0;34m[\u001b[0m\u001b[0;34m'local_ns'\u001b[0m\u001b[0;34m]\u001b[0m \u001b[0;34m=\u001b[0m \u001b[0msys\u001b[0m\u001b[0;34m.\u001b[0m\u001b[0m_getframe\u001b[0m\u001b[0;34m(\u001b[0m\u001b[0mstack_depth\u001b[0m\u001b[0;34m)\u001b[0m\u001b[0;34m.\u001b[0m\u001b[0mf_locals\u001b[0m\u001b[0;34m\u001b[0m\u001b[0m\n\u001b[1;32m   2078\u001b[0m             \u001b[0;32mwith\u001b[0m \u001b[0mself\u001b[0m\u001b[0;34m.\u001b[0m\u001b[0mbuiltin_trap\u001b[0m\u001b[0;34m:\u001b[0m\u001b[0;34m\u001b[0m\u001b[0m\n\u001b[0;32m-> 2079\u001b[0;31m                 \u001b[0mresult\u001b[0m \u001b[0;34m=\u001b[0m \u001b[0mfn\u001b[0m\u001b[0;34m(\u001b[0m\u001b[0;34m*\u001b[0m\u001b[0margs\u001b[0m\u001b[0;34m,\u001b[0m\u001b[0;34m**\u001b[0m\u001b[0mkwargs\u001b[0m\u001b[0;34m)\u001b[0m\u001b[0;34m\u001b[0m\u001b[0m\n\u001b[0m\u001b[1;32m   2080\u001b[0m             \u001b[0;32mreturn\u001b[0m \u001b[0mresult\u001b[0m\u001b[0;34m\u001b[0m\u001b[0m\n\u001b[1;32m   2081\u001b[0m \u001b[0;34m\u001b[0m\u001b[0m\n",
      "\u001b[0;32m<decorator-gen-59>\u001b[0m in \u001b[0;36mtime\u001b[0;34m(self, line, cell, local_ns)\u001b[0m\n",
      "\u001b[0;32m/home/ubuntu/anaconda3/lib/python3.6/site-packages/IPython/core/magic.py\u001b[0m in \u001b[0;36m<lambda>\u001b[0;34m(f, *a, **k)\u001b[0m\n\u001b[1;32m    186\u001b[0m     \u001b[0;31m# but it's overkill for just that one bit of state.\u001b[0m\u001b[0;34m\u001b[0m\u001b[0;34m\u001b[0m\u001b[0m\n\u001b[1;32m    187\u001b[0m     \u001b[0;32mdef\u001b[0m \u001b[0mmagic_deco\u001b[0m\u001b[0;34m(\u001b[0m\u001b[0marg\u001b[0m\u001b[0;34m)\u001b[0m\u001b[0;34m:\u001b[0m\u001b[0;34m\u001b[0m\u001b[0m\n\u001b[0;32m--> 188\u001b[0;31m         \u001b[0mcall\u001b[0m \u001b[0;34m=\u001b[0m \u001b[0;32mlambda\u001b[0m \u001b[0mf\u001b[0m\u001b[0;34m,\u001b[0m \u001b[0;34m*\u001b[0m\u001b[0ma\u001b[0m\u001b[0;34m,\u001b[0m \u001b[0;34m**\u001b[0m\u001b[0mk\u001b[0m\u001b[0;34m:\u001b[0m \u001b[0mf\u001b[0m\u001b[0;34m(\u001b[0m\u001b[0;34m*\u001b[0m\u001b[0ma\u001b[0m\u001b[0;34m,\u001b[0m \u001b[0;34m**\u001b[0m\u001b[0mk\u001b[0m\u001b[0;34m)\u001b[0m\u001b[0;34m\u001b[0m\u001b[0m\n\u001b[0m\u001b[1;32m    189\u001b[0m \u001b[0;34m\u001b[0m\u001b[0m\n\u001b[1;32m    190\u001b[0m         \u001b[0;32mif\u001b[0m \u001b[0mcallable\u001b[0m\u001b[0;34m(\u001b[0m\u001b[0marg\u001b[0m\u001b[0;34m)\u001b[0m\u001b[0;34m:\u001b[0m\u001b[0;34m\u001b[0m\u001b[0m\n",
      "\u001b[0;32m/home/ubuntu/anaconda3/lib/python3.6/site-packages/IPython/core/magics/execution.py\u001b[0m in \u001b[0;36mtime\u001b[0;34m(self, line, cell, local_ns)\u001b[0m\n\u001b[1;32m   1174\u001b[0m         \u001b[0;32mif\u001b[0m \u001b[0mmode\u001b[0m\u001b[0;34m==\u001b[0m\u001b[0;34m'eval'\u001b[0m\u001b[0;34m:\u001b[0m\u001b[0;34m\u001b[0m\u001b[0m\n\u001b[1;32m   1175\u001b[0m             \u001b[0mst\u001b[0m \u001b[0;34m=\u001b[0m \u001b[0mclock2\u001b[0m\u001b[0;34m(\u001b[0m\u001b[0;34m)\u001b[0m\u001b[0;34m\u001b[0m\u001b[0m\n\u001b[0;32m-> 1176\u001b[0;31m             \u001b[0mout\u001b[0m \u001b[0;34m=\u001b[0m \u001b[0meval\u001b[0m\u001b[0;34m(\u001b[0m\u001b[0mcode\u001b[0m\u001b[0;34m,\u001b[0m \u001b[0mglob\u001b[0m\u001b[0;34m,\u001b[0m \u001b[0mlocal_ns\u001b[0m\u001b[0;34m)\u001b[0m\u001b[0;34m\u001b[0m\u001b[0m\n\u001b[0m\u001b[1;32m   1177\u001b[0m             \u001b[0mend\u001b[0m \u001b[0;34m=\u001b[0m \u001b[0mclock2\u001b[0m\u001b[0;34m(\u001b[0m\u001b[0;34m)\u001b[0m\u001b[0;34m\u001b[0m\u001b[0m\n\u001b[1;32m   1178\u001b[0m         \u001b[0;32melse\u001b[0m\u001b[0;34m:\u001b[0m\u001b[0;34m\u001b[0m\u001b[0m\n",
      "\u001b[0;32m<timed eval>\u001b[0m in \u001b[0;36m<module>\u001b[0;34m()\u001b[0m\n",
      "\u001b[0;32m<ipython-input-116-c4222e5edfd6>\u001b[0m in \u001b[0;36meval_fn\u001b[0;34m(model)\u001b[0m\n\u001b[1;32m      1\u001b[0m \u001b[0;32mdef\u001b[0m \u001b[0meval_fn\u001b[0m\u001b[0;34m(\u001b[0m\u001b[0mmodel\u001b[0m\u001b[0;34m)\u001b[0m\u001b[0;34m:\u001b[0m\u001b[0;34m\u001b[0m\u001b[0m\n\u001b[0;32m----> 2\u001b[0;31m      \u001b[0my_pred_train\u001b[0m \u001b[0;34m=\u001b[0m \u001b[0mnp\u001b[0m\u001b[0;34m.\u001b[0m\u001b[0margmax\u001b[0m\u001b[0;34m(\u001b[0m\u001b[0mX_train_lift_flat\u001b[0m\u001b[0;34m.\u001b[0m\u001b[0mdot\u001b[0m\u001b[0;34m(\u001b[0m\u001b[0mmodel\u001b[0m\u001b[0;34m)\u001b[0m\u001b[0;34m,\u001b[0m \u001b[0maxis\u001b[0m\u001b[0;34m=\u001b[0m\u001b[0;36m1\u001b[0m\u001b[0;34m)\u001b[0m\u001b[0;34m\u001b[0m\u001b[0m\n\u001b[0m\u001b[1;32m      3\u001b[0m      \u001b[0mtrain_acc\u001b[0m \u001b[0;34m=\u001b[0m \u001b[0mmetrics\u001b[0m\u001b[0;34m.\u001b[0m\u001b[0maccuracy_score\u001b[0m\u001b[0;34m(\u001b[0m\u001b[0my_train\u001b[0m\u001b[0;34m,\u001b[0m \u001b[0my_pred_train\u001b[0m\u001b[0;34m)\u001b[0m\u001b[0;34m\u001b[0m\u001b[0m\n\u001b[1;32m      4\u001b[0m \u001b[0;34m\u001b[0m\u001b[0m\n\u001b[1;32m      5\u001b[0m      \u001b[0my_pred_test\u001b[0m \u001b[0;34m=\u001b[0m \u001b[0mnp\u001b[0m\u001b[0;34m.\u001b[0m\u001b[0margmax\u001b[0m\u001b[0;34m(\u001b[0m\u001b[0mX_test_lift_flat\u001b[0m\u001b[0;34m.\u001b[0m\u001b[0mdot\u001b[0m\u001b[0;34m(\u001b[0m\u001b[0mmodel\u001b[0m\u001b[0;34m)\u001b[0m\u001b[0;34m,\u001b[0m \u001b[0maxis\u001b[0m\u001b[0;34m=\u001b[0m\u001b[0;36m1\u001b[0m\u001b[0;34m)\u001b[0m\u001b[0;34m\u001b[0m\u001b[0m\n",
      "\u001b[0;31mValueError\u001b[0m: shapes are not aligned"
     ]
    }
   ],
   "source": [
    "%time eval_fn(model)"
   ]
  },
  {
   "cell_type": "code",
   "execution_count": 160,
   "metadata": {
    "collapsed": false
   },
   "outputs": [
    {
     "data": {
      "text/plain": [
       "dtype('float32')"
      ]
     },
     "execution_count": 160,
     "metadata": {},
     "output_type": "execute_result"
    }
   ],
   "source": [
    "X_train_lift_flat.dot(model)"
   ]
  },
  {
   "cell_type": "code",
   "execution_count": 61,
   "metadata": {
    "collapsed": true
   },
   "outputs": [],
   "source": [
    "def eval_fn(model):\n",
    "     y_pred_train = np.argmax(X_train_lift_flat.dot(model), axis=1)\n",
    "     train_acc = metrics.accuracy_score(y_train, y_pred_train)\n",
    "    \n",
    "     y_pred_test = np.argmax(X_test_lift_flat.dot(model), axis=1)\n",
    "     test_acc = metrics.accuracy_score(y_test, y_pred_test)\n",
    "     return (\"Train\", train_acc, \"Test\", test_acc)"
   ]
  },
  {
   "cell_type": "code",
   "execution_count": null,
   "metadata": {
    "collapsed": true
   },
   "outputs": [],
   "source": [
    "for reg in [5e-2, 0.1]:\n",
    "    %time acc = ls.block_kernel_solve(XTrain=X_train_lift_flat, XTest=X_test_lift_flat, labelsTrain=y_train.astype('int'), labelsTest=y_test.astype('int'), reg=reg, XTX=XtX)\n",
    "    print(reg, acc)"
   ]
  },
  {
   "cell_type": "code",
   "execution_count": 1028,
   "metadata": {
    "collapsed": false
   },
   "outputs": [
    {
     "name": "stdout",
     "output_type": "stream",
     "text": [
      "Learning Dual Model\n",
      "reg is 1e-05\n",
      "0.05 1e-05 (0.99769230769230766, 0.69799999999999995)\n",
      "Learning Dual Model\n",
      "reg is 0.0001\n",
      "0.05 0.0001 (0.98038461538461541, 0.70199999999999996)\n",
      "Learning Dual Model\n",
      "reg is 0.001\n",
      "0.05 0.001 (0.85853846153846158, 0.70599999999999996)\n",
      "Learning Dual Model\n",
      "reg is 0.01\n",
      "0.05 0.01 (0.72246153846153849, 0.68799999999999994)\n",
      "Learning Dual Model\n",
      "reg is 0.1\n",
      "0.05 0.1 (0.6154615384615385, 0.59799999999999998)\n",
      "Learning Dual Model\n",
      "reg is 1e-05\n",
      "0.1 1e-05 (0.99792307692307691, 0.68200000000000005)\n",
      "Learning Dual Model\n",
      "reg is 0.0001\n",
      "0.1 0.0001 (0.99407692307692308, 0.70599999999999996)\n",
      "Learning Dual Model\n",
      "reg is 0.001\n",
      "0.1 0.001 (0.92723076923076919, 0.70199999999999996)\n",
      "Learning Dual Model\n",
      "reg is 0.01\n",
      "0.1 0.01 (0.77246153846153842, 0.68999999999999995)\n",
      "Learning Dual Model\n",
      "reg is 0.1\n",
      "0.1 0.1 (0.65407692307692311, 0.61799999999999999)\n",
      "Learning Dual Model\n",
      "reg is 1e-05\n",
      "1 1e-05 (0.998, 0.60599999999999998)\n",
      "Learning Dual Model\n",
      "reg is 0.0001\n",
      "1 0.0001 (0.99807692307692308, 0.61399999999999999)\n",
      "Learning Dual Model\n",
      "reg is 0.001\n",
      "1 0.001 (0.99807692307692308, 0.63400000000000001)\n",
      "Learning Dual Model\n",
      "reg is 0.01\n",
      "1 0.01 (0.98699999999999999, 0.65600000000000003)\n",
      "Learning Dual Model\n",
      "reg is 0.1\n",
      "1 0.1 (0.87546153846153851, 0.66000000000000003)\n",
      "Learning Dual Model\n",
      "reg is 1e-05\n",
      "10 1e-05 (0.99807692307692308, 0.53400000000000003)\n",
      "Learning Dual Model\n",
      "reg is 0.0001\n",
      "10 0.0001 (0.99807692307692308, 0.53400000000000003)\n",
      "Learning Dual Model\n",
      "reg is 0.001\n"
     ]
    },
    {
     "ename": "KeyboardInterrupt",
     "evalue": "",
     "output_type": "error",
     "traceback": [
      "\u001b[0;31m---------------------------------------------------------------------------\u001b[0m",
      "\u001b[0;31mKeyboardInterrupt\u001b[0m                         Traceback (most recent call last)",
      "\u001b[0;32m<ipython-input-1028-183bc40ed567>\u001b[0m in \u001b[0;36m<module>\u001b[0;34m()\u001b[0m\n\u001b[1;32m      6\u001b[0m         acc = opt.trainAndEvaluateDualModel(KTrain=K_train_rbf_conv, KTest=K_test_rbf_conv, labelsTrain=y_train.astype('int'), \n\u001b[1;32m      7\u001b[0m                                                                       \u001b[0mlabelsTest\u001b[0m\u001b[0;34m=\u001b[0m\u001b[0my_test\u001b[0m\u001b[0;34m.\u001b[0m\u001b[0mastype\u001b[0m\u001b[0;34m(\u001b[0m\u001b[0;34m'int'\u001b[0m\u001b[0;34m)\u001b[0m\u001b[0;34m,\u001b[0m\u001b[0;34m\u001b[0m\u001b[0m\n\u001b[0;32m----> 8\u001b[0;31m                                                                       reg=reg)\n\u001b[0m\u001b[1;32m      9\u001b[0m         \u001b[0mprint\u001b[0m\u001b[0;34m(\u001b[0m\u001b[0mgamma\u001b[0m\u001b[0;34m,\u001b[0m \u001b[0mreg\u001b[0m\u001b[0;34m,\u001b[0m \u001b[0macc\u001b[0m\u001b[0;34m)\u001b[0m\u001b[0;34m\u001b[0m\u001b[0m\n\u001b[1;32m     10\u001b[0m         \u001b[0mresults\u001b[0m\u001b[0;34m[\u001b[0m\u001b[0;34m(\u001b[0m\u001b[0mgamma\u001b[0m\u001b[0;34m,\u001b[0m\u001b[0mreg\u001b[0m\u001b[0;34m)\u001b[0m\u001b[0;34m]\u001b[0m \u001b[0;34m=\u001b[0m \u001b[0macc\u001b[0m\u001b[0;34m\u001b[0m\u001b[0m\n",
      "\u001b[0;32m/home/ubuntu/pictureweb/conv/opt.py\u001b[0m in \u001b[0;36mtrainAndEvaluateDualModel\u001b[0;34m(KTrain, KTest, labelsTrain, labelsTest, reg)\u001b[0m\n\u001b[1;32m     44\u001b[0m \u001b[0;34m\u001b[0m\u001b[0m\n\u001b[1;32m     45\u001b[0m \u001b[0;32mdef\u001b[0m \u001b[0mtrainAndEvaluateDualModel\u001b[0m\u001b[0;34m(\u001b[0m\u001b[0mKTrain\u001b[0m\u001b[0;34m,\u001b[0m \u001b[0mKTest\u001b[0m\u001b[0;34m,\u001b[0m \u001b[0mlabelsTrain\u001b[0m\u001b[0;34m,\u001b[0m \u001b[0mlabelsTest\u001b[0m\u001b[0;34m,\u001b[0m \u001b[0mreg\u001b[0m\u001b[0;34m=\u001b[0m\u001b[0;36m0.1\u001b[0m\u001b[0;34m)\u001b[0m\u001b[0;34m:\u001b[0m\u001b[0;34m\u001b[0m\u001b[0m\n\u001b[0;32m---> 46\u001b[0;31m     \u001b[0mmodel\u001b[0m \u001b[0;34m=\u001b[0m \u001b[0mlearnDual\u001b[0m\u001b[0;34m(\u001b[0m\u001b[0mKTrain\u001b[0m\u001b[0;34m,\u001b[0m\u001b[0mlabelsTrain\u001b[0m\u001b[0;34m,\u001b[0m \u001b[0mreg\u001b[0m\u001b[0;34m=\u001b[0m\u001b[0mreg\u001b[0m\u001b[0;34m)\u001b[0m\u001b[0;34m\u001b[0m\u001b[0m\n\u001b[0m\u001b[1;32m     47\u001b[0m     \u001b[0mpredTrainWeights\u001b[0m \u001b[0;34m=\u001b[0m \u001b[0mevaluateDualModel\u001b[0m\u001b[0;34m(\u001b[0m\u001b[0mKTrain\u001b[0m\u001b[0;34m,\u001b[0m \u001b[0mmodel\u001b[0m\u001b[0;34m)\u001b[0m\u001b[0;34m\u001b[0m\u001b[0m\n\u001b[1;32m     48\u001b[0m     \u001b[0mpredTestWeights\u001b[0m \u001b[0;34m=\u001b[0m \u001b[0mevaluateDualModel\u001b[0m\u001b[0;34m(\u001b[0m\u001b[0mKTest\u001b[0m\u001b[0;34m,\u001b[0m \u001b[0mmodel\u001b[0m\u001b[0;34m)\u001b[0m\u001b[0;34m\u001b[0m\u001b[0m\n",
      "\u001b[0;32m/home/ubuntu/pictureweb/conv/opt.py\u001b[0m in \u001b[0;36mlearnDual\u001b[0;34m(gramMatrix, labels, reg, TOT_FEAT, NUM_TRAIN)\u001b[0m\n\u001b[1;32m     61\u001b[0m     \u001b[0mprint\u001b[0m\u001b[0;34m(\u001b[0m\u001b[0;34m\"reg is \"\u001b[0m \u001b[0;34m+\u001b[0m \u001b[0mstr\u001b[0m\u001b[0;34m(\u001b[0m\u001b[0mreg\u001b[0m\u001b[0;34m)\u001b[0m\u001b[0;34m)\u001b[0m\u001b[0;34m\u001b[0m\u001b[0m\n\u001b[1;32m     62\u001b[0m     \u001b[0mgramMatrix\u001b[0m\u001b[0;34m[\u001b[0m\u001b[0midxes\u001b[0m\u001b[0;34m]\u001b[0m \u001b[0;34m+=\u001b[0m \u001b[0;34m(\u001b[0m\u001b[0mreg\u001b[0m\u001b[0;34m)\u001b[0m\u001b[0;34m\u001b[0m\u001b[0m\n\u001b[0;32m---> 63\u001b[0;31m     \u001b[0mmodel\u001b[0m \u001b[0;34m=\u001b[0m \u001b[0mlinalg\u001b[0m\u001b[0;34m.\u001b[0m\u001b[0msolve\u001b[0m\u001b[0;34m(\u001b[0m\u001b[0mgramMatrix\u001b[0m\u001b[0;34m,\u001b[0m \u001b[0my\u001b[0m\u001b[0;34m)\u001b[0m\u001b[0;34m\u001b[0m\u001b[0m\n\u001b[0m\u001b[1;32m     64\u001b[0m     \u001b[0mgramMatrix\u001b[0m\u001b[0;34m[\u001b[0m\u001b[0midxes\u001b[0m\u001b[0;34m]\u001b[0m \u001b[0;34m-=\u001b[0m \u001b[0;34m(\u001b[0m\u001b[0mreg\u001b[0m\u001b[0;34m)\u001b[0m\u001b[0;34m\u001b[0m\u001b[0m\n\u001b[1;32m     65\u001b[0m     \u001b[0mgramMatrix\u001b[0m \u001b[0;34m*=\u001b[0m \u001b[0mTOT_FEAT\u001b[0m\u001b[0;34m\u001b[0m\u001b[0m\n",
      "\u001b[0;32m/home/ubuntu/anaconda3/lib/python3.6/site-packages/scipy/linalg/basic.py\u001b[0m in \u001b[0;36msolve\u001b[0;34m(a, b, sym_pos, lower, overwrite_a, overwrite_b, debug, check_finite)\u001b[0m\n\u001b[1;32m     96\u001b[0m         \u001b[0mgesv\u001b[0m\u001b[0;34m,\u001b[0m \u001b[0;34m=\u001b[0m \u001b[0mget_lapack_funcs\u001b[0m\u001b[0;34m(\u001b[0m\u001b[0;34m(\u001b[0m\u001b[0;34m'gesv'\u001b[0m\u001b[0;34m,\u001b[0m\u001b[0;34m)\u001b[0m\u001b[0;34m,\u001b[0m \u001b[0;34m(\u001b[0m\u001b[0ma1\u001b[0m\u001b[0;34m,\u001b[0m \u001b[0mb1\u001b[0m\u001b[0;34m)\u001b[0m\u001b[0;34m)\u001b[0m\u001b[0;34m\u001b[0m\u001b[0m\n\u001b[1;32m     97\u001b[0m         lu, piv, x, info = gesv(a1, b1, overwrite_a=overwrite_a,\n\u001b[0;32m---> 98\u001b[0;31m                                 overwrite_b=overwrite_b)\n\u001b[0m\u001b[1;32m     99\u001b[0m \u001b[0;34m\u001b[0m\u001b[0m\n\u001b[1;32m    100\u001b[0m     \u001b[0;32mif\u001b[0m \u001b[0minfo\u001b[0m \u001b[0;34m==\u001b[0m \u001b[0;36m0\u001b[0m\u001b[0;34m:\u001b[0m\u001b[0;34m\u001b[0m\u001b[0m\n",
      "\u001b[0;31mKeyboardInterrupt\u001b[0m: "
     ]
    }
   ],
   "source": [
    "results_conv = {}\n",
    "for gamma in [5e-2,1e-1, 1, 10, 100]:\n",
    "    K_train_rbf_conv = linalg.computeRBFGramMatrix(X_train_lift, X_train_lift, gamma=gamma)\n",
    "    K_test_rbf_conv = linalg.computeRBFGramMatrix(X_test_lift, X_train_lift, gamma=gamma)\n",
    "    for reg in [1e-5, 1e-4, 1e-3, 1e-2, 1e-1]:\n",
    "        acc = opt.trainAndEvaluateDualModel(KTrain=K_train_rbf_conv, KTest=K_test_rbf_conv, labelsTrain=y_train.astype('int'), \n",
    "                                                                      labelsTest=y_test.astype('int'),\n",
    "                                                                      reg=reg)\n",
    "        print(gamma, reg, acc)\n",
    "        results[(gamma,reg)] = acc"
   ]
  },
  {
   "cell_type": "code",
   "execution_count": null,
   "metadata": {
    "collapsed": false
   },
   "outputs": [],
   "source": [
    "X_test_lift"
   ]
  },
  {
   "cell_type": "code",
   "execution_count": 34,
   "metadata": {
    "collapsed": false
   },
   "outputs": [
    {
     "data": {
      "text/plain": [
       "array([[ 1.        ,  0.99926612,  0.99909939, ...,  0.99929579,\n",
       "         0.99898554,  0.99931603],\n",
       "       [ 0.99926612,  1.        ,  0.99913969, ...,  0.99927931,\n",
       "         0.9989939 ,  0.99928697],\n",
       "       [ 0.99909939,  0.99913969,  1.        , ...,  0.99925441,\n",
       "         0.99911216,  0.99934219],\n",
       "       ..., \n",
       "       [ 0.99905437,  0.99906212,  0.99914661, ...,  0.9995055 ,\n",
       "         0.99951988,  0.99959997],\n",
       "       [ 0.99926577,  0.99925152,  0.99916929, ...,  0.99948263,\n",
       "         0.99917748,  0.9994573 ],\n",
       "       [ 0.99912478,  0.99928218,  0.99900119, ...,  0.99943302,\n",
       "         0.99906306,  0.99931051]])"
      ]
     },
     "execution_count": 34,
     "metadata": {},
     "output_type": "execute_result"
    }
   ],
   "source": [
    "K_test_rbf_pixels"
   ]
  },
  {
   "cell_type": "code",
   "execution_count": 30,
   "metadata": {
    "collapsed": false
   },
   "outputs": [
    {
     "data": {
      "text/plain": [
       "(13000, 196608)"
      ]
     },
     "execution_count": 30,
     "metadata": {},
     "output_type": "execute_result"
    }
   ],
   "source": [
    "X_train_flat.shape"
   ]
  },
  {
   "cell_type": "code",
   "execution_count": 67,
   "metadata": {
    "collapsed": false
   },
   "outputs": [
    {
     "name": "stdout",
     "output_type": "stream",
     "text": [
      "/bin/bash -c 'cd /home/ubuntu ; tar -cf ./picture_web_2017-04-15-15:14:12.701102.tar pictureweb --exclude-from <(find pictureweb -size +3M)'\n"
     ]
    }
   ],
   "source": [
    "exputil.snapshot()"
   ]
  },
  {
   "cell_type": "code",
   "execution_count": 892,
   "metadata": {
    "collapsed": false
   },
   "outputs": [],
   "source": [
    "im = imread(\"/home/ubuntu/tiny-imagenet-200/train/n01443537/images/n01443537_0.JPEG\")"
   ]
  },
  {
   "cell_type": "code",
   "execution_count": 895,
   "metadata": {
    "collapsed": false
   },
   "outputs": [
    {
     "data": {
      "text/plain": [
       "(64, 64, 3)"
      ]
     },
     "execution_count": 895,
     "metadata": {},
     "output_type": "execute_result"
    }
   ],
   "source": [
    "im.shape"
   ]
  },
  {
   "cell_type": "code",
   "execution_count": 923,
   "metadata": {
    "collapsed": true
   },
   "outputs": [],
   "source": [
    "fc7 = np.load(\"/home/ubuntu/imagenet-fc7/imagenet_features_alexnet_fc7.npz\")"
   ]
  },
  {
   "cell_type": "code",
   "execution_count": 924,
   "metadata": {
    "collapsed": true
   },
   "outputs": [],
   "source": [
    "X_train_fc7 = fc7[\"X_train\"]\n",
    "y_train_fc7 = fc7[\"y_train\"]"
   ]
  },
  {
   "cell_type": "code",
   "execution_count": 925,
   "metadata": {
    "collapsed": true
   },
   "outputs": [],
   "source": [
    "X_test_fc7 = np.load(\"/home/ubuntu/imagenet-fc7/imagenet_test_features_alexnet_fc7.npy\")\n",
    "y_test_fc7 = np.load(\"/home/ubuntu/imagenet-fc7/imagenet_test_labels.npy\")"
   ]
  },
  {
   "cell_type": "code",
   "execution_count": 967,
   "metadata": {
    "collapsed": false
   },
   "outputs": [],
   "source": [
    "idxs = np.where(y_train_fc7 < 10)[0]\n",
    "idxs_test = np.where(y_test_fc7 < 10)[0]\n",
    "X_train_fc7_small = X_train_fc7[idxs, :]\n",
    "y_train_fc7_small = y_train_fc7[idxs].astype('int')\n",
    "X_test_fc7_small = X_test_fc7[idxs_test, :]\n",
    "y_test_fc7_small = y_test_fc7[idxs_test].astype('int')\n"
   ]
  },
  {
   "cell_type": "code",
   "execution_count": 961,
   "metadata": {
    "collapsed": false
   },
   "outputs": [
    {
     "name": "stdout",
     "output_type": "stream",
     "text": [
      "X SHAPE  (12622, 4096)\n",
      "Computing XTX\n",
      "Done Computing XTX\n"
     ]
    },
    {
     "data": {
      "text/plain": [
       "(0.95642528917762637, 0.91400000000000003)"
      ]
     },
     "execution_count": 961,
     "metadata": {},
     "output_type": "execute_result"
    }
   ],
   "source": [
    "opt.trainAndEvaluatePrimalModel(X_train_fc7_small, X_test_fc7_small, y_train_fc7_small, y_test_fc7_small, reg=1000000)"
   ]
  },
  {
   "cell_type": "code",
   "execution_count": 952,
   "metadata": {
    "collapsed": false
   },
   "outputs": [],
   "source": [
    "labels = y_train_fc7_small"
   ]
  },
  {
   "cell_type": "code",
   "execution_count": 953,
   "metadata": {
    "collapsed": true
   },
   "outputs": [],
   "source": [
    "y = np.eye(max(labels) + 1)[labels]"
   ]
  },
  {
   "cell_type": "code",
   "execution_count": 965,
   "metadata": {
    "collapsed": true
   },
   "outputs": [],
   "source": [
    "XtX = X_train_fc7_small.T.dot(X_train_fc7_small)"
   ]
  },
  {
   "cell_type": "code",
   "execution_count": 979,
   "metadata": {
    "collapsed": false
   },
   "outputs": [
    {
     "name": "stdout",
     "output_type": "stream",
     "text": [
      "step 1 took 0.15542125701904297\n",
      "Compting train_preds 2\n",
      "Iter: 0, Train Accuracy: 0.9988115987957534, Test Accuracy: 0.9\n",
      "step 1 took 0.1811075210571289\n",
      "Compting train_preds 2\n",
      "Iter: 1, Train Accuracy: 0.9988115987957534, Test Accuracy: 0.9\n",
      "step 1 took 0.17215442657470703\n",
      "Compting train_preds 2\n",
      "Iter: 2, Train Accuracy: 0.9988115987957534, Test Accuracy: 0.902\n",
      "step 1 took 0.16565442085266113\n",
      "Compting train_preds 2\n",
      "Iter: 3, Train Accuracy: 0.9988908255427033, Test Accuracy: 0.9\n",
      "step 1 took 0.1684567928314209\n",
      "Compting train_preds 2\n",
      "Iter: 4, Train Accuracy: 0.998970052289653, Test Accuracy: 0.9\n",
      "step 1 took 0.17835235595703125\n",
      "Compting train_preds 2\n",
      "Iter: 5, Train Accuracy: 0.9992077325305023, Test Accuracy: 0.902\n",
      "step 1 took 0.16594862937927246\n",
      "Compting train_preds 2\n",
      "Iter: 6, Train Accuracy: 0.9993661860244019, Test Accuracy: 0.902\n",
      "step 1 took 0.16495776176452637\n",
      "Compting train_preds 2\n",
      "Iter: 7, Train Accuracy: 0.9994454127713516, Test Accuracy: 0.902\n",
      "step 1 took 0.1683351993560791\n",
      "Compting train_preds 2\n",
      "Iter: 8, Train Accuracy: 0.9996038662652511, Test Accuracy: 0.898\n",
      "step 1 took 0.1772174835205078\n",
      "Compting train_preds 2\n",
      "Iter: 9, Train Accuracy: 0.9996830930122009, Test Accuracy: 0.898\n",
      "step 1 took 0.16785287857055664\n",
      "Compting train_preds 2\n",
      "Iter: 10, Train Accuracy: 0.9996830930122009, Test Accuracy: 0.898\n",
      "step 1 took 0.16784358024597168\n",
      "Compting train_preds 2\n",
      "Iter: 11, Train Accuracy: 0.9996830930122009, Test Accuracy: 0.898\n",
      "step 1 took 0.15977025032043457\n",
      "Compting train_preds 2\n",
      "Iter: 12, Train Accuracy: 0.9996830930122009, Test Accuracy: 0.896\n",
      "step 1 took 0.16029715538024902\n",
      "Compting train_preds 2\n",
      "Iter: 13, Train Accuracy: 0.9996830930122009, Test Accuracy: 0.898\n",
      "step 1 took 0.16824817657470703\n",
      "Compting train_preds 2\n",
      "Iter: 14, Train Accuracy: 0.9996830930122009, Test Accuracy: 0.898\n",
      "step 1 took 0.17255401611328125\n",
      "Compting train_preds 2\n"
     ]
    },
    {
     "ename": "KeyboardInterrupt",
     "evalue": "",
     "output_type": "error",
     "traceback": [
      "\u001b[0;31m---------------------------------------------------------------------------\u001b[0m",
      "\u001b[0;31mKeyboardInterrupt\u001b[0m                         Traceback (most recent call last)",
      "\u001b[0;32m<ipython-input-979-3ec6c57be862>\u001b[0m in \u001b[0;36m<module>\u001b[0;34m()\u001b[0m\n\u001b[1;32m      2\u001b[0m \u001b[0mmisc\u001b[0m\u001b[0;34m.\u001b[0m\u001b[0mrreload\u001b[0m\u001b[0;34m(\u001b[0m\u001b[0mopt\u001b[0m\u001b[0;34m)\u001b[0m\u001b[0;34m\u001b[0m\u001b[0m\n\u001b[1;32m      3\u001b[0m \u001b[0;32mfrom\u001b[0m \u001b[0mopt\u001b[0m \u001b[0;32mimport\u001b[0m \u001b[0msoftmax\u001b[0m\u001b[0;34m\u001b[0m\u001b[0m\n\u001b[0;32m----> 4\u001b[0;31m \u001b[0msoftmax\u001b[0m\u001b[0;34m.\u001b[0m\u001b[0msoftmax_gn\u001b[0m\u001b[0;34m(\u001b[0m\u001b[0mX_train_fc7_small\u001b[0m\u001b[0;34m,\u001b[0m \u001b[0my_train_fc7_small\u001b[0m\u001b[0;34m,\u001b[0m \u001b[0mX_test_fc7_small\u001b[0m\u001b[0;34m,\u001b[0m \u001b[0my_test_fc7_small\u001b[0m\u001b[0;34m,\u001b[0m \u001b[0mXtX\u001b[0m\u001b[0;34m,\u001b[0m \u001b[0mstep_size\u001b[0m\u001b[0;34m=\u001b[0m\u001b[0;36m1\u001b[0m\u001b[0;34m)\u001b[0m\u001b[0;34m\u001b[0m\u001b[0m\n\u001b[0m",
      "\u001b[0;32m/home/ubuntu/pictureweb/opt/softmax.py\u001b[0m in \u001b[0;36msoftmax_gn\u001b[0;34m(X_train, y_train, X_test, y_test, XtX, step_size, multiplier, numiter, verbose)\u001b[0m\n\u001b[1;32m     69\u001b[0m             \u001b[0mgrad\u001b[0m \u001b[0;34m=\u001b[0m \u001b[0;34m(\u001b[0m\u001b[0;36m1.0\u001b[0m\u001b[0;34m/\u001b[0m\u001b[0mnum_samples\u001b[0m\u001b[0;34m)\u001b[0m\u001b[0;34m*\u001b[0m\u001b[0;34m(\u001b[0m\u001b[0mX_train\u001b[0m\u001b[0;34m.\u001b[0m\u001b[0mT\u001b[0m\u001b[0;34m.\u001b[0m\u001b[0mdot\u001b[0m\u001b[0;34m(\u001b[0m\u001b[0mtrain_preds\u001b[0m\u001b[0;34m)\u001b[0m\u001b[0;34m.\u001b[0m\u001b[0mT\u001b[0m\u001b[0;34m)\u001b[0m \u001b[0;34m-\u001b[0m \u001b[0mlambdav\u001b[0m\u001b[0;34m*\u001b[0m\u001b[0mw\u001b[0m\u001b[0;34m\u001b[0m\u001b[0m\n\u001b[1;32m     70\u001b[0m             \u001b[0mw\u001b[0m \u001b[0;34m+=\u001b[0m \u001b[0mstep_size\u001b[0m\u001b[0;34m*\u001b[0m\u001b[0;34m(\u001b[0m\u001b[0mlinalg\u001b[0m\u001b[0;34m.\u001b[0m\u001b[0msolve\u001b[0m\u001b[0;34m(\u001b[0m\u001b[0mgmat\u001b[0m\u001b[0;34m,\u001b[0m \u001b[0mgrad\u001b[0m\u001b[0;34m.\u001b[0m\u001b[0mT\u001b[0m\u001b[0;34m,\u001b[0m \u001b[0msym_pos\u001b[0m\u001b[0;34m=\u001b[0m\u001b[0;32mTrue\u001b[0m\u001b[0;34m)\u001b[0m\u001b[0;34m)\u001b[0m\u001b[0;34m.\u001b[0m\u001b[0mT\u001b[0m\u001b[0;34m\u001b[0m\u001b[0m\n\u001b[0;32m---> 71\u001b[0;31m             \u001b[0my_train_pred\u001b[0m \u001b[0;34m=\u001b[0m \u001b[0mnp\u001b[0m\u001b[0;34m.\u001b[0m\u001b[0margmax\u001b[0m\u001b[0;34m(\u001b[0m\u001b[0msoftmax_pred\u001b[0m\u001b[0;34m(\u001b[0m\u001b[0mw\u001b[0m\u001b[0;34m.\u001b[0m\u001b[0mdot\u001b[0m\u001b[0;34m(\u001b[0m\u001b[0mX_train\u001b[0m\u001b[0;34m.\u001b[0m\u001b[0mT\u001b[0m\u001b[0;34m)\u001b[0m\u001b[0;34m.\u001b[0m\u001b[0mT\u001b[0m\u001b[0;34m)\u001b[0m\u001b[0;34m,\u001b[0m \u001b[0maxis\u001b[0m\u001b[0;34m=\u001b[0m\u001b[0;36m1\u001b[0m\u001b[0;34m)\u001b[0m\u001b[0;34m\u001b[0m\u001b[0m\n\u001b[0m\u001b[1;32m     72\u001b[0m             \u001b[0my_test_pred\u001b[0m \u001b[0;34m=\u001b[0m \u001b[0mnp\u001b[0m\u001b[0;34m.\u001b[0m\u001b[0margmax\u001b[0m\u001b[0;34m(\u001b[0m\u001b[0msoftmax_pred\u001b[0m\u001b[0;34m(\u001b[0m\u001b[0mw\u001b[0m\u001b[0;34m.\u001b[0m\u001b[0mdot\u001b[0m\u001b[0;34m(\u001b[0m\u001b[0mX_test\u001b[0m\u001b[0;34m.\u001b[0m\u001b[0mT\u001b[0m\u001b[0;34m)\u001b[0m\u001b[0;34m.\u001b[0m\u001b[0mT\u001b[0m\u001b[0;34m)\u001b[0m\u001b[0;34m,\u001b[0m \u001b[0maxis\u001b[0m\u001b[0;34m=\u001b[0m\u001b[0;36m1\u001b[0m\u001b[0;34m)\u001b[0m\u001b[0;34m\u001b[0m\u001b[0m\n\u001b[1;32m     73\u001b[0m             \u001b[0mtrain_acc\u001b[0m \u001b[0;34m=\u001b[0m \u001b[0mmetrics\u001b[0m\u001b[0;34m.\u001b[0m\u001b[0maccuracy_score\u001b[0m\u001b[0;34m(\u001b[0m\u001b[0my_train\u001b[0m\u001b[0;34m,\u001b[0m \u001b[0my_train_pred\u001b[0m\u001b[0;34m)\u001b[0m\u001b[0;34m\u001b[0m\u001b[0m\n",
      "\u001b[0;31mKeyboardInterrupt\u001b[0m: "
     ]
    }
   ],
   "source": [
    "misc.rreload(softmax)\n",
    "misc.rreload(opt)\n",
    "from opt import softmax\n",
    "softmax.softmax_gn(X_train_fc7_small, y_train_fc7_small, X_test_fc7_small, y_test_fc7_small, XtX, step_size=1)"
   ]
  },
  {
   "cell_type": "code",
   "execution_count": 972,
   "metadata": {
    "collapsed": false
   },
   "outputs": [
    {
     "ename": "AttributeError",
     "evalue": "module 'conv.opt' has no attribute 'softmax'",
     "output_type": "error",
     "traceback": [
      "\u001b[0;31m---------------------------------------------------------------------------\u001b[0m",
      "\u001b[0;31mAttributeError\u001b[0m                            Traceback (most recent call last)",
      "\u001b[0;32m<ipython-input-972-4279601b1e2c>\u001b[0m in \u001b[0;36m<module>\u001b[0;34m()\u001b[0m\n\u001b[0;32m----> 1\u001b[0;31m \u001b[0mopt\u001b[0m\u001b[0;34m.\u001b[0m\u001b[0msoftmax\u001b[0m\u001b[0;34m\u001b[0m\u001b[0m\n\u001b[0m",
      "\u001b[0;31mAttributeError\u001b[0m: module 'conv.opt' has no attribute 'softmax'"
     ]
    }
   ],
   "source": [
    "opt.softmax"
   ]
  },
  {
   "cell_type": "code",
   "execution_count": null,
   "metadata": {
    "collapsed": true
   },
   "outputs": [],
   "source": [
    "print(\"HI\")"
   ]
  },
  {
   "cell_type": "code",
   "execution_count": null,
   "metadata": {
    "collapsed": true
   },
   "outputs": [],
   "source": []
  }
 ],
 "metadata": {
  "kernelspec": {
   "display_name": "Python 3",
   "language": "python",
   "name": "python3"
  },
  "language_info": {
   "codemirror_mode": {
    "name": "ipython",
    "version": 3
   },
   "file_extension": ".py",
   "mimetype": "text/x-python",
   "name": "python",
   "nbconvert_exporter": "python",
   "pygments_lexer": "ipython3",
   "version": "3.6.0"
  }
 },
 "nbformat": 4,
 "nbformat_minor": 2
}
