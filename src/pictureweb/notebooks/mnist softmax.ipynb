{
 "cells": [
  {
   "cell_type": "code",
   "execution_count": 11,
   "metadata": {
    "collapsed": false
   },
   "outputs": [],
   "source": [
    "import softmax\n",
    "from sklearn.datasets import fetch_mldata\n",
    "from importlib import reload\n",
    "reload(softmax)\n",
    "import numpy as np\n",
    "import scipy.linalg\n",
    "import sys\n",
    "sys.path.append(\"..\")\n",
    "from pywren_kernels import linalg\n",
    "import opt"
   ]
  },
  {
   "cell_type": "code",
   "execution_count": 6,
   "metadata": {
    "collapsed": true
   },
   "outputs": [],
   "source": [
    "mnist = fetch_mldata('MNIST original', data_home=\"/tmp/mnist\")\n",
    "X_train = mnist.data[:60000].astype('float32')/255.0\n",
    "y_train = mnist.target[:60000].astype('int')\n",
    "X_test = mnist.data[60000:].astype('float32')/255.0\n",
    "y_test = mnist.target[60000:].astype('int')\n"
   ]
  },
  {
   "cell_type": "code",
   "execution_count": 7,
   "metadata": {
    "collapsed": false
   },
   "outputs": [
    {
     "name": "stdout",
     "output_type": "stream",
     "text": [
      "CPU times: user 2min 49s, sys: 1min 5s, total: 3min 54s\n",
      "Wall time: 1min 13s\n",
      "CPU times: user 58.7 s, sys: 19.8 s, total: 1min 18s\n",
      "Wall time: 11.2 s\n"
     ]
    }
   ],
   "source": [
    "%time K_train = linalg.computeRBFGramMatrix(X_train, X_train, gamma=1e-3)\n",
    "%time K_test = linalg.computeRBFGramMatrix(X_test, X_train, gamma=1e-3)"
   ]
  },
  {
   "cell_type": "code",
   "execution_count": null,
   "metadata": {
    "collapsed": false
   },
   "outputs": [],
   "source": [
    "acc = opt.trainAndEvaluateDualModel(KTrain=K_train, KTest=K_test, labelsTrain=y_train, labelsTest=y_test, reg=1e-4)\n",
    "print(acc)"
   ]
  },
  {
   "cell_type": "code",
   "execution_count": null,
   "metadata": {
    "collapsed": false
   },
   "outputs": [
    {
     "name": "stdout",
     "output_type": "stream",
     "text": [
      "(4000, 10)\n",
      "(4000, 10)\n",
      "(4000, 4000)\n",
      "Epoch: 0, Block: 0, Train Accuracy: 0.81425, Test Accuracy: 0.8255\n"
     ]
    }
   ],
   "source": [
    "softmax.softmax_kernel_block_gn(K_train, y_train, K_test, y_test, step_size=10.0, numiter=1, multiplier=10)"
   ]
  },
  {
   "cell_type": "code",
   "execution_count": 92,
   "metadata": {
    "collapsed": false
   },
   "outputs": [
    {
     "ename": "ValueError",
     "evalue": "shapes (10,4096) and (784,60000) not aligned: 4096 (dim 1) != 784 (dim 0)",
     "output_type": "error",
     "traceback": [
      "\u001b[0;31m---------------------------------------------------------------------------\u001b[0m",
      "\u001b[0;31mValueError\u001b[0m                                Traceback (most recent call last)",
      "\u001b[0;32m<ipython-input-92-6b0b2ce85152>\u001b[0m in \u001b[0;36m<module>\u001b[0;34m()\u001b[0m\n\u001b[0;32m----> 1\u001b[0;31m \u001b[0msoftmax\u001b[0m\u001b[0;34m.\u001b[0m\u001b[0msoftmax_gn\u001b[0m\u001b[0;34m(\u001b[0m\u001b[0mX_train\u001b[0m\u001b[0;34m=\u001b[0m\u001b[0mX_train\u001b[0m\u001b[0;34m,\u001b[0m \u001b[0my_train\u001b[0m\u001b[0;34m=\u001b[0m\u001b[0my_train\u001b[0m\u001b[0;34m,\u001b[0m \u001b[0mX_test\u001b[0m\u001b[0;34m=\u001b[0m\u001b[0mX_test\u001b[0m\u001b[0;34m,\u001b[0m \u001b[0my_test\u001b[0m\u001b[0;34m=\u001b[0m\u001b[0my_test\u001b[0m\u001b[0;34m,\u001b[0m \u001b[0mXtX\u001b[0m\u001b[0;34m=\u001b[0m\u001b[0mXtX\u001b[0m\u001b[0;34m)\u001b[0m\u001b[0;34m\u001b[0m\u001b[0m\n\u001b[0m",
      "\u001b[0;32m/data/vaishaal/pictureweb/conv/softmax.py\u001b[0m in \u001b[0;36msoftmax_gn\u001b[0;34m(X_train, y_train, X_test, y_test, XtX, step_size, multiplier, numiter, verbose)\u001b[0m\n\u001b[1;32m     52\u001b[0m         \u001b[0;32mfor\u001b[0m \u001b[0mk\u001b[0m \u001b[0;32min\u001b[0m \u001b[0mrange\u001b[0m\u001b[0;34m(\u001b[0m\u001b[0mnumiter\u001b[0m\u001b[0;34m)\u001b[0m\u001b[0;34m:\u001b[0m\u001b[0;34m\u001b[0m\u001b[0m\n\u001b[1;32m     53\u001b[0m             \u001b[0mt\u001b[0m \u001b[0;34m=\u001b[0m \u001b[0mtime\u001b[0m\u001b[0;34m.\u001b[0m\u001b[0mtime\u001b[0m\u001b[0;34m(\u001b[0m\u001b[0;34m)\u001b[0m\u001b[0;34m\u001b[0m\u001b[0m\n\u001b[0;32m---> 54\u001b[0;31m             \u001b[0mtrain_preds\u001b[0m  \u001b[0;34m=\u001b[0m \u001b[0mw\u001b[0m\u001b[0;34m.\u001b[0m\u001b[0mdot\u001b[0m\u001b[0;34m(\u001b[0m\u001b[0mX_train\u001b[0m\u001b[0;34m.\u001b[0m\u001b[0mT\u001b[0m\u001b[0;34m)\u001b[0m\u001b[0;34m.\u001b[0m\u001b[0mT\u001b[0m\u001b[0;34m\u001b[0m\u001b[0m\n\u001b[0m\u001b[1;32m     55\u001b[0m             \u001b[0me\u001b[0m \u001b[0;34m=\u001b[0m \u001b[0mtime\u001b[0m\u001b[0;34m.\u001b[0m\u001b[0mtime\u001b[0m\u001b[0;34m(\u001b[0m\u001b[0;34m)\u001b[0m\u001b[0;34m\u001b[0m\u001b[0m\n\u001b[1;32m     56\u001b[0m             \u001b[0mprint\u001b[0m\u001b[0;34m(\u001b[0m\u001b[0;34m\"step 1 took {0}\"\u001b[0m\u001b[0;34m.\u001b[0m\u001b[0mformat\u001b[0m\u001b[0;34m(\u001b[0m\u001b[0me\u001b[0m \u001b[0;34m-\u001b[0m \u001b[0mt\u001b[0m\u001b[0;34m)\u001b[0m\u001b[0;34m)\u001b[0m\u001b[0;34m\u001b[0m\u001b[0m\n",
      "\u001b[0;31mValueError\u001b[0m: shapes (10,4096) and (784,60000) not aligned: 4096 (dim 1) != 784 (dim 0)"
     ]
    }
   ],
   "source": [
    "softmax.softmax_gn(X_train=X_train, y_train=y_train, X_test=X_test, y_test=y_test, XtX=XtX)"
   ]
  },
  {
   "cell_type": "code",
   "execution_count": 44,
   "metadata": {
    "collapsed": false
   },
   "outputs": [
    {
     "name": "stdout",
     "output_type": "stream",
     "text": [
      "Epoch: 0, Block: 0, Train Accuracy: 0.7666666666666667, Test Accuracy: 0.7794\n",
      "Epoch: 0, Block: 1, Train Accuracy: 0.82135, Test Accuracy: 0.8321\n",
      "Epoch: 0, Block: 2, Train Accuracy: 0.8321666666666667, Test Accuracy: 0.844\n",
      "Epoch: 0, Block: 3, Train Accuracy: 0.8400666666666666, Test Accuracy: 0.8489\n",
      "Epoch: 0, Block: 4, Train Accuracy: 0.8447833333333333, Test Accuracy: 0.8568\n",
      "Epoch: 0, Block: 5, Train Accuracy: 0.8493333333333334, Test Accuracy: 0.8583\n",
      "Epoch: 0, Block: 6, Train Accuracy: 0.8474166666666667, Test Accuracy: 0.8583\n",
      "Epoch: 1, Block: 0, Train Accuracy: 0.8494333333333334, Test Accuracy: 0.8597\n",
      "Epoch: 1, Block: 1, Train Accuracy: 0.8532, Test Accuracy: 0.8628\n",
      "Epoch: 1, Block: 2, Train Accuracy: 0.85545, Test Accuracy: 0.8651\n",
      "Epoch: 1, Block: 3, Train Accuracy: 0.85765, Test Accuracy: 0.8691\n",
      "Epoch: 1, Block: 4, Train Accuracy: 0.85995, Test Accuracy: 0.8711\n",
      "Epoch: 1, Block: 5, Train Accuracy: 0.8621833333333333, Test Accuracy: 0.8725\n",
      "Epoch: 1, Block: 6, Train Accuracy: 0.86245, Test Accuracy: 0.8726\n",
      "Epoch: 2, Block: 0, Train Accuracy: 0.8645666666666667, Test Accuracy: 0.874\n",
      "Epoch: 2, Block: 1, Train Accuracy: 0.8659666666666667, Test Accuracy: 0.8754\n",
      "Epoch: 2, Block: 2, Train Accuracy: 0.8672666666666666, Test Accuracy: 0.8763\n",
      "Epoch: 2, Block: 3, Train Accuracy: 0.8687, Test Accuracy: 0.8773\n",
      "Epoch: 2, Block: 4, Train Accuracy: 0.8698833333333333, Test Accuracy: 0.8781\n",
      "Epoch: 2, Block: 5, Train Accuracy: 0.8707833333333334, Test Accuracy: 0.8803\n",
      "Epoch: 2, Block: 6, Train Accuracy: 0.8711, Test Accuracy: 0.8803\n",
      "Epoch: 3, Block: 0, Train Accuracy: 0.8722166666666666, Test Accuracy: 0.8813\n",
      "Epoch: 3, Block: 1, Train Accuracy: 0.8730166666666667, Test Accuracy: 0.8821\n",
      "Epoch: 3, Block: 2, Train Accuracy: 0.8736166666666667, Test Accuracy: 0.883\n",
      "Epoch: 3, Block: 3, Train Accuracy: 0.8746833333333334, Test Accuracy: 0.8837\n",
      "Epoch: 3, Block: 4, Train Accuracy: 0.8755833333333334, Test Accuracy: 0.8847\n",
      "Epoch: 3, Block: 5, Train Accuracy: 0.8760833333333333, Test Accuracy: 0.8854\n",
      "Epoch: 3, Block: 6, Train Accuracy: 0.87605, Test Accuracy: 0.8855\n",
      "Epoch: 4, Block: 0, Train Accuracy: 0.8767666666666667, Test Accuracy: 0.8864\n",
      "Epoch: 4, Block: 1, Train Accuracy: 0.8771166666666667, Test Accuracy: 0.8864\n",
      "Epoch: 4, Block: 2, Train Accuracy: 0.8779166666666667, Test Accuracy: 0.887\n",
      "Epoch: 4, Block: 3, Train Accuracy: 0.8784666666666666, Test Accuracy: 0.888\n",
      "Epoch: 4, Block: 4, Train Accuracy: 0.8791, Test Accuracy: 0.8888\n",
      "Epoch: 4, Block: 5, Train Accuracy: 0.8799833333333333, Test Accuracy: 0.8888\n",
      "Epoch: 4, Block: 6, Train Accuracy: 0.8800666666666667, Test Accuracy: 0.8886\n",
      "Epoch: 5, Block: 0, Train Accuracy: 0.88075, Test Accuracy: 0.8889\n",
      "Epoch: 5, Block: 1, Train Accuracy: 0.88145, Test Accuracy: 0.8892\n",
      "Epoch: 5, Block: 2, Train Accuracy: 0.8821166666666667, Test Accuracy: 0.8897\n",
      "Epoch: 5, Block: 3, Train Accuracy: 0.8824166666666666, Test Accuracy: 0.8905\n",
      "Epoch: 5, Block: 4, Train Accuracy: 0.88305, Test Accuracy: 0.8909\n",
      "Epoch: 5, Block: 5, Train Accuracy: 0.8832333333333333, Test Accuracy: 0.8914\n",
      "Epoch: 5, Block: 6, Train Accuracy: 0.8833, Test Accuracy: 0.8915\n",
      "Epoch: 6, Block: 0, Train Accuracy: 0.8835166666666666, Test Accuracy: 0.8921\n",
      "Epoch: 6, Block: 1, Train Accuracy: 0.8838166666666667, Test Accuracy: 0.8923\n",
      "Epoch: 6, Block: 2, Train Accuracy: 0.884, Test Accuracy: 0.8922\n",
      "Epoch: 6, Block: 3, Train Accuracy: 0.8843833333333333, Test Accuracy: 0.8928\n",
      "Epoch: 6, Block: 4, Train Accuracy: 0.8848666666666667, Test Accuracy: 0.8934\n",
      "Epoch: 6, Block: 5, Train Accuracy: 0.8851, Test Accuracy: 0.8934\n",
      "Epoch: 6, Block: 6, Train Accuracy: 0.8852333333333333, Test Accuracy: 0.8938\n",
      "Epoch: 7, Block: 0, Train Accuracy: 0.8854333333333333, Test Accuracy: 0.8941\n",
      "Epoch: 7, Block: 1, Train Accuracy: 0.8859, Test Accuracy: 0.8944\n",
      "Epoch: 7, Block: 2, Train Accuracy: 0.8861166666666667, Test Accuracy: 0.8947\n",
      "Epoch: 7, Block: 3, Train Accuracy: 0.88625, Test Accuracy: 0.8949\n",
      "Epoch: 7, Block: 4, Train Accuracy: 0.8866166666666667, Test Accuracy: 0.8949\n"
     ]
    },
    {
     "ename": "KeyboardInterrupt",
     "evalue": "",
     "output_type": "error",
     "traceback": [
      "\u001b[0;31m---------------------------------------------------------------------------\u001b[0m",
      "\u001b[0;31mKeyboardInterrupt\u001b[0m                         Traceback (most recent call last)",
      "\u001b[0;32m<ipython-input-44-e1009093dd3a>\u001b[0m in \u001b[0;36m<module>\u001b[0;34m()\u001b[0m\n\u001b[0;32m----> 1\u001b[0;31m \u001b[0msoftmax\u001b[0m\u001b[0;34m.\u001b[0m\u001b[0msoftmax_block_gn\u001b[0m\u001b[0;34m(\u001b[0m\u001b[0mX_train\u001b[0m\u001b[0;34m=\u001b[0m\u001b[0mX_train\u001b[0m\u001b[0;34m,\u001b[0m \u001b[0my_train\u001b[0m\u001b[0;34m=\u001b[0m\u001b[0my_train\u001b[0m\u001b[0;34m,\u001b[0m \u001b[0mX_test\u001b[0m\u001b[0;34m=\u001b[0m\u001b[0mX_test\u001b[0m\u001b[0;34m,\u001b[0m \u001b[0my_test\u001b[0m\u001b[0;34m=\u001b[0m\u001b[0my_test\u001b[0m\u001b[0;34m,\u001b[0m \u001b[0mblock_size\u001b[0m\u001b[0;34m=\u001b[0m\u001b[0;36m128\u001b[0m\u001b[0;34m)\u001b[0m\u001b[0;34m\u001b[0m\u001b[0m\n\u001b[0m",
      "\u001b[0;32m/data/vaishaal/pictureweb/conv/softmax.py\u001b[0m in \u001b[0;36msoftmax_block_gn\u001b[0;34m(X_train, y_train, X_test, y_test, multiplier, numiter, block_size, epochs, verbose)\u001b[0m\n\u001b[1;32m     95\u001b[0m                         \u001b[0mw_full\u001b[0m \u001b[0;34m=\u001b[0m \u001b[0mnp\u001b[0m\u001b[0;34m.\u001b[0m\u001b[0mzeros\u001b[0m\u001b[0;34m(\u001b[0m\u001b[0;34m(\u001b[0m\u001b[0;36m10\u001b[0m\u001b[0;34m,\u001b[0m \u001b[0mX_train\u001b[0m\u001b[0;34m.\u001b[0m\u001b[0mshape\u001b[0m\u001b[0;34m[\u001b[0m\u001b[0;36m1\u001b[0m\u001b[0;34m]\u001b[0m\u001b[0;34m)\u001b[0m\u001b[0;34m)\u001b[0m\u001b[0;34m\u001b[0m\u001b[0m\n\u001b[1;32m     96\u001b[0m                         \u001b[0;32mfor\u001b[0m \u001b[0mk\u001b[0m \u001b[0;32min\u001b[0m \u001b[0mrange\u001b[0m\u001b[0;34m(\u001b[0m\u001b[0mnumiter\u001b[0m\u001b[0;34m)\u001b[0m\u001b[0;34m:\u001b[0m\u001b[0;34m\u001b[0m\u001b[0m\n\u001b[0;32m---> 97\u001b[0;31m                             \u001b[0mtrain_preds\u001b[0m  \u001b[0;34m=\u001b[0m \u001b[0mw\u001b[0m\u001b[0;34m.\u001b[0m\u001b[0mdot\u001b[0m\u001b[0;34m(\u001b[0m\u001b[0mX_train\u001b[0m\u001b[0;34m.\u001b[0m\u001b[0mT\u001b[0m\u001b[0;34m)\u001b[0m\u001b[0;34m.\u001b[0m\u001b[0mT\u001b[0m \u001b[0;31m# datapoints x 10\u001b[0m\u001b[0;34m\u001b[0m\u001b[0m\n\u001b[0m\u001b[1;32m     98\u001b[0m                             \u001b[0mtrain_preds\u001b[0m \u001b[0;34m-=\u001b[0m \u001b[0mnp\u001b[0m\u001b[0;34m.\u001b[0m\u001b[0mmax\u001b[0m\u001b[0;34m(\u001b[0m\u001b[0mtrain_preds\u001b[0m\u001b[0;34m,\u001b[0m \u001b[0maxis\u001b[0m\u001b[0;34m=\u001b[0m\u001b[0;36m1\u001b[0m\u001b[0;34m)\u001b[0m\u001b[0;34m[\u001b[0m\u001b[0;34m:\u001b[0m\u001b[0;34m,\u001b[0m\u001b[0mnp\u001b[0m\u001b[0;34m.\u001b[0m\u001b[0mnewaxis\u001b[0m\u001b[0;34m]\u001b[0m\u001b[0;34m\u001b[0m\u001b[0m\n\u001b[1;32m     99\u001b[0m                             \u001b[0mtrain_preds\u001b[0m \u001b[0;34m=\u001b[0m \u001b[0mfast_exp\u001b[0m\u001b[0;34m(\u001b[0m\u001b[0mtrain_preds\u001b[0m\u001b[0;34m)\u001b[0m\u001b[0;34m\u001b[0m\u001b[0m\n",
      "\u001b[0;31mKeyboardInterrupt\u001b[0m: "
     ]
    }
   ],
   "source": [
    "softmax.softmax_block_gn(X_train=X_train, y_train=y_train, X_test=X_test, y_test=y_test, block_size=128)"
   ]
  },
  {
   "cell_type": "code",
   "execution_count": 54,
   "metadata": {
    "collapsed": false
   },
   "outputs": [],
   "source": [
    "X = np.random.randn(4096, 4096)"
   ]
  },
  {
   "cell_type": "code",
   "execution_count": 55,
   "metadata": {
    "collapsed": true
   },
   "outputs": [],
   "source": [
    "XtX = X.T.dot(X)"
   ]
  },
  {
   "cell_type": "code",
   "execution_count": 57,
   "metadata": {
    "collapsed": false
   },
   "outputs": [],
   "source": [
    "y = np.random.randn(4096, 1000)"
   ]
  },
  {
   "cell_type": "code",
   "execution_count": 60,
   "metadata": {
    "collapsed": false
   },
   "outputs": [
    {
     "name": "stdout",
     "output_type": "stream",
     "text": [
      "CPU times: user 1min 2s, sys: 6.01 s, total: 1min 8s\n",
      "Wall time: 2.22 s\n"
     ]
    },
    {
     "data": {
      "text/plain": [
       "array([[ -82.50756018,   76.89605357, -146.12747833, ...,   96.24587526,\n",
       "         -52.8413633 , -103.69467028],\n",
       "       [  33.13142109,  -32.57536616,   55.24759474, ...,  -36.12241099,\n",
       "          26.62446246,   40.75106161],\n",
       "       [  38.31742441,  -23.98830836,   38.1759202 , ...,  -24.60839624,\n",
       "          33.42701443,   40.0505936 ],\n",
       "       ..., \n",
       "       [  56.99421481,  -58.76294058,  105.15650052, ...,  -67.94496521,\n",
       "          40.969875  ,   76.59204112],\n",
       "       [ -83.79581345,   92.41329068, -163.47737552, ...,  105.29414666,\n",
       "         -67.02343216, -119.41553886],\n",
       "       [  49.99397321,  -39.52898049,   55.76201047, ...,  -40.32307518,\n",
       "          56.56062931,   54.65402441]])"
      ]
     },
     "execution_count": 60,
     "metadata": {},
     "output_type": "execute_result"
    }
   ],
   "source": [
    "%time scipy.linalg.solve(XtX, y)"
   ]
  },
  {
   "cell_type": "code",
   "execution_count": null,
   "metadata": {
    "collapsed": true
   },
   "outputs": [],
   "source": [
    "softmax_gn_old"
   ]
  }
 ],
 "metadata": {
  "kernelspec": {
   "display_name": "Python 3",
   "language": "python",
   "name": "python3"
  },
  "language_info": {
   "codemirror_mode": {
    "name": "ipython",
    "version": 3
   },
   "file_extension": ".py",
   "mimetype": "text/x-python",
   "name": "python",
   "nbconvert_exporter": "python",
   "pygments_lexer": "ipython3",
   "version": "3.6.0"
  }
 },
 "nbformat": 4,
 "nbformat_minor": 2
}
