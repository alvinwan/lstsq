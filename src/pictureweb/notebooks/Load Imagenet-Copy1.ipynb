{
 "cells": [
  {
   "cell_type": "code",
   "execution_count": 75,
   "metadata": {
    "collapsed": false
   },
   "outputs": [
    {
     "name": "stdout",
     "output_type": "stream",
     "text": [
      "Populating the interactive namespace from numpy and matplotlib\n"
     ]
    },
    {
     "name": "stderr",
     "output_type": "stream",
     "text": [
      "/data/vaishaal/anaconda3/lib/python3.6/site-packages/IPython/core/magics/pylab.py:161: UserWarning: pylab import has clobbered these variables: ['imread']\n",
      "`%matplotlib` prevents importing * from pylab and numpy\n",
      "  \"\\n`%matplotlib` prevents importing * from pylab and numpy\"\n"
     ]
    }
   ],
   "source": [
    "import sys\n",
    "sys.path.append(\"..\")\n",
    "import imagenet_load\n",
    "from importlib import reload\n",
    "reload(imagenet_load)\n",
    "import tarfile\n",
    "import numpy as np\n",
    "import imread\n",
    "%pylab inline\n",
    "import imread\n",
    "from imread import imread_from_blob\n",
    "from imagenet_load import orient\n",
    "import multigpu\n",
    "reload(multigpu)\n",
    "import filter_gen\n",
    "import conv\n",
    "reload(conv)\n",
    "import gc\n",
    "import logging\n",
    "import dill\n",
    "from scipy.misc import imresize\n",
    "import opt"
   ]
  },
  {
   "cell_type": "code",
   "execution_count": 49,
   "metadata": {
    "collapsed": false
   },
   "outputs": [
    {
     "name": "stderr",
     "output_type": "stream",
     "text": [
      "There exists a matrix at /dev/shm/imagenet_train\n"
     ]
    },
    {
     "name": "stdout",
     "output_type": "stream",
     "text": [
      "CPU times: user 232 ms, sys: 348 ms, total: 580 ms\n",
      "Wall time: 14.4 s\n"
     ]
    },
    {
     "name": "stderr",
     "output_type": "stream",
     "text": [
      "There exists a matrix at /dev/shm/imagenet_val\n"
     ]
    },
    {
     "name": "stdout",
     "output_type": "stream",
     "text": [
      "CPU times: user 208 ms, sys: 300 ms, total: 508 ms\n",
      "Wall time: 903 ms\n"
     ]
    }
   ],
   "source": [
    "%time loader = imagenet_load.ImagenetLoader(1000, classes_path=\"../classes\", mmap_loc=\"/dev/shm/imagenet_train\", n_procs=32, preprocess=preprocess, image_shape=(3, 64, 64))\n",
    "\n",
    "%time loader_val = imagenet_load.ImagenetLoader(1000, classes_path=\"../classes\", tarball_func=imagenet_load.VAL_LOADER, mmap_loc=\"/dev/shm/imagenet_val\", n_procs=32, preprocess=preprocess, image_shape=(3, 64, 64))"
   ]
  },
  {
   "cell_type": "code",
   "execution_count": 39,
   "metadata": {
    "collapsed": false
   },
   "outputs": [],
   "source": [
    "def preprocess(im):\n",
    "    return imresize(im, size=(64,64,3))"
   ]
  },
  {
   "cell_type": "code",
   "execution_count": null,
   "metadata": {
    "collapsed": false
   },
   "outputs": [
    {
     "name": "stdout",
     "output_type": "stream",
     "text": [
      "Loaded 0 classes into mem\n",
      "Loaded 100 classes into mem\n",
      "Loaded 200 classes into mem\n",
      "Loaded 300 classes into mem\n"
     ]
    }
   ],
   "source": [
    "%time X_train = loader.load_all()\n",
    "%time X_val = loader_val.load_all()"
   ]
  },
  {
   "cell_type": "code",
   "execution_count": 73,
   "metadata": {
    "collapsed": false
   },
   "outputs": [],
   "source": [
    "X_train = X_train.reshape(X_train.shape[0], -1).astype('float64')\n",
    "X_val = X_val.reshape(X_val.shape[0], -1).astype('float64')"
   ]
  },
  {
   "cell_type": "code",
   "execution_count": null,
   "metadata": {
    "collapsed": true
   },
   "outputs": [],
   "source": [
    "Y = np.eye(1000)[loader.Y.astype('int')]"
   ]
  },
  {
   "cell_type": "code",
   "execution_count": null,
   "metadata": {
    "collapsed": false
   },
   "outputs": [],
   "source": [
    "%time XtX = X_train.T.dot(X_train)\n",
    "%time Xty = X_train.T.dot(Y)"
   ]
  },
  {
   "cell_type": "code",
   "execution_count": null,
   "metadata": {
    "collapsed": true
   },
   "outputs": [],
   "source": [
    "def run_experiment_linear_64_64"
   ]
  }
 ],
 "metadata": {
  "kernelspec": {
   "display_name": "Python 3",
   "language": "python",
   "name": "python3"
  },
  "language_info": {
   "codemirror_mode": {
    "name": "ipython",
    "version": 3
   },
   "file_extension": ".py",
   "mimetype": "text/x-python",
   "name": "python",
   "nbconvert_exporter": "python",
   "pygments_lexer": "ipython3",
   "version": "3.6.0"
  }
 },
 "nbformat": 4,
 "nbformat_minor": 2
}
