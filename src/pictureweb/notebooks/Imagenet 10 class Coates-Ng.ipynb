{
 "cells": [
  {
   "cell_type": "code",
   "execution_count": 1,
   "metadata": {
    "collapsed": false
   },
   "outputs": [
    {
     "name": "stdout",
     "output_type": "stream",
     "text": [
      "Populating the interactive namespace from numpy and matplotlib\n",
      "<module 'loaders.imagenet_load' from '../loaders/imagenet_load.py'>\n"
     ]
    }
   ],
   "source": [
    "%pylab inline\n",
    "import sys\n",
    "sys.path.append(\"..\")\n",
    "from loaders import imagenet_load\n",
    "from importlib import reload\n",
    "print(imagenet_load)\n",
    "from conv import multigpu\n",
    "from loaders.imagenet_load import orient\n",
    "import conv\n",
    "from conv import filter_gen, multigpu\n",
    "from opt import ls\n",
    "import numpy as np\n",
    "from utils import misc\n",
    "from utils import linalg\n",
    "from utils import exputil\n",
    "from numba import jit\n",
    "import math\n",
    "import concurrent.futures as fs\n",
    "from pylab import imshow\n",
    "import copy\n",
    "from skimage.filters import gabor_kernel\n",
    "from skimage.transform import rescale\n",
    "from sklearn import metrics"
   ]
  },
  {
   "cell_type": "code",
   "execution_count": 2,
   "metadata": {
    "collapsed": true
   },
   "outputs": [],
   "source": [
    "NUM_CLASSES = 10"
   ]
  },
  {
   "cell_type": "code",
   "execution_count": 3,
   "metadata": {
    "collapsed": true
   },
   "outputs": [],
   "source": [
    "\n",
    "def class_to_tarball_name_train(classname):\n",
    "    classname = classname.strip()\n",
    "    return \"/home/ubuntu/imagenet-train/{0}-scaled.tar\".format(classname)\n",
    "\n",
    "def class_to_tarball_name_val(classname):\n",
    "    classname = classname.strip()\n",
    "    return \"/home/ubuntu/imagenet-validation/val-{0}-scaled.tar\".format(classname)\n",
    "\n"
   ]
  },
  {
   "cell_type": "code",
   "execution_count": 978,
   "metadata": {
    "collapsed": false
   },
   "outputs": [],
   "source": [
    "def normalize_images(images, mean_rgb=mean_rgb, min_divisor=1e-8, mode=\"CHW\"):\n",
    "    if (mode == \"HWC\"):\n",
    "        images = images.transpose(0,3,1,2)\n",
    "    images /= 255.0\n",
    "\n",
    "    orig_shape = images.shape\n",
    "    images = images.reshape(images.shape[0], -1)\n",
    "    n_images = images.shape[0]\n",
    "    # Zero mean every feature\n",
    "    images = images - np.mean(images, axis=1)[:,np.newaxis]\n",
    "    # Normalize\n",
    "    image_norms = np.linalg.norm(images, axis=1)/55.0\n",
    "    # Get rid of really small norms\n",
    "    image_norms[np.where(image_norms < min_divisor)] = 1\n",
    "    # Make features unit norm\n",
    "    images_normalized = images/image_norms[:,np.newaxis]\n",
    "    images_normalized = images_normalized.reshape(orig_shape)\n",
    "    if (mode == \"HWC\"):\n",
    "        images_normalized = images_normalized.transpose(0,2,3,1)\n",
    "    return images_normalized"
   ]
  },
  {
   "cell_type": "code",
   "execution_count": 979,
   "metadata": {
    "collapsed": false
   },
   "outputs": [
    {
     "name": "stderr",
     "output_type": "stream",
     "text": [
      "There exists a matrix at /dev/shm/imagenet_train\n"
     ]
    },
    {
     "name": "stdout",
     "output_type": "stream",
     "text": [
      "CPU times: user 24 ms, sys: 1.19 s, total: 1.22 s\n",
      "Wall time: 1.46 s\n"
     ]
    },
    {
     "name": "stderr",
     "output_type": "stream",
     "text": [
      "There exists a matrix at /dev/shm/imagenet_val\n"
     ]
    },
    {
     "name": "stdout",
     "output_type": "stream",
     "text": [
      "CPU times: user 28 ms, sys: 860 ms, total: 888 ms\n",
      "Wall time: 1.04 s\n",
      "Loaded 0 classes into mem\n",
      "CPU times: user 36 ms, sys: 868 ms, total: 904 ms\n",
      "Wall time: 3.75 s\n",
      "Loaded 0 classes into mem\n",
      "CPU times: user 20 ms, sys: 884 ms, total: 904 ms\n",
      "Wall time: 1.14 s\n"
     ]
    }
   ],
   "source": [
    "%time loader_train = imagenet_load.ImagenetLoader(NUM_CLASSES, classes_path=\"../loaders/classes\", tarball_func=class_to_tarball_name_train, mmap_loc=\"/dev/shm/imagenet_train\", n_procs=16)\n",
    "%time loader_val = imagenet_load.ImagenetLoader(NUM_CLASSES, classes_path=\"../loaders/classes\", tarball_func=class_to_tarball_name_val, mmap_loc=\"/dev/shm/imagenet_val\", n_procs=16)\n",
    "\n",
    "%time X_train = loader_train.load_all()\n",
    "%time X_test = loader_val.load_all()"
   ]
  },
  {
   "cell_type": "code",
   "execution_count": 980,
   "metadata": {
    "collapsed": true
   },
   "outputs": [],
   "source": [
    "y_train = loader_train.Y\n",
    "y_test = loader_val.Y"
   ]
  },
  {
   "cell_type": "code",
   "execution_count": 981,
   "metadata": {
    "collapsed": true
   },
   "outputs": [],
   "source": [
    "mean_rgb = np.mean(X_train, axis=(0,2,3))"
   ]
  },
  {
   "cell_type": "code",
   "execution_count": 982,
   "metadata": {
    "collapsed": false
   },
   "outputs": [],
   "source": [
    "def normalize_patches(patches, min_divisor=1e-8, zca_bias=0.1, mean_rgb=np.array([0,0,0])):\n",
    "    patches /= 255.0\n",
    "    n_patches = patches.shape[0]\n",
    "    orig_shape = patches.shape\n",
    "    \n",
    "    patches = patches.reshape(patches.shape[0], -1)\n",
    "    # Zero mean every feature\n",
    "    patches = patches - np.mean(patches, axis=1)[:,np.newaxis]\n",
    "\n",
    "    # Normalize\n",
    "    patch_norms = np.linalg.norm(patches, axis=1)\n",
    "\n",
    "    # Get rid of really small norms\n",
    "    patch_norms[np.where(patch_norms < min_divisor)] = 1\n",
    "\n",
    "    # Make features unit norm\n",
    "    patches = patches/patch_norms[:,np.newaxis]\n",
    "\n",
    "    data_means = np.mean(patches, axis=1)\n",
    "\n",
    "    patchesCovMat = 1.0/n_patches * patches.T.dot(patches)\n",
    "\n",
    "    (E,V) = np.linalg.eig(patchesCovMat)\n",
    "\n",
    "    E += zca_bias\n",
    "    sqrt_zca_eigs = np.sqrt(E)\n",
    "    \n",
    "    inv_sqrt_zca_eigs = np.diag(np.power(sqrt_zca_eigs, -1))\n",
    "    \n",
    "    global_ZCA = V.dot(inv_sqrt_zca_eigs).dot(V.T)\n",
    "    \n",
    "    patches_normalized = (patches).dot(global_ZCA).dot(global_ZCA.T)\n",
    "\n",
    "    return patches_normalized.reshape(orig_shape)\n",
    "\n",
    "\n",
    "@jit(nopython=True, nogil=True, cache=True)\n",
    "def __grab_patches(images, patch_size=6, tot_patches=1e6, seed=0):\n",
    "    np.random.seed(seed)\n",
    "    tot_patches = int(tot_patches)\n",
    "    im_idxs = np.random.choice(images.shape[0], tot_patches)\n",
    "    idxs_x = np.random.choice(images.shape[3] - patch_size - 1, tot_patches)\n",
    "    idxs_y = np.random.choice(images.shape[2] - patch_size - 1, tot_patches)\n",
    "    idxs_x += int(math.ceil(patch_size/2))\n",
    "    idxs_y += int(math.ceil(patch_size/2))\n",
    "    patches = np.zeros((tot_patches, images.shape[1], patch_size, patch_size), dtype=np.float32)\n",
    "    for i, (im_idx, idx_x, idx_y) in enumerate(zip(im_idxs, idxs_x, idxs_y)):\n",
    "        out_patch = patches[i, :, :, :]\n",
    "        grab_patch_from_idx(images[im_idx], idx_x, idx_y, patch_size, out_patch)\n",
    "    return patches\n",
    "    \n",
    "@jit(nopython=True, nogil=True)\n",
    "def grab_patch_from_idx(im, idx_x, idx_y, patch_size, outpatch):\n",
    "    sidx_x = int(idx_x - patch_size/2)\n",
    "    eidx_x = int(idx_x + patch_size/2)\n",
    "    sidx_y = int(idx_y - patch_size/2)\n",
    "    eidx_y = int(idx_y + patch_size/2)\n",
    "    outpatch[:,:,:] = im[:, sidx_x:eidx_x, sidx_y:eidx_y,].astype(np.float32)\n",
    "    return outpatch\n",
    "\n",
    "def grab_patches(images, patch_size=6, tot_patches=5e5, seed=0, max_threads=50):\n",
    "    idxs = misc.chunk_idxs(images.shape[0], max_threads)\n",
    "    tot_patches = int(tot_patches)\n",
    "    patches_per_thread = int(tot_patches/max_threads)\n",
    "    with fs.ThreadPoolExecutor(max_workers=max_threads) as executor:\n",
    "        futures = []\n",
    "        for i,(sidx, eidx) in enumerate(idxs):\n",
    "            futures.append(executor.submit(__grab_patches, images[sidx:eidx, :], \n",
    "                                           patch_size=patch_size,\n",
    "                                           tot_patches=patches_per_thread,\n",
    "                                           seed=seed+i\n",
    "                                          ))\n",
    "            \n",
    "        results = np.vstack(list(map(lambda x: x.result(), futures)))\n",
    "    return results \n"
   ]
  },
  {
   "cell_type": "code",
   "execution_count": 983,
   "metadata": {
    "collapsed": false
   },
   "outputs": [],
   "source": [
    "subsample = np.random.choice(X_train.shape[0], 13000, replace=False)\n",
    "X_subsampled = X_train[subsample].astype('float32')"
   ]
  },
  {
   "cell_type": "code",
   "execution_count": 984,
   "metadata": {
    "collapsed": false
   },
   "outputs": [
    {
     "name": "stdout",
     "output_type": "stream",
     "text": [
      "CPU times: user 8.96 s, sys: 6.73 s, total: 15.7 s\n",
      "Wall time: 15.7 s\n"
     ]
    }
   ],
   "source": [
    "%time normalized_subsample = normalize_images(X_subsampled, mean_rgb=mean_rgb)"
   ]
  },
  {
   "cell_type": "code",
   "execution_count": 985,
   "metadata": {
    "collapsed": false
   },
   "outputs": [
    {
     "name": "stdout",
     "output_type": "stream",
     "text": [
      "CPU times: user 1.4 s, sys: 1min 49s, total: 1min 51s\n",
      "Wall time: 3.04 s\n"
     ]
    }
   ],
   "source": [
    "patch_size = 12\n",
    "%time patches = grab_patches(X_subsampled, patch_size=patch_size)"
   ]
  },
  {
   "cell_type": "code",
   "execution_count": 986,
   "metadata": {
    "collapsed": false
   },
   "outputs": [],
   "source": [
    "patches_normalized = normalize_patches(patches, mean_rgb=mean_rgb)"
   ]
  },
  {
   "cell_type": "code",
   "execution_count": 1113,
   "metadata": {
    "collapsed": false
   },
   "outputs": [],
   "source": [
    "reload(filter_gen)\n",
    "patches_mmap_data = np.memmap(\"/dev/shm/imagenet_patches\", shape=patches.shape, dtype=patches.dtype, mode=\"w+\")\n",
    "np.copyto(patches_mmap_data, patches)\n",
    "patches_mmap = multigpu.MmapArray(patches_mmap_data, mode=\"r+\")\n",
    "\n",
    "patches_normalized_mmap_data = np.memmap(\"/dev/shm/imagenet_patches_normalized\", shape=patches.shape, dtype=patches.dtype, mode=\"w+\")\n",
    "np.copyto(patches_normalized_mmap_data, patches_normalized)\n",
    "patches_normalized_mmap = multigpu.MmapArray(patches_normalized_mmap_data, mode=\"r+\")\n",
    "\n",
    "fg_patches = filter_gen.make_empirical_filter_gen(patches_mmap, seed=0)\n",
    "fg_patches_normalized = filter_gen.make_empirical_filter_gen(patches_normalized_mmap, seed=0)"
   ]
  },
  {
   "cell_type": "code",
   "execution_count": 1115,
   "metadata": {
    "collapsed": false
   },
   "outputs": [],
   "source": [
    "gpu_handler = multigpu.MultiGpuHandler(16)\n",
    "gpu_handler.kill_all_gpu_processes()\n",
    "gpu_handler.start_and_wait_for_gpu_init()"
   ]
  },
  {
   "cell_type": "code",
   "execution_count": 1116,
   "metadata": {
    "collapsed": false
   },
   "outputs": [],
   "source": [
    "\n",
    "conv_args_template = \\\n",
    "{ \n",
    "  \"num_feature_batches\":16,\n",
    "  \"data_batch_size\":8,\n",
    "  \"feature_batch_size\":1024,\n",
    "  \"pool_size\":70,\n",
    "  \"pool_type\":\"avg\",\n",
    "  \"pool_stride\":45,\n",
    "  \"patch_size\":patch_size,\n",
    "  \"pad\":0,\n",
    "  \"bias\": 1.0,\n",
    "  \"conv_stride\":2,\n",
    "  \"preprocess_batch\": normalize_images\n",
    "}\n",
    "\n",
    "X_train_mmap = multigpu.MmapArray(X_train, mode=\"r+\")\n",
    "X_test_mmap = multigpu.MmapArray(X_test, mode=\"r+\")\n",
    "\n",
    "mmap_out_train_shape = conv.conv_compute_output_shape(data=X_train_mmap, **conv_args_template)\n",
    "X_train_lift = np.memmap(\"/dev/shm/X_train_lift\", mode=\"w+\", dtype=\"float32\", shape=mmap_out_train_shape)\n",
    "\n",
    "mmap_out_test_shape = conv.conv_compute_output_shape(data=X_test_mmap, **conv_args_template)\n",
    "X_test_lift = np.memmap(\"/dev/shm/X_test_lift\", mode=\"w+\", dtype=\"float32\", shape=mmap_out_test_shape)"
   ]
  },
  {
   "cell_type": "code",
   "execution_count": 1117,
   "metadata": {
    "collapsed": false
   },
   "outputs": [
    {
     "data": {
      "text/plain": [
       "(13000, 32768, 3, 3)"
      ]
     },
     "execution_count": 1117,
     "metadata": {},
     "output_type": "execute_result"
    }
   ],
   "source": [
    "mmap_out_train_shape"
   ]
  },
  {
   "cell_type": "code",
   "execution_count": 1118,
   "metadata": {
    "collapsed": false
   },
   "outputs": [],
   "source": [
    "fg_patches = filter_gen.make_empirical_filter_gen(patches_normalized_mmap, MIN_VAR_TOL=0, seed=0)"
   ]
  },
  {
   "cell_type": "code",
   "execution_count": 1119,
   "metadata": {
    "collapsed": false
   },
   "outputs": [],
   "source": [
    "im = fg_patches(1024)"
   ]
  },
  {
   "cell_type": "code",
   "execution_count": 1120,
   "metadata": {
    "collapsed": false
   },
   "outputs": [
    {
     "data": {
      "text/plain": [
       "<matplotlib.image.AxesImage at 0x7f15321b1f60>"
      ]
     },
     "execution_count": 1120,
     "metadata": {},
     "output_type": "execute_result"
    },
    {
     "data": {
      "image/png": "[encoded data removed]",
      "text/plain": [
       "<matplotlib.figure.Figure at 0x7f15321cf4e0>"
      ]
     },
     "metadata": {},
     "output_type": "display_data"
    }
   ],
   "source": [
    "imshow(orient(im[4]))"
   ]
  },
  {
   "cell_type": "code",
   "execution_count": 1121,
   "metadata": {
    "collapsed": false
   },
   "outputs": [],
   "source": [
    "X_train_lift_mmap = multigpu.MmapArray(X_train_lift, mode=\"r+\")\n",
    "X_test_lift_mmap = multigpu.MmapArray(X_test_lift, mode=\"r+\")\n"
   ]
  },
  {
   "cell_type": "code",
   "execution_count": 1122,
   "metadata": {
    "collapsed": false
   },
   "outputs": [],
   "source": [
    "train_chunk_idxs = misc.chunk_idxs(X_train.shape[0], 16)\n",
    "test_chunk_idxs = misc.chunk_idxs(X_test.shape[0], 16)"
   ]
  },
  {
   "cell_type": "code",
   "execution_count": 1123,
   "metadata": {
    "collapsed": false
   },
   "outputs": [
    {
     "name": "stdout",
     "output_type": "stream",
     "text": [
      "CPU times: user 12 ms, sys: 4 ms, total: 16 ms\n",
      "Wall time: 5min 2s\n",
      "CPU times: user 4 ms, sys: 0 ns, total: 4 ms\n",
      "Wall time: 736 µs\n",
      "CPU times: user 4 ms, sys: 0 ns, total: 4 ms\n",
      "Wall time: 42.8 s\n",
      "CPU times: user 0 ns, sys: 0 ns, total: 0 ns\n",
      "Wall time: 621 µs\n",
      "CPU times: user 0 ns, sys: 0 ns, total: 0 ns\n",
      "Wall time: 327 µs\n",
      "CPU times: user 0 ns, sys: 0 ns, total: 0 ns\n",
      "Wall time: 329 µs\n",
      "CPU times: user 0 ns, sys: 0 ns, total: 0 ns\n",
      "Wall time: 316 µs\n",
      "CPU times: user 0 ns, sys: 0 ns, total: 0 ns\n",
      "Wall time: 455 µs\n",
      "CPU times: user 4 ms, sys: 0 ns, total: 4 ms\n",
      "Wall time: 7.09 s\n",
      "CPU times: user 0 ns, sys: 0 ns, total: 0 ns\n",
      "Wall time: 455 µs\n",
      "CPU times: user 0 ns, sys: 4 ms, total: 4 ms\n",
      "Wall time: 389 µs\n",
      "CPU times: user 0 ns, sys: 0 ns, total: 0 ns\n",
      "Wall time: 443 µs\n",
      "CPU times: user 0 ns, sys: 0 ns, total: 0 ns\n",
      "Wall time: 367 µs\n",
      "CPU times: user 0 ns, sys: 0 ns, total: 0 ns\n",
      "Wall time: 268 µs\n",
      "CPU times: user 0 ns, sys: 0 ns, total: 0 ns\n",
      "Wall time: 467 µs\n",
      "CPU times: user 0 ns, sys: 0 ns, total: 0 ns\n",
      "Wall time: 405 µs\n"
     ]
    }
   ],
   "source": [
    "gpu_results = []\n",
    "for gpu, (sidx, eidx) in list(zip(gpu_handler.gpus, train_chunk_idxs)):\n",
    "        fg_patches = filter_gen.make_empirical_filter_gen(patches_normalized_mmap, MIN_VAR_TOL=0, seed=0)\n",
    "        conv_args = conv_args_template.copy()\n",
    "        conv_args[\"filter_gen\"] = fg_patches\n",
    "        X_train_mmap_gpu = copy.copy(X_train_mmap)\n",
    "        X_train_mmap_gpu.idxs = (sidx, eidx)\n",
    "        X_train_out_gpu = copy.copy(X_train_lift_mmap)\n",
    "        X_train_out_gpu.idxs = (sidx, eidx)\n",
    "        conv_args['data'] = X_train_mmap_gpu\n",
    "        conv_args['output'] = X_train_out_gpu\n",
    "        gpu_result = gpu.submit_async(conv.conv_mmap, **conv_args)\n",
    "        gpu_results.append(gpu_result)\n",
    "\n",
    "for gpu_result in gpu_results:\n",
    "    %time gpu_result.result()"
   ]
  },
  {
   "cell_type": "code",
   "execution_count": 1124,
   "metadata": {
    "collapsed": false
   },
   "outputs": [
    {
     "name": "stdout",
     "output_type": "stream",
     "text": [
      "CPU times: user 0 ns, sys: 0 ns, total: 0 ns\n",
      "Wall time: 11.4 s\n",
      "CPU times: user 0 ns, sys: 0 ns, total: 0 ns\n",
      "Wall time: 560 µs\n",
      "CPU times: user 4 ms, sys: 0 ns, total: 4 ms\n",
      "Wall time: 2.33 s\n",
      "CPU times: user 0 ns, sys: 0 ns, total: 0 ns\n",
      "Wall time: 511 µs\n",
      "CPU times: user 0 ns, sys: 0 ns, total: 0 ns\n",
      "Wall time: 658 µs\n",
      "CPU times: user 4 ms, sys: 0 ns, total: 4 ms\n",
      "Wall time: 463 µs\n",
      "CPU times: user 0 ns, sys: 0 ns, total: 0 ns\n",
      "Wall time: 520 µs\n",
      "CPU times: user 0 ns, sys: 0 ns, total: 0 ns\n",
      "Wall time: 467 µs\n",
      "CPU times: user 0 ns, sys: 0 ns, total: 0 ns\n",
      "Wall time: 87 ms\n",
      "CPU times: user 0 ns, sys: 0 ns, total: 0 ns\n",
      "Wall time: 543 µs\n",
      "CPU times: user 4 ms, sys: 0 ns, total: 4 ms\n",
      "Wall time: 508 µs\n",
      "CPU times: user 0 ns, sys: 0 ns, total: 0 ns\n",
      "Wall time: 547 µs\n",
      "CPU times: user 0 ns, sys: 0 ns, total: 0 ns\n",
      "Wall time: 511 µs\n",
      "CPU times: user 0 ns, sys: 0 ns, total: 0 ns\n",
      "Wall time: 580 µs\n",
      "CPU times: user 0 ns, sys: 0 ns, total: 0 ns\n",
      "Wall time: 233 µs\n",
      "CPU times: user 0 ns, sys: 0 ns, total: 0 ns\n",
      "Wall time: 241 µs\n"
     ]
    }
   ],
   "source": [
    "gpu_results = []\n",
    "for gpu, (sidx, eidx) in list(zip(gpu_handler.gpus, test_chunk_idxs)):\n",
    "        fg_patches = filter_gen.make_empirical_filter_gen(patches_normalized_mmap, MIN_VAR_TOL=0, seed=0)\n",
    "        conv_args = conv_args_template.copy()\n",
    "        conv_args[\"filter_gen\"] = fg_patches\n",
    "        X_test_mmap_gpu = copy.copy(X_test_mmap)\n",
    "        X_test_mmap_gpu.idxs = (sidx, eidx)\n",
    "        X_test_out_gpu = copy.copy(X_test_lift_mmap)\n",
    "        X_test_out_gpu.idxs = (sidx, eidx)\n",
    "        conv_args['data'] = X_test_mmap_gpu\n",
    "        conv_args['output'] = X_test_out_gpu\n",
    "        gpu_result = gpu.submit_async(conv.conv_mmap, **conv_args)\n",
    "        gpu_results.append(gpu_result)\n",
    "\n",
    "for gpu_result in gpu_results:\n",
    "    %time gpu_result.result()"
   ]
  },
  {
   "cell_type": "code",
   "execution_count": 1125,
   "metadata": {
    "collapsed": false
   },
   "outputs": [],
   "source": [
    "X_train_lift = X_train_lift_mmap.load()\n",
    "X_test_lift = X_test_lift_mmap.load()"
   ]
  },
  {
   "cell_type": "code",
   "execution_count": 1126,
   "metadata": {
    "collapsed": false
   },
   "outputs": [
    {
     "data": {
      "text/plain": [
       "0.018612621079143295"
      ]
     },
     "execution_count": 1126,
     "metadata": {},
     "output_type": "execute_result"
    }
   ],
   "source": [
    "np.mean(np.sum(X_train_lift == 0, axis=(1,2,3)))/(len(X_train_lift[0].ravel()))"
   ]
  },
  {
   "cell_type": "code",
   "execution_count": 1127,
   "metadata": {
    "collapsed": false
   },
   "outputs": [
    {
     "data": {
      "text/plain": [
       "(13000, 32768, 3, 3)"
      ]
     },
     "execution_count": 1127,
     "metadata": {},
     "output_type": "execute_result"
    }
   ],
   "source": [
    "X_train_lift.shape"
   ]
  },
  {
   "cell_type": "code",
   "execution_count": 1128,
   "metadata": {
    "collapsed": true
   },
   "outputs": [],
   "source": [
    "num_feats = conv_args_template['feature_batch_size']*conv_args_template['num_feature_batches']"
   ]
  },
  {
   "cell_type": "code",
   "execution_count": 1129,
   "metadata": {
    "collapsed": false
   },
   "outputs": [
    {
     "name": "stdout",
     "output_type": "stream",
     "text": [
      "CPU times: user 9.94 s, sys: 13.9 s, total: 23.8 s\n",
      "Wall time: 23.8 s\n"
     ]
    }
   ],
   "source": [
    "%time X_train_lift_flat = X_train_lift.reshape(X_train_lift.shape[0], -1).astype('float64') / np.sqrt(num_feats)"
   ]
  },
  {
   "cell_type": "code",
   "execution_count": 1130,
   "metadata": {
    "collapsed": false
   },
   "outputs": [
    {
     "name": "stdout",
     "output_type": "stream",
     "text": [
      "CPU times: user 392 ms, sys: 548 ms, total: 940 ms\n",
      "Wall time: 939 ms\n"
     ]
    }
   ],
   "source": [
    "%time X_test_lift_flat = X_test_lift.reshape(X_test_lift.shape[0], -1).astype('float64') / np.sqrt(num_feats)"
   ]
  },
  {
   "cell_type": "code",
   "execution_count": 1131,
   "metadata": {
    "collapsed": false
   },
   "outputs": [
    {
     "name": "stdout",
     "output_type": "stream",
     "text": [
      "CPU times: user 0 ns, sys: 0 ns, total: 0 ns\n",
      "Wall time: 569 µs\n"
     ]
    }
   ],
   "source": [
    "%time y_train_one_hot = np.eye(10)[y_train.astype('int')]"
   ]
  },
  {
   "cell_type": "code",
   "execution_count": 1132,
   "metadata": {
    "collapsed": false
   },
   "outputs": [
    {
     "name": "stdout",
     "output_type": "stream",
     "text": [
      "CPU times: user 24min 55s, sys: 10min 51s, total: 35min 46s\n",
      "Wall time: 1min 7s\n",
      "CPU times: user 2min 7s, sys: 34.7 s, total: 2min 42s\n",
      "Wall time: 5.1 s\n"
     ]
    }
   ],
   "source": [
    "%time K_train = X_train_lift_flat.dot(X_train_lift_flat.T)\n",
    "%time K_test = X_test_lift_flat.dot(X_train_lift_flat.T)"
   ]
  },
  {
   "cell_type": "code",
   "execution_count": 1136,
   "metadata": {
    "collapsed": false,
    "scrolled": false
   },
   "outputs": [
    {
     "name": "stdout",
     "output_type": "stream",
     "text": [
      "Learning Dual Model\n",
      "reg is 0.0001\n",
      "CPU times: user 50.4 s, sys: 932 ms, total: 51.3 s\n",
      "Wall time: 3.29 s\n",
      "0.998 0.658\n",
      "Learning Dual Model\n",
      "reg is 0.001\n",
      "CPU times: user 50.8 s, sys: 1.45 s, total: 52.2 s\n",
      "Wall time: 3.14 s\n",
      "0.994538461538 0.698\n",
      "Learning Dual Model\n",
      "reg is 0.00025\n",
      "CPU times: user 52.5 s, sys: 1.2 s, total: 53.7 s\n",
      "Wall time: 3.3 s\n",
      "0.997923076923 0.672\n",
      "Learning Dual Model\n",
      "reg is 0.005\n",
      "CPU times: user 55.4 s, sys: 1.1 s, total: 56.5 s\n",
      "Wall time: 3.46 s\n",
      "0.959461538462 0.714\n",
      "Learning Dual Model\n",
      "reg is 0.01\n",
      "CPU times: user 51.3 s, sys: 1.66 s, total: 52.9 s\n",
      "Wall time: 3.16 s\n",
      "0.921384615385 0.706\n",
      "Learning Dual Model\n",
      "reg is 0.05\n",
      "CPU times: user 54.1 s, sys: 1.21 s, total: 55.3 s\n",
      "Wall time: 3.28 s\n",
      "0.814769230769 0.684\n",
      "Learning Dual Model\n",
      "reg is 0.1\n",
      "CPU times: user 53 s, sys: 1.29 s, total: 54.3 s\n",
      "Wall time: 3.26 s\n",
      "0.775538461538 0.67\n"
     ]
    }
   ],
   "source": [
    "reload(ls)\n",
    "models = []\n",
    "for reg in [1e-4, 1e-3, 0.25e-3, 5e-3, 1e-2, 5e-2, 1e-1]:\n",
    "    %time train_acc, test_acc, model = ls.trainAndEvaluateDualModel(KTrain=K_train, KTest=K_test,labelsTrain=y_train.astype('int'),labelsTest=y_test.astype('int'), reg=reg)\n",
    "    print(train_acc, test_acc)\n"
   ]
  },
  {
   "cell_type": "code",
   "execution_count": null,
   "metadata": {
    "collapsed": false
   },
   "outputs": [],
   "source": [
    "X_test_lift_flat\n",
    "\n",
    "\n",
    "X_train_lift_flat"
   ]
  },
  {
   "cell_type": "code",
   "execution_count": null,
   "metadata": {
    "collapsed": false
   },
   "outputs": [],
   "source": [
    "reload(ls)\n",
    "models = []\n",
    "for reg in [5e-2, 0.1]:\n",
    "    %time model = ls.block_kernel_solve(XtX, Xty, lambdav=reg, eval_fn=eval_fn, block_size=20000, epochs=1)\n",
    "    models.append(model)"
   ]
  },
  {
   "cell_type": "code",
   "execution_count": null,
   "metadata": {
    "collapsed": false
   },
   "outputs": [],
   "source": [
    "%time eval_fn(models[0])"
   ]
  },
  {
   "cell_type": "code",
   "execution_count": null,
   "metadata": {
    "collapsed": true
   },
   "outputs": [],
   "source": []
  },
  {
   "cell_type": "code",
   "execution_count": null,
   "metadata": {
    "collapsed": true
   },
   "outputs": [],
   "source": [
    "def eval_fn(model):\n",
    "     y_pred_train = np.argmax(X_train_lift_flat.dot(model), axis=1)\n",
    "     train_acc = metrics.accuracy_score(y_train, y_pred_train)\n",
    "    \n",
    "     y_pred_test = np.argmax(X_test_lift_flat.dot(model), axis=1)\n",
    "     test_acc = metrics.accuracy_score(y_test, y_pred_test)\n",
    "     return (\"Train\", train_acc, \"Test\", test_acc)"
   ]
  },
  {
   "cell_type": "code",
   "execution_count": 226,
   "metadata": {
    "collapsed": false
   },
   "outputs": [
    {
     "ename": "TypeError",
     "evalue": "block_kernel_solve() got an unexpected keyword argument 'XTrain'",
     "output_type": "error",
     "traceback": [
      "\u001b[0;31m---------------------------------------------------------------------------\u001b[0m",
      "\u001b[0;31mTypeError\u001b[0m                                 Traceback (most recent call last)",
      "\u001b[0;32m<ipython-input-226-dee1d5ca199d>\u001b[0m in \u001b[0;36m<module>\u001b[0;34m()\u001b[0m\n\u001b[1;32m      1\u001b[0m \u001b[0;32mfor\u001b[0m \u001b[0mreg\u001b[0m \u001b[0;32min\u001b[0m \u001b[0;34m[\u001b[0m\u001b[0;36m5e-2\u001b[0m\u001b[0;34m,\u001b[0m \u001b[0;36m0.1\u001b[0m\u001b[0;34m]\u001b[0m\u001b[0;34m:\u001b[0m\u001b[0;34m\u001b[0m\u001b[0m\n\u001b[0;32m----> 2\u001b[0;31m     \u001b[0mget_ipython\u001b[0m\u001b[0;34m(\u001b[0m\u001b[0;34m)\u001b[0m\u001b[0;34m.\u001b[0m\u001b[0mmagic\u001b[0m\u001b[0;34m(\u001b[0m\u001b[0;34m\"time acc = ls.block_kernel_solve(XTrain=X_train_lift_flat, XTest=X_test_lift_flat, labelsTrain=y_train.astype('int'), labelsTest=y_test.astype('int'), reg=reg, XTX=XtX)\"\u001b[0m\u001b[0;34m)\u001b[0m\u001b[0;34m\u001b[0m\u001b[0m\n\u001b[0m\u001b[1;32m      3\u001b[0m     \u001b[0mprint\u001b[0m\u001b[0;34m(\u001b[0m\u001b[0mreg\u001b[0m\u001b[0;34m,\u001b[0m \u001b[0macc\u001b[0m\u001b[0;34m)\u001b[0m\u001b[0;34m\u001b[0m\u001b[0m\n",
      "\u001b[0;32m/home/ubuntu/anaconda3/lib/python3.6/site-packages/IPython/core/interactiveshell.py\u001b[0m in \u001b[0;36mmagic\u001b[0;34m(self, arg_s)\u001b[0m\n\u001b[1;32m   2156\u001b[0m         \u001b[0mmagic_name\u001b[0m\u001b[0;34m,\u001b[0m \u001b[0m_\u001b[0m\u001b[0;34m,\u001b[0m \u001b[0mmagic_arg_s\u001b[0m \u001b[0;34m=\u001b[0m \u001b[0marg_s\u001b[0m\u001b[0;34m.\u001b[0m\u001b[0mpartition\u001b[0m\u001b[0;34m(\u001b[0m\u001b[0;34m' '\u001b[0m\u001b[0;34m)\u001b[0m\u001b[0;34m\u001b[0m\u001b[0m\n\u001b[1;32m   2157\u001b[0m         \u001b[0mmagic_name\u001b[0m \u001b[0;34m=\u001b[0m \u001b[0mmagic_name\u001b[0m\u001b[0;34m.\u001b[0m\u001b[0mlstrip\u001b[0m\u001b[0;34m(\u001b[0m\u001b[0mprefilter\u001b[0m\u001b[0;34m.\u001b[0m\u001b[0mESC_MAGIC\u001b[0m\u001b[0;34m)\u001b[0m\u001b[0;34m\u001b[0m\u001b[0m\n\u001b[0;32m-> 2158\u001b[0;31m         \u001b[0;32mreturn\u001b[0m \u001b[0mself\u001b[0m\u001b[0;34m.\u001b[0m\u001b[0mrun_line_magic\u001b[0m\u001b[0;34m(\u001b[0m\u001b[0mmagic_name\u001b[0m\u001b[0;34m,\u001b[0m \u001b[0mmagic_arg_s\u001b[0m\u001b[0;34m)\u001b[0m\u001b[0;34m\u001b[0m\u001b[0m\n\u001b[0m\u001b[1;32m   2159\u001b[0m \u001b[0;34m\u001b[0m\u001b[0m\n\u001b[1;32m   2160\u001b[0m     \u001b[0;31m#-------------------------------------------------------------------------\u001b[0m\u001b[0;34m\u001b[0m\u001b[0;34m\u001b[0m\u001b[0m\n",
      "\u001b[0;32m/home/ubuntu/anaconda3/lib/python3.6/site-packages/IPython/core/interactiveshell.py\u001b[0m in \u001b[0;36mrun_line_magic\u001b[0;34m(self, magic_name, line)\u001b[0m\n\u001b[1;32m   2077\u001b[0m                 \u001b[0mkwargs\u001b[0m\u001b[0;34m[\u001b[0m\u001b[0;34m'local_ns'\u001b[0m\u001b[0;34m]\u001b[0m \u001b[0;34m=\u001b[0m \u001b[0msys\u001b[0m\u001b[0;34m.\u001b[0m\u001b[0m_getframe\u001b[0m\u001b[0;34m(\u001b[0m\u001b[0mstack_depth\u001b[0m\u001b[0;34m)\u001b[0m\u001b[0;34m.\u001b[0m\u001b[0mf_locals\u001b[0m\u001b[0;34m\u001b[0m\u001b[0m\n\u001b[1;32m   2078\u001b[0m             \u001b[0;32mwith\u001b[0m \u001b[0mself\u001b[0m\u001b[0;34m.\u001b[0m\u001b[0mbuiltin_trap\u001b[0m\u001b[0;34m:\u001b[0m\u001b[0;34m\u001b[0m\u001b[0m\n\u001b[0;32m-> 2079\u001b[0;31m                 \u001b[0mresult\u001b[0m \u001b[0;34m=\u001b[0m \u001b[0mfn\u001b[0m\u001b[0;34m(\u001b[0m\u001b[0;34m*\u001b[0m\u001b[0margs\u001b[0m\u001b[0;34m,\u001b[0m\u001b[0;34m**\u001b[0m\u001b[0mkwargs\u001b[0m\u001b[0;34m)\u001b[0m\u001b[0;34m\u001b[0m\u001b[0m\n\u001b[0m\u001b[1;32m   2080\u001b[0m             \u001b[0;32mreturn\u001b[0m \u001b[0mresult\u001b[0m\u001b[0;34m\u001b[0m\u001b[0m\n\u001b[1;32m   2081\u001b[0m \u001b[0;34m\u001b[0m\u001b[0m\n",
      "\u001b[0;32m<decorator-gen-59>\u001b[0m in \u001b[0;36mtime\u001b[0;34m(self, line, cell, local_ns)\u001b[0m\n",
      "\u001b[0;32m/home/ubuntu/anaconda3/lib/python3.6/site-packages/IPython/core/magic.py\u001b[0m in \u001b[0;36m<lambda>\u001b[0;34m(f, *a, **k)\u001b[0m\n\u001b[1;32m    186\u001b[0m     \u001b[0;31m# but it's overkill for just that one bit of state.\u001b[0m\u001b[0;34m\u001b[0m\u001b[0;34m\u001b[0m\u001b[0m\n\u001b[1;32m    187\u001b[0m     \u001b[0;32mdef\u001b[0m \u001b[0mmagic_deco\u001b[0m\u001b[0;34m(\u001b[0m\u001b[0marg\u001b[0m\u001b[0;34m)\u001b[0m\u001b[0;34m:\u001b[0m\u001b[0;34m\u001b[0m\u001b[0m\n\u001b[0;32m--> 188\u001b[0;31m         \u001b[0mcall\u001b[0m \u001b[0;34m=\u001b[0m \u001b[0;32mlambda\u001b[0m \u001b[0mf\u001b[0m\u001b[0;34m,\u001b[0m \u001b[0;34m*\u001b[0m\u001b[0ma\u001b[0m\u001b[0;34m,\u001b[0m \u001b[0;34m**\u001b[0m\u001b[0mk\u001b[0m\u001b[0;34m:\u001b[0m \u001b[0mf\u001b[0m\u001b[0;34m(\u001b[0m\u001b[0;34m*\u001b[0m\u001b[0ma\u001b[0m\u001b[0;34m,\u001b[0m \u001b[0;34m**\u001b[0m\u001b[0mk\u001b[0m\u001b[0;34m)\u001b[0m\u001b[0;34m\u001b[0m\u001b[0m\n\u001b[0m\u001b[1;32m    189\u001b[0m \u001b[0;34m\u001b[0m\u001b[0m\n\u001b[1;32m    190\u001b[0m         \u001b[0;32mif\u001b[0m \u001b[0mcallable\u001b[0m\u001b[0;34m(\u001b[0m\u001b[0marg\u001b[0m\u001b[0;34m)\u001b[0m\u001b[0;34m:\u001b[0m\u001b[0;34m\u001b[0m\u001b[0m\n",
      "\u001b[0;32m/home/ubuntu/anaconda3/lib/python3.6/site-packages/IPython/core/magics/execution.py\u001b[0m in \u001b[0;36mtime\u001b[0;34m(self, line, cell, local_ns)\u001b[0m\n\u001b[1;32m   1178\u001b[0m         \u001b[0;32melse\u001b[0m\u001b[0;34m:\u001b[0m\u001b[0;34m\u001b[0m\u001b[0m\n\u001b[1;32m   1179\u001b[0m             \u001b[0mst\u001b[0m \u001b[0;34m=\u001b[0m \u001b[0mclock2\u001b[0m\u001b[0;34m(\u001b[0m\u001b[0;34m)\u001b[0m\u001b[0;34m\u001b[0m\u001b[0m\n\u001b[0;32m-> 1180\u001b[0;31m             \u001b[0mexec\u001b[0m\u001b[0;34m(\u001b[0m\u001b[0mcode\u001b[0m\u001b[0;34m,\u001b[0m \u001b[0mglob\u001b[0m\u001b[0;34m,\u001b[0m \u001b[0mlocal_ns\u001b[0m\u001b[0;34m)\u001b[0m\u001b[0;34m\u001b[0m\u001b[0m\n\u001b[0m\u001b[1;32m   1181\u001b[0m             \u001b[0mend\u001b[0m \u001b[0;34m=\u001b[0m \u001b[0mclock2\u001b[0m\u001b[0;34m(\u001b[0m\u001b[0;34m)\u001b[0m\u001b[0;34m\u001b[0m\u001b[0m\n\u001b[1;32m   1182\u001b[0m             \u001b[0mout\u001b[0m \u001b[0;34m=\u001b[0m \u001b[0;32mNone\u001b[0m\u001b[0;34m\u001b[0m\u001b[0m\n",
      "\u001b[0;32m<timed exec>\u001b[0m in \u001b[0;36m<module>\u001b[0;34m()\u001b[0m\n",
      "\u001b[0;31mTypeError\u001b[0m: block_kernel_solve() got an unexpected keyword argument 'XTrain'"
     ]
    }
   ],
   "source": [
    "for reg in [5e-2, 0.1]:\n",
    "    %time acc = ls.block_kernel_solve(XTrain=X_train_lift_flat, XTest=X_test_lift_flat, labelsTrain=y_train.astype('int'), labelsTest=y_test.astype('int'), reg=reg, XTX=XtX)\n",
    "    print(reg, acc)"
   ]
  },
  {
   "cell_type": "code",
   "execution_count": 1028,
   "metadata": {
    "collapsed": false
   },
   "outputs": [
    {
     "name": "stdout",
     "output_type": "stream",
     "text": [
      "Learning Dual Model\n",
      "reg is 1e-05\n",
      "0.05 1e-05 (0.99769230769230766, 0.69799999999999995)\n",
      "Learning Dual Model\n",
      "reg is 0.0001\n",
      "0.05 0.0001 (0.98038461538461541, 0.70199999999999996)\n",
      "Learning Dual Model\n",
      "reg is 0.001\n",
      "0.05 0.001 (0.85853846153846158, 0.70599999999999996)\n",
      "Learning Dual Model\n",
      "reg is 0.01\n",
      "0.05 0.01 (0.72246153846153849, 0.68799999999999994)\n",
      "Learning Dual Model\n",
      "reg is 0.1\n",
      "0.05 0.1 (0.6154615384615385, 0.59799999999999998)\n",
      "Learning Dual Model\n",
      "reg is 1e-05\n",
      "0.1 1e-05 (0.99792307692307691, 0.68200000000000005)\n",
      "Learning Dual Model\n",
      "reg is 0.0001\n",
      "0.1 0.0001 (0.99407692307692308, 0.70599999999999996)\n",
      "Learning Dual Model\n",
      "reg is 0.001\n",
      "0.1 0.001 (0.92723076923076919, 0.70199999999999996)\n",
      "Learning Dual Model\n",
      "reg is 0.01\n",
      "0.1 0.01 (0.77246153846153842, 0.68999999999999995)\n",
      "Learning Dual Model\n",
      "reg is 0.1\n",
      "0.1 0.1 (0.65407692307692311, 0.61799999999999999)\n",
      "Learning Dual Model\n",
      "reg is 1e-05\n",
      "1 1e-05 (0.998, 0.60599999999999998)\n",
      "Learning Dual Model\n",
      "reg is 0.0001\n",
      "1 0.0001 (0.99807692307692308, 0.61399999999999999)\n",
      "Learning Dual Model\n",
      "reg is 0.001\n",
      "1 0.001 (0.99807692307692308, 0.63400000000000001)\n",
      "Learning Dual Model\n",
      "reg is 0.01\n",
      "1 0.01 (0.98699999999999999, 0.65600000000000003)\n",
      "Learning Dual Model\n",
      "reg is 0.1\n",
      "1 0.1 (0.87546153846153851, 0.66000000000000003)\n",
      "Learning Dual Model\n",
      "reg is 1e-05\n",
      "10 1e-05 (0.99807692307692308, 0.53400000000000003)\n",
      "Learning Dual Model\n",
      "reg is 0.0001\n",
      "10 0.0001 (0.99807692307692308, 0.53400000000000003)\n",
      "Learning Dual Model\n",
      "reg is 0.001\n"
     ]
    },
    {
     "ename": "KeyboardInterrupt",
     "evalue": "",
     "output_type": "error",
     "traceback": [
      "\u001b[0;31m---------------------------------------------------------------------------\u001b[0m",
      "\u001b[0;31mKeyboardInterrupt\u001b[0m                         Traceback (most recent call last)",
      "\u001b[0;32m<ipython-input-1028-183bc40ed567>\u001b[0m in \u001b[0;36m<module>\u001b[0;34m()\u001b[0m\n\u001b[1;32m      6\u001b[0m         acc = opt.trainAndEvaluateDualModel(KTrain=K_train_rbf_conv, KTest=K_test_rbf_conv, labelsTrain=y_train.astype('int'), \n\u001b[1;32m      7\u001b[0m                                                                       \u001b[0mlabelsTest\u001b[0m\u001b[0;34m=\u001b[0m\u001b[0my_test\u001b[0m\u001b[0;34m.\u001b[0m\u001b[0mastype\u001b[0m\u001b[0;34m(\u001b[0m\u001b[0;34m'int'\u001b[0m\u001b[0;34m)\u001b[0m\u001b[0;34m,\u001b[0m\u001b[0;34m\u001b[0m\u001b[0m\n\u001b[0;32m----> 8\u001b[0;31m                                                                       reg=reg)\n\u001b[0m\u001b[1;32m      9\u001b[0m         \u001b[0mprint\u001b[0m\u001b[0;34m(\u001b[0m\u001b[0mgamma\u001b[0m\u001b[0;34m,\u001b[0m \u001b[0mreg\u001b[0m\u001b[0;34m,\u001b[0m \u001b[0macc\u001b[0m\u001b[0;34m)\u001b[0m\u001b[0;34m\u001b[0m\u001b[0m\n\u001b[1;32m     10\u001b[0m         \u001b[0mresults\u001b[0m\u001b[0;34m[\u001b[0m\u001b[0;34m(\u001b[0m\u001b[0mgamma\u001b[0m\u001b[0;34m,\u001b[0m\u001b[0mreg\u001b[0m\u001b[0;34m)\u001b[0m\u001b[0;34m]\u001b[0m \u001b[0;34m=\u001b[0m \u001b[0macc\u001b[0m\u001b[0;34m\u001b[0m\u001b[0m\n",
      "\u001b[0;32m/home/ubuntu/pictureweb/conv/opt.py\u001b[0m in \u001b[0;36mtrainAndEvaluateDualModel\u001b[0;34m(KTrain, KTest, labelsTrain, labelsTest, reg)\u001b[0m\n\u001b[1;32m     44\u001b[0m \u001b[0;34m\u001b[0m\u001b[0m\n\u001b[1;32m     45\u001b[0m \u001b[0;32mdef\u001b[0m \u001b[0mtrainAndEvaluateDualModel\u001b[0m\u001b[0;34m(\u001b[0m\u001b[0mKTrain\u001b[0m\u001b[0;34m,\u001b[0m \u001b[0mKTest\u001b[0m\u001b[0;34m,\u001b[0m \u001b[0mlabelsTrain\u001b[0m\u001b[0;34m,\u001b[0m \u001b[0mlabelsTest\u001b[0m\u001b[0;34m,\u001b[0m \u001b[0mreg\u001b[0m\u001b[0;34m=\u001b[0m\u001b[0;36m0.1\u001b[0m\u001b[0;34m)\u001b[0m\u001b[0;34m:\u001b[0m\u001b[0;34m\u001b[0m\u001b[0m\n\u001b[0;32m---> 46\u001b[0;31m     \u001b[0mmodel\u001b[0m \u001b[0;34m=\u001b[0m \u001b[0mlearnDual\u001b[0m\u001b[0;34m(\u001b[0m\u001b[0mKTrain\u001b[0m\u001b[0;34m,\u001b[0m\u001b[0mlabelsTrain\u001b[0m\u001b[0;34m,\u001b[0m \u001b[0mreg\u001b[0m\u001b[0;34m=\u001b[0m\u001b[0mreg\u001b[0m\u001b[0;34m)\u001b[0m\u001b[0;34m\u001b[0m\u001b[0m\n\u001b[0m\u001b[1;32m     47\u001b[0m     \u001b[0mpredTrainWeights\u001b[0m \u001b[0;34m=\u001b[0m \u001b[0mevaluateDualModel\u001b[0m\u001b[0;34m(\u001b[0m\u001b[0mKTrain\u001b[0m\u001b[0;34m,\u001b[0m \u001b[0mmodel\u001b[0m\u001b[0;34m)\u001b[0m\u001b[0;34m\u001b[0m\u001b[0m\n\u001b[1;32m     48\u001b[0m     \u001b[0mpredTestWeights\u001b[0m \u001b[0;34m=\u001b[0m \u001b[0mevaluateDualModel\u001b[0m\u001b[0;34m(\u001b[0m\u001b[0mKTest\u001b[0m\u001b[0;34m,\u001b[0m \u001b[0mmodel\u001b[0m\u001b[0;34m)\u001b[0m\u001b[0;34m\u001b[0m\u001b[0m\n",
      "\u001b[0;32m/home/ubuntu/pictureweb/conv/opt.py\u001b[0m in \u001b[0;36mlearnDual\u001b[0;34m(gramMatrix, labels, reg, TOT_FEAT, NUM_TRAIN)\u001b[0m\n\u001b[1;32m     61\u001b[0m     \u001b[0mprint\u001b[0m\u001b[0;34m(\u001b[0m\u001b[0;34m\"reg is \"\u001b[0m \u001b[0;34m+\u001b[0m \u001b[0mstr\u001b[0m\u001b[0;34m(\u001b[0m\u001b[0mreg\u001b[0m\u001b[0;34m)\u001b[0m\u001b[0;34m)\u001b[0m\u001b[0;34m\u001b[0m\u001b[0m\n\u001b[1;32m     62\u001b[0m     \u001b[0mgramMatrix\u001b[0m\u001b[0;34m[\u001b[0m\u001b[0midxes\u001b[0m\u001b[0;34m]\u001b[0m \u001b[0;34m+=\u001b[0m \u001b[0;34m(\u001b[0m\u001b[0mreg\u001b[0m\u001b[0;34m)\u001b[0m\u001b[0;34m\u001b[0m\u001b[0m\n\u001b[0;32m---> 63\u001b[0;31m     \u001b[0mmodel\u001b[0m \u001b[0;34m=\u001b[0m \u001b[0mlinalg\u001b[0m\u001b[0;34m.\u001b[0m\u001b[0msolve\u001b[0m\u001b[0;34m(\u001b[0m\u001b[0mgramMatrix\u001b[0m\u001b[0;34m,\u001b[0m \u001b[0my\u001b[0m\u001b[0;34m)\u001b[0m\u001b[0;34m\u001b[0m\u001b[0m\n\u001b[0m\u001b[1;32m     64\u001b[0m     \u001b[0mgramMatrix\u001b[0m\u001b[0;34m[\u001b[0m\u001b[0midxes\u001b[0m\u001b[0;34m]\u001b[0m \u001b[0;34m-=\u001b[0m \u001b[0;34m(\u001b[0m\u001b[0mreg\u001b[0m\u001b[0;34m)\u001b[0m\u001b[0;34m\u001b[0m\u001b[0m\n\u001b[1;32m     65\u001b[0m     \u001b[0mgramMatrix\u001b[0m \u001b[0;34m*=\u001b[0m \u001b[0mTOT_FEAT\u001b[0m\u001b[0;34m\u001b[0m\u001b[0m\n",
      "\u001b[0;32m/home/ubuntu/anaconda3/lib/python3.6/site-packages/scipy/linalg/basic.py\u001b[0m in \u001b[0;36msolve\u001b[0;34m(a, b, sym_pos, lower, overwrite_a, overwrite_b, debug, check_finite)\u001b[0m\n\u001b[1;32m     96\u001b[0m         \u001b[0mgesv\u001b[0m\u001b[0;34m,\u001b[0m \u001b[0;34m=\u001b[0m \u001b[0mget_lapack_funcs\u001b[0m\u001b[0;34m(\u001b[0m\u001b[0;34m(\u001b[0m\u001b[0;34m'gesv'\u001b[0m\u001b[0;34m,\u001b[0m\u001b[0;34m)\u001b[0m\u001b[0;34m,\u001b[0m \u001b[0;34m(\u001b[0m\u001b[0ma1\u001b[0m\u001b[0;34m,\u001b[0m \u001b[0mb1\u001b[0m\u001b[0;34m)\u001b[0m\u001b[0;34m)\u001b[0m\u001b[0;34m\u001b[0m\u001b[0m\n\u001b[1;32m     97\u001b[0m         lu, piv, x, info = gesv(a1, b1, overwrite_a=overwrite_a,\n\u001b[0;32m---> 98\u001b[0;31m                                 overwrite_b=overwrite_b)\n\u001b[0m\u001b[1;32m     99\u001b[0m \u001b[0;34m\u001b[0m\u001b[0m\n\u001b[1;32m    100\u001b[0m     \u001b[0;32mif\u001b[0m \u001b[0minfo\u001b[0m \u001b[0;34m==\u001b[0m \u001b[0;36m0\u001b[0m\u001b[0;34m:\u001b[0m\u001b[0;34m\u001b[0m\u001b[0m\n",
      "\u001b[0;31mKeyboardInterrupt\u001b[0m: "
     ]
    }
   ],
   "source": [
    "results_conv = {}\n",
    "for gamma in [5e-2,1e-1, 1, 10, 100]:\n",
    "    K_train_rbf_conv = linalg.computeRBFGramMatrix(X_train_lift, X_train_lift, gamma=gamma)\n",
    "    K_test_rbf_conv = linalg.computeRBFGramMatrix(X_test_lift, X_train_lift, gamma=gamma)\n",
    "    for reg in [1e-5, 1e-4, 1e-3, 1e-2, 1e-1]:\n",
    "        acc = opt.trainAndEvaluateDualModel(KTrain=K_train_rbf_conv, KTest=K_test_rbf_conv, labelsTrain=y_train.astype('int'), \n",
    "                                                                      labelsTest=y_test.astype('int'),\n",
    "                                                                      reg=reg)\n",
    "        print(gamma, reg, acc)\n",
    "        results[(gamma,reg)] = acc"
   ]
  },
  {
   "cell_type": "code",
   "execution_count": null,
   "metadata": {
    "collapsed": false
   },
   "outputs": [],
   "source": [
    "X_test_lift"
   ]
  },
  {
   "cell_type": "code",
   "execution_count": 34,
   "metadata": {
    "collapsed": false
   },
   "outputs": [
    {
     "data": {
      "text/plain": [
       "array([[ 1.        ,  0.99926612,  0.99909939, ...,  0.99929579,\n",
       "         0.99898554,  0.99931603],\n",
       "       [ 0.99926612,  1.        ,  0.99913969, ...,  0.99927931,\n",
       "         0.9989939 ,  0.99928697],\n",
       "       [ 0.99909939,  0.99913969,  1.        , ...,  0.99925441,\n",
       "         0.99911216,  0.99934219],\n",
       "       ..., \n",
       "       [ 0.99905437,  0.99906212,  0.99914661, ...,  0.9995055 ,\n",
       "         0.99951988,  0.99959997],\n",
       "       [ 0.99926577,  0.99925152,  0.99916929, ...,  0.99948263,\n",
       "         0.99917748,  0.9994573 ],\n",
       "       [ 0.99912478,  0.99928218,  0.99900119, ...,  0.99943302,\n",
       "         0.99906306,  0.99931051]])"
      ]
     },
     "execution_count": 34,
     "metadata": {},
     "output_type": "execute_result"
    }
   ],
   "source": [
    "K_test_rbf_pixels"
   ]
  },
  {
   "cell_type": "code",
   "execution_count": 30,
   "metadata": {
    "collapsed": false
   },
   "outputs": [
    {
     "data": {
      "text/plain": [
       "(13000, 196608)"
      ]
     },
     "execution_count": 30,
     "metadata": {},
     "output_type": "execute_result"
    }
   ],
   "source": [
    "X_train_flat.shape"
   ]
  },
  {
   "cell_type": "code",
   "execution_count": 1137,
   "metadata": {
    "collapsed": false,
    "scrolled": true
   },
   "outputs": [
    {
     "name": "stdout",
     "output_type": "stream",
     "text": [
      "/bin/bash -c 'cd /home/ubuntu ; tar -cf ./picture_web_2017-04-14-02:48:06.038305.tar pictureweb --exclude-from <(find pictureweb -size +3M)'\n"
     ]
    }
   ],
   "source": [
    "from utils import exputil\n",
    "exputil.snapshot()"
   ]
  },
  {
   "cell_type": "code",
   "execution_count": 155,
   "metadata": {
    "collapsed": false
   },
   "outputs": [
    {
     "data": {
      "text/plain": [
       "-1"
      ]
     },
     "execution_count": 155,
     "metadata": {},
     "output_type": "execute_result"
    }
   ],
   "source": [
    "import os\n",
    "os.system(\"/bin/bash -c 'cd /home/ubuntu ; tar -cf ./picture_web_2017-04-12-03:53:10.611164.tar pictureweb --exclude-from <(find pictureweb -size +3M)'\")"
   ]
  },
  {
   "cell_type": "code",
   "execution_count": 892,
   "metadata": {
    "collapsed": false
   },
   "outputs": [],
   "source": [
    "im = imread(\"/home/ubuntu/tiny-imagenet-200/train/n01443537/images/n01443537_0.JPEG\")"
   ]
  },
  {
   "cell_type": "code",
   "execution_count": 895,
   "metadata": {
    "collapsed": false
   },
   "outputs": [
    {
     "data": {
      "text/plain": [
       "(64, 64, 3)"
      ]
     },
     "execution_count": 895,
     "metadata": {},
     "output_type": "execute_result"
    }
   ],
   "source": [
    "im.shape"
   ]
  },
  {
   "cell_type": "code",
   "execution_count": 923,
   "metadata": {
    "collapsed": true
   },
   "outputs": [],
   "source": [
    "fc7 = np.load(\"/home/ubuntu/imagenet-fc7/imagenet_features_alexnet_fc7.npz\")"
   ]
  },
  {
   "cell_type": "code",
   "execution_count": 924,
   "metadata": {
    "collapsed": true
   },
   "outputs": [],
   "source": [
    "X_train_fc7 = fc7[\"X_train\"]\n",
    "y_train_fc7 = fc7[\"y_train\"]"
   ]
  },
  {
   "cell_type": "code",
   "execution_count": 925,
   "metadata": {
    "collapsed": true
   },
   "outputs": [],
   "source": [
    "X_test_fc7 = np.load(\"/home/ubuntu/imagenet-fc7/imagenet_test_features_alexnet_fc7.npy\")\n",
    "y_test_fc7 = np.load(\"/home/ubuntu/imagenet-fc7/imagenet_test_labels.npy\")"
   ]
  },
  {
   "cell_type": "code",
   "execution_count": 967,
   "metadata": {
    "collapsed": false
   },
   "outputs": [],
   "source": [
    "idxs = np.where(y_train_fc7 < 10)[0]\n",
    "idxs_test = np.where(y_test_fc7 < 10)[0]\n",
    "X_train_fc7_small = X_train_fc7[idxs, :]\n",
    "y_train_fc7_small = y_train_fc7[idxs].astype('int')\n",
    "X_test_fc7_small = X_test_fc7[idxs_test, :]\n",
    "y_test_fc7_small = y_test_fc7[idxs_test].astype('int')\n"
   ]
  },
  {
   "cell_type": "code",
   "execution_count": 961,
   "metadata": {
    "collapsed": false
   },
   "outputs": [
    {
     "name": "stdout",
     "output_type": "stream",
     "text": [
      "X SHAPE  (12622, 4096)\n",
      "Computing XTX\n",
      "Done Computing XTX\n"
     ]
    },
    {
     "data": {
      "text/plain": [
       "(0.95642528917762637, 0.91400000000000003)"
      ]
     },
     "execution_count": 961,
     "metadata": {},
     "output_type": "execute_result"
    }
   ],
   "source": [
    "opt.trainAndEvaluatePrimalModel(X_train_fc7_small, X_test_fc7_small, y_train_fc7_small, y_test_fc7_small, reg=1000000)"
   ]
  },
  {
   "cell_type": "code",
   "execution_count": 952,
   "metadata": {
    "collapsed": false
   },
   "outputs": [],
   "source": [
    "labels = y_train_fc7_small"
   ]
  },
  {
   "cell_type": "code",
   "execution_count": 953,
   "metadata": {
    "collapsed": true
   },
   "outputs": [],
   "source": [
    "y = np.eye(max(labels) + 1)[labels]"
   ]
  },
  {
   "cell_type": "code",
   "execution_count": 965,
   "metadata": {
    "collapsed": true
   },
   "outputs": [],
   "source": [
    "XtX = X_train_fc7_small.T.dot(X_train_fc7_small)"
   ]
  },
  {
   "cell_type": "code",
   "execution_count": 979,
   "metadata": {
    "collapsed": false
   },
   "outputs": [
    {
     "name": "stdout",
     "output_type": "stream",
     "text": [
      "step 1 took 0.15542125701904297\n",
      "Compting train_preds 2\n",
      "Iter: 0, Train Accuracy: 0.9988115987957534, Test Accuracy: 0.9\n",
      "step 1 took 0.1811075210571289\n",
      "Compting train_preds 2\n",
      "Iter: 1, Train Accuracy: 0.9988115987957534, Test Accuracy: 0.9\n",
      "step 1 took 0.17215442657470703\n",
      "Compting train_preds 2\n",
      "Iter: 2, Train Accuracy: 0.9988115987957534, Test Accuracy: 0.902\n",
      "step 1 took 0.16565442085266113\n",
      "Compting train_preds 2\n",
      "Iter: 3, Train Accuracy: 0.9988908255427033, Test Accuracy: 0.9\n",
      "step 1 took 0.1684567928314209\n",
      "Compting train_preds 2\n",
      "Iter: 4, Train Accuracy: 0.998970052289653, Test Accuracy: 0.9\n",
      "step 1 took 0.17835235595703125\n",
      "Compting train_preds 2\n",
      "Iter: 5, Train Accuracy: 0.9992077325305023, Test Accuracy: 0.902\n",
      "step 1 took 0.16594862937927246\n",
      "Compting train_preds 2\n",
      "Iter: 6, Train Accuracy: 0.9993661860244019, Test Accuracy: 0.902\n",
      "step 1 took 0.16495776176452637\n",
      "Compting train_preds 2\n",
      "Iter: 7, Train Accuracy: 0.9994454127713516, Test Accuracy: 0.902\n",
      "step 1 took 0.1683351993560791\n",
      "Compting train_preds 2\n",
      "Iter: 8, Train Accuracy: 0.9996038662652511, Test Accuracy: 0.898\n",
      "step 1 took 0.1772174835205078\n",
      "Compting train_preds 2\n",
      "Iter: 9, Train Accuracy: 0.9996830930122009, Test Accuracy: 0.898\n",
      "step 1 took 0.16785287857055664\n",
      "Compting train_preds 2\n",
      "Iter: 10, Train Accuracy: 0.9996830930122009, Test Accuracy: 0.898\n",
      "step 1 took 0.16784358024597168\n",
      "Compting train_preds 2\n",
      "Iter: 11, Train Accuracy: 0.9996830930122009, Test Accuracy: 0.898\n",
      "step 1 took 0.15977025032043457\n",
      "Compting train_preds 2\n",
      "Iter: 12, Train Accuracy: 0.9996830930122009, Test Accuracy: 0.896\n",
      "step 1 took 0.16029715538024902\n",
      "Compting train_preds 2\n",
      "Iter: 13, Train Accuracy: 0.9996830930122009, Test Accuracy: 0.898\n",
      "step 1 took 0.16824817657470703\n",
      "Compting train_preds 2\n",
      "Iter: 14, Train Accuracy: 0.9996830930122009, Test Accuracy: 0.898\n",
      "step 1 took 0.17255401611328125\n",
      "Compting train_preds 2\n"
     ]
    },
    {
     "ename": "KeyboardInterrupt",
     "evalue": "",
     "output_type": "error",
     "traceback": [
      "\u001b[0;31m---------------------------------------------------------------------------\u001b[0m",
      "\u001b[0;31mKeyboardInterrupt\u001b[0m                         Traceback (most recent call last)",
      "\u001b[0;32m<ipython-input-979-3ec6c57be862>\u001b[0m in \u001b[0;36m<module>\u001b[0;34m()\u001b[0m\n\u001b[1;32m      2\u001b[0m \u001b[0mmisc\u001b[0m\u001b[0;34m.\u001b[0m\u001b[0mrreload\u001b[0m\u001b[0;34m(\u001b[0m\u001b[0mopt\u001b[0m\u001b[0;34m)\u001b[0m\u001b[0;34m\u001b[0m\u001b[0m\n\u001b[1;32m      3\u001b[0m \u001b[0;32mfrom\u001b[0m \u001b[0mopt\u001b[0m \u001b[0;32mimport\u001b[0m \u001b[0msoftmax\u001b[0m\u001b[0;34m\u001b[0m\u001b[0m\n\u001b[0;32m----> 4\u001b[0;31m \u001b[0msoftmax\u001b[0m\u001b[0;34m.\u001b[0m\u001b[0msoftmax_gn\u001b[0m\u001b[0;34m(\u001b[0m\u001b[0mX_train_fc7_small\u001b[0m\u001b[0;34m,\u001b[0m \u001b[0my_train_fc7_small\u001b[0m\u001b[0;34m,\u001b[0m \u001b[0mX_test_fc7_small\u001b[0m\u001b[0;34m,\u001b[0m \u001b[0my_test_fc7_small\u001b[0m\u001b[0;34m,\u001b[0m \u001b[0mXtX\u001b[0m\u001b[0;34m,\u001b[0m \u001b[0mstep_size\u001b[0m\u001b[0;34m=\u001b[0m\u001b[0;36m1\u001b[0m\u001b[0;34m)\u001b[0m\u001b[0;34m\u001b[0m\u001b[0m\n\u001b[0m",
      "\u001b[0;32m/home/ubuntu/pictureweb/opt/softmax.py\u001b[0m in \u001b[0;36msoftmax_gn\u001b[0;34m(X_train, y_train, X_test, y_test, XtX, step_size, multiplier, numiter, verbose)\u001b[0m\n\u001b[1;32m     69\u001b[0m             \u001b[0mgrad\u001b[0m \u001b[0;34m=\u001b[0m \u001b[0;34m(\u001b[0m\u001b[0;36m1.0\u001b[0m\u001b[0;34m/\u001b[0m\u001b[0mnum_samples\u001b[0m\u001b[0;34m)\u001b[0m\u001b[0;34m*\u001b[0m\u001b[0;34m(\u001b[0m\u001b[0mX_train\u001b[0m\u001b[0;34m.\u001b[0m\u001b[0mT\u001b[0m\u001b[0;34m.\u001b[0m\u001b[0mdot\u001b[0m\u001b[0;34m(\u001b[0m\u001b[0mtrain_preds\u001b[0m\u001b[0;34m)\u001b[0m\u001b[0;34m.\u001b[0m\u001b[0mT\u001b[0m\u001b[0;34m)\u001b[0m \u001b[0;34m-\u001b[0m \u001b[0mlambdav\u001b[0m\u001b[0;34m*\u001b[0m\u001b[0mw\u001b[0m\u001b[0;34m\u001b[0m\u001b[0m\n\u001b[1;32m     70\u001b[0m             \u001b[0mw\u001b[0m \u001b[0;34m+=\u001b[0m \u001b[0mstep_size\u001b[0m\u001b[0;34m*\u001b[0m\u001b[0;34m(\u001b[0m\u001b[0mlinalg\u001b[0m\u001b[0;34m.\u001b[0m\u001b[0msolve\u001b[0m\u001b[0;34m(\u001b[0m\u001b[0mgmat\u001b[0m\u001b[0;34m,\u001b[0m \u001b[0mgrad\u001b[0m\u001b[0;34m.\u001b[0m\u001b[0mT\u001b[0m\u001b[0;34m,\u001b[0m \u001b[0msym_pos\u001b[0m\u001b[0;34m=\u001b[0m\u001b[0;32mTrue\u001b[0m\u001b[0;34m)\u001b[0m\u001b[0;34m)\u001b[0m\u001b[0;34m.\u001b[0m\u001b[0mT\u001b[0m\u001b[0;34m\u001b[0m\u001b[0m\n\u001b[0;32m---> 71\u001b[0;31m             \u001b[0my_train_pred\u001b[0m \u001b[0;34m=\u001b[0m \u001b[0mnp\u001b[0m\u001b[0;34m.\u001b[0m\u001b[0margmax\u001b[0m\u001b[0;34m(\u001b[0m\u001b[0msoftmax_pred\u001b[0m\u001b[0;34m(\u001b[0m\u001b[0mw\u001b[0m\u001b[0;34m.\u001b[0m\u001b[0mdot\u001b[0m\u001b[0;34m(\u001b[0m\u001b[0mX_train\u001b[0m\u001b[0;34m.\u001b[0m\u001b[0mT\u001b[0m\u001b[0;34m)\u001b[0m\u001b[0;34m.\u001b[0m\u001b[0mT\u001b[0m\u001b[0;34m)\u001b[0m\u001b[0;34m,\u001b[0m \u001b[0maxis\u001b[0m\u001b[0;34m=\u001b[0m\u001b[0;36m1\u001b[0m\u001b[0;34m)\u001b[0m\u001b[0;34m\u001b[0m\u001b[0m\n\u001b[0m\u001b[1;32m     72\u001b[0m             \u001b[0my_test_pred\u001b[0m \u001b[0;34m=\u001b[0m \u001b[0mnp\u001b[0m\u001b[0;34m.\u001b[0m\u001b[0margmax\u001b[0m\u001b[0;34m(\u001b[0m\u001b[0msoftmax_pred\u001b[0m\u001b[0;34m(\u001b[0m\u001b[0mw\u001b[0m\u001b[0;34m.\u001b[0m\u001b[0mdot\u001b[0m\u001b[0;34m(\u001b[0m\u001b[0mX_test\u001b[0m\u001b[0;34m.\u001b[0m\u001b[0mT\u001b[0m\u001b[0;34m)\u001b[0m\u001b[0;34m.\u001b[0m\u001b[0mT\u001b[0m\u001b[0;34m)\u001b[0m\u001b[0;34m,\u001b[0m \u001b[0maxis\u001b[0m\u001b[0;34m=\u001b[0m\u001b[0;36m1\u001b[0m\u001b[0;34m)\u001b[0m\u001b[0;34m\u001b[0m\u001b[0m\n\u001b[1;32m     73\u001b[0m             \u001b[0mtrain_acc\u001b[0m \u001b[0;34m=\u001b[0m \u001b[0mmetrics\u001b[0m\u001b[0;34m.\u001b[0m\u001b[0maccuracy_score\u001b[0m\u001b[0;34m(\u001b[0m\u001b[0my_train\u001b[0m\u001b[0;34m,\u001b[0m \u001b[0my_train_pred\u001b[0m\u001b[0;34m)\u001b[0m\u001b[0;34m\u001b[0m\u001b[0m\n",
      "\u001b[0;31mKeyboardInterrupt\u001b[0m: "
     ]
    }
   ],
   "source": [
    "misc.rreload(softmax)\n",
    "misc.rreload(opt)\n",
    "from opt import softmax\n",
    "softmax.softmax_gn(X_train_fc7_small, y_train_fc7_small, X_test_fc7_small, y_test_fc7_small, XtX, step_size=1)"
   ]
  },
  {
   "cell_type": "code",
   "execution_count": 972,
   "metadata": {
    "collapsed": false
   },
   "outputs": [
    {
     "ename": "AttributeError",
     "evalue": "module 'conv.opt' has no attribute 'softmax'",
     "output_type": "error",
     "traceback": [
      "\u001b[0;31m---------------------------------------------------------------------------\u001b[0m",
      "\u001b[0;31mAttributeError\u001b[0m                            Traceback (most recent call last)",
      "\u001b[0;32m<ipython-input-972-4279601b1e2c>\u001b[0m in \u001b[0;36m<module>\u001b[0;34m()\u001b[0m\n\u001b[0;32m----> 1\u001b[0;31m \u001b[0mopt\u001b[0m\u001b[0;34m.\u001b[0m\u001b[0msoftmax\u001b[0m\u001b[0;34m\u001b[0m\u001b[0m\n\u001b[0m",
      "\u001b[0;31mAttributeError\u001b[0m: module 'conv.opt' has no attribute 'softmax'"
     ]
    }
   ],
   "source": [
    "opt.softmax"
   ]
  },
  {
   "cell_type": "code",
   "execution_count": null,
   "metadata": {
    "collapsed": true
   },
   "outputs": [],
   "source": []
  }
 ],
 "metadata": {
  "kernelspec": {
   "display_name": "Python 3",
   "language": "python",
   "name": "python3"
  },
  "language_info": {
   "codemirror_mode": {
    "name": "ipython",
    "version": 3
   },
   "file_extension": ".py",
   "mimetype": "text/x-python",
   "name": "python",
   "nbconvert_exporter": "python",
   "pygments_lexer": "ipython3",
   "version": "3.6.0"
  }
 },
 "nbformat": 4,
 "nbformat_minor": 2
}
