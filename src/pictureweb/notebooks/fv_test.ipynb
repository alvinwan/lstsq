{
 "cells": [
  {
   "cell_type": "code",
   "execution_count": 30,
   "metadata": {},
   "outputs": [
    {
     "name": "stdout",
     "output_type": "stream",
     "text": [
      "Populating the interactive namespace from numpy and matplotlib\n"
     ]
    }
   ],
   "source": [
    "%pylab inline\n",
    "import scipy.linalg\n",
    "import sklearn.metrics as metrics\n",
    "import sys\n",
    "sys.path.insert(0, \"..\")\n",
    "from pictureweb.opt import ls"
   ]
  },
  {
   "cell_type": "code",
   "execution_count": 2,
   "metadata": {
    "collapsed": true
   },
   "outputs": [],
   "source": [
    "X_train = np.load(\"features_fv.npy\")"
   ]
  },
  {
   "cell_type": "code",
   "execution_count": 3,
   "metadata": {
    "collapsed": true
   },
   "outputs": [],
   "source": [
    "y_train = np.load(\"scrambled_train_labels.npy\")"
   ]
  },
  {
   "cell_type": "code",
   "execution_count": 5,
   "metadata": {},
   "outputs": [
    {
     "name": "stdout",
     "output_type": "stream",
     "text": [
      "CPU times: user 18min 45s, sys: 0 ns, total: 18min 45s\n",
      "Wall time: 43.9 s\n"
     ]
    }
   ],
   "source": [
    "%time XTX = X_train.T.dot(X_train)"
   ]
  },
  {
   "cell_type": "code",
   "execution_count": 7,
   "metadata": {},
   "outputs": [
    {
     "name": "stdout",
     "output_type": "stream",
     "text": [
      "CPU times: user 3.34 s, sys: 0 ns, total: 3.34 s\n",
      "Wall time: 3.33 s\n"
     ]
    }
   ],
   "source": [
    "%time y_train_enc = np.eye(1000)[y_train.astype('int')]"
   ]
  },
  {
   "cell_type": "code",
   "execution_count": 22,
   "metadata": {
    "collapsed": true
   },
   "outputs": [],
   "source": [
    "idxs = np.random.choice(X_train.shape[0], X_train.shape[0], replace=False)"
   ]
  },
  {
   "cell_type": "code",
   "execution_count": 23,
   "metadata": {
    "collapsed": true
   },
   "outputs": [],
   "source": [
    "y_train_enc_shuffled = y_train_enc[idxs]"
   ]
  },
  {
   "cell_type": "code",
   "execution_count": 8,
   "metadata": {},
   "outputs": [
    {
     "name": "stdout",
     "output_type": "stream",
     "text": [
      "CPU times: user 9min 13s, sys: 2min 42s, total: 11min 55s\n",
      "Wall time: 24.4 s\n"
     ]
    }
   ],
   "source": [
    "%time XTy = X_train.T.dot(y_train_enc)"
   ]
  },
  {
   "cell_type": "code",
   "execution_count": 19,
   "metadata": {},
   "outputs": [
    {
     "name": "stdout",
     "output_type": "stream",
     "text": [
      "CPU times: user 5.01 s, sys: 320 ms, total: 5.33 s\n",
      "Wall time: 495 ms\n"
     ]
    }
   ],
   "source": [
    "\n",
    "%time model = scipy.linalg.solve(XTX + np.eye(XTX.shape[0])*1e-8, XTy, sym_pos=True)"
   ]
  },
  {
   "cell_type": "code",
   "execution_count": 20,
   "metadata": {},
   "outputs": [
    {
     "name": "stdout",
     "output_type": "stream",
     "text": [
      "CPU times: user 7min 15s, sys: 1min 39s, total: 8min 55s\n",
      "Wall time: 19.8 s\n"
     ]
    }
   ],
   "source": [
    "%time y_train_pred = X_train.dot(model)"
   ]
  },
  {
   "cell_type": "code",
   "execution_count": 21,
   "metadata": {},
   "outputs": [
    {
     "data": {
      "text/plain": [
       "0.17882446238468522"
      ]
     },
     "execution_count": 21,
     "metadata": {},
     "output_type": "execute_result"
    }
   ],
   "source": [
    "metrics.accuracy_score(np.argmax(y_train_pred, axis=1), y_train)"
   ]
  },
  {
   "cell_type": "code",
   "execution_count": 24,
   "metadata": {},
   "outputs": [
    {
     "name": "stdout",
     "output_type": "stream",
     "text": [
      "CPU times: user 8min 14s, sys: 1min 37s, total: 9min 52s\n",
      "Wall time: 19.8 s\n"
     ]
    }
   ],
   "source": [
    "\n",
    "%time XTy_shuffled = X_train.T.dot(y_train_enc_shuffled)"
   ]
  },
  {
   "cell_type": "code",
   "execution_count": 25,
   "metadata": {},
   "outputs": [
    {
     "name": "stdout",
     "output_type": "stream",
     "text": [
      "CPU times: user 5.65 s, sys: 268 ms, total: 5.92 s\n",
      "Wall time: 532 ms\n"
     ]
    }
   ],
   "source": [
    "\n",
    "%time model_shuffled = scipy.linalg.solve(XTX + np.eye(XTX.shape[0])*1e-8, XTy_shuffled, sym_pos=True)"
   ]
  },
  {
   "cell_type": "code",
   "execution_count": 26,
   "metadata": {},
   "outputs": [
    {
     "name": "stdout",
     "output_type": "stream",
     "text": [
      "CPU times: user 7min 6s, sys: 2min 7s, total: 9min 13s\n",
      "Wall time: 20.2 s\n"
     ]
    }
   ],
   "source": [
    "%time y_train_pred_shuffled = X_train.dot(model_shuffled)"
   ]
  },
  {
   "cell_type": "code",
   "execution_count": 28,
   "metadata": {},
   "outputs": [
    {
     "data": {
      "text/plain": [
       "0.079228547098075433"
      ]
     },
     "execution_count": 28,
     "metadata": {},
     "output_type": "execute_result"
    }
   ],
   "source": [
    "metrics.accuracy_score(np.argmax(y_train_pred_shuffled, axis=1), np.argmax(y_train_enc_shuffled, axis=1))"
   ]
  },
  {
   "cell_type": "code",
   "execution_count": 31,
   "metadata": {},
   "outputs": [
    {
     "data": {
      "text/plain": [
       "0.39530365674420276"
      ]
     },
     "execution_count": 31,
     "metadata": {},
     "output_type": "execute_result"
    }
   ],
   "source": [
    "ls.top_k_accuracy(y_train, y_train_pred)"
   ]
  },
  {
   "cell_type": "code",
   "execution_count": null,
   "metadata": {
    "collapsed": true
   },
   "outputs": [],
   "source": []
  }
 ],
 "metadata": {
  "kernelspec": {
   "display_name": "Python 3",
   "language": "python",
   "name": "python3"
  },
  "language_info": {
   "codemirror_mode": {
    "name": "ipython",
    "version": 3
   },
   "file_extension": ".py",
   "mimetype": "text/x-python",
   "name": "python",
   "nbconvert_exporter": "python",
   "pygments_lexer": "ipython3",
   "version": "3.6.1"
  }
 },
 "nbformat": 4,
 "nbformat_minor": 2
}
