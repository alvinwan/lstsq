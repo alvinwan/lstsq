{
 "cells": [
  {
   "cell_type": "code",
   "execution_count": 237,
   "metadata": {
    "collapsed": false
   },
   "outputs": [],
   "source": [
    "import boto3\n",
    "import numpy as np\n",
    "import concurrent.futures as fs\n",
    "import io \n",
    "import linalg\n",
    "import random\n",
    "import string\n",
    "import hashlib\n",
    "import time\n",
    "import os"
   ]
  },
  {
   "cell_type": "code",
   "execution_count": 445,
   "metadata": {
    "collapsed": true
   },
   "outputs": [],
   "source": [
    "def upload_data(total_mb, mb_per_file, bucket, worker):\n",
    "    client = boto3.client('s3')\n",
    "    hashes = {}\n",
    "    num_files = int(np.ceil(total_mb/mb_per_file))\n",
    "    np.random.seed(worker)\n",
    "    rng_time = 0\n",
    "    for n in range(num_files):\n",
    "        key = \"s3_benchmark_{0}_{1}\".format(worker, n)\n",
    "        s = time.time()\n",
    "        data = np.random.randn(int((mb_per_file * 1e6)/8))\n",
    "        hash_key = md5_hash_array(data)\n",
    "        key = str(hash_key) + key \n",
    "        hashes[key] = hash_key\n",
    "        e = time.time()\n",
    "        client.put_object(Key=key, Bucket=bucket, Body=data.tostring())\n",
    "        rng_time += e - s\n",
    "    return hashes, rng_time\n",
    "\n",
    "def md5_hash_array(x):\n",
    "     return hashlib.md5(x.tostring()).hexdigest()\n",
    "    \n",
    "def download_keys(keys, bucket, worker, num_workers, total_mb, hashes, mb_per_process):\n",
    "    client = boto3.client('s3')\n",
    "    m = np.memmap(\"/dev/shm/matrix\", dtype='float64', mode='r+', shape=(int((total_mb * 1e6)/8)))\n",
    "\n",
    "    doubles_per_process = int((mb_per_process * 1e6)/8)\n",
    "    mbc = mb_per_process/len(keys)\n",
    "    idx = (worker*doubles_per_process)\n",
    "    for i,key in enumerate(keys):\n",
    "        obj = client.get_object(Key=key, Bucket=bucket)\n",
    "        array = np.fromstring(obj['Body'].read())\n",
    "        this_hash = md5_hash_array(array)\n",
    "        assert this_hash == hashes[key]\n",
    "        assert (not np.all(array == 0))\n",
    "        m[idx:idx+len(array)] = array\n",
    "        idx += len(array)\n",
    "    m.flush()\n",
    "    return 0\n",
    "\n",
    "def clean_up(keys, client, bucket):\n",
    "    for key in keys:\n",
    "        client.delete_object(Bucket=bucket, Key=key)"
   ]
  },
  {
   "cell_type": "code",
   "execution_count": 204,
   "metadata": {
    "collapsed": false
   },
   "outputs": [
    {
     "data": {
      "text/plain": [
       "[]"
      ]
     },
     "execution_count": 204,
     "metadata": {},
     "output_type": "execute_result"
    }
   ],
   "source": [
    "upload_data(640,64,bucket,0)"
   ]
  },
  {
   "cell_type": "code",
   "execution_count": 239,
   "metadata": {
    "collapsed": true
   },
   "outputs": [],
   "source": [
    "buffer = X\n",
    "idx = 0"
   ]
  },
  {
   "cell_type": "code",
   "execution_count": 193,
   "metadata": {
    "collapsed": false
   },
   "outputs": [
    {
     "name": "stdout",
     "output_type": "stream",
     "text": [
      "CPU times: user 0 ns, sys: 0 ns, total: 0 ns\n",
      "Wall time: 58.4 µs\n"
     ]
    },
    {
     "data": {
      "text/plain": [
       "[array([-0.29180369,  1.26869724, -0.7464766 , ..., -0.06643731,\n",
       "        -0.32220012,  0.06772099]),\n",
       " array([ 0.65249473,  0.62574683,  1.32867326, ...,  0.16590717,\n",
       "        -1.09062257,  2.24514385]),\n",
       " array([-1.32026079, -0.47659805,  0.35059912, ...,  1.84824013,\n",
       "        -0.26889658,  0.35529808]),\n",
       " array([ 0.69446594,  0.7202985 ,  0.72367283, ..., -2.08949591,\n",
       "         0.47908934, -1.54728588]),\n",
       " array([ 0.48580424,  0.61557938,  0.46349266, ..., -1.144108  ,\n",
       "         0.50400425, -1.05399785]),\n",
       " array([-1.57574107, -1.48795276, -0.12902127, ..., -0.06062828,\n",
       "        -0.94697029,  0.0964624 ]),\n",
       " array([-1.39338792,  0.20887897, -0.43614628, ..., -0.32307805,\n",
       "         0.38768403, -0.82191389]),\n",
       " array([-1.82783571, -1.00325585, -0.83595186, ..., -0.80306042,\n",
       "         0.53820541,  1.29139682]),\n",
       " array([-1.13231237,  0.12396602, -0.2952104 , ..., -0.18426858,\n",
       "        -0.07783604,  0.62999944]),\n",
       " array([-0.08132674,  1.79362581,  0.69062937, ...,  0.03914539,\n",
       "        -0.38425125, -0.63159471])]"
      ]
     },
     "execution_count": 193,
     "metadata": {},
     "output_type": "execute_result"
    }
   ],
   "source": [
    "%time generate_random(64,10)"
   ]
  },
  {
   "cell_type": "code",
   "execution_count": 192,
   "metadata": {
    "collapsed": false
   },
   "outputs": [
    {
     "data": {
      "text/plain": [
       "{'b6935bee1b1bfd2f4dbd9d66aba5171f': 'b6935bee1b1bfd2f4dbd9d66aba5171f'}"
      ]
     },
     "execution_count": 192,
     "metadata": {},
     "output_type": "execute_result"
    }
   ],
   "source": [
    "upload_data(data, bucket)"
   ]
  },
  {
   "cell_type": "code",
   "execution_count": 196,
   "metadata": {
    "collapsed": false
   },
   "outputs": [
    {
     "name": "stdout",
     "output_type": "stream",
     "text": [
      "1024\n"
     ]
    }
   ],
   "source": [
    "client = boto3.client('s3')\n",
    "bucket = \"vaishaalpywrenlinalg\"\n",
    "max_workers = 2\n",
    "mb_per_file = 64\n",
    "total_mb = 1024*2\n",
    "mb_per_process = int(np.ceil(total_mb/max_workers))\n",
    "print(mb_per_process)"
   ]
  },
  {
   "cell_type": "code",
   "execution_count": 417,
   "metadata": {
    "collapsed": false
   },
   "outputs": [],
   "source": [
    "def benchmark_upload(max_workers=max_workers, total_mb=total_mb, mb_per_file=mb_per_file):\n",
    "    mb_per_process = int(np.ceil(total_mb/max_workers))\n",
    "    with fs.ProcessPoolExecutor(max_workers=max_workers) as executor:\n",
    "        key_futures = {}\n",
    "        all_futures = []\n",
    "        start = time.time() \n",
    "        num_files = int(np.ceil(mb_per_process/mb_per_file))\n",
    "        print(num_files, \"per worker\")\n",
    "        for worker in range(max_workers):\n",
    "            future = executor.submit(upload_data, mb_per_process, mb_per_file, bucket, worker)\n",
    "            key_futures[worker] = future\n",
    "            all_futures.append(future)\n",
    "        \n",
    "        print(len(all_futures))\n",
    "        fs.wait(all_futures)\n",
    "        print(all_futures[0].result())\n",
    "        worker_hash_dicts, times = zip(*map(lambda x: x.result(), all_futures))\n",
    "        print(list(worker_hash_dicts))\n",
    "        hash_dict = {}\n",
    "        [hash_dict.update(d) for d in worker_hash_dicts]\n",
    "        avg_rng_time = sum(times)/max_workers\n",
    "        end = time.time()\n",
    "        total_upload_MBPS = total_mb/((end - start) - avg_rng_time)\n",
    "        print(\"total upload MBPS was {0}\".format(total_upload_MBPS))\n",
    "        print(\"Time to upload {0} MB was {1}\".format(total_mb, end-start))\n",
    "        return hash_dict\n",
    "    "
   ]
  },
  {
   "cell_type": "code",
   "execution_count": 425,
   "metadata": {
    "collapsed": true
   },
   "outputs": [],
   "source": [
    "def benchmark_download(keys, max_workers, hashes, mb_per_file=12):\n",
    "    total_mb = len(keys)*mb_per_file\n",
    "    mb_per_process = int(np.ceil(total_mb/max_workers))\n",
    "    chunk_size = int(np.ceil(len(keys)/max_workers))\n",
    "    chunks = list(linalg.chunk(keys, chunk_size))\n",
    "    print(len(chunks))\n",
    "    print(total_mb)\n",
    "    with fs.ProcessPoolExecutor(max_workers=max_workers) as executor:\n",
    "        M = np.memmap(\"/dev/shm/matrix\", dtype='float64', mode='w+', shape=(int((total_mb * 1e6)/8)))\n",
    "        all_object_futures = []\n",
    "        start = time.time()\n",
    "        for worker, chunk_keys in enumerate(chunks):  \n",
    "            object_futures = executor.submit(download_keys, chunk_keys, bucket, worker, max_workers, total_mb, hashes, mb_per_process)\n",
    "            all_object_futures.append(object_futures)\n",
    "        fs.wait(all_object_futures)\n",
    "        end = time.time()\n",
    "        total_download_MBPS = total_mb/(end - start)\n",
    "        print(\"total download MBPS was {0}\".format(total_download_MBPS))\n",
    "        print(\"Time to download {0} MB was {1}\".format(total_mb, end-start))\n",
    "        M = np.memmap(\"/dev/shm/matrix\", dtype='float64', mode='r+', shape=(int((total_mb * 1e6)/8)))\n",
    "        return M"
   ]
  },
  {
   "cell_type": "code",
   "execution_count": 467,
   "metadata": {
    "collapsed": false
   },
   "outputs": [
    {
     "name": "stdout",
     "output_type": "stream",
     "text": [
      "2 per worker\n",
      "128\n",
      "({'c8e54e4e469838198e9303f7d15155efs3_benchmark_0_0': 'c8e54e4e469838198e9303f7d15155ef', 'a6b63d16fee28aa28d84e122027c1e06s3_benchmark_0_1': 'a6b63d16fee28aa28d84e122027c1e06'}, 2.945990800857544)\n",
      "[{'c8e54e4e469838198e9303f7d15155efs3_benchmark_0_0': 'c8e54e4e469838198e9303f7d15155ef', 'a6b63d16fee28aa28d84e122027c1e06s3_benchmark_0_1': 'a6b63d16fee28aa28d84e122027c1e06'}, {'59ba9198005fe560cd8db3bb3d7481bbs3_benchmark_1_0': '59ba9198005fe560cd8db3bb3d7481bb', 'c2a49db8faa1062aeae3f3d2df7ae588s3_benchmark_1_1': 'c2a49db8faa1062aeae3f3d2df7ae588'}, {'87c4739b3349ada3e0550539181d1e4ds3_benchmark_2_0': '87c4739b3349ada3e0550539181d1e4d', '82443b74685cff5fc48bba4857b84b4bs3_benchmark_2_1': '82443b74685cff5fc48bba4857b84b4b'}, {'674c38166bc7c906d608cbdad78b522as3_benchmark_3_0': '674c38166bc7c906d608cbdad78b522a', 'b04a916bed2be2f3b1f26c5e6639a286s3_benchmark_3_1': 'b04a916bed2be2f3b1f26c5e6639a286'}, {'d70b58052ecb348ed8494f9661f8f8ffs3_benchmark_4_0': 'd70b58052ecb348ed8494f9661f8f8ff', '18b9c204cac61cff376aabbb40d0968bs3_benchmark_4_1': '18b9c204cac61cff376aabbb40d0968b'}, {'0372259ebd3004ec5b63a3d4a57b7907s3_benchmark_5_0': '0372259ebd3004ec5b63a3d4a57b7907', '73cffe883a6a9a745164c77a594a9809s3_benchmark_5_1': '73cffe883a6a9a745164c77a594a9809'}, {'5d38e15d3c77fe3fdc09c28db0b47f86s3_benchmark_6_0': '5d38e15d3c77fe3fdc09c28db0b47f86', 'd044ab52294287ad38d7224af093986bs3_benchmark_6_1': 'd044ab52294287ad38d7224af093986b'}, {'db43acc305ed9b3fd8bb3346d38724a2s3_benchmark_7_0': 'db43acc305ed9b3fd8bb3346d38724a2', '925fa2447931b6db0a759cf1ae9d40cds3_benchmark_7_1': '925fa2447931b6db0a759cf1ae9d40cd'}, {'c585de9c4440d22208cd31eb66a50887s3_benchmark_8_0': 'c585de9c4440d22208cd31eb66a50887', '89d194ae7e8b0ca8cbac333224150ac8s3_benchmark_8_1': '89d194ae7e8b0ca8cbac333224150ac8'}, {'f41280fa9f35c1cd754708516e545cacs3_benchmark_9_0': 'f41280fa9f35c1cd754708516e545cac', 'a56f026b1b440b3973f2bdd9e3ae53d3s3_benchmark_9_1': 'a56f026b1b440b3973f2bdd9e3ae53d3'}, {'1672dcf17dc6cc4861f658196ec9f752s3_benchmark_10_0': '1672dcf17dc6cc4861f658196ec9f752', 'dee2be515b2934c8e8a1dd1e4e2d863fs3_benchmark_10_1': 'dee2be515b2934c8e8a1dd1e4e2d863f'}, {'5867a39644c4a07f5cbba082043f3470s3_benchmark_11_0': '5867a39644c4a07f5cbba082043f3470', 'fdcd6c7cd68f9fd8263d74825e36f192s3_benchmark_11_1': 'fdcd6c7cd68f9fd8263d74825e36f192'}, {'bc23ee1d24e0392f8e16f521127b7040s3_benchmark_12_0': 'bc23ee1d24e0392f8e16f521127b7040', 'fc07f49b04b3c7932d8487ec47ec9c14s3_benchmark_12_1': 'fc07f49b04b3c7932d8487ec47ec9c14'}, {'c19eaa9c56e522c1112461252720480ds3_benchmark_13_0': 'c19eaa9c56e522c1112461252720480d', '105ec8501c36dd3a81b65ef93a8a46das3_benchmark_13_1': '105ec8501c36dd3a81b65ef93a8a46da'}, {'5aef551afabd28af40943ad9a0844c54s3_benchmark_14_0': '5aef551afabd28af40943ad9a0844c54', '2c8e5177374a9fc363e71e17032047acs3_benchmark_14_1': '2c8e5177374a9fc363e71e17032047ac'}, {'0be1d53b44d9385e88008c70dd104867s3_benchmark_15_0': '0be1d53b44d9385e88008c70dd104867', '8467bf80f64e4ec2b1234a7c44a82436s3_benchmark_15_1': '8467bf80f64e4ec2b1234a7c44a82436'}, {'e536849584e536edb53694ddcda05757s3_benchmark_16_0': 'e536849584e536edb53694ddcda05757', 'bac9a72242db664c1c6010212ebb49d8s3_benchmark_16_1': 'bac9a72242db664c1c6010212ebb49d8'}, {'b70c9c5fad0bfaccceabff6757f36b1bs3_benchmark_17_0': 'b70c9c5fad0bfaccceabff6757f36b1b', 'e115c8e0fbff3f6985f6b54b5a8e6c59s3_benchmark_17_1': 'e115c8e0fbff3f6985f6b54b5a8e6c59'}, {'e73b4d501a92ba3d3d04f5e1fbc4ff4cs3_benchmark_18_0': 'e73b4d501a92ba3d3d04f5e1fbc4ff4c', '9a38de4a44c1cfb6aa67a80a1d8c138as3_benchmark_18_1': '9a38de4a44c1cfb6aa67a80a1d8c138a'}, {'f8f115c941f9fb3754ce1dccff2e6cbas3_benchmark_19_0': 'f8f115c941f9fb3754ce1dccff2e6cba', 'd86e9ea25d121f3f56ebabca74f4ebdes3_benchmark_19_1': 'd86e9ea25d121f3f56ebabca74f4ebde'}, {'b79696819adcad37beb82864f6200fa9s3_benchmark_20_0': 'b79696819adcad37beb82864f6200fa9', '7b51825a61f8e66f495486be7681c016s3_benchmark_20_1': '7b51825a61f8e66f495486be7681c016'}, {'67989db71dfe10600074957fcf9f06c8s3_benchmark_21_0': '67989db71dfe10600074957fcf9f06c8', '0c9ffa5de43752a2599cddd331e65c88s3_benchmark_21_1': '0c9ffa5de43752a2599cddd331e65c88'}, {'b6e9c66225482c08737ead3706f8fbbes3_benchmark_22_0': 'b6e9c66225482c08737ead3706f8fbbe', '4c350233745a1c6179fcbb66ef79a7eas3_benchmark_22_1': '4c350233745a1c6179fcbb66ef79a7ea'}, {'c833d88f029fb9a97e781b29c1a34014s3_benchmark_23_0': 'c833d88f029fb9a97e781b29c1a34014', 'c068f1084bd4a5a7df761aef00bca046s3_benchmark_23_1': 'c068f1084bd4a5a7df761aef00bca046'}, {'6c92de33c30564bb40ed25d8e215dd7as3_benchmark_24_0': '6c92de33c30564bb40ed25d8e215dd7a', '5dd4a193d0247e7b706a94114eb4cea0s3_benchmark_24_1': '5dd4a193d0247e7b706a94114eb4cea0'}, {'f1ed21841601fd787dd5181674c33ca4s3_benchmark_25_0': 'f1ed21841601fd787dd5181674c33ca4', '81c27d7c3af7658688b88e89d092a400s3_benchmark_25_1': '81c27d7c3af7658688b88e89d092a400'}, {'0abf5d8188bcbdd9f4a0e8e61f9f7925s3_benchmark_26_0': '0abf5d8188bcbdd9f4a0e8e61f9f7925', 'ea163761e53df6e27dca584531fd03c4s3_benchmark_26_1': 'ea163761e53df6e27dca584531fd03c4'}, {'fe380ff56671c17ced6dd98bd1fe9fabs3_benchmark_27_0': 'fe380ff56671c17ced6dd98bd1fe9fab', 'f26752497efc25337dca99d3a5ce1092s3_benchmark_27_1': 'f26752497efc25337dca99d3a5ce1092'}, {'b93bd357d245319cd247c1da10fcd783s3_benchmark_28_0': 'b93bd357d245319cd247c1da10fcd783', '338e3dcf8f73be28cc66be9bad61a2cbs3_benchmark_28_1': '338e3dcf8f73be28cc66be9bad61a2cb'}, {'7f6edcf419e0adef55709ba9154fd0ees3_benchmark_29_0': '7f6edcf419e0adef55709ba9154fd0ee', '8b14578ebd5a936a25abf792dad739d3s3_benchmark_29_1': '8b14578ebd5a936a25abf792dad739d3'}, {'5ee139a9447db2376281121e5d417c20s3_benchmark_30_0': '5ee139a9447db2376281121e5d417c20', '44144d0c0bc72be8a8145d51ed344d4cs3_benchmark_30_1': '44144d0c0bc72be8a8145d51ed344d4c'}, {'d61fc545fb2e354014911afac0ba1e71s3_benchmark_31_0': 'd61fc545fb2e354014911afac0ba1e71', '628bb28a5ca0709a8d2a092c3d6f7ac8s3_benchmark_31_1': '628bb28a5ca0709a8d2a092c3d6f7ac8'}, {'d79fa1600d55dac1b68e80e4cde96b41s3_benchmark_32_0': 'd79fa1600d55dac1b68e80e4cde96b41', 'c84324ba61b3757cbb0e14aa0a6330e6s3_benchmark_32_1': 'c84324ba61b3757cbb0e14aa0a6330e6'}, {'30a1cfbce0b401721fcfbc38a6480249s3_benchmark_33_0': '30a1cfbce0b401721fcfbc38a6480249', '99f341fdef41ef66bd709ab918ef0453s3_benchmark_33_1': '99f341fdef41ef66bd709ab918ef0453'}, {'72b20f841234a69d9f9f07d8c60ff551s3_benchmark_34_0': '72b20f841234a69d9f9f07d8c60ff551', '333c69c47835ad822157ac856e6ec29ds3_benchmark_34_1': '333c69c47835ad822157ac856e6ec29d'}, {'522ac14e7aae737d5943b9c2a536340as3_benchmark_35_0': '522ac14e7aae737d5943b9c2a536340a', '2351fd7f73671f0901cbac913ed8eb6ds3_benchmark_35_1': '2351fd7f73671f0901cbac913ed8eb6d'}, {'521dfdf635539f0740d6b62cd41c713bs3_benchmark_36_0': '521dfdf635539f0740d6b62cd41c713b', 'ec5cd2b639d9f3d7ad668a7e63064198s3_benchmark_36_1': 'ec5cd2b639d9f3d7ad668a7e63064198'}, {'b2fb9f31eb9289b095b2eea7fdda95f3s3_benchmark_37_0': 'b2fb9f31eb9289b095b2eea7fdda95f3', '84b7fd533fd88a41931a322387ae1e11s3_benchmark_37_1': '84b7fd533fd88a41931a322387ae1e11'}, {'8691a5c48d80b2cb65b6d6ca399a1204s3_benchmark_38_0': '8691a5c48d80b2cb65b6d6ca399a1204', '35a6b36d9e686b8bfaaa518593b7dfd7s3_benchmark_38_1': '35a6b36d9e686b8bfaaa518593b7dfd7'}, {'fc9ed8709ed6d074fddb199657cec243s3_benchmark_39_0': 'fc9ed8709ed6d074fddb199657cec243', 'cb43bbfdab915d6278d39d42d24c03a5s3_benchmark_39_1': 'cb43bbfdab915d6278d39d42d24c03a5'}, {'508b2f870fe84b42d5a82864322806e9s3_benchmark_40_0': '508b2f870fe84b42d5a82864322806e9', '2c289f50e1c055cfa6e64c811b9424cbs3_benchmark_40_1': '2c289f50e1c055cfa6e64c811b9424cb'}, {'18b59a92c0f00808f53b4b4afe42b524s3_benchmark_41_0': '18b59a92c0f00808f53b4b4afe42b524', 'a7095e212d6d436de7ae048996df23b3s3_benchmark_41_1': 'a7095e212d6d436de7ae048996df23b3'}, {'8dce9d5793af59f619cac688419b1125s3_benchmark_42_0': '8dce9d5793af59f619cac688419b1125', '8f0bfbf582a66f3a9a2811d19ebc0ee0s3_benchmark_42_1': '8f0bfbf582a66f3a9a2811d19ebc0ee0'}, {'7f813050606ad31c01d35c2977cf28e3s3_benchmark_43_0': '7f813050606ad31c01d35c2977cf28e3', '05acaa0b1df2d9fee96ca2405bb333d7s3_benchmark_43_1': '05acaa0b1df2d9fee96ca2405bb333d7'}, {'b1ac5e795a4c8c58c82ec3f70761e7a9s3_benchmark_44_0': 'b1ac5e795a4c8c58c82ec3f70761e7a9', '2c608444a723b7b6d93dad23cae86c66s3_benchmark_44_1': '2c608444a723b7b6d93dad23cae86c66'}, {'a017399211fdab07459663fe2e57026fs3_benchmark_45_0': 'a017399211fdab07459663fe2e57026f', '4cb89c14ec5c8ae83c4a0efe94c83b37s3_benchmark_45_1': '4cb89c14ec5c8ae83c4a0efe94c83b37'}, {'d764b18c5e87b3407730d33e1ccd8a1cs3_benchmark_46_0': 'd764b18c5e87b3407730d33e1ccd8a1c', 'a6f29829d10f1bd6531ecc436e8dd033s3_benchmark_46_1': 'a6f29829d10f1bd6531ecc436e8dd033'}, {'645746186375d171bba70cdd6c2464b3s3_benchmark_47_0': '645746186375d171bba70cdd6c2464b3', '2b834115969b53c9a551255dfbdb9972s3_benchmark_47_1': '2b834115969b53c9a551255dfbdb9972'}, {'a720a61f8779afdc23a14a434b4b6a4cs3_benchmark_48_0': 'a720a61f8779afdc23a14a434b4b6a4c', 'ef1e11bae0a75405d064a3d58151e52as3_benchmark_48_1': 'ef1e11bae0a75405d064a3d58151e52a'}, {'2f755dabf8d10c43c7580926b038ed1as3_benchmark_49_0': '2f755dabf8d10c43c7580926b038ed1a', 'b71c9b118d8ca33826c88957cdc6ec75s3_benchmark_49_1': 'b71c9b118d8ca33826c88957cdc6ec75'}, {'eae7fc9a330c7f49d5f646d6f7d8df47s3_benchmark_50_0': 'eae7fc9a330c7f49d5f646d6f7d8df47', 'e4e80e5c660bd525aa44a48ff09c51f1s3_benchmark_50_1': 'e4e80e5c660bd525aa44a48ff09c51f1'}, {'b9cb55269e9eeb4cb5d730f1712fa2e9s3_benchmark_51_0': 'b9cb55269e9eeb4cb5d730f1712fa2e9', '5b3d9dd3113d4ff3bc88628eeff9bb16s3_benchmark_51_1': '5b3d9dd3113d4ff3bc88628eeff9bb16'}, {'918a5e7e23fed860fd77a07a691e96b5s3_benchmark_52_0': '918a5e7e23fed860fd77a07a691e96b5', '8e5c06a5d3feeaf12ecdf04f58d3221ds3_benchmark_52_1': '8e5c06a5d3feeaf12ecdf04f58d3221d'}, {'11b2649667e0b77e8dda4c086cea2925s3_benchmark_53_0': '11b2649667e0b77e8dda4c086cea2925', 'da5c7855dfeb879517119c06ff32998ds3_benchmark_53_1': 'da5c7855dfeb879517119c06ff32998d'}, {'d661f74fca14218d0ad2b6b960b07b71s3_benchmark_54_0': 'd661f74fca14218d0ad2b6b960b07b71', 'acabcbdd6e0ea6fb6dcd857069fa6d11s3_benchmark_54_1': 'acabcbdd6e0ea6fb6dcd857069fa6d11'}, {'7f642e6bda97295dafd2a6abdf44de57s3_benchmark_55_0': '7f642e6bda97295dafd2a6abdf44de57', '64ab7316dba84e44e00459618e83a36bs3_benchmark_55_1': '64ab7316dba84e44e00459618e83a36b'}, {'f7c8053dfcf0ad5207b592cfe88b129cs3_benchmark_56_0': 'f7c8053dfcf0ad5207b592cfe88b129c', 'a2b34b4e7c98b300a0a29bdd3385e2a9s3_benchmark_56_1': 'a2b34b4e7c98b300a0a29bdd3385e2a9'}, {'caa61c42d0d13c374cc42d9249f85327s3_benchmark_57_0': 'caa61c42d0d13c374cc42d9249f85327', '14f240aa8c18b3c1b1ef1659c7cb3b29s3_benchmark_57_1': '14f240aa8c18b3c1b1ef1659c7cb3b29'}, {'05cb541a6157715b750c82bdd37f5a80s3_benchmark_58_0': '05cb541a6157715b750c82bdd37f5a80', '9804d6b29652885c954e156d1ec4df28s3_benchmark_58_1': '9804d6b29652885c954e156d1ec4df28'}, {'bd8976404d6639849234dae07cd879a2s3_benchmark_59_0': 'bd8976404d6639849234dae07cd879a2', '2db946ee785b63c8d8cce189bae4f31fs3_benchmark_59_1': '2db946ee785b63c8d8cce189bae4f31f'}, {'90386a916ea80c38583e4a9f13150746s3_benchmark_60_0': '90386a916ea80c38583e4a9f13150746', '04fe15fd3be238082b12c2a2e6af36a4s3_benchmark_60_1': '04fe15fd3be238082b12c2a2e6af36a4'}, {'817b70054cf34b73fea8e6176c8d12dcs3_benchmark_61_0': '817b70054cf34b73fea8e6176c8d12dc', 'e3478268edf9c9ff0ca2f9f8fb0a1f05s3_benchmark_61_1': 'e3478268edf9c9ff0ca2f9f8fb0a1f05'}, {'2db181d368dceeaca763ea303dae7f98s3_benchmark_62_0': '2db181d368dceeaca763ea303dae7f98', '374145bc70eea7e1d51f757eebc6c3bas3_benchmark_62_1': '374145bc70eea7e1d51f757eebc6c3ba'}, {'b7a9f3cab2e6fcd5d4a7c48e1a85bdc3s3_benchmark_63_0': 'b7a9f3cab2e6fcd5d4a7c48e1a85bdc3', '156fb8cbdd68ddc43024b9d5a3182aecs3_benchmark_63_1': '156fb8cbdd68ddc43024b9d5a3182aec'}, {'bd3dd8578b7c7534a1de685b8fd70d4es3_benchmark_64_0': 'bd3dd8578b7c7534a1de685b8fd70d4e', '0ee1a29b3cf2f4dddc55be2860e99b3bs3_benchmark_64_1': '0ee1a29b3cf2f4dddc55be2860e99b3b'}, {'d33bd4ff8cd58859ec8be4463fcab3e9s3_benchmark_65_0': 'd33bd4ff8cd58859ec8be4463fcab3e9', '280cfec66b38a0235b428128e276361bs3_benchmark_65_1': '280cfec66b38a0235b428128e276361b'}, {'9fe15c4d1f460071e552ec490afa5a61s3_benchmark_66_0': '9fe15c4d1f460071e552ec490afa5a61', 'dc08ff7425b7cf8d0491f61e602cca7fs3_benchmark_66_1': 'dc08ff7425b7cf8d0491f61e602cca7f'}, {'9486e63bbd3ff37cdd9fa8f5f2fed40as3_benchmark_67_0': '9486e63bbd3ff37cdd9fa8f5f2fed40a', '9d92d522d91328a045146d006fd62ac6s3_benchmark_67_1': '9d92d522d91328a045146d006fd62ac6'}, {'221b2e1483003eb7c12957f8be899c10s3_benchmark_68_0': '221b2e1483003eb7c12957f8be899c10', 'ea439360564a64e2fff555c8ee8b5dads3_benchmark_68_1': 'ea439360564a64e2fff555c8ee8b5dad'}, {'e695d55b3fc85227b15617618a2e9c46s3_benchmark_69_0': 'e695d55b3fc85227b15617618a2e9c46', 'eb5c98b45a800db6b2d541d1c02bf097s3_benchmark_69_1': 'eb5c98b45a800db6b2d541d1c02bf097'}, {'6ba2ccbc24c807768237aec5d7e1ebd2s3_benchmark_70_0': '6ba2ccbc24c807768237aec5d7e1ebd2', 'aa0386eaffa3231f42bca8b99ac76bc5s3_benchmark_70_1': 'aa0386eaffa3231f42bca8b99ac76bc5'}, {'5d25db0fe01dcab37b5d90b3a81c3db4s3_benchmark_71_0': '5d25db0fe01dcab37b5d90b3a81c3db4', '9b63fe2620e33a5e24124458ab70a98as3_benchmark_71_1': '9b63fe2620e33a5e24124458ab70a98a'}, {'a8c91f783f7a2a0164332cdd802f8741s3_benchmark_72_0': 'a8c91f783f7a2a0164332cdd802f8741', '3b3f4720519898a37e14e8b74db1ae73s3_benchmark_72_1': '3b3f4720519898a37e14e8b74db1ae73'}, {'2233ce153f8a427fec673a850d38101fs3_benchmark_73_0': '2233ce153f8a427fec673a850d38101f', '51018a69daf6a1169ea35224e08fe1c7s3_benchmark_73_1': '51018a69daf6a1169ea35224e08fe1c7'}, {'0d780757d9e93c20fff1e2aa3c3eb47ds3_benchmark_74_0': '0d780757d9e93c20fff1e2aa3c3eb47d', '515d4efed0d93c44e8597c7c9defb753s3_benchmark_74_1': '515d4efed0d93c44e8597c7c9defb753'}, {'2fc86876702c6beea0aa18bd71fccc59s3_benchmark_75_0': '2fc86876702c6beea0aa18bd71fccc59', '739607c63bd8244d6714f9d17ba24cafs3_benchmark_75_1': '739607c63bd8244d6714f9d17ba24caf'}, {'779928c3675bf4c3744a8af739179aafs3_benchmark_76_0': '779928c3675bf4c3744a8af739179aaf', 'bfb86f2dff39f3b82e4457298eb1e1f0s3_benchmark_76_1': 'bfb86f2dff39f3b82e4457298eb1e1f0'}, {'3a915b3a3228b7036fc7e2873664420as3_benchmark_77_0': '3a915b3a3228b7036fc7e2873664420a', 'af61798374e6244f04be968d36821e29s3_benchmark_77_1': 'af61798374e6244f04be968d36821e29'}, {'d8f3d54ce48365c08a335eccbf357b33s3_benchmark_78_0': 'd8f3d54ce48365c08a335eccbf357b33', '4f6dc34de6483cd2a9994a91dbd3a24cs3_benchmark_78_1': '4f6dc34de6483cd2a9994a91dbd3a24c'}, {'d11e095a2019281223cceb88698c462fs3_benchmark_79_0': 'd11e095a2019281223cceb88698c462f', '359b49d93bd41b32088e1d7a68241b58s3_benchmark_79_1': '359b49d93bd41b32088e1d7a68241b58'}, {'7f659a673a35169cd6d132a1d6e5295as3_benchmark_80_0': '7f659a673a35169cd6d132a1d6e5295a', '224c3f5949def228e0a5da1149c7c9a3s3_benchmark_80_1': '224c3f5949def228e0a5da1149c7c9a3'}, {'c1dace3968c435655d23e9dad9130865s3_benchmark_81_0': 'c1dace3968c435655d23e9dad9130865', '2f7e04d42ef34fd29aca3199ec1daa3es3_benchmark_81_1': '2f7e04d42ef34fd29aca3199ec1daa3e'}, {'37ee3f038ef1f8100bd42b0d79ed9d4as3_benchmark_82_0': '37ee3f038ef1f8100bd42b0d79ed9d4a', 'd1de5ddb5fbbf55e015fba4e1627037cs3_benchmark_82_1': 'd1de5ddb5fbbf55e015fba4e1627037c'}, {'94762fb29313591ac695bb7a59659e74s3_benchmark_83_0': '94762fb29313591ac695bb7a59659e74', '4f1291b2f0da3a506b9912e7c09ce6f9s3_benchmark_83_1': '4f1291b2f0da3a506b9912e7c09ce6f9'}, {'a9ceffe82b3298b6cb52601fa828f4abs3_benchmark_84_0': 'a9ceffe82b3298b6cb52601fa828f4ab', 'd52792a9683f1854492981b9478aaa00s3_benchmark_84_1': 'd52792a9683f1854492981b9478aaa00'}, {'de1525a7298b3715497064d84b24b7abs3_benchmark_85_0': 'de1525a7298b3715497064d84b24b7ab', 'e4a7cae436a1aaedc858e44e9ba670d8s3_benchmark_85_1': 'e4a7cae436a1aaedc858e44e9ba670d8'}, {'5c39d0f24369808184e263cd5bbe1199s3_benchmark_86_0': '5c39d0f24369808184e263cd5bbe1199', '8c86c71777b8225570519b59292bf682s3_benchmark_86_1': '8c86c71777b8225570519b59292bf682'}, {'c968edd4c467385eca269d3e501ebe53s3_benchmark_87_0': 'c968edd4c467385eca269d3e501ebe53', 'a635ea47cd55fa06ec4dc8edcfdd29b6s3_benchmark_87_1': 'a635ea47cd55fa06ec4dc8edcfdd29b6'}, {'55379c8347e49fa8d9f42088174c1538s3_benchmark_88_0': '55379c8347e49fa8d9f42088174c1538', '4fdeb3c54f7608a70852f1166ec28ffcs3_benchmark_88_1': '4fdeb3c54f7608a70852f1166ec28ffc'}, {'052d8f5bb2a0d403bc21360d6386a7e5s3_benchmark_89_0': '052d8f5bb2a0d403bc21360d6386a7e5', 'f5f23b8788e03c39f9a41a60b5b938e1s3_benchmark_89_1': 'f5f23b8788e03c39f9a41a60b5b938e1'}, {'1d6959b5d2b86ddff3b369b9d49e71e2s3_benchmark_90_0': '1d6959b5d2b86ddff3b369b9d49e71e2', '5c2ad5a7697fb33d6ff02c4c7fe0aec2s3_benchmark_90_1': '5c2ad5a7697fb33d6ff02c4c7fe0aec2'}, {'8cd520f0cfabbe11b74ef88bd817d141s3_benchmark_91_0': '8cd520f0cfabbe11b74ef88bd817d141', '1402563a1ca07f7961d1937805fdbc5es3_benchmark_91_1': '1402563a1ca07f7961d1937805fdbc5e'}, {'276d73a374a91219ce5ce501e2055f12s3_benchmark_92_0': '276d73a374a91219ce5ce501e2055f12', 'c51464a01f92777d46dd4e0d17a9ed68s3_benchmark_92_1': 'c51464a01f92777d46dd4e0d17a9ed68'}, {'d7261f6ae6c43ab8d9e9215ba3188064s3_benchmark_93_0': 'd7261f6ae6c43ab8d9e9215ba3188064', 'bc5f365a4ea81678fc41d491ed3d9d9cs3_benchmark_93_1': 'bc5f365a4ea81678fc41d491ed3d9d9c'}, {'a3fce3bf86f16122086309810ef4aee2s3_benchmark_94_0': 'a3fce3bf86f16122086309810ef4aee2', 'fb7b47c7399408b9dca4ec77b71ae901s3_benchmark_94_1': 'fb7b47c7399408b9dca4ec77b71ae901'}, {'1eb7536e23045a2bb227880acbcfc198s3_benchmark_95_0': '1eb7536e23045a2bb227880acbcfc198', '464a8560b96df17b1c8181d7d59c32f5s3_benchmark_95_1': '464a8560b96df17b1c8181d7d59c32f5'}, {'3f1df9300a960467f77c42a1404a3c3cs3_benchmark_96_0': '3f1df9300a960467f77c42a1404a3c3c', '47d2e61cb3b727ec4ffd656fe206f1acs3_benchmark_96_1': '47d2e61cb3b727ec4ffd656fe206f1ac'}, {'10eee02cea718939d31f48d5774751b6s3_benchmark_97_0': '10eee02cea718939d31f48d5774751b6', 'd9911ca392b8f8a14cf278ff7786c784s3_benchmark_97_1': 'd9911ca392b8f8a14cf278ff7786c784'}, {'60f14c7e16422f4aef9ce36501710054s3_benchmark_98_0': '60f14c7e16422f4aef9ce36501710054', '0b4a920624e3ff148749e55878bff001s3_benchmark_98_1': '0b4a920624e3ff148749e55878bff001'}, {'129aac194ade3865ad770f66e017aa07s3_benchmark_99_0': '129aac194ade3865ad770f66e017aa07', '063a6611422c193408bd43bbd99b2effs3_benchmark_99_1': '063a6611422c193408bd43bbd99b2eff'}, {'7b384d181b4427b87b912cb338c855acs3_benchmark_100_0': '7b384d181b4427b87b912cb338c855ac', '21c6e63769e4dd77d99dd088d032c302s3_benchmark_100_1': '21c6e63769e4dd77d99dd088d032c302'}, {'04c2c01239ee4e330476074a3db46809s3_benchmark_101_0': '04c2c01239ee4e330476074a3db46809', '6fd46d3dc953e093bfbfe0742b8884eds3_benchmark_101_1': '6fd46d3dc953e093bfbfe0742b8884ed'}, {'8edd5a7f685f6cc3d1d9e1d4a31c31f8s3_benchmark_102_0': '8edd5a7f685f6cc3d1d9e1d4a31c31f8', '9ba0efc41eacb2c7b9db9a12aa679b23s3_benchmark_102_1': '9ba0efc41eacb2c7b9db9a12aa679b23'}, {'e652aa190234e9105aaa47a88b1a7128s3_benchmark_103_0': 'e652aa190234e9105aaa47a88b1a7128', '8065eaea2e277a972163d31c83f9dadds3_benchmark_103_1': '8065eaea2e277a972163d31c83f9dadd'}, {'591668839710576a814c98420e0bfb7as3_benchmark_104_0': '591668839710576a814c98420e0bfb7a', 'fcda1c3f4d456526e806077446a1fd21s3_benchmark_104_1': 'fcda1c3f4d456526e806077446a1fd21'}, {'5a385665321796a4fdc237acbda34936s3_benchmark_105_0': '5a385665321796a4fdc237acbda34936', '3bf96a3013c4ea881c5c0a448a96bf56s3_benchmark_105_1': '3bf96a3013c4ea881c5c0a448a96bf56'}, {'a16ed06fa1675939ed48daa99f2d2c2es3_benchmark_106_0': 'a16ed06fa1675939ed48daa99f2d2c2e', '17a70e92bce32228fd2a1622c9700376s3_benchmark_106_1': '17a70e92bce32228fd2a1622c9700376'}, {'82af89263faaee84122d0e55d8042505s3_benchmark_107_0': '82af89263faaee84122d0e55d8042505', '3df55c0c0fed102145484e56d9987b46s3_benchmark_107_1': '3df55c0c0fed102145484e56d9987b46'}, {'7220c9adc68a4c2fa6d9a65de8690eb5s3_benchmark_108_0': '7220c9adc68a4c2fa6d9a65de8690eb5', '45ddf3663d85aee137f2f8331321ace6s3_benchmark_108_1': '45ddf3663d85aee137f2f8331321ace6'}, {'85aaf62dae14cc51a23f53a2ef5a12d1s3_benchmark_109_0': '85aaf62dae14cc51a23f53a2ef5a12d1', '40a4546960542ae0916dbbab52e93cc1s3_benchmark_109_1': '40a4546960542ae0916dbbab52e93cc1'}, {'eb362d153429cab4cc1b2d8b511a1347s3_benchmark_110_0': 'eb362d153429cab4cc1b2d8b511a1347', '01bba5074e0b384a1784dacb6127a76fs3_benchmark_110_1': '01bba5074e0b384a1784dacb6127a76f'}, {'fe13e46587387b68b4b1a3bc42ddf199s3_benchmark_111_0': 'fe13e46587387b68b4b1a3bc42ddf199', '67fb5cf7cb6aa1b5c40b5f3bd2d7259bs3_benchmark_111_1': '67fb5cf7cb6aa1b5c40b5f3bd2d7259b'}, {'2f787307e1f286fe68a0e8529c111bdas3_benchmark_112_0': '2f787307e1f286fe68a0e8529c111bda', '37bc45f8745a94fb506a8c240eed05a7s3_benchmark_112_1': '37bc45f8745a94fb506a8c240eed05a7'}, {'6a949e18f1b9d6d5d275286ef6d7ce3as3_benchmark_113_0': '6a949e18f1b9d6d5d275286ef6d7ce3a', '0ebcfb0ba528af5721781aff13d0bbc6s3_benchmark_113_1': '0ebcfb0ba528af5721781aff13d0bbc6'}, {'73e02610108245a87b1686937caf7d83s3_benchmark_114_0': '73e02610108245a87b1686937caf7d83', '343d03115194946c9ea2690797592266s3_benchmark_114_1': '343d03115194946c9ea2690797592266'}, {'4f13f9dab563525c44de650cef891a03s3_benchmark_115_0': '4f13f9dab563525c44de650cef891a03', '47d751e81df9d6d231c745132ec61ec3s3_benchmark_115_1': '47d751e81df9d6d231c745132ec61ec3'}, {'c5a455021ebd0b1e4a635e194ef40176s3_benchmark_116_0': 'c5a455021ebd0b1e4a635e194ef40176', 'aec15dd59785906a80d4435a20119741s3_benchmark_116_1': 'aec15dd59785906a80d4435a20119741'}, {'68352118b3bfc01aadfff8a5f4430fe5s3_benchmark_117_0': '68352118b3bfc01aadfff8a5f4430fe5', '9ea2d3bbf3c3445668b109e48308ca4cs3_benchmark_117_1': '9ea2d3bbf3c3445668b109e48308ca4c'}, {'94b6bd0fda2ee07ecff320fc0ff1be83s3_benchmark_118_0': '94b6bd0fda2ee07ecff320fc0ff1be83', 'c052c32e72af4fee5d3d49418aa02aa4s3_benchmark_118_1': 'c052c32e72af4fee5d3d49418aa02aa4'}, {'d9f10a7849baa869b764a7d6a1437f45s3_benchmark_119_0': 'd9f10a7849baa869b764a7d6a1437f45', 'c06b7553181973fe57bd998077eee813s3_benchmark_119_1': 'c06b7553181973fe57bd998077eee813'}, {'12fa864252f0dcaec6d082138b34098es3_benchmark_120_0': '12fa864252f0dcaec6d082138b34098e', '560742d273ce8d3f61a512ba090ea417s3_benchmark_120_1': '560742d273ce8d3f61a512ba090ea417'}, {'91b04ea2c1f45592a6be1876969b8f1as3_benchmark_121_0': '91b04ea2c1f45592a6be1876969b8f1a', '1140b304346da658695cfb657df722dcs3_benchmark_121_1': '1140b304346da658695cfb657df722dc'}, {'c1e3a737793694a2c835fbd34a6a2ae5s3_benchmark_122_0': 'c1e3a737793694a2c835fbd34a6a2ae5', '1e5fb65e02af3cf924da494dc558e04ds3_benchmark_122_1': '1e5fb65e02af3cf924da494dc558e04d'}, {'45d7dfd63a050f88d12f79f67af85a54s3_benchmark_123_0': '45d7dfd63a050f88d12f79f67af85a54', '60403bbab77ed33351d5efbfecd5f40as3_benchmark_123_1': '60403bbab77ed33351d5efbfecd5f40a'}, {'ef8b2f258c6a6884f025df55a5152e8ds3_benchmark_124_0': 'ef8b2f258c6a6884f025df55a5152e8d', '97db8c1ad53f8128c2ce688ea9f3ee6cs3_benchmark_124_1': '97db8c1ad53f8128c2ce688ea9f3ee6c'}, {'1020e01cf1ea00b09213181bb17581a5s3_benchmark_125_0': '1020e01cf1ea00b09213181bb17581a5', '27073a5f97ee377cc1b87c5b56cc4a56s3_benchmark_125_1': '27073a5f97ee377cc1b87c5b56cc4a56'}, {'7b2767fa7931fc2e42756a91bcaad579s3_benchmark_126_0': '7b2767fa7931fc2e42756a91bcaad579', 'b9d3cc98b00299c05d41e1f2016aecdes3_benchmark_126_1': 'b9d3cc98b00299c05d41e1f2016aecde'}, {'038f7dc434f03456b2bf4762fbe6c460s3_benchmark_127_0': '038f7dc434f03456b2bf4762fbe6c460', '4080fff8855eacf71bd128d515204293s3_benchmark_127_1': '4080fff8855eacf71bd128d515204293'}]\n",
      "total upload MBPS was 119.60978623767191\n",
      "Time to upload 20480 MB was 174.24099016189575\n",
      "CPU times: user 388 ms, sys: 3.9 s, total: 4.28 s\n",
      "Wall time: 2min 54s\n"
     ]
    }
   ],
   "source": [
    "%time hashes = benchmark_upload(max_workers=128, total_mb=1024*20, mb_per_file=128)"
   ]
  },
  {
   "cell_type": "code",
   "execution_count": 468,
   "metadata": {
    "collapsed": false
   },
   "outputs": [],
   "source": [
    "keys = list(map(lambda x: x['Key'], client.list_objects(Bucket=\"vaishaalpywrenlinalg\")['Contents']))"
   ]
  },
  {
   "cell_type": "code",
   "execution_count": 470,
   "metadata": {
    "collapsed": false
   },
   "outputs": [
    {
     "name": "stdout",
     "output_type": "stream",
     "text": [
      "32\n",
      "32768\n",
      "total download MBPS was 588.7694334354203\n",
      "Time to download 32768 MB was 55.65506315231323\n"
     ]
    }
   ],
   "source": [
    "M = benchmark_download(keys[:31], max_workers=32, hashes=hashes, mb_per_file=128)"
   ]
  },
  {
   "cell_type": "code",
   "execution_count": null,
   "metadata": {
    "collapsed": true
   },
   "outputs": [],
   "source": []
  }
 ],
 "metadata": {
  "kernelspec": {
   "display_name": "Python 3",
   "language": "python",
   "name": "python3"
  },
  "language_info": {
   "codemirror_mode": {
    "name": "ipython",
    "version": 3
   },
   "file_extension": ".py",
   "mimetype": "text/x-python",
   "name": "python",
   "nbconvert_exporter": "python",
   "pygments_lexer": "ipython3",
   "version": "3.6.0"
  }
 },
 "nbformat": 4,
 "nbformat_minor": 2
}
