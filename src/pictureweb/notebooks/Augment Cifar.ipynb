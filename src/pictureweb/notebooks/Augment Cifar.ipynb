{
 "cells": [
  {
   "cell_type": "code",
   "execution_count": 1,
   "metadata": {
    "collapsed": false
   },
   "outputs": [
    {
     "name": "stdout",
     "output_type": "stream",
     "text": [
      "Populating the interactive namespace from numpy and matplotlib\n"
     ]
    }
   ],
   "source": [
    "%pylab inline\n",
    "from imgaug import augmenters as iaa\n",
    "import imgaug as ia\n",
    "\n",
    "import pandas as pd\n",
    "from sklearn import metrics\n",
    "import scipy.linalg \n",
    "\n",
    "import sys\n",
    "sys.path.insert(0, \"..\")\n",
    "import pictureweb.distributed.sharded_matrix as sharded_matrix\n",
    "import pictureweb.distributed.distributed as D \n",
    "from pictureweb.conv.coates_ng_help import grab_patches\n",
    "import boto3\n",
    "import io"
   ]
  },
  {
   "cell_type": "code",
   "execution_count": 356,
   "metadata": {
    "collapsed": false
   },
   "outputs": [],
   "source": [
    "def evaluate_augmented(preds, augment_idxs, unaugmented_size, augmented_size=10):\n",
    "    sort_idxs = np.argsort(augment_idxs)\n",
    "    sort_preds = preds[sort_idxs]\n",
    "    out_preds = None\n",
    "    for i in range(augmented_size):\n",
    "        idxs = np.where(((np.arange(sort_preds.shape[0]) - i) % augmented_size) == 0)\n",
    "        print(idxs[0])\n",
    "        if (out_preds == None):\n",
    "            out_preds = sort_preds[idxs]\n",
    "        else:\n",
    "            out_preds += sort_preds[idxs]\n",
    "    out_preds /= augmented_size\n",
    "    return out_preds\n",
    "\n",
    "def preprocess(train, test, min_divisor=1e-8, zca_bias=0.1, whitening_means=None, global_ZCA=None):\n",
    "    origTrainShape = train.shape\n",
    "    origTestShape = test.shape\n",
    "\n",
    "    train = np.ascontiguousarray(train, dtype=np.float64).reshape(train.shape[0], -1)\n",
    "    test = np.ascontiguousarray(test, dtype=np.float64).reshape(test.shape[0], -1)\n",
    "\n",
    "\n",
    "    nTrain = train.shape[0]\n",
    "\n",
    "    # Zero mean every feature\n",
    "    train = train - np.mean(train, axis=1)[:,np.newaxis]\n",
    "    test = test - np.mean(test, axis=1)[:,np.newaxis]\n",
    "\n",
    "    # Normalize\n",
    "    train_norms = np.linalg.norm(train, axis=1)/55.0\n",
    "    test_norms = np.linalg.norm(test, axis=1)/55.0\n",
    "\n",
    "    # Get rid of really small norms\n",
    "    train_norms[np.where(train_norms < min_divisor)] = 1\n",
    "    test_norms[np.where(test_norms < min_divisor)] = 1\n",
    "\n",
    "    # Make features unit norm\n",
    "    train = train/train_norms[:,np.newaxis]\n",
    "    test = test/test_norms[:,np.newaxis]\n",
    "    whitening_means = np.mean(train, axis=0)\n",
    "\n",
    "    zeroCenterTrain = (train - whitening_means[np.newaxis, :])\n",
    "\n",
    "    trainCovMat = 1.0/nTrain * zeroCenterTrain.T.dot(zeroCenterTrain)\n",
    "\n",
    "    (E,V) = np.linalg.eig(trainCovMat)\n",
    "    E += zca_bias\n",
    "    sqrt_zca_eigs = np.sqrt(E)\n",
    "    inv_sqrt_zca_eigs = np.diag(np.power(sqrt_zca_eigs, -1))\n",
    "    global_ZCA = V.dot(inv_sqrt_zca_eigs).dot(V.T) \n",
    "    train = (train - whitening_means).dot(global_ZCA)\n",
    "    test = (test - whitening_means).dot(global_ZCA)\n",
    "\n",
    "    return (train.reshape(origTrainShape), test.reshape(origTestShape), whitening_means, global_ZCA) \n",
    "    "
   ]
  },
  {
   "cell_type": "code",
   "execution_count": 3,
   "metadata": {
    "collapsed": true
   },
   "outputs": [],
   "source": [
    "cifar = np.load(\"cifar_raw.npz\")"
   ]
  },
  {
   "cell_type": "code",
   "execution_count": 154,
   "metadata": {
    "collapsed": false
   },
   "outputs": [],
   "source": [
    "X_train = cifar['X_train'].transpose(0,2,3,1)\n",
    "X_test = cifar['X_test'].transpose(0,2,3,1)\n",
    "y_train = cifar['y_train']\n",
    "y_test = cifar['y_test']\n"
   ]
  },
  {
   "cell_type": "code",
   "execution_count": 30,
   "metadata": {
    "collapsed": false
   },
   "outputs": [],
   "source": [
    "a = None\n",
    "b = None"
   ]
  },
  {
   "cell_type": "code",
   "execution_count": 156,
   "metadata": {
    "collapsed": false
   },
   "outputs": [
    {
     "data": {
      "text/plain": [
       "<matplotlib.image.AxesImage at 0x7feeb80d9710>"
      ]
     },
     "execution_count": 156,
     "metadata": {},
     "output_type": "execute_result"
    },
    {
     "data": {
      "image/png": "[encoded data removed]",
      "text/plain": [
       "<matplotlib.figure.Figure at 0x7feeb8aad710>"
      ]
     },
     "metadata": {},
     "output_type": "display_data"
    }
   ],
   "source": [
    "imshow(X_train[0])"
   ]
  },
  {
   "cell_type": "code",
   "execution_count": 357,
   "metadata": {
    "collapsed": false
   },
   "outputs": [
    {
     "name": "stdout",
     "output_type": "stream",
     "text": [
      "0.50324\n",
      "0.3594\n",
      "0.3594\n"
     ]
    }
   ],
   "source": [
    "X_train_flat = X_train.transpose(0,3,1,2).reshape(X_train.shape[0], -1).astype('float64')\n",
    "X_test_flat = X_test.transpose(0,3,1,2).reshape(X_test.shape[0], -1).astype('float64')\n",
    "X_test_flat_2 = D.get_local_matrix(X_test_sharded)\n",
    "X_train_flat, X_test_flat, whitening_means, global_ZCA = preprocess(X_train_flat, X_test_flat)\n",
    "XtX = X_train_flat.T.dot(X_train_flat)\n",
    "Xty = X_train_flat.T.dot(y_train_enc)\n",
    "model = scipy.linalg.solve(XtX + np.eye(XtX.shape[0])*1e-8, Xty, sym_pos=True)\n",
    "print(metrics.accuracy_score(np.argmax(X_train_flat.dot(model),axis=1), y_train))\n",
    "print(metrics.accuracy_score(np.argmax(X_test_flat.dot(model),axis=1), y_test))\n",
    "print(metrics.accuracy_score(np.argmax(X_test_flat_2.dot(model),axis=1), y_test))\n"
   ]
  },
  {
   "cell_type": "code",
   "execution_count": 315,
   "metadata": {
    "collapsed": false
   },
   "outputs": [
    {
     "data": {
      "text/plain": [
       "<matplotlib.image.AxesImage at 0x7feebcdaf630>"
      ]
     },
     "execution_count": 315,
     "metadata": {},
     "output_type": "execute_result"
    },
    {
     "data": {
      "image/png": "[encoded data removed]",
      "text/plain": [
       "<matplotlib.figure.Figure at 0x7feebbcee780>"
      ]
     },
     "metadata": {},
     "output_type": "display_data"
    }
   ],
   "source": [
    "imshow(X_train_flat.reshape(-1,3,32,32).transpose(0,2,3,1)[0, :, :, 0])"
   ]
  },
  {
   "cell_type": "code",
   "execution_count": 328,
   "metadata": {
    "collapsed": false
   },
   "outputs": [
    {
     "data": {
      "text/plain": [
       "<matplotlib.image.AxesImage at 0x7feebcc15a20>"
      ]
     },
     "execution_count": 328,
     "metadata": {},
     "output_type": "execute_result"
    },
    {
     "data": {
      "image/png": "[encoded data removed]",
      "text/plain": [
       "<matplotlib.figure.Figure at 0x7feebd0f57f0>"
      ]
     },
     "metadata": {},
     "output_type": "display_data"
    },
    {
     "data": {
      "image/png": "[encoded data removed]",
      "text/plain": [
       "<matplotlib.figure.Figure at 0x7feebd0f5240>"
      ]
     },
     "metadata": {},
     "output_type": "display_data"
    },
    {
     "data": {
      "image/png": "[encoded data removed]",
      "text/plain": [
       "<matplotlib.figure.Figure at 0x7feebd6da860>"
      ]
     },
     "metadata": {},
     "output_type": "display_data"
    },
    {
     "data": {
      "image/png": "[encoded data removed]",
      "text/plain": [
       "<matplotlib.figure.Figure at 0x7feebd80f1d0>"
      ]
     },
     "metadata": {},
     "output_type": "display_data"
    }
   ],
   "source": [
    "imshow(X_train_augmented[0])\n",
    "plt.figure()\n",
    "imshow(X_train[0])\n",
    "plt.figure()\n",
    "imshow(X_train_augmented_flat.reshape(-1,3,32,32).transpose(0,2,3,1)[0, :, :, 0], cmap=plt.cm.gray)\n",
    "plt.figure()\n",
    "imshow(X_train_flat.reshape(-1,3,32,32).transpose(0,2,3,1)[0, :, :, 0], cmap=plt.cm.gray)"
   ]
  },
  {
   "cell_type": "code",
   "execution_count": 312,
   "metadata": {
    "collapsed": false
   },
   "outputs": [
    {
     "data": {
      "text/plain": [
       "<matplotlib.image.AxesImage at 0x7feebd73ee80>"
      ]
     },
     "execution_count": 312,
     "metadata": {},
     "output_type": "execute_result"
    },
    {
     "data": {
      "image/png": "[encoded data removed]",
      "text/plain": [
       "<matplotlib.figure.Figure at 0x7feebcf42b38>"
      ]
     },
     "metadata": {},
     "output_type": "display_data"
    }
   ],
   "source": [
    "imshow(X_train_augmented_flat.reshape(-1,32,32,3)[0, :, :, 1])\n",
    "imshow(X_train_flat.reshape(-1,3,32,32).transpose(0,2,3,1)[0, :, :, 0])\n",
    "imshow(X_train_flat.reshape(-1,3,32,32).transpose(0,2,3,1)[0, :, :, 0])\n",
    "imshow(X_train_augmented_flat.reshape(-1,3,32,32).transpose(0,2,3,1)[0, :, :, 0], cmap=plt.cm.gray)"
   ]
  },
  {
   "cell_type": "code",
   "execution_count": 358,
   "metadata": {
    "collapsed": false
   },
   "outputs": [
    {
     "name": "stdout",
     "output_type": "stream",
     "text": [
      "Sharding matrix..... of shape (50000, 3072)\n",
      "409608192122881638420480     819224576 122881638420480  4096   00 000  0   30723072 30723072\n",
      "\n",
      "3072\n",
      "\n",
      "\n",
      "24576 28672 0 3072\n",
      "30722867232768409603686449152     50000\n",
      "32768368644505640960     00000    3072307230723072\n",
      "\n",
      "\n",
      "\n",
      "45056 49152 0  30723072\n",
      "\n",
      "CPU times: user 13.5 s, sys: 3.27 s, total: 16.8 s\n",
      "Wall time: 22.9 s\n",
      "Sharding matrix..... of shape (10000, 3072)\n",
      "8192 409610000  81920  3072\n",
      "00 4096 0 3072 3072\n",
      "\n",
      "CPU times: user 1.75 s, sys: 620 ms, total: 2.37 s\n",
      "Wall time: 6.54 s\n"
     ]
    }
   ],
   "source": [
    "%time X_train_sharded  = sharded_matrix.ShardedMatrix(\"cifar_train\", bucket=\"pictureweb\", shard_size_0=4096, data=X_train_flat, reshard=True, n_jobs=32)\n",
    "%time X_test_sharded  = sharded_matrix.ShardedMatrix(\"cifar_test\", bucket=\"pictureweb\", shard_size_0=4096, data=X_test_flat, reshard=True, n_jobs=32)"
   ]
  },
  {
   "cell_type": "code",
   "execution_count": 330,
   "metadata": {
    "collapsed": false
   },
   "outputs": [],
   "source": [
    "seq = iaa.Sequential([\n",
    "    iaa.Crop(px=((0, 4), (0, 4), (0, 4), (0, 4))),\n",
    "    iaa.Fliplr(0.5)])"
   ]
  },
  {
   "cell_type": "code",
   "execution_count": 331,
   "metadata": {
    "collapsed": false
   },
   "outputs": [],
   "source": [
    "seq.reseed(0)"
   ]
  },
  {
   "cell_type": "code",
   "execution_count": 332,
   "metadata": {
    "collapsed": true
   },
   "outputs": [],
   "source": [
    "AUGMENT = 10"
   ]
  },
  {
   "cell_type": "code",
   "execution_count": 333,
   "metadata": {
    "collapsed": false
   },
   "outputs": [
    {
     "name": "stdout",
     "output_type": "stream",
     "text": [
      "CPU times: user 1min 30s, sys: 3.12 s, total: 1min 33s\n",
      "Wall time: 1min 33s\n"
     ]
    }
   ],
   "source": [
    "%time X_train_augmented = np.vstack([seq.augment_images(X_train) for _ in range(AUGMENT)])"
   ]
  },
  {
   "cell_type": "code",
   "execution_count": 334,
   "metadata": {
    "collapsed": true
   },
   "outputs": [],
   "source": [
    "seq.reseed(0)"
   ]
  },
  {
   "cell_type": "code",
   "execution_count": 335,
   "metadata": {
    "collapsed": false
   },
   "outputs": [
    {
     "name": "stdout",
     "output_type": "stream",
     "text": [
      "CPU times: user 17.7 s, sys: 164 ms, total: 17.8 s\n",
      "Wall time: 17.8 s\n"
     ]
    }
   ],
   "source": [
    "%time X_test_augmented = np.vstack([seq.augment_images(X_test) for _ in range(AUGMENT)])"
   ]
  },
  {
   "cell_type": "code",
   "execution_count": 336,
   "metadata": {
    "collapsed": false
   },
   "outputs": [],
   "source": [
    "augment_idxs_no_scramble = np.hstack([list(range(X_train.shape[0])) for _ in range(AUGMENT)])"
   ]
  },
  {
   "cell_type": "code",
   "execution_count": 337,
   "metadata": {
    "collapsed": true
   },
   "outputs": [],
   "source": [
    "augment_idxs_test_no_scramble = np.hstack([list(range(X_test.shape[0])) for _ in range(AUGMENT)])"
   ]
  },
  {
   "cell_type": "code",
   "execution_count": 338,
   "metadata": {
    "collapsed": false
   },
   "outputs": [
    {
     "name": "stdout",
     "output_type": "stream",
     "text": [
      "CPU times: user 4 ms, sys: 0 ns, total: 4 ms\n",
      "Wall time: 964 µs\n"
     ]
    }
   ],
   "source": [
    "%time y_train_augmented = np.hstack([y_train for _ in range(AUGMENT)])"
   ]
  },
  {
   "cell_type": "code",
   "execution_count": 339,
   "metadata": {
    "collapsed": false
   },
   "outputs": [
    {
     "name": "stdout",
     "output_type": "stream",
     "text": [
      "CPU times: user 0 ns, sys: 0 ns, total: 0 ns\n",
      "Wall time: 820 µs\n"
     ]
    }
   ],
   "source": [
    "\n",
    "%time y_test_augmented = np.hstack([y_test for _ in range(AUGMENT)])"
   ]
  },
  {
   "cell_type": "code",
   "execution_count": 340,
   "metadata": {
    "collapsed": false
   },
   "outputs": [
    {
     "name": "stdout",
     "output_type": "stream",
     "text": [
      "CPU times: user 12 ms, sys: 8 ms, total: 20 ms\n",
      "Wall time: 19.1 ms\n"
     ]
    }
   ],
   "source": [
    "%time y_train_augmented_enc = np.eye(10)[y_train_augmented]"
   ]
  },
  {
   "cell_type": "code",
   "execution_count": 341,
   "metadata": {
    "collapsed": true
   },
   "outputs": [],
   "source": [
    "X_train_augmented_flat = X_train_augmented.transpose(0,3,1,2).reshape(X_train_augmented.shape[0], -1).astype('float64')\n",
    "X_test_augmented_flat = X_test_augmented.transpose(0,3,1,2).reshape(X_test_augmented.shape[0], -1).astype('float64')"
   ]
  },
  {
   "cell_type": "code",
   "execution_count": 342,
   "metadata": {
    "collapsed": false
   },
   "outputs": [],
   "source": [
    "X_train_augmented_flat, X_test_augmented_flat, whitening_means, global_ZCA = preprocess(X_train_augmented_flat, X_test_augmented_flat)"
   ]
  },
  {
   "cell_type": "code",
   "execution_count": 255,
   "metadata": {
    "collapsed": true
   },
   "outputs": [],
   "source": [
    "XtX_augmented = X_train_augmented_flat.T.dot(X_train_augmented_flat)"
   ]
  },
  {
   "cell_type": "code",
   "execution_count": 256,
   "metadata": {
    "collapsed": false
   },
   "outputs": [],
   "source": [
    "Xty_augmented = X_train_augmented_flat.T.dot(y_train_augmented_enc)"
   ]
  },
  {
   "cell_type": "code",
   "execution_count": 257,
   "metadata": {
    "collapsed": false
   },
   "outputs": [],
   "source": [
    "model_augmented = scipy.linalg.solve(XtX_augmented, Xty_augmented)\n",
    "preds_train_augmented = X_train_augmented_flat.dot(model_augmented)\n",
    "preds_test_augmented = X_test_augmented_flat.dot(model_augmented)"
   ]
  },
  {
   "cell_type": "code",
   "execution_count": 258,
   "metadata": {
    "collapsed": false
   },
   "outputs": [
    {
     "name": "stdout",
     "output_type": "stream",
     "text": [
      "(100000, 10)\n"
     ]
    }
   ],
   "source": [
    "print(preds_test_augmented.shape)"
   ]
  },
  {
   "cell_type": "code",
   "execution_count": 265,
   "metadata": {
    "collapsed": false
   },
   "outputs": [],
   "source": [
    "np.random.seed(0)\n",
    "train_idxs = np.random.choice(X_train_augmented.shape[0], X_train_augmented.shape[0], replace=False)\n",
    "test_idxs = np.random.choice(X_test_augmented.shape[0], X_test_augmented.shape[0], replace=False)"
   ]
  },
  {
   "cell_type": "code",
   "execution_count": 266,
   "metadata": {
    "collapsed": false
   },
   "outputs": [
    {
     "data": {
      "text/plain": [
       "0.37751000000000001"
      ]
     },
     "execution_count": 266,
     "metadata": {},
     "output_type": "execute_result"
    }
   ],
   "source": [
    "metrics.accuracy_score(np.argmax(X_test_augmented_flat.dot(model_augmented), axis=1), y_test_augmented)"
   ]
  },
  {
   "cell_type": "code",
   "execution_count": 267,
   "metadata": {
    "collapsed": false
   },
   "outputs": [
    {
     "name": "stdout",
     "output_type": "stream",
     "text": [
      "[    0    10    20 ..., 99970 99980 99990]\n",
      "[    1    11    21 ..., 99971 99981 99991]\n",
      "[    2    12    22 ..., 99972 99982 99992]\n",
      "[    3    13    23 ..., 99973 99983 99993]\n",
      "[    4    14    24 ..., 99974 99984 99994]\n",
      "[    5    15    25 ..., 99975 99985 99995]\n",
      "[    6    16    26 ..., 99976 99986 99996]\n",
      "[    7    17    27 ..., 99977 99987 99997]\n",
      "[    8    18    28 ..., 99978 99988 99998]\n",
      "[    9    19    29 ..., 99979 99989 99999]\n"
     ]
    },
    {
     "name": "stderr",
     "output_type": "stream",
     "text": [
      "/home/ubuntu/anaconda3/lib/python3.6/site-packages/ipykernel/__main__.py:8: FutureWarning: comparison to `None` will result in an elementwise object comparison in the future.\n"
     ]
    }
   ],
   "source": [
    "preds_averaged_0 = evaluate_augmented(preds_test_augmented, augment_idxs_test_no_scramble, X_test.shape[0], augmented_size=AUGMENT)"
   ]
  },
  {
   "cell_type": "code",
   "execution_count": 268,
   "metadata": {
    "collapsed": false
   },
   "outputs": [
    {
     "data": {
      "text/plain": [
       "0.40589999999999998"
      ]
     },
     "execution_count": 268,
     "metadata": {},
     "output_type": "execute_result"
    }
   ],
   "source": [
    "metrics.accuracy_score(np.argmax(preds_averaged_0, axis=1), y_test)"
   ]
  },
  {
   "cell_type": "code",
   "execution_count": 269,
   "metadata": {
    "collapsed": false
   },
   "outputs": [
    {
     "data": {
      "text/plain": [
       "array([6, 9, 9, ..., 9, 1, 1])"
      ]
     },
     "execution_count": 269,
     "metadata": {},
     "output_type": "execute_result"
    }
   ],
   "source": [
    "y_train_augmented"
   ]
  },
  {
   "cell_type": "code",
   "execution_count": 270,
   "metadata": {
    "collapsed": false
   },
   "outputs": [],
   "source": [
    "X_train_augmented_shuffled = X_train_augmented_flat[train_idxs]\n",
    "X_test_augmented_shuffled = X_test_augmented_flat[test_idxs]\n",
    "y_train_augmented_shuffled = y_train_augmented[train_idxs]\n",
    "augment_idxs_scramble = augment_idxs_no_scramble[train_idxs]"
   ]
  },
  {
   "cell_type": "code",
   "execution_count": 271,
   "metadata": {
    "collapsed": true
   },
   "outputs": [],
   "source": [
    "y_test_augmented_shuffled = y_test_augmented[test_idxs]"
   ]
  },
  {
   "cell_type": "code",
   "execution_count": 272,
   "metadata": {
    "collapsed": false
   },
   "outputs": [
    {
     "name": "stdout",
     "output_type": "stream",
     "text": [
      "CPU times: user 4min 8s, sys: 0 ns, total: 4min 8s\n",
      "Wall time: 10.2 s\n",
      "CPU times: user 27.5 s, sys: 112 ms, total: 27.6 s\n",
      "Wall time: 942 ms\n"
     ]
    }
   ],
   "source": [
    "%time XtX_augmented_shuffled = X_train_augmented_shuffled.T.dot(X_train_augmented_shuffled)\n",
    "y_train_augmented_shuffled_enc = np.eye(10)[y_train_augmented_shuffled]\n",
    "%time Xty_augmented_shuffled = X_train_augmented_shuffled.T.dot(y_train_augmented_shuffled_enc)\n"
   ]
  },
  {
   "cell_type": "code",
   "execution_count": 274,
   "metadata": {
    "collapsed": false
   },
   "outputs": [],
   "source": [
    "model = scipy.linalg.solve(XtX_augmented_shuffled + np.eye(XtX_augmented_shuffled.shape[0]), Xty_augmented_shuffled, sym_pos=True)"
   ]
  },
  {
   "cell_type": "code",
   "execution_count": 275,
   "metadata": {
    "collapsed": false
   },
   "outputs": [
    {
     "name": "stdout",
     "output_type": "stream",
     "text": [
      "0.404348\n"
     ]
    }
   ],
   "source": [
    "preds_test_augmented = X_test_augmented_shuffled.dot(model)\n",
    "preds_train_augmented = X_train_augmented_shuffled.dot(model)\n",
    "print(metrics.accuracy_score(np.argmax(preds_train_augmented, axis=1), y_train_augmented_shuffled))"
   ]
  },
  {
   "cell_type": "code",
   "execution_count": 276,
   "metadata": {
    "collapsed": false
   },
   "outputs": [
    {
     "name": "stdout",
     "output_type": "stream",
     "text": [
      "[    0    10    20 ..., 99970 99980 99990]\n",
      "[    1    11    21 ..., 99971 99981 99991]\n",
      "[    2    12    22 ..., 99972 99982 99992]\n",
      "[    3    13    23 ..., 99973 99983 99993]\n",
      "[    4    14    24 ..., 99974 99984 99994]\n",
      "[    5    15    25 ..., 99975 99985 99995]\n",
      "[    6    16    26 ..., 99976 99986 99996]\n",
      "[    7    17    27 ..., 99977 99987 99997]\n",
      "[    8    18    28 ..., 99978 99988 99998]\n",
      "[    9    19    29 ..., 99979 99989 99999]\n"
     ]
    },
    {
     "name": "stderr",
     "output_type": "stream",
     "text": [
      "/home/ubuntu/anaconda3/lib/python3.6/site-packages/ipykernel/__main__.py:8: FutureWarning: comparison to `None` will result in an elementwise object comparison in the future.\n"
     ]
    }
   ],
   "source": [
    "preds_averaged = evaluate_augmented(preds_test_augmented, augment_idxs_test_no_scramble[test_idxs], X_test.shape[0], augmented_size=AUGMENT)"
   ]
  },
  {
   "cell_type": "code",
   "execution_count": 277,
   "metadata": {
    "collapsed": false
   },
   "outputs": [
    {
     "name": "stdout",
     "output_type": "stream",
     "text": [
      "0.4059\n"
     ]
    }
   ],
   "source": [
    "print(metrics.accuracy_score(np.argmax(preds_averaged, axis=1), y_test))"
   ]
  },
  {
   "cell_type": "code",
   "execution_count": 278,
   "metadata": {
    "collapsed": true
   },
   "outputs": [],
   "source": [
    "client = boto3.client('s3')"
   ]
  },
  {
   "cell_type": "code",
   "execution_count": 279,
   "metadata": {
    "collapsed": false
   },
   "outputs": [
    {
     "data": {
      "text/plain": [
       "{'ETag': '\"0630d5d1a209746a3920754a8fab4b1d\"',\n",
       " 'ResponseMetadata': {'HTTPHeaders': {'content-length': '0',\n",
       "   'date': 'Wed, 12 Jul 2017 19:18:34 GMT',\n",
       "   'etag': '\"0630d5d1a209746a3920754a8fab4b1d\"',\n",
       "   'server': 'AmazonS3',\n",
       "   'x-amz-id-2': 'cYROgXazE50x8u1lXHitTyhn56ettBeZDF6qnZmkr/PWSk5xKinY3ddicsXB3uZ5bjebPpIyo6o=',\n",
       "   'x-amz-request-id': 'E15809528DB65093'},\n",
       "  'HTTPStatusCode': 200,\n",
       "  'HostId': 'cYROgXazE50x8u1lXHitTyhn56ettBeZDF6qnZmkr/PWSk5xKinY3ddicsXB3uZ5bjebPpIyo6o=',\n",
       "  'RequestId': 'E15809528DB65093',\n",
       "  'RetryAttempts': 0}}"
      ]
     },
     "execution_count": 279,
     "metadata": {},
     "output_type": "execute_result"
    }
   ],
   "source": [
    "bio = io.BytesIO()\n",
    "np.save(bio, augment_idxs_test_no_scramble[test_idxs])\n",
    "client.put_object(Bucket=\"pictureweb\", Key=\"cifar/cifar_test_augment_idxs\", Body=bio.getvalue())\n",
    "\n"
   ]
  },
  {
   "cell_type": "code",
   "execution_count": 280,
   "metadata": {
    "collapsed": false
   },
   "outputs": [
    {
     "data": {
      "text/plain": [
       "array([44257, 46319, 38738, ..., 35829,  5711, 11484])"
      ]
     },
     "execution_count": 280,
     "metadata": {},
     "output_type": "execute_result"
    }
   ],
   "source": [
    "augment_idxs_no_scramble[train_idxs]"
   ]
  },
  {
   "cell_type": "code",
   "execution_count": 281,
   "metadata": {
    "collapsed": false
   },
   "outputs": [
    {
     "data": {
      "text/plain": [
       "{'ETag': '\"f58660d205e4bcce42a36695b5b79b92\"',\n",
       " 'ResponseMetadata': {'HTTPHeaders': {'content-length': '0',\n",
       "   'date': 'Wed, 12 Jul 2017 19:18:40 GMT',\n",
       "   'etag': '\"f58660d205e4bcce42a36695b5b79b92\"',\n",
       "   'server': 'AmazonS3',\n",
       "   'x-amz-id-2': '4POuvpVPfJtZXtlZC7JgKKL3SS+xMwZBy+bZ+bfPOOZYgRIBCRRQw11OmmhCzsJtAbu8ou07ag4=',\n",
       "   'x-amz-request-id': '54B45064188DF7DF'},\n",
       "  'HTTPStatusCode': 200,\n",
       "  'HostId': '4POuvpVPfJtZXtlZC7JgKKL3SS+xMwZBy+bZ+bfPOOZYgRIBCRRQw11OmmhCzsJtAbu8ou07ag4=',\n",
       "  'RequestId': '54B45064188DF7DF',\n",
       "  'RetryAttempts': 0}}"
      ]
     },
     "execution_count": 281,
     "metadata": {},
     "output_type": "execute_result"
    }
   ],
   "source": [
    "bio = io.BytesIO()\n",
    "np.save(bio, augment_idxs_no_scramble[train_idxs])\n",
    "client.put_object(Bucket=\"pictureweb\", Key=\"cifar/cifar_train_augment_idxs\", Body=bio.getvalue())\n",
    "\n",
    "bio = io.BytesIO()\n",
    "np.save(bio, y_test_augmented_shuffled)\n",
    "client.put_object(Bucket=\"pictureweb\", Key=\"cifar/cifar_augmented_test_labels\", Body=bio.getvalue())"
   ]
  },
  {
   "cell_type": "code",
   "execution_count": 282,
   "metadata": {
    "collapsed": false
   },
   "outputs": [
    {
     "data": {
      "text/plain": [
       "{'ETag': '\"c335bfbdf66baa3803235db2957ef000\"',\n",
       " 'ResponseMetadata': {'HTTPHeaders': {'content-length': '0',\n",
       "   'date': 'Wed, 12 Jul 2017 19:18:41 GMT',\n",
       "   'etag': '\"c335bfbdf66baa3803235db2957ef000\"',\n",
       "   'server': 'AmazonS3',\n",
       "   'x-amz-id-2': 'KK+UiHNF+u9XcU0xHZBZnCJWrNtuOLuMsygMhhTvjQvax9kIjF/4Budg0KVeEOBJglFtPv6Aw4c=',\n",
       "   'x-amz-request-id': '10D6E398C0C778B2'},\n",
       "  'HTTPStatusCode': 200,\n",
       "  'HostId': 'KK+UiHNF+u9XcU0xHZBZnCJWrNtuOLuMsygMhhTvjQvax9kIjF/4Budg0KVeEOBJglFtPv6Aw4c=',\n",
       "  'RequestId': '10D6E398C0C778B2',\n",
       "  'RetryAttempts': 0}}"
      ]
     },
     "execution_count": 282,
     "metadata": {},
     "output_type": "execute_result"
    }
   ],
   "source": [
    "bio = io.BytesIO()\n",
    "np.save(bio, y_train_augmented_shuffled)\n",
    "client.put_object(Bucket=\"pictureweb\", Key=\"cifar/cifar_augmented_train_labels\", Body=bio.getvalue())\n",
    "\n",
    "\n",
    "bio = io.BytesIO()\n",
    "np.save(bio, y_test)\n",
    "client.put_object(Bucket=\"pictureweb\", Key=\"cifar/cifar_test_labels\", Body=bio.getvalue())\n",
    "\n",
    "bio = io.BytesIO()\n",
    "np.save(bio, y_train)\n",
    "client.put_object(Bucket=\"pictureweb\", Key=\"cifar/cifar_train_labels\", Body=bio.getvalue())"
   ]
  },
  {
   "cell_type": "code",
   "execution_count": 283,
   "metadata": {
    "collapsed": false
   },
   "outputs": [
    {
     "name": "stdout",
     "output_type": "stream",
     "text": [
      "Sharding matrix..... of shape (500000, 3072)\n",
      "3686481920245764096040962048032768163841228857344491522867245056614406553653248                6963240960 4096286724505681922457636864204801638461440532483276849152655366963257344  12288               73728778248601673728819201064961024009420898304901121187841228801105921146881269760 000000000000000                0               08192090112778248601611059210649698304102400942081228801269761146881187841310723072 307230723072307230723072307230723072307230723072307230723072               \n",
      "3072\n",
      "\n",
      "\n",
      "\n",
      "\n",
      "\n",
      "\n",
      "\n",
      "\n",
      "\n",
      "\n",
      "\n",
      "\n",
      "\n",
      "\n",
      "307200000000000000 \n",
      "             \n",
      "30723072307230723072307230723072307230723072307230723072\n",
      "\n",
      "\n",
      "\n",
      "\n",
      "\n",
      "\n",
      "\n",
      "\n",
      "\n",
      "\n",
      "\n",
      "\n",
      "\n",
      "131072 135168 0 3072\n",
      "143360139264147456135168   147456 151552139264 143360  0 00 0  3072 30723072\n",
      "3072\n",
      "\n",
      "\n",
      "151552 155648 0 3072\n",
      "155648 159744 159744 1638400  3072\n",
      "0 3072\n",
      "163840 167936167936  0 3072\n",
      "172032 176128 0176128172032   0180224  3072\n",
      "30720 1843201802243072 \n",
      " 188416\n",
      "188416 184320  19251200   030723072 \n",
      "\n",
      "3072\n",
      "192512 196608 0 2007043072 \n",
      "204800196608  0 3072\n",
      "200704 0 3072\n",
      "204800 208896 0 3072\n",
      "208896 212992 0 3072\n",
      "212992 217088 0 3072\n",
      "217088 221184 0 3072\n",
      "221184 225280 0 3072\n",
      "225280 229376229376  0233472  30720\n",
      " 3072\n",
      "233472 237568 0 3072\n",
      "237568 241664 0 3072\n",
      "241664 245760 0 3072\n",
      "249856 253952245760253952   2580482498560   003072  \n",
      "30723072\n",
      "\n",
      "258048 262144 0 3072\n",
      "262144 266240 0 3072\n",
      "266240 270336 0 3072\n",
      "270336 274432 0 3072\n",
      "274432 282624278528278528   2867202826240   003072  \n",
      "30723072\n",
      "\n",
      "286720 290816 0 3072\n",
      "290816 294912 0 3072299008294912303104\n",
      "   303104307200299008   000   307230723072\n",
      "\n",
      "\n",
      "307200 311296 0 3072\n",
      "315392323584319488311296  319488323584    32768031539200    0030723072 \n",
      "\n",
      "3072327680\n",
      "  3072\n",
      "331776 0 3072\n",
      "331776 335872 0 3072\n",
      "339968344064352256  335872356352 348160  344064 3399680 0  0 03481603072 3072  \n",
      "3072\n",
      "3072352256 \n",
      "\n",
      "0 3563523072\n",
      " 360448 0 3072\n",
      "360448 364544 0 3072\n",
      "364544 368640 0 3686403072 \n",
      "372736 0 3072\n",
      "372736 376832 0 3072\n",
      "376832 380928 0 3809283850243072 \n",
      "385024 0 389120  30720\n",
      " 3072\n",
      "389120 393216 0 3072\n",
      "393216 397312 0 3072\n",
      "397312401408 405504  4014080  03072 \n",
      "3072405504\n",
      " 409600 0 3072\n",
      "409600 413696 0 3072\n",
      "413696 417792 0 417792 4218883072425984 \n",
      " 0430080  30720\n",
      " 3072\n",
      "421888 425984 0 3072\n",
      "430080 434176 0 3072\n",
      "434176 438272 0 3072\n",
      "438272 442368 0 3072\n",
      "442368 446464 0 3072\n",
      "450560446464 454656  4505600  03072 \n",
      "3072\n",
      "454656 458752 0 3072\n",
      "458752 462848 0 3072\n",
      "462848 466944 0 3072\n",
      "471040466944 471040  4751360 0 3072\n",
      " 3072\n",
      "475136 479232 0 3072\n",
      "479232 483328 0 3072\n",
      "483328 487424 0 3072\n",
      "487424 491520 0 3072\n",
      "491520 495616 0 3072\n",
      "495616499712 499712  0500000  0 30723072\n",
      "\n",
      "CPU times: user 3min 51s, sys: 49.8 s, total: 4min 41s\n",
      "Wall time: 1min 47s\n"
     ]
    }
   ],
   "source": [
    "%time X_train_augmented_sharded = sharded_matrix.ShardedMatrix(\"cifar_augmented_train\", bucket=\"pictureweb\", data=X_train_augmented_shuffled, reshard=True, n_jobs=32)"
   ]
  },
  {
   "cell_type": "code",
   "execution_count": 226,
   "metadata": {
    "collapsed": false
   },
   "outputs": [
    {
     "name": "stdout",
     "output_type": "stream",
     "text": [
      "HI\n"
     ]
    }
   ],
   "source": []
  },
  {
   "cell_type": "code",
   "execution_count": 292,
   "metadata": {
    "collapsed": false
   },
   "outputs": [
    {
     "name": "stdout",
     "output_type": "stream",
     "text": [
      "Sharding matrix..... of shape (100000, 3072)\n",
      "8192122880  4096 16384 12288 0  03072 0409616384245765734436864204804096045056327682867253248614409830449152696329420881920737289011265536\n",
      "3072                     8601677824 \n",
      "30728192204802867261440409602457669632450564915236864327685734465536100000532487372898304860167782494208 9011281920\n",
      "                      0000000000000000000000                     3072307230723072 30723072307230723072307230723072307230723072307230723072307230723072\n",
      "\n",
      "\n",
      "\n",
      "3072\n",
      "\n",
      "\n",
      "\n",
      "\n",
      "\n",
      "\n",
      "\n",
      "\n",
      "\n",
      "\n",
      "\n",
      "\n",
      "\n",
      "\n",
      "\n",
      "\n",
      "\n",
      "CPU times: user 38.9 s, sys: 6.45 s, total: 45.3 s\n",
      "Wall time: 16 s\n"
     ]
    }
   ],
   "source": [
    "%time X_test_sharded = sharded_matrix.ShardedMatrix(\"cifar_augmented_test\", bucket=\"pictureweb\", data=X_test_augmented_shuffled, reshard=True, n_jobs=32)"
   ]
  },
  {
   "cell_type": "code",
   "execution_count": 66,
   "metadata": {
    "collapsed": false
   },
   "outputs": [
    {
     "data": {
      "text/plain": [
       "array([[[[ -2.79897596e-01,  -4.57884115e-01,  -3.40901860e-01, ...,\n",
       "           -6.84194228e-01,  -5.90550134e-01,  -5.72298641e-01],\n",
       "         [ -1.37989180e-01,  -1.11981216e-01,  -7.66968713e-02, ...,\n",
       "           -2.78999758e-01,  -6.07077225e-01,  -7.07030016e-01],\n",
       "         [  2.73108334e-02,  -2.13672179e-02,  -8.38932878e-03, ...,\n",
       "           -9.45645957e-02,  -2.42655265e-01,  -7.46501786e-01],\n",
       "         ..., \n",
       "         [ -3.94526148e-01,  -3.64428681e-01,  -4.14348916e-01, ...,\n",
       "            1.64281168e-01,   7.98406038e-02,   2.23038761e-01],\n",
       "         [ -3.23213607e-01,  -2.76471398e-01,  -3.12830391e-01, ...,\n",
       "           -1.15253120e-01,  -2.21210511e-01,   1.67703865e-01],\n",
       "         [ -4.07535263e-01,  -4.83018033e-02,  -8.15439810e-02, ...,\n",
       "           -2.69165207e-01,  -4.15285410e-01,  -9.25134940e-02]],\n",
       "\n",
       "        [[  1.29916940e-01,   1.80994988e-01,   2.70627473e-01, ...,\n",
       "           -1.46230388e-01,   1.37902252e-03,   9.74283146e-02],\n",
       "         [  1.09441682e-01,   1.05126690e-01,   1.26041663e-01, ...,\n",
       "           -1.44733511e-01,  -1.40781284e-01,  -1.86955768e-01],\n",
       "         [  1.54495996e-01,   1.06097011e-01,   1.29092369e-01, ...,\n",
       "            4.06376020e-02,  -9.76124579e-02,  -8.28472702e-03],\n",
       "         ..., \n",
       "         [ -3.15410876e-01,  -2.14687412e-01,   8.49818095e-02, ...,\n",
       "           -2.10525414e-01,  -9.52123645e-02,  -5.74224336e-02],\n",
       "         [ -6.21893825e-01,  -5.13726982e-01,  -2.08060105e-01, ...,\n",
       "           -3.35753227e-01,  -2.26549322e-01,  -2.05131888e-01],\n",
       "         [ -7.44616091e-01,  -6.16719893e-01,  -6.03054307e-01, ...,\n",
       "           -3.53423226e-01,  -2.62626278e-01,  -5.69246162e-01]],\n",
       "\n",
       "        [[ -4.34959896e-02,   3.66815817e-02,  -1.29891194e-01, ...,\n",
       "            3.22300478e-01,   1.87818267e-01,   5.61390381e-01],\n",
       "         [  1.38238561e-01,   1.83325653e-01,  -4.41345056e-02, ...,\n",
       "           -1.61161419e-02,  -1.89345796e-02,  -9.06891094e-02],\n",
       "         [ -1.79454506e-01,  -1.80053976e-01,   1.53126118e-01, ...,\n",
       "            2.05857991e-01,   2.99090134e-02,  -2.13891409e-01],\n",
       "         ..., \n",
       "         [ -2.27074643e-01,  -1.27274191e-01,  -1.00686121e-01, ...,\n",
       "           -2.13974145e-01,  -3.77070186e-01,  -3.46902503e-01],\n",
       "         [ -8.95272300e-02,   4.89404046e-03,   3.20736764e-02, ...,\n",
       "            2.90426018e-02,  -1.36135345e-01,  -3.94820380e-01],\n",
       "         [ -3.02743280e-01,  -1.81097937e-01,  -1.57351097e-01, ...,\n",
       "            1.36992829e-01,  -5.02167155e-02,  -3.40503770e-01]]],\n",
       "\n",
       "\n",
       "       [[[ -6.27509738e-01,  -1.13354810e-01,   2.37051360e-01, ...,\n",
       "           -3.96340488e-02,   8.48004050e-02,  -5.16036510e-02],\n",
       "         [  1.87479419e-01,  -1.02657939e-01,   5.87357822e-02, ...,\n",
       "            5.06178077e-01,   3.98432442e-01,   1.41169129e-01],\n",
       "         [  1.74306286e-01,   7.31174216e-01,   5.32227255e-01, ...,\n",
       "           -3.14096021e-01,   7.04243826e-02,  -3.55929731e-01],\n",
       "         ..., \n",
       "         [ -5.69689708e-01,  -2.49638741e-01,  -2.25472566e-01, ...,\n",
       "            3.97929239e-01,  -1.98818473e-01,   2.45941920e-01],\n",
       "         [ -2.40291393e-01,  -3.32175908e-01,  -3.51092428e-01, ...,\n",
       "            2.11682894e-02,  -1.48601734e-01,   6.29679319e-01],\n",
       "         [  1.33360314e-01,   5.75491919e-02,   1.42394662e-01, ...,\n",
       "            3.85417379e-01,   7.66198827e-01,   3.09559044e-01]],\n",
       "\n",
       "        [[ -8.40691691e-01,  -8.60328046e-01,  -1.34957945e-01, ...,\n",
       "            3.22250784e-01,   2.58452614e-01,   1.55062817e-01],\n",
       "         [ -2.51811194e-01,  -7.90096898e-01,   2.39321265e-01, ...,\n",
       "            9.50223087e-01,   6.60968416e-01,   2.65863294e-01],\n",
       "         [  4.81351638e-01,   9.53882612e-01,   8.19617037e-01, ...,\n",
       "           -2.09223512e-01,   1.05616928e+00,   3.98437324e-01],\n",
       "         ..., \n",
       "         [ -7.94097948e-01,  -4.97124022e-01,  -4.65114016e-01, ...,\n",
       "           -1.22126367e-01,  -6.39754310e-01,  -4.19452039e-01],\n",
       "         [ -2.44104903e-01,  -2.46333428e-01,  -4.06003460e-01, ...,\n",
       "           -4.89550411e-01,  -8.25602192e-01,  -2.50241918e-01],\n",
       "         [ -8.11193985e-02,  -7.76284883e-02,  -1.34079956e-02, ...,\n",
       "           -1.53006134e-01,   1.48554568e-02,  -5.51759013e-01]],\n",
       "\n",
       "        [[ -1.03593392e+00,  -7.92688150e-01,  -6.05614426e-02, ...,\n",
       "           -2.47373741e-01,   1.46446780e-01,   5.75675968e-01],\n",
       "         [ -2.61437841e-01,  -5.65541879e-01,  -1.65200575e-01, ...,\n",
       "            4.19531851e-01,   4.61521491e-01,   4.39696124e-01],\n",
       "         [  1.51932896e-01,   6.76095892e-01,   4.85645048e-01, ...,\n",
       "           -3.93805769e-01,  -7.57277615e-02,  -7.71939484e-01],\n",
       "         ..., \n",
       "         [ -1.59500668e-01,   9.90113014e-02,  -2.92837421e-01, ...,\n",
       "            2.57013912e-01,  -2.76006979e-01,  -2.29346174e-02],\n",
       "         [  1.47967849e+00,   1.47300731e+00,   8.50636147e-01, ...,\n",
       "           -7.63581003e-02,  -3.64916654e-01,   3.07881275e-02],\n",
       "         [  9.52675683e-01,   1.24855643e+00,   1.33657098e+00, ...,\n",
       "            2.52516252e-01,   4.03576904e-01,  -2.94864303e-01]]],\n",
       "\n",
       "\n",
       "       [[[ -3.33957067e-01,  -8.66442179e-02,   1.88865066e-01, ...,\n",
       "            7.24302379e-01,   1.51530416e+00,  -4.07307122e-01],\n",
       "         [  8.94793797e-02,   4.28290779e-01,   5.89630835e-01, ...,\n",
       "            5.80853258e-01,   1.22741871e+00,  -4.40235435e-02],\n",
       "         [  2.47851898e-01,   5.38320044e-01,   7.27066772e-01, ...,\n",
       "            4.46184514e-01,   9.20140355e-01,   9.14390459e-02],\n",
       "         ..., \n",
       "         [ -3.36109743e-01,  -5.17672537e-01,  -2.41642444e-01, ...,\n",
       "           -1.59543603e-02,  -1.60500987e-01,   4.19818986e-02],\n",
       "         [ -5.77316931e-01,  -5.46729142e-01,  -3.13163136e-01, ...,\n",
       "            5.45118816e-02,  -6.31471609e-02,  -6.65885240e-02],\n",
       "         [ -4.51306089e-01,   2.25758523e-01,  -3.03104989e-01, ...,\n",
       "           -1.57178676e-01,  -6.05877053e-01,  -1.08439687e+00]],\n",
       "\n",
       "        [[ -7.30810549e-01,  -7.26936127e-01,  -6.21394590e-01, ...,\n",
       "           -5.11698929e-01,   6.05229284e-01,  -8.12370381e-01],\n",
       "         [ -8.31512292e-01,  -8.08166034e-01,  -7.25630602e-01, ...,\n",
       "           -3.39536073e-01,   4.08176762e-01,  -5.96637515e-01],\n",
       "         [ -6.58434112e-01,  -7.04325175e-01,  -5.99542815e-01, ...,\n",
       "           -2.76991888e-01,   7.74505417e-02,  -5.55091518e-01],\n",
       "         ..., \n",
       "         [  1.38457718e+00,   5.56157189e-01,   5.73919590e-01, ...,\n",
       "           -1.50938631e-01,  -5.16132893e-01,  -3.72641301e-01],\n",
       "         [  1.07651535e+00,   5.56167609e-01,   5.43809442e-01, ...,\n",
       "            1.25521750e-01,  -1.35998952e-01,  -2.68608132e-01],\n",
       "         [  1.03518713e+00,   1.26219643e+00,   4.95550041e-01, ...,\n",
       "            5.93367721e-01,   8.67342051e-02,  -6.70994693e-01]],\n",
       "\n",
       "        [[  5.84630102e-01,   5.76382781e-01,   6.98212379e-01, ...,\n",
       "            2.82660497e-01,   1.04372817e+00,  -6.29600679e-01],\n",
       "         [  8.73941120e-01,   8.10887470e-01,   8.35890698e-01, ...,\n",
       "            5.90007047e-01,   1.06630140e+00,  -9.63792874e-02],\n",
       "         [  6.53533461e-01,   6.27620978e-01,   5.30279626e-01, ...,\n",
       "            5.38835272e-01,   8.75633346e-01,   2.65463951e-01],\n",
       "         ..., \n",
       "         [ -6.28465698e-01,  -7.63467220e-01,  -3.67603592e-01, ...,\n",
       "           -1.16467367e-02,   2.35042531e-01,   5.95010402e-01],\n",
       "         [ -9.42208046e-01,  -7.01311872e-01,  -5.74907964e-01, ...,\n",
       "            1.73299822e-02,   2.26625767e-01,   5.44227878e-01],\n",
       "         [ -5.16975564e-01,   1.88321922e-01,  -3.72387032e-01, ...,\n",
       "           -1.45824741e-01,  -2.40799918e-01,  -4.72617029e-01]]],\n",
       "\n",
       "\n",
       "       ..., \n",
       "       [[[ -3.07988786e-01,  -1.55486042e-01,   5.52819085e-01, ...,\n",
       "            1.02142794e-01,  -1.47895106e+00,  -1.63447708e+00],\n",
       "         [ -5.73179921e-02,  -4.70947380e-01,   4.26819879e-01, ...,\n",
       "            6.28869801e-01,   4.08223110e-01,   1.09506701e+00],\n",
       "         [  4.38940433e-01,  -1.19133112e-01,   4.42445443e-01, ...,\n",
       "            2.52894058e-01,   6.41848116e-01,   1.50533684e+00],\n",
       "         ..., \n",
       "         [ -1.84704179e-01,  -1.12729929e-01,  -5.31479618e-02, ...,\n",
       "            1.28326519e-03,   1.15425588e-01,   1.19313593e-01],\n",
       "         [ -1.91567423e-01,  -9.52568240e-02,  -7.12407442e-02, ...,\n",
       "           -3.82285763e-02,  -2.58079447e-02,  -4.59133602e-02],\n",
       "         [ -1.50145579e-01,  -8.45943024e-02,  -5.93227160e-02, ...,\n",
       "            1.91638253e-04,  -3.36155146e-02,  -1.21571514e-01]],\n",
       "\n",
       "        [[ -4.14526354e-01,  -4.82602455e-01,  -2.96402805e-01, ...,\n",
       "            4.39545311e-02,  -1.52604745e+00,  -1.83253638e+00],\n",
       "         [  2.12688308e-01,  -5.25204225e-01,  -3.22818105e-01, ...,\n",
       "            5.05951609e-01,   2.52508533e-01,   9.17247398e-01],\n",
       "         [  7.49764204e-01,  -6.64083175e-02,  -2.56597335e-01, ...,\n",
       "            9.52355380e-02,   5.13377635e-01,   1.22451894e+00],\n",
       "         ..., \n",
       "         [ -9.27733000e-02,  -4.84136211e-02,  -4.93939965e-02, ...,\n",
       "            8.73568526e-02,   9.75184965e-02,   1.08722935e-02],\n",
       "         [ -1.42884700e-01,  -6.24594844e-02,  -9.25718590e-02, ...,\n",
       "           -2.92425141e-02,  -5.01073909e-03,   3.33863509e-03],\n",
       "         [ -1.52912475e-01,  -9.40243334e-02,  -5.94684940e-02, ...,\n",
       "           -1.02533866e-02,  -3.38537124e-02,  -1.04123052e-01]],\n",
       "\n",
       "        [[ -4.55270302e-01,  -6.21581629e-01,  -1.93490929e-01, ...,\n",
       "            8.25598636e-02,  -1.61740749e+00,  -1.93063111e+00],\n",
       "         [  1.48645607e-02,  -7.66307223e-01,  -2.11673227e-01, ...,\n",
       "            5.24755050e-01,   2.79773873e-01,   7.61589265e-01],\n",
       "         [  5.25319293e-01,  -3.44498120e-01,  -1.36455798e-01, ...,\n",
       "            9.06260453e-02,   5.43169201e-01,   1.07117597e+00],\n",
       "         ..., \n",
       "         [ -4.16090074e-02,   3.12978313e-02,   2.02546713e-02, ...,\n",
       "            1.19400590e-01,   1.11725741e-01,  -5.25551499e-03],\n",
       "         [  7.08041215e-02,   7.09703121e-02,   1.00236647e-01, ...,\n",
       "           -5.67258435e-02,   7.18002824e-03,   3.37807072e-02],\n",
       "         [  5.45011096e-02,   9.78877494e-02,   1.27078721e-01, ...,\n",
       "            3.55660323e-02,   3.59854784e-02,  -2.76972643e-02]]],\n",
       "\n",
       "\n",
       "       [[[  1.06548439e+00,   1.32165969e+00,   7.62328756e-01, ...,\n",
       "           -9.69705785e-02,  -1.85941327e-01,  -8.95737642e-02],\n",
       "         [  1.34798746e+00,   6.88083748e-01,   2.67994066e-01, ...,\n",
       "           -1.72093275e-01,  -5.27418362e-02,  -2.59426255e-01],\n",
       "         [ -2.70438430e-01,  -3.27934414e-01,  -2.24610200e-01, ...,\n",
       "           -1.32818807e-01,  -1.95384162e-01,  -2.57768695e-01],\n",
       "         ..., \n",
       "         [ -1.92114803e-01,   3.38342060e-02,  -5.12505463e-02, ...,\n",
       "           -1.18659506e-02,  -1.47983766e-01,  -2.81535359e-01],\n",
       "         [ -1.85647585e-01,  -9.08741067e-02,   1.83848220e-03, ...,\n",
       "           -1.72809484e-02,  -4.87186957e-02,  -1.60507458e-01],\n",
       "         [  5.17530111e-02,  -5.81401521e-02,   9.59078262e-02, ...,\n",
       "           -1.47403747e-01,  -8.09061995e-02,   2.59784354e-01]],\n",
       "\n",
       "        [[  9.44013149e-01,   1.12706828e+00,   5.01906871e-01, ...,\n",
       "           -1.88084150e-01,  -3.10179131e-01,  -2.51083193e-01],\n",
       "         [  1.25300763e+00,   6.03941671e-01,   1.32484487e-03, ...,\n",
       "           -1.31830874e-01,  -1.28965593e-01,  -3.80086624e-01],\n",
       "         [ -3.30169094e-01,  -3.71137134e-01,  -5.06806993e-01, ...,\n",
       "           -1.24292916e-01,  -2.36069884e-01,  -3.50177373e-01],\n",
       "         ..., \n",
       "         [ -1.50269744e-01,  -3.27413478e-02,  -9.17050065e-02, ...,\n",
       "           -6.43597222e-02,  -2.04075776e-01,  -4.26044734e-01],\n",
       "         [ -2.08958443e-01,  -1.59743115e-01,  -4.80610829e-02, ...,\n",
       "           -7.60386742e-02,  -1.18623631e-01,  -2.45483767e-01],\n",
       "         [ -4.82779556e-02,  -1.41121741e-01,   2.33084673e-02, ...,\n",
       "           -2.22741398e-01,  -1.68518075e-01,   1.58514522e-01]],\n",
       "\n",
       "        [[  1.11900607e+00,   1.27812670e+00,   6.21623209e-01, ...,\n",
       "           -1.43812089e-01,  -2.78245555e-01,  -2.28096054e-01],\n",
       "         [  1.42715649e+00,   7.53498865e-01,   1.34535199e-01, ...,\n",
       "           -1.50767989e-01,  -8.14741315e-02,  -3.43075380e-01],\n",
       "         [ -8.64370806e-02,  -2.21690834e-01,  -3.66661688e-01, ...,\n",
       "           -5.17130293e-02,  -1.66565142e-01,  -2.89307316e-01],\n",
       "         ..., \n",
       "         [ -2.00295701e-01,  -3.94521973e-02,  -6.64263291e-02, ...,\n",
       "            2.55466193e-02,  -1.36312355e-01,  -3.70773923e-01],\n",
       "         [ -3.11133237e-01,  -2.18775936e-01,  -7.74132163e-02, ...,\n",
       "            5.99398370e-03,  -5.36753089e-02,  -1.88469734e-01],\n",
       "         [ -5.74924247e-02,  -2.54080755e-01,   1.41519925e-02, ...,\n",
       "           -1.27438061e-01,  -8.50147138e-02,   2.36186583e-01]]],\n",
       "\n",
       "\n",
       "       [[[ -7.48443036e-02,   1.10955683e+00,   5.92076518e-01, ...,\n",
       "            6.14878348e-01,  -7.76920947e-02,  -9.94684397e-01],\n",
       "         [ -1.06017568e+00,   2.02780493e-02,   7.25279648e-01, ...,\n",
       "           -1.05652131e-01,  -5.75905450e-02,   5.25123380e-01],\n",
       "         [ -9.21817667e-01,  -8.00845046e-01,   2.83314400e-02, ...,\n",
       "            1.31812355e-01,   1.26153170e-01,   4.51997966e-01],\n",
       "         ..., \n",
       "         [ -5.32464927e-01,  -7.45858550e-02,  -8.97246457e-02, ...,\n",
       "            8.30474187e-02,  -6.72241841e-02,  -8.69266255e-01],\n",
       "         [  9.08265287e-01,  -4.20630708e-02,  -5.13960748e-01, ...,\n",
       "            2.85350205e-01,   2.79093383e-01,   3.40835030e-01],\n",
       "         [  8.07485425e-01,  -5.52001278e-01,  -1.36079700e+00, ...,\n",
       "           -3.78075509e-01,   3.03973427e-02,   1.39488225e-01]],\n",
       "\n",
       "        [[  2.40125099e-02,   1.23848554e+00,   7.97807511e-01, ...,\n",
       "            4.55653806e-01,  -3.85449875e-01,  -1.45085978e+00],\n",
       "         [ -9.79985750e-01,   2.20554624e-01,   1.04539171e+00, ...,\n",
       "           -1.42327894e-01,  -2.47165961e-01,   2.58836145e-01],\n",
       "         [ -2.92824848e-01,   2.48347539e-01,   1.45008792e+00, ...,\n",
       "            6.72123260e-01,   6.65382880e-01,   8.28946182e-01],\n",
       "         ..., \n",
       "         [ -3.44051812e-01,   1.13698581e-01,   2.84042619e-02, ...,\n",
       "            1.64981165e-01,   8.28074255e-02,  -5.13255058e-01],\n",
       "         [  6.41534393e-01,   2.68842066e-01,  -3.03193209e-02, ...,\n",
       "            2.10858800e-01,  -7.51839528e-02,  -2.55607415e-01],\n",
       "         [  6.93753609e-01,   4.05651982e-01,  -8.69252950e-02, ...,\n",
       "           -7.66716125e-01,  -4.70774342e-01,  -4.38031756e-01]],\n",
       "\n",
       "        [[ -1.02705454e+00,   7.45807974e-01,   4.03285771e-01, ...,\n",
       "            4.48567791e-01,  -1.30075417e-01,  -8.86413691e-01],\n",
       "         [ -1.09072134e+00,   6.80075459e-01,   2.12592384e+00, ...,\n",
       "            1.43480354e-01,   1.35386783e-01,   7.79161214e-01],\n",
       "         [ -3.32286159e-01,   1.13958338e-01,   1.19109769e+00, ...,\n",
       "            1.20108345e-04,   6.87386779e-03,   1.32943598e-01],\n",
       "         ..., \n",
       "         [ -3.75656148e-01,  -1.64185741e-01,  -2.29152073e-01, ...,\n",
       "            2.49255873e-01,   1.37913625e-01,  -3.80231955e-01],\n",
       "         [  6.51290691e-01,  -1.70430197e-01,  -4.89795776e-01, ...,\n",
       "            3.63860668e-01,   1.42770967e-01,   1.24438602e-01],\n",
       "         [  4.26694711e-01,  -3.18943493e-01,  -8.59533679e-01, ...,\n",
       "           -5.45637132e-01,  -1.85459351e-01,  -1.47170144e-01]]]])"
      ]
     },
     "execution_count": 66,
     "metadata": {},
     "output_type": "execute_result"
    }
   ],
   "source": [
    "X_train_augmented_shuffled.reshape(-1, 3, 32, 32)"
   ]
  },
  {
   "cell_type": "code",
   "execution_count": 399,
   "metadata": {
    "collapsed": false
   },
   "outputs": [
    {
     "name": "stdout",
     "output_type": "stream",
     "text": [
      "CPU times: user 92 ms, sys: 8 ms, total: 100 ms\n",
      "Wall time: 150 ms\n",
      "CPU times: user 32 ms, sys: 9.4 s, total: 9.43 s\n",
      "Wall time: 21 s\n"
     ]
    }
   ],
   "source": [
    "%time X_train_featurized_sharded = sharded_matrix.ShardedMatrix(\"coatesng_1024_6_1_15_6_1.0_0(cifar_train)\", bucket=\"pictureweb\")\n",
    "%time X_train_featurized = D.get_local_matrix(X_train_featurized_sharded)"
   ]
  },
  {
   "cell_type": "code",
   "execution_count": 402,
   "metadata": {
    "collapsed": false
   },
   "outputs": [
    {
     "name": "stdout",
     "output_type": "stream",
     "text": [
      "CPU times: user 64 ms, sys: 0 ns, total: 64 ms\n",
      "Wall time: 182 ms\n",
      "CPU times: user 28 ms, sys: 3.75 s, total: 3.78 s\n",
      "Wall time: 11.1 s\n"
     ]
    }
   ],
   "source": [
    "%time X_test_featurized_sharded = sharded_matrix.ShardedMatrix(\"coatesng_1024_6_1_15_6_1.0_0(cifar_test)\", bucket=\"pictureweb\")\n",
    "%time X_test_featurized = D.get_local_matrix(X_test_featurized_sharded)"
   ]
  },
  {
   "cell_type": "code",
   "execution_count": 403,
   "metadata": {
    "collapsed": false
   },
   "outputs": [
    {
     "data": {
      "text/plain": [
       "memmap([[  5.11947632e+00,   6.03134298e+00,   5.41807222e+00, ...,\n",
       "          9.56388935e-03,   7.04079587e-03,   1.69738363e-02],\n",
       "       [  5.76031685e+00,   6.78766441e+00,   6.49284220e+00, ...,\n",
       "          7.74326473e-02,   2.72383820e-02,   5.68682998e-02],\n",
       "       [  4.31526232e+00,   4.31874561e+00,   4.12526608e+00, ...,\n",
       "          1.04394334e-03,   0.00000000e+00,   2.18922249e-03],\n",
       "       ..., \n",
       "       [  4.69338369e+00,   4.25618982e+00,   5.83814383e+00, ...,\n",
       "          3.17508006e-03,   0.00000000e+00,   6.16400037e-03],\n",
       "       [  3.04304242e+00,   3.66782546e+00,   3.46440506e+00, ...,\n",
       "          9.21915472e-02,   6.28304854e-02,   2.76121181e-02],\n",
       "       [  6.37246799e+00,   5.35065031e+00,   4.37123013e+00, ...,\n",
       "          1.20084696e-02,   6.29259087e-03,   6.39286498e-03]])"
      ]
     },
     "execution_count": 403,
     "metadata": {},
     "output_type": "execute_result"
    }
   ],
   "source": [
    "X_train_featurized"
   ]
  },
  {
   "cell_type": "code",
   "execution_count": 404,
   "metadata": {
    "collapsed": false
   },
   "outputs": [
    {
     "data": {
      "text/plain": [
       "memmap([[  9.56578350e+00,   9.52307415e+00,   6.11063814e+00, ...,\n",
       "          1.71856433e-02,   3.65733565e-03,   7.57780159e-03],\n",
       "       [  3.45247149e+00,   3.60839128e+00,   3.78253555e+00, ...,\n",
       "          3.60945947e-02,   2.23309454e-02,   8.01606162e-04],\n",
       "       [  3.00875783e+00,   3.78432512e+00,   4.94803762e+00, ...,\n",
       "          1.71737134e-04,   0.00000000e+00,   1.69772783e-03],\n",
       "       ..., \n",
       "       [  2.34023356e+00,   4.65206337e+00,   5.78931046e+00, ...,\n",
       "          9.53412522e-03,   0.00000000e+00,   6.75476913e-05],\n",
       "       [  1.23319807e+01,   1.08116903e+01,   6.61039209e+00, ...,\n",
       "          1.26629109e-02,   6.03041984e-03,   2.43984489e-03],\n",
       "       [  5.88406754e+00,   6.37506962e+00,   7.74285126e+00, ...,\n",
       "          2.78881285e-02,   2.21473211e-03,   8.66006187e-04]])"
      ]
     },
     "execution_count": 404,
     "metadata": {},
     "output_type": "execute_result"
    }
   ],
   "source": [
    "X_test_featurized"
   ]
  },
  {
   "cell_type": "code",
   "execution_count": 405,
   "metadata": {
    "collapsed": false
   },
   "outputs": [
    {
     "name": "stdout",
     "output_type": "stream",
     "text": [
      "CPU times: user 10min 45s, sys: 8min 1s, total: 18min 46s\n",
      "Wall time: 45.2 s\n",
      "CPU times: user 8 ms, sys: 0 ns, total: 8 ms\n",
      "Wall time: 4.36 ms\n",
      "CPU times: user 14.3 s, sys: 212 ms, total: 14.5 s\n",
      "Wall time: 498 ms\n"
     ]
    }
   ],
   "source": [
    "%time XTX = X_train_featurized.T.dot(X_train_featurized)\n",
    "%time y_train_enc = np.eye(10)[y_train]\n",
    "%time XTy = X_train_featurized.T.dot(y_train_enc)"
   ]
  },
  {
   "cell_type": "code",
   "execution_count": 406,
   "metadata": {
    "collapsed": false
   },
   "outputs": [
    {
     "name": "stdout",
     "output_type": "stream",
     "text": [
      "CPU times: user 6min 35s, sys: 15 s, total: 6min 50s\n",
      "Wall time: 29.2 s\n"
     ]
    },
    {
     "data": {
      "text/plain": [
       "0.89148000000000005"
      ]
     },
     "execution_count": 406,
     "metadata": {},
     "output_type": "execute_result"
    }
   ],
   "source": [
    "idxs = np.diag_indices(XTX.shape[0])\n",
    "lambdav = 100\n",
    "XTX[idxs] += lambdav\n",
    "%time model = scipy.linalg.solve(XTX, XTy)\n",
    "XTX[idxs] -= lambdav\n",
    "y_train_pred = np.argmax(X_train_featurized.dot(model), axis=1)\n",
    "metrics.accuracy_score(y_train_pred, y_train)"
   ]
  },
  {
   "cell_type": "code",
   "execution_count": 407,
   "metadata": {
    "collapsed": false
   },
   "outputs": [
    {
     "data": {
      "text/plain": [
       "0.77529999999999999"
      ]
     },
     "execution_count": 407,
     "metadata": {},
     "output_type": "execute_result"
    }
   ],
   "source": [
    "y_test_pred = np.argmax(X_test_featurized.dot(model), axis=1)\n",
    "metrics.accuracy_score(y_test_pred, y_test)"
   ]
  },
  {
   "cell_type": "code",
   "execution_count": null,
   "metadata": {
    "collapsed": true
   },
   "outputs": [],
   "source": [
    "%time XXT = X_train_featurized.dot(X_train_featurized.T)\n",
    "%time y_train_enc = np.eye(10)[y_train]"
   ]
  },
  {
   "cell_type": "code",
   "execution_count": 378,
   "metadata": {
    "collapsed": false
   },
   "outputs": [
    {
     "name": "stdout",
     "output_type": "stream",
     "text": [
      "CPU times: user 2h 49min 39s, sys: 27min 10s, total: 3h 16min 49s\n",
      "Wall time: 6min 10s\n"
     ]
    }
   ],
   "source": [
    "%time XXT_test = X_train_featurized.dot(X_test_featurized.T)"
   ]
  },
  {
   "cell_type": "code",
   "execution_count": null,
   "metadata": {
    "collapsed": false
   },
   "outputs": [],
   "source": [
    "idxs = np.diag_indices(XXT.shape[0])\n",
    "lambdav = 500\n",
    "XXT[idxs] += lambdav\n",
    "%time model = scipy.linalg.solve(XXT, y_train_enc)\n",
    "XXT[idxs] -= lambdav\n",
    "y_train_pred = np.argmax(XXT.dot(model), axis=1)\n",
    "metrics.accuracy_score(y_train_pred, y_train)"
   ]
  },
  {
   "cell_type": "code",
   "execution_count": null,
   "metadata": {
    "collapsed": false
   },
   "outputs": [],
   "source": [
    "y_test_pred = np.argmax(XXT_test.T.dot(model), axis=1)\n",
    "metrics.accuracy_score(y_test_pred, y_test)"
   ]
  },
  {
   "cell_type": "code",
   "execution_count": 383,
   "metadata": {
    "collapsed": false
   },
   "outputs": [
    {
     "data": {
      "text/plain": [
       "(50000,)"
      ]
     },
     "execution_count": 383,
     "metadata": {},
     "output_type": "execute_result"
    }
   ],
   "source": [
    "y_test_pred.shape"
   ]
  },
  {
   "cell_type": "code",
   "execution_count": 385,
   "metadata": {
    "collapsed": false
   },
   "outputs": [
    {
     "data": {
      "text/plain": [
       "(10000,)"
      ]
     },
     "execution_count": 385,
     "metadata": {},
     "output_type": "execute_result"
    }
   ],
   "source": [
    "y_test.shape"
   ]
  },
  {
   "cell_type": "code",
   "execution_count": null,
   "metadata": {
    "collapsed": false
   },
   "outputs": [],
   "source": [
    "y_test_pred = np.argmax(XXT_test.dot(model), axis=1)\n",
    "metrics.accuracy_score(y_test_pred, y_test)"
   ]
  },
  {
   "cell_type": "code",
   "execution_count": null,
   "metadata": {
    "collapsed": false
   },
   "outputs": [],
   "source": [
    "%time X_train_augmented_featurized_sharded = sharded_matrix.ShardedMatrix(\"coatesng_1024_6_1_15_6_1.0_0(cifar_augmented_train)\", bucket=\"pictureweb\")\n",
    "%time X_train_augmented_featurized = D.get_local_matrix(X_train_augmented_featurized_sharded)"
   ]
  },
  {
   "cell_type": "code",
   "execution_count": null,
   "metadata": {
    "collapsed": false
   },
   "outputs": [],
   "source": [
    "%time X_test_augmented_featurized_sharded = sharded_matrix.ShardedMatrix(\"coatesng_1024_6_1_15_6_1.0_0(cifar_augmented_test)\", bucket=\"pictureweb\")\n",
    "%time X_test_augmented_featurized = D.get_local_matrix(X_test_augmented_featurized_sharded)"
   ]
  },
  {
   "cell_type": "code",
   "execution_count": 131,
   "metadata": {
    "collapsed": false
   },
   "outputs": [],
   "source": [
    "client = boto3.client('s3')\n",
    "bio = io.BytesIO(client.get_object(Bucket=\"pictureweb\", Key=\"cifar/cifar_augmented_train_labels\")[\"Body\"].read())\n",
    "y_train_augmented = np.load(bio)\n"
   ]
  },
  {
   "cell_type": "code",
   "execution_count": 132,
   "metadata": {
    "collapsed": false
   },
   "outputs": [
    {
     "data": {
      "text/plain": [
       "(500000,)"
      ]
     },
     "execution_count": 132,
     "metadata": {},
     "output_type": "execute_result"
    }
   ],
   "source": [
    "y_train_augmented.shape"
   ]
  },
  {
   "cell_type": "code",
   "execution_count": 133,
   "metadata": {
    "collapsed": false
   },
   "outputs": [],
   "source": [
    "bio = io.BytesIO(client.get_object(Bucket=\"pictureweb\", Key=\"cifar/cifar_test_augment_idxs\")['Body'].read())\n",
    "test_augment_idxs = np.load(bio)\n",
    "\n",
    "bio = io.BytesIO(client.get_object(Bucket=\"pictureweb\", Key=\"cifar/cifar_train_augment_idxs\")['Body'].read())\n",
    "train_augment_idxs = np.load(bio)\n",
    "\n"
   ]
  },
  {
   "cell_type": "code",
   "execution_count": 134,
   "metadata": {
    "collapsed": false
   },
   "outputs": [],
   "source": [
    "y_train_augmented_enc = np.eye(10)[y_train_augmented]"
   ]
  },
  {
   "cell_type": "code",
   "execution_count": 135,
   "metadata": {
    "collapsed": false
   },
   "outputs": [
    {
     "name": "stdout",
     "output_type": "stream",
     "text": [
      "CPU times: user 1h 42min 13s, sys: 16min 10s, total: 1h 58min 23s\n",
      "Wall time: 3min 51s\n"
     ]
    }
   ],
   "source": [
    "%time XTX = X_train_augmented_featurized.T.dot(X_train_augmented_featurized)"
   ]
  },
  {
   "cell_type": "code",
   "execution_count": 148,
   "metadata": {
    "collapsed": false
   },
   "outputs": [
    {
     "name": "stdout",
     "output_type": "stream",
     "text": [
      "CPU times: user 7.16 s, sys: 26.6 s, total: 33.7 s\n",
      "Wall time: 1.06 s\n"
     ]
    }
   ],
   "source": [
    "%time XTy = X_train_augmented_featurized.T.dot(y_train_enc)"
   ]
  },
  {
   "cell_type": "code",
   "execution_count": 149,
   "metadata": {
    "collapsed": false
   },
   "outputs": [
    {
     "name": "stdout",
     "output_type": "stream",
     "text": [
      "CPU times: user 2min 11s, sys: 1.58 s, total: 2min 13s\n",
      "Wall time: 16.5 s\n"
     ]
    },
    {
     "data": {
      "text/plain": [
       "0.35039999999999999"
      ]
     },
     "execution_count": 149,
     "metadata": {},
     "output_type": "execute_result"
    }
   ],
   "source": [
    "idxs = np.diag_indices(XTX.shape[0])\n",
    "lambdav = 1e-8\n",
    "XTX[idxs] += lambdav\n",
    "%time model_augmented = scipy.linalg.solve(XTX, XTy, sym_pos=True)\n",
    "XTX[idxs] -= lambdav\n",
    "y_train_pred_augmented = X_train_augmented_featurized.dot(model_augmented)\n",
    "metrics.accuracy_score(np.argmax(y_train_pred_augmented, axis=1), y_train)"
   ]
  },
  {
   "cell_type": "code",
   "execution_count": 143,
   "metadata": {
    "collapsed": false
   },
   "outputs": [
    {
     "data": {
      "text/plain": [
       "array([9, 2, 7, ..., 6, 1, 0])"
      ]
     },
     "execution_count": 143,
     "metadata": {},
     "output_type": "execute_result"
    }
   ],
   "source": [
    "y_train_augmented[train_augment_idxs]"
   ]
  },
  {
   "cell_type": "code",
   "execution_count": 144,
   "metadata": {
    "collapsed": false
   },
   "outputs": [
    {
     "name": "stdout",
     "output_type": "stream",
     "text": [
      "[     0     10     20 ..., 499970 499980 499990]\n",
      "[     1     11     21 ..., 499971 499981 499991]\n",
      "[     2     12     22 ..., 499972 499982 499992]\n",
      "[     3     13     23 ..., 499973 499983 499993]\n",
      "[     4     14     24 ..., 499974 499984 499994]\n",
      "[     5     15     25 ..., 499975 499985 499995]\n",
      "[     6     16     26 ..., 499976 499986 499996]\n",
      "[     7     17     27 ..., 499977 499987 499997]\n",
      "[     8     18     28 ..., 499978 499988 499998]\n",
      "[     9     19     29 ..., 499979 499989 499999]\n"
     ]
    },
    {
     "name": "stderr",
     "output_type": "stream",
     "text": [
      "/home/ubuntu/anaconda3/lib/python3.6/site-packages/ipykernel/__main__.py:8: FutureWarning: comparison to `None` will result in an elementwise object comparison in the future.\n"
     ]
    }
   ],
   "source": [
    "preds_averaged = evaluate_augmented(y_train_pred_augmented, train_augment_idxs, X_train.shape[0], augmented_size=AUGMENT)"
   ]
  },
  {
   "cell_type": "code",
   "execution_count": 145,
   "metadata": {
    "collapsed": false
   },
   "outputs": [
    {
     "data": {
      "text/plain": [
       "0.77288000000000001"
      ]
     },
     "execution_count": 145,
     "metadata": {},
     "output_type": "execute_result"
    }
   ],
   "source": [
    "metrics.accuracy_score(np.argmax(preds_averaged, axis=1), y_train)"
   ]
  },
  {
   "cell_type": "code",
   "execution_count": 251,
   "metadata": {
    "collapsed": false
   },
   "outputs": [
    {
     "data": {
      "text/plain": [
       "array([6, 9, 9, ..., 9, 1, 0])"
      ]
     },
     "execution_count": 251,
     "metadata": {},
     "output_type": "execute_result"
    }
   ],
   "source": [
    "np.argmax(preds_averaged, axis=1)"
   ]
  },
  {
   "cell_type": "code",
   "execution_count": 252,
   "metadata": {
    "collapsed": false
   },
   "outputs": [
    {
     "data": {
      "text/plain": [
       "array([6, 9, 9, ..., 9, 1, 1])"
      ]
     },
     "execution_count": 252,
     "metadata": {},
     "output_type": "execute_result"
    }
   ],
   "source": [
    "y_train"
   ]
  },
  {
   "cell_type": "code",
   "execution_count": 253,
   "metadata": {
    "collapsed": false
   },
   "outputs": [
    {
     "data": {
      "text/plain": [
       "array([44257, 46319, 38738, ..., 35829,  5711, 11484])"
      ]
     },
     "execution_count": 253,
     "metadata": {},
     "output_type": "execute_result"
    }
   ],
   "source": [
    "train_augment_idxs"
   ]
  },
  {
   "cell_type": "code",
   "execution_count": 254,
   "metadata": {
    "collapsed": false
   },
   "outputs": [
    {
     "data": {
      "text/plain": [
       "array([44257, 46319, 38738, ..., 35829,  5711, 11484])"
      ]
     },
     "execution_count": 254,
     "metadata": {},
     "output_type": "execute_result"
    }
   ],
   "source": [
    "augment_idxs_no_scramble[train_idxs]"
   ]
  },
  {
   "cell_type": "code",
   "execution_count": 255,
   "metadata": {
    "collapsed": false
   },
   "outputs": [
    {
     "name": "stdout",
     "output_type": "stream",
     "text": [
      "[    0    10    20 ..., 99970 99980 99990]\n",
      "[    1    11    21 ..., 99971 99981 99991]\n",
      "[    2    12    22 ..., 99972 99982 99992]\n",
      "[    3    13    23 ..., 99973 99983 99993]\n",
      "[    4    14    24 ..., 99974 99984 99994]\n",
      "[    5    15    25 ..., 99975 99985 99995]\n",
      "[    6    16    26 ..., 99976 99986 99996]\n",
      "[    7    17    27 ..., 99977 99987 99997]\n",
      "[    8    18    28 ..., 99978 99988 99998]\n",
      "[    9    19    29 ..., 99979 99989 99999]\n"
     ]
    },
    {
     "name": "stderr",
     "output_type": "stream",
     "text": [
      "/home/ubuntu/anaconda3/lib/python3.6/site-packages/ipykernel/__main__.py:8: FutureWarning: comparison to `None` will result in an elementwise object comparison in the future.\n"
     ]
    }
   ],
   "source": [
    "y_test_pred_augmented = X_test_augmented_featurized.dot(model_augmented)\n",
    "preds_averaged = evaluate_augmented(y_test_pred_augmented, test_augment_idxs, X_test.shape[0], augmented_size=AUGMENT)"
   ]
  },
  {
   "cell_type": "code",
   "execution_count": 127,
   "metadata": {
    "collapsed": false
   },
   "outputs": [
    {
     "data": {
      "text/plain": [
       "0.40489999999999998"
      ]
     },
     "execution_count": 127,
     "metadata": {},
     "output_type": "execute_result"
    }
   ],
   "source": [
    "metrics.accuracy_score(np.argmax(preds_averaged, axis=1), y_test)"
   ]
  },
  {
   "cell_type": "code",
   "execution_count": 258,
   "metadata": {
    "collapsed": false
   },
   "outputs": [],
   "source": [
    "XXT_sharded = sharded_matrix.ShardedSymmetricMatrix(\"XXT(coatesng_1024_6_1_15_6_1.0_0(cifar_train))\", bucket=\"picturewebsolve\") "
   ]
  },
  {
   "cell_type": "code",
   "execution_count": 259,
   "metadata": {
    "collapsed": false
   },
   "outputs": [
    {
     "name": "stdout",
     "output_type": "stream",
     "text": [
      "CPU times: user 368 ms, sys: 1.44 s, total: 1.81 s\n",
      "Wall time: 4min 41s\n"
     ]
    }
   ],
   "source": [
    "%time XXT_local = D.get_local_matrix(XXT_sharded)"
   ]
  },
  {
   "cell_type": "code",
   "execution_count": 265,
   "metadata": {
    "collapsed": false
   },
   "outputs": [
    {
     "data": {
      "text/plain": [
       "memmap(0.0035133703466562146)"
      ]
     },
     "execution_count": 265,
     "metadata": {},
     "output_type": "execute_result"
    }
   ],
   "source": [
    "np.mean(np.abs(XXT_local - XXT_train))"
   ]
  },
  {
   "cell_type": "code",
   "execution_count": 261,
   "metadata": {
    "collapsed": false
   },
   "outputs": [
    {
     "ename": "NameError",
     "evalue": "name 'XXT' is not defined",
     "output_type": "error",
     "traceback": [
      "\u001b[0;31m---------------------------------------------------------------------------\u001b[0m",
      "\u001b[0;31mNameError\u001b[0m                                 Traceback (most recent call last)",
      "\u001b[0;32m<ipython-input-261-682a43408f2b>\u001b[0m in \u001b[0;36m<module>\u001b[0;34m()\u001b[0m\n\u001b[0;32m----> 1\u001b[0;31m \u001b[0mXXT\u001b[0m\u001b[0;34m\u001b[0m\u001b[0m\n\u001b[0m",
      "\u001b[0;31mNameError\u001b[0m: name 'XXT' is not defined"
     ]
    }
   ],
   "source": [
    "XXT"
   ]
  },
  {
   "cell_type": "code",
   "execution_count": 262,
   "metadata": {
    "collapsed": false
   },
   "outputs": [
    {
     "data": {
      "text/plain": [
       "array([[[[ 59,  62,  63],\n",
       "         [ 43,  46,  45],\n",
       "         [ 50,  48,  43],\n",
       "         ..., \n",
       "         [158, 132, 108],\n",
       "         [152, 125, 102],\n",
       "         [148, 124, 103]],\n",
       "\n",
       "        [[ 16,  20,  20],\n",
       "         [  0,   0,   0],\n",
       "         [ 18,   8,   0],\n",
       "         ..., \n",
       "         [123,  88,  55],\n",
       "         [119,  83,  50],\n",
       "         [122,  87,  57]],\n",
       "\n",
       "        [[ 25,  24,  21],\n",
       "         [ 16,   7,   0],\n",
       "         [ 49,  27,   8],\n",
       "         ..., \n",
       "         [118,  84,  50],\n",
       "         [120,  84,  50],\n",
       "         [109,  73,  42]],\n",
       "\n",
       "        ..., \n",
       "        [[208, 170,  96],\n",
       "         [201, 153,  34],\n",
       "         [198, 161,  26],\n",
       "         ..., \n",
       "         [160, 133,  70],\n",
       "         [ 56,  31,   7],\n",
       "         [ 53,  34,  20]],\n",
       "\n",
       "        [[180, 139,  96],\n",
       "         [173, 123,  42],\n",
       "         [186, 144,  30],\n",
       "         ..., \n",
       "         [184, 148,  94],\n",
       "         [ 97,  62,  34],\n",
       "         [ 83,  53,  34]],\n",
       "\n",
       "        [[177, 144, 116],\n",
       "         [168, 129,  94],\n",
       "         [179, 142,  87],\n",
       "         ..., \n",
       "         [216, 184, 140],\n",
       "         [151, 118,  84],\n",
       "         [123,  92,  72]]],\n",
       "\n",
       "\n",
       "       [[[154, 177, 187],\n",
       "         [126, 137, 136],\n",
       "         [105, 104,  95],\n",
       "         ..., \n",
       "         [ 91,  95,  71],\n",
       "         [ 87,  90,  71],\n",
       "         [ 79,  81,  70]],\n",
       "\n",
       "        [[140, 160, 169],\n",
       "         [145, 153, 154],\n",
       "         [125, 125, 118],\n",
       "         ..., \n",
       "         [ 96,  99,  78],\n",
       "         [ 77,  80,  62],\n",
       "         [ 71,  73,  61]],\n",
       "\n",
       "        [[140, 155, 164],\n",
       "         [139, 146, 149],\n",
       "         [115, 115, 112],\n",
       "         ..., \n",
       "         [ 79,  82,  64],\n",
       "         [ 68,  70,  55],\n",
       "         [ 67,  69,  55]],\n",
       "\n",
       "        ..., \n",
       "        [[175, 167, 166],\n",
       "         [156, 154, 160],\n",
       "         [154, 160, 170],\n",
       "         ..., \n",
       "         [ 42,  34,  36],\n",
       "         [ 61,  53,  57],\n",
       "         [ 93,  83,  91]],\n",
       "\n",
       "        [[165, 154, 128],\n",
       "         [156, 152, 130],\n",
       "         [159, 161, 142],\n",
       "         ..., \n",
       "         [103,  93,  96],\n",
       "         [123, 114, 120],\n",
       "         [131, 121, 131]],\n",
       "\n",
       "        [[163, 148, 120],\n",
       "         [158, 148, 122],\n",
       "         [163, 156, 133],\n",
       "         ..., \n",
       "         [143, 133, 139],\n",
       "         [143, 134, 142],\n",
       "         [143, 133, 144]]],\n",
       "\n",
       "\n",
       "       [[[255, 255, 255],\n",
       "         [253, 253, 253],\n",
       "         [253, 253, 253],\n",
       "         ..., \n",
       "         [253, 253, 253],\n",
       "         [253, 253, 253],\n",
       "         [253, 253, 253]],\n",
       "\n",
       "        [[255, 255, 255],\n",
       "         [255, 255, 255],\n",
       "         [255, 255, 255],\n",
       "         ..., \n",
       "         [255, 255, 255],\n",
       "         [255, 255, 255],\n",
       "         [255, 255, 255]],\n",
       "\n",
       "        [[255, 255, 255],\n",
       "         [254, 254, 254],\n",
       "         [254, 254, 254],\n",
       "         ..., \n",
       "         [254, 254, 254],\n",
       "         [254, 254, 254],\n",
       "         [254, 254, 254]],\n",
       "\n",
       "        ..., \n",
       "        [[113, 120, 112],\n",
       "         [111, 118, 111],\n",
       "         [105, 112, 106],\n",
       "         ..., \n",
       "         [ 72,  81,  80],\n",
       "         [ 72,  80,  79],\n",
       "         [ 72,  80,  79]],\n",
       "\n",
       "        [[111, 118, 110],\n",
       "         [104, 111, 104],\n",
       "         [ 99, 106,  98],\n",
       "         ..., \n",
       "         [ 68,  75,  73],\n",
       "         [ 70,  76,  75],\n",
       "         [ 78,  84,  82]],\n",
       "\n",
       "        [[106, 113, 105],\n",
       "         [ 99, 106,  98],\n",
       "         [ 95, 102,  94],\n",
       "         ..., \n",
       "         [ 78,  85,  83],\n",
       "         [ 79,  85,  83],\n",
       "         [ 80,  86,  84]]],\n",
       "\n",
       "\n",
       "       ..., \n",
       "       [[[ 35, 178, 235],\n",
       "         [ 40, 176, 239],\n",
       "         [ 42, 176, 241],\n",
       "         ..., \n",
       "         [ 99, 177, 219],\n",
       "         [ 79, 147, 197],\n",
       "         [ 89, 148, 189]],\n",
       "\n",
       "        [[ 57, 182, 234],\n",
       "         [ 44, 184, 250],\n",
       "         [ 50, 183, 240],\n",
       "         ..., \n",
       "         [156, 182, 200],\n",
       "         [141, 177, 206],\n",
       "         [116, 149, 175]],\n",
       "\n",
       "        [[ 98, 197, 237],\n",
       "         [ 64, 189, 252],\n",
       "         [ 69, 192, 245],\n",
       "         ..., \n",
       "         [188, 195, 206],\n",
       "         [119, 135, 147],\n",
       "         [ 61,  79,  90]],\n",
       "\n",
       "        ..., \n",
       "        [[ 73,  79,  77],\n",
       "         [ 53,  63,  68],\n",
       "         [ 54,  68,  80],\n",
       "         ..., \n",
       "         [ 17,  40,  64],\n",
       "         [ 21,  36,  51],\n",
       "         [ 33,  48,  49]],\n",
       "\n",
       "        [[ 61,  68,  75],\n",
       "         [ 55,  70,  86],\n",
       "         [ 57,  79, 103],\n",
       "         ..., \n",
       "         [ 24,  48,  72],\n",
       "         [ 17,  35,  53],\n",
       "         [  7,  23,  32]],\n",
       "\n",
       "        [[ 44,  56,  73],\n",
       "         [ 46,  66,  88],\n",
       "         [ 49,  77, 105],\n",
       "         ..., \n",
       "         [ 27,  52,  77],\n",
       "         [ 21,  43,  66],\n",
       "         [ 12,  31,  50]]],\n",
       "\n",
       "\n",
       "       [[[189, 211, 240],\n",
       "         [186, 208, 236],\n",
       "         [185, 207, 235],\n",
       "         ..., \n",
       "         [175, 195, 224],\n",
       "         [172, 194, 222],\n",
       "         [169, 194, 220]],\n",
       "\n",
       "        [[194, 210, 239],\n",
       "         [191, 207, 236],\n",
       "         [190, 206, 235],\n",
       "         ..., \n",
       "         [173, 192, 220],\n",
       "         [171, 191, 218],\n",
       "         [167, 190, 216]],\n",
       "\n",
       "        [[208, 219, 244],\n",
       "         [205, 216, 240],\n",
       "         [204, 215, 239],\n",
       "         ..., \n",
       "         [175, 191, 217],\n",
       "         [172, 190, 216],\n",
       "         [169, 191, 215]],\n",
       "\n",
       "        ..., \n",
       "        [[207, 199, 181],\n",
       "         [203, 195, 175],\n",
       "         [203, 196, 173],\n",
       "         ..., \n",
       "         [135, 132, 127],\n",
       "         [162, 158, 150],\n",
       "         [168, 163, 151]],\n",
       "\n",
       "        [[198, 190, 170],\n",
       "         [189, 181, 159],\n",
       "         [180, 172, 147],\n",
       "         ..., \n",
       "         [178, 171, 160],\n",
       "         [175, 169, 156],\n",
       "         [175, 169, 154]],\n",
       "\n",
       "        [[198, 189, 173],\n",
       "         [189, 181, 162],\n",
       "         [178, 170, 149],\n",
       "         ..., \n",
       "         [195, 184, 169],\n",
       "         [196, 189, 171],\n",
       "         [195, 190, 171]]],\n",
       "\n",
       "\n",
       "       [[[229, 229, 239],\n",
       "         [236, 237, 247],\n",
       "         [234, 236, 247],\n",
       "         ..., \n",
       "         [217, 219, 233],\n",
       "         [221, 223, 234],\n",
       "         [222, 223, 233]],\n",
       "\n",
       "        [[222, 221, 229],\n",
       "         [239, 239, 249],\n",
       "         [233, 234, 246],\n",
       "         ..., \n",
       "         [223, 223, 236],\n",
       "         [227, 228, 238],\n",
       "         [210, 211, 220]],\n",
       "\n",
       "        [[213, 206, 211],\n",
       "         [234, 232, 239],\n",
       "         [231, 233, 244],\n",
       "         ..., \n",
       "         [220, 220, 232],\n",
       "         [220, 219, 232],\n",
       "         [202, 203, 215]],\n",
       "\n",
       "        ..., \n",
       "        [[150, 143, 135],\n",
       "         [140, 135, 127],\n",
       "         [132, 127, 120],\n",
       "         ..., \n",
       "         [224, 222, 218],\n",
       "         [230, 228, 225],\n",
       "         [241, 241, 238]],\n",
       "\n",
       "        [[137, 132, 126],\n",
       "         [130, 127, 120],\n",
       "         [125, 121, 115],\n",
       "         ..., \n",
       "         [181, 180, 178],\n",
       "         [202, 201, 198],\n",
       "         [212, 211, 207]],\n",
       "\n",
       "        [[122, 119, 114],\n",
       "         [118, 116, 110],\n",
       "         [120, 116, 111],\n",
       "         ..., \n",
       "         [179, 177, 173],\n",
       "         [164, 164, 162],\n",
       "         [163, 163, 161]]]], dtype=uint8)"
      ]
     },
     "execution_count": 262,
     "metadata": {},
     "output_type": "execute_result"
    }
   ],
   "source": [
    "X_train"
   ]
  },
  {
   "cell_type": "code",
   "execution_count": null,
   "metadata": {
    "collapsed": true
   },
   "outputs": [],
   "source": []
  }
 ],
 "metadata": {
  "kernelspec": {
   "display_name": "Python 3",
   "language": "python",
   "name": "python3"
  },
  "language_info": {
   "codemirror_mode": {
    "name": "ipython",
    "version": 3
   },
   "file_extension": ".py",
   "mimetype": "text/x-python",
   "name": "python",
   "nbconvert_exporter": "python",
   "pygments_lexer": "ipython3",
   "version": "3.6.0"
  }
 },
 "nbformat": 4,
 "nbformat_minor": 2
}
