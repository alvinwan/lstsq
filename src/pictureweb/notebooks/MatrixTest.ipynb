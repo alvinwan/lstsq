{
 "cells": [
  {
   "cell_type": "code",
   "execution_count": 20,
   "metadata": {
    "collapsed": true
   },
   "outputs": [],
   "source": [
    "import sys\n",
    "sys.path.insert(0, \"..\")\n",
    "import pictureweb.distributed.sharded_matrix as sharded_matrix\n",
    "import pictureweb.distributed.distributed as distributed \n",
    "import boto3\n",
    "import io\n",
    "import numpy as np"
   ]
  },
  {
   "cell_type": "code",
   "execution_count": 27,
   "metadata": {
    "collapsed": true
   },
   "outputs": [],
   "source": [
    "def block_idxs_to_idxs(block_idxs, block_size, n):\n",
    "    idxs = []\n",
    "    for block in block_idxs:\n",
    "        sidx = block_size*block\n",
    "        eidx = min((block_size)*(block+1), n)\n",
    "        idxs.extend(list(range(sidx, eidx)))\n",
    "    return idxs"
   ]
  },
  {
   "cell_type": "code",
   "execution_count": 21,
   "metadata": {
    "collapsed": false
   },
   "outputs": [],
   "source": [
    "XXT_sharded = sharded_matrix.ShardedSymmetricMatrix(\"XXT(coatesng_16384_10_1_100_49_0.6311_0(imagenet_train_raw_uint8))\", bucket=\"picturewebsolve\")\n",
    "X = sharded_matrix.ShardedMatrix(\"coatesng_16384_10_1_100_49_0.6311_0(imagenet_train_raw_uint8)\", bucket=\"picturewebhyperband\")"
   ]
  },
  {
   "cell_type": "code",
   "execution_count": 32,
   "metadata": {
    "collapsed": true
   },
   "outputs": [],
   "source": [
    "bloc_idx = 116\n",
    "idxs = block_idxs_to_idxs([bidx], 4096, X.shape[0])"
   ]
  },
  {
   "cell_type": "code",
   "execution_count": 33,
   "metadata": {
    "collapsed": false
   },
   "outputs": [],
   "source": [
    "client = boto3.client('s3')\n",
    "resp = client.get_object(Key=\"scrambled_train_labels.npy\", Bucket=\"picturewebsolve\")\n",
    "bio = io.BytesIO(resp[\"Body\"].read())\n",
    "y_train = np.load(bio).astype('int')\n",
    "y_train_enc = np.eye(1000)[y_train]"
   ]
  },
  {
   "cell_type": "code",
   "execution_count": 34,
   "metadata": {
    "collapsed": false
   },
   "outputs": [],
   "source": [
    "y_block = y_train_enc[idxs, :]"
   ]
  },
  {
   "cell_type": "code",
   "execution_count": null,
   "metadata": {
    "collapsed": true
   },
   "outputs": [],
   "source": [
    "X_block = distributed.get_column_block(X, column_blocks=[blo])"
   ]
  }
 ],
 "metadata": {
  "kernelspec": {
   "display_name": "Python 3",
   "language": "python",
   "name": "python3"
  },
  "language_info": {
   "codemirror_mode": {
    "name": "ipython",
    "version": 3
   },
   "file_extension": ".py",
   "mimetype": "text/x-python",
   "name": "python",
   "nbconvert_exporter": "python",
   "pygments_lexer": "ipython3",
   "version": "3.6.0"
  }
 },
 "nbformat": 4,
 "nbformat_minor": 2
}
