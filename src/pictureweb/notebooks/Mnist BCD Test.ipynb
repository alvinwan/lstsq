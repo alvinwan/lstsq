{
 "cells": [
  {
   "cell_type": "code",
   "execution_count": 1,
   "metadata": {
    "collapsed": false
   },
   "outputs": [],
   "source": [
    "import sys\n",
    "from importlib import reload\n",
    "sys.path.insert(0, \"..\")\n",
    "import utils.misc as misc\n",
    "import distributed\n",
    "import distributed.sharded_matrix\n",
    "reload(distributed.sharded_matrix)\n",
    "from distributed.sharded_matrix import ShardedMatrix, ShardedSymmetricMatrix\n",
    "from distributed import kernel, matmul, bcd\n",
    "import numpy as np\n",
    "import scipy.linalg\n",
    "import pywren\n",
    "reload(pywren)\n",
    "import math\n",
    "import itertools\n",
    "import time\n",
    "import cloudpickle\n",
    "import importlib\n",
    "import sys\n",
    "from sklearn.datasets import fetch_mldata\n",
    "from itertools import groupby\n",
    "from operator import itemgetter\n",
    "from sklearn.kernel_approximation import RBFSampler, Nystroem\n",
    "from sklearn import metrics\n",
    "import sys\n",
    "import boto3\n",
    "import concurrent.futures as fs\n",
    "reload(boto3)\n",
    "from utils import linalg\n",
    "from utils.misc import rreload\n",
    "import scipy.linalg \n",
    "\n",
    "\n"
   ]
  },
  {
   "cell_type": "code",
   "execution_count": null,
   "metadata": {
    "collapsed": false
   },
   "outputs": [],
   "source": []
  },
  {
   "cell_type": "code",
   "execution_count": 2,
   "metadata": {
    "collapsed": false
   },
   "outputs": [],
   "source": [
    "notebook_stdout = sys.stdout\n",
    "notebook_stderr = sys.stderr\n",
    "terminal_stdout = open('/dev/stdout', 'w')\n",
    "terminal_stderr = open('/dev/stderr', 'w')"
   ]
  },
  {
   "cell_type": "code",
   "execution_count": 3,
   "metadata": {
    "collapsed": false
   },
   "outputs": [],
   "source": [
    "mnist = fetch_mldata('MNIST original', data_home=\"/tmp/mnist\")\n",
    "X_train = mnist.data[:60000].astype('float32')/255.0\n",
    "y_train = mnist.target[:60000].astype('float32')\n",
    "X_test = mnist.data[60000:].astype('float32')/255.0\n",
    "y_test = mnist.target[60000:].astype('float32')\n"
   ]
  },
  {
   "cell_type": "code",
   "execution_count": 4,
   "metadata": {
    "collapsed": false
   },
   "outputs": [],
   "source": [
    "np.random.seed(0)\n",
    "shuffled_idx = np.random.choice(X_train.shape[0], X_train.shape[0], replace=False)\n",
    "X_train = X_train[shuffled_idx] \n",
    "y_train = y_train[shuffled_idx]\n",
    "y_train_one_hot = np.eye(10)[y_train.astype('int')]\n"
   ]
  },
  {
   "cell_type": "code",
   "execution_count": 9,
   "metadata": {
    "collapsed": false
   },
   "outputs": [
    {
     "name": "stdout",
     "output_type": "stream",
     "text": [
      "Sharding matrix..... of shape (60000, 784)\n",
      "0 000000000004096409604096409640964096409640964096    4096               409640964096409681928192 4096409640964096  409640964096409640964096819281924096819281928192819281928192      81928192819281920    81924096               81928192819281921228812288     25619264320  512448576128768704012864019264256512320384      1228812288122881228864    640384               448576704768640    \n",
      "320256128384  57651264019278476864192704256128320576384448      128192320256 \n",
      "\n",
      "\n",
      "\n",
      "704448\n",
      "\n",
      "\n",
      "\n",
      "\n",
      "\n",
      "\n",
      "\n",
      "\n",
      "\n",
      "\n",
      "\n",
      "\n",
      "\n",
      "\n",
      "51264076878412864   320384256192\n",
      "\n",
      "\n",
      "\n",
      "\n",
      "\n",
      "\n",
      "\n",
      "\n",
      "\n",
      "\n",
      "\n",
      "81928192 12288  384 44812288\n",
      " 448 512\n",
      "81928192  122881228881928192122881228881921228812288122881228812288122881228812288     12288          12288512576122881228816384 16384122881638416384163841638416384163841638416384     16384          16384576640704768  12864019264256448384320576640 \n",
      "\n",
      "  0512          704122881638416384  768784  192704256128320512448384640704  2048020480\n",
      "\n",
      "64576\n",
      "\n",
      "\n",
      "\n",
      "\n",
      "\n",
      "\n",
      "\n",
      "\n",
      "\n",
      "76816384   \n",
      "\n",
      "\n",
      "640768   1286478416384\n",
      "\n",
      "\n",
      " 20480 1281638416384   16384163841922048020480 \n",
      "  20480 16384192256 20480   384 320256\n",
      "\n",
      "1638420480 1638416384    448320204802048020480512\n",
      "     384640576448576\n",
      "   \n",
      "704640512\n",
      "\n",
      "\n",
      "1638416384 20480 20480 704 768\n",
      " 768 784\n",
      "20480 24576 0 64\n",
      "20480 2457620480 20480 24576 64 24576 204802048020480256 128    128\n",
      "245762457624576320    \n",
      "192384192320 \n",
      "  2048020480204802048020480384 448256  \n",
      "24576\n",
      "\n",
      "2457624576  20480  2457624576  24576704  448512  640576  24576245762457624576768768  512576    245762457624576 \n",
      "704640\n",
      "\n",
      "28672286722867228672   24576784 \n",
      "\n",
      "28672    2867228672\n",
      "28672   192064128  320384256   192448   25664128\n",
      " 384448320\n",
      "\n",
      "\n",
      "\n",
      "512\n",
      "\n",
      "\n",
      "24576 2867224576  28672512 576 24576 576 640\n",
      "286722457624576   2867228672640   704768\n",
      " \n",
      "28672704784\n",
      " 76828672  \n",
      "286723276832768 2867228672   32768 06432768 32768   192 64128128 256\n",
      "\n",
      " 256 320\n",
      "192\n",
      "\n",
      "28672 32768 32028672  32768384 \n",
      "384 448\n",
      "28672 28672 32768 32768448 512 512 \n",
      "576\n",
      "28672 3276828672  32768576  640640\n",
      " 704\n",
      "28672 32768 32768 32768327682867270436864     36864368643276876864   \n",
      " 0128768128   \n",
      "6419278432768 \n",
      "\n",
      "\n",
      "36864 192 256\n",
      "32768 36864 3276832768256  3276832768 32768327683276836864320  36864   \n",
      "3686436864 3686436864640   320  576448384512704    \n",
      "3686451244857632768  \n",
      "\n",
      "\n",
      "  36864704640384  \n",
      "\n",
      "36864768768  \n",
      "40960784 \n",
      "0 64\n",
      "36864 40960 64 128\n",
      "3686436864 36864368643686440960   36864368643686436864 409604096040960     36864128   4096040960409604096040960  256384512     40960192   640192320576448 \n",
      "320448576     704 \n",
      "\n",
      "\n",
      "704256384640512768\n",
      "\n",
      "\n",
      "\n",
      "\n",
      "\n",
      "36864 40960 768 784\n",
      "40960409604096040960409604096040960409604096040960         45056 4505645056450564505645056450564505645056 45056        4096040960512 19238464128320256576448   0        4505645056576 256448128192384320640512  \n",
      "64\n",
      "\n",
      "\n",
      "\n",
      "\n",
      "\n",
      "\n",
      "\n",
      "640704 \n",
      " 768704\n",
      "\n",
      "40960 45056 45056 768 45056 4915245056784 \n",
      "64  49152128\n",
      " 04505645056  45056450564505649152 4915264    49152 \n",
      "491524915249152128 256320     192384448320   \n",
      "256448512\n",
      "\n",
      "\n",
      " 384192\n",
      "45056 49152 \n",
      "512 576\n",
      "45056 49152 576 640\n",
      "4505645056 49152  49152640  704704 \n",
      "768\n",
      "4505649152 53248 49152 0 64\n",
      " 53248 6449152 768  128784\n",
      "\n",
      "49152 53248 128 192\n",
      "49152 53248 192 256\n",
      "49152 53248 256 320\n",
      "49152 53248 320 384\n",
      "49152 53248 384 448\n",
      "49152 53248 448 512\n",
      "49152 5324849152 53248 51249152 576  53248 576 640\n",
      "57344532484915253248491525324853248\n",
      "      57344573440 532485734453248   640   6419264 768128704  \n",
      "704   128256768\n",
      "784192\n",
      "\n",
      "\n",
      "\n",
      "\n",
      "53248 57344 53248532485324853248532485324853248256       5734453248 57344573445734457344573445734457344  320       6000057344\n",
      "384448640320704512576  768      0 448512704384768 640 784\n",
      "\n",
      "\n",
      "\n",
      "\n",
      "576\n",
      "64\n",
      "\n",
      "\n",
      "57344 60000 64 128573445734457344\n",
      "57344  6000060000   60000 128256  192320\n",
      " 60000\n",
      "5734419257344    3846000060000256   \n",
      "448320448  512384\n",
      "\n",
      "\n",
      "5734457344 57344 60000 640 60000 60000 704 576\n",
      " 640\n",
      "51257344  6000057344 57660000\n",
      " 704 768  768784\n",
      "\n",
      "CPU times: user 12.2 s, sys: 1.09 s, total: 13.3 s\n",
      "Wall time: 6.3 s\n"
     ]
    }
   ],
   "source": [
    "%time X_train_sharded_1 = ShardedMatrix(\"mnist_train_64\",\\\n",
    "                                shard_size_0=4096,\\\n",
    "                                shard_size_1=64,\\\n",
    "                                data=X_train,\\\n",
    "                                bucket=\"vaishaalpywrenlinalg\",\\\n",
    "                                reshard=True,\\\n",
    "                                n_jobs=32)"
   ]
  },
  {
   "cell_type": "code",
   "execution_count": 10,
   "metadata": {
    "collapsed": false
   },
   "outputs": [
    {
     "name": "stdout",
     "output_type": "stream",
     "text": [
      "Sharding matrix..... of shape (10000, 784)\n",
      "000000000000409640964096409640964096040964096                   4096  40964096409640968192819281928192409640964096409640964096409640964096409640964096819281928192819281928192 40968192       819281928192                   8192  8192819281928192100001000010000   320641283202563841924480576512640704019225664128448 768384       100001000010000                   704  640576768512064128   3841281923843204482565126464057670476864256320128192512 784448       256192320\n",
      "\n",
      "\n",
      "\n",
      "\n",
      "\n",
      "\n",
      "\n",
      "\n",
      "\n",
      "\n",
      "\n",
      "\n",
      "\n",
      "\n",
      "\n",
      "\n",
      "\n",
      "768\n",
      "\n",
      "70464078457664128192   384256320\n",
      "\n",
      "\n",
      "\n",
      "\n",
      "\n",
      "\n",
      "\n",
      "\n",
      "\n",
      "\n",
      "\n",
      "8192 10000 384 448\n",
      "8192 10000 448 512\n",
      "8192 81928192  819281921000010000  10000 1000010000  704  512640 768576  768  576704\n",
      "784640\n",
      "\n",
      "\n",
      "\n",
      "CPU times: user 2.25 s, sys: 244 ms, total: 2.5 s\n",
      "Wall time: 1.48 s\n"
     ]
    }
   ],
   "source": [
    "%time X_test_sharded_1 = ShardedMatrix(\"mnist_test_64\",\\\n",
    "                                shard_size_0=4096,\\\n",
    "                                shard_size_1=64,\\\n",
    "                                bucket=\"vaishaalpywrenlinalg\",\\\n",
    "                                reshard=True,\\\n",
    "                                data=X_test,\\\n",
    "                                n_jobs=32)"
   ]
  },
  {
   "cell_type": "code",
   "execution_count": 45,
   "metadata": {
    "collapsed": false
   },
   "outputs": [
    {
     "name": "stdout",
     "output_type": "stream",
     "text": [
      "Sharding matrix..... of shape (60000, 784)\n",
      "0 0 4096 409640961638481924096392     122888192 0819220480122888192 784      \n",
      "39200039216384 \n",
      "   784392392392\n",
      "\n",
      "\n",
      "\n",
      "1228816384 20480 39212288245762867232768      39224576 368642048016384286723276836864  0  24576  40960 78428672  3920 0\n",
      " 392368644915245056 7844096020480409605324828672450563276849152573445324857344392  0  392\n",
      "   0\n",
      "           784392 39260000 57344409605324849152 600004505624576450565734432768491523686453248784\n",
      "\n",
      "392\n",
      " 784    392         \n",
      "392392\n",
      "00\n",
      "3923920392\n",
      "392392000392              784784784392392392392784784392784392784784\n",
      "\n",
      "\n",
      "\n",
      "\n",
      "\n",
      "\n",
      "\n",
      "\n",
      "\n",
      "\n",
      "\n",
      "\n",
      "\n",
      "CPU times: user 4.77 s, sys: 1.07 s, total: 5.84 s\n",
      "Wall time: 2.55 s\n",
      "Sharding matrix..... of shape (10000, 784)\n",
      "4096 4096008192    819240960   3920392  \n",
      "784392\n",
      "\n",
      "4096 3928192  819210000784  \n",
      "100000  392392 \n",
      "784\n",
      "CPU times: user 628 ms, sys: 80 ms, total: 708 ms\n",
      "Wall time: 702 ms\n"
     ]
    }
   ],
   "source": [
    "%time X_train_sharded_2 = ShardedMatrix(\"mnist_train_2\",\\\n",
    "                                shard_size_0=4096,\\\n",
    "                                shard_size_1=784//2,\\\n",
    "                                bucket=\"vaishaalpywrenlinalg\",\\\n",
    "                                data=X_train,\\\n",
    "                                reshard=True,\\\n",
    "                                n_jobs=32)\n",
    "%time X_test_sharded_2 = ShardedMatrix(\"mnist_test_2\",\\\n",
    "                                shard_size_0=4096,\\\n",
    "                                shard_size_1=784//2,\\\n",
    "                                bucket=\"vaishaalpywrenlinalg\",\\\n",
    "                                data=X_test,\\\n",
    "                                reshard=True,\\\n",
    "                                n_jobs=32)"
   ]
  },
  {
   "cell_type": "code",
   "execution_count": 53,
   "metadata": {
    "collapsed": false
   },
   "outputs": [
    {
     "name": "stdout",
     "output_type": "stream",
     "text": [
      "Sharding matrix..... of shape (60000, 784)\n",
      "0 4096 0 261\n",
      "00  40964096  1228840960261783     4096819240968192409616384819240968192122888192122881228816384522784          20480    16384163842048016384204802048024576\n",
      "\n",
      "8192052212288819201228881921228816384 12288163841638420480       24576245762867228672286722457628672           24576    20480204802457620480245762457628672     32768286727832617832615222617832610  5222615220       286722867232768327683276832768   \n",
      "\n",
      "  \n",
      "   783783    26178305222615220      261261784368645225227830784522261  783522783261       522783783  \n",
      "  \n",
      "\n",
      " \n",
      "\n",
      "\n",
      "784784\n",
      "\n",
      "\n",
      "\n",
      "522784261783522783261   5225223276852278378478426132768783\n",
      "\n",
      "\n",
      "\n",
      "\n",
      "\n",
      "\n",
      "\n",
      "\n",
      "\n",
      "\n",
      "  \n",
      "\n",
      "\n",
      "\n",
      " \n",
      "368643276836864  36864783 3686436864368644096036864 \n",
      "     7832614096040960409602610       7845220783522522261\n",
      "\n",
      "   \n",
      "\n",
      "783784261\n",
      "\n",
      "\n",
      "40960 45056 0 261\n",
      "40960 45056 261 522\n",
      "40960 45056 522 783\n",
      "40960 45056 783 784\n",
      "45056 49152 0 45056 49152 261\n",
      "261450564915245056    491525224915253248 \n",
      "  522783  783784261491524915249152\n",
      "\n",
      "    53248532485225324853248  \n",
      "  783522532480573445324853248       7847835734405734457344\n",
      "\n",
      " 261   783261522\n",
      "261   \n",
      "784522783\n",
      "\n",
      "\n",
      "57344 57344573445734460000    600006000060000261    0522522  \n",
      "261783\n",
      "\n",
      "783 784\n",
      "CPU times: user 4.72 s, sys: 2.34 s, total: 7.06 s\n",
      "Wall time: 3.82 s\n"
     ]
    }
   ],
   "source": [
    "%time X_train_sharded_3 = ShardedMatrix(\"mnist_test_2\",\\\n",
    "                                shard_size_0=4096,\\\n",
    "                                shard_size_1=784//3,\\\n",
    "                                bucket=\"vaishaalpywrenlinalg\",\\\n",
    "                                data=X_train,\\\n",
    "                                reshard=True,\\\n",
    "                                n_jobs=32)"
   ]
  },
  {
   "cell_type": "code",
   "execution_count": 6,
   "metadata": {
    "collapsed": false
   },
   "outputs": [],
   "source": [
    "pwex = pywren.default_executor()\n",
    "XXT_EXISTS = True"
   ]
  },
  {
   "cell_type": "code",
   "execution_count": 16,
   "metadata": {
    "collapsed": false
   },
   "outputs": [],
   "source": [
    "def check_if_sharded_matrix_is_close(local, sharded, num_samples):\n",
    "    diff_norms = []\n",
    "    max_norms = []\n",
    "    block_idxs = sharded.block_idxs\n",
    "    blocks = sharded.blocks\n",
    "    idxs = np.random.choice(len(block_idxs), num_samples, replace=False)\n",
    "    zipped_blocks = list(zip(block_idxs, blocks))\n",
    "    for idx in idxs:\n",
    "        bidx, block = zipped_blocks[idx]\n",
    "        print(bidx, block)\n",
    "        s3_block = sharded.get_block(*bidx)\n",
    "        ((sidx_0,eidx_0),(sidx_1,eidx_1)) = block\n",
    "        local_block = local[sidx_0:eidx_0, sidx_1:eidx_1]\n",
    "        diff_norms.append(np.linalg.norm(local_block - s3_block))\n",
    "        max_norms.append(np.max(np.abs(local_block - s3_block)))\n",
    "    return np.mean(diff_norms), np.mean(max_norms)\n",
    "    "
   ]
  },
  {
   "cell_type": "code",
   "execution_count": 117,
   "metadata": {
    "collapsed": false
   },
   "outputs": [
    {
     "name": "stdout",
     "output_type": "stream",
     "text": [
      "Submitting job for chunk 0 in axis 0 for chunk 0 in axis 1\n",
      "Waiting job for chunk 0 in axis 0 for chunk 0 in axis 1\n",
      "CPU times: user 7.18 s, sys: 684 ms, total: 7.86 s\n",
      "Wall time: 41.8 s\n"
     ]
    }
   ],
   "source": [
    "reload(matmul)\n",
    "\n",
    "%time XXT_sharded = matmul.compute_XYT_pywren(pwex, X=X_train_sharded_1, Y=X_train_sharded_1, tasks_per_job=2)"
   ]
  },
  {
   "cell_type": "code",
   "execution_count": 115,
   "metadata": {
    "collapsed": false
   },
   "outputs": [
    {
     "name": "stdout",
     "output_type": "stream",
     "text": [
      "CPU times: user 1min 51s, sys: 46.9 s, total: 2min 38s\n",
      "Wall time: 15.1 s\n"
     ]
    }
   ],
   "source": [
    "%time XXT = X_train.dot(X_train.T)"
   ]
  },
  {
   "cell_type": "code",
   "execution_count": 118,
   "metadata": {
    "collapsed": false
   },
   "outputs": [
    {
     "data": {
      "text/plain": [
       "array([[ 131.90533447,   39.0460434 ,   37.10277939, ...,   79.78426361,\n",
       "          36.28742981,   46.46697235],\n",
       "       [  39.0460434 ,   63.25585938,   11.36120033, ...,   30.94794083,\n",
       "          12.24796677,   14.17679501],\n",
       "       [  37.10277939,   11.36120033,   59.01953125, ...,   36.60146332,\n",
       "          28.01147079,   43.13497543],\n",
       "       ..., \n",
       "       [  79.78426361,   30.94794083,   36.60146332, ...,  147.1544342 ,\n",
       "          41.99662018,   50.75095749],\n",
       "       [  36.28742981,   12.24796677,   28.01147079, ...,   41.99662018,\n",
       "          65.81655884,   42.77620697],\n",
       "       [  46.46697235,   14.17679501,   43.13497543, ...,   50.75095749,\n",
       "          42.77620697,   87.78188324]], dtype=float32)"
      ]
     },
     "execution_count": 118,
     "metadata": {},
     "output_type": "execute_result"
    }
   ],
   "source": [
    "XXT_sharded.get_block(0,0)"
   ]
  },
  {
   "cell_type": "code",
   "execution_count": 48,
   "metadata": {
    "collapsed": false
   },
   "outputs": [
    {
     "data": {
      "text/plain": [
       "(0.0077534867, 3.1280517e-05)"
      ]
     },
     "execution_count": 48,
     "metadata": {},
     "output_type": "execute_result"
    }
   ],
   "source": [
    "check_if_sharded_matrix_is_close(XXT, XXT_sharded, 10)"
   ]
  },
  {
   "cell_type": "code",
   "execution_count": 49,
   "metadata": {
    "collapsed": false
   },
   "outputs": [
    {
     "data": {
      "text/plain": [
       "array([[ 0.,  0.,  0., ...,  0.,  0.,  0.],\n",
       "       [ 0.,  0.,  0., ...,  0.,  0.,  0.],\n",
       "       [ 0.,  0.,  0., ...,  0.,  0.,  0.],\n",
       "       ..., \n",
       "       [ 0.,  0.,  0., ...,  0.,  0.,  0.],\n",
       "       [ 0.,  0.,  0., ...,  0.,  0.,  0.],\n",
       "       [ 0.,  0.,  0., ...,  0.,  0.,  0.]], dtype=float32)"
      ]
     },
     "execution_count": 49,
     "metadata": {},
     "output_type": "execute_result"
    }
   ],
   "source": [
    "X_test_sharded_1.get_block(1,0)"
   ]
  },
  {
   "cell_type": "code",
   "execution_count": 9,
   "metadata": {
    "collapsed": false
   },
   "outputs": [
    {
     "name": "stdout",
     "output_type": "stream",
     "text": [
      "Submitting job for chunk 0 in axis 0 for chunk 0 in axis 1\n",
      "Submitting job for chunk 1 in axis 0 for chunk 0 in axis 1\n",
      "Waiting job for chunk 0 in axis 0 for chunk 0 in axis 1\n",
      "Waiting job for chunk 1 in axis 0 for chunk 0 in axis 1\n",
      "CPU times: user 3.78 s, sys: 416 ms, total: 4.2 s\n",
      "Wall time: 36.7 s\n"
     ]
    }
   ],
   "source": [
    "reload(matmul)\n",
    "%time XXT_test_sharded = matmul.compute_XYT_pywren(pwex, X=X_train_sharded_1, Y=X_test_sharded_1, tasks_per_job=2)"
   ]
  },
  {
   "cell_type": "code",
   "execution_count": 10,
   "metadata": {
    "collapsed": false
   },
   "outputs": [],
   "source": [
    "XXT_test = X_test.dot(X_train.T)"
   ]
  },
  {
   "cell_type": "code",
   "execution_count": 57,
   "metadata": {
    "collapsed": true
   },
   "outputs": [],
   "source": [
    "sq_norms = np.power(np.linalg.norm(X_train, axis=1),2)"
   ]
  },
  {
   "cell_type": "code",
   "execution_count": 80,
   "metadata": {
    "collapsed": true
   },
   "outputs": [],
   "source": [
    "K_EXISTS = False"
   ]
  },
  {
   "cell_type": "code",
   "execution_count": 15,
   "metadata": {
    "collapsed": false
   },
   "outputs": [
    {
     "data": {
      "text/plain": [
       "[((0, 4096), (0, 4096)),\n",
       " ((0, 4096), (4096, 8192)),\n",
       " ((0, 4096), (8192, 10000)),\n",
       " ((4096, 8192), (0, 4096)),\n",
       " ((4096, 8192), (4096, 8192)),\n",
       " ((4096, 8192), (8192, 10000)),\n",
       " ((8192, 12288), (0, 4096)),\n",
       " ((8192, 12288), (4096, 8192)),\n",
       " ((8192, 12288), (8192, 10000)),\n",
       " ((12288, 16384), (0, 4096)),\n",
       " ((12288, 16384), (4096, 8192)),\n",
       " ((12288, 16384), (8192, 10000)),\n",
       " ((16384, 20480), (0, 4096)),\n",
       " ((16384, 20480), (4096, 8192)),\n",
       " ((16384, 20480), (8192, 10000)),\n",
       " ((20480, 24576), (0, 4096)),\n",
       " ((20480, 24576), (4096, 8192)),\n",
       " ((20480, 24576), (8192, 10000)),\n",
       " ((24576, 28672), (0, 4096)),\n",
       " ((24576, 28672), (4096, 8192)),\n",
       " ((24576, 28672), (8192, 10000)),\n",
       " ((28672, 32768), (0, 4096)),\n",
       " ((28672, 32768), (4096, 8192)),\n",
       " ((28672, 32768), (8192, 10000)),\n",
       " ((32768, 36864), (0, 4096)),\n",
       " ((32768, 36864), (4096, 8192)),\n",
       " ((32768, 36864), (8192, 10000)),\n",
       " ((36864, 40960), (0, 4096)),\n",
       " ((36864, 40960), (4096, 8192)),\n",
       " ((36864, 40960), (8192, 10000)),\n",
       " ((40960, 45056), (0, 4096)),\n",
       " ((40960, 45056), (4096, 8192)),\n",
       " ((40960, 45056), (8192, 10000)),\n",
       " ((45056, 49152), (0, 4096)),\n",
       " ((45056, 49152), (4096, 8192)),\n",
       " ((45056, 49152), (8192, 10000)),\n",
       " ((49152, 53248), (0, 4096)),\n",
       " ((49152, 53248), (4096, 8192)),\n",
       " ((49152, 53248), (8192, 10000)),\n",
       " ((53248, 57344), (0, 4096)),\n",
       " ((53248, 57344), (4096, 8192)),\n",
       " ((53248, 57344), (8192, 10000)),\n",
       " ((57344, 60000), (0, 4096)),\n",
       " ((57344, 60000), (4096, 8192)),\n",
       " ((57344, 60000), (8192, 10000))]"
      ]
     },
     "execution_count": 15,
     "metadata": {},
     "output_type": "execute_result"
    }
   ],
   "source": [
    "XXT_test_sharded.blocks"
   ]
  },
  {
   "cell_type": "code",
   "execution_count": 19,
   "metadata": {
    "collapsed": false
   },
   "outputs": [
    {
     "name": "stdout",
     "output_type": "stream",
     "text": [
      "(5, 2) ((20480, 24576), (8192, 10000))\n",
      "(8, 0) ((32768, 36864), (0, 4096))\n",
      "(14, 0) ((57344, 60000), (0, 4096))\n",
      "(3, 1) ((12288, 16384), (4096, 8192))\n",
      "(7, 2) ((28672, 32768), (8192, 10000))\n",
      "(13, 0) ((53248, 57344), (0, 4096))\n",
      "(1, 0) ((4096, 8192), (0, 4096))\n",
      "(12, 0) ((49152, 53248), (0, 4096))\n",
      "(5, 1) ((20480, 24576), (4096, 8192))\n",
      "(2, 1) ((8192, 12288), (4096, 8192))\n"
     ]
    },
    {
     "data": {
      "text/plain": [
       "(0.0001279945, 5.3405761e-06)"
      ]
     },
     "execution_count": 19,
     "metadata": {},
     "output_type": "execute_result"
    }
   ],
   "source": [
    "check_if_sharded_matrix_is_close(XXT_test.T, XXT_test_sharded, 10)"
   ]
  },
  {
   "cell_type": "code",
   "execution_count": 20,
   "metadata": {
    "collapsed": false
   },
   "outputs": [
    {
     "data": {
      "text/plain": [
       "(10000, 60000)"
      ]
     },
     "execution_count": 20,
     "metadata": {},
     "output_type": "execute_result"
    }
   ],
   "source": [
    "XXT_test.shape"
   ]
  },
  {
   "cell_type": "code",
   "execution_count": 21,
   "metadata": {
    "collapsed": false
   },
   "outputs": [
    {
     "ename": "NameError",
     "evalue": "name 'XXT_sharded' is not defined",
     "output_type": "error",
     "traceback": [
      "\u001b[0;31m---------------------------------------------------------------------------\u001b[0m",
      "\u001b[0;31mNameError\u001b[0m                                 Traceback (most recent call last)",
      "\u001b[0;32m<ipython-input-21-dcf6f615ab34>\u001b[0m in \u001b[0;36m<module>\u001b[0;34m()\u001b[0m\n\u001b[0;32m----> 1\u001b[0;31m \u001b[0mget_ipython\u001b[0m\u001b[0;34m(\u001b[0m\u001b[0;34m)\u001b[0m\u001b[0;34m.\u001b[0m\u001b[0mmagic\u001b[0m\u001b[0;34m(\u001b[0m\u001b[0;34m'time K_sharded = kernel.compute_rbf_kernel_pywren(pwex, XXT_sharded, X_train_sharded_2, X_train_sharded_2, gamma=1e-3, tasks_per_job=2)'\u001b[0m\u001b[0;34m)\u001b[0m\u001b[0;34m\u001b[0m\u001b[0m\n\u001b[0m",
      "\u001b[0;32m/home/ubuntu/anaconda3/lib/python3.6/site-packages/IPython/core/interactiveshell.py\u001b[0m in \u001b[0;36mmagic\u001b[0;34m(self, arg_s)\u001b[0m\n\u001b[1;32m   2156\u001b[0m         \u001b[0mmagic_name\u001b[0m\u001b[0;34m,\u001b[0m \u001b[0m_\u001b[0m\u001b[0;34m,\u001b[0m \u001b[0mmagic_arg_s\u001b[0m \u001b[0;34m=\u001b[0m \u001b[0marg_s\u001b[0m\u001b[0;34m.\u001b[0m\u001b[0mpartition\u001b[0m\u001b[0;34m(\u001b[0m\u001b[0;34m' '\u001b[0m\u001b[0;34m)\u001b[0m\u001b[0;34m\u001b[0m\u001b[0m\n\u001b[1;32m   2157\u001b[0m         \u001b[0mmagic_name\u001b[0m \u001b[0;34m=\u001b[0m \u001b[0mmagic_name\u001b[0m\u001b[0;34m.\u001b[0m\u001b[0mlstrip\u001b[0m\u001b[0;34m(\u001b[0m\u001b[0mprefilter\u001b[0m\u001b[0;34m.\u001b[0m\u001b[0mESC_MAGIC\u001b[0m\u001b[0;34m)\u001b[0m\u001b[0;34m\u001b[0m\u001b[0m\n\u001b[0;32m-> 2158\u001b[0;31m         \u001b[0;32mreturn\u001b[0m \u001b[0mself\u001b[0m\u001b[0;34m.\u001b[0m\u001b[0mrun_line_magic\u001b[0m\u001b[0;34m(\u001b[0m\u001b[0mmagic_name\u001b[0m\u001b[0;34m,\u001b[0m \u001b[0mmagic_arg_s\u001b[0m\u001b[0;34m)\u001b[0m\u001b[0;34m\u001b[0m\u001b[0m\n\u001b[0m\u001b[1;32m   2159\u001b[0m \u001b[0;34m\u001b[0m\u001b[0m\n\u001b[1;32m   2160\u001b[0m     \u001b[0;31m#-------------------------------------------------------------------------\u001b[0m\u001b[0;34m\u001b[0m\u001b[0;34m\u001b[0m\u001b[0m\n",
      "\u001b[0;32m/home/ubuntu/anaconda3/lib/python3.6/site-packages/IPython/core/interactiveshell.py\u001b[0m in \u001b[0;36mrun_line_magic\u001b[0;34m(self, magic_name, line)\u001b[0m\n\u001b[1;32m   2077\u001b[0m                 \u001b[0mkwargs\u001b[0m\u001b[0;34m[\u001b[0m\u001b[0;34m'local_ns'\u001b[0m\u001b[0;34m]\u001b[0m \u001b[0;34m=\u001b[0m \u001b[0msys\u001b[0m\u001b[0;34m.\u001b[0m\u001b[0m_getframe\u001b[0m\u001b[0;34m(\u001b[0m\u001b[0mstack_depth\u001b[0m\u001b[0;34m)\u001b[0m\u001b[0;34m.\u001b[0m\u001b[0mf_locals\u001b[0m\u001b[0;34m\u001b[0m\u001b[0m\n\u001b[1;32m   2078\u001b[0m             \u001b[0;32mwith\u001b[0m \u001b[0mself\u001b[0m\u001b[0;34m.\u001b[0m\u001b[0mbuiltin_trap\u001b[0m\u001b[0;34m:\u001b[0m\u001b[0;34m\u001b[0m\u001b[0m\n\u001b[0;32m-> 2079\u001b[0;31m                 \u001b[0mresult\u001b[0m \u001b[0;34m=\u001b[0m \u001b[0mfn\u001b[0m\u001b[0;34m(\u001b[0m\u001b[0;34m*\u001b[0m\u001b[0margs\u001b[0m\u001b[0;34m,\u001b[0m\u001b[0;34m**\u001b[0m\u001b[0mkwargs\u001b[0m\u001b[0;34m)\u001b[0m\u001b[0;34m\u001b[0m\u001b[0m\n\u001b[0m\u001b[1;32m   2080\u001b[0m             \u001b[0;32mreturn\u001b[0m \u001b[0mresult\u001b[0m\u001b[0;34m\u001b[0m\u001b[0m\n\u001b[1;32m   2081\u001b[0m \u001b[0;34m\u001b[0m\u001b[0m\n",
      "\u001b[0;32m<decorator-gen-59>\u001b[0m in \u001b[0;36mtime\u001b[0;34m(self, line, cell, local_ns)\u001b[0m\n",
      "\u001b[0;32m/home/ubuntu/anaconda3/lib/python3.6/site-packages/IPython/core/magic.py\u001b[0m in \u001b[0;36m<lambda>\u001b[0;34m(f, *a, **k)\u001b[0m\n\u001b[1;32m    186\u001b[0m     \u001b[0;31m# but it's overkill for just that one bit of state.\u001b[0m\u001b[0;34m\u001b[0m\u001b[0;34m\u001b[0m\u001b[0m\n\u001b[1;32m    187\u001b[0m     \u001b[0;32mdef\u001b[0m \u001b[0mmagic_deco\u001b[0m\u001b[0;34m(\u001b[0m\u001b[0marg\u001b[0m\u001b[0;34m)\u001b[0m\u001b[0;34m:\u001b[0m\u001b[0;34m\u001b[0m\u001b[0m\n\u001b[0;32m--> 188\u001b[0;31m         \u001b[0mcall\u001b[0m \u001b[0;34m=\u001b[0m \u001b[0;32mlambda\u001b[0m \u001b[0mf\u001b[0m\u001b[0;34m,\u001b[0m \u001b[0;34m*\u001b[0m\u001b[0ma\u001b[0m\u001b[0;34m,\u001b[0m \u001b[0;34m**\u001b[0m\u001b[0mk\u001b[0m\u001b[0;34m:\u001b[0m \u001b[0mf\u001b[0m\u001b[0;34m(\u001b[0m\u001b[0;34m*\u001b[0m\u001b[0ma\u001b[0m\u001b[0;34m,\u001b[0m \u001b[0;34m**\u001b[0m\u001b[0mk\u001b[0m\u001b[0;34m)\u001b[0m\u001b[0;34m\u001b[0m\u001b[0m\n\u001b[0m\u001b[1;32m    189\u001b[0m \u001b[0;34m\u001b[0m\u001b[0m\n\u001b[1;32m    190\u001b[0m         \u001b[0;32mif\u001b[0m \u001b[0mcallable\u001b[0m\u001b[0;34m(\u001b[0m\u001b[0marg\u001b[0m\u001b[0;34m)\u001b[0m\u001b[0;34m:\u001b[0m\u001b[0;34m\u001b[0m\u001b[0m\n",
      "\u001b[0;32m/home/ubuntu/anaconda3/lib/python3.6/site-packages/IPython/core/magics/execution.py\u001b[0m in \u001b[0;36mtime\u001b[0;34m(self, line, cell, local_ns)\u001b[0m\n\u001b[1;32m   1178\u001b[0m         \u001b[0;32melse\u001b[0m\u001b[0;34m:\u001b[0m\u001b[0;34m\u001b[0m\u001b[0m\n\u001b[1;32m   1179\u001b[0m             \u001b[0mst\u001b[0m \u001b[0;34m=\u001b[0m \u001b[0mclock2\u001b[0m\u001b[0;34m(\u001b[0m\u001b[0;34m)\u001b[0m\u001b[0;34m\u001b[0m\u001b[0m\n\u001b[0;32m-> 1180\u001b[0;31m             \u001b[0mexec\u001b[0m\u001b[0;34m(\u001b[0m\u001b[0mcode\u001b[0m\u001b[0;34m,\u001b[0m \u001b[0mglob\u001b[0m\u001b[0;34m,\u001b[0m \u001b[0mlocal_ns\u001b[0m\u001b[0;34m)\u001b[0m\u001b[0;34m\u001b[0m\u001b[0m\n\u001b[0m\u001b[1;32m   1181\u001b[0m             \u001b[0mend\u001b[0m \u001b[0;34m=\u001b[0m \u001b[0mclock2\u001b[0m\u001b[0;34m(\u001b[0m\u001b[0;34m)\u001b[0m\u001b[0;34m\u001b[0m\u001b[0m\n\u001b[1;32m   1182\u001b[0m             \u001b[0mout\u001b[0m \u001b[0;34m=\u001b[0m \u001b[0;32mNone\u001b[0m\u001b[0;34m\u001b[0m\u001b[0m\n",
      "\u001b[0;32m<timed exec>\u001b[0m in \u001b[0;36m<module>\u001b[0;34m()\u001b[0m\n",
      "\u001b[0;31mNameError\u001b[0m: name 'XXT_sharded' is not defined"
     ]
    }
   ],
   "source": [
    "%time K_sharded = kernel.compute_rbf_kernel_pywren(pwex, XXT_sharded, X_train_sharded_1, X_train_sharded_2, gamma=1e-3, tasks_per_job=2)"
   ]
  },
  {
   "cell_type": "code",
   "execution_count": 22,
   "metadata": {
    "collapsed": false
   },
   "outputs": [
    {
     "name": "stdout",
     "output_type": "stream",
     "text": [
      "[0]\n",
      "Submitting job for chunk 0\n",
      "[0, 1]\n",
      "0\n",
      "(8192,)\n",
      "Waiting for chunk 0\n",
      "[0]\n",
      "Submitting job for chunk 0\n",
      "[0, 1]\n",
      "0\n",
      "(8192,)\n",
      "Waiting for chunk 0\n",
      "45\n",
      "Submitting 22 jobs for chunk 0 out of 2 \n",
      "Waiting for 22 jobs for chunk 0 out of 2 \n",
      "Currently done 0 currently not done 22 \n",
      "Currently done 0 currently not done 22 \n",
      "Currently done 6 currently not done 16 \n",
      "Submitting 1 jobs for chunk 1 out of 2 \n",
      "Waiting for 1 jobs for chunk 1 out of 2 \n",
      "Currently done 0 currently not done 1 \n",
      "CPU times: user 5.42 s, sys: 820 ms, total: 6.24 s\n",
      "Wall time: 39.1 s\n"
     ]
    }
   ],
   "source": [
    "%time K_test_sharded = kernel.compute_rbf_kernel_pywren(pwex, XXT_test_sharded, X_test_sharded_1, X_train_sharded_1, gamma=1e-3, tasks_per_job=2)"
   ]
  },
  {
   "cell_type": "code",
   "execution_count": 150,
   "metadata": {
    "collapsed": false
   },
   "outputs": [
    {
     "data": {
      "text/plain": [
       "array([[ 0.95234227,  0.92599082,  0.95664865, ...,  0.88936526,\n",
       "         0.88196307,  0.88325477],\n",
       "       [ 0.87255418,  0.90196902,  0.89835656, ...,  0.919626  ,\n",
       "         0.90432906,  0.87401301],\n",
       "       [ 0.89937615,  0.88482445,  0.91426134, ...,  0.90527135,\n",
       "         0.8892259 ,  0.88271278],\n",
       "       ..., \n",
       "       [ 0.88662934,  0.86783308,  0.88363141, ...,  0.84814346,\n",
       "         0.84800303,  0.88253587],\n",
       "       [ 0.89118391,  0.88231534,  0.89253294, ...,  0.89453238,\n",
       "         0.87122422,  0.88653368],\n",
       "       [ 0.89457166,  0.8610006 ,  0.89910972, ...,  0.88164306,\n",
       "         0.86802155,  0.8719545 ]], dtype=float32)"
      ]
     },
     "execution_count": 150,
     "metadata": {},
     "output_type": "execute_result"
    }
   ],
   "source": [
    "K_test_sharded.get_block(0,0)"
   ]
  },
  {
   "cell_type": "code",
   "execution_count": 23,
   "metadata": {
    "collapsed": false
   },
   "outputs": [],
   "source": [
    "K_test = linalg.computeRBFGramMatrix(XTest=X_test, XTrain=X_train, gamma=1e-3)"
   ]
  },
  {
   "cell_type": "code",
   "execution_count": 28,
   "metadata": {
    "collapsed": false
   },
   "outputs": [
    {
     "name": "stdout",
     "output_type": "stream",
     "text": [
      "(3, 1) ((12288, 16384), (4096, 8192))\n",
      "(9, 0) ((36864, 40960), (0, 4096))\n",
      "(8, 1) ((32768, 36864), (4096, 8192))\n",
      "(12, 2) ((49152, 53248), (8192, 10000))\n",
      "(4, 2) ((16384, 20480), (8192, 10000))\n",
      "(14, 1) ((57344, 60000), (4096, 8192))\n",
      "(7, 0) ((28672, 32768), (0, 4096))\n",
      "(1, 2) ((4096, 8192), (8192, 10000))\n",
      "(1, 1) ((4096, 8192), (4096, 8192))\n",
      "(5, 2) ((20480, 24576), (8192, 10000))\n"
     ]
    },
    {
     "data": {
      "text/plain": [
       "(1.1065129e-06, 2.3841858e-08)"
      ]
     },
     "execution_count": 28,
     "metadata": {},
     "output_type": "execute_result"
    }
   ],
   "source": [
    "check_if_sharded_matrix_is_close(K_test.T, K_test_sharded, num_samples=10)"
   ]
  },
  {
   "cell_type": "code",
   "execution_count": 35,
   "metadata": {
    "collapsed": false
   },
   "outputs": [
    {
     "data": {
      "text/plain": [
       "array([[ 0.9264366 ,  0.93271381,  0.89246243, ...,  0.91728157,\n",
       "         0.91915786,  0.90167147],\n",
       "       [ 0.93681061,  0.93997109,  0.88187027, ...,  0.90974921,\n",
       "         0.89513421,  0.90411425],\n",
       "       [ 0.8927415 ,  0.88944477,  0.93891454, ...,  0.90018755,\n",
       "         0.91461205,  0.911538  ],\n",
       "       ..., \n",
       "       [ 0.89084095,  0.90429646,  0.90148151, ...,  0.90511876,\n",
       "         0.90009105,  0.89454436],\n",
       "       [ 0.91821086,  0.93237615,  0.86226618, ...,  0.91872495,\n",
       "         0.91562128,  0.92458278],\n",
       "       [ 0.92331934,  0.92766863,  0.87903392, ...,  0.8809731 ,\n",
       "         0.87708133,  0.88147402]], dtype=float32)"
      ]
     },
     "execution_count": 35,
     "metadata": {},
     "output_type": "execute_result"
    }
   ],
   "source": [
    "K_test[4096*2:4096*3,4096*8:4096*9].T"
   ]
  },
  {
   "cell_type": "code",
   "execution_count": 34,
   "metadata": {
    "collapsed": false
   },
   "outputs": [
    {
     "data": {
      "text/plain": [
       "array([[ 0.9264366 ,  0.93271381,  0.89246243, ...,  0.91728163,\n",
       "         0.9191578 ,  0.90167147],\n",
       "       [ 0.93681061,  0.93997109,  0.88187027, ...,  0.90974921,\n",
       "         0.89513421,  0.90411419],\n",
       "       [ 0.8927415 ,  0.88944477,  0.93891454, ...,  0.90018755,\n",
       "         0.91461211,  0.911538  ],\n",
       "       ..., \n",
       "       [ 0.89084095,  0.90429646,  0.90148151, ...,  0.90511876,\n",
       "         0.90009105,  0.89454436],\n",
       "       [ 0.91821086,  0.93237615,  0.86226618, ...,  0.91872495,\n",
       "         0.91562128,  0.92458278],\n",
       "       [ 0.92331934,  0.92766863,  0.87903392, ...,  0.8809731 ,\n",
       "         0.87708133,  0.88147402]], dtype=float32)"
      ]
     },
     "execution_count": 34,
     "metadata": {},
     "output_type": "execute_result"
    }
   ],
   "source": [
    "K_test_sharded.get_block(8,2)"
   ]
  },
  {
   "cell_type": "code",
   "execution_count": 18,
   "metadata": {
    "collapsed": false
   },
   "outputs": [],
   "source": [
    "y_enc = np.eye(10)[y_train.astype('int')]"
   ]
  },
  {
   "cell_type": "code",
   "execution_count": 15,
   "metadata": {
    "collapsed": true
   },
   "outputs": [],
   "source": [
    "XXT = XXT.astype('float64')"
   ]
  },
  {
   "cell_type": "code",
   "execution_count": 93,
   "metadata": {
    "collapsed": false
   },
   "outputs": [
    {
     "name": "stdout",
     "output_type": "stream",
     "text": [
      "CPU times: user 2min 58s, sys: 38.3 s, total: 3min 36s\n",
      "Wall time: 1min 18s\n"
     ]
    }
   ],
   "source": [
    "%time K = linalg.computeRBFGramMatrix(X_train, X_train, gamma=1e-3)"
   ]
  },
  {
   "cell_type": "code",
   "execution_count": 94,
   "metadata": {
    "collapsed": false
   },
   "outputs": [
    {
     "data": {
      "text/plain": [
       "array([[ 0.99999994,  0.88952368,  0.88983488, ...,  0.87549806,\n",
       "         0.88120699,  0.93134415],\n",
       "       [ 0.88952368,  1.        ,  0.90524197, ...,  0.89721954,\n",
       "         0.91604143,  0.91453439],\n",
       "       [ 0.88983488,  0.90524197,  1.        , ...,  0.92135066,\n",
       "         0.93387628,  0.91253197],\n",
       "       ..., \n",
       "       [ 0.87549806,  0.89721954,  0.92135066, ...,  1.        ,\n",
       "         0.91085505,  0.90198225],\n",
       "       [ 0.88120699,  0.91604143,  0.93387628, ...,  0.91085505,\n",
       "         1.        ,  0.91390967],\n",
       "       [ 0.93134415,  0.91453439,  0.91253197, ...,  0.90198225,\n",
       "         0.91390967,  1.        ]], dtype=float32)"
      ]
     },
     "execution_count": 94,
     "metadata": {},
     "output_type": "execute_result"
    }
   ],
   "source": [
    "K"
   ]
  },
  {
   "cell_type": "code",
   "execution_count": 69,
   "metadata": {
    "collapsed": false
   },
   "outputs": [
    {
     "name": "stdout",
     "output_type": "stream",
     "text": [
      "7.85769022566e-05\n",
      "1.86124413437e-07\n",
      "7.86311769821e-05\n",
      "1.88492473185e-07\n",
      "7.86206647145e-05\n",
      "1.95576728997e-07\n",
      "7.86083408888e-05\n",
      "1.9939509191e-07\n",
      "7.85782299109e-05\n",
      "1.91826753637e-07\n",
      "7.85794947596e-05\n",
      "1.94369887611e-07\n",
      "7.85920960478e-05\n",
      "1.91685352527e-07\n",
      "7.85780958401e-05\n",
      "1.92653506551e-07\n",
      "7.68832079584e-05\n",
      "1.91833839344e-07\n",
      "7.70798157644e-05\n",
      "1.94436902456e-07\n",
      "7.72289110535e-05\n",
      "1.92048793242e-07\n",
      "7.73567145798e-05\n",
      "1.9205611046e-07\n",
      "7.74586618784e-05\n",
      "1.91921168308e-07\n",
      "7.7543596195e-05\n",
      "1.93734761376e-07\n",
      "7.76124637747e-05\n",
      "1.92803643125e-07\n",
      "7.76784148365e-05\n",
      "1.92611770027e-07\n",
      "7.77441049823e-05\n",
      "1.91840978645e-07\n",
      "7.77952484757e-05\n",
      "1.93569649519e-07\n",
      "7.78381029465e-05\n",
      "1.94678863059e-07\n",
      "7.78807006018e-05\n",
      "1.95992614033e-07\n",
      "7.71927700363e-05\n",
      "1.96516781213e-07\n",
      "7.72601633081e-05\n",
      "1.96303918025e-07\n"
     ]
    },
    {
     "ename": "KeyboardInterrupt",
     "evalue": "",
     "output_type": "error",
     "traceback": [
      "\u001b[0;31m---------------------------------------------------------------------------\u001b[0m",
      "\u001b[0;31mKeyboardInterrupt\u001b[0m                         Traceback (most recent call last)",
      "\u001b[0;32m<ipython-input-69-0020c02bb113>\u001b[0m in \u001b[0;36m<module>\u001b[0;34m()\u001b[0m\n\u001b[1;32m      8\u001b[0m     \u001b[0mlocal_block\u001b[0m \u001b[0;34m=\u001b[0m \u001b[0mK\u001b[0m\u001b[0;34m[\u001b[0m\u001b[0msidx_0\u001b[0m\u001b[0;34m:\u001b[0m\u001b[0meidx_0\u001b[0m\u001b[0;34m,\u001b[0m \u001b[0msidx_1\u001b[0m\u001b[0;34m:\u001b[0m\u001b[0meidx_1\u001b[0m\u001b[0;34m]\u001b[0m\u001b[0;34m\u001b[0m\u001b[0m\n\u001b[1;32m      9\u001b[0m     \u001b[0mdiff_norms\u001b[0m\u001b[0;34m.\u001b[0m\u001b[0mappend\u001b[0m\u001b[0;34m(\u001b[0m\u001b[0mnp\u001b[0m\u001b[0;34m.\u001b[0m\u001b[0mlinalg\u001b[0m\u001b[0;34m.\u001b[0m\u001b[0mnorm\u001b[0m\u001b[0;34m(\u001b[0m\u001b[0mlocal_block\u001b[0m \u001b[0;34m-\u001b[0m \u001b[0ms3_block\u001b[0m\u001b[0;34m)\u001b[0m\u001b[0;34m)\u001b[0m\u001b[0;34m\u001b[0m\u001b[0m\n\u001b[0;32m---> 10\u001b[0;31m     \u001b[0mmax_norms\u001b[0m\u001b[0;34m.\u001b[0m\u001b[0mappend\u001b[0m\u001b[0;34m(\u001b[0m\u001b[0mnp\u001b[0m\u001b[0;34m.\u001b[0m\u001b[0mmax\u001b[0m\u001b[0;34m(\u001b[0m\u001b[0mnp\u001b[0m\u001b[0;34m.\u001b[0m\u001b[0mabs\u001b[0m\u001b[0;34m(\u001b[0m\u001b[0mlocal_block\u001b[0m \u001b[0;34m-\u001b[0m \u001b[0ms3_block\u001b[0m\u001b[0;34m)\u001b[0m\u001b[0;34m)\u001b[0m\u001b[0;34m)\u001b[0m\u001b[0;34m\u001b[0m\u001b[0m\n\u001b[0m\u001b[1;32m     11\u001b[0m     \u001b[0mprint\u001b[0m\u001b[0;34m(\u001b[0m\u001b[0mnp\u001b[0m\u001b[0;34m.\u001b[0m\u001b[0mmean\u001b[0m\u001b[0;34m(\u001b[0m\u001b[0mdiff_norms\u001b[0m\u001b[0;34m)\u001b[0m\u001b[0;34m)\u001b[0m\u001b[0;34m\u001b[0m\u001b[0m\n\u001b[1;32m     12\u001b[0m     \u001b[0mprint\u001b[0m\u001b[0;34m(\u001b[0m\u001b[0mnp\u001b[0m\u001b[0;34m.\u001b[0m\u001b[0mmean\u001b[0m\u001b[0;34m(\u001b[0m\u001b[0mmax_norms\u001b[0m\u001b[0;34m)\u001b[0m\u001b[0;34m)\u001b[0m\u001b[0;34m\u001b[0m\u001b[0m\n",
      "\u001b[0;31mKeyboardInterrupt\u001b[0m: "
     ]
    }
   ],
   "source": [
    "import random\n",
    "diff_norms = []\n",
    "max_norms = []\n",
    "for bidx, block in zip(block_idxs, blocks):\n",
    "    if (random.random() > 0.75): continue\n",
    "    s3_block = K_sharded.get_block(*bidx)\n",
    "    ((sidx_0,eidx_0),(sidx_1,eidx_1)) = block\n",
    "    local_block = K[sidx_0:eidx_0, sidx_1:eidx_1]\n",
    "    diff_norms.append(np.linalg.norm(local_block - s3_block))\n",
    "    max_norms.append(np.max(np.abs(local_block - s3_block)))\n",
    "    print(np.mean(diff_norms))\n",
    "    print(np.mean(max_norms))\n",
    "    "
   ]
  },
  {
   "cell_type": "code",
   "execution_count": 43,
   "metadata": {
    "collapsed": false
   },
   "outputs": [
    {
     "name": "stdout",
     "output_type": "stream",
     "text": [
      "Solving blocks 0 to 4095\n",
      "solving block 0\n",
      "Iteration 0, Training Accuracy 0.9529666666666666\n",
      "Solving blocks 4096 to 8191\n",
      "solving block 1\n",
      "Iteration 1, Training Accuracy 0.96575\n",
      "Solving blocks 8192 to 12287\n",
      "solving block 2\n",
      "Iteration 2, Training Accuracy 0.9706333333333333\n",
      "Solving blocks 12288 to 16383\n",
      "solving block 3\n",
      "Iteration 3, Training Accuracy 0.9743\n",
      "Solving blocks 16384 to 20479\n",
      "solving block 4\n",
      "Iteration 4, Training Accuracy 0.97755\n",
      "Solving blocks 20480 to 24575\n",
      "solving block 5\n",
      "Iteration 5, Training Accuracy 0.9798166666666667\n",
      "Solving blocks 24576 to 28671\n",
      "solving block 6\n",
      "Iteration 6, Training Accuracy 0.9816333333333334\n",
      "Solving blocks 28672 to 32767\n",
      "solving block 7\n",
      "Iteration 7, Training Accuracy 0.9830833333333333\n",
      "Solving blocks 32768 to 36863\n",
      "solving block 8\n",
      "Iteration 8, Training Accuracy 0.9848166666666667\n",
      "Solving blocks 36864 to 40959\n",
      "solving block 9\n",
      "Iteration 9, Training Accuracy 0.9860166666666667\n",
      "Solving blocks 40960 to 45055\n",
      "solving block 10\n",
      "Iteration 10, Training Accuracy 0.9874166666666667\n",
      "Solving blocks 45056 to 49151\n",
      "solving block 11\n",
      "Iteration 11, Training Accuracy 0.9888\n",
      "Solving blocks 49152 to 53247\n",
      "solving block 12\n",
      "Iteration 12, Training Accuracy 0.9903\n",
      "Solving blocks 53248 to 57343\n",
      "solving block 13\n",
      "Iteration 13, Training Accuracy 0.9907666666666667\n",
      "Solving blocks 57344 to 59999\n",
      "solving block 14\n",
      "Iteration 14, Training Accuracy 0.99075\n",
      "Solving blocks 0 to 4095\n",
      "solving block 0\n",
      "Iteration 15, Training Accuracy 0.9914333333333334\n",
      "Solving blocks 4096 to 8191\n",
      "solving block 1\n",
      "Iteration 16, Training Accuracy 0.9921\n",
      "Solving blocks 8192 to 12287\n",
      "solving block 2\n",
      "Iteration 17, Training Accuracy 0.9920833333333333\n",
      "Solving blocks 12288 to 16383\n",
      "solving block 3\n",
      "Iteration 18, Training Accuracy 0.9926\n",
      "Solving blocks 16384 to 20479\n",
      "solving block 4\n",
      "Iteration 19, Training Accuracy 0.9928333333333333\n",
      "Solving blocks 20480 to 24575\n",
      "solving block 5\n",
      "Iteration 20, Training Accuracy 0.9934333333333333\n",
      "Solving blocks 24576 to 28671\n",
      "solving block 6\n",
      "Iteration 21, Training Accuracy 0.9939166666666667\n",
      "Solving blocks 28672 to 32767\n",
      "solving block 7\n",
      "Iteration 22, Training Accuracy 0.9939166666666667\n",
      "Solving blocks 32768 to 36863\n",
      "solving block 8\n",
      "Iteration 23, Training Accuracy 0.9942\n",
      "Solving blocks 36864 to 40959\n",
      "solving block 9\n",
      "Iteration 24, Training Accuracy 0.9944166666666666\n",
      "Solving blocks 40960 to 45055\n",
      "solving block 10\n",
      "Iteration 25, Training Accuracy 0.99455\n",
      "Solving blocks 45056 to 49151\n",
      "solving block 11\n",
      "Iteration 26, Training Accuracy 0.9951\n",
      "Solving blocks 49152 to 53247\n",
      "solving block 12\n",
      "Iteration 27, Training Accuracy 0.9954166666666666\n",
      "Solving blocks 53248 to 57343\n",
      "solving block 13\n",
      "Iteration 28, Training Accuracy 0.99545\n",
      "Solving blocks 57344 to 59999\n",
      "solving block 14\n",
      "Iteration 29, Training Accuracy 0.9955333333333334\n"
     ]
    },
    {
     "data": {
      "text/plain": [
       "array([[  17.5854557 ,  -21.89850563,  -46.86743255, ...,   -5.76867144,\n",
       "         -22.44168905,  -44.58497786],\n",
       "       [  11.71114721,   -2.85437444,  -14.85082234, ...,   54.84312253,\n",
       "           4.68510987,  -95.37683543],\n",
       "       [  27.62378026,   35.59635285,   -3.45034974, ...,  -49.76394861,\n",
       "         -80.29441818,  411.61310799],\n",
       "       ..., \n",
       "       [  45.83917842,    8.78860365,  -17.16690181, ...,  141.05954682,\n",
       "          21.94930975, -179.49950251],\n",
       "       [  32.83178955,  -18.28629915,   22.2747839 , ...,  163.88959585,\n",
       "         -64.71163312,  -58.06694923],\n",
       "       [ -19.91840351,   32.64968444, -141.13107664, ...,   22.38889076,\n",
       "          56.94977046,  -16.32474653]])"
      ]
     },
     "execution_count": 43,
     "metadata": {},
     "output_type": "execute_result"
    }
   ],
   "source": [
    "reload(bcd)\n",
    "bcd.block_kernel_solve_debug(K, y_enc, block_size=4096, epochs=2, lambdav=1e-3, verbose=True)"
   ]
  },
  {
   "cell_type": "code",
   "execution_count": 62,
   "metadata": {
    "collapsed": false
   },
   "outputs": [
    {
     "name": "stdout",
     "output_type": "stream",
     "text": [
      "Requesting: [1]\n",
      "Special casing first epoch\n",
      "Pre block accuracy is  0.097412109375\n",
      "Residual Norm is  64.0\n",
      "(4096, 4096)\n",
      "(4096, 10)\n",
      "solving block 0\n",
      "Iteration 0, Training Accuracy 0.9529833333333333\n",
      "Iter 0 took 6.044053316116333 seconds\n",
      "Requesting: [2]\n",
      "Special casing first epoch\n",
      "Pre block accuracy is  0.944580078125\n",
      "Residual Norm is  27.32012243\n",
      "(4096, 4096)\n",
      "(4096, 10)\n",
      "solving block 1\n",
      "Iteration 1, Training Accuracy 0.9657333333333333\n",
      "Iter 1 took 2.424258232116699 seconds\n",
      "Requesting: [3]\n",
      "Special casing first epoch\n",
      "Pre block accuracy is  0.959716796875\n",
      "Residual Norm is  26.0606783764\n",
      "(4096, 4096)\n",
      "(4096, 10)\n",
      "solving block 2\n",
      "Iteration 2, Training Accuracy 0.97065\n",
      "Iter 2 took 4.681600332260132 seconds\n",
      "Requesting: [4]\n",
      "Special casing first epoch\n",
      "Pre block accuracy is  0.964599609375\n",
      "Residual Norm is  25.4347967627\n",
      "(4096, 4096)\n",
      "(4096, 10)\n",
      "solving block 3\n",
      "Iteration 3, Training Accuracy 0.9743166666666667\n",
      "Iter 3 took 3.7869856357574463 seconds\n",
      "Requesting: [5]\n",
      "Special casing first epoch\n",
      "Pre block accuracy is  0.965576171875\n",
      "Residual Norm is  25.1493992315\n",
      "(4096, 4096)\n",
      "(4096, 10)\n",
      "solving block 4\n",
      "Iteration 4, Training Accuracy 0.9775666666666667\n",
      "Iter 4 took 3.862251043319702 seconds\n",
      "Requesting: [6]\n",
      "Special casing first epoch\n",
      "Pre block accuracy is  0.968017578125\n",
      "Residual Norm is  24.9513496835\n",
      "(4096, 4096)\n",
      "(4096, 10)\n",
      "solving block 5\n",
      "Iteration 5, Training Accuracy 0.9798\n",
      "Iter 5 took 5.14384388923645 seconds\n",
      "Requesting: [7]\n",
      "Special casing first epoch\n",
      "Pre block accuracy is  0.9677734375\n",
      "Residual Norm is  24.7842019435\n",
      "(4096, 4096)\n",
      "(4096, 10)\n",
      "solving block 6\n",
      "Iteration 6, Training Accuracy 0.98165\n",
      "Iter 6 took 4.137880086898804 seconds\n",
      "Requesting: [8]\n",
      "Special casing first epoch\n",
      "Pre block accuracy is  0.96923828125\n",
      "Residual Norm is  24.3758582027\n",
      "(4096, 4096)\n",
      "(4096, 10)\n",
      "solving block 7\n",
      "Iteration 7, Training Accuracy 0.9830666666666666\n",
      "Iter 7 took 3.663266897201538 seconds\n",
      "Requesting: [9]\n",
      "Special casing first epoch\n",
      "Pre block accuracy is  0.971435546875\n",
      "Residual Norm is  24.16617907\n",
      "(4096, 4096)\n",
      "(4096, 10)\n",
      "solving block 8\n",
      "Iteration 8, Training Accuracy 0.9848166666666667\n",
      "Iter 8 took 4.749864816665649 seconds\n",
      "Requesting: [10]\n",
      "Special casing first epoch\n",
      "Pre block accuracy is  0.969482421875\n",
      "Residual Norm is  24.3185814056\n",
      "(4096, 4096)\n",
      "(4096, 10)\n",
      "solving block 9\n",
      "Iteration 9, Training Accuracy 0.9860333333333333\n",
      "Iter 9 took 3.847775459289551 seconds\n",
      "Requesting: [11]\n",
      "Special casing first epoch\n",
      "Pre block accuracy is  0.97314453125\n",
      "Residual Norm is  24.0234808787\n",
      "(4096, 4096)\n",
      "(4096, 10)\n",
      "solving block 10\n",
      "Iteration 10, Training Accuracy 0.9874\n",
      "Iter 10 took 3.608745574951172 seconds\n",
      "Requesting: [12]\n",
      "Special casing first epoch\n",
      "Pre block accuracy is  0.971435546875\n",
      "Residual Norm is  23.817493044\n",
      "(4096, 4096)\n",
      "(4096, 10)\n",
      "solving block 11\n",
      "Iteration 11, Training Accuracy 0.9888166666666667\n",
      "Iter 11 took 4.312226295471191 seconds\n",
      "Requesting: [13]\n",
      "Special casing first epoch\n",
      "Pre block accuracy is  0.97509765625\n",
      "Residual Norm is  23.4200652845\n",
      "(4096, 4096)\n",
      "(4096, 10)\n",
      "solving block 12\n",
      "Iteration 12, Training Accuracy 0.9903333333333333\n",
      "Iter 12 took 5.071940898895264 seconds\n",
      "Requesting: [14]\n",
      "Special casing first epoch\n",
      "Pre block accuracy is  0.972900390625\n",
      "Residual Norm is  23.3840533325\n",
      "(4096, 4096)\n",
      "(4096, 10)\n",
      "solving block 13\n",
      "Iteration 13, Training Accuracy 0.9907666666666667\n",
      "Iter 13 took 4.630706310272217 seconds\n",
      "Requesting: [0]\n",
      "Special casing first epoch\n",
      "Pre block accuracy is  0.975903614458\n",
      "Residual Norm is  18.6836573277\n",
      "(2656, 2656)\n",
      "(2656, 10)\n",
      "solving block 14\n",
      "Iteration 14, Training Accuracy 0.99075\n",
      "Iter 14 took 5.0996198654174805 seconds\n"
     ]
    },
    {
     "data": {
      "text/plain": [
       "(array([[ -11.39359469,  -26.5643392 ,  -44.83395258, ...,   22.25902939,\n",
       "          -14.38540513,    6.50639841],\n",
       "        [   1.81138846,    5.4756191 ,   -7.6311265 , ...,   24.10409267,\n",
       "           -1.93207467,  -58.00393405],\n",
       "        [  25.46729154,   20.4052448 ,    9.84006905, ...,  -57.56604857,\n",
       "          -47.05517491,  268.98690829],\n",
       "        ..., \n",
       "        [  21.83682204,    3.15764207,  -10.37781819, ...,   78.67849802,\n",
       "           14.78557964,  -94.8809601 ],\n",
       "        [  15.8425471 ,  -12.35863755,    7.18153325, ...,   93.15773153,\n",
       "          -29.24825587,  -31.69386832],\n",
       "        [  -6.86908814,   17.55341584,  -78.74682492, ...,   14.04814555,\n",
       "           32.40458612,  -10.44194221]]),\n",
       " array([[ 0.94152002, -0.00170084, -0.03170156, ...,  0.06399064,\n",
       "         -0.06068366,  0.15550835],\n",
       "        [ 0.03986978, -0.03127713,  0.09388547, ..., -0.04474529,\n",
       "         -0.05197447,  0.07890131],\n",
       "        [ 0.04624429, -0.07894995,  0.05438627, ..., -0.09939903,\n",
       "          0.03308949,  0.72626264],\n",
       "        ..., \n",
       "        [-0.02183682, -0.00315764,  0.01037782, ...,  0.9213215 ,\n",
       "         -0.01478558,  0.09488096],\n",
       "        [-0.01584255,  0.01235864, -0.00718153, ...,  0.90684227,\n",
       "          0.02924826,  0.03169387],\n",
       "        [ 1.00686909, -0.01755342,  0.07874682, ..., -0.01404815,\n",
       "         -0.03240459,  0.01044194]]))"
      ]
     },
     "execution_count": 62,
     "metadata": {},
     "output_type": "execute_result"
    }
   ],
   "source": [
    "reload(bcd)\n",
    "bcd.block_kernel_solve(K_sharded, y_enc, block_size=4096, epochs=1, lambdav=1e-3, num_blocks=len(K_sharded._blocks(0)))"
   ]
  },
  {
   "cell_type": "code",
   "execution_count": 19,
   "metadata": {
    "collapsed": false
   },
   "outputs": [
    {
     "name": "stdout",
     "output_type": "stream",
     "text": [
      "CPU times: user 1h 49min 22s, sys: 21min 15s, total: 2h 10min 38s\n",
      "Wall time: 2min 39s\n"
     ]
    }
   ],
   "source": [
    "%time model = scipy.linalg.solve(XXT, y_enc)"
   ]
  },
  {
   "cell_type": "code",
   "execution_count": 20,
   "metadata": {
    "collapsed": false
   },
   "outputs": [
    {
     "data": {
      "text/plain": [
       "1.0"
      ]
     },
     "execution_count": 20,
     "metadata": {},
     "output_type": "execute_result"
    }
   ],
   "source": [
    "metrics.accuracy_score(np.argmax(XXT.dot(model), axis=1), y_train)"
   ]
  },
  {
   "cell_type": "code",
   "execution_count": 37,
   "metadata": {
    "collapsed": false
   },
   "outputs": [],
   "source": [
    "block_idxs = XXT_sharded.block_idxs\n",
    "blocks = XXT_sharded.blocks"
   ]
  },
  {
   "cell_type": "code",
   "execution_count": 63,
   "metadata": {
    "collapsed": false
   },
   "outputs": [
    {
     "data": {
      "text/plain": [
       "261"
      ]
     },
     "execution_count": 63,
     "metadata": {},
     "output_type": "execute_result"
    }
   ],
   "source": [
    "X_train_sharded_3.shard_size_1"
   ]
  },
  {
   "cell_type": "code",
   "execution_count": 68,
   "metadata": {
    "collapsed": false
   },
   "outputs": [
    {
     "data": {
      "text/plain": [
       "0.4499722271499428"
      ]
     },
     "execution_count": 68,
     "metadata": {},
     "output_type": "execute_result"
    }
   ],
   "source": [
    "import random\n",
    "random.random()"
   ]
  },
  {
   "cell_type": "code",
   "execution_count": 76,
   "metadata": {
    "collapsed": false
   },
   "outputs": [
    {
     "name": "stdout",
     "output_type": "stream",
     "text": [
      "7.85769022573e-05\n",
      "1.86124413215e-07\n",
      "7.86311769828e-05\n",
      "1.88492473074e-07\n",
      "7.86206647153e-05\n",
      "1.95576728923e-07\n",
      "7.86267352512e-05\n",
      "1.84898541367e-07\n",
      "7.86156620834e-05\n",
      "1.90088869223e-07\n"
     ]
    },
    {
     "ename": "KeyboardInterrupt",
     "evalue": "",
     "output_type": "error",
     "traceback": [
      "\u001b[0;31m---------------------------------------------------------------------------\u001b[0m",
      "\u001b[0;31mKeyboardInterrupt\u001b[0m                         Traceback (most recent call last)",
      "\u001b[0;32m<ipython-input-76-f3ae9f46ce10>\u001b[0m in \u001b[0;36m<module>\u001b[0;34m()\u001b[0m\n\u001b[1;32m      2\u001b[0m \u001b[0mmax_norms\u001b[0m \u001b[0;34m=\u001b[0m \u001b[0;34m[\u001b[0m\u001b[0;34m]\u001b[0m\u001b[0;34m\u001b[0m\u001b[0m\n\u001b[1;32m      3\u001b[0m \u001b[0;32mfor\u001b[0m \u001b[0mbidx\u001b[0m\u001b[0;34m,\u001b[0m \u001b[0mblock\u001b[0m \u001b[0;32min\u001b[0m \u001b[0mzip\u001b[0m\u001b[0;34m(\u001b[0m\u001b[0mblock_idxs\u001b[0m\u001b[0;34m,\u001b[0m \u001b[0mblocks\u001b[0m\u001b[0;34m)\u001b[0m\u001b[0;34m:\u001b[0m\u001b[0;34m\u001b[0m\u001b[0m\n\u001b[0;32m----> 4\u001b[0;31m     \u001b[0ms3_block\u001b[0m \u001b[0;34m=\u001b[0m \u001b[0mK_sharded\u001b[0m\u001b[0;34m.\u001b[0m\u001b[0mget_block\u001b[0m\u001b[0;34m(\u001b[0m\u001b[0;34m*\u001b[0m\u001b[0mbidx\u001b[0m\u001b[0;34m)\u001b[0m\u001b[0;34m\u001b[0m\u001b[0m\n\u001b[0m\u001b[1;32m      5\u001b[0m     \u001b[0;34m(\u001b[0m\u001b[0;34m(\u001b[0m\u001b[0msidx_0\u001b[0m\u001b[0;34m,\u001b[0m\u001b[0meidx_0\u001b[0m\u001b[0;34m)\u001b[0m\u001b[0;34m,\u001b[0m\u001b[0;34m(\u001b[0m\u001b[0msidx_1\u001b[0m\u001b[0;34m,\u001b[0m\u001b[0meidx_1\u001b[0m\u001b[0;34m)\u001b[0m\u001b[0;34m)\u001b[0m \u001b[0;34m=\u001b[0m \u001b[0mblock\u001b[0m\u001b[0;34m\u001b[0m\u001b[0m\n\u001b[1;32m      6\u001b[0m     \u001b[0mlocal_block\u001b[0m \u001b[0;34m=\u001b[0m \u001b[0mK\u001b[0m\u001b[0;34m[\u001b[0m\u001b[0msidx_0\u001b[0m\u001b[0;34m:\u001b[0m\u001b[0meidx_0\u001b[0m\u001b[0;34m,\u001b[0m \u001b[0msidx_1\u001b[0m\u001b[0;34m:\u001b[0m\u001b[0meidx_1\u001b[0m\u001b[0;34m]\u001b[0m\u001b[0;34m\u001b[0m\u001b[0m\n",
      "\u001b[0;32m/home/ubuntu/pictureweb/distributed/sharded_matrix.py\u001b[0m in \u001b[0;36mget_block\u001b[0;34m(self, block_0, block_1, client, flip)\u001b[0m\n\u001b[1;32m    418\u001b[0m         \u001b[0mkey\u001b[0m \u001b[0;34m=\u001b[0m \u001b[0mself\u001b[0m\u001b[0;34m.\u001b[0m\u001b[0m__shard_idx_to_key__\u001b[0m\u001b[0;34m(\u001b[0m\u001b[0mblock_0\u001b[0m\u001b[0;34m,\u001b[0m \u001b[0mblock_1\u001b[0m\u001b[0;34m,\u001b[0m \u001b[0mr\u001b[0m\u001b[0;34m)\u001b[0m\u001b[0;34m\u001b[0m\u001b[0m\n\u001b[1;32m    419\u001b[0m         \u001b[0me\u001b[0m \u001b[0;34m=\u001b[0m \u001b[0mtime\u001b[0m\u001b[0;34m.\u001b[0m\u001b[0mtime\u001b[0m\u001b[0;34m(\u001b[0m\u001b[0;34m)\u001b[0m\u001b[0;34m\u001b[0m\u001b[0m\n\u001b[0;32m--> 420\u001b[0;31m         \u001b[0mbio\u001b[0m \u001b[0;34m=\u001b[0m \u001b[0mself\u001b[0m\u001b[0;34m.\u001b[0m\u001b[0m__s3_key_to_byte_io__\u001b[0m\u001b[0;34m(\u001b[0m\u001b[0mkey\u001b[0m\u001b[0;34m)\u001b[0m\u001b[0;34m\u001b[0m\u001b[0m\n\u001b[0m\u001b[1;32m    421\u001b[0m         \u001b[0ms\u001b[0m \u001b[0;34m=\u001b[0m \u001b[0mtime\u001b[0m\u001b[0;34m.\u001b[0m\u001b[0mtime\u001b[0m\u001b[0;34m(\u001b[0m\u001b[0;34m)\u001b[0m\u001b[0;34m\u001b[0m\u001b[0m\n\u001b[1;32m    422\u001b[0m         \u001b[0mX_block\u001b[0m \u001b[0;34m=\u001b[0m \u001b[0mnp\u001b[0m\u001b[0;34m.\u001b[0m\u001b[0mload\u001b[0m\u001b[0;34m(\u001b[0m\u001b[0mbio\u001b[0m\u001b[0;34m)\u001b[0m\u001b[0;34m\u001b[0m\u001b[0m\n",
      "\u001b[0;32m/home/ubuntu/pictureweb/distributed/sharded_matrix.py\u001b[0m in \u001b[0;36m__s3_key_to_byte_io__\u001b[0;34m(self, key)\u001b[0m\n\u001b[1;32m    237\u001b[0m     \u001b[0;32mdef\u001b[0m \u001b[0m__s3_key_to_byte_io__\u001b[0m\u001b[0;34m(\u001b[0m\u001b[0mself\u001b[0m\u001b[0;34m,\u001b[0m \u001b[0mkey\u001b[0m\u001b[0;34m)\u001b[0m\u001b[0;34m:\u001b[0m\u001b[0;34m\u001b[0m\u001b[0m\n\u001b[1;32m    238\u001b[0m         \u001b[0mclient\u001b[0m \u001b[0;34m=\u001b[0m \u001b[0mboto3\u001b[0m\u001b[0;34m.\u001b[0m\u001b[0mclient\u001b[0m\u001b[0;34m(\u001b[0m\u001b[0;34m's3'\u001b[0m\u001b[0;34m)\u001b[0m\u001b[0;34m\u001b[0m\u001b[0m\n\u001b[0;32m--> 239\u001b[0;31m         \u001b[0;32mreturn\u001b[0m \u001b[0mio\u001b[0m\u001b[0;34m.\u001b[0m\u001b[0mBytesIO\u001b[0m\u001b[0;34m(\u001b[0m\u001b[0mclient\u001b[0m\u001b[0;34m.\u001b[0m\u001b[0mget_object\u001b[0m\u001b[0;34m(\u001b[0m\u001b[0mBucket\u001b[0m\u001b[0;34m=\u001b[0m\u001b[0mself\u001b[0m\u001b[0;34m.\u001b[0m\u001b[0mbucket\u001b[0m\u001b[0;34m,\u001b[0m \u001b[0mKey\u001b[0m\u001b[0;34m=\u001b[0m\u001b[0mkey\u001b[0m\u001b[0;34m)\u001b[0m\u001b[0;34m[\u001b[0m\u001b[0;34m'Body'\u001b[0m\u001b[0;34m]\u001b[0m\u001b[0;34m.\u001b[0m\u001b[0mread\u001b[0m\u001b[0;34m(\u001b[0m\u001b[0;34m)\u001b[0m\u001b[0;34m)\u001b[0m\u001b[0;34m\u001b[0m\u001b[0m\n\u001b[0m\u001b[1;32m    240\u001b[0m \u001b[0;34m\u001b[0m\u001b[0m\n\u001b[1;32m    241\u001b[0m     \u001b[0;32mdef\u001b[0m \u001b[0m__save_matrix_to_s3__\u001b[0m\u001b[0;34m(\u001b[0m\u001b[0mself\u001b[0m\u001b[0;34m,\u001b[0m \u001b[0mX\u001b[0m\u001b[0;34m,\u001b[0m \u001b[0mout_key\u001b[0m\u001b[0;34m,\u001b[0m \u001b[0mclient\u001b[0m\u001b[0;34m=\u001b[0m\u001b[0;32mNone\u001b[0m\u001b[0;34m)\u001b[0m\u001b[0;34m:\u001b[0m\u001b[0;34m\u001b[0m\u001b[0m\n",
      "\u001b[0;32m/home/ubuntu/anaconda3/lib/python3.6/site-packages/botocore/response.py\u001b[0m in \u001b[0;36mread\u001b[0;34m(self, amt)\u001b[0m\n\u001b[1;32m     72\u001b[0m         \u001b[0mIf\u001b[0m \u001b[0mthe\u001b[0m \u001b[0mamt\u001b[0m \u001b[0margument\u001b[0m \u001b[0;32mis\u001b[0m \u001b[0momitted\u001b[0m\u001b[0;34m,\u001b[0m \u001b[0mread\u001b[0m \u001b[0mall\u001b[0m \u001b[0mdata\u001b[0m\u001b[0;34m.\u001b[0m\u001b[0;34m\u001b[0m\u001b[0m\n\u001b[1;32m     73\u001b[0m         \"\"\"\n\u001b[0;32m---> 74\u001b[0;31m         \u001b[0mchunk\u001b[0m \u001b[0;34m=\u001b[0m \u001b[0mself\u001b[0m\u001b[0;34m.\u001b[0m\u001b[0m_raw_stream\u001b[0m\u001b[0;34m.\u001b[0m\u001b[0mread\u001b[0m\u001b[0;34m(\u001b[0m\u001b[0mamt\u001b[0m\u001b[0;34m)\u001b[0m\u001b[0;34m\u001b[0m\u001b[0m\n\u001b[0m\u001b[1;32m     75\u001b[0m         \u001b[0mself\u001b[0m\u001b[0;34m.\u001b[0m\u001b[0m_amount_read\u001b[0m \u001b[0;34m+=\u001b[0m \u001b[0mlen\u001b[0m\u001b[0;34m(\u001b[0m\u001b[0mchunk\u001b[0m\u001b[0;34m)\u001b[0m\u001b[0;34m\u001b[0m\u001b[0m\n\u001b[1;32m     76\u001b[0m         \u001b[0;32mif\u001b[0m \u001b[0;32mnot\u001b[0m \u001b[0mchunk\u001b[0m \u001b[0;32mor\u001b[0m \u001b[0mamt\u001b[0m \u001b[0;32mis\u001b[0m \u001b[0;32mNone\u001b[0m\u001b[0;34m:\u001b[0m\u001b[0;34m\u001b[0m\u001b[0m\n",
      "\u001b[0;32m/home/ubuntu/anaconda3/lib/python3.6/site-packages/botocore/vendored/requests/packages/urllib3/response.py\u001b[0m in \u001b[0;36mread\u001b[0;34m(self, amt, decode_content, cache_content)\u001b[0m\n\u001b[1;32m    237\u001b[0m                 \u001b[0;32mif\u001b[0m \u001b[0mamt\u001b[0m \u001b[0;32mis\u001b[0m \u001b[0;32mNone\u001b[0m\u001b[0;34m:\u001b[0m\u001b[0;34m\u001b[0m\u001b[0m\n\u001b[1;32m    238\u001b[0m                     \u001b[0;31m# cStringIO doesn't like amt=None\u001b[0m\u001b[0;34m\u001b[0m\u001b[0;34m\u001b[0m\u001b[0m\n\u001b[0;32m--> 239\u001b[0;31m                     \u001b[0mdata\u001b[0m \u001b[0;34m=\u001b[0m \u001b[0mself\u001b[0m\u001b[0;34m.\u001b[0m\u001b[0m_fp\u001b[0m\u001b[0;34m.\u001b[0m\u001b[0mread\u001b[0m\u001b[0;34m(\u001b[0m\u001b[0;34m)\u001b[0m\u001b[0;34m\u001b[0m\u001b[0m\n\u001b[0m\u001b[1;32m    240\u001b[0m                     \u001b[0mflush_decoder\u001b[0m \u001b[0;34m=\u001b[0m \u001b[0;32mTrue\u001b[0m\u001b[0;34m\u001b[0m\u001b[0m\n\u001b[1;32m    241\u001b[0m                 \u001b[0;32melse\u001b[0m\u001b[0;34m:\u001b[0m\u001b[0;34m\u001b[0m\u001b[0m\n",
      "\u001b[0;32m/home/ubuntu/anaconda3/lib/python3.6/http/client.py\u001b[0m in \u001b[0;36mread\u001b[0;34m(self, amt)\u001b[0m\n\u001b[1;32m    460\u001b[0m             \u001b[0;32melse\u001b[0m\u001b[0;34m:\u001b[0m\u001b[0;34m\u001b[0m\u001b[0m\n\u001b[1;32m    461\u001b[0m                 \u001b[0;32mtry\u001b[0m\u001b[0;34m:\u001b[0m\u001b[0;34m\u001b[0m\u001b[0m\n\u001b[0;32m--> 462\u001b[0;31m                     \u001b[0ms\u001b[0m \u001b[0;34m=\u001b[0m \u001b[0mself\u001b[0m\u001b[0;34m.\u001b[0m\u001b[0m_safe_read\u001b[0m\u001b[0;34m(\u001b[0m\u001b[0mself\u001b[0m\u001b[0;34m.\u001b[0m\u001b[0mlength\u001b[0m\u001b[0;34m)\u001b[0m\u001b[0;34m\u001b[0m\u001b[0m\n\u001b[0m\u001b[1;32m    463\u001b[0m                 \u001b[0;32mexcept\u001b[0m \u001b[0mIncompleteRead\u001b[0m\u001b[0;34m:\u001b[0m\u001b[0;34m\u001b[0m\u001b[0m\n\u001b[1;32m    464\u001b[0m                     \u001b[0mself\u001b[0m\u001b[0;34m.\u001b[0m\u001b[0m_close_conn\u001b[0m\u001b[0;34m(\u001b[0m\u001b[0;34m)\u001b[0m\u001b[0;34m\u001b[0m\u001b[0m\n",
      "\u001b[0;32m/home/ubuntu/anaconda3/lib/python3.6/http/client.py\u001b[0m in \u001b[0;36m_safe_read\u001b[0;34m(self, amt)\u001b[0m\n\u001b[1;32m    610\u001b[0m         \u001b[0ms\u001b[0m \u001b[0;34m=\u001b[0m \u001b[0;34m[\u001b[0m\u001b[0;34m]\u001b[0m\u001b[0;34m\u001b[0m\u001b[0m\n\u001b[1;32m    611\u001b[0m         \u001b[0;32mwhile\u001b[0m \u001b[0mamt\u001b[0m \u001b[0;34m>\u001b[0m \u001b[0;36m0\u001b[0m\u001b[0;34m:\u001b[0m\u001b[0;34m\u001b[0m\u001b[0m\n\u001b[0;32m--> 612\u001b[0;31m             \u001b[0mchunk\u001b[0m \u001b[0;34m=\u001b[0m \u001b[0mself\u001b[0m\u001b[0;34m.\u001b[0m\u001b[0mfp\u001b[0m\u001b[0;34m.\u001b[0m\u001b[0mread\u001b[0m\u001b[0;34m(\u001b[0m\u001b[0mmin\u001b[0m\u001b[0;34m(\u001b[0m\u001b[0mamt\u001b[0m\u001b[0;34m,\u001b[0m \u001b[0mMAXAMOUNT\u001b[0m\u001b[0;34m)\u001b[0m\u001b[0;34m)\u001b[0m\u001b[0;34m\u001b[0m\u001b[0m\n\u001b[0m\u001b[1;32m    613\u001b[0m             \u001b[0;32mif\u001b[0m \u001b[0;32mnot\u001b[0m \u001b[0mchunk\u001b[0m\u001b[0;34m:\u001b[0m\u001b[0;34m\u001b[0m\u001b[0m\n\u001b[1;32m    614\u001b[0m                 \u001b[0;32mraise\u001b[0m \u001b[0mIncompleteRead\u001b[0m\u001b[0;34m(\u001b[0m\u001b[0;34mb''\u001b[0m\u001b[0;34m.\u001b[0m\u001b[0mjoin\u001b[0m\u001b[0;34m(\u001b[0m\u001b[0ms\u001b[0m\u001b[0;34m)\u001b[0m\u001b[0;34m,\u001b[0m \u001b[0mamt\u001b[0m\u001b[0;34m)\u001b[0m\u001b[0;34m\u001b[0m\u001b[0m\n",
      "\u001b[0;32m/home/ubuntu/anaconda3/lib/python3.6/socket.py\u001b[0m in \u001b[0;36mreadinto\u001b[0;34m(self, b)\u001b[0m\n\u001b[1;32m    584\u001b[0m         \u001b[0;32mwhile\u001b[0m \u001b[0;32mTrue\u001b[0m\u001b[0;34m:\u001b[0m\u001b[0;34m\u001b[0m\u001b[0m\n\u001b[1;32m    585\u001b[0m             \u001b[0;32mtry\u001b[0m\u001b[0;34m:\u001b[0m\u001b[0;34m\u001b[0m\u001b[0m\n\u001b[0;32m--> 586\u001b[0;31m                 \u001b[0;32mreturn\u001b[0m \u001b[0mself\u001b[0m\u001b[0;34m.\u001b[0m\u001b[0m_sock\u001b[0m\u001b[0;34m.\u001b[0m\u001b[0mrecv_into\u001b[0m\u001b[0;34m(\u001b[0m\u001b[0mb\u001b[0m\u001b[0;34m)\u001b[0m\u001b[0;34m\u001b[0m\u001b[0m\n\u001b[0m\u001b[1;32m    587\u001b[0m             \u001b[0;32mexcept\u001b[0m \u001b[0mtimeout\u001b[0m\u001b[0;34m:\u001b[0m\u001b[0;34m\u001b[0m\u001b[0m\n\u001b[1;32m    588\u001b[0m                 \u001b[0mself\u001b[0m\u001b[0;34m.\u001b[0m\u001b[0m_timeout_occurred\u001b[0m \u001b[0;34m=\u001b[0m \u001b[0;32mTrue\u001b[0m\u001b[0;34m\u001b[0m\u001b[0m\n",
      "\u001b[0;32m/home/ubuntu/anaconda3/lib/python3.6/ssl.py\u001b[0m in \u001b[0;36mrecv_into\u001b[0;34m(self, buffer, nbytes, flags)\u001b[0m\n\u001b[1;32m   1000\u001b[0m                   \u001b[0;34m\"non-zero flags not allowed in calls to recv_into() on %s\"\u001b[0m \u001b[0;34m%\u001b[0m\u001b[0;34m\u001b[0m\u001b[0m\n\u001b[1;32m   1001\u001b[0m                   self.__class__)\n\u001b[0;32m-> 1002\u001b[0;31m             \u001b[0;32mreturn\u001b[0m \u001b[0mself\u001b[0m\u001b[0;34m.\u001b[0m\u001b[0mread\u001b[0m\u001b[0;34m(\u001b[0m\u001b[0mnbytes\u001b[0m\u001b[0;34m,\u001b[0m \u001b[0mbuffer\u001b[0m\u001b[0;34m)\u001b[0m\u001b[0;34m\u001b[0m\u001b[0m\n\u001b[0m\u001b[1;32m   1003\u001b[0m         \u001b[0;32melse\u001b[0m\u001b[0;34m:\u001b[0m\u001b[0;34m\u001b[0m\u001b[0m\n\u001b[1;32m   1004\u001b[0m             \u001b[0;32mreturn\u001b[0m \u001b[0msocket\u001b[0m\u001b[0;34m.\u001b[0m\u001b[0mrecv_into\u001b[0m\u001b[0;34m(\u001b[0m\u001b[0mself\u001b[0m\u001b[0;34m,\u001b[0m \u001b[0mbuffer\u001b[0m\u001b[0;34m,\u001b[0m \u001b[0mnbytes\u001b[0m\u001b[0;34m,\u001b[0m \u001b[0mflags\u001b[0m\u001b[0;34m)\u001b[0m\u001b[0;34m\u001b[0m\u001b[0m\n",
      "\u001b[0;32m/home/ubuntu/anaconda3/lib/python3.6/ssl.py\u001b[0m in \u001b[0;36mread\u001b[0;34m(self, len, buffer)\u001b[0m\n\u001b[1;32m    863\u001b[0m             \u001b[0;32mraise\u001b[0m \u001b[0mValueError\u001b[0m\u001b[0;34m(\u001b[0m\u001b[0;34m\"Read on closed or unwrapped SSL socket.\"\u001b[0m\u001b[0;34m)\u001b[0m\u001b[0;34m\u001b[0m\u001b[0m\n\u001b[1;32m    864\u001b[0m         \u001b[0;32mtry\u001b[0m\u001b[0;34m:\u001b[0m\u001b[0;34m\u001b[0m\u001b[0m\n\u001b[0;32m--> 865\u001b[0;31m             \u001b[0;32mreturn\u001b[0m \u001b[0mself\u001b[0m\u001b[0;34m.\u001b[0m\u001b[0m_sslobj\u001b[0m\u001b[0;34m.\u001b[0m\u001b[0mread\u001b[0m\u001b[0;34m(\u001b[0m\u001b[0mlen\u001b[0m\u001b[0;34m,\u001b[0m \u001b[0mbuffer\u001b[0m\u001b[0;34m)\u001b[0m\u001b[0;34m\u001b[0m\u001b[0m\n\u001b[0m\u001b[1;32m    866\u001b[0m         \u001b[0;32mexcept\u001b[0m \u001b[0mSSLError\u001b[0m \u001b[0;32mas\u001b[0m \u001b[0mx\u001b[0m\u001b[0;34m:\u001b[0m\u001b[0;34m\u001b[0m\u001b[0m\n\u001b[1;32m    867\u001b[0m             \u001b[0;32mif\u001b[0m \u001b[0mx\u001b[0m\u001b[0;34m.\u001b[0m\u001b[0margs\u001b[0m\u001b[0;34m[\u001b[0m\u001b[0;36m0\u001b[0m\u001b[0;34m]\u001b[0m \u001b[0;34m==\u001b[0m \u001b[0mSSL_ERROR_EOF\u001b[0m \u001b[0;32mand\u001b[0m \u001b[0mself\u001b[0m\u001b[0;34m.\u001b[0m\u001b[0msuppress_ragged_eofs\u001b[0m\u001b[0;34m:\u001b[0m\u001b[0;34m\u001b[0m\u001b[0m\n",
      "\u001b[0;32m/home/ubuntu/anaconda3/lib/python3.6/ssl.py\u001b[0m in \u001b[0;36mread\u001b[0;34m(self, len, buffer)\u001b[0m\n\u001b[1;32m    623\u001b[0m         \"\"\"\n\u001b[1;32m    624\u001b[0m         \u001b[0;32mif\u001b[0m \u001b[0mbuffer\u001b[0m \u001b[0;32mis\u001b[0m \u001b[0;32mnot\u001b[0m \u001b[0;32mNone\u001b[0m\u001b[0;34m:\u001b[0m\u001b[0;34m\u001b[0m\u001b[0m\n\u001b[0;32m--> 625\u001b[0;31m             \u001b[0mv\u001b[0m \u001b[0;34m=\u001b[0m \u001b[0mself\u001b[0m\u001b[0;34m.\u001b[0m\u001b[0m_sslobj\u001b[0m\u001b[0;34m.\u001b[0m\u001b[0mread\u001b[0m\u001b[0;34m(\u001b[0m\u001b[0mlen\u001b[0m\u001b[0;34m,\u001b[0m \u001b[0mbuffer\u001b[0m\u001b[0;34m)\u001b[0m\u001b[0;34m\u001b[0m\u001b[0m\n\u001b[0m\u001b[1;32m    626\u001b[0m         \u001b[0;32melse\u001b[0m\u001b[0;34m:\u001b[0m\u001b[0;34m\u001b[0m\u001b[0m\n\u001b[1;32m    627\u001b[0m             \u001b[0mv\u001b[0m \u001b[0;34m=\u001b[0m \u001b[0mself\u001b[0m\u001b[0;34m.\u001b[0m\u001b[0m_sslobj\u001b[0m\u001b[0;34m.\u001b[0m\u001b[0mread\u001b[0m\u001b[0;34m(\u001b[0m\u001b[0mlen\u001b[0m\u001b[0;34m)\u001b[0m\u001b[0;34m\u001b[0m\u001b[0m\n",
      "\u001b[0;31mKeyboardInterrupt\u001b[0m: "
     ]
    }
   ],
   "source": [
    "diff_norms = []\n",
    "max_norms = []\n",
    "for bidx, block in zip(block_idxs, blocks):\n",
    "    s3_block = K_sharded.get_block(*bidx)\n",
    "    ((sidx_0,eidx_0),(sidx_1,eidx_1)) = block\n",
    "    local_block = K[sidx_0:eidx_0, sidx_1:eidx_1]\n",
    "    diff_norms.append(np.linalg.norm(local_block - s3_block))\n",
    "    max_norms.append(np.max(np.abs(local_block - s3_block)))\n",
    "    print(np.mean(diff_norms))\n",
    "    print(np.mean(max_norms))"
   ]
  },
  {
   "cell_type": "code",
   "execution_count": 151,
   "metadata": {
    "collapsed": false
   },
   "outputs": [
    {
     "data": {
      "text/plain": [
       "[0, 1, 2, 3, 4, 5, 6, 7]"
      ]
     },
     "execution_count": 151,
     "metadata": {},
     "output_type": "execute_result"
    }
   ],
   "source": [
    "X_train_sharded._block_idxs(1)"
   ]
  },
  {
   "cell_type": "code",
   "execution_count": 51,
   "metadata": {
    "collapsed": false
   },
   "outputs": [
    {
     "data": {
      "text/plain": [
       "2.6556017388208361e-06"
      ]
     },
     "execution_count": 51,
     "metadata": {},
     "output_type": "execute_result"
    }
   ],
   "source": [
    "9.33738606592e-05/np.mean(s3_block)"
   ]
  },
  {
   "cell_type": "code",
   "execution_count": 150,
   "metadata": {
    "collapsed": false
   },
   "outputs": [
    {
     "data": {
      "text/plain": [
       "True"
      ]
     },
     "execution_count": 150,
     "metadata": {},
     "output_type": "execute_result"
    }
   ],
   "source": [
    "np.all(np.isclose(XtX, future.download_matrix()))"
   ]
  },
  {
   "cell_type": "code",
   "execution_count": 65,
   "metadata": {
    "collapsed": false
   },
   "outputs": [
    {
     "data": {
      "text/plain": [
       "<distributed.sharded_matrix.ShardedSymmetricMatrix at 0x7f062823bc18>"
      ]
     },
     "execution_count": 65,
     "metadata": {},
     "output_type": "execute_result"
    }
   ],
   "source": [
    "future"
   ]
  },
  {
   "cell_type": "code",
   "execution_count": 64,
   "metadata": {
    "collapsed": false
   },
   "outputs": [
    {
     "name": "stdout",
     "output_type": "stream",
     "text": [
      "(100, 4096)\n",
      "True\n",
      "XTX shape (100, 100)\n",
      "0 0\n",
      "0\n",
      "4096\n",
      "4096 4096\n"
     ]
    },
    {
     "ename": "Exception",
     "evalue": "Incompatible block size: (100, 100) vs (4096, 4096)",
     "output_type": "error",
     "traceback": [
      "\u001b[0;31m---------------------------------------------------------------------------\u001b[0m",
      "\u001b[0;31mException\u001b[0m                                 Traceback (most recent call last)",
      "\u001b[0;32m<ipython-input-64-2f375443dddb>\u001b[0m in \u001b[0;36m<module>\u001b[0;34m()\u001b[0m\n\u001b[1;32m      1\u001b[0m \u001b[0;34m\u001b[0m\u001b[0m\n\u001b[1;32m      2\u001b[0m \u001b[0mreload\u001b[0m\u001b[0;34m(\u001b[0m\u001b[0mmatmul\u001b[0m\u001b[0;34m)\u001b[0m\u001b[0;34m\u001b[0m\u001b[0m\n\u001b[0;32m----> 3\u001b[0;31m \u001b[0mmatmul\u001b[0m\u001b[0;34m.\u001b[0m\u001b[0mcompute_xtx_blockwise\u001b[0m\u001b[0;34m(\u001b[0m\u001b[0;34m[\u001b[0m\u001b[0;34m(\u001b[0m\u001b[0;36m0\u001b[0m\u001b[0;34m,\u001b[0m\u001b[0;36m0\u001b[0m\u001b[0;34m)\u001b[0m\u001b[0;34m]\u001b[0m\u001b[0;34m,\u001b[0m\u001b[0mfuture\u001b[0m\u001b[0;34m,\u001b[0m \u001b[0mX_train_sharded\u001b[0m\u001b[0;34m,\u001b[0m \u001b[0mother_block\u001b[0m\u001b[0;34m=\u001b[0m\u001b[0;36m1\u001b[0m\u001b[0;34m,\u001b[0m \u001b[0maxis\u001b[0m\u001b[0;34m=\u001b[0m\u001b[0;36m0\u001b[0m\u001b[0;34m)\u001b[0m\u001b[0;34m\u001b[0m\u001b[0m\n\u001b[0m",
      "\u001b[0;32m/home/ubuntu/pictureweb/distributed/matmul.py\u001b[0m in \u001b[0;36mcompute_xtx_blockwise\u001b[0;34m(block_pairs, XTX, X, other_block, exists, axis)\u001b[0m\n\u001b[1;32m     99\u001b[0m \u001b[0;34m\u001b[0m\u001b[0m\n\u001b[1;32m    100\u001b[0m     \u001b[0;32mfor\u001b[0m \u001b[0mbp\u001b[0m \u001b[0;32min\u001b[0m \u001b[0mblock_pairs\u001b[0m\u001b[0;34m:\u001b[0m\u001b[0;34m\u001b[0m\u001b[0m\n\u001b[0;32m--> 101\u001b[0;31m         \u001b[0mcompute_xtx_block\u001b[0m\u001b[0;34m(\u001b[0m\u001b[0mXTX\u001b[0m\u001b[0;34m,\u001b[0m \u001b[0mX\u001b[0m\u001b[0;34m,\u001b[0m \u001b[0mbp\u001b[0m\u001b[0;34m,\u001b[0m \u001b[0mother_block\u001b[0m\u001b[0;34m=\u001b[0m\u001b[0mother_block\u001b[0m\u001b[0;34m,\u001b[0m \u001b[0mexists\u001b[0m\u001b[0;34m=\u001b[0m\u001b[0mexists\u001b[0m\u001b[0;34m,\u001b[0m \u001b[0maxis\u001b[0m\u001b[0;34m=\u001b[0m\u001b[0maxis\u001b[0m\u001b[0;34m)\u001b[0m\u001b[0;34m\u001b[0m\u001b[0m\n\u001b[0m\u001b[1;32m    102\u001b[0m     \u001b[0;32mreturn\u001b[0m \u001b[0;36m0\u001b[0m\u001b[0;34m\u001b[0m\u001b[0m\n\u001b[1;32m    103\u001b[0m \u001b[0;34m\u001b[0m\u001b[0m\n",
      "\u001b[0;32m/home/ubuntu/pictureweb/distributed/matmul.py\u001b[0m in \u001b[0;36mcompute_xtx_block\u001b[0;34m(XTX, X, block_pair_0, other_block, axis, exists)\u001b[0m\n\u001b[1;32m     92\u001b[0m         \u001b[0mXTX_block\u001b[0m \u001b[0;34m+=\u001b[0m \u001b[0mXTX_block_old\u001b[0m\u001b[0;34m\u001b[0m\u001b[0m\n\u001b[1;32m     93\u001b[0m     \u001b[0mprint\u001b[0m\u001b[0;34m(\u001b[0m\u001b[0mblock_0\u001b[0m\u001b[0;34m,\u001b[0m \u001b[0mblock_1\u001b[0m\u001b[0;34m)\u001b[0m\u001b[0;34m\u001b[0m\u001b[0m\n\u001b[0;32m---> 94\u001b[0;31m     \u001b[0mout_key\u001b[0m \u001b[0;34m=\u001b[0m \u001b[0mXTX\u001b[0m\u001b[0;34m.\u001b[0m\u001b[0mput_block\u001b[0m\u001b[0;34m(\u001b[0m\u001b[0mblock_0\u001b[0m\u001b[0;34m,\u001b[0m \u001b[0mblock_1\u001b[0m\u001b[0;34m,\u001b[0m \u001b[0mXTX_block\u001b[0m\u001b[0;34m)\u001b[0m\u001b[0;34m\u001b[0m\u001b[0m\n\u001b[0m\u001b[1;32m     95\u001b[0m     \u001b[0mupload_time\u001b[0m \u001b[0;34m=\u001b[0m \u001b[0mtime\u001b[0m\u001b[0;34m.\u001b[0m\u001b[0mtime\u001b[0m\u001b[0;34m(\u001b[0m\u001b[0;34m)\u001b[0m \u001b[0;34m-\u001b[0m \u001b[0mstart\u001b[0m\u001b[0;34m\u001b[0m\u001b[0m\n\u001b[1;32m     96\u001b[0m     \u001b[0;32mreturn\u001b[0m \u001b[0mnp\u001b[0m\u001b[0;34m.\u001b[0m\u001b[0marray\u001b[0m\u001b[0;34m(\u001b[0m\u001b[0;34m[\u001b[0m\u001b[0mmeta_time\u001b[0m\u001b[0;34m,\u001b[0m \u001b[0mdownload_time\u001b[0m\u001b[0;34m,\u001b[0m \u001b[0mkernel_time\u001b[0m\u001b[0;34m,\u001b[0m \u001b[0mupload_time\u001b[0m\u001b[0;34m]\u001b[0m\u001b[0;34m)\u001b[0m\u001b[0;34m\u001b[0m\u001b[0m\n",
      "\u001b[0;32m/home/ubuntu/pictureweb/distributed/sharded_matrix.py\u001b[0m in \u001b[0;36mput_block\u001b[0;34m(self, block_0, block_1, block)\u001b[0m\n\u001b[1;32m    380\u001b[0m \u001b[0;34m\u001b[0m\u001b[0m\n\u001b[1;32m    381\u001b[0m         \u001b[0;32mif\u001b[0m \u001b[0;34m(\u001b[0m\u001b[0mblock\u001b[0m\u001b[0;34m.\u001b[0m\u001b[0mshape\u001b[0m \u001b[0;34m!=\u001b[0m \u001b[0;34m(\u001b[0m\u001b[0mshape_0\u001b[0m\u001b[0;34m,\u001b[0m \u001b[0mshape_1\u001b[0m\u001b[0;34m)\u001b[0m\u001b[0;34m)\u001b[0m\u001b[0;34m:\u001b[0m\u001b[0;34m\u001b[0m\u001b[0m\n\u001b[0;32m--> 382\u001b[0;31m             \u001b[0;32mraise\u001b[0m \u001b[0mException\u001b[0m\u001b[0;34m(\u001b[0m\u001b[0;34m\"Incompatible block size: {0} vs {1}\"\u001b[0m\u001b[0;34m.\u001b[0m\u001b[0mformat\u001b[0m\u001b[0;34m(\u001b[0m\u001b[0mblock\u001b[0m\u001b[0;34m.\u001b[0m\u001b[0mshape\u001b[0m\u001b[0;34m,\u001b[0m \u001b[0;34m(\u001b[0m\u001b[0mshape_0\u001b[0m\u001b[0;34m,\u001b[0m\u001b[0mshape_1\u001b[0m\u001b[0;34m)\u001b[0m\u001b[0;34m)\u001b[0m\u001b[0;34m)\u001b[0m\u001b[0;34m\u001b[0m\u001b[0m\n\u001b[0m\u001b[1;32m    383\u001b[0m \u001b[0;34m\u001b[0m\u001b[0m\n\u001b[1;32m    384\u001b[0m         \u001b[0mkey\u001b[0m \u001b[0;34m=\u001b[0m \u001b[0mself\u001b[0m\u001b[0;34m.\u001b[0m\u001b[0m__shard_idx_to_key__\u001b[0m\u001b[0;34m(\u001b[0m\u001b[0mblock_0\u001b[0m\u001b[0;34m,\u001b[0m \u001b[0mblock_1\u001b[0m\u001b[0;34m)\u001b[0m\u001b[0;34m\u001b[0m\u001b[0m\n",
      "\u001b[0;31mException\u001b[0m: Incompatible block size: (100, 100) vs (4096, 4096)"
     ]
    }
   ],
   "source": [
    "\n",
    "reload(matmul)\n",
    "matmul.compute_xtx_blockwise([(0,0)],future, X_train_sharded, other_block=1, axis=0)"
   ]
  },
  {
   "cell_type": "code",
   "execution_count": 161,
   "metadata": {
    "collapsed": false
   },
   "outputs": [
    {
     "data": {
      "text/plain": [
       "array([[ 0.,  0.,  0., ...,  0.,  0.,  0.],\n",
       "       [ 0.,  0.,  0., ...,  0.,  0.,  0.],\n",
       "       [ 0.,  0.,  0., ...,  0.,  0.,  0.],\n",
       "       ..., \n",
       "       [ 0.,  0.,  0., ...,  0.,  0.,  0.],\n",
       "       [ 0.,  0.,  0., ...,  0.,  0.,  0.],\n",
       "       [ 0.,  0.,  0., ...,  0.,  0.,  0.]], dtype=float32)"
      ]
     },
     "execution_count": 161,
     "metadata": {},
     "output_type": "execute_result"
    }
   ],
   "source": [
    "X_train_sharded.get_block(1,0)\n",
    "X_train_sharded.get_block(1,0)"
   ]
  },
  {
   "cell_type": "code",
   "execution_count": 159,
   "metadata": {
    "collapsed": false
   },
   "outputs": [
    {
     "ename": "NameError",
     "evalue": "name 'block_kernel_solve' is not defined",
     "output_type": "error",
     "traceback": [
      "\u001b[0;31m---------------------------------------------------------------------------\u001b[0m",
      "\u001b[0;31mNameError\u001b[0m                                 Traceback (most recent call last)",
      "\u001b[0;32m<ipython-input-159-92a7b6ca84d7>\u001b[0m in \u001b[0;36m<module>\u001b[0;34m()\u001b[0m\n\u001b[0;32m----> 1\u001b[0;31m \u001b[0mx_10\u001b[0m \u001b[0;34m=\u001b[0m \u001b[0mblock_kernel_solve\u001b[0m\u001b[0;34m(\u001b[0m\u001b[0mK_sharded\u001b[0m\u001b[0;34m,\u001b[0m \u001b[0my_train_one_hot\u001b[0m\u001b[0;34m,\u001b[0m \u001b[0mmax_iter\u001b[0m\u001b[0;34m=\u001b[0m\u001b[0;36m10\u001b[0m\u001b[0;34m,\u001b[0m \u001b[0mnum_blocks\u001b[0m\u001b[0;34m=\u001b[0m\u001b[0;36m15\u001b[0m\u001b[0;34m,\u001b[0m \u001b[0mlambdav\u001b[0m\u001b[0;34m=\u001b[0m\u001b[0;36m1e-8\u001b[0m\u001b[0;34m)\u001b[0m\u001b[0;34m\u001b[0m\u001b[0m\n\u001b[0m",
      "\u001b[0;31mNameError\u001b[0m: name 'block_kernel_solve' is not defined"
     ]
    }
   ],
   "source": [
    "x_10 = block_kernel_solve(K_sharded, y_train_one_hot, max_iter=10, num_blocks=15, lambdav=1e-8)"
   ]
  },
  {
   "cell_type": "code",
   "execution_count": 88,
   "metadata": {
    "collapsed": false
   },
   "outputs": [],
   "source": [
    "from scipy import linalg"
   ]
  },
  {
   "cell_type": "code",
   "execution_count": 89,
   "metadata": {
    "collapsed": false
   },
   "outputs": [
    {
     "data": {
      "text/plain": [
       "<module 'scipy.linalg' from '/home/ubuntu/anaconda3/lib/python3.6/site-packages/scipy/linalg/__init__.py'>"
      ]
     },
     "execution_count": 89,
     "metadata": {},
     "output_type": "execute_result"
    }
   ],
   "source": [
    "linalg"
   ]
  },
  {
   "cell_type": "code",
   "execution_count": 86,
   "metadata": {
    "collapsed": false
   },
   "outputs": [
    {
     "ename": "AttributeError",
     "evalue": "module 'scipy' has no attribute 'linalg'",
     "output_type": "error",
     "traceback": [
      "\u001b[0;31m---------------------------------------------------------------------------\u001b[0m",
      "\u001b[0;31mAttributeError\u001b[0m                            Traceback (most recent call last)",
      "\u001b[0;32m<ipython-input-86-e7423c723ae2>\u001b[0m in \u001b[0;36m<module>\u001b[0;34m()\u001b[0m\n\u001b[0;32m----> 1\u001b[0;31m \u001b[0mscipy\u001b[0m\u001b[0;34m.\u001b[0m\u001b[0mlinalg\u001b[0m\u001b[0;34m\u001b[0m\u001b[0m\n\u001b[0m",
      "\u001b[0;31mAttributeError\u001b[0m: module 'scipy' has no attribute 'linalg'"
     ]
    }
   ],
   "source": [
    "scipy"
   ]
  },
  {
   "cell_type": "code",
   "execution_count": null,
   "metadata": {
    "collapsed": true
   },
   "outputs": [],
   "source": []
  }
 ],
 "metadata": {
  "kernelspec": {
   "display_name": "Python 3",
   "language": "python",
   "name": "python3"
  },
  "language_info": {
   "codemirror_mode": {
    "name": "ipython",
    "version": 3
   },
   "file_extension": ".py",
   "mimetype": "text/x-python",
   "name": "python",
   "nbconvert_exporter": "python",
   "pygments_lexer": "ipython3",
   "version": "3.6.0"
  }
 },
 "nbformat": 4,
 "nbformat_minor": 0
}
