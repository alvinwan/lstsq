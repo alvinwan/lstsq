{
 "cells": [
  {
   "cell_type": "code",
   "execution_count": 2,
   "metadata": {
    "collapsed": false
   },
   "outputs": [
    {
     "data": {
      "text/plain": [
       "<module 'boto3' from '/home/ubuntu/anaconda3/lib/python3.6/site-packages/boto3/__init__.py'>"
      ]
     },
     "execution_count": 2,
     "metadata": {},
     "output_type": "execute_result"
    }
   ],
   "source": [
    "import sys\n",
    "sys.path.insert(\"..\")\n",
    "from importlib import reload\n",
    "import numpy as np\n",
    "import scipy.linalg\n",
    "import pywren\n",
    "reload(pywren)\n",
    "import math\n",
    "import itertools\n",
    "import time\n",
    "import cloudpickle\n",
    "import importlib\n",
    "import sys\n",
    "from sklearn.datasets import fetch_mldata\n",
    "from itertools import groupby\n",
    "from operator import itemgetter\n",
    "from sklearn.kernel_approximation import RBFSampler, Nystroem\n",
    "from sklearn import metrics\n",
    "import sys\n",
    "import boto3\n",
    "import concurrent.futures as fs\n",
    "reload(boto3)\n"
   ]
  },
  {
   "cell_type": "code",
   "execution_count": 35,
   "metadata": {
    "collapsed": false
   },
   "outputs": [],
   "source": [
    "def block_kernel_solve(K, y, epochs=1, max_iter=313, block_size=4096, num_blocks=313, lambdav=0.1, verbose=True, prc=lambda x: x):\n",
    "        '''Solve (K + \\lambdaI)x = y\n",
    "            in a block-wise fashion\n",
    "        '''\n",
    "\n",
    "        # compute some constants\n",
    "        x = np.zeros(y.shape)\n",
    "        i = 0\n",
    "        for e in range(epochs):\n",
    "                for b in range(int(num_blocks)):\n",
    "                        if (i > max_iter):\n",
    "                            return x\n",
    "                        print(\"Downloading Block (this is slow)\")\n",
    "                        # pick a subset of the kernel matrix (note K can be mmap-ed)\n",
    "                        K_block = fast_kernel_column_block_get(K,b, num_blocks=num_blocks)\n",
    "                        b_start =  b*block_size\n",
    "                        b_end = min((b+1)*block_size, K.shape[1])\n",
    "                        \n",
    "                        print(\"Applying preconditioner...\")\n",
    "                        K_block = prc(K_block)\n",
    "                        y_block = prc(y[b_start:b_end, :])\n",
    "\n",
    "                        # This is a matrix vector multiply very efficient can be parallelized\n",
    "                        # (even if K is mmaped)\n",
    "\n",
    "                        # calculate\n",
    "                        R = np.zeros(y_block.shape)\n",
    "                        print(R.shape)\n",
    "                        \n",
    "                        for b2 in range(int(num_blocks)):\n",
    "                            if b2 == b: continue\n",
    "                            s =  b2*block_size\n",
    "                            e = min((b2+1)*block_size, K.shape[1])\n",
    "                            Kbb2 = K_block[s:e]\n",
    "                            R += Kbb2.T.dot(x[s:e, :])\n",
    "\n",
    "                            \n",
    "                       \n",
    "                        Kbb = K_block[b_start:b_end, :]\n",
    "                        print(Kbb.shape)\n",
    "                        # Add term to regularizer\n",
    "                        idxes = np.diag_indices(block_size)\n",
    "                        Kbb[idxes] += lambdav\n",
    "                        print(\"solving system {0}\".format(b))\n",
    "                        print(\"Residual {0}\".format(np.linalg.norm(y_block - R)))\n",
    "                        x_block = scipy.linalg.solve(Kbb, y_block - R)\n",
    "                        # update model\n",
    "                        x[b_start:b_end] = x_block\n",
    "                        i += 1\n",
    "        return x\n",
    "\n",
    "def fast_kernel_column_block_get(K, col_block, num_blocks=313, workers=5):\n",
    "    s = time.time()\n",
    "    with fs.ThreadPoolExecutor(max_workers=workers) as executor:\n",
    "        futures = []\n",
    "        for i in range(0,15):\n",
    "            futures.append(executor.submit(K.get_block, i, col_block))\n",
    "        fs.wait(futures)\n",
    "        results = list(map(lambda x: x.result(), futures))\n",
    "    e = time.time()\n",
    "    \n",
    "    return np.vstack(results)\n",
    "    \n",
    "def compute_kernel_pywren(pwex, X_train_sharded, tasks_per_job, num_jobs):\n",
    "    num_blocks = int(math.ceil(X_train_sharded.shape[0]/float(X_train_sharded.shard_size_0)))\n",
    "    tasks_per_job = 5\n",
    "    num_jobs = 2500\n",
    "    chunked_blocks = linalg.generate_chunked_block_pairs(num_blocks, tasks_per_job, num_jobs)\n",
    "    for c in chunked_blocks:\n",
    "        %time kernel_futures = pwex.map(lambda x: linalg.compute_rbf_kernel_blockwise(x, X_train_sharded, gamma), c)\n",
    "        %time pywren.wait(kernel_futures)    \n",
    "    K_sharded = linalg.compute_rbf_kernel_blockwise([(0,0)], X_train_sharded, gamma)[1]\n",
    "    return K_sharded\n",
    "\n",
    "      "
   ]
  },
  {
   "cell_type": "code",
   "execution_count": 4,
   "metadata": {
    "collapsed": false
   },
   "outputs": [],
   "source": [
    "notebook_stdout = sys.stdout\n",
    "notebook_stderr = sys.stderr\n",
    "terminal_stdout = open('/dev/stdout', 'w')\n",
    "terminal_stderr = open('/dev/stderr', 'w')"
   ]
  },
  {
   "cell_type": "code",
   "execution_count": 20,
   "metadata": {
    "collapsed": true
   },
   "outputs": [],
   "source": [
    "mnist = fetch_mldata('MNIST original', data_home=\"/tmp/mnist\")\n",
    "X_train = mnist.data[:60000].astype('float32')/255.0\n",
    "y_train = mnist.target[:60000].astype('float32')\n",
    "X_test = mnist.data[60000:].astype('float32')/255.0\n",
    "y_test = mnist.target[60000:].astype('float32')\n"
   ]
  },
  {
   "cell_type": "code",
   "execution_count": 21,
   "metadata": {
    "collapsed": true
   },
   "outputs": [],
   "source": [
    "np.random.seed(0)\n",
    "shuffled_idx = np.random.choice(X_train.shape[0], X_train.shape[0], replace=False)\n",
    "X_train = X_train[shuffled_idx] \n",
    "y_train = y_train[shuffled_idx]\n",
    "y_train_one_hot = np.eye(10)[y_train.astype('int')]\n"
   ]
  },
  {
   "cell_type": "code",
   "execution_count": 26,
   "metadata": {
    "collapsed": false
   },
   "outputs": [
    {
     "name": "stdout",
     "output_type": "stream",
     "text": [
      "Sharding matrix..... of shape (60000, 784)\n"
     ]
    }
   ],
   "source": [
    "X_train_sharded = linalg.ShardedMatrix(None, data=X_train, shard_size_0=4096, bucket=\"imagenet-raw\", reshard=True)"
   ]
  },
  {
   "cell_type": "markdown",
   "metadata": {},
   "source": [
    "###### X_train_sharded"
   ]
  },
  {
   "cell_type": "code",
   "execution_count": 27,
   "metadata": {
    "collapsed": false
   },
   "outputs": [],
   "source": [
    "# set up pywren\n",
    "gamma = 1e-3\n",
    "pwex = pywren.default_executor()"
   ]
  },
  {
   "cell_type": "code",
   "execution_count": null,
   "metadata": {
    "collapsed": true
   },
   "outputs": [],
   "source": [
    "K_sharded.get()"
   ]
  },
  {
   "cell_type": "code",
   "execution_count": 28,
   "metadata": {
    "collapsed": false
   },
   "outputs": [
    {
     "name": "stdout",
     "output_type": "stream",
     "text": [
      "CPU times: user 1.01 s, sys: 140 ms, total: 1.15 s\n",
      "Wall time: 1.2 s\n",
      "CPU times: user 2.11 s, sys: 368 ms, total: 2.48 s\n",
      "Wall time: 28.4 s\n"
     ]
    }
   ],
   "source": [
    "K_sharded = compute_kernel_pywren(pwex, X_train_sharded, 5, 2500)"
   ]
  },
  {
   "cell_type": "code",
   "execution_count": 39,
   "metadata": {
    "collapsed": false
   },
   "outputs": [
    {
     "name": "stdout",
     "output_type": "stream",
     "text": [
      "CPU times: user 2min 41s, sys: 1min 11s, total: 3min 52s\n",
      "Wall time: 1min 15s\n"
     ]
    }
   ],
   "source": [
    "%time K = linalg.computeRBFGramMatrix(X_train, X_train, gamma=gamma)"
   ]
  },
  {
   "cell_type": "code",
   "execution_count": 36,
   "metadata": {
    "collapsed": false
   },
   "outputs": [
    {
     "name": "stdout",
     "output_type": "stream",
     "text": [
      "Downloading Block (this is slow)\n",
      "Applying preconditioner...\n",
      "(4096, 10)\n",
      "(4096, 4096)\n",
      "solving system 0\n",
      "Residual 64.0\n",
      "Downloading Block (this is slow)\n",
      "Applying preconditioner...\n",
      "(4096, 10)\n",
      "(4096, 4096)\n",
      "solving system 1\n",
      "Residual 29.191521102624307\n",
      "Downloading Block (this is slow)\n",
      "Applying preconditioner...\n",
      "(4096, 10)\n",
      "(4096, 4096)\n",
      "solving system 2\n",
      "Residual 29.131674678422126\n",
      "Downloading Block (this is slow)\n",
      "Applying preconditioner...\n",
      "(4096, 10)\n",
      "(4096, 4096)\n",
      "solving system 3\n",
      "Residual 28.561031441371384\n",
      "Downloading Block (this is slow)\n",
      "Applying preconditioner...\n",
      "(4096, 10)\n",
      "(4096, 4096)\n",
      "solving system 4\n",
      "Residual 28.799020182210366\n",
      "Downloading Block (this is slow)\n",
      "Applying preconditioner...\n",
      "(4096, 10)\n",
      "(4096, 4096)\n",
      "solving system 5\n",
      "Residual 28.981264957849064\n",
      "Downloading Block (this is slow)\n",
      "Applying preconditioner...\n",
      "(4096, 10)\n",
      "(4096, 4096)\n",
      "solving system 6\n",
      "Residual 28.88938417885618\n",
      "Downloading Block (this is slow)\n",
      "Applying preconditioner...\n",
      "(4096, 10)\n",
      "(4096, 4096)\n",
      "solving system 7\n",
      "Residual 28.608959553142835\n",
      "Downloading Block (this is slow)\n",
      "Applying preconditioner...\n",
      "(4096, 10)\n",
      "(4096, 4096)\n",
      "solving system 8\n",
      "Residual 28.624287865451365\n",
      "Downloading Block (this is slow)\n",
      "Applying preconditioner...\n",
      "(4096, 10)\n",
      "(4096, 4096)\n",
      "solving system 9\n",
      "Residual 28.724711029619858\n",
      "Downloading Block (this is slow)\n",
      "Applying preconditioner...\n",
      "(4096, 10)\n",
      "(4096, 4096)\n",
      "solving system 10\n",
      "Residual 28.456997710255774\n"
     ]
    }
   ],
   "source": [
    "x_10 = block_kernel_solve(K_sharded, y_train_one_hot, max_iter=10, num_blocks=15, lambdav=1e-8)"
   ]
  },
  {
   "cell_type": "code",
   "execution_count": 43,
   "metadata": {
    "collapsed": false
   },
   "outputs": [],
   "source": [
    "y_pred = np.argmax(K.dot(x_10), axis=1)"
   ]
  },
  {
   "cell_type": "code",
   "execution_count": 44,
   "metadata": {
    "collapsed": false
   },
   "outputs": [
    {
     "data": {
      "text/plain": [
       "0.98683333333333334"
      ]
     },
     "execution_count": 44,
     "metadata": {},
     "output_type": "execute_result"
    }
   ],
   "source": [
    "metrics.accuracy_score(y_pred, y_train)"
   ]
  },
  {
   "cell_type": "code",
   "execution_count": null,
   "metadata": {
    "collapsed": true
   },
   "outputs": [],
   "source": []
  }
 ],
 "metadata": {
  "kernelspec": {
   "display_name": "Python 3",
   "language": "python",
   "name": "python3"
  },
  "language_info": {
   "codemirror_mode": {
    "name": "ipython",
    "version": 3
   },
   "file_extension": ".py",
   "mimetype": "text/x-python",
   "name": "python",
   "nbconvert_exporter": "python",
   "pygments_lexer": "ipython3",
   "version": "3.6.0"
  }
 },
 "nbformat": 4,
 "nbformat_minor": 0
}
