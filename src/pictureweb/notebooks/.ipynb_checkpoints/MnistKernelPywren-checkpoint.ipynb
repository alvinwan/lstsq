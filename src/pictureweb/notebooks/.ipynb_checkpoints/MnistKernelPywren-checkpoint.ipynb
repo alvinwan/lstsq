{
 "cells": [
  {
   "cell_type": "code",
   "execution_count": 2,
   "metadata": {
    "collapsed": false
   },
   "outputs": [],
   "source": [
    "import pywren\n",
    "import numpy as np\n",
    "import scipy.linalg as linalg\n",
    "import boto3\n",
    "import io\n",
    "import itertools\n",
    "from sklearn.datasets import fetch_mldata\n",
    "from numba import jit\n",
    "import math\n",
    "import time\n",
    "from sklearn.kernel_approximation import RBFSampler\n"
   ]
  },
  {
   "cell_type": "code",
   "execution_count": 3,
   "metadata": {
    "collapsed": false
   },
   "outputs": [],
   "source": [
    "pwex = pywren.default_executor()"
   ]
  },
  {
   "cell_type": "code",
   "execution_count": null,
   "metadata": {
    "collapsed": true
   },
   "outputs": [],
   "source": []
  },
  {
   "cell_type": "code",
   "execution_count": 234,
   "metadata": {
    "collapsed": true
   },
   "outputs": [],
   "source": [
    "BUCKET = \"imagenet-raw\"\n",
    "BLOCK_PATH_ROOT = \"mnist-blocked/\"\n",
    "MODEL_PATH_ROOT = \"mnist-kernel-model/\"\n",
    "KERNEL_BLOCK_PATH_ROOT = \"mnist-kernel-blocked/\"\n",
    "KEY_TEMPLATE = BLOCK_PATH_ROOT + \"mnist_blocked_{0}_{1}_replicate_{2}.npy\"\n",
    "LABEL_KEY_TEMPLATE = BLOCK_PATH_ROOT + \"mnist_labels_blocked_{0}_{1}_replicate_{2}.npy\"\n",
    "MODEL_KEY_TEMPLATE = MODEL_PATH_ROOT + \"x_{0}_{1}_replicate_{2}.npy\"\n",
    "OUT_KEY_TEMPLATE = KERNEL_BLOCK_PATH_ROOT + \"mnist_kernel_block_size_{0}_gamma_{1}_block_{2}_{3}_{4}_{5}\"\n",
    "\n",
    "\n",
    "GAMMA=1e-3\n",
    "BLOCK_SIZE = 4096\n",
    "NUM_EXAMPLES = 60000\n",
    "REPLICATION_FACTOR = 1\n",
    "NUM_BLOCKS = int(math.ceil(60000.0/BLOCK_SIZE))\n",
    "NUM_CLASSES = 10"
   ]
  },
  {
   "cell_type": "code",
   "execution_count": 269,
   "metadata": {
    "collapsed": false
   },
   "outputs": [],
   "source": [
    "def make_fast_exp():\n",
    "    from numba import jit\n",
    "    @jit\n",
    "    def fast_exp(K):\n",
    "        for i in range(K.shape[0]):\n",
    "            for j in range(K.shape[1]):\n",
    "                K[i,j] = math.exp(K[i,j])\n",
    "        return K\n",
    "    return fast_exp\n",
    "\n",
    "def chunk(l, n):\n",
    "    \"\"\"Yield successive n-sized chunks from l.\"\"\"\n",
    "    for i in range(0, len(l), n):\n",
    "        yield l[i:i + n]\n",
    "\n",
    "\n",
    "def computeDistanceMatrix(XTest, XTrain):\n",
    "    XTrain = XTrain.reshape(XTrain.shape[0], -1)\n",
    "    XTest = XTest.reshape(XTest.shape[0], -1)\n",
    "    XTrain_norms = (np.linalg.norm(XTrain, axis=1) ** 2)[:, np.newaxis]\n",
    "    XTest_norms = (np.linalg.norm(XTest, axis=1) ** 2)[:, np.newaxis]\n",
    "    K = XTest.dot(XTrain.T)\n",
    "    K *= -2\n",
    "    K += XTrain_norms.T\n",
    "    K += XTest_norms\n",
    "    return K\n",
    "\n",
    "def computeRBFGramMatrix(XTest, XTrain, gamma=1):\n",
    "    gamma = -1.0 * gamma\n",
    "    fast_exp = make_fast_exp()\n",
    "    return fast_exp(gamma*computeDistanceMatrix(XTest, XTrain))\n",
    "\n",
    "def compute_kernel_blocks(block_pairs, bucket=BUCKET, block_size=BLOCK_SIZE, gamma=GAMMA, num_examples=NUM_EXAMPLES, replication_factor=REPLICATION_FACTOR):\n",
    "    times = np.zeros(4)\n",
    "    for bp in block_pairs:\n",
    "        time, _ = compute_kernel_block(bp, bucket, block_size, gamma, num_examples, replication_factor)\n",
    "        times += time\n",
    "        \n",
    "    times /= float(len(block_pairs))\n",
    "    return times\n",
    "\n",
    "def compute_kernel_block(block_nums, bucket=BUCKET, block_size=4096, \n",
    "                         gamma=1e-3, \n",
    "                         num_examples=NUM_EXAMPLES, \n",
    "                         replication_factor=REPLICATION_FACTOR, \n",
    "                         verbose_return=False):\n",
    "    ''' Compute a kernel block when design matrix is sharded on s3 '''\n",
    "    start = time.time()\n",
    "    block_num_1, block_num_2 = block_nums[0], block_nums[1]\n",
    "    # blocks are symmetric so only generate lower half\n",
    "    block_num_1, block_num_2 = min(block_num_1, block_num_2), max(block_num_1, block_num_2)\n",
    "    block_1_key = block_num_to_shard_key(block_num_1, block_size, num_examples, replication_factor)\n",
    "    block_2_key = block_num_to_shard_key(block_num_2, block_size, num_examples, replication_factor)\n",
    "    meta_time = time.time() - start\n",
    "    start = time.time()\n",
    "    block1 = np.load(s3_key_to_byte_io(bucket, block_1_key))\n",
    "    block2 = np.load(s3_key_to_byte_io(bucket, block_2_key))\n",
    "    download_time = time.time() - start\n",
    "    start = time.time() \n",
    "    K = computeRBFGramMatrix(block1, block2, gamma=gamma)\n",
    "    kernel_time  = time.time() - start\n",
    "    \n",
    "    start = time.time()\n",
    "    out_key = block_num_to_output_shard_key(block_num_1, block_num_2, block_size, gamma, num_examples)\n",
    "    save_matrix_to_s3(K, bucket, out_key)\n",
    "    upload_time = time.time() - start\n",
    "    if verbose_return:\n",
    "        out = K\n",
    "    else:\n",
    "        out = None\n",
    "   \n",
    "    return (np.array([meta_time, download_time, kernel_time, upload_time]), out)\n",
    "    \n",
    "def s3_key_to_byte_io(bucket, key):\n",
    "     client = boto3.client('s3')\n",
    "     print(key)\n",
    "     return io.BytesIO(client.get_object(Bucket=bucket, Key=key)['Body'].read())\n",
    "\n",
    "def block_num_to_shard_key(block_num, block_size, num_examples, replication_factor=1,key_template=KEY_TEMPLATE):\n",
    "    block_start = block_size*block_num\n",
    "    block_end = min(block_size*(block_num+1), num_examples)\n",
    "    replicate = np.random.choice(replication_factor, 1)[0]\n",
    "    key = key_template.format(block_start, block_end, replicate)\n",
    "    return key \n",
    "\n",
    "def block_num_to_output_shard_key(block_num_1, block_num_2, block_size, gamma, num_examples, key_template=OUT_KEY_TEMPLATE):\n",
    "    block_start_idx_1 = block_size*block_num_1\n",
    "    block_end_idx_1 = min(block_size*(block_num_1+1), num_examples)\n",
    "    block_start_idx_2 = block_size*block_num_2\n",
    "    block_end_idx_2 = min(block_size*(block_num_2+1), num_examples)\n",
    "    return OUT_KEY_TEMPLATE.format(block_size, \n",
    "                                   gamma, \n",
    "                                   block_start_idx_1, \n",
    "                                   block_end_idx_1, \n",
    "                                   block_start_idx_2, \n",
    "                                   block_end_idx_2)\n",
    "\n",
    "def save_matrix_to_s3(K, bucket, out_key):\n",
    "     client = boto3.client('s3')\n",
    "     outb = io.BytesIO()\n",
    "     np.save(outb, K)\n",
    "     response = client.put_object(Key=out_key, Bucket=bucket, Body=outb.getvalue())\n",
    "     return response\n",
    "    \n",
    "def generate_chunked_block_pairs(num_blocks, inner_chunk_size=10, outer_chunk_size=1000):\n",
    "    all_pairs = list(itertools.product(range(NUM_BLOCKS), range(NUM_BLOCKS)))\n",
    "    sorted_pairs = map(lambda x: tuple(sorted(x)), all_pairs)\n",
    "    dedup_sorted_pairs = list(set(sorted_pairs))\n",
    "    print len(dedup_sorted_pairs)\n",
    "    return list(chunk(list(chunk(dedup_sorted_pairs, inner_chunk_size)), outer_chunk_size))\n",
    "\n",
    "def get_kernel_block(block_x, block_y, \n",
    "                     block_size=BLOCK_SIZE, \n",
    "                     gamma=GAMMA, \n",
    "                     num_examples=NUM_EXAMPLES, \n",
    "                     key_template=OUT_KEY_TEMPLATE, \n",
    "                     bucket=BUCKET):\n",
    "    \n",
    "    '''Get BLOCK_SIZE x BLOCK_SIZE submatrix from kernel matrix'''\n",
    "  \n",
    "    transpose = False\n",
    "    if (block_y < block_x):\n",
    "        transpose = True\n",
    "        block_x, block_y = block_y, block_x\n",
    "    \n",
    "    block_key = block_num_to_output_shard_key(block_x, block_y, block_size, gamma, num_examples, key_template)\n",
    "    K_block = np.load(s3_key_to_byte_io(bucket, block_key))\n",
    "    if (transpose):\n",
    "        K_block = K_block.T\n",
    "    return K_block\n",
    "\n",
    "\n",
    "\n",
    "\n",
    "def get_matrix_block(block,\n",
    "                     block_size=BLOCK_SIZE,\n",
    "                     gamma=GAMMA,\n",
    "                     num_examples=NUM_EXAMPLES,\n",
    "                     key_template=OUT_KEY_TEMPLATE,\n",
    "                     replication_factor=REPLICATION_FACTOR,\n",
    "                     bucket=BUCKET):\n",
    "    '''Get BLOCK_SIZE x d submatrix from kernel matrix'''\n",
    "    block_key = block_num_to_shard_key(block, block_size, num_examples, replication_factor, key_template)\n",
    "    matrix_block = np.load(s3_key_to_byte_io(bucket, block_key))\n",
    "    return matrix_block\n",
    "    \n",
    "    \n",
    "    \n",
    "\n",
    "\n",
    "def shard_matrix(X, block_size, key_template, bucket=BUCKET, replication_factor=3):\n",
    "    N = X.shape[0]\n",
    "    responses = []\n",
    "    client = boto3.client('s3')\n",
    "    for i in range(0, X.shape[0], block_size):\n",
    "        print(i)\n",
    "        X_block = X[i:min(i+block_size, N)]\n",
    "        outb = io.BytesIO()\n",
    "        np.save(outb, X_block)\n",
    "        for j in range(replication_factor):\n",
    "            r = client.put_object(Key=key_template.format(i, min(i+block_size, N), j), Bucket=bucket, Body=outb.getvalue())\n",
    "        responses.append(r)\n",
    "    return responses\n",
    "\n",
    "        "
   ]
  },
  {
   "cell_type": "code",
   "execution_count": 19,
   "metadata": {
    "collapsed": false
   },
   "outputs": [],
   "source": [
    "mndata = MNIST('/data/vaishaal/mnist')\n",
    "train_data = mndata.load_training()\n",
    "test_data = mndata.load_testing()\n",
    "X_train = np.array(train_data[0]).astype('float32')/255.0\n",
    "y_train = np.array(train_data[1]).astype('float32')\n",
    "X_test = np.array(test_data[0]).astype('float32')/255.0\n",
    "y_test = np.array(test_data[1]).astype('float32')\n",
    "y_train_one_hot = np.eye(10)[y_train.astype('int')]\n",
    "y_test_one_hot = np.eye(10)[y_test.astype('int')]"
   ]
  },
  {
   "cell_type": "code",
   "execution_count": 146,
   "metadata": {
    "collapsed": false
   },
   "outputs": [
    {
     "name": "stdout",
     "output_type": "stream",
     "text": [
      "0\n",
      "4096\n",
      "8192\n",
      "12288\n",
      "16384\n",
      "20480\n",
      "24576\n",
      "28672\n",
      "32768\n",
      "36864\n",
      "40960\n",
      "45056\n",
      "49152\n",
      "53248\n",
      "57344\n"
     ]
    },
    {
     "data": {
      "text/plain": [
       "[{u'ETag': '\"2966c58856e5bb06cb755dd48940be50\"',\n",
       "  'ResponseMetadata': {'HTTPHeaders': {'content-length': '0',\n",
       "    'date': 'Wed, 08 Mar 2017 16:52:49 GMT',\n",
       "    'etag': '\"2966c58856e5bb06cb755dd48940be50\"',\n",
       "    'server': 'AmazonS3',\n",
       "    'x-amz-id-2': 'XXRZpPaGbEsIRf6sWCgCfBaDPUHXAqYhXMGdJCS2gwiKOcH1258ZzqUml5KoMWwDfBp8eIYyBq4=',\n",
       "    'x-amz-request-id': '265662B704AB12C0'},\n",
       "   'HTTPStatusCode': 200,\n",
       "   'HostId': 'XXRZpPaGbEsIRf6sWCgCfBaDPUHXAqYhXMGdJCS2gwiKOcH1258ZzqUml5KoMWwDfBp8eIYyBq4=',\n",
       "   'RequestId': '265662B704AB12C0',\n",
       "   'RetryAttempts': 0}},\n",
       " {u'ETag': '\"9802d053002125b1fc4774b9d81624a2\"',\n",
       "  'ResponseMetadata': {'HTTPHeaders': {'content-length': '0',\n",
       "    'date': 'Wed, 08 Mar 2017 16:52:51 GMT',\n",
       "    'etag': '\"9802d053002125b1fc4774b9d81624a2\"',\n",
       "    'server': 'AmazonS3',\n",
       "    'x-amz-id-2': 'bgNiXH/ch7ulufcON4DcqjZ/VmAmLBYB4pacBwQ9tk0hipAofVxpCBGc/ho9ZzYWXrxKZl1I9XQ=',\n",
       "    'x-amz-request-id': '133CAE0C66F71AC2'},\n",
       "   'HTTPStatusCode': 200,\n",
       "   'HostId': 'bgNiXH/ch7ulufcON4DcqjZ/VmAmLBYB4pacBwQ9tk0hipAofVxpCBGc/ho9ZzYWXrxKZl1I9XQ=',\n",
       "   'RequestId': '133CAE0C66F71AC2',\n",
       "   'RetryAttempts': 0}},\n",
       " {u'ETag': '\"6f69c1859f903c8c713bb4c2b16312e5\"',\n",
       "  'ResponseMetadata': {'HTTPHeaders': {'content-length': '0',\n",
       "    'date': 'Wed, 08 Mar 2017 16:52:55 GMT',\n",
       "    'etag': '\"6f69c1859f903c8c713bb4c2b16312e5\"',\n",
       "    'server': 'AmazonS3',\n",
       "    'x-amz-id-2': 'ENNJyNYKSVTFx0GPicf1TCk/IQ9lFDzl7kF1zXx/77aj9vfAlx7Mixpe/HGA6mxh7GOopJvFcDE=',\n",
       "    'x-amz-request-id': '29EC2EF8DEF6DBE9'},\n",
       "   'HTTPStatusCode': 200,\n",
       "   'HostId': 'ENNJyNYKSVTFx0GPicf1TCk/IQ9lFDzl7kF1zXx/77aj9vfAlx7Mixpe/HGA6mxh7GOopJvFcDE=',\n",
       "   'RequestId': '29EC2EF8DEF6DBE9',\n",
       "   'RetryAttempts': 0}},\n",
       " {u'ETag': '\"f177795909edf377b53df8d4626a14bb\"',\n",
       "  'ResponseMetadata': {'HTTPHeaders': {'content-length': '0',\n",
       "    'date': 'Wed, 08 Mar 2017 16:52:58 GMT',\n",
       "    'etag': '\"f177795909edf377b53df8d4626a14bb\"',\n",
       "    'server': 'AmazonS3',\n",
       "    'x-amz-id-2': '+GvQwp+nU/JkSyKZOKDvv2cc2s0IxSWQNxfw715RfsmtvQIRGJBd0Ar2MSu4ZIyL2GTFQ357jCw=',\n",
       "    'x-amz-request-id': '68D8AFF4C9922462'},\n",
       "   'HTTPStatusCode': 200,\n",
       "   'HostId': '+GvQwp+nU/JkSyKZOKDvv2cc2s0IxSWQNxfw715RfsmtvQIRGJBd0Ar2MSu4ZIyL2GTFQ357jCw=',\n",
       "   'RequestId': '68D8AFF4C9922462',\n",
       "   'RetryAttempts': 0}},\n",
       " {u'ETag': '\"c04e3719a8be6124aab90ee95938215e\"',\n",
       "  'ResponseMetadata': {'HTTPHeaders': {'content-length': '0',\n",
       "    'date': 'Wed, 08 Mar 2017 16:53:02 GMT',\n",
       "    'etag': '\"c04e3719a8be6124aab90ee95938215e\"',\n",
       "    'server': 'AmazonS3',\n",
       "    'x-amz-id-2': 'rXo5/3OC8LZa0rpJYlMLy19pjLc4Rg0cSI9hhyVT/rtcB1SMgkY9tKCpEfXU4+0LuNdneDz1hyw=',\n",
       "    'x-amz-request-id': '7D2809FDE9EBECDD'},\n",
       "   'HTTPStatusCode': 200,\n",
       "   'HostId': 'rXo5/3OC8LZa0rpJYlMLy19pjLc4Rg0cSI9hhyVT/rtcB1SMgkY9tKCpEfXU4+0LuNdneDz1hyw=',\n",
       "   'RequestId': '7D2809FDE9EBECDD',\n",
       "   'RetryAttempts': 0}},\n",
       " {u'ETag': '\"0851fb6841f40e57dd7c97792be94d7d\"',\n",
       "  'ResponseMetadata': {'HTTPHeaders': {'content-length': '0',\n",
       "    'date': 'Wed, 08 Mar 2017 16:53:04 GMT',\n",
       "    'etag': '\"0851fb6841f40e57dd7c97792be94d7d\"',\n",
       "    'server': 'AmazonS3',\n",
       "    'x-amz-id-2': 'SQnyl+6NQrh+2MD0xkuLNCYT/7+tTd17OE8dYVEyuWzj7TrpeBVcDcHV7X4yvMUsxgzo5kETw3Y=',\n",
       "    'x-amz-request-id': '774CAE1C509AACEA'},\n",
       "   'HTTPStatusCode': 200,\n",
       "   'HostId': 'SQnyl+6NQrh+2MD0xkuLNCYT/7+tTd17OE8dYVEyuWzj7TrpeBVcDcHV7X4yvMUsxgzo5kETw3Y=',\n",
       "   'RequestId': '774CAE1C509AACEA',\n",
       "   'RetryAttempts': 0}},\n",
       " {u'ETag': '\"cd4d94808ac6833b3a946a4e694202fc\"',\n",
       "  'ResponseMetadata': {'HTTPHeaders': {'content-length': '0',\n",
       "    'date': 'Wed, 08 Mar 2017 16:53:06 GMT',\n",
       "    'etag': '\"cd4d94808ac6833b3a946a4e694202fc\"',\n",
       "    'server': 'AmazonS3',\n",
       "    'x-amz-id-2': 'JqiJM9Yhctw2oicUWj1o5Ejr+0hJZHr3ASHyBMv1usLpi0lneH1nb5rpPeW78s4PzZW/bDnuVmM=',\n",
       "    'x-amz-request-id': 'AF84946929898AF9'},\n",
       "   'HTTPStatusCode': 200,\n",
       "   'HostId': 'JqiJM9Yhctw2oicUWj1o5Ejr+0hJZHr3ASHyBMv1usLpi0lneH1nb5rpPeW78s4PzZW/bDnuVmM=',\n",
       "   'RequestId': 'AF84946929898AF9',\n",
       "   'RetryAttempts': 0}},\n",
       " {u'ETag': '\"421356f43c87c96f8363bd50d6fa0c7c\"',\n",
       "  'ResponseMetadata': {'HTTPHeaders': {'content-length': '0',\n",
       "    'date': 'Wed, 08 Mar 2017 16:53:09 GMT',\n",
       "    'etag': '\"421356f43c87c96f8363bd50d6fa0c7c\"',\n",
       "    'server': 'AmazonS3',\n",
       "    'x-amz-id-2': 'zj1nVN/iPYQy7YW4lHvS+tfMsEImqQSqGuw1IPjWtnGmfmpz/7yJ2U8cYT5W7Uq6xHkTmb3kVrw=',\n",
       "    'x-amz-request-id': 'ADD5BB085D1BE3D5'},\n",
       "   'HTTPStatusCode': 200,\n",
       "   'HostId': 'zj1nVN/iPYQy7YW4lHvS+tfMsEImqQSqGuw1IPjWtnGmfmpz/7yJ2U8cYT5W7Uq6xHkTmb3kVrw=',\n",
       "   'RequestId': 'ADD5BB085D1BE3D5',\n",
       "   'RetryAttempts': 0}},\n",
       " {u'ETag': '\"9051e052148e7252f59f8bb009b2862e\"',\n",
       "  'ResponseMetadata': {'HTTPHeaders': {'content-length': '0',\n",
       "    'date': 'Wed, 08 Mar 2017 16:53:11 GMT',\n",
       "    'etag': '\"9051e052148e7252f59f8bb009b2862e\"',\n",
       "    'server': 'AmazonS3',\n",
       "    'x-amz-id-2': 'CvFdy3EURg13W5pWrmOPFFcgOsQBUzt8zC/rwlpA5lOQKif76hwO6I8OVL1Sau41jORWn3+se6Q=',\n",
       "    'x-amz-request-id': 'FCB9AE8424A42FFD'},\n",
       "   'HTTPStatusCode': 200,\n",
       "   'HostId': 'CvFdy3EURg13W5pWrmOPFFcgOsQBUzt8zC/rwlpA5lOQKif76hwO6I8OVL1Sau41jORWn3+se6Q=',\n",
       "   'RequestId': 'FCB9AE8424A42FFD',\n",
       "   'RetryAttempts': 0}},\n",
       " {u'ETag': '\"b3d6a31271906c03bd14a8d92e9ae99f\"',\n",
       "  'ResponseMetadata': {'HTTPHeaders': {'content-length': '0',\n",
       "    'date': 'Wed, 08 Mar 2017 16:53:14 GMT',\n",
       "    'etag': '\"b3d6a31271906c03bd14a8d92e9ae99f\"',\n",
       "    'server': 'AmazonS3',\n",
       "    'x-amz-id-2': 'gPClZCUQfNSW0lwCIFPxIfi1T3k1F/y69ZRaR7RCW10ocuDaE58P3jJuAEUtjQ7MYxDTOnJS4xg=',\n",
       "    'x-amz-request-id': '1CB4DF19DDA77C85'},\n",
       "   'HTTPStatusCode': 200,\n",
       "   'HostId': 'gPClZCUQfNSW0lwCIFPxIfi1T3k1F/y69ZRaR7RCW10ocuDaE58P3jJuAEUtjQ7MYxDTOnJS4xg=',\n",
       "   'RequestId': '1CB4DF19DDA77C85',\n",
       "   'RetryAttempts': 0}},\n",
       " {u'ETag': '\"a1ffe2d410775aaa174391a255d46cde\"',\n",
       "  'ResponseMetadata': {'HTTPHeaders': {'content-length': '0',\n",
       "    'date': 'Wed, 08 Mar 2017 16:53:16 GMT',\n",
       "    'etag': '\"a1ffe2d410775aaa174391a255d46cde\"',\n",
       "    'server': 'AmazonS3',\n",
       "    'x-amz-id-2': 'BdwCdy0GNwk6pA7naxIYTmh4nfpHdo3bdNByxDm1K0YATneMOw0546B13Zwb59kR05ivtzMRme8=',\n",
       "    'x-amz-request-id': 'DB89387D54F4BA87'},\n",
       "   'HTTPStatusCode': 200,\n",
       "   'HostId': 'BdwCdy0GNwk6pA7naxIYTmh4nfpHdo3bdNByxDm1K0YATneMOw0546B13Zwb59kR05ivtzMRme8=',\n",
       "   'RequestId': 'DB89387D54F4BA87',\n",
       "   'RetryAttempts': 0}},\n",
       " {u'ETag': '\"cdfd0a2c1344657d38aecb91dd3e6c2e\"',\n",
       "  'ResponseMetadata': {'HTTPHeaders': {'content-length': '0',\n",
       "    'date': 'Wed, 08 Mar 2017 16:53:19 GMT',\n",
       "    'etag': '\"cdfd0a2c1344657d38aecb91dd3e6c2e\"',\n",
       "    'server': 'AmazonS3',\n",
       "    'x-amz-id-2': 'DABQ7OeIm20+oDq+LOlx7bc2bReSmhq+pi2Dk5b6bAXRSOl7CaylaM7w8FcGtr3h8MdomvymIls=',\n",
       "    'x-amz-request-id': 'AA1DCDB180E8AC46'},\n",
       "   'HTTPStatusCode': 200,\n",
       "   'HostId': 'DABQ7OeIm20+oDq+LOlx7bc2bReSmhq+pi2Dk5b6bAXRSOl7CaylaM7w8FcGtr3h8MdomvymIls=',\n",
       "   'RequestId': 'AA1DCDB180E8AC46',\n",
       "   'RetryAttempts': 0}},\n",
       " {u'ETag': '\"3378454d551c1fdbd7c1d8aac90023d7\"',\n",
       "  'ResponseMetadata': {'HTTPHeaders': {'content-length': '0',\n",
       "    'date': 'Wed, 08 Mar 2017 16:53:21 GMT',\n",
       "    'etag': '\"3378454d551c1fdbd7c1d8aac90023d7\"',\n",
       "    'server': 'AmazonS3',\n",
       "    'x-amz-id-2': 'kRLl48K0920JSYSSOq8KkoBnOc6aYIz3Rt7mGWAp1ngd2cIV3AhCxrHPndgA3nV8qLFecbtKwBQ=',\n",
       "    'x-amz-request-id': '47CAD3ED0A69FD3F'},\n",
       "   'HTTPStatusCode': 200,\n",
       "   'HostId': 'kRLl48K0920JSYSSOq8KkoBnOc6aYIz3Rt7mGWAp1ngd2cIV3AhCxrHPndgA3nV8qLFecbtKwBQ=',\n",
       "   'RequestId': '47CAD3ED0A69FD3F',\n",
       "   'RetryAttempts': 0}},\n",
       " {u'ETag': '\"6fb377125944cd326bd8baf88a7d0e18\"',\n",
       "  'ResponseMetadata': {'HTTPHeaders': {'content-length': '0',\n",
       "    'date': 'Wed, 08 Mar 2017 16:53:24 GMT',\n",
       "    'etag': '\"6fb377125944cd326bd8baf88a7d0e18\"',\n",
       "    'server': 'AmazonS3',\n",
       "    'x-amz-id-2': '25ywBQcqq3sL02G4tdDrFjls9ugWqfzPGC4sDguKgdnYig1dW5I98pVE359wUX0zuFAc1LqSeM4=',\n",
       "    'x-amz-request-id': 'CE276C7F0339F782'},\n",
       "   'HTTPStatusCode': 200,\n",
       "   'HostId': '25ywBQcqq3sL02G4tdDrFjls9ugWqfzPGC4sDguKgdnYig1dW5I98pVE359wUX0zuFAc1LqSeM4=',\n",
       "   'RequestId': 'CE276C7F0339F782',\n",
       "   'RetryAttempts': 0}},\n",
       " {u'ETag': '\"7be74a84cd4509baf51e3b6e5cd98855\"',\n",
       "  'ResponseMetadata': {'HTTPHeaders': {'content-length': '0',\n",
       "    'date': 'Wed, 08 Mar 2017 16:53:26 GMT',\n",
       "    'etag': '\"7be74a84cd4509baf51e3b6e5cd98855\"',\n",
       "    'server': 'AmazonS3',\n",
       "    'x-amz-id-2': 'L7YM0e8lfVgvRIuhs0vB3kJVw9ul8eKqPdCDs3Ge5T7JaU0nUFb7ZOna3/6SRnb0rPLcXZ8g2Ng=',\n",
       "    'x-amz-request-id': 'B0873515591E64D4'},\n",
       "   'HTTPStatusCode': 200,\n",
       "   'HostId': 'L7YM0e8lfVgvRIuhs0vB3kJVw9ul8eKqPdCDs3Ge5T7JaU0nUFb7ZOna3/6SRnb0rPLcXZ8g2Ng=',\n",
       "   'RequestId': 'B0873515591E64D4',\n",
       "   'RetryAttempts': 0}}]"
      ]
     },
     "execution_count": 146,
     "metadata": {},
     "output_type": "execute_result"
    }
   ],
   "source": [
    "shard_matrix(X_train, BLOCK_SIZE, KEY_TEMPLATE, replication_factor=REPLICATION_FACTOR)"
   ]
  },
  {
   "cell_type": "code",
   "execution_count": 245,
   "metadata": {
    "collapsed": false
   },
   "outputs": [
    {
     "name": "stdout",
     "output_type": "stream",
     "text": [
      "0\n",
      "4096\n",
      "8192\n",
      "12288\n",
      "16384\n",
      "20480\n",
      "24576\n",
      "28672\n",
      "32768\n",
      "36864\n",
      "40960\n",
      "45056\n",
      "49152\n",
      "53248\n",
      "57344\n"
     ]
    },
    {
     "data": {
      "text/plain": [
       "[{u'ETag': '\"ee088d1cac3adff4aaccc308e699633a\"',\n",
       "  'ResponseMetadata': {'HTTPHeaders': {'content-length': '0',\n",
       "    'date': 'Wed, 08 Mar 2017 19:13:27 GMT',\n",
       "    'etag': '\"ee088d1cac3adff4aaccc308e699633a\"',\n",
       "    'server': 'AmazonS3',\n",
       "    'x-amz-id-2': 'EZTDVBD1F/lkB0PH4wP/sQKfQrT3NhhAmzUKjvr0UBRiqEGpBKYED1zXoTJqh3suB0JYT1xc7wo=',\n",
       "    'x-amz-request-id': '017777604F549566'},\n",
       "   'HTTPStatusCode': 200,\n",
       "   'HostId': 'EZTDVBD1F/lkB0PH4wP/sQKfQrT3NhhAmzUKjvr0UBRiqEGpBKYED1zXoTJqh3suB0JYT1xc7wo=',\n",
       "   'RequestId': '017777604F549566',\n",
       "   'RetryAttempts': 0}},\n",
       " {u'ETag': '\"441d9805b27fd86dbca5dab8ad6828fd\"',\n",
       "  'ResponseMetadata': {'HTTPHeaders': {'content-length': '0',\n",
       "    'date': 'Wed, 08 Mar 2017 19:13:27 GMT',\n",
       "    'etag': '\"441d9805b27fd86dbca5dab8ad6828fd\"',\n",
       "    'server': 'AmazonS3',\n",
       "    'x-amz-id-2': 'FDM2FP1C2ruGOv3YX2e49m60XZw/Uqzd97h/xtQwX7d/XzGoU3KXDdKdjQabH78ZAkgilLpmaFM=',\n",
       "    'x-amz-request-id': '00B4B6347B065CCF'},\n",
       "   'HTTPStatusCode': 200,\n",
       "   'HostId': 'FDM2FP1C2ruGOv3YX2e49m60XZw/Uqzd97h/xtQwX7d/XzGoU3KXDdKdjQabH78ZAkgilLpmaFM=',\n",
       "   'RequestId': '00B4B6347B065CCF',\n",
       "   'RetryAttempts': 0}},\n",
       " {u'ETag': '\"154bf8a85d021239477da81e9d66e0f5\"',\n",
       "  'ResponseMetadata': {'HTTPHeaders': {'content-length': '0',\n",
       "    'date': 'Wed, 08 Mar 2017 19:13:28 GMT',\n",
       "    'etag': '\"154bf8a85d021239477da81e9d66e0f5\"',\n",
       "    'server': 'AmazonS3',\n",
       "    'x-amz-id-2': '/d52yDbKcUE/6ZNsVdyPVJy8DU23QpF+qbOqNoW677bA02M92YuJBbMxVswumNvNGN2PpHbLf24=',\n",
       "    'x-amz-request-id': 'AC5768D55E456A95'},\n",
       "   'HTTPStatusCode': 200,\n",
       "   'HostId': '/d52yDbKcUE/6ZNsVdyPVJy8DU23QpF+qbOqNoW677bA02M92YuJBbMxVswumNvNGN2PpHbLf24=',\n",
       "   'RequestId': 'AC5768D55E456A95',\n",
       "   'RetryAttempts': 0}},\n",
       " {u'ETag': '\"fca20403c8a1418760ca7b88d3597003\"',\n",
       "  'ResponseMetadata': {'HTTPHeaders': {'content-length': '0',\n",
       "    'date': 'Wed, 08 Mar 2017 19:13:28 GMT',\n",
       "    'etag': '\"fca20403c8a1418760ca7b88d3597003\"',\n",
       "    'server': 'AmazonS3',\n",
       "    'x-amz-id-2': 'NWgo/wx7y/5b0NvzUnwCpIQ796fvW2TVVhU2XhSk5/5Xki4D+XOan1CcgyTFlL3eFl6PgL3j3l4=',\n",
       "    'x-amz-request-id': '38539373C5AB27C0'},\n",
       "   'HTTPStatusCode': 200,\n",
       "   'HostId': 'NWgo/wx7y/5b0NvzUnwCpIQ796fvW2TVVhU2XhSk5/5Xki4D+XOan1CcgyTFlL3eFl6PgL3j3l4=',\n",
       "   'RequestId': '38539373C5AB27C0',\n",
       "   'RetryAttempts': 0}},\n",
       " {u'ETag': '\"4ce2c684716d4622617b64ee52096636\"',\n",
       "  'ResponseMetadata': {'HTTPHeaders': {'content-length': '0',\n",
       "    'date': 'Wed, 08 Mar 2017 19:13:28 GMT',\n",
       "    'etag': '\"4ce2c684716d4622617b64ee52096636\"',\n",
       "    'server': 'AmazonS3',\n",
       "    'x-amz-id-2': 'lhQtm+5/WGsD6gnk7SBzHLLKksn73vanywFe2/pkfDTI7lefuvlGWZpGLMCCg967YxCwoZXdgpA=',\n",
       "    'x-amz-request-id': '6F028B52657C0B45'},\n",
       "   'HTTPStatusCode': 200,\n",
       "   'HostId': 'lhQtm+5/WGsD6gnk7SBzHLLKksn73vanywFe2/pkfDTI7lefuvlGWZpGLMCCg967YxCwoZXdgpA=',\n",
       "   'RequestId': '6F028B52657C0B45',\n",
       "   'RetryAttempts': 0}},\n",
       " {u'ETag': '\"8210e9da07514a621437a2e74c5dc10d\"',\n",
       "  'ResponseMetadata': {'HTTPHeaders': {'content-length': '0',\n",
       "    'date': 'Wed, 08 Mar 2017 19:13:28 GMT',\n",
       "    'etag': '\"8210e9da07514a621437a2e74c5dc10d\"',\n",
       "    'server': 'AmazonS3',\n",
       "    'x-amz-id-2': 'JpIB94BNyqGJxnQXOfD9oWf7IJHOSMlNa6tyvQdBUEex/eCzuzM69rhmPXcGGchEIVRqnnTp3TI=',\n",
       "    'x-amz-request-id': '1A923541139D0A3A'},\n",
       "   'HTTPStatusCode': 200,\n",
       "   'HostId': 'JpIB94BNyqGJxnQXOfD9oWf7IJHOSMlNa6tyvQdBUEex/eCzuzM69rhmPXcGGchEIVRqnnTp3TI=',\n",
       "   'RequestId': '1A923541139D0A3A',\n",
       "   'RetryAttempts': 0}},\n",
       " {u'ETag': '\"51f197b1299e159eb6faf9ff701ba8e4\"',\n",
       "  'ResponseMetadata': {'HTTPHeaders': {'content-length': '0',\n",
       "    'date': 'Wed, 08 Mar 2017 19:13:28 GMT',\n",
       "    'etag': '\"51f197b1299e159eb6faf9ff701ba8e4\"',\n",
       "    'server': 'AmazonS3',\n",
       "    'x-amz-id-2': 'QYHai/+AfytnYDZYZKJyyi38VXy92wYptY/sGibD0pqQLMX6at4NyEHxMRVbVqYsvm7r/yAXSdw=',\n",
       "    'x-amz-request-id': '328F8D3281DA0F16'},\n",
       "   'HTTPStatusCode': 200,\n",
       "   'HostId': 'QYHai/+AfytnYDZYZKJyyi38VXy92wYptY/sGibD0pqQLMX6at4NyEHxMRVbVqYsvm7r/yAXSdw=',\n",
       "   'RequestId': '328F8D3281DA0F16',\n",
       "   'RetryAttempts': 0}},\n",
       " {u'ETag': '\"8361a615a6327dd924b21a1db0da99d9\"',\n",
       "  'ResponseMetadata': {'HTTPHeaders': {'content-length': '0',\n",
       "    'date': 'Wed, 08 Mar 2017 19:13:28 GMT',\n",
       "    'etag': '\"8361a615a6327dd924b21a1db0da99d9\"',\n",
       "    'server': 'AmazonS3',\n",
       "    'x-amz-id-2': 'dND6GjS+eoBtHABgFW0jMZG/cz5roXhhorgcEFk5tsI4hwIuN2nenhad5xVROEQ5xd9iay9o10A=',\n",
       "    'x-amz-request-id': '539B8C38056E4671'},\n",
       "   'HTTPStatusCode': 200,\n",
       "   'HostId': 'dND6GjS+eoBtHABgFW0jMZG/cz5roXhhorgcEFk5tsI4hwIuN2nenhad5xVROEQ5xd9iay9o10A=',\n",
       "   'RequestId': '539B8C38056E4671',\n",
       "   'RetryAttempts': 0}},\n",
       " {u'ETag': '\"5b5dc6859978b261390353d670cab6c9\"',\n",
       "  'ResponseMetadata': {'HTTPHeaders': {'content-length': '0',\n",
       "    'date': 'Wed, 08 Mar 2017 19:13:28 GMT',\n",
       "    'etag': '\"5b5dc6859978b261390353d670cab6c9\"',\n",
       "    'server': 'AmazonS3',\n",
       "    'x-amz-id-2': 'WrDXl9KxRF6YS0bxCvg00+SY6aNF72ZRTwbwjCBXpwB2Itw0fmk/V1noT1Ek3mQd33BYWIlpN3Q=',\n",
       "    'x-amz-request-id': 'FD61A3D2BD864913'},\n",
       "   'HTTPStatusCode': 200,\n",
       "   'HostId': 'WrDXl9KxRF6YS0bxCvg00+SY6aNF72ZRTwbwjCBXpwB2Itw0fmk/V1noT1Ek3mQd33BYWIlpN3Q=',\n",
       "   'RequestId': 'FD61A3D2BD864913',\n",
       "   'RetryAttempts': 0}},\n",
       " {u'ETag': '\"8e8ca911e3db1cf5c7a25cc0adb31f53\"',\n",
       "  'ResponseMetadata': {'HTTPHeaders': {'content-length': '0',\n",
       "    'date': 'Wed, 08 Mar 2017 19:13:28 GMT',\n",
       "    'etag': '\"8e8ca911e3db1cf5c7a25cc0adb31f53\"',\n",
       "    'server': 'AmazonS3',\n",
       "    'x-amz-id-2': 'pXK9KUfAIY1omdv1E2fhmaTpaxzcz6r50Ln0QyMjWE/GSOQPRf6IOCuPMbcKdF8UCkUlir8nIC0=',\n",
       "    'x-amz-request-id': '0A6DFDFB1AC58C91'},\n",
       "   'HTTPStatusCode': 200,\n",
       "   'HostId': 'pXK9KUfAIY1omdv1E2fhmaTpaxzcz6r50Ln0QyMjWE/GSOQPRf6IOCuPMbcKdF8UCkUlir8nIC0=',\n",
       "   'RequestId': '0A6DFDFB1AC58C91',\n",
       "   'RetryAttempts': 0}},\n",
       " {u'ETag': '\"e0b38663f9f44d598514020bfb2f16a2\"',\n",
       "  'ResponseMetadata': {'HTTPHeaders': {'content-length': '0',\n",
       "    'date': 'Wed, 08 Mar 2017 19:13:28 GMT',\n",
       "    'etag': '\"e0b38663f9f44d598514020bfb2f16a2\"',\n",
       "    'server': 'AmazonS3',\n",
       "    'x-amz-id-2': '8HhHmjNX8glAsB96v61wdX7nCNjjq4Id47L/lP2qW00IpoLy6TFJEkl3sqg+gMmPKFZ61QsCzjI=',\n",
       "    'x-amz-request-id': 'BA2472659BC2BF2E'},\n",
       "   'HTTPStatusCode': 200,\n",
       "   'HostId': '8HhHmjNX8glAsB96v61wdX7nCNjjq4Id47L/lP2qW00IpoLy6TFJEkl3sqg+gMmPKFZ61QsCzjI=',\n",
       "   'RequestId': 'BA2472659BC2BF2E',\n",
       "   'RetryAttempts': 0}},\n",
       " {u'ETag': '\"8d37e9758e80dfc7b07e45f4fca25e0b\"',\n",
       "  'ResponseMetadata': {'HTTPHeaders': {'content-length': '0',\n",
       "    'date': 'Wed, 08 Mar 2017 19:13:28 GMT',\n",
       "    'etag': '\"8d37e9758e80dfc7b07e45f4fca25e0b\"',\n",
       "    'server': 'AmazonS3',\n",
       "    'x-amz-id-2': 'upiNp5Tp0fEf2Y9d99pK+XCVzJesyVimhFdNhthYFw3qTO/9a/KZLcORGHTbu/bIOjU97aknprc=',\n",
       "    'x-amz-request-id': 'B08BE3FF69A059CD'},\n",
       "   'HTTPStatusCode': 200,\n",
       "   'HostId': 'upiNp5Tp0fEf2Y9d99pK+XCVzJesyVimhFdNhthYFw3qTO/9a/KZLcORGHTbu/bIOjU97aknprc=',\n",
       "   'RequestId': 'B08BE3FF69A059CD',\n",
       "   'RetryAttempts': 0}},\n",
       " {u'ETag': '\"9ae15b018279c971a7e998aae0faefbf\"',\n",
       "  'ResponseMetadata': {'HTTPHeaders': {'content-length': '0',\n",
       "    'date': 'Wed, 08 Mar 2017 19:13:28 GMT',\n",
       "    'etag': '\"9ae15b018279c971a7e998aae0faefbf\"',\n",
       "    'server': 'AmazonS3',\n",
       "    'x-amz-id-2': '7JJRV6mjV6ceBbNf/6zM3FYXqR3Yoc/3AgnrigFKjGKLAWpxEjvJUWi/t6of3XjH06G/1ju8EaE=',\n",
       "    'x-amz-request-id': '09F1DBA8FA300DB7'},\n",
       "   'HTTPStatusCode': 200,\n",
       "   'HostId': '7JJRV6mjV6ceBbNf/6zM3FYXqR3Yoc/3AgnrigFKjGKLAWpxEjvJUWi/t6of3XjH06G/1ju8EaE=',\n",
       "   'RequestId': '09F1DBA8FA300DB7',\n",
       "   'RetryAttempts': 0}},\n",
       " {u'ETag': '\"213f1f669631e7b84245f958c2a7366d\"',\n",
       "  'ResponseMetadata': {'HTTPHeaders': {'content-length': '0',\n",
       "    'date': 'Wed, 08 Mar 2017 19:13:29 GMT',\n",
       "    'etag': '\"213f1f669631e7b84245f958c2a7366d\"',\n",
       "    'server': 'AmazonS3',\n",
       "    'x-amz-id-2': 'FnVPxxda8EF/+VCxTJFrnUGtHz3YN1NQGeilxwOqy6MofSeGMBKz3RKrNxiiRwaYgWX7jE2aBSw=',\n",
       "    'x-amz-request-id': '3B6F2B8967C6CFFC'},\n",
       "   'HTTPStatusCode': 200,\n",
       "   'HostId': 'FnVPxxda8EF/+VCxTJFrnUGtHz3YN1NQGeilxwOqy6MofSeGMBKz3RKrNxiiRwaYgWX7jE2aBSw=',\n",
       "   'RequestId': '3B6F2B8967C6CFFC',\n",
       "   'RetryAttempts': 0}},\n",
       " {u'ETag': '\"e50fd914843cdc319c81604c0ad13a4f\"',\n",
       "  'ResponseMetadata': {'HTTPHeaders': {'content-length': '0',\n",
       "    'date': 'Wed, 08 Mar 2017 19:13:29 GMT',\n",
       "    'etag': '\"e50fd914843cdc319c81604c0ad13a4f\"',\n",
       "    'server': 'AmazonS3',\n",
       "    'x-amz-id-2': 'SI//XbDh18Qx26WD3O6vACfDxGkdj2jDelkrzWXQejrRYS9VmD87Z2YEVrkCuk+9LJ0DZJLPEAw=',\n",
       "    'x-amz-request-id': 'F645B1DF190E03BB'},\n",
       "   'HTTPStatusCode': 200,\n",
       "   'HostId': 'SI//XbDh18Qx26WD3O6vACfDxGkdj2jDelkrzWXQejrRYS9VmD87Z2YEVrkCuk+9LJ0DZJLPEAw=',\n",
       "   'RequestId': 'F645B1DF190E03BB',\n",
       "   'RetryAttempts': 0}}]"
      ]
     },
     "execution_count": 245,
     "metadata": {},
     "output_type": "execute_result"
    }
   ],
   "source": [
    "shard_matrix(y_train, BLOCK_SIZE, LABEL_KEY_TEMPLATE)"
   ]
  },
  {
   "cell_type": "code",
   "execution_count": 237,
   "metadata": {
    "collapsed": false
   },
   "outputs": [
    {
     "name": "stdout",
     "output_type": "stream",
     "text": [
      "120\n"
     ]
    }
   ],
   "source": [
    "chunked_blocks = generate_chunked_block_pairs(NUM_BLOCKS, 10, 1500)"
   ]
  },
  {
   "cell_type": "code",
   "execution_count": 238,
   "metadata": {
    "collapsed": false
   },
   "outputs": [
    {
     "name": "stdout",
     "output_type": "stream",
     "text": [
      "CPU times: user 1.21 s, sys: 120 ms, total: 1.33 s\n",
      "Wall time: 2.28 s\n",
      "CPU times: user 1.75 s, sys: 384 ms, total: 2.14 s\n",
      "Wall time: 58.7 s\n"
     ]
    }
   ],
   "source": [
    "all_futures = [] \n",
    "all_times = []\n",
    "gamma = 1e-3\n",
    "t = time.time()\n",
    "for c in chunked_blocks:\n",
    "    %time kernel_futures = pwex.map(lambda x: compute_kernel_blocks(x, block_size=BLOCK_SIZE, gamma=gamma, replication_factor=3), c)\n",
    "    %time pywren.wait(kernel_futures)\n",
    "    all_futures.extend(kernel_futures)\n",
    "    all_times.append(time.time() - t)\n",
    "\n",
    "     "
   ]
  },
  {
   "cell_type": "code",
   "execution_count": 290,
   "metadata": {
    "collapsed": false
   },
   "outputs": [],
   "source": [
    "def block_matrix_multiply(block_x, block_y, key_template=OUT_KEY_TEMPLATE, x_key_template=MODEL_KEY_TEMPLATE, gamma=GAMMA, block_size=BLOCK_SIZE):\n",
    "    K_block = get_kernel_block(block_x, block_y, key_template=key_template)\n",
    "    x_block = get_matrix_block(block_y, key_template=x_key_template, replication_factor=1)\n",
    "    print K_block.shape\n",
    "    print x_block.shape\n",
    "    return K_block.dot(x_block)\n",
    "\n",
    "\n",
    "def blocks_matrix_multiply(block_x, blocks_y, block_size=BLOCK_SIZE, key_template=OUT_KEY_TEMPLATE, x_key_template=MODEL_KEY_TEMPLATE, gamma=GAMMA, num_examples=NUM_EXAMPLES, num_classes=10):\n",
    "    if (block_x*block_size + block_size > num_examples):\n",
    "        x_size = num_examples - block_x*block_size\n",
    "    else:\n",
    "        x_size = block_size\n",
    "    x = np.zeros((x_size,num_classes))\n",
    "    for block_y in blocks_y:\n",
    "        x += block_matrix_multiply(block_x, block_y, key_template, x_key_template, gamma, block_size)\n",
    "    return x"
   ]
  },
  {
   "cell_type": "code",
   "execution_count": 165,
   "metadata": {
    "collapsed": false
   },
   "outputs": [
    {
     "name": "stdout",
     "output_type": "stream",
     "text": [
      "mnist-blocked/mnist_blocked_0_4096_replicate_2.npy\n",
      "mnist-blocked/mnist_blocked_0_4096_replicate_4.npy\n"
     ]
    },
    {
     "data": {
      "text/plain": [
       "(array([  2.55823135e-04,   4.12059307e+00,   1.44077897e+00,\n",
       "          1.65737009e+00]),\n",
       " array([[ 1.        ,  0.91609752,  0.88845819, ...,  0.904172  ,\n",
       "          0.9165563 ,  0.90353596],\n",
       "        [ 0.91609752,  1.        ,  0.87876332, ...,  0.90516526,\n",
       "          0.90381181,  0.89736366],\n",
       "        [ 0.88845819,  0.87876332,  1.        , ...,  0.90027785,\n",
       "          0.88014066,  0.90891707],\n",
       "        ..., \n",
       "        [ 0.904172  ,  0.90516526,  0.90027785, ...,  1.        ,\n",
       "          0.89309585,  0.95199209],\n",
       "        [ 0.9165563 ,  0.90381181,  0.88014066, ...,  0.89309585,\n",
       "          1.        ,  0.91428226],\n",
       "        [ 0.90353596,  0.89736366,  0.90891707, ...,  0.95199209,\n",
       "          0.91428226,  1.        ]], dtype=float32))"
      ]
     },
     "execution_count": 165,
     "metadata": {},
     "output_type": "execute_result"
    }
   ],
   "source": [
    "compute_kernel_block((0,0), verbose_return=True, gamma=1e-3)"
   ]
  },
  {
   "cell_type": "code",
   "execution_count": 132,
   "metadata": {
    "collapsed": false
   },
   "outputs": [
    {
     "name": "stdout",
     "output_type": "stream",
     "text": [
      "mnist-kernel-blocked/mnist_kernel_block_size_4096_gamma_0.001_block_0_4096_0_4096\n"
     ]
    },
    {
     "data": {
      "text/plain": [
       "array([[ 1.        ,  0.91609752,  0.88845819, ...,  0.904172  ,\n",
       "         0.9165563 ,  0.90353596],\n",
       "       [ 0.91609752,  1.        ,  0.87876332, ...,  0.90516526,\n",
       "         0.90381181,  0.89736366],\n",
       "       [ 0.88845819,  0.87876332,  1.        , ...,  0.90027785,\n",
       "         0.88014066,  0.90891707],\n",
       "       ..., \n",
       "       [ 0.904172  ,  0.90516526,  0.90027785, ...,  1.        ,\n",
       "         0.89309585,  0.95199209],\n",
       "       [ 0.9165563 ,  0.90381181,  0.88014066, ...,  0.89309585,\n",
       "         1.        ,  0.91428226],\n",
       "       [ 0.90353596,  0.89736366,  0.90891707, ...,  0.95199209,\n",
       "         0.91428226,  1.        ]], dtype=float32)"
      ]
     },
     "execution_count": 132,
     "metadata": {},
     "output_type": "execute_result"
    }
   ],
   "source": [
    "get_kernel_block(0,0)"
   ]
  },
  {
   "cell_type": "code",
   "execution_count": 133,
   "metadata": {
    "collapsed": false
   },
   "outputs": [
    {
     "name": "stdout",
     "output_type": "stream",
     "text": [
      "CPU times: user 3min 23s, sys: 41.9 s, total: 4min 5s\n",
      "Wall time: 1min 17s\n"
     ]
    }
   ],
   "source": [
    "%time K = computeRBFGramMatrix(X_train, X_train, gamma=GAMMA)"
   ]
  },
  {
   "cell_type": "code",
   "execution_count": 149,
   "metadata": {
    "collapsed": false
   },
   "outputs": [
    {
     "name": "stdout",
     "output_type": "stream",
     "text": [
      "mnist-blocked/mnist_blocked_0_4096_replicate_0.npy\n"
     ]
    },
    {
     "data": {
      "text/plain": [
       "array([[ 0.,  0.,  0., ...,  0.,  0.,  0.],\n",
       "       [ 0.,  0.,  0., ...,  0.,  0.,  0.],\n",
       "       [ 0.,  0.,  0., ...,  0.,  0.,  0.],\n",
       "       ..., \n",
       "       [ 0.,  0.,  0., ...,  0.,  0.,  0.],\n",
       "       [ 0.,  0.,  0., ...,  0.,  0.,  0.],\n",
       "       [ 0.,  0.,  0., ...,  0.,  0.,  0.]], dtype=float32)"
      ]
     },
     "execution_count": 149,
     "metadata": {},
     "output_type": "execute_result"
    }
   ],
   "source": [
    "get_matrix_block(0, key_template=KEY_TEMPLATE)"
   ]
  },
  {
   "cell_type": "code",
   "execution_count": 291,
   "metadata": {
    "collapsed": false
   },
   "outputs": [
    {
     "name": "stdout",
     "output_type": "stream",
     "text": [
      "mnist-kernel-blocked/mnist_kernel_block_size_4096_gamma_0.001_block_0_4096_57344_60000\n",
      "mnist-kernel-model/x_0_4096_replicate_0.npy\n",
      "(2656, 4096)\n",
      "(4096, 10)\n",
      "CPU times: user 1.14 s, sys: 168 ms, total: 1.3 s\n",
      "Wall time: 1.91 s\n"
     ]
    },
    {
     "data": {
      "text/plain": [
       "array([[-128.28378071,   46.75721334, -128.84601117, ..., -101.87003691,\n",
       "         -45.20726051,    2.69887605],\n",
       "       [-125.72319509,   46.26822994, -127.59930875, ..., -101.86083542,\n",
       "         -46.83079916,    2.94831494],\n",
       "       [-128.97963348,   45.45131767, -130.11050096, ..., -102.71055678,\n",
       "         -44.64585475,    3.12577386],\n",
       "       ..., \n",
       "       [-128.03554733,   45.82619925, -128.09757918, ..., -102.0359487 ,\n",
       "         -45.62099551,    2.32139735],\n",
       "       [-126.85063097,   46.15789753, -129.21182259, ..., -103.39954227,\n",
       "         -45.9747167 ,    2.31670984],\n",
       "       [-127.22006186,   46.11199791, -128.51631563, ..., -102.58263828,\n",
       "         -47.25640348,    0.74326638]])"
      ]
     },
     "execution_count": 291,
     "metadata": {},
     "output_type": "execute_result"
    }
   ],
   "source": [
    "%time block_matrix_multiply(14,0)"
   ]
  },
  {
   "cell_type": "code",
   "execution_count": 344,
   "metadata": {
    "collapsed": false
   },
   "outputs": [
    {
     "name": "stdout",
     "output_type": "stream",
     "text": [
      "CPU times: user 60 ms, sys: 0 ns, total: 60 ms\n",
      "Wall time: 56.1 ms\n"
     ]
    }
   ],
   "source": [
    "%time x = np.random.randn(NUM_EXAMPLES, NUM_CLASSES)"
   ]
  },
  {
   "cell_type": "code",
   "execution_count": 345,
   "metadata": {
    "collapsed": false
   },
   "outputs": [
    {
     "name": "stdout",
     "output_type": "stream",
     "text": [
      "CPU times: user 1min 12s, sys: 9.37 s, total: 1min 22s\n",
      "Wall time: 12.1 s\n"
     ]
    }
   ],
   "source": [
    "%time y_hat = K.dot(x)"
   ]
  },
  {
   "cell_type": "code",
   "execution_count": 347,
   "metadata": {
    "collapsed": false
   },
   "outputs": [
    {
     "name": "stdout",
     "output_type": "stream",
     "text": [
      "0\n",
      "4096\n",
      "8192\n",
      "12288\n",
      "16384\n",
      "20480\n",
      "24576\n",
      "28672\n",
      "32768\n",
      "36864\n",
      "40960\n",
      "45056\n",
      "49152\n",
      "53248\n",
      "57344\n",
      "CPU times: user 404 ms, sys: 32 ms, total: 436 ms\n",
      "Wall time: 8.18 s\n"
     ]
    },
    {
     "data": {
      "text/plain": [
       "[{u'ETag': '\"12985460e5fd28b9bfd02748fe5b90ce\"',\n",
       "  'ResponseMetadata': {'HTTPHeaders': {'content-length': '0',\n",
       "    'date': 'Wed, 08 Mar 2017 20:28:02 GMT',\n",
       "    'etag': '\"12985460e5fd28b9bfd02748fe5b90ce\"',\n",
       "    'server': 'AmazonS3',\n",
       "    'x-amz-id-2': 'jIYdxXF105CAmPu94fetaFGJ8dRFjOUp0eNvqMRzRIdUSyQ+h1lnUGmV0zediHS8+yf9C+TmLU8=',\n",
       "    'x-amz-request-id': '93777648962E86BB'},\n",
       "   'HTTPStatusCode': 200,\n",
       "   'HostId': 'jIYdxXF105CAmPu94fetaFGJ8dRFjOUp0eNvqMRzRIdUSyQ+h1lnUGmV0zediHS8+yf9C+TmLU8=',\n",
       "   'RequestId': '93777648962E86BB',\n",
       "   'RetryAttempts': 0}},\n",
       " {u'ETag': '\"ee201263606982feb424d42a92ef5bd8\"',\n",
       "  'ResponseMetadata': {'HTTPHeaders': {'content-length': '0',\n",
       "    'date': 'Wed, 08 Mar 2017 20:28:02 GMT',\n",
       "    'etag': '\"ee201263606982feb424d42a92ef5bd8\"',\n",
       "    'server': 'AmazonS3',\n",
       "    'x-amz-id-2': '7IOjQ+REiwVoKcVIMwMYVfwzHAidLasS193acWbev9tYiZ8dVzn9vrihEYbnq62WGGL/+6f4rFw=',\n",
       "    'x-amz-request-id': '19A9F8AFBEA16D4B'},\n",
       "   'HTTPStatusCode': 200,\n",
       "   'HostId': '7IOjQ+REiwVoKcVIMwMYVfwzHAidLasS193acWbev9tYiZ8dVzn9vrihEYbnq62WGGL/+6f4rFw=',\n",
       "   'RequestId': '19A9F8AFBEA16D4B',\n",
       "   'RetryAttempts': 0}},\n",
       " {u'ETag': '\"2042b15629c4aca0262bbc2c547093a4\"',\n",
       "  'ResponseMetadata': {'HTTPHeaders': {'content-length': '0',\n",
       "    'date': 'Wed, 08 Mar 2017 20:28:03 GMT',\n",
       "    'etag': '\"2042b15629c4aca0262bbc2c547093a4\"',\n",
       "    'server': 'AmazonS3',\n",
       "    'x-amz-id-2': 'hYaH0760hMUrZQpjO+RUKSW/qJB0n3Gf4ywFm0oeETGZZvaDXUkAWbpQ4I0Pl0L4aw34ovVO4XQ=',\n",
       "    'x-amz-request-id': '8B4FAF5B74FEB7C3'},\n",
       "   'HTTPStatusCode': 200,\n",
       "   'HostId': 'hYaH0760hMUrZQpjO+RUKSW/qJB0n3Gf4ywFm0oeETGZZvaDXUkAWbpQ4I0Pl0L4aw34ovVO4XQ=',\n",
       "   'RequestId': '8B4FAF5B74FEB7C3',\n",
       "   'RetryAttempts': 0}},\n",
       " {u'ETag': '\"1199bbb5f759952b76474cc9aa37740c\"',\n",
       "  'ResponseMetadata': {'HTTPHeaders': {'content-length': '0',\n",
       "    'date': 'Wed, 08 Mar 2017 20:28:03 GMT',\n",
       "    'etag': '\"1199bbb5f759952b76474cc9aa37740c\"',\n",
       "    'server': 'AmazonS3',\n",
       "    'x-amz-id-2': 'Obxud/O34aECxPXL/NvtJ68qopUuV/MbfbSIJgyRRliVv0e3tkAZ/rvsWe9vx27ASxI1ykVRwkU=',\n",
       "    'x-amz-request-id': '85FC6F892E2C9D8B'},\n",
       "   'HTTPStatusCode': 200,\n",
       "   'HostId': 'Obxud/O34aECxPXL/NvtJ68qopUuV/MbfbSIJgyRRliVv0e3tkAZ/rvsWe9vx27ASxI1ykVRwkU=',\n",
       "   'RequestId': '85FC6F892E2C9D8B',\n",
       "   'RetryAttempts': 0}},\n",
       " {u'ETag': '\"532a333d71140a3233b6ff65fac388b7\"',\n",
       "  'ResponseMetadata': {'HTTPHeaders': {'content-length': '0',\n",
       "    'date': 'Wed, 08 Mar 2017 20:28:04 GMT',\n",
       "    'etag': '\"532a333d71140a3233b6ff65fac388b7\"',\n",
       "    'server': 'AmazonS3',\n",
       "    'x-amz-id-2': 'nT8CYIpTuNIr9Jv7ZgcSJccICxjHTyNWNYsvgZwgmLWJYt9JYtme8xEmmGnFsCN+b/SGMPkY+io=',\n",
       "    'x-amz-request-id': 'BE2F81AE81EA2274'},\n",
       "   'HTTPStatusCode': 200,\n",
       "   'HostId': 'nT8CYIpTuNIr9Jv7ZgcSJccICxjHTyNWNYsvgZwgmLWJYt9JYtme8xEmmGnFsCN+b/SGMPkY+io=',\n",
       "   'RequestId': 'BE2F81AE81EA2274',\n",
       "   'RetryAttempts': 0}},\n",
       " {u'ETag': '\"6cc009c6569d0b93d2d0be25891399d5\"',\n",
       "  'ResponseMetadata': {'HTTPHeaders': {'content-length': '0',\n",
       "    'date': 'Wed, 08 Mar 2017 20:28:04 GMT',\n",
       "    'etag': '\"6cc009c6569d0b93d2d0be25891399d5\"',\n",
       "    'server': 'AmazonS3',\n",
       "    'x-amz-id-2': 'U9g4tDZpJImWpZ5rnmTzrjzbM1ehvPN4mITAaxCHuiD3AG5zutSIcABIaC8nZPo0TrK/A9exHrk=',\n",
       "    'x-amz-request-id': 'C77EE20F84927051'},\n",
       "   'HTTPStatusCode': 200,\n",
       "   'HostId': 'U9g4tDZpJImWpZ5rnmTzrjzbM1ehvPN4mITAaxCHuiD3AG5zutSIcABIaC8nZPo0TrK/A9exHrk=',\n",
       "   'RequestId': 'C77EE20F84927051',\n",
       "   'RetryAttempts': 0}},\n",
       " {u'ETag': '\"5000968f91dd772a9003cb34af5f19cb\"',\n",
       "  'ResponseMetadata': {'HTTPHeaders': {'content-length': '0',\n",
       "    'date': 'Wed, 08 Mar 2017 20:28:05 GMT',\n",
       "    'etag': '\"5000968f91dd772a9003cb34af5f19cb\"',\n",
       "    'server': 'AmazonS3',\n",
       "    'x-amz-id-2': 'jLO2QJy2pvELKG/y5Gw9x3DaQTqRxUd7arRaH+qtSgMU8EX9Ewd+jFKaCEN/G5IRsH5rWX9EN54=',\n",
       "    'x-amz-request-id': 'F98C356A39B311B4'},\n",
       "   'HTTPStatusCode': 200,\n",
       "   'HostId': 'jLO2QJy2pvELKG/y5Gw9x3DaQTqRxUd7arRaH+qtSgMU8EX9Ewd+jFKaCEN/G5IRsH5rWX9EN54=',\n",
       "   'RequestId': 'F98C356A39B311B4',\n",
       "   'RetryAttempts': 0}},\n",
       " {u'ETag': '\"ba9ef9e4f1119ccc031b50240fe55845\"',\n",
       "  'ResponseMetadata': {'HTTPHeaders': {'content-length': '0',\n",
       "    'date': 'Wed, 08 Mar 2017 20:28:05 GMT',\n",
       "    'etag': '\"ba9ef9e4f1119ccc031b50240fe55845\"',\n",
       "    'server': 'AmazonS3',\n",
       "    'x-amz-id-2': 'nsPjUAAaI9pimzPd1M4ALl7F/TslBEY5za7Asz0ZAI2osAeL/syISUbVS5NpfNikEZlQ001+VCg=',\n",
       "    'x-amz-request-id': '6CC371237029178D'},\n",
       "   'HTTPStatusCode': 200,\n",
       "   'HostId': 'nsPjUAAaI9pimzPd1M4ALl7F/TslBEY5za7Asz0ZAI2osAeL/syISUbVS5NpfNikEZlQ001+VCg=',\n",
       "   'RequestId': '6CC371237029178D',\n",
       "   'RetryAttempts': 0}},\n",
       " {u'ETag': '\"7e80a2134c3b524bbcd215d1843b9880\"',\n",
       "  'ResponseMetadata': {'HTTPHeaders': {'content-length': '0',\n",
       "    'date': 'Wed, 08 Mar 2017 20:28:06 GMT',\n",
       "    'etag': '\"7e80a2134c3b524bbcd215d1843b9880\"',\n",
       "    'server': 'AmazonS3',\n",
       "    'x-amz-id-2': 'A0qZyH0EOFTI7Y5CJ5pcz4LNXNjcgGwvcXLyBvos6MmmbcPi6h9YpabjUx+Ea5mkSI8gwtdUl5E=',\n",
       "    'x-amz-request-id': '449880115DFA070F'},\n",
       "   'HTTPStatusCode': 200,\n",
       "   'HostId': 'A0qZyH0EOFTI7Y5CJ5pcz4LNXNjcgGwvcXLyBvos6MmmbcPi6h9YpabjUx+Ea5mkSI8gwtdUl5E=',\n",
       "   'RequestId': '449880115DFA070F',\n",
       "   'RetryAttempts': 0}},\n",
       " {u'ETag': '\"471f6e8561fd97f64dcde2f8bbc6be98\"',\n",
       "  'ResponseMetadata': {'HTTPHeaders': {'content-length': '0',\n",
       "    'date': 'Wed, 08 Mar 2017 20:28:06 GMT',\n",
       "    'etag': '\"471f6e8561fd97f64dcde2f8bbc6be98\"',\n",
       "    'server': 'AmazonS3',\n",
       "    'x-amz-id-2': '3Gb2gvS+Rz+L0f+TpcaBWpiAr/T0TYvg4EnQXHNGmX1fRyV0hsOiyl+zMdylBrHxeGU8C0OqaJY=',\n",
       "    'x-amz-request-id': '3279ABD244FC9E0A'},\n",
       "   'HTTPStatusCode': 200,\n",
       "   'HostId': '3Gb2gvS+Rz+L0f+TpcaBWpiAr/T0TYvg4EnQXHNGmX1fRyV0hsOiyl+zMdylBrHxeGU8C0OqaJY=',\n",
       "   'RequestId': '3279ABD244FC9E0A',\n",
       "   'RetryAttempts': 0}},\n",
       " {u'ETag': '\"174f8b96bd6374030a14afce89929c3c\"',\n",
       "  'ResponseMetadata': {'HTTPHeaders': {'content-length': '0',\n",
       "    'date': 'Wed, 08 Mar 2017 20:28:07 GMT',\n",
       "    'etag': '\"174f8b96bd6374030a14afce89929c3c\"',\n",
       "    'server': 'AmazonS3',\n",
       "    'x-amz-id-2': '0F9CtseJE9pBlYQ+xObU5LCGD1WyXi5x1q/U36ZoOSzx4qaJAKb8ueM0Pgv05myL7q5Wdo3ibPI=',\n",
       "    'x-amz-request-id': 'D52F6501BEA057CB'},\n",
       "   'HTTPStatusCode': 200,\n",
       "   'HostId': '0F9CtseJE9pBlYQ+xObU5LCGD1WyXi5x1q/U36ZoOSzx4qaJAKb8ueM0Pgv05myL7q5Wdo3ibPI=',\n",
       "   'RequestId': 'D52F6501BEA057CB',\n",
       "   'RetryAttempts': 0}},\n",
       " {u'ETag': '\"9f73853483758b74fb234cc268093004\"',\n",
       "  'ResponseMetadata': {'HTTPHeaders': {'content-length': '0',\n",
       "    'date': 'Wed, 08 Mar 2017 20:28:08 GMT',\n",
       "    'etag': '\"9f73853483758b74fb234cc268093004\"',\n",
       "    'server': 'AmazonS3',\n",
       "    'x-amz-id-2': '/y5nUw3W/yhj3ACiuvE/u5O1OWxufJ8YdS2iTCUg877J3AurMRO6xv90LsKRDjxowiJLe2ZE1AQ=',\n",
       "    'x-amz-request-id': 'D48FCC246E313FE4'},\n",
       "   'HTTPStatusCode': 200,\n",
       "   'HostId': '/y5nUw3W/yhj3ACiuvE/u5O1OWxufJ8YdS2iTCUg877J3AurMRO6xv90LsKRDjxowiJLe2ZE1AQ=',\n",
       "   'RequestId': 'D48FCC246E313FE4',\n",
       "   'RetryAttempts': 0}},\n",
       " {u'ETag': '\"ca18fa01410753734e966066128aafb2\"',\n",
       "  'ResponseMetadata': {'HTTPHeaders': {'content-length': '0',\n",
       "    'date': 'Wed, 08 Mar 2017 20:28:08 GMT',\n",
       "    'etag': '\"ca18fa01410753734e966066128aafb2\"',\n",
       "    'server': 'AmazonS3',\n",
       "    'x-amz-id-2': 'FwO+MfOZJZ0Fou4w1JJFJyJo4sTvVSk+vu0J8aZg18PQjknQMByyijYWnKZK4s4j/EqkMcOr9zo=',\n",
       "    'x-amz-request-id': 'ACDDE845DEEB0F31'},\n",
       "   'HTTPStatusCode': 200,\n",
       "   'HostId': 'FwO+MfOZJZ0Fou4w1JJFJyJo4sTvVSk+vu0J8aZg18PQjknQMByyijYWnKZK4s4j/EqkMcOr9zo=',\n",
       "   'RequestId': 'ACDDE845DEEB0F31',\n",
       "   'RetryAttempts': 0}},\n",
       " {u'ETag': '\"a3679e7d2253619ae7414a3579245fe0\"',\n",
       "  'ResponseMetadata': {'HTTPHeaders': {'content-length': '0',\n",
       "    'date': 'Wed, 08 Mar 2017 20:28:09 GMT',\n",
       "    'etag': '\"a3679e7d2253619ae7414a3579245fe0\"',\n",
       "    'server': 'AmazonS3',\n",
       "    'x-amz-id-2': 'af0XHM/MNVsLp4webz/Vv9L/c1mPj6gxSf5Ziu+56v3mbH0YnSKAo1Eqmu0chYUb2UUShWWGRhM=',\n",
       "    'x-amz-request-id': '4B506957EF2EC381'},\n",
       "   'HTTPStatusCode': 200,\n",
       "   'HostId': 'af0XHM/MNVsLp4webz/Vv9L/c1mPj6gxSf5Ziu+56v3mbH0YnSKAo1Eqmu0chYUb2UUShWWGRhM=',\n",
       "   'RequestId': '4B506957EF2EC381',\n",
       "   'RetryAttempts': 0}},\n",
       " {u'ETag': '\"901eeeff3a647a056ae1ddab826bbc2a\"',\n",
       "  'ResponseMetadata': {'HTTPHeaders': {'content-length': '0',\n",
       "    'date': 'Wed, 08 Mar 2017 20:28:09 GMT',\n",
       "    'etag': '\"901eeeff3a647a056ae1ddab826bbc2a\"',\n",
       "    'server': 'AmazonS3',\n",
       "    'x-amz-id-2': 'z+vXCjxwhXl3u6F5O6ZMv45Ts3o49PP3yAMIX3b6JlUS8BW7YbGc34sNFgbQtuPJKnkkmCU9ux8=',\n",
       "    'x-amz-request-id': 'E8342FBDBBC6629B'},\n",
       "   'HTTPStatusCode': 200,\n",
       "   'HostId': 'z+vXCjxwhXl3u6F5O6ZMv45Ts3o49PP3yAMIX3b6JlUS8BW7YbGc34sNFgbQtuPJKnkkmCU9ux8=',\n",
       "   'RequestId': 'E8342FBDBBC6629B',\n",
       "   'RetryAttempts': 0}}]"
      ]
     },
     "execution_count": 347,
     "metadata": {},
     "output_type": "execute_result"
    }
   ],
   "source": [
    "%time shard_matrix(x, BLOCK_SIZE, key_template=MODEL_KEY_TEMPLATE)"
   ]
  },
  {
   "cell_type": "code",
   "execution_count": 348,
   "metadata": {
    "collapsed": false
   },
   "outputs": [
    {
     "name": "stdout",
     "output_type": "stream",
     "text": [
      "CPU times: user 1.21 s, sys: 96 ms, total: 1.3 s\n",
      "Wall time: 2.37 s\n",
      "CPU times: user 1.57 s, sys: 476 ms, total: 2.05 s\n",
      "Wall time: 55.6 s\n"
     ]
    }
   ],
   "source": [
    "all_futures = [] \n",
    "all_times = []\n",
    "gamma = 1e-3\n",
    "t = time.time()\n",
    "for c in chunked_blocks:\n",
    "    %time matmul_futures = pwex.map(lambda x: blocks_matrix_multiply(x, range(NUM_BLOCKS)), range(NUM_BLOCKS))\n",
    "    %time pywren.wait(matmul_futures)"
   ]
  },
  {
   "cell_type": "code",
   "execution_count": 349,
   "metadata": {
    "collapsed": false
   },
   "outputs": [],
   "source": [
    "y_pywren = np.vstack(map(lambda x: x.result(), matmul_futures))"
   ]
  },
  {
   "cell_type": "code",
   "execution_count": 352,
   "metadata": {
    "collapsed": false
   },
   "outputs": [
    {
     "data": {
      "text/plain": [
       "8.1240711153895973e-06"
      ]
     },
     "execution_count": 352,
     "metadata": {},
     "output_type": "execute_result"
    }
   ],
   "source": [
    "np.max(y_pywren - y_hat)"
   ]
  },
  {
   "cell_type": "code",
   "execution_count": 351,
   "metadata": {
    "collapsed": false
   },
   "outputs": [
    {
     "data": {
      "text/plain": [
       "array([[-186.00949731,  124.43041149,  497.65620407, ...,  -10.91797642,\n",
       "         188.52965082, -171.28709987],\n",
       "       [-171.77387533,  119.43956622,  492.88423478, ...,  -11.70699885,\n",
       "         182.36139324, -165.06179244],\n",
       "       [-177.53636246,  117.7787255 ,  494.54356989, ...,  -13.07114439,\n",
       "         189.44762783, -169.94315537],\n",
       "       ..., \n",
       "       [-188.85554876,  132.83066674,  495.44710393, ...,   -9.61378749,\n",
       "         190.65508852, -169.69689099],\n",
       "       [-176.94234491,  124.26633807,  495.964517  , ...,  -14.94719051,\n",
       "         187.09091449, -177.67136713],\n",
       "       [-180.90586938,  122.5344383 ,  500.22194193, ...,  -11.83839985,\n",
       "         188.99764754, -172.9376709 ]])"
      ]
     },
     "execution_count": 351,
     "metadata": {},
     "output_type": "execute_result"
    }
   ],
   "source": []
  },
  {
   "cell_type": "code",
   "execution_count": 235,
   "metadata": {
    "collapsed": false
   },
   "outputs": [
    {
     "data": {
      "text/plain": [
       "15"
      ]
     },
     "execution_count": 235,
     "metadata": {},
     "output_type": "execute_result"
    }
   ],
   "source": [
    "NUM_BLOCKS"
   ]
  },
  {
   "cell_type": "code",
   "execution_count": 317,
   "metadata": {
    "collapsed": false
   },
   "outputs": [
    {
     "data": {
      "text/plain": [
       "array([[ 227.23910522,   67.11650848, -220.43588257, ..., -153.90719604,\n",
       "          73.61194611, -161.79536438],\n",
       "       [ 233.42433167,   62.26885223, -208.6574707 , ..., -151.76164246,\n",
       "          71.20610046, -155.42860413],\n",
       "       [ 221.47065735,   71.08818817, -226.14672852, ..., -154.83169556,\n",
       "          80.12179565, -160.51142883],\n",
       "       ..., \n",
       "       [ 220.43322754,   66.28712463, -219.16998291, ..., -153.2624054 ,\n",
       "          76.82614136, -165.19265747],\n",
       "       [ 236.87371826,   70.62846375, -218.40971375, ..., -158.09988403,\n",
       "          78.82926941, -163.04502869],\n",
       "       [ 229.33178711,   71.03556824, -221.09628296, ..., -155.94696045,\n",
       "          83.37482452, -167.30075073]], dtype=float32)"
      ]
     },
     "execution_count": 317,
     "metadata": {},
     "output_type": "execute_result"
    }
   ],
   "source": [
    "y_hat.astype('float32')"
   ]
  },
  {
   "cell_type": "code",
   "execution_count": 314,
   "metadata": {
    "collapsed": false
   },
   "outputs": [
    {
     "data": {
      "text/plain": [
       "array([[ 227.23910522,   67.11650848, -220.43588257, ..., -153.90719604,\n",
       "          73.61194611, -161.79536438],\n",
       "       [ 233.42433167,   62.26885223, -208.6574707 , ..., -151.76164246,\n",
       "          71.20610046, -155.42860413],\n",
       "       [ 221.47065735,   71.08818817, -226.14672852, ..., -154.83169556,\n",
       "          80.12179565, -160.51142883],\n",
       "       ..., \n",
       "       [ 220.43322754,   66.28713226, -219.16998291, ..., -153.2624054 ,\n",
       "          76.82614136, -165.19265747],\n",
       "       [ 236.87371826,   70.62846375, -218.40971375, ..., -158.09989929,\n",
       "          78.82926941, -163.04502869],\n",
       "       [ 229.33178711,   71.03556824, -221.09628296, ..., -155.94696045,\n",
       "          83.37482452, -167.30076599]], dtype=float32)"
      ]
     },
     "execution_count": 314,
     "metadata": {},
     "output_type": "execute_result"
    }
   ],
   "source": [
    "y_pywren.astype('float32')"
   ]
  },
  {
   "cell_type": "code",
   "execution_count": 342,
   "metadata": {
    "collapsed": false
   },
   "outputs": [
    {
     "data": {
      "text/plain": [
       "dtype('float64')"
      ]
     },
     "execution_count": 342,
     "metadata": {},
     "output_type": "execute_result"
    }
   ],
   "source": [
    "y_pywren.dtype"
   ]
  },
  {
   "cell_type": "code",
   "execution_count": 346,
   "metadata": {
    "collapsed": false
   },
   "outputs": [
    {
     "data": {
      "text/plain": [
       "dtype('float64')"
      ]
     },
     "execution_count": 346,
     "metadata": {},
     "output_type": "execute_result"
    }
   ],
   "source": [
    "y_hat.dtype"
   ]
  },
  {
   "cell_type": "code",
   "execution_count": 1,
   "metadata": {
    "collapsed": true
   },
   "outputs": [],
   "source": [
    "import cloudpickle"
   ]
  },
  {
   "cell_type": "code",
   "execution_count": 4,
   "metadata": {
    "collapsed": false
   },
   "outputs": [],
   "source": [
    "linalg = cloudpickle.loads('\\x80\\x02ccloudpickle.cloudpickle\\nsubimport\\nq\\x00U\\x06linalgq\\x01\\x85q\\x02Rq\\x03.')"
   ]
  },
  {
   "cell_type": "code",
   "execution_count": 7,
   "metadata": {
    "collapsed": false
   },
   "outputs": [
    {
     "ename": "NameError",
     "evalue": "name 'X' is not defined",
     "output_type": "error",
     "traceback": [
      "\u001b[1;31m---------------------------------------------------------------------------\u001b[0m",
      "\u001b[1;31mNameError\u001b[0m                                 Traceback (most recent call last)",
      "\u001b[1;32m<ipython-input-7-e2e9bad89583>\u001b[0m in \u001b[0;36m<module>\u001b[1;34m()\u001b[0m\n\u001b[1;32m----> 1\u001b[1;33m \u001b[0mlinalg\u001b[0m\u001b[1;33m.\u001b[0m\u001b[0mcomputeDistanceMatrix\u001b[0m\u001b[1;33m(\u001b[0m\u001b[0mX\u001b[0m\u001b[1;33m)\u001b[0m\u001b[1;33m\u001b[0m\u001b[0m\n\u001b[0m",
      "\u001b[1;31mNameError\u001b[0m: name 'X' is not defined"
     ]
    }
   ],
   "source": []
  },
  {
   "cell_type": "code",
   "execution_count": null,
   "metadata": {
    "collapsed": true
   },
   "outputs": [],
   "source": []
  }
 ],
 "metadata": {
  "kernelspec": {
   "display_name": "Python 3",
   "language": "python",
   "name": "python3"
  },
  "language_info": {
   "codemirror_mode": {
    "name": "ipython",
    "version": 3
   },
   "file_extension": ".py",
   "mimetype": "text/x-python",
   "name": "python",
   "nbconvert_exporter": "python",
   "pygments_lexer": "ipython3",
   "version": "3.6.0"
  }
 },
 "nbformat": 4,
 "nbformat_minor": 2
}
