{
 "cells": [
  {
   "cell_type": "code",
   "execution_count": 63,
   "metadata": {
    "collapsed": false
   },
   "outputs": [
    {
     "data": {
      "text/plain": [
       "<module 'linalg' from '/data/vaishaal/pictureweb/pywren_kernels/linalg.py'>"
      ]
     },
     "execution_count": 63,
     "metadata": {},
     "output_type": "execute_result"
    }
   ],
   "source": [
    "import numpy as np\n",
    "from sklearn.datasets import fetch_mldata\n",
    "import linalg\n",
    "from importlib import reload\n",
    "import _pickle as cPickle\n",
    "import scipy.linalg\n",
    "from sklearn import metrics\n",
    "\n",
    "reload(linalg)"
   ]
  },
  {
   "cell_type": "code",
   "execution_count": 2,
   "metadata": {
    "collapsed": true
   },
   "outputs": [],
   "source": [
    "def unpickle(infile):\n",
    "    fo = open(infile, 'rb')\n",
    "    outdict = cPickle.load(fo)\n",
    "    fo.close()\n",
    "    return outdict\n",
    "\n",
    "def load_cifar(path):\n",
    "    train_batches = []\n",
    "    train_labels = []\n",
    "    for i in range(1,6):\n",
    "        cifar_out = unpickle(\"{0}/data_batch_{1}\".format(path, i))\n",
    "        train_batches.append(cifar_out[\"data\"])\n",
    "        train_labels.extend(cifar_out[\"labels\"])\n",
    "\n",
    "    # Stupid bull shit to get pixels in correct order\n",
    "    X_train= np.vstack(tuple(train_batches))\n",
    "    y_train = np.array(train_labels)\n",
    "    cifar_out = unpickle(\"../cifar/test_batch\")\n",
    "    X_test = cifar_out[\"data\"]\n",
    "    y_test = cifar_out[\"labels\"]\n",
    "    return (X_train, np.array(y_train)), (X_test, np.array(y_test))\n"
   ]
  },
  {
   "cell_type": "code",
   "execution_count": 5,
   "metadata": {
    "collapsed": false
   },
   "outputs": [
    {
     "name": "stdout",
     "output_type": "stream",
     "text": [
      "CPU times: user 5min 3s, sys: 2min 7s, total: 7min 10s\n",
      "Wall time: 1min 58s\n",
      "CPU times: user 1min 36s, sys: 26.7 s, total: 2min 3s\n",
      "Wall time: 17 s\n"
     ]
    }
   ],
   "source": [
    "mnist = fetch_mldata('MNIST original', data_home=\"/data/vaishaal/mnist\")\n",
    "X_train_mnist = mnist.data[:60000, :]/255.0\n",
    "y_train_mnist = mnist.target[:60000]\n",
    "X_test_mnist = mnist.data[60000:, :]/255.0\n",
    "y_test_mnist = mnist.target[60000:]\n",
    "y_train_mnist_one_hot = np.eye(10)[y_train_mnist.astype('int')]\n",
    "%time K_train_mnist = linalg.computeRBFGramMatrix(X_train_mnist, X_train_mnist, gamma=1e-3)\n",
    "%time K_test_mnist = linalg.computeRBFGramMatrix(X_test_mnist, X_train_mnist, gamma=1e-3)"
   ]
  },
  {
   "cell_type": "code",
   "execution_count": 21,
   "metadata": {
    "collapsed": false
   },
   "outputs": [
    {
     "name": "stdout",
     "output_type": "stream",
     "text": [
      "CPU times: user 9min 23s, sys: 3min 12s, total: 12min 36s\n",
      "Wall time: 1min 29s\n",
      "CPU times: user 3min 31s, sys: 1min 10s, total: 4min 42s\n",
      "Wall time: 17.7 s\n"
     ]
    }
   ],
   "source": [
    "cifar = np.load(\"/data/vaishaal/cifar.npz\")\n",
    "X_train_cifar = cifar[\"X_train\"]/255.0\n",
    "X_test_cifar = cifar[\"X_test\"]/255.0\n",
    "y_train_cifar = cifar[\"y_train\"]\n",
    "y_test_cifar = cifar[\"y_test\"]\n",
    "y_train_cifar_one_hot =  np.eye(10)[y_train_cifar.astype('int')] \n",
    "%time K_train_cifar = linalg.computeRBFGramMatrix(X_train_cifar, X_train_cifar, gamma=1e-2)\n",
    "%time K_test_cifar = linalg.computeRBFGramMatrix(X_test_cifar, X_train_cifar, gamma=1e-2)\n"
   ]
  },
  {
   "cell_type": "code",
   "execution_count": 7,
   "metadata": {
    "collapsed": true
   },
   "outputs": [],
   "source": [
    "def direct_solve(K, y, lambdav):\n",
    "   diag = np.diag_indices(K.shape[0])\n",
    "   K[diag] += lambdav\n",
    "   model = scipy.linalg.solve(K, y)\n",
    "   K[diag] -= lambdav\n",
    "   return model\n",
    "\n",
    "def evaluate(K, model, y):\n",
    "    y_hat= np.argmax(K.dot(model), axis=1)\n",
    "    return metrics.accuracy_score(y, y_hat)\n",
    "\n",
    "\n",
    "    "
   ]
  },
  {
   "cell_type": "code",
   "execution_count": null,
   "metadata": {
    "collapsed": true
   },
   "outputs": [],
   "source": [
    "%time model_direct_mnist = direct_solve(K_train_mnist, y_train_mnist_one_hot, 1e-8)"
   ]
  },
  {
   "cell_type": "code",
   "execution_count": 13,
   "metadata": {
    "collapsed": false
   },
   "outputs": [
    {
     "name": "stdout",
     "output_type": "stream",
     "text": [
      "CPU times: user 1min, sys: 284 ms, total: 1min 1s\n",
      "Wall time: 938 ms\n",
      "CPU times: user 9.06 s, sys: 32 ms, total: 9.1 s\n",
      "Wall time: 126 ms\n"
     ]
    }
   ],
   "source": [
    "%time train_acc_direct_mnist = evaluate(K_train_mnist, model_direct_mnist, y_train_mnist)\n",
    "%time test_acc_direct_mnist = evaluate(K_test_mnist, model_direct_mnist, y_test_mnist)"
   ]
  },
  {
   "cell_type": "code",
   "execution_count": 14,
   "metadata": {
    "collapsed": false
   },
   "outputs": [
    {
     "name": "stdout",
     "output_type": "stream",
     "text": [
      "0.9831\n"
     ]
    }
   ],
   "source": [
    "print(test_acc_direct_mnist)"
   ]
  },
  {
   "cell_type": "code",
   "execution_count": null,
   "metadata": {
    "collapsed": false
   },
   "outputs": [],
   "source": [
    "%time model_direct_cifar = direct_solve(K_train_cifar, y_train_cifar_one_hot, 1e-8)"
   ]
  },
  {
   "cell_type": "code",
   "execution_count": 67,
   "metadata": {
    "collapsed": false
   },
   "outputs": [
    {
     "name": "stdout",
     "output_type": "stream",
     "text": [
      "CPU times: user 27.8 s, sys: 308 ms, total: 28.1 s\n",
      "Wall time: 404 ms\n",
      "CPU times: user 3.87 s, sys: 68 ms, total: 3.94 s\n",
      "Wall time: 54.8 ms\n"
     ]
    }
   ],
   "source": [
    "%time train_acc_direct_cifar = evaluate(K_train_cifar, model_direct_cifar, y_train_cifar)\n",
    "%time test_acc_direct_cifar = evaluate(K_test_cifar, model_direct_cifar, y_test_cifar)"
   ]
  },
  {
   "cell_type": "code",
   "execution_count": 69,
   "metadata": {
    "collapsed": false
   },
   "outputs": [
    {
     "name": "stdout",
     "output_type": "stream",
     "text": [
      "0.5665\n"
     ]
    }
   ],
   "source": [
    "print(test_acc_direct_cifar)"
   ]
  },
  {
   "cell_type": "code",
   "execution_count": null,
   "metadata": {
    "collapsed": true
   },
   "outputs": [],
   "source": [
    "prc_mnist = linalg.make_smart_precondition(X_train_mnist, 1e-4, 1e-3, 8192)"
   ]
  },
  {
   "cell_type": "code",
   "execution_count": 94,
   "metadata": {
    "collapsed": false
   },
   "outputs": [
    {
     "name": "stdout",
     "output_type": "stream",
     "text": [
      "Computing Nystroem svd\n",
      "Computing Nystroem features\n",
      "Computing ZTZ\n",
      "Computing Cholesky\n",
      "(4096, 50000)\n",
      "CPU times: user 24min 18s, sys: 2min 15s, total: 26min 34s\n",
      "Wall time: 41.8 s\n"
     ]
    }
   ],
   "source": [
    "%time prc_cifar = linalg.make_smart_precondition(X_train_cifar, 1e-4, 1e-2, 4096)"
   ]
  },
  {
   "cell_type": "code",
   "execution_count": 97,
   "metadata": {
    "collapsed": false
   },
   "outputs": [
    {
     "name": "stdout",
     "output_type": "stream",
     "text": [
      "0.000995371595108\n",
      "Iter 0, NORM IS 281.0561590389708\n",
      "0.00280952693863\n",
      "Iter 1, NORM IS 458.94424287103965\n",
      "0.00135536973015\n",
      "Iter 2, NORM IS 643.4149922932044\n",
      "0.00109003593424\n",
      "Iter 3, NORM IS 762.0641410524732\n",
      "0.00176839425423\n",
      "Iter 4, NORM IS 919.2370460701544\n",
      "0.000561681126682\n",
      "Iter 5, NORM IS 844.5864711997222\n",
      "0.00243096097127\n",
      "Iter 6, NORM IS 893.8021504631239\n",
      "0.000579240972722\n",
      "Iter 7, NORM IS 853.1746244101008\n",
      "0.00183048106724\n",
      "Iter 8, NORM IS 771.072171135036\n",
      "0.00099669672609\n",
      "Iter 9, NORM IS 847.0881254425855\n",
      "0.0008978641174\n",
      "Iter 10, NORM IS 896.7963358117717\n",
      "0.00154595825284\n",
      "Iter 11, NORM IS 746.4168985187442\n",
      "0.00189214294257\n",
      "Iter 12, NORM IS 1123.0637079420392\n",
      "0.000742916190447\n",
      "Iter 13, NORM IS 1001.3000069246347\n",
      "0.000853577643313\n",
      "Iter 14, NORM IS 803.4151298761021\n",
      "0.00271218078965\n",
      "Iter 15, NORM IS 1306.2262822106743\n",
      "0.000647495333109\n",
      "Iter 16, NORM IS 1159.4100003184444\n",
      "0.000612655099417\n",
      "Iter 17, NORM IS 902.119136566129\n",
      "0.00209164170873\n",
      "Iter 18, NORM IS 1302.2767590647886\n",
      "0.000721461102241\n",
      "Iter 19, NORM IS 1203.7506067393033\n",
      "0.000530567843588\n",
      "Iter 20, NORM IS 899.201182296646\n",
      "0.00171241758446\n",
      "Iter 21, NORM IS 1212.131420515856\n"
     ]
    },
    {
     "ename": "KeyboardInterrupt",
     "evalue": "",
     "output_type": "error",
     "traceback": [
      "\u001b[0;31m---------------------------------------------------------------------------\u001b[0m",
      "\u001b[0;31mKeyboardInterrupt\u001b[0m                         Traceback (most recent call last)",
      "\u001b[0;32m<ipython-input-97-7758a26848dd>\u001b[0m in \u001b[0;36m<module>\u001b[0;34m()\u001b[0m\n\u001b[0;32m----> 1\u001b[0;31m \u001b[0mget_ipython\u001b[0m\u001b[0;34m(\u001b[0m\u001b[0;34m)\u001b[0m\u001b[0;34m.\u001b[0m\u001b[0mmagic\u001b[0m\u001b[0;34m(\u001b[0m\u001b[0;34m'time model_pcg_cifar = linalg.pcg(K_train_cifar, y_train_cifar_one_hot, max_iter=100, tol=1e-5, lambdav=1e-4)'\u001b[0m\u001b[0;34m)\u001b[0m\u001b[0;34m\u001b[0m\u001b[0m\n\u001b[0m",
      "\u001b[0;32m/data/vaishaal/anaconda3/lib/python3.6/site-packages/IPython/core/interactiveshell.py\u001b[0m in \u001b[0;36mmagic\u001b[0;34m(self, arg_s)\u001b[0m\n\u001b[1;32m   2156\u001b[0m         \u001b[0mmagic_name\u001b[0m\u001b[0;34m,\u001b[0m \u001b[0m_\u001b[0m\u001b[0;34m,\u001b[0m \u001b[0mmagic_arg_s\u001b[0m \u001b[0;34m=\u001b[0m \u001b[0marg_s\u001b[0m\u001b[0;34m.\u001b[0m\u001b[0mpartition\u001b[0m\u001b[0;34m(\u001b[0m\u001b[0;34m' '\u001b[0m\u001b[0;34m)\u001b[0m\u001b[0;34m\u001b[0m\u001b[0m\n\u001b[1;32m   2157\u001b[0m         \u001b[0mmagic_name\u001b[0m \u001b[0;34m=\u001b[0m \u001b[0mmagic_name\u001b[0m\u001b[0;34m.\u001b[0m\u001b[0mlstrip\u001b[0m\u001b[0;34m(\u001b[0m\u001b[0mprefilter\u001b[0m\u001b[0;34m.\u001b[0m\u001b[0mESC_MAGIC\u001b[0m\u001b[0;34m)\u001b[0m\u001b[0;34m\u001b[0m\u001b[0m\n\u001b[0;32m-> 2158\u001b[0;31m         \u001b[0;32mreturn\u001b[0m \u001b[0mself\u001b[0m\u001b[0;34m.\u001b[0m\u001b[0mrun_line_magic\u001b[0m\u001b[0;34m(\u001b[0m\u001b[0mmagic_name\u001b[0m\u001b[0;34m,\u001b[0m \u001b[0mmagic_arg_s\u001b[0m\u001b[0;34m)\u001b[0m\u001b[0;34m\u001b[0m\u001b[0m\n\u001b[0m\u001b[1;32m   2159\u001b[0m \u001b[0;34m\u001b[0m\u001b[0m\n\u001b[1;32m   2160\u001b[0m     \u001b[0;31m#-------------------------------------------------------------------------\u001b[0m\u001b[0;34m\u001b[0m\u001b[0;34m\u001b[0m\u001b[0m\n",
      "\u001b[0;32m/data/vaishaal/anaconda3/lib/python3.6/site-packages/IPython/core/interactiveshell.py\u001b[0m in \u001b[0;36mrun_line_magic\u001b[0;34m(self, magic_name, line)\u001b[0m\n\u001b[1;32m   2077\u001b[0m                 \u001b[0mkwargs\u001b[0m\u001b[0;34m[\u001b[0m\u001b[0;34m'local_ns'\u001b[0m\u001b[0;34m]\u001b[0m \u001b[0;34m=\u001b[0m \u001b[0msys\u001b[0m\u001b[0;34m.\u001b[0m\u001b[0m_getframe\u001b[0m\u001b[0;34m(\u001b[0m\u001b[0mstack_depth\u001b[0m\u001b[0;34m)\u001b[0m\u001b[0;34m.\u001b[0m\u001b[0mf_locals\u001b[0m\u001b[0;34m\u001b[0m\u001b[0m\n\u001b[1;32m   2078\u001b[0m             \u001b[0;32mwith\u001b[0m \u001b[0mself\u001b[0m\u001b[0;34m.\u001b[0m\u001b[0mbuiltin_trap\u001b[0m\u001b[0;34m:\u001b[0m\u001b[0;34m\u001b[0m\u001b[0m\n\u001b[0;32m-> 2079\u001b[0;31m                 \u001b[0mresult\u001b[0m \u001b[0;34m=\u001b[0m \u001b[0mfn\u001b[0m\u001b[0;34m(\u001b[0m\u001b[0;34m*\u001b[0m\u001b[0margs\u001b[0m\u001b[0;34m,\u001b[0m\u001b[0;34m**\u001b[0m\u001b[0mkwargs\u001b[0m\u001b[0;34m)\u001b[0m\u001b[0;34m\u001b[0m\u001b[0m\n\u001b[0m\u001b[1;32m   2080\u001b[0m             \u001b[0;32mreturn\u001b[0m \u001b[0mresult\u001b[0m\u001b[0;34m\u001b[0m\u001b[0m\n\u001b[1;32m   2081\u001b[0m \u001b[0;34m\u001b[0m\u001b[0m\n",
      "\u001b[0;32m<decorator-gen-59>\u001b[0m in \u001b[0;36mtime\u001b[0;34m(self, line, cell, local_ns)\u001b[0m\n",
      "\u001b[0;32m/data/vaishaal/anaconda3/lib/python3.6/site-packages/IPython/core/magic.py\u001b[0m in \u001b[0;36m<lambda>\u001b[0;34m(f, *a, **k)\u001b[0m\n\u001b[1;32m    186\u001b[0m     \u001b[0;31m# but it's overkill for just that one bit of state.\u001b[0m\u001b[0;34m\u001b[0m\u001b[0;34m\u001b[0m\u001b[0m\n\u001b[1;32m    187\u001b[0m     \u001b[0;32mdef\u001b[0m \u001b[0mmagic_deco\u001b[0m\u001b[0;34m(\u001b[0m\u001b[0marg\u001b[0m\u001b[0;34m)\u001b[0m\u001b[0;34m:\u001b[0m\u001b[0;34m\u001b[0m\u001b[0m\n\u001b[0;32m--> 188\u001b[0;31m         \u001b[0mcall\u001b[0m \u001b[0;34m=\u001b[0m \u001b[0;32mlambda\u001b[0m \u001b[0mf\u001b[0m\u001b[0;34m,\u001b[0m \u001b[0;34m*\u001b[0m\u001b[0ma\u001b[0m\u001b[0;34m,\u001b[0m \u001b[0;34m**\u001b[0m\u001b[0mk\u001b[0m\u001b[0;34m:\u001b[0m \u001b[0mf\u001b[0m\u001b[0;34m(\u001b[0m\u001b[0;34m*\u001b[0m\u001b[0ma\u001b[0m\u001b[0;34m,\u001b[0m \u001b[0;34m**\u001b[0m\u001b[0mk\u001b[0m\u001b[0;34m)\u001b[0m\u001b[0;34m\u001b[0m\u001b[0m\n\u001b[0m\u001b[1;32m    189\u001b[0m \u001b[0;34m\u001b[0m\u001b[0m\n\u001b[1;32m    190\u001b[0m         \u001b[0;32mif\u001b[0m \u001b[0mcallable\u001b[0m\u001b[0;34m(\u001b[0m\u001b[0marg\u001b[0m\u001b[0;34m)\u001b[0m\u001b[0;34m:\u001b[0m\u001b[0;34m\u001b[0m\u001b[0m\n",
      "\u001b[0;32m/data/vaishaal/anaconda3/lib/python3.6/site-packages/IPython/core/magics/execution.py\u001b[0m in \u001b[0;36mtime\u001b[0;34m(self, line, cell, local_ns)\u001b[0m\n\u001b[1;32m   1178\u001b[0m         \u001b[0;32melse\u001b[0m\u001b[0;34m:\u001b[0m\u001b[0;34m\u001b[0m\u001b[0m\n\u001b[1;32m   1179\u001b[0m             \u001b[0mst\u001b[0m \u001b[0;34m=\u001b[0m \u001b[0mclock2\u001b[0m\u001b[0;34m(\u001b[0m\u001b[0;34m)\u001b[0m\u001b[0;34m\u001b[0m\u001b[0m\n\u001b[0;32m-> 1180\u001b[0;31m             \u001b[0mexec\u001b[0m\u001b[0;34m(\u001b[0m\u001b[0mcode\u001b[0m\u001b[0;34m,\u001b[0m \u001b[0mglob\u001b[0m\u001b[0;34m,\u001b[0m \u001b[0mlocal_ns\u001b[0m\u001b[0;34m)\u001b[0m\u001b[0;34m\u001b[0m\u001b[0m\n\u001b[0m\u001b[1;32m   1181\u001b[0m             \u001b[0mend\u001b[0m \u001b[0;34m=\u001b[0m \u001b[0mclock2\u001b[0m\u001b[0;34m(\u001b[0m\u001b[0;34m)\u001b[0m\u001b[0;34m\u001b[0m\u001b[0m\n\u001b[1;32m   1182\u001b[0m             \u001b[0mout\u001b[0m \u001b[0;34m=\u001b[0m \u001b[0;32mNone\u001b[0m\u001b[0;34m\u001b[0m\u001b[0m\n",
      "\u001b[0;32m<timed exec>\u001b[0m in \u001b[0;36m<module>\u001b[0;34m()\u001b[0m\n",
      "\u001b[0;32m/data/vaishaal/pictureweb/pywren_kernels/linalg.py\u001b[0m in \u001b[0;36mpcg\u001b[0;34m(A, b, prc, max_iter, tol, lambdav)\u001b[0m\n\u001b[1;32m    352\u001b[0m             \u001b[0;32mbreak\u001b[0m\u001b[0;34m\u001b[0m\u001b[0m\n\u001b[1;32m    353\u001b[0m         \u001b[0;31m# Expensive\u001b[0m\u001b[0;34m\u001b[0m\u001b[0;34m\u001b[0m\u001b[0m\n\u001b[0;32m--> 354\u001b[0;31m         \u001b[0mq\u001b[0m \u001b[0;34m=\u001b[0m \u001b[0mA\u001b[0m\u001b[0;34m.\u001b[0m\u001b[0mdot\u001b[0m\u001b[0;34m(\u001b[0m\u001b[0md\u001b[0m\u001b[0;34m)\u001b[0m\u001b[0;34m\u001b[0m\u001b[0m\n\u001b[0m\u001b[1;32m    355\u001b[0m         \u001b[0ma\u001b[0m \u001b[0;34m=\u001b[0m \u001b[0mdelta_new\u001b[0m\u001b[0;34m/\u001b[0m\u001b[0mnp\u001b[0m\u001b[0;34m.\u001b[0m\u001b[0mlinalg\u001b[0m\u001b[0;34m.\u001b[0m\u001b[0mnorm\u001b[0m\u001b[0;34m(\u001b[0m\u001b[0md\u001b[0m\u001b[0;34m.\u001b[0m\u001b[0mT\u001b[0m\u001b[0;34m.\u001b[0m\u001b[0mdot\u001b[0m\u001b[0;34m(\u001b[0m\u001b[0mq\u001b[0m\u001b[0;34m)\u001b[0m\u001b[0;34m)\u001b[0m\u001b[0;34m\u001b[0m\u001b[0m\n\u001b[1;32m    356\u001b[0m         \u001b[0mprint\u001b[0m\u001b[0;34m(\u001b[0m\u001b[0ma\u001b[0m\u001b[0;34m)\u001b[0m\u001b[0;34m\u001b[0m\u001b[0m\n",
      "\u001b[0;31mKeyboardInterrupt\u001b[0m: "
     ]
    }
   ],
   "source": [
    "%time model_pcg_cifar = linalg.pcg(K_train_cifar, y_train_cifar_one_hot, max_iter=100, tol=1e-5, lambdav=1e-4)"
   ]
  },
  {
   "cell_type": "code",
   "execution_count": 96,
   "metadata": {
    "collapsed": false
   },
   "outputs": [
    {
     "name": "stdout",
     "output_type": "stream",
     "text": [
      "CPU times: user 27.3 s, sys: 340 ms, total: 27.6 s\n",
      "Wall time: 406 ms\n",
      "CPU times: user 4.55 s, sys: 440 ms, total: 4.99 s\n",
      "Wall time: 74.5 ms\n",
      "0.5661\n"
     ]
    }
   ],
   "source": [
    "%time train_acc_pcg_cifar = evaluate(K_train_cifar, model_pcg_cifar, y_train_cifar)\n",
    "%time test_acc_pcg_cifar = evaluate(K_test_cifar, model_pcg_cifar, y_test_cifar)\n",
    "print(test_acc_pcg_cifar)"
   ]
  },
  {
   "cell_type": "code",
   "execution_count": 39,
   "metadata": {
    "collapsed": false
   },
   "outputs": [
    {
     "name": "stdout",
     "output_type": "stream",
     "text": [
      "0.0855163514671\n",
      "Iter 0, NORM IS 244.20192899800213\n",
      "0.0486306175857\n",
      "Iter 1, NORM IS 213.21553555310464\n",
      "0.0453362813533\n",
      "Iter 2, NORM IS 184.57846177917\n",
      "0.0380738702256\n",
      "Iter 3, NORM IS 161.2357135596191\n",
      "0.0314042059285\n",
      "Iter 4, NORM IS 139.4982115754883\n",
      "0.0355553084862\n",
      "Iter 5, NORM IS 117.92797345225868\n",
      "0.0384316327012\n",
      "Iter 6, NORM IS 100.66339097106906\n",
      "0.0333221046267\n",
      "Iter 7, NORM IS 84.96019598941743\n",
      "0.037548573713\n",
      "Iter 8, NORM IS 71.31981412668209\n",
      "0.0405266354378\n",
      "Iter 9, NORM IS 59.13917291111017\n",
      "0.0400532896607\n",
      "Iter 10, NORM IS 49.080721905707904\n",
      "0.0348853177677\n",
      "Iter 11, NORM IS 41.6437744114345\n",
      "0.03206649756\n",
      "Iter 12, NORM IS 34.783567043373495\n",
      "0.0356270085015\n",
      "Iter 13, NORM IS 28.623954872205662\n",
      "0.038632907667\n",
      "Iter 14, NORM IS 23.260760932890726\n",
      "0.0401483240024\n",
      "Iter 15, NORM IS 18.90420870436777\n",
      "0.038482213799\n",
      "Iter 16, NORM IS 15.393016272043223\n",
      "0.0361625470453\n",
      "Iter 17, NORM IS 12.513839829481004\n",
      "0.0346380342709\n",
      "Iter 18, NORM IS 10.196739944377219\n",
      "0.035337690254\n",
      "Iter 19, NORM IS 8.196730038715819\n"
     ]
    }
   ],
   "source": [
    "model_pcg_mnist = linalg.pcg(K_train_mnist, y_train_mnist_one_hot, prc=prc_mnist, lambdav=1e-4)"
   ]
  },
  {
   "cell_type": "code",
   "execution_count": 40,
   "metadata": {
    "collapsed": false
   },
   "outputs": [
    {
     "name": "stdout",
     "output_type": "stream",
     "text": [
      "CPU times: user 51.3 s, sys: 388 ms, total: 51.7 s\n",
      "Wall time: 848 ms\n",
      "CPU times: user 9.11 s, sys: 504 ms, total: 9.62 s\n",
      "Wall time: 140 ms\n"
     ]
    }
   ],
   "source": [
    "%time train_acc_pcg_mnist = evaluate(K_train_mnist, model_pcg_mnist, y_train_mnist)\n",
    "%time test_acc_pcg_mnist = evaluate(K_test_mnist, model_pcg_mnist, y_test_mnist)"
   ]
  },
  {
   "cell_type": "code",
   "execution_count": 42,
   "metadata": {
    "collapsed": false
   },
   "outputs": [
    {
     "name": "stdout",
     "output_type": "stream",
     "text": [
      "0.999966666667\n"
     ]
    }
   ],
   "source": [
    "print(train_acc_pcg_mnist)"
   ]
  },
  {
   "cell_type": "code",
   "execution_count": 58,
   "metadata": {
    "collapsed": false
   },
   "outputs": [
    {
     "name": "stdout",
     "output_type": "stream",
     "text": [
      "0.00017409246026\n",
      "Iter 0, NORM IS 284.08201967338914\n",
      "0.000122872555648\n",
      "Iter 1, NORM IS 215.79621321939052\n",
      "0.000136680688995\n",
      "Iter 2, NORM IS 216.26059479848493\n",
      "0.000138040305048\n",
      "Iter 3, NORM IS 186.79883062545656\n",
      "0.000142030801601\n",
      "Iter 4, NORM IS 186.22054881794165\n",
      "0.000143432622713\n",
      "Iter 5, NORM IS 175.95061061362492\n",
      "0.000146436768411\n",
      "Iter 6, NORM IS 172.30354103367833\n",
      "0.000148560556209\n",
      "Iter 7, NORM IS 174.12368599463989\n",
      "0.000148306946005\n",
      "Iter 8, NORM IS 169.57799692608785\n",
      "0.000150718120911\n",
      "Iter 9, NORM IS 171.46451416047557\n",
      "0.000152245083861\n",
      "Iter 10, NORM IS 169.0583766719635\n",
      "0.000153901532131\n",
      "Iter 11, NORM IS 168.9650226926668\n",
      "0.000155426206766\n",
      "Iter 12, NORM IS 169.0850222117806\n",
      "0.00015921972123\n",
      "Iter 13, NORM IS 168.50749860058275\n",
      "0.000164970605135\n",
      "Iter 14, NORM IS 169.1590278858821\n",
      "0.00016941356606\n",
      "Iter 15, NORM IS 167.75970462328814\n",
      "0.000172534256313\n",
      "Iter 16, NORM IS 169.54466860261238\n",
      "0.000176028298486\n",
      "Iter 17, NORM IS 167.70860944293887\n",
      "0.0001804574137\n",
      "Iter 18, NORM IS 168.3762516935404\n",
      "0.0001826709472\n",
      "Iter 19, NORM IS 168.28649629632957\n",
      "0.0001886839906\n",
      "Iter 20, NORM IS 167.79579262613896\n",
      "0.000189497605294\n",
      "Iter 21, NORM IS 168.62549903982364\n",
      "0.00019018134144\n",
      "Iter 22, NORM IS 166.91435206011113\n",
      "0.000194916756888\n",
      "Iter 23, NORM IS 168.56151127572747\n",
      "0.000193029954842\n",
      "Iter 24, NORM IS 166.96981252059072\n",
      "0.000195145634276\n",
      "Iter 25, NORM IS 167.91618961506344\n",
      "0.000197431411702\n",
      "Iter 26, NORM IS 167.1934795687601\n",
      "0.000200473192592\n",
      "Iter 27, NORM IS 166.2529260393121\n",
      "0.000199706068738\n",
      "Iter 28, NORM IS 167.78661219763504\n",
      "0.000199758360658\n",
      "Iter 29, NORM IS 165.1453153361698\n",
      "0.000196835521065\n",
      "Iter 30, NORM IS 166.404941614934\n",
      "0.000197211569031\n",
      "Iter 31, NORM IS 166.40923187725713\n",
      "0.000195752340944\n",
      "Iter 32, NORM IS 163.25876334294608\n",
      "0.000194222962477\n",
      "Iter 33, NORM IS 165.20409359203117\n",
      "0.000191084930915\n",
      "Iter 34, NORM IS 165.08092488186395\n",
      "0.00019054329028\n",
      "Iter 35, NORM IS 161.02014866562303\n",
      "0.000187281578886\n",
      "Iter 36, NORM IS 162.31071662297842\n",
      "0.00018687550303\n",
      "Iter 37, NORM IS 161.12052959077045\n",
      "0.000188880950779\n",
      "Iter 38, NORM IS 155.03339352924607\n",
      "0.0001877594567\n",
      "Iter 39, NORM IS 159.45601547586992\n",
      "0.000190648269708\n",
      "Iter 40, NORM IS 155.96354556901994\n",
      "0.000190006111569\n",
      "Iter 41, NORM IS 154.35478168073197\n",
      "0.000190362915653\n",
      "Iter 42, NORM IS 150.56463612729897\n",
      "0.000192185174818\n",
      "Iter 43, NORM IS 146.4826151142914\n",
      "0.000190837086258\n",
      "Iter 44, NORM IS 146.56701087109613\n",
      "0.000188763948591\n",
      "Iter 45, NORM IS 139.7726126577342\n",
      "0.000188748008919\n",
      "Iter 46, NORM IS 140.21680882756843\n",
      "0.000188384799847\n",
      "Iter 47, NORM IS 132.6974427169022\n",
      "0.000184697932204\n",
      "Iter 48, NORM IS 132.332900706486\n",
      "0.000183119934714\n",
      "Iter 49, NORM IS 124.8585247185685\n",
      "0.000180738316744\n",
      "Iter 50, NORM IS 124.5712786344902\n",
      "0.000176889838561\n",
      "Iter 51, NORM IS 117.37770060969792\n",
      "0.000176024837956\n",
      "Iter 52, NORM IS 119.25069241113145\n",
      "0.000173296121329\n",
      "Iter 53, NORM IS 112.27110775841567\n",
      "0.000172634436056\n",
      "Iter 54, NORM IS 108.24197707166354\n",
      "0.000174195373768\n",
      "Iter 55, NORM IS 109.30209886683573\n",
      "0.000171772439496\n",
      "Iter 56, NORM IS 103.6078383120129\n",
      "0.000170415769543\n",
      "Iter 57, NORM IS 105.05355072775656\n",
      "0.000168879216608\n",
      "Iter 58, NORM IS 104.50788755423329\n",
      "0.000169523287681\n",
      "Iter 59, NORM IS 100.1649642942188\n",
      "0.000168619338409\n",
      "Iter 60, NORM IS 101.99030891118463\n",
      "0.000168868793719\n",
      "Iter 61, NORM IS 99.07659999802186\n",
      "0.00016801352308\n",
      "Iter 62, NORM IS 97.47554188555235\n",
      "0.000166262227517\n",
      "Iter 63, NORM IS 97.82518753199749\n",
      "0.000163553161603\n",
      "Iter 64, NORM IS 98.8285514648112\n",
      "0.000160646282811\n",
      "Iter 65, NORM IS 97.04791821508644\n",
      "0.000161012560178\n",
      "Iter 66, NORM IS 96.59039235036583\n",
      "0.000164733193118\n",
      "Iter 67, NORM IS 96.4182951781646\n",
      "0.000164995530487\n",
      "Iter 68, NORM IS 95.89606500766682\n",
      "0.000167744629436\n",
      "Iter 69, NORM IS 95.70844657614094\n",
      "0.000168968227359\n",
      "Iter 70, NORM IS 95.98036467930794\n",
      "0.000170043359255\n",
      "Iter 71, NORM IS 94.64157929147242\n",
      "0.000170115151688\n",
      "Iter 72, NORM IS 95.35160166060648\n"
     ]
    }
   ],
   "source": [
    "model_pcg_cifar = linalg.pcg(K_train_cifar, y_train_cifar_one_hot, prc=prc_cifar, lambdav=1e-4)"
   ]
  },
  {
   "cell_type": "code",
   "execution_count": 59,
   "metadata": {
    "collapsed": false
   },
   "outputs": [
    {
     "name": "stdout",
     "output_type": "stream",
     "text": [
      "CPU times: user 28.6 s, sys: 368 ms, total: 28.9 s\n",
      "Wall time: 423 ms\n",
      "CPU times: user 5.1 s, sys: 408 ms, total: 5.51 s\n",
      "Wall time: 77.4 ms\n"
     ]
    }
   ],
   "source": [
    "%time train_acc_pcg_cifar = evaluate(K_train_cifar, model_pcg_cifar, y_train_cifar)\n",
    "%time test_acc_pcg_cifar = evaluate(K_test_cifar, model_pcg_cifar, y_test_cifar)"
   ]
  },
  {
   "cell_type": "code",
   "execution_count": 60,
   "metadata": {
    "collapsed": false
   },
   "outputs": [
    {
     "name": "stdout",
     "output_type": "stream",
     "text": [
      "0.5303\n"
     ]
    }
   ],
   "source": [
    "print(test_acc_pcg_cifar)"
   ]
  },
  {
   "cell_type": "code",
   "execution_count": null,
   "metadata": {
    "collapsed": true
   },
   "outputs": [],
   "source": []
  }
 ],
 "metadata": {
  "kernelspec": {
   "display_name": "Python 3",
   "language": "python",
   "name": "python3"
  },
  "language_info": {
   "codemirror_mode": {
    "name": "ipython",
    "version": 3
   },
   "file_extension": ".py",
   "mimetype": "text/x-python",
   "name": "python",
   "nbconvert_exporter": "python",
   "pygments_lexer": "ipython3",
   "version": "3.6.0"
  }
 },
 "nbformat": 4,
 "nbformat_minor": 2
}
