{
 "cells": [
  {
   "cell_type": "code",
   "execution_count": 5,
   "metadata": {
    "collapsed": false
   },
   "outputs": [
    {
     "data": {
      "text/plain": [
       "<module 'distributed.bcd' from '../distributed/bcd.py'>"
      ]
     },
     "execution_count": 5,
     "metadata": {},
     "output_type": "execute_result"
    }
   ],
   "source": [
    "import sys\n",
    "sys.path.insert(0, \"..\")\n",
    "from utils import linalg\n",
    "from importlib import reload\n",
    "import distributed\n",
    "from distributed import kernel\n",
    "reload(distributed.sharded_matrix)\n",
    "from distributed.sharded_matrix import ShardedMatrix, ShardedSymmetricMatrix\n",
    "from distributed import matmul\n",
    "import numpy as np\n",
    "import pywren\n",
    "from utils import misc\n",
    "import math\n",
    "import concurrent.futures as fs\n",
    "import time\n",
    "import os\n",
    "from numba import jit\n",
    "import scipy.linalg\n",
    "from sklearn import metrics\n",
    "from scipy.linalg import LinAlgError\n",
    "\n",
    "from distributed import bcd\n",
    "reload(bcd)"
   ]
  },
  {
   "cell_type": "code",
   "execution_count": 6,
   "metadata": {
    "collapsed": true
   },
   "outputs": [],
   "source": [
    "notebook_stdout = sys.stdout\n",
    "notebook_stderr = sys.stderr\n",
    "terminal_stdout = open('/dev/stdout', 'w')\n",
    "terminal_stderr = open('/dev/stderr', 'w')"
   ]
  },
  {
   "cell_type": "code",
   "execution_count": 2,
   "metadata": {
    "collapsed": false
   },
   "outputs": [
    {
     "name": "stdout",
     "output_type": "stream",
     "text": [
      "CPU times: user 100 ms, sys: 12 ms, total: 112 ms\n",
      "Wall time: 184 ms\n"
     ]
    }
   ],
   "source": [
    "%time X_block_sharded = ShardedMatrix(\"X_block_scrambled_3_3_pool_12_12_patch_stride_1_1_block_no_normalize\",\\\n",
    "                                shard_size_0=4096,\\\n",
    "                                bucket=\"imagenet-raw\",\\\n",
    "                                n_jobs=32)"
   ]
  },
  {
   "cell_type": "code",
   "execution_count": 13,
   "metadata": {
    "collapsed": false
   },
   "outputs": [],
   "source": [
    "x = X_block_sharded.get_block(0,0)"
   ]
  },
  {
   "cell_type": "code",
   "execution_count": 6,
   "metadata": {
    "collapsed": true
   },
   "outputs": [],
   "source": [
    "x  = np.memmap(\"/dev/shm/block0\", dtype=\"float64\", mode=\"r\")"
   ]
  },
  {
   "cell_type": "code",
   "execution_count": 11,
   "metadata": {
    "collapsed": false
   },
   "outputs": [],
   "source": [
    "x = x.reshape(-1, 4096*4)"
   ]
  },
  {
   "cell_type": "code",
   "execution_count": 20,
   "metadata": {
    "collapsed": false
   },
   "outputs": [
    {
     "data": {
      "text/plain": [
       "1.1107832336425782"
      ]
     },
     "execution_count": 20,
     "metadata": {},
     "output_type": "execute_result"
    }
   ],
   "source": [
    "idxs = np.random.choice(4096, 4096, replace=False)\n",
    "one = idxs[:2048]\n",
    "two = idxs[2048:]\n",
    "\n",
    "\n",
    "0.01 * np.median(np.linalg.norm(x[one] - x[two], axis=1))"
   ]
  },
  {
   "cell_type": "code",
   "execution_count": 55,
   "metadata": {
    "collapsed": true
   },
   "outputs": [],
   "source": [
    "GAMMA = 1e0\n",
    "NUM_TRAIN = 1281167"
   ]
  },
  {
   "cell_type": "code",
   "execution_count": null,
   "metadata": {
    "collapsed": true
   },
   "outputs": [],
   "source": [
    "# This if branch should take 7 minutes\n",
    "%time X_block_0 = np.load(\"/home/ubuntu/imagenet-data/X_train_lift_3_3_pool_12_12_patch_stride_1.npy\")\n",
    "%time idxs = np.load(\"/home/ubuntu/imagenet-data/scramble_idxs.npy\")"
   ]
  },
  {
   "cell_type": "code",
   "execution_count": null,
   "metadata": {
    "collapsed": true
   },
   "outputs": [],
   "source": [
    "%time X_train = X_block_0.reshape(NUM_TRAIN, -1)[idxs]\n",
    "%time X_train = X_train.astype('float64')\n",
    "%time X_train_norms = np.power(np.linalg.norm(X_train, axis=1), 2)"
   ]
  },
  {
   "cell_type": "code",
   "execution_count": null,
   "metadata": {
    "collapsed": false
   },
   "outputs": [],
   "source": [
    "%time idxs = np.load(\"/home/ubuntu/imagenet-data/scramble_idxs.npy\")\n",
    "%time labels_train = np.load(\"/home/ubuntu/imagenet-data/imagenet_train_labels.npy\")[idxs]\n",
    "%time y_train = np.eye(1000)[labels_train.astype('int')]"
   ]
  },
  {
   "cell_type": "code",
   "execution_count": null,
   "metadata": {
    "collapsed": false
   },
   "outputs": [],
   "source": [
    "del X_block_0"
   ]
  },
  {
   "cell_type": "code",
   "execution_count": null,
   "metadata": {
    "collapsed": false
   },
   "outputs": [],
   "source": [
    "%time X_test = np.load(\"/home/ubuntu/imagenet-data/X_test_lift_3_3_pool_12_12_patch_stride_1.npy\")\n",
    "%time X_test = X_test.astype('float64')\n",
    "%time X_test_norms = np.linalg.norm(X_test, axis=1)\n",
    "%time labels_test = np.load(\"/home/ubuntu/imagenet-data/imagenet_test_labels.npy\")"
   ]
  },
  {
   "cell_type": "code",
   "execution_count": null,
   "metadata": {
    "collapsed": false
   },
   "outputs": [],
   "source": [
    "X_test /= np.sqrt(X_test.shape[1])\n",
    "X_train /= np.sqrt(X_test.shape[1])"
   ]
  },
  {
   "cell_type": "code",
   "execution_count": null,
   "metadata": {
    "collapsed": false
   },
   "outputs": [],
   "source": [
    "%time X_test_norms = np.power(np.linalg.norm(X_test, axis=1), 2)\n",
    "%time X_train_norms = np.power(np.linalg.norm(X_train, axis=1), 2)"
   ]
  },
  {
   "cell_type": "code",
   "execution_count": null,
   "metadata": {
    "collapsed": false
   },
   "outputs": [],
   "source": [
    "X_test.shape"
   ]
  },
  {
   "cell_type": "code",
   "execution_count": null,
   "metadata": {
    "collapsed": false
   },
   "outputs": [],
   "source": [
    "K_test = linalg.computeRBFGramMatrix(XTest=X_test, XTrain=X_train, gamma=1e0)"
   ]
  },
  {
   "cell_type": "code",
   "execution_count": 19,
   "metadata": {
    "collapsed": false
   },
   "outputs": [
    {
     "data": {
      "text/plain": [
       "0"
      ]
     },
     "execution_count": 19,
     "metadata": {},
     "output_type": "execute_result"
    }
   ],
   "source": [
    "np.argmax(y_pred_test, axis=1)]"
   ]
  },
  {
   "cell_type": "code",
   "execution_count": 12,
   "metadata": {
    "collapsed": true
   },
   "outputs": [],
   "source": [
    "model = np.load(\"/home/ubuntu/model_3_3_pool_12_12_patch_stride_1_gamma_1e0_lambda_1e-2_train_acc_0.249_next_block_acc_0.175.npy\")"
   ]
  },
  {
   "cell_type": "code",
   "execution_count": 13,
   "metadata": {
    "collapsed": false
   },
   "outputs": [],
   "source": [
    "y_pred_test = K_test.dot(model)"
   ]
  },
  {
   "cell_type": "code",
   "execution_count": 24,
   "metadata": {
    "collapsed": false
   },
   "outputs": [
    {
     "data": {
      "text/plain": [
       "0.11"
      ]
     },
     "execution_count": 24,
     "metadata": {},
     "output_type": "execute_result"
    }
   ],
   "source": [
    "metrics.accuracy_score(labels_test[:100], np.argmax(y_pred_test[:100], axis=1))"
   ]
  },
  {
   "cell_type": "code",
   "execution_count": 23,
   "metadata": {
    "collapsed": false
   },
   "outputs": [
    {
     "data": {
      "text/plain": [
       "array([  0,   0,   0,   0, 640, 111, 640, 278, 768, 640, 111, 105, 111,\n",
       "       640, 992, 995, 768,   0, 376,   0,   0, 105, 339, 873, 944,   0,\n",
       "         0, 685, 111, 278, 105, 105, 389, 105, 640, 640, 116, 111, 111,\n",
       "       111,   0, 179, 111, 640,   0, 278, 316, 179, 111, 389, 963,  83,\n",
       "       640, 640,  95, 959, 963, 109, 640, 352, 640, 352, 640, 987, 312,\n",
       "       339, 640, 278, 317, 640, 685, 495, 685, 121, 406,  83, 640,   6,\n",
       "        95, 142,  83, 116, 959,  55, 930, 986, 640, 959, 640, 963,  83,\n",
       "       640, 386, 138, 431,  83, 151,   0, 111, 138])"
      ]
     },
     "execution_count": 23,
     "metadata": {},
     "output_type": "execute_result"
    }
   ],
   "source": [
    "np.argmax(y_pred_test[:100], axis=1)"
   ]
  },
  {
   "cell_type": "code",
   "execution_count": 45,
   "metadata": {
    "collapsed": false
   },
   "outputs": [],
   "source": [
    "np.random.seed(0)\n",
    "small_test_idxs = np.random.choice(K_test.shape[0], 5000, replace=False)\n",
    "tiny_test_idxs = np.random.choice(K_test.shape[0], 500, replace=False)"
   ]
  },
  {
   "cell_type": "code",
   "execution_count": 26,
   "metadata": {
    "collapsed": false
   },
   "outputs": [],
   "source": [
    "K_test_tiny = K_test[tiny_test_idxs, :]"
   ]
  },
  {
   "cell_type": "code",
   "execution_count": null,
   "metadata": {
    "collapsed": true
   },
   "outputs": [],
   "source": []
  },
  {
   "cell_type": "code",
   "execution_count": 35,
   "metadata": {
    "collapsed": false
   },
   "outputs": [
    {
     "data": {
      "text/plain": [
       "array([[  5.19381529e-03,   2.41049127e-03,   1.00381841e-02, ...,\n",
       "          5.39413905e-03,   3.12326840e-02,   1.40564271e-03],\n",
       "       [  3.51658295e-04,   2.30393321e-04,   2.06582845e-03, ...,\n",
       "          8.77997388e-04,   1.59257323e-03,   5.35640941e-05],\n",
       "       [  2.72380756e-02,   2.94913158e-03,   9.83917214e-02, ...,\n",
       "          1.17548433e-02,   1.31568407e-02,   1.17339451e-03],\n",
       "       ..., \n",
       "       [  5.35817409e-02,   1.38668514e-01,   4.72292236e-02, ...,\n",
       "          2.66572831e-01,   6.62012709e-02,   3.39091975e-02],\n",
       "       [  1.01597791e-02,   1.06262018e-01,   2.10669543e-02, ...,\n",
       "          1.46890848e-01,   3.37509807e-03,   1.46583554e-03],\n",
       "       [  1.11348082e-01,   8.60037181e-03,   1.51008573e-01, ...,\n",
       "          1.96270832e-02,   8.88218639e-02,   1.88914472e-02]])"
      ]
     },
     "execution_count": 35,
     "metadata": {},
     "output_type": "execute_result"
    }
   ],
   "source": [
    "K_test_small"
   ]
  },
  {
   "cell_type": "code",
   "execution_count": 46,
   "metadata": {
    "collapsed": false
   },
   "outputs": [],
   "source": [
    "X_train_tiny = X_train[tiny_test_idxs,:]"
   ]
  },
  {
   "cell_type": "code",
   "execution_count": 82,
   "metadata": {
    "collapsed": false
   },
   "outputs": [
    {
     "data": {
      "text/plain": [
       "<module 'utils.linalg' from '../utils/linalg.py'>"
      ]
     },
     "execution_count": 82,
     "metadata": {},
     "output_type": "execute_result"
    }
   ],
   "source": [
    "reload(linalg)"
   ]
  },
  {
   "cell_type": "code",
   "execution_count": 48,
   "metadata": {
    "collapsed": false
   },
   "outputs": [
    {
     "name": "stderr",
     "output_type": "stream",
     "text": [
      "../utils/linalg.py:20: FutureWarning: comparison to `None` will result in an elementwise object comparison in the future.\n",
      "  if sq_norms_train == None:\n"
     ]
    },
    {
     "name": "stdout",
     "output_type": "stream",
     "text": [
      "CPU times: user 35min 40s, sys: 21 s, total: 36min 1s\n",
      "Wall time: 1min 2s\n"
     ]
    }
   ],
   "source": [
    "%time K_train_tiny = linalg.computeRBFGramMatrix(XTest=X_train_tiny, XTrain=X_train, gamma=1e0, sq_norms_train=X_train_norms)"
   ]
  },
  {
   "cell_type": "code",
   "execution_count": 50,
   "metadata": {
    "collapsed": false
   },
   "outputs": [
    {
     "name": "stdout",
     "output_type": "stream",
     "text": [
      "CPU times: user 2min 10s, sys: 1.65 s, total: 2min 11s\n",
      "Wall time: 2.58 s\n"
     ]
    }
   ],
   "source": [
    "%time y_train_tiny_pred = K_train_tiny.dot(model)"
   ]
  },
  {
   "cell_type": "code",
   "execution_count": 51,
   "metadata": {
    "collapsed": false
   },
   "outputs": [
    {
     "data": {
      "text/plain": [
       "0.089999999999999997"
      ]
     },
     "execution_count": 51,
     "metadata": {},
     "output_type": "execute_result"
    }
   ],
   "source": [
    "metrics.accuracy_score(labels_train[tiny_test_idxs], np.argmax(y_train_tiny_pred, axis=1))"
   ]
  },
  {
   "cell_type": "code",
   "execution_count": 53,
   "metadata": {
    "collapsed": false
   },
   "outputs": [],
   "source": [
    "from distributed import bcd"
   ]
  },
  {
   "cell_type": "code",
   "execution_count": 7,
   "metadata": {
    "collapsed": false
   },
   "outputs": [],
   "source": [
    "K_sharded = distributed.sharded_matrix.ShardedSymmetricMatrix(\"rbf(XXT(X_block_scrambled_3_3_pool_12_12_patch_stride_1_1_blocks_no_normalize_04.22.2017, 1.0)\",\n",
    "                                                              bucket=\"vaishaalpywrenlinalg\"\n",
    "                                                              )"
   ]
  },
  {
   "cell_type": "code",
   "execution_count": 38,
   "metadata": {
    "collapsed": false
   },
   "outputs": [],
   "source": [
    "\n",
    "futures = bcd.fast_kernel_column_block_async(K_sharded, col_blocks=[300])"
   ]
  },
  {
   "cell_type": "code",
   "execution_count": 39,
   "metadata": {
    "collapsed": false
   },
   "outputs": [
    {
     "data": {
      "text/plain": [
       "DoneAndNotDoneFutures(done={<Future at 0x7fb61249e860 state=finished returned tuple>, <Future at 0x7fb6124a4080 state=finished returned tuple>, <Future at 0x7fb61249e908 state=finished returned tuple>, <Future at 0x7fb6124a4128 state=finished returned tuple>, <Future at 0x7fb61249e9b0 state=finished returned tuple>, <Future at 0x7fb6124a41d0 state=finished returned tuple>, <Future at 0x7fb61249ea58 state=finished returned tuple>, <Future at 0x7fb6124a4278 state=finished returned tuple>, <Future at 0x7fb61249eb00 state=finished returned tuple>, <Future at 0x7fb6124a4320 state=finished returned tuple>, <Future at 0x7fb61249eba8 state=finished returned tuple>, <Future at 0x7fb6124a43c8 state=finished returned tuple>, <Future at 0x7fb61249ec50 state=finished returned tuple>, <Future at 0x7fb6124a4470 state=finished returned tuple>, <Future at 0x7fb61249ecf8 state=finished returned tuple>, <Future at 0x7fb6124a4518 state=finished returned tuple>, <Future at 0x7fb61249eda0 state=finished returned tuple>, <Future at 0x7fb61249ee48 state=finished returned tuple>, <Future at 0x7fb61249eef0 state=finished returned tuple>, <Future at 0x7fb640647ef0 state=finished returned tuple>, <Future at 0x7fb61249ef98 state=finished returned tuple>}, not_done=set())"
      ]
     },
     "execution_count": 39,
     "metadata": {},
     "output_type": "execute_result"
    }
   ],
   "source": [
    "fs.wait(futures)"
   ]
  },
  {
   "cell_type": "code",
   "execution_count": 40,
   "metadata": {
    "collapsed": false
   },
   "outputs": [],
   "source": [
    "K_block = bcd.load_mmap(*futures[0].result())"
   ]
  },
  {
   "cell_type": "code",
   "execution_count": 41,
   "metadata": {
    "collapsed": false
   },
   "outputs": [
    {
     "data": {
      "text/plain": [
       "(1281167, 4096)"
      ]
     },
     "execution_count": 41,
     "metadata": {},
     "output_type": "execute_result"
    }
   ],
   "source": [
    "K_block.shape"
   ]
  },
  {
   "cell_type": "code",
   "execution_count": 21,
   "metadata": {
    "collapsed": true
   },
   "outputs": [],
   "source": [
    "model = np.load(\"/home/ubuntu/model_3_3_pool_12_12_patch_stride_1_gamma_1e0_lambda_1e-2_train_acc_0.249_next_block_acc_0.175.npy\")"
   ]
  },
  {
   "cell_type": "code",
   "execution_count": 26,
   "metadata": {
    "collapsed": false
   },
   "outputs": [
    {
     "name": "stdout",
     "output_type": "stream",
     "text": [
      "CPU times: user 9min 42s, sys: 45min 10s, total: 54min 53s\n",
      "Wall time: 53.5 s\n"
     ]
    }
   ],
   "source": [
    "%time y_block_pred = K_block.T.dot(model)"
   ]
  },
  {
   "cell_type": "code",
   "execution_count": 31,
   "metadata": {
    "collapsed": false
   },
   "outputs": [],
   "source": [
    "y_train_block = labels_train[275*4096:276*4096]"
   ]
  },
  {
   "cell_type": "code",
   "execution_count": 33,
   "metadata": {
    "collapsed": false
   },
   "outputs": [
    {
     "data": {
      "text/plain": [
       "array([111, 111, 995, ..., 111, 111, 768])"
      ]
     },
     "execution_count": 33,
     "metadata": {},
     "output_type": "execute_result"
    }
   ],
   "source": [
    "np.argmax(y_block_pred, axis=1)"
   ]
  },
  {
   "cell_type": "code",
   "execution_count": 36,
   "metadata": {
    "collapsed": false
   },
   "outputs": [
    {
     "data": {
      "text/plain": [
       "0.00341796875"
      ]
     },
     "execution_count": 36,
     "metadata": {},
     "output_type": "execute_result"
    }
   ],
   "source": [
    "metrics.accuracy_score(np.argmax(y_block_pred, axis=1), y_train_block)"
   ]
  },
  {
   "cell_type": "code",
   "execution_count": 46,
   "metadata": {
    "collapsed": false
   },
   "outputs": [
    {
     "data": {
      "text/plain": [
       "0.999755859375"
      ]
     },
     "execution_count": 46,
     "metadata": {},
     "output_type": "execute_result"
    }
   ],
   "source": [
    "metrics.accuracy_score(np.argmax(model[275*4096:276*4096, :], axis=1), y_train_block)"
   ]
  },
  {
   "cell_type": "code",
   "execution_count": null,
   "metadata": {
    "collapsed": true
   },
   "outputs": [],
   "source": []
  }
 ],
 "metadata": {
  "kernelspec": {
   "display_name": "Python 3",
   "language": "python",
   "name": "python3"
  },
  "language_info": {
   "codemirror_mode": {
    "name": "ipython",
    "version": 3
   },
   "file_extension": ".py",
   "mimetype": "text/x-python",
   "name": "python",
   "nbconvert_exporter": "python",
   "pygments_lexer": "ipython3",
   "version": "3.6.0"
  }
 },
 "nbformat": 4,
 "nbformat_minor": 2
}
