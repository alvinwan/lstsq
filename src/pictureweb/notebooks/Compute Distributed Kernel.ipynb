{
 "cells": [
  {
   "cell_type": "code",
   "execution_count": 48,
   "metadata": {
    "collapsed": false
   },
   "outputs": [],
   "source": [
    "from importlib import reload\n",
    "import numpy as np\n",
    "import scipy.linalg\n",
    "import linalg\n",
    "reload(linalg)\n",
    "import pywren\n",
    "reload(pywren)\n",
    "import math\n",
    "import itertools\n",
    "import time\n",
    "import cloudpickle\n",
    "import importlib\n",
    "import sys\n",
    "from sklearn.datasets import fetch_mldata\n",
    "from itertools import groupby\n",
    "from operator import itemgetter\n",
    "from sklearn.kernel_approximation import RBFSampler, Nystroem\n",
    "from sklearn import metrics\n",
    "import sys"
   ]
  },
  {
   "cell_type": "code",
   "execution_count": 2,
   "metadata": {
    "collapsed": false
   },
   "outputs": [],
   "source": [
    "def generate_chunked_block_pairs(num_blocks, inner_chunk_size=10, outer_chunk_size=1000):\n",
    "    all_pairs = list(itertools.product(range(num_blocks), range(num_blocks)))\n",
    "    sorted_pairs = map(lambda x: tuple(sorted(x)), all_pairs)\n",
    "    dedup_sorted_pairs = list(set(sorted_pairs))\n",
    "    print(len(dedup_sorted_pairs))\n",
    "    return list(chunk(list(chunk(dedup_sorted_pairs, inner_chunk_size)), outer_chunk_size))\n",
    "\n",
    "def chunk(l, n):\n",
    "    \"\"\"Yield successive n-sized chunks from l.\"\"\"\n",
    "    for i in range(0, len(l), n):\n",
    "        yield l[i:i + n]"
   ]
  },
  {
   "cell_type": "code",
   "execution_count": 3,
   "metadata": {
    "collapsed": true
   },
   "outputs": [],
   "source": [
    "notebook_stdout = sys.stdout\n",
    "notebook_stderr = sys.stderr\n",
    "terminal_stdout = open('/dev/stdout', 'w')\n",
    "terminal_stderr = open('/dev/stderr', 'w')"
   ]
  },
  {
   "cell_type": "code",
   "execution_count": 5,
   "metadata": {
    "collapsed": false
   },
   "outputs": [],
   "source": [
    "train_data = np.load(\"imagenet_train_alexnet_fc7.npz\")"
   ]
  },
  {
   "cell_type": "code",
   "execution_count": 6,
   "metadata": {
    "collapsed": true
   },
   "outputs": [],
   "source": [
    "X_train = train_data[\"X_train\"]\n",
    "y_train = train_data[\"y_train\"]\n",
    "y_train_one_hot = np.eye(1000)[y_train]"
   ]
  },
  {
   "cell_type": "code",
   "execution_count": 7,
   "metadata": {
    "collapsed": false
   },
   "outputs": [],
   "source": [
    "X_test = np.load(\"imagenet_test_features_alexnet_fc7.npy\")\n",
    "y_test = np.load(\"imagenet_test_labels.npy\")"
   ]
  },
  {
   "cell_type": "code",
   "execution_count": 9,
   "metadata": {
    "collapsed": false
   },
   "outputs": [
    {
     "name": "stderr",
     "output_type": "stream",
     "text": [
      "/home/ubuntu/pictureweb/pywren_kernels/linalg.py:47: FutureWarning: comparison to `None` will result in an elementwise object comparison in the future.\n",
      "  assert(data != None)\n"
     ]
    },
    {
     "name": "stdout",
     "output_type": "stream",
     "text": [
      "Sharding matrix..... of shape (60000, 784)\n"
     ]
    }
   ],
   "source": [
    "mnist = fetch_mldata('MNIST original', data_home=\"/home/ubuntu/mnist\")\n",
    "X_train = mnist.data[:60000].astype('float32')/255.0\n",
    "y_train = mnist.target[:60000].astype('float32')\n",
    "X_test = mnist.data[60000:].astype('float32')/255.0\n",
    "y_test = mnist.target[60000:].astype('float32')\n",
    "y_train_one_hot = np.eye(10)[y_train.astype('int')]\n",
    "y_test_one_hot = np.eye(10)[y_test.astype('int')]\n",
    "X_train_sharded = linalg.ShardedMatrix(None, data=X_train, shard_size_0=4096, bucket=\"imagenet-raw\", reshard=True)"
   ]
  },
  {
   "cell_type": "code",
   "execution_count": 11,
   "metadata": {
    "collapsed": true
   },
   "outputs": [],
   "source": [
    "w = np.random.randn(X_train_sharded.shape[0], 10)"
   ]
  },
  {
   "cell_type": "code",
   "execution_count": 12,
   "metadata": {
    "collapsed": false
   },
   "outputs": [
    {
     "name": "stdout",
     "output_type": "stream",
     "text": [
      "[[-0.74587804  0.23294292  1.05410883 ..., -0.48711518  0.78845251\n",
      "  -0.73061744]\n",
      " [-0.55638939 -1.47432333 -1.02358317 ..., -0.63628306 -1.87291958\n",
      "   0.13081584]\n",
      " [ 1.0463728  -1.47212211 -0.14151974 ...,  0.55645552 -2.20675737\n",
      "   0.79011933]\n",
      " ..., \n",
      " [ 0.07007033 -1.18173646  1.19794094 ..., -1.70578322 -0.10774507\n",
      "  -1.59117371]\n",
      " [-1.03784157 -1.8032817   1.27078826 ..., -0.06654361 -0.49236904\n",
      "   0.69871186]\n",
      " [-1.88439331  0.27143937  0.16119008 ...,  0.43041581 -0.64569512\n",
      "   0.27369092]]\n",
      "Sharding matrix..... of shape (60000, 10)\n",
      "CPU times: user 212 ms, sys: 20 ms, total: 232 ms\n",
      "Wall time: 1.48 s\n"
     ]
    }
   ],
   "source": [
    "%time w_full = linalg.ShardedMatrix(hash_key=\"w_full\", data=w, shard_size_0=4096, bucket=\"imagenet-raw\", n_jobs=8, reshard=True)"
   ]
  },
  {
   "cell_type": "markdown",
   "metadata": {},
   "source": [
    "###### X_train_sharded"
   ]
  },
  {
   "cell_type": "code",
   "execution_count": 14,
   "metadata": {
    "collapsed": false
   },
   "outputs": [],
   "source": [
    "# set up pywren\n",
    "pwex = pywren.default_executor()"
   ]
  },
  {
   "cell_type": "code",
   "execution_count": 15,
   "metadata": {
    "collapsed": false
   },
   "outputs": [],
   "source": [
    "num_blocks = int(math.ceil(X_train_sharded.shape[0]/float(X_train_sharded.shard_size_0)))\n",
    "tasks_per_job = 5\n",
    "num_jobs = 2500"
   ]
  },
  {
   "cell_type": "code",
   "execution_count": null,
   "metadata": {
    "collapsed": true
   },
   "outputs": [],
   "source": []
  },
  {
   "cell_type": "code",
   "execution_count": 16,
   "metadata": {
    "collapsed": false
   },
   "outputs": [
    {
     "name": "stdout",
     "output_type": "stream",
     "text": [
      "120\n"
     ]
    }
   ],
   "source": []
  },
  {
   "cell_type": "code",
   "execution_count": 17,
   "metadata": {
    "collapsed": false
   },
   "outputs": [
    {
     "data": {
      "text/plain": [
       "1"
      ]
     },
     "execution_count": 17,
     "metadata": {},
     "output_type": "execute_result"
    }
   ],
   "source": [
    "len(chunked_blocks)"
   ]
  },
  {
   "cell_type": "code",
   "execution_count": 18,
   "metadata": {
    "collapsed": false
   },
   "outputs": [
    {
     "data": {
      "text/plain": [
       "4096"
      ]
     },
     "execution_count": 18,
     "metadata": {},
     "output_type": "execute_result"
    }
   ],
   "source": [
    "X_train_sharded.shard_size_0"
   ]
  },
  {
   "cell_type": "code",
   "execution_count": 25,
   "metadata": {
    "collapsed": true
   },
   "outputs": [],
   "source": [
    "all_futures = [] \n",
    "all_times = []\n",
    "gamma = 1e-3\n",
    "lambdav = 1e-2"
   ]
  },
  {
   "cell_type": "code",
   "execution_count": 1,
   "metadata": {
    "collapsed": false
   },
   "outputs": [],
   "source": [
    "def compute_kernel_pywren(pwex, X_train_sharded, num_blocks, tasks_per_job, num_jobs):\n",
    "    chunked_blocks = linalg.generate_chunked_block_pairs(num_blocks, tasks_per_job, num_jobs)\n",
    "    for c in chunked_blocks:\n",
    "        %time kernel_futures = pwex.map(lambda x: linalg.compute_rbf_kernel_blockwise(x, X_train_sharded, gamma), c)\n",
    "        %time pywren.wait(kernel_futures)    \n",
    "    K_sharded = linalg.compute_rbf_kernel_blockwise([(0,0)], X_train_sharded, gamma)[1]\n",
    "    return K_sharded"
   ]
  },
  {
   "cell_type": "code",
   "execution_count": 27,
   "metadata": {
    "collapsed": false
   },
   "outputs": [
    {
     "name": "stdout",
     "output_type": "stream",
     "text": [
      "(0, 0)\n"
     ]
    }
   ],
   "source": []
  },
  {
   "cell_type": "code",
   "execution_count": 30,
   "metadata": {
    "collapsed": false
   },
   "outputs": [
    {
     "name": "stdout",
     "output_type": "stream",
     "text": [
      "CPU times: user 1min 31s, sys: 9.18 s, total: 1min 40s\n",
      "Wall time: 1min 20s\n"
     ]
    }
   ],
   "source": [
    "%time K = linalg.computeRBFGramMatrix(X_train, X_train, gamma=gamma)"
   ]
  },
  {
   "cell_type": "code",
   "execution_count": 31,
   "metadata": {
    "collapsed": false
   },
   "outputs": [
    {
     "name": "stdout",
     "output_type": "stream",
     "text": [
      "CPU times: user 12.1 s, sys: 6.25 s, total: 18.4 s\n",
      "Wall time: 13.7 s\n"
     ]
    }
   ],
   "source": [
    "%time Kw = K.dot(w) "
   ]
  },
  {
   "cell_type": "code",
   "execution_count": 49,
   "metadata": {
    "collapsed": false
   },
   "outputs": [
    {
     "name": "stdout",
     "output_type": "stream",
     "text": [
      "15\n",
      "Num chunks 1\n",
      "Num total chunks 30\n",
      "Chunk 0\n",
      "map submitted now\n",
      "submit took 0.8258676528930664 seconds\n",
      "reduce took 1.551887035369873 seconds\n",
      "CPU times: user 2.22 s, sys: 144 ms, total: 2.36 s\n",
      "Wall time: 34.3 s\n"
     ]
    }
   ],
   "source": [
    "%time Kw_pywren = linalg.pywren_matrix_vector_multiply(pwex, K_sharded, w_full, col_chunk_size=10, row_chunk_size=2750)"
   ]
  },
  {
   "cell_type": "code",
   "execution_count": 51,
   "metadata": {
    "collapsed": false
   },
   "outputs": [
    {
     "data": {
      "text/plain": [
       "array([[ 293.29198925,   75.02265206,  144.6628545 , ...,  122.22586165,\n",
       "         -62.16654197,  156.41366619],\n",
       "       [ 290.72771094,   72.5283287 ,  143.16085971, ...,  125.811512  ,\n",
       "         -62.53056883,  155.42928891],\n",
       "       [ 286.87118989,   74.2538907 ,  139.71336284, ...,  117.02846291,\n",
       "         -59.36440179,  159.36465091],\n",
       "       ..., \n",
       "       [ 293.94330255,   87.41353989,  144.59438054, ...,  120.87943979,\n",
       "         -59.90967562,  168.35489431],\n",
       "       [ 296.54426493,   90.68159344,  142.29626835, ...,  120.44538073,\n",
       "         -60.81414137,  166.10904442],\n",
       "       [ 298.04472853,   92.27840419,  140.15581781, ...,  122.05156521,\n",
       "         -60.31618221,  167.06428624]])"
      ]
     },
     "execution_count": 51,
     "metadata": {},
     "output_type": "execute_result"
    }
   ],
   "source": [
    "Kw_pywren"
   ]
  },
  {
   "cell_type": "code",
   "execution_count": 54,
   "metadata": {
    "collapsed": false
   },
   "outputs": [
    {
     "data": {
      "text/plain": [
       "True"
      ]
     },
     "execution_count": 54,
     "metadata": {},
     "output_type": "execute_result"
    }
   ],
   "source": [
    "np.all(np.isclose(Kw_pywren, Kw))"
   ]
  },
  {
   "cell_type": "code",
   "execution_count": 16,
   "metadata": {
    "collapsed": false
   },
   "outputs": [
    {
     "name": "stdout",
     "output_type": "stream",
     "text": [
      "pywren.linalg/\n",
      "da82dc87092e9f88e489cb1dd64dbf4c20a5da0e\n"
     ]
    }
   ],
   "source": [
    "K_sharded = linalg.ShardedSymmetricMatrix(K_key, bucket=\"imagenet-raw\")"
   ]
  },
  {
   "cell_type": "code",
   "execution_count": 194,
   "metadata": {
    "collapsed": false
   },
   "outputs": [],
   "source": [
    "K_sharded.diag_offset = lambdav"
   ]
  },
  {
   "cell_type": "code",
   "execution_count": 19,
   "metadata": {
    "collapsed": false
   },
   "outputs": [],
   "source": [
    "K_sharded.shard_size_1 = 4096"
   ]
  },
  {
   "cell_type": "code",
   "execution_count": 20,
   "metadata": {
    "collapsed": false
   },
   "outputs": [
    {
     "data": {
      "text/plain": [
       "0"
      ]
     },
     "execution_count": 20,
     "metadata": {},
     "output_type": "execute_result"
    }
   ],
   "source": [
    "K_sharded.__write_header__()"
   ]
  },
  {
   "cell_type": "code",
   "execution_count": null,
   "metadata": {
    "collapsed": false
   },
   "outputs": [],
   "source": []
  },
  {
   "cell_type": "code",
   "execution_count": 217,
   "metadata": {
    "collapsed": false
   },
   "outputs": [],
   "source": [
    "\n",
    "    \n",
    "def pywren_matrix_vector_multiply_correct(pwex, K, x, col_chunk_size=2):\n",
    "    num_column_blocks = int(math.ceil(K.shape[0]/float(K.shard_size_0)))\n",
    "    num_row_blocks = int(math.ceil(K.shape[1]/float(K.shard_size_1)))\n",
    "    print(num_column_blocks)\n",
    "    \n",
    "    all_chunks, num_col_chunks = matrix_chunk(num_column_blocks, num_row_blocks, col_chunk_size)\n",
    "    print(len(all_chunks))\n",
    "    all_futures = pwex.map(lambda c: linalg.blocks_matrix_multiply(c, K, x), all_chunks)\n",
    "    print(\"Job submitted waiting now\")\n",
    "    pywren.wait(all_futures) \n",
    "    print(\"Done!\")\n",
    "    results = list(map(lambda x: x.result(), all_futures))\n",
    "    # chunk back into rows \n",
    "    # len(chunked_results) == K.shard_size_0 should be true\n",
    "    chunked_results = list(chunk(results, num_col_chunks))\n",
    "   \n",
    "    # sum across columns for each row\n",
    "    summed_results = list(map(lambda x: np.sum(x, axis=0), chunked_results))\n",
    "    \n",
    "    # stack and return\n",
    "    return np.vstack(summed_results )\n",
    "    "
   ]
  },
  {
   "cell_type": "code",
   "execution_count": 231,
   "metadata": {
    "collapsed": true
   },
   "outputs": [],
   "source": [
    "def pcg_pywren(A,b,pwex, prc=lambda x: x, max_iter=100, tol=1e-3):\n",
    "    i = 0 \n",
    "    # starting residual is b\n",
    "    r = b \n",
    "    d = prc(r)\n",
    "    delta_new = np.linalg.norm(r.T.dot(d))\n",
    "    delta_0 = delta_new\n",
    "    print(\"Delta 0 is {0}\".format(delta_0))\n",
    "    x = np.zeros((A.shape[0], b.shape[1]))\n",
    "    while (True):\n",
    "        if (i >= max_iter):\n",
    "            break\n",
    "            \n",
    "        if (delta_new < tol*delta_0):\n",
    "            break\n",
    "        # Expensive\n",
    "        print(\"Matrix multiply\")\n",
    "        d_sharded = linalg.ShardedMatrix(d, shard_size_0=A.shard_size_0, reshard=True, bucket=\"imagenet-raw\")\n",
    "        q = pywren_matrix_vector_multiply(pwex, A, d_sharded, col_chunk_size=50, row_chunk_size=2500)\n",
    "        a = delta_new/np.linalg.norm(d.T.dot(q))\n",
    "        print(a)\n",
    "        x = x + a*d\n",
    "        r = r - a*q\n",
    "        print(\"Iter {0}, NORM IS {1}\".format(i,np.linalg.norm(r)))\n",
    "        s = prc(r)\n",
    "        delta_old = delta_new\n",
    "        delta_new = np.linalg.norm(r.T.dot(s))\n",
    "        beta = delta_new/delta_old\n",
    "        d = s + beta * d\n",
    "        i = i + 1\n",
    "        \n",
    "    return x\n",
    "\n"
   ]
  },
  {
   "cell_type": "code",
   "execution_count": 36,
   "metadata": {
    "collapsed": false
   },
   "outputs": [],
   "source": [
    "def make_smart_precondition(X_train, lambdav, gamma, n_components):\n",
    "    '''Make a preconditioner kernel ridge regression by using nystroem\n",
    "       features  '''\n",
    "    \n",
    "    print(\"Computing Nystroem svd\")\n",
    "    nystroem = Nystroem(gamma=gamma, n_components=n_components)\n",
    "    nystroem.fit(X_train)\n",
    "    print(\"Computing Nystroem features\")\n",
    "    X_train_lift = nystroem.transform(X_train)\n",
    "    print(\"Computing ZTZ\")\n",
    "    ztz = X_train_lift.T.dot(X_train_lift)\n",
    "    ztz_reg = ztz + lambdav * np.eye(ztz.shape[0]).astype('float32')\n",
    "    print(\"Computing Cholesky\")\n",
    "    L = np.linalg.cholesky(ztz_reg)\n",
    "    U = scipy.linalg.solve(L, X_train_lift.T)\n",
    "    print(U.shape)\n",
    "    def prc(x):\n",
    "        return (1.0/lambdav)*(x - U.T.dot(U.dot(x)))\n",
    "    return prc, U"
   ]
  },
  {
   "cell_type": "code",
   "execution_count": 37,
   "metadata": {
    "collapsed": false
   },
   "outputs": [
    {
     "name": "stdout",
     "output_type": "stream",
     "text": [
      "Computing Nystroem svd\n",
      "Computing Nystroem features\n",
      "Computing ZTZ\n",
      "Computing Cholesky\n",
      "(8192, 1281167)\n",
      "CPU times: user 6h 26min 48s, sys: 48min 21s, total: 7h 15min 10s\n",
      "Wall time: 12min 22s\n"
     ]
    }
   ],
   "source": [
    "%time prc, U = make_smart_precondition(X_train, lambdav, gamma, n_components=8192)"
   ]
  },
  {
   "cell_type": "code",
   "execution_count": 159,
   "metadata": {
    "collapsed": true
   },
   "outputs": [],
   "source": [
    "def pcg(A,b,prc=lambda x: x, max_iter=100, tol=1e-3, reg=1e-3):\n",
    "    i = 0 \n",
    "    # starting residual is b\n",
    "    \n",
    "    r = b \n",
    "    d = prc(r)\n",
    "    delta_new = np.linalg.norm(r.T.dot(d))\n",
    "    delta_0 = delta_new\n",
    "    print(\"Delta 0 is {0}\".format(delta_0))\n",
    "    diag_indices = np.diag_indices(A.shape[0])\n",
    "    A[diag_indices] += reg\n",
    "    x = np.zeros((A.shape[0], b.shape[1]))\n",
    "    while (True):\n",
    "        print(\"Iter {0}\".format(i))\n",
    "        if (i >= max_iter):\n",
    "            break\n",
    "            \n",
    "        if (delta_new < tol*delta_0):\n",
    "            break\n",
    "        # Expensive\n",
    "        q = A.dot(d)\n",
    "        a = delta_new/np.linalg.norm(d.T.dot(q))\n",
    "        print(a)\n",
    "        x = x + a*d\n",
    "        if (i % 20 == 0):\n",
    "            r = b - A.dot(x)\n",
    "        else:\n",
    "            r = r - a*q\n",
    "        print(\"Iter {0}, NORM IS {1}\".format(i,np.linalg.norm(r)))\n",
    "        s = prc(r)\n",
    "        delta_old = delta_new\n",
    "        delta_new = np.linalg.norm(r.T.dot(s))\n",
    "        beta = delta_new/delta_old\n",
    "        d = s + beta * d\n",
    "        i = i + 1\n",
    "    A[diag_indices] -= reg\n",
    "    return x"
   ]
  },
  {
   "cell_type": "code",
   "execution_count": 157,
   "metadata": {
    "collapsed": false
   },
   "outputs": [],
   "source": [
    "%time K = linalg.computeRBFGramMatrix(X_train, X_train, gamma=gamma)"
   ]
  },
  {
   "cell_type": "code",
   "execution_count": 160,
   "metadata": {
    "collapsed": false
   },
   "outputs": [],
   "source": [
    "%time model = pcg(K, y_train_one_hot, prc, reg=lambdav, max_iter=1)"
   ]
  },
  {
   "cell_type": "code",
   "execution_count": 142,
   "metadata": {
    "collapsed": false
   },
   "outputs": [
    {
     "name": "stdout",
     "output_type": "stream",
     "text": [
      "CPU times: user 53 s, sys: 14 s, total: 1min 6s\n",
      "Wall time: 11.6 s\n"
     ]
    }
   ],
   "source": [
    "%time K_test = linalg.computeRBFGramMatrix(X_test, X_train, gamma=gamma)"
   ]
  },
  {
   "cell_type": "code",
   "execution_count": 143,
   "metadata": {
    "collapsed": false
   },
   "outputs": [
    {
     "name": "stdout",
     "output_type": "stream",
     "text": [
      "0.9804\n",
      "0.99775\n"
     ]
    }
   ],
   "source": [
    "y_test_pred = np.argmax(K_test.dot(model), axis=1)\n",
    "print(metrics.accuracy_score(y_test, y_test_pred))\n",
    "y_train_pred = np.argmax(K.dot(model), axis=1)\n",
    "print(metrics.accuracy_score(y_train, y_train_pred))"
   ]
  },
  {
   "cell_type": "code",
   "execution_count": 233,
   "metadata": {
    "collapsed": false
   },
   "outputs": [
    {
     "name": "stderr",
     "output_type": "stream",
     "text": [
      "WARNING:botocore.vendored.requests.packages.urllib3.connectionpool:Connection pool is full, discarding connection: vaishaalpywren.s3.amazonaws.com\n",
      "WARNING:botocore.vendored.requests.packages.urllib3.connectionpool:Connection pool is full, discarding connection: vaishaalpywren.s3.amazonaws.com\n",
      "WARNING:botocore.vendored.requests.packages.urllib3.connectionpool:Connection pool is full, discarding connection: vaishaalpywren.s3.amazonaws.com\n",
      "WARNING:botocore.vendored.requests.packages.urllib3.connectionpool:Connection pool is full, discarding connection: vaishaalpywren.s3.amazonaws.com\n",
      "WARNING:botocore.vendored.requests.packages.urllib3.connectionpool:Connection pool is full, discarding connection: vaishaalpywren.s3.amazonaws.com\n",
      "WARNING:botocore.vendored.requests.packages.urllib3.connectionpool:Connection pool is full, discarding connection: vaishaalpywren.s3.amazonaws.com\n",
      "WARNING:botocore.vendored.requests.packages.urllib3.connectionpool:Connection pool is full, discarding connection: vaishaalpywren.s3.amazonaws.com\n",
      "WARNING:botocore.vendored.requests.packages.urllib3.connectionpool:Connection pool is full, discarding connection: vaishaalpywren.s3.amazonaws.com\n",
      "WARNING:botocore.vendored.requests.packages.urllib3.connectionpool:Connection pool is full, discarding connection: vaishaalpywren.s3.amazonaws.com\n",
      "WARNING:botocore.vendored.requests.packages.urllib3.connectionpool:Connection pool is full, discarding connection: vaishaalpywren.s3.amazonaws.com\n",
      "WARNING:botocore.vendored.requests.packages.urllib3.connectionpool:Connection pool is full, discarding connection: vaishaalpywren.s3.amazonaws.com\n",
      "WARNING:botocore.vendored.requests.packages.urllib3.connectionpool:Connection pool is full, discarding connection: vaishaalpywren.s3.amazonaws.com\n",
      "WARNING:botocore.vendored.requests.packages.urllib3.connectionpool:Connection pool is full, discarding connection: vaishaalpywren.s3.amazonaws.com\n"
     ]
    }
   ],
   "source": [
    "sys.stdout = terminal_stdout\n",
    "%time model_pywren = pcg_pywren(K_sharded, y_train_one_hot, pwex, prc=prc, max_iter=10)"
   ]
  },
  {
   "cell_type": "code",
   "execution_count": 234,
   "metadata": {
    "collapsed": true
   },
   "outputs": [],
   "source": [
    "y_test_pred = np.argmax(K_test.dot(model_pywren), axis=1)\n",
    "print(metrics.accuracy_score(y_test, y_test_pred))\n",
    "y_train_pred = np.argmax(K.dot(model_pywren), axis=1)\n",
    "print(metrics.accuracy_score(y_train, y_train_pred))"
   ]
  },
  {
   "cell_type": "code",
   "execution_count": 21,
   "metadata": {
    "collapsed": false
   },
   "outputs": [
    {
     "ename": "NameError",
     "evalue": "name 'K_test' is not defined",
     "output_type": "error",
     "traceback": [
      "\u001b[0;31m---------------------------------------------------------------------------\u001b[0m",
      "\u001b[0;31mNameError\u001b[0m                                 Traceback (most recent call last)",
      "\u001b[0;32m<ipython-input-21-8bb73e7f5c4c>\u001b[0m in \u001b[0;36m<module>\u001b[0;34m()\u001b[0m\n\u001b[0;32m----> 1\u001b[0;31m \u001b[0mK_test\u001b[0m\u001b[0;34m.\u001b[0m\u001b[0mshape\u001b[0m\u001b[0;34m\u001b[0m\u001b[0m\n\u001b[0m",
      "\u001b[0;31mNameError\u001b[0m: name 'K_test' is not defined"
     ]
    }
   ],
   "source": [
    "%time "
   ]
  },
  {
   "cell_type": "code",
   "execution_count": 22,
   "metadata": {
    "collapsed": false
   },
   "outputs": [
    {
     "ename": "NameError",
     "evalue": "name 'prc' is not defined",
     "output_type": "error",
     "traceback": [
      "\u001b[0;31m---------------------------------------------------------------------------\u001b[0m",
      "\u001b[0;31mNameError\u001b[0m                                 Traceback (most recent call last)",
      "\u001b[0;32m<ipython-input-22-9b06ecb8f5cf>\u001b[0m in \u001b[0;36m<module>\u001b[0;34m()\u001b[0m\n\u001b[0;32m----> 1\u001b[0;31m \u001b[0mprc\u001b[0m\u001b[0;34m\u001b[0m\u001b[0m\n\u001b[0m",
      "\u001b[0;31mNameError\u001b[0m: name 'prc' is not defined"
     ]
    }
   ],
   "source": [
    "prc"
   ]
  },
  {
   "cell_type": "code",
   "execution_count": 28,
   "metadata": {
    "collapsed": true
   },
   "outputs": [],
   "source": [
    "import dill"
   ]
  },
  {
   "cell_type": "code",
   "execution_count": 33,
   "metadata": {
    "collapsed": false
   },
   "outputs": [],
   "source": [
    "import _pickle as cPickle"
   ]
  },
  {
   "cell_type": "code",
   "execution_count": 35,
   "metadata": {
    "collapsed": false
   },
   "outputs": [
    {
     "ename": "AttributeError",
     "evalue": "Can't pickle local object 'make_smart_precondition.<locals>.prc'",
     "output_type": "error",
     "traceback": [
      "\u001b[0;31m---------------------------------------------------------------------------\u001b[0m",
      "\u001b[0;31mAttributeError\u001b[0m                            Traceback (most recent call last)",
      "\u001b[0;32m<ipython-input-35-de4386a2eb60>\u001b[0m in \u001b[0;36m<module>\u001b[0;34m()\u001b[0m\n\u001b[0;32m----> 1\u001b[0;31m \u001b[0mprc_serialized\u001b[0m \u001b[0;34m=\u001b[0m \u001b[0mcPickle\u001b[0m\u001b[0;34m.\u001b[0m\u001b[0mdumps\u001b[0m\u001b[0;34m(\u001b[0m\u001b[0mprc\u001b[0m\u001b[0;34m)\u001b[0m\u001b[0;34m\u001b[0m\u001b[0m\n\u001b[0m",
      "\u001b[0;31mAttributeError\u001b[0m: Can't pickle local object 'make_smart_precondition.<locals>.prc'"
     ]
    }
   ],
   "source": [
    "prc_serialized = cPickle.dumps(prc)"
   ]
  },
  {
   "cell_type": "code",
   "execution_count": 38,
   "metadata": {
    "collapsed": true
   },
   "outputs": [],
   "source": [
    "np.save(\"U_{gamma}_{lambdav}\".format(gamma=gamma, lambdav=lambdav), U)"
   ]
  },
  {
   "cell_type": "code",
   "execution_count": null,
   "metadata": {
    "collapsed": true
   },
   "outputs": [],
   "source": []
  },
  {
   "cell_type": "code",
   "execution_count": 16,
   "metadata": {
    "collapsed": false
   },
   "outputs": [
    {
     "data": {
      "text/plain": [
       "'da82dc87092e9f88e489cb1dd64dbf4c20a5da0e'"
      ]
     },
     "execution_count": 16,
     "metadata": {},
     "output_type": "execute_result"
    }
   ],
   "source": [
    "linalg.make_rbf_hash(X_train_sharded.key, gamma=1e-5)"
   ]
  },
  {
   "cell_type": "code",
   "execution_count": null,
   "metadata": {
    "collapsed": true
   },
   "outputs": [],
   "source": []
  }
 ],
 "metadata": {
  "kernelspec": {
   "display_name": "Python 3",
   "language": "python",
   "name": "python3"
  },
  "language_info": {
   "codemirror_mode": {
    "name": "ipython",
    "version": 3
   },
   "file_extension": ".py",
   "mimetype": "text/x-python",
   "name": "python",
   "nbconvert_exporter": "python",
   "pygments_lexer": "ipython3",
   "version": "3.6.0"
  }
 },
 "nbformat": 4,
 "nbformat_minor": 0
}
