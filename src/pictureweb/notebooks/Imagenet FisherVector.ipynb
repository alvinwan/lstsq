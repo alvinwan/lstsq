{
 "cells": [
  {
   "cell_type": "code",
   "execution_count": 1,
   "metadata": {
    "collapsed": false
   },
   "outputs": [
    {
     "name": "stdout",
     "output_type": "stream",
     "text": [
      "Populating the interactive namespace from numpy and matplotlib\n"
     ]
    }
   ],
   "source": [
    "%pylab inline\n",
    "\n",
    "import pandas as pd\n",
    "from sklearn import metrics\n",
    "import scipy.linalg \n",
    "\n",
    "import sys\n",
    "sys.path.insert(0, \"..\")\n",
    "import pictureweb.distributed.sharded_matrix as sharded_matrix\n",
    "import pictureweb.distributed.distributed as D \n",
    "import pictureweb.utils.misc as misc\n",
    "from pictureweb.conv.coates_ng_help import grab_patches\n",
    "import boto3\n",
    "import io\n",
    "import concurrent.futures as fs\n",
    "import itertools"
   ]
  },
  {
   "cell_type": "code",
   "execution_count": 2,
   "metadata": {
    "collapsed": false
   },
   "outputs": [],
   "source": [
    "def convert_csv_to_matrix(fname, out_matrix_mmap, sidx, eidx, bucket=\"sift-lcs-fv-256\"):\n",
    "    out_matrix = out_matrix_mmap.load()\n",
    "    val_lines = open(fname).readlines()\n",
    "    features = np.array([[float(y) for y in x.split(\",\")[1:]] for x in val_lines])\n",
    "    image_names = [x.split(\",\")[0] for x in val_lines]\n",
    "    np.copyto(out_matrix[sidx:eidx, :], features)\n",
    "    return image_names\n",
    "    \n",
    "def convert_csvs_to_matrix_parallel(fnames, out_matrix, bucket=\"sift-lcs-fv-256\", workers=32):\n",
    "    futures = []\n",
    "    with fs.ProcessPoolExecutor(workers) as executor:\n",
    "        sidx = 0\n",
    "        for fname in fnames:\n",
    "            num_lines = sum(1 for line in open(fname))\n",
    "            eidx = sidx + num_lines\n",
    "            future = executor.submit(convert_csv_to_matrix, out_matrix_mmap=out_matrix, fname=fname, bucket=bucket, sidx=sidx, eidx=eidx)\n",
    "            sidx += num_lines\n",
    "            futures.append(future)\n",
    "        fs.wait(futures)\n",
    "        all_image_names = zip(*[f.result() for f in futures])\n",
    "        image_names = list(itertools.chain(*all_image_names))\n",
    "        return out_matrix, image_names\n",
    "        \n",
    "        "
   ]
  },
  {
   "cell_type": "code",
   "execution_count": 4,
   "metadata": {
    "collapsed": false
   },
   "outputs": [],
   "source": [
    "X_train_mmap_data = np.memmap(\"/dev/shm/matrix\", shape=(1281167, 65536), dtype=\"float64\", mode=\"w+\")"
   ]
  },
  {
   "cell_type": "code",
   "execution_count": 7,
   "metadata": {
    "collapsed": false
   },
   "outputs": [],
   "source": [
    "X_train_mmap = misc.MmapArray(X_train_mmap_data, mode=\"r+\")"
   ]
  },
  {
   "cell_type": "code",
   "execution_count": 8,
   "metadata": {
    "collapsed": true
   },
   "outputs": [],
   "source": [
    "import os"
   ]
  },
  {
   "cell_type": "code",
   "execution_count": 9,
   "metadata": {
    "collapsed": false
   },
   "outputs": [],
   "source": [
    "fnames = [\"/mnt/featuresTrain/{0}\".format(i) for i in os.listdir(\"/mnt/featuresTrain/\")]"
   ]
  },
  {
   "cell_type": "code",
   "execution_count": null,
   "metadata": {
    "collapsed": false
   },
   "outputs": [],
   "source": [
    "%time features_mmap, fnames = convert_csvs_to_matrix_parallel(fnames, out_matrix=X_train_mmap, workers=48)"
   ]
  },
  {
   "cell_type": "code",
   "execution_count": 170,
   "metadata": {
    "collapsed": false
   },
   "outputs": [
    {
     "data": {
      "text/plain": [
       "memmap([[ 0.        ,  0.        ,  0.        , ..., -0.0013374 ,\n",
       "         0.00121143, -0.0011459 ],\n",
       "       [ 0.        ,  0.        ,  0.        , ..., -0.00506777,\n",
       "        -0.00563276, -0.00386098],\n",
       "       [ 0.        ,  0.        ,  0.        , ..., -0.00381275,\n",
       "        -0.00012364,  0.00184895],\n",
       "       ..., \n",
       "       [ 0.        ,  0.        ,  0.        , ...,  0.        ,\n",
       "         0.        ,  0.        ],\n",
       "       [ 0.        ,  0.        ,  0.        , ...,  0.        ,\n",
       "         0.        ,  0.        ],\n",
       "       [ 0.        ,  0.        ,  0.        , ...,  0.        ,\n",
       "         0.        ,  0.        ]])"
      ]
     },
     "execution_count": 170,
     "metadata": {},
     "output_type": "execute_result"
    }
   ],
   "source": [
    "X_train_mmap_data"
   ]
  },
  {
   "cell_type": "code",
   "execution_count": 167,
   "metadata": {
    "collapsed": false
   },
   "outputs": [
    {
     "data": {
      "text/plain": [
       "array([ 0.        ,  0.        ,  0.        , ..., -0.00189959,\n",
       "       -0.00322859,  0.00203046])"
      ]
     },
     "execution_count": 167,
     "metadata": {},
     "output_type": "execute_result"
    }
   ],
   "source": [
    "features[0]"
   ]
  },
  {
   "cell_type": "code",
   "execution_count": null,
   "metadata": {
    "collapsed": true
   },
   "outputs": [],
   "source": []
  }
 ],
 "metadata": {
  "kernelspec": {
   "display_name": "Python 3",
   "language": "python",
   "name": "python3"
  },
  "language_info": {
   "codemirror_mode": {
    "name": "ipython",
    "version": 3
   },
   "file_extension": ".py",
   "mimetype": "text/x-python",
   "name": "python",
   "nbconvert_exporter": "python",
   "pygments_lexer": "ipython3",
   "version": "3.6.0"
  }
 },
 "nbformat": 4,
 "nbformat_minor": 2
}
