{
 "cells": [
  {
   "cell_type": "code",
   "execution_count": 55,
   "metadata": {
    "collapsed": false
   },
   "outputs": [
    {
     "name": "stdout",
     "output_type": "stream",
     "text": [
      "Populating the interactive namespace from numpy and matplotlib\n"
     ]
    },
    {
     "name": "stderr",
     "output_type": "stream",
     "text": [
      "WARNING: pylab import has clobbered these variables: ['diag', 'linalg']\n",
      "`%matplotlib` prevents importing * from pylab and numpy\n"
     ]
    }
   ],
   "source": [
    "%pylab inline\n",
    "from mnist import MNIST\n",
    "from sklearn import metrics\n",
    "from scipy import linalg\n",
    "from numba import jit\n",
    "from sklearn.kernel_approximation import RBFSampler, Nystroem\n"
   ]
  },
  {
   "cell_type": "code",
   "execution_count": 2,
   "metadata": {
    "collapsed": false
   },
   "outputs": [],
   "source": [
    "mndata = MNIST('/data/vaishaal/mnist')"
   ]
  },
  {
   "cell_type": "code",
   "execution_count": 3,
   "metadata": {
    "collapsed": false
   },
   "outputs": [],
   "source": [
    "train_data = mndata.load_training()\n",
    "test_data = mndata.load_testing()\n"
   ]
  },
  {
   "cell_type": "code",
   "execution_count": 24,
   "metadata": {
    "collapsed": true
   },
   "outputs": [],
   "source": [
    "N = 60000"
   ]
  },
  {
   "cell_type": "code",
   "execution_count": 25,
   "metadata": {
    "collapsed": false
   },
   "outputs": [],
   "source": [
    "X_train = np.array(train_data[0])[:N, :].astype('float32')/255.0\n",
    "y_train = np.array(train_data[1])[:N].astype('float32')\n",
    "X_test = np.array(test_data[0])[:N, :].astype('float32')/255.0\n",
    "y_test = np.array(test_data[1])[:N].astype('float32')\n",
    "y_train_one_hot = np.eye(10)[:N,:][y_train.astype('int')]\n",
    "y_test_one_hot = np.eye(10)[:N,:][y_test.astype('int')]\n"
   ]
  },
  {
   "cell_type": "code",
   "execution_count": 26,
   "metadata": {
    "collapsed": false
   },
   "outputs": [],
   "source": [
    "@jit\n",
    "def fast_exp(K):\n",
    "    for i in range(K.shape[0]):\n",
    "        for j in range(K.shape[1]):\n",
    "            K[i,j] = math.exp(K[i,j])\n",
    "    return K\n",
    "\n",
    "def computeDistanceMatrix(XTest, XTrain):\n",
    "    XTrain = XTrain.reshape(XTrain.shape[0], -1)\n",
    "    XTest = XTest.reshape(XTest.shape[0], -1)\n",
    "    XTrain_norms = (np.linalg.norm(XTrain, axis=1) ** 2)[:, np.newaxis]\n",
    "    XTest_norms = (np.linalg.norm(XTest, axis=1) ** 2)[:, np.newaxis]\n",
    "    K = XTest.dot(XTrain.T)\n",
    "    K *= -2\n",
    "    K += XTrain_norms.T\n",
    "    K += XTest_norms\n",
    "    return K\n",
    "\n",
    "def computeRBFGramMatrix(XTest, XTrain, gamma=1):\n",
    "    gamma = -1.0 * gamma\n",
    "    return fast_exp(gamma*computeDistanceMatrix(XTest, XTrain))\n"
   ]
  },
  {
   "cell_type": "code",
   "execution_count": 27,
   "metadata": {
    "collapsed": false
   },
   "outputs": [
    {
     "name": "stdout",
     "output_type": "stream",
     "text": [
      "CPU times: user 3min 2s, sys: 37.5 s, total: 3min 39s\n",
      "Wall time: 1min 17s\n"
     ]
    }
   ],
   "source": [
    "lambdav = 1e-5\n",
    "%time K = computeRBFGramMatrix(X_train, X_train, gamma=1e-3)"
   ]
  },
  {
   "cell_type": "code",
   "execution_count": 28,
   "metadata": {
    "collapsed": false
   },
   "outputs": [
    {
     "name": "stdout",
     "output_type": "stream",
     "text": [
      "CPU times: user 1min 7s, sys: 10.5 s, total: 1min 17s\n",
      "Wall time: 11.5 s\n",
      "CPU times: user 1h 45min 13s, sys: 17.5 s, total: 1h 45min 31s\n",
      "Wall time: 1min 55s\n",
      "CPU times: user 1min 10s, sys: 7.61 s, total: 1min 18s\n",
      "Wall time: 12.8 s\n",
      "CPU times: user 368 ms, sys: 4 ms, total: 372 ms\n",
      "Wall time: 10.4 ms\n",
      "CPU times: user 15.5 s, sys: 1.79 s, total: 17.3 s\n",
      "Wall time: 1.98 s\n",
      "CPU times: user 1.18 s, sys: 4 ms, total: 1.18 s\n",
      "Wall time: 20.4 ms\n",
      "('Train accuracy is ', 1.0)\n",
      "('Test accuracy is ', 0.9839)\n"
     ]
    }
   ],
   "source": [
    "%time K_test = computeRBFGramMatrix(X_test, X_train, gamma=1e-3)\n",
    "diag = np.diag_indices(K.shape[0])\n",
    "K[diag] += lambdav\n",
    "%time model = linalg.solve(K, y_train_one_hot, sym_pos=True)\n",
    "K[diag] -= lambdav\n",
    "%time y_train_pred = np.argmax(K.dot(model), axis=1)\n",
    "%time train_acc = metrics.accuracy_score(y_train, y_train_pred)\n",
    "%time y_test_pred = np.argmax(K_test.dot(model), axis=1)\n",
    "%time test_acc = metrics.accuracy_score(y_test, y_test_pred)\n",
    "print(\"Train accuracy is \", train_acc)\n",
    "print(\"Test accuracy is \", test_acc)"
   ]
  },
  {
   "cell_type": "code",
   "execution_count": 41,
   "metadata": {
    "collapsed": false
   },
   "outputs": [],
   "source": [
    "rbf_sampler = RBFSampler(gamma=1e-3, n_components=int(8192))\n",
    "rbf_sampler.fit(X_train)\n",
    "X_train_lift = rbf_sampler.transform(X_train)\n"
   ]
  },
  {
   "cell_type": "code",
   "execution_count": 56,
   "metadata": {
    "collapsed": true
   },
   "outputs": [],
   "source": [
    "nystroem = Nystroem(gamma=1e-3, n_components=int(8192))\n",
    "nystroem.fit(X_train)\n",
    "X_train_lift = nystroem.transform(X_train)"
   ]
  },
  {
   "cell_type": "code",
   "execution_count": 57,
   "metadata": {
    "collapsed": false
   },
   "outputs": [],
   "source": [
    "ztz = X_train_lift.T.dot(X_train_lift)"
   ]
  },
  {
   "cell_type": "code",
   "execution_count": 59,
   "metadata": {
    "collapsed": true
   },
   "outputs": [],
   "source": [
    "lambdav = 1e-3"
   ]
  },
  {
   "cell_type": "code",
   "execution_count": 60,
   "metadata": {
    "collapsed": false
   },
   "outputs": [],
   "source": [
    "ztz_reg = ztz + lambdav * np.eye(ztz.shape[0])"
   ]
  },
  {
   "cell_type": "code",
   "execution_count": 61,
   "metadata": {
    "collapsed": false
   },
   "outputs": [],
   "source": [
    "L = np.linalg.cholesky(ztz_reg)"
   ]
  },
  {
   "cell_type": "code",
   "execution_count": 62,
   "metadata": {
    "collapsed": false
   },
   "outputs": [],
   "source": [
    "U = linalg.solve(L, X_train_lift.T)"
   ]
  },
  {
   "cell_type": "code",
   "execution_count": 63,
   "metadata": {
    "collapsed": true
   },
   "outputs": [],
   "source": [
    "def make_smart_precondition(U, lambdav):\n",
    "    def prc(x):\n",
    "        return (1.0/lambdav)*(x - U.T.dot(U.dot(x)))\n",
    "    return prc"
   ]
  },
  {
   "cell_type": "code",
   "execution_count": 64,
   "metadata": {
    "collapsed": false
   },
   "outputs": [],
   "source": [
    "prc = make_smart_precondition(U, lambdav)"
   ]
  },
  {
   "cell_type": "code",
   "execution_count": 49,
   "metadata": {
    "collapsed": false
   },
   "outputs": [],
   "source": [
    "def pcg(A,b,prc=lambda x: x, max_iter=100, tol=1e-3):\n",
    "    i = 0 \n",
    "    x = np.zeros((A.shape[0], b.shape[1]))\n",
    "    r = b - A.dot(x)\n",
    "    d = prc(r)\n",
    "    delta_new = np.linalg.norm(r.T.dot(d))\n",
    "    delta_0 = delta_new\n",
    "    while (True):\n",
    "        if (i > max_iter):\n",
    "            break\n",
    "            \n",
    "        if (delta_new < tol*delta_0):\n",
    "            break\n",
    "        # Expensive\n",
    "        q = A.dot(d)\n",
    "        a = delta_new/np.linalg.norm(d.T.dot(q))\n",
    "        print(a)\n",
    "        x = x + a*d\n",
    "        if (i % 20 == 0):\n",
    "            r = b - A.dot(x)\n",
    "        else:\n",
    "            r = r - a*q\n",
    "        print(\"Iter {0}, NORM IS {1}\".format(i,np.linalg.norm(r)))\n",
    "        s = prc(r)\n",
    "        delta_old = delta_new\n",
    "        delta_new = np.linalg.norm(r.T.dot(s))\n",
    "        beta = delta_new/delta_old\n",
    "        d = s + beta * d\n",
    "        i = i + 1\n",
    "        \n",
    "    return x"
   ]
  },
  {
   "cell_type": "code",
   "execution_count": 66,
   "metadata": {
    "collapsed": false
   },
   "outputs": [
    {
     "name": "stdout",
     "output_type": "stream",
     "text": [
      "0.427935465476\n",
      "Iter 0, NORM IS 172.585521382\n",
      "0.233987469583\n",
      "Iter 1, NORM IS 147.286227611\n",
      "0.220515427451\n",
      "Iter 2, NORM IS 121.680271803\n",
      "0.18911861914\n",
      "Iter 3, NORM IS 90.9649462989\n",
      "0.191798083928\n",
      "Iter 4, NORM IS 64.1338569689\n",
      "0.223469005632\n",
      "Iter 5, NORM IS 43.8591329833\n",
      "0.224294187013\n",
      "Iter 6, NORM IS 29.7707836764\n",
      "0.225764341967\n",
      "Iter 7, NORM IS 19.8907038127\n",
      "0.23510759686\n",
      "Iter 8, NORM IS 12.6367083305\n",
      "0.237052369957\n",
      "Iter 9, NORM IS 7.66189253531\n",
      "0.239135278928\n",
      "Iter 10, NORM IS 4.53282214894\n",
      "0.241992418019\n",
      "Iter 11, NORM IS 3.16491866023\n",
      "0.28640988504\n",
      "Iter 12, NORM IS 3.16904420299\n",
      "0.325464618897\n",
      "Iter 13, NORM IS 3.53064535386\n",
      "0.319041943235\n",
      "Iter 14, NORM IS 3.73748838099\n",
      "0.317217908103\n",
      "Iter 15, NORM IS 3.41998280042\n",
      "0.330187506501\n",
      "Iter 16, NORM IS 2.60835553223\n",
      "0.323197209974\n",
      "Iter 17, NORM IS 2.07107251871\n",
      "0.296512927976\n",
      "Iter 18, NORM IS 2.03494879847\n",
      "0.267447319972\n",
      "Iter 19, NORM IS 1.98714636248\n",
      "0.268147308583\n",
      "Iter 20, NORM IS 1.64246125549\n",
      "0.278730534419\n",
      "Iter 21, NORM IS 1.21707887032\n",
      "0.310795165349\n",
      "Iter 22, NORM IS 0.786686847949\n",
      "0.351906983288\n",
      "Iter 23, NORM IS 0.574331304449\n",
      "0.338903908481\n",
      "Iter 24, NORM IS 0.808416985296\n",
      "0.329690553567\n",
      "Iter 25, NORM IS 1.17944896364\n",
      "0.351344404099\n",
      "Iter 26, NORM IS 1.39025404876\n",
      "0.326392869946\n",
      "Iter 27, NORM IS 1.33452881138\n",
      "0.292632210788\n",
      "Iter 28, NORM IS 1.07220349622\n",
      "0.281206842389\n",
      "Iter 29, NORM IS 0.707431608071\n",
      "0.273425647493\n",
      "Iter 30, NORM IS 0.405861162917\n",
      "0.268736247027\n",
      "Iter 31, NORM IS 0.229155625729\n",
      "0.249214269708\n",
      "Iter 32, NORM IS 0.148924377766\n",
      "0.230655855574\n",
      "Iter 33, NORM IS 0.129682751664\n",
      "CPU times: user 1h 11min 24s, sys: 5min 38s, total: 1h 17min 3s\n",
      "Wall time: 7min 41s\n",
      "CPU times: user 1min 35s, sys: 9.62 s, total: 1min 45s\n",
      "Wall time: 12.6 s\n",
      "CPU times: user 244 ms, sys: 20 ms, total: 264 ms\n",
      "Wall time: 9.89 ms\n",
      "CPU times: user 15.7 s, sys: 1.92 s, total: 17.6 s\n",
      "Wall time: 2.11 s\n",
      "CPU times: user 96 ms, sys: 0 ns, total: 96 ms\n",
      "Wall time: 1.38 ms\n",
      "('train', 1.0)\n",
      "('test', 0.98119999999999996)\n"
     ]
    }
   ],
   "source": [
    "lambdav = 1e-4\n",
    "diag = np.diag_indices(K.shape[0])\n",
    "K[diag] += lambdav\n",
    "%time model_pcg = pcg(K, y_train_one_hot, prc=prc, tol=1e-8)\n",
    "K[diag] -= lambdav\n",
    "%time y_train_pred_pcg = np.argmax(K.dot(model_pcg), axis=1)\n",
    "%time train_acc_pcg = metrics.accuracy_score(y_train, y_train_pred_pcg)\n",
    "%time y_test_pred_pcg = np.argmax(K_test.dot(model_pcg), axis=1)\n",
    "%time test_acc_pcg = metrics.accuracy_score(y_test, y_test_pred_pcg)\n",
    "print(\"train\", train_acc_pcg)\n",
    "print(\"test\", test_acc_pcg)"
   ]
  },
  {
   "cell_type": "code",
   "execution_count": 133,
   "metadata": {
    "collapsed": false
   },
   "outputs": [
    {
     "data": {
      "text/plain": [
       "array([[ 12.11929162,   1.00612057, -23.08249818, ..., -16.16399858,\n",
       "         32.46745129,   6.1376664 ],\n",
       "       [ 21.28909037,  15.13471109,  11.59349335, ..., -21.67821197,\n",
       "        -42.15139715, -34.35247609],\n",
       "       [ 16.08034455,   1.51985261, -10.84489735, ...,  -2.17286364,\n",
       "         -4.63042263,  37.44360878],\n",
       "       ..., \n",
       "       [-26.7195863 , -21.95883457,  10.77941463, ...,  21.97723103,\n",
       "        -22.39407978, -15.22387314],\n",
       "       [-43.06032465,  -2.12399655, -17.81350485, ..., -24.19085428,\n",
       "        -32.41879885,  16.42227703],\n",
       "       [-13.72993714, -13.2217883 , -22.21293338, ...,   0.96924659,\n",
       "         43.39213973,  17.48130907]])"
      ]
     },
     "execution_count": 133,
     "metadata": {},
     "output_type": "execute_result"
    }
   ],
   "source": [
    "\n"
   ]
  },
  {
   "cell_type": "code",
   "execution_count": 130,
   "metadata": {
    "collapsed": false
   },
   "outputs": [
    {
     "data": {
      "text/plain": [
       "array([[ 16.6915398 ,   7.75003048, -32.37554295, ..., -13.07163348,\n",
       "         45.97279594,  12.26993159],\n",
       "       [ 26.37911725,  31.90717808,  18.36265749, ..., -37.67729199,\n",
       "        -53.12838866, -72.47751839],\n",
       "       [ 18.00396607,  -3.24778434,  -9.45986685, ...,   3.2445086 ,\n",
       "         -7.99444691,  49.46757378],\n",
       "       ..., \n",
       "       [-81.27319881, -39.88923286,  47.41878124, ...,  20.73184882,\n",
       "        -34.52863183, -33.10110771],\n",
       "       [-56.82578615, -11.89142043, -28.38461232, ..., -39.20771207,\n",
       "        -42.33527191,  30.28163667],\n",
       "       [-26.07937586,  -5.3022592 , -26.90940086, ...,  10.23020306,\n",
       "         82.35308535,  24.48517809]])"
      ]
     },
     "execution_count": 130,
     "metadata": {},
     "output_type": "execute_result"
    }
   ],
   "source": [
    "model_pcg"
   ]
  },
  {
   "cell_type": "code",
   "execution_count": 187,
   "metadata": {
    "collapsed": false
   },
   "outputs": [
    {
     "data": {
      "text/plain": [
       "7.1071946180237653"
      ]
     },
     "execution_count": 187,
     "metadata": {},
     "output_type": "execute_result"
    }
   ],
   "source": [
    "np.linalg.norm(K.dot(model) - y_train_one_hot)"
   ]
  },
  {
   "cell_type": "code",
   "execution_count": 193,
   "metadata": {
    "collapsed": false
   },
   "outputs": [
    {
     "name": "stdout",
     "output_type": "stream",
     "text": [
      "Iter 0, NORM IS 8373.90311975\n",
      "Iter 2, NORM IS 3512.70395896\n",
      "Iter 4, NORM IS 4098.52870757\n",
      "Iter 6, NORM IS 3040.06515998\n",
      "Iter 8, NORM IS 1911.03286012\n",
      "Iter 10, NORM IS 2920.61537079\n",
      "Iter 12, NORM IS 2284.05415358\n"
     ]
    },
    {
     "ename": "KeyboardInterrupt",
     "evalue": "",
     "output_type": "error",
     "traceback": [
      "\u001b[1;31m---------------------------------------------------------------------------\u001b[0m",
      "\u001b[1;31mKeyboardInterrupt\u001b[0m                         Traceback (most recent call last)",
      "\u001b[1;32m<ipython-input-193-7e9122f786f6>\u001b[0m in \u001b[0;36m<module>\u001b[1;34m()\u001b[0m\n\u001b[0;32m      1\u001b[0m \u001b[0mdiag\u001b[0m \u001b[1;33m=\u001b[0m \u001b[0mnp\u001b[0m\u001b[1;33m.\u001b[0m\u001b[0mdiag_indices\u001b[0m\u001b[1;33m(\u001b[0m\u001b[0mK\u001b[0m\u001b[1;33m.\u001b[0m\u001b[0mshape\u001b[0m\u001b[1;33m[\u001b[0m\u001b[1;36m0\u001b[0m\u001b[1;33m]\u001b[0m\u001b[1;33m)\u001b[0m\u001b[1;33m\u001b[0m\u001b[0m\n\u001b[0;32m      2\u001b[0m \u001b[0mK\u001b[0m\u001b[1;33m[\u001b[0m\u001b[0mdiag\u001b[0m\u001b[1;33m]\u001b[0m \u001b[1;33m+=\u001b[0m \u001b[0mlambdav\u001b[0m\u001b[1;33m\u001b[0m\u001b[0m\n\u001b[1;32m----> 3\u001b[1;33m \u001b[0mmodel_pcg\u001b[0m \u001b[1;33m=\u001b[0m \u001b[0mpcg\u001b[0m\u001b[1;33m(\u001b[0m\u001b[0mK\u001b[0m\u001b[1;33m,\u001b[0m \u001b[0my_train_one_hot\u001b[0m\u001b[1;33m,\u001b[0m \u001b[0mprc\u001b[0m\u001b[1;33m)\u001b[0m\u001b[1;33m\u001b[0m\u001b[0m\n\u001b[0m\u001b[0;32m      4\u001b[0m \u001b[0mK\u001b[0m\u001b[1;33m[\u001b[0m\u001b[0mdiag\u001b[0m\u001b[1;33m]\u001b[0m \u001b[1;33m-=\u001b[0m \u001b[0mlambdav\u001b[0m\u001b[1;33m\u001b[0m\u001b[0m\n\u001b[0;32m      5\u001b[0m \u001b[1;33m\u001b[0m\u001b[0m\n",
      "\u001b[1;32m<ipython-input-192-8f284671a7b1>\u001b[0m in \u001b[0;36mpcg\u001b[1;34m(A, b, prc, max_iter, tol)\u001b[0m\n\u001b[0;32m     13\u001b[0m             \u001b[1;32mbreak\u001b[0m\u001b[1;33m\u001b[0m\u001b[0m\n\u001b[0;32m     14\u001b[0m         \u001b[1;31m# Expensive\u001b[0m\u001b[1;33m\u001b[0m\u001b[1;33m\u001b[0m\u001b[0m\n\u001b[1;32m---> 15\u001b[1;33m         \u001b[0mq\u001b[0m \u001b[1;33m=\u001b[0m \u001b[0mA\u001b[0m\u001b[1;33m.\u001b[0m\u001b[0mdot\u001b[0m\u001b[1;33m(\u001b[0m\u001b[0md\u001b[0m\u001b[1;33m)\u001b[0m\u001b[1;33m\u001b[0m\u001b[0m\n\u001b[0m\u001b[0;32m     16\u001b[0m         \u001b[0ma\u001b[0m \u001b[1;33m=\u001b[0m \u001b[0mdelta_new\u001b[0m\u001b[1;33m/\u001b[0m\u001b[0mnp\u001b[0m\u001b[1;33m.\u001b[0m\u001b[0mlinalg\u001b[0m\u001b[1;33m.\u001b[0m\u001b[0mnorm\u001b[0m\u001b[1;33m(\u001b[0m\u001b[0md\u001b[0m\u001b[1;33m.\u001b[0m\u001b[0mT\u001b[0m\u001b[1;33m.\u001b[0m\u001b[0mdot\u001b[0m\u001b[1;33m(\u001b[0m\u001b[0mq\u001b[0m\u001b[1;33m)\u001b[0m\u001b[1;33m)\u001b[0m\u001b[1;33m\u001b[0m\u001b[0m\n\u001b[0;32m     17\u001b[0m         \u001b[0mx\u001b[0m \u001b[1;33m=\u001b[0m \u001b[0mx\u001b[0m \u001b[1;33m+\u001b[0m \u001b[0ma\u001b[0m \u001b[1;33m*\u001b[0m \u001b[0md\u001b[0m\u001b[1;33m\u001b[0m\u001b[0m\n",
      "\u001b[1;31mKeyboardInterrupt\u001b[0m: "
     ]
    }
   ],
   "source": [
    "diag = np.diag_indices(K.shape[0])\n",
    "K[diag] += lambdav\n",
    "model_pcg = pcg(K, y_train_one_hot, prc)\n",
    "K[diag] -= lambdav\n",
    "\n"
   ]
  },
  {
   "cell_type": "code",
   "execution_count": 283,
   "metadata": {
    "collapsed": false
   },
   "outputs": [
    {
     "name": "stdout",
     "output_type": "stream",
     "text": [
      "Best Loss 1.35445623455e-12\n"
     ]
    }
   ],
   "source": [
    "C = np.random.randn(100, 100)\n",
    "A = C.dot(C.T)\n",
    "b = np.random.randn(100)[:, np.newaxis]\n",
    "x_star = linalg.solve(A,b, sym_pos=True)\n",
    "best_loss = np.linalg.norm(A.dot(x_star) - b)\n",
    "print(\"Best Loss {0}\".format(best_loss))\n",
    "\n"
   ]
  },
  {
   "cell_type": "code",
   "execution_count": 287,
   "metadata": {
    "collapsed": false
   },
   "outputs": [
    {
     "name": "stdout",
     "output_type": "stream",
     "text": [
      "[[ 0.99098699]]\n",
      "Iter 0, NORM IS 11.2308027437\n",
      "[[ 0.90530137]]\n",
      "Iter 1, NORM IS 11.7695625114\n",
      "[[ 0.8677003]]\n",
      "Iter 2, NORM IS 10.1201055657\n",
      "[[ 1.01794591]]\n",
      "Iter 3, NORM IS 9.99866759022\n",
      "[[ 0.97513655]]\n",
      "Iter 4, NORM IS 9.8048727723\n",
      "[[ 1.04644764]]\n",
      "Iter 5, NORM IS 9.11470792598\n",
      "[[ 0.90148744]]\n",
      "Iter 6, NORM IS 9.02572371894\n",
      "[[ 0.9786414]]\n",
      "Iter 7, NORM IS 8.19567561895\n",
      "[[ 1.27359459]]\n",
      "Iter 8, NORM IS 9.23396343101\n",
      "[[ 1.0882563]]\n",
      "Iter 9, NORM IS 7.81994169029\n",
      "[[ 1.11671018]]\n",
      "Iter 10, NORM IS 7.03060781678\n",
      "[[ 1.50916709]]\n",
      "Iter 11, NORM IS 9.15600478555\n",
      "[[ 1.0572362]]\n",
      "Iter 12, NORM IS 8.46698528519\n",
      "[[ 1.30749204]]\n",
      "Iter 13, NORM IS 9.37837960348\n",
      "[[ 0.9425041]]\n",
      "Iter 14, NORM IS 8.92225367645\n",
      "[[ 1.090044]]\n",
      "Iter 15, NORM IS 9.0294245054\n",
      "[[ 0.90858848]]\n",
      "Iter 16, NORM IS 7.15908258985\n",
      "[[ 1.07009403]]\n",
      "Iter 17, NORM IS 6.85877337402\n",
      "[[ 1.2126261]]\n",
      "Iter 18, NORM IS 6.47411917675\n",
      "[[ 1.09948019]]\n",
      "Iter 19, NORM IS 5.43949561152\n",
      "[[ 1.16770143]]\n",
      "Iter 20, NORM IS 5.17414988882\n",
      "[[ 1.27957141]]\n",
      "Iter 21, NORM IS 4.58703297842\n",
      "[[ 1.10063941]]\n",
      "Iter 22, NORM IS 4.40213680544\n",
      "[[ 0.90017924]]\n",
      "Iter 23, NORM IS 3.48533660324\n",
      "[[ 1.89436349]]\n",
      "Iter 24, NORM IS 4.1830248207\n",
      "[[ 1.13445665]]\n",
      "Iter 25, NORM IS 4.07041868644\n",
      "[[ 1.51907204]]\n",
      "Iter 26, NORM IS 3.81710880438\n",
      "[[ 1.39972025]]\n",
      "Iter 27, NORM IS 3.3586103308\n",
      "[[ 1.17175855]]\n",
      "Iter 28, NORM IS 3.12852305309\n",
      "[[ 1.51300983]]\n",
      "Iter 29, NORM IS 3.13762113173\n",
      "[[ 1.11040046]]\n",
      "Iter 30, NORM IS 2.58092606707\n",
      "[[ 1.22941176]]\n",
      "Iter 31, NORM IS 2.19873196837\n",
      "[[ 1.8560232]]\n",
      "Iter 32, NORM IS 2.4222449809\n",
      "[[ 1.87512636]]\n",
      "Iter 33, NORM IS 2.6517592378\n",
      "[[ 1.28401156]]\n",
      "Iter 34, NORM IS 2.23535622127\n",
      "[[ 1.38424748]]\n",
      "Iter 35, NORM IS 1.93372221418\n",
      "[[ 2.16483084]]\n",
      "Iter 36, NORM IS 2.40113806138\n",
      "[[ 1.9844896]]\n",
      "Iter 37, NORM IS 2.77526696281\n",
      "[[ 1.11878028]]\n",
      "Iter 38, NORM IS 3.59185274522\n",
      "[[ 0.74943275]]\n",
      "Iter 39, NORM IS 3.14065625044\n",
      "[[ 1.27693776]]\n",
      "Iter 40, NORM IS 3.03356315738\n",
      "[[ 1.56986243]]\n",
      "Iter 41, NORM IS 3.09585199266\n",
      "[[ 1.57895518]]\n",
      "Iter 42, NORM IS 2.86360969414\n",
      "[[ 1.20795622]]\n",
      "Iter 43, NORM IS 2.12106222575\n",
      "[[ 2.47932667]]\n",
      "Iter 44, NORM IS 2.64530554276\n",
      "[[ 2.00128416]]\n",
      "Iter 45, NORM IS 3.90849093181\n",
      "[[ 0.6415919]]\n",
      "Iter 46, NORM IS 3.14886522784\n",
      "[[ 1.48643789]]\n",
      "Iter 47, NORM IS 3.05522559331\n",
      "[[ 1.71100833]]\n",
      "Iter 48, NORM IS 2.58775260836\n",
      "[[ 1.67208331]]\n",
      "Iter 49, NORM IS 1.94853198975\n",
      "[[ 2.36763131]]\n",
      "Iter 50, NORM IS 2.38709341859\n",
      "[[ 1.9107838]]\n",
      "Iter 51, NORM IS 2.59663559248\n",
      "[[ 1.95908891]]\n",
      "Iter 52, NORM IS 2.45806143559\n",
      "[[ 1.70777939]]\n",
      "Iter 53, NORM IS 2.47136082472\n",
      "[[ 1.39208509]]\n",
      "Iter 54, NORM IS 2.98846645572\n",
      "[[ 0.76158263]]\n",
      "Iter 55, NORM IS 2.3860818625\n",
      "[[ 2.0787431]]\n",
      "Iter 56, NORM IS 2.66464848831\n",
      "[[ 1.05362857]]\n",
      "Iter 57, NORM IS 3.22424283542\n",
      "[[ 0.81874108]]\n",
      "Iter 58, NORM IS 2.28704339507\n",
      "[[ 1.84433131]]\n",
      "Iter 59, NORM IS 1.926286478\n",
      "[[ 2.06580147]]\n",
      "Iter 60, NORM IS 2.21208061813\n",
      "[[ 1.71482868]]\n",
      "Iter 61, NORM IS 2.09694827604\n",
      "[[ 3.3701157]]\n",
      "Iter 62, NORM IS 2.80084340112\n",
      "[[ 1.3540929]]\n",
      "Iter 63, NORM IS 4.0825460228\n",
      "[[ 0.99052768]]\n",
      "Iter 64, NORM IS 3.47803962119\n",
      "[[ 1.05032842]]\n",
      "Iter 65, NORM IS 4.4342913173\n",
      "[[ 0.7201977]]\n",
      "Iter 66, NORM IS 2.61964466241\n",
      "[[ 2.83104963]]\n",
      "Iter 67, NORM IS 2.97230976752\n",
      "[[ 0.94333732]]\n",
      "Iter 68, NORM IS 3.32553767084\n",
      "[[ 1.48057376]]\n",
      "Iter 69, NORM IS 2.9766021495\n",
      "[[ 2.4070701]]\n",
      "Iter 70, NORM IS 3.66417165271\n",
      "[[ 0.88429999]]\n",
      "Iter 71, NORM IS 3.654845997\n",
      "[[ 1.38364693]]\n",
      "Iter 72, NORM IS 2.41391334526\n",
      "[[ 2.82594879]]\n",
      "Iter 73, NORM IS 2.29710540467\n",
      "[[ 2.70603814]]\n",
      "Iter 74, NORM IS 2.40892211999\n",
      "[[ 1.6223956]]\n",
      "Iter 75, NORM IS 2.59821738289\n",
      "[[ 0.74589418]]\n",
      "Iter 76, NORM IS 1.83859385635\n",
      "[[ 2.07650339]]\n",
      "Iter 77, NORM IS 2.53488813366\n",
      "[[ 0.56288695]]\n",
      "Iter 78, NORM IS 1.88613848315\n",
      "[[ 2.17008164]]\n",
      "Iter 79, NORM IS 1.71049087405\n",
      "[[ 2.8355363]]\n",
      "Iter 80, NORM IS 2.65145947356\n",
      "[[ 1.14588383]]\n",
      "Iter 81, NORM IS 2.82350264215\n",
      "[[ 1.78154057]]\n",
      "Iter 82, NORM IS 1.47435487691\n",
      "[[ 2.37369738]]\n",
      "Iter 83, NORM IS 1.56619578513\n",
      "[[ 0.94788667]]\n",
      "Iter 84, NORM IS 1.58310410408\n",
      "[[ 1.79584879]]\n",
      "Iter 85, NORM IS 1.06692768667\n",
      "[[ 2.17595528]]\n",
      "Iter 86, NORM IS 1.28397253407\n",
      "[[ 0.90259043]]\n",
      "Iter 87, NORM IS 1.12750660414\n",
      "[[ 2.98275644]]\n",
      "Iter 88, NORM IS 2.07572984178\n",
      "[[ 0.62372621]]\n",
      "Iter 89, NORM IS 1.66862326538\n",
      "[[ 2.32895007]]\n",
      "Iter 90, NORM IS 1.67445725915\n",
      "[[ 0.57473969]]\n",
      "Iter 91, NORM IS 1.62365619871\n",
      "[[ 1.65397743]]\n",
      "Iter 92, NORM IS 1.85705955754\n",
      "[[ 0.88526632]]\n",
      "Iter 93, NORM IS 1.2973778277\n",
      "[[ 3.88309291]]\n",
      "Iter 94, NORM IS 1.27401253275\n",
      "[[ 3.87727706]]\n",
      "Iter 95, NORM IS 2.23580213917\n",
      "[[ 0.65944242]]\n",
      "Iter 96, NORM IS 1.58955125601\n",
      "[[ 2.06990635]]\n",
      "Iter 97, NORM IS 2.75031120671\n",
      "[[ 1.22747457]]\n",
      "Iter 98, NORM IS 1.63334385596\n",
      "[[ 4.7926372]]\n",
      "Iter 99, NORM IS 2.32807508853\n",
      "[[ 1.2561462]]\n",
      "Iter 100, NORM IS 2.56012598226\n",
      "[[ 2.09375818]]\n",
      "Iter 101, NORM IS 1.36475673845\n",
      "[[ 2.48850793]]\n",
      "Iter 102, NORM IS 2.66065524956\n",
      "[[ 1.94109057]]\n",
      "Iter 103, NORM IS 1.84087537768\n",
      "[[ 6.11457487]]\n",
      "Iter 104, NORM IS 3.99015714266\n",
      "[[ 0.94317034]]\n",
      "Iter 105, NORM IS 3.53304733473\n",
      "[[ 1.18323857]]\n",
      "Iter 106, NORM IS 4.69392022568\n",
      "[[ 0.93994311]]\n",
      "Iter 107, NORM IS 3.03322242761\n",
      "[[ 1.1423436]]\n",
      "Iter 108, NORM IS 4.63334406186\n",
      "[[ 3.93929888]]\n",
      "Iter 109, NORM IS 3.85712829188\n",
      "[[ 0.95802932]]\n",
      "Iter 110, NORM IS 3.62360891715\n",
      "[[ 1.57518507]]\n",
      "Iter 111, NORM IS 4.05566933046\n",
      "[[ 0.60197463]]\n",
      "Iter 112, NORM IS 2.03624763945\n",
      "[[ 3.77269708]]\n",
      "Iter 113, NORM IS 2.34182474871\n",
      "[[ 0.98803647]]\n",
      "Iter 114, NORM IS 2.47887933016\n",
      "[[ 0.83815821]]\n",
      "Iter 115, NORM IS 2.90251772738\n",
      "[[ 1.11156411]]\n",
      "Iter 116, NORM IS 0.960842057003\n",
      "[[ 1.14963014]]\n",
      "Iter 117, NORM IS 1.01678946623\n",
      "[[ 4.89512044]]\n",
      "Iter 118, NORM IS 1.84522655889\n",
      "[[ 0.56837009]]\n",
      "Iter 119, NORM IS 0.891526607437\n",
      "[[ 2.24204153]]\n",
      "Iter 120, NORM IS 1.57412701823\n",
      "[[ 3.055008]]\n",
      "Iter 121, NORM IS 1.52011757512\n",
      "[[ 0.489462]]\n",
      "Iter 122, NORM IS 1.12228249263\n",
      "[[ 2.65574174]]\n",
      "Iter 123, NORM IS 1.63008624203\n",
      "[[ 1.3860665]]\n",
      "Iter 124, NORM IS 0.751838916385\n",
      "[[ 6.73651858]]\n",
      "Iter 125, NORM IS 1.66718892699\n",
      "[[ 0.78015527]]\n",
      "Iter 126, NORM IS 0.94587988209\n",
      "[[ 1.03518359]]\n",
      "Iter 127, NORM IS 1.01207097891\n",
      "[[ 6.22625354]]\n",
      "Iter 128, NORM IS 1.82281562906\n",
      "[[ 1.05134346]]\n",
      "Iter 129, NORM IS 0.902711198806\n",
      "[[ 9.46552917]]\n",
      "Iter 130, NORM IS 1.99669118984\n",
      "[[ 0.69828802]]\n",
      "Iter 131, NORM IS 1.39770203132\n",
      "[[ 2.2128881]]\n",
      "Iter 132, NORM IS 2.67828273582\n",
      "[[ 2.70488342]]\n",
      "Iter 133, NORM IS 4.26815772883\n",
      "[[ 0.59318218]]\n",
      "Iter 134, NORM IS 1.67006622728\n",
      "[[ 1.3168762]]\n",
      "Iter 135, NORM IS 1.61970559537\n",
      "[[ 4.36321073]]\n",
      "Iter 136, NORM IS 1.9867263588\n",
      "[[ 0.38171724]]\n",
      "Iter 137, NORM IS 0.870360371961\n",
      "[[ 1.35869299]]\n",
      "Iter 138, NORM IS 1.30672724222\n",
      "[[ 3.16432794]]\n",
      "Iter 139, NORM IS 3.00430880561\n",
      "[[ 2.30164745]]\n",
      "Iter 140, NORM IS 5.81320590345\n",
      "[[ 0.56215253]]\n",
      "Iter 141, NORM IS 2.27650135969\n",
      "[[ 0.67296654]]\n",
      "Iter 142, NORM IS 0.631452177036\n",
      "[[ 1.30384032]]\n",
      "Iter 143, NORM IS 0.716237453066\n",
      "[[ 3.81100927]]\n",
      "Iter 144, NORM IS 1.9053790789\n",
      "[[ 11.76305238]]\n",
      "Iter 145, NORM IS 7.27508253833\n",
      "[[ 3.2737575]]\n",
      "Iter 146, NORM IS 4.78021407269\n",
      "[[ 0.78634048]]\n",
      "Iter 147, NORM IS 0.486718885047\n",
      "[[ 0.59808756]]\n",
      "Iter 148, NORM IS 0.260833792933\n",
      "[[ 0.4549265]]\n",
      "Iter 149, NORM IS 0.0405886738694\n",
      "[[ 0.54726299]]\n",
      "Iter 150, NORM IS 0.0215276227504\n",
      "[[ 0.41591318]]\n",
      "Iter 151, NORM IS 0.00332614968436\n",
      "[[ 0.79215349]]\n",
      "Iter 152, NORM IS 0.0016695748091\n",
      "[[ 0.43756773]]\n",
      "Iter 153, NORM IS 0.000370068783283\n"
     ]
    }
   ],
   "source": [
    "x_hat= pcg(A.astype('float64'), b.astype('float64'), max_iter=500, tol=1e-8, prc=make_jacobi(A))\n"
   ]
  },
  {
   "cell_type": "code",
   "execution_count": 272,
   "metadata": {
    "collapsed": false
   },
   "outputs": [
    {
     "data": {
      "text/plain": [
       "120004.79880076343"
      ]
     },
     "execution_count": 272,
     "metadata": {},
     "output_type": "execute_result"
    }
   ],
   "source": [
    "np.linalg.eigh(A)[0][-1]/np.linalg.eigh(A)[0][0]\n"
   ]
  },
  {
   "cell_type": "code",
   "execution_count": 330,
   "metadata": {
    "collapsed": false
   },
   "outputs": [],
   "source": [
    "prc = make_smart_precondition(U, lambdav)\n"
   ]
  },
  {
   "cell_type": "code",
   "execution_count": 332,
   "metadata": {
    "collapsed": false
   },
   "outputs": [],
   "source": [
    "K[diag] += lambdav\n",
    "K_precond = prc(K)\n",
    "K[diag] -= lambdav\n"
   ]
  },
  {
   "cell_type": "code",
   "execution_count": 278,
   "metadata": {
    "collapsed": false
   },
   "outputs": [],
   "source": [
    "make_jacobi = lambda A: lambda x: np.diag(1.0/np.diag(A)).dot(x)"
   ]
  },
  {
   "cell_type": "code",
   "execution_count": 335,
   "metadata": {
    "collapsed": false
   },
   "outputs": [
    {
     "data": {
      "text/plain": [
       "array([[ 1.00002003,  0.91609752,  0.88845819, ...,  0.93980008,\n",
       "         0.909823  ,  0.9062078 ],\n",
       "       [ 0.91609752,  1.00002003,  0.87876332, ...,  0.8972308 ,\n",
       "         0.93461108,  0.91334242],\n",
       "       [ 0.88845819,  0.87876332,  1.00002003, ...,  0.90333456,\n",
       "         0.90644521,  0.91350317],\n",
       "       ..., \n",
       "       [ 0.93980008,  0.8972308 ,  0.90333456, ...,  1.00002003,\n",
       "         0.91644579,  0.92249513],\n",
       "       [ 0.909823  ,  0.93461108,  0.90644521, ...,  0.91644579,\n",
       "         1.00002003,  0.92091209],\n",
       "       [ 0.9062078 ,  0.91334242,  0.91350317, ...,  0.92249513,\n",
       "         0.92091209,  1.00002003]], dtype=float32)"
      ]
     },
     "execution_count": 335,
     "metadata": {},
     "output_type": "execute_result"
    }
   ],
   "source": [
    "K"
   ]
  },
  {
   "cell_type": "code",
   "execution_count": 336,
   "metadata": {
    "collapsed": false
   },
   "outputs": [
    {
     "data": {
      "text/plain": [
       "array([[ 126.32953079,   24.80131255,   18.53930662, ...,   10.45374752,\n",
       "          17.15854103,   17.58860035],\n",
       "       [ -27.38576808,   14.67955008,  -13.2925559 , ...,  -17.38688579,\n",
       "         -31.37449067,  -13.64780354],\n",
       "       [ -24.94962828,  -13.68118589,  135.13791946, ...,  -27.84422298,\n",
       "         -11.66058836,  -16.80828129],\n",
       "       ..., \n",
       "       [  12.06810968,   19.23483916,    6.54706488, ...,   89.63225298,\n",
       "          13.21332112,   -0.53846274],\n",
       "       [ -55.77140386,  -62.8705892 ,  -50.24562781, ...,  -67.55667326,\n",
       "          42.8061752 ,  -62.03363452],\n",
       "       [  31.17048165,   44.00313194,   42.51842822, ...,   37.24262983,\n",
       "          38.88636276,  140.41297419]])"
      ]
     },
     "execution_count": 336,
     "metadata": {},
     "output_type": "execute_result"
    }
   ],
   "source": [
    "K_precond"
   ]
  },
  {
   "cell_type": "code",
   "execution_count": 319,
   "metadata": {
    "collapsed": false
   },
   "outputs": [
    {
     "data": {
      "text/plain": [
       "(array([  0.43124252,  -0.59161803,  -4.43608497,   0.40382292,\n",
       "          2.59269597,   2.08581895,  -3.28563846,   0.05231108,\n",
       "         -5.8735954 ,  -1.52592873,  -6.51319883,  -0.22595505,\n",
       "         -5.36357019,  -0.15650906,   5.32313735,  -1.00757367,\n",
       "         -5.28666333,  -1.86669584,  -0.8228179 ,   2.53977234,\n",
       "         -4.61418422,   2.60228249, -10.9269566 ,  -5.23378378,\n",
       "         -1.76105112,   6.26615143,  -7.06527465,   0.84729513,\n",
       "         -4.80899157,  -0.03069856,  -9.53908601,  -7.82306194,\n",
       "          4.61542938,  -1.80526501,   1.2188593 ,  -3.36736884,\n",
       "          2.31664223,   1.49768499,   3.31248111, -10.00050497,\n",
       "          0.76805315,  -5.56378985,  -0.33040718,  -3.0503181 ,\n",
       "          3.58824832,  -1.85064305,   3.53101908,  -1.32833745,\n",
       "         -5.62645798,  -4.37651291,  -1.85382498,   6.00855843,\n",
       "         -1.28122811,   7.03567425,  -1.98708793,   3.97086537,\n",
       "          9.92192469,   3.14431783,  -4.07153846,  10.11675898,\n",
       "          9.89657684,   0.70097871,   2.09536706,   1.1971223 ,\n",
       "         -9.79652723,  -1.31735477,   6.02941361,  -1.91571932,\n",
       "         -3.79435905,  -3.54481093,   1.43681222,  -5.3020212 ,\n",
       "         -2.59209848,  -2.45213089,   4.35457506,  -5.19639268,\n",
       "         -4.7736094 ,  -0.7062824 ,   1.30272312,  -4.03427075,\n",
       "          1.08905629,  -3.65190114,  -5.1774998 ,   1.54534531,\n",
       "         -1.99961507,   0.85555784,   0.08443694,  -6.54922222,\n",
       "         -4.92388623,  -0.01247634,   1.14634957,  -1.72074124,\n",
       "         -2.49313313,  -7.48204725,  -4.23575162,  -0.24336661,\n",
       "         -2.24938998,   4.2937974 ,   1.14491085,   1.74589388]), 150)"
      ]
     },
     "execution_count": 319,
     "metadata": {},
     "output_type": "execute_result"
    }
   ],
   "source": []
  },
  {
   "cell_type": "code",
   "execution_count": 320,
   "metadata": {
    "collapsed": false
   },
   "outputs": [
    {
     "data": {
      "text/plain": [
       "array([[  0.43124247],\n",
       "       [ -0.59161792],\n",
       "       [ -4.43608521],\n",
       "       [  0.40382382],\n",
       "       [  2.59269636],\n",
       "       [  2.08581862],\n",
       "       [ -3.28563838],\n",
       "       [  0.05231155],\n",
       "       [ -5.87359503],\n",
       "       [ -1.52592856],\n",
       "       [ -6.51319878],\n",
       "       [ -0.22595468],\n",
       "       [ -5.3635701 ],\n",
       "       [ -0.15650947],\n",
       "       [  5.32313707],\n",
       "       [ -1.00757386],\n",
       "       [ -5.28666412],\n",
       "       [ -1.86669614],\n",
       "       [ -0.82281763],\n",
       "       [  2.53977249],\n",
       "       [ -4.61418437],\n",
       "       [  2.60228219],\n",
       "       [-10.9269571 ],\n",
       "       [ -5.23378387],\n",
       "       [ -1.76105139],\n",
       "       [  6.26615149],\n",
       "       [ -7.06527434],\n",
       "       [  0.84729505],\n",
       "       [ -4.80899214],\n",
       "       [ -0.03069899],\n",
       "       [ -9.53908438],\n",
       "       [ -7.8230622 ],\n",
       "       [  4.61542936],\n",
       "       [ -1.80526483],\n",
       "       [  1.21885889],\n",
       "       [ -3.36736863],\n",
       "       [  2.31664184],\n",
       "       [  1.49768468],\n",
       "       [  3.31248095],\n",
       "       [-10.00050497],\n",
       "       [  0.76805347],\n",
       "       [ -5.56378956],\n",
       "       [ -0.33040758],\n",
       "       [ -3.05031831],\n",
       "       [  3.58824822],\n",
       "       [ -1.85064331],\n",
       "       [  3.53101953],\n",
       "       [ -1.32833781],\n",
       "       [ -5.62645842],\n",
       "       [ -4.37651276],\n",
       "       [ -1.85382533],\n",
       "       [  6.00855803],\n",
       "       [ -1.28122869],\n",
       "       [  7.03567371],\n",
       "       [ -1.98708856],\n",
       "       [  3.97086527],\n",
       "       [  9.92192529],\n",
       "       [  3.14431672],\n",
       "       [ -4.07153848],\n",
       "       [ 10.11675879],\n",
       "       [  9.89657695],\n",
       "       [  0.7009787 ],\n",
       "       [  2.0953674 ],\n",
       "       [  1.19712201],\n",
       "       [ -9.79652775],\n",
       "       [ -1.31735433],\n",
       "       [  6.02941359],\n",
       "       [ -1.91572054],\n",
       "       [ -3.79435865],\n",
       "       [ -3.54481137],\n",
       "       [  1.43681233],\n",
       "       [ -5.30202163],\n",
       "       [ -2.59209872],\n",
       "       [ -2.45213139],\n",
       "       [  4.35457454],\n",
       "       [ -5.19639264],\n",
       "       [ -4.77360917],\n",
       "       [ -0.7062817 ],\n",
       "       [  1.30272307],\n",
       "       [ -4.03427107],\n",
       "       [  1.08905628],\n",
       "       [ -3.65190119],\n",
       "       [ -5.17749982],\n",
       "       [  1.54534524],\n",
       "       [ -1.99961518],\n",
       "       [  0.85555786],\n",
       "       [  0.08443684],\n",
       "       [ -6.54922242],\n",
       "       [ -4.92388587],\n",
       "       [ -0.01247654],\n",
       "       [  1.14634932],\n",
       "       [ -1.72074113],\n",
       "       [ -2.49313334],\n",
       "       [ -7.48204672],\n",
       "       [ -4.23575136],\n",
       "       [ -0.24336653],\n",
       "       [ -2.24939023],\n",
       "       [  4.29379724],\n",
       "       [  1.14491077],\n",
       "       [  1.74589388]])"
      ]
     },
     "execution_count": 320,
     "metadata": {},
     "output_type": "execute_result"
    }
   ],
   "source": [
    "x_star"
   ]
  },
  {
   "cell_type": "code",
   "execution_count": 324,
   "metadata": {
    "collapsed": false
   },
   "outputs": [],
   "source": [
    "K_approx = X_train_lift.dot(X_train_lift.T)"
   ]
  },
  {
   "cell_type": "code",
   "execution_count": 326,
   "metadata": {
    "collapsed": false
   },
   "outputs": [
    {
     "data": {
      "text/plain": [
       "array([[ 1.00036362,  0.91586422,  0.893553  , ...,  0.94035426,\n",
       "         0.91390355,  0.91031235],\n",
       "       [ 0.91586422,  0.99813358,  0.88444416, ...,  0.89827786,\n",
       "         0.93629677,  0.91488062],\n",
       "       [ 0.893553  ,  0.88444416,  1.00594779, ...,  0.90540712,\n",
       "         0.91315245,  0.92042929],\n",
       "       ..., \n",
       "       [ 0.94035426,  0.89827786,  0.90540712, ...,  1.00202177,\n",
       "         0.91896751,  0.9253971 ],\n",
       "       [ 0.91390355,  0.93629677,  0.91315245, ...,  0.91896751,\n",
       "         1.00401308,  0.92503986],\n",
       "       [ 0.91031235,  0.91488062,  0.92042929, ...,  0.9253971 ,\n",
       "         0.92503986,  1.00409796]])"
      ]
     },
     "execution_count": 326,
     "metadata": {},
     "output_type": "execute_result"
    }
   ],
   "source": [
    "K_approx"
   ]
  },
  {
   "cell_type": "code",
   "execution_count": 327,
   "metadata": {
    "collapsed": false
   },
   "outputs": [
    {
     "data": {
      "text/plain": [
       "array([[ 1.00002003,  0.91609752,  0.88845819, ...,  0.93980008,\n",
       "         0.909823  ,  0.9062078 ],\n",
       "       [ 0.91609752,  1.00002003,  0.87876332, ...,  0.8972308 ,\n",
       "         0.93461108,  0.91334242],\n",
       "       [ 0.88845819,  0.87876332,  1.00002003, ...,  0.90333456,\n",
       "         0.90644521,  0.91350317],\n",
       "       ..., \n",
       "       [ 0.93980008,  0.8972308 ,  0.90333456, ...,  1.00002003,\n",
       "         0.91644579,  0.92249513],\n",
       "       [ 0.909823  ,  0.93461108,  0.90644521, ...,  0.91644579,\n",
       "         1.00002003,  0.92091209],\n",
       "       [ 0.9062078 ,  0.91334242,  0.91350317, ...,  0.92249513,\n",
       "         0.92091209,  1.00002003]], dtype=float32)"
      ]
     },
     "execution_count": 327,
     "metadata": {},
     "output_type": "execute_result"
    }
   ],
   "source": [
    "K"
   ]
  },
  {
   "cell_type": "code",
   "execution_count": 58,
   "metadata": {
    "collapsed": false
   },
   "outputs": [
    {
     "data": {
      "text/plain": [
       "(8192, 8192)"
      ]
     },
     "execution_count": 58,
     "metadata": {},
     "output_type": "execute_result"
    }
   ],
   "source": [
    "ztz.shape"
   ]
  },
  {
   "cell_type": "code",
   "execution_count": null,
   "metadata": {
    "collapsed": true
   },
   "outputs": [],
   "source": []
  }
 ],
 "metadata": {
  "kernelspec": {
   "display_name": "Python 3",
   "language": "python",
   "name": "python3"
  },
  "language_info": {
   "codemirror_mode": {
    "name": "ipython",
    "version": 3
   },
   "file_extension": ".py",
   "mimetype": "text/x-python",
   "name": "python",
   "nbconvert_exporter": "python",
   "pygments_lexer": "ipython3",
   "version": "3.6.0"
  }
 },
 "nbformat": 4,
 "nbformat_minor": 0
}
