{
 "cells": [
  {
   "cell_type": "code",
   "execution_count": 14,
   "metadata": {
    "collapsed": false
   },
   "outputs": [],
   "source": [
    "import sys\n",
    "from importlib import reload\n",
    "sys.path.insert(0, \"..\")\n",
    "import utils.misc as misc\n",
    "import distributed\n",
    "import distributed.sharded_matrix\n",
    "reload(distributed.sharded_matrix)\n",
    "from distributed.sharded_matrix import ShardedMatrix, ShardedSymmetricMatrix\n",
    "from distributed import kernel, matmul, bcd\n",
    "import numpy as np\n",
    "import scipy.linalg\n",
    "import pywren\n",
    "reload(pywren)\n",
    "import math\n",
    "import itertools\n",
    "import time\n",
    "import cloudpickle\n",
    "import importlib\n",
    "import sys\n",
    "from sklearn.datasets import fetch_mldata\n",
    "from itertools import groupby\n",
    "from operator import itemgetter\n",
    "from sklearn.kernel_approximation import RBFSampler, Nystroem\n",
    "from sklearn import metrics\n",
    "import sys\n",
    "import boto3\n",
    "import concurrent.futures as fs\n",
    "reload(boto3)\n",
    "from utils import linalg\n",
    "from utils.misc import rreload\n",
    "import scipy.linalg \n"
   ]
  },
  {
   "cell_type": "code",
   "execution_count": 2,
   "metadata": {
    "collapsed": true
   },
   "outputs": [],
   "source": [
    "notebook_stdout = sys.stdout\n",
    "notebook_stderr = sys.stderr\n",
    "terminal_stdout = open('/dev/stdout', 'w')\n",
    "terminal_stderr = open('/dev/stderr', 'w')"
   ]
  },
  {
   "cell_type": "code",
   "execution_count": null,
   "metadata": {
    "collapsed": true
   },
   "outputs": [],
   "source": []
  },
  {
   "cell_type": "code",
   "execution_count": null,
   "metadata": {
    "collapsed": false
   },
   "outputs": [
    {
     "name": "stdout",
     "output_type": "stream",
     "text": [
      "CPU times: user 548 ms, sys: 3.37 s, total: 3.92 s\n",
      "Wall time: 29.9 s\n",
      "CPU times: user 440 ms, sys: 1.12 s, total: 1.56 s\n",
      "Wall time: 1.55 s\n"
     ]
    }
   ],
   "source": [
    "%time X_test = np.load(\"/home/ubuntu/imagenet-data/X_test_lift_3_3_pool_12_12_patch_stride_1.npy\")\n",
    "np.random.seed(0)\n",
    "idxs_test = np.random.choice(X_test.shape[0], X_test.shape[0], replace=False)\n",
    "np.save(\"test_scramble_idxs\", idxs_test)\n",
    "X_test = X_test.reshape(X_test.shape[0],-1)\n",
    "%time X_test = X_test[idxs_test, :]\n",
    "labels_test = np.load(\"/home/ubuntu/imagenet-data/imagenet_test_labels.npy\")\n",
    "labels_test = labels_test[idxs_test]\n"
   ]
  },
  {
   "cell_type": "code",
   "execution_count": 20,
   "metadata": {
    "collapsed": false
   },
   "outputs": [
    {
     "name": "stdout",
     "output_type": "stream",
     "text": [
      "CPU times: user 60 ms, sys: 0 ns, total: 60 ms\n",
      "Wall time: 168 ms\n"
     ]
    }
   ],
   "source": [
    "%time X_train_sharded = ShardedMatrix(\"X_block_scrambled_3_3_pool_12_12_patch_stride_1_1_block_no_normalize_04.22.2017\",\\\n",
    "                                shard_size_0=4096,\\\n",
    "                                bucket=\"vaishaalpywrenlinalg\",\\\n",
    "                                n_jobs=32)"
   ]
  },
  {
   "cell_type": "code",
   "execution_count": 18,
   "metadata": {
    "collapsed": false
   },
   "outputs": [
    {
     "name": "stdout",
     "output_type": "stream",
     "text": [
      "CPU times: user 68 ms, sys: 0 ns, total: 68 ms\n",
      "Wall time: 123 ms\n"
     ]
    }
   ],
   "source": [
    "%time X_test_sharded = ShardedMatrix(\"X_test_scrambled_3_3_pool_12_12_patch_stride_1_1_block_no_normalize_04.22.2017\",\\\n",
    "                                shard_size_0=4096,\\\n",
    "                                bucket=\"vaishaalpywrenlinalg\",\\\n",
    "                                reshard=False,\\\n",
    "                                n_jobs=32)"
   ]
  },
  {
   "cell_type": "code",
   "execution_count": 16,
   "metadata": {
    "collapsed": true
   },
   "outputs": [],
   "source": [
    "pwex = pywren.default_executor()"
   ]
  },
  {
   "cell_type": "code",
   "execution_count": 183,
   "metadata": {
    "collapsed": false
   },
   "outputs": [
    {
     "name": "stdout",
     "output_type": "stream",
     "text": [
      "Submitting job for chunk 0 in axis 0 for chunk 0 in axis 1\n",
      "Submitting job for chunk 1 in axis 0 for chunk 0 in axis 1\n",
      "Waiting job for chunk 0 in axis 0 for chunk 0 in axis 1\n",
      "Waiting job for chunk 1 in axis 0 for chunk 0 in axis 1\n",
      "CPU times: user 1min 59s, sys: 10.3 s, total: 2min 9s\n",
      "Wall time: 4min 17s\n"
     ]
    }
   ],
   "source": [
    "%time XXT_test_sharded = matmul.compute_XYT_pywren(pwex, X=X_train_sharded, Y=X_test_sharded, tasks_per_job=4)"
   ]
  },
  {
   "cell_type": "code",
   "execution_count": 262,
   "metadata": {
    "collapsed": false
   },
   "outputs": [
    {
     "data": {
      "text/plain": [
       "(1281167, 50000)"
      ]
     },
     "execution_count": 262,
     "metadata": {},
     "output_type": "execute_result"
    }
   ],
   "source": [
    "XXT_test_sharded.shape"
   ]
  },
  {
   "cell_type": "code",
   "execution_count": null,
   "metadata": {
    "collapsed": false
   },
   "outputs": [
    {
     "name": "stdout",
     "output_type": "stream",
     "text": [
      "[0]\n",
      "Submitting job for chunk 0\n",
      "Waiting for chunk 0\n"
     ]
    }
   ],
   "source": [
    "reload(kernel)\n",
    "%time K_test_sharded = kernel.compute_rbf_kernel_pywren(pwex,\\\n",
    "                                                        XXT_test_sharded,\\\n",
    "                                                        X_test_sharded,\\\n",
    "                                                        X_train_sharded,\\\n",
    "                                                        gamma=1e-1,\\\n",
    "                                                        tasks_per_job=4,\\\n",
    "                                                        num_features=X_test.shape[1])"
   ]
  },
  {
   "cell_type": "code",
   "execution_count": 264,
   "metadata": {
    "collapsed": false
   },
   "outputs": [
    {
     "data": {
      "text/plain": [
       "<distributed.sharded_matrix.ShardedMatrix at 0x7f5e2014d2e8>"
      ]
     },
     "execution_count": 264,
     "metadata": {},
     "output_type": "execute_result"
    }
   ],
   "source": [
    "K_test_sharded"
   ]
  },
  {
   "cell_type": "code",
   "execution_count": 236,
   "metadata": {
    "collapsed": false
   },
   "outputs": [
    {
     "name": "stdout",
     "output_type": "stream",
     "text": [
      "[0]\n",
      "Submitting job for chunk 0\n",
      "Waiting for chunk 0\n",
      "[0]\n",
      "Submitting job for chunk 0\n",
      "Waiting for chunk 0\n"
     ]
    }
   ],
   "source": [
    "sq_norms_train = matmul.compute_sq_norms_pywren(pwex, X_train_sharded)\n",
    "sq_norms_test = matmul.compute_sq_norms_pywren(pwex, X_test_sharded)"
   ]
  },
  {
   "cell_type": "code",
   "execution_count": 14,
   "metadata": {
    "collapsed": false
   },
   "outputs": [
    {
     "name": "stdout",
     "output_type": "stream",
     "text": [
      "CPU times: user 68 ms, sys: 4 ms, total: 72 ms\n",
      "Wall time: 164 ms\n"
     ]
    }
   ],
   "source": [
    "%time XXT_test_sharded = ShardedMatrix(\"XYT(X_block_scrambled_3_3_pool_12_12_patch_stride_1_1_block_no_normalize_04.22.2017, X_test_scrambled_3_3_pool_12_12_patch_stride_1_1_block_no_normalize_04.22.2017)\",\\\n",
    "                                        bucket=\"vaishaalpywrenlinalg\")"
   ]
  },
  {
   "cell_type": "code",
   "execution_count": 2,
   "metadata": {
    "collapsed": false
   },
   "outputs": [],
   "source": [
    "K_test_sharded = ShardedMatrix(\"rbf(XYT(X_block_scrambled_3_3_pool_12_12_patch_stride_1_1_block_no_normalize_04.22.2017, X_test_scrambled_3_3_pool_12_12_patch_stride_1_1_block_no_normalize_04.22.2017), 0.1)\",\\\n",
    "                                        bucket=\"vaishaalpywrenlinalg\")"
   ]
  },
  {
   "cell_type": "code",
   "execution_count": 9,
   "metadata": {
    "collapsed": false
   },
   "outputs": [],
   "source": [
    "K_train_sharded = ShardedSymmetricMatrix(\"rbf(XXT(X_block_scrambled_3_3_pool_12_12_patch_stride_1_1_blocks_no_normalize_04.22.2017, 1.0)\",\n",
    "                                         bucket=\"vaishaalpywrenlinalg\")"
   ]
  },
  {
   "cell_type": "code",
   "execution_count": 7,
   "metadata": {
    "collapsed": false
   },
   "outputs": [],
   "source": [
    "model = np.load(\"/home/ubuntu/models/model_3_3_pool_12_12_patch_stride_1_gamma_1e1_reg_1e-1/model_iter_158_train_acc_0.9691905895172136_next_block_acc_0.14152410575427682_norm_5503.890858004476.npy\")"
   ]
  },
  {
   "cell_type": "code",
   "execution_count": 8,
   "metadata": {
    "collapsed": true
   },
   "outputs": [],
   "source": [
    "train_preds = np.load(\"/home/ubuntu/models/model_3_3_pool_12_12_patch_stride_1_gamma_1e1_reg_1e-1/yhat_iter_158_train_acc_0.9691905895172136_next_block_acc_0.14152410575427682_norm_5503.890858004476.npy\")"
   ]
  },
  {
   "cell_type": "code",
   "execution_count": 11,
   "metadata": {
    "collapsed": true
   },
   "outputs": [],
   "source": [
    "idxs = np.load(\"/home/ubuntu/imagenet-data/scramble_idxs.npy\")\n",
    "labels_train = np.load(\"/home/ubuntu/imagenet-data/imagenet_train_labels.npy\")[idxs]"
   ]
  },
  {
   "cell_type": "code",
   "execution_count": 12,
   "metadata": {
    "collapsed": true
   },
   "outputs": [],
   "source": [
    "y_pred_test = np.zeros((K_test_sharded.shape[1], 1000))"
   ]
  },
  {
   "cell_type": "code",
   "execution_count": null,
   "metadata": {
    "collapsed": false
   },
   "outputs": [
    {
     "name": "stdout",
     "output_type": "stream",
     "text": [
      "CPU times: user 8 ms, sys: 176 ms, total: 184 ms\n",
      "Wall time: 210 ms\n"
     ]
    }
   ],
   "source": [
    "%time futures = bcd.fast_kernel_column_block_async(K_test_sharded, col_blocks=K_test_sharded._block_idxs(1), mmap_loc=\"/dev/shm/K_test_block\", dtype=\"float32\")\n",
    "%time fs.wait(futures)\n",
    "\n",
    "%time K_test = bcd.load_mmap(\"/dev/shm/K_test_block\", K_test_sharded.shape, \"float32\")"
   ]
  },
  {
   "cell_type": "code",
   "execution_count": 7,
   "metadata": {
    "collapsed": false
   },
   "outputs": [
    {
     "data": {
      "text/plain": [
       "(1281167, 50000)"
      ]
     },
     "execution_count": 7,
     "metadata": {},
     "output_type": "execute_result"
    }
   ],
   "source": [
    "K_test.shape"
   ]
  },
  {
   "cell_type": "code",
   "execution_count": 9,
   "metadata": {
    "collapsed": false
   },
   "outputs": [],
   "source": [
    "model = np.load(\"/home/ubuntu/model_iter_29_train_acc_0.48995017823593645_next_block_acc_0.212676426755501_norm_1790426.3223825234.npy\")"
   ]
  },
  {
   "cell_type": "code",
   "execution_count": 10,
   "metadata": {
    "collapsed": false
   },
   "outputs": [
    {
     "name": "stdout",
     "output_type": "stream",
     "text": [
      "CPU times: user 39min 41s, sys: 1h 37min 29s, total: 2h 17min 10s\n",
      "Wall time: 2min 9s\n"
     ]
    }
   ],
   "source": [
    "model = model.astype('float32')\n",
    "%time y_test_pred = K_test.T.dot(model)"
   ]
  },
  {
   "cell_type": "code",
   "execution_count": 11,
   "metadata": {
    "collapsed": false
   },
   "outputs": [
    {
     "data": {
      "text/plain": [
       "(50000, 1000)"
      ]
     },
     "execution_count": 11,
     "metadata": {},
     "output_type": "execute_result"
    }
   ],
   "source": []
  },
  {
   "cell_type": "code",
   "execution_count": 13,
   "metadata": {
    "collapsed": false
   },
   "outputs": [
    {
     "data": {
      "text/plain": [
       "0.16832"
      ]
     },
     "execution_count": 13,
     "metadata": {},
     "output_type": "execute_result"
    }
   ],
   "source": [
    "metrics.accuracy_score(np.argmax(y_test_pred, axis=1), labels_test)"
   ]
  },
  {
   "cell_type": "code",
   "execution_count": 22,
   "metadata": {
    "collapsed": false
   },
   "outputs": [
    {
     "name": "stdout",
     "output_type": "stream",
     "text": [
      "CPU times: user 32 ms, sys: 124 ms, total: 156 ms\n",
      "Wall time: 152 ms\n",
      "CPU times: user 36 ms, sys: 12 ms, total: 48 ms\n",
      "Wall time: 2min 48s\n",
      "CPU times: user 0 ns, sys: 0 ns, total: 0 ns\n",
      "Wall time: 879 µs\n"
     ]
    }
   ],
   "source": [
    "%time futures = bcd.fast_kernel_column_block_async(X_train_sharded, col_blocks=X_train_sharded._block_idxs(1), mmap_loc=\"/dev/shm/X_train\", dtype=\"float32\")\n",
    "%time fs.wait(futures)\n",
    "%time X_train = bcd.load_mmap(*futures[0].result())"
   ]
  },
  {
   "cell_type": "code",
   "execution_count": 256,
   "metadata": {
    "collapsed": false
   },
   "outputs": [
    {
     "name": "stdout",
     "output_type": "stream",
     "text": [
      "CPU times: user 60 ms, sys: 2.96 s, total: 3.02 s\n",
      "Wall time: 3 s\n",
      "CPU times: user 200 ms, sys: 20 ms, total: 220 ms\n",
      "Wall time: 36.6 s\n",
      "CPU times: user 0 ns, sys: 0 ns, total: 0 ns\n",
      "Wall time: 1 ms\n"
     ]
    }
   ],
   "source": [
    "%time futures = bcd.fast_kernel_column_block_async(XXT_test_sharded, col_blocks=[1], mmap_loc=\"/dev/shm/XXT_block\", dtype=\"float32\")\n",
    "%time fs.wait(futures)\n",
    "%time XXT_test_column = bcd.load_mmap(*futures[0].result())"
   ]
  },
  {
   "cell_type": "code",
   "execution_count": 258,
   "metadata": {
    "collapsed": false
   },
   "outputs": [
    {
     "data": {
      "text/plain": [
       "memmap([[  8488.47460938,  14227.68945312,  10847.29492188, ...,\n",
       "         11020.09082031,   9233.09472656,   7883.08789062],\n",
       "       [  1973.03588867,   4449.17724609,   2513.03173828, ...,\n",
       "          2583.4921875 ,   2198.08740234,   1871.6809082 ],\n",
       "       [  8444.09863281,  11348.98046875,   9798.9921875 , ...,\n",
       "         10217.67578125,   8411.75683594,   7889.43603516],\n",
       "       ..., \n",
       "       [  2482.96923828,   3555.28881836,   2441.30981445, ...,\n",
       "          3163.54101562,   2291.53051758,   2629.94335938],\n",
       "       [  8063.69970703,  15156.08496094,  10762.21386719, ...,\n",
       "         12204.74902344,   9327.99511719,   7182.95849609],\n",
       "       [  6105.15478516,  11927.34277344,   7079.953125  , ...,\n",
       "          8142.71777344,   6466.66015625,   5025.96826172]], dtype=float32)"
      ]
     },
     "execution_count": 258,
     "metadata": {},
     "output_type": "execute_result"
    }
   ],
   "source": [
    "XXT_test_column"
   ]
  },
  {
   "cell_type": "code",
   "execution_count": 60,
   "metadata": {
    "collapsed": false
   },
   "outputs": [
    {
     "data": {
      "text/plain": [
       "memmap(0.015625, dtype=float32)"
      ]
     },
     "execution_count": 60,
     "metadata": {},
     "output_type": "execute_result"
    }
   ],
   "source": [
    "np.max(np.abs(XXT_test_column[:, :500] - XXT_test_column_local))"
   ]
  },
  {
   "cell_type": "code",
   "execution_count": 113,
   "metadata": {
    "collapsed": false
   },
   "outputs": [
    {
     "name": "stdout",
     "output_type": "stream",
     "text": [
      "CPU times: user 3h 4min 56s, sys: 1h 35min 4s, total: 4h 40min\n",
      "Wall time: 4min 40s\n"
     ]
    }
   ],
   "source": [
    "%time XXT_test_column_local = X_train.dot(X_test[.T)"
   ]
  },
  {
   "cell_type": "code",
   "execution_count": null,
   "metadata": {
    "collapsed": true
   },
   "outputs": [],
   "source": [
    "X_test_sharded.get_block(1,)"
   ]
  },
  {
   "cell_type": "code",
   "execution_count": 259,
   "metadata": {
    "collapsed": false
   },
   "outputs": [
    {
     "data": {
      "text/plain": [
       "memmap([[  8488.47460938,  14227.68945312,  10847.29492188, ...,\n",
       "         11020.09082031,   9233.09472656,   7883.08789062],\n",
       "       [  1973.03588867,   4449.17724609,   2513.03173828, ...,\n",
       "          2583.4921875 ,   2198.08740234,   1871.6809082 ],\n",
       "       [  8444.09863281,  11348.98046875,   9798.9921875 , ...,\n",
       "         10217.67578125,   8411.75683594,   7889.43603516],\n",
       "       ..., \n",
       "       [  2482.96923828,   3555.28881836,   2441.30981445, ...,\n",
       "          3163.54101562,   2291.53051758,   2629.94335938],\n",
       "       [  8063.69970703,  15156.08496094,  10762.21386719, ...,\n",
       "         12204.74902344,   9327.99511719,   7182.95849609],\n",
       "       [  6105.15478516,  11927.34277344,   7079.953125  , ...,\n",
       "          8142.71777344,   6466.66015625,   5025.96826172]], dtype=float32)"
      ]
     },
     "execution_count": 259,
     "metadata": {},
     "output_type": "execute_result"
    }
   ],
   "source": [
    "XXT_test_column[:, :4096]"
   ]
  },
  {
   "cell_type": "code",
   "execution_count": 205,
   "metadata": {
    "collapsed": false
   },
   "outputs": [
    {
     "data": {
      "text/plain": [
       "0.0"
      ]
     },
     "execution_count": 205,
     "metadata": {},
     "output_type": "execute_result"
    }
   ],
   "source": [
    "np.linalg.norm(XXT_test_column_local[:, 8192:] - XXT_test_column)"
   ]
  },
  {
   "cell_type": "code",
   "execution_count": 260,
   "metadata": {
    "collapsed": false
   },
   "outputs": [
    {
     "data": {
      "text/plain": [
       "array([[  8488.47460938,  14227.68945312,  10847.29492188, ...,\n",
       "         11020.09082031,   9233.09472656,   7883.08789062],\n",
       "       [  1973.03588867,   4449.17724609,   2513.03173828, ...,\n",
       "          2583.4921875 ,   2198.08740234,   1871.6809082 ],\n",
       "       [  8444.09863281,  11348.98046875,   9798.9921875 , ...,\n",
       "         10217.67578125,   8411.75683594,   7889.43603516],\n",
       "       ..., \n",
       "       [  8497.02832031,  12133.9765625 ,   8625.77636719, ...,\n",
       "         10254.43359375,   8831.73828125,   8116.00292969],\n",
       "       [  7085.04541016,   7805.40917969,   8511.59960938, ...,\n",
       "          9610.3203125 ,   6687.92382812,   5910.41064453],\n",
       "       [  2750.84326172,   3047.60620117,   3030.29443359, ...,\n",
       "          3268.57324219,   2654.40771484,   2605.32519531]], dtype=float32)"
      ]
     },
     "execution_count": 260,
     "metadata": {},
     "output_type": "execute_result"
    }
   ],
   "source": [
    "XXT_test_column_local[:4096, 4096:8192]"
   ]
  },
  {
   "cell_type": "code",
   "execution_count": 163,
   "metadata": {
    "collapsed": false
   },
   "outputs": [
    {
     "name": "stdout",
     "output_type": "stream",
     "text": [
      "XYT_block shape (4096, 4096)\n"
     ]
    },
    {
     "data": {
      "text/plain": [
       "array([[  8488.47460938,  14227.68945312,  10847.29492188, ...,\n",
       "         11020.09082031,   9233.09472656,   7883.08789062],\n",
       "       [  1973.03588867,   4449.17724609,   2513.03173828, ...,\n",
       "          2583.4921875 ,   2198.08740234,   1871.6809082 ],\n",
       "       [  8444.09863281,  11348.98046875,   9798.9921875 , ...,\n",
       "         10217.67578125,   8411.75683594,   7889.43603516],\n",
       "       ..., \n",
       "       [  8497.02832031,  12133.9765625 ,   8625.77636719, ...,\n",
       "         10254.43359375,   8831.73828125,   8116.00292969],\n",
       "       [  7085.04541016,   7805.40917969,   8511.59960938, ...,\n",
       "          9610.3203125 ,   6687.92382812,   5910.41064453],\n",
       "       [  2750.84326172,   3047.60620117,   3030.29443359, ...,\n",
       "          3268.57324219,   2654.40771484,   2605.32519531]], dtype=float32)"
      ]
     },
     "execution_count": 163,
     "metadata": {},
     "output_type": "execute_result"
    }
   ],
   "source": [
    "reload(matmul)\n",
    "matmul.compute_xyt_block(XXT_test_sharded, X_train_sharded, X_test_sharded, block_pair_0=(0,1)) "
   ]
  },
  {
   "cell_type": "code",
   "execution_count": 185,
   "metadata": {
    "collapsed": false
   },
   "outputs": [
    {
     "data": {
      "text/plain": [
       "array([[  8488.47460938,  14227.68945312,  10847.29492188, ...,\n",
       "         11020.09082031,   9233.09472656,   7883.08789062],\n",
       "       [  1973.03588867,   4449.17724609,   2513.03173828, ...,\n",
       "          2583.4921875 ,   2198.08740234,   1871.6809082 ],\n",
       "       [  8444.09863281,  11348.98046875,   9798.9921875 , ...,\n",
       "         10217.67578125,   8411.75683594,   7889.43603516],\n",
       "       ..., \n",
       "       [  8497.02832031,  12133.9765625 ,   8625.77636719, ...,\n",
       "         10254.43359375,   8831.73828125,   8116.00292969],\n",
       "       [  7085.04541016,   7805.40917969,   8511.59960938, ...,\n",
       "          9610.3203125 ,   6687.92382812,   5910.41064453],\n",
       "       [  2750.84326172,   3047.60620117,   3030.29443359, ...,\n",
       "          3268.57324219,   2654.40771484,   2605.32519531]], dtype=float32)"
      ]
     },
     "execution_count": 185,
     "metadata": {},
     "output_type": "execute_result"
    }
   ],
   "source": [
    "XXT_test_sharded.get_block(0,1)"
   ]
  },
  {
   "cell_type": "code",
   "execution_count": 80,
   "metadata": {
    "collapsed": false
   },
   "outputs": [
    {
     "data": {
      "text/plain": [
       "0.0"
      ]
     },
     "execution_count": 80,
     "metadata": {},
     "output_type": "execute_result"
    }
   ],
   "source": [
    "np.linalg.norm(XXT_test_column[:, 4094] - XXT_test_column_local[:, 4094] )"
   ]
  },
  {
   "cell_type": "code",
   "execution_count": 261,
   "metadata": {
    "collapsed": false
   },
   "outputs": [
    {
     "data": {
      "text/plain": [
       "memmap([[  8488.47460938,  14227.68945312,  10847.29492188, ...,\n",
       "         11020.09082031,   9233.09472656,   7883.08789062],\n",
       "       [  1973.03588867,   4449.17724609,   2513.03173828, ...,\n",
       "          2583.4921875 ,   2198.08740234,   1871.6809082 ],\n",
       "       [  8444.09863281,  11348.98046875,   9798.9921875 , ...,\n",
       "         10217.67578125,   8411.75683594,   7889.43603516],\n",
       "       ..., \n",
       "       [  2482.96923828,   3555.28881836,   2441.30981445, ...,\n",
       "          3163.54101562,   2291.53051758,   2629.94335938],\n",
       "       [  8063.69970703,  15156.08496094,  10762.21386719, ...,\n",
       "         12204.74902344,   9327.99511719,   7182.95849609],\n",
       "       [  6105.15478516,  11927.34277344,   7079.953125  , ...,\n",
       "          8142.71777344,   6466.66015625,   5025.96826172]], dtype=float32)"
      ]
     },
     "execution_count": 261,
     "metadata": {},
     "output_type": "execute_result"
    }
   ],
   "source": [
    "XXT_test_column"
   ]
  },
  {
   "cell_type": "code",
   "execution_count": 12,
   "metadata": {
    "collapsed": false
   },
   "outputs": [
    {
     "name": "stdout",
     "output_type": "stream",
     "text": [
      "CPU times: user 0 ns, sys: 0 ns, total: 0 ns\n",
      "Wall time: 449 µs\n"
     ]
    }
   ],
   "source": [
    "%time X_train = bcd.load_mmap(*futures[0].result())"
   ]
  },
  {
   "cell_type": "code",
   "execution_count": 19,
   "metadata": {
    "collapsed": false
   },
   "outputs": [
    {
     "data": {
      "text/plain": [
       "memmap([[ 0.,  0.,  0., ...,  0.,  0.,  0.],\n",
       "       [ 0.,  0.,  0., ...,  0.,  0.,  0.],\n",
       "       [ 0.,  0.,  0., ...,  0.,  0.,  0.],\n",
       "       ..., \n",
       "       [ 0.,  0.,  0., ...,  0.,  0.,  0.],\n",
       "       [ 0.,  0.,  0., ...,  0.,  0.,  0.],\n",
       "       [ 0.,  0.,  0., ...,  0.,  0.,  0.]])"
      ]
     },
     "execution_count": 19,
     "metadata": {},
     "output_type": "execute_result"
    }
   ],
   "source": [
    "X_train[:4096, :] - X_train_sharded.get_block(0,0)"
   ]
  },
  {
   "cell_type": "code",
   "execution_count": 16,
   "metadata": {
    "collapsed": false
   },
   "outputs": [
    {
     "data": {
      "text/plain": [
       "array([[  1.96602806e-01,   2.20547840e-01,   1.81348190e-01, ...,\n",
       "          7.06523836e-01,   8.45599055e-01,   5.61899185e-01],\n",
       "       [  0.00000000e+00,   0.00000000e+00,   0.00000000e+00, ...,\n",
       "          1.34917676e-01,   1.07508719e+00,   1.25146270e+00],\n",
       "       [  6.73569888e-02,   4.77466770e-02,   4.98547740e-02, ...,\n",
       "          3.86966228e-01,   7.00732410e-01,   6.33941472e-01],\n",
       "       ..., \n",
       "       [  0.00000000e+00,   0.00000000e+00,   0.00000000e+00, ...,\n",
       "          2.50087309e+00,   2.40811825e+00,   2.04348946e+00],\n",
       "       [  6.10646643e-02,   4.51439694e-02,   6.54195028e-04, ...,\n",
       "          1.14956582e+00,   6.02480948e-01,   6.63885534e-01],\n",
       "       [  2.00905767e-03,   5.96098304e-02,   1.14108261e-03, ...,\n",
       "          1.10903367e-01,   1.67341560e-01,   3.45374405e-01]], dtype=float32)"
      ]
     },
     "execution_count": 16,
     "metadata": {},
     "output_type": "execute_result"
    }
   ],
   "source": [
    "X_train.dot(X_test)"
   ]
  },
  {
   "cell_type": "code",
   "execution_count": 35,
   "metadata": {
    "collapsed": false
   },
   "outputs": [
    {
     "name": "stdout",
     "output_type": "stream",
     "text": [
      "Accuracy is 0.00439453125\n"
     ]
    }
   ],
   "source": [
    "print(\"Accuracy is\", metrics.accuracy_score(np.argmax(y_pred_test, axis=1), labels_test[4096:8192]))"
   ]
  },
  {
   "cell_type": "code",
   "execution_count": 36,
   "metadata": {
    "collapsed": false
   },
   "outputs": [
    {
     "data": {
      "text/plain": [
       "array([[ 0.15177582,  0.32212979, -0.70441687, ..., -0.9280941 ,\n",
       "        -0.0218157 ,  0.04977524],\n",
       "       [-0.68600962,  0.46225398,  0.29152378, ...,  1.02202446,\n",
       "        -0.18173571, -0.7781125 ],\n",
       "       [ 0.411547  ,  0.20195045, -0.02920963, ..., -0.4530658 ,\n",
       "        -0.09862631,  0.46372228],\n",
       "       ..., \n",
       "       [-1.69573461,  1.59853628,  1.4744695 , ...,  0.8763674 ,\n",
       "        -0.53255569, -0.73806692],\n",
       "       [ 0.16199264,  0.66496543, -0.05094174, ..., -0.4790934 ,\n",
       "        -0.34181992,  0.35255426],\n",
       "       [-0.69530962, -0.04767478, -0.30211379, ...,  0.48934169,\n",
       "        -0.2773971 , -0.26059168]])"
      ]
     },
     "execution_count": 36,
     "metadata": {},
     "output_type": "execute_result"
    }
   ],
   "source": [
    "y_pred_test"
   ]
  },
  {
   "cell_type": "code",
   "execution_count": 5,
   "metadata": {
    "collapsed": false
   },
   "outputs": [
    {
     "data": {
      "text/plain": [
       "[0, 1, 2, 3, 4, 5, 6, 7, 8, 9, 10, 11, 12]"
      ]
     },
     "execution_count": 5,
     "metadata": {},
     "output_type": "execute_result"
    }
   ],
   "source": [
    "K_test_sharded._block_idxs(1)\n"
   ]
  },
  {
   "cell_type": "code",
   "execution_count": 161,
   "metadata": {
    "collapsed": false
   },
   "outputs": [
    {
     "data": {
      "text/plain": [
       "2"
      ]
     },
     "execution_count": 161,
     "metadata": {},
     "output_type": "execute_result"
    }
   ],
   "source": [
    "np.sum(np.argmax(y_test_pred_0, axis=1) == 782)"
   ]
  },
  {
   "cell_type": "code",
   "execution_count": 132,
   "metadata": {
    "collapsed": true
   },
   "outputs": [],
   "source": [
    "futures = bcd.fast_kernel_column_block_async(K_train_sharded, col_blocks=[300], mmap_loc=\"/dev/shm/test\")\n",
    "fs.wait(futures)\n",
    "K_train_block_1 = bcd.load_mmap(*futures[0].result())"
   ]
  },
  {
   "cell_type": "code",
   "execution_count": 134,
   "metadata": {
    "collapsed": false
   },
   "outputs": [
    {
     "name": "stdout",
     "output_type": "stream",
     "text": [
      "CPU times: user 9min 36s, sys: 44min 50s, total: 54min 27s\n",
      "Wall time: 52.6 s\n"
     ]
    }
   ],
   "source": [
    "%time y_train_pred_0 = K_train_block_1.T.dot(model)"
   ]
  },
  {
   "cell_type": "code",
   "execution_count": 135,
   "metadata": {
    "collapsed": false
   },
   "outputs": [
    {
     "data": {
      "text/plain": [
       "0.051025390625"
      ]
     },
     "execution_count": 135,
     "metadata": {},
     "output_type": "execute_result"
    }
   ],
   "source": [
    "metrics.accuracy_score(np.argmax(y_train_pred_0, axis=1), labels_train[300*4096:301*4096])"
   ]
  },
  {
   "cell_type": "code",
   "execution_count": 87,
   "metadata": {
    "collapsed": false
   },
   "outputs": [
    {
     "data": {
      "text/plain": [
       "0.999267578125"
      ]
     },
     "execution_count": 87,
     "metadata": {},
     "output_type": "execute_result"
    }
   ],
   "source": [
    "metrics.accuracy_score(np.argmax(model[:4096], axis=1), labels_train[:4096])"
   ]
  },
  {
   "cell_type": "code",
   "execution_count": 81,
   "metadata": {
    "collapsed": false
   },
   "outputs": [
    {
     "data": {
      "text/plain": [
       "array([955, 978,  98, ...,   0,   0,   0])"
      ]
     },
     "execution_count": 81,
     "metadata": {},
     "output_type": "execute_result"
    }
   ],
   "source": [
    "np.argmax(model, axis=1)"
   ]
  },
  {
   "cell_type": "code",
   "execution_count": 133,
   "metadata": {
    "collapsed": false
   },
   "outputs": [
    {
     "data": {
      "text/plain": [
       "array([[ 0.06116991,  0.23227182, -0.6894666 , ...,  0.69814202,\n",
       "        -0.75120418, -1.04630017],\n",
       "       [ 1.38090658, -1.13501859,  0.57325702, ...,  0.36937889,\n",
       "         0.45910894,  1.28379234],\n",
       "       [-1.5526573 ,  0.10704586,  0.29934353, ...,  0.9878986 ,\n",
       "        -0.31383154, -0.17818733],\n",
       "       ..., \n",
       "       [ 0.        ,  0.        ,  0.        , ...,  0.        ,\n",
       "         0.        ,  0.        ],\n",
       "       [ 0.        ,  0.        ,  0.        , ...,  0.        ,\n",
       "         0.        ,  0.        ],\n",
       "       [ 0.        ,  0.        ,  0.        , ...,  0.        ,\n",
       "         0.        ,  0.        ]])"
      ]
     },
     "execution_count": 133,
     "metadata": {},
     "output_type": "execute_result"
    }
   ],
   "source": [
    "model"
   ]
  },
  {
   "cell_type": "code",
   "execution_count": 91,
   "metadata": {
    "collapsed": false
   },
   "outputs": [
    {
     "ename": "NameError",
     "evalue": "name 'y_pred' is not defined",
     "output_type": "error",
     "traceback": [
      "\u001b[0;31m---------------------------------------------------------------------------\u001b[0m",
      "\u001b[0;31mNameError\u001b[0m                                 Traceback (most recent call last)",
      "\u001b[0;32m<ipython-input-91-5a040a10fabc>\u001b[0m in \u001b[0;36m<module>\u001b[0;34m()\u001b[0m\n\u001b[0;32m----> 1\u001b[0;31m \u001b[0my_pred\u001b[0m\u001b[0;34m\u001b[0m\u001b[0m\n\u001b[0m",
      "\u001b[0;31mNameError\u001b[0m: name 'y_pred' is not defined"
     ]
    }
   ],
   "source": [
    "y_pred"
   ]
  },
  {
   "cell_type": "code",
   "execution_count": 144,
   "metadata": {
    "collapsed": false
   },
   "outputs": [
    {
     "data": {
      "text/plain": [
       "array([[ 0.17595319,  0.00642153,  0.01951889, ...,  0.52070808,\n",
       "         0.99553257,  0.64188957],\n",
       "       [ 0.01254465,  0.02918571,  0.14533278, ...,  1.9559927 ,\n",
       "         1.70751333,  1.66638935],\n",
       "       [ 0.20669395,  0.11355925,  0.17321257, ...,  0.71780199,\n",
       "         0.84639919,  1.01430058],\n",
       "       ..., \n",
       "       [ 0.0700969 ,  0.05763057,  0.20575623, ...,  1.16097128,\n",
       "         1.37094891,  2.80404854],\n",
       "       [ 0.07006628,  0.02370552,  0.10204141, ...,  1.27435827,\n",
       "         1.39967942,  1.25729001],\n",
       "       [ 0.00476875,  0.03553968,  0.01166455, ...,  0.50728744,\n",
       "         1.09930623,  0.89966625]], dtype=float32)"
      ]
     },
     "execution_count": 144,
     "metadata": {},
     "output_type": "execute_result"
    }
   ],
   "source": [
    "X_test_sharded.get_block(1,0)"
   ]
  },
  {
   "cell_type": "code",
   "execution_count": null,
   "metadata": {
    "collapsed": true
   },
   "outputs": [],
   "source": []
  }
 ],
 "metadata": {
  "kernelspec": {
   "display_name": "Python 3",
   "language": "python",
   "name": "python3"
  },
  "language_info": {
   "codemirror_mode": {
    "name": "ipython",
    "version": 3
   },
   "file_extension": ".py",
   "mimetype": "text/x-python",
   "name": "python",
   "nbconvert_exporter": "python",
   "pygments_lexer": "ipython3",
   "version": "3.6.0"
  }
 },
 "nbformat": 4,
 "nbformat_minor": 2
}
