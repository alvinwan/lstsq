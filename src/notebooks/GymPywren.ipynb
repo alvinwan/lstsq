{
 "cells": [
  {
   "cell_type": "code",
   "execution_count": null,
   "metadata": {
    "collapsed": true
   },
   "outputs": [],
   "source": [
    "%load_ext autoreload\n",
    "%autoreload 1"
   ]
  },
  {
   "cell_type": "code",
   "execution_count": 1,
   "metadata": {},
   "outputs": [
    {
     "name": "stdout",
     "output_type": "stream",
     "text": [
      "Populating the interactive namespace from numpy and matplotlib\n"
     ]
    }
   ],
   "source": [
    "%pylab inline\n",
    "import gym\n",
    "import pywren\n",
    "import pywren.wrenconfig as wc\n",
    "from gym import wrappers\n",
    "import numpywren as npyw\n",
    "import numpywren\n",
    "from numpywren import matrix, matrix_utils\n",
    "import scipy\n",
    "import scipy.sparse\n",
    "from sklearn.linear_model import SGDClassifier\n",
    "from sklearn.kernel_approximation import RBFSampler\n",
    "from sklearn import metrics \n",
    "from sklearn.svm import LinearSVC\n",
    "from importlib import reload\n",
    "from skimage.feature import blob_dog\n",
    "from skimage.feature import canny\n",
    "from scipy.sparse import csr_matrix\n",
    "from scipy.sparse import hstack\n",
    "from scipy.sparse import vstack\n",
    "from scipy.sparse.linalg import spsolve"
   ]
  },
  {
   "cell_type": "markdown",
   "metadata": {},
   "source": [
    "#  Blob Prost"
   ]
  },
  {
   "cell_type": "code",
   "execution_count": 2,
   "metadata": {
    "collapsed": true
   },
   "outputs": [],
   "source": [
    "def canny_blob(state, x_ways, y_ways, with_blobs=False):\n",
    "    \"\"\"Run blob detection on canny edges. Optionally compute pairwise distances.\"\"\"\n",
    "    edges = canny(state)\n",
    "    h, w = state.shape[0], state.shape[1]\n",
    "    blobs = blob_dog(edges, max_sigma=5, threshold=0.2)\n",
    "    nh, nw = int(np.ceil(h / y_ways)), int(np.ceil(w / x_ways))\n",
    "    y, x, r = blobs[:, 0] // y_ways, blobs[:, 1] // x_ways, blobs[:, 2] * np.sqrt(2)  # downsize blobs\n",
    "    y, x = y.astype(int), x.astype(int)\n",
    "    featurized = np.zeros((nh, nw))\n",
    "    featurized[y, x] = r  # fill in lower-dimensional representation\n",
    "    if with_blobs:\n",
    "        return csr_matrix(featurized.ravel()), np.vstack((y, x)).T\n",
    "    return csr_matrix(featurized.ravel())"
   ]
  },
  {
   "cell_type": "code",
   "execution_count": 95,
   "metadata": {
    "collapsed": true
   },
   "outputs": [],
   "source": [
    "def blob(frame, x_ways=8, y_ways=7, bins_per_color=5, with_prost=True):\n",
    "    \"\"\"Blob features for a single sample.\n",
    "\n",
    "    :param frame: a single frame, hxwx3\n",
    "    :param x_ways: Divide x dimension of sample by `x_ways`\n",
    "    :param y_ways: Divide y dimension of sample by `y_ways`\n",
    "    :param bins_per_color: Split each color into this many bins.\n",
    "    :param with_prost: Add prost features\n",
    "    :return: h2xw2x3 where h2=h/y_ways, w2=w/x_ways\n",
    "    \"\"\"\n",
    "    all_features = []\n",
    "    h, w = frame.shape[1: 3]\n",
    "    bin_size = int(np.floor(255. / bins_per_color))\n",
    "    nh, nw = int(np.ceil(h / y_ways)), int(np.ceil(w / x_ways))\n",
    "\n",
    "    all_blobs = []\n",
    "    for channel in range(frame.shape[2]):  # each channel for samples\n",
    "      state = frame[:, :, channel]\n",
    "      for bin_idx in range(bins_per_color):  # split each channel into multiple bins, evenly\n",
    "        start, end = bin_idx * bin_size, (bin_idx + 1) * bin_size\n",
    "        binned_state = np.zeros(state.shape)\n",
    "        idxs = np.where(np.logical_and((state >= start), (state < end)))\n",
    "        binned_state[idxs] = state[idxs]\n",
    "\n",
    "        features, blobs = canny_blob(binned_state, x_ways=x_ways, y_ways=y_ways,  with_blobs=True)  # only look at values in this bin\n",
    "        color = np.array([[channel * bins_per_color + bin_idx] * blobs.shape[0]]).T\n",
    "        all_blobs.append(np.hstack((blobs[:, :2], color)))\n",
    "        all_features.append(features)\n",
    "    \n",
    "    if with_prost:\n",
    "        all_blobs = np.vstack(all_blobs)  # grab blob xs, ys\n",
    "        all_features.append(prost(all_blobs.astype(int), bins_per_color=bins_per_color))\n",
    "    return hstack(all_features)"
   ]
  },
  {
   "cell_type": "code",
   "execution_count": 96,
   "metadata": {
    "collapsed": true
   },
   "outputs": [],
   "source": [
    "def prost(all_blobs, bins_per_color=3, ww=4, wh=4):\n",
    "    \"\"\"Find all pairwise offset distances\n",
    "    :param all_blobs: blobs in a frame, nx3\n",
    "    :param ww: window width (TODO: not yet implemented!)\n",
    "    :param wh: window height\n",
    "    \"\"\"\n",
    "    assert ww % 2 == 0 and wh % 2 == 0, 'ww and wh must be even!'\n",
    "    halfw, halfh = ww // 2, wh // 2\n",
    "    features = np.zeros((30,20,bins_per_color * 3,ww,wh,bins_per_color * 3))\n",
    "    norms = np.linalg.norm(all_blobs, axis=1)[:, np.newaxis]\n",
    "    D = norms + -2*all_blobs.dot(all_blobs.T) + norms.T\n",
    "    for i, row in enumerate(D):\n",
    "        y1, x1, c1 = all_blobs[i]\n",
    "        for j, elem in enumerate(row):\n",
    "            y2, x2, c2 = all_blobs[j]\n",
    "            ry, rx = y2 - y1 + halfh, x2 - x1 + halfw  # ry: [0, wh], rx: [0, ww]\n",
    "            if ry >= wh or ry < 0 or rx >= ww or rx < 0:\n",
    "                continue\n",
    "            features[y1, x2, c1, ry, rx, c2] = elem\n",
    "    return csr_matrix(features.ravel())"
   ]
  },
  {
   "cell_type": "markdown",
   "metadata": {},
   "source": [
    "# Evaluation Setup"
   ]
  },
  {
   "cell_type": "code",
   "execution_count": 4,
   "metadata": {
    "collapsed": true
   },
   "outputs": [],
   "source": [
    "def agent_eval(agent, max_steps = float('inf'), game='SpaceInvaders-v0', seed=0, D=5, delay=4):\n",
    "    env = wrappers.Monitor(gym.make(game), \"/tmp/atari/{0}\".format(seed), force=True)\n",
    "    env.seed(seed)\n",
    "    state = blob(env.reset(), bins_per_color=D, with_prost=False)\n",
    "    total_reward = 0\n",
    "    i = 0\n",
    "    done = False\n",
    "    np.random.seed(seed)\n",
    "    states = [state] * delay\n",
    "    while ((not done) and i < max_steps):\n",
    "        state, reward, done, info = env.step(agent(env, states))\n",
    "        total_reward += reward\n",
    "        i += 1\n",
    "        states.pop(0)\n",
    "        states.append(blob(state, bins_per_color=D, with_prost=False))\n",
    "    return state, sum(env.get_episode_rewards())"
   ]
  },
  {
   "cell_type": "code",
   "execution_count": 73,
   "metadata": {
    "collapsed": true
   },
   "outputs": [],
   "source": [
    "def agent_eval_with_kernel(agent, max_steps = float('inf'), game='SpaceInvaders-v0', seed=0, D=5, delay=4):\n",
    "    env = wrappers.Monitor(gym.make(game), \"/tmp/atari/{0}\".format(seed), force=True)\n",
    "    env.seed(seed)\n",
    "    state = blob(env.reset(), bins_per_color=D, with_prost=False)\n",
    "    kernel = RBFSampler(gamma=1e-3, n_components=8192)\n",
    "    kernel.fit(state)\n",
    "    total_reward = 0\n",
    "    i = 0\n",
    "    done = False\n",
    "    np.random.seed(seed)\n",
    "    states = [state] * delay\n",
    "    while ((not done) and i < max_steps):\n",
    "        state, reward, done, info = env.step(agent(env, states))\n",
    "        total_reward += reward\n",
    "        i += 1\n",
    "        states.pop(0)\n",
    "        states.append(kernel.transform(blob(state, bins_per_color=D, with_prost=False)))\n",
    "    return state, sum(env.get_episode_rewards())"
   ]
  },
  {
   "cell_type": "code",
   "execution_count": 6,
   "metadata": {
    "collapsed": true
   },
   "outputs": [],
   "source": [
    "conf = wc.default()"
   ]
  },
  {
   "cell_type": "code",
   "execution_count": 7,
   "metadata": {
    "collapsed": true
   },
   "outputs": [],
   "source": [
    "conf['runtime']['s3_bucket'] = \"pictureweb\"\n",
    "conf['runtime']['s3_key'] = \"pywren.runtime/pywren_runtime-3.6-rl.tar.gz\"\n",
    "pwex_standalone = pywren.standalone_executor(config=conf, job_max_runtime=600)"
   ]
  },
  {
   "cell_type": "markdown",
   "metadata": {},
   "source": [
    "# Featurization"
   ]
  },
  {
   "cell_type": "code",
   "execution_count": 100,
   "metadata": {
    "collapsed": true
   },
   "outputs": [],
   "source": [
    "X_train_bigm = matrix.BigMatrix(\"space_invader_states_train\", shape=[100*1024, 210, 160, 3], shard_sizes=[1024, 210, 160, 3], dtype=\"uint8\", bucket=\"vaishaalpywren\")\n",
    "y_train_bigm = matrix.BigMatrix(\"space_invader_actions_rewards_train\", shape=[100*1024, 2],  shard_sizes=[1024, 2], dtype=\"uint8\", bucket=\"vaishaalpywren\")"
   ]
  },
  {
   "cell_type": "code",
   "execution_count": 101,
   "metadata": {
    "collapsed": true
   },
   "outputs": [],
   "source": [
    "import time\n",
    "def blob_batch(X_train_bigm, y_train_bigm, block_idx, *blob_args, **blob_kwargs):\n",
    "    states = X_train_bigm.get_block(block_idx,0,0,0)\n",
    "    labels = y_train_bigm.get_block(block_idx,0)\n",
    "    print(\"Downloaded now featurizing\")\n",
    "    all_features = []\n",
    "    for i in range(0, states.shape[0], 10):\n",
    "        s = time.time()\n",
    "        all_features.append(blob(states[i], *blob_args, **blob_kwargs))\n",
    "        e = time.time()\n",
    "    X = vstack(all_features)\n",
    "    Y_oh = np.eye(6)[labels[:,0].ravel()[::10]]\n",
    "    XTX = X.T.dot(X)\n",
    "    XTY = X.T.dot(Y_oh)\n",
    "    return XTX, XTY\n",
    "\n",
    "def blob_batch_with_kernel (X_train_bigm, y_train_bigm, block_idx, seed=0, n_components=500, *blob_args, **blob_kwargs):\n",
    "    env = wrappers.Monitor(gym.make(\"SpaceInvaders-v0\"), \"/tmp/atari/{0}\".format(seed), force=True)\n",
    "    env.seed(seed)\n",
    "    state = blob(env.reset(), *blob_args, **blob_kwargs)\n",
    "    kernel = RBFSampler(gamma=1e-3, n_components=n_components)\n",
    "    kernel.fit(state)\n",
    "    states = X_train_bigm.get_block(block_idx,0,0,0)\n",
    "    labels = y_train_bigm.get_block(block_idx,0)\n",
    "    print(\"Downloaded now featurizing\")\n",
    "    all_features = []\n",
    "    for i in range(states.shape[0]):\n",
    "        s = time.time()\n",
    "        all_features.append(blob(states[i], *blob_args, **blob_kwargs))\n",
    "        e = time.time()\n",
    "    X = kernel.transform(vstack(all_features))\n",
    "    Y_oh = np.eye(6)[labels[:,0].ravel()[::10]]\n",
    "    XTX = X.T.dot(X)\n",
    "    XTY = X.T.dot(Y_oh)\n",
    "    return XTX, XTY"
   ]
  },
  {
   "cell_type": "code",
   "execution_count": null,
   "metadata": {
    "collapsed": true
   },
   "outputs": [],
   "source": [
    "%time X_features = blob_batch_with_kernel(X_train_bigm, y_train_bigm, 0, bins_per_color=20)"
   ]
  },
  {
   "cell_type": "code",
   "execution_count": null,
   "metadata": {
    "collapsed": true
   },
   "outputs": [],
   "source": [
    "#futures = pwex_standalone.map(la1bda x: blob_batch(X_train_bigm, y_train_bigm, x, bins_per_color=20), range(200))\n",
    "futures = pwex_standalone.map(lambda x: blob_batch(X_train_bigm, y_train_bigm, x, bins_per_color=5), range(100))"
   ]
  },
  {
   "cell_type": "code",
   "execution_count": null,
   "metadata": {
    "collapsed": true
   },
   "outputs": [],
   "source": [
    "%time pywren.wait(futures)"
   ]
  },
  {
   "cell_type": "code",
   "execution_count": null,
   "metadata": {
    "collapsed": true
   },
   "outputs": [],
   "source": [
    "futures[0].result()"
   ]
  },
  {
   "cell_type": "code",
   "execution_count": 81,
   "metadata": {},
   "outputs": [
    {
     "name": "stdout",
     "output_type": "stream",
     "text": [
      "(36000, 36000) (36000, 6)\n"
     ]
    }
   ],
   "source": [
    "XTX, XTY = None, None\n",
    "for future in futures:\n",
    "    try:\n",
    "        if not XTX:\n",
    "            XTX, XTY = future.result()\n",
    "        else:\n",
    "            xtx, xty = future.result()\n",
    "            XTX = XTX + xtx\n",
    "            XTY = XTY + xty\n",
    "    except:\n",
    "        continue\n",
    "print(XTX.shape, XTY.shape)"
   ]
  },
  {
   "cell_type": "code",
   "execution_count": 22,
   "metadata": {},
   "outputs": [
    {
     "name": "stderr",
     "output_type": "stream",
     "text": [
      "/home/ubuntu/anaconda3/lib/python3.6/site-packages/scipy/sparse/linalg/dsolve/linsolve.py:102: SparseEfficiencyWarning: spsolve requires A be CSC or CSR matrix format\n",
      "  SparseEfficiencyWarning)\n"
     ]
    }
   ],
   "source": [
    "I = np.eye(XTX.shape[0])\n",
    "w = spsolve(XTX + 1e-5*I, XTY)"
   ]
  },
  {
   "cell_type": "code",
   "execution_count": 23,
   "metadata": {
    "collapsed": true
   },
   "outputs": [],
   "source": [
    "np.save('w_blob_kernel_%d' % XTX.shape[0], w)"
   ]
  },
  {
   "cell_type": "code",
   "execution_count": 17,
   "metadata": {
    "collapsed": true
   },
   "outputs": [],
   "source": [
    "w = np.load('w_blob_kernel_36000.npy')"
   ]
  },
  {
   "cell_type": "code",
   "execution_count": 71,
   "metadata": {
    "collapsed": true
   },
   "outputs": [],
   "source": [
    "def ls_agent(env, states):\n",
    "    if len(states) == 1:\n",
    "        state = states[0]\n",
    "    else:\n",
    "        state = scipy.sparse.hstack(states)\n",
    "    return np.argmax(state.dot(w))"
   ]
  },
  {
   "cell_type": "code",
   "execution_count": 11,
   "metadata": {
    "collapsed": true
   },
   "outputs": [],
   "source": [
    "def random_agent(env, _):\n",
    "    return np.random.choice(env.action_space.n)"
   ]
  },
  {
   "cell_type": "code",
   "execution_count": null,
   "metadata": {
    "collapsed": true
   },
   "outputs": [],
   "source": [
    "agent_eval_with_kernel(ls_agent, seed=20, D=20, delay=1)"
   ]
  },
  {
   "cell_type": "code",
   "execution_count": 64,
   "metadata": {
    "collapsed": true
   },
   "outputs": [],
   "source": [
    "futures = pwex_standalone.map(lambda x: agent_eval_with_kernel(ls_agent, seed=20, D=20, delay=1), range(1))"
   ]
  },
  {
   "cell_type": "code",
   "execution_count": 65,
   "metadata": {},
   "outputs": [
    {
     "name": "stdout",
     "output_type": "stream",
     "text": [
      "CPU times: user 340 ms, sys: 40 ms, total: 380 ms\n",
      "Wall time: 12.5 s\n"
     ]
    },
    {
     "data": {
      "text/plain": [
       "([<pywren.future.ResponseFuture at 0x7ff3d01829b0>], [])"
      ]
     },
     "execution_count": 65,
     "metadata": {},
     "output_type": "execute_result"
    }
   ],
   "source": [
    "%time pywren.wait(futures)"
   ]
  },
  {
   "cell_type": "code",
   "execution_count": 66,
   "metadata": {},
   "outputs": [
    {
     "ename": "UserWarning",
     "evalue": "[(1, 36000)]",
     "output_type": "error",
     "traceback": [
      "\u001b[0;31m---------------------------------------------------------------------------\u001b[0m",
      "\u001b[0;31mUserWarning\u001b[0m                               Traceback (most recent call last)",
      "\u001b[0;32m<ipython-input-66-ebda19195a4a>\u001b[0m in \u001b[0;36m<module>\u001b[0;34m()\u001b[0m\n\u001b[0;32m----> 1\u001b[0;31m \u001b[0mfutures\u001b[0m\u001b[0;34m[\u001b[0m\u001b[0;36m0\u001b[0m\u001b[0;34m]\u001b[0m\u001b[0;34m.\u001b[0m\u001b[0mresult\u001b[0m\u001b[0;34m(\u001b[0m\u001b[0;34m)\u001b[0m\u001b[0;34m\u001b[0m\u001b[0m\n\u001b[0m",
      "\u001b[0;32m~/pywren/pywren/future.py\u001b[0m in \u001b[0;36mresult\u001b[0;34m(self, timeout, check_only, throw_except, storage_handler)\u001b[0m\n\u001b[1;32m    200\u001b[0m             \u001b[0;32melse\u001b[0m\u001b[0;34m:\u001b[0m\u001b[0;34m\u001b[0m\u001b[0m\n\u001b[1;32m    201\u001b[0m                 \u001b[0;31m# reraise the exception\u001b[0m\u001b[0;34m\u001b[0m\u001b[0;34m\u001b[0m\u001b[0m\n\u001b[0;32m--> 202\u001b[0;31m                 \u001b[0mreraise\u001b[0m\u001b[0;34m(\u001b[0m\u001b[0;34m*\u001b[0m\u001b[0mself\u001b[0m\u001b[0;34m.\u001b[0m\u001b[0m_traceback\u001b[0m\u001b[0;34m)\u001b[0m\u001b[0;34m\u001b[0m\u001b[0m\n\u001b[0m\u001b[1;32m    203\u001b[0m         \u001b[0;32melse\u001b[0m\u001b[0;34m:\u001b[0m\u001b[0;34m\u001b[0m\u001b[0m\n\u001b[1;32m    204\u001b[0m             \u001b[0;32mreturn\u001b[0m \u001b[0;32mNone\u001b[0m  \u001b[0;31m# nothing, don't raise, no value\u001b[0m\u001b[0;34m\u001b[0m\u001b[0m\n",
      "\u001b[0;32m~/anaconda3/lib/python3.6/site-packages/six.py\u001b[0m in \u001b[0;36mreraise\u001b[0;34m(tp, value, tb)\u001b[0m\n\u001b[1;32m    683\u001b[0m             \u001b[0mvalue\u001b[0m \u001b[0;34m=\u001b[0m \u001b[0mtp\u001b[0m\u001b[0;34m(\u001b[0m\u001b[0;34m)\u001b[0m\u001b[0;34m\u001b[0m\u001b[0m\n\u001b[1;32m    684\u001b[0m         \u001b[0;32mif\u001b[0m \u001b[0mvalue\u001b[0m\u001b[0;34m.\u001b[0m\u001b[0m__traceback__\u001b[0m \u001b[0;32mis\u001b[0m \u001b[0;32mnot\u001b[0m \u001b[0mtb\u001b[0m\u001b[0;34m:\u001b[0m\u001b[0;34m\u001b[0m\u001b[0m\n\u001b[0;32m--> 685\u001b[0;31m             \u001b[0;32mraise\u001b[0m \u001b[0mvalue\u001b[0m\u001b[0;34m.\u001b[0m\u001b[0mwith_traceback\u001b[0m\u001b[0;34m(\u001b[0m\u001b[0mtb\u001b[0m\u001b[0;34m)\u001b[0m\u001b[0;34m\u001b[0m\u001b[0m\n\u001b[0m\u001b[1;32m    686\u001b[0m         \u001b[0;32mraise\u001b[0m \u001b[0mvalue\u001b[0m\u001b[0;34m\u001b[0m\u001b[0m\n\u001b[1;32m    687\u001b[0m \u001b[0;34m\u001b[0m\u001b[0m\n",
      "\u001b[0;32m/tmp/pywren.runner/0/jobrunner.py\u001b[0m in \u001b[0;36m<module>\u001b[0;34m()\u001b[0m\n",
      "\u001b[0;32m<ipython-input-64-a0c722f0ca52>\u001b[0m in \u001b[0;36m<lambda>\u001b[0;34m()\u001b[0m\n\u001b[0;32m----> 1\u001b[0;31m \u001b[0mfutures\u001b[0m \u001b[0;34m=\u001b[0m \u001b[0mpwex_standalone\u001b[0m\u001b[0;34m.\u001b[0m\u001b[0mmap\u001b[0m\u001b[0;34m(\u001b[0m\u001b[0;32mlambda\u001b[0m \u001b[0mx\u001b[0m\u001b[0;34m:\u001b[0m \u001b[0magent_eval_with_kernel\u001b[0m\u001b[0;34m(\u001b[0m\u001b[0mls_agent\u001b[0m\u001b[0;34m,\u001b[0m \u001b[0mseed\u001b[0m\u001b[0;34m=\u001b[0m\u001b[0;36m20\u001b[0m\u001b[0;34m,\u001b[0m \u001b[0mD\u001b[0m\u001b[0;34m=\u001b[0m\u001b[0;36m20\u001b[0m\u001b[0;34m,\u001b[0m \u001b[0mdelay\u001b[0m\u001b[0;34m=\u001b[0m\u001b[0;36m1\u001b[0m\u001b[0;34m)\u001b[0m\u001b[0;34m,\u001b[0m \u001b[0mrange\u001b[0m\u001b[0;34m(\u001b[0m\u001b[0;36m1\u001b[0m\u001b[0;34m)\u001b[0m\u001b[0;34m)\u001b[0m\u001b[0;34m\u001b[0m\u001b[0m\n\u001b[0m",
      "\u001b[0;32m<ipython-input-57-4191ff14296e>\u001b[0m in \u001b[0;36magent_eval_with_kernel\u001b[0;34m()\u001b[0m\n\u001b[1;32m     11\u001b[0m     \u001b[0mstates\u001b[0m \u001b[0;34m=\u001b[0m \u001b[0;34m[\u001b[0m\u001b[0mstate\u001b[0m\u001b[0;34m]\u001b[0m \u001b[0;34m*\u001b[0m \u001b[0mdelay\u001b[0m\u001b[0;34m\u001b[0m\u001b[0m\n\u001b[1;32m     12\u001b[0m     \u001b[0;32mwhile\u001b[0m \u001b[0;34m(\u001b[0m\u001b[0;34m(\u001b[0m\u001b[0;32mnot\u001b[0m \u001b[0mdone\u001b[0m\u001b[0;34m)\u001b[0m \u001b[0;32mand\u001b[0m \u001b[0mi\u001b[0m \u001b[0;34m<\u001b[0m \u001b[0mmax_steps\u001b[0m\u001b[0;34m)\u001b[0m\u001b[0;34m:\u001b[0m\u001b[0;34m\u001b[0m\u001b[0m\n\u001b[0;32m---> 13\u001b[0;31m         \u001b[0mstate\u001b[0m\u001b[0;34m,\u001b[0m \u001b[0mreward\u001b[0m\u001b[0;34m,\u001b[0m \u001b[0mdone\u001b[0m\u001b[0;34m,\u001b[0m \u001b[0minfo\u001b[0m \u001b[0;34m=\u001b[0m \u001b[0menv\u001b[0m\u001b[0;34m.\u001b[0m\u001b[0mstep\u001b[0m\u001b[0;34m(\u001b[0m\u001b[0magent\u001b[0m\u001b[0;34m(\u001b[0m\u001b[0menv\u001b[0m\u001b[0;34m,\u001b[0m \u001b[0mstates\u001b[0m\u001b[0;34m)\u001b[0m\u001b[0;34m)\u001b[0m\u001b[0;34m\u001b[0m\u001b[0m\n\u001b[0m\u001b[1;32m     14\u001b[0m         \u001b[0mtotal_reward\u001b[0m \u001b[0;34m+=\u001b[0m \u001b[0mreward\u001b[0m\u001b[0;34m\u001b[0m\u001b[0m\n\u001b[1;32m     15\u001b[0m         \u001b[0mi\u001b[0m \u001b[0;34m+=\u001b[0m \u001b[0;36m1\u001b[0m\u001b[0;34m\u001b[0m\u001b[0m\n",
      "\u001b[0;32m<ipython-input-63-16751540aedb>\u001b[0m in \u001b[0;36mls_agent\u001b[0;34m()\u001b[0m\n\u001b[1;32m      1\u001b[0m \u001b[0;32mdef\u001b[0m \u001b[0mls_agent\u001b[0m\u001b[0;34m(\u001b[0m\u001b[0menv\u001b[0m\u001b[0;34m,\u001b[0m \u001b[0mstates\u001b[0m\u001b[0;34m)\u001b[0m\u001b[0;34m:\u001b[0m\u001b[0;34m\u001b[0m\u001b[0m\n\u001b[0;32m----> 2\u001b[0;31m     \u001b[0;32mraise\u001b[0m \u001b[0mUserWarning\u001b[0m\u001b[0;34m(\u001b[0m\u001b[0;34m[\u001b[0m\u001b[0mstate\u001b[0m\u001b[0;34m.\u001b[0m\u001b[0mshape\u001b[0m \u001b[0;32mfor\u001b[0m \u001b[0mstate\u001b[0m \u001b[0;32min\u001b[0m \u001b[0mstates\u001b[0m\u001b[0;34m]\u001b[0m\u001b[0;34m)\u001b[0m\u001b[0;34m\u001b[0m\u001b[0m\n\u001b[0m\u001b[1;32m      3\u001b[0m     \u001b[0mstate\u001b[0m \u001b[0;34m=\u001b[0m \u001b[0mscipy\u001b[0m\u001b[0;34m.\u001b[0m\u001b[0msparse\u001b[0m\u001b[0;34m.\u001b[0m\u001b[0mhstack\u001b[0m\u001b[0;34m(\u001b[0m\u001b[0mstates\u001b[0m\u001b[0;34m)\u001b[0m\u001b[0;34m\u001b[0m\u001b[0m\n\u001b[1;32m      4\u001b[0m     \u001b[0;32mreturn\u001b[0m \u001b[0mnp\u001b[0m\u001b[0;34m.\u001b[0m\u001b[0margmax\u001b[0m\u001b[0;34m(\u001b[0m\u001b[0mstate\u001b[0m\u001b[0;34m.\u001b[0m\u001b[0mdot\u001b[0m\u001b[0;34m(\u001b[0m\u001b[0mw\u001b[0m\u001b[0;34m)\u001b[0m\u001b[0;34m)\u001b[0m\u001b[0;34m\u001b[0m\u001b[0m\n",
      "\u001b[0;31mUserWarning\u001b[0m: [(1, 36000)]"
     ]
    }
   ],
   "source": [
    "futures[0].result()"
   ]
  },
  {
   "cell_type": "code",
   "execution_count": null,
   "metadata": {
    "collapsed": true
   },
   "outputs": [],
   "source": [
    "results = []\n",
    "for future in futures:\n",
    "    try:\n",
    "        results.append(future.result())\n",
    "    except:\n",
    "        continue\n",
    "rewards_ls = [result[1] for result in results]"
   ]
  },
  {
   "cell_type": "code",
   "execution_count": null,
   "metadata": {
    "collapsed": true
   },
   "outputs": [],
   "source": [
    "plt.title('36k Blob Kernel Features')\n",
    "plt.hist(rewards_ls, bins=100)\n",
    "plt.show()\n",
    "plt.close()"
   ]
  },
  {
   "cell_type": "code",
   "execution_count": null,
   "metadata": {
    "collapsed": true
   },
   "outputs": [],
   "source": [
    "print(np.mean(rewards_ls))\n",
    "print(np.std(rewards_ls))"
   ]
  },
  {
   "cell_type": "code",
   "execution_count": null,
   "metadata": {
    "collapsed": true
   },
   "outputs": [],
   "source": [
    "with open('models/w_blob_kernel_36000_results.txt', 'w') as f:\n",
    "    for reward in rewards_ls:\n",
    "        f.write('%d\\n' % int(reward))"
   ]
  },
  {
   "cell_type": "code",
   "execution_count": 51,
   "metadata": {},
   "outputs": [
    {
     "name": "stdout",
     "output_type": "stream",
     "text": [
      "(1, 8192)\n"
     ]
    }
   ],
   "source": [
    "np.random.seed(3)\n",
    "env = wrappers.Monitor(gym.make(\"SpaceInvaders-v0\"), \"/tmp/atari/3\", force=True)\n",
    "env.seed(3)\n",
    "state = blob(env.reset(), bins_per_color=1, with_prost=False)\n",
    "kernel = RBFSampler(gamma=1e-3, n_components=8192)\n",
    "kernel.fit(state)\n",
    "k = kernel.transform(np.zeros(state.shape))\n",
    "print(k.shape)"
   ]
  },
  {
   "cell_type": "code",
   "execution_count": null,
   "metadata": {
    "collapsed": true
   },
   "outputs": [],
   "source": [
    "kernel_approx.transform()"
   ]
  },
  {
   "cell_type": "code",
   "execution_count": null,
   "metadata": {
    "collapsed": true
   },
   "outputs": [],
   "source": [
    "reload(blobprost)\n",
    "imshow(state_0[0])\n",
    "plt.figure()\n",
    "X_features = blob_batch(X_train_bigm, 0, bins_per_color=1, with_prost=False)"
   ]
  },
  {
   "cell_type": "code",
   "execution_count": null,
   "metadata": {
    "collapsed": true
   },
   "outputs": [],
   "source": [
    "kernel_approx"
   ]
  },
  {
   "cell_type": "code",
   "execution_count": null,
   "metadata": {
    "collapsed": true
   },
   "outputs": [],
   "source": [
    "futures = pwex_standalone.map(lambda x: blob_batch(X_train_bigm, x, bins_per_color=1), X_train_bigm._block_idxs(0))\n",
    "%time pywren.wait(futures)\n",
    "featurized = scipy.sparse.vstack([f.result() for f in futures])"
   ]
  },
  {
   "cell_type": "code",
   "execution_count": null,
   "metadata": {
    "collapsed": true
   },
   "outputs": [],
   "source": [
    "y_train = y_train_bigm.numpy()"
   ]
  },
  {
   "cell_type": "code",
   "execution_count": null,
   "metadata": {
    "collapsed": true
   },
   "outputs": [],
   "source": [
    "%time y_train_enc = np.eye(np.max(y_train[:, 0])+1)[y_train[:, 0]]"
   ]
  },
  {
   "cell_type": "code",
   "execution_count": null,
   "metadata": {
    "collapsed": true
   },
   "outputs": [],
   "source": [
    "clf_agent = SGDClassifier(verbose=3, n_iter=400, n_jobs=10)\n",
    "clf_agent.fit(featurized, y_train[:, 0])"
   ]
  },
  {
   "cell_type": "code",
   "execution_count": null,
   "metadata": {
    "collapsed": true
   },
   "outputs": [],
   "source": [
    "metrics.accuracy_score(clf_agent.predict(featurized), y_train[:, 0])"
   ]
  },
  {
   "cell_type": "code",
   "execution_count": null,
   "metadata": {
    "collapsed": true
   },
   "outputs": [],
   "source": [
    "def _blob_agent(env, state, *blob_args, **blob_kwargs):\n",
    "    return clf_agent.predict(blobprost.blob(state, *blob_args, **blob_kwargs))"
   ]
  },
  {
   "cell_type": "code",
   "execution_count": null,
   "metadata": {
    "collapsed": true
   },
   "outputs": [],
   "source": [
    "blob_agent = lambda x,y: _blob_agent(x, y, bins_per_color=1)"
   ]
  },
  {
   "cell_type": "code",
   "execution_count": null,
   "metadata": {
    "collapsed": true
   },
   "outputs": [],
   "source": [
    "futures = pwex_standalone.map(lambda x: agent_eval(blob_agent, seed=int(x)), range(150))"
   ]
  },
  {
   "cell_type": "code",
   "execution_count": null,
   "metadata": {
    "collapsed": true
   },
   "outputs": [],
   "source": [
    "rewards_clf = [f.result()[1] for f in futures]"
   ]
  }
 ],
 "metadata": {
  "kernelspec": {
   "display_name": "Python 3",
   "language": "python",
   "name": "python3"
  },
  "language_info": {
   "codemirror_mode": {
    "name": "ipython",
    "version": 3
   },
   "file_extension": ".py",
   "mimetype": "text/x-python",
   "name": "python",
   "nbconvert_exporter": "python",
   "pygments_lexer": "ipython3",
   "version": "3.6.2"
  }
 },
 "nbformat": 4,
 "nbformat_minor": 2
}
