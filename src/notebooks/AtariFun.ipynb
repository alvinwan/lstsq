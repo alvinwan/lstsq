{
 "cells": [
  {
   "cell_type": "code",
   "execution_count": 1,
   "metadata": {},
   "outputs": [
    {
     "name": "stdout",
     "output_type": "stream",
     "text": [
      "Populating the interactive namespace from numpy and matplotlib\n"
     ]
    }
   ],
   "source": [
    "%pylab inline\n",
    "import os\n",
    "from IPython import display\n",
    "import time\n",
    "import concurrent.futures as fs\n"
   ]
  },
  {
   "cell_type": "code",
   "execution_count": 2,
   "metadata": {
    "collapsed": true
   },
   "outputs": [],
   "source": [
    "state_path = \"/home/ubuntu/atari_states/\""
   ]
  },
  {
   "cell_type": "code",
   "execution_count": 15,
   "metadata": {
    "collapsed": true
   },
   "outputs": [],
   "source": [
    "states = [os.path.join(state_path, x) for x in sorted(os.listdir(state_path)) if x[-3:] == \"npy\"]"
   ]
  },
  {
   "cell_type": "code",
   "execution_count": 16,
   "metadata": {
    "collapsed": true
   },
   "outputs": [],
   "source": [
    "train_states = states[:100]\n",
    "test_states = states[100:200]"
   ]
  },
  {
   "cell_type": "code",
   "execution_count": 5,
   "metadata": {
    "collapsed": true
   },
   "outputs": [],
   "source": [
    "def load_atari_states(states):\n",
    "    executor = fs.ThreadPoolExecutor(20)\n",
    "    futures = []\n",
    "    for state in states:\n",
    "        futures.append(executor.submit(lambda x: np.load(x)[:, :], state))\n",
    "    fs.wait(futures)\n",
    "    all_data = np.vstack([f.result() for f in futures])\n",
    "    X = all_data[:, :-2]\n",
    "    y = all_data[:, -2]\n",
    "    return X, y\n",
    "    \n",
    "    \n",
    "    "
   ]
  },
  {
   "cell_type": "code",
   "execution_count": 51,
   "metadata": {},
   "outputs": [
    {
     "name": "stdout",
     "output_type": "stream",
     "text": [
      "CPU times: user 41.3 s, sys: 2min 55s, total: 3min 36s\n",
      "Wall time: 1min 43s\n"
     ]
    }
   ],
   "source": [
    "%time X_train, y_train = load_atari_states(train_states)"
   ]
  },
  {
   "cell_type": "code",
   "execution_count": 25,
   "metadata": {
    "collapsed": true
   },
   "outputs": [],
   "source": [
    "state_0, actions_0 = load_atari_states(train_states[:1])"
   ]
  },
  {
   "cell_type": "code",
   "execution_count": 26,
   "metadata": {
    "collapsed": true
   },
   "outputs": [],
   "source": [
    "import skimage.feature as feature\n",
    "from skimage.color import rgb2gray"
   ]
  },
  {
   "cell_type": "code",
   "execution_count": 189,
   "metadata": {
    "collapsed": true
   },
   "outputs": [],
   "source": [
    "img = None\n",
    "all_features = []\n",
    "for i in range(0,1,20):\n",
    "    im = state_0[i].reshape(210,160,3)\n",
    "    features = np.zeros((30,20,3,30,20,3))\n",
    "    blobs = []\n",
    "    colors = []\n",
    "    for c in range(3):\n",
    "        im_edges = feature.canny(im[:, :, c])\n",
    "        blobs_dog = feature.blob_dog(im_edges, max_sigma=5, threshold=.2)\n",
    "        blobs_dog[:, 2] = blobs_dog[:, 2] * sqrt(2)\n",
    "        blobs.append(blobs_dog)\n",
    "        for _ in blobs_dog:\n",
    "            colors.append(c)\n",
    "        for b in blobs_dog:\n",
    "            features[int(b[0]/7), int(b[1]/8), c] = b[2] \n",
    "    blobs = np.vstack(blobs)\n",
    "    colors = np.vstack(colors)\n",
    "    blob_loc = blobs[:,:2]\n",
    "    blob_loc[:,0] /= 7\n",
    "    blob_loc[:,1] /= 8\n",
    "    blob_loc = blob_loc.astype('int')\n",
    "    blob_norms = np.linalg.norm(blob_loc, axis=1)[:, np.newaxis]\n",
    "    D = blob_norms + -2*blob_loc.dot(blob_loc.T) + blob_norms.T\n",
    "    for i,row in enumerate(D):\n",
    "        idx0,idx1 = blob_loc[i]\n",
    "        c1 = colors[i]\n",
    "        for j,elem in enumerate(row):\n",
    "            idx2,idx3 = blob_loc[j]\n",
    "            c2 = colors[j]\n",
    "            features[idx0,idx1,c1,idx2,idx3,c2] = elem\n",
    "            \n",
    "    all_features.append(features.ravel())\n"
   ]
  },
  {
   "cell_type": "code",
   "execution_count": 195,
   "metadata": {
    "collapsed": true
   },
   "outputs": [],
   "source": [
    "X = np.vstack(all_features[:1024])"
   ]
  },
  {
   "cell_type": "code",
   "execution_count": null,
   "metadata": {
    "collapsed": true
   },
   "outputs": [],
   "source": [
    "np.csingl"
   ]
  },
  {
   "cell_type": "code",
   "execution_count": 202,
   "metadata": {
    "collapsed": true
   },
   "outputs": [],
   "source": [
    "def patchify(img, patch_shape, pad=False, pad_mode='constant', cval=0):\n",
    "    ''' Function borrowed from:\n",
    "    http://stackoverflow.com/questions/16774148/fast-way-to-slice-image-into-overlapping-patches-and-merge-patches-to-image\n",
    "    '''\n",
    "    #FIXME: Make first two coordinates of output dimension shape as img.shape always\n",
    "\n",
    "    if pad:\n",
    "        pad_size= (patch_shape[0]/2, patch_shape[0]/2)\n",
    "        img = np.pad(img, (pad_size, pad_size, (0,0)),  mode=pad_mode, constant_values=cval)\n",
    "\n",
    "    img = np.ascontiguousarray(img)  # won't make a copy if not needed\n",
    "\n",
    "    X, Y, Z = img.shape\n",
    "    x, y= patch_shape\n",
    "    shape = ((X-x+1), (Y-y+1), x, y, Z) # number of patches, patch_shape\n",
    "    # The right strides can be thought by:\n",
    "    # 1) Thinking of `img` as a chunk of memory in C order\n",
    "    # 2) Asking how many items through that chunk of memory are needed when indices\n",
    "#    i,j,k,l are incremented by one\n",
    "    strides = img.itemsize*np.array([Y*Z, Z, Y*Z, Z, 1])\n",
    "    patches = np.lib.stride_tricks.as_strided(img, shape=shape, strides=strides)\n",
    "    return patches\n",
    "\n",
    "def learn_gamma(patches, sample_size=3000, percentile=10, weight=1.414):\n",
    "    patches = patches.reshape(-1,patches.shape[2]*patches.shape[3]*patches.shape[-1])\n",
    "    x_indices = np.random.choice(patches.shape[0], sample_size)\n",
    "    y_indices = np.random.choice(patches.shape[0], sample_size)\n",
    "    x = patches[x_indices]\n",
    "    y = patches[y_indices]\n",
    "    x_norm = np.maximum(np.linalg.norm(x, axis=1), 1e-16)[:,np.newaxis]\n",
    "    y_norm = np.maximum(np.linalg.norm(y, axis=1), 1e-16)[:,np.newaxis]\n",
    "    x = x/x_norm\n",
    "    y = y/y_norm\n",
    "    diff = x - y\n",
    "    norms = np.linalg.norm(diff, axis=1)\n",
    "    return 1.0/((1.0/weight * np.median(norms))**2)"
   ]
  },
  {
   "cell_type": "code",
   "execution_count": 198,
   "metadata": {},
   "outputs": [
    {
     "data": {
      "text/plain": [
       "(30, 20, 3, 30, 20, 3)"
      ]
     },
     "execution_count": 198,
     "metadata": {},
     "output_type": "execute_result"
    }
   ],
   "source": [
    "features.shape"
   ]
  },
  {
   "cell_type": "code",
   "execution_count": 221,
   "metadata": {},
   "outputs": [
    {
     "data": {
      "text/plain": [
       "<matplotlib.image.AxesImage at 0x7f2e1e6e0dd8>"
      ]
     },
     "execution_count": 221,
     "metadata": {},
     "output_type": "execute_result"
    },
    {
     "data": {
      "image/png": "[encoded data removed]",
      "text/plain": [
       "<matplotlib.figure.Figure at 0x7f2e3da0bb70>"
      ]
     },
     "metadata": {},
     "output_type": "display_data"
    }
   ],
   "source": [
    "imshow(patchify(im, (105,80))[100,50])\n"
   ]
  },
  {
   "cell_type": "code",
   "execution_count": 155,
   "metadata": {
    "collapsed": true
   },
   "outputs": [],
   "source": [
    "blob_locs = blobs_dog[:, :2]\n",
    "blob_norms = np.linalg.norm(blob_locs, axis=1)[: , np.newaxis]"
   ]
  },
  {
   "cell_type": "code",
   "execution_count": 156,
   "metadata": {
    "collapsed": true
   },
   "outputs": [],
   "source": [
    "D = blob_norms + -2*blob_locs.dot(blob_locs.T) + blob_norms.T\n"
   ]
  },
  {
   "cell_type": "code",
   "execution_count": 161,
   "metadata": {},
   "outputs": [
    {
     "data": {
      "text/plain": [
       "(3,)"
      ]
     },
     "execution_count": 161,
     "metadata": {},
     "output_type": "execute_result"
    }
   ],
   "source": []
  },
  {
   "cell_type": "code",
   "execution_count": 123,
   "metadata": {},
   "outputs": [
    {
     "data": {
      "text/plain": [
       "<matplotlib.figure.Figure at 0x7f2e1e6d1198>"
      ]
     },
     "metadata": {},
     "output_type": "display_data"
    },
    {
     "data": {
      "text/plain": [
       "<matplotlib.figure.Figure at 0x7f2e1e6d1198>"
      ]
     },
     "metadata": {},
     "output_type": "display_data"
    }
   ],
   "source": [
    "im = state_0[0].reshape(210,160,3)\n",
    "channel_features = []\n",
    "for c in range(3):\n",
    "    print(c)\n",
    "    print(im)\n",
    "    im_edges = feature.canny(im[:,:, c])\n",
    "    blobs_dog = feature.blob_dog(im_edges, max_sigma=5, threshold=.2)\n",
    "    print(blobs_dog)\n",
    "    blobs_dog[:, 2] = blobs_dog[:, 2] * sqrt(2)\n",
    "    #img = imshow(im)\n",
    "\n",
    "    for blob in blobs_dog:\n",
    "        y, x, r = blob\n",
    "        c = plt.Circle((x, y), r, color=\"red\", linewidth=2, fill=False)\n",
    "        img.axes.add_patch(c)\n",
    "    #plt.figure()\n",
    "    display.clear_output(wait=True)\n",
    "    display.display(gcf())\n",
    "\n",
    "    features = np.zeros((int(im.shape[0]/7), int(im.shape[1]/3)))\n",
    "    for b in blobs_dog:\n",
    "        features[int(b[0]/7), int(b[1]/3)] = b[2]\n",
    "    channel_features.append(features)\n",
    "            \n",
    "    \n",
    "        \n",
    "        \n",
    "        \n",
    "        \n",
    "    \n",
    "    \n"
   ]
  },
  {
   "cell_type": "code",
   "execution_count": 128,
   "metadata": {},
   "outputs": [
    {
     "data": {
      "text/plain": [
       "array([[[ 0.       ,  0.       ,  0.       , ...,  0.       ,  0.       ,\n",
       "          0.       ],\n",
       "        [ 0.       ,  0.       ,  0.       , ...,  0.       ,  0.       ,\n",
       "          0.       ],\n",
       "        [ 0.       ,  0.       ,  0.       , ...,  0.       ,  0.       ,\n",
       "          0.       ],\n",
       "        ..., \n",
       "        [ 0.       ,  0.       ,  0.       , ...,  0.       ,  0.       ,\n",
       "          0.       ],\n",
       "        [ 0.       ,  0.       ,  0.       , ...,  0.       ,  0.       ,\n",
       "          0.       ],\n",
       "        [ 0.       ,  0.       ,  0.       , ...,  0.       ,  0.       ,\n",
       "          0.       ]],\n",
       "\n",
       "       [[ 0.       ,  0.       ,  0.       , ...,  0.       ,  0.       ,\n",
       "          0.       ],\n",
       "        [ 0.       ,  0.       ,  0.       , ...,  0.       ,  0.       ,\n",
       "          0.       ],\n",
       "        [ 0.       ,  0.       ,  0.       , ...,  0.       ,  0.       ,\n",
       "          0.       ],\n",
       "        ..., \n",
       "        [ 0.       ,  0.       ,  0.       , ...,  0.       ,  0.       ,\n",
       "          0.       ],\n",
       "        [ 0.       ,  0.       ,  0.       , ...,  0.       ,  0.       ,\n",
       "          0.       ],\n",
       "        [ 0.       ,  0.       ,  0.       , ...,  0.       ,  0.       ,\n",
       "          0.       ]],\n",
       "\n",
       "       [[ 0.       ,  0.       ,  0.       , ...,  0.       ,  0.       ,\n",
       "          0.       ],\n",
       "        [ 0.       ,  0.       ,  0.       , ...,  0.       ,  0.       ,\n",
       "          0.       ],\n",
       "        [ 0.       ,  0.       ,  0.       , ...,  0.       ,  0.       ,\n",
       "          0.       ],\n",
       "        ..., \n",
       "        [ 0.       ,  0.       ,  0.       , ...,  0.       ,  0.       ,\n",
       "          0.       ],\n",
       "        [ 0.       ,  2.2627417,  0.       , ...,  0.       ,  0.       ,\n",
       "          0.       ],\n",
       "        [ 0.       ,  0.       ,  0.       , ...,  0.       ,  0.       ,\n",
       "          0.       ]]])"
      ]
     },
     "execution_count": 128,
     "metadata": {},
     "output_type": "execute_result"
    }
   ],
   "source": [
    "np.stack(channel_features)"
   ]
  },
  {
   "cell_type": "code",
   "execution_count": 96,
   "metadata": {},
   "outputs": [
    {
     "data": {
      "text/plain": [
       "(30, 40)"
      ]
     },
     "execution_count": 96,
     "metadata": {},
     "output_type": "execute_result"
    }
   ],
   "source": [
    "features.shape"
   ]
  },
  {
   "cell_type": "code",
   "execution_count": 80,
   "metadata": {},
   "outputs": [
    {
     "data": {
      "text/plain": [
       "1200"
      ]
     },
     "execution_count": 80,
     "metadata": {},
     "output_type": "execute_result"
    }
   ],
   "source": [
    "30 * 40"
   ]
  },
  {
   "cell_type": "code",
   "execution_count": 70,
   "metadata": {},
   "outputs": [
    {
     "data": {
      "text/plain": [
       "(210, 160, 3)"
      ]
     },
     "execution_count": 70,
     "metadata": {},
     "output_type": "execute_result"
    }
   ],
   "source": [
    "im.shape"
   ]
  },
  {
   "cell_type": "code",
   "execution_count": 48,
   "metadata": {
    "collapsed": true
   },
   "outputs": [],
   "source": [
    "edges = []\n",
    "for i in range(0,X.shape[0],10):\n",
    "    im = X_train[i,:].reshape(210, 160,3)\n",
    "    edges.append(im_edges.ravel().astype('float32'))\n",
    "X_train_edges = np.vstack(edges)"
   ]
  },
  {
   "cell_type": "code",
   "execution_count": 49,
   "metadata": {},
   "outputs": [
    {
     "data": {
      "text/plain": [
       "(1000, 33600)"
      ]
     },
     "execution_count": 49,
     "metadata": {},
     "output_type": "execute_result"
    }
   ],
   "source": [
    "X_train_edges.shape"
   ]
  },
  {
   "cell_type": "code",
   "execution_count": 50,
   "metadata": {},
   "outputs": [
    {
     "data": {
      "text/plain": [
       "9"
      ]
     },
     "execution_count": 50,
     "metadata": {},
     "output_type": "execute_result"
    }
   ],
   "source": [
    "len(test_states)"
   ]
  },
  {
   "cell_type": "code",
   "execution_count": 54,
   "metadata": {},
   "outputs": [
    {
     "name": "stdout",
     "output_type": "stream",
     "text": [
      "CPU times: user 16 ms, sys: 4 ms, total: 20 ms\n",
      "Wall time: 18 ms\n"
     ]
    }
   ],
   "source": [
    "\n",
    "%time im_edges = feature.canny(rgb2gray(im))"
   ]
  },
  {
   "cell_type": "code",
   "execution_count": null,
   "metadata": {
    "collapsed": true
   },
   "outputs": [],
   "source": []
  }
 ],
 "metadata": {
  "kernelspec": {
   "display_name": "Python 3",
   "language": "python",
   "name": "python3"
  },
  "language_info": {
   "codemirror_mode": {
    "name": "ipython",
    "version": 3
   },
   "file_extension": ".py",
   "mimetype": "text/x-python",
   "name": "python",
   "nbconvert_exporter": "python",
   "pygments_lexer": "ipython3",
   "version": "3.6.2"
  }
 },
 "nbformat": 4,
 "nbformat_minor": 2
}
