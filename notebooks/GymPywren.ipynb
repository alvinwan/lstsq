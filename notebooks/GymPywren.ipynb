{
 "cells": [
  {
   "cell_type": "code",
   "execution_count": 111,
   "metadata": {},
   "outputs": [
    {
     "name": "stdout",
     "output_type": "stream",
     "text": [
      "The autoreload extension is already loaded. To reload it, use:\n",
      "  %reload_ext autoreload\n"
     ]
    }
   ],
   "source": [
    "%load_ext autoreload\n",
    "%autoreload 1"
   ]
  },
  {
   "cell_type": "code",
   "execution_count": 115,
   "metadata": {},
   "outputs": [
    {
     "name": "stdout",
     "output_type": "stream",
     "text": [
      "Populating the interactive namespace from numpy and matplotlib\n"
     ]
    },
    {
     "ename": "ImportError",
     "evalue": "cannot import name 'matrix'",
     "output_type": "error",
     "traceback": [
      "\u001b[0;31m---------------------------------------------------------------------------\u001b[0m",
      "\u001b[0;31mImportError\u001b[0m                               Traceback (most recent call last)",
      "\u001b[0;32m<ipython-input-115-96d7b90cc8a0>\u001b[0m in \u001b[0;36m<module>\u001b[0;34m()\u001b[0m\n\u001b[1;32m      6\u001b[0m \u001b[0;32mimport\u001b[0m \u001b[0mnumpywren\u001b[0m \u001b[0;32mas\u001b[0m \u001b[0mnpyw\u001b[0m\u001b[0;34m\u001b[0m\u001b[0m\n\u001b[1;32m      7\u001b[0m \u001b[0;32mimport\u001b[0m \u001b[0mnumpywren\u001b[0m\u001b[0;34m\u001b[0m\u001b[0m\n\u001b[0;32m----> 8\u001b[0;31m \u001b[0;32mfrom\u001b[0m \u001b[0mnumpywren\u001b[0m \u001b[0;32mimport\u001b[0m \u001b[0mmatrix\u001b[0m\u001b[0;34m,\u001b[0m \u001b[0mmatrix_utils\u001b[0m\u001b[0;34m\u001b[0m\u001b[0m\n\u001b[0m\u001b[1;32m      9\u001b[0m \u001b[0;32mimport\u001b[0m \u001b[0mscipy\u001b[0m\u001b[0;34m\u001b[0m\u001b[0m\n\u001b[1;32m     10\u001b[0m \u001b[0;32mimport\u001b[0m \u001b[0mscipy\u001b[0m\u001b[0;34m.\u001b[0m\u001b[0msparse\u001b[0m\u001b[0;34m\u001b[0m\u001b[0m\n",
      "\u001b[0;31mImportError\u001b[0m: cannot import name 'matrix'"
     ]
    }
   ],
   "source": [
    "%pylab inline\n",
    "import gym\n",
    "import pywren\n",
    "import pywren.wrenconfig as wc\n",
    "from gym import wrappers\n",
    "import numpywren as npyw\n",
    "import numpywren\n",
    "from numpywren import matrix, matrix_utils\n",
    "import scipy\n",
    "import scipy.sparse\n",
    "from sklearn.linear_model import SGDClassifier\n",
    "from sklearn.kernel_approximation import RBFSampler\n",
    "from sklearn import metrics \n",
    "from sklearn.svm import LinearSVC\n",
    "from importlib import reload\n",
    "from skimage.feature import blob_dog\n",
    "from skimage.feature import canny\n",
    "from scipy.sparse import csr_matrix\n",
    "from scipy.sparse import hstack\n",
    "from scipy.sparse import vstack"
   ]
  },
  {
   "cell_type": "markdown",
   "metadata": {},
   "source": [
    "#  Blob Prost"
   ]
  },
  {
   "cell_type": "code",
   "execution_count": null,
   "metadata": {
    "collapsed": true
   },
   "outputs": [],
   "source": [
    "def canny_blob(state, x_ways, y_ways, with_blobs=False):\n",
    "    \"\"\"Run blob detection on canny edges. Optionally compute pairwise distances.\"\"\"\n",
    "    edges = canny(state)\n",
    "    h, w = state.shape[0], state.shape[1]\n",
    "    blobs = blob_dog(edges, max_sigma=5, threshold=0.2)\n",
    "    nh, nw = int(np.ceil(h / y_ways)), int(np.ceil(w / x_ways))\n",
    "    y, x, r = blobs[:, 0] // y_ways, blobs[:, 1] // x_ways, blobs[:, 2] * np.sqrt(2)  # downsize blobs\n",
    "    y, x = y.astype(int), x.astype(int)\n",
    "    featurized = np.zeros((nh, nw))\n",
    "    featurized[y, x] = r  # fill in lower-dimensional representation\n",
    "    if with_blobs:\n",
    "        return csr_matrix(featurized.ravel()), np.vstack((y, x)).T\n",
    "    return csr_matrix(featurized.ravel())"
   ]
  },
  {
   "cell_type": "code",
   "execution_count": null,
   "metadata": {},
   "outputs": [],
   "source": [
    "def blob(frame, x_ways=8, y_ways=7, bins_per_color=5, with_prost=False):\n",
    "    \"\"\"Blob features for a single sample.\n",
    "\n",
    "    :param frame: a single frame, hxwx3\n",
    "    :param x_ways: Divide x dimension of sample by `x_ways`\n",
    "    :param y_ways: Divide y dimension of sample by `y_ways`\n",
    "    :param bins_per_color: Split each color into this many bins.\n",
    "    :param with_prost: Add prost features\n",
    "    :return: h2xw2x3 where h2=h/y_ways, w2=w/x_ways\n",
    "    \"\"\"\n",
    "    all_features = []\n",
    "    h, w = frame.shape[1: 3]\n",
    "    bin_size = int(np.floor(255. / bins_per_color))\n",
    "    nh, nw = int(np.ceil(h / y_ways)), int(np.ceil(w / x_ways))\n",
    "\n",
    "    all_blobs = []\n",
    "    for channel in range(frame.shape[2]):  # each channel for samples\n",
    "      state = frame[:, :, channel]\n",
    "      for bin_idx in range(bins_per_color):  # split each channel into multiple bins, evenly\n",
    "        start, end = bin_idx * bin_size, (bin_idx + 1) * bin_size\n",
    "        binned_state = np.zeros(state.shape)\n",
    "        idxs = np.where(np.logical_and((state >= start), (state < end)))\n",
    "        binned_state[idxs] = state[idxs]\n",
    "\n",
    "        features, blobs = canny_blob(binned_state, x_ways=x_ways, y_ways=y_ways,  with_blobs=True)  # only look at values in this bin\n",
    "        color = np.array([[channel * bins_per_color + bin_idx] * blobs.shape[0]]).T\n",
    "        all_blobs.append(np.hstack((blobs[:, :2], color)))\n",
    "        all_features.append(features)\n",
    "    return hstack(all_features)"
   ]
  },
  {
   "cell_type": "markdown",
   "metadata": {},
   "source": [
    "# Evaluation"
   ]
  },
  {
   "cell_type": "code",
   "execution_count": null,
   "metadata": {
    "collapsed": true
   },
   "outputs": [],
   "source": [
    "def agent_eval(agent, max_steps = float('inf'), game='SpaceInvaders-v0', seed=0, D=5):\n",
    "    env = wrappers.Monitor(gym.make(game), \"/tmp/atari/{0}\".format(seed), force=True)\n",
    "    env.seed(seed)\n",
    "    state = blob(env.reset(), bins_per_color=D, with_prost=False)\n",
    "    total_reward = 0\n",
    "    i = 0\n",
    "    done = False\n",
    "    np.random.seed(seed)\n",
    "    states = [state] * 4\n",
    "    while ((not done) and i < max_steps):\n",
    "        state, reward, done, info = env.step(agent(env, states))\n",
    "        total_reward += reward\n",
    "        i += 1\n",
    "        states.pop(0)\n",
    "        states.append(blob(state, bins_per_color=D, with_prost=False))\n",
    "    return state, sum(env.get_episode_rewards())"
   ]
  },
  {
   "cell_type": "code",
   "execution_count": null,
   "metadata": {
    "collapsed": true
   },
   "outputs": [],
   "source": [
    "conf = wc.default()"
   ]
  },
  {
   "cell_type": "code",
   "execution_count": null,
   "metadata": {
    "collapsed": true
   },
   "outputs": [],
   "source": [
    "conf['runtime']['s3_bucket'] = \"pictureweb\"\n",
    "conf['runtime']['s3_key'] = \"pywren.runtime/pywren_runtime-3.6-rl.tar.gz\"\n",
    "pwex_standalone = pywren.standalone_executor(config=conf, job_max_runtime=600)"
   ]
  },
  {
   "cell_type": "code",
   "execution_count": 116,
   "metadata": {
    "collapsed": true
   },
   "outputs": [],
   "source": [
    "w = np.load('models/w_68_blob.npy')"
   ]
  },
  {
   "cell_type": "code",
   "execution_count": 92,
   "metadata": {
    "collapsed": true
   },
   "outputs": [],
   "source": [
    "def ls_agent(env, states):\n",
    "    state = scipy.sparse.hstack(states)\n",
    "    return np.argmax(state.dot(w))"
   ]
  },
  {
   "cell_type": "code",
   "execution_count": 93,
   "metadata": {
    "collapsed": true
   },
   "outputs": [],
   "source": [
    "def random_agent(env, _):\n",
    "    return np.random.choice(env.action_space.n)"
   ]
  },
  {
   "cell_type": "code",
   "execution_count": 94,
   "metadata": {},
   "outputs": [
    {
     "data": {
      "text/plain": [
       "(array([[[ 0,  0,  0],\n",
       "         [ 0,  0,  0],\n",
       "         [ 0,  0,  0],\n",
       "         ..., \n",
       "         [ 0,  0,  0],\n",
       "         [ 0,  0,  0],\n",
       "         [ 0,  0,  0]],\n",
       " \n",
       "        [[ 0,  0,  0],\n",
       "         [ 0,  0,  0],\n",
       "         [ 0,  0,  0],\n",
       "         ..., \n",
       "         [ 0,  0,  0],\n",
       "         [ 0,  0,  0],\n",
       "         [ 0,  0,  0]],\n",
       " \n",
       "        [[ 0,  0,  0],\n",
       "         [ 0,  0,  0],\n",
       "         [ 0,  0,  0],\n",
       "         ..., \n",
       "         [ 0,  0,  0],\n",
       "         [ 0,  0,  0],\n",
       "         [ 0,  0,  0]],\n",
       " \n",
       "        ..., \n",
       "        [[80, 89, 22],\n",
       "         [80, 89, 22],\n",
       "         [80, 89, 22],\n",
       "         ..., \n",
       "         [80, 89, 22],\n",
       "         [80, 89, 22],\n",
       "         [80, 89, 22]],\n",
       " \n",
       "        [[80, 89, 22],\n",
       "         [80, 89, 22],\n",
       "         [80, 89, 22],\n",
       "         ..., \n",
       "         [80, 89, 22],\n",
       "         [80, 89, 22],\n",
       "         [80, 89, 22]],\n",
       " \n",
       "        [[80, 89, 22],\n",
       "         [80, 89, 22],\n",
       "         [80, 89, 22],\n",
       "         ..., \n",
       "         [80, 89, 22],\n",
       "         [80, 89, 22],\n",
       "         [80, 89, 22]]], dtype=uint8), 215.0)"
      ]
     },
     "execution_count": 94,
     "metadata": {},
     "output_type": "execute_result"
    }
   ],
   "source": [
    "agent_eval(ls_agent)"
   ]
  },
  {
   "cell_type": "code",
   "execution_count": null,
   "metadata": {
    "collapsed": true
   },
   "outputs": [],
   "source": [
    "futures = pwex_standalone.map(lambda x: agent_eval(ls_agent, seed=int(x), D=5), range(200))"
   ]
  },
  {
   "cell_type": "code",
   "execution_count": null,
   "metadata": {},
   "outputs": [],
   "source": [
    "%time pywren.wait(futures)"
   ]
  },
  {
   "cell_type": "code",
   "execution_count": null,
   "metadata": {},
   "outputs": [],
   "source": [
    "rewards_ls = [f.result()[1] for f in futures]"
   ]
  },
  {
   "cell_type": "code",
   "execution_count": null,
   "metadata": {},
   "outputs": [],
   "source": [
    "with open('models/w_68_blob_results.txt', 'w') as f:\n",
    "    for reward in rewards_ls:\n",
    "        f.write('%d\\n' % int(reward))"
   ]
  },
  {
   "cell_type": "code",
   "execution_count": null,
   "metadata": {},
   "outputs": [],
   "source": [
    "plt.title('36k Blob Features, Trained with 68 Episodes')\n",
    "plt.hist(rewards_ls, bins=100)"
   ]
  },
  {
   "cell_type": "code",
   "execution_count": 103,
   "metadata": {},
   "outputs": [
    {
     "name": "stdout",
     "output_type": "stream",
     "text": [
      "200.075\n",
      "130.321216135\n"
     ]
    }
   ],
   "source": [
    "print(np.mean(rewards_ls))\n",
    "print(np.std(rewards_ls))"
   ]
  },
  {
   "cell_type": "code",
   "execution_count": 108,
   "metadata": {},
   "outputs": [
    {
     "ename": "AttributeError",
     "evalue": "type object 'matrix' has no attribute 'BigMatrix'",
     "output_type": "error",
     "traceback": [
      "\u001b[0;31m---------------------------------------------------------------------------\u001b[0m",
      "\u001b[0;31mAttributeError\u001b[0m                            Traceback (most recent call last)",
      "\u001b[0;32m<ipython-input-108-dcc08badc3a5>\u001b[0m in \u001b[0;36m<module>\u001b[0;34m()\u001b[0m\n\u001b[0;32m----> 1\u001b[0;31m \u001b[0mX_train_bigm\u001b[0m \u001b[0;34m=\u001b[0m \u001b[0mmatrix\u001b[0m\u001b[0;34m.\u001b[0m\u001b[0mBigMatrix\u001b[0m\u001b[0;34m(\u001b[0m\u001b[0;34m\"space_invader_states_train\"\u001b[0m\u001b[0;34m,\u001b[0m \u001b[0mshape\u001b[0m\u001b[0;34m=\u001b[0m\u001b[0;34m[\u001b[0m\u001b[0;36m100\u001b[0m\u001b[0;34m*\u001b[0m\u001b[0;36m1024\u001b[0m\u001b[0;34m,\u001b[0m \u001b[0;36m210\u001b[0m\u001b[0;34m,\u001b[0m \u001b[0;36m160\u001b[0m\u001b[0;34m,\u001b[0m \u001b[0;36m3\u001b[0m\u001b[0;34m]\u001b[0m\u001b[0;34m,\u001b[0m \u001b[0mshard_sizes\u001b[0m\u001b[0;34m=\u001b[0m\u001b[0;34m[\u001b[0m\u001b[0;36m1024\u001b[0m\u001b[0;34m,\u001b[0m \u001b[0;36m210\u001b[0m\u001b[0;34m,\u001b[0m \u001b[0;36m160\u001b[0m\u001b[0;34m,\u001b[0m \u001b[0;36m3\u001b[0m\u001b[0;34m]\u001b[0m\u001b[0;34m,\u001b[0m \u001b[0mdtype\u001b[0m\u001b[0;34m=\u001b[0m\u001b[0;34m\"uint8\"\u001b[0m\u001b[0;34m,\u001b[0m \u001b[0mbucket\u001b[0m\u001b[0;34m=\u001b[0m\u001b[0;34m\"vaishaalpywren\"\u001b[0m\u001b[0;34m)\u001b[0m\u001b[0;34m\u001b[0m\u001b[0m\n\u001b[0m\u001b[1;32m      2\u001b[0m \u001b[0my_train_bigm\u001b[0m \u001b[0;34m=\u001b[0m \u001b[0mmatrix\u001b[0m\u001b[0;34m.\u001b[0m\u001b[0mBigMatrix\u001b[0m\u001b[0;34m(\u001b[0m\u001b[0;34m\"space_invader_actions_rewards_train\"\u001b[0m\u001b[0;34m,\u001b[0m \u001b[0mshape\u001b[0m\u001b[0;34m=\u001b[0m\u001b[0;34m[\u001b[0m\u001b[0;36m100\u001b[0m\u001b[0;34m*\u001b[0m\u001b[0;36m1024\u001b[0m\u001b[0;34m,\u001b[0m \u001b[0;36m2\u001b[0m\u001b[0;34m]\u001b[0m\u001b[0;34m,\u001b[0m  \u001b[0mshard_sizes\u001b[0m\u001b[0;34m=\u001b[0m\u001b[0;34m[\u001b[0m\u001b[0;36m1024\u001b[0m\u001b[0;34m,\u001b[0m \u001b[0;36m2\u001b[0m\u001b[0;34m]\u001b[0m\u001b[0;34m,\u001b[0m \u001b[0mdtype\u001b[0m\u001b[0;34m=\u001b[0m\u001b[0;34m\"uint8\"\u001b[0m\u001b[0;34m,\u001b[0m \u001b[0mbucket\u001b[0m\u001b[0;34m=\u001b[0m\u001b[0;34m\"vaishaalpywren\"\u001b[0m\u001b[0;34m)\u001b[0m\u001b[0;34m\u001b[0m\u001b[0m\n",
      "\u001b[0;31mAttributeError\u001b[0m: type object 'matrix' has no attribute 'BigMatrix'"
     ]
    }
   ],
   "source": [
    "X_train_bigm = matrix.BigMatrix(\"space_invader_states_train\", shape=[100*1024, 210, 160, 3], shard_sizes=[1024, 210, 160, 3], dtype=\"uint8\", bucket=\"vaishaalpywren\")\n",
    "y_train_bigm = matrix.BigMatrix(\"space_invader_actions_rewards_train\", shape=[100*1024, 2],  shard_sizes=[1024, 2], dtype=\"uint8\", bucket=\"vaishaalpywren\")"
   ]
  },
  {
   "cell_type": "code",
   "execution_count": null,
   "metadata": {},
   "outputs": [],
   "source": [
    "X_train_bigm.get_block(0,0,0,0)"
   ]
  },
  {
   "cell_type": "code",
   "execution_count": 104,
   "metadata": {
    "collapsed": true
   },
   "outputs": [],
   "source": [
    "import time\n",
    "def blob_batch(X_train_bigm, y_train_bigm, block_idx, *blob_args, **blob_kwargs):\n",
    "    states = X_train_bigm.get_block(block_idx,0,0,0)\n",
    "    labels = y_train_bigm.get_block(block_idx,0,0,0)\n",
    "    print(\"Downloaded now featurizing\")\n",
    "    all_features = []\n",
    "    for i in range(states.shape[0][::10][:1000]):\n",
    "        s = time.time()\n",
    "        all_features.append(blob(states[i], *blob_args, **blob_kwargs))\n",
    "        e = time.time()\n",
    "    X = vstack(all_features)\n",
    "    Y_oh = np.eye(6)[labels.ravel()]\n",
    "    XTX = X.T.dot(X)\n",
    "    XTY = X.T.dot(Y_oh)\n",
    "    return XTX, XTY\n",
    "\n",
    "def blob_batch_with_kernel (X_train_bigm, block_idx, kernel, *blob_args, **blob_kwargs):\n",
    "    states = X_train_bigm.get_block(block_idx,0,0,0)\n",
    "    print(\"Downloaded now featurizing\")\n",
    "    all_features = []\n",
    "    for i in range(states.shape[0]):\n",
    "        s = time.time()\n",
    "        all_features.append(blobprost.blob(states[i], *blob_args, **blob_kwargs))\n",
    "        e = time.time()\n",
    "    return kernel.transform(np.vstack(all_features))"
   ]
  },
  {
   "cell_type": "code",
   "execution_count": 105,
   "metadata": {},
   "outputs": [],
   "source": [
    "futures = pwex_standalone.map(lambda x: blob_batch(X_train_bigm, y_train_bigm, x), range(200))"
   ]
  },
  {
   "cell_type": "code",
   "execution_count": 106,
   "metadata": {},
   "outputs": [
    {
     "name": "stdout",
     "output_type": "stream",
     "text": [
      "CPU times: user 3.22 s, sys: 254 ms, total: 3.48 s\n",
      "Wall time: 13.1 s\n"
     ]
    },
    {
     "data": {
      "text/plain": [
       "([<pywren.future.ResponseFuture at 0x11126f438>,\n",
       "  <pywren.future.ResponseFuture at 0x111247470>,\n",
       "  <pywren.future.ResponseFuture at 0x11126f588>,\n",
       "  <pywren.future.ResponseFuture at 0x1025433c8>,\n",
       "  <pywren.future.ResponseFuture at 0x1112470f0>,\n",
       "  <pywren.future.ResponseFuture at 0x113ea06a0>,\n",
       "  <pywren.future.ResponseFuture at 0x11426aba8>,\n",
       "  <pywren.future.ResponseFuture at 0x1141f4128>,\n",
       "  <pywren.future.ResponseFuture at 0x113ea0518>,\n",
       "  <pywren.future.ResponseFuture at 0x111246390>,\n",
       "  <pywren.future.ResponseFuture at 0x112efea90>,\n",
       "  <pywren.future.ResponseFuture at 0x1120e3828>,\n",
       "  <pywren.future.ResponseFuture at 0x1141eaef0>,\n",
       "  <pywren.future.ResponseFuture at 0x113ea0ba8>,\n",
       "  <pywren.future.ResponseFuture at 0x1120e97b8>,\n",
       "  <pywren.future.ResponseFuture at 0x112f1b5f8>,\n",
       "  <pywren.future.ResponseFuture at 0x113ea0e80>,\n",
       "  <pywren.future.ResponseFuture at 0x111247e80>,\n",
       "  <pywren.future.ResponseFuture at 0x1141f48d0>,\n",
       "  <pywren.future.ResponseFuture at 0x113ea0048>,\n",
       "  <pywren.future.ResponseFuture at 0x111cc6048>,\n",
       "  <pywren.future.ResponseFuture at 0x1120e9710>,\n",
       "  <pywren.future.ResponseFuture at 0x113ea6ef0>,\n",
       "  <pywren.future.ResponseFuture at 0x111ccc7b8>,\n",
       "  <pywren.future.ResponseFuture at 0x113ea6588>,\n",
       "  <pywren.future.ResponseFuture at 0x11127a438>,\n",
       "  <pywren.future.ResponseFuture at 0x1120f60b8>,\n",
       "  <pywren.future.ResponseFuture at 0x112efe048>,\n",
       "  <pywren.future.ResponseFuture at 0x11127afd0>,\n",
       "  <pywren.future.ResponseFuture at 0x11126f048>,\n",
       "  <pywren.future.ResponseFuture at 0x113ea0d68>,\n",
       "  <pywren.future.ResponseFuture at 0x111275f60>,\n",
       "  <pywren.future.ResponseFuture at 0x1120e9d30>,\n",
       "  <pywren.future.ResponseFuture at 0x111275f28>,\n",
       "  <pywren.future.ResponseFuture at 0x1141f4f98>,\n",
       "  <pywren.future.ResponseFuture at 0x1125a9438>,\n",
       "  <pywren.future.ResponseFuture at 0x111ca9ef0>,\n",
       "  <pywren.future.ResponseFuture at 0x11126fd68>,\n",
       "  <pywren.future.ResponseFuture at 0x1141eae48>,\n",
       "  <pywren.future.ResponseFuture at 0x1141e77b8>,\n",
       "  <pywren.future.ResponseFuture at 0x112f1bdd8>,\n",
       "  <pywren.future.ResponseFuture at 0x112f1be80>,\n",
       "  <pywren.future.ResponseFuture at 0x1141ea358>,\n",
       "  <pywren.future.ResponseFuture at 0x1141ea2b0>,\n",
       "  <pywren.future.ResponseFuture at 0x113ea0f28>,\n",
       "  <pywren.future.ResponseFuture at 0x1141e7240>,\n",
       "  <pywren.future.ResponseFuture at 0x111ca36a0>,\n",
       "  <pywren.future.ResponseFuture at 0x1112469e8>,\n",
       "  <pywren.future.ResponseFuture at 0x112efe908>,\n",
       "  <pywren.future.ResponseFuture at 0x1129f7a58>,\n",
       "  <pywren.future.ResponseFuture at 0x112f1b4a8>,\n",
       "  <pywren.future.ResponseFuture at 0x112f1b748>,\n",
       "  <pywren.future.ResponseFuture at 0x111246b38>,\n",
       "  <pywren.future.ResponseFuture at 0x112f1b4e0>,\n",
       "  <pywren.future.ResponseFuture at 0x112f1b9e8>,\n",
       "  <pywren.future.ResponseFuture at 0x1120e3f28>,\n",
       "  <pywren.future.ResponseFuture at 0x11126f320>,\n",
       "  <pywren.future.ResponseFuture at 0x1120f6438>,\n",
       "  <pywren.future.ResponseFuture at 0x111365080>,\n",
       "  <pywren.future.ResponseFuture at 0x112efe9b0>,\n",
       "  <pywren.future.ResponseFuture at 0x11126f0b8>,\n",
       "  <pywren.future.ResponseFuture at 0x1112477b8>,\n",
       "  <pywren.future.ResponseFuture at 0x1141f4d30>,\n",
       "  <pywren.future.ResponseFuture at 0x111247dd8>,\n",
       "  <pywren.future.ResponseFuture at 0x1141e74e0>,\n",
       "  <pywren.future.ResponseFuture at 0x1120e32e8>,\n",
       "  <pywren.future.ResponseFuture at 0x111246780>,\n",
       "  <pywren.future.ResponseFuture at 0x11126f828>,\n",
       "  <pywren.future.ResponseFuture at 0x1112474e0>,\n",
       "  <pywren.future.ResponseFuture at 0x111275b00>,\n",
       "  <pywren.future.ResponseFuture at 0x112f012b0>,\n",
       "  <pywren.future.ResponseFuture at 0x1112759b0>,\n",
       "  <pywren.future.ResponseFuture at 0x1112474a8>,\n",
       "  <pywren.future.ResponseFuture at 0x111275438>,\n",
       "  <pywren.future.ResponseFuture at 0x113ea0f60>,\n",
       "  <pywren.future.ResponseFuture at 0x11124c978>,\n",
       "  <pywren.future.ResponseFuture at 0x111cd83c8>,\n",
       "  <pywren.future.ResponseFuture at 0x11124cc50>,\n",
       "  <pywren.future.ResponseFuture at 0x1141eaa90>,\n",
       "  <pywren.future.ResponseFuture at 0x11126fc18>,\n",
       "  <pywren.future.ResponseFuture at 0x1118aff60>,\n",
       "  <pywren.future.ResponseFuture at 0x111cdc128>,\n",
       "  <pywren.future.ResponseFuture at 0x11124c080>,\n",
       "  <pywren.future.ResponseFuture at 0x112efe400>,\n",
       "  <pywren.future.ResponseFuture at 0x111247c50>,\n",
       "  <pywren.future.ResponseFuture at 0x1112752b0>,\n",
       "  <pywren.future.ResponseFuture at 0x111247be0>,\n",
       "  <pywren.future.ResponseFuture at 0x11127ae10>,\n",
       "  <pywren.future.ResponseFuture at 0x111cdcb38>,\n",
       "  <pywren.future.ResponseFuture at 0x1112472e8>,\n",
       "  <pywren.future.ResponseFuture at 0x111ca9160>,\n",
       "  <pywren.future.ResponseFuture at 0x111ccc128>,\n",
       "  <pywren.future.ResponseFuture at 0x111cd8208>,\n",
       "  <pywren.future.ResponseFuture at 0x112011630>,\n",
       "  <pywren.future.ResponseFuture at 0x111247da0>,\n",
       "  <pywren.future.ResponseFuture at 0x110c065c0>,\n",
       "  <pywren.future.ResponseFuture at 0x1025439e8>,\n",
       "  <pywren.future.ResponseFuture at 0x111275eb8>,\n",
       "  <pywren.future.ResponseFuture at 0x1141f44a8>,\n",
       "  <pywren.future.ResponseFuture at 0x111cd8f60>,\n",
       "  <pywren.future.ResponseFuture at 0x111247588>,\n",
       "  <pywren.future.ResponseFuture at 0x11127a278>,\n",
       "  <pywren.future.ResponseFuture at 0x1014198d0>,\n",
       "  <pywren.future.ResponseFuture at 0x112f01358>,\n",
       "  <pywren.future.ResponseFuture at 0x11127a080>,\n",
       "  <pywren.future.ResponseFuture at 0x111ccc860>,\n",
       "  <pywren.future.ResponseFuture at 0x1141f4390>,\n",
       "  <pywren.future.ResponseFuture at 0x111cccc18>,\n",
       "  <pywren.future.ResponseFuture at 0x111275160>,\n",
       "  <pywren.future.ResponseFuture at 0x1125a9400>,\n",
       "  <pywren.future.ResponseFuture at 0x111cc6ac8>,\n",
       "  <pywren.future.ResponseFuture at 0x1014146d8>,\n",
       "  <pywren.future.ResponseFuture at 0x1120e9ba8>,\n",
       "  <pywren.future.ResponseFuture at 0x112f01a58>,\n",
       "  <pywren.future.ResponseFuture at 0x112017cf8>,\n",
       "  <pywren.future.ResponseFuture at 0x1139f0c50>,\n",
       "  <pywren.future.ResponseFuture at 0x1125cf6d8>,\n",
       "  <pywren.future.ResponseFuture at 0x1141f4438>,\n",
       "  <pywren.future.ResponseFuture at 0x111cd8f28>,\n",
       "  <pywren.future.ResponseFuture at 0x1120e9e48>,\n",
       "  <pywren.future.ResponseFuture at 0x1141f4908>,\n",
       "  <pywren.future.ResponseFuture at 0x1141f4f28>,\n",
       "  <pywren.future.ResponseFuture at 0x1141e7978>,\n",
       "  <pywren.future.ResponseFuture at 0x11127a160>,\n",
       "  <pywren.future.ResponseFuture at 0x11127a7b8>,\n",
       "  <pywren.future.ResponseFuture at 0x112f1b908>,\n",
       "  <pywren.future.ResponseFuture at 0x1141f4eb8>,\n",
       "  <pywren.future.ResponseFuture at 0x1139cdf28>,\n",
       "  <pywren.future.ResponseFuture at 0x11126fe48>,\n",
       "  <pywren.future.ResponseFuture at 0x1141f4cc0>,\n",
       "  <pywren.future.ResponseFuture at 0x112f01c50>,\n",
       "  <pywren.future.ResponseFuture at 0x1125cfcc0>,\n",
       "  <pywren.future.ResponseFuture at 0x1112465c0>,\n",
       "  <pywren.future.ResponseFuture at 0x1123bca20>,\n",
       "  <pywren.future.ResponseFuture at 0x112f019b0>,\n",
       "  <pywren.future.ResponseFuture at 0x112011d68>,\n",
       "  <pywren.future.ResponseFuture at 0x112df70f0>,\n",
       "  <pywren.future.ResponseFuture at 0x1120e3710>,\n",
       "  <pywren.future.ResponseFuture at 0x112efef28>,\n",
       "  <pywren.future.ResponseFuture at 0x111ca3b70>,\n",
       "  <pywren.future.ResponseFuture at 0x113ea0320>,\n",
       "  <pywren.future.ResponseFuture at 0x1141e7518>,\n",
       "  <pywren.future.ResponseFuture at 0x111924588>,\n",
       "  <pywren.future.ResponseFuture at 0x1120f6a20>,\n",
       "  <pywren.future.ResponseFuture at 0x11126f198>,\n",
       "  <pywren.future.ResponseFuture at 0x1137510f0>,\n",
       "  <pywren.future.ResponseFuture at 0x1141e7d68>,\n",
       "  <pywren.future.ResponseFuture at 0x111e63438>,\n",
       "  <pywren.future.ResponseFuture at 0x111ca31d0>,\n",
       "  <pywren.future.ResponseFuture at 0x113ea6518>,\n",
       "  <pywren.future.ResponseFuture at 0x11124bac8>,\n",
       "  <pywren.future.ResponseFuture at 0x1148ea160>,\n",
       "  <pywren.future.ResponseFuture at 0x1141c16d8>,\n",
       "  <pywren.future.ResponseFuture at 0x1120e92b0>,\n",
       "  <pywren.future.ResponseFuture at 0x1120e35c0>,\n",
       "  <pywren.future.ResponseFuture at 0x111cc67f0>,\n",
       "  <pywren.future.ResponseFuture at 0x11124b6a0>,\n",
       "  <pywren.future.ResponseFuture at 0x113def9e8>,\n",
       "  <pywren.future.ResponseFuture at 0x113799278>,\n",
       "  <pywren.future.ResponseFuture at 0x1120e3ac8>,\n",
       "  <pywren.future.ResponseFuture at 0x114436da0>,\n",
       "  <pywren.future.ResponseFuture at 0x1141e7390>,\n",
       "  <pywren.future.ResponseFuture at 0x111ca3978>,\n",
       "  <pywren.future.ResponseFuture at 0x101419eb8>,\n",
       "  <pywren.future.ResponseFuture at 0x1141c1128>,\n",
       "  <pywren.future.ResponseFuture at 0x110c060f0>,\n",
       "  <pywren.future.ResponseFuture at 0x1141f4a20>,\n",
       "  <pywren.future.ResponseFuture at 0x113e93898>,\n",
       "  <pywren.future.ResponseFuture at 0x1125cb400>,\n",
       "  <pywren.future.ResponseFuture at 0x111cc60b8>,\n",
       "  <pywren.future.ResponseFuture at 0x11426ac18>,\n",
       "  <pywren.future.ResponseFuture at 0x1129f7b70>,\n",
       "  <pywren.future.ResponseFuture at 0x110c92160>,\n",
       "  <pywren.future.ResponseFuture at 0x113ea6da0>,\n",
       "  <pywren.future.ResponseFuture at 0x1141f46a0>,\n",
       "  <pywren.future.ResponseFuture at 0x110c06048>,\n",
       "  <pywren.future.ResponseFuture at 0x1125cf6a0>,\n",
       "  <pywren.future.ResponseFuture at 0x110c06160>,\n",
       "  <pywren.future.ResponseFuture at 0x11378cba8>,\n",
       "  <pywren.future.ResponseFuture at 0x1120f6358>,\n",
       "  <pywren.future.ResponseFuture at 0x1125cb1d0>,\n",
       "  <pywren.future.ResponseFuture at 0x1025434a8>,\n",
       "  <pywren.future.ResponseFuture at 0x11124b438>,\n",
       "  <pywren.future.ResponseFuture at 0x11124b080>,\n",
       "  <pywren.future.ResponseFuture at 0x110c06588>,\n",
       "  <pywren.future.ResponseFuture at 0x1125b75f8>,\n",
       "  <pywren.future.ResponseFuture at 0x112e1b940>,\n",
       "  <pywren.future.ResponseFuture at 0x1120e3978>,\n",
       "  <pywren.future.ResponseFuture at 0x114436860>,\n",
       "  <pywren.future.ResponseFuture at 0x1127e9be0>,\n",
       "  <pywren.future.ResponseFuture at 0x112c5d518>,\n",
       "  <pywren.future.ResponseFuture at 0x1125cfba8>,\n",
       "  <pywren.future.ResponseFuture at 0x112ababa8>,\n",
       "  <pywren.future.ResponseFuture at 0x111ca3358>,\n",
       "  <pywren.future.ResponseFuture at 0x110c062b0>,\n",
       "  <pywren.future.ResponseFuture at 0x110c06748>,\n",
       "  <pywren.future.ResponseFuture at 0x1121bd898>,\n",
       "  <pywren.future.ResponseFuture at 0x1148349b0>,\n",
       "  <pywren.future.ResponseFuture at 0x1141a1cf8>,\n",
       "  <pywren.future.ResponseFuture at 0x111ca3be0>],\n",
       " [])"
      ]
     },
     "execution_count": 106,
     "metadata": {},
     "output_type": "execute_result"
    }
   ],
   "source": [
    "%time pywren.wait(futures)"
   ]
  },
  {
   "cell_type": "code",
   "execution_count": 107,
   "metadata": {},
   "outputs": [
    {
     "ename": "NameError",
     "evalue": "name 'X_train_bigm' is not defined",
     "output_type": "error",
     "traceback": [
      "\u001b[0;31m---------------------------------------------------------------------------\u001b[0m",
      "\u001b[0;31mNameError\u001b[0m                                 Traceback (most recent call last)",
      "\u001b[0;32m<ipython-input-107-80dadcbae0b7>\u001b[0m in \u001b[0;36m<module>\u001b[0;34m()\u001b[0m\n\u001b[0;32m----> 1\u001b[0;31m \u001b[0mmatrices\u001b[0m \u001b[0;34m=\u001b[0m \u001b[0;34m[\u001b[0m\u001b[0mf\u001b[0m\u001b[0;34m.\u001b[0m\u001b[0mresult\u001b[0m\u001b[0;34m(\u001b[0m\u001b[0;34m)\u001b[0m\u001b[0;34m[\u001b[0m\u001b[0;36m1\u001b[0m\u001b[0;34m]\u001b[0m \u001b[0;32mfor\u001b[0m \u001b[0mf\u001b[0m \u001b[0;32min\u001b[0m \u001b[0mfutures\u001b[0m\u001b[0;34m]\u001b[0m\u001b[0;34m\u001b[0m\u001b[0m\n\u001b[0m",
      "\u001b[0;32m<ipython-input-107-80dadcbae0b7>\u001b[0m in \u001b[0;36m<listcomp>\u001b[0;34m(.0)\u001b[0m\n\u001b[0;32m----> 1\u001b[0;31m \u001b[0mmatrices\u001b[0m \u001b[0;34m=\u001b[0m \u001b[0;34m[\u001b[0m\u001b[0mf\u001b[0m\u001b[0;34m.\u001b[0m\u001b[0mresult\u001b[0m\u001b[0;34m(\u001b[0m\u001b[0;34m)\u001b[0m\u001b[0;34m[\u001b[0m\u001b[0;36m1\u001b[0m\u001b[0;34m]\u001b[0m \u001b[0;32mfor\u001b[0m \u001b[0mf\u001b[0m \u001b[0;32min\u001b[0m \u001b[0mfutures\u001b[0m\u001b[0;34m]\u001b[0m\u001b[0;34m\u001b[0m\u001b[0m\n\u001b[0m",
      "\u001b[0;32m/Users/alvinwan/Documents/VCL/pywren/pywren/future.py\u001b[0m in \u001b[0;36mresult\u001b[0;34m(self, timeout, check_only, throw_except, storage_handler)\u001b[0m\n\u001b[1;32m    200\u001b[0m             \u001b[0;32melse\u001b[0m\u001b[0;34m:\u001b[0m\u001b[0;34m\u001b[0m\u001b[0m\n\u001b[1;32m    201\u001b[0m                 \u001b[0;31m# reraise the exception\u001b[0m\u001b[0;34m\u001b[0m\u001b[0;34m\u001b[0m\u001b[0m\n\u001b[0;32m--> 202\u001b[0;31m                 \u001b[0mreraise\u001b[0m\u001b[0;34m(\u001b[0m\u001b[0;34m*\u001b[0m\u001b[0mself\u001b[0m\u001b[0;34m.\u001b[0m\u001b[0m_traceback\u001b[0m\u001b[0;34m)\u001b[0m\u001b[0;34m\u001b[0m\u001b[0m\n\u001b[0m\u001b[1;32m    203\u001b[0m         \u001b[0;32melse\u001b[0m\u001b[0;34m:\u001b[0m\u001b[0;34m\u001b[0m\u001b[0m\n\u001b[1;32m    204\u001b[0m             \u001b[0;32mreturn\u001b[0m \u001b[0;32mNone\u001b[0m  \u001b[0;31m# nothing, don't raise, no value\u001b[0m\u001b[0;34m\u001b[0m\u001b[0m\n",
      "\u001b[0;32m/Users/alvinwan/anaconda/lib/python3.6/site-packages/six.py\u001b[0m in \u001b[0;36mreraise\u001b[0;34m(tp, value, tb)\u001b[0m\n\u001b[1;32m    683\u001b[0m             \u001b[0mvalue\u001b[0m \u001b[0;34m=\u001b[0m \u001b[0mtp\u001b[0m\u001b[0;34m(\u001b[0m\u001b[0;34m)\u001b[0m\u001b[0;34m\u001b[0m\u001b[0m\n\u001b[1;32m    684\u001b[0m         \u001b[0;32mif\u001b[0m \u001b[0mvalue\u001b[0m\u001b[0;34m.\u001b[0m\u001b[0m__traceback__\u001b[0m \u001b[0;32mis\u001b[0m \u001b[0;32mnot\u001b[0m \u001b[0mtb\u001b[0m\u001b[0;34m:\u001b[0m\u001b[0;34m\u001b[0m\u001b[0m\n\u001b[0;32m--> 685\u001b[0;31m             \u001b[0;32mraise\u001b[0m \u001b[0mvalue\u001b[0m\u001b[0;34m.\u001b[0m\u001b[0mwith_traceback\u001b[0m\u001b[0;34m(\u001b[0m\u001b[0mtb\u001b[0m\u001b[0;34m)\u001b[0m\u001b[0;34m\u001b[0m\u001b[0m\n\u001b[0m\u001b[1;32m    686\u001b[0m         \u001b[0;32mraise\u001b[0m \u001b[0mvalue\u001b[0m\u001b[0;34m\u001b[0m\u001b[0m\n\u001b[1;32m    687\u001b[0m \u001b[0;34m\u001b[0m\u001b[0m\n",
      "\u001b[0;32m/tmp/pywren.runner/0/jobrunner.py\u001b[0m in \u001b[0;36m<module>\u001b[0;34m()\u001b[0m\n",
      "\u001b[0;32m<ipython-input-105-890d043790b9>\u001b[0m in \u001b[0;36m<lambda>\u001b[0;34m()\u001b[0m\n\u001b[0;32m----> 1\u001b[0;31m \u001b[0mfutures\u001b[0m \u001b[0;34m=\u001b[0m \u001b[0mpwex_standalone\u001b[0m\u001b[0;34m.\u001b[0m\u001b[0mmap\u001b[0m\u001b[0;34m(\u001b[0m\u001b[0;32mlambda\u001b[0m \u001b[0mx\u001b[0m\u001b[0;34m:\u001b[0m \u001b[0mblob_batch\u001b[0m\u001b[0;34m(\u001b[0m\u001b[0mX_train_bigm\u001b[0m\u001b[0;34m,\u001b[0m \u001b[0my_train_bigm\u001b[0m\u001b[0;34m,\u001b[0m \u001b[0mx\u001b[0m\u001b[0;34m)\u001b[0m\u001b[0;34m,\u001b[0m \u001b[0mrange\u001b[0m\u001b[0;34m(\u001b[0m\u001b[0;36m200\u001b[0m\u001b[0;34m)\u001b[0m\u001b[0;34m)\u001b[0m\u001b[0;34m\u001b[0m\u001b[0m\n\u001b[0m",
      "\u001b[0;31mNameError\u001b[0m: name 'X_train_bigm' is not defined"
     ]
    }
   ],
   "source": [
    "matrices = [f.result()[1] for f in futures]"
   ]
  },
  {
   "cell_type": "code",
   "execution_count": null,
   "metadata": {},
   "outputs": [],
   "source": []
  },
  {
   "cell_type": "code",
   "execution_count": null,
   "metadata": {},
   "outputs": [],
   "source": [
    "kernel_approx.transform()"
   ]
  },
  {
   "cell_type": "code",
   "execution_count": null,
   "metadata": {},
   "outputs": [],
   "source": [
    "reload(blobprost)\n",
    "imshow(state_0[0])\n",
    "plt.figure()\n",
    "X_features = blob_batch(X_train_bigm, 0, bins_per_color=1, with_prost=False)"
   ]
  },
  {
   "cell_type": "code",
   "execution_count": null,
   "metadata": {
    "collapsed": true
   },
   "outputs": [],
   "source": [
    "kernel_approx = RBFSampler(gamma=1e-3, n_components=8192).fit(X_features)"
   ]
  },
  {
   "cell_type": "code",
   "execution_count": null,
   "metadata": {},
   "outputs": [],
   "source": [
    "%time X_features = blob_batch_with_kernel(X_train_bigj, 0, kernel_approx, bins_per_color=1)"
   ]
  },
  {
   "cell_type": "code",
   "execution_count": null,
   "metadata": {},
   "outputs": [],
   "source": [
    "kernel_approx"
   ]
  },
  {
   "cell_type": "code",
   "execution_count": null,
   "metadata": {},
   "outputs": [],
   "source": [
    "futures = pwex_standalone.map(lambda x: blob_batch(X_train_bigm, x, bins_per_color=1), X_train_bigm._block_idxs(0))\n",
    "%time pywren.wait(futures)\n",
    "featurized = scipy.sparse.vstack([f.result() for f in futures])"
   ]
  },
  {
   "cell_type": "code",
   "execution_count": null,
   "metadata": {
    "collapsed": true
   },
   "outputs": [],
   "source": [
    "y_train = y_train_bigm.numpy()"
   ]
  },
  {
   "cell_type": "code",
   "execution_count": null,
   "metadata": {},
   "outputs": [],
   "source": [
    "%time y_train_enc = np.eye(np.max(y_train[:, 0])+1)[y_train[:, 0]]"
   ]
  },
  {
   "cell_type": "code",
   "execution_count": null,
   "metadata": {},
   "outputs": [],
   "source": [
    "clf_agent = SGDClassifier(verbose=3, n_iter=400, n_jobs=10)\n",
    "clf_agent.fit(featurized, y_train[:, 0])"
   ]
  },
  {
   "cell_type": "code",
   "execution_count": null,
   "metadata": {},
   "outputs": [],
   "source": [
    "metrics.accuracy_score(clf_agent.predict(featurized), y_train[:, 0])"
   ]
  },
  {
   "cell_type": "code",
   "execution_count": null,
   "metadata": {
    "collapsed": true
   },
   "outputs": [],
   "source": [
    "def _blob_agent(env, state, *blob_args, **blob_kwargs):\n",
    "    return clf_agent.predict(blobprost.blob(state, *blob_args, **blob_kwargs))"
   ]
  },
  {
   "cell_type": "code",
   "execution_count": null,
   "metadata": {
    "collapsed": true
   },
   "outputs": [],
   "source": [
    "blob_agent = lambda x,y: _blob_agent(x, y, bins_per_color=1)"
   ]
  },
  {
   "cell_type": "code",
   "execution_count": null,
   "metadata": {},
   "outputs": [],
   "source": [
    "futures = pwex_standalone.map(lambda x: agent_eval(blob_agent, seed=int(x)), range(150))"
   ]
  },
  {
   "cell_type": "code",
   "execution_count": null,
   "metadata": {
    "collapsed": true
   },
   "outputs": [],
   "source": [
    "rewards_clf = [f.result()[1] for f in futures]"
   ]
  }
 ],
 "metadata": {
  "kernelspec": {
   "display_name": "Python 3",
   "language": "python",
   "name": "python3"
  },
  "language_info": {
   "codemirror_mode": {
    "name": "ipython",
    "version": 3
   },
   "file_extension": ".py",
   "mimetype": "text/x-python",
   "name": "python",
   "nbconvert_exporter": "python",
   "pygments_lexer": "ipython3",
   "version": "3.6.1"
  }
 },
 "nbformat": 4,
 "nbformat_minor": 2
}
